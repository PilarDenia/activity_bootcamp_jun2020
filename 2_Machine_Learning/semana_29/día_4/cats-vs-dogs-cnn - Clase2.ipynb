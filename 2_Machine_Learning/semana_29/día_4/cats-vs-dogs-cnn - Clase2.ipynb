{
 "cells": [
  {
   "cell_type": "markdown",
   "metadata": {
    "_uuid": "52ba7940f430ddbcfe5c608e3fac6d969f89b836"
   },
   "source": [
    "Hello all!\n",
    "\n",
    "Let's start with a bit of introduction Convolutional neural networks are primarily used to classify images or identify pattern similarities between them. So a convolutional network receives a normal color image as a rectangular box whose width and height are measured by the number of pixels along those dimensions, and whose depth is three layers deep, one for each letter in RGB. Those depth layers are referred to as **channels**. For simplification needs we will only consider gray scale image here.\n",
    "\n",
    "As images move through a convolutional network, different patterns are recognised just like a normal neural network. But here rather than focussing on one pixel at a time, a convolutional net takes in square patches of pixels and passes them through a **filter**. That filter is also a square matrix smaller than the image itself, and equal in size to the patch. It is also called a **kernel**.\n",
    "\n",
    "\n",
    "\n",
    "Well that's it with the theory let's get started with the practical.\n",
    "\n",
    "\n"
   ]
  },
  {
   "cell_type": "markdown",
   "metadata": {
    "_uuid": "be4e519695677a33858690096ddc849c25130a47"
   },
   "source": [
    "\n",
    "**Import Libraries**\n",
    "\n",
    "There are basically 4 type of libraries which you have to import\n",
    "\n",
    "1. Pandas :- For reading / writing data\n",
    "2. Matplotlib to display images\n",
    "3. Tensorflow Keras models :- Need a model to predict right !! \n",
    "4. Tensorflow Keras layers :- Every NN needs layers and CNN needs well a couple of layers.\n",
    "\n",
    "Layers needed by CNN\n",
    "1. Conv2D :- Basic Convolutional layer . Here we will be using a 64 neuron layer\n",
    "2. Dense :- Dense layer is needed by every neural network to finally output the result however every once in while using a Dense layer helps in making model learn.\n",
    "3. MaxPooling :- CNN has a concept of max pooling. After every convoulution we get some values in a kernel. However in max pooling we select max kernel value.\n",
    "4. Flatten:- Conv2D layer returns doesn't return a flatten data hence we need Flatten layer before feeding it into final Dense layer\n"
   ]
  },
  {
   "cell_type": "code",
   "execution_count": 33,
   "metadata": {
    "_cell_guid": "b1076dfc-b9ad-4769-8c92-a6c4dae69d19",
    "_uuid": "8f2839f25d086af736a60e9eeb907d3b93b6e0e5"
   },
   "outputs": [],
   "source": [
    "# This Python 3 environment comes with many helpful analytics libraries installed\n",
    "# It is defined by the kaggle/python docker image: https://github.com/kaggle/docker-python\n",
    "# For example, here's several helpful packages to load in \n",
    "import numpy as np \n",
    "import pandas as pd \n",
    "import cv2\n",
    "import os\n",
    "import zipfile\n",
    "\n",
    "import matplotlib.pyplot as plt \n",
    "import seaborn as sns \n",
    "\n",
    "import tensorflow as tf \n",
    "from tensorflow.keras.models import Sequential\n",
    "from tensorflow.keras.layers import Dense, Dropout, Flatten, Conv2D, MaxPool2D\n",
    "\n",
    "\n",
    "\n",
    "# Input data files are available in the \"../input/\" directory.\n",
    "# For example, running this (by clicking run or pressing Shift+Enter) will list the files in the input directory\n",
    "path= \"../../../../DataSets/dogs_cats/\"\n",
    "folder_train = \"train/\"\n",
    "folder_test = \"test1/\"\n",
    "\n",
    "\n",
    "\n",
    "\n",
    "\n",
    "# Any results you write to the current directory are saved as output.\n",
    "\n"
   ]
  },
  {
   "cell_type": "code",
   "execution_count": 34,
   "metadata": {},
   "outputs": [
    {
     "output_type": "execute_result",
     "data": {
      "text/plain": [
       "\"\\n#Estas lineas de codigo te descomprime/read los archivos y te los incluye en la ruta que le indicas\\n\\nwith zipfile.ZipFile(path+folder_train, 'r') as z:\\n    z.extractall(path)\\n\\nwith zipfile.ZipFile(path+folder_test, 'r') as z:\\n    z.extractall(path)\\n\\n\""
      ]
     },
     "metadata": {},
     "execution_count": 34
    }
   ],
   "source": [
    "\"\"\"\n",
    "#Estas lineas de codigo te descomprime/read los archivos y te los incluye en la ruta que le indicas\n",
    "\n",
    "with zipfile.ZipFile(path+folder_train, 'r') as z:\n",
    "    z.extractall(path)\n",
    "\n",
    "with zipfile.ZipFile(path+folder_test, 'r') as z:\n",
    "    z.extractall(path)\n",
    "\n",
    "\"\"\""
   ]
  },
  {
   "cell_type": "code",
   "execution_count": 35,
   "metadata": {},
   "outputs": [
    {
     "output_type": "execute_result",
     "data": {
      "text/plain": [
       "['dog.9997.jpg', 'dog.9998.jpg', 'dog.9999.jpg']"
      ]
     },
     "metadata": {},
     "execution_count": 35
    }
   ],
   "source": [
    "os.listdir(path+folder_train)[-3:]"
   ]
  },
  {
   "cell_type": "code",
   "execution_count": 36,
   "metadata": {},
   "outputs": [
    {
     "output_type": "execute_result",
     "data": {
      "text/plain": [
       "['1.jpg', '10.jpg', '100.jpg']"
      ]
     },
     "metadata": {},
     "execution_count": 36
    }
   ],
   "source": [
    "os.listdir(path+folder_test)[:3]"
   ]
  },
  {
   "cell_type": "code",
   "execution_count": 37,
   "metadata": {},
   "outputs": [
    {
     "output_type": "display_data",
     "data": {
      "text/plain": "<Figure size 432x288 with 1 Axes>",
      "image/svg+xml": "<?xml version=\"1.0\" encoding=\"utf-8\" standalone=\"no\"?>\r\n<!DOCTYPE svg PUBLIC \"-//W3C//DTD SVG 1.1//EN\"\r\n  \"http://www.w3.org/Graphics/SVG/1.1/DTD/svg11.dtd\">\r\n<!-- Created with matplotlib (https://matplotlib.org/) -->\r\n<svg height=\"250.958344pt\" version=\"1.1\" viewBox=\"0 0 251.565 250.958344\" width=\"251.565pt\" xmlns=\"http://www.w3.org/2000/svg\" xmlns:xlink=\"http://www.w3.org/1999/xlink\">\r\n <metadata>\r\n  <rdf:RDF xmlns:cc=\"http://creativecommons.org/ns#\" xmlns:dc=\"http://purl.org/dc/elements/1.1/\" xmlns:rdf=\"http://www.w3.org/1999/02/22-rdf-syntax-ns#\">\r\n   <cc:Work>\r\n    <dc:type rdf:resource=\"http://purl.org/dc/dcmitype/StillImage\"/>\r\n    <dc:date>2021-02-18T19:10:14.352933</dc:date>\r\n    <dc:format>image/svg+xml</dc:format>\r\n    <dc:creator>\r\n     <cc:Agent>\r\n      <dc:title>Matplotlib v3.3.2, https://matplotlib.org/</dc:title>\r\n     </cc:Agent>\r\n    </dc:creator>\r\n   </cc:Work>\r\n  </rdf:RDF>\r\n </metadata>\r\n <defs>\r\n  <style type=\"text/css\">*{stroke-linecap:butt;stroke-linejoin:round;}</style>\r\n </defs>\r\n <g id=\"figure_1\">\r\n  <g id=\"patch_1\">\r\n   <path d=\"M 0 250.958344 \r\nL 251.565 250.958344 \r\nL 251.565 0 \r\nL 0 0 \r\nz\r\n\" style=\"fill:none;\"/>\r\n  </g>\r\n  <g id=\"axes_1\">\r\n   <g id=\"patch_2\">\r\n    <path d=\"M 26.925 227.080219 \r\nL 244.365 227.080219 \r\nL 244.365 9.640219 \r\nL 26.925 9.640219 \r\nz\r\n\" style=\"fill:#ffffff;\"/>\r\n   </g>\r\n   <g clip-path=\"url(#p9083ce8fbe)\">\r\n    <image height=\"218\" id=\"image60d4c6d4a6\" transform=\"scale(1 -1)translate(0 -218)\" width=\"218\" x=\"26.925\" xlink:href=\"data:image/png;base64,\r\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\" y=\"-9.080219\"/>\r\n   </g>\r\n   <g id=\"matplotlib.axis_1\">\r\n    <g id=\"xtick_1\">\r\n     <g id=\"line2d_1\">\r\n      <defs>\r\n       <path d=\"M 0 0 \r\nL 0 3.5 \r\n\" id=\"md80b56d92b\" style=\"stroke:#000000;stroke-width:0.8;\"/>\r\n      </defs>\r\n      <g>\r\n       <use style=\"stroke:#000000;stroke-width:0.8;\" x=\"28.284\" xlink:href=\"#md80b56d92b\" y=\"227.080219\"/>\r\n      </g>\r\n     </g>\r\n     <g id=\"text_1\">\r\n      <!-- 0 -->\r\n      <g transform=\"translate(25.10275 241.678656)scale(0.1 -0.1)\">\r\n       <defs>\r\n        <path d=\"M 31.78125 66.40625 \r\nQ 24.171875 66.40625 20.328125 58.90625 \r\nQ 16.5 51.421875 16.5 36.375 \r\nQ 16.5 21.390625 20.328125 13.890625 \r\nQ 24.171875 6.390625 31.78125 6.390625 \r\nQ 39.453125 6.390625 43.28125 13.890625 \r\nQ 47.125 21.390625 47.125 36.375 \r\nQ 47.125 51.421875 43.28125 58.90625 \r\nQ 39.453125 66.40625 31.78125 66.40625 \r\nz\r\nM 31.78125 74.21875 \r\nQ 44.046875 74.21875 50.515625 64.515625 \r\nQ 56.984375 54.828125 56.984375 36.375 \r\nQ 56.984375 17.96875 50.515625 8.265625 \r\nQ 44.046875 -1.421875 31.78125 -1.421875 \r\nQ 19.53125 -1.421875 13.0625 8.265625 \r\nQ 6.59375 17.96875 6.59375 36.375 \r\nQ 6.59375 54.828125 13.0625 64.515625 \r\nQ 19.53125 74.21875 31.78125 74.21875 \r\nz\r\n\" id=\"DejaVuSans-48\"/>\r\n       </defs>\r\n       <use xlink:href=\"#DejaVuSans-48\"/>\r\n      </g>\r\n     </g>\r\n    </g>\r\n    <g id=\"xtick_2\">\r\n     <g id=\"line2d_2\">\r\n      <g>\r\n       <use style=\"stroke:#000000;stroke-width:0.8;\" x=\"82.644\" xlink:href=\"#md80b56d92b\" y=\"227.080219\"/>\r\n      </g>\r\n     </g>\r\n     <g id=\"text_2\">\r\n      <!-- 20 -->\r\n      <g transform=\"translate(76.2815 241.678656)scale(0.1 -0.1)\">\r\n       <defs>\r\n        <path d=\"M 19.1875 8.296875 \r\nL 53.609375 8.296875 \r\nL 53.609375 0 \r\nL 7.328125 0 \r\nL 7.328125 8.296875 \r\nQ 12.9375 14.109375 22.625 23.890625 \r\nQ 32.328125 33.6875 34.8125 36.53125 \r\nQ 39.546875 41.84375 41.421875 45.53125 \r\nQ 43.3125 49.21875 43.3125 52.78125 \r\nQ 43.3125 58.59375 39.234375 62.25 \r\nQ 35.15625 65.921875 28.609375 65.921875 \r\nQ 23.96875 65.921875 18.8125 64.3125 \r\nQ 13.671875 62.703125 7.8125 59.421875 \r\nL 7.8125 69.390625 \r\nQ 13.765625 71.78125 18.9375 73 \r\nQ 24.125 74.21875 28.421875 74.21875 \r\nQ 39.75 74.21875 46.484375 68.546875 \r\nQ 53.21875 62.890625 53.21875 53.421875 \r\nQ 53.21875 48.921875 51.53125 44.890625 \r\nQ 49.859375 40.875 45.40625 35.40625 \r\nQ 44.1875 33.984375 37.640625 27.21875 \r\nQ 31.109375 20.453125 19.1875 8.296875 \r\nz\r\n\" id=\"DejaVuSans-50\"/>\r\n       </defs>\r\n       <use xlink:href=\"#DejaVuSans-50\"/>\r\n       <use x=\"63.623047\" xlink:href=\"#DejaVuSans-48\"/>\r\n      </g>\r\n     </g>\r\n    </g>\r\n    <g id=\"xtick_3\">\r\n     <g id=\"line2d_3\">\r\n      <g>\r\n       <use style=\"stroke:#000000;stroke-width:0.8;\" x=\"137.004\" xlink:href=\"#md80b56d92b\" y=\"227.080219\"/>\r\n      </g>\r\n     </g>\r\n     <g id=\"text_3\">\r\n      <!-- 40 -->\r\n      <g transform=\"translate(130.6415 241.678656)scale(0.1 -0.1)\">\r\n       <defs>\r\n        <path d=\"M 37.796875 64.3125 \r\nL 12.890625 25.390625 \r\nL 37.796875 25.390625 \r\nz\r\nM 35.203125 72.90625 \r\nL 47.609375 72.90625 \r\nL 47.609375 25.390625 \r\nL 58.015625 25.390625 \r\nL 58.015625 17.1875 \r\nL 47.609375 17.1875 \r\nL 47.609375 0 \r\nL 37.796875 0 \r\nL 37.796875 17.1875 \r\nL 4.890625 17.1875 \r\nL 4.890625 26.703125 \r\nz\r\n\" id=\"DejaVuSans-52\"/>\r\n       </defs>\r\n       <use xlink:href=\"#DejaVuSans-52\"/>\r\n       <use x=\"63.623047\" xlink:href=\"#DejaVuSans-48\"/>\r\n      </g>\r\n     </g>\r\n    </g>\r\n    <g id=\"xtick_4\">\r\n     <g id=\"line2d_4\">\r\n      <g>\r\n       <use style=\"stroke:#000000;stroke-width:0.8;\" x=\"191.364\" xlink:href=\"#md80b56d92b\" y=\"227.080219\"/>\r\n      </g>\r\n     </g>\r\n     <g id=\"text_4\">\r\n      <!-- 60 -->\r\n      <g transform=\"translate(185.0015 241.678656)scale(0.1 -0.1)\">\r\n       <defs>\r\n        <path d=\"M 33.015625 40.375 \r\nQ 26.375 40.375 22.484375 35.828125 \r\nQ 18.609375 31.296875 18.609375 23.390625 \r\nQ 18.609375 15.53125 22.484375 10.953125 \r\nQ 26.375 6.390625 33.015625 6.390625 \r\nQ 39.65625 6.390625 43.53125 10.953125 \r\nQ 47.40625 15.53125 47.40625 23.390625 \r\nQ 47.40625 31.296875 43.53125 35.828125 \r\nQ 39.65625 40.375 33.015625 40.375 \r\nz\r\nM 52.59375 71.296875 \r\nL 52.59375 62.3125 \r\nQ 48.875 64.0625 45.09375 64.984375 \r\nQ 41.3125 65.921875 37.59375 65.921875 \r\nQ 27.828125 65.921875 22.671875 59.328125 \r\nQ 17.53125 52.734375 16.796875 39.40625 \r\nQ 19.671875 43.65625 24.015625 45.921875 \r\nQ 28.375 48.1875 33.59375 48.1875 \r\nQ 44.578125 48.1875 50.953125 41.515625 \r\nQ 57.328125 34.859375 57.328125 23.390625 \r\nQ 57.328125 12.15625 50.6875 5.359375 \r\nQ 44.046875 -1.421875 33.015625 -1.421875 \r\nQ 20.359375 -1.421875 13.671875 8.265625 \r\nQ 6.984375 17.96875 6.984375 36.375 \r\nQ 6.984375 53.65625 15.1875 63.9375 \r\nQ 23.390625 74.21875 37.203125 74.21875 \r\nQ 40.921875 74.21875 44.703125 73.484375 \r\nQ 48.484375 72.75 52.59375 71.296875 \r\nz\r\n\" id=\"DejaVuSans-54\"/>\r\n       </defs>\r\n       <use xlink:href=\"#DejaVuSans-54\"/>\r\n       <use x=\"63.623047\" xlink:href=\"#DejaVuSans-48\"/>\r\n      </g>\r\n     </g>\r\n    </g>\r\n   </g>\r\n   <g id=\"matplotlib.axis_2\">\r\n    <g id=\"ytick_1\">\r\n     <g id=\"line2d_5\">\r\n      <defs>\r\n       <path d=\"M 0 0 \r\nL -3.5 0 \r\n\" id=\"m670a7aea8f\" style=\"stroke:#000000;stroke-width:0.8;\"/>\r\n      </defs>\r\n      <g>\r\n       <use style=\"stroke:#000000;stroke-width:0.8;\" x=\"26.925\" xlink:href=\"#m670a7aea8f\" y=\"10.999219\"/>\r\n      </g>\r\n     </g>\r\n     <g id=\"text_5\">\r\n      <!-- 0 -->\r\n      <g transform=\"translate(13.5625 14.798437)scale(0.1 -0.1)\">\r\n       <use xlink:href=\"#DejaVuSans-48\"/>\r\n      </g>\r\n     </g>\r\n    </g>\r\n    <g id=\"ytick_2\">\r\n     <g id=\"line2d_6\">\r\n      <g>\r\n       <use style=\"stroke:#000000;stroke-width:0.8;\" x=\"26.925\" xlink:href=\"#m670a7aea8f\" y=\"38.179219\"/>\r\n      </g>\r\n     </g>\r\n     <g id=\"text_6\">\r\n      <!-- 10 -->\r\n      <g transform=\"translate(7.2 41.978437)scale(0.1 -0.1)\">\r\n       <defs>\r\n        <path d=\"M 12.40625 8.296875 \r\nL 28.515625 8.296875 \r\nL 28.515625 63.921875 \r\nL 10.984375 60.40625 \r\nL 10.984375 69.390625 \r\nL 28.421875 72.90625 \r\nL 38.28125 72.90625 \r\nL 38.28125 8.296875 \r\nL 54.390625 8.296875 \r\nL 54.390625 0 \r\nL 12.40625 0 \r\nz\r\n\" id=\"DejaVuSans-49\"/>\r\n       </defs>\r\n       <use xlink:href=\"#DejaVuSans-49\"/>\r\n       <use x=\"63.623047\" xlink:href=\"#DejaVuSans-48\"/>\r\n      </g>\r\n     </g>\r\n    </g>\r\n    <g id=\"ytick_3\">\r\n     <g id=\"line2d_7\">\r\n      <g>\r\n       <use style=\"stroke:#000000;stroke-width:0.8;\" x=\"26.925\" xlink:href=\"#m670a7aea8f\" y=\"65.359219\"/>\r\n      </g>\r\n     </g>\r\n     <g id=\"text_7\">\r\n      <!-- 20 -->\r\n      <g transform=\"translate(7.2 69.158437)scale(0.1 -0.1)\">\r\n       <use xlink:href=\"#DejaVuSans-50\"/>\r\n       <use x=\"63.623047\" xlink:href=\"#DejaVuSans-48\"/>\r\n      </g>\r\n     </g>\r\n    </g>\r\n    <g id=\"ytick_4\">\r\n     <g id=\"line2d_8\">\r\n      <g>\r\n       <use style=\"stroke:#000000;stroke-width:0.8;\" x=\"26.925\" xlink:href=\"#m670a7aea8f\" y=\"92.539219\"/>\r\n      </g>\r\n     </g>\r\n     <g id=\"text_8\">\r\n      <!-- 30 -->\r\n      <g transform=\"translate(7.2 96.338437)scale(0.1 -0.1)\">\r\n       <defs>\r\n        <path d=\"M 40.578125 39.3125 \r\nQ 47.65625 37.796875 51.625 33 \r\nQ 55.609375 28.21875 55.609375 21.1875 \r\nQ 55.609375 10.40625 48.1875 4.484375 \r\nQ 40.765625 -1.421875 27.09375 -1.421875 \r\nQ 22.515625 -1.421875 17.65625 -0.515625 \r\nQ 12.796875 0.390625 7.625 2.203125 \r\nL 7.625 11.71875 \r\nQ 11.71875 9.328125 16.59375 8.109375 \r\nQ 21.484375 6.890625 26.8125 6.890625 \r\nQ 36.078125 6.890625 40.9375 10.546875 \r\nQ 45.796875 14.203125 45.796875 21.1875 \r\nQ 45.796875 27.640625 41.28125 31.265625 \r\nQ 36.765625 34.90625 28.71875 34.90625 \r\nL 20.21875 34.90625 \r\nL 20.21875 43.015625 \r\nL 29.109375 43.015625 \r\nQ 36.375 43.015625 40.234375 45.921875 \r\nQ 44.09375 48.828125 44.09375 54.296875 \r\nQ 44.09375 59.90625 40.109375 62.90625 \r\nQ 36.140625 65.921875 28.71875 65.921875 \r\nQ 24.65625 65.921875 20.015625 65.03125 \r\nQ 15.375 64.15625 9.8125 62.3125 \r\nL 9.8125 71.09375 \r\nQ 15.4375 72.65625 20.34375 73.4375 \r\nQ 25.25 74.21875 29.59375 74.21875 \r\nQ 40.828125 74.21875 47.359375 69.109375 \r\nQ 53.90625 64.015625 53.90625 55.328125 \r\nQ 53.90625 49.265625 50.4375 45.09375 \r\nQ 46.96875 40.921875 40.578125 39.3125 \r\nz\r\n\" id=\"DejaVuSans-51\"/>\r\n       </defs>\r\n       <use xlink:href=\"#DejaVuSans-51\"/>\r\n       <use x=\"63.623047\" xlink:href=\"#DejaVuSans-48\"/>\r\n      </g>\r\n     </g>\r\n    </g>\r\n    <g id=\"ytick_5\">\r\n     <g id=\"line2d_9\">\r\n      <g>\r\n       <use style=\"stroke:#000000;stroke-width:0.8;\" x=\"26.925\" xlink:href=\"#m670a7aea8f\" y=\"119.719219\"/>\r\n      </g>\r\n     </g>\r\n     <g id=\"text_9\">\r\n      <!-- 40 -->\r\n      <g transform=\"translate(7.2 123.518437)scale(0.1 -0.1)\">\r\n       <use xlink:href=\"#DejaVuSans-52\"/>\r\n       <use x=\"63.623047\" xlink:href=\"#DejaVuSans-48\"/>\r\n      </g>\r\n     </g>\r\n    </g>\r\n    <g id=\"ytick_6\">\r\n     <g id=\"line2d_10\">\r\n      <g>\r\n       <use style=\"stroke:#000000;stroke-width:0.8;\" x=\"26.925\" xlink:href=\"#m670a7aea8f\" y=\"146.899219\"/>\r\n      </g>\r\n     </g>\r\n     <g id=\"text_10\">\r\n      <!-- 50 -->\r\n      <g transform=\"translate(7.2 150.698437)scale(0.1 -0.1)\">\r\n       <defs>\r\n        <path d=\"M 10.796875 72.90625 \r\nL 49.515625 72.90625 \r\nL 49.515625 64.59375 \r\nL 19.828125 64.59375 \r\nL 19.828125 46.734375 \r\nQ 21.96875 47.46875 24.109375 47.828125 \r\nQ 26.265625 48.1875 28.421875 48.1875 \r\nQ 40.625 48.1875 47.75 41.5 \r\nQ 54.890625 34.8125 54.890625 23.390625 \r\nQ 54.890625 11.625 47.5625 5.09375 \r\nQ 40.234375 -1.421875 26.90625 -1.421875 \r\nQ 22.3125 -1.421875 17.546875 -0.640625 \r\nQ 12.796875 0.140625 7.71875 1.703125 \r\nL 7.71875 11.625 \r\nQ 12.109375 9.234375 16.796875 8.0625 \r\nQ 21.484375 6.890625 26.703125 6.890625 \r\nQ 35.15625 6.890625 40.078125 11.328125 \r\nQ 45.015625 15.765625 45.015625 23.390625 \r\nQ 45.015625 31 40.078125 35.4375 \r\nQ 35.15625 39.890625 26.703125 39.890625 \r\nQ 22.75 39.890625 18.8125 39.015625 \r\nQ 14.890625 38.140625 10.796875 36.28125 \r\nz\r\n\" id=\"DejaVuSans-53\"/>\r\n       </defs>\r\n       <use xlink:href=\"#DejaVuSans-53\"/>\r\n       <use x=\"63.623047\" xlink:href=\"#DejaVuSans-48\"/>\r\n      </g>\r\n     </g>\r\n    </g>\r\n    <g id=\"ytick_7\">\r\n     <g id=\"line2d_11\">\r\n      <g>\r\n       <use style=\"stroke:#000000;stroke-width:0.8;\" x=\"26.925\" xlink:href=\"#m670a7aea8f\" y=\"174.079219\"/>\r\n      </g>\r\n     </g>\r\n     <g id=\"text_11\">\r\n      <!-- 60 -->\r\n      <g transform=\"translate(7.2 177.878437)scale(0.1 -0.1)\">\r\n       <use xlink:href=\"#DejaVuSans-54\"/>\r\n       <use x=\"63.623047\" xlink:href=\"#DejaVuSans-48\"/>\r\n      </g>\r\n     </g>\r\n    </g>\r\n    <g id=\"ytick_8\">\r\n     <g id=\"line2d_12\">\r\n      <g>\r\n       <use style=\"stroke:#000000;stroke-width:0.8;\" x=\"26.925\" xlink:href=\"#m670a7aea8f\" y=\"201.259219\"/>\r\n      </g>\r\n     </g>\r\n     <g id=\"text_12\">\r\n      <!-- 70 -->\r\n      <g transform=\"translate(7.2 205.058437)scale(0.1 -0.1)\">\r\n       <defs>\r\n        <path d=\"M 8.203125 72.90625 \r\nL 55.078125 72.90625 \r\nL 55.078125 68.703125 \r\nL 28.609375 0 \r\nL 18.3125 0 \r\nL 43.21875 64.59375 \r\nL 8.203125 64.59375 \r\nz\r\n\" id=\"DejaVuSans-55\"/>\r\n       </defs>\r\n       <use xlink:href=\"#DejaVuSans-55\"/>\r\n       <use x=\"63.623047\" xlink:href=\"#DejaVuSans-48\"/>\r\n      </g>\r\n     </g>\r\n    </g>\r\n   </g>\r\n   <g id=\"patch_3\">\r\n    <path d=\"M 26.925 227.080219 \r\nL 26.925 9.640219 \r\n\" style=\"fill:none;stroke:#000000;stroke-linecap:square;stroke-linejoin:miter;stroke-width:0.8;\"/>\r\n   </g>\r\n   <g id=\"patch_4\">\r\n    <path d=\"M 244.365 227.080219 \r\nL 244.365 9.640219 \r\n\" style=\"fill:none;stroke:#000000;stroke-linecap:square;stroke-linejoin:miter;stroke-width:0.8;\"/>\r\n   </g>\r\n   <g id=\"patch_5\">\r\n    <path d=\"M 26.925 227.080219 \r\nL 244.365 227.080219 \r\n\" style=\"fill:none;stroke:#000000;stroke-linecap:square;stroke-linejoin:miter;stroke-width:0.8;\"/>\r\n   </g>\r\n   <g id=\"patch_6\">\r\n    <path d=\"M 26.925 9.640219 \r\nL 244.365 9.640219 \r\n\" style=\"fill:none;stroke:#000000;stroke-linecap:square;stroke-linejoin:miter;stroke-width:0.8;\"/>\r\n   </g>\r\n  </g>\r\n </g>\r\n <defs>\r\n  <clipPath id=\"p9083ce8fbe\">\r\n   <rect height=\"217.44\" width=\"217.44\" x=\"26.925\" y=\"9.640219\"/>\r\n  </clipPath>\r\n </defs>\r\n</svg>\r\n",
      "image/png": "[encoded data removed]"
     },
     "metadata": {
      "needs_background": "light"
     }
    }
   ],
   "source": [
    "category = []\n",
    "img_array = []\n",
    "for p in os.listdir(path+folder_train):\n",
    "    category = p.split(\".\")[0]\n",
    "    img_array = cv2.imread(os.path.join(path+folder_train, p), cv2.IMREAD_GRAYSCALE)\n",
    "    new_img_array = cv2.resize(img_array, dsize=(80,80))\n",
    "    plt.imshow(new_img_array, cmap='gray')\n",
    "    break"
   ]
  },
  {
   "cell_type": "markdown",
   "metadata": {
    "_uuid": "2f12a4e690a72c7520e58e75c76f371bf4bca7be"
   },
   "source": [
    "We need to train a model first so we will check training data In the below code we are iterating through all images in train folder and then we will split image name with deliminiter \".\" We have names like dog.0, dog.1, cat.2 etc.. Hence after splitting we are gonna get results like \"dog', \"cat\" as category value of the image. To make this example more easy we will consider dog as \"1\" and cat as \"0\"\n",
    "\n",
    "Now every image is actually a set of pixels so how to get our computer know that. Its simple convert all those pixels into an array. So we are going to use here a **cv2** library to read our image into an array and also it will read as a gray scale image.\n",
    "\n",
    ">cv2.imread(os.path.join(path,p),cv2.IMREAD_GRAYSCALE)\n",
    "\n",
    "Now we have got here images of all sizes . We have landscape, portrait etc etc.. We need to make them all of a single size so it can be analysed pretty easily. How to do that very very simple again. Use cv2\n",
    "\n",
    ">cv2.resize(img_array, dsize=(80, 80))\n",
    "\n",
    "Ok so we have got image array and its resized but do you believe whatever I just did was correct. Was the resizing of 80 X 80 good or is it bad. Should check it. How can we do that. There is one answer matplotlib. Using the below code we can display the image.\n",
    "\n",
    ">plt.imshow(new_img_array,cmap=\"gray\")\n",
    "\n",
    "Please run the below the code to get better understanding. I have applied break here to just display 1 image. You can try out with 50 X 50 or 100 X100 to see the difference.\n",
    "\n",
    "\n"
   ]
  },
  {
   "cell_type": "code",
   "execution_count": null,
   "metadata": {
    "_cell_guid": "79c7e3d0-c299-4dcb-8224-4455121ee9b0",
    "_uuid": "d629ff2d2480ee46fbb7e2d37f6b5fab8052498a"
   },
   "outputs": [],
   "source": []
  },
  {
   "cell_type": "markdown",
   "metadata": {
    "_uuid": "4c70b551142eb6ece6b4a3946e760086e969a64e"
   },
   "source": [
    "Okay so the above code was more for understanding purpose. Nowe we will get to the real part of coding here.\n",
    "\n",
    "Declare your training array X and your target array y. Here X will be the array of pixels and y will be value 0 or 1 indicating its a dog or cat\n",
    "Write convert function to map category \"dog\" or \"cat\" into 1 and 0\n",
    "\n",
    "Create a function create_test_data which takes all training images into a loop. Converts into image array.Resize image into 80 X80. Append image into X array. Append category value into y array."
   ]
  },
  {
   "cell_type": "code",
   "execution_count": 38,
   "metadata": {
    "_uuid": "cfa2a50c1ea569d97806510e0e313e1ce9d7452b"
   },
   "outputs": [],
   "source": [
    "X = []\n",
    "y = []\n",
    "\n",
    "convert = lambda category: int(category == 'dog')\n",
    "\n",
    "def create_test_data(path):\n",
    "    for p in os.listdir(path):\n",
    "        category = p.split('.')[0]\n",
    "        category = convert(category)\n",
    "        img_array = cv2.imread(os.path.join(path+folder_train, p), cv2.IMREAD_GRAYSCALE)\n",
    "        #new_img_array = cv2.resize(img_array, dsize=(80,80))\n",
    "        X.append(new_img_array)\n",
    "        y.append(category)"
   ]
  },
  {
   "cell_type": "markdown",
   "metadata": {
    "_uuid": "59b1ed87293db99778edda93d5950d5e13a0019b"
   },
   "source": [
    "Now what..\n",
    "\n",
    "Call the function\n",
    "\n",
    "But also later convert X and y into numpy array We also have to reshape X with the below code\n",
    "\n",
    "np.array(X).reshape(-1, 80,80,1)\n",
    "\n",
    "We are doing this to reshape our data into the shape (BATCH SIZE, IMAGE WIDTH, IMAGE HEIGHT, CHANNELS). This is done so that the shape of our data complies with the *input_shape * parameter requirements in Conv2D.\n"
   ]
  },
  {
   "cell_type": "code",
   "execution_count": 39,
   "metadata": {
    "_uuid": "6e30159db4207451532ac085e617bc2669c93714"
   },
   "outputs": [],
   "source": [
    "create_test_data(path+folder_train)\n"
   ]
  },
  {
   "cell_type": "code",
   "execution_count": 40,
   "metadata": {},
   "outputs": [],
   "source": [
    "for i,img in enumerate(X):\n",
    "    X[i] = cv2.resize(img, dsize=(80, 80))"
   ]
  },
  {
   "cell_type": "code",
   "execution_count": 41,
   "metadata": {},
   "outputs": [],
   "source": [
    "X = np.array(X).reshape(-1,80,80,1)\n",
    "y = np.array(y)"
   ]
  },
  {
   "cell_type": "code",
   "execution_count": null,
   "metadata": {},
   "outputs": [],
   "source": []
  },
  {
   "cell_type": "markdown",
   "metadata": {
    "_uuid": "ea5dec80ecb8e958dd2730ee7c911d055da93bf1"
   },
   "source": [
    "If you see the values of X you can see a variety of values between 0- 255 . Its because every pixel has different density of black and white. But with the wide range of values it becomes difficult for a training model to learn ( sometimes memorize ). \n",
    "\n",
    "How to resolve this And you guessed it right . You can **normalize** the data. We can use Keras normalize here also . But well we already know all values are having range between 0-255 so we can just divide it by 255 and get all values scaled between 0 -1\n",
    "\n",
    "That's what we have done below."
   ]
  },
  {
   "cell_type": "code",
   "execution_count": 42,
   "metadata": {
    "_uuid": "aac4daf7957d1429a9d47e19c75459c217f04d50"
   },
   "outputs": [],
   "source": [
    "#Normalize data\n",
    "X = X/255.0"
   ]
  },
  {
   "cell_type": "code",
   "execution_count": 48,
   "metadata": {},
   "outputs": [],
   "source": [
    "from sklearn.utils import shuffle\n",
    "X, y = shuffle(X, y, random_state=42)"
   ]
  },
  {
   "cell_type": "code",
   "execution_count": 49,
   "metadata": {},
   "outputs": [
    {
     "output_type": "execute_result",
     "data": {
      "text/plain": [
       "array([0, 0, 0, 1, 0, 1, 1, 0, 1, 1, 1, 1, 0, 0, 0])"
      ]
     },
     "metadata": {},
     "execution_count": 49
    }
   ],
   "source": [
    "y[10:25]"
   ]
  },
  {
   "cell_type": "markdown",
   "metadata": {
    "_uuid": "47bf804edac40561e5c9d13e2a6f29e96ff31ecd"
   },
   "source": [
    "Enough of data processing I wanna train :)\n",
    "Here are the steps to do define our CNN model\n",
    "\n",
    "1. Define a Sequential model\n",
    "2. Start adding layers to it.\n",
    "3. First we will add a Conv2D layer with 64 nodes and kernel size of (3,3). You can also experiment with different values here like 32, 128 etc. Also we have to specify input shape which is your X shape. Activation we will take 'relu' for now however there are many others to experiment with.\n",
    "4. Now after every Conv layer we always do max pooling so we will add max pooling layer with a size of (2,2) \n",
    "5. We will repeat this combination again because come on 2 is better than one. Haha. We you can also add 3 or more convolution layers but keep in mind the more layers you add more time it will take to train.\n",
    "6. But we don't have much time so we will add a flatten layer now. As we have to feed our data to Dense layer later.\n",
    "7. We will now add a Dense layer of 64 nodes. Note for all these layers we are using activation as 'relu' because I found results better with this. You can skip specifying activation but this might make a model a conveniently linear which might not work for us.\n",
    "8. In the end for getting our result we will add final Dense layer . Activation can be sigmoid or softmax (if you need probability use sigmoid else use softmax). Here I have used sigmoid.\n",
    "9. Finally we will compile the model . There are 3 things to mention here . Loss, Optimizer, Metrics\n",
    "\n",
    "**Loss** :- To make our model better we either minimize loss or maximize accuracy. NN always minimize loss. To measure it we can use different formulas like 'categorical_crossentropy' or 'binary_crossentropy'. Here I have used binary_crossentropy\n",
    "\n",
    "**Optimizer** :- If you know a lil bit about mathematics of machine learning you might be familier with local minima or global minima or cost function. To minimize cost function we use different methods For ex :- like gradient descent, stochastic gradient descent. So these are call optimizers. We are using a default one here which is **adam**\n",
    "\n",
    "**Metrics** :- This is to denote the measure of your model. Can be accuracy or some other metric.\n",
    "        "
   ]
  },
  {
   "cell_type": "code",
   "execution_count": 44,
   "metadata": {
    "_uuid": "80c4b5ece66f7a069cfb6194779dc02ef76ce3e8"
   },
   "outputs": [],
   "source": [
    "model = Sequential()\n",
    "\n",
    "model.add(Conv2D(filters= 64,\n",
    "                              kernel_size= (3,3),\n",
    "                              activation= 'relu',\n",
    "                              input_shape= (80,80,1)))\n",
    "model.add(MaxPool2D(pool_size= (2,2)))\n",
    "\n",
    "model.add(Conv2D(filters= 64,\n",
    "                              kernel_size= (3,3),\n",
    "                              activation= 'relu'))\n",
    "model.add(MaxPool2D(pool_size= (2,2)))\n",
    "\n",
    "model.add(Flatten())\n",
    "model.add(Dense(units= 64,\n",
    "                             activation='relu'))\n",
    "#model.add(keras.layers.Dropout(0.25))\n",
    "model.add(Dense(1, activation= 'sigmoid'))\n",
    "\n",
    "optimizer = tf.keras.optimizers.Adam()\n",
    "model.compile(loss='binary_crossentropy',\n",
    "              optimizer= optimizer,\n",
    "              metrics=['accuracy'])"
   ]
  },
  {
   "cell_type": "markdown",
   "metadata": {
    "_uuid": "0f7a138933cea22e5d6ebb8098e3d5728d47740e"
   },
   "source": [
    "Now we will fit our model with training data.\n",
    "\n",
    "Epochs :- How many times our model will go through data\n",
    "\n",
    "Batch size :- How much amount of data at once you wanna pass through the model\n",
    "\n",
    "validation_split :- How much amount of data (in this case its 20 %) you will need to check cross validation error"
   ]
  },
  {
   "cell_type": "code",
   "execution_count": 45,
   "metadata": {},
   "outputs": [],
   "source": [
    "from keras.callbacks import EarlyStopping\n",
    "earlystopping = EarlyStopping(patience= 4, restore_best_weights= True)"
   ]
  },
  {
   "cell_type": "code",
   "execution_count": 14,
   "metadata": {
    "_uuid": "ec02e9538761ef147ba6e0c2129dba117a37efa1"
   },
   "outputs": [
    {
     "output_type": "stream",
     "name": "stdout",
     "text": [
      "Epoch 1/10\n",
      "625/625 [==============================] - 230s 367ms/step - loss: 0.6960 - accuracy: 0.5038 - val_loss: 0.6931 - val_accuracy: 0.5076\n",
      "Epoch 2/10\n",
      "625/625 [==============================] - 241s 385ms/step - loss: 0.6931 - accuracy: 0.5049 - val_loss: 0.6932 - val_accuracy: 0.4924\n",
      "Epoch 3/10\n",
      "625/625 [==============================] - 226s 362ms/step - loss: 0.6932 - accuracy: 0.4994 - val_loss: 0.6933 - val_accuracy: 0.4924\n",
      "Epoch 4/10\n",
      "625/625 [==============================] - 216s 346ms/step - loss: 0.6932 - accuracy: 0.5007 - val_loss: 0.6932 - val_accuracy: 0.4924\n",
      "Epoch 5/10\n",
      "625/625 [==============================] - 233s 372ms/step - loss: 0.6932 - accuracy: 0.4982 - val_loss: 0.6933 - val_accuracy: 0.4924\n"
     ]
    },
    {
     "output_type": "execute_result",
     "data": {
      "text/plain": [
       "<tensorflow.python.keras.callbacks.History at 0x280bd37fe88>"
      ]
     },
     "metadata": {},
     "execution_count": 14
    }
   ],
   "source": [
    "model.fit(X, y, epochs= 10, batch_size= 32, validation_split= 0.20, callbacks=[earlystopping])"
   ]
  },
  {
   "cell_type": "code",
   "execution_count": 37,
   "metadata": {},
   "outputs": [
    {
     "output_type": "execute_result",
     "data": {
      "text/plain": [
       "<tensorflow.python.keras.callbacks.History at 0x1c19fa73288>"
      ]
     },
     "metadata": {},
     "execution_count": 37
    }
   ],
   "source": []
  },
  {
   "cell_type": "markdown",
   "metadata": {
    "_uuid": "351552012321cc626c0177be12aee5c797ea72df"
   },
   "source": [
    "Now we have to preprocess our test data also same as that our training data."
   ]
  },
  {
   "cell_type": "code",
   "execution_count": 46,
   "metadata": {
    "_uuid": "6b55df2d3396f6d27d4e5d4ea4584a9e1733bc92"
   },
   "outputs": [],
   "source": [
    "\"\"\"\n",
    "path= \"../../../../DataSets/dogs_cats/\"\n",
    "folder_train = \"train/\"\n",
    "folder_test = \"test1/\"\n",
    "\"\"\"\n",
    "\n",
    "test_path = os.path.join(path, folder_test)\n",
    "\n",
    "X_test = []\n",
    "id_line =[]\n",
    "\n",
    "def create_test1_data(path):\n",
    "    for p in os.listdir(path):\n",
    "        id_line.append(p.split(\".\")[0])\n",
    "        img_array = cv2.imread(os.path.join(path,p), cv2.IMREAD_GRAYSCALE)\n",
    "        new_img_array = cv2.resize(img_array, dsize=(80,80))\n",
    "        X_test.append(new_img_array)"
   ]
  },
  {
   "cell_type": "code",
   "execution_count": 47,
   "metadata": {},
   "outputs": [],
   "source": [
    "create_test1_data(path+folder_test)\n",
    "X_test = np.array(X_test).reshape(-1,80,80,1) \n",
    "X_test = X_test/255 #Normalizar"
   ]
  },
  {
   "cell_type": "markdown",
   "metadata": {
    "_uuid": "35c262be8b002a0cb484de9d22f14ba5d2557baf"
   },
   "source": [
    "Ok. Now the time has come to finally\n",
    "**PREDICT**\n",
    "\n",
    "so feed your model with test data to predict"
   ]
  },
  {
   "cell_type": "code",
   "execution_count": 23,
   "metadata": {},
   "outputs": [
    {
     "output_type": "execute_result",
     "data": {
      "text/plain": [
       "(12500, 80, 80, 1)"
      ]
     },
     "metadata": {},
     "execution_count": 23
    }
   ],
   "source": [
    "X_test.shape"
   ]
  },
  {
   "cell_type": "code",
   "execution_count": 24,
   "metadata": {
    "_uuid": "7b902cc4d61cfaa770fdf3b674b399e87fd62ac5"
   },
   "outputs": [],
   "source": [
    "predictions = model.predict(X_test) #También podríamos hacer uso de la función predict_poba(), que nos daría la probabilidad de ser una clase u otra"
   ]
  },
  {
   "cell_type": "markdown",
   "metadata": {
    "_uuid": "edca7d26b6ce321154679e3d8eb7b6631380e241"
   },
   "source": [
    "We are rounding the result here as we used sigmoid function and we got the probablity values in our predicted dataset"
   ]
  },
  {
   "cell_type": "code",
   "execution_count": 25,
   "metadata": {},
   "outputs": [
    {
     "output_type": "execute_result",
     "data": {
      "text/plain": [
       "(12500, 1)"
      ]
     },
     "metadata": {},
     "execution_count": 25
    }
   ],
   "source": [
    "predictions.shape"
   ]
  },
  {
   "cell_type": "code",
   "execution_count": 26,
   "metadata": {},
   "outputs": [],
   "source": [
    "predicted_val = [int(round(p[0])) for p in predictions]"
   ]
  },
  {
   "cell_type": "code",
   "execution_count": null,
   "metadata": {
    "_uuid": "87ea9ff5a4e9cfa0ac21a1af18b08e86b9183425"
   },
   "outputs": [],
   "source": []
  },
  {
   "cell_type": "markdown",
   "metadata": {
    "_uuid": "0cebf5eada571b472b883efe532b921c59629dfd"
   },
   "source": [
    "Now you have to make submission data frame to submit your resultset"
   ]
  },
  {
   "cell_type": "code",
   "execution_count": 27,
   "metadata": {
    "_uuid": "1496f4fb9e8752d359a5f0a6ccee6c544ee896a8"
   },
   "outputs": [],
   "source": [
    "submission_df = pd.DataFrame({'id': id_line,\n",
    "                              'label': predicted_val})"
   ]
  },
  {
   "cell_type": "code",
   "execution_count": 28,
   "metadata": {},
   "outputs": [],
   "source": [
    "submission_df.id = submission_df.id.astype(int)"
   ]
  },
  {
   "cell_type": "code",
   "execution_count": 30,
   "metadata": {},
   "outputs": [
    {
     "output_type": "execute_result",
     "data": {
      "text/plain": [
       "       id  label\n",
       "0       1      1\n",
       "3612    2      1\n",
       "4723    3      1\n",
       "5834    4      1\n",
       "6945    5      1\n",
       "8056    6      1\n",
       "9167    7      1\n",
       "10278   8      1\n",
       "11389   9      1\n",
       "1      10      1"
      ],
      "text/html": "<div>\n<style scoped>\n    .dataframe tbody tr th:only-of-type {\n        vertical-align: middle;\n    }\n\n    .dataframe tbody tr th {\n        vertical-align: top;\n    }\n\n    .dataframe thead th {\n        text-align: right;\n    }\n</style>\n<table border=\"1\" class=\"dataframe\">\n  <thead>\n    <tr style=\"text-align: right;\">\n      <th></th>\n      <th>id</th>\n      <th>label</th>\n    </tr>\n  </thead>\n  <tbody>\n    <tr>\n      <th>0</th>\n      <td>1</td>\n      <td>1</td>\n    </tr>\n    <tr>\n      <th>3612</th>\n      <td>2</td>\n      <td>1</td>\n    </tr>\n    <tr>\n      <th>4723</th>\n      <td>3</td>\n      <td>1</td>\n    </tr>\n    <tr>\n      <th>5834</th>\n      <td>4</td>\n      <td>1</td>\n    </tr>\n    <tr>\n      <th>6945</th>\n      <td>5</td>\n      <td>1</td>\n    </tr>\n    <tr>\n      <th>8056</th>\n      <td>6</td>\n      <td>1</td>\n    </tr>\n    <tr>\n      <th>9167</th>\n      <td>7</td>\n      <td>1</td>\n    </tr>\n    <tr>\n      <th>10278</th>\n      <td>8</td>\n      <td>1</td>\n    </tr>\n    <tr>\n      <th>11389</th>\n      <td>9</td>\n      <td>1</td>\n    </tr>\n    <tr>\n      <th>1</th>\n      <td>10</td>\n      <td>1</td>\n    </tr>\n  </tbody>\n</table>\n</div>"
     },
     "metadata": {},
     "execution_count": 30
    }
   ],
   "source": [
    "submission_df.sort_values('id').head(10)"
   ]
  },
  {
   "cell_type": "code",
   "execution_count": 32,
   "metadata": {},
   "outputs": [
    {
     "output_type": "execute_result",
     "data": {
      "text/plain": [
       "18"
      ]
     },
     "metadata": {},
     "execution_count": 32
    }
   ],
   "source": [
    "(submission_df['label'] == 0).sum()"
   ]
  },
  {
   "cell_type": "code",
   "execution_count": null,
   "metadata": {},
   "outputs": [],
   "source": []
  },
  {
   "cell_type": "code",
   "execution_count": null,
   "metadata": {},
   "outputs": [],
   "source": []
  },
  {
   "cell_type": "markdown",
   "metadata": {
    "_uuid": "f599430d2f3062ec7a726bff3caef2a5ffd01166"
   },
   "source": [
    "Write your data frame to a csv file"
   ]
  },
  {
   "cell_type": "code",
   "execution_count": null,
   "metadata": {
    "_uuid": "2031743817724557d2b65b34541ade436133c657"
   },
   "outputs": [],
   "source": []
  },
  {
   "cell_type": "markdown",
   "metadata": {
    "_uuid": "9d6b641de67262d0274ca2d3b92ef83edc927d42"
   },
   "source": [
    "And we are done!\n",
    "\n",
    "Thanks all :)"
   ]
  },
  {
   "cell_type": "code",
   "execution_count": null,
   "metadata": {
    "_uuid": "0963b84bf9f6e27235b37d1133c37868791a6eb9"
   },
   "outputs": [],
   "source": []
  }
 ],
 "metadata": {
  "kernelspec": {
   "display_name": "Python 3",
   "language": "python",
   "name": "python3"
  },
  "language_info": {
   "codemirror_mode": {
    "name": "ipython",
    "version": 3
   },
   "file_extension": ".py",
   "mimetype": "text/x-python",
   "name": "python",
   "nbconvert_exporter": "python",
   "pygments_lexer": "ipython3",
   "version": "3.7.4-final"
  }
 },
 "nbformat": 4,
 "nbformat_minor": 4
}