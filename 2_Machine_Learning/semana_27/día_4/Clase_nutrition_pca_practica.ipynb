{
 "cells": [
  {
   "cell_type": "markdown",
   "metadata": {},
   "source": [
    "# Principal Components Analysis Exercise 1"
   ]
  },
  {
   "cell_type": "code",
   "execution_count": 1,
   "metadata": {},
   "outputs": [],
   "source": [
    "import pandas as pd\n",
    "import numpy as np\n",
    "from sklearn.decomposition import PCA\n",
    "from sklearn.preprocessing import StandardScaler\n",
    "import matplotlib.pyplot as plt"
   ]
  },
  {
   "cell_type": "markdown",
   "metadata": {},
   "source": [
    "### Importa los datos\n",
    "\n",
    "Observa las columnas que hay, así como su tipo."
   ]
  },
  {
   "cell_type": "code",
   "execution_count": 2,
   "metadata": {},
   "outputs": [],
   "source": [
    "df = pd.read_csv('nndb_flat.csv')"
   ]
  },
  {
   "cell_type": "markdown",
   "metadata": {},
   "source": [
    "## Check for highly correlated features\n",
    "¿Qué pasa con las columnas USRDA?"
   ]
  },
  {
   "cell_type": "code",
   "execution_count": 3,
   "metadata": {},
   "outputs": [
    {
     "output_type": "execute_result",
     "data": {
      "text/plain": [
       "     ID               FoodGroup              ShortDescrip  \\\n",
       "0  1001  Dairy and Egg Products          BUTTER,WITH SALT   \n",
       "1  1002  Dairy and Egg Products  BUTTER,WHIPPED,WITH SALT   \n",
       "2  1003  Dairy and Egg Products      BUTTER OIL,ANHYDROUS   \n",
       "3  1004  Dairy and Egg Products               CHEESE,BLUE   \n",
       "4  1005  Dairy and Egg Products              CHEESE,BRICK   \n",
       "\n",
       "                      Descrip CommonName MfgName ScientificName  Energy_kcal  \\\n",
       "0              Butter, salted        NaN     NaN            NaN        717.0   \n",
       "1  Butter, whipped, with salt        NaN     NaN            NaN        717.0   \n",
       "2       Butter oil, anhydrous        NaN     NaN            NaN        876.0   \n",
       "3                Cheese, blue        NaN     NaN            NaN        353.0   \n",
       "4               Cheese, brick        NaN     NaN            NaN        371.0   \n",
       "\n",
       "   Protein_g  Fat_g  ...  Folate_USRDA  Niacin_USRDA  Riboflavin_USRDA  \\\n",
       "0       0.85  81.11  ...        0.0075      0.002625          0.026154   \n",
       "1       0.85  81.11  ...        0.0075      0.002625          0.026154   \n",
       "2       0.28  99.48  ...        0.0000      0.000188          0.003846   \n",
       "3      21.40  28.74  ...        0.0900      0.063500          0.293846   \n",
       "4      23.24  29.68  ...        0.0500      0.007375          0.270000   \n",
       "\n",
       "   Thiamin_USRDA  Calcium_USRDA  Copper_USRDA  Magnesium_USRDA  \\\n",
       "0       0.004167       0.020000      0.000000         0.004762   \n",
       "1       0.004167       0.020000      0.000018         0.004762   \n",
       "2       0.000833       0.003333      0.000001         0.000000   \n",
       "3       0.024167       0.440000      0.000044         0.054762   \n",
       "4       0.011667       0.561667      0.000027         0.057143   \n",
       "\n",
       "   Phosphorus_USRDA  Selenium_USRDA  Zinc_USRDA  \n",
       "0          0.034286        0.018182    0.008182  \n",
       "1          0.032857        0.018182    0.004545  \n",
       "2          0.004286        0.000000    0.000909  \n",
       "3          0.552857        0.263636    0.241818  \n",
       "4          0.644286        0.263636    0.236364  \n",
       "\n",
       "[5 rows x 45 columns]"
      ],
      "text/html": "<div>\n<style scoped>\n    .dataframe tbody tr th:only-of-type {\n        vertical-align: middle;\n    }\n\n    .dataframe tbody tr th {\n        vertical-align: top;\n    }\n\n    .dataframe thead th {\n        text-align: right;\n    }\n</style>\n<table border=\"1\" class=\"dataframe\">\n  <thead>\n    <tr style=\"text-align: right;\">\n      <th></th>\n      <th>ID</th>\n      <th>FoodGroup</th>\n      <th>ShortDescrip</th>\n      <th>Descrip</th>\n      <th>CommonName</th>\n      <th>MfgName</th>\n      <th>ScientificName</th>\n      <th>Energy_kcal</th>\n      <th>Protein_g</th>\n      <th>Fat_g</th>\n      <th>...</th>\n      <th>Folate_USRDA</th>\n      <th>Niacin_USRDA</th>\n      <th>Riboflavin_USRDA</th>\n      <th>Thiamin_USRDA</th>\n      <th>Calcium_USRDA</th>\n      <th>Copper_USRDA</th>\n      <th>Magnesium_USRDA</th>\n      <th>Phosphorus_USRDA</th>\n      <th>Selenium_USRDA</th>\n      <th>Zinc_USRDA</th>\n    </tr>\n  </thead>\n  <tbody>\n    <tr>\n      <th>0</th>\n      <td>1001</td>\n      <td>Dairy and Egg Products</td>\n      <td>BUTTER,WITH SALT</td>\n      <td>Butter, salted</td>\n      <td>NaN</td>\n      <td>NaN</td>\n      <td>NaN</td>\n      <td>717.0</td>\n      <td>0.85</td>\n      <td>81.11</td>\n      <td>...</td>\n      <td>0.0075</td>\n      <td>0.002625</td>\n      <td>0.026154</td>\n      <td>0.004167</td>\n      <td>0.020000</td>\n      <td>0.000000</td>\n      <td>0.004762</td>\n      <td>0.034286</td>\n      <td>0.018182</td>\n      <td>0.008182</td>\n    </tr>\n    <tr>\n      <th>1</th>\n      <td>1002</td>\n      <td>Dairy and Egg Products</td>\n      <td>BUTTER,WHIPPED,WITH SALT</td>\n      <td>Butter, whipped, with salt</td>\n      <td>NaN</td>\n      <td>NaN</td>\n      <td>NaN</td>\n      <td>717.0</td>\n      <td>0.85</td>\n      <td>81.11</td>\n      <td>...</td>\n      <td>0.0075</td>\n      <td>0.002625</td>\n      <td>0.026154</td>\n      <td>0.004167</td>\n      <td>0.020000</td>\n      <td>0.000018</td>\n      <td>0.004762</td>\n      <td>0.032857</td>\n      <td>0.018182</td>\n      <td>0.004545</td>\n    </tr>\n    <tr>\n      <th>2</th>\n      <td>1003</td>\n      <td>Dairy and Egg Products</td>\n      <td>BUTTER OIL,ANHYDROUS</td>\n      <td>Butter oil, anhydrous</td>\n      <td>NaN</td>\n      <td>NaN</td>\n      <td>NaN</td>\n      <td>876.0</td>\n      <td>0.28</td>\n      <td>99.48</td>\n      <td>...</td>\n      <td>0.0000</td>\n      <td>0.000188</td>\n      <td>0.003846</td>\n      <td>0.000833</td>\n      <td>0.003333</td>\n      <td>0.000001</td>\n      <td>0.000000</td>\n      <td>0.004286</td>\n      <td>0.000000</td>\n      <td>0.000909</td>\n    </tr>\n    <tr>\n      <th>3</th>\n      <td>1004</td>\n      <td>Dairy and Egg Products</td>\n      <td>CHEESE,BLUE</td>\n      <td>Cheese, blue</td>\n      <td>NaN</td>\n      <td>NaN</td>\n      <td>NaN</td>\n      <td>353.0</td>\n      <td>21.40</td>\n      <td>28.74</td>\n      <td>...</td>\n      <td>0.0900</td>\n      <td>0.063500</td>\n      <td>0.293846</td>\n      <td>0.024167</td>\n      <td>0.440000</td>\n      <td>0.000044</td>\n      <td>0.054762</td>\n      <td>0.552857</td>\n      <td>0.263636</td>\n      <td>0.241818</td>\n    </tr>\n    <tr>\n      <th>4</th>\n      <td>1005</td>\n      <td>Dairy and Egg Products</td>\n      <td>CHEESE,BRICK</td>\n      <td>Cheese, brick</td>\n      <td>NaN</td>\n      <td>NaN</td>\n      <td>NaN</td>\n      <td>371.0</td>\n      <td>23.24</td>\n      <td>29.68</td>\n      <td>...</td>\n      <td>0.0500</td>\n      <td>0.007375</td>\n      <td>0.270000</td>\n      <td>0.011667</td>\n      <td>0.561667</td>\n      <td>0.000027</td>\n      <td>0.057143</td>\n      <td>0.644286</td>\n      <td>0.263636</td>\n      <td>0.236364</td>\n    </tr>\n  </tbody>\n</table>\n<p>5 rows × 45 columns</p>\n</div>"
     },
     "metadata": {},
     "execution_count": 3
    }
   ],
   "source": [
    "df.head()"
   ]
  },
  {
   "cell_type": "markdown",
   "metadata": {},
   "source": [
    "## We can see that the \"_USRDA\" features are redundant. They should be removed"
   ]
  },
  {
   "cell_type": "code",
   "execution_count": null,
   "metadata": {},
   "outputs": [],
   "source": []
  },
  {
   "cell_type": "markdown",
   "metadata": {},
   "source": [
    "## Separate non-numeric features"
   ]
  },
  {
   "cell_type": "code",
   "execution_count": null,
   "metadata": {},
   "outputs": [],
   "source": []
  },
  {
   "cell_type": "markdown",
   "metadata": {},
   "source": [
    "## Explore the datas' distributions"
   ]
  },
  {
   "cell_type": "markdown",
   "metadata": {},
   "source": [
    "## Most of the variables are \"zero\" inflated and skewed right. We may want to consider transformation so \"improve\" the distributions and hopefully produce better correlations for our PCA. Note: this is an optional step that may not always improve results."
   ]
  },
  {
   "cell_type": "markdown",
   "metadata": {},
   "source": [
    "Podemos realizar una transformación Box-Cox\n",
    "\n",
    "Nota: Como tenemos muchos ceros en nuestro df, podemos sumarle 1 para evitar este problema.\n",
    "\n",
    "(df = df + 1)"
   ]
  },
  {
   "cell_type": "code",
   "execution_count": null,
   "metadata": {},
   "outputs": [],
   "source": []
  },
  {
   "cell_type": "markdown",
   "metadata": {},
   "source": [
    "## The data definitely \"look\" better\n",
    "\n",
    "## To account for different scales of measurement, we'll standardize to mean=0, variance=1."
   ]
  },
  {
   "cell_type": "code",
   "execution_count": null,
   "metadata": {},
   "outputs": [],
   "source": []
  },
  {
   "cell_type": "markdown",
   "metadata": {},
   "source": [
    "# Implement PCA"
   ]
  },
  {
   "cell_type": "code",
   "execution_count": 12,
   "metadata": {},
   "outputs": [],
   "source": []
  },
  {
   "cell_type": "code",
   "execution_count": null,
   "metadata": {},
   "outputs": [],
   "source": []
  },
  {
   "cell_type": "markdown",
   "metadata": {},
   "source": [
    "#### check the most important components\n"
   ]
  },
  {
   "cell_type": "code",
   "execution_count": 13,
   "metadata": {},
   "outputs": [
    {
     "data": {
      "text/plain": [
       "[<matplotlib.lines.Line2D at 0x1fa4ae28648>]"
      ]
     },
     "execution_count": 13,
     "metadata": {},
     "output_type": "execute_result"
    },
    {
     "data": {
      "image/png": "[encoded data removed]",
      "text/plain": [
       "<Figure size 432x288 with 1 Axes>"
      ]
     },
     "metadata": {
      "needs_background": "light"
     },
     "output_type": "display_data"
    }
   ],
   "source": []
  },
  {
   "cell_type": "code",
   "execution_count": 14,
   "metadata": {},
   "outputs": [
    {
     "name": "stdout",
     "output_type": "stream",
     "text": [
      "[0.34554936 0.17971019 0.09201387 0.06176452 0.05520037 0.03764111\n",
      " 0.02996247 0.02566808 0.02294417 0.0192006  0.01828886 0.01721459\n",
      " 0.01443828 0.01337614 0.0107629  0.00977106 0.00894584 0.00878398\n",
      " 0.00760274 0.00668982 0.00589323 0.00545379 0.00312402]\n",
      "0.7342383069517352\n"
     ]
    }
   ],
   "source": []
  },
  {
   "cell_type": "markdown",
   "metadata": {},
   "source": [
    "###### Observamos que los 5 primeros eigenvectors o \"componentes\" nos dan el 73% de varianza explicada: nos quedamos con ellas.\n",
    "Crearemos 5 nuevas categorías: C1, C2, C3, ..."
   ]
  },
  {
   "cell_type": "code",
   "execution_count": null,
   "metadata": {},
   "outputs": [],
   "source": []
  },
  {
   "cell_type": "markdown",
   "metadata": {},
   "source": [
    "## ¿Qué grupo de comida tiene los valores más altos en cada categoría?"
   ]
  },
  {
   "cell_type": "code",
   "execution_count": null,
   "metadata": {},
   "outputs": [],
   "source": []
  },
  {
   "cell_type": "code",
   "execution_count": null,
   "metadata": {},
   "outputs": [],
   "source": []
  }
 ],
 "metadata": {
  "kernelspec": {
   "display_name": "Python 3",
   "language": "python",
   "name": "python3"
  },
  "language_info": {
   "codemirror_mode": {
    "name": "ipython",
    "version": 3
   },
   "file_extension": ".py",
   "mimetype": "text/x-python",
   "name": "python",
   "nbconvert_exporter": "python",
   "pygments_lexer": "ipython3",
   "version": "3.7.4-final"
  }
 },
 "nbformat": 4,
 "nbformat_minor": 4
}