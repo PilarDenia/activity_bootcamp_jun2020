{
 "cells": [
  {
   "cell_type": "markdown",
   "metadata": {},
   "source": [
    "## Feature selection\n",
    "\n",
    "Why would it even be necessary to select features? To some, this idea may seem counterintuitive, but there are at least two important reasons to get rid of unimportant features. The first is clear to every engineer: the more data, the higher the computational complexity. As long as we work with toy datasets, the size of the data is not a problem, but, for real loaded production systems, hundreds of extra features will be quite tangible. The second reason is that some algorithms take noise (non-informative features) as a signal and overfit.\n",
    "\n",
    "### Statistical approaches\n",
    "\n",
    "The most obvious candidate for removal is a feature whose value remains unchanged, i.e., it contains no information at all. If we build on this thought, it is reasonable to say that features with low variance are worse than those with high variance. So, one can consider cutting features with variance below a certain threshold."
   ]
  },
  {
   "cell_type": "markdown",
   "metadata": {},
   "source": [
    "#### Basado en estadísticos no supervisado"
   ]
  },
  {
   "cell_type": "code",
   "execution_count": 85,
   "metadata": {},
   "outputs": [],
   "source": [
    "import numpy as np\n",
    "from sklearn.feature_selection import VarianceThreshold\n",
    "from sklearn.datasets import make_classification #'make_classification' es un método para generar data_set_ficticio"
   ]
  },
  {
   "cell_type": "code",
   "execution_count": 86,
   "metadata": {
    "ExecuteTime": {
     "end_time": "2020-11-19T10:10:17.058096Z",
     "start_time": "2020-11-19T10:10:13.843481Z"
    }
   },
   "outputs": [
    {
     "data": {
      "text/plain": [
       "(100, 20)"
      ]
     },
     "execution_count": 86,
     "metadata": {},
     "output_type": "execute_result"
    }
   ],
   "source": [
    "x_data_generated, y_data_generated = make_classification()\n",
    "x_data_generated.shape"
   ]
  },
  {
   "cell_type": "code",
   "execution_count": 87,
   "metadata": {
    "scrolled": true
   },
   "outputs": [
    {
     "data": {
      "text/plain": [
       "array([0.78949495, 1.18345205, 0.94647488, 0.90250982, 1.04573874,\n",
       "       1.21203667, 0.97921679, 1.13290913, 1.66127645, 0.88926175,\n",
       "       1.19082767, 0.92695234, 1.02400181, 0.69087844, 0.95726582,\n",
       "       0.99888008, 0.93018773, 0.81699056, 1.86792978, 2.32402122])"
      ]
     },
     "execution_count": 87,
     "metadata": {},
     "output_type": "execute_result"
    }
   ],
   "source": [
    "np.var(x_data_generated, axis=0)"
   ]
  },
  {
   "cell_type": "code",
   "execution_count": 88,
   "metadata": {},
   "outputs": [
    {
     "data": {
      "text/plain": [
       "(20,)"
      ]
     },
     "execution_count": 88,
     "metadata": {},
     "output_type": "execute_result"
    }
   ],
   "source": [
    "np.var(x_data_generated, axis=0).shape"
   ]
  },
  {
   "cell_type": "code",
   "execution_count": 89,
   "metadata": {},
   "outputs": [
    {
     "data": {
      "text/plain": [
       "array([[0.69087844],\n",
       "       [0.78949495],\n",
       "       [0.81699056],\n",
       "       [0.88926175],\n",
       "       [0.90250982],\n",
       "       [0.92695234],\n",
       "       [0.93018773],\n",
       "       [0.94647488],\n",
       "       [0.95726582],\n",
       "       [0.97921679],\n",
       "       [0.99888008],\n",
       "       [1.02400181],\n",
       "       [1.04573874],\n",
       "       [1.13290913],\n",
       "       [1.18345205],\n",
       "       [1.19082767],\n",
       "       [1.21203667],\n",
       "       [1.66127645],\n",
       "       [1.86792978],\n",
       "       [2.32402122]])"
      ]
     },
     "execution_count": 89,
     "metadata": {},
     "output_type": "execute_result"
    }
   ],
   "source": [
    "np.sort(np.var(x_data_generated, axis=0)).reshape(-1,1)"
   ]
  },
  {
   "cell_type": "code",
   "execution_count": 90,
   "metadata": {
    "ExecuteTime": {
     "end_time": "2020-11-19T10:10:17.825065Z",
     "start_time": "2020-11-19T10:10:17.818065Z"
    }
   },
   "outputs": [
    {
     "data": {
      "text/plain": [
       "(100, 19)"
      ]
     },
     "execution_count": 90,
     "metadata": {},
     "output_type": "execute_result"
    }
   ],
   "source": [
    "VarianceThreshold(.7).fit_transform(x_data_generated).shape\n",
    "#una varianza menor de 0'7, se borra la variable. Se hace una limpieza de Features previa\n",
    "\n",
    "#OJO!! Hay que tener en cuenta que para hacer uso de la clase VarianceThreshold, habría que estandatizar(media=0, varienza=1)\n",
    "#Si se escala (valores se encuentran 0 y 1)"
   ]
  },
  {
   "cell_type": "code",
   "execution_count": 91,
   "metadata": {
    "ExecuteTime": {
     "end_time": "2020-11-19T10:10:18.837626Z",
     "start_time": "2020-11-19T10:10:18.833589Z"
    }
   },
   "outputs": [
    {
     "data": {
      "text/plain": [
       "(100, 17)"
      ]
     },
     "execution_count": 91,
     "metadata": {},
     "output_type": "execute_result"
    }
   ],
   "source": [
    "VarianceThreshold(.85).fit_transform(x_data_generated).shape"
   ]
  },
  {
   "cell_type": "code",
   "execution_count": 92,
   "metadata": {
    "ExecuteTime": {
     "end_time": "2020-11-19T10:10:20.212419Z",
     "start_time": "2020-11-19T10:10:20.207432Z"
    }
   },
   "outputs": [
    {
     "data": {
      "text/plain": [
       "(100, 16)"
      ]
     },
     "execution_count": 92,
     "metadata": {},
     "output_type": "execute_result"
    }
   ],
   "source": [
    "VarianceThreshold(.9).fit_transform(x_data_generated).shape"
   ]
  },
  {
   "cell_type": "markdown",
   "metadata": {},
   "source": [
    "#### Basado en estadísticos supervisado"
   ]
  },
  {
   "cell_type": "code",
   "execution_count": 93,
   "metadata": {
    "ExecuteTime": {
     "end_time": "2020-11-19T10:10:22.132032Z",
     "start_time": "2020-11-19T10:10:22.121062Z"
    }
   },
   "outputs": [],
   "source": [
    "from sklearn.feature_selection import SelectKBest, f_classif\n",
    "from sklearn.linear_model import LogisticRegression\n",
    "from sklearn.model_selection import cross_val_score\n",
    "\n",
    "x_data_kbest = SelectKBest(f_classif, k=5).fit_transform(x_data_generated, y_data_generated)\n",
    "x_data_varth = VarianceThreshold(0.9).fit_transform(x_data_generated)"
   ]
  },
  {
   "cell_type": "code",
   "execution_count": 94,
   "metadata": {
    "ExecuteTime": {
     "end_time": "2020-11-19T10:10:24.915747Z",
     "start_time": "2020-11-19T10:10:24.911758Z"
    }
   },
   "outputs": [
    {
     "data": {
      "text/plain": [
       "(100, 5)"
      ]
     },
     "execution_count": 94,
     "metadata": {},
     "output_type": "execute_result"
    }
   ],
   "source": [
    "x_data_kbest.shape"
   ]
  },
  {
   "cell_type": "code",
   "execution_count": 95,
   "metadata": {},
   "outputs": [
    {
     "data": {
      "text/plain": [
       "array([[ 0.53702039, -1.37347385, -1.24686924, -0.05527037, -0.67554222],\n",
       "       [ 0.92557706, -0.0940604 , -0.1282949 , -0.16294343,  0.66027504],\n",
       "       [ 0.65280259,  0.19190806,  0.11734124,  0.64234297,  2.00865119],\n",
       "       [-1.14196419,  0.00490294,  0.63582014, -0.27595246, -1.75992763],\n",
       "       [ 1.40951199,  0.44985846,  0.41226562, -1.49090154, -1.25429286],\n",
       "       [-0.24306131, -0.03092446, -0.02611556,  0.15317707, -1.04397052],\n",
       "       [-1.89382772,  0.73687019, -0.3817328 , -0.57635615,  0.58771493],\n",
       "       [-0.58092723,  0.49186393,  0.30874042, -1.07336883, -2.40209972],\n",
       "       [ 1.43033954,  1.02121709,  0.92984186, -0.20706213,  1.66612506],\n",
       "       [ 1.96862418, -2.25957209, -1.35516382, -0.69512055, -1.36667824],\n",
       "       [ 0.97651271, -2.43525695, -2.1688552 ,  0.69204417,  1.60573869],\n",
       "       [ 0.39376989,  0.01741736,  0.01814004, -0.41835899, -0.11153166],\n",
       "       [-0.56984821, -1.28637439, -0.54208594,  0.99431646,  0.47250277],\n",
       "       [-0.17314564, -1.22012533, -0.46055544,  0.172575  , -0.2799203 ],\n",
       "       [ 0.26040925,  0.68676035,  0.62663788, -1.1910117 ,  0.96320025],\n",
       "       [-0.51146676, -0.53387274, -0.58662337, -0.32346059,  1.11075969],\n",
       "       [-3.12175828, -1.05974496, -0.96114373, -1.54002799,  0.98325729],\n",
       "       [ 0.43671836, -1.22506227, -0.48621217,  0.09807198, -0.39028341],\n",
       "       [ 1.60864377,  0.37578127, -0.49482592,  0.18424217,  0.7808082 ],\n",
       "       [-0.0075346 ,  1.61270065,  1.46825654,  0.21696631, -0.59237454],\n",
       "       [ 0.38959272, -0.20277496, -0.18209292, -2.45784031, -0.32881878],\n",
       "       [ 0.08528221, -0.74355199, -0.69975863, -0.04321444,  0.19487544],\n",
       "       [ 0.92057912,  1.15500903,  0.0939669 ,  0.4055071 , -0.76494492],\n",
       "       [-2.06509063,  0.7948597 ,  0.30612664, -1.42386835,  0.61536008],\n",
       "       [-0.38923372,  0.70338415,  0.43786758, -0.235799  ,  0.16373976],\n",
       "       [-0.80536084,  1.58752744,  0.50112627,  0.86335372,  0.89708612],\n",
       "       [ 0.68057242,  1.27869742,  1.02653501, -0.13517516,  0.06804165],\n",
       "       [ 0.17327407, -1.24531807, -1.1282613 , -0.05945832, -0.40622318],\n",
       "       [-1.10507133, -0.47379762,  0.14179221,  0.63479896, -0.11104336],\n",
       "       [-0.31481889,  0.64760268,  0.28075821,  1.25131702,  0.20118157],\n",
       "       [ 0.15984711, -0.72487193,  0.02250929, -0.47886746, -0.04907471],\n",
       "       [ 0.56415259,  1.33414827,  1.21556818, -0.47779259, -1.24666894],\n",
       "       [-1.25936245, -1.49790166, -1.34110624, -0.42670534, -0.42946323],\n",
       "       [ 1.19602236,  0.89809804,  0.64539644,  1.94357802,  1.68696111],\n",
       "       [ 0.00475071,  0.9268027 ,  0.3412074 ,  0.99488017, -0.07828475],\n",
       "       [-0.09309673, -0.63821342,  0.01057287, -0.14559645,  0.6718605 ],\n",
       "       [-0.82970481, -0.88459009, -0.80268668, -1.09805909,  1.15078635],\n",
       "       [-1.48080239,  0.49098383,  0.44836776, -1.17827239, -0.40941603],\n",
       "       [ 0.56413805,  0.33730412,  0.27921494,  0.5126405 , -1.495081  ],\n",
       "       [-1.45777056,  0.9703996 ,  0.48697563, -0.09971172, -0.50103725],\n",
       "       [ 0.58477193, -1.86308126, -1.66673712,  0.47932247,  1.2312676 ],\n",
       "       [-0.07909767, -0.15494953, -0.25427592, -0.95604024,  0.33818293],\n",
       "       [-1.16610849, -2.1904096 , -1.99121404, -0.09944643, -0.4541407 ],\n",
       "       [ 0.66920303,  0.08552339,  0.08038701,  0.69236842,  0.30565878],\n",
       "       [-0.25973343,  0.94770731,  0.47573946, -0.61134186, -0.61997566],\n",
       "       [ 0.09385008, -0.90556311, -0.82016359, -0.05434147, -1.32105794],\n",
       "       [-0.80235097,  1.31931063,  0.34296148,  0.72987447, -0.17680398],\n",
       "       [ 0.51620619, -2.09536484, -1.31936864,  0.96805833,  0.9351456 ],\n",
       "       [-0.31865095,  1.21728293,  1.11015225, -1.1244158 , -1.39873771],\n",
       "       [ 2.01495671, -1.03634698, -0.90297608,  0.18297328,  0.79928775],\n",
       "       [ 0.37250415, -1.02815675, -0.3743143 , -0.89400617, -1.14671626],\n",
       "       [-0.62179304,  1.72963259,  0.71115893, -1.74224286, -1.56108422],\n",
       "       [ 1.03748521,  0.49554231,  0.3459521 ,  0.77599725,  0.17220262],\n",
       "       [ 0.18169607, -1.43743242, -1.28332578, -0.395282  , -0.18427544],\n",
       "       [ 0.52639913, -1.82783544, -1.01077008, -0.23088957,  0.48887764],\n",
       "       [ 2.34378782, -0.03689165,  0.49186951,  0.81847533, -0.13865708],\n",
       "       [-0.69248947, -0.28934454, -0.33789269,  0.51839975, -0.00627636],\n",
       "       [-0.13638753, -2.76460158, -2.43001346,  1.27227386, -0.75526209],\n",
       "       [-1.10826162,  0.44370501,  0.40461349, -0.28979576, -0.95974811],\n",
       "       [-0.03455603,  1.18551003,  0.58394304, -0.36065688, -0.45817387],\n",
       "       [-1.178627  , -0.80322788, -0.07791186, -0.71779913,  1.00549548],\n",
       "       [-0.73942273, -0.97327617, -0.88356862, -1.1768654 , -0.03745546],\n",
       "       [-0.26088032, -0.04053194,  0.12137112, -1.26554437, -0.74393647],\n",
       "       [ 0.53220213,  0.95346726,  0.8689765 ,  0.27373105,  0.2312518 ],\n",
       "       [ 1.68922063, -0.48607528,  0.08568627, -0.06707051,  0.376965  ],\n",
       "       [ 1.52597271,  1.28632824, -0.16027834, -0.92662876,  0.07256655],\n",
       "       [-0.29387776, -0.31275934,  0.26440486, -0.3478498 ,  1.15938417],\n",
       "       [ 0.24508949, -0.84063859, -0.21074483,  0.80964852,  1.42655642],\n",
       "       [ 0.9246106 ,  0.6812296 ,  0.62341115, -0.9400675 ,  0.72866823],\n",
       "       [ 0.88229141,  1.34971312,  0.45085747, -1.02977288,  1.11147149],\n",
       "       [-0.09688633, -0.74455197, -0.67376856, -0.27476985, -0.92821986],\n",
       "       [ 0.15562233, -2.03539921, -1.72789211, -1.0593389 ,  0.79449859],\n",
       "       [-0.73567427, -2.25308871, -1.92753032,  0.85136295, -0.24096653],\n",
       "       [ 0.56810624, -0.39988282,  0.38890498,  0.53464239,  1.05271915],\n",
       "       [-3.34458112,  2.75804301,  2.50956165, -1.35053153, -0.79083477],\n",
       "       [ 0.87308942, -4.30962966, -3.71618941, -0.07623477,  0.27050734],\n",
       "       [-0.58475046,  0.54099318,  0.49317963, -1.09647078,  0.07352657],\n",
       "       [ 1.35813278, -0.79010383, -0.67679459,  0.34375053,  0.70107242],\n",
       "       [-0.2602878 ,  0.24576962,  0.29921743, -0.40569982,  0.01817521],\n",
       "       [-0.50453968, -4.0441137 , -3.48445211, -0.60765772,  0.21129732],\n",
       "       [ 0.94834848,  0.02453265,  0.47862178,  1.56808174,  0.71432099],\n",
       "       [-1.06052082, -0.21726614,  0.38785976, -0.13298683, -0.63379925],\n",
       "       [ 0.90278815, -0.96273719, -0.90079493, -0.12982249, -1.9010569 ],\n",
       "       [-1.1384725 ,  0.53963132,  0.98535664,  0.64820413, -0.99913702],\n",
       "       [-0.76004777,  2.06495718,  1.88000972, -0.47273459,  1.09421566],\n",
       "       [ 1.31625552,  1.56316446,  0.79368137, -0.62018986, -1.19313721],\n",
       "       [-0.50537653,  1.57929791,  0.0321857 ,  0.19291489, -0.88100526],\n",
       "       [ 0.53254666, -0.92895877, -0.18191729, -0.54735959,  0.89661983],\n",
       "       [ 0.55466717, -1.19957007, -0.42426323,  1.08275889,  0.19405654],\n",
       "       [ 0.43171079,  2.04759433,  1.86446995,  1.16344223,  0.61341319],\n",
       "       [ 1.62020267,  1.09510967,  0.99758892,  0.11974036,  0.72549101],\n",
       "       [-0.16099795,  0.32086706,  0.10596359,  1.28107694, -1.88530475],\n",
       "       [-0.22579018,  0.0528594 ,  0.60908576,  0.70466261, -0.87780608],\n",
       "       [ 0.11229796, -0.81201027, -0.49012177,  0.85153481,  1.36840931],\n",
       "       [ 0.53982991, -1.24054331, -1.08021935,  0.62897379, -0.38910095],\n",
       "       [-0.21168869,  0.08001111, -0.14313325, -1.29977315,  0.09155183],\n",
       "       [ 0.81121455, -0.99274403, -0.30761653,  0.31598943,  0.5205887 ],\n",
       "       [ 2.02953716, -0.9472032 , -0.23289771,  0.98754314, -0.57882871],\n",
       "       [-1.65970917, -2.32499148, -2.01644588,  1.48970638,  0.37687192],\n",
       "       [ 0.35282125,  0.95718553,  0.23508184, -0.20803923,  0.11843149]])"
      ]
     },
     "execution_count": 95,
     "metadata": {},
     "output_type": "execute_result"
    }
   ],
   "source": [
    "x_data_kbest"
   ]
  },
  {
   "cell_type": "code",
   "execution_count": 96,
   "metadata": {},
   "outputs": [
    {
     "data": {
      "text/plain": [
       "array([ 0.53702039, -1.37347385, -1.24686924, -0.05527037, -0.67554222])"
      ]
     },
     "execution_count": 96,
     "metadata": {},
     "output_type": "execute_result"
    }
   ],
   "source": [
    "x_data_kbest[0,:]"
   ]
  },
  {
   "cell_type": "code",
   "execution_count": 97,
   "metadata": {},
   "outputs": [
    {
     "data": {
      "text/plain": [
       "(100, 5)"
      ]
     },
     "execution_count": 97,
     "metadata": {},
     "output_type": "execute_result"
    }
   ],
   "source": [
    "\"\"\"\n",
    "\n",
    "# Create and fit selector\n",
    "selector = SelectKBest(f_classif, k=5)\n",
    "selector.fit(features_df, target)\n",
    "cols = selector.get_support(indices= True)\n",
    "features_df_new = features_df.iloc[:,cols]\n",
    "\n",
    "\"\"\"\n",
    "selector = SelectKBest(f_classif, k=5).fit(x_data_generated, y_data_generated)\n",
    "cols = selector.get_support(indices=True)\n",
    "features_new = x_data_generated[:,cols]\n",
    "features_new.shape"
   ]
  },
  {
   "cell_type": "code",
   "execution_count": 98,
   "metadata": {
    "ExecuteTime": {
     "end_time": "2020-11-19T10:10:25.414124Z",
     "start_time": "2020-11-19T10:10:25.386181Z"
    }
   },
   "outputs": [],
   "source": [
    "logit = LogisticRegression(solver= 'lbfgs', random_state= 17)"
   ]
  },
  {
   "cell_type": "raw",
   "metadata": {},
   "source": [
    "cross_val_score(logit, x_data_generated, y_data_generated,\n",
    "                scoring= 'neg_log_loss', cv=5).mean()"
   ]
  },
  {
   "cell_type": "code",
   "execution_count": null,
   "metadata": {},
   "outputs": [],
   "source": [
    "\"\"\"\n",
    "#Es lo mismo que 'LeaveOneOut' realizar cross_validation con to todas los registros\n",
    "#https://scikit-learn.org/stable/modules/generated/sklearn.model_selection.LeaveOneOut.html#sklearn-model-selection-leaveoneout\n",
    "cross_val_score(logit, x_data_generated, y_data_generated,\n",
    "                scoring= 'neg_log_loss', cv=x_data_generated.shape[0]) \n",
    "\n",
    "\"\"\"\n"
   ]
  },
  {
   "cell_type": "code",
   "execution_count": null,
   "metadata": {},
   "outputs": [],
   "source": [
    "#'Estratificado' en CrossValidation, buscas que las muestras cojan la misma proporcion de cada clase.\n",
    "#Esto se hace cuando las clases no están balanceadas\n",
    "#https://stats.stackexchange.com/questions/49540/understanding-stratified-cross-validation#:~:text=In%20stratified%20k%2Dfold%20cross,two%20types%20of%20class%20labels."
   ]
  },
  {
   "cell_type": "code",
   "execution_count": 8,
   "metadata": {
    "ExecuteTime": {
     "end_time": "2020-11-19T10:10:25.923503Z",
     "start_time": "2020-11-19T10:10:25.907511Z"
    }
   },
   "outputs": [
    {
     "data": {
      "text/plain": [
       "-0.2354724366379378"
      ]
     },
     "execution_count": 8,
     "metadata": {},
     "output_type": "execute_result"
    }
   ],
   "source": [
    "cross_val"
   ]
  },
  {
   "cell_type": "raw",
   "metadata": {
    "ExecuteTime": {
     "end_time": "2020-11-19T10:10:26.516993Z",
     "start_time": "2020-11-19T10:10:26.500038Z"
    }
   },
   "source": []
  },
  {
   "cell_type": "markdown",
   "metadata": {},
   "source": [
    "We can see that our selected features have improved the quality of the classifier. Of course, this example is purely artificial; however, it is worth using for real problems."
   ]
  },
  {
   "cell_type": "markdown",
   "metadata": {},
   "source": [
    "### Selection by modeling\n",
    "\n",
    "Another approach is to use some baseline model for feature evaluation because the model will clearly show the importance of the features. Two types of models are usually used: some “wooden” composition such as [Random Forest](https://medium.com/open-machine-learning-course/open-machine-learning-course-topic-5-ensembles-of-algorithms-and-random-forest-8e05246cbba7) or a linear model with Lasso regularization so that it is prone to nullify weights of weak features. The logic is intuitive: if features are clearly useless in a simple model, there is no need to drag them to a more complex one."
   ]
  },
  {
   "cell_type": "markdown",
   "metadata": {},
   "source": [
    "#### Supervisado intrinseco"
   ]
  },
  {
   "cell_type": "code",
   "execution_count": 10,
   "metadata": {
    "ExecuteTime": {
     "end_time": "2020-11-19T10:10:29.773202Z",
     "start_time": "2020-11-19T10:10:29.554472Z"
    }
   },
   "outputs": [
    {
     "name": "stdout",
     "output_type": "stream",
     "text": [
      "-0.2329015650554319\n",
      "-0.3999600923903845\n",
      "-0.18558386305530505\n"
     ]
    }
   ],
   "source": [
    "# Synthetic example\n",
    "\n",
    "from sklearn.datasets import make_classification\n",
    "from sklearn.ensemble import RandomForestClassifier\n",
    "from sklearn.feature_selection import SelectFromModel\n",
    "from sklearn.model_selection import cross_val_score\n",
    "from sklearn.pipeline import make_pipeline\n",
    "\n",
    "x_data_generated, y_data_generated = make_classification()\n",
    "\n",
    "rf = RandomForestClassifier(n_estimators=10, random_state=17)\n",
    "pipe = make_pipeline(SelectFromModel(estimator=rf), logit)\n",
    "\n",
    "print(cross_val_score(logit, x_data_generated, y_data_generated, \n",
    "                      scoring='neg_log_loss', cv=5).mean())\n",
    "print(cross_val_score(rf, x_data_generated, y_data_generated, \n",
    "                      scoring='neg_log_loss', cv=5).mean())\n",
    "print(cross_val_score(pipe, x_data_generated, y_data_generated, \n",
    "                      scoring='neg_log_loss', cv=5).mean())"
   ]
  },
  {
   "cell_type": "markdown",
   "metadata": {},
   "source": [
    "We must not forget that this is not a silver bullet again - it can make the performance worse."
   ]
  },
  {
   "cell_type": "code",
   "execution_count": 12,
   "metadata": {
    "ExecuteTime": {
     "end_time": "2020-11-19T10:12:40.084628Z",
     "start_time": "2020-11-19T10:12:39.986914Z"
    }
   },
   "outputs": [
    {
     "name": "stdout",
     "output_type": "stream",
     "text": [
      "LR + selection:  -0.20057501266960345\n",
      "LR:  -0.2518124869545427\n",
      "RF:  -0.3999600923903845\n"
     ]
    }
   ],
   "source": [
    "from sklearn.preprocessing import StandardScaler\n",
    "\n",
    "#x_data, y_data = get_data() \n",
    "x_data = x_data_generated\n",
    "y_data = y_data_generated\n",
    "\n",
    "pipe1 = make_pipeline(StandardScaler(), \n",
    "                      SelectFromModel(estimator=rf), logit)\n",
    "\n",
    "pipe2 = make_pipeline(StandardScaler(), logit)\n",
    "\n",
    "print('LR + selection: ', cross_val_score(pipe1, x_data, y_data, \n",
    "                                          scoring='neg_log_loss', cv=5).mean())\n",
    "print('LR: ', cross_val_score(pipe2, x_data, y_data, \n",
    "                              scoring='neg_log_loss', cv=5).mean())\n",
    "print('RF: ', cross_val_score(rf, x_data, y_data, \n",
    "                              scoring='neg_log_loss', cv=5).mean())"
   ]
  },
  {
   "cell_type": "markdown",
   "metadata": {},
   "source": [
    "#### Supervisado wrapper"
   ]
  },
  {
   "cell_type": "code",
   "execution_count": 15,
   "metadata": {
    "ExecuteTime": {
     "end_time": "2020-11-19T10:36:46.595134Z",
     "start_time": "2020-11-19T10:36:36.919545Z"
    }
   },
   "outputs": [
    {
     "data": {
      "image/png": "[encoded data removed]",
      "text/plain": [
       "<Figure size 288x288 with 2 Axes>"
      ]
     },
     "metadata": {
      "needs_background": "light"
     },
     "output_type": "display_data"
    }
   ],
   "source": [
    "from sklearn.svm import SVC\n",
    "from sklearn.datasets import load_digits\n",
    "from sklearn.feature_selection import RFE\n",
    "import matplotlib.pyplot as plt\n",
    "\n",
    "# Load the digits dataset\n",
    "digits = load_digits()\n",
    "X = digits.images.reshape((len(digits.images), -1))\n",
    "y = digits.target\n",
    "\n",
    "# Create the RFE object and rank each pixel\n",
    "svc = SVC(kernel=\"linear\", C=1)\n",
    "rfe = RFE(estimator=svc, n_features_to_select=1, step=1)\n",
    "rfe.fit(X, y)\n",
    "ranking = rfe.ranking_.reshape(digits.images[0].shape)\n",
    "\n",
    "# Plot pixel ranking\n",
    "plt.matshow(ranking, cmap=plt.cm.Blues)\n",
    "plt.colorbar()\n",
    "plt.title(\"Ranking of pixels with RFE\")\n",
    "plt.show()"
   ]
  },
  {
   "cell_type": "code",
   "execution_count": 20,
   "metadata": {
    "ExecuteTime": {
     "end_time": "2020-11-19T10:42:05.336475Z",
     "start_time": "2020-11-19T10:41:59.409990Z"
    }
   },
   "outputs": [
    {
     "data": {
      "text/plain": [
       "array([[ 9., 11., 12., ...,  7., 12.,  6.],\n",
       "       [13.,  6., 15., ...,  0.,  6.,  0.],\n",
       "       [15., 16.,  1., ...,  0., 11.,  0.],\n",
       "       ...,\n",
       "       [15., 16.,  8., ...,  0., 16.,  2.],\n",
       "       [ 7., 16., 16., ...,  2., 16.,  5.],\n",
       "       [ 8., 15.,  5., ...,  6., 16.,  8.]])"
      ]
     },
     "execution_count": 20,
     "metadata": {},
     "output_type": "execute_result"
    }
   ],
   "source": [
    "svc = SVC(kernel=\"linear\", C=1)\n",
    "rfe = RFE(estimator=svc, n_features_to_select=10, step=1)\n",
    "rfe.fit_transform(X, y)"
   ]
  }
 ],
 "metadata": {
  "kernelspec": {
   "display_name": "Python 3",
   "language": "python",
   "name": "python3"
  },
  "language_info": {
   "codemirror_mode": {
    "name": "ipython",
    "version": 3
   },
   "file_extension": ".py",
   "mimetype": "text/x-python",
   "name": "python",
   "nbconvert_exporter": "python",
   "pygments_lexer": "ipython3",
   "version": "3.7.4"
  },
  "nbTranslate": {
   "displayLangs": [
    "*"
   ],
   "hotkey": "alt-t",
   "langInMainMenu": true,
   "sourceLang": "en",
   "targetLang": "fr",
   "useGoogleTranslate": true
  },
  "toc": {
   "nav_menu": {},
   "number_sections": true,
   "sideBar": true,
   "skip_h1_title": false,
   "title_cell": "Table of Contents",
   "title_sidebar": "Contents",
   "toc_cell": false,
   "toc_position": {},
   "toc_section_display": true,
   "toc_window_display": false
  },
  "varInspector": {
   "cols": {
    "lenName": 16,
    "lenType": 16,
    "lenVar": 40
   },
   "kernels_config": {
    "python": {
     "delete_cmd_postfix": "",
     "delete_cmd_prefix": "del ",
     "library": "var_list.py",
     "varRefreshCmd": "print(var_dic_list())"
    },
    "r": {
     "delete_cmd_postfix": ") ",
     "delete_cmd_prefix": "rm(",
     "library": "var_list.r",
     "varRefreshCmd": "cat(var_dic_list()) "
    }
   },
   "types_to_exclude": [
    "module",
    "function",
    "builtin_function_or_method",
    "instance",
    "_Feature"
   ],
   "window_display": false
  }
 },
 "nbformat": 4,
 "nbformat_minor": 2
}
