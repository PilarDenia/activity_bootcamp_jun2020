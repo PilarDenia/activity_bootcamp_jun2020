{
 "cells": [
  {
   "cell_type": "markdown",
   "metadata": {},
   "source": [
    "## Feature selection\n",
    "\n",
    "Why would it even be necessary to select features? To some, this idea may seem counterintuitive, but there are at least two important reasons to get rid of unimportant features. The first is clear to every engineer: the more data, the higher the computational complexity. As long as we work with toy datasets, the size of the data is not a problem, but, for real loaded production systems, hundreds of extra features will be quite tangible. The second reason is that some algorithms take noise (non-informative features) as a signal and overfit.\n",
    "\n",
    "### Statistical approaches\n",
    "\n",
    "The most obvious candidate for removal is a feature whose value remains unchanged, i.e., it contains no information at all. If we build on this thought, it is reasonable to say that features with low variance are worse than those with high variance. So, one can consider cutting features with variance below a certain threshold."
   ]
  },
  {
   "cell_type": "markdown",
   "metadata": {},
   "source": [
    "#### Basado en estadísticos no supervisado"
   ]
  },
  {
   "cell_type": "code",
   "execution_count": 1,
   "metadata": {},
   "outputs": [],
   "source": [
    "import numpy as np\n",
    "from sklearn.feature_selection import VarianceThreshold\n",
    "from sklearn.datasets import make_classification #'make_classification' es un método para generar data_set_ficticio"
   ]
  },
  {
   "cell_type": "code",
   "execution_count": 2,
   "metadata": {
    "ExecuteTime": {
     "end_time": "2020-11-19T10:10:17.058096Z",
     "start_time": "2020-11-19T10:10:13.843481Z"
    }
   },
   "outputs": [
    {
     "output_type": "execute_result",
     "data": {
      "text/plain": [
       "(100, 20)"
      ]
     },
     "metadata": {},
     "execution_count": 2
    }
   ],
   "source": [
    "x_data_generated, y_data_generated = make_classification()\n",
    "x_data_generated.shape"
   ]
  },
  {
   "cell_type": "code",
   "execution_count": 3,
   "metadata": {
    "scrolled": true
   },
   "outputs": [
    {
     "output_type": "execute_result",
     "data": {
      "text/plain": [
       "array([1.42849746, 0.94489482, 1.0477005 , 0.79393126, 0.89324352,\n",
       "       1.13581547, 1.02213154, 1.01600963, 1.00081742, 1.54055472,\n",
       "       1.23233809, 0.87762711, 1.13837139, 1.01645423, 0.42312016,\n",
       "       1.07453141, 0.98610704, 0.82601013, 1.15709032, 1.00643506])"
      ]
     },
     "metadata": {},
     "execution_count": 3
    }
   ],
   "source": [
    "np.var(x_data_generated, axis=0)"
   ]
  },
  {
   "cell_type": "code",
   "execution_count": 4,
   "metadata": {},
   "outputs": [
    {
     "output_type": "execute_result",
     "data": {
      "text/plain": [
       "(20,)"
      ]
     },
     "metadata": {},
     "execution_count": 4
    }
   ],
   "source": [
    "np.var(x_data_generated, axis=0).shape"
   ]
  },
  {
   "cell_type": "code",
   "execution_count": 5,
   "metadata": {},
   "outputs": [
    {
     "output_type": "execute_result",
     "data": {
      "text/plain": [
       "array([[0.42312016],\n",
       "       [0.79393126],\n",
       "       [0.82601013],\n",
       "       [0.87762711],\n",
       "       [0.89324352],\n",
       "       [0.94489482],\n",
       "       [0.98610704],\n",
       "       [1.00081742],\n",
       "       [1.00643506],\n",
       "       [1.01600963],\n",
       "       [1.01645423],\n",
       "       [1.02213154],\n",
       "       [1.0477005 ],\n",
       "       [1.07453141],\n",
       "       [1.13581547],\n",
       "       [1.13837139],\n",
       "       [1.15709032],\n",
       "       [1.23233809],\n",
       "       [1.42849746],\n",
       "       [1.54055472]])"
      ]
     },
     "metadata": {},
     "execution_count": 5
    }
   ],
   "source": [
    "np.sort(np.var(x_data_generated, axis=0)).reshape(-1,1)"
   ]
  },
  {
   "cell_type": "code",
   "execution_count": 6,
   "metadata": {
    "ExecuteTime": {
     "end_time": "2020-11-19T10:10:17.825065Z",
     "start_time": "2020-11-19T10:10:17.818065Z"
    }
   },
   "outputs": [
    {
     "output_type": "execute_result",
     "data": {
      "text/plain": [
       "(100, 19)"
      ]
     },
     "metadata": {},
     "execution_count": 6
    }
   ],
   "source": [
    "VarianceThreshold(.7).fit_transform(x_data_generated).shape\n",
    "#una varianza menor de 0'7, se borra la variable. Se hace una limpieza de Features previa\n",
    "\n",
    "#OJO!! Hay que tener en cuenta que para hacer uso de la clase VarianceThreshold, habría que estandatizar(media=0, varienza=1)\n",
    "#Si se escala (valores se encuentran 0 y 1)"
   ]
  },
  {
   "cell_type": "code",
   "execution_count": 7,
   "metadata": {
    "ExecuteTime": {
     "end_time": "2020-11-19T10:10:18.837626Z",
     "start_time": "2020-11-19T10:10:18.833589Z"
    }
   },
   "outputs": [
    {
     "output_type": "execute_result",
     "data": {
      "text/plain": [
       "(100, 17)"
      ]
     },
     "metadata": {},
     "execution_count": 7
    }
   ],
   "source": [
    "VarianceThreshold(.85).fit_transform(x_data_generated).shape"
   ]
  },
  {
   "cell_type": "code",
   "execution_count": 8,
   "metadata": {
    "ExecuteTime": {
     "end_time": "2020-11-19T10:10:20.212419Z",
     "start_time": "2020-11-19T10:10:20.207432Z"
    }
   },
   "outputs": [
    {
     "output_type": "execute_result",
     "data": {
      "text/plain": [
       "(100, 15)"
      ]
     },
     "metadata": {},
     "execution_count": 8
    }
   ],
   "source": [
    "VarianceThreshold(.9).fit_transform(x_data_generated).shape"
   ]
  },
  {
   "cell_type": "markdown",
   "metadata": {},
   "source": [
    "#### Basado en estadísticos supervisado"
   ]
  },
  {
   "cell_type": "code",
   "execution_count": 9,
   "metadata": {
    "ExecuteTime": {
     "end_time": "2020-11-19T10:10:22.132032Z",
     "start_time": "2020-11-19T10:10:22.121062Z"
    }
   },
   "outputs": [],
   "source": [
    "from sklearn.feature_selection import SelectKBest, f_classif\n",
    "from sklearn.linear_model import LogisticRegression\n",
    "from sklearn.model_selection import cross_val_score\n",
    "\n",
    "x_data_kbest = SelectKBest(f_classif, k=5).fit_transform(x_data_generated, y_data_generated)\n",
    "x_data_varth = VarianceThreshold(0.9).fit_transform(x_data_generated)"
   ]
  },
  {
   "cell_type": "code",
   "execution_count": 10,
   "metadata": {
    "ExecuteTime": {
     "end_time": "2020-11-19T10:10:24.915747Z",
     "start_time": "2020-11-19T10:10:24.911758Z"
    }
   },
   "outputs": [
    {
     "output_type": "execute_result",
     "data": {
      "text/plain": [
       "(100, 5)"
      ]
     },
     "metadata": {},
     "execution_count": 10
    }
   ],
   "source": [
    "x_data_kbest.shape"
   ]
  },
  {
   "cell_type": "code",
   "execution_count": 11,
   "metadata": {},
   "outputs": [
    {
     "output_type": "execute_result",
     "data": {
      "text/plain": [
       "array([[ 0.70378302, -1.39937722, -0.88526277, -0.88821684,  0.56129588],\n",
       "       [ 1.87154696, -1.01616393, -0.5839899 ,  0.07639845,  0.61192017],\n",
       "       [ 0.09592054, -0.98474312, -0.5606487 ,  0.95381882,  0.61134507],\n",
       "       [ 0.49667996, -2.45438559, -1.23174534,  0.24291777,  2.09880346],\n",
       "       [ 1.32031528, -0.05211482,  0.04868764,  0.32475261,  0.30443283],\n",
       "       [-1.76320384,  2.44829644,  1.28923466,  0.46666773, -1.88336922],\n",
       "       [-1.87392421, -0.73340461, -0.36083784, -0.45644395,  0.65223803],\n",
       "       [-0.64443184,  2.92869813,  1.43797758, -0.38432912, -2.6148298 ],\n",
       "       [-1.58949085,  0.59878161,  0.37356932, -0.30623931, -0.25832342],\n",
       "       [ 1.32670639, -0.85463952, -0.45612181,  0.5523502 ,  0.63631934],\n",
       "       [-0.25618015, -0.43159565, -0.28975551,  1.06916877,  0.11504876],\n",
       "       [-0.60811652,  0.4974213 ,  0.31791054, -1.94438623, -0.18828197],\n",
       "       [ 0.91524602, -0.60895282, -0.25111087, -1.27819478,  0.70994982],\n",
       "       [-2.0644846 ,  0.6571867 ,  0.43307652,  0.16595263, -0.20341822],\n",
       "       [-0.7494189 ,  0.03486647, -0.04922094,  1.03226125, -0.26147885],\n",
       "       [-0.58977992, -1.31853523, -0.66898419,  0.27290591,  1.10226463],\n",
       "       [ 0.45606558, -1.9862499 , -1.00128594, -0.94394193,  1.68294508],\n",
       "       [-2.53633927, -1.98785441, -0.99434054,  0.31130994,  1.7112292 ],\n",
       "       [-0.28596056, -0.71036904, -0.39847526,  0.98426669,  0.46171287],\n",
       "       [-1.89260488,  1.57553768,  0.74290758,  2.14474115, -1.51319597],\n",
       "       [ 0.37556455,  0.52808343,  0.25006278,  0.6677703 , -0.50351603],\n",
       "       [-1.82820529,  1.39868284,  0.77238244, -1.75442231, -0.95143942],\n",
       "       [ 1.19333386,  1.06341232,  0.61174476, -0.73013484, -0.63828503],\n",
       "       [-1.52962351, -2.56688014, -1.28548377,  1.86052799,  2.20443604],\n",
       "       [ 0.20441846,  0.84042307,  0.49698266, -0.26368715, -0.45751093],\n",
       "       [-0.15402233,  0.4667798 ,  0.28340724, -0.9004809 , -0.22848869],\n",
       "       [-1.09158072, -0.16761069, -0.03862766,  0.02095172,  0.30127505],\n",
       "       [-1.84687089,  1.6586308 ,  0.8431076 , -1.3933273 , -1.38112728],\n",
       "       [-0.52052438, -1.00533325, -0.57619807,  0.439143  ,  0.6108406 ],\n",
       "       [-1.36810469,  0.89455846,  0.51397948,  0.37102184, -0.5391205 ],\n",
       "       [-0.7504076 ,  0.02817767, -0.01747022, -1.87743379, -0.13385743],\n",
       "       [-0.84066741,  2.26628373,  1.0588024 ,  1.09336528, -2.21067341],\n",
       "       [-0.99442978,  1.18179799,  0.61714801, -1.62071434, -0.92705214],\n",
       "       [-1.56939294, -0.94291067, -0.52789315, -0.9933846 ,  0.61641267],\n",
       "       [-0.5128707 ,  0.4069851 ,  0.2753417 , -1.69292367, -0.10116652],\n",
       "       [-0.61692191, -1.61804916, -0.77458288,  0.27922955,  1.51364313],\n",
       "       [ 1.27619679, -0.74167968, -0.36852606, -1.84187622,  0.64703871],\n",
       "       [ 1.43958743, -0.49654638, -0.18974087, -1.02344567,  0.63104476],\n",
       "       [ 0.72033179, -2.6317508 , -1.34804041, -0.18077204,  2.15573797],\n",
       "       [ 1.30900348,  1.4301894 ,  0.78337212,  0.13061748, -0.99512468],\n",
       "       [ 0.12033538, -1.364446  , -0.6730523 , -1.15736897,  1.20740083],\n",
       "       [ 0.12602541,  0.63878326,  0.46514376,  0.29607645, -0.04426683],\n",
       "       [ 1.26995407, -1.42173787, -0.74582644,  0.5558126 ,  1.10353785],\n",
       "       [ 0.08996464,  0.28214642,  0.19861494,  1.45525509, -0.04328872],\n",
       "       [-0.055098  , -1.36479019, -0.86030036, -2.02351399,  0.55812516],\n",
       "       [ 0.56075626, -0.33250902, -0.11315786,  0.07351574,  0.47084208],\n",
       "       [ 0.63425253, -0.73228413, -0.24498984,  0.36433137,  1.05157916],\n",
       "       [-0.17682378,  0.07968336,  0.11721362, -0.37504615,  0.20000143],\n",
       "       [ 0.12023341,  0.47447605,  0.21420284,  1.33014215, -0.48877524],\n",
       "       [-1.10174572,  2.25418749,  1.03772361, -0.75141472, -2.25244178],\n",
       "       [-1.89196029,  1.22119353,  0.68638011, -1.29070739, -0.78899897],\n",
       "       [-0.616271  , -1.03327808, -0.59799775,  0.68800975,  0.60773875],\n",
       "       [-0.54392501, -0.24116046, -0.04045198, -0.33181943,  0.48599959],\n",
       "       [-0.73750863, -0.42010444, -0.13935492, -0.44112491,  0.60742483],\n",
       "       [ 0.44035253, -1.02933097, -0.59535809,  0.1414105 ,  0.60665092],\n",
       "       [ 0.73677629,  0.99444636,  0.48697989,  1.51048704, -0.8923466 ],\n",
       "       [ 0.92411031,  0.19516645,  0.17319057,  0.2773912 ,  0.09437822],\n",
       "       [ 0.10372661,  2.74760155,  1.44769283, -1.43534964, -2.11066462],\n",
       "       [-0.7538427 , -1.18221242, -0.71731922, -0.13839976,  0.58031045],\n",
       "       [-0.52110574,  0.30113847,  0.11034575, -0.18292933, -0.39911563],\n",
       "       [ 0.41128041, -0.69164603, -0.36679448,  0.05486599,  0.52307962],\n",
       "       [ 0.16989813, -0.10210302, -0.01942904,  0.71998324,  0.19776906],\n",
       "       [ 0.03490998, -1.02398094, -0.59184623, -1.22675717,  0.60494724],\n",
       "       [ 1.0826176 , -1.08942148, -0.64363915, -0.54403857,  0.59510369],\n",
       "       [ 0.13689915, -1.11388302, -0.52781922,  2.65323073,  1.06080137],\n",
       "       [-1.19065337,  2.07604013,  1.10308675, -0.97853558, -1.56271505],\n",
       "       [ 0.0317551 , -1.31184302, -0.81822782, -0.30822389,  0.56667105],\n",
       "       [ 0.97175935, -1.15265552, -0.56321909, -0.32080139,  1.03860326],\n",
       "       [ 0.54011727, -1.42381591, -0.70095334,  0.44421814,  1.26474598],\n",
       "       [-0.70791313, -0.08107112,  0.03441917,  2.33852375,  0.33010863],\n",
       "       [ 1.81374338, -0.89126207, -0.48533119,  1.09304926,  0.63003121],\n",
       "       [-0.83415554,  0.81650234,  0.37297832, -0.45529402, -0.82594498],\n",
       "       [-0.15261358, -0.71958638, -0.34861107, -0.82120735,  0.65879691],\n",
       "       [-0.74585603,  1.66363528,  0.89834425,  0.60639584, -1.20233258],\n",
       "       [-0.78655971, -1.22257088, -0.57061683, -1.39181329,  1.1945345 ],\n",
       "       [ 1.80159153,  0.25183092,  0.11191059, -0.82749177, -0.26559678],\n",
       "       [ 0.19688632, -0.82745192, -0.43298868,  0.7936024 ,  0.64601831],\n",
       "       [-0.49318109, -1.22149116, -0.74838918,  2.76324604,  0.57446189],\n",
       "       [ 1.90165315, -0.96379823, -0.54215301,  0.13154797,  0.6211583 ],\n",
       "       [-0.65752361, -0.68487843, -0.28189742, -0.69772302,  0.8002823 ],\n",
       "       [-0.0219846 , -1.04646007, -0.60928341,  1.95725091,  0.60279489],\n",
       "       [ 0.48161954, -1.59160408, -0.76157369, -0.07359053,  1.49011822],\n",
       "       [ 0.96735114, -0.80919029, -0.41948524,  0.66872407,  0.6454675 ],\n",
       "       [ 1.23474266,  1.33368846,  0.5909537 ,  0.42740848, -1.41256831],\n",
       "       [-0.63835632,  1.57832322,  0.78204789, -0.14942479, -1.38452747],\n",
       "       [ 1.50793839,  0.30806141,  0.22730966,  1.18648716, -0.01097276],\n",
       "       [-1.49398195,  0.53345609,  0.25964983,  0.03108657, -0.48418395],\n",
       "       [-0.33606743,  0.43498627,  0.21465884, -1.28891467, -0.38460999],\n",
       "       [ 1.00212031, -1.9381429 , -1.00086915, -0.02003407,  1.55942555],\n",
       "       [-0.61033789, -1.06253277, -0.62408494,  0.10988376,  0.59315221],\n",
       "       [-0.59687389,  0.98074739,  0.56470675, -0.68150185, -0.58687493],\n",
       "       [ 0.47706842, -1.44951056, -0.92770014,  0.17566268,  0.54417375],\n",
       "       [ 0.30943619, -1.42016409, -0.71317966,  0.30316534,  1.21280702],\n",
       "       [-0.07480129,  1.29999625,  0.60039666, -1.98492055, -1.29225842],\n",
       "       [ 0.54185068, -0.9807512 , -0.55564531,  1.03885814,  0.61834828],\n",
       "       [ 0.31226004,  2.05513344,  1.09099835, -0.76466113, -1.55037992],\n",
       "       [ 0.62995013,  1.77745338,  0.9601353 ,  1.05958563, -1.28344272],\n",
       "       [-2.44018586, -0.50910902, -0.1810801 , -0.95705469,  0.69375077],\n",
       "       [ 1.66789187,  0.79671102,  0.47194681,  0.35804047, -0.43089129],\n",
       "       [-2.86851755,  0.8476341 ,  0.49202305, -0.76862889, -0.49346387]])"
      ]
     },
     "metadata": {},
     "execution_count": 11
    }
   ],
   "source": [
    "x_data_kbest"
   ]
  },
  {
   "cell_type": "code",
   "execution_count": 12,
   "metadata": {},
   "outputs": [
    {
     "output_type": "execute_result",
     "data": {
      "text/plain": [
       "array([ 0.70378302, -1.39937722, -0.88526277, -0.88821684,  0.56129588])"
      ]
     },
     "metadata": {},
     "execution_count": 12
    }
   ],
   "source": [
    "x_data_kbest[0,:]"
   ]
  },
  {
   "cell_type": "code",
   "execution_count": 13,
   "metadata": {},
   "outputs": [
    {
     "output_type": "execute_result",
     "data": {
      "text/plain": [
       "(100, 5)"
      ]
     },
     "metadata": {},
     "execution_count": 13
    }
   ],
   "source": [
    "\"\"\"\n",
    "\n",
    "# Create and fit selector\n",
    "selector = SelectKBest(f_classif, k=5)\n",
    "selector.fit(features_df, target)\n",
    "cols = selector.get_support(indices= True)\n",
    "features_df_new = features_df.iloc[:,cols]\n",
    "\n",
    "\"\"\"\n",
    "selector = SelectKBest(f_classif, k=5).fit(x_data_generated, y_data_generated)\n",
    "cols = selector.get_support(indices=True)\n",
    "features_new = x_data_generated[:,cols]\n",
    "features_new.shape"
   ]
  },
  {
   "cell_type": "code",
   "execution_count": 14,
   "metadata": {
    "ExecuteTime": {
     "end_time": "2020-11-19T10:10:25.414124Z",
     "start_time": "2020-11-19T10:10:25.386181Z"
    }
   },
   "outputs": [],
   "source": [
    "logit = LogisticRegression(solver= 'lbfgs', random_state= 17)"
   ]
  },
  {
   "cell_type": "raw",
   "metadata": {},
   "source": [
    "neg_log_loss = cross_val_score(logit, x_data_generated, y_data_generated,\n",
    "                scoring= 'neg_log_loss', cv=5).mean()"
   ]
  },
  {
   "cell_type": "code",
   "execution_count": null,
   "metadata": {},
   "outputs": [],
   "source": [
    "cross_val_score()"
   ]
  },
  {
   "cell_type": "code",
   "execution_count": 15,
   "metadata": {},
   "outputs": [
    {
     "output_type": "execute_result",
     "data": {
      "text/plain": [
       "\"\\n#Es lo mismo que 'LeaveOneOut' realizar cross_validation con to todas los registros\\n#https://scikit-learn.org/stable/modules/generated/sklearn.model_selection.LeaveOneOut.html#sklearn-model-selection-leaveoneout\\ncross_val_score(logit, x_data_generated, y_data_generated,\\n                scoring= 'neg_log_loss', cv=x_data_generated.shape[0]) \\n\\n\""
      ]
     },
     "metadata": {},
     "execution_count": 15
    }
   ],
   "source": [
    "\"\"\"\n",
    "#Es lo mismo que 'LeaveOneOut' realizar cross_validation con to todas los registros\n",
    "#https://scikit-learn.org/stable/modules/generated/sklearn.model_selection.LeaveOneOut.html#sklearn-model-selection-leaveoneout\n",
    "cross_val_score(logit, x_data_generated, y_data_generated,\n",
    "                scoring= 'neg_log_loss', cv=x_data_generated.shape[0]) \n",
    "\n",
    "\"\"\"\n"
   ]
  },
  {
   "cell_type": "code",
   "execution_count": 16,
   "metadata": {},
   "outputs": [],
   "source": [
    "#'Estratificado' en CrossValidation, buscas que las muestras cojan la misma proporcion de cada clase.\n",
    "#Esto se hace cuando las clases no están balanceadas\n",
    "#https://stats.stackexchange.com/questions/49540/understanding-stratified-cross-validation#:~:text=In%20stratified%20k%2Dfold%20cross,two%20types%20of%20class%20labels."
   ]
  },
  {
   "cell_type": "raw",
   "metadata": {
    "ExecuteTime": {
     "end_time": "2020-11-19T10:10:26.516993Z",
     "start_time": "2020-11-19T10:10:26.500038Z"
    }
   },
   "source": []
  },
  {
   "cell_type": "markdown",
   "metadata": {},
   "source": [
    "We can see that our selected features have improved the quality of the classifier. Of course, this example is purely artificial; however, it is worth using for real problems."
   ]
  },
  {
   "cell_type": "markdown",
   "metadata": {},
   "source": [
    "### Selection by modeling\n",
    "\n",
    "Another approach is to use some baseline model for feature evaluation because the model will clearly show the importance of the features. Two types of models are usually used: some “wooden” composition such as [Random Forest](https://medium.com/open-machine-learning-course/open-machine-learning-course-topic-5-ensembles-of-algorithms-and-random-forest-8e05246cbba7) or a linear model with Lasso regularization so that it is prone to nullify weights of weak features. The logic is intuitive: if features are clearly useless in a simple model, there is no need to drag them to a more complex one."
   ]
  },
  {
   "cell_type": "markdown",
   "metadata": {},
   "source": [
    "#### Supervisado intrinseco"
   ]
  },
  {
   "cell_type": "code",
   "execution_count": 17,
   "metadata": {
    "ExecuteTime": {
     "end_time": "2020-11-19T10:10:29.773202Z",
     "start_time": "2020-11-19T10:10:29.554472Z"
    }
   },
   "outputs": [
    {
     "output_type": "stream",
     "name": "stdout",
     "text": [
      "-0.49541727863468343\n-0.6435593115768066\n-0.37440738608407287\n"
     ]
    }
   ],
   "source": [
    "# Synthetic example\n",
    "\n",
    "from sklearn.datasets import make_classification\n",
    "from sklearn.ensemble import RandomForestClassifier\n",
    "from sklearn.feature_selection import SelectFromModel\n",
    "from sklearn.model_selection import cross_val_score\n",
    "from sklearn.pipeline import make_pipeline\n",
    "\n",
    "x_data_generated, y_data_generated = make_classification()\n",
    "\n",
    "rf = RandomForestClassifier(n_estimators=10, random_state=17)\n",
    "pipe = make_pipeline(SelectFromModel(estimator=rf), logit) \n",
    "#SelectFromModel == te apoyarse la importantes de las features que genera 'randomForest' y las aplicas a la regresión  logistica\n",
    "\n",
    "print(cross_val_score(logit, x_data_generated, y_data_generated, \n",
    "                      scoring='neg_log_loss', cv=5).mean())\n",
    "print(cross_val_score(rf, x_data_generated, y_data_generated, \n",
    "                      scoring='neg_log_loss', cv=5).mean())\n",
    "print(cross_val_score(pipe, x_data_generated, y_data_generated, \n",
    "                      scoring='neg_log_loss', cv=5).mean())"
   ]
  },
  {
   "cell_type": "markdown",
   "metadata": {},
   "source": [
    "We must not forget that this is not a silver bullet again - it can make the performance worse."
   ]
  },
  {
   "cell_type": "code",
   "execution_count": 18,
   "metadata": {
    "ExecuteTime": {
     "end_time": "2020-11-19T10:12:40.084628Z",
     "start_time": "2020-11-19T10:12:39.986914Z"
    }
   },
   "outputs": [
    {
     "output_type": "stream",
     "name": "stdout",
     "text": [
      "LR + selection:  -0.37795395563649065\nLR:  -0.49764118189742446\nRF:  -0.6435593115768066\n"
     ]
    }
   ],
   "source": [
    "from sklearn.preprocessing import StandardScaler\n",
    "\n",
    "#x_data, y_data = get_data() \n",
    "x_data = x_data_generated\n",
    "y_data = y_data_generated\n",
    "\n",
    "pipe1 = make_pipeline(StandardScaler(), \n",
    "                      SelectFromModel(estimator=rf), logit)\n",
    "\n",
    "pipe2 = make_pipeline(StandardScaler(), logit)\n",
    "\n",
    "print('LR + selection: ', cross_val_score(pipe1, x_data, y_data, \n",
    "                                          scoring='neg_log_loss', cv=5).mean())\n",
    "print('LR: ', cross_val_score(pipe2, x_data, y_data, \n",
    "                              scoring='neg_log_loss', cv=5).mean())\n",
    "print('RF: ', cross_val_score(rf, x_data, y_data, \n",
    "                              scoring='neg_log_loss', cv=5).mean())"
   ]
  },
  {
   "cell_type": "markdown",
   "metadata": {},
   "source": [
    "#### Supervisado wrapper"
   ]
  },
  {
   "cell_type": "code",
   "execution_count": 28,
   "metadata": {
    "ExecuteTime": {
     "end_time": "2020-11-19T10:36:46.595134Z",
     "start_time": "2020-11-19T10:36:36.919545Z"
    }
   },
   "outputs": [
    {
     "output_type": "display_data",
     "data": {
      "text/plain": "<Figure size 288x288 with 2 Axes>",
      "image/png": "[encoded data removed]"
     },
     "metadata": {
      "needs_background": "light"
     }
    }
   ],
   "source": [
    "from sklearn.svm import SVC\n",
    "from sklearn.datasets import load_digits\n",
    "from sklearn.feature_selection import RFE\n",
    "import matplotlib.pyplot as plt\n",
    "\n",
    "# Load the digits dataset\n",
    "digits = load_digits()\n",
    "X = digits.images.reshape((len(digits.images), -1))\n",
    "y = digits.target\n",
    "\n",
    "# Create the RFE object and rank each pixel\n",
    "svc = SVC(kernel=\"linear\", C=1)\n",
    "rfe = RFE(estimator=svc, n_features_to_select=1, step=1) \n",
    "#RFE es otra forma de exploración de features, es ir contrastando métricas si se elimina cada una de las columnas\n",
    "#Si el score no cambia, o cambia muy poco, se elimina del conjunto de 'features' que tiene el dataset\n",
    "\n",
    "rfe.fit(X, y)\n",
    "ranking = rfe.ranking_.reshape(digits.images[0].shape)\n",
    "\n",
    "# Plot pixel ranking\n",
    "plt.matshow(ranking, cmap=plt.cm.Blues)\n",
    "plt.colorbar()\n",
    "plt.title(\"Ranking of pixels with RFE\")\n",
    "plt.tight_layout()\n",
    "plt.show();\n",
    "\n",
    "#Mustra la posición del rankin de importancia de las features(pixeles 8x8)"
   ]
  },
  {
   "cell_type": "code",
   "execution_count": 29,
   "metadata": {},
   "outputs": [
    {
     "output_type": "execute_result",
     "data": {
      "text/plain": [
       "array([[64, 50, 31, 23, 10, 17, 34, 51],\n",
       "       [57, 37, 30, 43, 14, 32, 44, 52],\n",
       "       [54, 41, 19, 15, 28,  8, 39, 53],\n",
       "       [55, 45,  9, 18, 20, 38,  1, 59],\n",
       "       [63, 42, 25, 35, 29, 16,  2, 62],\n",
       "       [61, 40,  5, 11, 13,  6,  4, 58],\n",
       "       [56, 47, 26, 36, 24,  3, 22, 48],\n",
       "       [60, 49,  7, 27, 33, 21, 12, 46]])"
      ]
     },
     "metadata": {},
     "execution_count": 29
    }
   ],
   "source": [
    "ranking"
   ]
  },
  {
   "cell_type": "code",
   "execution_count": 20,
   "metadata": {
    "ExecuteTime": {
     "end_time": "2020-11-19T10:42:05.336475Z",
     "start_time": "2020-11-19T10:41:59.409990Z"
    }
   },
   "outputs": [
    {
     "output_type": "execute_result",
     "data": {
      "text/plain": [
       "array([[ 9., 11., 12., ...,  7., 12.,  6.],\n",
       "       [13.,  6., 15., ...,  0.,  6.,  0.],\n",
       "       [15., 16.,  1., ...,  0., 11.,  0.],\n",
       "       ...,\n",
       "       [15., 16.,  8., ...,  0., 16.,  2.],\n",
       "       [ 7., 16., 16., ...,  2., 16.,  5.],\n",
       "       [ 8., 15.,  5., ...,  6., 16.,  8.]])"
      ]
     },
     "metadata": {},
     "execution_count": 20
    }
   ],
   "source": [
    "svc = SVC(kernel=\"linear\", C=1)\n",
    "rfe = RFE(estimator=svc, n_features_to_select=10, step=1)\n",
    "rfe.fit_transform(X, y)"
   ]
  },
  {
   "cell_type": "code",
   "execution_count": null,
   "metadata": {},
   "outputs": [],
   "source": []
  }
 ],
 "metadata": {
  "kernelspec": {
   "display_name": "Python 3",
   "language": "python",
   "name": "python3"
  },
  "language_info": {
   "codemirror_mode": {
    "name": "ipython",
    "version": 3
   },
   "file_extension": ".py",
   "mimetype": "text/x-python",
   "name": "python",
   "nbconvert_exporter": "python",
   "pygments_lexer": "ipython3",
   "version": "3.7.4-final"
  },
  "nbTranslate": {
   "displayLangs": [
    "*"
   ],
   "hotkey": "alt-t",
   "langInMainMenu": true,
   "sourceLang": "en",
   "targetLang": "fr",
   "useGoogleTranslate": true
  },
  "toc": {
   "nav_menu": {},
   "number_sections": true,
   "sideBar": true,
   "skip_h1_title": false,
   "title_cell": "Table of Contents",
   "title_sidebar": "Contents",
   "toc_cell": false,
   "toc_position": {},
   "toc_section_display": true,
   "toc_window_display": false
  },
  "varInspector": {
   "cols": {
    "lenName": 16,
    "lenType": 16,
    "lenVar": 40
   },
   "kernels_config": {
    "python": {
     "delete_cmd_postfix": "",
     "delete_cmd_prefix": "del ",
     "library": "var_list.py",
     "varRefreshCmd": "print(var_dic_list())"
    },
    "r": {
     "delete_cmd_postfix": ") ",
     "delete_cmd_prefix": "rm(",
     "library": "var_list.r",
     "varRefreshCmd": "cat(var_dic_list()) "
    }
   },
   "types_to_exclude": [
    "module",
    "function",
    "builtin_function_or_method",
    "instance",
    "_Feature"
   ],
   "window_display": false
  }
 },
 "nbformat": 4,
 "nbformat_minor": 2
}