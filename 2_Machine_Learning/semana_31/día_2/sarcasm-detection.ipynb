{
 "cells": [
  {
   "cell_type": "markdown",
   "metadata": {
    "_uuid": "cb01ca96934e5c83a36a2308da9645b87a9c52a0"
   },
   "source": [
    "## <center> Assignment 4. Sarcasm detection with logistic regression\n",
    "    \n",
    "We'll be using the dataset from the [paper](https://arxiv.org/abs/1704.05579) \"A Large Self-Annotated Corpus for Sarcasm\" with >1mln comments from Reddit, labeled as either sarcastic or not. A processed version can be found on Kaggle in a form of a [Kaggle Dataset](https://www.kaggle.com/danofer/sarcasm).\n",
    "\n",
    "Sarcasm detection is easy. \n",
    "<img src=\"https://habrastorage.org/webt/1f/0d/ta/1f0dtavsd14ncf17gbsy1cvoga4.jpeg\" />"
   ]
  },
  {
   "cell_type": "markdown",
   "metadata": {},
   "source": [
    "# Detección de sarcasmo\n",
    "Para este ejercicio vas a utilizar el dataset del paper [A Large Self-Annotated Corpus for Sarcasm](https://arxiv.org/abs/1704.05579), con un millón de comentarios de Reddit, etiquetados como sarcásticos o no sarcásticos. Se pide:\n",
    "1. Si hubiese missings, eliminalos\n"
   ]
  },
  {
   "cell_type": "code",
   "execution_count": 2,
   "metadata": {
    "_uuid": "ffa03aec57ab6150f9bec0fa56cd3a5791a3e6f4"
   },
   "outputs": [],
   "source": [
    "# some necessary imports\n",
    "import os\n",
    "import numpy as np\n",
    "import pandas as pd\n",
    "from sklearn.feature_extraction.text import TfidfVectorizer\n",
    "from sklearn.linear_model import LogisticRegression\n",
    "from sklearn.pipeline import Pipeline\n",
    "from sklearn.model_selection import train_test_split\n",
    "from sklearn.metrics import accuracy_score, confusion_matrix\n",
    "import seaborn as sns\n",
    "from matplotlib import pyplot as plt"
   ]
  },
  {
   "cell_type": "code",
   "execution_count": 3,
   "metadata": {},
   "outputs": [
    {
     "output_type": "execute_result",
     "data": {
      "text/plain": [
       "'c:\\\\Users\\\\pilar\\\\Edition_Jun2020\\\\Repositorios_GitHub\\\\activity_bootcamp_jun2020\\\\2_Machine_Learning\\\\semana_31\\\\día_2'"
      ]
     },
     "metadata": {},
     "execution_count": 3
    }
   ],
   "source": [
    "os.getcwd()"
   ]
  },
  {
   "cell_type": "code",
   "execution_count": 1,
   "metadata": {},
   "outputs": [
    {
     "output_type": "execute_result",
     "data": {
      "text/plain": [
       "['test-unbalanced.csv',\n",
       " 'train-balanced-sarc.csv.gz',\n",
       " 'train-balanced-sarcasm.csv']"
      ]
     },
     "metadata": {},
     "execution_count": 1
    }
   ],
   "source": [
    "path = \"../../../../DataSets/sarcasm/\"\n",
    "file_train = \"train-balanced-sarcasm.csv\"\n",
    "file_train = \"test-unbalanced.csv\"\n",
    "os.listdir(path)"
   ]
  },
  {
   "cell_type": "code",
   "execution_count": 4,
   "metadata": {
    "_uuid": "b23e4fc7a1973d60e0c6da8bd60f3d921542a856"
   },
   "outputs": [],
   "source": [
    "path = \"../../../../\"\n",
    "train_df = pd.read_csv('C:\\\\Users\\\\pilar\\\\Edition_Jun2020\\\\Repositorios_GitHub\\\\DataSets\\\\sarcasm\\\\train-balanced-sarcasm.csv')"
   ]
  },
  {
   "cell_type": "code",
   "execution_count": 5,
   "metadata": {
    "_uuid": "4dc7b3787afa46c7eb0d0e33b0c41ab9821c4a27"
   },
   "outputs": [
    {
     "output_type": "execute_result",
     "data": {
      "text/plain": [
       "   label                                            comment     author  \\\n",
       "0      0                                         NC and NH.  Trumpbart   \n",
       "1      0  You do know west teams play against west teams...  Shbshb906   \n",
       "2      0  They were underdogs earlier today, but since G...   Creepeth   \n",
       "3      0  This meme isn't funny none of the \"new york ni...  icebrotha   \n",
       "4      0                    I could use one of those tools.  cush2push   \n",
       "\n",
       "            subreddit  score  ups  downs     date          created_utc  \\\n",
       "0            politics      2   -1     -1  2016-10  2016-10-16 23:55:23   \n",
       "1                 nba     -4   -1     -1  2016-11  2016-11-01 00:24:10   \n",
       "2                 nfl      3    3      0  2016-09  2016-09-22 21:45:37   \n",
       "3  BlackPeopleTwitter     -8   -1     -1  2016-10  2016-10-18 21:03:47   \n",
       "4  MaddenUltimateTeam      6   -1     -1  2016-12  2016-12-30 17:00:13   \n",
       "\n",
       "                                      parent_comment  \n",
       "0  Yeah, I get that argument. At this point, I'd ...  \n",
       "1  The blazers and Mavericks (The wests 5 and 6 s...  \n",
       "2                            They're favored to win.  \n",
       "3                         deadass don't kill my buzz  \n",
       "4  Yep can confirm I saw the tool they use for th...  "
      ],
      "text/html": "<div>\n<style scoped>\n    .dataframe tbody tr th:only-of-type {\n        vertical-align: middle;\n    }\n\n    .dataframe tbody tr th {\n        vertical-align: top;\n    }\n\n    .dataframe thead th {\n        text-align: right;\n    }\n</style>\n<table border=\"1\" class=\"dataframe\">\n  <thead>\n    <tr style=\"text-align: right;\">\n      <th></th>\n      <th>label</th>\n      <th>comment</th>\n      <th>author</th>\n      <th>subreddit</th>\n      <th>score</th>\n      <th>ups</th>\n      <th>downs</th>\n      <th>date</th>\n      <th>created_utc</th>\n      <th>parent_comment</th>\n    </tr>\n  </thead>\n  <tbody>\n    <tr>\n      <th>0</th>\n      <td>0</td>\n      <td>NC and NH.</td>\n      <td>Trumpbart</td>\n      <td>politics</td>\n      <td>2</td>\n      <td>-1</td>\n      <td>-1</td>\n      <td>2016-10</td>\n      <td>2016-10-16 23:55:23</td>\n      <td>Yeah, I get that argument. At this point, I'd ...</td>\n    </tr>\n    <tr>\n      <th>1</th>\n      <td>0</td>\n      <td>You do know west teams play against west teams...</td>\n      <td>Shbshb906</td>\n      <td>nba</td>\n      <td>-4</td>\n      <td>-1</td>\n      <td>-1</td>\n      <td>2016-11</td>\n      <td>2016-11-01 00:24:10</td>\n      <td>The blazers and Mavericks (The wests 5 and 6 s...</td>\n    </tr>\n    <tr>\n      <th>2</th>\n      <td>0</td>\n      <td>They were underdogs earlier today, but since G...</td>\n      <td>Creepeth</td>\n      <td>nfl</td>\n      <td>3</td>\n      <td>3</td>\n      <td>0</td>\n      <td>2016-09</td>\n      <td>2016-09-22 21:45:37</td>\n      <td>They're favored to win.</td>\n    </tr>\n    <tr>\n      <th>3</th>\n      <td>0</td>\n      <td>This meme isn't funny none of the \"new york ni...</td>\n      <td>icebrotha</td>\n      <td>BlackPeopleTwitter</td>\n      <td>-8</td>\n      <td>-1</td>\n      <td>-1</td>\n      <td>2016-10</td>\n      <td>2016-10-18 21:03:47</td>\n      <td>deadass don't kill my buzz</td>\n    </tr>\n    <tr>\n      <th>4</th>\n      <td>0</td>\n      <td>I could use one of those tools.</td>\n      <td>cush2push</td>\n      <td>MaddenUltimateTeam</td>\n      <td>6</td>\n      <td>-1</td>\n      <td>-1</td>\n      <td>2016-12</td>\n      <td>2016-12-30 17:00:13</td>\n      <td>Yep can confirm I saw the tool they use for th...</td>\n    </tr>\n  </tbody>\n</table>\n</div>"
     },
     "metadata": {},
     "execution_count": 5
    }
   ],
   "source": [
    "train_df.head()"
   ]
  },
  {
   "cell_type": "markdown",
   "metadata": {
    "_uuid": "6472f52fb5ecb8bb2a6e3b292678a2042fcfe34c"
   },
   "source": [
    "Some comments are missing, so we drop the corresponding rows."
   ]
  },
  {
   "cell_type": "code",
   "execution_count": 6,
   "metadata": {},
   "outputs": [
    {
     "output_type": "execute_result",
     "data": {
      "text/plain": [
       "label              0\n",
       "comment           53\n",
       "author             0\n",
       "subreddit          0\n",
       "score              0\n",
       "ups                0\n",
       "downs              0\n",
       "date               0\n",
       "created_utc        0\n",
       "parent_comment     0\n",
       "dtype: int64"
      ]
     },
     "metadata": {},
     "execution_count": 6
    }
   ],
   "source": [
    "train_df.isnull().sum()"
   ]
  },
  {
   "cell_type": "code",
   "execution_count": 7,
   "metadata": {},
   "outputs": [
    {
     "output_type": "execute_result",
     "data": {
      "text/plain": [
       "(1010826, 10)"
      ]
     },
     "metadata": {},
     "execution_count": 7
    }
   ],
   "source": [
    "train_df.shape"
   ]
  },
  {
   "cell_type": "code",
   "execution_count": 8,
   "metadata": {},
   "outputs": [],
   "source": [
    "train_df.dropna(inplace=True)"
   ]
  },
  {
   "cell_type": "code",
   "execution_count": 9,
   "metadata": {},
   "outputs": [],
   "source": [
    "train_df['comments'] = train_df['comment'].str.replace('[^\\w\\s]','') \n",
    "\n",
    "train_df.drop(['comment'],inplace=True, axis=1)"
   ]
  },
  {
   "cell_type": "code",
   "execution_count": 10,
   "metadata": {},
   "outputs": [],
   "source": [
    "train_df = train_df[['label',\n",
    " 'comments',\n",
    " 'author',\n",
    " 'subreddit',\n",
    " 'score',\n",
    " 'ups',\n",
    " 'downs',\n",
    " 'date',\n",
    " 'created_utc',\n",
    " 'parent_comment']]"
   ]
  },
  {
   "cell_type": "code",
   "execution_count": 11,
   "metadata": {},
   "outputs": [
    {
     "output_type": "execute_result",
     "data": {
      "text/plain": [
       "   label                                           comments     author  \\\n",
       "0      0                                          NC and NH  Trumpbart   \n",
       "1      0  You do know west teams play against west teams...  Shbshb906   \n",
       "2      0  They were underdogs earlier today but since Gr...   Creepeth   \n",
       "3      0  This meme isnt funny none of the new york nigg...  icebrotha   \n",
       "4      0                     I could use one of those tools  cush2push   \n",
       "\n",
       "            subreddit  score  ups  downs     date          created_utc  \\\n",
       "0            politics      2   -1     -1  2016-10  2016-10-16 23:55:23   \n",
       "1                 nba     -4   -1     -1  2016-11  2016-11-01 00:24:10   \n",
       "2                 nfl      3    3      0  2016-09  2016-09-22 21:45:37   \n",
       "3  BlackPeopleTwitter     -8   -1     -1  2016-10  2016-10-18 21:03:47   \n",
       "4  MaddenUltimateTeam      6   -1     -1  2016-12  2016-12-30 17:00:13   \n",
       "\n",
       "                                      parent_comment  \n",
       "0  Yeah, I get that argument. At this point, I'd ...  \n",
       "1  The blazers and Mavericks (The wests 5 and 6 s...  \n",
       "2                            They're favored to win.  \n",
       "3                         deadass don't kill my buzz  \n",
       "4  Yep can confirm I saw the tool they use for th...  "
      ],
      "text/html": "<div>\n<style scoped>\n    .dataframe tbody tr th:only-of-type {\n        vertical-align: middle;\n    }\n\n    .dataframe tbody tr th {\n        vertical-align: top;\n    }\n\n    .dataframe thead th {\n        text-align: right;\n    }\n</style>\n<table border=\"1\" class=\"dataframe\">\n  <thead>\n    <tr style=\"text-align: right;\">\n      <th></th>\n      <th>label</th>\n      <th>comments</th>\n      <th>author</th>\n      <th>subreddit</th>\n      <th>score</th>\n      <th>ups</th>\n      <th>downs</th>\n      <th>date</th>\n      <th>created_utc</th>\n      <th>parent_comment</th>\n    </tr>\n  </thead>\n  <tbody>\n    <tr>\n      <th>0</th>\n      <td>0</td>\n      <td>NC and NH</td>\n      <td>Trumpbart</td>\n      <td>politics</td>\n      <td>2</td>\n      <td>-1</td>\n      <td>-1</td>\n      <td>2016-10</td>\n      <td>2016-10-16 23:55:23</td>\n      <td>Yeah, I get that argument. At this point, I'd ...</td>\n    </tr>\n    <tr>\n      <th>1</th>\n      <td>0</td>\n      <td>You do know west teams play against west teams...</td>\n      <td>Shbshb906</td>\n      <td>nba</td>\n      <td>-4</td>\n      <td>-1</td>\n      <td>-1</td>\n      <td>2016-11</td>\n      <td>2016-11-01 00:24:10</td>\n      <td>The blazers and Mavericks (The wests 5 and 6 s...</td>\n    </tr>\n    <tr>\n      <th>2</th>\n      <td>0</td>\n      <td>They were underdogs earlier today but since Gr...</td>\n      <td>Creepeth</td>\n      <td>nfl</td>\n      <td>3</td>\n      <td>3</td>\n      <td>0</td>\n      <td>2016-09</td>\n      <td>2016-09-22 21:45:37</td>\n      <td>They're favored to win.</td>\n    </tr>\n    <tr>\n      <th>3</th>\n      <td>0</td>\n      <td>This meme isnt funny none of the new york nigg...</td>\n      <td>icebrotha</td>\n      <td>BlackPeopleTwitter</td>\n      <td>-8</td>\n      <td>-1</td>\n      <td>-1</td>\n      <td>2016-10</td>\n      <td>2016-10-18 21:03:47</td>\n      <td>deadass don't kill my buzz</td>\n    </tr>\n    <tr>\n      <th>4</th>\n      <td>0</td>\n      <td>I could use one of those tools</td>\n      <td>cush2push</td>\n      <td>MaddenUltimateTeam</td>\n      <td>6</td>\n      <td>-1</td>\n      <td>-1</td>\n      <td>2016-12</td>\n      <td>2016-12-30 17:00:13</td>\n      <td>Yep can confirm I saw the tool they use for th...</td>\n    </tr>\n  </tbody>\n</table>\n</div>"
     },
     "metadata": {},
     "execution_count": 11
    }
   ],
   "source": [
    "train_df.head()"
   ]
  },
  {
   "cell_type": "code",
   "execution_count": 12,
   "metadata": {
    "_uuid": "0a7ed9557943806c6813ad59c3d5ebdb403ffd78"
   },
   "outputs": [
    {
     "output_type": "stream",
     "name": "stdout",
     "text": [
      "<class 'pandas.core.frame.DataFrame'>\nInt64Index: 1010773 entries, 0 to 1010825\nData columns (total 10 columns):\n #   Column          Non-Null Count    Dtype \n---  ------          --------------    ----- \n 0   label           1010773 non-null  int64 \n 1   comments        1010773 non-null  object\n 2   author          1010773 non-null  object\n 3   subreddit       1010773 non-null  object\n 4   score           1010773 non-null  int64 \n 5   ups             1010773 non-null  int64 \n 6   downs           1010773 non-null  int64 \n 7   date            1010773 non-null  object\n 8   created_utc     1010773 non-null  object\n 9   parent_comment  1010773 non-null  object\ndtypes: int64(4), object(6)\nmemory usage: 84.8+ MB\n"
     ]
    }
   ],
   "source": [
    "train_df.info()"
   ]
  },
  {
   "cell_type": "markdown",
   "metadata": {
    "_uuid": "9d51637ee70dca7693737ad0da1dbb8c6ce9230b"
   },
   "source": [
    "We notice that the dataset is indeed balanced"
   ]
  },
  {
   "cell_type": "code",
   "execution_count": 13,
   "metadata": {
    "_uuid": "addd77c640423d30fd146c8d3a012d3c14481e11"
   },
   "outputs": [
    {
     "output_type": "execute_result",
     "data": {
      "text/plain": [
       "0    505405\n",
       "1    505368\n",
       "Name: label, dtype: int64"
      ]
     },
     "metadata": {},
     "execution_count": 13
    }
   ],
   "source": [
    "train_df['label'].value_counts()"
   ]
  },
  {
   "cell_type": "code",
   "execution_count": 14,
   "metadata": {
    "_uuid": "c200add4e1dcbaa75164bbcc73b9c12ecb863c96"
   },
   "outputs": [],
   "source": [
    "train_texts, valid_texts, y_train, y_valid = train_test_split(train_df['comments'], train_df['label'], random_state=17)"
   ]
  },
  {
   "cell_type": "code",
   "execution_count": 15,
   "metadata": {},
   "outputs": [
    {
     "output_type": "stream",
     "name": "stdout",
     "text": [
      "X_train:  (758079,)\ny_train:  (758079,)\nX_test:  (252694,)\ny_test:  (252694,)\n"
     ]
    }
   ],
   "source": [
    "print(\"X_train: \", train_texts.shape)\n",
    "print(\"y_train: \", y_train.shape)\n",
    "print(\"X_test: \", valid_texts.shape)\n",
    "print(\"y_test: \", y_valid.shape)"
   ]
  },
  {
   "cell_type": "markdown",
   "metadata": {
    "_uuid": "7f0f47b98e49a185cd5cffe19fcbe28409bf00c0"
   },
   "source": [
    "## Tasks:\n",
    "1. Analyze the dataset, make some plots. This [Kernel](https://www.kaggle.com/sudalairajkumar/simple-exploration-notebook-qiqc) might serve as an example\n",
    "2. Build a Tf-Idf + logistic regression pipeline to predict sarcasm (`label`) based on the text of a comment on Reddit (`comment`).\n",
    "3. Plot the words/bigrams which a most predictive of sarcasm (you can use [eli5](https://github.com/TeamHG-Memex/eli5) for that)\n",
    "4. (optionally) add subreddits as new features to improve model performance. Apply here the Bag of Words approach, i.e. treat each subreddit as a new feature.\n",
    "\n",
    "## Links:\n",
    "  - Machine learning library [Scikit-learn](https://scikit-learn.org/stable/index.html) (a.k.a. sklearn)\n",
    "  - Kernels on [logistic regression](https://www.kaggle.com/kashnitsky/topic-4-linear-models-part-2-classification) and its applications to [text classification](https://www.kaggle.com/kashnitsky/topic-4-linear-models-part-4-more-of-logit), also a [Kernel](https://www.kaggle.com/kashnitsky/topic-6-feature-engineering-and-feature-selection) on feature engineering and feature selection\n",
    "  - [Kaggle Kernel](https://www.kaggle.com/abhishek/approaching-almost-any-nlp-problem-on-kaggle) \"Approaching (Almost) Any NLP Problem on Kaggle\"\n",
    "  - [ELI5](https://github.com/TeamHG-Memex/eli5) to explain model predictions"
   ]
  },
  {
   "cell_type": "code",
   "execution_count": 16,
   "metadata": {},
   "outputs": [],
   "source": [
    "import plotly.graph_objs as go\n",
    "import plotly.offline as py"
   ]
  },
  {
   "cell_type": "code",
   "execution_count": 17,
   "metadata": {},
   "outputs": [
    {
     "output_type": "execute_result",
     "data": {
      "text/plain": [
       "505368"
      ]
     },
     "metadata": {},
     "execution_count": 17
    }
   ],
   "source": [
    "train_df['label'].sum()"
   ]
  },
  {
   "cell_type": "code",
   "execution_count": 18,
   "metadata": {},
   "outputs": [
    {
     "output_type": "execute_result",
     "data": {
      "text/plain": [
       "49.99816971763195"
      ]
     },
     "metadata": {},
     "execution_count": 18
    }
   ],
   "source": [
    "(train_df['label'].sum()/train_df.shape[0])*100"
   ]
  },
  {
   "cell_type": "code",
   "execution_count": 19,
   "metadata": {},
   "outputs": [
    {
     "output_type": "execute_result",
     "data": {
      "text/plain": [
       "<AxesSubplot:xlabel='label', ylabel='count'>"
      ]
     },
     "metadata": {},
     "execution_count": 19
    },
    {
     "output_type": "display_data",
     "data": {
      "text/plain": "<Figure size 432x288 with 1 Axes>",
      "image/svg+xml": "<?xml version=\"1.0\" encoding=\"utf-8\" standalone=\"no\"?>\r\n<!DOCTYPE svg PUBLIC \"-//W3C//DTD SVG 1.1//EN\"\r\n  \"http://www.w3.org/Graphics/SVG/1.1/DTD/svg11.dtd\">\r\n<!-- Created with matplotlib (https://matplotlib.org/) -->\r\n<svg height=\"262.19625pt\" version=\"1.1\" viewBox=\"0 0 408.053125 262.19625\" width=\"408.053125pt\" xmlns=\"http://www.w3.org/2000/svg\" xmlns:xlink=\"http://www.w3.org/1999/xlink\">\r\n <metadata>\r\n  <rdf:RDF xmlns:cc=\"http://creativecommons.org/ns#\" xmlns:dc=\"http://purl.org/dc/elements/1.1/\" xmlns:rdf=\"http://www.w3.org/1999/02/22-rdf-syntax-ns#\">\r\n   <cc:Work>\r\n    <dc:type rdf:resource=\"http://purl.org/dc/dcmitype/StillImage\"/>\r\n    <dc:date>2021-02-26T17:28:12.534126</dc:date>\r\n    <dc:format>image/svg+xml</dc:format>\r\n    <dc:creator>\r\n     <cc:Agent>\r\n      <dc:title>Matplotlib v3.3.2, https://matplotlib.org/</dc:title>\r\n     </cc:Agent>\r\n    </dc:creator>\r\n   </cc:Work>\r\n  </rdf:RDF>\r\n </metadata>\r\n <defs>\r\n  <style type=\"text/css\">*{stroke-linecap:butt;stroke-linejoin:round;}</style>\r\n </defs>\r\n <g id=\"figure_1\">\r\n  <g id=\"patch_1\">\r\n   <path d=\"M 0 262.19625 \r\nL 408.053125 262.19625 \r\nL 408.053125 0 \r\nL 0 0 \r\nz\r\n\" style=\"fill:none;\"/>\r\n  </g>\r\n  <g id=\"axes_1\">\r\n   <g id=\"patch_2\">\r\n    <path d=\"M 66.053125 224.64 \r\nL 400.853125 224.64 \r\nL 400.853125 7.2 \r\nL 66.053125 7.2 \r\nz\r\n\" style=\"fill:#ffffff;\"/>\r\n   </g>\r\n   <g id=\"patch_3\">\r\n    <path clip-path=\"url(#pea268fb712)\" d=\"M 82.793125 224.64 \r\nL 216.713125 224.64 \r\nL 216.713125 17.554286 \r\nL 82.793125 17.554286 \r\nz\r\n\" style=\"fill:#3274a1;\"/>\r\n   </g>\r\n   <g id=\"patch_4\">\r\n    <path clip-path=\"url(#pea268fb712)\" d=\"M 250.193125 224.64 \r\nL 384.113125 224.64 \r\nL 384.113125 17.569446 \r\nL 250.193125 17.569446 \r\nz\r\n\" style=\"fill:#e1812c;\"/>\r\n   </g>\r\n   <g id=\"matplotlib.axis_1\">\r\n    <g id=\"xtick_1\">\r\n     <g id=\"line2d_1\">\r\n      <defs>\r\n       <path d=\"M 0 0 \r\nL 0 3.5 \r\n\" id=\"m70e60e3805\" style=\"stroke:#000000;stroke-width:0.8;\"/>\r\n      </defs>\r\n      <g>\r\n       <use style=\"stroke:#000000;stroke-width:0.8;\" x=\"149.753125\" xlink:href=\"#m70e60e3805\" y=\"224.64\"/>\r\n      </g>\r\n     </g>\r\n     <g id=\"text_1\">\r\n      <!-- 0 -->\r\n      <g transform=\"translate(146.571875 239.238437)scale(0.1 -0.1)\">\r\n       <defs>\r\n        <path d=\"M 31.78125 66.40625 \r\nQ 24.171875 66.40625 20.328125 58.90625 \r\nQ 16.5 51.421875 16.5 36.375 \r\nQ 16.5 21.390625 20.328125 13.890625 \r\nQ 24.171875 6.390625 31.78125 6.390625 \r\nQ 39.453125 6.390625 43.28125 13.890625 \r\nQ 47.125 21.390625 47.125 36.375 \r\nQ 47.125 51.421875 43.28125 58.90625 \r\nQ 39.453125 66.40625 31.78125 66.40625 \r\nz\r\nM 31.78125 74.21875 \r\nQ 44.046875 74.21875 50.515625 64.515625 \r\nQ 56.984375 54.828125 56.984375 36.375 \r\nQ 56.984375 17.96875 50.515625 8.265625 \r\nQ 44.046875 -1.421875 31.78125 -1.421875 \r\nQ 19.53125 -1.421875 13.0625 8.265625 \r\nQ 6.59375 17.96875 6.59375 36.375 \r\nQ 6.59375 54.828125 13.0625 64.515625 \r\nQ 19.53125 74.21875 31.78125 74.21875 \r\nz\r\n\" id=\"DejaVuSans-48\"/>\r\n       </defs>\r\n       <use xlink:href=\"#DejaVuSans-48\"/>\r\n      </g>\r\n     </g>\r\n    </g>\r\n    <g id=\"xtick_2\">\r\n     <g id=\"line2d_2\">\r\n      <g>\r\n       <use style=\"stroke:#000000;stroke-width:0.8;\" x=\"317.153125\" xlink:href=\"#m70e60e3805\" y=\"224.64\"/>\r\n      </g>\r\n     </g>\r\n     <g id=\"text_2\">\r\n      <!-- 1 -->\r\n      <g transform=\"translate(313.971875 239.238437)scale(0.1 -0.1)\">\r\n       <defs>\r\n        <path d=\"M 12.40625 8.296875 \r\nL 28.515625 8.296875 \r\nL 28.515625 63.921875 \r\nL 10.984375 60.40625 \r\nL 10.984375 69.390625 \r\nL 28.421875 72.90625 \r\nL 38.28125 72.90625 \r\nL 38.28125 8.296875 \r\nL 54.390625 8.296875 \r\nL 54.390625 0 \r\nL 12.40625 0 \r\nz\r\n\" id=\"DejaVuSans-49\"/>\r\n       </defs>\r\n       <use xlink:href=\"#DejaVuSans-49\"/>\r\n      </g>\r\n     </g>\r\n    </g>\r\n    <g id=\"text_3\">\r\n     <!-- label -->\r\n     <g transform=\"translate(221.360156 252.916562)scale(0.1 -0.1)\">\r\n      <defs>\r\n       <path d=\"M 9.421875 75.984375 \r\nL 18.40625 75.984375 \r\nL 18.40625 0 \r\nL 9.421875 0 \r\nz\r\n\" id=\"DejaVuSans-108\"/>\r\n       <path d=\"M 34.28125 27.484375 \r\nQ 23.390625 27.484375 19.1875 25 \r\nQ 14.984375 22.515625 14.984375 16.5 \r\nQ 14.984375 11.71875 18.140625 8.90625 \r\nQ 21.296875 6.109375 26.703125 6.109375 \r\nQ 34.1875 6.109375 38.703125 11.40625 \r\nQ 43.21875 16.703125 43.21875 25.484375 \r\nL 43.21875 27.484375 \r\nz\r\nM 52.203125 31.203125 \r\nL 52.203125 0 \r\nL 43.21875 0 \r\nL 43.21875 8.296875 \r\nQ 40.140625 3.328125 35.546875 0.953125 \r\nQ 30.953125 -1.421875 24.3125 -1.421875 \r\nQ 15.921875 -1.421875 10.953125 3.296875 \r\nQ 6 8.015625 6 15.921875 \r\nQ 6 25.140625 12.171875 29.828125 \r\nQ 18.359375 34.515625 30.609375 34.515625 \r\nL 43.21875 34.515625 \r\nL 43.21875 35.40625 \r\nQ 43.21875 41.609375 39.140625 45 \r\nQ 35.0625 48.390625 27.6875 48.390625 \r\nQ 23 48.390625 18.546875 47.265625 \r\nQ 14.109375 46.140625 10.015625 43.890625 \r\nL 10.015625 52.203125 \r\nQ 14.9375 54.109375 19.578125 55.046875 \r\nQ 24.21875 56 28.609375 56 \r\nQ 40.484375 56 46.34375 49.84375 \r\nQ 52.203125 43.703125 52.203125 31.203125 \r\nz\r\n\" id=\"DejaVuSans-97\"/>\r\n       <path d=\"M 48.6875 27.296875 \r\nQ 48.6875 37.203125 44.609375 42.84375 \r\nQ 40.53125 48.484375 33.40625 48.484375 \r\nQ 26.265625 48.484375 22.1875 42.84375 \r\nQ 18.109375 37.203125 18.109375 27.296875 \r\nQ 18.109375 17.390625 22.1875 11.75 \r\nQ 26.265625 6.109375 33.40625 6.109375 \r\nQ 40.53125 6.109375 44.609375 11.75 \r\nQ 48.6875 17.390625 48.6875 27.296875 \r\nz\r\nM 18.109375 46.390625 \r\nQ 20.953125 51.265625 25.265625 53.625 \r\nQ 29.59375 56 35.59375 56 \r\nQ 45.5625 56 51.78125 48.09375 \r\nQ 58.015625 40.1875 58.015625 27.296875 \r\nQ 58.015625 14.40625 51.78125 6.484375 \r\nQ 45.5625 -1.421875 35.59375 -1.421875 \r\nQ 29.59375 -1.421875 25.265625 0.953125 \r\nQ 20.953125 3.328125 18.109375 8.203125 \r\nL 18.109375 0 \r\nL 9.078125 0 \r\nL 9.078125 75.984375 \r\nL 18.109375 75.984375 \r\nz\r\n\" id=\"DejaVuSans-98\"/>\r\n       <path d=\"M 56.203125 29.59375 \r\nL 56.203125 25.203125 \r\nL 14.890625 25.203125 \r\nQ 15.484375 15.921875 20.484375 11.0625 \r\nQ 25.484375 6.203125 34.421875 6.203125 \r\nQ 39.59375 6.203125 44.453125 7.46875 \r\nQ 49.3125 8.734375 54.109375 11.28125 \r\nL 54.109375 2.78125 \r\nQ 49.265625 0.734375 44.1875 -0.34375 \r\nQ 39.109375 -1.421875 33.890625 -1.421875 \r\nQ 20.796875 -1.421875 13.15625 6.1875 \r\nQ 5.515625 13.8125 5.515625 26.8125 \r\nQ 5.515625 40.234375 12.765625 48.109375 \r\nQ 20.015625 56 32.328125 56 \r\nQ 43.359375 56 49.78125 48.890625 \r\nQ 56.203125 41.796875 56.203125 29.59375 \r\nz\r\nM 47.21875 32.234375 \r\nQ 47.125 39.59375 43.09375 43.984375 \r\nQ 39.0625 48.390625 32.421875 48.390625 \r\nQ 24.90625 48.390625 20.390625 44.140625 \r\nQ 15.875 39.890625 15.1875 32.171875 \r\nz\r\n\" id=\"DejaVuSans-101\"/>\r\n      </defs>\r\n      <use xlink:href=\"#DejaVuSans-108\"/>\r\n      <use x=\"27.783203\" xlink:href=\"#DejaVuSans-97\"/>\r\n      <use x=\"89.0625\" xlink:href=\"#DejaVuSans-98\"/>\r\n      <use x=\"152.539062\" xlink:href=\"#DejaVuSans-101\"/>\r\n      <use x=\"214.0625\" xlink:href=\"#DejaVuSans-108\"/>\r\n     </g>\r\n    </g>\r\n   </g>\r\n   <g id=\"matplotlib.axis_2\">\r\n    <g id=\"ytick_1\">\r\n     <g id=\"line2d_3\">\r\n      <defs>\r\n       <path d=\"M 0 0 \r\nL -3.5 0 \r\n\" id=\"mf21dc13dbd\" style=\"stroke:#000000;stroke-width:0.8;\"/>\r\n      </defs>\r\n      <g>\r\n       <use style=\"stroke:#000000;stroke-width:0.8;\" x=\"66.053125\" xlink:href=\"#mf21dc13dbd\" y=\"224.64\"/>\r\n      </g>\r\n     </g>\r\n     <g id=\"text_4\">\r\n      <!-- 0 -->\r\n      <g transform=\"translate(52.690625 228.439219)scale(0.1 -0.1)\">\r\n       <use xlink:href=\"#DejaVuSans-48\"/>\r\n      </g>\r\n     </g>\r\n    </g>\r\n    <g id=\"ytick_2\">\r\n     <g id=\"line2d_4\">\r\n      <g>\r\n       <use style=\"stroke:#000000;stroke-width:0.8;\" x=\"66.053125\" xlink:href=\"#mf21dc13dbd\" y=\"183.665788\"/>\r\n      </g>\r\n     </g>\r\n     <g id=\"text_5\">\r\n      <!-- 100000 -->\r\n      <g transform=\"translate(20.878125 187.465007)scale(0.1 -0.1)\">\r\n       <use xlink:href=\"#DejaVuSans-49\"/>\r\n       <use x=\"63.623047\" xlink:href=\"#DejaVuSans-48\"/>\r\n       <use x=\"127.246094\" xlink:href=\"#DejaVuSans-48\"/>\r\n       <use x=\"190.869141\" xlink:href=\"#DejaVuSans-48\"/>\r\n       <use x=\"254.492188\" xlink:href=\"#DejaVuSans-48\"/>\r\n       <use x=\"318.115234\" xlink:href=\"#DejaVuSans-48\"/>\r\n      </g>\r\n     </g>\r\n    </g>\r\n    <g id=\"ytick_3\">\r\n     <g id=\"line2d_5\">\r\n      <g>\r\n       <use style=\"stroke:#000000;stroke-width:0.8;\" x=\"66.053125\" xlink:href=\"#mf21dc13dbd\" y=\"142.691577\"/>\r\n      </g>\r\n     </g>\r\n     <g id=\"text_6\">\r\n      <!-- 200000 -->\r\n      <g transform=\"translate(20.878125 146.490795)scale(0.1 -0.1)\">\r\n       <defs>\r\n        <path d=\"M 19.1875 8.296875 \r\nL 53.609375 8.296875 \r\nL 53.609375 0 \r\nL 7.328125 0 \r\nL 7.328125 8.296875 \r\nQ 12.9375 14.109375 22.625 23.890625 \r\nQ 32.328125 33.6875 34.8125 36.53125 \r\nQ 39.546875 41.84375 41.421875 45.53125 \r\nQ 43.3125 49.21875 43.3125 52.78125 \r\nQ 43.3125 58.59375 39.234375 62.25 \r\nQ 35.15625 65.921875 28.609375 65.921875 \r\nQ 23.96875 65.921875 18.8125 64.3125 \r\nQ 13.671875 62.703125 7.8125 59.421875 \r\nL 7.8125 69.390625 \r\nQ 13.765625 71.78125 18.9375 73 \r\nQ 24.125 74.21875 28.421875 74.21875 \r\nQ 39.75 74.21875 46.484375 68.546875 \r\nQ 53.21875 62.890625 53.21875 53.421875 \r\nQ 53.21875 48.921875 51.53125 44.890625 \r\nQ 49.859375 40.875 45.40625 35.40625 \r\nQ 44.1875 33.984375 37.640625 27.21875 \r\nQ 31.109375 20.453125 19.1875 8.296875 \r\nz\r\n\" id=\"DejaVuSans-50\"/>\r\n       </defs>\r\n       <use xlink:href=\"#DejaVuSans-50\"/>\r\n       <use x=\"63.623047\" xlink:href=\"#DejaVuSans-48\"/>\r\n       <use x=\"127.246094\" xlink:href=\"#DejaVuSans-48\"/>\r\n       <use x=\"190.869141\" xlink:href=\"#DejaVuSans-48\"/>\r\n       <use x=\"254.492188\" xlink:href=\"#DejaVuSans-48\"/>\r\n       <use x=\"318.115234\" xlink:href=\"#DejaVuSans-48\"/>\r\n      </g>\r\n     </g>\r\n    </g>\r\n    <g id=\"ytick_4\">\r\n     <g id=\"line2d_6\">\r\n      <g>\r\n       <use style=\"stroke:#000000;stroke-width:0.8;\" x=\"66.053125\" xlink:href=\"#mf21dc13dbd\" y=\"101.717365\"/>\r\n      </g>\r\n     </g>\r\n     <g id=\"text_7\">\r\n      <!-- 300000 -->\r\n      <g transform=\"translate(20.878125 105.516584)scale(0.1 -0.1)\">\r\n       <defs>\r\n        <path d=\"M 40.578125 39.3125 \r\nQ 47.65625 37.796875 51.625 33 \r\nQ 55.609375 28.21875 55.609375 21.1875 \r\nQ 55.609375 10.40625 48.1875 4.484375 \r\nQ 40.765625 -1.421875 27.09375 -1.421875 \r\nQ 22.515625 -1.421875 17.65625 -0.515625 \r\nQ 12.796875 0.390625 7.625 2.203125 \r\nL 7.625 11.71875 \r\nQ 11.71875 9.328125 16.59375 8.109375 \r\nQ 21.484375 6.890625 26.8125 6.890625 \r\nQ 36.078125 6.890625 40.9375 10.546875 \r\nQ 45.796875 14.203125 45.796875 21.1875 \r\nQ 45.796875 27.640625 41.28125 31.265625 \r\nQ 36.765625 34.90625 28.71875 34.90625 \r\nL 20.21875 34.90625 \r\nL 20.21875 43.015625 \r\nL 29.109375 43.015625 \r\nQ 36.375 43.015625 40.234375 45.921875 \r\nQ 44.09375 48.828125 44.09375 54.296875 \r\nQ 44.09375 59.90625 40.109375 62.90625 \r\nQ 36.140625 65.921875 28.71875 65.921875 \r\nQ 24.65625 65.921875 20.015625 65.03125 \r\nQ 15.375 64.15625 9.8125 62.3125 \r\nL 9.8125 71.09375 \r\nQ 15.4375 72.65625 20.34375 73.4375 \r\nQ 25.25 74.21875 29.59375 74.21875 \r\nQ 40.828125 74.21875 47.359375 69.109375 \r\nQ 53.90625 64.015625 53.90625 55.328125 \r\nQ 53.90625 49.265625 50.4375 45.09375 \r\nQ 46.96875 40.921875 40.578125 39.3125 \r\nz\r\n\" id=\"DejaVuSans-51\"/>\r\n       </defs>\r\n       <use xlink:href=\"#DejaVuSans-51\"/>\r\n       <use x=\"63.623047\" xlink:href=\"#DejaVuSans-48\"/>\r\n       <use x=\"127.246094\" xlink:href=\"#DejaVuSans-48\"/>\r\n       <use x=\"190.869141\" xlink:href=\"#DejaVuSans-48\"/>\r\n       <use x=\"254.492188\" xlink:href=\"#DejaVuSans-48\"/>\r\n       <use x=\"318.115234\" xlink:href=\"#DejaVuSans-48\"/>\r\n      </g>\r\n     </g>\r\n    </g>\r\n    <g id=\"ytick_5\">\r\n     <g id=\"line2d_7\">\r\n      <g>\r\n       <use style=\"stroke:#000000;stroke-width:0.8;\" x=\"66.053125\" xlink:href=\"#mf21dc13dbd\" y=\"60.743153\"/>\r\n      </g>\r\n     </g>\r\n     <g id=\"text_8\">\r\n      <!-- 400000 -->\r\n      <g transform=\"translate(20.878125 64.542372)scale(0.1 -0.1)\">\r\n       <defs>\r\n        <path d=\"M 37.796875 64.3125 \r\nL 12.890625 25.390625 \r\nL 37.796875 25.390625 \r\nz\r\nM 35.203125 72.90625 \r\nL 47.609375 72.90625 \r\nL 47.609375 25.390625 \r\nL 58.015625 25.390625 \r\nL 58.015625 17.1875 \r\nL 47.609375 17.1875 \r\nL 47.609375 0 \r\nL 37.796875 0 \r\nL 37.796875 17.1875 \r\nL 4.890625 17.1875 \r\nL 4.890625 26.703125 \r\nz\r\n\" id=\"DejaVuSans-52\"/>\r\n       </defs>\r\n       <use xlink:href=\"#DejaVuSans-52\"/>\r\n       <use x=\"63.623047\" xlink:href=\"#DejaVuSans-48\"/>\r\n       <use x=\"127.246094\" xlink:href=\"#DejaVuSans-48\"/>\r\n       <use x=\"190.869141\" xlink:href=\"#DejaVuSans-48\"/>\r\n       <use x=\"254.492188\" xlink:href=\"#DejaVuSans-48\"/>\r\n       <use x=\"318.115234\" xlink:href=\"#DejaVuSans-48\"/>\r\n      </g>\r\n     </g>\r\n    </g>\r\n    <g id=\"ytick_6\">\r\n     <g id=\"line2d_8\">\r\n      <g>\r\n       <use style=\"stroke:#000000;stroke-width:0.8;\" x=\"66.053125\" xlink:href=\"#mf21dc13dbd\" y=\"19.768942\"/>\r\n      </g>\r\n     </g>\r\n     <g id=\"text_9\">\r\n      <!-- 500000 -->\r\n      <g transform=\"translate(20.878125 23.568161)scale(0.1 -0.1)\">\r\n       <defs>\r\n        <path d=\"M 10.796875 72.90625 \r\nL 49.515625 72.90625 \r\nL 49.515625 64.59375 \r\nL 19.828125 64.59375 \r\nL 19.828125 46.734375 \r\nQ 21.96875 47.46875 24.109375 47.828125 \r\nQ 26.265625 48.1875 28.421875 48.1875 \r\nQ 40.625 48.1875 47.75 41.5 \r\nQ 54.890625 34.8125 54.890625 23.390625 \r\nQ 54.890625 11.625 47.5625 5.09375 \r\nQ 40.234375 -1.421875 26.90625 -1.421875 \r\nQ 22.3125 -1.421875 17.546875 -0.640625 \r\nQ 12.796875 0.140625 7.71875 1.703125 \r\nL 7.71875 11.625 \r\nQ 12.109375 9.234375 16.796875 8.0625 \r\nQ 21.484375 6.890625 26.703125 6.890625 \r\nQ 35.15625 6.890625 40.078125 11.328125 \r\nQ 45.015625 15.765625 45.015625 23.390625 \r\nQ 45.015625 31 40.078125 35.4375 \r\nQ 35.15625 39.890625 26.703125 39.890625 \r\nQ 22.75 39.890625 18.8125 39.015625 \r\nQ 14.890625 38.140625 10.796875 36.28125 \r\nz\r\n\" id=\"DejaVuSans-53\"/>\r\n       </defs>\r\n       <use xlink:href=\"#DejaVuSans-53\"/>\r\n       <use x=\"63.623047\" xlink:href=\"#DejaVuSans-48\"/>\r\n       <use x=\"127.246094\" xlink:href=\"#DejaVuSans-48\"/>\r\n       <use x=\"190.869141\" xlink:href=\"#DejaVuSans-48\"/>\r\n       <use x=\"254.492188\" xlink:href=\"#DejaVuSans-48\"/>\r\n       <use x=\"318.115234\" xlink:href=\"#DejaVuSans-48\"/>\r\n      </g>\r\n     </g>\r\n    </g>\r\n    <g id=\"text_10\">\r\n     <!-- count -->\r\n     <g transform=\"translate(14.798438 130.02625)rotate(-90)scale(0.1 -0.1)\">\r\n      <defs>\r\n       <path d=\"M 48.78125 52.59375 \r\nL 48.78125 44.1875 \r\nQ 44.96875 46.296875 41.140625 47.34375 \r\nQ 37.3125 48.390625 33.40625 48.390625 \r\nQ 24.65625 48.390625 19.8125 42.84375 \r\nQ 14.984375 37.3125 14.984375 27.296875 \r\nQ 14.984375 17.28125 19.8125 11.734375 \r\nQ 24.65625 6.203125 33.40625 6.203125 \r\nQ 37.3125 6.203125 41.140625 7.25 \r\nQ 44.96875 8.296875 48.78125 10.40625 \r\nL 48.78125 2.09375 \r\nQ 45.015625 0.34375 40.984375 -0.53125 \r\nQ 36.96875 -1.421875 32.421875 -1.421875 \r\nQ 20.0625 -1.421875 12.78125 6.34375 \r\nQ 5.515625 14.109375 5.515625 27.296875 \r\nQ 5.515625 40.671875 12.859375 48.328125 \r\nQ 20.21875 56 33.015625 56 \r\nQ 37.15625 56 41.109375 55.140625 \r\nQ 45.0625 54.296875 48.78125 52.59375 \r\nz\r\n\" id=\"DejaVuSans-99\"/>\r\n       <path d=\"M 30.609375 48.390625 \r\nQ 23.390625 48.390625 19.1875 42.75 \r\nQ 14.984375 37.109375 14.984375 27.296875 \r\nQ 14.984375 17.484375 19.15625 11.84375 \r\nQ 23.34375 6.203125 30.609375 6.203125 \r\nQ 37.796875 6.203125 41.984375 11.859375 \r\nQ 46.1875 17.53125 46.1875 27.296875 \r\nQ 46.1875 37.015625 41.984375 42.703125 \r\nQ 37.796875 48.390625 30.609375 48.390625 \r\nz\r\nM 30.609375 56 \r\nQ 42.328125 56 49.015625 48.375 \r\nQ 55.71875 40.765625 55.71875 27.296875 \r\nQ 55.71875 13.875 49.015625 6.21875 \r\nQ 42.328125 -1.421875 30.609375 -1.421875 \r\nQ 18.84375 -1.421875 12.171875 6.21875 \r\nQ 5.515625 13.875 5.515625 27.296875 \r\nQ 5.515625 40.765625 12.171875 48.375 \r\nQ 18.84375 56 30.609375 56 \r\nz\r\n\" id=\"DejaVuSans-111\"/>\r\n       <path d=\"M 8.5 21.578125 \r\nL 8.5 54.6875 \r\nL 17.484375 54.6875 \r\nL 17.484375 21.921875 \r\nQ 17.484375 14.15625 20.5 10.265625 \r\nQ 23.53125 6.390625 29.59375 6.390625 \r\nQ 36.859375 6.390625 41.078125 11.03125 \r\nQ 45.3125 15.671875 45.3125 23.6875 \r\nL 45.3125 54.6875 \r\nL 54.296875 54.6875 \r\nL 54.296875 0 \r\nL 45.3125 0 \r\nL 45.3125 8.40625 \r\nQ 42.046875 3.421875 37.71875 1 \r\nQ 33.40625 -1.421875 27.6875 -1.421875 \r\nQ 18.265625 -1.421875 13.375 4.4375 \r\nQ 8.5 10.296875 8.5 21.578125 \r\nz\r\nM 31.109375 56 \r\nz\r\n\" id=\"DejaVuSans-117\"/>\r\n       <path d=\"M 54.890625 33.015625 \r\nL 54.890625 0 \r\nL 45.90625 0 \r\nL 45.90625 32.71875 \r\nQ 45.90625 40.484375 42.875 44.328125 \r\nQ 39.84375 48.1875 33.796875 48.1875 \r\nQ 26.515625 48.1875 22.3125 43.546875 \r\nQ 18.109375 38.921875 18.109375 30.90625 \r\nL 18.109375 0 \r\nL 9.078125 0 \r\nL 9.078125 54.6875 \r\nL 18.109375 54.6875 \r\nL 18.109375 46.1875 \r\nQ 21.34375 51.125 25.703125 53.5625 \r\nQ 30.078125 56 35.796875 56 \r\nQ 45.21875 56 50.046875 50.171875 \r\nQ 54.890625 44.34375 54.890625 33.015625 \r\nz\r\n\" id=\"DejaVuSans-110\"/>\r\n       <path d=\"M 18.3125 70.21875 \r\nL 18.3125 54.6875 \r\nL 36.8125 54.6875 \r\nL 36.8125 47.703125 \r\nL 18.3125 47.703125 \r\nL 18.3125 18.015625 \r\nQ 18.3125 11.328125 20.140625 9.421875 \r\nQ 21.96875 7.515625 27.59375 7.515625 \r\nL 36.8125 7.515625 \r\nL 36.8125 0 \r\nL 27.59375 0 \r\nQ 17.1875 0 13.234375 3.875 \r\nQ 9.28125 7.765625 9.28125 18.015625 \r\nL 9.28125 47.703125 \r\nL 2.6875 47.703125 \r\nL 2.6875 54.6875 \r\nL 9.28125 54.6875 \r\nL 9.28125 70.21875 \r\nz\r\n\" id=\"DejaVuSans-116\"/>\r\n      </defs>\r\n      <use xlink:href=\"#DejaVuSans-99\"/>\r\n      <use x=\"54.980469\" xlink:href=\"#DejaVuSans-111\"/>\r\n      <use x=\"116.162109\" xlink:href=\"#DejaVuSans-117\"/>\r\n      <use x=\"179.541016\" xlink:href=\"#DejaVuSans-110\"/>\r\n      <use x=\"242.919922\" xlink:href=\"#DejaVuSans-116\"/>\r\n     </g>\r\n    </g>\r\n   </g>\r\n   <g id=\"patch_5\">\r\n    <path d=\"M 66.053125 224.64 \r\nL 66.053125 7.2 \r\n\" style=\"fill:none;stroke:#000000;stroke-linecap:square;stroke-linejoin:miter;stroke-width:0.8;\"/>\r\n   </g>\r\n   <g id=\"patch_6\">\r\n    <path d=\"M 400.853125 224.64 \r\nL 400.853125 7.2 \r\n\" style=\"fill:none;stroke:#000000;stroke-linecap:square;stroke-linejoin:miter;stroke-width:0.8;\"/>\r\n   </g>\r\n   <g id=\"patch_7\">\r\n    <path d=\"M 66.053125 224.64 \r\nL 400.853125 224.64 \r\n\" style=\"fill:none;stroke:#000000;stroke-linecap:square;stroke-linejoin:miter;stroke-width:0.8;\"/>\r\n   </g>\r\n   <g id=\"patch_8\">\r\n    <path d=\"M 66.053125 7.2 \r\nL 400.853125 7.2 \r\n\" style=\"fill:none;stroke:#000000;stroke-linecap:square;stroke-linejoin:miter;stroke-width:0.8;\"/>\r\n   </g>\r\n  </g>\r\n </g>\r\n <defs>\r\n  <clipPath id=\"pea268fb712\">\r\n   <rect height=\"217.44\" width=\"334.8\" x=\"66.053125\" y=\"7.2\"/>\r\n  </clipPath>\r\n </defs>\r\n</svg>\r\n",
      "image/png": "[encoded data removed]"
     },
     "metadata": {
      "needs_background": "light"
     }
    }
   ],
   "source": [
    "sns.countplot(x=train_df['label'])"
   ]
  },
  {
   "cell_type": "code",
   "execution_count": 20,
   "metadata": {},
   "outputs": [
    {
     "output_type": "stream",
     "name": "stderr",
     "text": [
      "[nltk_data] Downloading package stopwords to\n[nltk_data]     C:\\Users\\pilar\\AppData\\Roaming\\nltk_data...\n[nltk_data]   Package stopwords is already up-to-date!\n"
     ]
    },
    {
     "output_type": "execute_result",
     "data": {
      "text/plain": [
       "True"
      ]
     },
     "metadata": {},
     "execution_count": 20
    }
   ],
   "source": [
    "from sklearn.feature_extraction.text import CountVectorizer\n",
    "import nltk\n",
    "nltk.download('stopwords')\n"
   ]
  },
  {
   "cell_type": "code",
   "execution_count": 21,
   "metadata": {},
   "outputs": [],
   "source": [
    "from nltk.corpus import stopwords\n",
    "english_stop_words = stopwords.words('english')"
   ]
  },
  {
   "cell_type": "code",
   "execution_count": 23,
   "metadata": {},
   "outputs": [],
   "source": [
    "vectorizer = CountVectorizer(binary= True,\n",
    "                            stop_words= english_stop_words,\n",
    "                            ngram_range=(1,2))\n",
    "vectorizer.fit(train_texts)\n",
    "\n",
    "\n",
    "X_train_vectorizer = vectorizer.transform(train_texts)\n",
    "X_test_vectorizer = vectorizer.transform(valid_texts)\n"
   ]
  },
  {
   "cell_type": "code",
   "execution_count": 24,
   "metadata": {},
   "outputs": [
    {
     "output_type": "execute_result",
     "data": {
      "text/plain": [
       "<758079x2303612 sparse matrix of type '<class 'numpy.int64'>'\n",
       "\twith 7811149 stored elements in Compressed Sparse Row format>"
      ]
     },
     "metadata": {},
     "execution_count": 24
    }
   ],
   "source": [
    "X_train_vectorizer"
   ]
  },
  {
   "cell_type": "code",
   "execution_count": 25,
   "metadata": {},
   "outputs": [
    {
     "output_type": "stream",
     "name": "stdout",
     "text": [
      "(758079, 2303612)\n"
     ]
    },
    {
     "output_type": "execute_result",
     "data": {
      "text/plain": [
       " 'mom': 1290682,\n",
       " 'first': 721580,\n",
       " 'aired': 85300,\n",
       " 'one': 1404461,\n",
       " 'favorite': 696187,\n",
       " 'memories': 1255461,\n",
       " 'watched tng': 2183132,\n",
       " 'tng mom': 2041727,\n",
       " 'mom first': 1290804,\n",
       " 'first aired': 721659,\n",
       " 'aired one': 85316,\n",
       " 'one favorite': 1406334,\n",
       " 'favorite memories': 696514,\n",
       " 'getting': 806225,\n",
       " 'sick': 1801593,\n",
       " 'shit': 1784720,\n",
       " 'im getting': 974937,\n",
       " 'getting sick': 808021,\n",
       " 'sick shit': 1801966,\n",
       " 'enjoy': 623278,\n",
       " 'dont': 561035,\n",
       " 'see': 1748047,\n",
       " 'anything': 126834,\n",
       " 'valid': 2138669,\n",
       " 'post': 1530926,\n",
       " 'rotation': 1695178,\n",
       " 'unless': 2110731,\n",
       " 'missing': 1281722,\n",
       " 'something': 1845573,\n",
       " 'enjoy dont': 623463,\n",
       " 'dont see': 563292,\n",
       " 'see anything': 1748324,\n",
       " 'anything valid': 128578,\n",
       " 'valid post': 2138769,\n",
       " 'post rotation': 1532099,\n",
       " 'rotation unless': 1695224,\n",
       " 'unless im': 2111176,\n",
       " 'im missing': 975602,\n",
       " 'missing something': 1282067,\n",
       " 'youd': 2291901,\n",
       " 'look': 1171109,\n",
       " 'pregnant': 1543533,\n",
       " 'ate': 159729,\n",
       " 'pounds': 1536110,\n",
       " 'frodo': 760038,\n",
       " 'youd look': 2292094,\n",
       " 'look pregnant': 1172634,\n",
       " 'pregnant ate': 1543543,\n",
       " 'ate pounds': 159845,\n",
       " 'pounds frodo': 1536153,\n",
       " 'kitty': 1074030,\n",
       " 'crunches': 467699,\n",
       " 'kitty crunches': 1074042,\n",
       " 'ai': 83222,\n",
       " 'inspired': 1002179,\n",
       " 'pm': 1513096,\n",
       " 'ai inspired': 83295,\n",
       " 'inspired pm': 1002236,\n",
       " 'wait': 2163671,\n",
       " 'havent': 900406,\n",
       " 'convinced': 433505,\n",
       " 'much': 1308576,\n",
       " 'hes': 918777,\n",
       " 'improving': 985545,\n",
       " 'via': 2147301,\n",
       " 'weekly': 2195719,\n",
       " 'guys': 874329,\n",
       " 'heres': 917330,\n",
       " 'ebron': 597680,\n",
       " 'better': 224206,\n",
       " 'think': 2008931,\n",
       " 'threads': 2023269,\n",
       " 'lions': 1152391,\n",
       " 'sub': 1917965,\n",
       " 'wait havent': 2164293,\n",
       " 'havent convinced': 900498,\n",
       " 'convinced much': 433606,\n",
       " 'much hes': 1309940,\n",
       " 'hes improving': 920187,\n",
       " 'improving via': 985600,\n",
       " 'via weekly': 2147590,\n",
       " 'weekly guys': 2195751,\n",
       " 'guys heres': 875102,\n",
       " 'heres ebron': 917381,\n",
       " 'ebron better': 597681,\n",
       " 'better think': 227578,\n",
       " 'think threads': 2013665,\n",
       " 'threads lions': 2023355,\n",
       " 'lions sub': 1152470,\n",
       " 'thing': 2004562,\n",
       " 'nothing': 1372186,\n",
       " 'stop': 1901390,\n",
       " 'nsa': 1376486,\n",
       " 'government': 848825,\n",
       " 'agencies': 77706,\n",
       " 'completely': 411078,\n",
       " 'dismantling': 547188,\n",
       " '4th': 32878,\n",
       " 'amendment': 107136,\n",
       " 'rights': 1681289,\n",
       " 'favorite thing': 696727,\n",
       " 'thing nothing': 2006159,\n",
       " 'nothing stop': 1373628,\n",
       " 'stop nsa': 1902435,\n",
       " 'nsa government': 1376559,\n",
       " 'government agencies': 848855,\n",
       " 'agencies completely': 77715,\n",
       " 'completely dismantling': 411289,\n",
       " 'dismantling 4th': 547189,\n",
       " '4th amendment': 32892,\n",
       " 'amendment rights': 107244,\n",
       " 'cant': 314500,\n",
       " 'joking': 1046215,\n",
       " 'outside': 1430161,\n",
       " 'reddit': 1634204,\n",
       " 'cant joking': 315547,\n",
       " 'joking hes': 1046264,\n",
       " 'hes outside': 920748,\n",
       " 'outside reddit': 1430628,\n",
       " 'make': 1204112,\n",
       " 'money': 1292317,\n",
       " 'fun': 771215,\n",
       " 'poor': 1523190,\n",
       " 'make money': 1206430,\n",
       " 'money make': 1293341,\n",
       " 'make fun': 1205636,\n",
       " 'fun poor': 771946,\n",
       " 'nash': 1328929,\n",
       " 'really': 1622837,\n",
       " 'want': 2169548,\n",
       " 'instead': 1003541,\n",
       " 'another': 119543,\n",
       " 'raid': 1602478,\n",
       " 'tier': 2029522,\n",
       " 'facebook': 676733,\n",
       " 'integration': 1006788,\n",
       " 'really want': 1625660,\n",
       " 'want instead': 2170978,\n",
       " 'instead another': 1003662,\n",
       " 'another raid': 120879,\n",
       " 'raid tier': 1602627,\n",
       " 'tier facebook': 2029613,\n",
       " 'facebook integration': 676892,\n",
       " 'forgot': 743821,\n",
       " 'gtfo': 864865,\n",
       " 'downvoted': 569446,\n",
       " 'forgot gtfo': 744198,\n",
       " 'gtfo downvoted': 864875,\n",
       " 'looks': 1175119,\n",
       " 'like': 1134138,\n",
       " 'ripoff': 1684087,\n",
       " 'show': 1796099,\n",
       " 'long': 1168635,\n",
       " 'time': 2032386,\n",
       " 'ago': 79048,\n",
       " 'actress': 61406,\n",
       " 'played': 1503710,\n",
       " 'inara': 986071,\n",
       " 'companion': 406422,\n",
       " 'firefly': 720922,\n",
       " 'think looks': 2011636,\n",
       " 'looks like': 1175515,\n",
       " 'like ripoff': 1142976,\n",
       " 'ripoff show': 1684116,\n",
       " 'show long': 1796872,\n",
       " 'long time': 1169960,\n",
       " 'time ago': 2032522,\n",
       " 'ago actress': 79081,\n",
       " 'actress played': 61435,\n",
       " 'played inara': 1504173,\n",
       " 'inara companion': 986072,\n",
       " 'companion firefly': 406434,\n",
       " 'awesome': 173953,\n",
       " 'guy': 871967,\n",
       " 'shout': 1795693,\n",
       " 'awesome guy': 174274,\n",
       " 'guy shout': 873799,\n",
       " 'came': 308219,\n",
       " 'say': 1723379,\n",
       " 'came say': 308843,\n",
       " 'jokes': 1045791,\n",
       " '1010': 4753,\n",
       " 'presentation': 1545585,\n",
       " '210': 19621,\n",
       " 'would': 2251637,\n",
       " 'watch': 2181461,\n",
       " 'jokes 1010': 1045792,\n",
       " '1010 presentation': 4832,\n",
       " 'presentation 210': 1545586,\n",
       " '210 would': 19684,\n",
       " 'would watch': 2256092,\n",
       " 'straightup': 1907096,\n",
       " 'infuriating': 997363,\n",
       " 'shit straightup': 1786638,\n",
       " 'straightup infuriating': 1907103,\n",
       " 'pretty': 1548171,\n",
       " 'amazing': 105342,\n",
       " 'hear': 905602,\n",
       " 'good': 836954,\n",
       " 'things': 2007275,\n",
       " 'snoop': 1834877,\n",
       " 'dogg': 556595,\n",
       " 'pretty amazing': 1548194,\n",
       " 'amazing hear': 105694,\n",
       " 'hear good': 906045,\n",
       " 'good things': 840452,\n",
       " 'things snoop': 2008547,\n",
       " 'snoop dogg': 1834883,\n",
       " 'mispronunciation': 1280416,\n",
       " 'pry': 1574667,\n",
       " 'cold': 390975,\n",
       " 'dead': 496500,\n",
       " 'hands': 886375,\n",
       " 'mispronunciation pry': 1280418,\n",
       " 'pry cold': 1574670,\n",
       " 'cold dead': 391039,\n",
       " 'dead hands': 496791,\n",
       " 'clg': 379573,\n",
       " 'dlift': 551957,\n",
       " 'adc': 66201,\n",
       " 'especially': 635117,\n",
       " 'chaox': 347371,\n",
       " 'clg dlift': 379599,\n",
       " 'dlift much': 551962,\n",
       " 'much better': 1308857,\n",
       " 'better adc': 224328,\n",
       " 'adc especially': 66238,\n",
       " 'especially chaox': 635248,\n",
       " 'oh': 1394574,\n",
       " 'god': 827068,\n",
       " 'dare': 487361,\n",
       " 'suggest': 1925115,\n",
       " 'culprit': 470958,\n",
       " 'immigrant': 979852,\n",
       " 'selfhating': 1758620,\n",
       " 'socialist': 1836887,\n",
       " 'oh god': 1395147,\n",
       " 'god dare': 827380,\n",
       " 'dare suggest': 487892,\n",
       " 'suggest culprit': 1925160,\n",
       " 'culprit immigrant': 470966,\n",
       " 'immigrant selfhating': 979901,\n",
       " 'selfhating socialist': 1758633,\n",
       " 'thats': 1990233,\n",
       " 'law': 1102062,\n",
       " 'works': 2244502,\n",
       " 'means': 1245864,\n",
       " 'marriage': 1226631,\n",
       " 'thats law': 1992864,\n",
       " 'law works': 1102664,\n",
       " 'works means': 2244916,\n",
       " 'means marriage': 1246638,\n",
       " 'man': 1213709,\n",
       " 'fat': 693482,\n",
       " 'people': 1465408,\n",
       " 'pathetic': 1455174,\n",
       " 'man fat': 1214658,\n",
       " 'fat people': 693866,\n",
       " 'people sure': 1469701,\n",
       " 'sure pathetic': 1938328,\n",
       " 'badumtshh': 185979,\n",
       " 'jobvite': 1043002,\n",
       " 'way': 2186035,\n",
       " 'taleo': 1959232,\n",
       " 'jobvite way': 1043003,\n",
       " 'way better': 2186328,\n",
       " 'better taleo': 227504,\n",
       " 'true': 2074133,\n",
       " 'might': 1268007,\n",
       " 'imagine': 977823,\n",
       " 'religion': 1648180,\n",
       " 'founded': 749549,\n",
       " 'serial': 1765556,\n",
       " 'fucking': 765923,\n",
       " 'machine': 1195315,\n",
       " 'slightly': 1825468,\n",
       " 'tolerant': 2045120,\n",
       " 'rubbing': 1698719,\n",
       " 'true one': 2075068,\n",
       " 'one might': 1407631,\n",
       " 'might imagine': 1268593,\n",
       " 'imagine religion': 978449,\n",
       " 'religion founded': 1648340,\n",
       " 'founded serial': 749599,\n",
       " 'serial fucking': 1765566,\n",
       " 'fucking machine': 767243,\n",
       " 'machine would': 1195547,\n",
       " 'would slightly': 2255337,\n",
       " 'slightly tolerant': 1825696,\n",
       " 'tolerant rubbing': 2045187,\n",
       " 'rubbing one': 1698738,\n",
       " 'fucker': 765323,\n",
       " 'suing': 1926209,\n",
       " 'exboyfriend': 658570,\n",
       " 'breach': 269669,\n",
       " 'contract': 429688,\n",
       " 'told': 2044184,\n",
       " 'hed': 910581,\n",
       " 'love': 1183267,\n",
       " 'forever': 741680,\n",
       " 'im suing': 976628,\n",
       " 'suing exboyfriend': 1926218,\n",
       " 'exboyfriend breach': 658571,\n",
       " 'breach contract': 269675,\n",
       " 'contract told': 429905,\n",
       " 'told hed': 2044532,\n",
       " 'hed love': 910746,\n",
       " 'love forever': 1184288,\n",
       " 'raised': 1603807,\n",
       " 'rates': 1611357,\n",
       " 'yellen': 2283405,\n",
       " 'good thing': 840451,\n",
       " 'thing raised': 2006435,\n",
       " 'raised rates': 1603920,\n",
       " 'rates slightly': 1611490,\n",
       " 'slightly yellen': 1825724,\n",
       " 'death': 499335,\n",
       " '13': 8532,\n",
       " 'death 13': 499337,\n",
       " 'fact': 677927,\n",
       " 'stand': 1879178,\n",
       " 'nuka': 1377703,\n",
       " 'cola': 390856,\n",
       " 'bottles': 262002,\n",
       " 'settlements': 1771166,\n",
       " 'equally': 631960,\n",
       " 'immensely': 979768,\n",
       " 'aggravating': 78463,\n",
       " 'fact cant': 678096,\n",
       " 'cant stand': 316356,\n",
       " 'stand nuka': 1879485,\n",
       " 'nuka cola': 1377704,\n",
       " 'cola bottles': 390861,\n",
       " 'bottles nuka': 262043,\n",
       " 'cola machine': 390877,\n",
       " 'machine settlements': 1195507,\n",
       " 'settlements equally': 1771175,\n",
       " 'equally immensely': 632018,\n",
       " 'immensely aggravating': 979769,\n",
       " 'giggity': 811336,\n",
       " 'id': 963948,\n",
       " 'kill': 1066186,\n",
       " 'custom': 475575,\n",
       " 'rumble': 1701264,\n",
       " 'willing': 2220272,\n",
       " 'die': 533601,\n",
       " 'last': 1098101,\n",
       " 'word': 2238429,\n",
       " 'finally': 713735,\n",
       " 'get': 797358,\n",
       " 'portion': 1527543,\n",
       " 'damn': 483340,\n",
       " 'chaperone': 347406,\n",
       " 'quest': 1592670,\n",
       " 'done': 559490,\n",
       " 'id kill': 964330,\n",
       " 'kill custom': 1066442,\n",
       " 'custom rumble': 475698,\n",
       " 'rumble people': 1701292,\n",
       " 'people willing': 1470237,\n",
       " 'willing die': 2220325,\n",
       " 'die last': 534002,\n",
       " 'last word': 1098966,\n",
       " 'word finally': 2238729,\n",
       " 'finally get': 713959,\n",
       " 'get portion': 802265,\n",
       " 'portion damn': 1527576,\n",
       " 'damn chaperone': 483591,\n",
       " 'chaperone quest': 347408,\n",
       " 'quest done': 1592707,\n",
       " 'even': 641123,\n",
       " 'exclude': 661124,\n",
       " 'ones': 1410318,\n",
       " 'meet': 1251822,\n",
       " 'john': 1043533,\n",
       " 'cena': 337587,\n",
       " 'stil': 1896084,\n",
       " 'lot': 1180144,\n",
       " 'cool': 434372,\n",
       " 'even exclude': 642274,\n",
       " 'exclude ones': 661141,\n",
       " 'ones meet': 1410878,\n",
       " 'meet john': 1251953,\n",
       " 'john cena': 1043574,\n",
       " 'cena thats': 337657,\n",
       " 'thats stil': 1994623,\n",
       " 'stil lot': 1896089,\n",
       " 'lot cool': 1180557,\n",
       " 'cool guy': 434745,\n",
       " 'welp': 2203692,\n",
       " 'fuckin': 765521,\n",
       " 'germany': 796806,\n",
       " 'fuckin germany': 765659,\n",
       " 'germany man': 796969,\n",
       " 'yeah': 2273055,\n",
       " 'military': 1270778,\n",
       " 'sanctity': 1716613,\n",
       " 'sweetheart': 1946450,\n",
       " 'contracts': 430024,\n",
       " 'life': 1130543,\n",
       " 'yeah military': 2276697,\n",
       " 'military sanctity': 1271143,\n",
       " 'sanctity sweetheart': 1716622,\n",
       " 'sweetheart contracts': 1946452,\n",
       " 'contracts life': 430068,\n",
       " 'tory': 2051426,\n",
       " 'ukip': 2098275,\n",
       " 'coalition': 387335,\n",
       " 'little': 1156425,\n",
       " 'likely': 1146485,\n",
       " 'week': 2194717,\n",
       " 'tory ukip': 2051450,\n",
       " 'ukip coalition': 2098279,\n",
       " 'coalition looks': 387353,\n",
       " 'looks little': 1175521,\n",
       " 'little likely': 1157282,\n",
       " 'likely time': 1147163,\n",
       " 'time last': 2034123,\n",
       " 'last week': 1098949,\n",
       " 'arent': 139210,\n",
       " 'sp': 1858702,\n",
       " 'ls': 1189404,\n",
       " 'stackable': 1877111,\n",
       " 'arent sp': 140694,\n",
       " 'sp ls': 1858719,\n",
       " 'ls stackable': 1189440,\n",
       " 'blame': 242558,\n",
       " 'lack': 1091189,\n",
       " 'economic': 598116,\n",
       " 'opportunity': 1418566,\n",
       " 'social': 1836399,\n",
       " 'isolation': 1025172,\n",
       " 'faced': 677151,\n",
       " 'young': 2292831,\n",
       " 'muslim': 1316878,\n",
       " 'males': 1212744,\n",
       " 'dont know': 562467,\n",
       " 'know guys': 1079094,\n",
       " 'guys blame': 874528,\n",
       " 'blame lack': 242869,\n",
       " 'lack economic': 1091317,\n",
       " 'economic opportunity': 598236,\n",
       " 'opportunity social': 1418730,\n",
       " 'social isolation': 1836534,\n",
       " 'isolation faced': 1025176,\n",
       " 'faced young': 677219,\n",
       " 'young muslim': 2293126,\n",
       " 'muslim males': 1317094,\n",
       " 'right': 1677763,\n",
       " 'around': 144716,\n",
       " 'corner': 438723,\n",
       " 'right around': 1677964,\n",
       " 'around corner': 145301,\n",
       " 'ahh': 82610,\n",
       " 'gives': 817166,\n",
       " 'context': 428529,\n",
       " 'ahh gives': 82668,\n",
       " 'gives context': 817301,\n",
       " 'sometimes': 1848176,\n",
       " 'cream': 459036,\n",
       " 'french': 756291,\n",
       " 'fries': 759627,\n",
       " 'sometimes like': 1848447,\n",
       " 'like cream': 1136823,\n",
       " 'cream french': 459078,\n",
       " 'french fries': 756389,\n",
       " 'sell': 1759183,\n",
       " 'propane': 1568354,\n",
       " 'accessories': 54388,\n",
       " 'sell propane': 1759666,\n",
       " 'propane propane': 1568360,\n",
       " 'propane accessories': 1568355,\n",
       " 'police': 1518683,\n",
       " 'profiling': 1563611,\n",
       " 'doesnt': 554206,\n",
       " 'exist': 663074,\n",
       " 'police profiling': 1519140,\n",
       " 'profiling doesnt': 1563617,\n",
       " 'doesnt exist': 554729,\n",
       " 'take': 1954027,\n",
       " 'yarn': 2270721,\n",
       " 'sheep': 1779199,\n",
       " 'take yarn': 1956522,\n",
       " 'yarn sheep': 2270727,\n",
       " 'sheep sheep': 1779265,\n",
       " 'sheep yarn': 1779285,\n",
       " 'probably': 1555875,\n",
       " 'shouldve': 1795446,\n",
       " 'put': 1584782,\n",
       " 'probably shouldve': 1558067,\n",
       " 'shouldve put': 1795590,\n",
       " 'stealing': 1891236,\n",
       " 'cats': 331920,\n",
       " 'think stealing': 2013398,\n",
       " 'stealing cats': 1891281,\n",
       " 'precious': 1541323,\n",
       " 'eagle': 591283,\n",
       " 'precious eagle': 1541361,\n",
       " 'care': 321826,\n",
       " 'dont care': 561419,\n",
       " 'freehealthcare': 755618,\n",
       " 'canada': 311127,\n",
       " 'communist': 404863,\n",
       " 'thats freehealthcare': 1992080,\n",
       " 'freehealthcare canada': 755619,\n",
       " 'canada communist': 311218,\n",
       " 'engineers': 622124,\n",
       " 'became': 207578,\n",
       " 'multibillionaires': 1312928,\n",
       " 'thought engineers': 2019526,\n",
       " 'engineers became': 622133,\n",
       " 'became multibillionaires': 207733,\n",
       " 'escape': 634534,\n",
       " 'matriarchy': 1233243,\n",
       " 'cant escape': 315176,\n",
       " 'escape matriarchy': 634603,\n",
       " 'downvoters': 569818,\n",
       " 'jerks': 1037552,\n",
       " 'downvoters jerks': 569826,\n",
       " 'speaking': 1861967,\n",
       " '2010': 17373,\n",
       " 'team': 1970085,\n",
       " 'loss': 1178875,\n",
       " 'duke': 585886,\n",
       " 'hurt': 959371,\n",
       " 'speaking 2010': 1861968,\n",
       " '2010 team': 17427,\n",
       " 'team loss': 1970990,\n",
       " 'loss duke': 1178935,\n",
       " 'duke fucking': 585916,\n",
       " 'fucking hurt': 766994,\n",
       " 'worry': 2247826,\n",
       " 'blondish': 247438,\n",
       " 'brown': 279572,\n",
       " 'pillsbury': 1491188,\n",
       " 'doughboy': 567916,\n",
       " 'summer': 1927050,\n",
       " 'dont worry': 563917,\n",
       " 'worry im': 2248196,\n",
       " 'im blondish': 974044,\n",
       " 'blondish brown': 247439,\n",
       " 'brown look': 279751,\n",
       " 'look like': 1172232,\n",
       " 'like pillsbury': 1142002,\n",
       " 'pillsbury doughboy': 1491189,\n",
       " 'doughboy summer': 567917,\n",
       " 'guard': 865471,\n",
       " 'right guard': 1679020,\n",
       " 'negrian': 1342940,\n",
       " 'bandied': 190813,\n",
       " 'often': 1393836,\n",
       " 'negrian bandied': 1342941,\n",
       " 'bandied often': 190814,\n",
       " 'mexican': 1263885,\n",
       " 'invented': 1014295,\n",
       " 'corn': 438624,\n",
       " 'mexican people': 1263980,\n",
       " 'people invented': 1467746,\n",
       " 'invented corn': 1014364,\n",
       " 'wow': 2258043,\n",
       " 'example': 657846,\n",
       " 'patriarchal': 1455640,\n",
       " 'misogyny': 1280259,\n",
       " 'wow another': 2258123,\n",
       " 'another example': 120151,\n",
       " 'example patriarchal': 658187,\n",
       " 'patriarchal misogyny': 1455662,\n",
       " 'theyre': 2000896,\n",
       " 'bedazzling': 209882,\n",
       " 'yeah theyre': 2278798,\n",
       " 'theyre bedazzling': 2001153,\n",
       " 'seguin': 1757323,\n",
       " 'trade': 2059398,\n",
       " 'seguin trade': 1757334,\n",
       " 'trade bad': 2059453,\n",
       " 'bad man': 184281,\n",
       " 'usually': 2135248,\n",
       " '1520': 10956,\n",
       " 'minutes': 1278188,\n",
       " 'aim': 83736,\n",
       " 'foralthough': 739220,\n",
       " 'adjust': 69740,\n",
       " 'depending': 518060,\n",
       " 'skin': 1820161,\n",
       " 'handles': 886163,\n",
       " 'constraints': 426219,\n",
       " 'usually 1520': 2135258,\n",
       " '1520 minutes': 10963,\n",
       " 'minutes people': 1278545,\n",
       " 'people aim': 1465594,\n",
       " 'aim foralthough': 83790,\n",
       " 'foralthough adjust': 739221,\n",
       " 'adjust depending': 69762,\n",
       " 'depending skin': 518206,\n",
       " 'skin handles': 1820359,\n",
       " 'handles time': 886204,\n",
       " 'time constraints': 2033061,\n",
       " 'yes': 2284969,\n",
       " 'streamline': 1909047,\n",
       " 'unfinnished': 2106972,\n",
       " 'product': 1562036,\n",
       " 'yes streamline': 2288384,\n",
       " 'streamline unfinnished': 1909050,\n",
       " 'unfinnished product': 2106973,\n",
       " 'fucks': 768505,\n",
       " 'sake': 1713751,\n",
       " 'could': 443671,\n",
       " 'pack': 1436784,\n",
       " 'ads': 71382,\n",
       " 'shitty': 1788185,\n",
       " 'fucks sake': 768611,\n",
       " 'sake could': 1713774,\n",
       " 'could pack': 445254,\n",
       " 'pack ads': 1436797,\n",
       " 'ads shitty': 71528,\n",
       " 'shitty story': 1788881,\n",
       " 'penises': 1464766,\n",
       " 'magical': 1200315,\n",
       " 'seen': 1755504,\n",
       " 'penis': 1464485,\n",
       " '9inches': 45567,\n",
       " 'thick': 2003980,\n",
       " 'cum': 471835,\n",
       " 'looking': 1173821,\n",
       " 'seriously': 1766682,\n",
       " 'change': 344556,\n",
       " 'ur': 2119736,\n",
       " 'bb': 202543,\n",
       " 'might think': 1269237,\n",
       " 'think penises': 2012323,\n",
       " 'penises arent': 1464772,\n",
       " 'arent magical': 140133,\n",
       " 'magical havent': 1200388,\n",
       " 'havent seen': 900791,\n",
       " 'seen penis': 1756393,\n",
       " 'penis 9inches': 1464489,\n",
       " '9inches thick': 45568,\n",
       " 'thick youll': 2004086,\n",
       " 'youll cum': 2292449,\n",
       " 'cum looking': 471881,\n",
       " 'looking seriously': 1174821,\n",
       " 'seriously penis': 1767073,\n",
       " 'penis change': 1464518,\n",
       " 'change life': 345148,\n",
       " 'life ur': 1131899,\n",
       " 'ur missing': 2119986,\n",
       " 'missing bb': 1281756,\n",
       " 'muh': 1312236,\n",
       " 'feelz': 702455,\n",
       " 'offended': 1390485,\n",
       " 'corrected': 440352,\n",
       " 'correction': 440428,\n",
       " 'muh feelz': 1312347,\n",
       " 'feelz offended': 702459,\n",
       " 'offended corrected': 1390524,\n",
       " 'corrected correction': 440357,\n",
       " 'yup': 2298273,\n",
       " 'ak47s': 86154,\n",
       " '74s': 40170,\n",
       " 'manufactured': 1220318,\n",
       " 'ol': 1399589,\n",
       " 'us': 2120788,\n",
       " 'isis': 1020448,\n",
       " 'yup ak47s': 2298298,\n",
       " 'ak47s 74s': 86155,\n",
       " '74s manufactured': 40171,\n",
       " 'manufactured good': 1220343,\n",
       " 'good ol': 839306,\n",
       " 'ol us': 1399810,\n",
       " 'us isis': 2122183,\n",
       " 'isis hands': 1020598,\n",
       " 'supah': 1928703,\n",
       " 'mario': 1224662,\n",
       " 'bruddas': 280480,\n",
       " 'baybeee': 202271,\n",
       " 'supah mario': 1928704,\n",
       " 'mario bruddas': 1224679,\n",
       " 'bruddas baybeee': 280481,\n",
       " 'progressive': 1564996,\n",
       " 'trustworthy': 2078604,\n",
       " 'enough': 624723,\n",
       " 'steal': 1890840,\n",
       " 'votes': 2159696,\n",
       " 'back': 178393,\n",
       " 'trump': 2076215,\n",
       " 'progressive trustworthy': 1565164,\n",
       " 'trustworthy enough': 2078617,\n",
       " 'enough steal': 626481,\n",
       " 'steal votes': 1891194,\n",
       " 'votes back': 2159714,\n",
       " 'back trump': 181088,\n",
       " 'teeth': 1975621,\n",
       " 'visibly': 2154735,\n",
       " 'broken': 277401,\n",
       " 'stained': 1878184,\n",
       " 'profiled': 1563570,\n",
       " 'drug': 579991,\n",
       " 'user': 2131253,\n",
       " 'bad teeth': 185094,\n",
       " 'teeth visibly': 1975764,\n",
       " 'visibly broken': 2154739,\n",
       " 'broken missing': 277649,\n",
       " 'missing stained': 1282076,\n",
       " 'stained likely': 1878190,\n",
       " 'likely get': 1146784,\n",
       " 'get profiled': 802386,\n",
       " 'profiled drug': 1563571,\n",
       " 'drug user': 580213,\n",
       " 'funny': 773854,\n",
       " 'whats': 2208486,\n",
       " 'title': 2039943,\n",
       " 'funny dont': 774055,\n",
       " 'know whats': 1082117,\n",
       " 'whats title': 2209572,\n",
       " 'expel': 666324,\n",
       " 'students': 1913781,\n",
       " 'school': 1733478,\n",
       " 'administration': 70033,\n",
       " 'fixed': 725968,\n",
       " 'problem': 1558750,\n",
       " 'sex': 1772108,\n",
       " 'bathroom': 200257,\n",
       " 'expel students': 666333,\n",
       " 'students school': 1914008,\n",
       " 'school administration': 1733502,\n",
       " 'administration fixed': 70070,\n",
       " 'fixed problem': 726175,\n",
       " 'problem sex': 1559715,\n",
       " 'sex bathroom': 1772189,\n",
       " 'coach': 386694,\n",
       " 'apply': 134455,\n",
       " 'coaching': 387119,\n",
       " 'selfcentered': 1758417,\n",
       " 'prick': 1551350,\n",
       " 'coach people': 386890,\n",
       " 'people apply': 1465695,\n",
       " 'apply coaching': 134503,\n",
       " 'coaching selfcentered': 387180,\n",
       " 'selfcentered prick': 1758421,\n",
       " 'texas': 1985560,\n",
       " 'danielle': 486766,\n",
       " 'radcliffe': 1601031,\n",
       " 'danielle radcliffe': 486774,\n",
       " 'bought': 262478,\n",
       " 'korean': 1086796,\n",
       " 'version': 2145447,\n",
       " 'bought korean': 262823,\n",
       " 'korean version': 1086934,\n",
       " 'literally': 1154970,\n",
       " 'changes': 346206,\n",
       " 'okay': 1398480,\n",
       " 'literally changes': 1155158,\n",
       " 'changes nothing': 346397,\n",
       " 'nothing okay': 1373214,\n",
       " 'sikh': 1806112,\n",
       " 'muslin': 1317786,\n",
       " 'sikh muslin': 1806123,\n",
       " 'sugar': 1924915,\n",
       " 'cube': 470166,\n",
       " 'went': 2203979,\n",
       " 'sugar cube': 1924943,\n",
       " 'cube went': 470211,\n",
       " 'allowed': 91879,\n",
       " 'places': 1497120,\n",
       " 'plays': 1508816,\n",
       " 'hes even': 919748,\n",
       " 'even allowed': 641310,\n",
       " 'allowed places': 92287,\n",
       " 'places plays': 1497330,\n",
       " 'fake': 683113,\n",
       " 'news': 1352751,\n",
       " 'sites': 1815825,\n",
       " 'media': 1249948,\n",
       " 'fake news': 683475,\n",
       " 'news sites': 1353461,\n",
       " 'sites media': 1815900,\n",
       " 'chuckled': 366050,\n",
       " 'saying': 1726551,\n",
       " 'wrong': 2262330,\n",
       " 'inconsistent': 989215,\n",
       " 'saying wrong': 1728203,\n",
       " 'wrong saying': 2263400,\n",
       " 'saying inconsistent': 1727312,\n",
       " 'actually': 62397,\n",
       " 'im canada': 974139,\n",
       " 'canada actually': 311141,\n",
       " 'said': 1710961,\n",
       " 'felt': 703629,\n",
       " 'tone': 2046351,\n",
       " 'campaign': 310148,\n",
       " 'said felt': 1711741,\n",
       " 'felt bad': 703647,\n",
       " 'bad tone': 185161,\n",
       " 'tone campaign': 2046361,\n",
       " 'gud': 865964,\n",
       " 'join': 1044172,\n",
       " 'arma': 142998,\n",
       " 'master': 1230243,\n",
       " 'race': 1598150,\n",
       " 'get gud': 800248,\n",
       " 'gud join': 866000,\n",
       " 'join arma': 1044188,\n",
       " 'arma master': 143017,\n",
       " 'master race': 1230428,\n",
       " 'potheads': 1535634,\n",
       " 'lazy': 1104267,\n",
       " 'go': 822497,\n",
       " 'polls': 1521764,\n",
       " 'keep': 1056598,\n",
       " 'track': 2058701,\n",
       " 'election': 607362,\n",
       " 'day': 492153,\n",
       " 'anyway': 128820,\n",
       " 'thats potheads': 1993755,\n",
       " 'potheads lazy': 1535643,\n",
       " 'lazy go': 1104408,\n",
       " 'go polls': 824835,\n",
       " 'polls keep': 1521824,\n",
       " 'keep track': 1058289,\n",
       " 'track election': 2058790,\n",
       " 'election day': 607434,\n",
       " 'day anyway': 492269,\n",
       " 'hit': 932404,\n",
       " 'axe': 175946,\n",
       " 'run': 1701558,\n",
       " 'away': 172403,\n",
       " 'speed': 1864903,\n",
       " 'buff': 283583,\n",
       " 'hit axe': 932542,\n",
       " 'axe run': 176020,\n",
       " 'run away': 1701708,\n",
       " 'away speed': 173607,\n",
       " 'speed buff': 1864977,\n",
       " 'takes': 1957208,\n",
       " 'seat': 1744077,\n",
       " 'takes back': 1957271,\n",
       " 'back seat': 180670,\n",
       " 'seat one': 1744178,\n",
       " 'mind': 1273286,\n",
       " 'shirtless': 1784590,\n",
       " 'pics': 1487776,\n",
       " 'shelley': 1779984,\n",
       " 'hennig': 916857,\n",
       " 'okay mind': 1398926,\n",
       " 'mind post': 1273825,\n",
       " 'post shirtless': 1532167,\n",
       " 'shirtless pics': 1784602,\n",
       " 'pics shelley': 1487939,\n",
       " 'shelley hennig': 1779987,\n",
       " 'killing': 1068436,\n",
       " 'floor': 731515,\n",
       " 'fantastic': 689310,\n",
       " 'doubt': 567019,\n",
       " 'anyone': 125566,\n",
       " 'cared': 322927,\n",
       " 'unreal': 2113730,\n",
       " 'engine': 621605,\n",
       " 'killing floor': 1068625,\n",
       " 'floor looks': 731617,\n",
       " 'looks fantastic': 1175374,\n",
       " 'fantastic doubt': 689365,\n",
       " 'doubt anyone': 567037,\n",
       " 'anyone cared': 125724,\n",
       " 'cared unreal': 322986,\n",
       " 'unreal engine': 2113734,\n",
       " 'glad': 818677,\n",
       " 'never': 1346962,\n",
       " 'found': 748159,\n",
       " 'happened': 888880,\n",
       " 'girl': 812162,\n",
       " 'glad know': 819009,\n",
       " 'know never': 1080186,\n",
       " 'never found': 1347770,\n",
       " 'found happened': 748654,\n",
       " 'happened little': 889316,\n",
       " 'little girl': 1157058,\n",
       " 'third': 2015821,\n",
       " 'source': 1856880,\n",
       " 'ndp': 1333297,\n",
       " 'apologizing': 131123,\n",
       " 'rebel': 1628513,\n",
       " 'third source': 2016029,\n",
       " 'source ndp': 1857205,\n",
       " 'ndp apologizing': 1333303,\n",
       " 'apologizing rebel': 131134,\n",
       " 'famous': 686781,\n",
       " ...}"
      ]
     },
     "metadata": {},
     "execution_count": 25
    }
   ],
   "source": [
    "print(X_train_vectorizer.shape)\n",
    "vectorizer.vocabulary_"
   ]
  },
  {
   "cell_type": "code",
   "execution_count": 26,
   "metadata": {
    "scrolled": true
   },
   "outputs": [
    {
     "output_type": "display_data",
     "data": {
      "application/vnd.plotly.v1+json": {
       "config": {
        "plotlyServerURL": "https://plot.ly"
       },
       "data": [
        {
         "marker": {
          "color": "rgb(253, 240, 54)",
          "line": {
           "color": "rgb(0, 0, 0)",
           "width": 2
          }
         },
         "orientation": "h",
         "type": "bar",
         "x": [
          1326723,
          1716150,
          1327083,
          1076571,
          2173898,
          2120228,
          1076593,
          2174741,
          556744,
          787992
         ],
         "y": [
          "named",
          "samsquanch",
          "named samsquanch",
          "knob",
          "wants",
          "uranus",
          "knob wants",
          "wants uranus",
          "dogs",
          "gave"
         ]
        }
       ],
       "layout": {
        "template": {
         "data": {
          "bar": [
           {
            "error_x": {
             "color": "#2a3f5f"
            },
            "error_y": {
             "color": "#2a3f5f"
            },
            "marker": {
             "line": {
              "color": "#E5ECF6",
              "width": 0.5
             }
            },
            "type": "bar"
           }
          ],
          "barpolar": [
           {
            "marker": {
             "line": {
              "color": "#E5ECF6",
              "width": 0.5
             }
            },
            "type": "barpolar"
           }
          ],
          "carpet": [
           {
            "aaxis": {
             "endlinecolor": "#2a3f5f",
             "gridcolor": "white",
             "linecolor": "white",
             "minorgridcolor": "white",
             "startlinecolor": "#2a3f5f"
            },
            "baxis": {
             "endlinecolor": "#2a3f5f",
             "gridcolor": "white",
             "linecolor": "white",
             "minorgridcolor": "white",
             "startlinecolor": "#2a3f5f"
            },
            "type": "carpet"
           }
          ],
          "choropleth": [
           {
            "colorbar": {
             "outlinewidth": 0,
             "ticks": ""
            },
            "type": "choropleth"
           }
          ],
          "contour": [
           {
            "colorbar": {
             "outlinewidth": 0,
             "ticks": ""
            },
            "colorscale": [
             [
              0,
              "#0d0887"
             ],
             [
              0.1111111111111111,
              "#46039f"
             ],
             [
              0.2222222222222222,
              "#7201a8"
             ],
             [
              0.3333333333333333,
              "#9c179e"
             ],
             [
              0.4444444444444444,
              "#bd3786"
             ],
             [
              0.5555555555555556,
              "#d8576b"
             ],
             [
              0.6666666666666666,
              "#ed7953"
             ],
             [
              0.7777777777777778,
              "#fb9f3a"
             ],
             [
              0.8888888888888888,
              "#fdca26"
             ],
             [
              1,
              "#f0f921"
             ]
            ],
            "type": "contour"
           }
          ],
          "contourcarpet": [
           {
            "colorbar": {
             "outlinewidth": 0,
             "ticks": ""
            },
            "type": "contourcarpet"
           }
          ],
          "heatmap": [
           {
            "colorbar": {
             "outlinewidth": 0,
             "ticks": ""
            },
            "colorscale": [
             [
              0,
              "#0d0887"
             ],
             [
              0.1111111111111111,
              "#46039f"
             ],
             [
              0.2222222222222222,
              "#7201a8"
             ],
             [
              0.3333333333333333,
              "#9c179e"
             ],
             [
              0.4444444444444444,
              "#bd3786"
             ],
             [
              0.5555555555555556,
              "#d8576b"
             ],
             [
              0.6666666666666666,
              "#ed7953"
             ],
             [
              0.7777777777777778,
              "#fb9f3a"
             ],
             [
              0.8888888888888888,
              "#fdca26"
             ],
             [
              1,
              "#f0f921"
             ]
            ],
            "type": "heatmap"
           }
          ],
          "heatmapgl": [
           {
            "colorbar": {
             "outlinewidth": 0,
             "ticks": ""
            },
            "colorscale": [
             [
              0,
              "#0d0887"
             ],
             [
              0.1111111111111111,
              "#46039f"
             ],
             [
              0.2222222222222222,
              "#7201a8"
             ],
             [
              0.3333333333333333,
              "#9c179e"
             ],
             [
              0.4444444444444444,
              "#bd3786"
             ],
             [
              0.5555555555555556,
              "#d8576b"
             ],
             [
              0.6666666666666666,
              "#ed7953"
             ],
             [
              0.7777777777777778,
              "#fb9f3a"
             ],
             [
              0.8888888888888888,
              "#fdca26"
             ],
             [
              1,
              "#f0f921"
             ]
            ],
            "type": "heatmapgl"
           }
          ],
          "histogram": [
           {
            "marker": {
             "colorbar": {
              "outlinewidth": 0,
              "ticks": ""
             }
            },
            "type": "histogram"
           }
          ],
          "histogram2d": [
           {
            "colorbar": {
             "outlinewidth": 0,
             "ticks": ""
            },
            "colorscale": [
             [
              0,
              "#0d0887"
             ],
             [
              0.1111111111111111,
              "#46039f"
             ],
             [
              0.2222222222222222,
              "#7201a8"
             ],
             [
              0.3333333333333333,
              "#9c179e"
             ],
             [
              0.4444444444444444,
              "#bd3786"
             ],
             [
              0.5555555555555556,
              "#d8576b"
             ],
             [
              0.6666666666666666,
              "#ed7953"
             ],
             [
              0.7777777777777778,
              "#fb9f3a"
             ],
             [
              0.8888888888888888,
              "#fdca26"
             ],
             [
              1,
              "#f0f921"
             ]
            ],
            "type": "histogram2d"
           }
          ],
          "histogram2dcontour": [
           {
            "colorbar": {
             "outlinewidth": 0,
             "ticks": ""
            },
            "colorscale": [
             [
              0,
              "#0d0887"
             ],
             [
              0.1111111111111111,
              "#46039f"
             ],
             [
              0.2222222222222222,
              "#7201a8"
             ],
             [
              0.3333333333333333,
              "#9c179e"
             ],
             [
              0.4444444444444444,
              "#bd3786"
             ],
             [
              0.5555555555555556,
              "#d8576b"
             ],
             [
              0.6666666666666666,
              "#ed7953"
             ],
             [
              0.7777777777777778,
              "#fb9f3a"
             ],
             [
              0.8888888888888888,
              "#fdca26"
             ],
             [
              1,
              "#f0f921"
             ]
            ],
            "type": "histogram2dcontour"
           }
          ],
          "mesh3d": [
           {
            "colorbar": {
             "outlinewidth": 0,
             "ticks": ""
            },
            "type": "mesh3d"
           }
          ],
          "parcoords": [
           {
            "line": {
             "colorbar": {
              "outlinewidth": 0,
              "ticks": ""
             }
            },
            "type": "parcoords"
           }
          ],
          "pie": [
           {
            "automargin": true,
            "type": "pie"
           }
          ],
          "scatter": [
           {
            "marker": {
             "colorbar": {
              "outlinewidth": 0,
              "ticks": ""
             }
            },
            "type": "scatter"
           }
          ],
          "scatter3d": [
           {
            "line": {
             "colorbar": {
              "outlinewidth": 0,
              "ticks": ""
             }
            },
            "marker": {
             "colorbar": {
              "outlinewidth": 0,
              "ticks": ""
             }
            },
            "type": "scatter3d"
           }
          ],
          "scattercarpet": [
           {
            "marker": {
             "colorbar": {
              "outlinewidth": 0,
              "ticks": ""
             }
            },
            "type": "scattercarpet"
           }
          ],
          "scattergeo": [
           {
            "marker": {
             "colorbar": {
              "outlinewidth": 0,
              "ticks": ""
             }
            },
            "type": "scattergeo"
           }
          ],
          "scattergl": [
           {
            "marker": {
             "colorbar": {
              "outlinewidth": 0,
              "ticks": ""
             }
            },
            "type": "scattergl"
           }
          ],
          "scattermapbox": [
           {
            "marker": {
             "colorbar": {
              "outlinewidth": 0,
              "ticks": ""
             }
            },
            "type": "scattermapbox"
           }
          ],
          "scatterpolar": [
           {
            "marker": {
             "colorbar": {
              "outlinewidth": 0,
              "ticks": ""
             }
            },
            "type": "scatterpolar"
           }
          ],
          "scatterpolargl": [
           {
            "marker": {
             "colorbar": {
              "outlinewidth": 0,
              "ticks": ""
             }
            },
            "type": "scatterpolargl"
           }
          ],
          "scatterternary": [
           {
            "marker": {
             "colorbar": {
              "outlinewidth": 0,
              "ticks": ""
             }
            },
            "type": "scatterternary"
           }
          ],
          "surface": [
           {
            "colorbar": {
             "outlinewidth": 0,
             "ticks": ""
            },
            "colorscale": [
             [
              0,
              "#0d0887"
             ],
             [
              0.1111111111111111,
              "#46039f"
             ],
             [
              0.2222222222222222,
              "#7201a8"
             ],
             [
              0.3333333333333333,
              "#9c179e"
             ],
             [
              0.4444444444444444,
              "#bd3786"
             ],
             [
              0.5555555555555556,
              "#d8576b"
             ],
             [
              0.6666666666666666,
              "#ed7953"
             ],
             [
              0.7777777777777778,
              "#fb9f3a"
             ],
             [
              0.8888888888888888,
              "#fdca26"
             ],
             [
              1,
              "#f0f921"
             ]
            ],
            "type": "surface"
           }
          ],
          "table": [
           {
            "cells": {
             "fill": {
              "color": "#EBF0F8"
             },
             "line": {
              "color": "white"
             }
            },
            "header": {
             "fill": {
              "color": "#C8D4E3"
             },
             "line": {
              "color": "white"
             }
            },
            "type": "table"
           }
          ]
         },
         "layout": {
          "annotationdefaults": {
           "arrowcolor": "#2a3f5f",
           "arrowhead": 0,
           "arrowwidth": 1
          },
          "coloraxis": {
           "colorbar": {
            "outlinewidth": 0,
            "ticks": ""
           }
          },
          "colorscale": {
           "diverging": [
            [
             0,
             "#8e0152"
            ],
            [
             0.1,
             "#c51b7d"
            ],
            [
             0.2,
             "#de77ae"
            ],
            [
             0.3,
             "#f1b6da"
            ],
            [
             0.4,
             "#fde0ef"
            ],
            [
             0.5,
             "#f7f7f7"
            ],
            [
             0.6,
             "#e6f5d0"
            ],
            [
             0.7,
             "#b8e186"
            ],
            [
             0.8,
             "#7fbc41"
            ],
            [
             0.9,
             "#4d9221"
            ],
            [
             1,
             "#276419"
            ]
           ],
           "sequential": [
            [
             0,
             "#0d0887"
            ],
            [
             0.1111111111111111,
             "#46039f"
            ],
            [
             0.2222222222222222,
             "#7201a8"
            ],
            [
             0.3333333333333333,
             "#9c179e"
            ],
            [
             0.4444444444444444,
             "#bd3786"
            ],
            [
             0.5555555555555556,
             "#d8576b"
            ],
            [
             0.6666666666666666,
             "#ed7953"
            ],
            [
             0.7777777777777778,
             "#fb9f3a"
            ],
            [
             0.8888888888888888,
             "#fdca26"
            ],
            [
             1,
             "#f0f921"
            ]
           ],
           "sequentialminus": [
            [
             0,
             "#0d0887"
            ],
            [
             0.1111111111111111,
             "#46039f"
            ],
            [
             0.2222222222222222,
             "#7201a8"
            ],
            [
             0.3333333333333333,
             "#9c179e"
            ],
            [
             0.4444444444444444,
             "#bd3786"
            ],
            [
             0.5555555555555556,
             "#d8576b"
            ],
            [
             0.6666666666666666,
             "#ed7953"
            ],
            [
             0.7777777777777778,
             "#fb9f3a"
            ],
            [
             0.8888888888888888,
             "#fdca26"
            ],
            [
             1,
             "#f0f921"
            ]
           ]
          },
          "colorway": [
           "#636efa",
           "#EF553B",
           "#00cc96",
           "#ab63fa",
           "#FFA15A",
           "#19d3f3",
           "#FF6692",
           "#B6E880",
           "#FF97FF",
           "#FECB52"
          ],
          "font": {
           "color": "#2a3f5f"
          },
          "geo": {
           "bgcolor": "white",
           "lakecolor": "white",
           "landcolor": "#E5ECF6",
           "showlakes": true,
           "showland": true,
           "subunitcolor": "white"
          },
          "hoverlabel": {
           "align": "left"
          },
          "hovermode": "closest",
          "mapbox": {
           "style": "light"
          },
          "paper_bgcolor": "white",
          "plot_bgcolor": "#E5ECF6",
          "polar": {
           "angularaxis": {
            "gridcolor": "white",
            "linecolor": "white",
            "ticks": ""
           },
           "bgcolor": "#E5ECF6",
           "radialaxis": {
            "gridcolor": "white",
            "linecolor": "white",
            "ticks": ""
           }
          },
          "scene": {
           "xaxis": {
            "backgroundcolor": "#E5ECF6",
            "gridcolor": "white",
            "gridwidth": 2,
            "linecolor": "white",
            "showbackground": true,
            "ticks": "",
            "zerolinecolor": "white"
           },
           "yaxis": {
            "backgroundcolor": "#E5ECF6",
            "gridcolor": "white",
            "gridwidth": 2,
            "linecolor": "white",
            "showbackground": true,
            "ticks": "",
            "zerolinecolor": "white"
           },
           "zaxis": {
            "backgroundcolor": "#E5ECF6",
            "gridcolor": "white",
            "gridwidth": 2,
            "linecolor": "white",
            "showbackground": true,
            "ticks": "",
            "zerolinecolor": "white"
           }
          },
          "shapedefaults": {
           "line": {
            "color": "#2a3f5f"
           }
          },
          "ternary": {
           "aaxis": {
            "gridcolor": "white",
            "linecolor": "white",
            "ticks": ""
           },
           "baxis": {
            "gridcolor": "white",
            "linecolor": "white",
            "ticks": ""
           },
           "bgcolor": "#E5ECF6",
           "caxis": {
            "gridcolor": "white",
            "linecolor": "white",
            "ticks": ""
           }
          },
          "title": {
           "x": 0.05
          },
          "xaxis": {
           "automargin": true,
           "gridcolor": "white",
           "linecolor": "white",
           "ticks": "",
           "title": {
            "standoff": 15
           },
           "zerolinecolor": "white",
           "zerolinewidth": 2
          },
          "yaxis": {
           "automargin": true,
           "gridcolor": "white",
           "linecolor": "white",
           "ticks": "",
           "title": {
            "standoff": 15
           },
           "zerolinecolor": "white",
           "zerolinewidth": 2
          }
         }
        }
       }
      }
     },
     "metadata": {}
    }
   ],
   "source": [
    "fig = go.Figure()\n",
    "\n",
    "fig.add_trace(\n",
    "    go.Bar(\n",
    "        x=[value for key, value in vectorizer.vocabulary_.items()][:10],\n",
    "        y=[key for key, value in vectorizer.vocabulary_.items()][:10],\n",
    "        marker=go.bar.Marker(\n",
    "            color=\"rgb(253, 240, 54)\",\n",
    "            line=dict(color=\"rgb(0, 0, 0)\",\n",
    "                      width=2)\n",
    "        ),\n",
    "        orientation=\"h\",\n",
    "    )\n",
    ")\n"
   ]
  },
  {
   "cell_type": "code",
   "execution_count": 27,
   "metadata": {},
   "outputs": [],
   "source": [
    "from sklearn.feature_extraction.text import TfidfVectorizer"
   ]
  },
  {
   "cell_type": "code",
   "execution_count": 28,
   "metadata": {},
   "outputs": [
    {
     "output_type": "execute_result",
     "data": {
      "text/plain": [
       "<758079x2303612 sparse matrix of type '<class 'numpy.float64'>'\n",
       "\twith 7811149 stored elements in Compressed Sparse Row format>"
      ]
     },
     "metadata": {},
     "execution_count": 28
    }
   ],
   "source": [
    "tfid = TfidfVectorizer(stop_words= english_stop_words,\n",
    "                       ngram_range=(1,2))\n",
    "tfid.fit(train_texts)\n",
    "tfid.transform(train_texts)"
   ]
  },
  {
   "cell_type": "code",
   "execution_count": 29,
   "metadata": {},
   "outputs": [
    {
     "output_type": "execute_result",
     "data": {
      "text/plain": [
       "array([10.95502526, 13.84539702, 13.84539702, 13.84539702, 13.84539702])"
      ]
     },
     "metadata": {},
     "execution_count": 29
    }
   ],
   "source": [
    "tfid.idf_[:5]"
   ]
  },
  {
   "cell_type": "code",
   "execution_count": 30,
   "metadata": {},
   "outputs": [
    {
     "output_type": "execute_result",
     "data": {
      "text/plain": [
       "['00', '00 arrested', '00 buckshot', '00 burnley', '00 cause']"
      ]
     },
     "metadata": {},
     "execution_count": 30
    }
   ],
   "source": [
    "tfid.get_feature_names()[:5]"
   ]
  },
  {
   "cell_type": "code",
   "execution_count": null,
   "metadata": {},
   "outputs": [],
   "source": [
    "train_texts[1000]"
   ]
  },
  {
   "cell_type": "code",
   "execution_count": null,
   "metadata": {},
   "outputs": [],
   "source": [
    "#Build a Tf-Idf + logistic regression pipeline to predict sarcasm (label) \n",
    "#based on the text of a comment on Reddit (comment).\n",
    "from sklearn.pipeline import Pipeline\n",
    "from sklearn.linear_model import LogisticRegression\n",
    "from sklearn.model_selection import GridSearchCV\n",
    "from sklearn.feature_extraction.text import TfidfVectorizer"
   ]
  },
  {
   "cell_type": "code",
   "execution_count": null,
   "metadata": {},
   "outputs": [],
   "source": [
    "log_reg =  Pipeline([(\"tfidf\", TfidfVectorizer()),\n",
    "                     (\"reglog\",LogisticRegression())                  \n",
    "                      ])\n",
    "\n",
    "reglog_grid = {\n",
    "                \"tfidf__stop_words\":english_stop_words,\n",
    "                \"tfidf__ngram_range\":(1,2),\n",
    "                \"reglog__penalty\": [\"l1\",\"l2\"],\n",
    "                \"reglog__C\": [0.1, 0.25, 0.5,0.75, 1.0]\n",
    "}\n",
    "\n",
    "model_grid = GridSearchCV(log_reg,\n",
    "                          reglog_grid,\n",
    "                          cv = 5,\n",
    "                          scoring = 'accuracy'\n",
    "                         )"
   ]
  },
  {
   "cell_type": "code",
   "execution_count": null,
   "metadata": {},
   "outputs": [],
   "source": [
    "model_grid.fit(train_texts, y_train)\n"
   ]
  },
  {
   "cell_type": "code",
   "execution_count": null,
   "metadata": {},
   "outputs": [],
   "source": []
  }
 ],
 "metadata": {
  "kernelspec": {
   "display_name": "Python 3",
   "language": "python",
   "name": "python3"
  },
  "language_info": {
   "codemirror_mode": {
    "name": "ipython",
    "version": 3
   },
   "file_extension": ".py",
   "mimetype": "text/x-python",
   "name": "python",
   "nbconvert_exporter": "python",
   "pygments_lexer": "ipython3",
   "version": "3.7.4-final"
  }
 },
 "nbformat": 4,
 "nbformat_minor": 4
}