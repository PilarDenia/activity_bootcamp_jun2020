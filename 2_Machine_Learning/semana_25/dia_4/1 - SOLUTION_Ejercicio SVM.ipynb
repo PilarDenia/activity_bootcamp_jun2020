{
 "cells": [
  {
   "cell_type": "markdown",
   "metadata": {
    "id": "783FA049nkYX"
   },
   "source": [
    "# Support Vector Machines - Exercise 1"
   ]
  },
  {
   "cell_type": "markdown",
   "metadata": {
    "id": "ki49rbd2nkYZ"
   },
   "source": [
    "In this exercise, we'll be using support vector machines (SVMs) to build a spam classifier.  We'll start with SVMs on some simple 2D data sets to see how they work.  Then we'll do some pre-processing work on a set of raw emails and build a classifier on the processed emails using a SVM to determine if they are spam or not."
   ]
  },
  {
   "cell_type": "markdown",
   "metadata": {
    "id": "0doqgOa9nkYZ"
   },
   "source": [
    "The first thing we're going to do is look at a simple 2-dimensional data set and see how a linear SVM works on the data set for varying values of C (similar to the regularization term in linear/logistic regression).  Let's load the data.\n",
    "## Exercise 1\n",
    "#### 1. Load libraries"
   ]
  },
  {
   "cell_type": "code",
   "execution_count": 15,
   "metadata": {},
   "outputs": [],
   "source": [
    "import pandas as pd\n",
    "import numpy as np\n",
    "import seaborn as sns\n",
    "from scipy.io import loadmat\n",
    "import matplotlib.pyplot as plt"
   ]
  },
  {
   "cell_type": "markdown",
   "metadata": {},
   "source": [
    "#### 2. Load data\n",
    "Load the file *ejer_1_data1.mat*. Find the way for loading this kind of file."
   ]
  },
  {
   "cell_type": "code",
   "execution_count": 4,
   "metadata": {
    "collapsed": true,
    "jupyter": {
     "outputs_hidden": true
    }
   },
   "outputs": [
    {
     "data": {
      "text/plain": [
       "{'__header__': b'MATLAB 5.0 MAT-file, Platform: GLNXA64, Created on: Sun Nov 13 14:28:43 2011',\n",
       " '__version__': '1.0',\n",
       " '__globals__': [],\n",
       " 'X': array([[1.9643  , 4.5957  ],\n",
       "        [2.2753  , 3.8589  ],\n",
       "        [2.9781  , 4.5651  ],\n",
       "        [2.932   , 3.5519  ],\n",
       "        [3.5772  , 2.856   ],\n",
       "        [4.015   , 3.1937  ],\n",
       "        [3.3814  , 3.4291  ],\n",
       "        [3.9113  , 4.1761  ],\n",
       "        [2.7822  , 4.0431  ],\n",
       "        [2.5518  , 4.6162  ],\n",
       "        [3.3698  , 3.9101  ],\n",
       "        [3.1048  , 3.0709  ],\n",
       "        [1.9182  , 4.0534  ],\n",
       "        [2.2638  , 4.3706  ],\n",
       "        [2.6555  , 3.5008  ],\n",
       "        [3.1855  , 4.2888  ],\n",
       "        [3.6579  , 3.8692  ],\n",
       "        [3.9113  , 3.4291  ],\n",
       "        [3.6002  , 3.1221  ],\n",
       "        [3.0357  , 3.3165  ],\n",
       "        [1.5841  , 3.3575  ],\n",
       "        [2.0103  , 3.2039  ],\n",
       "        [1.9527  , 2.7843  ],\n",
       "        [2.2753  , 2.7127  ],\n",
       "        [2.3099  , 2.9584  ],\n",
       "        [2.8283  , 2.6309  ],\n",
       "        [3.0473  , 2.2931  ],\n",
       "        [2.4827  , 2.0373  ],\n",
       "        [2.5057  , 2.3853  ],\n",
       "        [1.8721  , 2.0577  ],\n",
       "        [2.0103  , 2.3546  ],\n",
       "        [1.2269  , 2.3239  ],\n",
       "        [1.8951  , 2.9174  ],\n",
       "        [1.561   , 3.0709  ],\n",
       "        [1.5495  , 2.6923  ],\n",
       "        [1.6878  , 2.4057  ],\n",
       "        [1.4919  , 2.0271  ],\n",
       "        [0.962   , 2.682   ],\n",
       "        [1.1693  , 2.9276  ],\n",
       "        [0.8122  , 2.9992  ],\n",
       "        [0.9735  , 3.3881  ],\n",
       "        [1.25    , 3.1937  ],\n",
       "        [1.3191  , 3.5109  ],\n",
       "        [2.2292  , 2.201   ],\n",
       "        [2.4482  , 2.6411  ],\n",
       "        [2.7938  , 1.9656  ],\n",
       "        [2.091   , 1.6177  ],\n",
       "        [2.5403  , 2.8867  ],\n",
       "        [0.9044  , 3.0198  ],\n",
       "        [0.76615 , 2.5899  ],\n",
       "        [0.086405, 4.1045  ]]),\n",
       " 'y': array([[1],\n",
       "        [1],\n",
       "        [1],\n",
       "        [1],\n",
       "        [1],\n",
       "        [1],\n",
       "        [1],\n",
       "        [1],\n",
       "        [1],\n",
       "        [1],\n",
       "        [1],\n",
       "        [1],\n",
       "        [1],\n",
       "        [1],\n",
       "        [1],\n",
       "        [1],\n",
       "        [1],\n",
       "        [1],\n",
       "        [1],\n",
       "        [1],\n",
       "        [0],\n",
       "        [0],\n",
       "        [0],\n",
       "        [0],\n",
       "        [0],\n",
       "        [0],\n",
       "        [0],\n",
       "        [0],\n",
       "        [0],\n",
       "        [0],\n",
       "        [0],\n",
       "        [0],\n",
       "        [0],\n",
       "        [0],\n",
       "        [0],\n",
       "        [0],\n",
       "        [0],\n",
       "        [0],\n",
       "        [0],\n",
       "        [0],\n",
       "        [0],\n",
       "        [0],\n",
       "        [0],\n",
       "        [0],\n",
       "        [0],\n",
       "        [0],\n",
       "        [0],\n",
       "        [0],\n",
       "        [0],\n",
       "        [0],\n",
       "        [1]], dtype=uint8)}"
      ]
     },
     "execution_count": 4,
     "metadata": {},
     "output_type": "execute_result"
    }
   ],
   "source": [
    "raw_data = loadmat('./data/ejer_1_data1.mat')\n",
    "raw_data"
   ]
  },
  {
   "cell_type": "markdown",
   "metadata": {},
   "source": [
    "#### 3. Create a DataFrame with the features and target"
   ]
  },
  {
   "cell_type": "code",
   "execution_count": 6,
   "metadata": {
    "collapsed": true,
    "jupyter": {
     "outputs_hidden": true
    }
   },
   "outputs": [
    {
     "data": {
      "text/html": [
       "<div>\n",
       "<style scoped>\n",
       "    .dataframe tbody tr th:only-of-type {\n",
       "        vertical-align: middle;\n",
       "    }\n",
       "\n",
       "    .dataframe tbody tr th {\n",
       "        vertical-align: top;\n",
       "    }\n",
       "\n",
       "    .dataframe thead th {\n",
       "        text-align: right;\n",
       "    }\n",
       "</style>\n",
       "<table border=\"1\" class=\"dataframe\">\n",
       "  <thead>\n",
       "    <tr style=\"text-align: right;\">\n",
       "      <th></th>\n",
       "      <th>X1</th>\n",
       "      <th>X2</th>\n",
       "      <th>y</th>\n",
       "    </tr>\n",
       "  </thead>\n",
       "  <tbody>\n",
       "    <tr>\n",
       "      <th>0</th>\n",
       "      <td>1.9643</td>\n",
       "      <td>4.5957</td>\n",
       "      <td>1</td>\n",
       "    </tr>\n",
       "    <tr>\n",
       "      <th>1</th>\n",
       "      <td>2.2753</td>\n",
       "      <td>3.8589</td>\n",
       "      <td>1</td>\n",
       "    </tr>\n",
       "    <tr>\n",
       "      <th>2</th>\n",
       "      <td>2.9781</td>\n",
       "      <td>4.5651</td>\n",
       "      <td>1</td>\n",
       "    </tr>\n",
       "    <tr>\n",
       "      <th>3</th>\n",
       "      <td>2.9320</td>\n",
       "      <td>3.5519</td>\n",
       "      <td>1</td>\n",
       "    </tr>\n",
       "    <tr>\n",
       "      <th>4</th>\n",
       "      <td>3.5772</td>\n",
       "      <td>2.8560</td>\n",
       "      <td>1</td>\n",
       "    </tr>\n",
       "  </tbody>\n",
       "</table>\n",
       "</div>"
      ],
      "text/plain": [
       "       X1      X2  y\n",
       "0  1.9643  4.5957  1\n",
       "1  2.2753  3.8589  1\n",
       "2  2.9781  4.5651  1\n",
       "3  2.9320  3.5519  1\n",
       "4  3.5772  2.8560  1"
      ]
     },
     "execution_count": 6,
     "metadata": {},
     "output_type": "execute_result"
    }
   ],
   "source": [
    "data = pd.DataFrame(raw_data['X'], columns=['X1', 'X2'])\n",
    "data['y'] = raw_data['y']\n",
    "data.head()"
   ]
  },
  {
   "cell_type": "markdown",
   "metadata": {},
   "source": [
    "#### 4. Plot a scatterplot with the data"
   ]
  },
  {
   "cell_type": "code",
   "execution_count": 8,
   "metadata": {},
   "outputs": [
    {
     "data": {
      "image/png": "[encoded data removed]",
      "text/plain": [
       "<Figure size 432x288 with 1 Axes>"
      ]
     },
     "metadata": {
      "needs_background": "light"
     },
     "output_type": "display_data"
    }
   ],
   "source": [
    "sns.scatterplot(data = data,\n",
    "               x = \"X1\",\n",
    "               y = \"X2\",\n",
    "               hue = \"y\");"
   ]
  },
  {
   "cell_type": "markdown",
   "metadata": {
    "id": "IXSH26wgnkYj"
   },
   "source": [
    "Notice that there is one outlier positive example that sits apart from the others.  The classes are still linearly separable but it's a very tight fit.  We're going to train a linear support vector machine to learn the class boundary.\n",
    "\n",
    "#### 5. LinearSVC\n",
    "Declare a Linear SVC with the hyperparamenters:\n",
    "\n",
    "```Python\n",
    "LinearSVC(C=1, loss='hinge', max_iter=10000)\n",
    "```"
   ]
  },
  {
   "cell_type": "code",
   "execution_count": 10,
   "metadata": {
    "id": "t2--LYi4nkYj",
    "outputId": "d54f4cbd-ad01-4af2-f647-91e0717298c0"
   },
   "outputs": [],
   "source": [
    "from sklearn.svm import LinearSVC\n",
    "\n",
    "svc = LinearSVC(C=1, loss='hinge', max_iter=10000)"
   ]
  },
  {
   "cell_type": "markdown",
   "metadata": {
    "id": "E3AVSx6DnkYn"
   },
   "source": [
    "#### 6. Try the performance (score)\n",
    "For the first experiment we'll use C=1 and see how it performs."
   ]
  },
  {
   "cell_type": "code",
   "execution_count": 11,
   "metadata": {
    "id": "SQDBok7unkYn",
    "outputId": "3608331e-6b2b-4dc8-aad8-783cc69d9278"
   },
   "outputs": [
    {
     "data": {
      "text/plain": [
       "0.9803921568627451"
      ]
     },
     "execution_count": 11,
     "metadata": {},
     "output_type": "execute_result"
    }
   ],
   "source": [
    "svc.fit(data[['X1', 'X2']], data['y'])\n",
    "svc.score(data[['X1', 'X2']], data['y'])"
   ]
  },
  {
   "cell_type": "markdown",
   "metadata": {
    "id": "F1-d95TbnkYq"
   },
   "source": [
    "It appears that it mis-classified the outlier.\n",
    "\n",
    "#### 7. Increase the value of C until you get a perfect classifier"
   ]
  },
  {
   "cell_type": "code",
   "execution_count": 13,
   "metadata": {
    "id": "mQ-6OAJwnkYq",
    "outputId": "6ad81a68-b9b3-4960-8604-b532e1f5726e"
   },
   "outputs": [
    {
     "name": "stderr",
     "output_type": "stream",
     "text": [
      "C:\\ProgramData\\Anaconda3\\lib\\site-packages\\sklearn\\svm\\_base.py:976: ConvergenceWarning: Liblinear failed to converge, increase the number of iterations.\n",
      "  warnings.warn(\"Liblinear failed to converge, increase \"\n"
     ]
    },
    {
     "data": {
      "text/plain": [
       "1.0"
      ]
     },
     "execution_count": 13,
     "metadata": {},
     "output_type": "execute_result"
    }
   ],
   "source": [
    "svc2 = LinearSVC(C=500, loss = 'hinge', max_iter=10000)\n",
    "svc2.fit(data[['X1', 'X2']], data['y'])\n",
    "svc2.score(data[['X1', 'X2']], data['y'])"
   ]
  },
  {
   "cell_type": "markdown",
   "metadata": {
    "id": "JNHkUq0MnkYt"
   },
   "source": [
    "This time we got a perfect classification of the training data, however by increasing the value of C we've created a decision boundary that is no longer a natural fit for the data.  We can visualize this by looking at the confidence level for each class prediction, which is a function of the point's distance from the hyperplane.\n",
    "\n",
    "#### 8. Plot Decission Function\n",
    "Get the `decision_function()` output for the first model. Plot a scatterplot with X1, X2 and a range of colors based on `decision_function()`"
   ]
  },
  {
   "cell_type": "code",
   "execution_count": 17,
   "metadata": {},
   "outputs": [
    {
     "data": {
      "image/png": "[encoded data removed]",
      "text/plain": [
       "<Figure size 432x288 with 2 Axes>"
      ]
     },
     "metadata": {
      "needs_background": "light"
     },
     "output_type": "display_data"
    }
   ],
   "source": [
    "conf_level = svc.decision_function(data[['X1', 'X2']])\n",
    "\n",
    "plt.scatter(data.X1,\n",
    "           data.X2,\n",
    "           alpha=.8,\n",
    "           c = conf_level,\n",
    "           cmap='seismic')\n",
    "cbar = plt.colorbar();"
   ]
  },
  {
   "cell_type": "markdown",
   "metadata": {
    "id": "V8ixVkZ9nkYt",
    "outputId": "afe9f1f0-32df-4bab-b782-519c839a99e5"
   },
   "source": [
    "#### 9. Do the same with the second model"
   ]
  },
  {
   "cell_type": "code",
   "execution_count": 18,
   "metadata": {},
   "outputs": [
    {
     "data": {
      "image/png": "[encoded data removed]",
      "text/plain": [
       "<Figure size 432x288 with 2 Axes>"
      ]
     },
     "metadata": {
      "needs_background": "light"
     },
     "output_type": "display_data"
    }
   ],
   "source": [
    "conf_level = svc2.decision_function(data[['X1', 'X2']])\n",
    "\n",
    "plt.scatter(data.X1,\n",
    "           data.X2,\n",
    "           alpha=.8,\n",
    "           c = conf_level,\n",
    "           cmap='seismic')\n",
    "cbar = plt.colorbar();"
   ]
  },
  {
   "cell_type": "markdown",
   "metadata": {
    "id": "J12IY0QCnkYz"
   },
   "source": [
    "Now we're going to move from a linear SVM to one that's capable of non-linear classification using kernels.  We're first tasked with implementing a gaussian kernel function.  Although scikit-learn has a gaussian kernel built in, for transparency we'll implement one from scratch.\n",
    "\n",
    "## Exercise 2"
   ]
  },
  {
   "cell_type": "markdown",
   "metadata": {
    "id": "DMvQlK0wnkY4"
   },
   "source": [
    "That result matches the expected value from the exercise.  Next we're going to examine another data set, this time with a non-linear decision boundary."
   ]
  },
  {
   "cell_type": "markdown",
   "metadata": {},
   "source": [
    "#### 1. Load the data `ejer_1_data2.mat`"
   ]
  },
  {
   "cell_type": "code",
   "execution_count": 20,
   "metadata": {},
   "outputs": [],
   "source": [
    "raw_data = loadmat('./data/ejer_1_data2.mat')"
   ]
  },
  {
   "cell_type": "markdown",
   "metadata": {},
   "source": [
    "#### 2. Create a DataFrame with the features and target"
   ]
  },
  {
   "cell_type": "code",
   "execution_count": 21,
   "metadata": {},
   "outputs": [
    {
     "data": {
      "text/html": [
       "<div>\n",
       "<style scoped>\n",
       "    .dataframe tbody tr th:only-of-type {\n",
       "        vertical-align: middle;\n",
       "    }\n",
       "\n",
       "    .dataframe tbody tr th {\n",
       "        vertical-align: top;\n",
       "    }\n",
       "\n",
       "    .dataframe thead th {\n",
       "        text-align: right;\n",
       "    }\n",
       "</style>\n",
       "<table border=\"1\" class=\"dataframe\">\n",
       "  <thead>\n",
       "    <tr style=\"text-align: right;\">\n",
       "      <th></th>\n",
       "      <th>X1</th>\n",
       "      <th>X2</th>\n",
       "      <th>y</th>\n",
       "    </tr>\n",
       "  </thead>\n",
       "  <tbody>\n",
       "    <tr>\n",
       "      <th>0</th>\n",
       "      <td>0.107143</td>\n",
       "      <td>0.603070</td>\n",
       "      <td>1</td>\n",
       "    </tr>\n",
       "    <tr>\n",
       "      <th>1</th>\n",
       "      <td>0.093318</td>\n",
       "      <td>0.649854</td>\n",
       "      <td>1</td>\n",
       "    </tr>\n",
       "    <tr>\n",
       "      <th>2</th>\n",
       "      <td>0.097926</td>\n",
       "      <td>0.705409</td>\n",
       "      <td>1</td>\n",
       "    </tr>\n",
       "    <tr>\n",
       "      <th>3</th>\n",
       "      <td>0.155530</td>\n",
       "      <td>0.784357</td>\n",
       "      <td>1</td>\n",
       "    </tr>\n",
       "    <tr>\n",
       "      <th>4</th>\n",
       "      <td>0.210829</td>\n",
       "      <td>0.866228</td>\n",
       "      <td>1</td>\n",
       "    </tr>\n",
       "  </tbody>\n",
       "</table>\n",
       "</div>"
      ],
      "text/plain": [
       "         X1        X2  y\n",
       "0  0.107143  0.603070  1\n",
       "1  0.093318  0.649854  1\n",
       "2  0.097926  0.705409  1\n",
       "3  0.155530  0.784357  1\n",
       "4  0.210829  0.866228  1"
      ]
     },
     "execution_count": 21,
     "metadata": {},
     "output_type": "execute_result"
    }
   ],
   "source": [
    "data = pd.DataFrame(raw_data['X'], columns=['X1', 'X2'])\n",
    "data['y'] = raw_data['y']\n",
    "data.head()"
   ]
  },
  {
   "cell_type": "markdown",
   "metadata": {},
   "source": [
    "#### 3. Plot a scatterplot with the data"
   ]
  },
  {
   "cell_type": "code",
   "execution_count": 22,
   "metadata": {},
   "outputs": [
    {
     "data": {
      "image/png": "[encoded data removed]",
      "text/plain": [
       "<Figure size 432x288 with 1 Axes>"
      ]
     },
     "metadata": {
      "needs_background": "light"
     },
     "output_type": "display_data"
    }
   ],
   "source": [
    "sns.scatterplot(data = data,\n",
    "               x = \"X1\",\n",
    "               y = \"X2\",\n",
    "               hue = \"y\");"
   ]
  },
  {
   "cell_type": "markdown",
   "metadata": {
    "id": "LIRNjrjwnkY7"
   },
   "source": [
    "For this data set we'll build a support vector machine classifier using the built-in RBF kernel and examine its accuracy on the training data.  To visualize the decision boundary, this time we'll shade the points based on the predicted probability that the instance has a negative class label.  We'll see from the result that it gets most of them right."
   ]
  },
  {
   "cell_type": "markdown",
   "metadata": {},
   "source": [
    "#### 4. Declare a SVC with this hyperparameters\n",
    "```Python\n",
    "SVC(C=100, gamma=10, probability=True)\n",
    "```\n"
   ]
  },
  {
   "cell_type": "code",
   "execution_count": 24,
   "metadata": {
    "id": "2xgM0K5bnkY8",
    "outputId": "f14680f4-6460-4e16-bbeb-f360feddc862"
   },
   "outputs": [
    {
     "data": {
      "text/plain": [
       "SVC(C=100, gamma=10, probability=True)"
      ]
     },
     "execution_count": 24,
     "metadata": {},
     "output_type": "execute_result"
    }
   ],
   "source": [
    "from sklearn.svm import SVC\n",
    "\n",
    "svc = SVC(C=100, gamma=10, probability=True)\n",
    "svc"
   ]
  },
  {
   "cell_type": "markdown",
   "metadata": {},
   "source": [
    "#### 5. Fit the classifier and get the score"
   ]
  },
  {
   "cell_type": "code",
   "execution_count": 25,
   "metadata": {
    "id": "3hfAwRoDnkY_",
    "outputId": "3f48d1f3-4d49-487a-f231-04e8638cfcd8"
   },
   "outputs": [
    {
     "data": {
      "text/plain": [
       "0.9698725376593279"
      ]
     },
     "execution_count": 25,
     "metadata": {},
     "output_type": "execute_result"
    }
   ],
   "source": [
    "svc.fit(data[['X1', 'X2']], data['y'])\n",
    "svc.score(data[['X1', 'X2']], data['y'])"
   ]
  },
  {
   "cell_type": "markdown",
   "metadata": {},
   "source": [
    "#### 6. Plot the scatter plot and probability of predicting 0 with a [sequential color](https://matplotlib.org/3.1.1/tutorials/colors/colormaps.html)"
   ]
  },
  {
   "cell_type": "code",
   "execution_count": 30,
   "metadata": {},
   "outputs": [
    {
     "data": {
      "image/png": "[encoded data removed]",
      "text/plain": [
       "<Figure size 864x576 with 2 Axes>"
      ]
     },
     "metadata": {
      "needs_background": "light"
     },
     "output_type": "display_data"
    }
   ],
   "source": [
    "probability = svc.predict_proba(data[['X1', 'X2']])\n",
    "\n",
    "fig, ax = plt.subplots(figsize=(12, 8))\n",
    "plt.scatter(data.X1,\n",
    "           data.X2,\n",
    "           alpha=0.8,\n",
    "           c = probability[:, 0],\n",
    "           cmap='winter');\n",
    "\n",
    "cbar = plt.colorbar()"
   ]
  },
  {
   "cell_type": "code",
   "execution_count": 28,
   "metadata": {},
   "outputs": [
    {
     "data": {
      "text/plain": [
       "array([[3.0000009e-14, 1.0000000e+00],\n",
       "       [3.0000009e-14, 1.0000000e+00],\n",
       "       [3.0000009e-14, 1.0000000e+00],\n",
       "       ...,\n",
       "       [3.0000009e-14, 1.0000000e+00],\n",
       "       [3.0000009e-14, 1.0000000e+00],\n",
       "       [3.0000009e-14, 1.0000000e+00]])"
      ]
     },
     "execution_count": 28,
     "metadata": {},
     "output_type": "execute_result"
    }
   ],
   "source": [
    "probability"
   ]
  },
  {
   "cell_type": "markdown",
   "metadata": {},
   "source": [
    "## Exercise 3"
   ]
  },
  {
   "cell_type": "markdown",
   "metadata": {
    "id": "xRiiui_AnkZE"
   },
   "source": [
    "For the third data set we're given both training and validation sets and tasked with finding optimal hyper-parameters for an SVM model based on validation set performance.  Although we could use scikit-learn's built-in grid search to do this quite easily, in the spirit of following the exercise directions we'll implement a simple grid search from scratch.\n",
    "\n",
    "#### 1. Load the data `ejer_1_data3.mat`"
   ]
  },
  {
   "cell_type": "code",
   "execution_count": 31,
   "metadata": {},
   "outputs": [],
   "source": [
    "raw_data = loadmat('./data/ejer_1_data3.mat')"
   ]
  },
  {
   "cell_type": "markdown",
   "metadata": {},
   "source": [
    "#### 2. Create a DataFrame with the features and target"
   ]
  },
  {
   "cell_type": "code",
   "execution_count": 32,
   "metadata": {},
   "outputs": [
    {
     "data": {
      "text/html": [
       "<div>\n",
       "<style scoped>\n",
       "    .dataframe tbody tr th:only-of-type {\n",
       "        vertical-align: middle;\n",
       "    }\n",
       "\n",
       "    .dataframe tbody tr th {\n",
       "        vertical-align: top;\n",
       "    }\n",
       "\n",
       "    .dataframe thead th {\n",
       "        text-align: right;\n",
       "    }\n",
       "</style>\n",
       "<table border=\"1\" class=\"dataframe\">\n",
       "  <thead>\n",
       "    <tr style=\"text-align: right;\">\n",
       "      <th></th>\n",
       "      <th>X1</th>\n",
       "      <th>X2</th>\n",
       "      <th>y</th>\n",
       "    </tr>\n",
       "  </thead>\n",
       "  <tbody>\n",
       "    <tr>\n",
       "      <th>0</th>\n",
       "      <td>-0.158986</td>\n",
       "      <td>0.423977</td>\n",
       "      <td>1</td>\n",
       "    </tr>\n",
       "    <tr>\n",
       "      <th>1</th>\n",
       "      <td>-0.347926</td>\n",
       "      <td>0.470760</td>\n",
       "      <td>1</td>\n",
       "    </tr>\n",
       "    <tr>\n",
       "      <th>2</th>\n",
       "      <td>-0.504608</td>\n",
       "      <td>0.353801</td>\n",
       "      <td>1</td>\n",
       "    </tr>\n",
       "    <tr>\n",
       "      <th>3</th>\n",
       "      <td>-0.596774</td>\n",
       "      <td>0.114035</td>\n",
       "      <td>1</td>\n",
       "    </tr>\n",
       "    <tr>\n",
       "      <th>4</th>\n",
       "      <td>-0.518433</td>\n",
       "      <td>-0.172515</td>\n",
       "      <td>1</td>\n",
       "    </tr>\n",
       "  </tbody>\n",
       "</table>\n",
       "</div>"
      ],
      "text/plain": [
       "         X1        X2  y\n",
       "0 -0.158986  0.423977  1\n",
       "1 -0.347926  0.470760  1\n",
       "2 -0.504608  0.353801  1\n",
       "3 -0.596774  0.114035  1\n",
       "4 -0.518433 -0.172515  1"
      ]
     },
     "execution_count": 32,
     "metadata": {},
     "output_type": "execute_result"
    }
   ],
   "source": [
    "data = pd.DataFrame(raw_data['X'], columns=['X1', 'X2'])\n",
    "data['y'] = raw_data['y']\n",
    "data.head()"
   ]
  },
  {
   "cell_type": "code",
   "execution_count": 35,
   "metadata": {
    "collapsed": true,
    "jupyter": {
     "outputs_hidden": true
    }
   },
   "outputs": [
    {
     "data": {
      "text/plain": [
       "{'__header__': b'MATLAB 5.0 MAT-file, Platform: GLNXA64, Created on: Sun Nov 13 14:29:06 2011',\n",
       " '__version__': '1.0',\n",
       " '__globals__': [],\n",
       " 'X': array([[-1.58986e-01,  4.23977e-01],\n",
       "        [-3.47926e-01,  4.70760e-01],\n",
       "        [-5.04608e-01,  3.53801e-01],\n",
       "        [-5.96774e-01,  1.14035e-01],\n",
       "        [-5.18433e-01, -1.72515e-01],\n",
       "        [-2.92627e-01, -2.07602e-01],\n",
       "        [-1.58986e-01, -4.38596e-02],\n",
       "        [-5.76037e-02,  1.43275e-01],\n",
       "        [-7.14286e-02,  2.71930e-01],\n",
       "        [-2.97235e-01,  3.47953e-01],\n",
       "        [-4.17051e-01,  2.01754e-01],\n",
       "        [-4.40092e-01,  8.77193e-03],\n",
       "        [-3.24885e-01, -3.21637e-02],\n",
       "        [-2.46544e-01,  5.55556e-02],\n",
       "        [-2.18894e-01,  2.01754e-01],\n",
       "        [-3.43318e-01,  1.60819e-01],\n",
       "        [-5.09217e-01,  7.89474e-02],\n",
       "        [-3.84793e-01, -9.06433e-02],\n",
       "        [-1.49770e-01,  1.25731e-01],\n",
       "        [-1.95853e-01,  3.24561e-01],\n",
       "        [-3.91705e-02, -2.19298e-01],\n",
       "        [-1.08295e-01, -3.01170e-01],\n",
       "        [-1.86636e-01, -3.30409e-01],\n",
       "        [-2.18894e-01, -4.23977e-01],\n",
       "        [-8.06452e-02, -5.64327e-01],\n",
       "        [ 6.68203e-02, -5.17544e-01],\n",
       "        [ 9.44700e-02, -3.24561e-01],\n",
       "        [ 1.86636e-01, -1.66667e-01],\n",
       "        [ 6.22120e-02, -7.30994e-02],\n",
       "        [ 2.07373e-02, -1.95906e-01],\n",
       "        [ 2.99539e-02, -3.42105e-01],\n",
       "        [-9.90783e-02, -3.77193e-01],\n",
       "        [-6.91244e-03, -4.64912e-01],\n",
       "        [ 1.31336e-01, -4.29825e-01],\n",
       "        [ 2.32719e-01, -1.95906e-01],\n",
       "        [ 8.52535e-02, -8.47953e-02],\n",
       "        [-1.31336e-01, -2.36842e-01],\n",
       "        [ 2.30415e-03, -1.25731e-01],\n",
       "        [ 1.22120e-01, -2.92398e-03],\n",
       "        [-3.47926e-01, -3.12865e-01],\n",
       "        [-2.28111e-01, -1.25731e-01],\n",
       "        [-7.60369e-02,  1.46199e-02],\n",
       "        [ 4.37788e-02,  2.04678e-02],\n",
       "        [ 1.15207e-02,  1.54971e-01],\n",
       "        [-4.17051e-01, -1.60819e-01],\n",
       "        [-3.15668e-01, -3.18713e-01],\n",
       "        [ 1.26728e-01, -2.19298e-01],\n",
       "        [ 2.05069e-01, -3.12865e-01],\n",
       "        [ 2.18894e-01, -4.59064e-01],\n",
       "        [ 7.14286e-02, -6.46199e-01],\n",
       "        [-1.31336e-01, -6.05263e-01],\n",
       "        [-2.09677e-01, -5.81871e-01],\n",
       "        [-2.28111e-01, -4.29825e-01],\n",
       "        [-1.45161e-01, -4.12281e-01],\n",
       "        [-6.68203e-02, -4.82456e-01],\n",
       "        [ 1.35945e-01, -5.11696e-01],\n",
       "        [ 2.69585e-01, -4.06433e-01],\n",
       "        [ 2.97235e-01, -2.95322e-01],\n",
       "        [ 2.74194e-01, -1.72515e-01],\n",
       "        [ 2.55760e-01, -4.97076e-02],\n",
       "        [ 2.23502e-01, -4.97076e-02],\n",
       "        [ 1.82028e-01, -8.47953e-02],\n",
       "        [ 1.58986e-01, -1.54971e-01],\n",
       "        [ 7.14286e-02, -2.13450e-01],\n",
       "        [ 1.61290e-02, -2.66082e-01],\n",
       "        [-2.53456e-02, -3.83041e-01],\n",
       "        [-1.15207e-02, -4.82456e-01],\n",
       "        [-2.30415e-03, -5.05848e-01],\n",
       "        [ 2.53456e-02, -5.11696e-01],\n",
       "        [ 2.53456e-02, -5.58480e-01],\n",
       "        [ 1.15207e-02, -6.57895e-01],\n",
       "        [-4.83871e-02, -6.46199e-01],\n",
       "        [-8.52535e-02, -5.52632e-01],\n",
       "        [-9.90783e-02, -5.00000e-01],\n",
       "        [-1.61290e-02, -4.23977e-01],\n",
       "        [ 1.31336e-01, -3.59649e-01],\n",
       "        [ 2.23502e-01, -3.71345e-01],\n",
       "        [ 2.92627e-01, -3.01170e-01],\n",
       "        [ 2.60369e-01, -2.07602e-01],\n",
       "        [ 2.00461e-01, -2.25146e-01],\n",
       "        [ 1.72811e-01, -2.71930e-01],\n",
       "        [-1.31336e-01,  9.06433e-02],\n",
       "        [-1.49770e-01,  7.30994e-02],\n",
       "        [-2.41935e-01,  6.14035e-02],\n",
       "        [-3.01843e-01,  1.78363e-01],\n",
       "        [-2.97235e-01,  1.95906e-01],\n",
       "        [-2.74194e-01,  3.07018e-01],\n",
       "        [-3.24885e-01,  2.95322e-01],\n",
       "        [-3.98618e-01,  2.66082e-01],\n",
       "        [-4.35484e-01,  1.60819e-01],\n",
       "        [-4.72350e-01,  7.89474e-02],\n",
       "        [-3.38710e-01,  4.38596e-02],\n",
       "        [-2.69585e-01,  4.38596e-02],\n",
       "        [-2.55760e-01,  1.02339e-01],\n",
       "        [-1.68203e-01,  2.66082e-01],\n",
       "        [-1.12903e-01,  3.01170e-01],\n",
       "        [-3.91705e-02,  3.47953e-01],\n",
       "        [-1.26728e-01,  4.41520e-01],\n",
       "        [-2.32719e-01,  4.41520e-01],\n",
       "        [-3.38710e-01,  4.18129e-01],\n",
       "        [-4.12442e-01,  3.53801e-01],\n",
       "        [-5.09217e-01,  2.19298e-01],\n",
       "        [-5.41475e-01,  1.46199e-02],\n",
       "        [-5.04608e-01, -1.25731e-01],\n",
       "        [-4.90783e-01, -1.43275e-01],\n",
       "        [-3.61751e-01, -1.37427e-01],\n",
       "        [-2.69585e-01, -8.47953e-02],\n",
       "        [-2.23502e-01, -7.89474e-02],\n",
       "        [-1.86636e-01, -3.80117e-02],\n",
       "        [-1.54378e-01, -8.77193e-03],\n",
       "        [-1.12903e-01,  5.55556e-02],\n",
       "        [-8.52535e-02,  1.37427e-01],\n",
       "        [-8.52535e-02,  2.77778e-01],\n",
       "        [-1.68203e-01,  3.01170e-01],\n",
       "        [-1.91244e-01,  1.95906e-01],\n",
       "        [-1.40553e-01, -4.97076e-02],\n",
       "        [-2.99539e-02,  6.72515e-02],\n",
       "        [-2.00461e-01, -2.30994e-01],\n",
       "        [-1.08295e-01, -8.47953e-02],\n",
       "        [ 3.45622e-02,  6.72515e-02],\n",
       "        [ 8.06452e-02,  1.19883e-01],\n",
       "        [-3.85369e-01,  3.30409e-02],\n",
       "        [-3.81221e-01,  1.31287e-01],\n",
       "        [-3.52189e-01,  2.58187e-01],\n",
       "        [-3.54263e-01,  3.64620e-01],\n",
       "        [-4.14401e-01, -6.92982e-02],\n",
       "        [-4.99424e-01, -3.24561e-02],\n",
       "        [-2.98272e-01, -9.79532e-02],\n",
       "        [-3.16935e-01, -1.83918e-01],\n",
       "        [-3.68779e-01, -2.90351e-01],\n",
       "        [-3.56336e-01, -3.96784e-01],\n",
       "        [-2.71313e-01,  4.38596e-03],\n",
       "        [-1.77995e-01,  8.62573e-02],\n",
       "        [-2.46429e-01,  1.43567e-01],\n",
       "        [-2.50576e-01,  2.29532e-01],\n",
       "        [-2.21544e-01,  3.76901e-01],\n",
       "        [-2.15323e-01,  2.95029e-01],\n",
       "        [-1.30300e-01,  2.17251e-01],\n",
       "        [-2.07028e-01,  2.89474e-02],\n",
       "        [-9.71198e-02,  2.13158e-01],\n",
       "        [-3.90553e-02,  2.58187e-01],\n",
       "        [ 1.90092e-02,  4.01462e-01],\n",
       "        [-3.69816e-02,  4.21930e-01],\n",
       "        [-6.39401e-02,  3.31871e-01],\n",
       "        [-1.30300e-01,  3.76901e-01],\n",
       "        [-3.75000e-01, -4.37719e-01],\n",
       "        [-3.95737e-01, -3.51754e-01],\n",
       "        [-3.54263e-01, -2.08480e-01],\n",
       "        [-4.37212e-01, -3.76316e-01],\n",
       "        [-4.80760e-01, -5.03216e-01],\n",
       "        [-4.10253e-01, -4.66374e-01],\n",
       "        [-2.48502e-01, -2.57602e-01],\n",
       "        [-2.27765e-01, -3.14912e-01],\n",
       "        [-2.83756e-01, -3.84503e-01],\n",
       "        [-2.92051e-01, -4.54094e-01],\n",
       "        [-3.37673e-01, -5.19591e-01],\n",
       "        [-2.77535e-01, -5.48246e-01],\n",
       "        [-2.07028e-01, -5.35965e-01],\n",
       "        [-1.86290e-01, -4.78655e-01],\n",
       "        [-1.32373e-01, -5.07310e-01],\n",
       "        [-1.77995e-01, -2.98538e-01],\n",
       "        [-1.65553e-01, -1.75731e-01],\n",
       "        [-1.61406e-01, -1.26608e-01],\n",
       "        [ 3.45622e-04,  2.58187e-01],\n",
       "        [ 7.91475e-02,  3.56433e-01],\n",
       "        [-2.66129e-02,  1.80409e-01],\n",
       "        [-5.35714e-02,  7.80702e-02],\n",
       "        [-1.41705e-02, -5.29240e-02],\n",
       "        [-7.01613e-02, -1.63450e-01],\n",
       "        [-6.39401e-02, -2.94444e-01],\n",
       "        [-3.07604e-02, -4.66374e-01],\n",
       "        [-5.77189e-02, -5.27778e-01],\n",
       "        [-5.35714e-02, -3.96784e-01],\n",
       "        [ 5.21889e-02, -4.17251e-01],\n",
       "        [-1.62442e-02, -1.67544e-01],\n",
       "        [-6.39401e-02, -8.56725e-02],\n",
       "        [-6.18664e-02, -1.60819e-02],\n",
       "        [-3.80184e-03,  4.38596e-03],\n",
       "        [ 4.18203e-02,  2.04971e-01],\n",
       "        [ 7.91475e-02,  1.92690e-01],\n",
       "        [ 4.59677e-02,  2.54094e-01],\n",
       "        [ 1.18548e-01,  1.92690e-01],\n",
       "        [ 1.10253e-01,  8.62573e-02],\n",
       "        [ 1.08180e-01, -6.92982e-02],\n",
       "        [ 1.66244e-01, -2.42690e-02],\n",
       "        [ 1.41359e-01,  6.57895e-02],\n",
       "        [ 1.43433e-01,  1.68129e-01],\n",
       "        [ 1.70392e-01,  1.92690e-01],\n",
       "        [ 1.08180e-01,  2.99123e-01],\n",
       "        [ 1.18548e-01,  3.19591e-01],\n",
       "        [ 1.26843e-01,  3.93275e-01],\n",
       "        [-8.67512e-02,  4.21930e-01],\n",
       "        [-4.73502e-02,  5.07895e-01],\n",
       "        [ 2.52304e-02,  5.20175e-01],\n",
       "        [ 6.25576e-02,  5.52924e-01],\n",
       "        [-5.87558e-03,  4.42398e-01],\n",
       "        [-5.14977e-02,  5.73392e-01],\n",
       "        [-8.05300e-02,  5.07895e-01],\n",
       "        [-1.53111e-01,  5.52924e-01],\n",
       "        [-1.11636e-01,  5.48830e-01],\n",
       "        [-1.63479e-01,  4.91520e-01],\n",
       "        [-2.52650e-01, -1.88012e-01],\n",
       "        [-2.46429e-01, -3.65497e-02],\n",
       "        [-3.21083e-01, -4.33626e-01],\n",
       "        [-3.31452e-01, -6.05556e-01],\n",
       "        [-3.85369e-01, -5.15497e-01],\n",
       "        [-3.99885e-01, -6.21930e-01],\n",
       "        [-1.24078e-01, -1.26608e-01],\n",
       "        [-3.16935e-01, -2.28947e-01],\n",
       "        [-2.94124e-01, -1.34795e-01],\n",
       "        [-1.53111e-01,  1.84503e-01]]),\n",
       " 'y': array([[1],\n",
       "        [1],\n",
       "        [1],\n",
       "        [1],\n",
       "        [1],\n",
       "        [1],\n",
       "        [1],\n",
       "        [1],\n",
       "        [1],\n",
       "        [1],\n",
       "        [1],\n",
       "        [1],\n",
       "        [1],\n",
       "        [1],\n",
       "        [1],\n",
       "        [1],\n",
       "        [1],\n",
       "        [1],\n",
       "        [1],\n",
       "        [1],\n",
       "        [0],\n",
       "        [0],\n",
       "        [0],\n",
       "        [0],\n",
       "        [0],\n",
       "        [0],\n",
       "        [0],\n",
       "        [0],\n",
       "        [0],\n",
       "        [0],\n",
       "        [0],\n",
       "        [0],\n",
       "        [0],\n",
       "        [0],\n",
       "        [0],\n",
       "        [0],\n",
       "        [1],\n",
       "        [1],\n",
       "        [1],\n",
       "        [0],\n",
       "        [0],\n",
       "        [0],\n",
       "        [0],\n",
       "        [0],\n",
       "        [0],\n",
       "        [0],\n",
       "        [0],\n",
       "        [0],\n",
       "        [0],\n",
       "        [0],\n",
       "        [0],\n",
       "        [0],\n",
       "        [0],\n",
       "        [0],\n",
       "        [0],\n",
       "        [0],\n",
       "        [0],\n",
       "        [0],\n",
       "        [0],\n",
       "        [0],\n",
       "        [0],\n",
       "        [0],\n",
       "        [0],\n",
       "        [0],\n",
       "        [0],\n",
       "        [0],\n",
       "        [0],\n",
       "        [0],\n",
       "        [0],\n",
       "        [0],\n",
       "        [0],\n",
       "        [0],\n",
       "        [0],\n",
       "        [0],\n",
       "        [0],\n",
       "        [0],\n",
       "        [0],\n",
       "        [0],\n",
       "        [0],\n",
       "        [0],\n",
       "        [0],\n",
       "        [1],\n",
       "        [1],\n",
       "        [1],\n",
       "        [1],\n",
       "        [1],\n",
       "        [1],\n",
       "        [1],\n",
       "        [1],\n",
       "        [1],\n",
       "        [1],\n",
       "        [1],\n",
       "        [1],\n",
       "        [1],\n",
       "        [1],\n",
       "        [1],\n",
       "        [1],\n",
       "        [1],\n",
       "        [1],\n",
       "        [1],\n",
       "        [1],\n",
       "        [1],\n",
       "        [1],\n",
       "        [1],\n",
       "        [1],\n",
       "        [1],\n",
       "        [1],\n",
       "        [1],\n",
       "        [1],\n",
       "        [1],\n",
       "        [1],\n",
       "        [1],\n",
       "        [1],\n",
       "        [1],\n",
       "        [1],\n",
       "        [1],\n",
       "        [1],\n",
       "        [0],\n",
       "        [0],\n",
       "        [0],\n",
       "        [0],\n",
       "        [1],\n",
       "        [1],\n",
       "        [1],\n",
       "        [1],\n",
       "        [1],\n",
       "        [1],\n",
       "        [1],\n",
       "        [1],\n",
       "        [1],\n",
       "        [1],\n",
       "        [1],\n",
       "        [1],\n",
       "        [1],\n",
       "        [1],\n",
       "        [1],\n",
       "        [1],\n",
       "        [1],\n",
       "        [1],\n",
       "        [1],\n",
       "        [1],\n",
       "        [1],\n",
       "        [1],\n",
       "        [1],\n",
       "        [1],\n",
       "        [1],\n",
       "        [1],\n",
       "        [1],\n",
       "        [1],\n",
       "        [1],\n",
       "        [1],\n",
       "        [0],\n",
       "        [0],\n",
       "        [0],\n",
       "        [0],\n",
       "        [0],\n",
       "        [0],\n",
       "        [0],\n",
       "        [0],\n",
       "        [0],\n",
       "        [0],\n",
       "        [0],\n",
       "        [0],\n",
       "        [0],\n",
       "        [0],\n",
       "        [0],\n",
       "        [0],\n",
       "        [0],\n",
       "        [0],\n",
       "        [0],\n",
       "        [0],\n",
       "        [0],\n",
       "        [0],\n",
       "        [0],\n",
       "        [0],\n",
       "        [0],\n",
       "        [0],\n",
       "        [0],\n",
       "        [0],\n",
       "        [0],\n",
       "        [0],\n",
       "        [0],\n",
       "        [0],\n",
       "        [0],\n",
       "        [0],\n",
       "        [0],\n",
       "        [0],\n",
       "        [0],\n",
       "        [0],\n",
       "        [0],\n",
       "        [0],\n",
       "        [1],\n",
       "        [1],\n",
       "        [1],\n",
       "        [1],\n",
       "        [1],\n",
       "        [1],\n",
       "        [1],\n",
       "        [1],\n",
       "        [1],\n",
       "        [1],\n",
       "        [1],\n",
       "        [1],\n",
       "        [1],\n",
       "        [0],\n",
       "        [1],\n",
       "        [1],\n",
       "        [1],\n",
       "        [1],\n",
       "        [0],\n",
       "        [0]], dtype=uint8),\n",
       " 'yval': array([[0],\n",
       "        [1],\n",
       "        [0],\n",
       "        [0],\n",
       "        [0],\n",
       "        [0],\n",
       "        [0],\n",
       "        [1],\n",
       "        [1],\n",
       "        [1],\n",
       "        [1],\n",
       "        [1],\n",
       "        [0],\n",
       "        [0],\n",
       "        [1],\n",
       "        [0],\n",
       "        [0],\n",
       "        [1],\n",
       "        [0],\n",
       "        [0],\n",
       "        [0],\n",
       "        [0],\n",
       "        [0],\n",
       "        [1],\n",
       "        [0],\n",
       "        [0],\n",
       "        [0],\n",
       "        [0],\n",
       "        [1],\n",
       "        [0],\n",
       "        [0],\n",
       "        [0],\n",
       "        [0],\n",
       "        [0],\n",
       "        [1],\n",
       "        [1],\n",
       "        [1],\n",
       "        [0],\n",
       "        [0],\n",
       "        [0],\n",
       "        [0],\n",
       "        [1],\n",
       "        [0],\n",
       "        [0],\n",
       "        [0],\n",
       "        [1],\n",
       "        [1],\n",
       "        [0],\n",
       "        [0],\n",
       "        [1],\n",
       "        [0],\n",
       "        [1],\n",
       "        [1],\n",
       "        [1],\n",
       "        [1],\n",
       "        [1],\n",
       "        [1],\n",
       "        [1],\n",
       "        [1],\n",
       "        [1],\n",
       "        [0],\n",
       "        [0],\n",
       "        [0],\n",
       "        [1],\n",
       "        [0],\n",
       "        [1],\n",
       "        [1],\n",
       "        [1],\n",
       "        [1],\n",
       "        [0],\n",
       "        [1],\n",
       "        [1],\n",
       "        [0],\n",
       "        [1],\n",
       "        [0],\n",
       "        [1],\n",
       "        [0],\n",
       "        [0],\n",
       "        [0],\n",
       "        [1],\n",
       "        [0],\n",
       "        [0],\n",
       "        [0],\n",
       "        [1],\n",
       "        [0],\n",
       "        [0],\n",
       "        [1],\n",
       "        [1],\n",
       "        [0],\n",
       "        [0],\n",
       "        [0],\n",
       "        [1],\n",
       "        [0],\n",
       "        [1],\n",
       "        [1],\n",
       "        [0],\n",
       "        [1],\n",
       "        [1],\n",
       "        [0],\n",
       "        [0],\n",
       "        [1],\n",
       "        [1],\n",
       "        [0],\n",
       "        [1],\n",
       "        [1],\n",
       "        [1],\n",
       "        [1],\n",
       "        [1],\n",
       "        [1],\n",
       "        [0],\n",
       "        [1],\n",
       "        [0],\n",
       "        [0],\n",
       "        [1],\n",
       "        [0],\n",
       "        [1],\n",
       "        [0],\n",
       "        [1],\n",
       "        [0],\n",
       "        [0],\n",
       "        [0],\n",
       "        [0],\n",
       "        [0],\n",
       "        [0],\n",
       "        [0],\n",
       "        [0],\n",
       "        [0],\n",
       "        [1],\n",
       "        [1],\n",
       "        [1],\n",
       "        [1],\n",
       "        [0],\n",
       "        [1],\n",
       "        [0],\n",
       "        [1],\n",
       "        [1],\n",
       "        [0],\n",
       "        [0],\n",
       "        [1],\n",
       "        [1],\n",
       "        [0],\n",
       "        [0],\n",
       "        [0],\n",
       "        [0],\n",
       "        [0],\n",
       "        [0],\n",
       "        [1],\n",
       "        [0],\n",
       "        [0],\n",
       "        [1],\n",
       "        [0],\n",
       "        [1],\n",
       "        [1],\n",
       "        [0],\n",
       "        [0],\n",
       "        [1],\n",
       "        [0],\n",
       "        [0],\n",
       "        [1],\n",
       "        [0],\n",
       "        [1],\n",
       "        [0],\n",
       "        [1],\n",
       "        [0],\n",
       "        [0],\n",
       "        [0],\n",
       "        [0],\n",
       "        [0],\n",
       "        [1],\n",
       "        [1],\n",
       "        [0],\n",
       "        [0],\n",
       "        [0],\n",
       "        [0],\n",
       "        [1],\n",
       "        [1],\n",
       "        [0],\n",
       "        [0],\n",
       "        [0],\n",
       "        [1],\n",
       "        [0],\n",
       "        [0],\n",
       "        [1],\n",
       "        [1],\n",
       "        [1],\n",
       "        [0],\n",
       "        [0],\n",
       "        [1],\n",
       "        [0],\n",
       "        [1],\n",
       "        [0],\n",
       "        [0],\n",
       "        [1],\n",
       "        [1],\n",
       "        [1],\n",
       "        [1],\n",
       "        [0],\n",
       "        [0],\n",
       "        [0],\n",
       "        [0]], dtype=uint8),\n",
       " 'Xval': array([[-0.35306235, -0.67390181],\n",
       "        [-0.2271258 ,  0.44731976],\n",
       "        [ 0.09289767, -0.75352419],\n",
       "        [ 0.14824252, -0.71847308],\n",
       "        [-0.00151249,  0.16292786],\n",
       "        [ 0.04533501,  0.20982573],\n",
       "        [ 0.14434613, -0.68720754],\n",
       "        [-0.13807064,  0.55241732],\n",
       "        [-0.16385952,  0.11134314],\n",
       "        [-0.19535742,  0.4011457 ],\n",
       "        [ 0.1863405 ,  0.52186234],\n",
       "        [-0.49340321,  0.06007882],\n",
       "        [-0.0918527 , -0.12178156],\n",
       "        [-0.10428124, -0.54557988],\n",
       "        [-0.20888058,  0.15980217],\n",
       "        [ 0.24239325, -0.44476841],\n",
       "        [ 0.14986252, -0.10482911],\n",
       "        [-0.49949386,  0.01644946],\n",
       "        [ 0.14708703,  0.17669485],\n",
       "        [-0.20265487, -0.18450312],\n",
       "        [ 0.09335189, -0.08481748],\n",
       "        [ 0.11339545,  0.20626961],\n",
       "        [ 0.25152129, -0.24962124],\n",
       "        [-0.07166737,  0.38027844],\n",
       "        [ 0.18055064, -0.49845242],\n",
       "        [-0.18110124, -0.7543908 ],\n",
       "        [ 0.27785389,  0.24844372],\n",
       "        [-0.01327092, -0.48747145],\n",
       "        [-0.01502107,  0.36967342],\n",
       "        [-0.00308691,  0.21570428],\n",
       "        [ 0.2141149 ,  0.4517632 ],\n",
       "        [ 0.04526842, -0.62350648],\n",
       "        [-0.13417062, -0.75042241],\n",
       "        [-0.05519283, -0.08569443],\n",
       "        [-0.45642962,  0.30457343],\n",
       "        [-0.44930938,  0.2521395 ],\n",
       "        [-0.33460047,  0.28108967],\n",
       "        [ 0.14155288, -0.68735638],\n",
       "        [-0.24788379, -0.44652464],\n",
       "        [-0.04867248, -0.79481614],\n",
       "        [-0.19644304, -0.60949512],\n",
       "        [-0.49903366, -0.48378051],\n",
       "        [-0.04108153, -0.33717187],\n",
       "        [-0.28101764, -0.02116391],\n",
       "        [-0.1756489 , -0.16079769],\n",
       "        [-0.46788726, -0.03606064],\n",
       "        [-0.41606452,  0.50923811],\n",
       "        [ 0.29091938,  0.00281817],\n",
       "        [ 0.02219132,  0.10162396],\n",
       "        [-0.42158567,  0.39027243],\n",
       "        [ 0.1312701 , -0.19991088],\n",
       "        [-0.41008228, -0.67280407],\n",
       "        [-0.35553717,  0.27731659],\n",
       "        [-0.35760857,  0.52170388],\n",
       "        [-0.30571571,  0.38303523],\n",
       "        [-0.02607286,  0.37125026],\n",
       "        [-0.11757221, -0.02881462],\n",
       "        [-0.24149786, -0.04582353],\n",
       "        [-0.18033413,  0.00628885],\n",
       "        [ 0.26392833, -0.19920115],\n",
       "        [-0.32814337, -0.62828486],\n",
       "        [-0.29850456, -0.71993032],\n",
       "        [-0.11643577, -0.41548515],\n",
       "        [-0.46780346, -0.11866615],\n",
       "        [ 0.06911927, -0.51905734],\n",
       "        [-0.04271503,  0.33006558],\n",
       "        [-0.3385095 ,  0.07544364],\n",
       "        [-0.16095543,  0.15532539],\n",
       "        [-0.07511389,  0.52723462],\n",
       "        [-0.42933428, -0.32823455],\n",
       "        [-0.16383887,  0.59636143],\n",
       "        [-0.45116398, -0.36885502],\n",
       "        [ 0.0477326 ,  0.08964546],\n",
       "        [-0.20718875,  0.029608  ],\n",
       "        [ 0.12999743, -0.76144357],\n",
       "        [-0.17031431,  0.26024428],\n",
       "        [ 0.16669776, -0.66180432],\n",
       "        [ 0.10966868, -0.02214623],\n",
       "        [ 0.02952713,  0.1205507 ],\n",
       "        [-0.38108519, -0.68066679],\n",
       "        [-0.03730684, -0.16967073],\n",
       "        [ 0.23863706, -0.33979185],\n",
       "        [ 0.1794064 ,  0.36614806],\n",
       "        [-0.44541368,  0.48773358],\n",
       "        [-0.13173944, -0.37301885],\n",
       "        [ 0.25816653,  0.3214765 ],\n",
       "        [-0.17144475, -0.05436293],\n",
       "        [ 0.0223521 ,  0.46044783],\n",
       "        [ 0.2175178 , -0.64838015],\n",
       "        [ 0.16482247, -0.56009307],\n",
       "        [ 0.10561683, -0.47356917],\n",
       "        [-0.4963785 , -0.53039871],\n",
       "        [-0.2907698 ,  0.39282998],\n",
       "        [-0.35518369, -0.19033134],\n",
       "        [-0.11756326,  0.45045063],\n",
       "        [ 0.2124443 ,  0.24409336],\n",
       "        [-0.33588692, -0.42208135],\n",
       "        [-0.21834424,  0.42598976],\n",
       "        [ 0.2664948 , -0.41708775],\n",
       "        [ 0.01073067,  0.1157563 ],\n",
       "        [ 0.14320849,  0.57290223],\n",
       "        [-0.49639587,  0.24764736],\n",
       "        [ 0.01985078, -0.3142498 ],\n",
       "        [-0.49432988,  0.40264768],\n",
       "        [-0.10664757, -0.00867353],\n",
       "        [-0.00319048,  0.50973211],\n",
       "        [-0.42560461,  0.21494326],\n",
       "        [ 0.01205282,  0.43847113],\n",
       "        [-0.42333424, -0.22920959],\n",
       "        [-0.18530875, -0.21966031],\n",
       "        [-0.21421786,  0.57175744],\n",
       "        [-0.31768577, -0.34148012],\n",
       "        [ 0.14291722,  0.08564325],\n",
       "        [-0.32157713,  0.15996528],\n",
       "        [-0.08101309,  0.01944172],\n",
       "        [-0.25938858, -0.05106505],\n",
       "        [-0.01728897, -0.57578078],\n",
       "        [-0.00865689,  0.40091322],\n",
       "        [ 0.0123751 , -0.27619353],\n",
       "        [ 0.2679647 , -0.49294225],\n",
       "        [-0.2220084 , -0.28870081],\n",
       "        [ 0.17236739, -0.47234967],\n",
       "        [ 0.13126105, -0.23841632],\n",
       "        [ 0.24179202, -0.23915142],\n",
       "        [ 0.1222105 , -0.18139411],\n",
       "        [ 0.05346095, -0.05415873],\n",
       "        [-0.2122828 , -0.49059782],\n",
       "        [-0.40454458, -0.53062928],\n",
       "        [-0.37627313, -0.36278139],\n",
       "        [-0.40516269,  0.00920269],\n",
       "        [-0.3576407 , -0.18299568],\n",
       "        [-0.05349795, -0.53677784],\n",
       "        [-0.29150432, -0.03586948],\n",
       "        [ 0.20878861, -0.21603988],\n",
       "        [-0.02555617,  0.26925529],\n",
       "        [-0.44039164, -0.7207657 ],\n",
       "        [ 0.19021425, -0.7314299 ],\n",
       "        [ 0.12623856, -0.4287631 ],\n",
       "        [-0.33099112, -0.01338599],\n",
       "        [-0.31851586,  0.06686597],\n",
       "        [-0.16257604, -0.72654767],\n",
       "        [ 0.00302448, -0.71336776],\n",
       "        [-0.09090669, -0.48357423],\n",
       "        [ 0.16334486,  0.29270667],\n",
       "        [ 0.11745137, -0.10436159],\n",
       "        [ 0.05169295, -0.49777696],\n",
       "        [-0.43946652,  0.24581507],\n",
       "        [ 0.20343101,  0.00870498],\n",
       "        [ 0.24735643,  0.06879417],\n",
       "        [-0.28638208,  0.12963342],\n",
       "        [ 0.03336897, -0.67034231],\n",
       "        [-0.22278369, -0.14869216],\n",
       "        [-0.27930754,  0.43238638],\n",
       "        [ 0.10390813,  0.10306382],\n",
       "        [-0.22047998, -0.76702369],\n",
       "        [-0.22122989,  0.02037055],\n",
       "        [ 0.10595997, -0.12451613],\n",
       "        [ 0.00536441,  0.10208984],\n",
       "        [-0.18630331,  0.08037445],\n",
       "        [ 0.07871049,  0.04847465],\n",
       "        [-0.03904464,  0.18299267],\n",
       "        [ 0.02897219, -0.02251376],\n",
       "        [-0.24701344,  0.35259805],\n",
       "        [ 0.26144865,  0.38051718],\n",
       "        [-0.1457531 , -0.46868559],\n",
       "        [ 0.0298899 ,  0.10126281],\n",
       "        [-0.20212221, -0.3266953 ],\n",
       "        [ 0.13433263, -0.63985405],\n",
       "        [-0.40741669,  0.55315944],\n",
       "        [-0.40943778,  0.46177788],\n",
       "        [ 0.25701656, -0.52299972],\n",
       "        [ 0.11003269, -0.52541811],\n",
       "        [ 0.25896689, -0.45826105],\n",
       "        [ 0.15383051,  0.10749309],\n",
       "        [-0.14735839,  0.44665931],\n",
       "        [ 0.14736828, -0.41425849],\n",
       "        [-0.03874009, -0.48927081],\n",
       "        [ 0.2255192 ,  0.27762013],\n",
       "        [ 0.26950824, -0.66565116],\n",
       "        [ 0.12482879,  0.50814405],\n",
       "        [ 0.17162781, -0.42429453],\n",
       "        [ 0.005052  , -0.04760931],\n",
       "        [-0.35458825,  0.37126309],\n",
       "        [-0.47738659, -0.68693223],\n",
       "        [-0.24116903,  0.28161654],\n",
       "        [ 0.09375793, -0.77221995],\n",
       "        [-0.29988892, -0.67487155],\n",
       "        [-0.16247809,  0.17209416],\n",
       "        [ 0.19682557, -0.14566765],\n",
       "        [-0.34801539, -0.2592839 ],\n",
       "        [ 0.14035793, -0.68428925],\n",
       "        [-0.04634861, -0.14915378],\n",
       "        [-0.23929465,  0.56220974],\n",
       "        [-0.45785597,  0.25374027],\n",
       "        [-0.10819348,  0.59753216],\n",
       "        [ 0.00520265, -0.54444942],\n",
       "        [ 0.17635156, -0.57245363],\n",
       "        [ 0.127651  , -0.34093757],\n",
       "        [ 0.24868221, -0.49750183],\n",
       "        [-0.31689909, -0.42941273]])}"
      ]
     },
     "execution_count": 35,
     "metadata": {},
     "output_type": "execute_result"
    }
   ],
   "source": [
    "raw_data"
   ]
  },
  {
   "cell_type": "markdown",
   "metadata": {},
   "source": [
    "#### 3. Get the validation data from the dataset `Xval` and `yval`"
   ]
  },
  {
   "cell_type": "code",
   "execution_count": 34,
   "metadata": {
    "collapsed": true,
    "jupyter": {
     "outputs_hidden": true
    }
   },
   "outputs": [
    {
     "data": {
      "text/html": [
       "<div>\n",
       "<style scoped>\n",
       "    .dataframe tbody tr th:only-of-type {\n",
       "        vertical-align: middle;\n",
       "    }\n",
       "\n",
       "    .dataframe tbody tr th {\n",
       "        vertical-align: top;\n",
       "    }\n",
       "\n",
       "    .dataframe thead th {\n",
       "        text-align: right;\n",
       "    }\n",
       "</style>\n",
       "<table border=\"1\" class=\"dataframe\">\n",
       "  <thead>\n",
       "    <tr style=\"text-align: right;\">\n",
       "      <th></th>\n",
       "      <th>X1</th>\n",
       "      <th>X2</th>\n",
       "      <th>y</th>\n",
       "    </tr>\n",
       "  </thead>\n",
       "  <tbody>\n",
       "    <tr>\n",
       "      <th>0</th>\n",
       "      <td>-0.353062</td>\n",
       "      <td>-0.673902</td>\n",
       "      <td>0</td>\n",
       "    </tr>\n",
       "    <tr>\n",
       "      <th>1</th>\n",
       "      <td>-0.227126</td>\n",
       "      <td>0.447320</td>\n",
       "      <td>1</td>\n",
       "    </tr>\n",
       "    <tr>\n",
       "      <th>2</th>\n",
       "      <td>0.092898</td>\n",
       "      <td>-0.753524</td>\n",
       "      <td>0</td>\n",
       "    </tr>\n",
       "    <tr>\n",
       "      <th>3</th>\n",
       "      <td>0.148243</td>\n",
       "      <td>-0.718473</td>\n",
       "      <td>0</td>\n",
       "    </tr>\n",
       "    <tr>\n",
       "      <th>4</th>\n",
       "      <td>-0.001512</td>\n",
       "      <td>0.162928</td>\n",
       "      <td>0</td>\n",
       "    </tr>\n",
       "  </tbody>\n",
       "</table>\n",
       "</div>"
      ],
      "text/plain": [
       "         X1        X2  y\n",
       "0 -0.353062 -0.673902  0\n",
       "1 -0.227126  0.447320  1\n",
       "2  0.092898 -0.753524  0\n",
       "3  0.148243 -0.718473  0\n",
       "4 -0.001512  0.162928  0"
      ]
     },
     "execution_count": 34,
     "metadata": {},
     "output_type": "execute_result"
    }
   ],
   "source": [
    "data_val = pd.DataFrame(raw_data['Xval'], columns=['X1', 'X2'])\n",
    "data_val['y'] = raw_data['yval']\n",
    "data_val.head()"
   ]
  },
  {
   "cell_type": "markdown",
   "metadata": {},
   "source": [
    "#### 4. Try different hyperparameters\n",
    "You are going to find the best hyperparameters that best fit your model.\n",
    "1. Try C from 0.01 to 100\n",
    "2. Try gamma from 0.01 to 100\n",
    "\n",
    "Train the model and then get the score with the validation data. Which combination of hyperparameters trains the best model in validation score?"
   ]
  },
  {
   "cell_type": "code",
   "execution_count": 37,
   "metadata": {},
   "outputs": [
    {
     "data": {
      "text/plain": [
       "(0.965, {'C': 0.3, 'gamma': 100})"
      ]
     },
     "execution_count": 37,
     "metadata": {},
     "output_type": "execute_result"
    }
   ],
   "source": [
    "C_values = [0.01, 0.03, 0.1, 0.3, 1, 3, 10, 30, 100]\n",
    "gamma_values = [0.01, 0.03, 0.1, 0.3, 1, 3, 10, 30, 100]\n",
    "\n",
    "best_score = 0\n",
    "best_params = {'C': None, 'gamma': None}\n",
    "\n",
    "for C in C_values:\n",
    "    for gamma in gamma_values:\n",
    "        svc = SVC(C=C, gamma=gamma)\n",
    "        svc.fit(data[['X1', 'X2']], data['y'])\n",
    "        score = svc.score(data_val[['X1', 'X2']], data_val['y'])\n",
    "        \n",
    "        if score > best_score:\n",
    "            best_score = score\n",
    "            best_params['C'] = C\n",
    "            best_params['gamma'] = gamma\n",
    "            \n",
    "best_score, best_params"
   ]
  },
  {
   "cell_type": "markdown",
   "metadata": {
    "id": "ex3nqod6nkZI"
   },
   "source": [
    "## Exercise 4\n",
    "Now we'll move on to the second part of the exercise. In this part our objective is to use SVMs to build a spam filter.  In the exercise text, there's a task involving some text pre-processing to get our data in a format suitable for an SVM to handle.  However, the task is pretty trivial (mapping words to an ID from a dictionary that's provided for the exercise) and the rest of the pre-processing steps such as HTML removal, stemming, normalization etc. are already done.  Rather than reproduce these pre-processing steps, I'm going to skip ahead to the machine learning task which involves building a classifier from pre-processed train and test data sets consisting of spam and non-spam emails transformed to word occurance vectors.\n",
    "\n",
    "#### 1. Load the data `spamTrain.mat` and `spamTest.mat`"
   ]
  },
  {
   "cell_type": "code",
   "execution_count": 38,
   "metadata": {
    "id": "61GyjQiinkZI",
    "outputId": "7cdbfce2-8dfe-4e05-87b9-3e02809f5d3c"
   },
   "outputs": [],
   "source": [
    "spam_train = loadmat('./data/spamTrain.mat')\n",
    "spam_test = loadmat('./data/spamTest.mat')"
   ]
  },
  {
   "cell_type": "code",
   "execution_count": 39,
   "metadata": {
    "collapsed": true,
    "jupyter": {
     "outputs_hidden": true
    }
   },
   "outputs": [
    {
     "data": {
      "text/plain": [
       "{'__header__': b'MATLAB 5.0 MAT-file, Platform: GLNXA64, Created on: Sun Nov 13 14:27:25 2011',\n",
       " '__version__': '1.0',\n",
       " '__globals__': [],\n",
       " 'X': array([[0, 0, 0, ..., 0, 0, 0],\n",
       "        [0, 0, 0, ..., 0, 0, 0],\n",
       "        [0, 0, 0, ..., 0, 0, 0],\n",
       "        ...,\n",
       "        [0, 0, 0, ..., 0, 0, 0],\n",
       "        [0, 0, 1, ..., 0, 0, 0],\n",
       "        [0, 0, 0, ..., 0, 0, 0]], dtype=uint8),\n",
       " 'y': array([[1],\n",
       "        [1],\n",
       "        [0],\n",
       "        ...,\n",
       "        [1],\n",
       "        [0],\n",
       "        [0]], dtype=uint8)}"
      ]
     },
     "execution_count": 39,
     "metadata": {},
     "output_type": "execute_result"
    }
   ],
   "source": [
    "spam_train"
   ]
  },
  {
   "cell_type": "markdown",
   "metadata": {},
   "source": [
    "#### 2. Create a DataFrame with the features and target, for train and test\n",
    "Be careful with the test dimensions"
   ]
  },
  {
   "cell_type": "code",
   "execution_count": 45,
   "metadata": {},
   "outputs": [],
   "source": [
    "X_train = spam_train['X']\n",
    "y_train = spam_train['y'].ravel()"
   ]
  },
  {
   "cell_type": "code",
   "execution_count": 47,
   "metadata": {},
   "outputs": [],
   "source": [
    "X_test = spam_test['Xtest']\n",
    "y_test = spam_test['ytest'].ravel()"
   ]
  },
  {
   "cell_type": "markdown",
   "metadata": {},
   "source": [
    "#### 3. Fit a SVC and get the accuracy in train and test"
   ]
  },
  {
   "cell_type": "code",
   "execution_count": 48,
   "metadata": {},
   "outputs": [
    {
     "name": "stdout",
     "output_type": "stream",
     "text": [
      "Train accuracy: 0.99325\n"
     ]
    }
   ],
   "source": [
    "svc = SVC()\n",
    "svc.fit(X_train, y_train)"
   ]
  },
  {
   "cell_type": "code",
   "execution_count": 49,
   "metadata": {},
   "outputs": [
    {
     "name": "stdout",
     "output_type": "stream",
     "text": [
      "Train accuracy: 0.99325\n",
      "Test accuracy: 0.987\n"
     ]
    }
   ],
   "source": [
    "print(\"Train accuracy:\", svc.score(X_train, y_train))\n",
    "print(\"Test accuracy:\", svc.score(X_test, y_test))"
   ]
  },
  {
   "cell_type": "markdown",
   "metadata": {
    "id": "3DqRr2QWnkZN"
   },
   "source": [
    "Each document has been converted to a vector with 1,899 dimensions corresponding to the 1,899 words in the vocabulary.  The values are binary, indicating the presence or absence of the word in the document.  At this point, training and evaluation are just a matter of fitting the testing the classifer. "
   ]
  }
 ],
 "metadata": {
  "colab": {
   "name": "ML-Exercise6.ipynb",
   "provenance": []
  },
  "kernelspec": {
   "display_name": "Python 3",
   "language": "python",
   "name": "python3"
  },
  "language_info": {
   "codemirror_mode": {
    "name": "ipython",
    "version": 3
   },
   "file_extension": ".py",
   "mimetype": "text/x-python",
   "name": "python",
   "nbconvert_exporter": "python",
   "pygments_lexer": "ipython3",
   "version": "3.8.3"
  }
 },
 "nbformat": 4,
 "nbformat_minor": 4
}
