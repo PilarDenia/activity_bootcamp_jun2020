{
 "metadata": {
  "language_info": {
   "codemirror_mode": {
    "name": "ipython",
    "version": 3
   },
   "file_extension": ".py",
   "mimetype": "text/x-python",
   "name": "python",
   "nbconvert_exporter": "python",
   "pygments_lexer": "ipython3",
   "version": "3.7.4-final"
  },
  "orig_nbformat": 2,
  "kernelspec": {
   "name": "python_defaultSpec_1598778181405",
   "display_name": "Python 3.7.4 64-bit ('base': conda)"
  }
 },
 "nbformat": 4,
 "nbformat_minor": 2,
 "cells": [
  {
   "cell_type": "code",
   "execution_count": 1158,
   "metadata": {},
   "outputs": [],
   "source": [
    "import numpy as np \n",
    "import pandas as pd\n",
    "import random as rd "
   ]
  },
  {
   "cell_type": "code",
   "execution_count": 1159,
   "metadata": {
    "tags": []
   },
   "outputs": [],
   "source": [
    "#Constantes\n",
    "vertical = \"|\"\n",
    "void = \"| \"\n",
    "water = \"|-\"\n",
    "spoilt = \"|X\"\n",
    "ship = \"|O\"\n",
    "x_axis = [\".  \",\"A\",\" B\",\" C\",\" D\",\" E\",\" F\",\" G\",\" H\",\" I\",\" J\"]\n",
    "y_axix = [\" 1\",\" 2\",\" 3\",\" 4\",\" 5\",\" 6\",\" 7\",\" 8\",\" 9\",\" 10\"]\n",
    "\n",
    "#PortaAvión 1und_4 posiciones eslora\n",
    "AIRCRAF_CARRIER = 4\n",
    "#Acorazado 2und_3 posicione eslora\n",
    "BATTLESHIP = 3 \n",
    "#Destructor 3und_2 posiciones_eslora\n",
    "DESTROYER = 2\n",
    "#Fragata 4und1 posición_ eslora\n",
    "FRIGATE = 1\n",
    "\n",
    "CARDINALS_POINTS= [\"N\",\"S\",\"E\",\"W\"]\n",
    "\n",
    "#boxes = [vertical,void,void,void,void,void,void,void,void,void,void]\n",
    "box_1 = [\" 1\",void,void,void,void,void,void,void,void,void,void,vertical]\n",
    "box_2 = [\" 2\",void,void,void,void,void,void,void,void,void,void,vertical]\n",
    "box_3 = [\" 3\",void,void,void,void,void,void,void,void,void,void,vertical]\n",
    "box_4 = [\" 4\",void,void,void,void,void,void,void,void,void,void,vertical]\n",
    "box_5 = [\" 5\",void,void,void,void,void,void,void,void,void,void,vertical]\n",
    "box_6 = [\" 6\",void,void,void,void,void,void,void,void,void,void,vertical]\n",
    "box_7 = [\" 7\",void,void,void,void,void,void,void,void,void,void,vertical]\n",
    "box_8 = [\" 8\",void,void,void,void,void,void,void,void,void,void,vertical]\n",
    "box_9 = [\" 9\",void,void,void,void,void,void,void,void,void,void,vertical]\n",
    "box_10 = [\"10\",void,void,void,void,void,void,void,void,void,void,vertical]\n",
    "    \n",
    "board_new = np.array([x_axis,box_1,box_2,box_3,box_4,box_5,box_6,box_7,box_8,box_9,box_10])"
   ]
  },
  {
   "cell_type": "code",
   "execution_count": 1160,
   "metadata": {},
   "outputs": [],
   "source": [
    "def print_board(arr):\n",
    "    for i in range(arr.shape[0]):\n",
    "        print(np.array(''.join(arr[i,])))    "
   ]
  },
  {
   "cell_type": "code",
   "execution_count": 1161,
   "metadata": {
    "tags": []
   },
   "outputs": [
    {
     "output_type": "stream",
     "name": "stdout",
     "text": ".  A B C D E F G H I J\n 1| | | | | | | | | | |\n 2| | | | | | | | | | |\n 3| | | | | | | | | | |\n 4| | | | | | | | | | |\n 5| | | | | | | | | | |\n 6| | | | | | | | | | |\n 7| | | | | | | | | | |\n 8| | | | | | | | | | |\n 9| | | | | | | | | | |\n10| | | | | | | | | | |\n"
    }
   ],
   "source": [
    "print_board(board_new)"
   ]
  },
  {
   "cell_type": "code",
   "execution_count": 1162,
   "metadata": {
    "tags": []
   },
   "outputs": [
    {
     "output_type": "stream",
     "name": "stdout",
     "text": ".  A B C D E F G H I J\n 1| | | | | | | | | | |\n 2| | | | | | | | | | |\n 3| | | | | | | | | | |\n 4| | | | | | | | | | |\n 5| | | | | | | | | | |\n 6| | | | | | | | | | |\n 7| | | | | | | | | | |\n 8| | | | | | | | | | |\n 9| | | | | | | | | | |\n10| | | | | | | | | | |\n"
    }
   ],
   "source": [
    "board = np.copy(board_new)\n",
    "print_board(board)"
   ]
  },
  {
   "cell_type": "code",
   "execution_count": 1163,
   "metadata": {},
   "outputs": [],
   "source": [
    "def check_arround(tuple, board):\n",
    "    out = False\n",
    "    row = tuple[0]\n",
    "    col = tuple[1]\n",
    "    if(row-1 == 0):\n",
    "        if (col-1 == 0):\n",
    "            if (board[row][col+1] == void and board[row+1][col+1]== void and board[row+1][col] == void):\n",
    "                out = True\n",
    "        elif (col+1 == 11):\n",
    "            if (board[row][col-1] == void and board[row+1][col-1]== void and board[row+1][col] == void):\n",
    "                out = True\n",
    "        else:\n",
    "            if (board[row][col-1] == void and board[row+1][col-1] == void and board[row+1][col] == void and board[row+1][col+1] == void and board[row][col+1]== void):\n",
    "                out = True\n",
    "\n",
    "    elif(row+1 == 11):\n",
    "        if (col-1 == 0):\n",
    "            if (board[row-1][col] == void and board[row-1][col+1]== void and board[row][col+1] == void):\n",
    "                out = True\n",
    "        elif (col+1 == 11):\n",
    "            if (board[row][col-1] == void and board[row-1][col-1]== void and board[row-1][col] == void):\n",
    "                out = True\n",
    "        else:\n",
    "            if (board[row][col-1] == void and board[row-1][col-1] == void and board[row-1][col] == void and board[row-1][col+1] == void and board[row][col+1]== void):\n",
    "                out = True\n",
    "\n",
    "\n",
    "    elif (col-1 == 0):\n",
    "        if (board[row-1][col] == void and board[row-1][col+1] == void and board[row][col+1] == void and board[row+1][col+1] == void and board[row+1][col] == void):\n",
    "            out = True\n",
    "    elif (col+1 == 11):\n",
    "        if (board[row-1][col] == void and board[row-1][col-1] == void and board[row][col-1] == void and board[row+1][col-1] == void and board[row+1][col] == void):\n",
    "            out = True\n",
    "\n",
    "    else:\n",
    "       if (board[row-1][col] == void):\n",
    "           if (board[row-1][col+1] == void):\n",
    "               if (board[row][col+1] == void):\n",
    "                   if (board[row+1][col+1] == void):\n",
    "                       if (board[row+1][col] == void):\n",
    "                           if (board[row+1][col-1] == void):\n",
    "                               if(board[row][col-1] == void):\n",
    "                                   if(board[row-1][col-1] == void):\n",
    "                                       out = True                        \n",
    "\n",
    "    return out"
   ]
  },
  {
   "cell_type": "code",
   "execution_count": 1164,
   "metadata": {},
   "outputs": [],
   "source": [
    "def get_first_position():\n",
    "    row = np.random.randint(1,11)\n",
    "    file = np.random.randint(1,11)\n",
    "    first_position = (row,file)\n",
    "    return first_position"
   ]
  },
  {
   "cell_type": "code",
   "execution_count": 1165,
   "metadata": {
    "tags": []
   },
   "outputs": [],
   "source": [
    "def define_orientation(tuple, boat):\n",
    "    orientation = rd.choice(cardinals_points)\n",
    "    cood = []\n",
    "    #print(tuple)\n",
    "    #print(orientation)\n",
    "    if (orientation == \"N\"):\n",
    "        for pos in range(boat):\n",
    "            if(tuple[0]-pos != 0):\n",
    "                cood.append((tuple[0]-pos,tuple[1]))\n",
    "            else:\n",
    "                cood = []\n",
    "                break\n",
    "    elif (orientation == \"S\"):\n",
    "        for pos in range(boat):\n",
    "            if(tuple[0]+pos != 11):\n",
    "                cood.append((tuple[0]+pos,tuple[1]))\n",
    "            else:\n",
    "                cood = []\n",
    "                break\n",
    "        \n",
    "    elif (orientation == \"E\"):\n",
    "        for pos in range(boat):\n",
    "            if(tuple[1]+pos != 11):\n",
    "                cood.append((tuple[0],tuple[1]+pos))\n",
    "            else:\n",
    "                cood = []\n",
    "                break\n",
    "    elif (orientation == \"W\"):\n",
    "        for pos in range(boat):\n",
    "                if(tuple[1]-pos != 0):\n",
    "                    cood.append((tuple[0],tuple[1]-pos))\n",
    "                else:\n",
    "                    cood = []\n",
    "                    break\n",
    "    return cood"
   ]
  },
  {
   "cell_type": "code",
   "execution_count": 1166,
   "metadata": {
    "tags": []
   },
   "outputs": [],
   "source": [
    "#Posiciona una coordenada\n",
    "def place_coordenate(tuple, boat,board):\n",
    "    first_position = tuple\n",
    "      \n",
    "    if (board[first_position[0]][first_position[1]] != void):\n",
    "        place_coordenate(get_first_position(),boat,board)\n",
    "    else:\n",
    "        #Condición que verifica que el contorno a las coordenadas no hay barco o es borde del panel 'check_arround()'\n",
    "        list_coor = define_orientation(first_position,boat)\n",
    "        if(len(list_coor) > 0):\n",
    "            validation =[]\n",
    "            for tup in list_coor:\n",
    "                if (check_arround(tup,board)):\n",
    "                    validation.append(True)\n",
    "                else:\n",
    "                    validation.append(False)\n",
    "            if(all(validation)):\n",
    "                #print(validation)\n",
    "                \n",
    "                for t in list_coor:\n",
    "                    board[t[0]][t[1]] = ship\n",
    "            else:\n",
    "                place_coordenate(get_first_position(),boat,board)\n",
    "                                                                   \n",
    "        else:\n",
    "            place_coordenate(get_first_position(),boat,board)\n",
    "         "
   ]
  },
  {
   "cell_type": "code",
   "execution_count": 1167,
   "metadata": {
    "tags": []
   },
   "outputs": [
    {
     "output_type": "stream",
     "name": "stdout",
     "text": ".  A B C D E F G H I J\n 1| | | | |O|O| |O| | |\n 2| | | | | | | |O| | |\n 3| | | |O|O|O| |O| |O|\n 4| | | | | | | |O| | |\n 5| | | | | | | | | | |\n 6|O| |O| |O| |O|O| | |\n 7| | |O| | | | | | | |\n 8| | |O| | | | | |O| |\n 9| | | | | | | | |O| |\n10| | | | | |O| | | | |\n"
    }
   ],
   "source": [
    "def print_first_board():\n",
    "  \n",
    "    #place one AIRCRAF_CARRIER\n",
    "    for i in range(1):\n",
    "        place_coordenate(get_first_position(),AIRCRAF_CARRIER,board)\n",
    "\n",
    "    #place two BATTLESHIPS\n",
    "    for i in range(2):\n",
    "        place_coordenate(get_first_position(),BATTLESHIP,board)\n",
    "\n",
    "\n",
    "    #place three DESTROYERS\n",
    "    for i in range(3):\n",
    "        place_coordenate(get_first_position(),DESTROYER,board)\n",
    "\n",
    "\n",
    "    #place four FRIGATES\n",
    "    for i in range(4):\n",
    "        place_coordenate(get_first_position(),FRIGATE,board)\n",
    "\n",
    "    print_board(board)\n",
    "\n",
    "print_first_board()"
   ]
  },
  {
   "cell_type": "code",
   "execution_count": null,
   "metadata": {},
   "outputs": [],
   "source": [
    "#Function tirada\n",
    "def throw():\n",
    "    "
   ]
  }
 ]
}