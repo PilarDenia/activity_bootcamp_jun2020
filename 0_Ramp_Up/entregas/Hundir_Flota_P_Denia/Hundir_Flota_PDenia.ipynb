{
 "metadata": {
  "language_info": {
   "codemirror_mode": {
    "name": "ipython",
    "version": 3
   },
   "file_extension": ".py",
   "mimetype": "text/x-python",
   "name": "python",
   "nbconvert_exporter": "python",
   "pygments_lexer": "ipython3",
   "version": "3.7.4-final"
  },
  "orig_nbformat": 2,
  "kernelspec": {
   "name": "python_defaultSpec_1599062715365",
   "display_name": "Python 3.7.4 64-bit ('base': conda)"
  }
 },
 "nbformat": 4,
 "nbformat_minor": 2,
 "cells": [
  {
   "cell_type": "code",
   "execution_count": 165,
   "metadata": {},
   "outputs": [],
   "source": [
    "import numpy as np \n",
    "import pandas as pd\n",
    "import random as rd \n",
    "import tkinter as tk\n",
    "from tkinter import messagebox \n",
    "import copy as copy"
   ]
  },
  {
   "cell_type": "code",
   "execution_count": 166,
   "metadata": {
    "tags": []
   },
   "outputs": [],
   "source": [
    "#Constantes\n",
    "vertical = \"|\"\n",
    "void = \"| \"\n",
    "water = \"|-\"\n",
    "spoilt = \"|X\"\n",
    "ship = \"|O\"\n",
    "x_axis = [\". \",\" A\",\" B\",\" C\",\" D\",\" E\",\" F\",\" G\",\" H\",\" I\",\" J\"]\n",
    "y_axis = [\" 1\",\" 2\",\" 3\",\" 4\",\" 5\",\" 6\",\" 7\",\" 8\",\" 9\",\" 10\"]\n",
    "y_axis_int = list(np.arange(1,11))\n",
    "\n",
    "\n",
    "\n",
    "#PortaAvión 1und_4 posiciones eslora\n",
    "AIRCRAF_CARRIER = 4\n",
    "#Acorazado 2und_3 posicione eslora\n",
    "BATTLESHIP = 3 \n",
    "#Destructor 3und_2 posiciones_eslora\n",
    "DESTROYER = 2\n",
    "#Fragata 4und1 posición_ eslora\n",
    "FRIGATE = 1\n",
    "\n",
    "CARDINALS_POINTS= [\"N\",\"S\",\"E\",\"W\"]\n",
    "\n",
    "#boxes = [vertical,void,void,void,void,void,void,void,void,void,void]\n",
    "box_1 = [\" 1\",void,void,void,void,void,void,void,void,void,void,vertical]\n",
    "box_2 = [\" 2\",void,void,void,void,void,void,void,void,void,void,vertical]\n",
    "box_3 = [\" 3\",void,void,void,void,void,void,void,void,void,void,vertical]\n",
    "box_4 = [\" 4\",void,void,void,void,void,void,void,void,void,void,vertical]\n",
    "box_5 = [\" 5\",void,void,void,void,void,void,void,void,void,void,vertical]\n",
    "box_6 = [\" 6\",void,void,void,void,void,void,void,void,void,void,vertical]\n",
    "box_7 = [\" 7\",void,void,void,void,void,void,void,void,void,void,vertical]\n",
    "box_8 = [\" 8\",void,void,void,void,void,void,void,void,void,void,vertical]\n",
    "box_9 = [\" 9\",void,void,void,void,void,void,void,void,void,void,vertical]\n",
    "box_10 = [\"10\",void,void,void,void,void,void,void,void,void,void,vertical]\n",
    "    \n",
    "board_new = np.array([x_axis,box_1,box_2,box_3,box_4,box_5,box_6,box_7,box_8,box_9,box_10])"
   ]
  },
  {
   "cell_type": "code",
   "execution_count": 167,
   "metadata": {},
   "outputs": [],
   "source": [
    "#Lista de disparos\n",
    "machine_shots = []\n",
    "player_shots = []"
   ]
  },
  {
   "cell_type": "code",
   "execution_count": 168,
   "metadata": {},
   "outputs": [],
   "source": [
    "def print_board(board):\n",
    "    for i in range(board.shape[0]):\n",
    "        print(np.array(''.join(board[i,])))    "
   ]
  },
  {
   "cell_type": "code",
   "execution_count": 169,
   "metadata": {
    "tags": []
   },
   "outputs": [
    {
     "output_type": "stream",
     "name": "stdout",
     "text": ".  A B C D E F G H I J\n 1| | | | | | | | | | |\n 2| | | | | | | | | | |\n 3| | | | | | | | | | |\n 4| | | | | | | | | | |\n 5| | | | | | | | | | |\n 6| | | | | | | | | | |\n 7| | | | | | | | | | |\n 8| | | | | | | | | | |\n 9| | | | | | | | | | |\n10| | | | | | | | | | |\n"
    }
   ],
   "source": [
    "print_board(board_new)"
   ]
  },
  {
   "cell_type": "code",
   "execution_count": 170,
   "metadata": {
    "tags": []
   },
   "outputs": [
    {
     "output_type": "stream",
     "name": "stdout",
     "text": ".  A B C D E F G H I J\n 1| | | | | | | | | | |\n 2| | | | | | | | | | |\n 3| | | | | | | | | | |\n 4| | | | | | | | | | |\n 5| | | | | | | | | | |\n 6| | | | | | | | | | |\n 7| | | | | | | | | | |\n 8| | | | | | | | | | |\n 9| | | | | | | | | | |\n10| | | | | | | | | | |\n"
    }
   ],
   "source": [
    "board = copy.deepcopy(board_new)\n",
    "#board[1][1] = water\n",
    "print_board(board)"
   ]
  },
  {
   "cell_type": "code",
   "execution_count": 171,
   "metadata": {},
   "outputs": [],
   "source": [
    "def check_arround(tuple, board):\n",
    "    out = False\n",
    "    row = tuple[0]\n",
    "    col = tuple[1]\n",
    "    if(row-1 == 0):\n",
    "        if (col-1 == 0):\n",
    "            if (board[row][col+1] == void and board[row+1][col+1]== void and board[row+1][col] == void):\n",
    "                out = True\n",
    "        elif (col+1 == 11):\n",
    "            if (board[row][col-1] == void and board[row+1][col-1]== void and board[row+1][col] == void):\n",
    "                out = True\n",
    "        else:\n",
    "            if (board[row][col-1] == void and board[row+1][col-1] == void and board[row+1][col] == void and board[row+1][col+1] == void and board[row][col+1]== void):\n",
    "                out = True\n",
    "\n",
    "    elif(row+1 == 11):\n",
    "        if (col-1 == 0):\n",
    "            if (board[row-1][col] == void and board[row-1][col+1]== void and board[row][col+1] == void):\n",
    "                out = True\n",
    "        elif (col+1 == 11):\n",
    "            if (board[row][col-1] == void and board[row-1][col-1]== void and board[row-1][col] == void):\n",
    "                out = True\n",
    "        else:\n",
    "            if (board[row][col-1] == void and board[row-1][col-1] == void and board[row-1][col] == void and board[row-1][col+1] == void and board[row][col+1]== void):\n",
    "                out = True\n",
    "\n",
    "\n",
    "    elif (col-1 == 0):\n",
    "        if (board[row-1][col] == void and board[row-1][col+1] == void and board[row][col+1] == void and board[row+1][col+1] == void and board[row+1][col] == void):\n",
    "            out = True\n",
    "    elif (col+1 == 11):\n",
    "        if (board[row-1][col] == void and board[row-1][col-1] == void and board[row][col-1] == void and board[row+1][col-1] == void and board[row+1][col] == void):\n",
    "            out = True\n",
    "\n",
    "    else:\n",
    "       if (board[row-1][col] == void):\n",
    "           if (board[row-1][col+1] == void):\n",
    "               if (board[row][col+1] == void):\n",
    "                   if (board[row+1][col+1] == void):\n",
    "                       if (board[row+1][col] == void):\n",
    "                           if (board[row+1][col-1] == void):\n",
    "                               if(board[row][col-1] == void):\n",
    "                                   if(board[row-1][col-1] == void):\n",
    "                                       out = True                        \n",
    "\n",
    "    return out"
   ]
  },
  {
   "cell_type": "code",
   "execution_count": 172,
   "metadata": {},
   "outputs": [],
   "source": [
    "def get_first_position():\n",
    "    row = np.random.randint(1,11)\n",
    "    file = np.random.randint(1,11)\n",
    "    first_position = (row,file)\n",
    "    return first_position"
   ]
  },
  {
   "cell_type": "code",
   "execution_count": 173,
   "metadata": {
    "tags": []
   },
   "outputs": [],
   "source": [
    "def define_orientation_boat(tuple, boat):\n",
    "    orientation = rd.choice(CARDINALS_POINTS)\n",
    "    cood = []\n",
    "    #print(tuple)\n",
    "    #print(orientation)\n",
    "    if (orientation == \"N\"):\n",
    "        for pos in range(boat):\n",
    "            if(tuple[0]-pos != 0):\n",
    "                cood.append((tuple[0]-pos,tuple[1]))\n",
    "            else:\n",
    "                cood = []\n",
    "                break\n",
    "    elif (orientation == \"S\"):\n",
    "        for pos in range(boat):\n",
    "            if(tuple[0]+pos != 11):\n",
    "                cood.append((tuple[0]+pos,tuple[1]))\n",
    "            else:\n",
    "                cood = []\n",
    "                break\n",
    "        \n",
    "    elif (orientation == \"E\"):\n",
    "        for pos in range(boat):\n",
    "            if(tuple[1]+pos != 11):\n",
    "                cood.append((tuple[0],tuple[1]+pos))\n",
    "            else:\n",
    "                cood = []\n",
    "                break\n",
    "    elif (orientation == \"W\"):\n",
    "        for pos in range(boat):\n",
    "                if(tuple[1]-pos != 0):\n",
    "                    cood.append((tuple[0],tuple[1]-pos))\n",
    "                else:\n",
    "                    cood = []\n",
    "                    break\n",
    "    return cood"
   ]
  },
  {
   "cell_type": "code",
   "execution_count": 174,
   "metadata": {},
   "outputs": [],
   "source": [
    "def define_orientation_shot(tuple):\n",
    "    orientation = rd.choice(CARDINALS_POINTS)\n",
    "    next_shot = None\n",
    "\n",
    "    if (orientation == \"N\"):        \n",
    "        if(tuple[0]-1 != 0):\n",
    "            next_shot = (tuple[0]-1,tuple[1])\n",
    "        else:\n",
    "            next_shot\n",
    "\n",
    "    elif (orientation == \"S\"):\n",
    "        if (tuple[0]+1 != 11):\n",
    "            next_shot = (tuple[0]+1,tuple[1])\n",
    "        else:\n",
    "            next_shot = next_shot \n",
    "                   \n",
    "    elif (orientation == \"E\"):\n",
    "        if (tuple[1]+1 != 11):\n",
    "            next_shot = (tuple[0],tuple[1]+1)\n",
    "        else:\n",
    "            next_shot = next_shot \n",
    "\n",
    "    elif (orientation == \"W\"):\n",
    "        if (tuple[1]-1 != 0):\n",
    "            next_shot = (tuple[0],tuple[1]-1)\n",
    "        else:\n",
    "            next_shot = next_shot\n",
    "    \n",
    "    \n",
    "    return next_shot"
   ]
  },
  {
   "cell_type": "code",
   "execution_count": 175,
   "metadata": {
    "tags": []
   },
   "outputs": [],
   "source": [
    "#Posiciona barco en tablero\n",
    "def place_boat(tuple, boat,board):\n",
    "    first_position = tuple\n",
    "      \n",
    "    if (board[first_position[0]][first_position[1]] != void):\n",
    "        place_boat(get_first_position(),boat,board)\n",
    "    else:\n",
    "        #Condición que verifica que el contorno a las coordenadas no hay barco o es borde del panel 'check_arround()'\n",
    "        list_coor = define_orientation_boat(first_position,boat)\n",
    "        if(len(list_coor) > 0):\n",
    "            validation =[]\n",
    "            for tup in list_coor:\n",
    "                if (check_arround(tup,board)):\n",
    "                    validation.append(True)\n",
    "                else:\n",
    "                    validation.append(False)\n",
    "            if(all(validation)):\n",
    "                #print(validation)\n",
    "                \n",
    "                for t in list_coor:\n",
    "                    board[t[0]][t[1]] = ship\n",
    "            else:\n",
    "                place_boat(get_first_position(),boat,board)\n",
    "                                                                   \n",
    "        else:\n",
    "            place_boat(get_first_position(),boat,board)\n",
    "         "
   ]
  },
  {
   "cell_type": "code",
   "execution_count": 176,
   "metadata": {
    "tags": []
   },
   "outputs": [
    {
     "output_type": "stream",
     "name": "stdout",
     "text": ".  A B C D E F G H I J\n 1| | | | | | | | | | |\n 2| |O| | | | | |O| | |\n 3| | | | | | | | | | |\n 4| | | | |O|O| | |O|O|\n 5| | | | | | | | | | |\n 6| | | | | |O|O|O|O| |\n 7|O|O| | | | | | | | |\n 8| | | | |O| |O|O|O| |\n 9| | | | | | | | | | |\n10| | |O|O|O| |O| | | |\n"
    }
   ],
   "source": [
    "def print_first_board():\n",
    "  \n",
    "    #place one AIRCRAF_CARRIER\n",
    "    for i in range(1):\n",
    "        place_boat(get_first_position(),AIRCRAF_CARRIER,board)\n",
    "\n",
    "    #place two BATTLESHIPS\n",
    "    for i in range(2):\n",
    "        place_boat(get_first_position(),BATTLESHIP,board)\n",
    "\n",
    "\n",
    "    #place three DESTROYERS\n",
    "    for i in range(3):\n",
    "        place_boat(get_first_position(),DESTROYER,board)\n",
    "\n",
    "\n",
    "    #place four FRIGATES\n",
    "    for i in range(4):\n",
    "        place_boat(get_first_position(),FRIGATE,board)\n",
    "\n",
    "    print_board(board)\n",
    "\n",
    "print_first_board()"
   ]
  },
  {
   "cell_type": "code",
   "execution_count": 177,
   "metadata": {},
   "outputs": [],
   "source": [
    "#Function tirada jugador\n",
    "def throw_player(player_shots):\n",
    "\n",
    "    #Player inserts X_coordenate and, it is checked\n",
    "    shot_column = \" \" + input(\"Indique disparo de eje X, una letra desde la A a la J (incluidas).\")\n",
    "    column_ok = True\n",
    "    while (column_ok):\n",
    "        if (shot_column.upper() in x_axis[1:]):\n",
    "            break\n",
    "        else: \n",
    "            shot_column = \" \" + input(\"ERROR. El dato indicado no es correcto. \\nPor favor, inserte una letra de la A a la J, ambas incluidas\")\n",
    "\n",
    "           \n",
    "    #Player inserts Y_coordenate and it is checked\n",
    "    shot_row = input(\"Indique coordenada del eje Y del disparo, un número del 1 al 10 (incluidos).\")\n",
    "    if (len(shot_row) == 1):\n",
    "        shot_row = \" \"+ shot_row\n",
    "\n",
    "    y_ok = True\n",
    "    while (y_ok):\n",
    "        if(int(shot_row) in y_axis_int):\n",
    "            break\n",
    "        else:\n",
    "            shot_row =input(\"ERROR. El dato indicado no es correcto. \\nPor favor, inserte un número de coordenada del eje Y, del 1 al 10, ambos incluidos.\")\n",
    "\n",
    "    #Transform column to int_element\n",
    "    shot_column = x_axis.index(shot_column.upper())\n",
    "\n",
    "    #Set shooting tuple       \n",
    "    shooting = (int(shot_row),shot_column)\n",
    "\n",
    "    #check tuple has been already fired\n",
    "    if not(shooting in player_shots):\n",
    "        player_shots.append(shooting)\n",
    "        return shooting\n",
    "    else:\n",
    "        input(\"Coordenadas Repetidas: Las coordenadas ya han sido utilizadas.\\nIntroduzca unas nuevas.\")\n",
    "        #show_warning()\n",
    "        throw_player(player_shots)     \n",
    "\n",
    "    return shooting"
   ]
  },
  {
   "cell_type": "code",
   "execution_count": 191,
   "metadata": {
    "tags": []
   },
   "outputs": [
    {
     "output_type": "execute_result",
     "data": {
      "text/plain": "(3, 3)"
     },
     "metadata": {},
     "execution_count": 191
    }
   ],
   "source": [
    "throw_player(player_shots)"
   ]
  },
  {
   "cell_type": "code",
   "execution_count": 192,
   "metadata": {},
   "outputs": [
    {
     "output_type": "execute_result",
     "data": {
      "text/plain": "[(5, 2), (3, 3)]"
     },
     "metadata": {},
     "execution_count": 192
    }
   ],
   "source": [
    "player_shots"
   ]
  },
  {
   "cell_type": "code",
   "execution_count": 180,
   "metadata": {},
   "outputs": [],
   "source": [
    "def show_warning():\n",
    "    window = tk.Tk()\n",
    "    window.withdraw()\n",
    "\n",
    "    messagebox.showwarning(title=\"Coordenadas Repetidas\",message=\"Las coordenadas ya han sido utilizadas.\\nIntroduzca unas nuevas.\")\n",
    "    window.deiconify()\n",
    "    window.destroy()\n",
    "    window.quit()\n"
   ]
  },
  {
   "cell_type": "code",
   "execution_count": 181,
   "metadata": {},
   "outputs": [],
   "source": [
    "#Function tirada maquina aleatoria\n",
    "def throw_machine_random(machine_shots):\n",
    "\n",
    "    #Machine select X_coordenate\n",
    "    shot_column = np.random.choice(x_axis[1:])\n",
    "    #Machine select Y_coordenate \n",
    "    shot_row = np.random.choice(y_axis_int)\n",
    "\n",
    "    shot_column = x_axis.index(shot_column.upper())\n",
    "            \n",
    "    shooting = (int(shot_row),shot_column)\n",
    "    print(\"Random_shot:\",shooting[0],\",\",shooting[1])\n",
    "\n",
    "    #check tuple has been already fired\n",
    "    if (shooting in machine_shots):\n",
    "        throw_machine_random(machine_shots)\n",
    "    else:\n",
    "        print(\"Disparo_válido: \",shooting[0],\",\",shooting[1])\n",
    "        machine_shots.append(shooting)\n",
    "        return shooting"
   ]
  },
  {
   "cell_type": "code",
   "execution_count": 183,
   "metadata": {
    "tags": []
   },
   "outputs": [
    {
     "output_type": "stream",
     "name": "stdout",
     "text": "Random_shot: 3 , 4\nDisparo_válido:  3 , 4\n"
    },
    {
     "output_type": "execute_result",
     "data": {
      "text/plain": "(3, 4)"
     },
     "metadata": {},
     "execution_count": 183
    }
   ],
   "source": [
    "throw_machine_random(machine_shots)"
   ]
  },
  {
   "cell_type": "code",
   "execution_count": 184,
   "metadata": {},
   "outputs": [
    {
     "output_type": "execute_result",
     "data": {
      "text/plain": "[(3, 4)]"
     },
     "metadata": {},
     "execution_count": 184
    }
   ],
   "source": [
    "machine_shots"
   ]
  },
  {
   "cell_type": "code",
   "execution_count": 185,
   "metadata": {},
   "outputs": [],
   "source": [
    "def throw_machine_logic(hit,machine_shots):\n",
    "    orientation = rd.choice(CARDINALS_POINTS)\n",
    "    next_shot = None\n",
    "\n",
    "    test = []\n",
    "\n",
    "    if (orientation == \"N\"):        \n",
    "        if(hit[0]-1 != 0):\n",
    "            next_shot = (hit[0]-1,hit[1])\n",
    "        else:\n",
    "            next_shot\n",
    "\n",
    "    elif (orientation == \"S\"):\n",
    "        if (hit[0]+1 != 11):\n",
    "            next_shot = (hit[0]+1,hit[1])\n",
    "        else:\n",
    "            next_shot = next_shot \n",
    "                   \n",
    "    elif (orientation == \"E\"):\n",
    "        if (hit[1]+1 != 11):\n",
    "            next_shot = (hit[0],hit[1]+1)\n",
    "        else:\n",
    "            next_shot = next_shot \n",
    "\n",
    "    elif (orientation == \"W\"):\n",
    "        if (hit[1]-1 != 0):\n",
    "            next_shot = (hit[0],hit[1]-1)\n",
    "        else:\n",
    "            next_shot = next_shot\n",
    "    \n",
    "    if not(next_shot in machine_shots):\n",
    "        if (next_shot is not None):\n",
    "            machine_shots.append(next_shot)\n",
    "            return next_shot\n",
    "    else:\n",
    "        test.append(next_shot)\n",
    "        if (len(test) > 7):\n",
    "            return throw_machine_random(machine_shots)\n",
    "        else:\n",
    "            throw_machine_logic(hit,machine_shots)\n",
    "\n",
    "    #print(test)\n",
    "    return next_shot"
   ]
  },
  {
   "cell_type": "code",
   "execution_count": 186,
   "metadata": {},
   "outputs": [
    {
     "output_type": "execute_result",
     "data": {
      "text/plain": "(3, 5)"
     },
     "metadata": {},
     "execution_count": 186
    }
   ],
   "source": [
    "throw_machine_logic(machine_shots[0],machine_shots)"
   ]
  },
  {
   "cell_type": "code",
   "execution_count": 187,
   "metadata": {},
   "outputs": [
    {
     "output_type": "execute_result",
     "data": {
      "text/plain": "[(3, 4), (3, 5)]"
     },
     "metadata": {},
     "execution_count": 187
    }
   ],
   "source": [
    "machine_shots"
   ]
  },
  {
   "cell_type": "code",
   "execution_count": 188,
   "metadata": {
    "tags": []
   },
   "outputs": [
    {
     "output_type": "stream",
     "name": "stdout",
     "text": ".  A B C D E F G H I J\n 1| | | | | | | | | | |\n 2| | | | | | | | | | |\n 3| | | | | | | | | | |\n 4| | | | | | | | | | |\n 5| | | | | | | | | | |\n 6| | | | | | | | | | |\n 7| | | | | | | | | | |\n 8| | | | | | | | | | |\n 9| | | | | | | | | | |\n10| | | | | | | | | | |\n"
    }
   ],
   "source": [
    "print_board(board_new)\n"
   ]
  },
  {
   "cell_type": "code",
   "execution_count": 189,
   "metadata": {
    "tags": []
   },
   "outputs": [
    {
     "output_type": "stream",
     "name": "stdout",
     "text": ".  A B C D E F G H I J\n 1|-| | | | | | | | | |\n 2| |O| | | | | |O| | |\n 3| | | | | | | | | | |\n 4| | | | |O|O| | |O|O|\n 5| | | | | | | | | | |\n 6| | | | | |O|O|O|O| |\n 7|O|O| | | | | | | | |\n 8| | | | |O| |O|O|O| |\n 9| | | | | | | | | | |\n10| | |O|O|O| |O| | | |\n"
    }
   ],
   "source": [
    "board[1][1] = water\n",
    "print_board(board)"
   ]
  },
  {
   "cell_type": "code",
   "execution_count": null,
   "metadata": {},
   "outputs": [],
   "source": []
  }
 ]
}