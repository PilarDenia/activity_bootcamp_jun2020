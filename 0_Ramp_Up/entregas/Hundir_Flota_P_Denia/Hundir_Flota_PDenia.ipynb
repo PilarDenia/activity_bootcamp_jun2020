{
 "metadata": {
  "language_info": {
   "codemirror_mode": {
    "name": "ipython",
    "version": 3
   },
   "file_extension": ".py",
   "mimetype": "text/x-python",
   "name": "python",
   "nbconvert_exporter": "python",
   "pygments_lexer": "ipython3",
   "version": "3.7.4-final"
  },
  "orig_nbformat": 2,
  "kernelspec": {
   "name": "python_defaultSpec_1599903132568",
   "display_name": "Python 3.7.4 64-bit ('base': conda)"
  }
 },
 "nbformat": 4,
 "nbformat_minor": 2,
 "cells": [
  {
   "cell_type": "code",
   "execution_count": 4,
   "metadata": {},
   "outputs": [],
   "source": [
    "import numpy as np \n",
    "import pandas as pd\n",
    "import random as rd \n",
    "import tkinter as tk\n",
    "from tkinter import messagebox \n",
    "import copy as copy\n",
    "import time as time "
   ]
  },
  {
   "cell_type": "code",
   "execution_count": 5,
   "metadata": {
    "tags": []
   },
   "outputs": [],
   "source": [
    "#Constantes\n",
    "vertical = \"|\"\n",
    "void = \"| \"\n",
    "water = \"|-\"\n",
    "spoilt = \"|X\"\n",
    "ship = \"|O\"\n",
    "\n",
    "TEXTS = {\"menu\":\"Si quiere jugar presiona enter:\\nSi no seleciona indica:\\n\\t1.Salir del juego, 'salir'.\\n\\t2.Ver mi tablero, 'mt'.\\n\\t3.Ver tablero de la máquina, 'tm'.\",\n",
    "         \"mt\": \".  TU TABLERO\",\n",
    "         \"tm\": \".  EL TABLERO MÁQUINA\",\n",
    "         \"go\": \"GAME OVER: Te has quedado sin vidas.\"}\n",
    "\n",
    "#PortaAvión 1und_4 posiciones eslora\n",
    "AIRCRAF_CARRIER = 4\n",
    "#Acorazado 2und_3 posicione eslora\n",
    "BATTLESHIP = 3 \n",
    "#Destructor 3und_2 posiciones_eslora\n",
    "DESTROYER = 2\n",
    "#Fragata 4und1 posición_ eslora\n",
    "FRIGATE = 1\n",
    "\n",
    "CARDINALS_POINTS= [\"N\",\"S\",\"E\",\"W\"]\n",
    "\n",
    "#boxes = [vertical,void,void,void,void,void,void,void,void,void,void]\n",
    "\n",
    "y_axis = [\" 1\",\" 2\",\" 3\",\" 4\",\" 5\",\" 6\",\" 7\",\" 8\",\" 9\",\" 10\"]\n",
    "y_axis_int = list(np.arange(1,11))\n",
    "\n",
    "x_axis = [\". \",\" A\",\" B\",\" C\",\" D\",\" E\",\" F\",\" G\",\" H\",\" I\",\" J\",\".\"]\n",
    "box_1 = [\" 1\",void,void,void,void,void,void,void,void,void,void,vertical]\n",
    "box_2 = [\" 2\",void,void,void,void,void,void,void,void,void,void,vertical]\n",
    "box_3 = [\" 3\",void,void,void,void,void,void,void,void,void,void,vertical]\n",
    "box_4 = [\" 4\",void,void,void,void,void,void,void,void,void,void,vertical]\n",
    "box_5 = [\" 5\",void,void,void,void,void,void,void,void,void,void,vertical]\n",
    "box_6 = [\" 6\",void,void,void,void,void,void,void,void,void,void,vertical]\n",
    "box_7 = [\" 7\",void,void,void,void,void,void,void,void,void,void,vertical]\n",
    "box_8 = [\" 8\",void,void,void,void,void,void,void,void,void,void,vertical]\n",
    "box_9 = [\" 9\",void,void,void,void,void,void,void,void,void,void,vertical]\n",
    "box_10 = [\"10\",void,void,void,void,void,void,void,void,void,void,vertical]\n",
    "    \n",
    "board_new = np.array([x_axis,box_1,box_2,box_3,box_4,box_5,box_6,box_7,box_8,box_9,box_10])"
   ]
  },
  {
   "cell_type": "code",
   "execution_count": 6,
   "metadata": {},
   "outputs": [],
   "source": [
    "#Variables\n",
    "machine_shots = []\n",
    "machine_fails = []\n",
    "player_shots = []\n",
    "player_fails = []\n",
    "lives = 20\n",
    "degree_difficulty = [1,2,3]"
   ]
  },
  {
   "cell_type": "code",
   "execution_count": 7,
   "metadata": {},
   "outputs": [],
   "source": [
    "def print_board(board):\n",
    "    for i in range(board.shape[0]):\n",
    "        print(np.array(''.join(board[i,])))    "
   ]
  },
  {
   "cell_type": "code",
   "execution_count": 8,
   "metadata": {
    "tags": []
   },
   "outputs": [],
   "source": [
    "def print_hidden_board(board):\n",
    "    temp_board = copy.deepcopy(board)\n",
    "    mask = np.array([])\n",
    "    for row in temp_board:\n",
    "        l = np.isin(row, ship)\n",
    "        mask = np.concatenate((mask,l))\n",
    "    hidden_board = mask.reshape(temp_board.shape).astype(bool)\n",
    "    temp_board[hidden_board] = void\n",
    "    print_board(temp_board)\n"
   ]
  },
  {
   "cell_type": "code",
   "execution_count": 11,
   "metadata": {
    "tags": []
   },
   "outputs": [
    {
     "output_type": "stream",
     "name": "stdout",
     "text": ".  A B C D E F G H I J.\n 1|-|O|O| | | | | | | |\n 2| | | | | | | | | | |\n 3| | | | | | | | | | |\n 4| | | | | | | | | | |\n 5| | | | | | |X| | | |\n 6| | | | | | | | | | |\n 7| | | | | | | | | | |\n 8| | | | | | | | | | |\n 9| | | | | | | | | | |\n10| | | | | | | | | | |\n"
    }
   ],
   "source": [
    "board = copy.deepcopy(board_new)\n",
    "board[1][1] = water\n",
    "board[1][2] = ship\n",
    "board[1][3] = ship\n",
    "board[5][7] = spoilt\n",
    "print_board(board)"
   ]
  },
  {
   "cell_type": "code",
   "execution_count": 12,
   "metadata": {
    "tags": []
   },
   "outputs": [
    {
     "output_type": "stream",
     "name": "stdout",
     "text": ".  A B C D E F G H I J.\n 1|-| | | | | | | | | |\n 2| | | | | | | | | | |\n 3| | | | | | | | | | |\n 4| | | | | | | | | | |\n 5| | | | | | |X| | | |\n 6| | | | | | | | | | |\n 7| | | | | | | | | | |\n 8| | | | | | | | | | |\n 9| | | | | | | | | | |\n10| | | | | | | | | | |\n"
    }
   ],
   "source": [
    "print_hidden_board(board)"
   ]
  },
  {
   "cell_type": "code",
   "execution_count": 9,
   "metadata": {},
   "outputs": [],
   "source": [
    "def check_arround(tuple, board):\n",
    "    out = False\n",
    "    row = tuple[0]\n",
    "    col = tuple[1]\n",
    "    if(row-1 == 0):\n",
    "        if (col-1 == 0):\n",
    "            if (board[row][col+1] == void and board[row+1][col+1]== void and board[row+1][col] == void):\n",
    "                out = True\n",
    "        elif (col+1 == 11):\n",
    "            if (board[row][col-1] == void and board[row+1][col-1]== void and board[row+1][col] == void):\n",
    "                out = True\n",
    "        else:\n",
    "            if (board[row][col-1] == void and board[row+1][col-1] == void and board[row+1][col] == void and board[row+1][col+1] == void and board[row][col+1]== void):\n",
    "                out = True\n",
    "\n",
    "    elif(row+1 == 11):\n",
    "        if (col-1 == 0):\n",
    "            if (board[row-1][col] == void and board[row-1][col+1]== void and board[row][col+1] == void):\n",
    "                out = True\n",
    "        elif (col+1 == 11):\n",
    "            if (board[row][col-1] == void and board[row-1][col-1]== void and board[row-1][col] == void):\n",
    "                out = True\n",
    "        else:\n",
    "            if (board[row][col-1] == void and board[row-1][col-1] == void and board[row-1][col] == void and board[row-1][col+1] == void and board[row][col+1]== void):\n",
    "                out = True\n",
    "\n",
    "\n",
    "    elif (col-1 == 0):\n",
    "        if (board[row-1][col] == void and board[row-1][col+1] == void and board[row][col+1] == void and board[row+1][col+1] == void and board[row+1][col] == void):\n",
    "            out = True\n",
    "    elif (col+1 == 11):\n",
    "        if (board[row-1][col] == void and board[row-1][col-1] == void and board[row][col-1] == void and board[row+1][col-1] == void and board[row+1][col] == void):\n",
    "            out = True\n",
    "\n",
    "    else:\n",
    "       if (board[row-1][col] == void):\n",
    "           if (board[row-1][col+1] == void):\n",
    "               if (board[row][col+1] == void):\n",
    "                   if (board[row+1][col+1] == void):\n",
    "                       if (board[row+1][col] == void):\n",
    "                           if (board[row+1][col-1] == void):\n",
    "                               if(board[row][col-1] == void):\n",
    "                                   if(board[row-1][col-1] == void):\n",
    "                                       out = True                        \n",
    "\n",
    "    return out"
   ]
  },
  {
   "cell_type": "code",
   "execution_count": 10,
   "metadata": {},
   "outputs": [],
   "source": [
    "def get_first_position():\n",
    "    row = np.random.randint(1,11)\n",
    "    file = np.random.randint(1,11)\n",
    "    first_position = (row,file)\n",
    "    return first_position"
   ]
  },
  {
   "cell_type": "code",
   "execution_count": 11,
   "metadata": {
    "tags": []
   },
   "outputs": [],
   "source": [
    "def define_orientation_boat(tuple, boat):\n",
    "    orientation = rd.choice(CARDINALS_POINTS)\n",
    "    cood = []\n",
    "    #print(tuple)\n",
    "    #print(orientation)\n",
    "    if (orientation == \"N\"):\n",
    "        for pos in range(boat):\n",
    "            if(tuple[0]-pos != 0):\n",
    "                cood.append((tuple[0]-pos,tuple[1]))\n",
    "            else:\n",
    "                cood = []\n",
    "                break\n",
    "    elif (orientation == \"S\"):\n",
    "        for pos in range(boat):\n",
    "            if(tuple[0]+pos != 11):\n",
    "                cood.append((tuple[0]+pos,tuple[1]))\n",
    "            else:\n",
    "                cood = []\n",
    "                break\n",
    "        \n",
    "    elif (orientation == \"E\"):\n",
    "        for pos in range(boat):\n",
    "            if(tuple[1]+pos != 11):\n",
    "                cood.append((tuple[0],tuple[1]+pos))\n",
    "            else:\n",
    "                cood = []\n",
    "                break\n",
    "    elif (orientation == \"W\"):\n",
    "        for pos in range(boat):\n",
    "                if(tuple[1]-pos != 0):\n",
    "                    cood.append((tuple[0],tuple[1]-pos))\n",
    "                else:\n",
    "                    cood = []\n",
    "                    break\n",
    "    return cood"
   ]
  },
  {
   "cell_type": "code",
   "execution_count": 12,
   "metadata": {},
   "outputs": [],
   "source": [
    "def define_orientation_shot(tuple):\n",
    "    orientation = rd.choice(CARDINALS_POINTS)\n",
    "    next_shot = None\n",
    "\n",
    "    if (orientation == \"N\"):        \n",
    "        if(tuple[0]-1 != 0):\n",
    "            next_shot = (tuple[0]-1,tuple[1])\n",
    "        else:\n",
    "            next_shot\n",
    "\n",
    "    elif (orientation == \"S\"):\n",
    "        if (tuple[0]+1 != 11):\n",
    "            next_shot = (tuple[0]+1,tuple[1])\n",
    "        else:\n",
    "            next_shot = next_shot \n",
    "                   \n",
    "    elif (orientation == \"E\"):\n",
    "        if (tuple[1]+1 != 11):\n",
    "            next_shot = (tuple[0],tuple[1]+1)\n",
    "        else:\n",
    "            next_shot = next_shot \n",
    "\n",
    "    elif (orientation == \"W\"):\n",
    "        if (tuple[1]-1 != 0):\n",
    "            next_shot = (tuple[0],tuple[1]-1)\n",
    "        else:\n",
    "            next_shot = next_shot\n",
    "    \n",
    "    \n",
    "    return next_shot"
   ]
  },
  {
   "cell_type": "code",
   "execution_count": 13,
   "metadata": {
    "tags": []
   },
   "outputs": [],
   "source": [
    "#Posiciona barco en tablero\n",
    "def place_boat(tuple, boat,board):\n",
    "    first_position = tuple\n",
    "      \n",
    "    if (board[first_position[0]][first_position[1]] != void):\n",
    "        place_boat(get_first_position(),boat,board)\n",
    "    else:\n",
    "        #Condición que verifica que el contorno a las coordenadas no hay barco o es borde del panel 'check_arround()'\n",
    "        list_coor = define_orientation_boat(first_position,boat)\n",
    "        if(len(list_coor) > 0):\n",
    "            validation =[]\n",
    "            for tup in list_coor:\n",
    "                if (check_arround(tup,board)):\n",
    "                    validation.append(True)\n",
    "                else:\n",
    "                    validation.append(False)\n",
    "            if(all(validation)):\n",
    "                #print(validation)\n",
    "                \n",
    "                for t in list_coor:\n",
    "                    board[t[0]][t[1]] = ship\n",
    "            else:\n",
    "                place_boat(get_first_position(),boat,board)\n",
    "                                                                   \n",
    "        else:\n",
    "            place_boat(get_first_position(),boat,board)\n",
    "         "
   ]
  },
  {
   "cell_type": "code",
   "execution_count": 14,
   "metadata": {
    "tags": []
   },
   "outputs": [],
   "source": [
    "def print_first_board(board):\n",
    "  \n",
    "    #place one AIRCRAF_CARRIER\n",
    "    for i in range(1):\n",
    "        place_boat(get_first_position(),AIRCRAF_CARRIER,board)\n",
    "\n",
    "    #place two BATTLESHIPS\n",
    "    for i in range(2):\n",
    "        place_boat(get_first_position(),BATTLESHIP,board)\n",
    "\n",
    "    #place three DESTROYERS\n",
    "    for i in range(3):\n",
    "        place_boat(get_first_position(),DESTROYER,board)\n",
    "\n",
    "\n",
    "    #place four FRIGATES\n",
    "    for i in range(4):\n",
    "        place_boat(get_first_position(),FRIGATE,board)\n",
    "\n",
    "    return board\n",
    "\n",
    "#print_first_board()"
   ]
  },
  {
   "cell_type": "code",
   "execution_count": 15,
   "metadata": {},
   "outputs": [],
   "source": [
    "#Function tirada jugador\n",
    "def throw_player(player_shots):\n",
    "\n",
    "    #Player inserts X_coordenate and, it is checked\n",
    "    shot_column = \" \" + input(\"Indique disparo de eje X, una letra desde la A a la J (incluidas).\")\n",
    "    column_ok = True\n",
    "    while (column_ok):\n",
    "        if (shot_column.upper() in x_axis[1:12]):\n",
    "            break\n",
    "        else: \n",
    "            shot_column = \" \" + input(\"ERROR. El dato indicado no es correcto. \\nPor favor, inserte una letra de la A a la J, ambas incluidas\")\n",
    "\n",
    "           \n",
    "    #Player inserts Y_coordenate and it is checked\n",
    "    shot_row = input(\"Indique coordenada del eje Y del disparo, un número del 1 al 10 (incluidos).\")\n",
    "    if (len(shot_row) == 1):\n",
    "        shot_row = \" \"+ shot_row\n",
    "\n",
    "    y_ok = True\n",
    "    while (y_ok):\n",
    "        if(int(shot_row) in y_axis_int):\n",
    "            break\n",
    "        else:\n",
    "            shot_row =input(\"ERROR. El dato indicado no es correcto. \\nPor favor, inserte un número de coordenada del eje Y, del 1 al 10, ambos incluidos.\")\n",
    "\n",
    "    #Transform column to int_element\n",
    "    shot_column = x_axis.index(shot_column.upper())\n",
    "\n",
    "    #Set shooting tuple       \n",
    "    shooting = (int(shot_row),shot_column)\n",
    "\n",
    "    #check tuple has been already fired\n",
    "    if not(shooting in player_shots):\n",
    "        player_shots.append(shooting)\n",
    "        return shooting\n",
    "    else:\n",
    "        input(\"Coordenadas Repetidas: Las coordenadas ya han sido utilizadas.\\nIntroduzca unas nuevas.\")\n",
    "        #show_warning()\n",
    "       \n",
    "        throw_player(player_shots)     \n",
    "\n",
    "    return shooting"
   ]
  },
  {
   "cell_type": "code",
   "execution_count": 16,
   "metadata": {},
   "outputs": [
    {
     "output_type": "execute_result",
     "data": {
      "text/plain": "[]"
     },
     "metadata": {},
     "execution_count": 16
    }
   ],
   "source": [
    "player_shots"
   ]
  },
  {
   "cell_type": "code",
   "execution_count": 17,
   "metadata": {},
   "outputs": [],
   "source": [
    "def show_warning():\n",
    "    window = tk.Tk()\n",
    "    window.withdraw()\n",
    "\n",
    "    messagebox.showwarning(title=\"Coordenadas Repetidas\",message=\"Las coordenadas ya han sido utilizadas.\\nIntroduzca unas nuevas.\")\n",
    "    window.deiconify()\n",
    "    window.destroy()\n",
    "    window.quit()\n"
   ]
  },
  {
   "cell_type": "code",
   "execution_count": 18,
   "metadata": {},
   "outputs": [],
   "source": [
    "#Function tirada maquina aleatoria\n",
    "def throw_machine_random(machine_shots):\n",
    "\n",
    "    #Machine select X_coordenate\n",
    "    shot_column = np.random.choice(x_axis[1:11])\n",
    "    #Machine select Y_coordenate \n",
    "    shot_row = np.random.choice(y_axis_int)\n",
    "\n",
    "    shot_column = x_axis.index(shot_column.upper())\n",
    "            \n",
    "    shooting = (int(shot_row),shot_column)\n",
    "    print(\"Random_shot:\",shooting[0],\",\",shooting[1])\n",
    "\n",
    "    #check tuple has been already fired\n",
    "    if (shooting not in machine_shots):\n",
    "        machine_shots.append(shooting)\n",
    "        print(\"Disparo_válido: \",shooting[0],\",\",shooting[1])\n",
    "    else:\n",
    "        print(\"Disparo_NO_válido: \",shooting[0],\",\",shooting[1])\n",
    "   \n",
    "    return shooting"
   ]
  },
  {
   "cell_type": "code",
   "execution_count": 19,
   "metadata": {},
   "outputs": [
    {
     "output_type": "execute_result",
     "data": {
      "text/plain": "[]"
     },
     "metadata": {},
     "execution_count": 19
    }
   ],
   "source": [
    "machine_shots"
   ]
  },
  {
   "cell_type": "code",
   "execution_count": 20,
   "metadata": {},
   "outputs": [],
   "source": [
    "def throw_machine_logic(hit,machine_shots, player_board):\n",
    "    orientation = rd.choice(CARDINALS_POINTS)\n",
    "    next_shot = None\n",
    "\n",
    "    test = []\n",
    "\n",
    "    if (orientation == \"N\"):        \n",
    "        if((hit[0]-1 != 0)):\n",
    "            next_shot = (hit[0]-1,hit[1])\n",
    "        else:\n",
    "            next_shot\n",
    "\n",
    "    elif (orientation == \"S\"):\n",
    "        if((hit[0]+1 != 11) ):\n",
    "            next_shot = (hit[0]+1,hit[1])\n",
    "        else:\n",
    "            next_shot = next_shot \n",
    "                   \n",
    "    elif (orientation == \"E\"):\n",
    "        if ((hit[1]+1 != 11)):\n",
    "            next_shot = (hit[0],hit[1]+1)\n",
    "        else:\n",
    "            next_shot = next_shot \n",
    "\n",
    "    elif (orientation == \"W\"):\n",
    "        if ((hit[1]-1 != 0) ):\n",
    "            next_shot = (hit[0],hit[1]-1)\n",
    "        else:\n",
    "            next_shot = next_shot\n",
    "    \n",
    "    if not(next_shot in machine_shots):\n",
    "        if (next_shot is not None):\n",
    "            machine_shots.append(next_shot)\n",
    "            return next_shot\n",
    "\n",
    "#    else:\n",
    "#        test.append(next_shot)\n",
    "#        if (len(test) > 7):\n",
    "#            return throw_machine_random(machine_shots)\n",
    "#        else:\n",
    "#            throw_machine_logic(hit,machine_shots)\n",
    "\n",
    "    #print(test)\n",
    "    return next_shot"
   ]
  },
  {
   "cell_type": "code",
   "execution_count": 21,
   "metadata": {},
   "outputs": [],
   "source": [
    "#def response_shot(shot, board, lives): \n",
    "def response_shot(shot, board, list_shots, list_fails):\n",
    "    if (shot != None):\n",
    "        if (board[shot[0]][shot[1]] == void):\n",
    "            board[shot[0]][shot[1]] = water\n",
    "            list_fails.append(shot)\n",
    "            #lives = lives - 1\n",
    "            out = (False,\"Agua, se ha fallado.\")\n",
    "        elif (board[shot[0]][shot[1]]== ship):\n",
    "            board[shot[0]][shot[1]] = spoilt\n",
    "            out = (True, \"Tocado, se dispara de nuevo.\")\n",
    "        elif (shot in list_shots):\n",
    "            #board[shot[0]][shot[1]] = board[shot[0]][shot[1]]\n",
    "            #lives = lives - 1\n",
    "            list_fails.append(shot)\n",
    "            out = (False, \"PRESTA MÁS ATENCIÓN, TURNO PERDIDO.\\nEste disparo ya se has realizado.\")\n",
    "    else:\n",
    "        out = (False, \"\")\n",
    "\n",
    "\n",
    "    #return out, lives\n",
    "    return out\n",
    "    #Una tupla de 2 elementos 1er elemento bool= (True =Exito, String-Texto de respuesta al jugador)"
   ]
  },
  {
   "cell_type": "code",
   "execution_count": 22,
   "metadata": {
    "tags": []
   },
   "outputs": [
    {
     "output_type": "stream",
     "name": "stdout",
     "text": "Si quiere jugar presiona enter:\nSi no seleciona indica:\n\t1.Salir del juego, 'salir'.\n\t2.Ver mi tablero, 'mt'.\n\t3.Ver tablero de la máquina, 'tm'.\n"
    }
   ],
   "source": [
    "out_menu = input(TEXTS[\"menu\"])\n",
    "print(TEXTS[\"menu\"])"
   ]
  },
  {
   "cell_type": "code",
   "execution_count": 23,
   "metadata": {
    "tags": []
   },
   "outputs": [],
   "source": [
    "player_board = copy.deepcopy(board_new)\n",
    "machine_board = copy.deepcopy(board_new)\n",
    "machine_shots = []\n",
    "player_shots = []"
   ]
  },
  {
   "cell_type": "code",
   "execution_count": 24,
   "metadata": {
    "tags": []
   },
   "outputs": [
    {
     "output_type": "execute_result",
     "data": {
      "text/plain": "array([['. ', ' A', ' B', ' C', ' D', ' E', ' F', ' G', ' H', ' I', ' J',\n        '.'],\n       [' 1', '| ', '|O', '| ', '| ', '| ', '| ', '| ', '| ', '| ', '| ',\n        '|'],\n       [' 2', '| ', '|O', '| ', '|O', '|O', '|O', '|O', '| ', '| ', '| ',\n        '|'],\n       [' 3', '| ', '| ', '| ', '| ', '| ', '| ', '| ', '| ', '|O', '| ',\n        '|'],\n       [' 4', '| ', '| ', '| ', '| ', '| ', '| ', '| ', '| ', '| ', '| ',\n        '|'],\n       [' 5', '|O', '| ', '| ', '|O', '| ', '|O', '| ', '| ', '| ', '| ',\n        '|'],\n       [' 6', '| ', '| ', '| ', '| ', '| ', '|O', '| ', '| ', '| ', '|O',\n        '|'],\n       [' 7', '| ', '| ', '| ', '| ', '| ', '| ', '| ', '| ', '| ', '|O',\n        '|'],\n       [' 8', '| ', '| ', '|O', '|O', '|O', '| ', '|O', '| ', '| ', '|O',\n        '|'],\n       [' 9', '| ', '| ', '| ', '| ', '| ', '| ', '| ', '| ', '| ', '| ',\n        '|'],\n       ['10', '| ', '| ', '| ', '|O', '|O', '| ', '| ', '| ', '| ', '| ',\n        '|']], dtype='<U2')"
     },
     "metadata": {},
     "execution_count": 24
    }
   ],
   "source": [
    "print_first_board(player_board)\n",
    "print_first_board(machine_board)\n"
   ]
  },
  {
   "cell_type": "code",
   "execution_count": 25,
   "metadata": {
    "tags": []
   },
   "outputs": [
    {
     "output_type": "stream",
     "name": "stdout",
     "text": ".  A B C D E F G H I J.\n 1|O| | | | | | | | | |\n 2| | | |O| | | | | | |\n 3| | | |O| | | |O| | |\n 4| | | |O| |O| |O| |O|\n 5|O| | | | |O| | | | |\n 6| | | | | | | | | | |\n 7|O| | | | | | | | | |\n 8|O| | | | | | |O| | |\n 9|O| | | | | | | | | |\n10| | |O|O| | |O|O|O|O|\n"
    }
   ],
   "source": [
    "print_board(player_board)"
   ]
  },
  {
   "cell_type": "code",
   "execution_count": 353,
   "metadata": {
    "tags": []
   },
   "outputs": [
    {
     "output_type": "stream",
     "name": "stdout",
     "text": ".  A B C D E F G H I J.\n 1| |O|O|O| | | | | | |\n 2| | | | | | | |O| | |\n 3| | | |O|O|O| |O| | |\n 4| | | | | | | | | | |\n 5| | | | |O| | | | | |\n 6| |O| | | | | | |O| |\n 7| | | | | | | | |O| |\n 8| |O| | |O| | | | | |\n 9| | | | | | | | | | |\n10|O|O| | |O|O|O|O| | |\n.  A B C D E F G H I J.\n 1| | | | | | | | | | |\n 2| | | | | | | | | | |\n 3| | | | | | | | | | |\n 4| | | | | | | | | | |\n 5| | | | | | | | | | |\n 6| | | | | | | | | | |\n 7| | | | | | | | | | |\n 8| | | | | | | | | | |\n 9| | | | | | | | | | |\n10| | | | | | | | | | |\n"
    }
   ],
   "source": [
    "print_board(machine_board)\n",
    "print_hidden_board(machine_board)"
   ]
  },
  {
   "cell_type": "code",
   "execution_count": 26,
   "metadata": {
    "tags": []
   },
   "outputs": [],
   "source": [
    "#Turno del jugador\n",
    "def player_turn(player_shots, player_fails, machine_board):\n",
    "    while (True):\n",
    "        time.sleep(1)\n",
    "        sp = throw_player(player_shots= player_shots)\n",
    "        responese_shot_player = response_shot(sp, machine_board, player_shots, list_fails= player_fails)\n",
    "        #print(responese_shot_player[0])\n",
    "\n",
    "        time.sleep(1.5)\n",
    "        print(\"\\n\\n\"+ TEXTS['tm'])\n",
    "        print_hidden_board(machine_board)\n",
    "\n",
    "        if (responese_shot_player[0] == False and lives <= 0):\n",
    "            print(TEXTS[\"\\n\"+\"go\"])\n",
    "            break\n",
    "        elif (responese_shot_player[0] == False):\n",
    "            print(\"\\n\"+ responese_shot_player[1])\n",
    "            break\n",
    "        elif (responese_shot_player[0] == True):\n",
    "            print(\"\\n\"+ responese_shot_player[1])\n"
   ]
  },
  {
   "source": [
    "player_turn(player_shots, player_fails, machine_board)\n",
    "print(\"\\Disparos_jugador\",player_shots)\n",
    "print(\"\\Disparis_jugador_fallados\",player_fails)"
   ],
   "cell_type": "code",
   "metadata": {
    "tags": []
   },
   "execution_count": 30,
   "outputs": [
    {
     "output_type": "stream",
     "name": "stdout",
     "text": "\n\n.  EL TABLERO MÁQUINA\n.  A B C D E F G H I J.\n 1| | | | | | | | | | |\n 2| | | | | | | | | | |\n 3| | | | | | | | | | |\n 4| | |-| | | | | | | |\n 5| | | | | | | | | | |\n 6| | | | | | | | | | |\n 7| |-| | | | | | | | |\n 8| | | | | | | | | | |\n 9| | | | | | | | | | |\n10| | | | | | | | | | |\n\nAgua, se ha fallado.\n\\Disparos_jugador [(7, 2), (4, 3)]\n\\Disparis_jugador_fallados [(7, 2), (4, 3)]\n"
    }
   ]
  },
  {
   "cell_type": "code",
   "execution_count": 31,
   "metadata": {
    "tags": []
   },
   "outputs": [
    {
     "output_type": "stream",
     "name": "stdout",
     "text": "Random_shot: 10 , 10\nDisparo_válido:  10 , 10\nTrue\n\n\n.  TU TABLERO\n.  A B C D E F G H I J.\n 1|O| | | | | | | | | |\n 2| | | |O| | | | | | |\n 3| | | |O| | | |O| | |\n 4| | | |O| |O| |O| |O|\n 5|O| | | | |O| | | | |\n 6| | | | | | | | | | |\n 7|O| | | | | | | | | |\n 8|O| | | | | | |O| | |\n 9|O| | | | | | | | | |\n10|-| |O|O| | |O|O|O|X|\n\nTocado, se dispara de nuevo.\nNone\nRandom_shot: 1 , 2\nDisparo_válido:  1 , 2\nFalse\n\n\n.  TU TABLERO\n.  A B C D E F G H I J.\n 1|O|-| | | | | | | | |\n 2| | | |O| | | | | | |\n 3| | | |O| | | |O| | |\n 4| | | |O| |O| |O| |O|\n 5|O| | | | |O| | | | |\n 6| | | | | | | | | | |\n 7|O| | | | | | | | | |\n 8|O| | | | | | |O| | |\n 9|O| | | | | | | | | |\n10|-| |O|O| | |O|O|O|X|\n\nAgua, se ha fallado.\n\nDisparos_maquina [(10, 1), (10, 10), (1, 2)]\n\nDisparis_maquina_fallados [(10, 1), (1, 2)]\n"
    }
   ],
   "source": [
    "machine_turn(machine_shots= machine_shots,machine_fails =machine_fails, player_board= player_board)\n",
    "print(\"\\nDisparos_maquina\",machine_shots)\n",
    "print(\"\\nDisparis_maquina_fallados\",machine_fails)"
   ]
  },
  {
   "cell_type": "code",
   "execution_count": 28,
   "metadata": {
    "tags": []
   },
   "outputs": [],
   "source": [
    "#Turno de máquina\n",
    "def machine_turn(machine_shots, machine_fails, player_board):\n",
    "    st = None\n",
    "    while (True):\n",
    "        if(st == None):\n",
    "            st = throw_machine_random(machine_shots= machine_shots)\n",
    "        else:\n",
    "            st = throw_machine_logic(st, machine_shots, player_board)\n",
    "            print(st)\n",
    "        \n",
    "        if (st != None):\n",
    "            responese_shot_machine = response_shot(st, player_board, machine_shots, list_fails= machine_fails)\n",
    "            print(responese_shot_machine[0])\n",
    "\n",
    "            time.sleep(1)\n",
    "\n",
    "            print(\"\\n\\n\"+ TEXTS['mt'])\n",
    "            print_board(player_board)\n",
    "\n",
    "            if (responese_shot_machine[0] == False and lives <= 0):\n",
    "                print(TEXTS[\"\\n\"+\"go\"])\n",
    "                break\n",
    "            elif (responese_shot_machine[0] == False):\n",
    "                print(\"\\n\"+ responese_shot_machine[1])\n",
    "                break\n",
    "            elif (responese_shot_machine[0] == True):\n",
    "                print(\"\\n\"+ responese_shot_machine[1])\n",
    "                time.sleep(3)\n",
    "            elif (responese_shot_machine[0] == False and responese_shot_machine[1]== \"\"):\n",
    "                st = throw_machine_random(machine_shots= machine_shots)\n",
    "      "
   ]
  },
  {
   "cell_type": "code",
   "execution_count": 359,
   "metadata": {
    "tags": []
   },
   "outputs": [
    {
     "output_type": "stream",
     "name": "stdout",
     "text": "Random_shot: 10 , 1\nDisparo_válido:  10 , 1\nFalse\n\n\n.  TU TABLERO\n.  A B C D E F G H I J.\n 1| |O|O|O| | |O| | |O|\n 2| | | | | | | | | | |\n 3| | | |-|O|O|O|O| | |\n 4| | | | | | | | | | |\n 5|O| | |O|O| | | | | |\n 6| | | | | | | | | | |\n 7| | | |O| | | | | | |\n 8| | | |O| | | | | | |\n 9|O|O| |O| |O| | | | |\n10|-| | | | | | |O|O| |\n\nAgua, se ha fallado.\n\nDisparos_maquina [(3, 4), (10, 1)]\n\nDisparis_maquina_fallados [(3, 4), (10, 1)]\n"
    }
   ],
   "source": [
    "machine_turn(machine_shots= machine_shots,machine_fails =machine_fails, player_board= player_board)\n",
    "print(\"\\nDisparos_maquina\",machine_shots)\n",
    "print(\"\\nDisparis_maquina_fallados\",machine_fails)"
   ]
  },
  {
   "cell_type": "code",
   "execution_count": null,
   "metadata": {},
   "outputs": [],
   "source": [
    "# A PARTIR DE AQUÍ YA NO HE SEGUIDO."
   ]
  },
  {
   "cell_type": "code",
   "execution_count": null,
   "metadata": {},
   "outputs": [],
   "source": []
  },
  {
   "source": [
    "#ESTO DE MOMENTO NO ESTÁ TERMINADO\n",
    "#TODO AGRUPAR MODULOS, CLASES, CONSTANTES Y FUNCIONES\n",
    "import constants_navy as C \n",
    "import variables_navy as var \n",
    "import fuctions_navy as fc \n",
    "\n",
    "\n",
    "class Table:\n",
    "    self.board = \"\"\n",
    "    self.player = \"\"\n",
    "\n",
    "\n",
    "    def __init__(self, player = jugador):\n",
    "        self.player = player\n",
    "        self.board = \n",
    "\n",
    "    def print_board(slef, board):\n",
    "    for i in range(self.board.shape[0]):\n",
    "        print(np.array(''.join(self.board[i,])))\n",
    "\n",
    "    #Verificar que la coordenada no tiene\n",
    "    def check_arround(self, tuple, board):\n",
    "    out = False\n",
    "    row = tuple[0]\n",
    "    col = tuple[1]\n",
    "    if(row-1 == 0):\n",
    "        if (col-1 == 0):\n",
    "            if (board[row][col+1] == void and board[row+1][col+1]== void and board[row+1][col] == void):\n",
    "                out = True\n",
    "        elif (col+1 == 11):\n",
    "            if (board[row][col-1] == void and board[row+1][col-1]== void and board[row+1][col] == void):\n",
    "                out = True\n",
    "        else:\n",
    "            if (board[row][col-1] == void and board[row+1][col-1] == void and board[row+1][col] == void and board[row+1][col+1] == void and board[row][col+1]== void):\n",
    "                out = True\n",
    "\n",
    "    elif(row+1 == 11):\n",
    "        if (col-1 == 0):\n",
    "            if (board[row-1][col] == void and board[row-1][col+1]== void and board[row][col+1] == void):\n",
    "                out = True\n",
    "        elif (col+1 == 11):\n",
    "            if (board[row][col-1] == void and board[row-1][col-1]== void and board[row-1][col] == void):\n",
    "                out = True\n",
    "        else:\n",
    "            if (board[row][col-1] == void and board[row-1][col-1] == void and board[row-1][col] == void and board[row-1][col+1] == void and board[row][col+1]== void):\n",
    "                out = True\n",
    "\n",
    "\n",
    "    elif (col-1 == 0):\n",
    "        if (board[row-1][col] == void and board[row-1][col+1] == void and board[row][col+1] == void and board[row+1][col+1] == void and board[row+1][col] == void):\n",
    "            out = True\n",
    "    elif (col+1 == 11):\n",
    "        if (board[row-1][col] == void and board[row-1][col-1] == void and board[row][col-1] == void and board[row+1][col-1] == void and board[row+1][col] == void):\n",
    "            out = True\n",
    "\n",
    "    else:\n",
    "       if (board[row-1][col] == void):\n",
    "           if (board[row-1][col+1] == void):\n",
    "               if (board[row][col+1] == void):\n",
    "                   if (board[row+1][col+1] == void):\n",
    "                       if (board[row+1][col] == void):\n",
    "                           if (board[row+1][col-1] == void):\n",
    "                               if(board[row][col-1] == void):\n",
    "                                   if(board[row-1][col-1] == void):\n",
    "                                       out = True                        \n",
    "\n",
    "    return out\n",
    "\n",
    " "
   ],
   "cell_type": "code",
   "metadata": {},
   "execution_count": null,
   "outputs": []
  },
  {
   "cell_type": "code",
   "execution_count": null,
   "metadata": {},
   "outputs": [],
   "source": []
  }
 ]
}