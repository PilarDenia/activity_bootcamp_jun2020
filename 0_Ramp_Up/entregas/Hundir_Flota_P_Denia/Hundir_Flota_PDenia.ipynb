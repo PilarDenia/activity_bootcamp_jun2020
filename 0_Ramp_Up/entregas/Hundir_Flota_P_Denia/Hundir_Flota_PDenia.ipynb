{
 "metadata": {
  "language_info": {
   "codemirror_mode": {
    "name": "ipython",
    "version": 3
   },
   "file_extension": ".py",
   "mimetype": "text/x-python",
   "name": "python",
   "nbconvert_exporter": "python",
   "pygments_lexer": "ipython3",
   "version": 3
  },
  "orig_nbformat": 2,
  "kernelspec": {
   "name": "python_defaultSpec_1597772068908",
   "display_name": "Python 3.7.4 64-bit ('base': conda)"
  }
 },
 "nbformat": 4,
 "nbformat_minor": 2,
 "cells": [
  {
   "cell_type": "code",
   "execution_count": 3,
   "metadata": {},
   "outputs": [],
   "source": [
    "import numpy as np \n",
    "import pandas as pd"
   ]
  },
  {
   "cell_type": "code",
   "execution_count": null,
   "metadata": {},
   "outputs": [],
   "source": [
    "class Board:\n",
    "    "
   ]
  },
  {
   "cell_type": "code",
   "execution_count": 137,
   "metadata": {},
   "outputs": [],
   "source": [
    "#Constantes\n",
    "vertical = \"|\"\n",
    "void = \"| \"\n",
    "water = \"|-\"\n",
    "spoilt = \"|x\"\n",
    "ship = \"|o\"\n",
    "\n",
    "y_axis = [\"1\",\"2\",\"3\",\"4\",\"5\",\"6\",\"7\",\"8\",\"9\",\"10\",\" \"]\n",
    "x_axis = [\".A\",\" B\",\" C\",\" D\",\" E\",\" F\",\" G\",\" H\",\" I\",\" J\",\" \"]\n",
    "\n",
    "boxes = [void,void,void,void,void,void,void,void,void,void,vertical]\n"
   ]
  },
  {
   "cell_type": "code",
   "execution_count": 136,
   "metadata": {
    "tags": []
   },
   "outputs": [
    {
     "output_type": "stream",
     "name": "stdout",
     "text": "11\n10\n11\n"
    }
   ],
   "source": [
    "print(len(x_axis))\n",
    "print(len(y_axis))\n",
    "print(len(boxes))"
   ]
  },
  {
   "cell_type": "code",
   "execution_count": 110,
   "metadata": {
    "tags": []
   },
   "outputs": [
    {
     "output_type": "error",
     "ename": "SyntaxError",
     "evalue": "invalid syntax (<ipython-input-110-05fd5b558d73>, line 2)",
     "traceback": [
      "\u001b[1;36m  File \u001b[1;32m\"<ipython-input-110-05fd5b558d73>\"\u001b[1;36m, line \u001b[1;32m2\u001b[0m\n\u001b[1;33m    boxes_letter = boxes.append(i):\u001b[0m\n\u001b[1;37m                                  ^\u001b[0m\n\u001b[1;31mSyntaxError\u001b[0m\u001b[1;31m:\u001b[0m invalid syntax\n"
     ]
    }
   ],
   "source": []
  },
  {
   "cell_type": "code",
   "execution_count": 138,
   "metadata": {
    "tags": []
   },
   "outputs": [
    {
     "output_type": "stream",
     "name": "stdout",
     "text": "[['.A' ' B' ' C' ' D' ' E' ' F' ' G' ' H' ' I' ' J' ' ']\n ['| ' '| ' '| ' '| ' '| ' '| ' '| ' '| ' '| ' '| ' '|']\n ['| ' '| ' '| ' '| ' '| ' '| ' '| ' '| ' '| ' '| ' '|']\n ['| ' '| ' '| ' '| ' '| ' '| ' '| ' '| ' '| ' '| ' '|']\n ['| ' '| ' '| ' '| ' '| ' '| ' '| ' '| ' '| ' '| ' '|']\n ['| ' '| ' '| ' '| ' '| ' '| ' '| ' '| ' '| ' '| ' '|']\n ['| ' '| ' '| ' '| ' '| ' '| ' '| ' '| ' '| ' '| ' '|']\n ['| ' '| ' '| ' '| ' '| ' '| ' '| ' '| ' '| ' '| ' '|']\n ['| ' '| ' '| ' '| ' '| ' '| ' '| ' '| ' '| ' '| ' '|']\n ['| ' '| ' '| ' '| ' '| ' '| ' '| ' '| ' '| ' '| ' '|']\n ['| ' '| ' '| ' '| ' '| ' '| ' '| ' '| ' '| ' '| ' '|']]\n"
    }
   ],
   "source": [
    "board = np.array([x_axis,boxes,boxes,boxes,boxes,boxes,boxes,boxes,boxes,boxes,boxes])\n",
    "for i in board.shape[]\n",
    "print(board)"
   ]
  },
  {
   "cell_type": "code",
   "execution_count": null,
   "metadata": {},
   "outputs": [],
   "source": []
  },
  {
   "cell_type": "code",
   "execution_count": 139,
   "metadata": {
    "tags": []
   },
   "outputs": [
    {
     "output_type": "stream",
     "name": "stdout",
     "text": ".A B C D E F G H I J \n| | | | | | | | | | |\n| | | | | | | | | | |\n| | | | | | | | | | |\n| | | | | | | | | | |\n| | | | | | | | | | |\n| | | | | | | | | | |\n| | | | | | | | | | |\n| | | | | | | | | | |\n| | | | | | | | | | |\n| | | | | | | | | | |\n"
    }
   ],
   "source": [
    "print_board()"
   ]
  },
  {
   "cell_type": "code",
   "execution_count": 106,
   "metadata": {},
   "outputs": [
    {
     "output_type": "execute_result",
     "data": {
      "text/plain": "(10, 11)"
     },
     "metadata": {},
     "execution_count": 106
    }
   ],
   "source": [
    "board.shape"
   ]
  },
  {
   "cell_type": "code",
   "execution_count": 91,
   "metadata": {},
   "outputs": [],
   "source": [
    "def print_board():\n",
    "    for i in range(board.shape[0]):\n",
    "        print(np.array(''.join(board[i,])))    "
   ]
  },
  {
   "cell_type": "code",
   "execution_count": 101,
   "metadata": {
    "tags": []
   },
   "outputs": [
    {
     "output_type": "stream",
     "name": "stdout",
     "text": "['| ' '| ' '| ' '| ' '| ' '| ' '| ' '| ' '| ' '| ' '|']\n['| ' '| ' '| ' '| ' '| ' '| ' '| ' '| ' '| ' '| ' '|']\n['| ' '| ' '| ' '| ' '| ' '| ' '| ' '| ' '| ' '| ' '|']\n['| ' '| ' '| ' '| ' '| ' '| ' '| ' '| ' '| ' '| ' '|']\n['| ' '| ' '| ' '| ' '| ' '| ' '| ' '| ' '| ' '| ' '|']\n['| ' '| ' '| ' '| ' '| ' '| ' '| ' '| ' '| ' '| ' '|']\n['| ' '| ' '| ' '| ' '| ' '| ' '| ' '| ' '| ' '| ' '|']\n['| ' '| ' '| ' '| ' '| ' '| ' '| ' '| ' '| ' '| ' '|']\n['| ' '| ' '| ' '| ' '| ' '| ' '| ' '| ' '| ' '| ' '|']\n['| ' '| ' '| ' '| ' '| ' '| ' '| ' '| ' '| ' '| ' '|']\n"
    }
   ],
   "source": [
    "y_axis = [1,2,3,4,5,6,7,8,9,10]\n",
    "x_axis = [\"A\",\"B\",\"C\",\"D\",\"E\",\"F\",\"G\",\"H\",\"I\",\"J\",\"\"]\n",
    "for i in range(board.shape[0]):\n",
    "    board[i].append(y_axis[i])\n",
    "\n",
    "\n"
   ]
  },
  {
   "cell_type": "code",
   "execution_count": 77,
   "metadata": {
    "tags": []
   },
   "outputs": [
    {
     "output_type": "stream",
     "name": "stdout",
     "text": "|-|o| | | | | | | | |\n| | | | | | | | | | |\n| | | | | | | | | | |\n| | | | | | | | | | |\n| | | | | | | | | | |\n| | | | | | | | | | |\n| | | | | | | | | | |\n| | | | | | | | | | |\n| | | | | | | | | | |\n| | | | | | | | | | |\n"
    }
   ],
   "source": [
    "board[0,0]= water\n",
    "board[0,1] = ship\n",
    "board\n",
    "\n",
    "\n",
    "for i in range(board.shape[0]):\n",
    "    print(np.array(''.join(board[i,])))\n"
   ]
  },
  {
   "cell_type": "code",
   "execution_count": null,
   "metadata": {},
   "outputs": [],
   "source": [
    "#Constantes\n",
    "\n",
    "\n",
    "4 barcos de 1 posición de eslora\n",
    "3 barcos de 2 posiciones de eslora\n",
    "2 barcos de 3 posiciones de eslora\n",
    "1 barco de 4 posiciones de eslora\n"
   ]
  }
 ]
}