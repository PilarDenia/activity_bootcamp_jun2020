{
 "cells": [
  {
   "cell_type": "markdown",
   "metadata": {
    "colab_type": "text",
    "id": "_iUmrbFNopPz"
   },
   "source": [
    "# Import necessary dependencies and settings"
   ]
  },
  {
   "cell_type": "code",
   "execution_count": 1,
   "metadata": {
    "colab": {},
    "colab_type": "code",
    "id": "2Qf2H2QxopP0"
   },
   "outputs": [],
   "source": [
    "# importa pandas y numpy\n",
    "import pandas as pd \n",
    "import numpy as np "
   ]
  },
  {
   "source": [
    "## Dummy Coding Scheme\n"
   ],
   "cell_type": "markdown",
   "metadata": {
    "colab_type": "text",
    "id": "2i-I6wueopQq"
   }
  },
  {
   "cell_type": "code",
   "execution_count": 16,
   "metadata": {},
   "outputs": [],
   "source": [
    "modelo = [\"BMW Serie 4 Gran Coupe\",\"Chevrolet Malibu\",\"Citroën C5\",\"Citroën DS5\",\"Peugeot 807\",\"Renault Espace\",\"Renault Gran Espace\",\"Seat Alhambra\", \"Subaru Forester\",\"Nissan Qashqai\",\"Lexus RX 400h\",\"Volkswagen Tiguan\",\"Audi SQ5\"]\n",
    "largo_m = [4.638 ,4.865,4.779,\t4.530, 4.727 ,4.656,4.856,4.858,4.625,4.394,4.755,4.509,4.671]\n",
    "ancho_m = [1.825,1.855,1.860,1.871,1.850,1.894,1.894,1.904,1.815,1.806,1.845,1.839,1.893]\n",
    "alto_m = [1.389,1.465,1.458,1.513,1.854,1.801,1.819,1.720,1.730,1.590,1.670, 1.675,1.635]\n",
    "\n",
    "tipo1 = [\"berlina\", \"berlina\",\"berlina\",\"berlina\", \"monovolumen\",\"monovolumen\",\"monovolumen\",\"monovolumen\",\"SUV\",\"SUV\",\"SUV\", \"SUV\", \"SUV\"]\n",
    "tipo2 = [\"cupé\", \"cupé\",\"cupé\",\"cupé\", \"familiar\",\"familiar\",\"familiar\",\"familiar\",\"Sport_utility\",\"Sport_utility\",\"Sport_utility\", \"Sport_utility\", \"Sport_utility\"]"
   ]
  },
  {
   "cell_type": "code",
   "execution_count": 17,
   "metadata": {},
   "outputs": [
    {
     "output_type": "execute_result",
     "data": {
      "text/plain": "                    modelo  largo_m  ancho_m  alto_m        tipo1  \\\n0   BMW Serie 4 Gran Coupe    4.638    1.825   1.389      berlina   \n1         Chevrolet Malibu    4.865    1.855   1.465      berlina   \n2               Citroën C5    4.779    1.860   1.458      berlina   \n3              Citroën DS5    4.530    1.871   1.513      berlina   \n4              Peugeot 807    4.727    1.850   1.854  monovolumen   \n5           Renault Espace    4.656    1.894   1.801  monovolumen   \n6      Renault Gran Espace    4.856    1.894   1.819  monovolumen   \n7            Seat Alhambra    4.858    1.904   1.720  monovolumen   \n8          Subaru Forester    4.625    1.815   1.730          SUV   \n9           Nissan Qashqai    4.394    1.806   1.590          SUV   \n10           Lexus RX 400h    4.755    1.845   1.670          SUV   \n11       Volkswagen Tiguan    4.509    1.839   1.675          SUV   \n12                Audi SQ5    4.671    1.893   1.635          SUV   \n\n            tipo2  \n0            cupé  \n1            cupé  \n2            cupé  \n3            cupé  \n4        familiar  \n5        familiar  \n6        familiar  \n7        familiar  \n8   Sport_utility  \n9   Sport_utility  \n10  Sport_utility  \n11  Sport_utility  \n12  Sport_utility  ",
      "text/html": "<div>\n<style scoped>\n    .dataframe tbody tr th:only-of-type {\n        vertical-align: middle;\n    }\n\n    .dataframe tbody tr th {\n        vertical-align: top;\n    }\n\n    .dataframe thead th {\n        text-align: right;\n    }\n</style>\n<table border=\"1\" class=\"dataframe\">\n  <thead>\n    <tr style=\"text-align: right;\">\n      <th></th>\n      <th>modelo</th>\n      <th>largo_m</th>\n      <th>ancho_m</th>\n      <th>alto_m</th>\n      <th>tipo1</th>\n      <th>tipo2</th>\n    </tr>\n  </thead>\n  <tbody>\n    <tr>\n      <td>0</td>\n      <td>BMW Serie 4 Gran Coupe</td>\n      <td>4.638</td>\n      <td>1.825</td>\n      <td>1.389</td>\n      <td>berlina</td>\n      <td>cupé</td>\n    </tr>\n    <tr>\n      <td>1</td>\n      <td>Chevrolet Malibu</td>\n      <td>4.865</td>\n      <td>1.855</td>\n      <td>1.465</td>\n      <td>berlina</td>\n      <td>cupé</td>\n    </tr>\n    <tr>\n      <td>2</td>\n      <td>Citroën C5</td>\n      <td>4.779</td>\n      <td>1.860</td>\n      <td>1.458</td>\n      <td>berlina</td>\n      <td>cupé</td>\n    </tr>\n    <tr>\n      <td>3</td>\n      <td>Citroën DS5</td>\n      <td>4.530</td>\n      <td>1.871</td>\n      <td>1.513</td>\n      <td>berlina</td>\n      <td>cupé</td>\n    </tr>\n    <tr>\n      <td>4</td>\n      <td>Peugeot 807</td>\n      <td>4.727</td>\n      <td>1.850</td>\n      <td>1.854</td>\n      <td>monovolumen</td>\n      <td>familiar</td>\n    </tr>\n    <tr>\n      <td>5</td>\n      <td>Renault Espace</td>\n      <td>4.656</td>\n      <td>1.894</td>\n      <td>1.801</td>\n      <td>monovolumen</td>\n      <td>familiar</td>\n    </tr>\n    <tr>\n      <td>6</td>\n      <td>Renault Gran Espace</td>\n      <td>4.856</td>\n      <td>1.894</td>\n      <td>1.819</td>\n      <td>monovolumen</td>\n      <td>familiar</td>\n    </tr>\n    <tr>\n      <td>7</td>\n      <td>Seat Alhambra</td>\n      <td>4.858</td>\n      <td>1.904</td>\n      <td>1.720</td>\n      <td>monovolumen</td>\n      <td>familiar</td>\n    </tr>\n    <tr>\n      <td>8</td>\n      <td>Subaru Forester</td>\n      <td>4.625</td>\n      <td>1.815</td>\n      <td>1.730</td>\n      <td>SUV</td>\n      <td>Sport_utility</td>\n    </tr>\n    <tr>\n      <td>9</td>\n      <td>Nissan Qashqai</td>\n      <td>4.394</td>\n      <td>1.806</td>\n      <td>1.590</td>\n      <td>SUV</td>\n      <td>Sport_utility</td>\n    </tr>\n    <tr>\n      <td>10</td>\n      <td>Lexus RX 400h</td>\n      <td>4.755</td>\n      <td>1.845</td>\n      <td>1.670</td>\n      <td>SUV</td>\n      <td>Sport_utility</td>\n    </tr>\n    <tr>\n      <td>11</td>\n      <td>Volkswagen Tiguan</td>\n      <td>4.509</td>\n      <td>1.839</td>\n      <td>1.675</td>\n      <td>SUV</td>\n      <td>Sport_utility</td>\n    </tr>\n    <tr>\n      <td>12</td>\n      <td>Audi SQ5</td>\n      <td>4.671</td>\n      <td>1.893</td>\n      <td>1.635</td>\n      <td>SUV</td>\n      <td>Sport_utility</td>\n    </tr>\n  </tbody>\n</table>\n</div>"
     },
     "metadata": {},
     "execution_count": 17
    }
   ],
   "source": [
    "cars = pd.DataFrame({\"modelo\":modelo,\"largo_m\":largo_m,\"ancho_m\":ancho_m,\"alto_m\":alto_m,\"tipo1\":tipo1, \"tipo2\":tipo2})\n",
    "cars"
   ]
  },
  {
   "source": [
    "# haz un get_dummies para una codificación dummy\n",
    "cars_dummy = pd.get_dummies(cars, columns =['tipo1','tipo2'], prefix=['Tipo1', 'Tipo2'], drop_first= True)\n",
    "cars_dummy #Selecciona el borrado de columna 1a por orden alfabético"
   ],
   "cell_type": "code",
   "metadata": {
    "colab": {},
    "colab_type": "code",
    "collapsed": false,
    "id": "hF4q7G8CopQq",
    "jupyter": {
     "outputs_hidden": false
    },
    "outputId": "a6cebf80-fc40-4f3a-e938-21437e1810a6"
   },
   "execution_count": 40,
   "outputs": [
    {
     "output_type": "execute_result",
     "data": {
      "text/plain": "                    modelo  largo_m  ancho_m  alto_m  Tipo1_berlina  \\\n0   BMW Serie 4 Gran Coupe    4.638    1.825   1.389              1   \n1         Chevrolet Malibu    4.865    1.855   1.465              1   \n2               Citroën C5    4.779    1.860   1.458              1   \n3              Citroën DS5    4.530    1.871   1.513              1   \n4              Peugeot 807    4.727    1.850   1.854              0   \n5           Renault Espace    4.656    1.894   1.801              0   \n6      Renault Gran Espace    4.856    1.894   1.819              0   \n7            Seat Alhambra    4.858    1.904   1.720              0   \n8          Subaru Forester    4.625    1.815   1.730              0   \n9           Nissan Qashqai    4.394    1.806   1.590              0   \n10           Lexus RX 400h    4.755    1.845   1.670              0   \n11       Volkswagen Tiguan    4.509    1.839   1.675              0   \n12                Audi SQ5    4.671    1.893   1.635              0   \n\n    Tipo1_monovolumen  Tipo2_cupé  Tipo2_familiar  \n0                   0           1               0  \n1                   0           1               0  \n2                   0           1               0  \n3                   0           1               0  \n4                   1           0               1  \n5                   1           0               1  \n6                   1           0               1  \n7                   1           0               1  \n8                   0           0               0  \n9                   0           0               0  \n10                  0           0               0  \n11                  0           0               0  \n12                  0           0               0  ",
      "text/html": "<div>\n<style scoped>\n    .dataframe tbody tr th:only-of-type {\n        vertical-align: middle;\n    }\n\n    .dataframe tbody tr th {\n        vertical-align: top;\n    }\n\n    .dataframe thead th {\n        text-align: right;\n    }\n</style>\n<table border=\"1\" class=\"dataframe\">\n  <thead>\n    <tr style=\"text-align: right;\">\n      <th></th>\n      <th>modelo</th>\n      <th>largo_m</th>\n      <th>ancho_m</th>\n      <th>alto_m</th>\n      <th>Tipo1_berlina</th>\n      <th>Tipo1_monovolumen</th>\n      <th>Tipo2_cupé</th>\n      <th>Tipo2_familiar</th>\n    </tr>\n  </thead>\n  <tbody>\n    <tr>\n      <td>0</td>\n      <td>BMW Serie 4 Gran Coupe</td>\n      <td>4.638</td>\n      <td>1.825</td>\n      <td>1.389</td>\n      <td>1</td>\n      <td>0</td>\n      <td>1</td>\n      <td>0</td>\n    </tr>\n    <tr>\n      <td>1</td>\n      <td>Chevrolet Malibu</td>\n      <td>4.865</td>\n      <td>1.855</td>\n      <td>1.465</td>\n      <td>1</td>\n      <td>0</td>\n      <td>1</td>\n      <td>0</td>\n    </tr>\n    <tr>\n      <td>2</td>\n      <td>Citroën C5</td>\n      <td>4.779</td>\n      <td>1.860</td>\n      <td>1.458</td>\n      <td>1</td>\n      <td>0</td>\n      <td>1</td>\n      <td>0</td>\n    </tr>\n    <tr>\n      <td>3</td>\n      <td>Citroën DS5</td>\n      <td>4.530</td>\n      <td>1.871</td>\n      <td>1.513</td>\n      <td>1</td>\n      <td>0</td>\n      <td>1</td>\n      <td>0</td>\n    </tr>\n    <tr>\n      <td>4</td>\n      <td>Peugeot 807</td>\n      <td>4.727</td>\n      <td>1.850</td>\n      <td>1.854</td>\n      <td>0</td>\n      <td>1</td>\n      <td>0</td>\n      <td>1</td>\n    </tr>\n    <tr>\n      <td>5</td>\n      <td>Renault Espace</td>\n      <td>4.656</td>\n      <td>1.894</td>\n      <td>1.801</td>\n      <td>0</td>\n      <td>1</td>\n      <td>0</td>\n      <td>1</td>\n    </tr>\n    <tr>\n      <td>6</td>\n      <td>Renault Gran Espace</td>\n      <td>4.856</td>\n      <td>1.894</td>\n      <td>1.819</td>\n      <td>0</td>\n      <td>1</td>\n      <td>0</td>\n      <td>1</td>\n    </tr>\n    <tr>\n      <td>7</td>\n      <td>Seat Alhambra</td>\n      <td>4.858</td>\n      <td>1.904</td>\n      <td>1.720</td>\n      <td>0</td>\n      <td>1</td>\n      <td>0</td>\n      <td>1</td>\n    </tr>\n    <tr>\n      <td>8</td>\n      <td>Subaru Forester</td>\n      <td>4.625</td>\n      <td>1.815</td>\n      <td>1.730</td>\n      <td>0</td>\n      <td>0</td>\n      <td>0</td>\n      <td>0</td>\n    </tr>\n    <tr>\n      <td>9</td>\n      <td>Nissan Qashqai</td>\n      <td>4.394</td>\n      <td>1.806</td>\n      <td>1.590</td>\n      <td>0</td>\n      <td>0</td>\n      <td>0</td>\n      <td>0</td>\n    </tr>\n    <tr>\n      <td>10</td>\n      <td>Lexus RX 400h</td>\n      <td>4.755</td>\n      <td>1.845</td>\n      <td>1.670</td>\n      <td>0</td>\n      <td>0</td>\n      <td>0</td>\n      <td>0</td>\n    </tr>\n    <tr>\n      <td>11</td>\n      <td>Volkswagen Tiguan</td>\n      <td>4.509</td>\n      <td>1.839</td>\n      <td>1.675</td>\n      <td>0</td>\n      <td>0</td>\n      <td>0</td>\n      <td>0</td>\n    </tr>\n    <tr>\n      <td>12</td>\n      <td>Audi SQ5</td>\n      <td>4.671</td>\n      <td>1.893</td>\n      <td>1.635</td>\n      <td>0</td>\n      <td>0</td>\n      <td>0</td>\n      <td>0</td>\n    </tr>\n  </tbody>\n</table>\n</div>"
     },
     "metadata": {},
     "execution_count": 40
    }
   ]
  },
  {
   "cell_type": "code",
   "execution_count": 20,
   "metadata": {},
   "outputs": [],
   "source": [
    "# haz un fit() de Type 1 y mira las clases que aparecen\n",
    "\n"
   ]
  },
  {
   "cell_type": "code",
   "execution_count": 21,
   "metadata": {},
   "outputs": [],
   "source": [
    "# haz un dummies sin eliminar ninguna columna que se obtenga solo de Type 1\n",
    "# haz un head()\n",
    "\n"
   ]
  },
  {
   "cell_type": "code",
   "execution_count": 22,
   "metadata": {},
   "outputs": [],
   "source": [
    "# comprueba en la codificación con la columna eliminada (dummy)\n",
    "# pista: isin te puede ayudar\n",
    "\n"
   ]
  },
  {
   "cell_type": "code",
   "execution_count": 23,
   "metadata": {},
   "outputs": [],
   "source": [
    "# comprueba qué hace el signo ~\n",
    "\n"
   ]
  },
  {
   "cell_type": "code",
   "execution_count": 24,
   "metadata": {},
   "outputs": [],
   "source": [
    "# haz una lectura en el DataFrame con la última sentencia que emplea ~\n",
    "\n"
   ]
  },
  {
   "cell_type": "code",
   "execution_count": 25,
   "metadata": {},
   "outputs": [],
   "source": [
    "# asígnalo a una variable y muestra un head\n",
    "\n",
    "\n"
   ]
  },
  {
   "cell_type": "markdown",
   "metadata": {
    "colab_type": "text",
    "id": "JzWaGlWfopQv"
   },
   "source": [
    "## Feature Hashing scheme\n",
    "\n",
    "Find the number of different 'Genre' in the dataset."
   ]
  },
  {
   "cell_type": "code",
   "execution_count": 26,
   "metadata": {},
   "outputs": [],
   "source": [
    "# Usa vgsales.csv, léelo y haz un head()\n",
    "\n",
    "\n"
   ]
  },
  {
   "cell_type": "code",
   "execution_count": 27,
   "metadata": {},
   "outputs": [],
   "source": [
    "# print('Total game genres: ' + str(len(df_videojuegos.Genre.unique())))\n",
    "# print(df_videojuegos.Genre.sort_values().unique())"
   ]
  },
  {
   "cell_type": "markdown",
   "metadata": {
    "colab_type": "text",
    "id": "NPz9-23EopQy"
   },
   "source": [
    "### We can see that there are a total of 12 genres of video games. If we used a one-hot encoding scheme on the Genre feature, we would end up having 12 binary features. Instead, we will now use a feature hashing scheme by leveraging scikit-learn’s FeatureHasher class, which uses a signed 32-bit version of the Murmurhash3 hash function. We will pre-define the final feature vector size to be 6 in this case."
   ]
  },
  {
   "cell_type": "code",
   "execution_count": null,
   "metadata": {
    "colab": {},
    "colab_type": "code",
    "collapsed": false,
    "id": "qgE00tY-opQz",
    "jupyter": {
     "outputs_hidden": false
    }
   },
   "outputs": [],
   "source": []
  },
  {
   "cell_type": "code",
   "execution_count": null,
   "metadata": {},
   "outputs": [],
   "source": []
  },
  {
   "cell_type": "code",
   "execution_count": null,
   "metadata": {},
   "outputs": [],
   "source": []
  },
  {
   "cell_type": "code",
   "execution_count": null,
   "metadata": {},
   "outputs": [],
   "source": []
  }
 ],
 "metadata": {
  "anaconda-cloud": {},
  "colab": {
   "name": "2_FeatureEngineering_CategoricalData_ejercicios.ipynb",
   "provenance": []
  },
  "kernelspec": {
   "display_name": "Python 3",
   "language": "python",
   "name": "python3"
  },
  "language_info": {
   "codemirror_mode": {
    "name": "ipython",
    "version": 3
   },
   "file_extension": ".py",
   "mimetype": "text/x-python",
   "name": "python",
   "nbconvert_exporter": "python",
   "pygments_lexer": "ipython3",
   "version": "3.7.4-final"
  }
 },
 "nbformat": 4,
 "nbformat_minor": 4
}