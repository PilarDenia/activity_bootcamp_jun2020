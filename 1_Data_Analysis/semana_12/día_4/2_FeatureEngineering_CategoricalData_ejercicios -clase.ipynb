{
 "cells": [
  {
   "cell_type": "markdown",
   "metadata": {
    "colab_type": "text",
    "id": "_iUmrbFNopPz"
   },
   "source": [
    "# Import necessary dependencies and settings"
   ]
  },
  {
   "cell_type": "code",
   "execution_count": 3,
   "metadata": {
    "colab": {},
    "colab_type": "code",
    "id": "2Qf2H2QxopP0"
   },
   "outputs": [],
   "source": [
    "# importa pandas y numpy\n",
    "import pandas as pd \n",
    "import numpy as np "
   ]
  },
  {
   "cell_type": "markdown",
   "metadata": {
    "colab_type": "text",
    "id": "5lrxGGVJopP4"
   },
   "source": [
    "# Transforming Nominal Features\n",
    "\n",
    "Nominal attributes consist of discrete categorical values with no notion or sense of order amongst them. The idea here is to transform these attributes into a more representative numerical format which can be easily understood by downstream code and pipelines. Let’s look at a new dataset pertaining to video game sales."
   ]
  },
  {
   "cell_type": "code",
   "execution_count": 16,
   "metadata": {
    "colab": {},
    "colab_type": "code",
    "collapsed": false,
    "id": "76tYH70CopP5",
    "jupyter": {
     "outputs_hidden": false
    },
    "outputId": "a546dcef-d358-4744-efa6-24509d49f335"
   },
   "outputs": [
    {
     "output_type": "execute_result",
     "data": {
      "text/plain": "                       Name Platform    Year         Genre Publisher\n0                Wii Sports      Wii  2006.0        Sports  Nintendo\n1         Super Mario Bros.      NES  1985.0      Platform  Nintendo\n2            Mario Kart Wii      Wii  2008.0        Racing  Nintendo\n3         Wii Sports Resort      Wii  2009.0        Sports  Nintendo\n4  Pokemon Red/Pokemon Blue       GB  1996.0  Role-Playing  Nintendo\n5                    Tetris       GB  1989.0        Puzzle  Nintendo",
      "text/html": "<div>\n<style scoped>\n    .dataframe tbody tr th:only-of-type {\n        vertical-align: middle;\n    }\n\n    .dataframe tbody tr th {\n        vertical-align: top;\n    }\n\n    .dataframe thead th {\n        text-align: right;\n    }\n</style>\n<table border=\"1\" class=\"dataframe\">\n  <thead>\n    <tr style=\"text-align: right;\">\n      <th></th>\n      <th>Name</th>\n      <th>Platform</th>\n      <th>Year</th>\n      <th>Genre</th>\n      <th>Publisher</th>\n    </tr>\n  </thead>\n  <tbody>\n    <tr>\n      <td>0</td>\n      <td>Wii Sports</td>\n      <td>Wii</td>\n      <td>2006.0</td>\n      <td>Sports</td>\n      <td>Nintendo</td>\n    </tr>\n    <tr>\n      <td>1</td>\n      <td>Super Mario Bros.</td>\n      <td>NES</td>\n      <td>1985.0</td>\n      <td>Platform</td>\n      <td>Nintendo</td>\n    </tr>\n    <tr>\n      <td>2</td>\n      <td>Mario Kart Wii</td>\n      <td>Wii</td>\n      <td>2008.0</td>\n      <td>Racing</td>\n      <td>Nintendo</td>\n    </tr>\n    <tr>\n      <td>3</td>\n      <td>Wii Sports Resort</td>\n      <td>Wii</td>\n      <td>2009.0</td>\n      <td>Sports</td>\n      <td>Nintendo</td>\n    </tr>\n    <tr>\n      <td>4</td>\n      <td>Pokemon Red/Pokemon Blue</td>\n      <td>GB</td>\n      <td>1996.0</td>\n      <td>Role-Playing</td>\n      <td>Nintendo</td>\n    </tr>\n    <tr>\n      <td>5</td>\n      <td>Tetris</td>\n      <td>GB</td>\n      <td>1989.0</td>\n      <td>Puzzle</td>\n      <td>Nintendo</td>\n    </tr>\n  </tbody>\n</table>\n</div>"
     },
     "metadata": {},
     "execution_count": 16
    }
   ],
   "source": [
    "# lee 'vgsales.csv'\n",
    "# muestra las primeras 6 filas de las columnas 'Name', 'Platform', 'Year', 'Genre', 'Publisher'\n",
    "df = pd.read_csv(\"..\\\\día_3\\\\ficheros_FE_categoricas\\\\vgsales.csv\", encoding='utf-8')\n",
    "df.loc[:,'Name':'Publisher'].head(6)"
   ]
  },
  {
   "cell_type": "code",
   "execution_count": 17,
   "metadata": {},
   "outputs": [],
   "source": [
    "df_sort = df.loc[:,'Name':'Publisher'].copy()"
   ]
  },
  {
   "cell_type": "markdown",
   "metadata": {
    "colab_type": "text",
    "id": "H_esGbH8opP9"
   },
   "source": [
    "### Get the list of unique video game genres "
   ]
  },
  {
   "cell_type": "code",
   "execution_count": 21,
   "metadata": {
    "colab": {},
    "colab_type": "code",
    "id": "-WyVbPi6opP-"
   },
   "outputs": [
    {
     "output_type": "execute_result",
     "data": {
      "text/plain": "array([&#39;Sports&#39;, &#39;Platform&#39;, &#39;Racing&#39;, &#39;Role-Playing&#39;, &#39;Puzzle&#39;, &#39;Misc&#39;,\n       &#39;Shooter&#39;, &#39;Simulation&#39;, &#39;Action&#39;, &#39;Fighting&#39;, &#39;Adventure&#39;,\n       &#39;Strategy&#39;], dtype=object)"
     },
     "metadata": {},
     "execution_count": 21
    }
   ],
   "source": [
    "generos = df['Genre'].unique()\n",
    "generos"
   ]
  },
  {
   "source": [
    "This tells us that we have 12 distinct video game genres. \n",
    "\n",
    "### We can now generate a label encoding scheme for mapping each category to a numeric value by leveraging scikit-learn LabelEncoder"
   ],
   "cell_type": "markdown",
   "metadata": {
    "colab_type": "text",
    "id": "KdJZtU6jopQB",
    "jupyter": {
     "outputs_hidden": false
    }
   }
  },
  {
   "cell_type": "code",
   "execution_count": 70,
   "metadata": {
    "colab": {},
    "colab_type": "code",
    "id": "pnTxPAbyopQB",
    "tags": []
   },
   "outputs": [
    {
     "output_type": "stream",
     "name": "stdout",
     "text": "[&#39;Action&#39; &#39;Adventure&#39; &#39;Fighting&#39; &#39;Misc&#39; &#39;Platform&#39; &#39;Puzzle&#39; &#39;Racing&#39;\n &#39;Role-Playing&#39; &#39;Shooter&#39; &#39;Simulation&#39; &#39;Sports&#39; &#39;Strategy&#39;]\n\n\n"
    },
    {
     "output_type": "execute_result",
     "data": {
      "text/plain": "array([10,  4,  6,  7,  5,  3,  8,  9,  0,  2,  1, 11])"
     },
     "metadata": {},
     "execution_count": 70
    }
   ],
   "source": [
    "# usando LabelEncoder muestra los géneros y las categorías asociadas a cada género\n",
    "from sklearn import preprocessing\n",
    "\n",
    "le = preprocessing.LabelEncoder().fit(generos)\n",
    "print(le.classes_)\n",
    "np_le = le.transform(generos) #Sólo estamos trabajando sobre#pero  los datos unicos y mapeando las clasificaciones unitarias. Pero se puede hacer sobre la Serie completa del DF\n",
    "print(\"\\n\")\n",
    "np_le"
   ]
  },
  {
   "cell_type": "code",
   "execution_count": 52,
   "metadata": {},
   "outputs": [
    {
     "output_type": "execute_result",
     "data": {
      "text/plain": "[&#39;Sports&#39;,\n &#39;Platform&#39;,\n &#39;Racing&#39;,\n &#39;Role-Playing&#39;,\n &#39;Puzzle&#39;,\n &#39;Misc&#39;,\n &#39;Shooter&#39;,\n &#39;Simulation&#39;,\n &#39;Action&#39;,\n &#39;Fighting&#39;,\n &#39;Adventure&#39;,\n &#39;Strategy&#39;]"
     },
     "metadata": {},
     "execution_count": 52
    }
   ],
   "source": [
    "#Ejemplo Inverso de transform\n",
    "list(le.inverse_transform(np_le))[-15:]"
   ]
  },
  {
   "cell_type": "code",
   "execution_count": 56,
   "metadata": {},
   "outputs": [],
   "source": [
    "#Se realiza sobre  sobre la Serie completa del DF\n",
    "np_le_full = preprocessing.LabelEncoder().fit_transform(df['Genre'])"
   ]
  },
  {
   "cell_type": "markdown",
   "metadata": {
    "colab_type": "text",
    "id": "fcEuzQq7opQE"
   },
   "source": [
    "### Show the transformed labels values and the dataframe"
   ]
  },
  {
   "cell_type": "code",
   "execution_count": 57,
   "metadata": {},
   "outputs": [
    {
     "output_type": "execute_result",
     "data": {
      "text/plain": "0          Sports\n1        Platform\n2          Racing\n3          Sports\n4    Role-Playing\n5          Puzzle\n6        Platform\n7            Misc\n8        Platform\n9         Shooter\nName: Genre, dtype: object"
     },
     "metadata": {},
     "execution_count": 57
    }
   ],
   "source": [
    "# primero muestra solo los géneros del DataFrame\n",
    "df['Genre'].head(10)"
   ]
  },
  {
   "cell_type": "code",
   "execution_count": 69,
   "metadata": {
    "colab": {},
    "colab_type": "code",
    "collapsed": false,
    "id": "x3Ra1IB_opQF",
    "jupyter": {
     "outputs_hidden": false
    }
   },
   "outputs": [
    {
     "output_type": "execute_result",
     "data": {
      "text/plain": "   Rank                      Name Platform    Year         Genre Publisher  \\\n0     1                Wii Sports      Wii  2006.0        Sports  Nintendo   \n1     2         Super Mario Bros.      NES  1985.0      Platform  Nintendo   \n2     3            Mario Kart Wii      Wii  2008.0        Racing  Nintendo   \n3     4         Wii Sports Resort      Wii  2009.0        Sports  Nintendo   \n4     5  Pokemon Red/Pokemon Blue       GB  1996.0  Role-Playing  Nintendo   \n\n   NA_Sales  EU_Sales  JP_Sales  Other_Sales  Global_Sales  Game_Category  \n0     41.49     29.02      3.77         8.46         82.74             10  \n1     29.08      3.58      6.81         0.77         40.24              4  \n2     15.85     12.88      3.79         3.31         35.82              6  \n3     15.75     11.01      3.28         2.96         33.00             10  \n4     11.27      8.89     10.22         1.00         31.37              7  ",
      "text/html": "<div>\n<style scoped>\n    .dataframe tbody tr th:only-of-type {\n        vertical-align: middle;\n    }\n\n    .dataframe tbody tr th {\n        vertical-align: top;\n    }\n\n    .dataframe thead th {\n        text-align: right;\n    }\n</style>\n<table border=\"1\" class=\"dataframe\">\n  <thead>\n    <tr style=\"text-align: right;\">\n      <th></th>\n      <th>Rank</th>\n      <th>Name</th>\n      <th>Platform</th>\n      <th>Year</th>\n      <th>Genre</th>\n      <th>Publisher</th>\n      <th>NA_Sales</th>\n      <th>EU_Sales</th>\n      <th>JP_Sales</th>\n      <th>Other_Sales</th>\n      <th>Global_Sales</th>\n      <th>Game_Category</th>\n    </tr>\n  </thead>\n  <tbody>\n    <tr>\n      <td>0</td>\n      <td>1</td>\n      <td>Wii Sports</td>\n      <td>Wii</td>\n      <td>2006.0</td>\n      <td>Sports</td>\n      <td>Nintendo</td>\n      <td>41.49</td>\n      <td>29.02</td>\n      <td>3.77</td>\n      <td>8.46</td>\n      <td>82.74</td>\n      <td>10</td>\n    </tr>\n    <tr>\n      <td>1</td>\n      <td>2</td>\n      <td>Super Mario Bros.</td>\n      <td>NES</td>\n      <td>1985.0</td>\n      <td>Platform</td>\n      <td>Nintendo</td>\n      <td>29.08</td>\n      <td>3.58</td>\n      <td>6.81</td>\n      <td>0.77</td>\n      <td>40.24</td>\n      <td>4</td>\n    </tr>\n    <tr>\n      <td>2</td>\n      <td>3</td>\n      <td>Mario Kart Wii</td>\n      <td>Wii</td>\n      <td>2008.0</td>\n      <td>Racing</td>\n      <td>Nintendo</td>\n      <td>15.85</td>\n      <td>12.88</td>\n      <td>3.79</td>\n      <td>3.31</td>\n      <td>35.82</td>\n      <td>6</td>\n    </tr>\n    <tr>\n      <td>3</td>\n      <td>4</td>\n      <td>Wii Sports Resort</td>\n      <td>Wii</td>\n      <td>2009.0</td>\n      <td>Sports</td>\n      <td>Nintendo</td>\n      <td>15.75</td>\n      <td>11.01</td>\n      <td>3.28</td>\n      <td>2.96</td>\n      <td>33.00</td>\n      <td>10</td>\n    </tr>\n    <tr>\n      <td>4</td>\n      <td>5</td>\n      <td>Pokemon Red/Pokemon Blue</td>\n      <td>GB</td>\n      <td>1996.0</td>\n      <td>Role-Playing</td>\n      <td>Nintendo</td>\n      <td>11.27</td>\n      <td>8.89</td>\n      <td>10.22</td>\n      <td>1.00</td>\n      <td>31.37</td>\n      <td>7</td>\n    </tr>\n  </tbody>\n</table>\n</div>"
     },
     "metadata": {},
     "execution_count": 69
    }
   ],
   "source": [
    "# muestra en el DataFrame los géneros y sus categorías asociadas \n",
    "df['Game_Category'] = preprocessing.LabelEncoder().fit_transform(df['Genre'])\n",
    "df.head()"
   ]
  },
  {
   "cell_type": "code",
   "execution_count": 61,
   "metadata": {},
   "outputs": [
    {
     "output_type": "execute_result",
     "data": {
      "text/plain": "           Genre  Game_Category\n20  Role-Playing              7\n21      Platform              4\n22      Platform              4\n23        Action              0\n24        Action              0\n25  Role-Playing              7\n26  Role-Playing              7\n27        Puzzle              5\n28        Racing              6\n29       Shooter              8",
      "text/html": "<div>\n<style scoped>\n    .dataframe tbody tr th:only-of-type {\n        vertical-align: middle;\n    }\n\n    .dataframe tbody tr th {\n        vertical-align: top;\n    }\n\n    .dataframe thead th {\n        text-align: right;\n    }\n</style>\n<table border=\"1\" class=\"dataframe\">\n  <thead>\n    <tr style=\"text-align: right;\">\n      <th></th>\n      <th>Genre</th>\n      <th>Game_Category</th>\n    </tr>\n  </thead>\n  <tbody>\n    <tr>\n      <td>20</td>\n      <td>Role-Playing</td>\n      <td>7</td>\n    </tr>\n    <tr>\n      <td>21</td>\n      <td>Platform</td>\n      <td>4</td>\n    </tr>\n    <tr>\n      <td>22</td>\n      <td>Platform</td>\n      <td>4</td>\n    </tr>\n    <tr>\n      <td>23</td>\n      <td>Action</td>\n      <td>0</td>\n    </tr>\n    <tr>\n      <td>24</td>\n      <td>Action</td>\n      <td>0</td>\n    </tr>\n    <tr>\n      <td>25</td>\n      <td>Role-Playing</td>\n      <td>7</td>\n    </tr>\n    <tr>\n      <td>26</td>\n      <td>Role-Playing</td>\n      <td>7</td>\n    </tr>\n    <tr>\n      <td>27</td>\n      <td>Puzzle</td>\n      <td>5</td>\n    </tr>\n    <tr>\n      <td>28</td>\n      <td>Racing</td>\n      <td>6</td>\n    </tr>\n    <tr>\n      <td>29</td>\n      <td>Shooter</td>\n      <td>8</td>\n    </tr>\n  </tbody>\n</table>\n</div>"
     },
     "metadata": {},
     "execution_count": 61
    }
   ],
   "source": [
    "df[['Genre','Game_Category']][20:30]"
   ]
  },
  {
   "cell_type": "code",
   "execution_count": 72,
   "metadata": {},
   "outputs": [
    {
     "output_type": "execute_result",
     "data": {
      "text/plain": "array([7, 4, 4, 0, 0, 7, 7, 5, 6, 8])"
     },
     "metadata": {},
     "execution_count": 72
    }
   ],
   "source": [
    "le.transform(df['Genre'])[20:30]"
   ]
  },
  {
   "cell_type": "markdown",
   "metadata": {
    "colab_type": "text",
    "id": "0-dyGZTqopQH"
   },
   "source": [
    "\n",
    "# Transforming Ordinal Features\n",
    "\n",
    "Ordinal attributes are categorical attributes with a sense of order amongst the values. Let’s consider the Pokémon dataset. Let’s focus more specifically on the Type 1 attribute. We will think that each Type 1 has a different power that we can order.\n"
   ]
  },
  {
   "cell_type": "code",
   "execution_count": 4,
   "metadata": {
    "colab": {},
    "colab_type": "code",
    "collapsed": false,
    "id": "5krwiGfMopQI",
    "jupyter": {
     "outputs_hidden": false
    },
    "outputId": "63558144-ef4e-4ffb-b5d4-96c037225f9c"
   },
   "outputs": [
    {
     "output_type": "execute_result",
     "data": {
      "text/plain": "         Name Type 1  Type 2  Total  HP  Attack  Defense  Sp. Atk  Sp. Def  \\\n#                                                                            \n1   Bulbasaur  Grass  Poison    318  45      49       49       65       65   \n2     Ivysaur  Grass  Poison    405  60      62       63       80       80   \n3    Venusaur  Grass  Poison    525  80      82       83      100      100   \n4  Charmander   Fire     NaN    309  39      52       43       60       50   \n5  Charmeleon   Fire     NaN    405  58      64       58       80       65   \n\n   Speed  Stage  Legendary  \n#                           \n1     45      1      False  \n2     60      2      False  \n3     80      3      False  \n4     65      1      False  \n5     80      2      False  ",
      "text/html": "<div>\n<style scoped>\n    .dataframe tbody tr th:only-of-type {\n        vertical-align: middle;\n    }\n\n    .dataframe tbody tr th {\n        vertical-align: top;\n    }\n\n    .dataframe thead th {\n        text-align: right;\n    }\n</style>\n<table border=\"1\" class=\"dataframe\">\n  <thead>\n    <tr style=\"text-align: right;\">\n      <th></th>\n      <th>Name</th>\n      <th>Type 1</th>\n      <th>Type 2</th>\n      <th>Total</th>\n      <th>HP</th>\n      <th>Attack</th>\n      <th>Defense</th>\n      <th>Sp. Atk</th>\n      <th>Sp. Def</th>\n      <th>Speed</th>\n      <th>Stage</th>\n      <th>Legendary</th>\n    </tr>\n    <tr>\n      <th>#</th>\n      <th></th>\n      <th></th>\n      <th></th>\n      <th></th>\n      <th></th>\n      <th></th>\n      <th></th>\n      <th></th>\n      <th></th>\n      <th></th>\n      <th></th>\n      <th></th>\n    </tr>\n  </thead>\n  <tbody>\n    <tr>\n      <td>1</td>\n      <td>Bulbasaur</td>\n      <td>Grass</td>\n      <td>Poison</td>\n      <td>318</td>\n      <td>45</td>\n      <td>49</td>\n      <td>49</td>\n      <td>65</td>\n      <td>65</td>\n      <td>45</td>\n      <td>1</td>\n      <td>False</td>\n    </tr>\n    <tr>\n      <td>2</td>\n      <td>Ivysaur</td>\n      <td>Grass</td>\n      <td>Poison</td>\n      <td>405</td>\n      <td>60</td>\n      <td>62</td>\n      <td>63</td>\n      <td>80</td>\n      <td>80</td>\n      <td>60</td>\n      <td>2</td>\n      <td>False</td>\n    </tr>\n    <tr>\n      <td>3</td>\n      <td>Venusaur</td>\n      <td>Grass</td>\n      <td>Poison</td>\n      <td>525</td>\n      <td>80</td>\n      <td>82</td>\n      <td>83</td>\n      <td>100</td>\n      <td>100</td>\n      <td>80</td>\n      <td>3</td>\n      <td>False</td>\n    </tr>\n    <tr>\n      <td>4</td>\n      <td>Charmander</td>\n      <td>Fire</td>\n      <td>NaN</td>\n      <td>309</td>\n      <td>39</td>\n      <td>52</td>\n      <td>43</td>\n      <td>60</td>\n      <td>50</td>\n      <td>65</td>\n      <td>1</td>\n      <td>False</td>\n    </tr>\n    <tr>\n      <td>5</td>\n      <td>Charmeleon</td>\n      <td>Fire</td>\n      <td>NaN</td>\n      <td>405</td>\n      <td>58</td>\n      <td>64</td>\n      <td>58</td>\n      <td>80</td>\n      <td>65</td>\n      <td>80</td>\n      <td>2</td>\n      <td>False</td>\n    </tr>\n  </tbody>\n</table>\n</div>"
     },
     "metadata": {},
     "execution_count": 4
    }
   ],
   "source": [
    "# lee Pokemon.csv y muestra un head()\n",
    "poke = pd.read_csv('..\\\\..\\\\semana_9\\\\día_2\\\\Pokemon.csv', encoding = 'latin_1', index_col=0)\n",
    "poke.head()"
   ]
  },
  {
   "cell_type": "code",
   "execution_count": 5,
   "metadata": {},
   "outputs": [
    {
     "output_type": "execute_result",
     "data": {
      "text/plain": "(151, 12)"
     },
     "metadata": {},
     "execution_count": 5
    }
   ],
   "source": [
    "poke.shape"
   ]
  },
  {
   "cell_type": "code",
   "execution_count": 6,
   "metadata": {},
   "outputs": [
    {
     "output_type": "execute_result",
     "data": {
      "text/plain": "          Name  Type 1  Type 2  Total  HP  Attack  Defense  Sp. Atk  Sp. Def  \\\n#                                                                              \n15    Beedrill     Bug  Poison    395  65      90       40       45       80   \n99     Kingler   Water     NaN    475  55     130      115       50       50   \n76       Golem    Rock  Ground    495  80     120      130       55       65   \n17   Pidgeotto  Normal  Flying    349  63      60       55       50       50   \n132      Ditto  Normal     NaN    288  48      48       48       48       48   \n\n     Speed  Stage  Legendary  \n#                             \n15      75      3      False  \n99      75      2      False  \n76      45      3      False  \n17      71      2      False  \n132     48      1      False  ",
      "text/html": "<div>\n<style scoped>\n    .dataframe tbody tr th:only-of-type {\n        vertical-align: middle;\n    }\n\n    .dataframe tbody tr th {\n        vertical-align: top;\n    }\n\n    .dataframe thead th {\n        text-align: right;\n    }\n</style>\n<table border=\"1\" class=\"dataframe\">\n  <thead>\n    <tr style=\"text-align: right;\">\n      <th></th>\n      <th>Name</th>\n      <th>Type 1</th>\n      <th>Type 2</th>\n      <th>Total</th>\n      <th>HP</th>\n      <th>Attack</th>\n      <th>Defense</th>\n      <th>Sp. Atk</th>\n      <th>Sp. Def</th>\n      <th>Speed</th>\n      <th>Stage</th>\n      <th>Legendary</th>\n    </tr>\n    <tr>\n      <th>#</th>\n      <th></th>\n      <th></th>\n      <th></th>\n      <th></th>\n      <th></th>\n      <th></th>\n      <th></th>\n      <th></th>\n      <th></th>\n      <th></th>\n      <th></th>\n      <th></th>\n    </tr>\n  </thead>\n  <tbody>\n    <tr>\n      <td>15</td>\n      <td>Beedrill</td>\n      <td>Bug</td>\n      <td>Poison</td>\n      <td>395</td>\n      <td>65</td>\n      <td>90</td>\n      <td>40</td>\n      <td>45</td>\n      <td>80</td>\n      <td>75</td>\n      <td>3</td>\n      <td>False</td>\n    </tr>\n    <tr>\n      <td>99</td>\n      <td>Kingler</td>\n      <td>Water</td>\n      <td>NaN</td>\n      <td>475</td>\n      <td>55</td>\n      <td>130</td>\n      <td>115</td>\n      <td>50</td>\n      <td>50</td>\n      <td>75</td>\n      <td>2</td>\n      <td>False</td>\n    </tr>\n    <tr>\n      <td>76</td>\n      <td>Golem</td>\n      <td>Rock</td>\n      <td>Ground</td>\n      <td>495</td>\n      <td>80</td>\n      <td>120</td>\n      <td>130</td>\n      <td>55</td>\n      <td>65</td>\n      <td>45</td>\n      <td>3</td>\n      <td>False</td>\n    </tr>\n    <tr>\n      <td>17</td>\n      <td>Pidgeotto</td>\n      <td>Normal</td>\n      <td>Flying</td>\n      <td>349</td>\n      <td>63</td>\n      <td>60</td>\n      <td>55</td>\n      <td>50</td>\n      <td>50</td>\n      <td>71</td>\n      <td>2</td>\n      <td>False</td>\n    </tr>\n    <tr>\n      <td>132</td>\n      <td>Ditto</td>\n      <td>Normal</td>\n      <td>NaN</td>\n      <td>288</td>\n      <td>48</td>\n      <td>48</td>\n      <td>48</td>\n      <td>48</td>\n      <td>48</td>\n      <td>48</td>\n      <td>1</td>\n      <td>False</td>\n    </tr>\n  </tbody>\n</table>\n</div>"
     },
     "metadata": {},
     "execution_count": 6
    }
   ],
   "source": [
    "# usa un sample() con semilla 1 y toma todo el DataFrame para desordenarlo aleatoriamente\n",
    "# resetea los índices y haz un head()\n",
    "\n",
    "poke = poke.sample(n=len(poke), random_state = 1)\n",
    "#Con fraccion 1 = 100% y 50% =0.5\n",
    "#poke.sample(frac=1, replace = True, random_state=1)\n",
    "\n",
    "poke.head()"
   ]
  },
  {
   "cell_type": "code",
   "execution_count": 7,
   "metadata": {},
   "outputs": [
    {
     "output_type": "execute_result",
     "data": {
      "text/plain": "           Name  Type 1  Type 2  Total   HP  Attack  Defense  Sp. Atk  \\\n0      Beedrill     Bug  Poison    395   65      90       40       45   \n1       Kingler   Water     NaN    475   55     130      115       50   \n2         Golem    Rock  Ground    495   80     120      130       55   \n3     Pidgeotto  Normal  Flying    349   63      60       55       50   \n4         Ditto  Normal     NaN    288   48      48       48       48   \n..          ...     ...     ...    ...  ...     ...      ...      ...   \n146    Vaporeon   Water     NaN    525  130      65       60      110   \n147     Omanyte    Rock   Water    355   35      40      100       90   \n148  Tentacruel   Water  Poison    515   80      70       65       80   \n149    Kabutops    Rock   Water    495   60     115      105       65   \n150   Ninetales    Fire     NaN    505   73      76       75       81   \n\n     Sp. Def  Speed  Stage  Legendary  \n0         80     75      3      False  \n1         50     75      2      False  \n2         65     45      3      False  \n3         50     71      2      False  \n4         48     48      1      False  \n..       ...    ...    ...        ...  \n146       95     65      2      False  \n147       55     35      1      False  \n148      120    100      2      False  \n149       70     80      2      False  \n150      100    100      2      False  \n\n[151 rows x 12 columns]",
      "text/html": "<div>\n<style scoped>\n    .dataframe tbody tr th:only-of-type {\n        vertical-align: middle;\n    }\n\n    .dataframe tbody tr th {\n        vertical-align: top;\n    }\n\n    .dataframe thead th {\n        text-align: right;\n    }\n</style>\n<table border=\"1\" class=\"dataframe\">\n  <thead>\n    <tr style=\"text-align: right;\">\n      <th></th>\n      <th>Name</th>\n      <th>Type 1</th>\n      <th>Type 2</th>\n      <th>Total</th>\n      <th>HP</th>\n      <th>Attack</th>\n      <th>Defense</th>\n      <th>Sp. Atk</th>\n      <th>Sp. Def</th>\n      <th>Speed</th>\n      <th>Stage</th>\n      <th>Legendary</th>\n    </tr>\n  </thead>\n  <tbody>\n    <tr>\n      <td>0</td>\n      <td>Beedrill</td>\n      <td>Bug</td>\n      <td>Poison</td>\n      <td>395</td>\n      <td>65</td>\n      <td>90</td>\n      <td>40</td>\n      <td>45</td>\n      <td>80</td>\n      <td>75</td>\n      <td>3</td>\n      <td>False</td>\n    </tr>\n    <tr>\n      <td>1</td>\n      <td>Kingler</td>\n      <td>Water</td>\n      <td>NaN</td>\n      <td>475</td>\n      <td>55</td>\n      <td>130</td>\n      <td>115</td>\n      <td>50</td>\n      <td>50</td>\n      <td>75</td>\n      <td>2</td>\n      <td>False</td>\n    </tr>\n    <tr>\n      <td>2</td>\n      <td>Golem</td>\n      <td>Rock</td>\n      <td>Ground</td>\n      <td>495</td>\n      <td>80</td>\n      <td>120</td>\n      <td>130</td>\n      <td>55</td>\n      <td>65</td>\n      <td>45</td>\n      <td>3</td>\n      <td>False</td>\n    </tr>\n    <tr>\n      <td>3</td>\n      <td>Pidgeotto</td>\n      <td>Normal</td>\n      <td>Flying</td>\n      <td>349</td>\n      <td>63</td>\n      <td>60</td>\n      <td>55</td>\n      <td>50</td>\n      <td>50</td>\n      <td>71</td>\n      <td>2</td>\n      <td>False</td>\n    </tr>\n    <tr>\n      <td>4</td>\n      <td>Ditto</td>\n      <td>Normal</td>\n      <td>NaN</td>\n      <td>288</td>\n      <td>48</td>\n      <td>48</td>\n      <td>48</td>\n      <td>48</td>\n      <td>48</td>\n      <td>48</td>\n      <td>1</td>\n      <td>False</td>\n    </tr>\n    <tr>\n      <td>...</td>\n      <td>...</td>\n      <td>...</td>\n      <td>...</td>\n      <td>...</td>\n      <td>...</td>\n      <td>...</td>\n      <td>...</td>\n      <td>...</td>\n      <td>...</td>\n      <td>...</td>\n      <td>...</td>\n      <td>...</td>\n    </tr>\n    <tr>\n      <td>146</td>\n      <td>Vaporeon</td>\n      <td>Water</td>\n      <td>NaN</td>\n      <td>525</td>\n      <td>130</td>\n      <td>65</td>\n      <td>60</td>\n      <td>110</td>\n      <td>95</td>\n      <td>65</td>\n      <td>2</td>\n      <td>False</td>\n    </tr>\n    <tr>\n      <td>147</td>\n      <td>Omanyte</td>\n      <td>Rock</td>\n      <td>Water</td>\n      <td>355</td>\n      <td>35</td>\n      <td>40</td>\n      <td>100</td>\n      <td>90</td>\n      <td>55</td>\n      <td>35</td>\n      <td>1</td>\n      <td>False</td>\n    </tr>\n    <tr>\n      <td>148</td>\n      <td>Tentacruel</td>\n      <td>Water</td>\n      <td>Poison</td>\n      <td>515</td>\n      <td>80</td>\n      <td>70</td>\n      <td>65</td>\n      <td>80</td>\n      <td>120</td>\n      <td>100</td>\n      <td>2</td>\n      <td>False</td>\n    </tr>\n    <tr>\n      <td>149</td>\n      <td>Kabutops</td>\n      <td>Rock</td>\n      <td>Water</td>\n      <td>495</td>\n      <td>60</td>\n      <td>115</td>\n      <td>105</td>\n      <td>65</td>\n      <td>70</td>\n      <td>80</td>\n      <td>2</td>\n      <td>False</td>\n    </tr>\n    <tr>\n      <td>150</td>\n      <td>Ninetales</td>\n      <td>Fire</td>\n      <td>NaN</td>\n      <td>505</td>\n      <td>73</td>\n      <td>76</td>\n      <td>75</td>\n      <td>81</td>\n      <td>100</td>\n      <td>100</td>\n      <td>2</td>\n      <td>False</td>\n    </tr>\n  </tbody>\n</table>\n<p>151 rows × 12 columns</p>\n</div>"
     },
     "metadata": {},
     "execution_count": 7
    }
   ],
   "source": [
    "poke_df = poke.reset_index(drop=True)\n",
    "poke_df"
   ]
  },
  {
   "cell_type": "code",
   "execution_count": 8,
   "metadata": {},
   "outputs": [],
   "source": [
    "# muestra las columnas del DataFrame"
   ]
  },
  {
   "cell_type": "code",
   "execution_count": 9,
   "metadata": {},
   "outputs": [
    {
     "output_type": "execute_result",
     "data": {
      "text/plain": "Index([&#39;Name&#39;, &#39;Type 1&#39;, &#39;Type 2&#39;, &#39;Total&#39;, &#39;HP&#39;, &#39;Attack&#39;, &#39;Defense&#39;,\n       &#39;Sp. Atk&#39;, &#39;Sp. Def&#39;, &#39;Speed&#39;, &#39;Stage&#39;, &#39;Legendary&#39;],\n      dtype=&#39;object&#39;)"
     },
     "metadata": {},
     "execution_count": 9
    }
   ],
   "source": [
    "poke.columns"
   ]
  },
  {
   "cell_type": "markdown",
   "metadata": {
    "colab_type": "text",
    "id": "gd-SelVvopQL"
   },
   "source": [
    "### Show the different type 1 present in the dataset"
   ]
  },
  {
   "cell_type": "markdown",
   "metadata": {
    "colab_type": "text",
    "id": "WOAF4a9CopQM"
   },
   "source": [
    "In general, there is no generic module or function to map and transform these features into numeric representations based on order automatically. Hence we can use a custom encoding\\mapping scheme based on a dictionary."
   ]
  },
  {
   "cell_type": "code",
   "execution_count": 10,
   "metadata": {
    "colab": {},
    "colab_type": "code",
    "collapsed": false,
    "id": "zEh6B8GkopQN",
    "jupyter": {
     "outputs_hidden": false
    },
    "tags": []
   },
   "outputs": [
    {
     "output_type": "stream",
     "name": "stdout",
     "text": "Diferentes Type_1 de Pokemon\n"
    },
    {
     "output_type": "execute_result",
     "data": {
      "text/plain": "{&#39;Bug&#39;: 1,\n &#39;Water&#39;: 2,\n &#39;Rock&#39;: 3,\n &#39;Normal&#39;: 4,\n &#39;Fighting&#39;: 5,\n &#39;Grass&#39;: 6,\n &#39;Poison&#39;: 7,\n &#39;Fire&#39;: 8,\n &#39;Ghost&#39;: 9,\n &#39;Fairy&#39;: 10,\n &#39;Electric&#39;: 11,\n &#39;Dragon&#39;: 12,\n &#39;Ground&#39;: 13,\n &#39;Psychic&#39;: 14,\n &#39;Ice&#39;: 15}"
     },
     "metadata": {},
     "execution_count": 10
    }
   ],
   "source": [
    "# escribe un diccionario que mapee el Type 1 con un número asociado a cómo es de bueno el Type 1.\n",
    "# Es decir, presupón que se pueden ordenar esas etiquetas.\n",
    "# Usa DataFrame['Type 1'].unique() para seleccionar esos valores en ese orden y asignarles 1,2,3...\n",
    "# Por ejemplo: 'Bug' se corresponde con 1, 'Water' se corresponde con 2...\n",
    "print(\"Diferentes Type_1 de Pokemon\")\n",
    "poke_df['Type 1'].unique()\n",
    "\n",
    "type_1_map = {'Bug': 1, 'Water': 2, 'Rock': 3, 'Normal': 4, 'Fighting': 5, 'Grass': 6, 'Poison': 7,\n",
    "       'Fire': 8, 'Ghost': 9, 'Fairy': 10, 'Electric': 11, 'Dragon':12, 'Ground':13,\n",
    "       'Psychic':14, 'Ice':15}\n",
    "type_1_map\n"
   ]
  },
  {
   "cell_type": "code",
   "execution_count": 11,
   "metadata": {},
   "outputs": [
    {
     "output_type": "execute_result",
     "data": {
      "text/plain": "        Name  Type 1  Type 2  Total  HP  Attack  Defense  Sp. Atk  Sp. Def  \\\n0   Beedrill     Bug  Poison    395  65      90       40       45       80   \n1    Kingler   Water     NaN    475  55     130      115       50       50   \n2      Golem    Rock  Ground    495  80     120      130       55       65   \n3  Pidgeotto  Normal  Flying    349  63      60       55       50       50   \n4      Ditto  Normal     NaN    288  48      48       48       48       48   \n\n   Speed  Stage  Legendary  type1_num  \n0     75      3      False          1  \n1     75      2      False          2  \n2     45      3      False          3  \n3     71      2      False          4  \n4     48      1      False          4  ",
      "text/html": "<div>\n<style scoped>\n    .dataframe tbody tr th:only-of-type {\n        vertical-align: middle;\n    }\n\n    .dataframe tbody tr th {\n        vertical-align: top;\n    }\n\n    .dataframe thead th {\n        text-align: right;\n    }\n</style>\n<table border=\"1\" class=\"dataframe\">\n  <thead>\n    <tr style=\"text-align: right;\">\n      <th></th>\n      <th>Name</th>\n      <th>Type 1</th>\n      <th>Type 2</th>\n      <th>Total</th>\n      <th>HP</th>\n      <th>Attack</th>\n      <th>Defense</th>\n      <th>Sp. Atk</th>\n      <th>Sp. Def</th>\n      <th>Speed</th>\n      <th>Stage</th>\n      <th>Legendary</th>\n      <th>type1_num</th>\n    </tr>\n  </thead>\n  <tbody>\n    <tr>\n      <td>0</td>\n      <td>Beedrill</td>\n      <td>Bug</td>\n      <td>Poison</td>\n      <td>395</td>\n      <td>65</td>\n      <td>90</td>\n      <td>40</td>\n      <td>45</td>\n      <td>80</td>\n      <td>75</td>\n      <td>3</td>\n      <td>False</td>\n      <td>1</td>\n    </tr>\n    <tr>\n      <td>1</td>\n      <td>Kingler</td>\n      <td>Water</td>\n      <td>NaN</td>\n      <td>475</td>\n      <td>55</td>\n      <td>130</td>\n      <td>115</td>\n      <td>50</td>\n      <td>50</td>\n      <td>75</td>\n      <td>2</td>\n      <td>False</td>\n      <td>2</td>\n    </tr>\n    <tr>\n      <td>2</td>\n      <td>Golem</td>\n      <td>Rock</td>\n      <td>Ground</td>\n      <td>495</td>\n      <td>80</td>\n      <td>120</td>\n      <td>130</td>\n      <td>55</td>\n      <td>65</td>\n      <td>45</td>\n      <td>3</td>\n      <td>False</td>\n      <td>3</td>\n    </tr>\n    <tr>\n      <td>3</td>\n      <td>Pidgeotto</td>\n      <td>Normal</td>\n      <td>Flying</td>\n      <td>349</td>\n      <td>63</td>\n      <td>60</td>\n      <td>55</td>\n      <td>50</td>\n      <td>50</td>\n      <td>71</td>\n      <td>2</td>\n      <td>False</td>\n      <td>4</td>\n    </tr>\n    <tr>\n      <td>4</td>\n      <td>Ditto</td>\n      <td>Normal</td>\n      <td>NaN</td>\n      <td>288</td>\n      <td>48</td>\n      <td>48</td>\n      <td>48</td>\n      <td>48</td>\n      <td>48</td>\n      <td>48</td>\n      <td>1</td>\n      <td>False</td>\n      <td>4</td>\n    </tr>\n  </tbody>\n</table>\n</div>"
     },
     "metadata": {},
     "execution_count": 11
    }
   ],
   "source": [
    "# mapea los valores en el DataFrame en una columna que se llame 'type_1_num'\n",
    "# haz un head()\n",
    "poke_df['type1_num'] = poke_df['Type 1'].map(type_1_map)\n",
    "poke_df.head()"
   ]
  },
  {
   "cell_type": "markdown",
   "metadata": {
    "colab_type": "text",
    "id": "fC1M1pwZopQP"
   },
   "source": [
    "# Encoding Categorical Features"
   ]
  },
  {
   "cell_type": "markdown",
   "metadata": {
    "colab_type": "text",
    "id": "793oTh9XopQQ"
   },
   "source": [
    "## One-hot Encoding Scheme"
   ]
  },
  {
   "cell_type": "code",
   "execution_count": 12,
   "metadata": {
    "colab": {},
    "colab_type": "code",
    "collapsed": false,
    "id": "FANwoVJwopQQ",
    "jupyter": {
     "outputs_hidden": false
    },
    "outputId": "6464b3f4-518b-4378-b129-fee86f2c76f1"
   },
   "outputs": [
    {
     "output_type": "execute_result",
     "data": {
      "text/plain": "         Name  Stage  Legendary\n4       Ditto      1      False\n5    Primeape      2      False\n6  Aerodactyl      1      False\n7   Vileplume      3      False\n8    Nidorina      2      False\n9     Starmie      2      False",
      "text/html": "<div>\n<style scoped>\n    .dataframe tbody tr th:only-of-type {\n        vertical-align: middle;\n    }\n\n    .dataframe tbody tr th {\n        vertical-align: top;\n    }\n\n    .dataframe thead th {\n        text-align: right;\n    }\n</style>\n<table border=\"1\" class=\"dataframe\">\n  <thead>\n    <tr style=\"text-align: right;\">\n      <th></th>\n      <th>Name</th>\n      <th>Stage</th>\n      <th>Legendary</th>\n    </tr>\n  </thead>\n  <tbody>\n    <tr>\n      <td>4</td>\n      <td>Ditto</td>\n      <td>1</td>\n      <td>False</td>\n    </tr>\n    <tr>\n      <td>5</td>\n      <td>Primeape</td>\n      <td>2</td>\n      <td>False</td>\n    </tr>\n    <tr>\n      <td>6</td>\n      <td>Aerodactyl</td>\n      <td>1</td>\n      <td>False</td>\n    </tr>\n    <tr>\n      <td>7</td>\n      <td>Vileplume</td>\n      <td>3</td>\n      <td>False</td>\n    </tr>\n    <tr>\n      <td>8</td>\n      <td>Nidorina</td>\n      <td>2</td>\n      <td>False</td>\n    </tr>\n    <tr>\n      <td>9</td>\n      <td>Starmie</td>\n      <td>2</td>\n      <td>False</td>\n    </tr>\n  </tbody>\n</table>\n</div>"
     },
     "metadata": {},
     "execution_count": 12
    }
   ],
   "source": [
    "poke_df[['Name', 'Stage', 'Legendary']].iloc[4:10]"
   ]
  },
  {
   "cell_type": "code",
   "execution_count": 13,
   "metadata": {
    "colab": {},
    "colab_type": "code",
    "collapsed": false,
    "id": "1FsiibbqopQT",
    "jupyter": {
     "outputs_hidden": false
    },
    "tags": []
   },
   "outputs": [
    {
     "output_type": "stream",
     "name": "stdout",
     "text": "{&#39;Bug&#39;: 0, &#39;Water&#39;: 14, &#39;Rock&#39;: 13, &#39;Normal&#39;: 10, &#39;Fighting&#39;: 4, &#39;Grass&#39;: 7, &#39;Poison&#39;: 11, &#39;Fire&#39;: 5, &#39;Ghost&#39;: 6, &#39;Fairy&#39;: 3, &#39;Electric&#39;: 2, &#39;Dragon&#39;: 1, &#39;Ground&#39;: 8, &#39;Psychic&#39;: 12, &#39;Ice&#39;: 9}\n"
    },
    {
     "output_type": "execute_result",
     "data": {
      "text/plain": "        Name  Type 1  Type 2  Total  HP  Attack  Defense  Sp. Atk  Sp. Def  \\\n0   Beedrill     Bug  Poison    395  65      90       40       45       80   \n1    Kingler   Water     NaN    475  55     130      115       50       50   \n2      Golem    Rock  Ground    495  80     120      130       55       65   \n3  Pidgeotto  Normal  Flying    349  63      60       55       50       50   \n4      Ditto  Normal     NaN    288  48      48       48       48       48   \n\n   Speed  Stage  Legendary  type1_num  type1_zip  Legendary_zip  \n0     75      3      False          1          0              0  \n1     75      2      False          2         14              0  \n2     45      3      False          3         13              0  \n3     71      2      False          4         10              0  \n4     48      1      False          4         10              0  ",
      "text/html": "<div>\n<style scoped>\n    .dataframe tbody tr th:only-of-type {\n        vertical-align: middle;\n    }\n\n    .dataframe tbody tr th {\n        vertical-align: top;\n    }\n\n    .dataframe thead th {\n        text-align: right;\n    }\n</style>\n<table border=\"1\" class=\"dataframe\">\n  <thead>\n    <tr style=\"text-align: right;\">\n      <th></th>\n      <th>Name</th>\n      <th>Type 1</th>\n      <th>Type 2</th>\n      <th>Total</th>\n      <th>HP</th>\n      <th>Attack</th>\n      <th>Defense</th>\n      <th>Sp. Atk</th>\n      <th>Sp. Def</th>\n      <th>Speed</th>\n      <th>Stage</th>\n      <th>Legendary</th>\n      <th>type1_num</th>\n      <th>type1_zip</th>\n      <th>Legendary_zip</th>\n    </tr>\n  </thead>\n  <tbody>\n    <tr>\n      <td>0</td>\n      <td>Beedrill</td>\n      <td>Bug</td>\n      <td>Poison</td>\n      <td>395</td>\n      <td>65</td>\n      <td>90</td>\n      <td>40</td>\n      <td>45</td>\n      <td>80</td>\n      <td>75</td>\n      <td>3</td>\n      <td>False</td>\n      <td>1</td>\n      <td>0</td>\n      <td>0</td>\n    </tr>\n    <tr>\n      <td>1</td>\n      <td>Kingler</td>\n      <td>Water</td>\n      <td>NaN</td>\n      <td>475</td>\n      <td>55</td>\n      <td>130</td>\n      <td>115</td>\n      <td>50</td>\n      <td>50</td>\n      <td>75</td>\n      <td>2</td>\n      <td>False</td>\n      <td>2</td>\n      <td>14</td>\n      <td>0</td>\n    </tr>\n    <tr>\n      <td>2</td>\n      <td>Golem</td>\n      <td>Rock</td>\n      <td>Ground</td>\n      <td>495</td>\n      <td>80</td>\n      <td>120</td>\n      <td>130</td>\n      <td>55</td>\n      <td>65</td>\n      <td>45</td>\n      <td>3</td>\n      <td>False</td>\n      <td>3</td>\n      <td>13</td>\n      <td>0</td>\n    </tr>\n    <tr>\n      <td>3</td>\n      <td>Pidgeotto</td>\n      <td>Normal</td>\n      <td>Flying</td>\n      <td>349</td>\n      <td>63</td>\n      <td>60</td>\n      <td>55</td>\n      <td>50</td>\n      <td>50</td>\n      <td>71</td>\n      <td>2</td>\n      <td>False</td>\n      <td>4</td>\n      <td>10</td>\n      <td>0</td>\n    </tr>\n    <tr>\n      <td>4</td>\n      <td>Ditto</td>\n      <td>Normal</td>\n      <td>NaN</td>\n      <td>288</td>\n      <td>48</td>\n      <td>48</td>\n      <td>48</td>\n      <td>48</td>\n      <td>48</td>\n      <td>48</td>\n      <td>1</td>\n      <td>False</td>\n      <td>4</td>\n      <td>10</td>\n      <td>0</td>\n    </tr>\n  </tbody>\n</table>\n</div>"
     },
     "metadata": {},
     "execution_count": 13
    }
   ],
   "source": [
    "# usa LabelEncoder\n",
    "from sklearn import preprocessing\n",
    "# transform and map pokemon Type 1 with LabelEncoder\n",
    "# el método zip te puede ayudar\n",
    "type1_zip = dict(zip(poke['Type 1'].unique(),preprocessing.LabelEncoder().fit_transform(poke['Type 1'].unique())))\n",
    "print(type1_zip)\n",
    "poke_df['type1_zip'] = poke_df['Type 1'].map(type1_zip)\n",
    "poke_df.head()\n",
    "\n",
    "# transform and map pokemon legendary status with Label Encoder\n",
    "poke_df['Legendary_zip'] = poke_df['Legendary'].map(dict(zip(poke['Legendary'],preprocessing.LabelEncoder().fit_transform(poke['Legendary']))))\n",
    "poke_df.head()"
   ]
  },
  {
   "cell_type": "code",
   "execution_count": 14,
   "metadata": {},
   "outputs": [],
   "source": [
    "# Otra forma más sencilla utilizando transform\n",
    "# ¡Para esto vale fit y transform!\n",
    "# Muchas transformaciones se dividen en fit (ajusta los parámetros de la transformación)\n",
    "# y en transform (aplica los cambios)\n",
    "\n",
    "le_pokemon = preprocessing.LabelEncoder()\n",
    "le_pokemon.fit(poke_df['Type 1'])\n",
    "poke_df['type1_transformed'] = le_pokemon.transform(poke_df['Type 1'])"
   ]
  },
  {
   "cell_type": "code",
   "execution_count": 15,
   "metadata": {},
   "outputs": [
    {
     "output_type": "execute_result",
     "data": {
      "text/plain": "        Name  Type 1  Type 2  Total  HP  Attack  Defense  Sp. Atk  Sp. Def  \\\n0   Beedrill     Bug  Poison    395  65      90       40       45       80   \n1    Kingler   Water     NaN    475  55     130      115       50       50   \n2      Golem    Rock  Ground    495  80     120      130       55       65   \n3  Pidgeotto  Normal  Flying    349  63      60       55       50       50   \n4      Ditto  Normal     NaN    288  48      48       48       48       48   \n\n   Speed  Stage  Legendary  type1_num  type1_zip  Legendary_zip  \\\n0     75      3      False          1          0              0   \n1     75      2      False          2         14              0   \n2     45      3      False          3         13              0   \n3     71      2      False          4         10              0   \n4     48      1      False          4         10              0   \n\n   type1_transformed  \n0                  0  \n1                 14  \n2                 13  \n3                 10  \n4                 10  ",
      "text/html": "<div>\n<style scoped>\n    .dataframe tbody tr th:only-of-type {\n        vertical-align: middle;\n    }\n\n    .dataframe tbody tr th {\n        vertical-align: top;\n    }\n\n    .dataframe thead th {\n        text-align: right;\n    }\n</style>\n<table border=\"1\" class=\"dataframe\">\n  <thead>\n    <tr style=\"text-align: right;\">\n      <th></th>\n      <th>Name</th>\n      <th>Type 1</th>\n      <th>Type 2</th>\n      <th>Total</th>\n      <th>HP</th>\n      <th>Attack</th>\n      <th>Defense</th>\n      <th>Sp. Atk</th>\n      <th>Sp. Def</th>\n      <th>Speed</th>\n      <th>Stage</th>\n      <th>Legendary</th>\n      <th>type1_num</th>\n      <th>type1_zip</th>\n      <th>Legendary_zip</th>\n      <th>type1_transformed</th>\n    </tr>\n  </thead>\n  <tbody>\n    <tr>\n      <td>0</td>\n      <td>Beedrill</td>\n      <td>Bug</td>\n      <td>Poison</td>\n      <td>395</td>\n      <td>65</td>\n      <td>90</td>\n      <td>40</td>\n      <td>45</td>\n      <td>80</td>\n      <td>75</td>\n      <td>3</td>\n      <td>False</td>\n      <td>1</td>\n      <td>0</td>\n      <td>0</td>\n      <td>0</td>\n    </tr>\n    <tr>\n      <td>1</td>\n      <td>Kingler</td>\n      <td>Water</td>\n      <td>NaN</td>\n      <td>475</td>\n      <td>55</td>\n      <td>130</td>\n      <td>115</td>\n      <td>50</td>\n      <td>50</td>\n      <td>75</td>\n      <td>2</td>\n      <td>False</td>\n      <td>2</td>\n      <td>14</td>\n      <td>0</td>\n      <td>14</td>\n    </tr>\n    <tr>\n      <td>2</td>\n      <td>Golem</td>\n      <td>Rock</td>\n      <td>Ground</td>\n      <td>495</td>\n      <td>80</td>\n      <td>120</td>\n      <td>130</td>\n      <td>55</td>\n      <td>65</td>\n      <td>45</td>\n      <td>3</td>\n      <td>False</td>\n      <td>3</td>\n      <td>13</td>\n      <td>0</td>\n      <td>13</td>\n    </tr>\n    <tr>\n      <td>3</td>\n      <td>Pidgeotto</td>\n      <td>Normal</td>\n      <td>Flying</td>\n      <td>349</td>\n      <td>63</td>\n      <td>60</td>\n      <td>55</td>\n      <td>50</td>\n      <td>50</td>\n      <td>71</td>\n      <td>2</td>\n      <td>False</td>\n      <td>4</td>\n      <td>10</td>\n      <td>0</td>\n      <td>10</td>\n    </tr>\n    <tr>\n      <td>4</td>\n      <td>Ditto</td>\n      <td>Normal</td>\n      <td>NaN</td>\n      <td>288</td>\n      <td>48</td>\n      <td>48</td>\n      <td>48</td>\n      <td>48</td>\n      <td>48</td>\n      <td>48</td>\n      <td>1</td>\n      <td>False</td>\n      <td>4</td>\n      <td>10</td>\n      <td>0</td>\n      <td>10</td>\n    </tr>\n  </tbody>\n</table>\n</div>"
     },
     "metadata": {},
     "execution_count": 15
    }
   ],
   "source": [
    "#haz un head()\n",
    "poke_df.head()"
   ]
  },
  {
   "cell_type": "code",
   "execution_count": 39,
   "metadata": {},
   "outputs": [
    {
     "output_type": "execute_result",
     "data": {
      "text/plain": "(array([[&#39;Bug&#39;],\n        [&#39;Dragon&#39;],\n        [&#39;Electric&#39;],\n        [&#39;Fairy&#39;],\n        [&#39;Fighting&#39;],\n        [&#39;Fire&#39;],\n        [&#39;Ghost&#39;],\n        [&#39;Grass&#39;],\n        [&#39;Ground&#39;],\n        [&#39;Ice&#39;],\n        [&#39;Normal&#39;],\n        [&#39;Poison&#39;],\n        [&#39;Psychic&#39;],\n        [&#39;Rock&#39;],\n        [&#39;Water&#39;]], dtype=object), array([[ 0],\n        [ 1],\n        [ 2],\n        [ 3],\n        [ 4],\n        [ 5],\n        [ 6],\n        [ 7],\n        [ 8],\n        [ 9],\n        [10],\n        [11],\n        [12],\n        [13],\n        [14]], dtype=int64))"
     },
     "metadata": {},
     "execution_count": 39
    }
   ],
   "source": [
    "# comprobamos que la codificación del método es alfabética\n",
    "poke_df['Type 1'].sort_values().unique().reshape(-1,1), poke_df['type1_zip'].sort_values().unique().reshape(-1,1)"
   ]
  },
  {
   "cell_type": "code",
   "execution_count": 17,
   "metadata": {},
   "outputs": [],
   "source": [
    "# haz un head()"
   ]
  },
  {
   "cell_type": "markdown",
   "metadata": {
    "colab_type": "text",
    "id": "SJnJ6WaQopQW"
   },
   "source": [
    "The features Type 1 zip and Legendary_zip now depict the numeric representations of our categorical features. Let’s now apply the one-hot encoding scheme on these features. Apply the get_dummies() method."
   ]
  },
  {
   "cell_type": "code",
   "execution_count": 41,
   "metadata": {
    "colab": {},
    "colab_type": "code",
    "collapsed": false,
    "id": "86AIHaKqopQX",
    "jupyter": {
     "outputs_hidden": false
    }
   },
   "outputs": [],
   "source": [
    "# encode Type 1 labels using one-hot encoding scheme\n",
    "one_hot_df_type_1 = pd.get_dummies(poke_df['Type 1'], prefix='Type_1')\n",
    "\n",
    "# encode legendary status labels using one-hot encoding scheme\n",
    "one_hot_df_legendary = pd.get_dummies(poke_df['Legendary'], prefix='Legendary')\n",
    "\n",
    "# transform and map pokemon legendary status with Label Encoder\n"
   ]
  },
  {
   "cell_type": "code",
   "execution_count": 43,
   "metadata": {},
   "outputs": [
    {
     "output_type": "execute_result",
     "data": {
      "text/plain": "   Type_1_Bug  Type_1_Dragon  Type_1_Electric  Type_1_Fairy  Type_1_Fighting  \\\n0           1              0                0             0                0   \n1           0              0                0             0                0   \n2           0              0                0             0                0   \n3           0              0                0             0                0   \n4           0              0                0             0                0   \n\n   Type_1_Fire  Type_1_Ghost  Type_1_Grass  Type_1_Ground  Type_1_Ice  \\\n0            0             0             0              0           0   \n1            0             0             0              0           0   \n2            0             0             0              0           0   \n3            0             0             0              0           0   \n4            0             0             0              0           0   \n\n   Type_1_Normal  Type_1_Poison  Type_1_Psychic  Type_1_Rock  Type_1_Water  \n0              0              0               0            0             0  \n1              0              0               0            0             1  \n2              0              0               0            1             0  \n3              1              0               0            0             0  \n4              1              0               0            0             0  ",
      "text/html": "<div>\n<style scoped>\n    .dataframe tbody tr th:only-of-type {\n        vertical-align: middle;\n    }\n\n    .dataframe tbody tr th {\n        vertical-align: top;\n    }\n\n    .dataframe thead th {\n        text-align: right;\n    }\n</style>\n<table border=\"1\" class=\"dataframe\">\n  <thead>\n    <tr style=\"text-align: right;\">\n      <th></th>\n      <th>Type_1_Bug</th>\n      <th>Type_1_Dragon</th>\n      <th>Type_1_Electric</th>\n      <th>Type_1_Fairy</th>\n      <th>Type_1_Fighting</th>\n      <th>Type_1_Fire</th>\n      <th>Type_1_Ghost</th>\n      <th>Type_1_Grass</th>\n      <th>Type_1_Ground</th>\n      <th>Type_1_Ice</th>\n      <th>Type_1_Normal</th>\n      <th>Type_1_Poison</th>\n      <th>Type_1_Psychic</th>\n      <th>Type_1_Rock</th>\n      <th>Type_1_Water</th>\n    </tr>\n  </thead>\n  <tbody>\n    <tr>\n      <td>0</td>\n      <td>1</td>\n      <td>0</td>\n      <td>0</td>\n      <td>0</td>\n      <td>0</td>\n      <td>0</td>\n      <td>0</td>\n      <td>0</td>\n      <td>0</td>\n      <td>0</td>\n      <td>0</td>\n      <td>0</td>\n      <td>0</td>\n      <td>0</td>\n      <td>0</td>\n    </tr>\n    <tr>\n      <td>1</td>\n      <td>0</td>\n      <td>0</td>\n      <td>0</td>\n      <td>0</td>\n      <td>0</td>\n      <td>0</td>\n      <td>0</td>\n      <td>0</td>\n      <td>0</td>\n      <td>0</td>\n      <td>0</td>\n      <td>0</td>\n      <td>0</td>\n      <td>0</td>\n      <td>1</td>\n    </tr>\n    <tr>\n      <td>2</td>\n      <td>0</td>\n      <td>0</td>\n      <td>0</td>\n      <td>0</td>\n      <td>0</td>\n      <td>0</td>\n      <td>0</td>\n      <td>0</td>\n      <td>0</td>\n      <td>0</td>\n      <td>0</td>\n      <td>0</td>\n      <td>0</td>\n      <td>1</td>\n      <td>0</td>\n    </tr>\n    <tr>\n      <td>3</td>\n      <td>0</td>\n      <td>0</td>\n      <td>0</td>\n      <td>0</td>\n      <td>0</td>\n      <td>0</td>\n      <td>0</td>\n      <td>0</td>\n      <td>0</td>\n      <td>0</td>\n      <td>1</td>\n      <td>0</td>\n      <td>0</td>\n      <td>0</td>\n      <td>0</td>\n    </tr>\n    <tr>\n      <td>4</td>\n      <td>0</td>\n      <td>0</td>\n      <td>0</td>\n      <td>0</td>\n      <td>0</td>\n      <td>0</td>\n      <td>0</td>\n      <td>0</td>\n      <td>0</td>\n      <td>0</td>\n      <td>1</td>\n      <td>0</td>\n      <td>0</td>\n      <td>0</td>\n      <td>0</td>\n    </tr>\n  </tbody>\n</table>\n</div>"
     },
     "metadata": {},
     "execution_count": 43
    }
   ],
   "source": [
    "one_hot_df_type_1.head()"
   ]
  },
  {
   "cell_type": "code",
   "execution_count": 44,
   "metadata": {},
   "outputs": [
    {
     "output_type": "execute_result",
     "data": {
      "text/plain": "   Legendary_False  Legendary_True\n0                1               0\n1                1               0\n2                1               0\n3                1               0\n4                1               0",
      "text/html": "<div>\n<style scoped>\n    .dataframe tbody tr th:only-of-type {\n        vertical-align: middle;\n    }\n\n    .dataframe tbody tr th {\n        vertical-align: top;\n    }\n\n    .dataframe thead th {\n        text-align: right;\n    }\n</style>\n<table border=\"1\" class=\"dataframe\">\n  <thead>\n    <tr style=\"text-align: right;\">\n      <th></th>\n      <th>Legendary_False</th>\n      <th>Legendary_True</th>\n    </tr>\n  </thead>\n  <tbody>\n    <tr>\n      <td>0</td>\n      <td>1</td>\n      <td>0</td>\n    </tr>\n    <tr>\n      <td>1</td>\n      <td>1</td>\n      <td>0</td>\n    </tr>\n    <tr>\n      <td>2</td>\n      <td>1</td>\n      <td>0</td>\n    </tr>\n    <tr>\n      <td>3</td>\n      <td>1</td>\n      <td>0</td>\n    </tr>\n    <tr>\n      <td>4</td>\n      <td>1</td>\n      <td>0</td>\n    </tr>\n  </tbody>\n</table>\n</div>"
     },
     "metadata": {},
     "execution_count": 44
    }
   ],
   "source": [
    "one_hot_df_legendary.head()"
   ]
  },
  {
   "cell_type": "code",
   "execution_count": 51,
   "metadata": {},
   "outputs": [
    {
     "output_type": "execute_result",
     "data": {
      "text/plain": "True"
     },
     "metadata": {},
     "execution_count": 51
    }
   ],
   "source": [
    "sum(one_hot_df_legendary['Legendary_True'] == 1 )\n",
    "sum(one_hot_df_legendary['Legendary_True'] == True )\n",
    "sum(poke_df['Legendary'] == 1)\n",
    "sum(poke_df['Legendary'] == True)\n",
    "sum(poke_df['Legendary'])\n",
    "# compruebo que solo hay 4 pokemon legendarios\n",
    "\n",
    "sum(poke_df['Legendary']) == sum(one_hot_df_legendary['Legendary_True'] == 1 )\n"
   ]
  },
  {
   "cell_type": "code",
   "execution_count": 65,
   "metadata": {
    "colab": {},
    "colab_type": "code",
    "collapsed": false,
    "id": "MlsZHro6opQa",
    "jupyter": {
     "outputs_hidden": false
    },
    "outputId": "f944c1e2-e145-4143-e17d-3e5de1591043"
   },
   "outputs": [
    {
     "output_type": "execute_result",
     "data": {
      "text/plain": "   Type_1_Ice  Type_1_Normal  Type_1_Poison  Type_1_Psychic  Type_1_Rock  \\\n0           0              0              0               0            0   \n1           0              0              0               0            0   \n2           0              0              0               0            1   \n3           0              1              0               0            0   \n4           0              1              0               0            0   \n\n   Type_1_Water  Legendary_False  Legendary_True  \n0             0                1               0  \n1             1                1               0  \n2             0                1               0  \n3             0                1               0  \n4             0                1               0  ",
      "text/html": "<div>\n<style scoped>\n    .dataframe tbody tr th:only-of-type {\n        vertical-align: middle;\n    }\n\n    .dataframe tbody tr th {\n        vertical-align: top;\n    }\n\n    .dataframe thead th {\n        text-align: right;\n    }\n</style>\n<table border=\"1\" class=\"dataframe\">\n  <thead>\n    <tr style=\"text-align: right;\">\n      <th></th>\n      <th>Type_1_Ice</th>\n      <th>Type_1_Normal</th>\n      <th>Type_1_Poison</th>\n      <th>Type_1_Psychic</th>\n      <th>Type_1_Rock</th>\n      <th>Type_1_Water</th>\n      <th>Legendary_False</th>\n      <th>Legendary_True</th>\n    </tr>\n  </thead>\n  <tbody>\n    <tr>\n      <td>0</td>\n      <td>0</td>\n      <td>0</td>\n      <td>0</td>\n      <td>0</td>\n      <td>0</td>\n      <td>0</td>\n      <td>1</td>\n      <td>0</td>\n    </tr>\n    <tr>\n      <td>1</td>\n      <td>0</td>\n      <td>0</td>\n      <td>0</td>\n      <td>0</td>\n      <td>0</td>\n      <td>1</td>\n      <td>1</td>\n      <td>0</td>\n    </tr>\n    <tr>\n      <td>2</td>\n      <td>0</td>\n      <td>0</td>\n      <td>0</td>\n      <td>0</td>\n      <td>1</td>\n      <td>0</td>\n      <td>1</td>\n      <td>0</td>\n    </tr>\n    <tr>\n      <td>3</td>\n      <td>0</td>\n      <td>1</td>\n      <td>0</td>\n      <td>0</td>\n      <td>0</td>\n      <td>0</td>\n      <td>1</td>\n      <td>0</td>\n    </tr>\n    <tr>\n      <td>4</td>\n      <td>0</td>\n      <td>1</td>\n      <td>0</td>\n      <td>0</td>\n      <td>0</td>\n      <td>0</td>\n      <td>1</td>\n      <td>0</td>\n    </tr>\n  </tbody>\n</table>\n</div>"
     },
     "metadata": {},
     "execution_count": 65
    }
   ],
   "source": [
    "# concatena el DataFrame original con la codificación de Type 1 y de Legendary \n",
    "\n",
    "df_one_hot = pd.concat([poke_df,one_hot_df_type_1,one_hot_df_legendary], axis=1)\n",
    "df_one_hot.iloc[:5, df_one_hot.shape[1]-8:]"
   ]
  },
  {
   "cell_type": "markdown",
   "metadata": {
    "colab_type": "text",
    "id": "vlOA9PYVopQc"
   },
   "source": [
    "Consider you built this encoding scheme on your training data and built some model and now you have some new data which has to be engineered for features before predictions as follows."
   ]
  },
  {
   "cell_type": "code",
   "execution_count": 66,
   "metadata": {
    "colab": {},
    "colab_type": "code",
    "collapsed": false,
    "id": "U3EksIASopQd",
    "jupyter": {
     "outputs_hidden": false
    },
    "outputId": "2df5611e-99cb-4f29-e586-981c5f2a20be"
   },
   "outputs": [
    {
     "output_type": "execute_result",
     "data": {
      "text/plain": "          Name Type 1  Legendary\n0     PikaZoom    Bug       True\n1  CharMyToast  Water      False",
      "text/html": "<div>\n<style scoped>\n    .dataframe tbody tr th:only-of-type {\n        vertical-align: middle;\n    }\n\n    .dataframe tbody tr th {\n        vertical-align: top;\n    }\n\n    .dataframe thead th {\n        text-align: right;\n    }\n</style>\n<table border=\"1\" class=\"dataframe\">\n  <thead>\n    <tr style=\"text-align: right;\">\n      <th></th>\n      <th>Name</th>\n      <th>Type 1</th>\n      <th>Legendary</th>\n    </tr>\n  </thead>\n  <tbody>\n    <tr>\n      <td>0</td>\n      <td>PikaZoom</td>\n      <td>Bug</td>\n      <td>True</td>\n    </tr>\n    <tr>\n      <td>1</td>\n      <td>CharMyToast</td>\n      <td>Water</td>\n      <td>False</td>\n    </tr>\n  </tbody>\n</table>\n</div>"
     },
     "metadata": {},
     "execution_count": 66
    }
   ],
   "source": [
    "\n",
    "new_poke_df = pd.DataFrame([['PikaZoom', 'Bug', True], \n",
    "                           ['CharMyToast', 'Water', False]],\n",
    "                           columns=['Name', 'Type 1', 'Legendary'])\n",
    "new_poke_df\n"
   ]
  },
  {
   "cell_type": "code",
   "execution_count": 71,
   "metadata": {
    "colab": {},
    "colab_type": "code",
    "collapsed": false,
    "id": "XI1PLKljopQg",
    "jupyter": {
     "outputs_hidden": false
    },
    "outputId": "92340281-79dd-4e81-b5ab-ea681dd29933"
   },
   "outputs": [
    {
     "output_type": "execute_result",
     "data": {
      "text/plain": "          Name Type 1  Type_1_label  Legendary  Legendary_label\n0     PikaZoom    Bug             0       True                1\n1  CharMyToast  Water            14      False                0",
      "text/html": "<div>\n<style scoped>\n    .dataframe tbody tr th:only-of-type {\n        vertical-align: middle;\n    }\n\n    .dataframe tbody tr th {\n        vertical-align: top;\n    }\n\n    .dataframe thead th {\n        text-align: right;\n    }\n</style>\n<table border=\"1\" class=\"dataframe\">\n  <thead>\n    <tr style=\"text-align: right;\">\n      <th></th>\n      <th>Name</th>\n      <th>Type 1</th>\n      <th>Type_1_label</th>\n      <th>Legendary</th>\n      <th>Legendary_label</th>\n    </tr>\n  </thead>\n  <tbody>\n    <tr>\n      <td>0</td>\n      <td>PikaZoom</td>\n      <td>Bug</td>\n      <td>0</td>\n      <td>True</td>\n      <td>1</td>\n    </tr>\n    <tr>\n      <td>1</td>\n      <td>CharMyToast</td>\n      <td>Water</td>\n      <td>14</td>\n      <td>False</td>\n      <td>0</td>\n    </tr>\n  </tbody>\n</table>\n</div>"
     },
     "metadata": {},
     "execution_count": 71
    }
   ],
   "source": [
    "# usando fit() y transform(), añade Type1_Label y Lgnd_Label en el DataFrame\n",
    "\n",
    "le_pokemon.fit(poke_df['Type 1'])\n",
    "new_type1_labels = le_pokemon.transform(new_poke_df['Type 1'])\n",
    "new_poke_df['Type_1_label'] = new_type1_labels\n",
    "\n",
    "le_pokemon.fit(poke_df['Legendary'])\n",
    "new_lgnd_label = le_pokemon.transform(new_poke_df['Legendary'])\n",
    "new_poke_df['Legendary_label'] = new_lgnd_label\n",
    "\n",
    "new_poke_df[['Name', 'Type 1', 'Type_1_label', 'Legendary', 'Legendary_label']]"
   ]
  },
  {
   "cell_type": "markdown",
   "metadata": {
    "colab_type": "text",
    "id": "pwbAK6nnopQj"
   },
   "source": [
    "You can leverage scikit-learn’s excellent API here by calling the transform(…) function of the previously build LabeLEncoder objects on the new data."
   ]
  },
  {
   "cell_type": "markdown",
   "metadata": {
    "colab_type": "text",
    "id": "2i-I6wueopQq"
   },
   "source": [
    "## Dummy Coding Scheme\n",
    "\n",
    "Let’s try applying dummy coding scheme on Pokémon Type 1 by dropping the first level binary encoded feature (Type 1 = Bug).\n"
   ]
  },
  {
   "cell_type": "code",
   "execution_count": 19,
   "metadata": {
    "colab": {},
    "colab_type": "code",
    "collapsed": false,
    "id": "hF4q7G8CopQq",
    "jupyter": {
     "outputs_hidden": false
    },
    "outputId": "a6cebf80-fc40-4f3a-e938-21437e1810a6"
   },
   "outputs": [],
   "source": [
    "# haz un get_dummies para una codificación dummy\n",
    "# muestra las filas desde la 4 hasta la 9 (incluida)\n",
    "\n",
    "\n"
   ]
  },
  {
   "cell_type": "markdown",
   "metadata": {
    "colab_type": "text",
    "id": "ahtsKFXBopQt"
   },
   "source": [
    "If you want, you can also choose to drop the last level binary encoded feature"
   ]
  },
  {
   "cell_type": "code",
   "execution_count": 20,
   "metadata": {},
   "outputs": [],
   "source": [
    "# haz un fit() de Type 1 y mira las clases que aparecen\n",
    "\n"
   ]
  },
  {
   "cell_type": "code",
   "execution_count": 21,
   "metadata": {},
   "outputs": [],
   "source": [
    "# haz un dummies sin eliminar ninguna columna que se obtenga solo de Type 1\n",
    "# haz un head()\n",
    "\n"
   ]
  },
  {
   "cell_type": "code",
   "execution_count": 22,
   "metadata": {},
   "outputs": [],
   "source": [
    "# comprueba en la codificación con la columna eliminada (dummy)\n",
    "# pista: isin te puede ayudar\n",
    "\n"
   ]
  },
  {
   "cell_type": "code",
   "execution_count": 23,
   "metadata": {},
   "outputs": [],
   "source": [
    "# comprueba qué hace el signo ~\n",
    "\n"
   ]
  },
  {
   "cell_type": "code",
   "execution_count": 24,
   "metadata": {},
   "outputs": [],
   "source": [
    "# haz una lectura en el DataFrame con la última sentencia que emplea ~\n",
    "\n"
   ]
  },
  {
   "cell_type": "code",
   "execution_count": 25,
   "metadata": {},
   "outputs": [],
   "source": [
    "# asígnalo a una variable y muestra un head\n",
    "\n",
    "\n"
   ]
  },
  {
   "cell_type": "markdown",
   "metadata": {
    "colab_type": "text",
    "id": "JzWaGlWfopQv"
   },
   "source": [
    "## Feature Hashing scheme\n",
    "\n",
    "Find the number of different 'Genre' in the dataset."
   ]
  },
  {
   "cell_type": "code",
   "execution_count": 26,
   "metadata": {},
   "outputs": [],
   "source": [
    "# Usa vgsales.csv, léelo y haz un head()\n",
    "\n",
    "\n"
   ]
  },
  {
   "cell_type": "code",
   "execution_count": 27,
   "metadata": {},
   "outputs": [],
   "source": [
    "# print('Total game genres: ' + str(len(df_videojuegos.Genre.unique())))\n",
    "# print(df_videojuegos.Genre.sort_values().unique())"
   ]
  },
  {
   "cell_type": "markdown",
   "metadata": {
    "colab_type": "text",
    "id": "NPz9-23EopQy"
   },
   "source": [
    "### We can see that there are a total of 12 genres of video games. If we used a one-hot encoding scheme on the Genre feature, we would end up having 12 binary features. Instead, we will now use a feature hashing scheme by leveraging scikit-learn’s FeatureHasher class, which uses a signed 32-bit version of the Murmurhash3 hash function. We will pre-define the final feature vector size to be 6 in this case."
   ]
  },
  {
   "cell_type": "code",
   "execution_count": null,
   "metadata": {
    "colab": {},
    "colab_type": "code",
    "collapsed": false,
    "id": "qgE00tY-opQz",
    "jupyter": {
     "outputs_hidden": false
    }
   },
   "outputs": [],
   "source": []
  },
  {
   "cell_type": "code",
   "execution_count": null,
   "metadata": {},
   "outputs": [],
   "source": []
  },
  {
   "cell_type": "code",
   "execution_count": null,
   "metadata": {},
   "outputs": [],
   "source": []
  },
  {
   "cell_type": "code",
   "execution_count": null,
   "metadata": {},
   "outputs": [],
   "source": []
  }
 ],
 "metadata": {
  "anaconda-cloud": {},
  "colab": {
   "name": "2_FeatureEngineering_CategoricalData_ejercicios.ipynb",
   "provenance": []
  },
  "kernelspec": {
   "display_name": "Python 3",
   "language": "python",
   "name": "python3"
  },
  "language_info": {
   "codemirror_mode": {
    "name": "ipython",
    "version": 3
   },
   "file_extension": ".py",
   "mimetype": "text/x-python",
   "name": "python",
   "nbconvert_exporter": "python",
   "pygments_lexer": "ipython3",
   "version": "3.7.4-final"
  }
 },
 "nbformat": 4,
 "nbformat_minor": 4
}