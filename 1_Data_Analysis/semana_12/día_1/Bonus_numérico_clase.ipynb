{
 "cells": [
  {
   "cell_type": "code",
   "execution_count": 1,
   "metadata": {},
   "outputs": [],
   "source": [
    "# 1. Crea un DataFrame con 3 columnas numéricas de atributos y una columna target de clasificación.\n",
    "# Piensa en un ejemplo que no sean flores\n",
    "# Usa índices NO NUMÉRICOS en tu ejemplo desde el constructor y ten 9 instancias en el DataFrame"
   ]
  },
  {
   "cell_type": "code",
   "execution_count": 1,
   "metadata": {},
   "outputs": [],
   "source": [
    "import numpy as np\n",
    "import pandas as pd "
   ]
  },
  {
   "cell_type": "code",
   "execution_count": 2,
   "metadata": {},
   "outputs": [],
   "source": [
    "modelo = [\"BMW Serie 4 Gran Coupe\",\"Chevrolet Malibu\",\"Citroën C5\",\"Citroën DS5\",\"Peugeot 807\",\"Renault Espace\",\"Renault Gran Espace\",\"Seat Alhambra\", \"Subaru Forester\",\"Nissan Qashqai\",\"Lexus RX 400h\",\"Volkswagen Tiguan\",\"Audi SQ5\"]\n",
    "largo_m = [4.638 ,4.865,4.779,\t4.530, 4.727 ,4.656,4.856,4.858,4.625,4.394,4.755,4.509,4.671]\n",
    "ancho_m = [1.825,1.855,1.860,1.871,1.850,1.894,1.894,1.904,1.815,1.806,1.845,1.839,1.893]\n",
    "alto_m = [1.389,1.465,1.458,1.513,1.854,1.801,1.819,1.720,1.730,1.590,1.670, 1.675,1.635]\n",
    "\n",
    "tipo = [\"berlina\", \"berlina\",\"berlina\",\"berlina\", \"monovolumen\",\"monovolumen\",\"monovolumen\",\"monovolumen\",\"SUV\",\"SUV\",\"SUV\", \"SUV\", \"SUV\"]"
   ]
  },
  {
   "cell_type": "code",
   "execution_count": 3,
   "metadata": {},
   "outputs": [
    {
     "output_type": "execute_result",
     "data": {
      "text/plain": "                    modelo  largo_m  ancho_m  alto_m         tipo\n0   BMW Serie 4 Gran Coupe    4.638    1.825   1.389      berlina\n1         Chevrolet Malibu    4.865    1.855   1.465      berlina\n2               Citroën C5    4.779    1.860   1.458      berlina\n3              Citroën DS5    4.530    1.871   1.513      berlina\n4              Peugeot 807    4.727    1.850   1.854  monovolumen\n5           Renault Espace    4.656    1.894   1.801  monovolumen\n6      Renault Gran Espace    4.856    1.894   1.819  monovolumen\n7            Seat Alhambra    4.858    1.904   1.720  monovolumen\n8          Subaru Forester    4.625    1.815   1.730          SUV\n9           Nissan Qashqai    4.394    1.806   1.590          SUV\n10           Lexus RX 400h    4.755    1.845   1.670          SUV\n11       Volkswagen Tiguan    4.509    1.839   1.675          SUV\n12                Audi SQ5    4.671    1.893   1.635          SUV",
      "text/html": "<div>\n<style scoped>\n    .dataframe tbody tr th:only-of-type {\n        vertical-align: middle;\n    }\n\n    .dataframe tbody tr th {\n        vertical-align: top;\n    }\n\n    .dataframe thead th {\n        text-align: right;\n    }\n</style>\n<table border=\"1\" class=\"dataframe\">\n  <thead>\n    <tr style=\"text-align: right;\">\n      <th></th>\n      <th>modelo</th>\n      <th>largo_m</th>\n      <th>ancho_m</th>\n      <th>alto_m</th>\n      <th>tipo</th>\n    </tr>\n  </thead>\n  <tbody>\n    <tr>\n      <td>0</td>\n      <td>BMW Serie 4 Gran Coupe</td>\n      <td>4.638</td>\n      <td>1.825</td>\n      <td>1.389</td>\n      <td>berlina</td>\n    </tr>\n    <tr>\n      <td>1</td>\n      <td>Chevrolet Malibu</td>\n      <td>4.865</td>\n      <td>1.855</td>\n      <td>1.465</td>\n      <td>berlina</td>\n    </tr>\n    <tr>\n      <td>2</td>\n      <td>Citroën C5</td>\n      <td>4.779</td>\n      <td>1.860</td>\n      <td>1.458</td>\n      <td>berlina</td>\n    </tr>\n    <tr>\n      <td>3</td>\n      <td>Citroën DS5</td>\n      <td>4.530</td>\n      <td>1.871</td>\n      <td>1.513</td>\n      <td>berlina</td>\n    </tr>\n    <tr>\n      <td>4</td>\n      <td>Peugeot 807</td>\n      <td>4.727</td>\n      <td>1.850</td>\n      <td>1.854</td>\n      <td>monovolumen</td>\n    </tr>\n    <tr>\n      <td>5</td>\n      <td>Renault Espace</td>\n      <td>4.656</td>\n      <td>1.894</td>\n      <td>1.801</td>\n      <td>monovolumen</td>\n    </tr>\n    <tr>\n      <td>6</td>\n      <td>Renault Gran Espace</td>\n      <td>4.856</td>\n      <td>1.894</td>\n      <td>1.819</td>\n      <td>monovolumen</td>\n    </tr>\n    <tr>\n      <td>7</td>\n      <td>Seat Alhambra</td>\n      <td>4.858</td>\n      <td>1.904</td>\n      <td>1.720</td>\n      <td>monovolumen</td>\n    </tr>\n    <tr>\n      <td>8</td>\n      <td>Subaru Forester</td>\n      <td>4.625</td>\n      <td>1.815</td>\n      <td>1.730</td>\n      <td>SUV</td>\n    </tr>\n    <tr>\n      <td>9</td>\n      <td>Nissan Qashqai</td>\n      <td>4.394</td>\n      <td>1.806</td>\n      <td>1.590</td>\n      <td>SUV</td>\n    </tr>\n    <tr>\n      <td>10</td>\n      <td>Lexus RX 400h</td>\n      <td>4.755</td>\n      <td>1.845</td>\n      <td>1.670</td>\n      <td>SUV</td>\n    </tr>\n    <tr>\n      <td>11</td>\n      <td>Volkswagen Tiguan</td>\n      <td>4.509</td>\n      <td>1.839</td>\n      <td>1.675</td>\n      <td>SUV</td>\n    </tr>\n    <tr>\n      <td>12</td>\n      <td>Audi SQ5</td>\n      <td>4.671</td>\n      <td>1.893</td>\n      <td>1.635</td>\n      <td>SUV</td>\n    </tr>\n  </tbody>\n</table>\n</div>"
     },
     "metadata": {},
     "execution_count": 3
    }
   ],
   "source": [
    "cars = pd.DataFrame({\"modelo\":modelo,\"largo_m\":largo_m,\"ancho_m\":ancho_m,\"alto_m\":alto_m,\"tipo\":tipo})\n",
    "cars"
   ]
  },
  {
   "cell_type": "code",
   "execution_count": 4,
   "metadata": {},
   "outputs": [],
   "source": [
    "# 2. Separa X e y del DataFrame"
   ]
  },
  {
   "cell_type": "code",
   "execution_count": 5,
   "metadata": {},
   "outputs": [],
   "source": [
    "cars['num_tipo'] = cars['tipo']\n",
    "cars['num_tipo'][cars['tipo'] == 'berlina'] = 1\n",
    "cars['num_tipo'][cars['tipo'] == 'SUV'] = 3\n",
    "cars['num_tipo'][cars['tipo'] == 'monovolumen'] = 2"
   ]
  },
  {
   "cell_type": "code",
   "execution_count": 6,
   "metadata": {},
   "outputs": [
    {
     "output_type": "execute_result",
     "data": {
      "text/plain": "                    modelo  largo_m  ancho_m  alto_m         tipo num_tipo\n0   BMW Serie 4 Gran Coupe    4.638    1.825   1.389      berlina        1\n1         Chevrolet Malibu    4.865    1.855   1.465      berlina        1\n2               Citroën C5    4.779    1.860   1.458      berlina        1\n3              Citroën DS5    4.530    1.871   1.513      berlina        1\n4              Peugeot 807    4.727    1.850   1.854  monovolumen        2\n5           Renault Espace    4.656    1.894   1.801  monovolumen        2\n6      Renault Gran Espace    4.856    1.894   1.819  monovolumen        2\n7            Seat Alhambra    4.858    1.904   1.720  monovolumen        2\n8          Subaru Forester    4.625    1.815   1.730          SUV        3\n9           Nissan Qashqai    4.394    1.806   1.590          SUV        3\n10           Lexus RX 400h    4.755    1.845   1.670          SUV        3\n11       Volkswagen Tiguan    4.509    1.839   1.675          SUV        3\n12                Audi SQ5    4.671    1.893   1.635          SUV        3",
      "text/html": "<div>\n<style scoped>\n    .dataframe tbody tr th:only-of-type {\n        vertical-align: middle;\n    }\n\n    .dataframe tbody tr th {\n        vertical-align: top;\n    }\n\n    .dataframe thead th {\n        text-align: right;\n    }\n</style>\n<table border=\"1\" class=\"dataframe\">\n  <thead>\n    <tr style=\"text-align: right;\">\n      <th></th>\n      <th>modelo</th>\n      <th>largo_m</th>\n      <th>ancho_m</th>\n      <th>alto_m</th>\n      <th>tipo</th>\n      <th>num_tipo</th>\n    </tr>\n  </thead>\n  <tbody>\n    <tr>\n      <td>0</td>\n      <td>BMW Serie 4 Gran Coupe</td>\n      <td>4.638</td>\n      <td>1.825</td>\n      <td>1.389</td>\n      <td>berlina</td>\n      <td>1</td>\n    </tr>\n    <tr>\n      <td>1</td>\n      <td>Chevrolet Malibu</td>\n      <td>4.865</td>\n      <td>1.855</td>\n      <td>1.465</td>\n      <td>berlina</td>\n      <td>1</td>\n    </tr>\n    <tr>\n      <td>2</td>\n      <td>Citroën C5</td>\n      <td>4.779</td>\n      <td>1.860</td>\n      <td>1.458</td>\n      <td>berlina</td>\n      <td>1</td>\n    </tr>\n    <tr>\n      <td>3</td>\n      <td>Citroën DS5</td>\n      <td>4.530</td>\n      <td>1.871</td>\n      <td>1.513</td>\n      <td>berlina</td>\n      <td>1</td>\n    </tr>\n    <tr>\n      <td>4</td>\n      <td>Peugeot 807</td>\n      <td>4.727</td>\n      <td>1.850</td>\n      <td>1.854</td>\n      <td>monovolumen</td>\n      <td>2</td>\n    </tr>\n    <tr>\n      <td>5</td>\n      <td>Renault Espace</td>\n      <td>4.656</td>\n      <td>1.894</td>\n      <td>1.801</td>\n      <td>monovolumen</td>\n      <td>2</td>\n    </tr>\n    <tr>\n      <td>6</td>\n      <td>Renault Gran Espace</td>\n      <td>4.856</td>\n      <td>1.894</td>\n      <td>1.819</td>\n      <td>monovolumen</td>\n      <td>2</td>\n    </tr>\n    <tr>\n      <td>7</td>\n      <td>Seat Alhambra</td>\n      <td>4.858</td>\n      <td>1.904</td>\n      <td>1.720</td>\n      <td>monovolumen</td>\n      <td>2</td>\n    </tr>\n    <tr>\n      <td>8</td>\n      <td>Subaru Forester</td>\n      <td>4.625</td>\n      <td>1.815</td>\n      <td>1.730</td>\n      <td>SUV</td>\n      <td>3</td>\n    </tr>\n    <tr>\n      <td>9</td>\n      <td>Nissan Qashqai</td>\n      <td>4.394</td>\n      <td>1.806</td>\n      <td>1.590</td>\n      <td>SUV</td>\n      <td>3</td>\n    </tr>\n    <tr>\n      <td>10</td>\n      <td>Lexus RX 400h</td>\n      <td>4.755</td>\n      <td>1.845</td>\n      <td>1.670</td>\n      <td>SUV</td>\n      <td>3</td>\n    </tr>\n    <tr>\n      <td>11</td>\n      <td>Volkswagen Tiguan</td>\n      <td>4.509</td>\n      <td>1.839</td>\n      <td>1.675</td>\n      <td>SUV</td>\n      <td>3</td>\n    </tr>\n    <tr>\n      <td>12</td>\n      <td>Audi SQ5</td>\n      <td>4.671</td>\n      <td>1.893</td>\n      <td>1.635</td>\n      <td>SUV</td>\n      <td>3</td>\n    </tr>\n  </tbody>\n</table>\n</div>"
     },
     "metadata": {},
     "execution_count": 6
    }
   ],
   "source": [
    "cars"
   ]
  },
  {
   "cell_type": "code",
   "execution_count": 25,
   "metadata": {},
   "outputs": [],
   "source": [
    "from sklearn.model_selection import train_test_split\n",
    "X_cars = cars[['largo_m','ancho_m','alto_m']].values\n",
    "y_cars = cars['num_tipo'].values\n",
    "\n",
    "X_train, X_test, y_train, y_test = train_test_split(X_cars,y_cars, test_size = 0.30, random_state= 123)"
   ]
  },
  {
   "cell_type": "code",
   "execution_count": 26,
   "metadata": {},
   "outputs": [],
   "source": [
    "# no importa que y sea una Serie"
   ]
  },
  {
   "cell_type": "code",
   "execution_count": 27,
   "metadata": {},
   "outputs": [],
   "source": [
    "# 3. Estandariza usando sklearn todas las columnas numéricas\n",
    "# Usa fit y luego transform\n",
    "# Comprueba que la media es nula y la varianza unitaria"
   ]
  },
  {
   "cell_type": "code",
   "execution_count": 29,
   "metadata": {},
   "outputs": [],
   "source": [
    "from sklearn import preprocessing\n",
    "#Estandarizamos las columnas de dimensiones\n",
    "std_scale = preprocessing.StandardScaler().fit(cars[[\"largo_m\",\t\"ancho_m\", \"alto_m\"]])\n",
    "#std_scale = preprocessing.StandardScaler().fit(X_cars) # no importa que y sea un DAtaFrame\n",
    "np_std = std_scale.transform(cars[[\"largo_m\",\"ancho_m\",\"alto_m\"]])"
   ]
  },
  {
   "cell_type": "code",
   "execution_count": 23,
   "metadata": {},
   "outputs": [
    {
     "output_type": "execute_result",
     "data": {
      "text/plain": "array([[-0.31346128, -1.06316099, -1.75487213],\n       [ 1.31224035, -0.08984459, -1.22335353],\n       [ 0.69633577,  0.07237481, -1.27230919],\n       [-1.08692284,  0.42925749, -0.88765757],\n       [ 0.32392835, -0.25206399,  1.49718244],\n       [-0.18455102,  1.17546673,  1.12651816],\n       [ 1.24778522,  1.17546673,  1.25240414],\n       [ 1.26210858,  1.49990553,  0.56003123],\n       [-0.40656313, -1.38759979,  0.62996789],\n       [-2.06091149, -1.67959471, -0.34914531],\n       [ 0.52445542, -0.41428339,  0.21034795],\n       [-1.23731815, -0.60894667,  0.24531628],\n       [-0.0771258 ,  1.14302285, -0.03443035]])"
     },
     "metadata": {},
     "execution_count": 23
    }
   ],
   "source": [
    "np_std"
   ]
  },
  {
   "cell_type": "code",
   "execution_count": 30,
   "metadata": {
    "tags": []
   },
   "outputs": [
    {
     "output_type": "stream",
     "name": "stdout",
     "text": "Media Largo = 0.0\nMedia ancho = -0.0\nMedia alto = -0.0\n"
    }
   ],
   "source": [
    "# Comprueba que la media es nula y la varianza unitaria\n",
    "print(\"Media Largo =\", str(np.round(np_std[:,0].mean(),6)))\n",
    "print(\"Media ancho =\", str(np.round(np_std[:,1].mean(),6)))\n",
    "print(\"Media alto =\", str(np.round(np_std[:,2].mean(),6)))"
   ]
  },
  {
   "cell_type": "code",
   "execution_count": 33,
   "metadata": {},
   "outputs": [
    {
     "output_type": "execute_result",
     "data": {
      "text/plain": "[2.4478282648706577e-15, -2.801178092900395e-15, -8.059792149923012e-16]"
     },
     "metadata": {},
     "execution_count": 33
    }
   ],
   "source": [
    "[x.mean() for x in np_std.T]"
   ]
  },
  {
   "cell_type": "code",
   "execution_count": 31,
   "metadata": {
    "tags": []
   },
   "outputs": [
    {
     "output_type": "stream",
     "name": "stdout",
     "text": "Varianza Largo = 1.0\nVarianza ancho = 1.0\nVarianza alto = 1.0\n"
    }
   ],
   "source": [
    "# Comprueba que la media es nula y la varianza unitaria\n",
    "print(\"Varianza Largo =\", str(np.round(np_std[:,0].var(),6)))\n",
    "print(\"Varianza ancho =\", str(np.round(np_std[:,1].var(),6)))\n",
    "print(\"Varianza alto =\", str(np.round(np_std[:,2].var(),6)))"
   ]
  },
  {
   "cell_type": "code",
   "execution_count": 34,
   "metadata": {},
   "outputs": [
    {
     "output_type": "execute_result",
     "data": {
      "text/plain": "[1.0, 1.0, 1.0]"
     },
     "metadata": {},
     "execution_count": 34
    }
   ],
   "source": [
    "[x.std() for x in np_std.T]"
   ]
  },
  {
   "cell_type": "code",
   "execution_count": 13,
   "metadata": {},
   "outputs": [],
   "source": [
    "# compruebo las desviaciones típicas"
   ]
  },
  {
   "cell_type": "code",
   "execution_count": 14,
   "metadata": {
    "tags": []
   },
   "outputs": [
    {
     "output_type": "stream",
     "name": "stdout",
     "text": "Desviación Largo = 1.0\nDesviación ancho = 1.0\nDesviación alto = 1.0\n"
    }
   ],
   "source": [
    "print(\"Desviación Largo =\", str(np.round(np_std[:,0].std(),6)))\n",
    "print(\"Desviación ancho =\", str(np.round(np_std[:,1].std(),6)))\n",
    "print(\"Desviación alto =\", str(np.round(np_std[:,2].std(),6)))"
   ]
  },
  {
   "cell_type": "code",
   "execution_count": 15,
   "metadata": {},
   "outputs": [],
   "source": [
    "# Ahora estandariza usando fit y transform en un solo paso"
   ]
  },
  {
   "cell_type": "code",
   "execution_count": 16,
   "metadata": {},
   "outputs": [],
   "source": [
    "# ¡encadenando los métodos!\n",
    "np_std = preprocessing.StandardScaler().fit_transform(cars[[\"largo_m\",\t\"ancho_m\", \"alto_m\"]])"
   ]
  },
  {
   "cell_type": "code",
   "execution_count": null,
   "metadata": {},
   "outputs": [],
   "source": []
  },
  {
   "cell_type": "code",
   "execution_count": 17,
   "metadata": {},
   "outputs": [],
   "source": [
    "# 4. Escalado minmax con fit y con transform\n",
    "# Comprueba los valores mínimos y máximos"
   ]
  },
  {
   "cell_type": "code",
   "execution_count": 18,
   "metadata": {},
   "outputs": [],
   "source": [
    "minmax_scale = preprocessing.MinMaxScaler().fit(cars[[\"largo_m\",\t\"ancho_m\", \"alto_m\"]])\n",
    "np_minmax = minmax_scale.transform(cars[[\"largo_m\",\"ancho_m\",\"alto_m\"]])"
   ]
  },
  {
   "cell_type": "code",
   "execution_count": 19,
   "metadata": {
    "tags": []
   },
   "outputs": [
    {
     "output_type": "stream",
     "name": "stdout",
     "text": "Min Largo = 0.0\nMin ancho = 0.0\nMin alto = 0.0\n"
    }
   ],
   "source": [
    "print(\"Min Largo =\", str(np.round(np_minmax[:,0].min(),6)))\n",
    "print(\"Min ancho =\", str(np.round(np_minmax[:,1].min(),6)))\n",
    "print(\"Min alto =\", str(np.round(np_minmax[:,2].min(),6)))"
   ]
  },
  {
   "cell_type": "code",
   "execution_count": 20,
   "metadata": {
    "tags": []
   },
   "outputs": [
    {
     "output_type": "stream",
     "name": "stdout",
     "text": "Max Largo = 1.0\nMax ancho = 1.0\nMax alto = 1.0\n"
    }
   ],
   "source": [
    "print(\"Max Largo =\", str(np.round(np_minmax[:,0].max(),6)))\n",
    "print(\"Max ancho =\", str(np.round(np_minmax[:,1].max(),6)))\n",
    "print(\"Max alto =\", str(np.round(np_minmax[:,2].max(),6)))"
   ]
  },
  {
   "cell_type": "code",
   "execution_count": 21,
   "metadata": {},
   "outputs": [],
   "source": [
    "# Ahora haz el escalado en un solo paso con fit y transform juntos"
   ]
  },
  {
   "cell_type": "code",
   "execution_count": 22,
   "metadata": {},
   "outputs": [],
   "source": [
    "np_minmax = preprocessing.MinMaxScaler().fit_transform(cars[[\"largo_m\",\t\"ancho_m\", \"alto_m\"]])"
   ]
  },
  {
   "cell_type": "code",
   "execution_count": 24,
   "metadata": {},
   "outputs": [
    {
     "output_type": "execute_result",
     "data": {
      "text/plain": "array([[0.51804671, 0.19387755, 0.        ],\n       [1.        , 0.5       , 0.16344086],\n       [0.81740977, 0.55102041, 0.1483871 ],\n       [0.28874735, 0.66326531, 0.26666667],\n       [0.70700637, 0.44897959, 1.        ],\n       [0.55626327, 0.89795918, 0.88602151],\n       [0.98089172, 0.89795918, 0.92473118],\n       [0.985138  , 1.        , 0.71182796],\n       [0.49044586, 0.09183673, 0.73333333],\n       [0.        , 0.        , 0.43225806],\n       [0.76645435, 0.39795918, 0.60430108],\n       [0.24416136, 0.33673469, 0.61505376],\n       [0.5881104 , 0.8877551 , 0.52903226]])"
     },
     "metadata": {},
     "execution_count": 24
    }
   ],
   "source": [
    "np_minmax"
   ]
  },
  {
   "cell_type": "markdown",
   "metadata": {},
   "source": [
    "¡Felicidades! Ya tienes las columnas numéricas listas para poder aplicar después modelos de ML basados en distancias\n",
    "Recuerda que también debes tratar datos nulos y outliers"
   ]
  }
 ],
 "metadata": {
  "kernelspec": {
   "display_name": "Python 3",
   "language": "python",
   "name": "python3"
  },
  "language_info": {
   "codemirror_mode": {
    "name": "ipython",
    "version": 3
   },
   "file_extension": ".py",
   "mimetype": "text/x-python",
   "name": "python",
   "nbconvert_exporter": "python",
   "pygments_lexer": "ipython3",
   "version": "3.7.4-final"
  }
 },
 "nbformat": 4,
 "nbformat_minor": 4
}