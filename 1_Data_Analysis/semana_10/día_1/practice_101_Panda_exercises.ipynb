{
 "metadata": {
  "language_info": {
   "codemirror_mode": {
    "name": "ipython",
    "version": 3
   },
   "file_extension": ".py",
   "mimetype": "text/x-python",
   "name": "python",
   "nbconvert_exporter": "python",
   "pygments_lexer": "ipython3",
   "version": "3.7.4-final"
  },
  "orig_nbformat": 2,
  "kernelspec": {
   "name": "python_defaultSpec_1600191685289",
   "display_name": "Python 3.7.4 64-bit ('base': conda)"
  }
 },
 "nbformat": 4,
 "nbformat_minor": 2,
 "cells": [
  {
   "source": [
    "## 101 Pandas Exercises for Data Analysis \n",
    "https://www.machinelearningplus.com/python/101-pandas-exercises-python/\n",
    "\n"
   ],
   "cell_type": "markdown",
   "metadata": {}
  },
  {
   "source": [
    "#### 1. How to import pandas and check the version?"
   ],
   "cell_type": "markdown",
   "metadata": {}
  },
  {
   "cell_type": "code",
   "execution_count": 1,
   "metadata": {},
   "outputs": [],
   "source": [
    "import pandas as pd \n",
    "import numpy as np "
   ]
  },
  {
   "cell_type": "code",
   "execution_count": 2,
   "metadata": {},
   "outputs": [
    {
     "output_type": "execute_result",
     "data": {
      "text/plain": "'0.25.1'"
     },
     "metadata": {},
     "execution_count": 2
    }
   ],
   "source": [
    "pd.__version__"
   ]
  },
  {
   "cell_type": "code",
   "execution_count": 5,
   "metadata": {
    "tags": []
   },
   "outputs": [
    {
     "output_type": "stream",
     "name": "stdout",
     "text": "{'system': {'commit': None, 'python': '3.7.4.final.0', 'python-bits': 64, 'OS': 'Windows', 'OS-release': '10', 'machine': 'AMD64', 'processor': 'Intel64 Family 6 Model 142 Stepping 10, GenuineIntel', 'byteorder': 'little', 'LC_ALL': 'None', 'LANG': 'None', 'LOCALE': 'None.None'}, 'dependencies': {'pandas': '0.25.1', 'numpy': '1.18.1', 'pytz': '2019.3', 'dateutil': '2.8.0', 'pip': '19.2.3', 'setuptools': '41.4.0', 'Cython': '0.29.13', 'pytest': '5.2.1', 'hypothesis': None, 'sphinx': '2.2.0', 'blosc': None, 'feather': None, 'xlsxwriter': '1.2.1', 'lxml.etree': '4.4.1', 'html5lib': '1.0.1', 'pymysql': None, 'psycopg2': None, 'jinja2': '2.10.3', 'IPython': '7.8.0', 'pandas_datareader': None, 'bs4': '4.8.0', 'bottleneck': '1.2.1', 'fastparquet': None, 'gcsfs': None, 'matplotlib': '3.1.1', 'numexpr': '2.7.0', 'odfpy': None, 'openpyxl': '3.0.0', 'pandas_gbq': None, 'pyarrow': None, 'pytables': None, 's3fs': None, 'scipy': '1.3.1', 'sqlalchemy': '1.3.9', 'tables': '3.5.2', 'xarray': None, 'xlrd': '1.2.0', 'xlwt': '1.3.0'}}\n"
    }
   ],
   "source": [
    "pd.show_versions(as_json=True)"
   ]
  },
  {
   "source": [
    "#### 2. How to create a series from a list, numpy array and dict?\n",
    "Create a pandas series from each of the items below: a list, numpy and a dictionary\n",
    "\n",
    "mylist = list('abcedfghijklmnopqrstuvwxyz')\n",
    "\n",
    "myarr = np.arange(26)\n",
    "\n",
    "mydict = dict(zip(mylist, myarr))"
   ],
   "cell_type": "markdown",
   "metadata": {}
  },
  {
   "cell_type": "code",
   "execution_count": 18,
   "metadata": {},
   "outputs": [],
   "source": [
    "mylist = list('abcedfghijklmnopqrstuvwxyz')\n",
    "myarr = np.arange(26)\n",
    "mydict = dict(zip(mylist, myarr))\n"
   ]
  },
  {
   "source": [
    "mylist = pd.Series(mylist)\n",
    "\n",
    "myarr = pd.Series(myarr)\n",
    "\n",
    "mydict = pd.Series(mydict)\n"
   ],
   "cell_type": "code",
   "metadata": {
    "tags": []
   },
   "execution_count": 20,
   "outputs": [
    {
     "output_type": "stream",
     "name": "stdout",
     "text": "0     a\n1     b\n2     c\n3     e\n4     d\n5     f\n6     g\n7     h\n8     i\n9     j\n10    k\n11    l\n12    m\n13    n\n14    o\n15    p\n16    q\n17    r\n18    s\n19    t\n20    u\n21    v\n22    w\n23    x\n24    y\n25    z\ndtype: object\n0      0\n1      1\n2      2\n3      3\n4      4\n5      5\n6      6\n7      7\n8      8\n9      9\n10    10\n11    11\n12    12\n13    13\n14    14\n15    15\n16    16\n17    17\n18    18\n19    19\n20    20\n21    21\n22    22\n23    23\n24    24\n25    25\ndtype: int32\na     0\nb     1\nc     2\ne     3\nd     4\nf     5\ng     6\nh     7\ni     8\nj     9\nk    10\nl    11\nm    12\nn    13\no    14\np    15\nq    16\nr    17\ns    18\nt    19\nu    20\nv    21\nw    22\nx    23\ny    24\nz    25\ndtype: int64\n"
    }
   ]
  },
  {
   "cell_type": "code",
   "execution_count": 21,
   "metadata": {
    "tags": []
   },
   "outputs": [
    {
     "output_type": "stream",
     "name": "stdout",
     "text": "0     a\n1     b\n2     c\n3     e\n4     d\n5     f\n6     g\n7     h\n8     i\n9     j\n10    k\n11    l\n12    m\n13    n\n14    o\n15    p\n16    q\n17    r\n18    s\n19    t\n20    u\n21    v\n22    w\n23    x\n24    y\n25    z\ndtype: object\n"
    }
   ],
   "source": [
    "print(mylist)"
   ]
  },
  {
   "cell_type": "code",
   "execution_count": 22,
   "metadata": {
    "tags": []
   },
   "outputs": [
    {
     "output_type": "stream",
     "name": "stdout",
     "text": "0      0\n1      1\n2      2\n3      3\n4      4\n5      5\n6      6\n7      7\n8      8\n9      9\n10    10\n11    11\n12    12\n13    13\n14    14\n15    15\n16    16\n17    17\n18    18\n19    19\n20    20\n21    21\n22    22\n23    23\n24    24\n25    25\ndtype: int32\n"
    }
   ],
   "source": [
    "print(myarr)"
   ]
  },
  {
   "cell_type": "code",
   "execution_count": 23,
   "metadata": {
    "tags": []
   },
   "outputs": [
    {
     "output_type": "stream",
     "name": "stdout",
     "text": "a     0\nb     1\nc     2\ne     3\nd     4\nf     5\ng     6\nh     7\ni     8\nj     9\nk    10\nl    11\nm    12\nn    13\no    14\np    15\nq    16\nr    17\ns    18\nt    19\nu    20\nv    21\nw    22\nx    23\ny    24\nz    25\ndtype: int64\n"
    }
   ],
   "source": [
    "print(mydict)"
   ]
  },
  {
   "source": [
    "#### 3. How to convert the index of a series into a column of a dataframe?\n",
    "\n",
    "Difficulty Level: L1\n",
    "\n",
    "Convert the series ser into a dataframe with its index as another column on the dataframe."
   ],
   "cell_type": "markdown",
   "metadata": {}
  },
  {
   "cell_type": "code",
   "execution_count": 24,
   "metadata": {},
   "outputs": [],
   "source": [
    "mylist = list('abcedfghijklmnopqrstuvwxyz')\n",
    "myarr = np.arange(26)\n",
    "mydict = dict(zip(mylist, myarr))\n",
    "ser = pd.Series(mydict)"
   ]
  },
  {
   "cell_type": "code",
   "execution_count": 31,
   "metadata": {},
   "outputs": [
    {
     "output_type": "execute_result",
     "data": {
      "text/plain": "   Col1  Col2\n0     a     0\n1     b     1\n2     c     2\n3     e     3\n4     d     4\n5     f     5\n6     g     6\n7     h     7\n8     i     8\n9     j     9\n10    k    10\n11    l    11\n12    m    12\n13    n    13\n14    o    14\n15    p    15\n16    q    16\n17    r    17\n18    s    18\n19    t    19\n20    u    20\n21    v    21\n22    w    22\n23    x    23\n24    y    24\n25    z    25",
      "text/html": "<div>\n<style scoped>\n    .dataframe tbody tr th:only-of-type {\n        vertical-align: middle;\n    }\n\n    .dataframe tbody tr th {\n        vertical-align: top;\n    }\n\n    .dataframe thead th {\n        text-align: right;\n    }\n</style>\n<table border=\"1\" class=\"dataframe\">\n  <thead>\n    <tr style=\"text-align: right;\">\n      <th></th>\n      <th>Col1</th>\n      <th>Col2</th>\n    </tr>\n  </thead>\n  <tbody>\n    <tr>\n      <td>0</td>\n      <td>a</td>\n      <td>0</td>\n    </tr>\n    <tr>\n      <td>1</td>\n      <td>b</td>\n      <td>1</td>\n    </tr>\n    <tr>\n      <td>2</td>\n      <td>c</td>\n      <td>2</td>\n    </tr>\n    <tr>\n      <td>3</td>\n      <td>e</td>\n      <td>3</td>\n    </tr>\n    <tr>\n      <td>4</td>\n      <td>d</td>\n      <td>4</td>\n    </tr>\n    <tr>\n      <td>5</td>\n      <td>f</td>\n      <td>5</td>\n    </tr>\n    <tr>\n      <td>6</td>\n      <td>g</td>\n      <td>6</td>\n    </tr>\n    <tr>\n      <td>7</td>\n      <td>h</td>\n      <td>7</td>\n    </tr>\n    <tr>\n      <td>8</td>\n      <td>i</td>\n      <td>8</td>\n    </tr>\n    <tr>\n      <td>9</td>\n      <td>j</td>\n      <td>9</td>\n    </tr>\n    <tr>\n      <td>10</td>\n      <td>k</td>\n      <td>10</td>\n    </tr>\n    <tr>\n      <td>11</td>\n      <td>l</td>\n      <td>11</td>\n    </tr>\n    <tr>\n      <td>12</td>\n      <td>m</td>\n      <td>12</td>\n    </tr>\n    <tr>\n      <td>13</td>\n      <td>n</td>\n      <td>13</td>\n    </tr>\n    <tr>\n      <td>14</td>\n      <td>o</td>\n      <td>14</td>\n    </tr>\n    <tr>\n      <td>15</td>\n      <td>p</td>\n      <td>15</td>\n    </tr>\n    <tr>\n      <td>16</td>\n      <td>q</td>\n      <td>16</td>\n    </tr>\n    <tr>\n      <td>17</td>\n      <td>r</td>\n      <td>17</td>\n    </tr>\n    <tr>\n      <td>18</td>\n      <td>s</td>\n      <td>18</td>\n    </tr>\n    <tr>\n      <td>19</td>\n      <td>t</td>\n      <td>19</td>\n    </tr>\n    <tr>\n      <td>20</td>\n      <td>u</td>\n      <td>20</td>\n    </tr>\n    <tr>\n      <td>21</td>\n      <td>v</td>\n      <td>21</td>\n    </tr>\n    <tr>\n      <td>22</td>\n      <td>w</td>\n      <td>22</td>\n    </tr>\n    <tr>\n      <td>23</td>\n      <td>x</td>\n      <td>23</td>\n    </tr>\n    <tr>\n      <td>24</td>\n      <td>y</td>\n      <td>24</td>\n    </tr>\n    <tr>\n      <td>25</td>\n      <td>z</td>\n      <td>25</td>\n    </tr>\n  </tbody>\n</table>\n</div>"
     },
     "metadata": {},
     "execution_count": 31
    }
   ],
   "source": [
    "ser\n",
    "df = pd.DataFrame({\"Col1\": ser.index, \"Col2\":ser.values}, index=ser)\n",
    "df"
   ]
  },
  {
   "cell_type": "code",
   "execution_count": 28,
   "metadata": {
    "tags": []
   },
   "outputs": [
    {
     "output_type": "stream",
     "name": "stdout",
     "text": "index  0\n0     a  0\n1     b  1\n2     c  2\n3     e  3\n4     d  4\n"
    }
   ],
   "source": [
    "# Solution \n",
    "df = ser.to_frame().reset_index()\n",
    "print(df.head())"
   ]
  },
  {
   "cell_type": "code",
   "execution_count": null,
   "metadata": {},
   "outputs": [],
   "source": []
  }
 ]
}