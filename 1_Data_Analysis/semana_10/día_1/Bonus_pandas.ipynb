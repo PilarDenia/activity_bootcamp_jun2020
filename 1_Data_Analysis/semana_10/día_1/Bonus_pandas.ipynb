{
 "cells": [
  {
   "cell_type": "code",
   "execution_count": 257,
   "metadata": {},
   "outputs": [],
   "source": [
    "# Bonus de Pandas\n"
   ]
  },
  {
   "cell_type": "code",
   "execution_count": 258,
   "metadata": {},
   "outputs": [],
   "source": [
    "# 1. importa pandas y numpy"
   ]
  },
  {
   "cell_type": "code",
   "execution_count": 2,
   "metadata": {},
   "outputs": [],
   "source": [
    "import pandas as pd \n",
    "import numpy as np "
   ]
  },
  {
   "cell_type": "code",
   "execution_count": 3,
   "metadata": {},
   "outputs": [],
   "source": [
    "# 2. Crea un DataFrame df con las columnas 'Col1': [1,2,3,4,5,6,7,8] y 'Col2': [-2,4,-6,8,1,2,3,4]"
   ]
  },
  {
   "cell_type": "code",
   "execution_count": 22,
   "metadata": {},
   "outputs": [
    {
     "output_type": "execute_result",
     "data": {
      "text/plain": "   Col1  Col2\n0     1    -2\n1     2     4\n2     3    -6\n3     4     8\n4     5     1\n5     6     2\n6     7     3\n7     8     4",
      "text/html": "<div>\n<style scoped>\n    .dataframe tbody tr th:only-of-type {\n        vertical-align: middle;\n    }\n\n    .dataframe tbody tr th {\n        vertical-align: top;\n    }\n\n    .dataframe thead th {\n        text-align: right;\n    }\n</style>\n<table border=\"1\" class=\"dataframe\">\n  <thead>\n    <tr style=\"text-align: right;\">\n      <th></th>\n      <th>Col1</th>\n      <th>Col2</th>\n    </tr>\n  </thead>\n  <tbody>\n    <tr>\n      <td>0</td>\n      <td>1</td>\n      <td>-2</td>\n    </tr>\n    <tr>\n      <td>1</td>\n      <td>2</td>\n      <td>4</td>\n    </tr>\n    <tr>\n      <td>2</td>\n      <td>3</td>\n      <td>-6</td>\n    </tr>\n    <tr>\n      <td>3</td>\n      <td>4</td>\n      <td>8</td>\n    </tr>\n    <tr>\n      <td>4</td>\n      <td>5</td>\n      <td>1</td>\n    </tr>\n    <tr>\n      <td>5</td>\n      <td>6</td>\n      <td>2</td>\n    </tr>\n    <tr>\n      <td>6</td>\n      <td>7</td>\n      <td>3</td>\n    </tr>\n    <tr>\n      <td>7</td>\n      <td>8</td>\n      <td>4</td>\n    </tr>\n  </tbody>\n</table>\n</div>"
     },
     "metadata": {},
     "execution_count": 22
    }
   ],
   "source": [
    "df = pd.DataFrame({'Col1': [1,2,3,4,5,6,7,8] ,'Col2': [-2,4,-6,8,1,2,3,4]})\n",
    "df"
   ]
  },
  {
   "cell_type": "code",
   "execution_count": 260,
   "metadata": {},
   "outputs": [],
   "source": [
    "# 3. añade una columna 'Col3' con [8,7,6,5,4,5,2,3]"
   ]
  },
  {
   "cell_type": "code",
   "execution_count": 23,
   "metadata": {},
   "outputs": [],
   "source": [
    "df['Col3'] =  [8,7,6,5,4,5,2,3]"
   ]
  },
  {
   "cell_type": "code",
   "execution_count": 8,
   "metadata": {},
   "outputs": [
    {
     "output_type": "execute_result",
     "data": {
      "text/plain": "   Col1  Col2  Col3\n0     1    -2     8\n1     2     4     7\n2     3    -6     6\n3     4     8     5\n4     5     1     4\n5     6     2     5\n6     7     3     2\n7     8     4     3",
      "text/html": "<div>\n<style scoped>\n    .dataframe tbody tr th:only-of-type {\n        vertical-align: middle;\n    }\n\n    .dataframe tbody tr th {\n        vertical-align: top;\n    }\n\n    .dataframe thead th {\n        text-align: right;\n    }\n</style>\n<table border=\"1\" class=\"dataframe\">\n  <thead>\n    <tr style=\"text-align: right;\">\n      <th></th>\n      <th>Col1</th>\n      <th>Col2</th>\n      <th>Col3</th>\n    </tr>\n  </thead>\n  <tbody>\n    <tr>\n      <td>0</td>\n      <td>1</td>\n      <td>-2</td>\n      <td>8</td>\n    </tr>\n    <tr>\n      <td>1</td>\n      <td>2</td>\n      <td>4</td>\n      <td>7</td>\n    </tr>\n    <tr>\n      <td>2</td>\n      <td>3</td>\n      <td>-6</td>\n      <td>6</td>\n    </tr>\n    <tr>\n      <td>3</td>\n      <td>4</td>\n      <td>8</td>\n      <td>5</td>\n    </tr>\n    <tr>\n      <td>4</td>\n      <td>5</td>\n      <td>1</td>\n      <td>4</td>\n    </tr>\n    <tr>\n      <td>5</td>\n      <td>6</td>\n      <td>2</td>\n      <td>5</td>\n    </tr>\n    <tr>\n      <td>6</td>\n      <td>7</td>\n      <td>3</td>\n      <td>2</td>\n    </tr>\n    <tr>\n      <td>7</td>\n      <td>8</td>\n      <td>4</td>\n      <td>3</td>\n    </tr>\n  </tbody>\n</table>\n</div>"
     },
     "metadata": {},
     "execution_count": 8
    }
   ],
   "source": [
    "df"
   ]
  },
  {
   "cell_type": "code",
   "execution_count": 261,
   "metadata": {},
   "outputs": [],
   "source": [
    "# 4. Selecciona solo 'Col2', ¿de qué tipo es?"
   ]
  },
  {
   "cell_type": "code",
   "execution_count": 9,
   "metadata": {},
   "outputs": [
    {
     "output_type": "execute_result",
     "data": {
      "text/plain": "pandas.core.series.Series"
     },
     "metadata": {},
     "execution_count": 9
    }
   ],
   "source": [
    "type(df['Col2'])"
   ]
  },
  {
   "cell_type": "code",
   "execution_count": 262,
   "metadata": {},
   "outputs": [],
   "source": [
    "# 5. Selecciona 'Col1' y 'Col3'"
   ]
  },
  {
   "cell_type": "code",
   "execution_count": 10,
   "metadata": {},
   "outputs": [
    {
     "output_type": "execute_result",
     "data": {
      "text/plain": "   Col1  Col3\n0     1     8\n1     2     7\n2     3     6\n3     4     5\n4     5     4\n5     6     5\n6     7     2\n7     8     3",
      "text/html": "<div>\n<style scoped>\n    .dataframe tbody tr th:only-of-type {\n        vertical-align: middle;\n    }\n\n    .dataframe tbody tr th {\n        vertical-align: top;\n    }\n\n    .dataframe thead th {\n        text-align: right;\n    }\n</style>\n<table border=\"1\" class=\"dataframe\">\n  <thead>\n    <tr style=\"text-align: right;\">\n      <th></th>\n      <th>Col1</th>\n      <th>Col3</th>\n    </tr>\n  </thead>\n  <tbody>\n    <tr>\n      <td>0</td>\n      <td>1</td>\n      <td>8</td>\n    </tr>\n    <tr>\n      <td>1</td>\n      <td>2</td>\n      <td>7</td>\n    </tr>\n    <tr>\n      <td>2</td>\n      <td>3</td>\n      <td>6</td>\n    </tr>\n    <tr>\n      <td>3</td>\n      <td>4</td>\n      <td>5</td>\n    </tr>\n    <tr>\n      <td>4</td>\n      <td>5</td>\n      <td>4</td>\n    </tr>\n    <tr>\n      <td>5</td>\n      <td>6</td>\n      <td>5</td>\n    </tr>\n    <tr>\n      <td>6</td>\n      <td>7</td>\n      <td>2</td>\n    </tr>\n    <tr>\n      <td>7</td>\n      <td>8</td>\n      <td>3</td>\n    </tr>\n  </tbody>\n</table>\n</div>"
     },
     "metadata": {},
     "execution_count": 10
    }
   ],
   "source": [
    "df[['Col1','Col3']]"
   ]
  },
  {
   "cell_type": "code",
   "execution_count": null,
   "metadata": {},
   "outputs": [],
   "source": []
  },
  {
   "cell_type": "code",
   "execution_count": 263,
   "metadata": {},
   "outputs": [],
   "source": [
    "# 6. Selecciona todas las filas donde Col1 sea mayor de 2 y Col3 mayor de 2 también"
   ]
  },
  {
   "cell_type": "code",
   "execution_count": 24,
   "metadata": {},
   "outputs": [
    {
     "output_type": "execute_result",
     "data": {
      "text/plain": "0    False\n1    False\n2     True\n3     True\n4     True\n5     True\n6    False\n7     True\ndtype: bool"
     },
     "metadata": {},
     "execution_count": 24
    }
   ],
   "source": [
    "mask = (df['Col1'] > 2) & (df['Col3'] > 2)\n",
    "mask"
   ]
  },
  {
   "cell_type": "code",
   "execution_count": 25,
   "metadata": {},
   "outputs": [
    {
     "output_type": "execute_result",
     "data": {
      "text/plain": "   Col1  Col2  Col3\n2     3    -6     6\n3     4     8     5\n4     5     1     4\n5     6     2     5\n7     8     4     3",
      "text/html": "<div>\n<style scoped>\n    .dataframe tbody tr th:only-of-type {\n        vertical-align: middle;\n    }\n\n    .dataframe tbody tr th {\n        vertical-align: top;\n    }\n\n    .dataframe thead th {\n        text-align: right;\n    }\n</style>\n<table border=\"1\" class=\"dataframe\">\n  <thead>\n    <tr style=\"text-align: right;\">\n      <th></th>\n      <th>Col1</th>\n      <th>Col2</th>\n      <th>Col3</th>\n    </tr>\n  </thead>\n  <tbody>\n    <tr>\n      <td>2</td>\n      <td>3</td>\n      <td>-6</td>\n      <td>6</td>\n    </tr>\n    <tr>\n      <td>3</td>\n      <td>4</td>\n      <td>8</td>\n      <td>5</td>\n    </tr>\n    <tr>\n      <td>4</td>\n      <td>5</td>\n      <td>1</td>\n      <td>4</td>\n    </tr>\n    <tr>\n      <td>5</td>\n      <td>6</td>\n      <td>2</td>\n      <td>5</td>\n    </tr>\n    <tr>\n      <td>7</td>\n      <td>8</td>\n      <td>4</td>\n      <td>3</td>\n    </tr>\n  </tbody>\n</table>\n</div>"
     },
     "metadata": {},
     "execution_count": 25
    }
   ],
   "source": [
    "df[mask]"
   ]
  },
  {
   "cell_type": "code",
   "execution_count": 264,
   "metadata": {},
   "outputs": [],
   "source": [
    "# 7. Selecciona las filas donde 'Col1' es >2 y 'Col3' > 2 y asígnalo a la variable df_mayor_de_dos"
   ]
  },
  {
   "cell_type": "code",
   "execution_count": 26,
   "metadata": {},
   "outputs": [
    {
     "output_type": "execute_result",
     "data": {
      "text/plain": "   Col1  Col2  Col3\n2     3    -6     6\n3     4     8     5\n4     5     1     4\n5     6     2     5\n7     8     4     3",
      "text/html": "<div>\n<style scoped>\n    .dataframe tbody tr th:only-of-type {\n        vertical-align: middle;\n    }\n\n    .dataframe tbody tr th {\n        vertical-align: top;\n    }\n\n    .dataframe thead th {\n        text-align: right;\n    }\n</style>\n<table border=\"1\" class=\"dataframe\">\n  <thead>\n    <tr style=\"text-align: right;\">\n      <th></th>\n      <th>Col1</th>\n      <th>Col2</th>\n      <th>Col3</th>\n    </tr>\n  </thead>\n  <tbody>\n    <tr>\n      <td>2</td>\n      <td>3</td>\n      <td>-6</td>\n      <td>6</td>\n    </tr>\n    <tr>\n      <td>3</td>\n      <td>4</td>\n      <td>8</td>\n      <td>5</td>\n    </tr>\n    <tr>\n      <td>4</td>\n      <td>5</td>\n      <td>1</td>\n      <td>4</td>\n    </tr>\n    <tr>\n      <td>5</td>\n      <td>6</td>\n      <td>2</td>\n      <td>5</td>\n    </tr>\n    <tr>\n      <td>7</td>\n      <td>8</td>\n      <td>4</td>\n      <td>3</td>\n    </tr>\n  </tbody>\n</table>\n</div>"
     },
     "metadata": {},
     "execution_count": 26
    }
   ],
   "source": [
    "df_mayor_de_dos = df[mask]\n",
    "df_mayor_de_dos"
   ]
  },
  {
   "cell_type": "code",
   "execution_count": 265,
   "metadata": {},
   "outputs": [],
   "source": [
    "# 8. Si seleccionamos parte o un DataFrame entero y lo asignamos a otra variable, son dos variables que apuntan al mismo objeto\n",
    "# Ejemplo: df_mayor_de_dos apunta a un trozo de df. Si cambio cualquier elemento en df o en df_mayor_de_dos, se cambia en todos\n",
    "# Cambia df.iloc[1,0] = 100\n",
    "# iloc selecciona la fila 1 y la columna 0 del DaaFrame"
   ]
  },
  {
   "cell_type": "code",
   "execution_count": 27,
   "metadata": {},
   "outputs": [
    {
     "output_type": "execute_result",
     "data": {
      "text/plain": "   Col1  Col2  Col3\n0     1    -2     8\n1   100     4     7\n2     3    -6     6\n3     4     8     5\n4     5     1     4\n5     6     2     5\n6     7     3     2\n7     8     4     3",
      "text/html": "<div>\n<style scoped>\n    .dataframe tbody tr th:only-of-type {\n        vertical-align: middle;\n    }\n\n    .dataframe tbody tr th {\n        vertical-align: top;\n    }\n\n    .dataframe thead th {\n        text-align: right;\n    }\n</style>\n<table border=\"1\" class=\"dataframe\">\n  <thead>\n    <tr style=\"text-align: right;\">\n      <th></th>\n      <th>Col1</th>\n      <th>Col2</th>\n      <th>Col3</th>\n    </tr>\n  </thead>\n  <tbody>\n    <tr>\n      <td>0</td>\n      <td>1</td>\n      <td>-2</td>\n      <td>8</td>\n    </tr>\n    <tr>\n      <td>1</td>\n      <td>100</td>\n      <td>4</td>\n      <td>7</td>\n    </tr>\n    <tr>\n      <td>2</td>\n      <td>3</td>\n      <td>-6</td>\n      <td>6</td>\n    </tr>\n    <tr>\n      <td>3</td>\n      <td>4</td>\n      <td>8</td>\n      <td>5</td>\n    </tr>\n    <tr>\n      <td>4</td>\n      <td>5</td>\n      <td>1</td>\n      <td>4</td>\n    </tr>\n    <tr>\n      <td>5</td>\n      <td>6</td>\n      <td>2</td>\n      <td>5</td>\n    </tr>\n    <tr>\n      <td>6</td>\n      <td>7</td>\n      <td>3</td>\n      <td>2</td>\n    </tr>\n    <tr>\n      <td>7</td>\n      <td>8</td>\n      <td>4</td>\n      <td>3</td>\n    </tr>\n  </tbody>\n</table>\n</div>"
     },
     "metadata": {},
     "execution_count": 27
    }
   ],
   "source": [
    "df.iloc[1,0] = 100\n",
    "df"
   ]
  },
  {
   "cell_type": "code",
   "execution_count": 17,
   "metadata": {},
   "outputs": [
    {
     "output_type": "execute_result",
     "data": {
      "text/plain": "   Col1  Col2  Col3\n2     3    -6     6\n3     4     8     5\n4     5     1     4\n5     6     2     5\n7     8     4     3",
      "text/html": "<div>\n<style scoped>\n    .dataframe tbody tr th:only-of-type {\n        vertical-align: middle;\n    }\n\n    .dataframe tbody tr th {\n        vertical-align: top;\n    }\n\n    .dataframe thead th {\n        text-align: right;\n    }\n</style>\n<table border=\"1\" class=\"dataframe\">\n  <thead>\n    <tr style=\"text-align: right;\">\n      <th></th>\n      <th>Col1</th>\n      <th>Col2</th>\n      <th>Col3</th>\n    </tr>\n  </thead>\n  <tbody>\n    <tr>\n      <td>2</td>\n      <td>3</td>\n      <td>-6</td>\n      <td>6</td>\n    </tr>\n    <tr>\n      <td>3</td>\n      <td>4</td>\n      <td>8</td>\n      <td>5</td>\n    </tr>\n    <tr>\n      <td>4</td>\n      <td>5</td>\n      <td>1</td>\n      <td>4</td>\n    </tr>\n    <tr>\n      <td>5</td>\n      <td>6</td>\n      <td>2</td>\n      <td>5</td>\n    </tr>\n    <tr>\n      <td>7</td>\n      <td>8</td>\n      <td>4</td>\n      <td>3</td>\n    </tr>\n  </tbody>\n</table>\n</div>"
     },
     "metadata": {},
     "execution_count": 17
    }
   ],
   "source": [
    "df_mayor_de_dos"
   ]
  },
  {
   "cell_type": "code",
   "execution_count": 266,
   "metadata": {},
   "outputs": [],
   "source": [
    "# 9. Si quieres poner en una variable un DataFrame DISTINTO y no un \"enlace\" a otro, hay que usar copy()"
   ]
  },
  {
   "cell_type": "code",
   "execution_count": 28,
   "metadata": {},
   "outputs": [
    {
     "output_type": "execute_result",
     "data": {
      "text/plain": "   Col1  Col2  Col3\n0     1    -2     8\n1   100     4     7\n2     3    -6     6\n3     4     8     5\n4     5     1     4\n5     6     2     5\n6     7     3     2\n7     8     4     3",
      "text/html": "<div>\n<style scoped>\n    .dataframe tbody tr th:only-of-type {\n        vertical-align: middle;\n    }\n\n    .dataframe tbody tr th {\n        vertical-align: top;\n    }\n\n    .dataframe thead th {\n        text-align: right;\n    }\n</style>\n<table border=\"1\" class=\"dataframe\">\n  <thead>\n    <tr style=\"text-align: right;\">\n      <th></th>\n      <th>Col1</th>\n      <th>Col2</th>\n      <th>Col3</th>\n    </tr>\n  </thead>\n  <tbody>\n    <tr>\n      <td>0</td>\n      <td>1</td>\n      <td>-2</td>\n      <td>8</td>\n    </tr>\n    <tr>\n      <td>1</td>\n      <td>100</td>\n      <td>4</td>\n      <td>7</td>\n    </tr>\n    <tr>\n      <td>2</td>\n      <td>3</td>\n      <td>-6</td>\n      <td>6</td>\n    </tr>\n    <tr>\n      <td>3</td>\n      <td>4</td>\n      <td>8</td>\n      <td>5</td>\n    </tr>\n    <tr>\n      <td>4</td>\n      <td>5</td>\n      <td>1</td>\n      <td>4</td>\n    </tr>\n    <tr>\n      <td>5</td>\n      <td>6</td>\n      <td>2</td>\n      <td>5</td>\n    </tr>\n    <tr>\n      <td>6</td>\n      <td>7</td>\n      <td>3</td>\n      <td>2</td>\n    </tr>\n    <tr>\n      <td>7</td>\n      <td>8</td>\n      <td>4</td>\n      <td>3</td>\n    </tr>\n  </tbody>\n</table>\n</div>"
     },
     "metadata": {},
     "execution_count": 28
    }
   ],
   "source": [
    "df_distinto = df.copy()\n",
    "df_distinto"
   ]
  },
  {
   "cell_type": "code",
   "execution_count": 267,
   "metadata": {},
   "outputs": [],
   "source": [
    "# ahora si cambio después df, no afectará a df_distinto"
   ]
  },
  {
   "cell_type": "code",
   "execution_count": 29,
   "metadata": {},
   "outputs": [
    {
     "output_type": "execute_result",
     "data": {
      "text/plain": "   Col1  Col2  Col3\n0     1    -2     8\n1   100     4     7\n2   200    -6     6\n3     4     8     5\n4     5     1     4\n5     6     2     5\n6     7     3     2\n7     8     4     3",
      "text/html": "<div>\n<style scoped>\n    .dataframe tbody tr th:only-of-type {\n        vertical-align: middle;\n    }\n\n    .dataframe tbody tr th {\n        vertical-align: top;\n    }\n\n    .dataframe thead th {\n        text-align: right;\n    }\n</style>\n<table border=\"1\" class=\"dataframe\">\n  <thead>\n    <tr style=\"text-align: right;\">\n      <th></th>\n      <th>Col1</th>\n      <th>Col2</th>\n      <th>Col3</th>\n    </tr>\n  </thead>\n  <tbody>\n    <tr>\n      <td>0</td>\n      <td>1</td>\n      <td>-2</td>\n      <td>8</td>\n    </tr>\n    <tr>\n      <td>1</td>\n      <td>100</td>\n      <td>4</td>\n      <td>7</td>\n    </tr>\n    <tr>\n      <td>2</td>\n      <td>200</td>\n      <td>-6</td>\n      <td>6</td>\n    </tr>\n    <tr>\n      <td>3</td>\n      <td>4</td>\n      <td>8</td>\n      <td>5</td>\n    </tr>\n    <tr>\n      <td>4</td>\n      <td>5</td>\n      <td>1</td>\n      <td>4</td>\n    </tr>\n    <tr>\n      <td>5</td>\n      <td>6</td>\n      <td>2</td>\n      <td>5</td>\n    </tr>\n    <tr>\n      <td>6</td>\n      <td>7</td>\n      <td>3</td>\n      <td>2</td>\n    </tr>\n    <tr>\n      <td>7</td>\n      <td>8</td>\n      <td>4</td>\n      <td>3</td>\n    </tr>\n  </tbody>\n</table>\n</div>"
     },
     "metadata": {},
     "execution_count": 29
    }
   ],
   "source": [
    "df.iloc[2,0] = 200\n",
    "df"
   ]
  },
  {
   "cell_type": "code",
   "execution_count": 30,
   "metadata": {},
   "outputs": [
    {
     "output_type": "execute_result",
     "data": {
      "text/plain": "    Col1  Col2  Col3\n0   True  True  True\n1   True  True  True\n2  False  True  True\n3   True  True  True\n4   True  True  True\n5   True  True  True\n6   True  True  True\n7   True  True  True",
      "text/html": "<div>\n<style scoped>\n    .dataframe tbody tr th:only-of-type {\n        vertical-align: middle;\n    }\n\n    .dataframe tbody tr th {\n        vertical-align: top;\n    }\n\n    .dataframe thead th {\n        text-align: right;\n    }\n</style>\n<table border=\"1\" class=\"dataframe\">\n  <thead>\n    <tr style=\"text-align: right;\">\n      <th></th>\n      <th>Col1</th>\n      <th>Col2</th>\n      <th>Col3</th>\n    </tr>\n  </thead>\n  <tbody>\n    <tr>\n      <td>0</td>\n      <td>True</td>\n      <td>True</td>\n      <td>True</td>\n    </tr>\n    <tr>\n      <td>1</td>\n      <td>True</td>\n      <td>True</td>\n      <td>True</td>\n    </tr>\n    <tr>\n      <td>2</td>\n      <td>False</td>\n      <td>True</td>\n      <td>True</td>\n    </tr>\n    <tr>\n      <td>3</td>\n      <td>True</td>\n      <td>True</td>\n      <td>True</td>\n    </tr>\n    <tr>\n      <td>4</td>\n      <td>True</td>\n      <td>True</td>\n      <td>True</td>\n    </tr>\n    <tr>\n      <td>5</td>\n      <td>True</td>\n      <td>True</td>\n      <td>True</td>\n    </tr>\n    <tr>\n      <td>6</td>\n      <td>True</td>\n      <td>True</td>\n      <td>True</td>\n    </tr>\n    <tr>\n      <td>7</td>\n      <td>True</td>\n      <td>True</td>\n      <td>True</td>\n    </tr>\n  </tbody>\n</table>\n</div>"
     },
     "metadata": {},
     "execution_count": 30
    }
   ],
   "source": [
    "df_distinto == df"
   ]
  },
  {
   "cell_type": "code",
   "execution_count": 31,
   "metadata": {},
   "outputs": [
    {
     "output_type": "execute_result",
     "data": {
      "text/plain": "   Col1  Col2  Col3\n0     1    -2     8\n1   100     4     7\n2     3    -6     6\n3     4     8     5\n4     5     1     4\n5     6     2     5\n6     7     3     2\n7     8     4     3",
      "text/html": "<div>\n<style scoped>\n    .dataframe tbody tr th:only-of-type {\n        vertical-align: middle;\n    }\n\n    .dataframe tbody tr th {\n        vertical-align: top;\n    }\n\n    .dataframe thead th {\n        text-align: right;\n    }\n</style>\n<table border=\"1\" class=\"dataframe\">\n  <thead>\n    <tr style=\"text-align: right;\">\n      <th></th>\n      <th>Col1</th>\n      <th>Col2</th>\n      <th>Col3</th>\n    </tr>\n  </thead>\n  <tbody>\n    <tr>\n      <td>0</td>\n      <td>1</td>\n      <td>-2</td>\n      <td>8</td>\n    </tr>\n    <tr>\n      <td>1</td>\n      <td>100</td>\n      <td>4</td>\n      <td>7</td>\n    </tr>\n    <tr>\n      <td>2</td>\n      <td>3</td>\n      <td>-6</td>\n      <td>6</td>\n    </tr>\n    <tr>\n      <td>3</td>\n      <td>4</td>\n      <td>8</td>\n      <td>5</td>\n    </tr>\n    <tr>\n      <td>4</td>\n      <td>5</td>\n      <td>1</td>\n      <td>4</td>\n    </tr>\n    <tr>\n      <td>5</td>\n      <td>6</td>\n      <td>2</td>\n      <td>5</td>\n    </tr>\n    <tr>\n      <td>6</td>\n      <td>7</td>\n      <td>3</td>\n      <td>2</td>\n    </tr>\n    <tr>\n      <td>7</td>\n      <td>8</td>\n      <td>4</td>\n      <td>3</td>\n    </tr>\n  </tbody>\n</table>\n</div>"
     },
     "metadata": {},
     "execution_count": 31
    }
   ],
   "source": [
    "df_distinto"
   ]
  },
  {
   "cell_type": "code",
   "execution_count": null,
   "metadata": {},
   "outputs": [],
   "source": []
  },
  {
   "cell_type": "code",
   "execution_count": 268,
   "metadata": {},
   "outputs": [],
   "source": [
    "# 10. Vamos a afianzar LOC e ILOC"
   ]
  },
  {
   "cell_type": "code",
   "execution_count": 269,
   "metadata": {},
   "outputs": [],
   "source": [
    "# En numpy se accede a las filas y columnas directamente"
   ]
  },
  {
   "cell_type": "code",
   "execution_count": 32,
   "metadata": {},
   "outputs": [
    {
     "output_type": "execute_result",
     "data": {
      "text/plain": "array([[ 1,  2,  3],\n       [ 4,  5,  6],\n       [ 7,  8,  9],\n       [10, 11, 12],\n       [13, 14, 15]])"
     },
     "metadata": {},
     "execution_count": 32
    }
   ],
   "source": [
    "np_array = np.array([[1,2,3],[4,5,6],[7,8,9],[10,11,12],[13,14,15]])\n",
    "np_array"
   ]
  },
  {
   "cell_type": "code",
   "execution_count": 35,
   "metadata": {},
   "outputs": [
    {
     "output_type": "execute_result",
     "data": {
      "text/plain": "5"
     },
     "metadata": {},
     "execution_count": 35
    }
   ],
   "source": [
    "# seleccionamos la fila 2 y la columna 2\n",
    "np_array[2,2]\n",
    "np_array[1,1]"
   ]
  },
  {
   "cell_type": "code",
   "execution_count": 271,
   "metadata": {},
   "outputs": [],
   "source": [
    "# En un DataFrame tenemos índices (filas) y columnas\n",
    "# En un DataFrame usamos SIEMPRE loc o iloc para acceder a las filas y columas"
   ]
  },
  {
   "cell_type": "code",
   "execution_count": 272,
   "metadata": {},
   "outputs": [],
   "source": [
    "# 11. ILOC es con i de integer, usa NÚMEROS. df.iloc[número_de_fila, número_de_columna]\n",
    "# En iloc se ponen NÚMEROS, y si se puede, se cogen esas filas y columnas"
   ]
  },
  {
   "cell_type": "code",
   "execution_count": 36,
   "metadata": {},
   "outputs": [
    {
     "output_type": "execute_result",
     "data": {
      "text/plain": "   Col1  Col2  Col3\n2     3    -6     6\n3     4     8     5\n4     5     1     4\n5     6     2     5\n7     8     4     3",
      "text/html": "<div>\n<style scoped>\n    .dataframe tbody tr th:only-of-type {\n        vertical-align: middle;\n    }\n\n    .dataframe tbody tr th {\n        vertical-align: top;\n    }\n\n    .dataframe thead th {\n        text-align: right;\n    }\n</style>\n<table border=\"1\" class=\"dataframe\">\n  <thead>\n    <tr style=\"text-align: right;\">\n      <th></th>\n      <th>Col1</th>\n      <th>Col2</th>\n      <th>Col3</th>\n    </tr>\n  </thead>\n  <tbody>\n    <tr>\n      <td>2</td>\n      <td>3</td>\n      <td>-6</td>\n      <td>6</td>\n    </tr>\n    <tr>\n      <td>3</td>\n      <td>4</td>\n      <td>8</td>\n      <td>5</td>\n    </tr>\n    <tr>\n      <td>4</td>\n      <td>5</td>\n      <td>1</td>\n      <td>4</td>\n    </tr>\n    <tr>\n      <td>5</td>\n      <td>6</td>\n      <td>2</td>\n      <td>5</td>\n    </tr>\n    <tr>\n      <td>7</td>\n      <td>8</td>\n      <td>4</td>\n      <td>3</td>\n    </tr>\n  </tbody>\n</table>\n</div>"
     },
     "metadata": {},
     "execution_count": 36
    }
   ],
   "source": [
    "df_mayor_de_dos"
   ]
  },
  {
   "cell_type": "code",
   "execution_count": 273,
   "metadata": {},
   "outputs": [],
   "source": [
    "# Usando df_mayor_de_dos selecciona las tres primeras filas y las columnas segunda, tercera, cuarta y quinta\n",
    "# los números para filas/columnas empiezan en 0 y es primero_que_coges:primero_que_NO_coges"
   ]
  },
  {
   "cell_type": "code",
   "execution_count": 43,
   "metadata": {},
   "outputs": [
    {
     "output_type": "execute_result",
     "data": {
      "text/plain": "   Col2  Col3\n2    -6     6\n3     8     5\n4     1     4",
      "text/html": "<div>\n<style scoped>\n    .dataframe tbody tr th:only-of-type {\n        vertical-align: middle;\n    }\n\n    .dataframe tbody tr th {\n        vertical-align: top;\n    }\n\n    .dataframe thead th {\n        text-align: right;\n    }\n</style>\n<table border=\"1\" class=\"dataframe\">\n  <thead>\n    <tr style=\"text-align: right;\">\n      <th></th>\n      <th>Col2</th>\n      <th>Col3</th>\n    </tr>\n  </thead>\n  <tbody>\n    <tr>\n      <td>2</td>\n      <td>-6</td>\n      <td>6</td>\n    </tr>\n    <tr>\n      <td>3</td>\n      <td>8</td>\n      <td>5</td>\n    </tr>\n    <tr>\n      <td>4</td>\n      <td>1</td>\n      <td>4</td>\n    </tr>\n  </tbody>\n</table>\n</div>"
     },
     "metadata": {},
     "execution_count": 43
    }
   ],
   "source": [
    "df_mayor_de_dos.iloc[0:3,1:5]"
   ]
  },
  {
   "cell_type": "code",
   "execution_count": 274,
   "metadata": {},
   "outputs": [],
   "source": [
    "# vemos que los números de ILOC es nuestra cuenta en el DataFrame, NO SON ni los índices ni las columnas.\n",
    "# Ejemplo: si una columna se llama '7', NO tiene que ver con nuestra cuenta. Una columna llamada '7' puede ser la primera columna\n",
    "# y una fila con índice '8' puede ser mi primera fila del DataFrame. ¡ES MUY IMPORTANTE!"
   ]
  },
  {
   "cell_type": "code",
   "execution_count": 275,
   "metadata": {},
   "outputs": [],
   "source": [
    "# LOC nos sirve para seleccionar filas/columnas con SU NOMBRE de índice y de columna\n",
    "# "
   ]
  },
  {
   "cell_type": "code",
   "execution_count": 39,
   "metadata": {},
   "outputs": [
    {
     "output_type": "execute_result",
     "data": {
      "text/plain": "   Col1  Col3\n2     3     6\n3     4     5\n4     5     4\n5     6     5\n7     8     3",
      "text/html": "<div>\n<style scoped>\n    .dataframe tbody tr th:only-of-type {\n        vertical-align: middle;\n    }\n\n    .dataframe tbody tr th {\n        vertical-align: top;\n    }\n\n    .dataframe thead th {\n        text-align: right;\n    }\n</style>\n<table border=\"1\" class=\"dataframe\">\n  <thead>\n    <tr style=\"text-align: right;\">\n      <th></th>\n      <th>Col1</th>\n      <th>Col3</th>\n    </tr>\n  </thead>\n  <tbody>\n    <tr>\n      <td>2</td>\n      <td>3</td>\n      <td>6</td>\n    </tr>\n    <tr>\n      <td>3</td>\n      <td>4</td>\n      <td>5</td>\n    </tr>\n    <tr>\n      <td>4</td>\n      <td>5</td>\n      <td>4</td>\n    </tr>\n    <tr>\n      <td>5</td>\n      <td>6</td>\n      <td>5</td>\n    </tr>\n    <tr>\n      <td>7</td>\n      <td>8</td>\n      <td>3</td>\n    </tr>\n  </tbody>\n</table>\n</div>"
     },
     "metadata": {},
     "execution_count": 39
    }
   ],
   "source": [
    "df_mayor_de_dos.loc[0:10,['Col1','Col3']]"
   ]
  },
  {
   "cell_type": "code",
   "execution_count": 276,
   "metadata": {},
   "outputs": [],
   "source": [
    "# El nombre de las columnas son strings, tienen que existir. Un string que no exista te dará un error"
   ]
  },
  {
   "cell_type": "code",
   "execution_count": 277,
   "metadata": {},
   "outputs": [],
   "source": [
    "# Los índices son números, puedes intentar que los busque y si no existen, no pasa nada "
   ]
  },
  {
   "cell_type": "code",
   "execution_count": 278,
   "metadata": {},
   "outputs": [],
   "source": [
    "\n",
    "# 0:10 --> coge los que puedas\n",
    "# ['Col2', 'Col3'] --> strings que existan"
   ]
  },
  {
   "cell_type": "code",
   "execution_count": 279,
   "metadata": {},
   "outputs": [],
   "source": [
    "# 12. Incluye una columna 'Col4' con ['buenos','días', '¿qué', 'tal', 'estás?']"
   ]
  },
  {
   "cell_type": "code",
   "execution_count": 44,
   "metadata": {},
   "outputs": [],
   "source": [
    "df_mayor_de_dos['Col4']=  ['buenos','días', '¿qué', 'tal', 'estás?']"
   ]
  },
  {
   "cell_type": "code",
   "execution_count": 280,
   "metadata": {},
   "outputs": [],
   "source": [
    "# Warning: estás intentando cambiar un valor en un trozo pequeño de DataFrame que viene de un DataFrame grande\n",
    "# Lo cambia en el pequeño\n"
   ]
  },
  {
   "cell_type": "code",
   "execution_count": 45,
   "metadata": {},
   "outputs": [
    {
     "output_type": "execute_result",
     "data": {
      "text/plain": "   Col1  Col2  Col3    Col4\n2     3    -6     6  buenos\n3     4     8     5    días\n4     5     1     4    ¿qué\n5     6     2     5     tal\n7     8     4     3  estás?",
      "text/html": "<div>\n<style scoped>\n    .dataframe tbody tr th:only-of-type {\n        vertical-align: middle;\n    }\n\n    .dataframe tbody tr th {\n        vertical-align: top;\n    }\n\n    .dataframe thead th {\n        text-align: right;\n    }\n</style>\n<table border=\"1\" class=\"dataframe\">\n  <thead>\n    <tr style=\"text-align: right;\">\n      <th></th>\n      <th>Col1</th>\n      <th>Col2</th>\n      <th>Col3</th>\n      <th>Col4</th>\n    </tr>\n  </thead>\n  <tbody>\n    <tr>\n      <td>2</td>\n      <td>3</td>\n      <td>-6</td>\n      <td>6</td>\n      <td>buenos</td>\n    </tr>\n    <tr>\n      <td>3</td>\n      <td>4</td>\n      <td>8</td>\n      <td>5</td>\n      <td>días</td>\n    </tr>\n    <tr>\n      <td>4</td>\n      <td>5</td>\n      <td>1</td>\n      <td>4</td>\n      <td>¿qué</td>\n    </tr>\n    <tr>\n      <td>5</td>\n      <td>6</td>\n      <td>2</td>\n      <td>5</td>\n      <td>tal</td>\n    </tr>\n    <tr>\n      <td>7</td>\n      <td>8</td>\n      <td>4</td>\n      <td>3</td>\n      <td>estás?</td>\n    </tr>\n  </tbody>\n</table>\n</div>"
     },
     "metadata": {},
     "execution_count": 45
    }
   ],
   "source": [
    "df_mayor_de_dos"
   ]
  },
  {
   "cell_type": "code",
   "execution_count": 46,
   "metadata": {},
   "outputs": [
    {
     "output_type": "execute_result",
     "data": {
      "text/plain": "   Col1  Col2  Col3\n0     1    -2     8\n1   100     4     7\n2   200    -6     6\n3     4     8     5\n4     5     1     4\n5     6     2     5\n6     7     3     2\n7     8     4     3",
      "text/html": "<div>\n<style scoped>\n    .dataframe tbody tr th:only-of-type {\n        vertical-align: middle;\n    }\n\n    .dataframe tbody tr th {\n        vertical-align: top;\n    }\n\n    .dataframe thead th {\n        text-align: right;\n    }\n</style>\n<table border=\"1\" class=\"dataframe\">\n  <thead>\n    <tr style=\"text-align: right;\">\n      <th></th>\n      <th>Col1</th>\n      <th>Col2</th>\n      <th>Col3</th>\n    </tr>\n  </thead>\n  <tbody>\n    <tr>\n      <td>0</td>\n      <td>1</td>\n      <td>-2</td>\n      <td>8</td>\n    </tr>\n    <tr>\n      <td>1</td>\n      <td>100</td>\n      <td>4</td>\n      <td>7</td>\n    </tr>\n    <tr>\n      <td>2</td>\n      <td>200</td>\n      <td>-6</td>\n      <td>6</td>\n    </tr>\n    <tr>\n      <td>3</td>\n      <td>4</td>\n      <td>8</td>\n      <td>5</td>\n    </tr>\n    <tr>\n      <td>4</td>\n      <td>5</td>\n      <td>1</td>\n      <td>4</td>\n    </tr>\n    <tr>\n      <td>5</td>\n      <td>6</td>\n      <td>2</td>\n      <td>5</td>\n    </tr>\n    <tr>\n      <td>6</td>\n      <td>7</td>\n      <td>3</td>\n      <td>2</td>\n    </tr>\n    <tr>\n      <td>7</td>\n      <td>8</td>\n      <td>4</td>\n      <td>3</td>\n    </tr>\n  </tbody>\n</table>\n</div>"
     },
     "metadata": {},
     "execution_count": 46
    }
   ],
   "source": [
    "df"
   ]
  },
  {
   "cell_type": "code",
   "execution_count": 281,
   "metadata": {},
   "outputs": [],
   "source": [
    "# si quiero evitar el Warning, o hago una copia y \"rompo\" el enlace al que apunta (del trozo de DataFrame pequeño al DataFrame grande)\n",
    "# o lo cambio en el grande (y se vería el cambio en el trozo pequeño) "
   ]
  },
  {
   "cell_type": "code",
   "execution_count": 282,
   "metadata": {},
   "outputs": [],
   "source": [
    "# 13. Quiero usar 'Col4' como índices de df_mayor_de_dos"
   ]
  },
  {
   "cell_type": "code",
   "execution_count": 47,
   "metadata": {},
   "outputs": [
    {
     "output_type": "execute_result",
     "data": {
      "text/plain": "        Col1  Col2  Col3\nCol4                    \nbuenos     3    -6     6\ndías       4     8     5\n¿qué       5     1     4\ntal        6     2     5\nestás?     8     4     3",
      "text/html": "<div>\n<style scoped>\n    .dataframe tbody tr th:only-of-type {\n        vertical-align: middle;\n    }\n\n    .dataframe tbody tr th {\n        vertical-align: top;\n    }\n\n    .dataframe thead th {\n        text-align: right;\n    }\n</style>\n<table border=\"1\" class=\"dataframe\">\n  <thead>\n    <tr style=\"text-align: right;\">\n      <th></th>\n      <th>Col1</th>\n      <th>Col2</th>\n      <th>Col3</th>\n    </tr>\n    <tr>\n      <th>Col4</th>\n      <th></th>\n      <th></th>\n      <th></th>\n    </tr>\n  </thead>\n  <tbody>\n    <tr>\n      <td>buenos</td>\n      <td>3</td>\n      <td>-6</td>\n      <td>6</td>\n    </tr>\n    <tr>\n      <td>días</td>\n      <td>4</td>\n      <td>8</td>\n      <td>5</td>\n    </tr>\n    <tr>\n      <td>¿qué</td>\n      <td>5</td>\n      <td>1</td>\n      <td>4</td>\n    </tr>\n    <tr>\n      <td>tal</td>\n      <td>6</td>\n      <td>2</td>\n      <td>5</td>\n    </tr>\n    <tr>\n      <td>estás?</td>\n      <td>8</td>\n      <td>4</td>\n      <td>3</td>\n    </tr>\n  </tbody>\n</table>\n</div>"
     },
     "metadata": {},
     "execution_count": 47
    }
   ],
   "source": [
    "df_mayor_de_dos.set_index('Col4')"
   ]
  },
  {
   "cell_type": "code",
   "execution_count": 48,
   "metadata": {},
   "outputs": [
    {
     "output_type": "execute_result",
     "data": {
      "text/plain": "   Col1  Col2  Col3    Col4\n2     3    -6     6  buenos\n3     4     8     5    días\n4     5     1     4    ¿qué\n5     6     2     5     tal\n7     8     4     3  estás?",
      "text/html": "<div>\n<style scoped>\n    .dataframe tbody tr th:only-of-type {\n        vertical-align: middle;\n    }\n\n    .dataframe tbody tr th {\n        vertical-align: top;\n    }\n\n    .dataframe thead th {\n        text-align: right;\n    }\n</style>\n<table border=\"1\" class=\"dataframe\">\n  <thead>\n    <tr style=\"text-align: right;\">\n      <th></th>\n      <th>Col1</th>\n      <th>Col2</th>\n      <th>Col3</th>\n      <th>Col4</th>\n    </tr>\n  </thead>\n  <tbody>\n    <tr>\n      <td>2</td>\n      <td>3</td>\n      <td>-6</td>\n      <td>6</td>\n      <td>buenos</td>\n    </tr>\n    <tr>\n      <td>3</td>\n      <td>4</td>\n      <td>8</td>\n      <td>5</td>\n      <td>días</td>\n    </tr>\n    <tr>\n      <td>4</td>\n      <td>5</td>\n      <td>1</td>\n      <td>4</td>\n      <td>¿qué</td>\n    </tr>\n    <tr>\n      <td>5</td>\n      <td>6</td>\n      <td>2</td>\n      <td>5</td>\n      <td>tal</td>\n    </tr>\n    <tr>\n      <td>7</td>\n      <td>8</td>\n      <td>4</td>\n      <td>3</td>\n      <td>estás?</td>\n    </tr>\n  </tbody>\n</table>\n</div>"
     },
     "metadata": {},
     "execution_count": 48
    }
   ],
   "source": [
    "df_mayor_de_dos"
   ]
  },
  {
   "cell_type": "code",
   "execution_count": 283,
   "metadata": {},
   "outputs": [],
   "source": [
    "# ¡No ha cambiado! Me ha enseñado cómo quedaría, TENGO que igualarlo en la variable para cambiarlo"
   ]
  },
  {
   "cell_type": "code",
   "execution_count": 50,
   "metadata": {},
   "outputs": [
    {
     "output_type": "execute_result",
     "data": {
      "text/plain": "        Col1  Col2  Col3\nCol4                    \nbuenos     3    -6     6\ndías       4     8     5\n¿qué       5     1     4\ntal        6     2     5\nestás?     8     4     3",
      "text/html": "<div>\n<style scoped>\n    .dataframe tbody tr th:only-of-type {\n        vertical-align: middle;\n    }\n\n    .dataframe tbody tr th {\n        vertical-align: top;\n    }\n\n    .dataframe thead th {\n        text-align: right;\n    }\n</style>\n<table border=\"1\" class=\"dataframe\">\n  <thead>\n    <tr style=\"text-align: right;\">\n      <th></th>\n      <th>Col1</th>\n      <th>Col2</th>\n      <th>Col3</th>\n    </tr>\n    <tr>\n      <th>Col4</th>\n      <th></th>\n      <th></th>\n      <th></th>\n    </tr>\n  </thead>\n  <tbody>\n    <tr>\n      <td>buenos</td>\n      <td>3</td>\n      <td>-6</td>\n      <td>6</td>\n    </tr>\n    <tr>\n      <td>días</td>\n      <td>4</td>\n      <td>8</td>\n      <td>5</td>\n    </tr>\n    <tr>\n      <td>¿qué</td>\n      <td>5</td>\n      <td>1</td>\n      <td>4</td>\n    </tr>\n    <tr>\n      <td>tal</td>\n      <td>6</td>\n      <td>2</td>\n      <td>5</td>\n    </tr>\n    <tr>\n      <td>estás?</td>\n      <td>8</td>\n      <td>4</td>\n      <td>3</td>\n    </tr>\n  </tbody>\n</table>\n</div>"
     },
     "metadata": {},
     "execution_count": 50
    }
   ],
   "source": [
    "df_mayor_de_dos_indice = df_mayor_de_dos.set_index('Col4')\n",
    "df_mayor_de_dos_indice #Cambiado a una variable"
   ]
  },
  {
   "cell_type": "code",
   "execution_count": 51,
   "metadata": {},
   "outputs": [
    {
     "output_type": "execute_result",
     "data": {
      "text/plain": "        Col1  Col2  Col3\nCol4                    \nbuenos     3    -6     6\ndías       4     8     5\n¿qué       5     1     4\ntal        6     2     5\nestás?     8     4     3",
      "text/html": "<div>\n<style scoped>\n    .dataframe tbody tr th:only-of-type {\n        vertical-align: middle;\n    }\n\n    .dataframe tbody tr th {\n        vertical-align: top;\n    }\n\n    .dataframe thead th {\n        text-align: right;\n    }\n</style>\n<table border=\"1\" class=\"dataframe\">\n  <thead>\n    <tr style=\"text-align: right;\">\n      <th></th>\n      <th>Col1</th>\n      <th>Col2</th>\n      <th>Col3</th>\n    </tr>\n    <tr>\n      <th>Col4</th>\n      <th></th>\n      <th></th>\n      <th></th>\n    </tr>\n  </thead>\n  <tbody>\n    <tr>\n      <td>buenos</td>\n      <td>3</td>\n      <td>-6</td>\n      <td>6</td>\n    </tr>\n    <tr>\n      <td>días</td>\n      <td>4</td>\n      <td>8</td>\n      <td>5</td>\n    </tr>\n    <tr>\n      <td>¿qué</td>\n      <td>5</td>\n      <td>1</td>\n      <td>4</td>\n    </tr>\n    <tr>\n      <td>tal</td>\n      <td>6</td>\n      <td>2</td>\n      <td>5</td>\n    </tr>\n    <tr>\n      <td>estás?</td>\n      <td>8</td>\n      <td>4</td>\n      <td>3</td>\n    </tr>\n  </tbody>\n</table>\n</div>"
     },
     "metadata": {},
     "execution_count": 51
    }
   ],
   "source": [
    "df_mayor_de_dos.set_index('Col4', inplace=True)  #Cambiando mendiante por parámetro de método 'inplace='\n",
    "df_mayor_de_dos"
   ]
  },
  {
   "cell_type": "code",
   "execution_count": 284,
   "metadata": {},
   "outputs": [],
   "source": [
    "# ¡Cambiado!"
   ]
  },
  {
   "cell_type": "code",
   "execution_count": 285,
   "metadata": {},
   "outputs": [],
   "source": [
    "# uso LOC para coger 'días', '¿qué', 'estás?' y 'Col1', 'Col3'"
   ]
  },
  {
   "cell_type": "code",
   "execution_count": 55,
   "metadata": {},
   "outputs": [
    {
     "output_type": "execute_result",
     "data": {
      "text/plain": "        Col1  Col3\nCol4              \nbuenos     3     6\ndías       4     5\n¿qué       5     4\ntal        6     5\nestás?     8     3",
      "text/html": "<div>\n<style scoped>\n    .dataframe tbody tr th:only-of-type {\n        vertical-align: middle;\n    }\n\n    .dataframe tbody tr th {\n        vertical-align: top;\n    }\n\n    .dataframe thead th {\n        text-align: right;\n    }\n</style>\n<table border=\"1\" class=\"dataframe\">\n  <thead>\n    <tr style=\"text-align: right;\">\n      <th></th>\n      <th>Col1</th>\n      <th>Col3</th>\n    </tr>\n    <tr>\n      <th>Col4</th>\n      <th></th>\n      <th></th>\n    </tr>\n  </thead>\n  <tbody>\n    <tr>\n      <td>buenos</td>\n      <td>3</td>\n      <td>6</td>\n    </tr>\n    <tr>\n      <td>días</td>\n      <td>4</td>\n      <td>5</td>\n    </tr>\n    <tr>\n      <td>¿qué</td>\n      <td>5</td>\n      <td>4</td>\n    </tr>\n    <tr>\n      <td>tal</td>\n      <td>6</td>\n      <td>5</td>\n    </tr>\n    <tr>\n      <td>estás?</td>\n      <td>8</td>\n      <td>3</td>\n    </tr>\n  </tbody>\n</table>\n</div>"
     },
     "metadata": {},
     "execution_count": 55
    }
   ],
   "source": [
    "df_mayor_de_dos.loc[:,['Col1','Col3']]"
   ]
  },
  {
   "cell_type": "code",
   "execution_count": 56,
   "metadata": {},
   "outputs": [
    {
     "output_type": "execute_result",
     "data": {
      "text/plain": "        Col1  Col3\nCol4              \ndías       4     5\n¿qué       5     4\nestás?     8     3",
      "text/html": "<div>\n<style scoped>\n    .dataframe tbody tr th:only-of-type {\n        vertical-align: middle;\n    }\n\n    .dataframe tbody tr th {\n        vertical-align: top;\n    }\n\n    .dataframe thead th {\n        text-align: right;\n    }\n</style>\n<table border=\"1\" class=\"dataframe\">\n  <thead>\n    <tr style=\"text-align: right;\">\n      <th></th>\n      <th>Col1</th>\n      <th>Col3</th>\n    </tr>\n    <tr>\n      <th>Col4</th>\n      <th></th>\n      <th></th>\n    </tr>\n  </thead>\n  <tbody>\n    <tr>\n      <td>días</td>\n      <td>4</td>\n      <td>5</td>\n    </tr>\n    <tr>\n      <td>¿qué</td>\n      <td>5</td>\n      <td>4</td>\n    </tr>\n    <tr>\n      <td>estás?</td>\n      <td>8</td>\n      <td>3</td>\n    </tr>\n  </tbody>\n</table>\n</div>"
     },
     "metadata": {},
     "execution_count": 56
    }
   ],
   "source": [
    "df_mayor_de_dos.loc[['días','¿qué','estás?'],['Col1','Col3']]"
   ]
  },
  {
   "cell_type": "code",
   "execution_count": 286,
   "metadata": {},
   "outputs": [],
   "source": [
    "# Selecciono lo mismo con ILOC"
   ]
  },
  {
   "cell_type": "code",
   "execution_count": 57,
   "metadata": {},
   "outputs": [
    {
     "output_type": "execute_result",
     "data": {
      "text/plain": "        Col1  Col3\nCol4              \ndías       4     5\n¿qué       5     4\nestás?     8     3",
      "text/html": "<div>\n<style scoped>\n    .dataframe tbody tr th:only-of-type {\n        vertical-align: middle;\n    }\n\n    .dataframe tbody tr th {\n        vertical-align: top;\n    }\n\n    .dataframe thead th {\n        text-align: right;\n    }\n</style>\n<table border=\"1\" class=\"dataframe\">\n  <thead>\n    <tr style=\"text-align: right;\">\n      <th></th>\n      <th>Col1</th>\n      <th>Col3</th>\n    </tr>\n    <tr>\n      <th>Col4</th>\n      <th></th>\n      <th></th>\n    </tr>\n  </thead>\n  <tbody>\n    <tr>\n      <td>días</td>\n      <td>4</td>\n      <td>5</td>\n    </tr>\n    <tr>\n      <td>¿qué</td>\n      <td>5</td>\n      <td>4</td>\n    </tr>\n    <tr>\n      <td>estás?</td>\n      <td>8</td>\n      <td>3</td>\n    </tr>\n  </tbody>\n</table>\n</div>"
     },
     "metadata": {},
     "execution_count": 57
    }
   ],
   "source": [
    "df_mayor_de_dos.iloc[[1,2,4],[0,2]]"
   ]
  },
  {
   "cell_type": "code",
   "execution_count": 65,
   "metadata": {},
   "outputs": [
    {
     "output_type": "execute_result",
     "data": {
      "text/plain": "        Col1  Col2  Col3\nCol4                    \nbuenos     3    -6     6\ndías       4     8     5\n¿qué       5     1     4\ntal        6     2     5\nestás?     8     4     3",
      "text/html": "<div>\n<style scoped>\n    .dataframe tbody tr th:only-of-type {\n        vertical-align: middle;\n    }\n\n    .dataframe tbody tr th {\n        vertical-align: top;\n    }\n\n    .dataframe thead th {\n        text-align: right;\n    }\n</style>\n<table border=\"1\" class=\"dataframe\">\n  <thead>\n    <tr style=\"text-align: right;\">\n      <th></th>\n      <th>Col1</th>\n      <th>Col2</th>\n      <th>Col3</th>\n    </tr>\n    <tr>\n      <th>Col4</th>\n      <th></th>\n      <th></th>\n      <th></th>\n    </tr>\n  </thead>\n  <tbody>\n    <tr>\n      <td>buenos</td>\n      <td>3</td>\n      <td>-6</td>\n      <td>6</td>\n    </tr>\n    <tr>\n      <td>días</td>\n      <td>4</td>\n      <td>8</td>\n      <td>5</td>\n    </tr>\n    <tr>\n      <td>¿qué</td>\n      <td>5</td>\n      <td>1</td>\n      <td>4</td>\n    </tr>\n    <tr>\n      <td>tal</td>\n      <td>6</td>\n      <td>2</td>\n      <td>5</td>\n    </tr>\n    <tr>\n      <td>estás?</td>\n      <td>8</td>\n      <td>4</td>\n      <td>3</td>\n    </tr>\n  </tbody>\n</table>\n</div>"
     },
     "metadata": {},
     "execution_count": 65
    }
   ],
   "source": [
    "df_mayor_de_dos.iloc[:,:]"
   ]
  },
  {
   "cell_type": "code",
   "execution_count": 61,
   "metadata": {},
   "outputs": [
    {
     "output_type": "execute_result",
     "data": {
      "text/plain": "        Col1  Col3\nCol4              \nbuenos     3     6\ndías       4     5\n¿qué       5     4\ntal        6     5\nestás?     8     3",
      "text/html": "<div>\n<style scoped>\n    .dataframe tbody tr th:only-of-type {\n        vertical-align: middle;\n    }\n\n    .dataframe tbody tr th {\n        vertical-align: top;\n    }\n\n    .dataframe thead th {\n        text-align: right;\n    }\n</style>\n<table border=\"1\" class=\"dataframe\">\n  <thead>\n    <tr style=\"text-align: right;\">\n      <th></th>\n      <th>Col1</th>\n      <th>Col3</th>\n    </tr>\n    <tr>\n      <th>Col4</th>\n      <th></th>\n      <th></th>\n    </tr>\n  </thead>\n  <tbody>\n    <tr>\n      <td>buenos</td>\n      <td>3</td>\n      <td>6</td>\n    </tr>\n    <tr>\n      <td>días</td>\n      <td>4</td>\n      <td>5</td>\n    </tr>\n    <tr>\n      <td>¿qué</td>\n      <td>5</td>\n      <td>4</td>\n    </tr>\n    <tr>\n      <td>tal</td>\n      <td>6</td>\n      <td>5</td>\n    </tr>\n    <tr>\n      <td>estás?</td>\n      <td>8</td>\n      <td>3</td>\n    </tr>\n  </tbody>\n</table>\n</div>"
     },
     "metadata": {},
     "execution_count": 61
    }
   ],
   "source": [
    "# 14. Vamos a borrar una columa, 'Col2'\n",
    "df_mayor_de_dos = df_mayor_de_dos.drop(['Col2'],axis=1)"
   ]
  },
  {
   "cell_type": "code",
   "execution_count": 69,
   "metadata": {},
   "outputs": [
    {
     "output_type": "execute_result",
     "data": {
      "text/plain": "        Col1  Col3\nCol4              \nbuenos     3     6\ndías       4     5\n¿qué       5     4\ntal        6     5\nestás?     8     3",
      "text/html": "<div>\n<style scoped>\n    .dataframe tbody tr th:only-of-type {\n        vertical-align: middle;\n    }\n\n    .dataframe tbody tr th {\n        vertical-align: top;\n    }\n\n    .dataframe thead th {\n        text-align: right;\n    }\n</style>\n<table border=\"1\" class=\"dataframe\">\n  <thead>\n    <tr style=\"text-align: right;\">\n      <th></th>\n      <th>Col1</th>\n      <th>Col3</th>\n    </tr>\n    <tr>\n      <th>Col4</th>\n      <th></th>\n      <th></th>\n    </tr>\n  </thead>\n  <tbody>\n    <tr>\n      <td>buenos</td>\n      <td>3</td>\n      <td>6</td>\n    </tr>\n    <tr>\n      <td>días</td>\n      <td>4</td>\n      <td>5</td>\n    </tr>\n    <tr>\n      <td>¿qué</td>\n      <td>5</td>\n      <td>4</td>\n    </tr>\n    <tr>\n      <td>tal</td>\n      <td>6</td>\n      <td>5</td>\n    </tr>\n    <tr>\n      <td>estás?</td>\n      <td>8</td>\n      <td>3</td>\n    </tr>\n  </tbody>\n</table>\n</div>"
     },
     "metadata": {},
     "execution_count": 69
    }
   ],
   "source": [
    "df_mayor_de_dos #No se borra"
   ]
  },
  {
   "cell_type": "code",
   "execution_count": 288,
   "metadata": {},
   "outputs": [],
   "source": [
    "# Tanto drop como set_index NECESITAN que los iguale a la variable o usar el argumento INPLACE = True dentro del método\n",
    "# DROP borra y no es reversible, es una forma de asegurarse de que lo quieres borrar\n",
    "# SET_INDEX borra los índices anteriores y es irreversible, es una forma de asegurarse de que lo quieres borrar"
   ]
  },
  {
   "cell_type": "markdown",
   "metadata": {},
   "source": [
    "### Resumen"
   ]
  },
  {
   "cell_type": "markdown",
   "metadata": {},
   "source": [
    "* en numpy se accede directamente a las filas y columnas: np_array[2:4,6:8]\n",
    "\n",
    "* en pandas se accede directamente a columnas: mi_df[['col1', 'col2', 'col3']]\n",
    "\n",
    "* en pandas para acceder a filas y columnas se usa LOC o ILOC\n",
    "\n",
    "* ILOC: numeras las filas y columnas SIN MIRAR el nombre de columnas e índices. Si es numérico intenta cogerlo si existe, string tiene que existir.\n",
    "\n",
    "* LOC: filas y columnas por su nombre. Si es numérico intenta cogerlo si existe, string tiene que existir.\n",
    "\n",
    "* LOC/ILOC cogen trozos de DataFrame. Si cambio el original grande, cambia en el trozo también\n",
    "\n",
    "* Para trabajar con OTRO DataFrame se usa copy():   me_refiero_al_mismo = df    soy_otro_nuevo = df.copy()\n",
    "\n",
    "* Para seleccionar filas que cumplan condiciones en columnas:  df[(df['Col1'] > 2) & (df['Col3'] > 5)] NO AND/OR SÍ &/|\n",
    "\n",
    "* Para añadir una columna: df['nueva_col']=[1,2,3,4]\n",
    "\n",
    "* Para borrar una columna: df = df.drop(...) IGUALO o df.drop(..., inplace = True), tengo que CONFIRMAR porque se va a BORRAR\n",
    "\n",
    "* Para cambiar los índices por los valores de una columna: df = df.set_index('Col1') o df.set_index(..., inplace = True), tengo que CONFIRMAR porque se va a BORRAR"
   ]
  }
 ],
 "metadata": {
  "kernelspec": {
   "display_name": "Python 3",
   "language": "python",
   "name": "python3"
  },
  "language_info": {
   "codemirror_mode": {
    "name": "ipython",
    "version": 3
   },
   "file_extension": ".py",
   "mimetype": "text/x-python",
   "name": "python",
   "nbconvert_exporter": "python",
   "pygments_lexer": "ipython3",
   "version": "3.7.4-final"
  }
 },
 "nbformat": 4,
 "nbformat_minor": 4
}