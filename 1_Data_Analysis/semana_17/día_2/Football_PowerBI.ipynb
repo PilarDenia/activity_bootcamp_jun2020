{
 "cells": [
  {
   "cell_type": "code",
   "execution_count": 1,
   "metadata": {},
   "outputs": [],
   "source": [
    "# librería pandas\n",
    "import pandas as pd"
   ]
  },
  {
   "cell_type": "code",
   "execution_count": 7,
   "metadata": {},
   "outputs": [],
   "source": [
    "# leemos los ficheros\n",
    "\n",
    "df1 = pd.read_csv('TeamDefense.csv', sep='|')\n",
    "df2 = pd.read_csv('TeamGoals.csv', sep='|')\n",
    "df3 = pd.read_csv('TeamPasses.csv', sep='|')\n",
    "df4 = pd.read_csv('TeamStats.csv', sep='|')"
   ]
  },
  {
   "cell_type": "code",
   "execution_count": 8,
   "metadata": {},
   "outputs": [
    {
     "data": {
      "text/html": [
       "<div>\n",
       "<style scoped>\n",
       "    .dataframe tbody tr th:only-of-type {\n",
       "        vertical-align: middle;\n",
       "    }\n",
       "\n",
       "    .dataframe tbody tr th {\n",
       "        vertical-align: top;\n",
       "    }\n",
       "\n",
       "    .dataframe thead th {\n",
       "        text-align: right;\n",
       "    }\n",
       "</style>\n",
       "<table border=\"1\" class=\"dataframe\">\n",
       "  <thead>\n",
       "    <tr style=\"text-align: right;\">\n",
       "      <th></th>\n",
       "      <th>Team</th>\n",
       "      <th>Saves Made</th>\n",
       "      <th>Blocks</th>\n",
       "      <th>Total Clearances</th>\n",
       "      <th>Interceptions</th>\n",
       "      <th>Recoveries</th>\n",
       "      <th>Goals Conceded</th>\n",
       "      <th>savesbygoal</th>\n",
       "    </tr>\n",
       "  </thead>\n",
       "  <tbody>\n",
       "    <tr>\n",
       "      <th>0</th>\n",
       "      <td>Belgium</td>\n",
       "      <td>27</td>\n",
       "      <td>30</td>\n",
       "      <td>118</td>\n",
       "      <td>52</td>\n",
       "      <td>391</td>\n",
       "      <td>6</td>\n",
       "      <td>4,5</td>\n",
       "    </tr>\n",
       "    <tr>\n",
       "      <th>1</th>\n",
       "      <td>Mexico</td>\n",
       "      <td>25</td>\n",
       "      <td>22</td>\n",
       "      <td>69</td>\n",
       "      <td>47</td>\n",
       "      <td>212</td>\n",
       "      <td>6</td>\n",
       "      <td>4,166666667</td>\n",
       "    </tr>\n",
       "    <tr>\n",
       "      <th>2</th>\n",
       "      <td>Croatia</td>\n",
       "      <td>19</td>\n",
       "      <td>19</td>\n",
       "      <td>191</td>\n",
       "      <td>72</td>\n",
       "      <td>475</td>\n",
       "      <td>9</td>\n",
       "      <td>2,111111111</td>\n",
       "    </tr>\n",
       "    <tr>\n",
       "      <th>3</th>\n",
       "      <td>Denmark</td>\n",
       "      <td>17</td>\n",
       "      <td>14</td>\n",
       "      <td>110</td>\n",
       "      <td>35</td>\n",
       "      <td>214</td>\n",
       "      <td>2</td>\n",
       "      <td>8,5</td>\n",
       "    </tr>\n",
       "    <tr>\n",
       "      <th>4</th>\n",
       "      <td>England</td>\n",
       "      <td>16</td>\n",
       "      <td>22</td>\n",
       "      <td>125</td>\n",
       "      <td>56</td>\n",
       "      <td>386</td>\n",
       "      <td>8</td>\n",
       "      <td>2</td>\n",
       "    </tr>\n",
       "  </tbody>\n",
       "</table>\n",
       "</div>"
      ],
      "text/plain": [
       "      Team  Saves Made  Blocks  Total Clearances  Interceptions  Recoveries  \\\n",
       "0  Belgium          27      30               118             52         391   \n",
       "1   Mexico          25      22                69             47         212   \n",
       "2  Croatia          19      19               191             72         475   \n",
       "3  Denmark          17      14               110             35         214   \n",
       "4  England          16      22               125             56         386   \n",
       "\n",
       "   Goals Conceded  savesbygoal  \n",
       "0               6          4,5  \n",
       "1               6  4,166666667  \n",
       "2               9  2,111111111  \n",
       "3               2          8,5  \n",
       "4               8            2  "
      ]
     },
     "execution_count": 8,
     "metadata": {},
     "output_type": "execute_result"
    }
   ],
   "source": [
    "# comprobamos que los hemos leido bien\n",
    "df1.head()"
   ]
  },
  {
   "cell_type": "code",
   "execution_count": 12,
   "metadata": {},
   "outputs": [],
   "source": [
    "# cruzamos los cuatro ficheros csv\n",
    "df = df1.merge(df2, left_on='Team', right_on='Team').merge(df3, left_on='Team', right_on='Team').merge(df4, left_on='Team', right_on='Team')"
   ]
  },
  {
   "cell_type": "code",
   "execution_count": 13,
   "metadata": {},
   "outputs": [],
   "source": [
    "# guardamos el fichero\n",
    "df.to_csv('Football_PowerBI.csv')"
   ]
  }
 ],
 "metadata": {
  "kernelspec": {
   "display_name": "Python 3",
   "language": "python",
   "name": "python3"
  },
  "language_info": {
   "codemirror_mode": {
    "name": "ipython",
    "version": 3
   },
   "file_extension": ".py",
   "mimetype": "text/x-python",
   "name": "python",
   "nbconvert_exporter": "python",
   "pygments_lexer": "ipython3",
   "version": "3.7.4"
  }
 },
 "nbformat": 4,
 "nbformat_minor": 4
}
