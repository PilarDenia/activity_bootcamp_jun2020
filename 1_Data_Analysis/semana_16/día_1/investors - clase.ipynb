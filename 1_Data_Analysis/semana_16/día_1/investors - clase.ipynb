{
 "cells": [
  {
   "cell_type": "markdown",
   "metadata": {
    "id": "Lc7athr5Nh9L"
   },
   "source": [
    "# Investor - Flow of Funds - US"
   ]
  },
  {
   "cell_type": "markdown",
   "metadata": {
    "id": "ZNbRgpVONh9M"
   },
   "source": [
    "### Introduction:\n",
    "\n",
    "Special thanks to: https://github.com/rgrp for sharing the dataset.\n",
    "\n",
    "### Step 1. Import the necessary libraries"
   ]
  },
  {
   "cell_type": "code",
   "execution_count": 4,
   "metadata": {
    "id": "4VChPM19Nh9N"
   },
   "outputs": [],
   "source": [
    "import numpy as np \n",
    "import pandas as pd \n",
    "import matplotlib.pyplot as plt\n",
    "\n",
    "%matplotlib inline"
   ]
  },
  {
   "cell_type": "markdown",
   "metadata": {
    "id": "nFZZliu8Nh9R"
   },
   "source": [
    "### Step 2. Import the dataset from this [address](https://raw.githubusercontent.com/datasets/investor-flow-of-funds-us/master/data/weekly.csv). "
   ]
  },
  {
   "cell_type": "code",
   "execution_count": 5,
   "metadata": {},
   "outputs": [],
   "source": [
    "df = pd.read_csv('https://raw.githubusercontent.com/datasets/investor-flow-of-funds-us/master/data/weekly.csv')"
   ]
  },
  {
   "cell_type": "markdown",
   "metadata": {
    "id": "KLBzLsKYNh9S"
   },
   "source": [
    "### Step 3. Assign it to a variable called df"
   ]
  },
  {
   "cell_type": "code",
   "execution_count": 6,
   "metadata": {
    "id": "-1djSCgBNh9T",
    "outputId": "b43916b6-164f-44bc-c187-3820d0ed7094"
   },
   "outputs": [
    {
     "output_type": "execute_result",
     "data": {
      "text/plain": [
       "         Date  Total Equity  Domestic Equity  World Equity  Hybrid  \\\n",
       "0  2012-12-05         -7426            -6060         -1367     -74   \n",
       "1  2012-12-12         -8783            -7520         -1263     123   \n",
       "2  2012-12-19         -5496            -5470           -26     -73   \n",
       "3  2012-12-26         -4451            -4076          -375     550   \n",
       "4  2013-01-02        -11156            -9622         -1533    -158   \n",
       "\n",
       "   Total Bond  Taxable Bond  Municipal Bond  Total  \n",
       "0        5317          4210            1107  -2183  \n",
       "1        1818          1598             219  -6842  \n",
       "2         103          3472           -3369  -5466  \n",
       "3        2610          3333            -722  -1291  \n",
       "4        2383          2103             280  -8931  "
      ],
      "text/html": "<div>\n<style scoped>\n    .dataframe tbody tr th:only-of-type {\n        vertical-align: middle;\n    }\n\n    .dataframe tbody tr th {\n        vertical-align: top;\n    }\n\n    .dataframe thead th {\n        text-align: right;\n    }\n</style>\n<table border=\"1\" class=\"dataframe\">\n  <thead>\n    <tr style=\"text-align: right;\">\n      <th></th>\n      <th>Date</th>\n      <th>Total Equity</th>\n      <th>Domestic Equity</th>\n      <th>World Equity</th>\n      <th>Hybrid</th>\n      <th>Total Bond</th>\n      <th>Taxable Bond</th>\n      <th>Municipal Bond</th>\n      <th>Total</th>\n    </tr>\n  </thead>\n  <tbody>\n    <tr>\n      <th>0</th>\n      <td>2012-12-05</td>\n      <td>-7426</td>\n      <td>-6060</td>\n      <td>-1367</td>\n      <td>-74</td>\n      <td>5317</td>\n      <td>4210</td>\n      <td>1107</td>\n      <td>-2183</td>\n    </tr>\n    <tr>\n      <th>1</th>\n      <td>2012-12-12</td>\n      <td>-8783</td>\n      <td>-7520</td>\n      <td>-1263</td>\n      <td>123</td>\n      <td>1818</td>\n      <td>1598</td>\n      <td>219</td>\n      <td>-6842</td>\n    </tr>\n    <tr>\n      <th>2</th>\n      <td>2012-12-19</td>\n      <td>-5496</td>\n      <td>-5470</td>\n      <td>-26</td>\n      <td>-73</td>\n      <td>103</td>\n      <td>3472</td>\n      <td>-3369</td>\n      <td>-5466</td>\n    </tr>\n    <tr>\n      <th>3</th>\n      <td>2012-12-26</td>\n      <td>-4451</td>\n      <td>-4076</td>\n      <td>-375</td>\n      <td>550</td>\n      <td>2610</td>\n      <td>3333</td>\n      <td>-722</td>\n      <td>-1291</td>\n    </tr>\n    <tr>\n      <th>4</th>\n      <td>2013-01-02</td>\n      <td>-11156</td>\n      <td>-9622</td>\n      <td>-1533</td>\n      <td>-158</td>\n      <td>2383</td>\n      <td>2103</td>\n      <td>280</td>\n      <td>-8931</td>\n    </tr>\n  </tbody>\n</table>\n</div>"
     },
     "metadata": {},
     "execution_count": 6
    }
   ],
   "source": [
    "df.head()"
   ]
  },
  {
   "cell_type": "code",
   "execution_count": 7,
   "metadata": {},
   "outputs": [
    {
     "output_type": "stream",
     "name": "stdout",
     "text": [
      "<class 'pandas.core.frame.DataFrame'>\nRangeIndex: 44 entries, 0 to 43\nData columns (total 9 columns):\n #   Column           Non-Null Count  Dtype \n---  ------           --------------  ----- \n 0   Date             44 non-null     object\n 1   Total Equity     44 non-null     int64 \n 2   Domestic Equity  44 non-null     int64 \n 3   World Equity     44 non-null     int64 \n 4   Hybrid           44 non-null     int64 \n 5   Total Bond       44 non-null     int64 \n 6   Taxable Bond     44 non-null     int64 \n 7   Municipal Bond   44 non-null     int64 \n 8   Total            44 non-null     int64 \ndtypes: int64(8), object(1)\nmemory usage: 3.2+ KB\n"
     ]
    }
   ],
   "source": [
    "df.info()"
   ]
  },
  {
   "cell_type": "code",
   "execution_count": 8,
   "metadata": {},
   "outputs": [],
   "source": [
    "df['Date'] = pd.to_datetime(df['Date'])"
   ]
  },
  {
   "cell_type": "code",
   "execution_count": 9,
   "metadata": {},
   "outputs": [
    {
     "output_type": "execute_result",
     "data": {
      "text/plain": [
       "        Date  Total Equity  Domestic Equity  World Equity  Hybrid  Total Bond  \\\n",
       "0 2012-12-05         -7426            -6060         -1367     -74        5317   \n",
       "1 2012-12-12         -8783            -7520         -1263     123        1818   \n",
       "2 2012-12-19         -5496            -5470           -26     -73         103   \n",
       "3 2012-12-26         -4451            -4076          -375     550        2610   \n",
       "4 2013-01-02        -11156            -9622         -1533    -158        2383   \n",
       "\n",
       "   Taxable Bond  Municipal Bond  Total  \n",
       "0          4210            1107  -2183  \n",
       "1          1598             219  -6842  \n",
       "2          3472           -3369  -5466  \n",
       "3          3333            -722  -1291  \n",
       "4          2103             280  -8931  "
      ],
      "text/html": "<div>\n<style scoped>\n    .dataframe tbody tr th:only-of-type {\n        vertical-align: middle;\n    }\n\n    .dataframe tbody tr th {\n        vertical-align: top;\n    }\n\n    .dataframe thead th {\n        text-align: right;\n    }\n</style>\n<table border=\"1\" class=\"dataframe\">\n  <thead>\n    <tr style=\"text-align: right;\">\n      <th></th>\n      <th>Date</th>\n      <th>Total Equity</th>\n      <th>Domestic Equity</th>\n      <th>World Equity</th>\n      <th>Hybrid</th>\n      <th>Total Bond</th>\n      <th>Taxable Bond</th>\n      <th>Municipal Bond</th>\n      <th>Total</th>\n    </tr>\n  </thead>\n  <tbody>\n    <tr>\n      <th>0</th>\n      <td>2012-12-05</td>\n      <td>-7426</td>\n      <td>-6060</td>\n      <td>-1367</td>\n      <td>-74</td>\n      <td>5317</td>\n      <td>4210</td>\n      <td>1107</td>\n      <td>-2183</td>\n    </tr>\n    <tr>\n      <th>1</th>\n      <td>2012-12-12</td>\n      <td>-8783</td>\n      <td>-7520</td>\n      <td>-1263</td>\n      <td>123</td>\n      <td>1818</td>\n      <td>1598</td>\n      <td>219</td>\n      <td>-6842</td>\n    </tr>\n    <tr>\n      <th>2</th>\n      <td>2012-12-19</td>\n      <td>-5496</td>\n      <td>-5470</td>\n      <td>-26</td>\n      <td>-73</td>\n      <td>103</td>\n      <td>3472</td>\n      <td>-3369</td>\n      <td>-5466</td>\n    </tr>\n    <tr>\n      <th>3</th>\n      <td>2012-12-26</td>\n      <td>-4451</td>\n      <td>-4076</td>\n      <td>-375</td>\n      <td>550</td>\n      <td>2610</td>\n      <td>3333</td>\n      <td>-722</td>\n      <td>-1291</td>\n    </tr>\n    <tr>\n      <th>4</th>\n      <td>2013-01-02</td>\n      <td>-11156</td>\n      <td>-9622</td>\n      <td>-1533</td>\n      <td>-158</td>\n      <td>2383</td>\n      <td>2103</td>\n      <td>280</td>\n      <td>-8931</td>\n    </tr>\n  </tbody>\n</table>\n</div>"
     },
     "metadata": {},
     "execution_count": 9
    }
   ],
   "source": [
    "df.head()"
   ]
  },
  {
   "cell_type": "code",
   "execution_count": 10,
   "metadata": {},
   "outputs": [
    {
     "output_type": "stream",
     "name": "stdout",
     "text": [
      "<class 'pandas.core.frame.DataFrame'>\nRangeIndex: 44 entries, 0 to 43\nData columns (total 9 columns):\n #   Column           Non-Null Count  Dtype         \n---  ------           --------------  -----         \n 0   Date             44 non-null     datetime64[ns]\n 1   Total Equity     44 non-null     int64         \n 2   Domestic Equity  44 non-null     int64         \n 3   World Equity     44 non-null     int64         \n 4   Hybrid           44 non-null     int64         \n 5   Total Bond       44 non-null     int64         \n 6   Taxable Bond     44 non-null     int64         \n 7   Municipal Bond   44 non-null     int64         \n 8   Total            44 non-null     int64         \ndtypes: datetime64[ns](1), int64(8)\nmemory usage: 3.2 KB\n"
     ]
    }
   ],
   "source": [
    "df.info()"
   ]
  },
  {
   "cell_type": "markdown",
   "metadata": {
    "id": "f-2jnOqWNh9X"
   },
   "source": [
    "### Step 4.  What is the frequency of the dataset?"
   ]
  },
  {
   "source": [
    "df.set_index('Date',inplace=True, drop=True)"
   ],
   "cell_type": "code",
   "metadata": {
    "id": "b9K3wOPINh9Y"
   },
   "execution_count": 11,
   "outputs": []
  },
  {
   "cell_type": "code",
   "execution_count": 12,
   "metadata": {},
   "outputs": [
    {
     "output_type": "execute_result",
     "data": {
      "text/plain": [
       "            Total Equity  Domestic Equity  World Equity  Hybrid  Total Bond  \\\n",
       "Date                                                                          \n",
       "2012-12-05         -7426            -6060         -1367     -74        5317   \n",
       "2012-12-12         -8783            -7520         -1263     123        1818   \n",
       "2012-12-19         -5496            -5470           -26     -73         103   \n",
       "2012-12-26         -4451            -4076          -375     550        2610   \n",
       "2013-01-02        -11156            -9622         -1533    -158        2383   \n",
       "\n",
       "            Taxable Bond  Municipal Bond  Total  \n",
       "Date                                             \n",
       "2012-12-05          4210            1107  -2183  \n",
       "2012-12-12          1598             219  -6842  \n",
       "2012-12-19          3472           -3369  -5466  \n",
       "2012-12-26          3333            -722  -1291  \n",
       "2013-01-02          2103             280  -8931  "
      ],
      "text/html": "<div>\n<style scoped>\n    .dataframe tbody tr th:only-of-type {\n        vertical-align: middle;\n    }\n\n    .dataframe tbody tr th {\n        vertical-align: top;\n    }\n\n    .dataframe thead th {\n        text-align: right;\n    }\n</style>\n<table border=\"1\" class=\"dataframe\">\n  <thead>\n    <tr style=\"text-align: right;\">\n      <th></th>\n      <th>Total Equity</th>\n      <th>Domestic Equity</th>\n      <th>World Equity</th>\n      <th>Hybrid</th>\n      <th>Total Bond</th>\n      <th>Taxable Bond</th>\n      <th>Municipal Bond</th>\n      <th>Total</th>\n    </tr>\n    <tr>\n      <th>Date</th>\n      <th></th>\n      <th></th>\n      <th></th>\n      <th></th>\n      <th></th>\n      <th></th>\n      <th></th>\n      <th></th>\n    </tr>\n  </thead>\n  <tbody>\n    <tr>\n      <th>2012-12-05</th>\n      <td>-7426</td>\n      <td>-6060</td>\n      <td>-1367</td>\n      <td>-74</td>\n      <td>5317</td>\n      <td>4210</td>\n      <td>1107</td>\n      <td>-2183</td>\n    </tr>\n    <tr>\n      <th>2012-12-12</th>\n      <td>-8783</td>\n      <td>-7520</td>\n      <td>-1263</td>\n      <td>123</td>\n      <td>1818</td>\n      <td>1598</td>\n      <td>219</td>\n      <td>-6842</td>\n    </tr>\n    <tr>\n      <th>2012-12-19</th>\n      <td>-5496</td>\n      <td>-5470</td>\n      <td>-26</td>\n      <td>-73</td>\n      <td>103</td>\n      <td>3472</td>\n      <td>-3369</td>\n      <td>-5466</td>\n    </tr>\n    <tr>\n      <th>2012-12-26</th>\n      <td>-4451</td>\n      <td>-4076</td>\n      <td>-375</td>\n      <td>550</td>\n      <td>2610</td>\n      <td>3333</td>\n      <td>-722</td>\n      <td>-1291</td>\n    </tr>\n    <tr>\n      <th>2013-01-02</th>\n      <td>-11156</td>\n      <td>-9622</td>\n      <td>-1533</td>\n      <td>-158</td>\n      <td>2383</td>\n      <td>2103</td>\n      <td>280</td>\n      <td>-8931</td>\n    </tr>\n  </tbody>\n</table>\n</div>"
     },
     "metadata": {},
     "execution_count": 12
    }
   ],
   "source": [
    "df.head()"
   ]
  },
  {
   "source": [
    "print(pd.infer_freq(df)) \n",
    "#No existe una frecuencia probable en el índice(DateTime)"
   ],
   "cell_type": "code",
   "metadata": {},
   "execution_count": 13,
   "outputs": [
    {
     "output_type": "stream",
     "name": "stdout",
     "text": [
      "None\n"
     ]
    }
   ]
  },
  {
   "cell_type": "code",
   "execution_count": 14,
   "metadata": {},
   "outputs": [
    {
     "output_type": "execute_result",
     "data": {
      "text/plain": [
       "<bound method Series.min of Date\n",
       "2012-12-05        NaT\n",
       "2012-12-12     7 days\n",
       "2012-12-19     7 days\n",
       "2012-12-26     7 days\n",
       "2013-01-02     7 days\n",
       "2013-01-09     7 days\n",
       "2014-04-02   448 days\n",
       "2014-04-09     7 days\n",
       "2014-04-16     7 days\n",
       "2014-04-23     7 days\n",
       "2014-04-30     7 days\n",
       "2014-05-07     7 days\n",
       "2014-05-14     7 days\n",
       "2014-05-21     7 days\n",
       "2014-05-28     7 days\n",
       "2014-06-04     7 days\n",
       "2014-06-11     7 days\n",
       "2014-06-18     7 days\n",
       "2014-06-25     7 days\n",
       "2014-07-02     7 days\n",
       "2014-07-09     7 days\n",
       "2014-07-30    21 days\n",
       "2014-08-06     7 days\n",
       "2014-08-13     7 days\n",
       "2014-08-20     7 days\n",
       "2014-08-27     7 days\n",
       "2014-09-03     7 days\n",
       "2014-09-10     7 days\n",
       "2014-11-05    56 days\n",
       "2014-11-12     7 days\n",
       "2014-11-19     7 days\n",
       "2014-11-25     6 days\n",
       "2015-01-07    43 days\n",
       "2015-01-14     7 days\n",
       "2015-01-21     7 days\n",
       "2015-01-28     7 days\n",
       "2015-02-04     7 days\n",
       "2015-02-11     7 days\n",
       "2015-03-04    21 days\n",
       "2015-03-11     7 days\n",
       "2015-03-18     7 days\n",
       "2015-03-25     7 days\n",
       "2015-04-01     7 days\n",
       "2015-04-08     7 days\n",
       "Name: Date, dtype: timedelta64[ns]>"
      ]
     },
     "metadata": {},
     "execution_count": 14
    }
   ],
   "source": [
    "df.index.to_series().diff().min"
   ]
  },
  {
   "cell_type": "code",
   "execution_count": 15,
   "metadata": {},
   "outputs": [
    {
     "output_type": "execute_result",
     "data": {
      "text/plain": [
       "DatetimeIndex(['2012-12-05', '2012-12-12', '2012-12-19', '2012-12-26',\n",
       "               '2013-01-02', '2013-01-09', '2014-04-02', '2014-04-09',\n",
       "               '2014-04-16', '2014-04-23', '2014-04-30', '2014-05-07',\n",
       "               '2014-05-14', '2014-05-21', '2014-05-28', '2014-06-04',\n",
       "               '2014-06-11', '2014-06-18', '2014-06-25', '2014-07-02',\n",
       "               '2014-07-09', '2014-07-30', '2014-08-06', '2014-08-13',\n",
       "               '2014-08-20', '2014-08-27', '2014-09-03', '2014-09-10',\n",
       "               '2014-11-05', '2014-11-12', '2014-11-19', '2014-11-25',\n",
       "               '2015-01-07', '2015-01-14', '2015-01-21', '2015-01-28',\n",
       "               '2015-02-04', '2015-02-11', '2015-03-04', '2015-03-11',\n",
       "               '2015-03-18', '2015-03-25', '2015-04-01', '2015-04-08'],\n",
       "              dtype='datetime64[ns]', name='Date', freq=None)"
      ]
     },
     "metadata": {},
     "execution_count": 15
    }
   ],
   "source": [
    "df.index"
   ]
  },
  {
   "source": [
    "#### Se observa que inicialmente las frecuencias de las fechas son de 7días ==> 1semana, pero existen saltos de registros/filas de una/varias semanas que no aparecen en el DataFrame"
   ],
   "cell_type": "markdown",
   "metadata": {}
  },
  {
   "cell_type": "markdown",
   "metadata": {
    "id": "vkWutWn5Nh9b"
   },
   "source": [
    "### Step 5. Set the column Date as the index."
   ]
  },
  {
   "cell_type": "code",
   "execution_count": 16,
   "metadata": {},
   "outputs": [
    {
     "output_type": "execute_result",
     "data": {
      "text/plain": [
       "DatetimeIndex(['2012-12-05', '2012-12-12', '2012-12-19', '2012-12-26',\n",
       "               '2013-01-02', '2013-01-09', '2014-04-02', '2014-04-09',\n",
       "               '2014-04-16', '2014-04-23', '2014-04-30', '2014-05-07',\n",
       "               '2014-05-14', '2014-05-21', '2014-05-28', '2014-06-04',\n",
       "               '2014-06-11', '2014-06-18', '2014-06-25', '2014-07-02',\n",
       "               '2014-07-09', '2014-07-30', '2014-08-06', '2014-08-13',\n",
       "               '2014-08-20', '2014-08-27', '2014-09-03', '2014-09-10',\n",
       "               '2014-11-05', '2014-11-12', '2014-11-19', '2014-11-25',\n",
       "               '2015-01-07', '2015-01-14', '2015-01-21', '2015-01-28',\n",
       "               '2015-02-04', '2015-02-11', '2015-03-04', '2015-03-11',\n",
       "               '2015-03-18', '2015-03-25', '2015-04-01', '2015-04-08'],\n",
       "              dtype='datetime64[ns]', name='Date', freq=None)"
      ]
     },
     "metadata": {},
     "execution_count": 16
    }
   ],
   "source": [
    "df.index"
   ]
  },
  {
   "cell_type": "markdown",
   "metadata": {
    "id": "1TMBPzCQNh9f"
   },
   "source": [
    "### Step 6. What is the type of the index?"
   ]
  },
  {
   "cell_type": "code",
   "execution_count": 17,
   "metadata": {
    "id": "0ZRG6OeaNh9f",
    "outputId": "1543a6cd-cb88-4abc-acae-8111eab61f41"
   },
   "outputs": [
    {
     "output_type": "execute_result",
     "data": {
      "text/plain": [
       "DatetimeIndex(['2012-12-05', '2012-12-12', '2012-12-19', '2012-12-26',\n",
       "               '2013-01-02', '2013-01-09', '2014-04-02', '2014-04-09',\n",
       "               '2014-04-16', '2014-04-23', '2014-04-30', '2014-05-07',\n",
       "               '2014-05-14', '2014-05-21', '2014-05-28', '2014-06-04',\n",
       "               '2014-06-11', '2014-06-18', '2014-06-25', '2014-07-02',\n",
       "               '2014-07-09', '2014-07-30', '2014-08-06', '2014-08-13',\n",
       "               '2014-08-20', '2014-08-27', '2014-09-03', '2014-09-10',\n",
       "               '2014-11-05', '2014-11-12', '2014-11-19', '2014-11-25',\n",
       "               '2015-01-07', '2015-01-14', '2015-01-21', '2015-01-28',\n",
       "               '2015-02-04', '2015-02-11', '2015-03-04', '2015-03-11',\n",
       "               '2015-03-18', '2015-03-25', '2015-04-01', '2015-04-08'],\n",
       "              dtype='datetime64[ns]', name='Date', freq=None)"
      ]
     },
     "metadata": {},
     "execution_count": 17
    }
   ],
   "source": [
    "df.index"
   ]
  },
  {
   "cell_type": "markdown",
   "metadata": {
    "id": "3DEVNdKCNh9i"
   },
   "source": [
    "### Step 7. Set the index to a DatetimeIndex type"
   ]
  },
  {
   "cell_type": "code",
   "execution_count": 18,
   "metadata": {
    "id": "zIjFbFArNh9n",
    "outputId": "44b2d6bb-b7f7-448a-9f14-5bb648061b2a"
   },
   "outputs": [
    {
     "output_type": "execute_result",
     "data": {
      "text/plain": [
       "pandas.core.indexes.datetimes.DatetimeIndex"
      ]
     },
     "metadata": {},
     "execution_count": 18
    }
   ],
   "source": [
    "type(df.index)"
   ]
  },
  {
   "cell_type": "markdown",
   "metadata": {
    "id": "vDWqRFg5Nh9q"
   },
   "source": [
    "### Step 9. You will notice that it filled the dataFrame with months that don't have any data with zeros. Let's drop these rows."
   ]
  },
  {
   "cell_type": "code",
   "execution_count": 19,
   "metadata": {},
   "outputs": [
    {
     "output_type": "execute_result",
     "data": {
      "text/plain": [
       "            Total Equity  Domestic Equity  World Equity  Hybrid  Total Bond  \\\n",
       "Date                                                                          \n",
       "2012-12-31        -26156           -23126         -3031     526        9848   \n",
       "2013-01-31          3661            -1627          5288    2730       12149   \n",
       "2013-02-28             0                0             0       0           0   \n",
       "2013-03-31             0                0             0       0           0   \n",
       "2013-04-30             0                0             0       0           0   \n",
       "2013-05-31             0                0             0       0           0   \n",
       "2013-06-30             0                0             0       0           0   \n",
       "2013-07-31             0                0             0       0           0   \n",
       "2013-08-31             0                0             0       0           0   \n",
       "2013-09-30             0                0             0       0           0   \n",
       "2013-10-31             0                0             0       0           0   \n",
       "2013-11-30             0                0             0       0           0   \n",
       "2013-12-31             0                0             0       0           0   \n",
       "2014-01-31             0                0             0       0           0   \n",
       "2014-02-28             0                0             0       0           0   \n",
       "2014-03-31             0                0             0       0           0   \n",
       "2014-04-30         10842             1048          9794    4931        8493   \n",
       "2014-05-31         -2203            -8720          6518    3172       13767   \n",
       "2014-06-30          2319            -6546          8865    4588        9715   \n",
       "2014-07-31         -7051           -11128          4078    2666        7506   \n",
       "2014-08-31          1943            -5508          7452    1885        1897   \n",
       "2014-09-30         -2767            -6596          3829    1599        3984   \n",
       "2014-10-31             0                0             0       0           0   \n",
       "2014-11-30         -2753            -7239          4485     729       14528   \n",
       "2014-12-31             0                0             0       0           0   \n",
       "2015-01-31          3471            -1164          4635    1729        7368   \n",
       "2015-02-28          5508             3509          1999    1752        9099   \n",
       "2015-03-31          5691            -8176         13867    2829        9138   \n",
       "2015-04-30           379            -4628          5007     970         423   \n",
       "\n",
       "            Taxable Bond  Municipal Bond  Total  \n",
       "Date                                             \n",
       "2012-12-31         12613           -2765 -15782  \n",
       "2013-01-31          9414            2735  18540  \n",
       "2013-02-28             0               0      0  \n",
       "2013-03-31             0               0      0  \n",
       "2013-04-30             0               0      0  \n",
       "2013-05-31             0               0      0  \n",
       "2013-06-30             0               0      0  \n",
       "2013-07-31             0               0      0  \n",
       "2013-08-31             0               0      0  \n",
       "2013-09-30             0               0      0  \n",
       "2013-10-31             0               0      0  \n",
       "2013-11-30             0               0      0  \n",
       "2013-12-31             0               0      0  \n",
       "2014-01-31             0               0      0  \n",
       "2014-02-28             0               0      0  \n",
       "2014-03-31             0               0      0  \n",
       "2014-04-30          7193            1300  24267  \n",
       "2014-05-31         10192            3576  14736  \n",
       "2014-06-30          7551            2163  16621  \n",
       "2014-07-31          7026             481   3122  \n",
       "2014-08-31         -1013            2910   5723  \n",
       "2014-09-30          2479            1504   2816  \n",
       "2014-10-31             0               0      0  \n",
       "2014-11-30         11566            2962  12502  \n",
       "2014-12-31             0               0      0  \n",
       "2015-01-31          2762            4606  12569  \n",
       "2015-02-28          7443            1656  16359  \n",
       "2015-03-31          7267            1870  17657  \n",
       "2015-04-30           514             -91   1772  "
      ],
      "text/html": "<div>\n<style scoped>\n    .dataframe tbody tr th:only-of-type {\n        vertical-align: middle;\n    }\n\n    .dataframe tbody tr th {\n        vertical-align: top;\n    }\n\n    .dataframe thead th {\n        text-align: right;\n    }\n</style>\n<table border=\"1\" class=\"dataframe\">\n  <thead>\n    <tr style=\"text-align: right;\">\n      <th></th>\n      <th>Total Equity</th>\n      <th>Domestic Equity</th>\n      <th>World Equity</th>\n      <th>Hybrid</th>\n      <th>Total Bond</th>\n      <th>Taxable Bond</th>\n      <th>Municipal Bond</th>\n      <th>Total</th>\n    </tr>\n    <tr>\n      <th>Date</th>\n      <th></th>\n      <th></th>\n      <th></th>\n      <th></th>\n      <th></th>\n      <th></th>\n      <th></th>\n      <th></th>\n    </tr>\n  </thead>\n  <tbody>\n    <tr>\n      <th>2012-12-31</th>\n      <td>-26156</td>\n      <td>-23126</td>\n      <td>-3031</td>\n      <td>526</td>\n      <td>9848</td>\n      <td>12613</td>\n      <td>-2765</td>\n      <td>-15782</td>\n    </tr>\n    <tr>\n      <th>2013-01-31</th>\n      <td>3661</td>\n      <td>-1627</td>\n      <td>5288</td>\n      <td>2730</td>\n      <td>12149</td>\n      <td>9414</td>\n      <td>2735</td>\n      <td>18540</td>\n    </tr>\n    <tr>\n      <th>2013-02-28</th>\n      <td>0</td>\n      <td>0</td>\n      <td>0</td>\n      <td>0</td>\n      <td>0</td>\n      <td>0</td>\n      <td>0</td>\n      <td>0</td>\n    </tr>\n    <tr>\n      <th>2013-03-31</th>\n      <td>0</td>\n      <td>0</td>\n      <td>0</td>\n      <td>0</td>\n      <td>0</td>\n      <td>0</td>\n      <td>0</td>\n      <td>0</td>\n    </tr>\n    <tr>\n      <th>2013-04-30</th>\n      <td>0</td>\n      <td>0</td>\n      <td>0</td>\n      <td>0</td>\n      <td>0</td>\n      <td>0</td>\n      <td>0</td>\n      <td>0</td>\n    </tr>\n    <tr>\n      <th>2013-05-31</th>\n      <td>0</td>\n      <td>0</td>\n      <td>0</td>\n      <td>0</td>\n      <td>0</td>\n      <td>0</td>\n      <td>0</td>\n      <td>0</td>\n    </tr>\n    <tr>\n      <th>2013-06-30</th>\n      <td>0</td>\n      <td>0</td>\n      <td>0</td>\n      <td>0</td>\n      <td>0</td>\n      <td>0</td>\n      <td>0</td>\n      <td>0</td>\n    </tr>\n    <tr>\n      <th>2013-07-31</th>\n      <td>0</td>\n      <td>0</td>\n      <td>0</td>\n      <td>0</td>\n      <td>0</td>\n      <td>0</td>\n      <td>0</td>\n      <td>0</td>\n    </tr>\n    <tr>\n      <th>2013-08-31</th>\n      <td>0</td>\n      <td>0</td>\n      <td>0</td>\n      <td>0</td>\n      <td>0</td>\n      <td>0</td>\n      <td>0</td>\n      <td>0</td>\n    </tr>\n    <tr>\n      <th>2013-09-30</th>\n      <td>0</td>\n      <td>0</td>\n      <td>0</td>\n      <td>0</td>\n      <td>0</td>\n      <td>0</td>\n      <td>0</td>\n      <td>0</td>\n    </tr>\n    <tr>\n      <th>2013-10-31</th>\n      <td>0</td>\n      <td>0</td>\n      <td>0</td>\n      <td>0</td>\n      <td>0</td>\n      <td>0</td>\n      <td>0</td>\n      <td>0</td>\n    </tr>\n    <tr>\n      <th>2013-11-30</th>\n      <td>0</td>\n      <td>0</td>\n      <td>0</td>\n      <td>0</td>\n      <td>0</td>\n      <td>0</td>\n      <td>0</td>\n      <td>0</td>\n    </tr>\n    <tr>\n      <th>2013-12-31</th>\n      <td>0</td>\n      <td>0</td>\n      <td>0</td>\n      <td>0</td>\n      <td>0</td>\n      <td>0</td>\n      <td>0</td>\n      <td>0</td>\n    </tr>\n    <tr>\n      <th>2014-01-31</th>\n      <td>0</td>\n      <td>0</td>\n      <td>0</td>\n      <td>0</td>\n      <td>0</td>\n      <td>0</td>\n      <td>0</td>\n      <td>0</td>\n    </tr>\n    <tr>\n      <th>2014-02-28</th>\n      <td>0</td>\n      <td>0</td>\n      <td>0</td>\n      <td>0</td>\n      <td>0</td>\n      <td>0</td>\n      <td>0</td>\n      <td>0</td>\n    </tr>\n    <tr>\n      <th>2014-03-31</th>\n      <td>0</td>\n      <td>0</td>\n      <td>0</td>\n      <td>0</td>\n      <td>0</td>\n      <td>0</td>\n      <td>0</td>\n      <td>0</td>\n    </tr>\n    <tr>\n      <th>2014-04-30</th>\n      <td>10842</td>\n      <td>1048</td>\n      <td>9794</td>\n      <td>4931</td>\n      <td>8493</td>\n      <td>7193</td>\n      <td>1300</td>\n      <td>24267</td>\n    </tr>\n    <tr>\n      <th>2014-05-31</th>\n      <td>-2203</td>\n      <td>-8720</td>\n      <td>6518</td>\n      <td>3172</td>\n      <td>13767</td>\n      <td>10192</td>\n      <td>3576</td>\n      <td>14736</td>\n    </tr>\n    <tr>\n      <th>2014-06-30</th>\n      <td>2319</td>\n      <td>-6546</td>\n      <td>8865</td>\n      <td>4588</td>\n      <td>9715</td>\n      <td>7551</td>\n      <td>2163</td>\n      <td>16621</td>\n    </tr>\n    <tr>\n      <th>2014-07-31</th>\n      <td>-7051</td>\n      <td>-11128</td>\n      <td>4078</td>\n      <td>2666</td>\n      <td>7506</td>\n      <td>7026</td>\n      <td>481</td>\n      <td>3122</td>\n    </tr>\n    <tr>\n      <th>2014-08-31</th>\n      <td>1943</td>\n      <td>-5508</td>\n      <td>7452</td>\n      <td>1885</td>\n      <td>1897</td>\n      <td>-1013</td>\n      <td>2910</td>\n      <td>5723</td>\n    </tr>\n    <tr>\n      <th>2014-09-30</th>\n      <td>-2767</td>\n      <td>-6596</td>\n      <td>3829</td>\n      <td>1599</td>\n      <td>3984</td>\n      <td>2479</td>\n      <td>1504</td>\n      <td>2816</td>\n    </tr>\n    <tr>\n      <th>2014-10-31</th>\n      <td>0</td>\n      <td>0</td>\n      <td>0</td>\n      <td>0</td>\n      <td>0</td>\n      <td>0</td>\n      <td>0</td>\n      <td>0</td>\n    </tr>\n    <tr>\n      <th>2014-11-30</th>\n      <td>-2753</td>\n      <td>-7239</td>\n      <td>4485</td>\n      <td>729</td>\n      <td>14528</td>\n      <td>11566</td>\n      <td>2962</td>\n      <td>12502</td>\n    </tr>\n    <tr>\n      <th>2014-12-31</th>\n      <td>0</td>\n      <td>0</td>\n      <td>0</td>\n      <td>0</td>\n      <td>0</td>\n      <td>0</td>\n      <td>0</td>\n      <td>0</td>\n    </tr>\n    <tr>\n      <th>2015-01-31</th>\n      <td>3471</td>\n      <td>-1164</td>\n      <td>4635</td>\n      <td>1729</td>\n      <td>7368</td>\n      <td>2762</td>\n      <td>4606</td>\n      <td>12569</td>\n    </tr>\n    <tr>\n      <th>2015-02-28</th>\n      <td>5508</td>\n      <td>3509</td>\n      <td>1999</td>\n      <td>1752</td>\n      <td>9099</td>\n      <td>7443</td>\n      <td>1656</td>\n      <td>16359</td>\n    </tr>\n    <tr>\n      <th>2015-03-31</th>\n      <td>5691</td>\n      <td>-8176</td>\n      <td>13867</td>\n      <td>2829</td>\n      <td>9138</td>\n      <td>7267</td>\n      <td>1870</td>\n      <td>17657</td>\n    </tr>\n    <tr>\n      <th>2015-04-30</th>\n      <td>379</td>\n      <td>-4628</td>\n      <td>5007</td>\n      <td>970</td>\n      <td>423</td>\n      <td>514</td>\n      <td>-91</td>\n      <td>1772</td>\n    </tr>\n  </tbody>\n</table>\n</div>"
     },
     "metadata": {},
     "execution_count": 19
    }
   ],
   "source": [
    "df.resample('M').sum()"
   ]
  },
  {
   "cell_type": "code",
   "execution_count": 20,
   "metadata": {},
   "outputs": [],
   "source": [
    "df.dropna(axis=0, inplace=True)"
   ]
  },
  {
   "cell_type": "code",
   "execution_count": 21,
   "metadata": {},
   "outputs": [
    {
     "output_type": "execute_result",
     "data": {
      "text/plain": [
       "            Total Equity  Domestic Equity  World Equity  Hybrid  Total Bond  \\\n",
       "Date                                                                          \n",
       "2012-12-05         -7426            -6060         -1367     -74        5317   \n",
       "2012-12-12         -8783            -7520         -1263     123        1818   \n",
       "2012-12-19         -5496            -5470           -26     -73         103   \n",
       "2012-12-26         -4451            -4076          -375     550        2610   \n",
       "2013-01-02        -11156            -9622         -1533    -158        2383   \n",
       "2013-01-09         14817             7995          6821    2888        9766   \n",
       "2014-04-02          3155              938          2217     265        3379   \n",
       "2014-04-09          5761             2080          3681    1482        1609   \n",
       "2014-04-16          2286              634          1652    1186         633   \n",
       "2014-04-23          3530             1392          2138    1239        1984   \n",
       "2014-04-30         -3890            -3996           106     759         888   \n",
       "2014-05-07           632            -2006          2639    -340        5493   \n",
       "2014-05-14         -1079            -2321          1242    1188        4037   \n",
       "2014-05-21           697            -1790          2487    1216        2196   \n",
       "2014-05-28         -2453            -2603           150    1108        2041   \n",
       "2014-06-04          2098            -1148          3246    1123         188   \n",
       "2014-06-11          1236            -1840          3075    1159        2112   \n",
       "2014-06-18          -922            -2204          1282    1060        4159   \n",
       "2014-06-25           -93            -1354          1262    1246        3256   \n",
       "2014-07-02         -7835            -8887          1052     636        2979   \n",
       "2014-07-09           666            -1070          1736    1006        2721   \n",
       "2014-07-30           118            -1171          1290    1024        1806   \n",
       "2014-08-06          -471            -3073          2602    -375       -8193   \n",
       "2014-08-13           320             -974          1294     496        1436   \n",
       "2014-08-20          2671              738          1933     821        4999   \n",
       "2014-08-27          -577            -2199          1623     943        3655   \n",
       "2014-09-03         -4024            -5305          1281     544        2430   \n",
       "2014-09-10          1257            -1291          2548    1055        1554   \n",
       "2014-11-05           -32            -1634          1602    -176        5813   \n",
       "2014-11-12          1464               61          1403     963        3596   \n",
       "2014-11-19         -3010            -3622           611      99        2529   \n",
       "2014-11-25         -1175            -2044           869    -157        2590   \n",
       "2015-01-07         -3913            -5438          1525   -1057       -3403   \n",
       "2015-01-14          1774              -37          1811     248        3549   \n",
       "2015-01-21          1267              856           411     790        1258   \n",
       "2015-01-28          4343             3455           888    1748        5964   \n",
       "2015-02-04          4240             3536           703     793        3237   \n",
       "2015-02-11          1268              -27          1296     959        5862   \n",
       "2015-03-04           999            -1933          2932     528        4984   \n",
       "2015-03-11          3911               -7          3918     851        1298   \n",
       "2015-03-18          1948            -1758          3706     912         452   \n",
       "2015-03-25         -1167            -4478          3311     538        2404   \n",
       "2015-04-01         -1527            -3307          1780     720       -1296   \n",
       "2015-04-08          1906            -1321          3227     250        1719   \n",
       "\n",
       "            Taxable Bond  Municipal Bond  Total  \n",
       "Date                                             \n",
       "2012-12-05          4210            1107  -2183  \n",
       "2012-12-12          1598             219  -6842  \n",
       "2012-12-19          3472           -3369  -5466  \n",
       "2012-12-26          3333            -722  -1291  \n",
       "2013-01-02          2103             280  -8931  \n",
       "2013-01-09          7311            2455  27471  \n",
       "2014-04-02          3129             250   6799  \n",
       "2014-04-09          1448             161   8852  \n",
       "2014-04-16           604              29   4105  \n",
       "2014-04-23          1453             531   6753  \n",
       "2014-04-30           559             329  -2242  \n",
       "2014-05-07          4417            1076   5785  \n",
       "2014-05-14          3141             897   4146  \n",
       "2014-05-21          1398             798   4109  \n",
       "2014-05-28          1236             805    696  \n",
       "2014-06-04          -470             658   3409  \n",
       "2014-06-11          1587             524   4506  \n",
       "2014-06-18          3740             419   4297  \n",
       "2014-06-25          2694             562   4409  \n",
       "2014-07-02          2704             276  -4220  \n",
       "2014-07-09          3203            -482   4393  \n",
       "2014-07-30          1119             687   2949  \n",
       "2014-08-06         -8658             465  -9040  \n",
       "2014-08-13           539             897   2252  \n",
       "2014-08-20          4185             814   8490  \n",
       "2014-08-27          2921             734   4021  \n",
       "2014-09-03          1768             661  -1050  \n",
       "2014-09-10           711             843   3866  \n",
       "2014-11-05          5284             529   5604  \n",
       "2014-11-12          2703             893   6023  \n",
       "2014-11-19          1758             771   -383  \n",
       "2014-11-25          1821             769   1258  \n",
       "2015-01-07         -4729            1326  -8373  \n",
       "2015-01-14          2582             967   5572  \n",
       "2015-01-21           220            1038   3315  \n",
       "2015-01-28          4689            1275  12055  \n",
       "2015-02-04          2274             963   8270  \n",
       "2015-02-11          5169             693   8089  \n",
       "2015-03-04          4309             675   6511  \n",
       "2015-03-11           999             298   6059  \n",
       "2015-03-18           258             194   3312  \n",
       "2015-03-25          1701             703   1775  \n",
       "2015-04-01         -1392              96  -2103  \n",
       "2015-04-08          1906            -187   3875  "
      ],
      "text/html": "<div>\n<style scoped>\n    .dataframe tbody tr th:only-of-type {\n        vertical-align: middle;\n    }\n\n    .dataframe tbody tr th {\n        vertical-align: top;\n    }\n\n    .dataframe thead th {\n        text-align: right;\n    }\n</style>\n<table border=\"1\" class=\"dataframe\">\n  <thead>\n    <tr style=\"text-align: right;\">\n      <th></th>\n      <th>Total Equity</th>\n      <th>Domestic Equity</th>\n      <th>World Equity</th>\n      <th>Hybrid</th>\n      <th>Total Bond</th>\n      <th>Taxable Bond</th>\n      <th>Municipal Bond</th>\n      <th>Total</th>\n    </tr>\n    <tr>\n      <th>Date</th>\n      <th></th>\n      <th></th>\n      <th></th>\n      <th></th>\n      <th></th>\n      <th></th>\n      <th></th>\n      <th></th>\n    </tr>\n  </thead>\n  <tbody>\n    <tr>\n      <th>2012-12-05</th>\n      <td>-7426</td>\n      <td>-6060</td>\n      <td>-1367</td>\n      <td>-74</td>\n      <td>5317</td>\n      <td>4210</td>\n      <td>1107</td>\n      <td>-2183</td>\n    </tr>\n    <tr>\n      <th>2012-12-12</th>\n      <td>-8783</td>\n      <td>-7520</td>\n      <td>-1263</td>\n      <td>123</td>\n      <td>1818</td>\n      <td>1598</td>\n      <td>219</td>\n      <td>-6842</td>\n    </tr>\n    <tr>\n      <th>2012-12-19</th>\n      <td>-5496</td>\n      <td>-5470</td>\n      <td>-26</td>\n      <td>-73</td>\n      <td>103</td>\n      <td>3472</td>\n      <td>-3369</td>\n      <td>-5466</td>\n    </tr>\n    <tr>\n      <th>2012-12-26</th>\n      <td>-4451</td>\n      <td>-4076</td>\n      <td>-375</td>\n      <td>550</td>\n      <td>2610</td>\n      <td>3333</td>\n      <td>-722</td>\n      <td>-1291</td>\n    </tr>\n    <tr>\n      <th>2013-01-02</th>\n      <td>-11156</td>\n      <td>-9622</td>\n      <td>-1533</td>\n      <td>-158</td>\n      <td>2383</td>\n      <td>2103</td>\n      <td>280</td>\n      <td>-8931</td>\n    </tr>\n    <tr>\n      <th>2013-01-09</th>\n      <td>14817</td>\n      <td>7995</td>\n      <td>6821</td>\n      <td>2888</td>\n      <td>9766</td>\n      <td>7311</td>\n      <td>2455</td>\n      <td>27471</td>\n    </tr>\n    <tr>\n      <th>2014-04-02</th>\n      <td>3155</td>\n      <td>938</td>\n      <td>2217</td>\n      <td>265</td>\n      <td>3379</td>\n      <td>3129</td>\n      <td>250</td>\n      <td>6799</td>\n    </tr>\n    <tr>\n      <th>2014-04-09</th>\n      <td>5761</td>\n      <td>2080</td>\n      <td>3681</td>\n      <td>1482</td>\n      <td>1609</td>\n      <td>1448</td>\n      <td>161</td>\n      <td>8852</td>\n    </tr>\n    <tr>\n      <th>2014-04-16</th>\n      <td>2286</td>\n      <td>634</td>\n      <td>1652</td>\n      <td>1186</td>\n      <td>633</td>\n      <td>604</td>\n      <td>29</td>\n      <td>4105</td>\n    </tr>\n    <tr>\n      <th>2014-04-23</th>\n      <td>3530</td>\n      <td>1392</td>\n      <td>2138</td>\n      <td>1239</td>\n      <td>1984</td>\n      <td>1453</td>\n      <td>531</td>\n      <td>6753</td>\n    </tr>\n    <tr>\n      <th>2014-04-30</th>\n      <td>-3890</td>\n      <td>-3996</td>\n      <td>106</td>\n      <td>759</td>\n      <td>888</td>\n      <td>559</td>\n      <td>329</td>\n      <td>-2242</td>\n    </tr>\n    <tr>\n      <th>2014-05-07</th>\n      <td>632</td>\n      <td>-2006</td>\n      <td>2639</td>\n      <td>-340</td>\n      <td>5493</td>\n      <td>4417</td>\n      <td>1076</td>\n      <td>5785</td>\n    </tr>\n    <tr>\n      <th>2014-05-14</th>\n      <td>-1079</td>\n      <td>-2321</td>\n      <td>1242</td>\n      <td>1188</td>\n      <td>4037</td>\n      <td>3141</td>\n      <td>897</td>\n      <td>4146</td>\n    </tr>\n    <tr>\n      <th>2014-05-21</th>\n      <td>697</td>\n      <td>-1790</td>\n      <td>2487</td>\n      <td>1216</td>\n      <td>2196</td>\n      <td>1398</td>\n      <td>798</td>\n      <td>4109</td>\n    </tr>\n    <tr>\n      <th>2014-05-28</th>\n      <td>-2453</td>\n      <td>-2603</td>\n      <td>150</td>\n      <td>1108</td>\n      <td>2041</td>\n      <td>1236</td>\n      <td>805</td>\n      <td>696</td>\n    </tr>\n    <tr>\n      <th>2014-06-04</th>\n      <td>2098</td>\n      <td>-1148</td>\n      <td>3246</td>\n      <td>1123</td>\n      <td>188</td>\n      <td>-470</td>\n      <td>658</td>\n      <td>3409</td>\n    </tr>\n    <tr>\n      <th>2014-06-11</th>\n      <td>1236</td>\n      <td>-1840</td>\n      <td>3075</td>\n      <td>1159</td>\n      <td>2112</td>\n      <td>1587</td>\n      <td>524</td>\n      <td>4506</td>\n    </tr>\n    <tr>\n      <th>2014-06-18</th>\n      <td>-922</td>\n      <td>-2204</td>\n      <td>1282</td>\n      <td>1060</td>\n      <td>4159</td>\n      <td>3740</td>\n      <td>419</td>\n      <td>4297</td>\n    </tr>\n    <tr>\n      <th>2014-06-25</th>\n      <td>-93</td>\n      <td>-1354</td>\n      <td>1262</td>\n      <td>1246</td>\n      <td>3256</td>\n      <td>2694</td>\n      <td>562</td>\n      <td>4409</td>\n    </tr>\n    <tr>\n      <th>2014-07-02</th>\n      <td>-7835</td>\n      <td>-8887</td>\n      <td>1052</td>\n      <td>636</td>\n      <td>2979</td>\n      <td>2704</td>\n      <td>276</td>\n      <td>-4220</td>\n    </tr>\n    <tr>\n      <th>2014-07-09</th>\n      <td>666</td>\n      <td>-1070</td>\n      <td>1736</td>\n      <td>1006</td>\n      <td>2721</td>\n      <td>3203</td>\n      <td>-482</td>\n      <td>4393</td>\n    </tr>\n    <tr>\n      <th>2014-07-30</th>\n      <td>118</td>\n      <td>-1171</td>\n      <td>1290</td>\n      <td>1024</td>\n      <td>1806</td>\n      <td>1119</td>\n      <td>687</td>\n      <td>2949</td>\n    </tr>\n    <tr>\n      <th>2014-08-06</th>\n      <td>-471</td>\n      <td>-3073</td>\n      <td>2602</td>\n      <td>-375</td>\n      <td>-8193</td>\n      <td>-8658</td>\n      <td>465</td>\n      <td>-9040</td>\n    </tr>\n    <tr>\n      <th>2014-08-13</th>\n      <td>320</td>\n      <td>-974</td>\n      <td>1294</td>\n      <td>496</td>\n      <td>1436</td>\n      <td>539</td>\n      <td>897</td>\n      <td>2252</td>\n    </tr>\n    <tr>\n      <th>2014-08-20</th>\n      <td>2671</td>\n      <td>738</td>\n      <td>1933</td>\n      <td>821</td>\n      <td>4999</td>\n      <td>4185</td>\n      <td>814</td>\n      <td>8490</td>\n    </tr>\n    <tr>\n      <th>2014-08-27</th>\n      <td>-577</td>\n      <td>-2199</td>\n      <td>1623</td>\n      <td>943</td>\n      <td>3655</td>\n      <td>2921</td>\n      <td>734</td>\n      <td>4021</td>\n    </tr>\n    <tr>\n      <th>2014-09-03</th>\n      <td>-4024</td>\n      <td>-5305</td>\n      <td>1281</td>\n      <td>544</td>\n      <td>2430</td>\n      <td>1768</td>\n      <td>661</td>\n      <td>-1050</td>\n    </tr>\n    <tr>\n      <th>2014-09-10</th>\n      <td>1257</td>\n      <td>-1291</td>\n      <td>2548</td>\n      <td>1055</td>\n      <td>1554</td>\n      <td>711</td>\n      <td>843</td>\n      <td>3866</td>\n    </tr>\n    <tr>\n      <th>2014-11-05</th>\n      <td>-32</td>\n      <td>-1634</td>\n      <td>1602</td>\n      <td>-176</td>\n      <td>5813</td>\n      <td>5284</td>\n      <td>529</td>\n      <td>5604</td>\n    </tr>\n    <tr>\n      <th>2014-11-12</th>\n      <td>1464</td>\n      <td>61</td>\n      <td>1403</td>\n      <td>963</td>\n      <td>3596</td>\n      <td>2703</td>\n      <td>893</td>\n      <td>6023</td>\n    </tr>\n    <tr>\n      <th>2014-11-19</th>\n      <td>-3010</td>\n      <td>-3622</td>\n      <td>611</td>\n      <td>99</td>\n      <td>2529</td>\n      <td>1758</td>\n      <td>771</td>\n      <td>-383</td>\n    </tr>\n    <tr>\n      <th>2014-11-25</th>\n      <td>-1175</td>\n      <td>-2044</td>\n      <td>869</td>\n      <td>-157</td>\n      <td>2590</td>\n      <td>1821</td>\n      <td>769</td>\n      <td>1258</td>\n    </tr>\n    <tr>\n      <th>2015-01-07</th>\n      <td>-3913</td>\n      <td>-5438</td>\n      <td>1525</td>\n      <td>-1057</td>\n      <td>-3403</td>\n      <td>-4729</td>\n      <td>1326</td>\n      <td>-8373</td>\n    </tr>\n    <tr>\n      <th>2015-01-14</th>\n      <td>1774</td>\n      <td>-37</td>\n      <td>1811</td>\n      <td>248</td>\n      <td>3549</td>\n      <td>2582</td>\n      <td>967</td>\n      <td>5572</td>\n    </tr>\n    <tr>\n      <th>2015-01-21</th>\n      <td>1267</td>\n      <td>856</td>\n      <td>411</td>\n      <td>790</td>\n      <td>1258</td>\n      <td>220</td>\n      <td>1038</td>\n      <td>3315</td>\n    </tr>\n    <tr>\n      <th>2015-01-28</th>\n      <td>4343</td>\n      <td>3455</td>\n      <td>888</td>\n      <td>1748</td>\n      <td>5964</td>\n      <td>4689</td>\n      <td>1275</td>\n      <td>12055</td>\n    </tr>\n    <tr>\n      <th>2015-02-04</th>\n      <td>4240</td>\n      <td>3536</td>\n      <td>703</td>\n      <td>793</td>\n      <td>3237</td>\n      <td>2274</td>\n      <td>963</td>\n      <td>8270</td>\n    </tr>\n    <tr>\n      <th>2015-02-11</th>\n      <td>1268</td>\n      <td>-27</td>\n      <td>1296</td>\n      <td>959</td>\n      <td>5862</td>\n      <td>5169</td>\n      <td>693</td>\n      <td>8089</td>\n    </tr>\n    <tr>\n      <th>2015-03-04</th>\n      <td>999</td>\n      <td>-1933</td>\n      <td>2932</td>\n      <td>528</td>\n      <td>4984</td>\n      <td>4309</td>\n      <td>675</td>\n      <td>6511</td>\n    </tr>\n    <tr>\n      <th>2015-03-11</th>\n      <td>3911</td>\n      <td>-7</td>\n      <td>3918</td>\n      <td>851</td>\n      <td>1298</td>\n      <td>999</td>\n      <td>298</td>\n      <td>6059</td>\n    </tr>\n    <tr>\n      <th>2015-03-18</th>\n      <td>1948</td>\n      <td>-1758</td>\n      <td>3706</td>\n      <td>912</td>\n      <td>452</td>\n      <td>258</td>\n      <td>194</td>\n      <td>3312</td>\n    </tr>\n    <tr>\n      <th>2015-03-25</th>\n      <td>-1167</td>\n      <td>-4478</td>\n      <td>3311</td>\n      <td>538</td>\n      <td>2404</td>\n      <td>1701</td>\n      <td>703</td>\n      <td>1775</td>\n    </tr>\n    <tr>\n      <th>2015-04-01</th>\n      <td>-1527</td>\n      <td>-3307</td>\n      <td>1780</td>\n      <td>720</td>\n      <td>-1296</td>\n      <td>-1392</td>\n      <td>96</td>\n      <td>-2103</td>\n    </tr>\n    <tr>\n      <th>2015-04-08</th>\n      <td>1906</td>\n      <td>-1321</td>\n      <td>3227</td>\n      <td>250</td>\n      <td>1719</td>\n      <td>1906</td>\n      <td>-187</td>\n      <td>3875</td>\n    </tr>\n  </tbody>\n</table>\n</div>"
     },
     "metadata": {},
     "execution_count": 21
    }
   ],
   "source": [
    "df"
   ]
  },
  {
   "cell_type": "code",
   "execution_count": 22,
   "metadata": {},
   "outputs": [
    {
     "output_type": "execute_result",
     "data": {
      "text/plain": [
       "DatetimeIndex(['2012-12-06', '2012-12-13', '2012-12-20', '2012-12-27',\n",
       "               '2013-01-03', '2013-01-10', '2013-01-17', '2013-01-24',\n",
       "               '2013-01-31', '2013-02-07',\n",
       "               ...\n",
       "               '2015-01-29', '2015-02-05', '2015-02-12', '2015-02-19',\n",
       "               '2015-02-26', '2015-03-05', '2015-03-12', '2015-03-19',\n",
       "               '2015-03-26', '2015-04-02'],\n",
       "              dtype='datetime64[ns]', length=122, freq='W-THU')"
      ]
     },
     "metadata": {},
     "execution_count": 22
    }
   ],
   "source": [
    "pd.date_range(df.index[0], df.index[-1], freq='W-THU')"
   ]
  },
  {
   "cell_type": "markdown",
   "metadata": {
    "id": "J9sItS6qNh9u"
   },
   "source": [
    "### Step 10. Good, now we have the monthly data. Now change the frequency to year."
   ]
  },
  {
   "cell_type": "code",
   "execution_count": 23,
   "metadata": {
    "id": "KliiNQjNNh9u",
    "outputId": "49cd9c48-3ca9-4ba1-94d5-89dd4ad25391"
   },
   "outputs": [
    {
     "output_type": "execute_result",
     "data": {
      "text/plain": [
       "            Total Equity  Domestic Equity  World Equity  Hybrid  Total Bond  \\\n",
       "Date                                                                          \n",
       "2012-12-31        -26156           -23126         -3031     526        9848   \n",
       "2013-12-31          3661            -1627          5288    2730       12149   \n",
       "2014-12-31           330           -44689         45021   19570       59890   \n",
       "2015-12-31         15049           -10459         25508    7280       26028   \n",
       "\n",
       "            Taxable Bond  Municipal Bond  Total  \n",
       "Date                                             \n",
       "2012-12-31         12613           -2765 -15782  \n",
       "2013-12-31          9414            2735  18540  \n",
       "2014-12-31         44994           14896  79787  \n",
       "2015-12-31         17986            8041  48357  "
      ],
      "text/html": "<div>\n<style scoped>\n    .dataframe tbody tr th:only-of-type {\n        vertical-align: middle;\n    }\n\n    .dataframe tbody tr th {\n        vertical-align: top;\n    }\n\n    .dataframe thead th {\n        text-align: right;\n    }\n</style>\n<table border=\"1\" class=\"dataframe\">\n  <thead>\n    <tr style=\"text-align: right;\">\n      <th></th>\n      <th>Total Equity</th>\n      <th>Domestic Equity</th>\n      <th>World Equity</th>\n      <th>Hybrid</th>\n      <th>Total Bond</th>\n      <th>Taxable Bond</th>\n      <th>Municipal Bond</th>\n      <th>Total</th>\n    </tr>\n    <tr>\n      <th>Date</th>\n      <th></th>\n      <th></th>\n      <th></th>\n      <th></th>\n      <th></th>\n      <th></th>\n      <th></th>\n      <th></th>\n    </tr>\n  </thead>\n  <tbody>\n    <tr>\n      <th>2012-12-31</th>\n      <td>-26156</td>\n      <td>-23126</td>\n      <td>-3031</td>\n      <td>526</td>\n      <td>9848</td>\n      <td>12613</td>\n      <td>-2765</td>\n      <td>-15782</td>\n    </tr>\n    <tr>\n      <th>2013-12-31</th>\n      <td>3661</td>\n      <td>-1627</td>\n      <td>5288</td>\n      <td>2730</td>\n      <td>12149</td>\n      <td>9414</td>\n      <td>2735</td>\n      <td>18540</td>\n    </tr>\n    <tr>\n      <th>2014-12-31</th>\n      <td>330</td>\n      <td>-44689</td>\n      <td>45021</td>\n      <td>19570</td>\n      <td>59890</td>\n      <td>44994</td>\n      <td>14896</td>\n      <td>79787</td>\n    </tr>\n    <tr>\n      <th>2015-12-31</th>\n      <td>15049</td>\n      <td>-10459</td>\n      <td>25508</td>\n      <td>7280</td>\n      <td>26028</td>\n      <td>17986</td>\n      <td>8041</td>\n      <td>48357</td>\n    </tr>\n  </tbody>\n</table>\n</div>"
     },
     "metadata": {},
     "execution_count": 23
    }
   ],
   "source": [
    "yearly_df = df.resample('Y')\n",
    "yearly_df.sum()"
   ]
  },
  {
   "cell_type": "code",
   "execution_count": null,
   "metadata": {},
   "outputs": [],
   "source": []
  },
  {
   "cell_type": "markdown",
   "metadata": {
    "id": "sQebyJkSNh9x"
   },
   "source": [
    "### BONUS: Create your own question and answer it."
   ]
  },
  {
   "source": [
    "#### Dibuja gráfica de la tendencia mensualmente de 'Domestic Equity' (Renta variable nacional)"
   ],
   "cell_type": "markdown",
   "metadata": {
    "id": "YTGdiv48Nh9y"
   }
  },
  {
   "cell_type": "code",
   "execution_count": 36,
   "metadata": {},
   "outputs": [
    {
     "output_type": "execute_result",
     "data": {
      "text/plain": [
       "Date\n",
       "2012-12-31   -5781.500000\n",
       "2013-01-31    -813.500000\n",
       "2013-02-28            NaN\n",
       "2013-03-31            NaN\n",
       "2013-04-30            NaN\n",
       "2013-05-31            NaN\n",
       "2013-06-30            NaN\n",
       "2013-07-31            NaN\n",
       "2013-08-31            NaN\n",
       "2013-09-30            NaN\n",
       "2013-10-31            NaN\n",
       "2013-11-30            NaN\n",
       "2013-12-31            NaN\n",
       "2014-01-31            NaN\n",
       "2014-02-28            NaN\n",
       "2014-03-31            NaN\n",
       "2014-04-30     209.600000\n",
       "2014-05-31   -2180.000000\n",
       "2014-06-30   -1636.500000\n",
       "2014-07-31   -3709.333333\n",
       "2014-08-31   -1377.000000\n",
       "2014-09-30   -3298.000000\n",
       "2014-10-31            NaN\n",
       "2014-11-30   -1809.750000\n",
       "2014-12-31            NaN\n",
       "2015-01-31    -291.000000\n",
       "2015-02-28    1754.500000\n",
       "2015-03-31   -2044.000000\n",
       "2015-04-30   -2314.000000\n",
       "Freq: M, Name: Domestic Equity, dtype: float64"
      ]
     },
     "metadata": {},
     "execution_count": 36
    }
   ],
   "source": [
    "df.resample('M').mean()['Domestic Equity']"
   ]
  },
  {
   "cell_type": "code",
   "execution_count": 39,
   "metadata": {},
   "outputs": [
    {
     "output_type": "execute_result",
     "data": {
      "text/plain": [
       "            Total Equity  Domestic Equity  World Equity  Hybrid  Total Bond  \\\n",
       "Date                                                                          \n",
       "2012-12-05         -7426            -6060         -1367     -74        5317   \n",
       "2012-12-12         -8783            -7520         -1263     123        1818   \n",
       "2012-12-19         -5496            -5470           -26     -73         103   \n",
       "2012-12-26         -4451            -4076          -375     550        2610   \n",
       "2013-01-02        -11156            -9622         -1533    -158        2383   \n",
       "2013-01-09         14817             7995          6821    2888        9766   \n",
       "2014-04-02          3155              938          2217     265        3379   \n",
       "2014-04-09          5761             2080          3681    1482        1609   \n",
       "2014-04-16          2286              634          1652    1186         633   \n",
       "2014-04-23          3530             1392          2138    1239        1984   \n",
       "2014-04-30         -3890            -3996           106     759         888   \n",
       "2014-05-07           632            -2006          2639    -340        5493   \n",
       "2014-05-14         -1079            -2321          1242    1188        4037   \n",
       "2014-05-21           697            -1790          2487    1216        2196   \n",
       "2014-05-28         -2453            -2603           150    1108        2041   \n",
       "2014-06-04          2098            -1148          3246    1123         188   \n",
       "2014-06-11          1236            -1840          3075    1159        2112   \n",
       "2014-06-18          -922            -2204          1282    1060        4159   \n",
       "2014-06-25           -93            -1354          1262    1246        3256   \n",
       "2014-07-02         -7835            -8887          1052     636        2979   \n",
       "2014-07-09           666            -1070          1736    1006        2721   \n",
       "2014-07-30           118            -1171          1290    1024        1806   \n",
       "2014-08-06          -471            -3073          2602    -375       -8193   \n",
       "2014-08-13           320             -974          1294     496        1436   \n",
       "2014-08-20          2671              738          1933     821        4999   \n",
       "2014-08-27          -577            -2199          1623     943        3655   \n",
       "2014-09-03         -4024            -5305          1281     544        2430   \n",
       "2014-09-10          1257            -1291          2548    1055        1554   \n",
       "2014-11-05           -32            -1634          1602    -176        5813   \n",
       "2014-11-12          1464               61          1403     963        3596   \n",
       "2014-11-19         -3010            -3622           611      99        2529   \n",
       "2014-11-25         -1175            -2044           869    -157        2590   \n",
       "2015-01-07         -3913            -5438          1525   -1057       -3403   \n",
       "2015-01-14          1774              -37          1811     248        3549   \n",
       "2015-01-21          1267              856           411     790        1258   \n",
       "2015-01-28          4343             3455           888    1748        5964   \n",
       "2015-02-04          4240             3536           703     793        3237   \n",
       "2015-02-11          1268              -27          1296     959        5862   \n",
       "2015-03-04           999            -1933          2932     528        4984   \n",
       "2015-03-11          3911               -7          3918     851        1298   \n",
       "2015-03-18          1948            -1758          3706     912         452   \n",
       "2015-03-25         -1167            -4478          3311     538        2404   \n",
       "2015-04-01         -1527            -3307          1780     720       -1296   \n",
       "2015-04-08          1906            -1321          3227     250        1719   \n",
       "\n",
       "            Taxable Bond  Municipal Bond  Total  \n",
       "Date                                             \n",
       "2012-12-05          4210            1107  -2183  \n",
       "2012-12-12          1598             219  -6842  \n",
       "2012-12-19          3472           -3369  -5466  \n",
       "2012-12-26          3333            -722  -1291  \n",
       "2013-01-02          2103             280  -8931  \n",
       "2013-01-09          7311            2455  27471  \n",
       "2014-04-02          3129             250   6799  \n",
       "2014-04-09          1448             161   8852  \n",
       "2014-04-16           604              29   4105  \n",
       "2014-04-23          1453             531   6753  \n",
       "2014-04-30           559             329  -2242  \n",
       "2014-05-07          4417            1076   5785  \n",
       "2014-05-14          3141             897   4146  \n",
       "2014-05-21          1398             798   4109  \n",
       "2014-05-28          1236             805    696  \n",
       "2014-06-04          -470             658   3409  \n",
       "2014-06-11          1587             524   4506  \n",
       "2014-06-18          3740             419   4297  \n",
       "2014-06-25          2694             562   4409  \n",
       "2014-07-02          2704             276  -4220  \n",
       "2014-07-09          3203            -482   4393  \n",
       "2014-07-30          1119             687   2949  \n",
       "2014-08-06         -8658             465  -9040  \n",
       "2014-08-13           539             897   2252  \n",
       "2014-08-20          4185             814   8490  \n",
       "2014-08-27          2921             734   4021  \n",
       "2014-09-03          1768             661  -1050  \n",
       "2014-09-10           711             843   3866  \n",
       "2014-11-05          5284             529   5604  \n",
       "2014-11-12          2703             893   6023  \n",
       "2014-11-19          1758             771   -383  \n",
       "2014-11-25          1821             769   1258  \n",
       "2015-01-07         -4729            1326  -8373  \n",
       "2015-01-14          2582             967   5572  \n",
       "2015-01-21           220            1038   3315  \n",
       "2015-01-28          4689            1275  12055  \n",
       "2015-02-04          2274             963   8270  \n",
       "2015-02-11          5169             693   8089  \n",
       "2015-03-04          4309             675   6511  \n",
       "2015-03-11           999             298   6059  \n",
       "2015-03-18           258             194   3312  \n",
       "2015-03-25          1701             703   1775  \n",
       "2015-04-01         -1392              96  -2103  \n",
       "2015-04-08          1906            -187   3875  "
      ],
      "text/html": "<div>\n<style scoped>\n    .dataframe tbody tr th:only-of-type {\n        vertical-align: middle;\n    }\n\n    .dataframe tbody tr th {\n        vertical-align: top;\n    }\n\n    .dataframe thead th {\n        text-align: right;\n    }\n</style>\n<table border=\"1\" class=\"dataframe\">\n  <thead>\n    <tr style=\"text-align: right;\">\n      <th></th>\n      <th>Total Equity</th>\n      <th>Domestic Equity</th>\n      <th>World Equity</th>\n      <th>Hybrid</th>\n      <th>Total Bond</th>\n      <th>Taxable Bond</th>\n      <th>Municipal Bond</th>\n      <th>Total</th>\n    </tr>\n    <tr>\n      <th>Date</th>\n      <th></th>\n      <th></th>\n      <th></th>\n      <th></th>\n      <th></th>\n      <th></th>\n      <th></th>\n      <th></th>\n    </tr>\n  </thead>\n  <tbody>\n    <tr>\n      <th>2012-12-05</th>\n      <td>-7426</td>\n      <td>-6060</td>\n      <td>-1367</td>\n      <td>-74</td>\n      <td>5317</td>\n      <td>4210</td>\n      <td>1107</td>\n      <td>-2183</td>\n    </tr>\n    <tr>\n      <th>2012-12-12</th>\n      <td>-8783</td>\n      <td>-7520</td>\n      <td>-1263</td>\n      <td>123</td>\n      <td>1818</td>\n      <td>1598</td>\n      <td>219</td>\n      <td>-6842</td>\n    </tr>\n    <tr>\n      <th>2012-12-19</th>\n      <td>-5496</td>\n      <td>-5470</td>\n      <td>-26</td>\n      <td>-73</td>\n      <td>103</td>\n      <td>3472</td>\n      <td>-3369</td>\n      <td>-5466</td>\n    </tr>\n    <tr>\n      <th>2012-12-26</th>\n      <td>-4451</td>\n      <td>-4076</td>\n      <td>-375</td>\n      <td>550</td>\n      <td>2610</td>\n      <td>3333</td>\n      <td>-722</td>\n      <td>-1291</td>\n    </tr>\n    <tr>\n      <th>2013-01-02</th>\n      <td>-11156</td>\n      <td>-9622</td>\n      <td>-1533</td>\n      <td>-158</td>\n      <td>2383</td>\n      <td>2103</td>\n      <td>280</td>\n      <td>-8931</td>\n    </tr>\n    <tr>\n      <th>2013-01-09</th>\n      <td>14817</td>\n      <td>7995</td>\n      <td>6821</td>\n      <td>2888</td>\n      <td>9766</td>\n      <td>7311</td>\n      <td>2455</td>\n      <td>27471</td>\n    </tr>\n    <tr>\n      <th>2014-04-02</th>\n      <td>3155</td>\n      <td>938</td>\n      <td>2217</td>\n      <td>265</td>\n      <td>3379</td>\n      <td>3129</td>\n      <td>250</td>\n      <td>6799</td>\n    </tr>\n    <tr>\n      <th>2014-04-09</th>\n      <td>5761</td>\n      <td>2080</td>\n      <td>3681</td>\n      <td>1482</td>\n      <td>1609</td>\n      <td>1448</td>\n      <td>161</td>\n      <td>8852</td>\n    </tr>\n    <tr>\n      <th>2014-04-16</th>\n      <td>2286</td>\n      <td>634</td>\n      <td>1652</td>\n      <td>1186</td>\n      <td>633</td>\n      <td>604</td>\n      <td>29</td>\n      <td>4105</td>\n    </tr>\n    <tr>\n      <th>2014-04-23</th>\n      <td>3530</td>\n      <td>1392</td>\n      <td>2138</td>\n      <td>1239</td>\n      <td>1984</td>\n      <td>1453</td>\n      <td>531</td>\n      <td>6753</td>\n    </tr>\n    <tr>\n      <th>2014-04-30</th>\n      <td>-3890</td>\n      <td>-3996</td>\n      <td>106</td>\n      <td>759</td>\n      <td>888</td>\n      <td>559</td>\n      <td>329</td>\n      <td>-2242</td>\n    </tr>\n    <tr>\n      <th>2014-05-07</th>\n      <td>632</td>\n      <td>-2006</td>\n      <td>2639</td>\n      <td>-340</td>\n      <td>5493</td>\n      <td>4417</td>\n      <td>1076</td>\n      <td>5785</td>\n    </tr>\n    <tr>\n      <th>2014-05-14</th>\n      <td>-1079</td>\n      <td>-2321</td>\n      <td>1242</td>\n      <td>1188</td>\n      <td>4037</td>\n      <td>3141</td>\n      <td>897</td>\n      <td>4146</td>\n    </tr>\n    <tr>\n      <th>2014-05-21</th>\n      <td>697</td>\n      <td>-1790</td>\n      <td>2487</td>\n      <td>1216</td>\n      <td>2196</td>\n      <td>1398</td>\n      <td>798</td>\n      <td>4109</td>\n    </tr>\n    <tr>\n      <th>2014-05-28</th>\n      <td>-2453</td>\n      <td>-2603</td>\n      <td>150</td>\n      <td>1108</td>\n      <td>2041</td>\n      <td>1236</td>\n      <td>805</td>\n      <td>696</td>\n    </tr>\n    <tr>\n      <th>2014-06-04</th>\n      <td>2098</td>\n      <td>-1148</td>\n      <td>3246</td>\n      <td>1123</td>\n      <td>188</td>\n      <td>-470</td>\n      <td>658</td>\n      <td>3409</td>\n    </tr>\n    <tr>\n      <th>2014-06-11</th>\n      <td>1236</td>\n      <td>-1840</td>\n      <td>3075</td>\n      <td>1159</td>\n      <td>2112</td>\n      <td>1587</td>\n      <td>524</td>\n      <td>4506</td>\n    </tr>\n    <tr>\n      <th>2014-06-18</th>\n      <td>-922</td>\n      <td>-2204</td>\n      <td>1282</td>\n      <td>1060</td>\n      <td>4159</td>\n      <td>3740</td>\n      <td>419</td>\n      <td>4297</td>\n    </tr>\n    <tr>\n      <th>2014-06-25</th>\n      <td>-93</td>\n      <td>-1354</td>\n      <td>1262</td>\n      <td>1246</td>\n      <td>3256</td>\n      <td>2694</td>\n      <td>562</td>\n      <td>4409</td>\n    </tr>\n    <tr>\n      <th>2014-07-02</th>\n      <td>-7835</td>\n      <td>-8887</td>\n      <td>1052</td>\n      <td>636</td>\n      <td>2979</td>\n      <td>2704</td>\n      <td>276</td>\n      <td>-4220</td>\n    </tr>\n    <tr>\n      <th>2014-07-09</th>\n      <td>666</td>\n      <td>-1070</td>\n      <td>1736</td>\n      <td>1006</td>\n      <td>2721</td>\n      <td>3203</td>\n      <td>-482</td>\n      <td>4393</td>\n    </tr>\n    <tr>\n      <th>2014-07-30</th>\n      <td>118</td>\n      <td>-1171</td>\n      <td>1290</td>\n      <td>1024</td>\n      <td>1806</td>\n      <td>1119</td>\n      <td>687</td>\n      <td>2949</td>\n    </tr>\n    <tr>\n      <th>2014-08-06</th>\n      <td>-471</td>\n      <td>-3073</td>\n      <td>2602</td>\n      <td>-375</td>\n      <td>-8193</td>\n      <td>-8658</td>\n      <td>465</td>\n      <td>-9040</td>\n    </tr>\n    <tr>\n      <th>2014-08-13</th>\n      <td>320</td>\n      <td>-974</td>\n      <td>1294</td>\n      <td>496</td>\n      <td>1436</td>\n      <td>539</td>\n      <td>897</td>\n      <td>2252</td>\n    </tr>\n    <tr>\n      <th>2014-08-20</th>\n      <td>2671</td>\n      <td>738</td>\n      <td>1933</td>\n      <td>821</td>\n      <td>4999</td>\n      <td>4185</td>\n      <td>814</td>\n      <td>8490</td>\n    </tr>\n    <tr>\n      <th>2014-08-27</th>\n      <td>-577</td>\n      <td>-2199</td>\n      <td>1623</td>\n      <td>943</td>\n      <td>3655</td>\n      <td>2921</td>\n      <td>734</td>\n      <td>4021</td>\n    </tr>\n    <tr>\n      <th>2014-09-03</th>\n      <td>-4024</td>\n      <td>-5305</td>\n      <td>1281</td>\n      <td>544</td>\n      <td>2430</td>\n      <td>1768</td>\n      <td>661</td>\n      <td>-1050</td>\n    </tr>\n    <tr>\n      <th>2014-09-10</th>\n      <td>1257</td>\n      <td>-1291</td>\n      <td>2548</td>\n      <td>1055</td>\n      <td>1554</td>\n      <td>711</td>\n      <td>843</td>\n      <td>3866</td>\n    </tr>\n    <tr>\n      <th>2014-11-05</th>\n      <td>-32</td>\n      <td>-1634</td>\n      <td>1602</td>\n      <td>-176</td>\n      <td>5813</td>\n      <td>5284</td>\n      <td>529</td>\n      <td>5604</td>\n    </tr>\n    <tr>\n      <th>2014-11-12</th>\n      <td>1464</td>\n      <td>61</td>\n      <td>1403</td>\n      <td>963</td>\n      <td>3596</td>\n      <td>2703</td>\n      <td>893</td>\n      <td>6023</td>\n    </tr>\n    <tr>\n      <th>2014-11-19</th>\n      <td>-3010</td>\n      <td>-3622</td>\n      <td>611</td>\n      <td>99</td>\n      <td>2529</td>\n      <td>1758</td>\n      <td>771</td>\n      <td>-383</td>\n    </tr>\n    <tr>\n      <th>2014-11-25</th>\n      <td>-1175</td>\n      <td>-2044</td>\n      <td>869</td>\n      <td>-157</td>\n      <td>2590</td>\n      <td>1821</td>\n      <td>769</td>\n      <td>1258</td>\n    </tr>\n    <tr>\n      <th>2015-01-07</th>\n      <td>-3913</td>\n      <td>-5438</td>\n      <td>1525</td>\n      <td>-1057</td>\n      <td>-3403</td>\n      <td>-4729</td>\n      <td>1326</td>\n      <td>-8373</td>\n    </tr>\n    <tr>\n      <th>2015-01-14</th>\n      <td>1774</td>\n      <td>-37</td>\n      <td>1811</td>\n      <td>248</td>\n      <td>3549</td>\n      <td>2582</td>\n      <td>967</td>\n      <td>5572</td>\n    </tr>\n    <tr>\n      <th>2015-01-21</th>\n      <td>1267</td>\n      <td>856</td>\n      <td>411</td>\n      <td>790</td>\n      <td>1258</td>\n      <td>220</td>\n      <td>1038</td>\n      <td>3315</td>\n    </tr>\n    <tr>\n      <th>2015-01-28</th>\n      <td>4343</td>\n      <td>3455</td>\n      <td>888</td>\n      <td>1748</td>\n      <td>5964</td>\n      <td>4689</td>\n      <td>1275</td>\n      <td>12055</td>\n    </tr>\n    <tr>\n      <th>2015-02-04</th>\n      <td>4240</td>\n      <td>3536</td>\n      <td>703</td>\n      <td>793</td>\n      <td>3237</td>\n      <td>2274</td>\n      <td>963</td>\n      <td>8270</td>\n    </tr>\n    <tr>\n      <th>2015-02-11</th>\n      <td>1268</td>\n      <td>-27</td>\n      <td>1296</td>\n      <td>959</td>\n      <td>5862</td>\n      <td>5169</td>\n      <td>693</td>\n      <td>8089</td>\n    </tr>\n    <tr>\n      <th>2015-03-04</th>\n      <td>999</td>\n      <td>-1933</td>\n      <td>2932</td>\n      <td>528</td>\n      <td>4984</td>\n      <td>4309</td>\n      <td>675</td>\n      <td>6511</td>\n    </tr>\n    <tr>\n      <th>2015-03-11</th>\n      <td>3911</td>\n      <td>-7</td>\n      <td>3918</td>\n      <td>851</td>\n      <td>1298</td>\n      <td>999</td>\n      <td>298</td>\n      <td>6059</td>\n    </tr>\n    <tr>\n      <th>2015-03-18</th>\n      <td>1948</td>\n      <td>-1758</td>\n      <td>3706</td>\n      <td>912</td>\n      <td>452</td>\n      <td>258</td>\n      <td>194</td>\n      <td>3312</td>\n    </tr>\n    <tr>\n      <th>2015-03-25</th>\n      <td>-1167</td>\n      <td>-4478</td>\n      <td>3311</td>\n      <td>538</td>\n      <td>2404</td>\n      <td>1701</td>\n      <td>703</td>\n      <td>1775</td>\n    </tr>\n    <tr>\n      <th>2015-04-01</th>\n      <td>-1527</td>\n      <td>-3307</td>\n      <td>1780</td>\n      <td>720</td>\n      <td>-1296</td>\n      <td>-1392</td>\n      <td>96</td>\n      <td>-2103</td>\n    </tr>\n    <tr>\n      <th>2015-04-08</th>\n      <td>1906</td>\n      <td>-1321</td>\n      <td>3227</td>\n      <td>250</td>\n      <td>1719</td>\n      <td>1906</td>\n      <td>-187</td>\n      <td>3875</td>\n    </tr>\n  </tbody>\n</table>\n</div>"
     },
     "metadata": {},
     "execution_count": 39
    }
   ],
   "source": [
    "df = df.dropna(axis=0)\n",
    "df"
   ]
  },
  {
   "cell_type": "code",
   "execution_count": 40,
   "metadata": {},
   "outputs": [
    {
     "output_type": "execute_result",
     "data": {
      "text/plain": [
       "            Total Equity  Domestic Equity  World Equity       Hybrid  \\\n",
       "Date                                                                   \n",
       "2012-12-31  -6539.000000     -5781.500000   -757.750000   131.500000   \n",
       "2013-01-31   1830.500000      -813.500000   2644.000000  1365.000000   \n",
       "2013-02-28           NaN              NaN           NaN          NaN   \n",
       "2013-03-31           NaN              NaN           NaN          NaN   \n",
       "2013-04-30           NaN              NaN           NaN          NaN   \n",
       "2013-05-31           NaN              NaN           NaN          NaN   \n",
       "2013-06-30           NaN              NaN           NaN          NaN   \n",
       "2013-07-31           NaN              NaN           NaN          NaN   \n",
       "2013-08-31           NaN              NaN           NaN          NaN   \n",
       "2013-09-30           NaN              NaN           NaN          NaN   \n",
       "2013-10-31           NaN              NaN           NaN          NaN   \n",
       "2013-11-30           NaN              NaN           NaN          NaN   \n",
       "2013-12-31           NaN              NaN           NaN          NaN   \n",
       "2014-01-31           NaN              NaN           NaN          NaN   \n",
       "2014-02-28           NaN              NaN           NaN          NaN   \n",
       "2014-03-31           NaN              NaN           NaN          NaN   \n",
       "2014-04-30   2168.400000       209.600000   1958.800000   986.200000   \n",
       "2014-05-31   -550.750000     -2180.000000   1629.500000   793.000000   \n",
       "2014-06-30    579.750000     -1636.500000   2216.250000  1147.000000   \n",
       "2014-07-31  -2350.333333     -3709.333333   1359.333333   888.666667   \n",
       "2014-08-31    485.750000     -1377.000000   1863.000000   471.250000   \n",
       "2014-09-30  -1383.500000     -3298.000000   1914.500000   799.500000   \n",
       "2014-10-31           NaN              NaN           NaN          NaN   \n",
       "2014-11-30   -688.250000     -1809.750000   1121.250000   182.250000   \n",
       "2014-12-31           NaN              NaN           NaN          NaN   \n",
       "2015-01-31    867.750000      -291.000000   1158.750000   432.250000   \n",
       "2015-02-28   2754.000000      1754.500000    999.500000   876.000000   \n",
       "2015-03-31   1422.750000     -2044.000000   3466.750000   707.250000   \n",
       "2015-04-30    189.500000     -2314.000000   2503.500000   485.000000   \n",
       "\n",
       "            Total Bond  Taxable Bond  Municipal Bond        Total  \n",
       "Date                                                               \n",
       "2012-12-31     2462.00       3153.25     -691.250000 -3945.500000  \n",
       "2013-01-31     6074.50       4707.00     1367.500000  9270.000000  \n",
       "2013-02-28         NaN           NaN             NaN          NaN  \n",
       "2013-03-31         NaN           NaN             NaN          NaN  \n",
       "2013-04-30         NaN           NaN             NaN          NaN  \n",
       "2013-05-31         NaN           NaN             NaN          NaN  \n",
       "2013-06-30         NaN           NaN             NaN          NaN  \n",
       "2013-07-31         NaN           NaN             NaN          NaN  \n",
       "2013-08-31         NaN           NaN             NaN          NaN  \n",
       "2013-09-30         NaN           NaN             NaN          NaN  \n",
       "2013-10-31         NaN           NaN             NaN          NaN  \n",
       "2013-11-30         NaN           NaN             NaN          NaN  \n",
       "2013-12-31         NaN           NaN             NaN          NaN  \n",
       "2014-01-31         NaN           NaN             NaN          NaN  \n",
       "2014-02-28         NaN           NaN             NaN          NaN  \n",
       "2014-03-31         NaN           NaN             NaN          NaN  \n",
       "2014-04-30     1698.60       1438.60      260.000000  4853.400000  \n",
       "2014-05-31     3441.75       2548.00      894.000000  3684.000000  \n",
       "2014-06-30     2428.75       1887.75      540.750000  4155.250000  \n",
       "2014-07-31     2502.00       2342.00      160.333333  1040.666667  \n",
       "2014-08-31      474.25       -253.25      727.500000  1430.750000  \n",
       "2014-09-30     1992.00       1239.50      752.000000  1408.000000  \n",
       "2014-10-31         NaN           NaN             NaN          NaN  \n",
       "2014-11-30     3632.00       2891.50      740.500000  3125.500000  \n",
       "2014-12-31         NaN           NaN             NaN          NaN  \n",
       "2015-01-31     1842.00        690.50     1151.500000  3142.250000  \n",
       "2015-02-28     4549.50       3721.50      828.000000  8179.500000  \n",
       "2015-03-31     2284.50       1816.75      467.500000  4414.250000  \n",
       "2015-04-30      211.50        257.00      -45.500000   886.000000  "
      ],
      "text/html": "<div>\n<style scoped>\n    .dataframe tbody tr th:only-of-type {\n        vertical-align: middle;\n    }\n\n    .dataframe tbody tr th {\n        vertical-align: top;\n    }\n\n    .dataframe thead th {\n        text-align: right;\n    }\n</style>\n<table border=\"1\" class=\"dataframe\">\n  <thead>\n    <tr style=\"text-align: right;\">\n      <th></th>\n      <th>Total Equity</th>\n      <th>Domestic Equity</th>\n      <th>World Equity</th>\n      <th>Hybrid</th>\n      <th>Total Bond</th>\n      <th>Taxable Bond</th>\n      <th>Municipal Bond</th>\n      <th>Total</th>\n    </tr>\n    <tr>\n      <th>Date</th>\n      <th></th>\n      <th></th>\n      <th></th>\n      <th></th>\n      <th></th>\n      <th></th>\n      <th></th>\n      <th></th>\n    </tr>\n  </thead>\n  <tbody>\n    <tr>\n      <th>2012-12-31</th>\n      <td>-6539.000000</td>\n      <td>-5781.500000</td>\n      <td>-757.750000</td>\n      <td>131.500000</td>\n      <td>2462.00</td>\n      <td>3153.25</td>\n      <td>-691.250000</td>\n      <td>-3945.500000</td>\n    </tr>\n    <tr>\n      <th>2013-01-31</th>\n      <td>1830.500000</td>\n      <td>-813.500000</td>\n      <td>2644.000000</td>\n      <td>1365.000000</td>\n      <td>6074.50</td>\n      <td>4707.00</td>\n      <td>1367.500000</td>\n      <td>9270.000000</td>\n    </tr>\n    <tr>\n      <th>2013-02-28</th>\n      <td>NaN</td>\n      <td>NaN</td>\n      <td>NaN</td>\n      <td>NaN</td>\n      <td>NaN</td>\n      <td>NaN</td>\n      <td>NaN</td>\n      <td>NaN</td>\n    </tr>\n    <tr>\n      <th>2013-03-31</th>\n      <td>NaN</td>\n      <td>NaN</td>\n      <td>NaN</td>\n      <td>NaN</td>\n      <td>NaN</td>\n      <td>NaN</td>\n      <td>NaN</td>\n      <td>NaN</td>\n    </tr>\n    <tr>\n      <th>2013-04-30</th>\n      <td>NaN</td>\n      <td>NaN</td>\n      <td>NaN</td>\n      <td>NaN</td>\n      <td>NaN</td>\n      <td>NaN</td>\n      <td>NaN</td>\n      <td>NaN</td>\n    </tr>\n    <tr>\n      <th>2013-05-31</th>\n      <td>NaN</td>\n      <td>NaN</td>\n      <td>NaN</td>\n      <td>NaN</td>\n      <td>NaN</td>\n      <td>NaN</td>\n      <td>NaN</td>\n      <td>NaN</td>\n    </tr>\n    <tr>\n      <th>2013-06-30</th>\n      <td>NaN</td>\n      <td>NaN</td>\n      <td>NaN</td>\n      <td>NaN</td>\n      <td>NaN</td>\n      <td>NaN</td>\n      <td>NaN</td>\n      <td>NaN</td>\n    </tr>\n    <tr>\n      <th>2013-07-31</th>\n      <td>NaN</td>\n      <td>NaN</td>\n      <td>NaN</td>\n      <td>NaN</td>\n      <td>NaN</td>\n      <td>NaN</td>\n      <td>NaN</td>\n      <td>NaN</td>\n    </tr>\n    <tr>\n      <th>2013-08-31</th>\n      <td>NaN</td>\n      <td>NaN</td>\n      <td>NaN</td>\n      <td>NaN</td>\n      <td>NaN</td>\n      <td>NaN</td>\n      <td>NaN</td>\n      <td>NaN</td>\n    </tr>\n    <tr>\n      <th>2013-09-30</th>\n      <td>NaN</td>\n      <td>NaN</td>\n      <td>NaN</td>\n      <td>NaN</td>\n      <td>NaN</td>\n      <td>NaN</td>\n      <td>NaN</td>\n      <td>NaN</td>\n    </tr>\n    <tr>\n      <th>2013-10-31</th>\n      <td>NaN</td>\n      <td>NaN</td>\n      <td>NaN</td>\n      <td>NaN</td>\n      <td>NaN</td>\n      <td>NaN</td>\n      <td>NaN</td>\n      <td>NaN</td>\n    </tr>\n    <tr>\n      <th>2013-11-30</th>\n      <td>NaN</td>\n      <td>NaN</td>\n      <td>NaN</td>\n      <td>NaN</td>\n      <td>NaN</td>\n      <td>NaN</td>\n      <td>NaN</td>\n      <td>NaN</td>\n    </tr>\n    <tr>\n      <th>2013-12-31</th>\n      <td>NaN</td>\n      <td>NaN</td>\n      <td>NaN</td>\n      <td>NaN</td>\n      <td>NaN</td>\n      <td>NaN</td>\n      <td>NaN</td>\n      <td>NaN</td>\n    </tr>\n    <tr>\n      <th>2014-01-31</th>\n      <td>NaN</td>\n      <td>NaN</td>\n      <td>NaN</td>\n      <td>NaN</td>\n      <td>NaN</td>\n      <td>NaN</td>\n      <td>NaN</td>\n      <td>NaN</td>\n    </tr>\n    <tr>\n      <th>2014-02-28</th>\n      <td>NaN</td>\n      <td>NaN</td>\n      <td>NaN</td>\n      <td>NaN</td>\n      <td>NaN</td>\n      <td>NaN</td>\n      <td>NaN</td>\n      <td>NaN</td>\n    </tr>\n    <tr>\n      <th>2014-03-31</th>\n      <td>NaN</td>\n      <td>NaN</td>\n      <td>NaN</td>\n      <td>NaN</td>\n      <td>NaN</td>\n      <td>NaN</td>\n      <td>NaN</td>\n      <td>NaN</td>\n    </tr>\n    <tr>\n      <th>2014-04-30</th>\n      <td>2168.400000</td>\n      <td>209.600000</td>\n      <td>1958.800000</td>\n      <td>986.200000</td>\n      <td>1698.60</td>\n      <td>1438.60</td>\n      <td>260.000000</td>\n      <td>4853.400000</td>\n    </tr>\n    <tr>\n      <th>2014-05-31</th>\n      <td>-550.750000</td>\n      <td>-2180.000000</td>\n      <td>1629.500000</td>\n      <td>793.000000</td>\n      <td>3441.75</td>\n      <td>2548.00</td>\n      <td>894.000000</td>\n      <td>3684.000000</td>\n    </tr>\n    <tr>\n      <th>2014-06-30</th>\n      <td>579.750000</td>\n      <td>-1636.500000</td>\n      <td>2216.250000</td>\n      <td>1147.000000</td>\n      <td>2428.75</td>\n      <td>1887.75</td>\n      <td>540.750000</td>\n      <td>4155.250000</td>\n    </tr>\n    <tr>\n      <th>2014-07-31</th>\n      <td>-2350.333333</td>\n      <td>-3709.333333</td>\n      <td>1359.333333</td>\n      <td>888.666667</td>\n      <td>2502.00</td>\n      <td>2342.00</td>\n      <td>160.333333</td>\n      <td>1040.666667</td>\n    </tr>\n    <tr>\n      <th>2014-08-31</th>\n      <td>485.750000</td>\n      <td>-1377.000000</td>\n      <td>1863.000000</td>\n      <td>471.250000</td>\n      <td>474.25</td>\n      <td>-253.25</td>\n      <td>727.500000</td>\n      <td>1430.750000</td>\n    </tr>\n    <tr>\n      <th>2014-09-30</th>\n      <td>-1383.500000</td>\n      <td>-3298.000000</td>\n      <td>1914.500000</td>\n      <td>799.500000</td>\n      <td>1992.00</td>\n      <td>1239.50</td>\n      <td>752.000000</td>\n      <td>1408.000000</td>\n    </tr>\n    <tr>\n      <th>2014-10-31</th>\n      <td>NaN</td>\n      <td>NaN</td>\n      <td>NaN</td>\n      <td>NaN</td>\n      <td>NaN</td>\n      <td>NaN</td>\n      <td>NaN</td>\n      <td>NaN</td>\n    </tr>\n    <tr>\n      <th>2014-11-30</th>\n      <td>-688.250000</td>\n      <td>-1809.750000</td>\n      <td>1121.250000</td>\n      <td>182.250000</td>\n      <td>3632.00</td>\n      <td>2891.50</td>\n      <td>740.500000</td>\n      <td>3125.500000</td>\n    </tr>\n    <tr>\n      <th>2014-12-31</th>\n      <td>NaN</td>\n      <td>NaN</td>\n      <td>NaN</td>\n      <td>NaN</td>\n      <td>NaN</td>\n      <td>NaN</td>\n      <td>NaN</td>\n      <td>NaN</td>\n    </tr>\n    <tr>\n      <th>2015-01-31</th>\n      <td>867.750000</td>\n      <td>-291.000000</td>\n      <td>1158.750000</td>\n      <td>432.250000</td>\n      <td>1842.00</td>\n      <td>690.50</td>\n      <td>1151.500000</td>\n      <td>3142.250000</td>\n    </tr>\n    <tr>\n      <th>2015-02-28</th>\n      <td>2754.000000</td>\n      <td>1754.500000</td>\n      <td>999.500000</td>\n      <td>876.000000</td>\n      <td>4549.50</td>\n      <td>3721.50</td>\n      <td>828.000000</td>\n      <td>8179.500000</td>\n    </tr>\n    <tr>\n      <th>2015-03-31</th>\n      <td>1422.750000</td>\n      <td>-2044.000000</td>\n      <td>3466.750000</td>\n      <td>707.250000</td>\n      <td>2284.50</td>\n      <td>1816.75</td>\n      <td>467.500000</td>\n      <td>4414.250000</td>\n    </tr>\n    <tr>\n      <th>2015-04-30</th>\n      <td>189.500000</td>\n      <td>-2314.000000</td>\n      <td>2503.500000</td>\n      <td>485.000000</td>\n      <td>211.50</td>\n      <td>257.00</td>\n      <td>-45.500000</td>\n      <td>886.000000</td>\n    </tr>\n  </tbody>\n</table>\n</div>"
     },
     "metadata": {},
     "execution_count": 40
    }
   ],
   "source": [
    "monthly_df = df.resample('M').mean()\n",
    "monthly_df "
   ]
  },
  {
   "cell_type": "code",
   "execution_count": 41,
   "metadata": {},
   "outputs": [],
   "source": [
    "monthly_df = monthly_df[(monthly_df.T != 0).any()]"
   ]
  },
  {
   "cell_type": "code",
   "execution_count": 42,
   "metadata": {},
   "outputs": [
    {
     "output_type": "execute_result",
     "data": {
      "text/plain": [
       "            Total Equity  Domestic Equity  World Equity       Hybrid  \\\n",
       "Date                                                                   \n",
       "2012-12-31  -6539.000000     -5781.500000   -757.750000   131.500000   \n",
       "2013-01-31   1830.500000      -813.500000   2644.000000  1365.000000   \n",
       "2013-02-28           NaN              NaN           NaN          NaN   \n",
       "2013-03-31           NaN              NaN           NaN          NaN   \n",
       "2013-04-30           NaN              NaN           NaN          NaN   \n",
       "2013-05-31           NaN              NaN           NaN          NaN   \n",
       "2013-06-30           NaN              NaN           NaN          NaN   \n",
       "2013-07-31           NaN              NaN           NaN          NaN   \n",
       "2013-08-31           NaN              NaN           NaN          NaN   \n",
       "2013-09-30           NaN              NaN           NaN          NaN   \n",
       "2013-10-31           NaN              NaN           NaN          NaN   \n",
       "2013-11-30           NaN              NaN           NaN          NaN   \n",
       "2013-12-31           NaN              NaN           NaN          NaN   \n",
       "2014-01-31           NaN              NaN           NaN          NaN   \n",
       "2014-02-28           NaN              NaN           NaN          NaN   \n",
       "2014-03-31           NaN              NaN           NaN          NaN   \n",
       "2014-04-30   2168.400000       209.600000   1958.800000   986.200000   \n",
       "2014-05-31   -550.750000     -2180.000000   1629.500000   793.000000   \n",
       "2014-06-30    579.750000     -1636.500000   2216.250000  1147.000000   \n",
       "2014-07-31  -2350.333333     -3709.333333   1359.333333   888.666667   \n",
       "2014-08-31    485.750000     -1377.000000   1863.000000   471.250000   \n",
       "2014-09-30  -1383.500000     -3298.000000   1914.500000   799.500000   \n",
       "2014-10-31           NaN              NaN           NaN          NaN   \n",
       "2014-11-30   -688.250000     -1809.750000   1121.250000   182.250000   \n",
       "2014-12-31           NaN              NaN           NaN          NaN   \n",
       "2015-01-31    867.750000      -291.000000   1158.750000   432.250000   \n",
       "2015-02-28   2754.000000      1754.500000    999.500000   876.000000   \n",
       "2015-03-31   1422.750000     -2044.000000   3466.750000   707.250000   \n",
       "2015-04-30    189.500000     -2314.000000   2503.500000   485.000000   \n",
       "\n",
       "            Total Bond  Taxable Bond  Municipal Bond        Total  \n",
       "Date                                                               \n",
       "2012-12-31     2462.00       3153.25     -691.250000 -3945.500000  \n",
       "2013-01-31     6074.50       4707.00     1367.500000  9270.000000  \n",
       "2013-02-28         NaN           NaN             NaN          NaN  \n",
       "2013-03-31         NaN           NaN             NaN          NaN  \n",
       "2013-04-30         NaN           NaN             NaN          NaN  \n",
       "2013-05-31         NaN           NaN             NaN          NaN  \n",
       "2013-06-30         NaN           NaN             NaN          NaN  \n",
       "2013-07-31         NaN           NaN             NaN          NaN  \n",
       "2013-08-31         NaN           NaN             NaN          NaN  \n",
       "2013-09-30         NaN           NaN             NaN          NaN  \n",
       "2013-10-31         NaN           NaN             NaN          NaN  \n",
       "2013-11-30         NaN           NaN             NaN          NaN  \n",
       "2013-12-31         NaN           NaN             NaN          NaN  \n",
       "2014-01-31         NaN           NaN             NaN          NaN  \n",
       "2014-02-28         NaN           NaN             NaN          NaN  \n",
       "2014-03-31         NaN           NaN             NaN          NaN  \n",
       "2014-04-30     1698.60       1438.60      260.000000  4853.400000  \n",
       "2014-05-31     3441.75       2548.00      894.000000  3684.000000  \n",
       "2014-06-30     2428.75       1887.75      540.750000  4155.250000  \n",
       "2014-07-31     2502.00       2342.00      160.333333  1040.666667  \n",
       "2014-08-31      474.25       -253.25      727.500000  1430.750000  \n",
       "2014-09-30     1992.00       1239.50      752.000000  1408.000000  \n",
       "2014-10-31         NaN           NaN             NaN          NaN  \n",
       "2014-11-30     3632.00       2891.50      740.500000  3125.500000  \n",
       "2014-12-31         NaN           NaN             NaN          NaN  \n",
       "2015-01-31     1842.00        690.50     1151.500000  3142.250000  \n",
       "2015-02-28     4549.50       3721.50      828.000000  8179.500000  \n",
       "2015-03-31     2284.50       1816.75      467.500000  4414.250000  \n",
       "2015-04-30      211.50        257.00      -45.500000   886.000000  "
      ],
      "text/html": "<div>\n<style scoped>\n    .dataframe tbody tr th:only-of-type {\n        vertical-align: middle;\n    }\n\n    .dataframe tbody tr th {\n        vertical-align: top;\n    }\n\n    .dataframe thead th {\n        text-align: right;\n    }\n</style>\n<table border=\"1\" class=\"dataframe\">\n  <thead>\n    <tr style=\"text-align: right;\">\n      <th></th>\n      <th>Total Equity</th>\n      <th>Domestic Equity</th>\n      <th>World Equity</th>\n      <th>Hybrid</th>\n      <th>Total Bond</th>\n      <th>Taxable Bond</th>\n      <th>Municipal Bond</th>\n      <th>Total</th>\n    </tr>\n    <tr>\n      <th>Date</th>\n      <th></th>\n      <th></th>\n      <th></th>\n      <th></th>\n      <th></th>\n      <th></th>\n      <th></th>\n      <th></th>\n    </tr>\n  </thead>\n  <tbody>\n    <tr>\n      <th>2012-12-31</th>\n      <td>-6539.000000</td>\n      <td>-5781.500000</td>\n      <td>-757.750000</td>\n      <td>131.500000</td>\n      <td>2462.00</td>\n      <td>3153.25</td>\n      <td>-691.250000</td>\n      <td>-3945.500000</td>\n    </tr>\n    <tr>\n      <th>2013-01-31</th>\n      <td>1830.500000</td>\n      <td>-813.500000</td>\n      <td>2644.000000</td>\n      <td>1365.000000</td>\n      <td>6074.50</td>\n      <td>4707.00</td>\n      <td>1367.500000</td>\n      <td>9270.000000</td>\n    </tr>\n    <tr>\n      <th>2013-02-28</th>\n      <td>NaN</td>\n      <td>NaN</td>\n      <td>NaN</td>\n      <td>NaN</td>\n      <td>NaN</td>\n      <td>NaN</td>\n      <td>NaN</td>\n      <td>NaN</td>\n    </tr>\n    <tr>\n      <th>2013-03-31</th>\n      <td>NaN</td>\n      <td>NaN</td>\n      <td>NaN</td>\n      <td>NaN</td>\n      <td>NaN</td>\n      <td>NaN</td>\n      <td>NaN</td>\n      <td>NaN</td>\n    </tr>\n    <tr>\n      <th>2013-04-30</th>\n      <td>NaN</td>\n      <td>NaN</td>\n      <td>NaN</td>\n      <td>NaN</td>\n      <td>NaN</td>\n      <td>NaN</td>\n      <td>NaN</td>\n      <td>NaN</td>\n    </tr>\n    <tr>\n      <th>2013-05-31</th>\n      <td>NaN</td>\n      <td>NaN</td>\n      <td>NaN</td>\n      <td>NaN</td>\n      <td>NaN</td>\n      <td>NaN</td>\n      <td>NaN</td>\n      <td>NaN</td>\n    </tr>\n    <tr>\n      <th>2013-06-30</th>\n      <td>NaN</td>\n      <td>NaN</td>\n      <td>NaN</td>\n      <td>NaN</td>\n      <td>NaN</td>\n      <td>NaN</td>\n      <td>NaN</td>\n      <td>NaN</td>\n    </tr>\n    <tr>\n      <th>2013-07-31</th>\n      <td>NaN</td>\n      <td>NaN</td>\n      <td>NaN</td>\n      <td>NaN</td>\n      <td>NaN</td>\n      <td>NaN</td>\n      <td>NaN</td>\n      <td>NaN</td>\n    </tr>\n    <tr>\n      <th>2013-08-31</th>\n      <td>NaN</td>\n      <td>NaN</td>\n      <td>NaN</td>\n      <td>NaN</td>\n      <td>NaN</td>\n      <td>NaN</td>\n      <td>NaN</td>\n      <td>NaN</td>\n    </tr>\n    <tr>\n      <th>2013-09-30</th>\n      <td>NaN</td>\n      <td>NaN</td>\n      <td>NaN</td>\n      <td>NaN</td>\n      <td>NaN</td>\n      <td>NaN</td>\n      <td>NaN</td>\n      <td>NaN</td>\n    </tr>\n    <tr>\n      <th>2013-10-31</th>\n      <td>NaN</td>\n      <td>NaN</td>\n      <td>NaN</td>\n      <td>NaN</td>\n      <td>NaN</td>\n      <td>NaN</td>\n      <td>NaN</td>\n      <td>NaN</td>\n    </tr>\n    <tr>\n      <th>2013-11-30</th>\n      <td>NaN</td>\n      <td>NaN</td>\n      <td>NaN</td>\n      <td>NaN</td>\n      <td>NaN</td>\n      <td>NaN</td>\n      <td>NaN</td>\n      <td>NaN</td>\n    </tr>\n    <tr>\n      <th>2013-12-31</th>\n      <td>NaN</td>\n      <td>NaN</td>\n      <td>NaN</td>\n      <td>NaN</td>\n      <td>NaN</td>\n      <td>NaN</td>\n      <td>NaN</td>\n      <td>NaN</td>\n    </tr>\n    <tr>\n      <th>2014-01-31</th>\n      <td>NaN</td>\n      <td>NaN</td>\n      <td>NaN</td>\n      <td>NaN</td>\n      <td>NaN</td>\n      <td>NaN</td>\n      <td>NaN</td>\n      <td>NaN</td>\n    </tr>\n    <tr>\n      <th>2014-02-28</th>\n      <td>NaN</td>\n      <td>NaN</td>\n      <td>NaN</td>\n      <td>NaN</td>\n      <td>NaN</td>\n      <td>NaN</td>\n      <td>NaN</td>\n      <td>NaN</td>\n    </tr>\n    <tr>\n      <th>2014-03-31</th>\n      <td>NaN</td>\n      <td>NaN</td>\n      <td>NaN</td>\n      <td>NaN</td>\n      <td>NaN</td>\n      <td>NaN</td>\n      <td>NaN</td>\n      <td>NaN</td>\n    </tr>\n    <tr>\n      <th>2014-04-30</th>\n      <td>2168.400000</td>\n      <td>209.600000</td>\n      <td>1958.800000</td>\n      <td>986.200000</td>\n      <td>1698.60</td>\n      <td>1438.60</td>\n      <td>260.000000</td>\n      <td>4853.400000</td>\n    </tr>\n    <tr>\n      <th>2014-05-31</th>\n      <td>-550.750000</td>\n      <td>-2180.000000</td>\n      <td>1629.500000</td>\n      <td>793.000000</td>\n      <td>3441.75</td>\n      <td>2548.00</td>\n      <td>894.000000</td>\n      <td>3684.000000</td>\n    </tr>\n    <tr>\n      <th>2014-06-30</th>\n      <td>579.750000</td>\n      <td>-1636.500000</td>\n      <td>2216.250000</td>\n      <td>1147.000000</td>\n      <td>2428.75</td>\n      <td>1887.75</td>\n      <td>540.750000</td>\n      <td>4155.250000</td>\n    </tr>\n    <tr>\n      <th>2014-07-31</th>\n      <td>-2350.333333</td>\n      <td>-3709.333333</td>\n      <td>1359.333333</td>\n      <td>888.666667</td>\n      <td>2502.00</td>\n      <td>2342.00</td>\n      <td>160.333333</td>\n      <td>1040.666667</td>\n    </tr>\n    <tr>\n      <th>2014-08-31</th>\n      <td>485.750000</td>\n      <td>-1377.000000</td>\n      <td>1863.000000</td>\n      <td>471.250000</td>\n      <td>474.25</td>\n      <td>-253.25</td>\n      <td>727.500000</td>\n      <td>1430.750000</td>\n    </tr>\n    <tr>\n      <th>2014-09-30</th>\n      <td>-1383.500000</td>\n      <td>-3298.000000</td>\n      <td>1914.500000</td>\n      <td>799.500000</td>\n      <td>1992.00</td>\n      <td>1239.50</td>\n      <td>752.000000</td>\n      <td>1408.000000</td>\n    </tr>\n    <tr>\n      <th>2014-10-31</th>\n      <td>NaN</td>\n      <td>NaN</td>\n      <td>NaN</td>\n      <td>NaN</td>\n      <td>NaN</td>\n      <td>NaN</td>\n      <td>NaN</td>\n      <td>NaN</td>\n    </tr>\n    <tr>\n      <th>2014-11-30</th>\n      <td>-688.250000</td>\n      <td>-1809.750000</td>\n      <td>1121.250000</td>\n      <td>182.250000</td>\n      <td>3632.00</td>\n      <td>2891.50</td>\n      <td>740.500000</td>\n      <td>3125.500000</td>\n    </tr>\n    <tr>\n      <th>2014-12-31</th>\n      <td>NaN</td>\n      <td>NaN</td>\n      <td>NaN</td>\n      <td>NaN</td>\n      <td>NaN</td>\n      <td>NaN</td>\n      <td>NaN</td>\n      <td>NaN</td>\n    </tr>\n    <tr>\n      <th>2015-01-31</th>\n      <td>867.750000</td>\n      <td>-291.000000</td>\n      <td>1158.750000</td>\n      <td>432.250000</td>\n      <td>1842.00</td>\n      <td>690.50</td>\n      <td>1151.500000</td>\n      <td>3142.250000</td>\n    </tr>\n    <tr>\n      <th>2015-02-28</th>\n      <td>2754.000000</td>\n      <td>1754.500000</td>\n      <td>999.500000</td>\n      <td>876.000000</td>\n      <td>4549.50</td>\n      <td>3721.50</td>\n      <td>828.000000</td>\n      <td>8179.500000</td>\n    </tr>\n    <tr>\n      <th>2015-03-31</th>\n      <td>1422.750000</td>\n      <td>-2044.000000</td>\n      <td>3466.750000</td>\n      <td>707.250000</td>\n      <td>2284.50</td>\n      <td>1816.75</td>\n      <td>467.500000</td>\n      <td>4414.250000</td>\n    </tr>\n    <tr>\n      <th>2015-04-30</th>\n      <td>189.500000</td>\n      <td>-2314.000000</td>\n      <td>2503.500000</td>\n      <td>485.000000</td>\n      <td>211.50</td>\n      <td>257.00</td>\n      <td>-45.500000</td>\n      <td>886.000000</td>\n    </tr>\n  </tbody>\n</table>\n</div>"
     },
     "metadata": {},
     "execution_count": 42
    }
   ],
   "source": [
    "monthly_df"
   ]
  },
  {
   "cell_type": "code",
   "execution_count": 43,
   "metadata": {},
   "outputs": [
    {
     "output_type": "execute_result",
     "data": {
      "text/plain": [
       "[<matplotlib.lines.Line2D at 0x1d3ff71bcc8>]"
      ]
     },
     "metadata": {},
     "execution_count": 43
    },
    {
     "output_type": "display_data",
     "data": {
      "text/plain": "<Figure size 720x360 with 1 Axes>",
      "image/svg+xml": "<?xml version=\"1.0\" encoding=\"utf-8\" standalone=\"no\"?>\r\n<!DOCTYPE svg PUBLIC \"-//W3C//DTD SVG 1.1//EN\"\r\n  \"http://www.w3.org/Graphics/SVG/1.1/DTD/svg11.dtd\">\r\n<!-- Created with matplotlib (https://matplotlib.org/) -->\r\n<svg height=\"302.878125pt\" version=\"1.1\" viewBox=\"0 0 613.229687 302.878125\" width=\"613.229687pt\" xmlns=\"http://www.w3.org/2000/svg\" xmlns:xlink=\"http://www.w3.org/1999/xlink\">\r\n <metadata>\r\n  <rdf:RDF xmlns:cc=\"http://creativecommons.org/ns#\" xmlns:dc=\"http://purl.org/dc/elements/1.1/\" xmlns:rdf=\"http://www.w3.org/1999/02/22-rdf-syntax-ns#\">\r\n   <cc:Work>\r\n    <dc:type rdf:resource=\"http://purl.org/dc/dcmitype/StillImage\"/>\r\n    <dc:date>2020-11-05T19:49:34.726400</dc:date>\r\n    <dc:format>image/svg+xml</dc:format>\r\n    <dc:creator>\r\n     <cc:Agent>\r\n      <dc:title>Matplotlib v3.3.2, https://matplotlib.org/</dc:title>\r\n     </cc:Agent>\r\n    </dc:creator>\r\n   </cc:Work>\r\n  </rdf:RDF>\r\n </metadata>\r\n <defs>\r\n  <style type=\"text/css\">*{stroke-linecap:butt;stroke-linejoin:round;}</style>\r\n </defs>\r\n <g id=\"figure_1\">\r\n  <g id=\"patch_1\">\r\n   <path d=\"M 0 302.878125 \r\nL 613.229687 302.878125 \r\nL 613.229687 0 \r\nL 0 0 \r\nz\r\n\" style=\"fill:none;\"/>\r\n  </g>\r\n  <g id=\"axes_1\">\r\n   <g id=\"patch_2\">\r\n    <path d=\"M 48.029687 279 \r\nL 606.029688 279 \r\nL 606.029688 7.2 \r\nL 48.029687 7.2 \r\nz\r\n\" style=\"fill:#ffffff;\"/>\r\n   </g>\r\n   <g id=\"matplotlib.axis_1\">\r\n    <g id=\"xtick_1\">\r\n     <g id=\"line2d_1\">\r\n      <defs>\r\n       <path d=\"M 0 0 \r\nL 0 3.5 \r\n\" id=\"m8837140066\" style=\"stroke:#000000;stroke-width:0.8;\"/>\r\n      </defs>\r\n      <g>\r\n       <use style=\"stroke:#000000;stroke-width:0.8;\" x=\"73.990115\" xlink:href=\"#m8837140066\" y=\"279\"/>\r\n      </g>\r\n     </g>\r\n     <g id=\"text_1\">\r\n      <!-- 2013-01 -->\r\n      <g transform=\"translate(53.098709 293.598437)scale(0.1 -0.1)\">\r\n       <defs>\r\n        <path d=\"M 19.1875 8.296875 \r\nL 53.609375 8.296875 \r\nL 53.609375 0 \r\nL 7.328125 0 \r\nL 7.328125 8.296875 \r\nQ 12.9375 14.109375 22.625 23.890625 \r\nQ 32.328125 33.6875 34.8125 36.53125 \r\nQ 39.546875 41.84375 41.421875 45.53125 \r\nQ 43.3125 49.21875 43.3125 52.78125 \r\nQ 43.3125 58.59375 39.234375 62.25 \r\nQ 35.15625 65.921875 28.609375 65.921875 \r\nQ 23.96875 65.921875 18.8125 64.3125 \r\nQ 13.671875 62.703125 7.8125 59.421875 \r\nL 7.8125 69.390625 \r\nQ 13.765625 71.78125 18.9375 73 \r\nQ 24.125 74.21875 28.421875 74.21875 \r\nQ 39.75 74.21875 46.484375 68.546875 \r\nQ 53.21875 62.890625 53.21875 53.421875 \r\nQ 53.21875 48.921875 51.53125 44.890625 \r\nQ 49.859375 40.875 45.40625 35.40625 \r\nQ 44.1875 33.984375 37.640625 27.21875 \r\nQ 31.109375 20.453125 19.1875 8.296875 \r\nz\r\n\" id=\"DejaVuSans-50\"/>\r\n        <path d=\"M 31.78125 66.40625 \r\nQ 24.171875 66.40625 20.328125 58.90625 \r\nQ 16.5 51.421875 16.5 36.375 \r\nQ 16.5 21.390625 20.328125 13.890625 \r\nQ 24.171875 6.390625 31.78125 6.390625 \r\nQ 39.453125 6.390625 43.28125 13.890625 \r\nQ 47.125 21.390625 47.125 36.375 \r\nQ 47.125 51.421875 43.28125 58.90625 \r\nQ 39.453125 66.40625 31.78125 66.40625 \r\nz\r\nM 31.78125 74.21875 \r\nQ 44.046875 74.21875 50.515625 64.515625 \r\nQ 56.984375 54.828125 56.984375 36.375 \r\nQ 56.984375 17.96875 50.515625 8.265625 \r\nQ 44.046875 -1.421875 31.78125 -1.421875 \r\nQ 19.53125 -1.421875 13.0625 8.265625 \r\nQ 6.59375 17.96875 6.59375 36.375 \r\nQ 6.59375 54.828125 13.0625 64.515625 \r\nQ 19.53125 74.21875 31.78125 74.21875 \r\nz\r\n\" id=\"DejaVuSans-48\"/>\r\n        <path d=\"M 12.40625 8.296875 \r\nL 28.515625 8.296875 \r\nL 28.515625 63.921875 \r\nL 10.984375 60.40625 \r\nL 10.984375 69.390625 \r\nL 28.421875 72.90625 \r\nL 38.28125 72.90625 \r\nL 38.28125 8.296875 \r\nL 54.390625 8.296875 \r\nL 54.390625 0 \r\nL 12.40625 0 \r\nz\r\n\" id=\"DejaVuSans-49\"/>\r\n        <path d=\"M 40.578125 39.3125 \r\nQ 47.65625 37.796875 51.625 33 \r\nQ 55.609375 28.21875 55.609375 21.1875 \r\nQ 55.609375 10.40625 48.1875 4.484375 \r\nQ 40.765625 -1.421875 27.09375 -1.421875 \r\nQ 22.515625 -1.421875 17.65625 -0.515625 \r\nQ 12.796875 0.390625 7.625 2.203125 \r\nL 7.625 11.71875 \r\nQ 11.71875 9.328125 16.59375 8.109375 \r\nQ 21.484375 6.890625 26.8125 6.890625 \r\nQ 36.078125 6.890625 40.9375 10.546875 \r\nQ 45.796875 14.203125 45.796875 21.1875 \r\nQ 45.796875 27.640625 41.28125 31.265625 \r\nQ 36.765625 34.90625 28.71875 34.90625 \r\nL 20.21875 34.90625 \r\nL 20.21875 43.015625 \r\nL 29.109375 43.015625 \r\nQ 36.375 43.015625 40.234375 45.921875 \r\nQ 44.09375 48.828125 44.09375 54.296875 \r\nQ 44.09375 59.90625 40.109375 62.90625 \r\nQ 36.140625 65.921875 28.71875 65.921875 \r\nQ 24.65625 65.921875 20.015625 65.03125 \r\nQ 15.375 64.15625 9.8125 62.3125 \r\nL 9.8125 71.09375 \r\nQ 15.4375 72.65625 20.34375 73.4375 \r\nQ 25.25 74.21875 29.59375 74.21875 \r\nQ 40.828125 74.21875 47.359375 69.109375 \r\nQ 53.90625 64.015625 53.90625 55.328125 \r\nQ 53.90625 49.265625 50.4375 45.09375 \r\nQ 46.96875 40.921875 40.578125 39.3125 \r\nz\r\n\" id=\"DejaVuSans-51\"/>\r\n        <path d=\"M 4.890625 31.390625 \r\nL 31.203125 31.390625 \r\nL 31.203125 23.390625 \r\nL 4.890625 23.390625 \r\nz\r\n\" id=\"DejaVuSans-45\"/>\r\n       </defs>\r\n       <use xlink:href=\"#DejaVuSans-50\"/>\r\n       <use x=\"63.623047\" xlink:href=\"#DejaVuSans-48\"/>\r\n       <use x=\"127.246094\" xlink:href=\"#DejaVuSans-49\"/>\r\n       <use x=\"190.869141\" xlink:href=\"#DejaVuSans-51\"/>\r\n       <use x=\"254.492188\" xlink:href=\"#DejaVuSans-45\"/>\r\n       <use x=\"290.576172\" xlink:href=\"#DejaVuSans-48\"/>\r\n       <use x=\"354.199219\" xlink:href=\"#DejaVuSans-49\"/>\r\n      </g>\r\n     </g>\r\n    </g>\r\n    <g id=\"xtick_2\">\r\n     <g id=\"line2d_2\">\r\n      <g>\r\n       <use style=\"stroke:#000000;stroke-width:0.8;\" x=\"127.701345\" xlink:href=\"#m8837140066\" y=\"279\"/>\r\n      </g>\r\n     </g>\r\n     <g id=\"text_2\">\r\n      <!-- 2013-04 -->\r\n      <g transform=\"translate(106.809939 293.598437)scale(0.1 -0.1)\">\r\n       <defs>\r\n        <path d=\"M 37.796875 64.3125 \r\nL 12.890625 25.390625 \r\nL 37.796875 25.390625 \r\nz\r\nM 35.203125 72.90625 \r\nL 47.609375 72.90625 \r\nL 47.609375 25.390625 \r\nL 58.015625 25.390625 \r\nL 58.015625 17.1875 \r\nL 47.609375 17.1875 \r\nL 47.609375 0 \r\nL 37.796875 0 \r\nL 37.796875 17.1875 \r\nL 4.890625 17.1875 \r\nL 4.890625 26.703125 \r\nz\r\n\" id=\"DejaVuSans-52\"/>\r\n       </defs>\r\n       <use xlink:href=\"#DejaVuSans-50\"/>\r\n       <use x=\"63.623047\" xlink:href=\"#DejaVuSans-48\"/>\r\n       <use x=\"127.246094\" xlink:href=\"#DejaVuSans-49\"/>\r\n       <use x=\"190.869141\" xlink:href=\"#DejaVuSans-51\"/>\r\n       <use x=\"254.492188\" xlink:href=\"#DejaVuSans-45\"/>\r\n       <use x=\"290.576172\" xlink:href=\"#DejaVuSans-48\"/>\r\n       <use x=\"354.199219\" xlink:href=\"#DejaVuSans-52\"/>\r\n      </g>\r\n     </g>\r\n    </g>\r\n    <g id=\"xtick_3\">\r\n     <g id=\"line2d_3\">\r\n      <g>\r\n       <use style=\"stroke:#000000;stroke-width:0.8;\" x=\"182.009367\" xlink:href=\"#m8837140066\" y=\"279\"/>\r\n      </g>\r\n     </g>\r\n     <g id=\"text_3\">\r\n      <!-- 2013-07 -->\r\n      <g transform=\"translate(161.11796 293.598437)scale(0.1 -0.1)\">\r\n       <defs>\r\n        <path d=\"M 8.203125 72.90625 \r\nL 55.078125 72.90625 \r\nL 55.078125 68.703125 \r\nL 28.609375 0 \r\nL 18.3125 0 \r\nL 43.21875 64.59375 \r\nL 8.203125 64.59375 \r\nz\r\n\" id=\"DejaVuSans-55\"/>\r\n       </defs>\r\n       <use xlink:href=\"#DejaVuSans-50\"/>\r\n       <use x=\"63.623047\" xlink:href=\"#DejaVuSans-48\"/>\r\n       <use x=\"127.246094\" xlink:href=\"#DejaVuSans-49\"/>\r\n       <use x=\"190.869141\" xlink:href=\"#DejaVuSans-51\"/>\r\n       <use x=\"254.492188\" xlink:href=\"#DejaVuSans-45\"/>\r\n       <use x=\"290.576172\" xlink:href=\"#DejaVuSans-48\"/>\r\n       <use x=\"354.199219\" xlink:href=\"#DejaVuSans-55\"/>\r\n      </g>\r\n     </g>\r\n    </g>\r\n    <g id=\"xtick_4\">\r\n     <g id=\"line2d_4\">\r\n      <g>\r\n       <use style=\"stroke:#000000;stroke-width:0.8;\" x=\"236.914179\" xlink:href=\"#m8837140066\" y=\"279\"/>\r\n      </g>\r\n     </g>\r\n     <g id=\"text_4\">\r\n      <!-- 2013-10 -->\r\n      <g transform=\"translate(216.022773 293.598437)scale(0.1 -0.1)\">\r\n       <use xlink:href=\"#DejaVuSans-50\"/>\r\n       <use x=\"63.623047\" xlink:href=\"#DejaVuSans-48\"/>\r\n       <use x=\"127.246094\" xlink:href=\"#DejaVuSans-49\"/>\r\n       <use x=\"190.869141\" xlink:href=\"#DejaVuSans-51\"/>\r\n       <use x=\"254.492188\" xlink:href=\"#DejaVuSans-45\"/>\r\n       <use x=\"290.576172\" xlink:href=\"#DejaVuSans-49\"/>\r\n       <use x=\"354.199219\" xlink:href=\"#DejaVuSans-48\"/>\r\n      </g>\r\n     </g>\r\n    </g>\r\n    <g id=\"xtick_5\">\r\n     <g id=\"line2d_5\">\r\n      <g>\r\n       <use style=\"stroke:#000000;stroke-width:0.8;\" x=\"291.818992\" xlink:href=\"#m8837140066\" y=\"279\"/>\r\n      </g>\r\n     </g>\r\n     <g id=\"text_5\">\r\n      <!-- 2014-01 -->\r\n      <g transform=\"translate(270.927586 293.598437)scale(0.1 -0.1)\">\r\n       <use xlink:href=\"#DejaVuSans-50\"/>\r\n       <use x=\"63.623047\" xlink:href=\"#DejaVuSans-48\"/>\r\n       <use x=\"127.246094\" xlink:href=\"#DejaVuSans-49\"/>\r\n       <use x=\"190.869141\" xlink:href=\"#DejaVuSans-52\"/>\r\n       <use x=\"254.492188\" xlink:href=\"#DejaVuSans-45\"/>\r\n       <use x=\"290.576172\" xlink:href=\"#DejaVuSans-48\"/>\r\n       <use x=\"354.199219\" xlink:href=\"#DejaVuSans-49\"/>\r\n      </g>\r\n     </g>\r\n    </g>\r\n    <g id=\"xtick_6\">\r\n     <g id=\"line2d_6\">\r\n      <g>\r\n       <use style=\"stroke:#000000;stroke-width:0.8;\" x=\"345.530222\" xlink:href=\"#m8837140066\" y=\"279\"/>\r\n      </g>\r\n     </g>\r\n     <g id=\"text_6\">\r\n      <!-- 2014-04 -->\r\n      <g transform=\"translate(324.638816 293.598437)scale(0.1 -0.1)\">\r\n       <use xlink:href=\"#DejaVuSans-50\"/>\r\n       <use x=\"63.623047\" xlink:href=\"#DejaVuSans-48\"/>\r\n       <use x=\"127.246094\" xlink:href=\"#DejaVuSans-49\"/>\r\n       <use x=\"190.869141\" xlink:href=\"#DejaVuSans-52\"/>\r\n       <use x=\"254.492188\" xlink:href=\"#DejaVuSans-45\"/>\r\n       <use x=\"290.576172\" xlink:href=\"#DejaVuSans-48\"/>\r\n       <use x=\"354.199219\" xlink:href=\"#DejaVuSans-52\"/>\r\n      </g>\r\n     </g>\r\n    </g>\r\n    <g id=\"xtick_7\">\r\n     <g id=\"line2d_7\">\r\n      <g>\r\n       <use style=\"stroke:#000000;stroke-width:0.8;\" x=\"399.838244\" xlink:href=\"#m8837140066\" y=\"279\"/>\r\n      </g>\r\n     </g>\r\n     <g id=\"text_7\">\r\n      <!-- 2014-07 -->\r\n      <g transform=\"translate(378.946837 293.598437)scale(0.1 -0.1)\">\r\n       <use xlink:href=\"#DejaVuSans-50\"/>\r\n       <use x=\"63.623047\" xlink:href=\"#DejaVuSans-48\"/>\r\n       <use x=\"127.246094\" xlink:href=\"#DejaVuSans-49\"/>\r\n       <use x=\"190.869141\" xlink:href=\"#DejaVuSans-52\"/>\r\n       <use x=\"254.492188\" xlink:href=\"#DejaVuSans-45\"/>\r\n       <use x=\"290.576172\" xlink:href=\"#DejaVuSans-48\"/>\r\n       <use x=\"354.199219\" xlink:href=\"#DejaVuSans-55\"/>\r\n      </g>\r\n     </g>\r\n    </g>\r\n    <g id=\"xtick_8\">\r\n     <g id=\"line2d_8\">\r\n      <g>\r\n       <use style=\"stroke:#000000;stroke-width:0.8;\" x=\"454.743056\" xlink:href=\"#m8837140066\" y=\"279\"/>\r\n      </g>\r\n     </g>\r\n     <g id=\"text_8\">\r\n      <!-- 2014-10 -->\r\n      <g transform=\"translate(433.85165 293.598437)scale(0.1 -0.1)\">\r\n       <use xlink:href=\"#DejaVuSans-50\"/>\r\n       <use x=\"63.623047\" xlink:href=\"#DejaVuSans-48\"/>\r\n       <use x=\"127.246094\" xlink:href=\"#DejaVuSans-49\"/>\r\n       <use x=\"190.869141\" xlink:href=\"#DejaVuSans-52\"/>\r\n       <use x=\"254.492188\" xlink:href=\"#DejaVuSans-45\"/>\r\n       <use x=\"290.576172\" xlink:href=\"#DejaVuSans-49\"/>\r\n       <use x=\"354.199219\" xlink:href=\"#DejaVuSans-48\"/>\r\n      </g>\r\n     </g>\r\n    </g>\r\n    <g id=\"xtick_9\">\r\n     <g id=\"line2d_9\">\r\n      <g>\r\n       <use style=\"stroke:#000000;stroke-width:0.8;\" x=\"509.647869\" xlink:href=\"#m8837140066\" y=\"279\"/>\r\n      </g>\r\n     </g>\r\n     <g id=\"text_9\">\r\n      <!-- 2015-01 -->\r\n      <g transform=\"translate(488.756463 293.598437)scale(0.1 -0.1)\">\r\n       <defs>\r\n        <path d=\"M 10.796875 72.90625 \r\nL 49.515625 72.90625 \r\nL 49.515625 64.59375 \r\nL 19.828125 64.59375 \r\nL 19.828125 46.734375 \r\nQ 21.96875 47.46875 24.109375 47.828125 \r\nQ 26.265625 48.1875 28.421875 48.1875 \r\nQ 40.625 48.1875 47.75 41.5 \r\nQ 54.890625 34.8125 54.890625 23.390625 \r\nQ 54.890625 11.625 47.5625 5.09375 \r\nQ 40.234375 -1.421875 26.90625 -1.421875 \r\nQ 22.3125 -1.421875 17.546875 -0.640625 \r\nQ 12.796875 0.140625 7.71875 1.703125 \r\nL 7.71875 11.625 \r\nQ 12.109375 9.234375 16.796875 8.0625 \r\nQ 21.484375 6.890625 26.703125 6.890625 \r\nQ 35.15625 6.890625 40.078125 11.328125 \r\nQ 45.015625 15.765625 45.015625 23.390625 \r\nQ 45.015625 31 40.078125 35.4375 \r\nQ 35.15625 39.890625 26.703125 39.890625 \r\nQ 22.75 39.890625 18.8125 39.015625 \r\nQ 14.890625 38.140625 10.796875 36.28125 \r\nz\r\n\" id=\"DejaVuSans-53\"/>\r\n       </defs>\r\n       <use xlink:href=\"#DejaVuSans-50\"/>\r\n       <use x=\"63.623047\" xlink:href=\"#DejaVuSans-48\"/>\r\n       <use x=\"127.246094\" xlink:href=\"#DejaVuSans-49\"/>\r\n       <use x=\"190.869141\" xlink:href=\"#DejaVuSans-53\"/>\r\n       <use x=\"254.492188\" xlink:href=\"#DejaVuSans-45\"/>\r\n       <use x=\"290.576172\" xlink:href=\"#DejaVuSans-48\"/>\r\n       <use x=\"354.199219\" xlink:href=\"#DejaVuSans-49\"/>\r\n      </g>\r\n     </g>\r\n    </g>\r\n    <g id=\"xtick_10\">\r\n     <g id=\"line2d_10\">\r\n      <g>\r\n       <use style=\"stroke:#000000;stroke-width:0.8;\" x=\"563.359099\" xlink:href=\"#m8837140066\" y=\"279\"/>\r\n      </g>\r\n     </g>\r\n     <g id=\"text_10\">\r\n      <!-- 2015-04 -->\r\n      <g transform=\"translate(542.467693 293.598437)scale(0.1 -0.1)\">\r\n       <use xlink:href=\"#DejaVuSans-50\"/>\r\n       <use x=\"63.623047\" xlink:href=\"#DejaVuSans-48\"/>\r\n       <use x=\"127.246094\" xlink:href=\"#DejaVuSans-49\"/>\r\n       <use x=\"190.869141\" xlink:href=\"#DejaVuSans-53\"/>\r\n       <use x=\"254.492188\" xlink:href=\"#DejaVuSans-45\"/>\r\n       <use x=\"290.576172\" xlink:href=\"#DejaVuSans-48\"/>\r\n       <use x=\"354.199219\" xlink:href=\"#DejaVuSans-52\"/>\r\n      </g>\r\n     </g>\r\n    </g>\r\n   </g>\r\n   <g id=\"matplotlib.axis_2\">\r\n    <g id=\"ytick_1\">\r\n     <g id=\"line2d_11\">\r\n      <defs>\r\n       <path d=\"M 0 0 \r\nL -3.5 0 \r\n\" id=\"m0a461696d8\" style=\"stroke:#000000;stroke-width:0.8;\"/>\r\n      </defs>\r\n      <g>\r\n       <use style=\"stroke:#000000;stroke-width:0.8;\" x=\"48.029687\" xlink:href=\"#m0a461696d8\" y=\"273.809648\"/>\r\n      </g>\r\n     </g>\r\n     <g id=\"text_11\">\r\n      <!-- −6000 -->\r\n      <g transform=\"translate(7.2 277.608867)scale(0.1 -0.1)\">\r\n       <defs>\r\n        <path d=\"M 10.59375 35.5 \r\nL 73.1875 35.5 \r\nL 73.1875 27.203125 \r\nL 10.59375 27.203125 \r\nz\r\n\" id=\"DejaVuSans-8722\"/>\r\n        <path d=\"M 33.015625 40.375 \r\nQ 26.375 40.375 22.484375 35.828125 \r\nQ 18.609375 31.296875 18.609375 23.390625 \r\nQ 18.609375 15.53125 22.484375 10.953125 \r\nQ 26.375 6.390625 33.015625 6.390625 \r\nQ 39.65625 6.390625 43.53125 10.953125 \r\nQ 47.40625 15.53125 47.40625 23.390625 \r\nQ 47.40625 31.296875 43.53125 35.828125 \r\nQ 39.65625 40.375 33.015625 40.375 \r\nz\r\nM 52.59375 71.296875 \r\nL 52.59375 62.3125 \r\nQ 48.875 64.0625 45.09375 64.984375 \r\nQ 41.3125 65.921875 37.59375 65.921875 \r\nQ 27.828125 65.921875 22.671875 59.328125 \r\nQ 17.53125 52.734375 16.796875 39.40625 \r\nQ 19.671875 43.65625 24.015625 45.921875 \r\nQ 28.375 48.1875 33.59375 48.1875 \r\nQ 44.578125 48.1875 50.953125 41.515625 \r\nQ 57.328125 34.859375 57.328125 23.390625 \r\nQ 57.328125 12.15625 50.6875 5.359375 \r\nQ 44.046875 -1.421875 33.015625 -1.421875 \r\nQ 20.359375 -1.421875 13.671875 8.265625 \r\nQ 6.984375 17.96875 6.984375 36.375 \r\nQ 6.984375 53.65625 15.1875 63.9375 \r\nQ 23.390625 74.21875 37.203125 74.21875 \r\nQ 40.921875 74.21875 44.703125 73.484375 \r\nQ 48.484375 72.75 52.59375 71.296875 \r\nz\r\n\" id=\"DejaVuSans-54\"/>\r\n       </defs>\r\n       <use xlink:href=\"#DejaVuSans-8722\"/>\r\n       <use x=\"83.789062\" xlink:href=\"#DejaVuSans-54\"/>\r\n       <use x=\"147.412109\" xlink:href=\"#DejaVuSans-48\"/>\r\n       <use x=\"211.035156\" xlink:href=\"#DejaVuSans-48\"/>\r\n       <use x=\"274.658203\" xlink:href=\"#DejaVuSans-48\"/>\r\n      </g>\r\n     </g>\r\n    </g>\r\n    <g id=\"ytick_2\">\r\n     <g id=\"line2d_12\">\r\n      <g>\r\n       <use style=\"stroke:#000000;stroke-width:0.8;\" x=\"48.029687\" xlink:href=\"#m0a461696d8\" y=\"241.021576\"/>\r\n      </g>\r\n     </g>\r\n     <g id=\"text_12\">\r\n      <!-- −5000 -->\r\n      <g transform=\"translate(7.2 244.820795)scale(0.1 -0.1)\">\r\n       <use xlink:href=\"#DejaVuSans-8722\"/>\r\n       <use x=\"83.789062\" xlink:href=\"#DejaVuSans-53\"/>\r\n       <use x=\"147.412109\" xlink:href=\"#DejaVuSans-48\"/>\r\n       <use x=\"211.035156\" xlink:href=\"#DejaVuSans-48\"/>\r\n       <use x=\"274.658203\" xlink:href=\"#DejaVuSans-48\"/>\r\n      </g>\r\n     </g>\r\n    </g>\r\n    <g id=\"ytick_3\">\r\n     <g id=\"line2d_13\">\r\n      <g>\r\n       <use style=\"stroke:#000000;stroke-width:0.8;\" x=\"48.029687\" xlink:href=\"#m0a461696d8\" y=\"208.233505\"/>\r\n      </g>\r\n     </g>\r\n     <g id=\"text_13\">\r\n      <!-- −4000 -->\r\n      <g transform=\"translate(7.2 212.032723)scale(0.1 -0.1)\">\r\n       <use xlink:href=\"#DejaVuSans-8722\"/>\r\n       <use x=\"83.789062\" xlink:href=\"#DejaVuSans-52\"/>\r\n       <use x=\"147.412109\" xlink:href=\"#DejaVuSans-48\"/>\r\n       <use x=\"211.035156\" xlink:href=\"#DejaVuSans-48\"/>\r\n       <use x=\"274.658203\" xlink:href=\"#DejaVuSans-48\"/>\r\n      </g>\r\n     </g>\r\n    </g>\r\n    <g id=\"ytick_4\">\r\n     <g id=\"line2d_14\">\r\n      <g>\r\n       <use style=\"stroke:#000000;stroke-width:0.8;\" x=\"48.029687\" xlink:href=\"#m0a461696d8\" y=\"175.445433\"/>\r\n      </g>\r\n     </g>\r\n     <g id=\"text_14\">\r\n      <!-- −3000 -->\r\n      <g transform=\"translate(7.2 179.244652)scale(0.1 -0.1)\">\r\n       <use xlink:href=\"#DejaVuSans-8722\"/>\r\n       <use x=\"83.789062\" xlink:href=\"#DejaVuSans-51\"/>\r\n       <use x=\"147.412109\" xlink:href=\"#DejaVuSans-48\"/>\r\n       <use x=\"211.035156\" xlink:href=\"#DejaVuSans-48\"/>\r\n       <use x=\"274.658203\" xlink:href=\"#DejaVuSans-48\"/>\r\n      </g>\r\n     </g>\r\n    </g>\r\n    <g id=\"ytick_5\">\r\n     <g id=\"line2d_15\">\r\n      <g>\r\n       <use style=\"stroke:#000000;stroke-width:0.8;\" x=\"48.029687\" xlink:href=\"#m0a461696d8\" y=\"142.657361\"/>\r\n      </g>\r\n     </g>\r\n     <g id=\"text_15\">\r\n      <!-- −2000 -->\r\n      <g transform=\"translate(7.2 146.45658)scale(0.1 -0.1)\">\r\n       <use xlink:href=\"#DejaVuSans-8722\"/>\r\n       <use x=\"83.789062\" xlink:href=\"#DejaVuSans-50\"/>\r\n       <use x=\"147.412109\" xlink:href=\"#DejaVuSans-48\"/>\r\n       <use x=\"211.035156\" xlink:href=\"#DejaVuSans-48\"/>\r\n       <use x=\"274.658203\" xlink:href=\"#DejaVuSans-48\"/>\r\n      </g>\r\n     </g>\r\n    </g>\r\n    <g id=\"ytick_6\">\r\n     <g id=\"line2d_16\">\r\n      <g>\r\n       <use style=\"stroke:#000000;stroke-width:0.8;\" x=\"48.029687\" xlink:href=\"#m0a461696d8\" y=\"109.869289\"/>\r\n      </g>\r\n     </g>\r\n     <g id=\"text_16\">\r\n      <!-- −1000 -->\r\n      <g transform=\"translate(7.2 113.668508)scale(0.1 -0.1)\">\r\n       <use xlink:href=\"#DejaVuSans-8722\"/>\r\n       <use x=\"83.789062\" xlink:href=\"#DejaVuSans-49\"/>\r\n       <use x=\"147.412109\" xlink:href=\"#DejaVuSans-48\"/>\r\n       <use x=\"211.035156\" xlink:href=\"#DejaVuSans-48\"/>\r\n       <use x=\"274.658203\" xlink:href=\"#DejaVuSans-48\"/>\r\n      </g>\r\n     </g>\r\n    </g>\r\n    <g id=\"ytick_7\">\r\n     <g id=\"line2d_17\">\r\n      <g>\r\n       <use style=\"stroke:#000000;stroke-width:0.8;\" x=\"48.029687\" xlink:href=\"#m0a461696d8\" y=\"77.081217\"/>\r\n      </g>\r\n     </g>\r\n     <g id=\"text_17\">\r\n      <!-- 0 -->\r\n      <g transform=\"translate(34.667187 80.880436)scale(0.1 -0.1)\">\r\n       <use xlink:href=\"#DejaVuSans-48\"/>\r\n      </g>\r\n     </g>\r\n    </g>\r\n    <g id=\"ytick_8\">\r\n     <g id=\"line2d_18\">\r\n      <g>\r\n       <use style=\"stroke:#000000;stroke-width:0.8;\" x=\"48.029687\" xlink:href=\"#m0a461696d8\" y=\"44.293146\"/>\r\n      </g>\r\n     </g>\r\n     <g id=\"text_18\">\r\n      <!-- 1000 -->\r\n      <g transform=\"translate(15.579687 48.092364)scale(0.1 -0.1)\">\r\n       <use xlink:href=\"#DejaVuSans-49\"/>\r\n       <use x=\"63.623047\" xlink:href=\"#DejaVuSans-48\"/>\r\n       <use x=\"127.246094\" xlink:href=\"#DejaVuSans-48\"/>\r\n       <use x=\"190.869141\" xlink:href=\"#DejaVuSans-48\"/>\r\n      </g>\r\n     </g>\r\n    </g>\r\n    <g id=\"ytick_9\">\r\n     <g id=\"line2d_19\">\r\n      <g>\r\n       <use style=\"stroke:#000000;stroke-width:0.8;\" x=\"48.029687\" xlink:href=\"#m0a461696d8\" y=\"11.505074\"/>\r\n      </g>\r\n     </g>\r\n     <g id=\"text_19\">\r\n      <!-- 2000 -->\r\n      <g transform=\"translate(15.579687 15.304293)scale(0.1 -0.1)\">\r\n       <use xlink:href=\"#DejaVuSans-50\"/>\r\n       <use x=\"63.623047\" xlink:href=\"#DejaVuSans-48\"/>\r\n       <use x=\"127.246094\" xlink:href=\"#DejaVuSans-48\"/>\r\n       <use x=\"190.869141\" xlink:href=\"#DejaVuSans-48\"/>\r\n      </g>\r\n     </g>\r\n    </g>\r\n   </g>\r\n   <g id=\"line2d_20\">\r\n    <path clip-path=\"url(#p3ab48c2ff4)\" d=\"M 73.393324 266.645455 \r\nL 91.893859 103.754314 \r\nM 362.837174 70.208838 \r\nL 381.337709 148.559214 \r\nL 399.241452 130.738897 \r\nL 417.741987 198.703105 \r\nL 436.242522 122.230392 \r\nL 454.146265 185.216278 \r\nM 490.550543 136.41943 \r\nM 527.551613 86.622546 \r\nL 544.261773 19.554545 \r\nL 562.762308 144.100036 \r\nL 580.666051 152.952816 \r\n\" style=\"fill:none;stroke:#1f77b4;stroke-linecap:square;stroke-width:1.5;\"/>\r\n   </g>\r\n   <g id=\"patch_3\">\r\n    <path d=\"M 48.029687 279 \r\nL 48.029687 7.2 \r\n\" style=\"fill:none;stroke:#000000;stroke-linecap:square;stroke-linejoin:miter;stroke-width:0.8;\"/>\r\n   </g>\r\n   <g id=\"patch_4\">\r\n    <path d=\"M 606.029688 279 \r\nL 606.029688 7.2 \r\n\" style=\"fill:none;stroke:#000000;stroke-linecap:square;stroke-linejoin:miter;stroke-width:0.8;\"/>\r\n   </g>\r\n   <g id=\"patch_5\">\r\n    <path d=\"M 48.029688 279 \r\nL 606.029688 279 \r\n\" style=\"fill:none;stroke:#000000;stroke-linecap:square;stroke-linejoin:miter;stroke-width:0.8;\"/>\r\n   </g>\r\n   <g id=\"patch_6\">\r\n    <path d=\"M 48.029688 7.2 \r\nL 606.029688 7.2 \r\n\" style=\"fill:none;stroke:#000000;stroke-linecap:square;stroke-linejoin:miter;stroke-width:0.8;\"/>\r\n   </g>\r\n  </g>\r\n </g>\r\n <defs>\r\n  <clipPath id=\"p3ab48c2ff4\">\r\n   <rect height=\"271.8\" width=\"558\" x=\"48.029687\" y=\"7.2\"/>\r\n  </clipPath>\r\n </defs>\r\n</svg>\r\n",
      "image/png": "[encoded data removed]"
     },
     "metadata": {
      "needs_background": "light"
     }
    }
   ],
   "source": [
    "plt.figure(figsize=(10,5))\n",
    "plt.plot(monthly_df['Domestic Equity'])"
   ]
  },
  {
   "cell_type": "code",
   "execution_count": null,
   "metadata": {},
   "outputs": [],
   "source": []
  }
 ],
 "metadata": {
  "colab": {
   "name": "Solutions_investors.ipynb",
   "provenance": []
  },
  "kernelspec": {
   "display_name": "Python 3",
   "language": "python",
   "name": "python3"
  },
  "language_info": {
   "codemirror_mode": {
    "name": "ipython",
    "version": 3
   },
   "file_extension": ".py",
   "mimetype": "text/x-python",
   "name": "python",
   "nbconvert_exporter": "python",
   "pygments_lexer": "ipython3",
   "version": "3.7.4-final"
  }
 },
 "nbformat": 4,
 "nbformat_minor": 4
}