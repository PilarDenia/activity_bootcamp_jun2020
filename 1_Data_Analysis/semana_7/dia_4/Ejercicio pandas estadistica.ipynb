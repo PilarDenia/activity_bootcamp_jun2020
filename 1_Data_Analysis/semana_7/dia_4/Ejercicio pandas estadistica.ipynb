{
 "cells": [
  {
   "cell_type": "markdown",
   "metadata": {},
   "source": [
    "![imagen](https://cdn.foodbeast.com/content/wp-content/uploads/2012/03/beer-print-01-selectism.jpg)\n",
    "\n",
    "# Ejercicio pandas estadistica\n",
    "Para este ejercicio se ha utilizado [un dataset de un concurso de kaggle](https://www.kaggle.com/nickhould/craft-cans), cuyo reto consiste en predecir el tipo de cerveza en función de sus características (nivel de alcohol, amargura, tamaño...).\n",
    "\n",
    "# Ejercicio 1\n",
    "Importa las librerias que consideres"
   ]
  },
  {
   "cell_type": "code",
   "execution_count": 1,
   "metadata": {},
   "outputs": [],
   "source": [
    "import pandas as pd \n",
    "import numpy as np\n",
    "import seaborn as sns"
   ]
  },
  {
   "cell_type": "code",
   "execution_count": 2,
   "metadata": {},
   "outputs": [],
   "source": [
    "class display(object):\n",
    "    \"\"\"Display HTML representation of multiple objects\"\"\"\n",
    "    template = \"\"\"<div style=\"float: left; padding: 10px;\">\n",
    "    <p style='font-family:\"Courier New\", Courier, monospace'>{0}</p>{1}\n",
    "    </div>\"\"\"\n",
    "    def __init__(self, *args):\n",
    "        self.args = args\n",
    "        \n",
    "    def _repr_html_(self):\n",
    "        return '\\n'.join(self.template.format(a, eval(a)._repr_html_())\n",
    "                         for a in self.args)\n",
    "    \n",
    "    def __repr__(self):\n",
    "        return '\\n\\n'.join(a + '\\n' + repr(eval(a))\n",
    "                           for a in self.args)\n",
    "    "
   ]
  },
  {
   "cell_type": "markdown",
   "metadata": {},
   "source": [
    "## Ejercicio 2\n",
    "1. Importa el dataset \"datasets_beer.csv\"\n",
    "2. Imprime por pantalla los primeros registros.\n",
    "3. ¿Cuáles son sus columnas?\n",
    "4. ¿Qué dimensiones tiene el DataFrame?"
   ]
  },
  {
   "cell_type": "code",
   "execution_count": 3,
   "metadata": {},
   "outputs": [],
   "source": [
    "beer = pd.read_csv('datasets_beers.csv', sep = ',')\n",
    "breweries = pd.read_csv('datasets_breweries.csv', sep = ',')"
   ]
  },
  {
   "cell_type": "code",
   "execution_count": 4,
   "metadata": {},
   "outputs": [
    {
     "output_type": "execute_result",
     "data": {
      "text/plain": "   Unnamed: 0    abv  ibu    id                 name  \\\n0           0  0.050  NaN  1436             Pub Beer   \n1           1  0.066  NaN  2265          Devil's Cup   \n2           2  0.071  NaN  2264  Rise of the Phoenix   \n3           3  0.090  NaN  2263             Sinister   \n4           4  0.075  NaN  2262        Sex and Candy   \n\n                            style  brewery_id  ounces  \n0             American Pale Lager         408    12.0  \n1         American Pale Ale (APA)         177    12.0  \n2                    American IPA         177    12.0  \n3  American Double / Imperial IPA         177    12.0  \n4                    American IPA         177    12.0  ",
      "text/html": "<div>\n<style scoped>\n    .dataframe tbody tr th:only-of-type {\n        vertical-align: middle;\n    }\n\n    .dataframe tbody tr th {\n        vertical-align: top;\n    }\n\n    .dataframe thead th {\n        text-align: right;\n    }\n</style>\n<table border=\"1\" class=\"dataframe\">\n  <thead>\n    <tr style=\"text-align: right;\">\n      <th></th>\n      <th>Unnamed: 0</th>\n      <th>abv</th>\n      <th>ibu</th>\n      <th>id</th>\n      <th>name</th>\n      <th>style</th>\n      <th>brewery_id</th>\n      <th>ounces</th>\n    </tr>\n  </thead>\n  <tbody>\n    <tr>\n      <td>0</td>\n      <td>0</td>\n      <td>0.050</td>\n      <td>NaN</td>\n      <td>1436</td>\n      <td>Pub Beer</td>\n      <td>American Pale Lager</td>\n      <td>408</td>\n      <td>12.0</td>\n    </tr>\n    <tr>\n      <td>1</td>\n      <td>1</td>\n      <td>0.066</td>\n      <td>NaN</td>\n      <td>2265</td>\n      <td>Devil's Cup</td>\n      <td>American Pale Ale (APA)</td>\n      <td>177</td>\n      <td>12.0</td>\n    </tr>\n    <tr>\n      <td>2</td>\n      <td>2</td>\n      <td>0.071</td>\n      <td>NaN</td>\n      <td>2264</td>\n      <td>Rise of the Phoenix</td>\n      <td>American IPA</td>\n      <td>177</td>\n      <td>12.0</td>\n    </tr>\n    <tr>\n      <td>3</td>\n      <td>3</td>\n      <td>0.090</td>\n      <td>NaN</td>\n      <td>2263</td>\n      <td>Sinister</td>\n      <td>American Double / Imperial IPA</td>\n      <td>177</td>\n      <td>12.0</td>\n    </tr>\n    <tr>\n      <td>4</td>\n      <td>4</td>\n      <td>0.075</td>\n      <td>NaN</td>\n      <td>2262</td>\n      <td>Sex and Candy</td>\n      <td>American IPA</td>\n      <td>177</td>\n      <td>12.0</td>\n    </tr>\n  </tbody>\n</table>\n</div>"
     },
     "metadata": {},
     "execution_count": 4
    }
   ],
   "source": [
    "beer.head()\n"
   ]
  },
  {
   "cell_type": "code",
   "execution_count": 5,
   "metadata": {},
   "outputs": [
    {
     "output_type": "execute_result",
     "data": {
      "text/plain": "   Unnamed: 0                       name           city state\n0           0         NorthGate Brewing     Minneapolis    MN\n1           1  Against the Grain Brewery     Louisville    KY\n2           2   Jack's Abby Craft Lagers     Framingham    MA\n3           3  Mike Hess Brewing Company      San Diego    CA\n4           4    Fort Point Beer Company  San Francisco    CA",
      "text/html": "<div>\n<style scoped>\n    .dataframe tbody tr th:only-of-type {\n        vertical-align: middle;\n    }\n\n    .dataframe tbody tr th {\n        vertical-align: top;\n    }\n\n    .dataframe thead th {\n        text-align: right;\n    }\n</style>\n<table border=\"1\" class=\"dataframe\">\n  <thead>\n    <tr style=\"text-align: right;\">\n      <th></th>\n      <th>Unnamed: 0</th>\n      <th>name</th>\n      <th>city</th>\n      <th>state</th>\n    </tr>\n  </thead>\n  <tbody>\n    <tr>\n      <td>0</td>\n      <td>0</td>\n      <td>NorthGate Brewing</td>\n      <td>Minneapolis</td>\n      <td>MN</td>\n    </tr>\n    <tr>\n      <td>1</td>\n      <td>1</td>\n      <td>Against the Grain Brewery</td>\n      <td>Louisville</td>\n      <td>KY</td>\n    </tr>\n    <tr>\n      <td>2</td>\n      <td>2</td>\n      <td>Jack's Abby Craft Lagers</td>\n      <td>Framingham</td>\n      <td>MA</td>\n    </tr>\n    <tr>\n      <td>3</td>\n      <td>3</td>\n      <td>Mike Hess Brewing Company</td>\n      <td>San Diego</td>\n      <td>CA</td>\n    </tr>\n    <tr>\n      <td>4</td>\n      <td>4</td>\n      <td>Fort Point Beer Company</td>\n      <td>San Francisco</td>\n      <td>CA</td>\n    </tr>\n  </tbody>\n</table>\n</div>"
     },
     "metadata": {},
     "execution_count": 5
    }
   ],
   "source": [
    "breweries.head()"
   ]
  },
  {
   "cell_type": "code",
   "execution_count": 6,
   "metadata": {},
   "outputs": [
    {
     "output_type": "execute_result",
     "data": {
      "text/plain": "(Index(['Unnamed: 0', 'abv', 'ibu', 'id', 'name', 'style', 'brewery_id',\n        'ounces'],\n       dtype='object'),\n Index(['Unnamed: 0', 'name', 'city', 'state'], dtype='object'))"
     },
     "metadata": {},
     "execution_count": 6
    }
   ],
   "source": [
    "beer.columns , breweries.columns"
   ]
  },
  {
   "cell_type": "code",
   "execution_count": 7,
   "metadata": {},
   "outputs": [
    {
     "output_type": "execute_result",
     "data": {
      "text/plain": "(2410, 8)"
     },
     "metadata": {},
     "execution_count": 7
    }
   ],
   "source": [
    "beer.shape\n"
   ]
  },
  {
   "cell_type": "code",
   "execution_count": 8,
   "metadata": {},
   "outputs": [
    {
     "output_type": "execute_result",
     "data": {
      "text/plain": "(558, 4)"
     },
     "metadata": {},
     "execution_count": 8
    }
   ],
   "source": [
    "breweries.shape\n"
   ]
  },
  {
   "cell_type": "markdown",
   "metadata": {},
   "source": [
    "## Ejercicio 3\n",
    "[Elimina la columna \"Unnamed: 0\"](https://pandas.pydata.org/pandas-docs/stable/reference/api/pandas.DataFrame.drop.html)"
   ]
  },
  {
   "cell_type": "code",
   "execution_count": 9,
   "metadata": {},
   "outputs": [],
   "source": [
    "breweries = breweries.drop('Unnamed: 0', axis = 1)\n",
    "beer = beer.drop('Unnamed: 0', axis = 1)"
   ]
  },
  {
   "cell_type": "code",
   "execution_count": 10,
   "metadata": {},
   "outputs": [
    {
     "output_type": "execute_result",
     "data": {
      "text/plain": "Index(['abv', 'ibu', 'id', 'name', 'style', 'brewery_id', 'ounces'], dtype='object')"
     },
     "metadata": {},
     "execution_count": 10
    }
   ],
   "source": [
    "beer.columns"
   ]
  },
  {
   "cell_type": "code",
   "execution_count": 11,
   "metadata": {},
   "outputs": [
    {
     "output_type": "execute_result",
     "data": {
      "text/plain": "Index(['name', 'city', 'state'], dtype='object')"
     },
     "metadata": {},
     "execution_count": 11
    }
   ],
   "source": [
    "breweries.columns"
   ]
  },
  {
   "cell_type": "markdown",
   "metadata": {},
   "source": [
    "## Ejercicio 4\n",
    "¿Cuántas filas y columnas tiene el dataset?"
   ]
  },
  {
   "cell_type": "code",
   "execution_count": 12,
   "metadata": {
    "tags": []
   },
   "outputs": [
    {
     "output_type": "execute_result",
     "data": {
      "text/plain": "(2410, 7)"
     },
     "metadata": {},
     "execution_count": 12
    }
   ],
   "source": [
    "beer.shape"
   ]
  },
  {
   "cell_type": "code",
   "execution_count": 13,
   "metadata": {
    "tags": []
   },
   "outputs": [
    {
     "output_type": "execute_result",
     "data": {
      "text/plain": "(558, 3)"
     },
     "metadata": {},
     "execution_count": 13
    }
   ],
   "source": [
    "breweries.shape"
   ]
  },
  {
   "cell_type": "markdown",
   "metadata": {},
   "source": [
    "## Ejercicio 5\n",
    "¿De qué tipo son los datos?"
   ]
  },
  {
   "cell_type": "code",
   "execution_count": 14,
   "metadata": {
    "tags": []
   },
   "outputs": [
    {
     "output_type": "stream",
     "name": "stdout",
     "text": "<class 'pandas.core.frame.DataFrame'>\nRangeIndex: 2410 entries, 0 to 2409\nData columns (total 7 columns):\nabv           2348 non-null float64\nibu           1405 non-null float64\nid            2410 non-null int64\nname          2410 non-null object\nstyle         2405 non-null object\nbrewery_id    2410 non-null int64\nounces        2410 non-null float64\ndtypes: float64(3), int64(2), object(2)\nmemory usage: 131.9+ KB\n"
    }
   ],
   "source": [
    "beer.info()"
   ]
  },
  {
   "cell_type": "code",
   "execution_count": 15,
   "metadata": {},
   "outputs": [
    {
     "output_type": "execute_result",
     "data": {
      "text/plain": "abv           float64\nibu           float64\nid              int64\nname           object\nstyle          object\nbrewery_id      int64\nounces        float64\ndtype: object"
     },
     "metadata": {},
     "execution_count": 15
    }
   ],
   "source": [
    "beer.dtypes"
   ]
  },
  {
   "cell_type": "code",
   "execution_count": 16,
   "metadata": {
    "tags": []
   },
   "outputs": [
    {
     "output_type": "stream",
     "name": "stdout",
     "text": "<class 'pandas.core.frame.DataFrame'>\nRangeIndex: 558 entries, 0 to 557\nData columns (total 3 columns):\nname     558 non-null object\ncity     558 non-null object\nstate    558 non-null object\ndtypes: object(3)\nmemory usage: 13.2+ KB\n"
    }
   ],
   "source": [
    "breweries.info()"
   ]
  },
  {
   "cell_type": "markdown",
   "metadata": {},
   "source": [
    "## Ejercicio 6\n",
    "Obtén en una nuevo DataFrame un resumen con las principales estadísticas de las columnas numércias: mean, max, count, cuantiles..."
   ]
  },
  {
   "cell_type": "code",
   "execution_count": 17,
   "metadata": {},
   "outputs": [
    {
     "output_type": "execute_result",
     "data": {
      "text/plain": "               abv          ibu           id   brewery_id       ounces\ncount  2348.000000  1405.000000  2410.000000  2410.000000  2410.000000\nmean      0.059773    42.713167  1431.113278   231.749793    13.592241\nstd       0.013542    25.954066   752.459975   157.685604     2.352204\nmin       0.001000     4.000000     1.000000     0.000000     8.400000\n25%       0.050000    21.000000   808.250000    93.000000    12.000000\n50%       0.056000    35.000000  1453.500000   205.000000    12.000000\n75%       0.067000    64.000000  2075.750000   366.000000    16.000000\nmax       0.128000   138.000000  2692.000000   557.000000    32.000000",
      "text/html": "<div>\n<style scoped>\n    .dataframe tbody tr th:only-of-type {\n        vertical-align: middle;\n    }\n\n    .dataframe tbody tr th {\n        vertical-align: top;\n    }\n\n    .dataframe thead th {\n        text-align: right;\n    }\n</style>\n<table border=\"1\" class=\"dataframe\">\n  <thead>\n    <tr style=\"text-align: right;\">\n      <th></th>\n      <th>abv</th>\n      <th>ibu</th>\n      <th>id</th>\n      <th>brewery_id</th>\n      <th>ounces</th>\n    </tr>\n  </thead>\n  <tbody>\n    <tr>\n      <td>count</td>\n      <td>2348.000000</td>\n      <td>1405.000000</td>\n      <td>2410.000000</td>\n      <td>2410.000000</td>\n      <td>2410.000000</td>\n    </tr>\n    <tr>\n      <td>mean</td>\n      <td>0.059773</td>\n      <td>42.713167</td>\n      <td>1431.113278</td>\n      <td>231.749793</td>\n      <td>13.592241</td>\n    </tr>\n    <tr>\n      <td>std</td>\n      <td>0.013542</td>\n      <td>25.954066</td>\n      <td>752.459975</td>\n      <td>157.685604</td>\n      <td>2.352204</td>\n    </tr>\n    <tr>\n      <td>min</td>\n      <td>0.001000</td>\n      <td>4.000000</td>\n      <td>1.000000</td>\n      <td>0.000000</td>\n      <td>8.400000</td>\n    </tr>\n    <tr>\n      <td>25%</td>\n      <td>0.050000</td>\n      <td>21.000000</td>\n      <td>808.250000</td>\n      <td>93.000000</td>\n      <td>12.000000</td>\n    </tr>\n    <tr>\n      <td>50%</td>\n      <td>0.056000</td>\n      <td>35.000000</td>\n      <td>1453.500000</td>\n      <td>205.000000</td>\n      <td>12.000000</td>\n    </tr>\n    <tr>\n      <td>75%</td>\n      <td>0.067000</td>\n      <td>64.000000</td>\n      <td>2075.750000</td>\n      <td>366.000000</td>\n      <td>16.000000</td>\n    </tr>\n    <tr>\n      <td>max</td>\n      <td>0.128000</td>\n      <td>138.000000</td>\n      <td>2692.000000</td>\n      <td>557.000000</td>\n      <td>32.000000</td>\n    </tr>\n  </tbody>\n</table>\n</div>"
     },
     "metadata": {},
     "execution_count": 17
    }
   ],
   "source": [
    "beer.describe()"
   ]
  },
  {
   "cell_type": "code",
   "execution_count": 18,
   "metadata": {},
   "outputs": [
    {
     "output_type": "execute_result",
     "data": {
      "text/plain": "                       name      city state\ncount                   558       558   558\nunique                  551       384    51\ntop     Otter Creek Brewing  Portland    CO\nfreq                      2        17    47",
      "text/html": "<div>\n<style scoped>\n    .dataframe tbody tr th:only-of-type {\n        vertical-align: middle;\n    }\n\n    .dataframe tbody tr th {\n        vertical-align: top;\n    }\n\n    .dataframe thead th {\n        text-align: right;\n    }\n</style>\n<table border=\"1\" class=\"dataframe\">\n  <thead>\n    <tr style=\"text-align: right;\">\n      <th></th>\n      <th>name</th>\n      <th>city</th>\n      <th>state</th>\n    </tr>\n  </thead>\n  <tbody>\n    <tr>\n      <td>count</td>\n      <td>558</td>\n      <td>558</td>\n      <td>558</td>\n    </tr>\n    <tr>\n      <td>unique</td>\n      <td>551</td>\n      <td>384</td>\n      <td>51</td>\n    </tr>\n    <tr>\n      <td>top</td>\n      <td>Otter Creek Brewing</td>\n      <td>Portland</td>\n      <td>CO</td>\n    </tr>\n    <tr>\n      <td>freq</td>\n      <td>2</td>\n      <td>17</td>\n      <td>47</td>\n    </tr>\n  </tbody>\n</table>\n</div>"
     },
     "metadata": {},
     "execution_count": 18
    }
   ],
   "source": [
    "breweries.describe()"
   ]
  },
  {
   "cell_type": "markdown",
   "metadata": {},
   "source": [
    "## Ejercicio 7\n",
    "¿Cuántas birras hay de cada estilo en este dataset? [Investiga en la documentación de Series](https://pandas.pydata.org/pandas-docs/stable/reference/api/pandas.Series.html) si puedes hacer un conteo de valores."
   ]
  },
  {
   "cell_type": "code",
   "execution_count": 19,
   "metadata": {},
   "outputs": [
    {
     "output_type": "execute_result",
     "data": {
      "text/plain": "     abv  ibu    id                 name                           style  \\\n0  0.050  NaN  1436             Pub Beer             American Pale Lager   \n1  0.066  NaN  2265          Devil's Cup         American Pale Ale (APA)   \n2  0.071  NaN  2264  Rise of the Phoenix                    American IPA   \n3  0.090  NaN  2263             Sinister  American Double / Imperial IPA   \n4  0.075  NaN  2262        Sex and Candy                    American IPA   \n\n   brewery_id  ounces  \n0         408    12.0  \n1         177    12.0  \n2         177    12.0  \n3         177    12.0  \n4         177    12.0  ",
      "text/html": "<div>\n<style scoped>\n    .dataframe tbody tr th:only-of-type {\n        vertical-align: middle;\n    }\n\n    .dataframe tbody tr th {\n        vertical-align: top;\n    }\n\n    .dataframe thead th {\n        text-align: right;\n    }\n</style>\n<table border=\"1\" class=\"dataframe\">\n  <thead>\n    <tr style=\"text-align: right;\">\n      <th></th>\n      <th>abv</th>\n      <th>ibu</th>\n      <th>id</th>\n      <th>name</th>\n      <th>style</th>\n      <th>brewery_id</th>\n      <th>ounces</th>\n    </tr>\n  </thead>\n  <tbody>\n    <tr>\n      <td>0</td>\n      <td>0.050</td>\n      <td>NaN</td>\n      <td>1436</td>\n      <td>Pub Beer</td>\n      <td>American Pale Lager</td>\n      <td>408</td>\n      <td>12.0</td>\n    </tr>\n    <tr>\n      <td>1</td>\n      <td>0.066</td>\n      <td>NaN</td>\n      <td>2265</td>\n      <td>Devil's Cup</td>\n      <td>American Pale Ale (APA)</td>\n      <td>177</td>\n      <td>12.0</td>\n    </tr>\n    <tr>\n      <td>2</td>\n      <td>0.071</td>\n      <td>NaN</td>\n      <td>2264</td>\n      <td>Rise of the Phoenix</td>\n      <td>American IPA</td>\n      <td>177</td>\n      <td>12.0</td>\n    </tr>\n    <tr>\n      <td>3</td>\n      <td>0.090</td>\n      <td>NaN</td>\n      <td>2263</td>\n      <td>Sinister</td>\n      <td>American Double / Imperial IPA</td>\n      <td>177</td>\n      <td>12.0</td>\n    </tr>\n    <tr>\n      <td>4</td>\n      <td>0.075</td>\n      <td>NaN</td>\n      <td>2262</td>\n      <td>Sex and Candy</td>\n      <td>American IPA</td>\n      <td>177</td>\n      <td>12.0</td>\n    </tr>\n  </tbody>\n</table>\n</div>"
     },
     "metadata": {},
     "execution_count": 19
    }
   ],
   "source": [
    "beer.head()"
   ]
  },
  {
   "cell_type": "code",
   "execution_count": 20,
   "metadata": {},
   "outputs": [
    {
     "output_type": "execute_result",
     "data": {
      "text/plain": "                        name           city state\n0         NorthGate Brewing     Minneapolis    MN\n1  Against the Grain Brewery     Louisville    KY\n2   Jack's Abby Craft Lagers     Framingham    MA\n3  Mike Hess Brewing Company      San Diego    CA\n4    Fort Point Beer Company  San Francisco    CA",
      "text/html": "<div>\n<style scoped>\n    .dataframe tbody tr th:only-of-type {\n        vertical-align: middle;\n    }\n\n    .dataframe tbody tr th {\n        vertical-align: top;\n    }\n\n    .dataframe thead th {\n        text-align: right;\n    }\n</style>\n<table border=\"1\" class=\"dataframe\">\n  <thead>\n    <tr style=\"text-align: right;\">\n      <th></th>\n      <th>name</th>\n      <th>city</th>\n      <th>state</th>\n    </tr>\n  </thead>\n  <tbody>\n    <tr>\n      <td>0</td>\n      <td>NorthGate Brewing</td>\n      <td>Minneapolis</td>\n      <td>MN</td>\n    </tr>\n    <tr>\n      <td>1</td>\n      <td>Against the Grain Brewery</td>\n      <td>Louisville</td>\n      <td>KY</td>\n    </tr>\n    <tr>\n      <td>2</td>\n      <td>Jack's Abby Craft Lagers</td>\n      <td>Framingham</td>\n      <td>MA</td>\n    </tr>\n    <tr>\n      <td>3</td>\n      <td>Mike Hess Brewing Company</td>\n      <td>San Diego</td>\n      <td>CA</td>\n    </tr>\n    <tr>\n      <td>4</td>\n      <td>Fort Point Beer Company</td>\n      <td>San Francisco</td>\n      <td>CA</td>\n    </tr>\n  </tbody>\n</table>\n</div>"
     },
     "metadata": {},
     "execution_count": 20
    }
   ],
   "source": [
    "breweries.head()"
   ]
  },
  {
   "cell_type": "code",
   "execution_count": 21,
   "metadata": {},
   "outputs": [
    {
     "output_type": "execute_result",
     "data": {
      "text/plain": "array(['American Pale Lager', 'American Pale Ale (APA)', 'American IPA',\n       'American Double / Imperial IPA', 'Oatmeal Stout',\n       'American Porter', 'Saison / Farmhouse Ale', 'Belgian IPA',\n       'Cider', 'Baltic Porter', 'Tripel', 'American Barleywine',\n       'Winter Warmer', 'American Stout', 'Fruit / Vegetable Beer',\n       'English Strong Ale', 'American Black Ale', 'Belgian Dark Ale',\n       'American Blonde Ale', 'American Amber / Red Ale',\n       'Berliner Weissbier', 'American Brown Ale',\n       'American Pale Wheat Ale', 'Belgian Strong Dark Ale', 'Kölsch',\n       'English Pale Ale', 'American Amber / Red Lager',\n       'English Barleywine', 'Milk / Sweet Stout', 'German Pilsener',\n       'Pumpkin Ale', 'Belgian Pale Ale', 'American Pilsner',\n       'American Wild Ale', 'English Brown Ale', 'Altbier',\n       'California Common / Steam Beer', 'Gose', 'Cream Ale',\n       'Vienna Lager', 'Witbier', 'American Double / Imperial Stout',\n       'Munich Helles Lager', 'Schwarzbier', 'Märzen / Oktoberfest',\n       'Extra Special / Strong Bitter (ESB)', 'Rye Beer',\n       'Euro Dark Lager', 'Hefeweizen', 'Foreign / Export Stout', 'Other',\n       'English India Pale Ale (IPA)', 'Czech Pilsener',\n       'American Strong Ale', 'Mead', 'Euro Pale Lager',\n       'American White IPA', 'Dortmunder / Export Lager',\n       'Irish Dry Stout', 'Scotch Ale / Wee Heavy', 'Munich Dunkel Lager',\n       'Radler', 'Bock', 'English Dark Mild Ale', 'Irish Red Ale',\n       'Rauchbier', 'Bière de Garde', 'Doppelbock', 'Dunkelweizen',\n       'Belgian Strong Pale Ale', 'Dubbel', 'Quadrupel (Quad)',\n       'Russian Imperial Stout', 'English Pale Mild Ale',\n       'Maibock / Helles Bock', 'Herbed / Spiced Beer',\n       'American Adjunct Lager', 'Scottish Ale', nan, 'Smoked Beer',\n       'Light Lager', 'Abbey Single Ale', 'Roggenbier', 'Kristalweizen',\n       'American Dark Wheat Ale', 'English Stout', 'Old Ale',\n       'American Double / Imperial Pilsner', 'Flanders Red Ale',\n       'Keller Bier / Zwickel Bier', 'American India Pale Lager',\n       'Shandy', 'Wheat Ale', 'American Malt Liquor', 'English Bitter',\n       'Chile Beer', 'Grisette', 'Flanders Oud Bruin', 'Braggot',\n       'Low Alcohol Beer'], dtype=object)"
     },
     "metadata": {},
     "execution_count": 21
    }
   ],
   "source": [
    "styles_beer = beer['style'].unique()\n",
    "styles_beer"
   ]
  },
  {
   "cell_type": "code",
   "execution_count": 22,
   "metadata": {},
   "outputs": [
    {
     "output_type": "execute_result",
     "data": {
      "text/plain": "100"
     },
     "metadata": {},
     "execution_count": 22
    }
   ],
   "source": [
    "styles_beer.size"
   ]
  },
  {
   "cell_type": "code",
   "execution_count": 23,
   "metadata": {},
   "outputs": [
    {
     "output_type": "execute_result",
     "data": {
      "text/plain": "abv            True\nibu            True\nid            False\nname          False\nstyle          True\nbrewery_id    False\nounces        False\ndtype: bool"
     },
     "metadata": {},
     "execution_count": 23
    }
   ],
   "source": [
    "beer.isnull().any()"
   ]
  },
  {
   "cell_type": "code",
   "execution_count": 24,
   "metadata": {},
   "outputs": [
    {
     "output_type": "execute_result",
     "data": {
      "text/plain": "        abv   ibu    id                            name style  brewery_id  \\\n566     NaN   NaN  2210                 Special Release   NaN          29   \n853   0.060  21.0  1635  Kilt Lifter Scottish-Style Ale   NaN         160   \n866   0.053  27.0  2527                   OktoberFiesta   NaN          66   \n1554    NaN   NaN  1796                    The CROWLER™   NaN         166   \n1555    NaN   NaN  1790            CAN'D AID Foundation   NaN         166   \n\n      ounces  \n566     16.0  \n853     12.0  \n866     12.0  \n1554    32.0  \n1555    12.0  ",
      "text/html": "<div>\n<style scoped>\n    .dataframe tbody tr th:only-of-type {\n        vertical-align: middle;\n    }\n\n    .dataframe tbody tr th {\n        vertical-align: top;\n    }\n\n    .dataframe thead th {\n        text-align: right;\n    }\n</style>\n<table border=\"1\" class=\"dataframe\">\n  <thead>\n    <tr style=\"text-align: right;\">\n      <th></th>\n      <th>abv</th>\n      <th>ibu</th>\n      <th>id</th>\n      <th>name</th>\n      <th>style</th>\n      <th>brewery_id</th>\n      <th>ounces</th>\n    </tr>\n  </thead>\n  <tbody>\n    <tr>\n      <td>566</td>\n      <td>NaN</td>\n      <td>NaN</td>\n      <td>2210</td>\n      <td>Special Release</td>\n      <td>NaN</td>\n      <td>29</td>\n      <td>16.0</td>\n    </tr>\n    <tr>\n      <td>853</td>\n      <td>0.060</td>\n      <td>21.0</td>\n      <td>1635</td>\n      <td>Kilt Lifter Scottish-Style Ale</td>\n      <td>NaN</td>\n      <td>160</td>\n      <td>12.0</td>\n    </tr>\n    <tr>\n      <td>866</td>\n      <td>0.053</td>\n      <td>27.0</td>\n      <td>2527</td>\n      <td>OktoberFiesta</td>\n      <td>NaN</td>\n      <td>66</td>\n      <td>12.0</td>\n    </tr>\n    <tr>\n      <td>1554</td>\n      <td>NaN</td>\n      <td>NaN</td>\n      <td>1796</td>\n      <td>The CROWLER™</td>\n      <td>NaN</td>\n      <td>166</td>\n      <td>32.0</td>\n    </tr>\n    <tr>\n      <td>1555</td>\n      <td>NaN</td>\n      <td>NaN</td>\n      <td>1790</td>\n      <td>CAN'D AID Foundation</td>\n      <td>NaN</td>\n      <td>166</td>\n      <td>12.0</td>\n    </tr>\n  </tbody>\n</table>\n</div>"
     },
     "metadata": {},
     "execution_count": 24
    }
   ],
   "source": [
    "beer[beer['style'].isnull()]"
   ]
  },
  {
   "cell_type": "code",
   "execution_count": 25,
   "metadata": {},
   "outputs": [
    {
     "output_type": "execute_result",
     "data": {
      "text/plain": "style\nAmerican IPA                      424\nAmerican Pale Ale (APA)           245\nAmerican Amber / Red Ale          133\nAmerican Blonde Ale               108\nAmerican Double / Imperial IPA    105\n                                 ... \nFlanders Red Ale                    1\nBraggot                             1\nSmoked Beer                         1\nFlanders Oud Bruin                  1\nWheat Ale                           1\nName: name, Length: 99, dtype: int64"
     },
     "metadata": {},
     "execution_count": 25
    }
   ],
   "source": [
    "beer.groupby('style')['name'].count().sort_values(ascending = False)"
   ]
  },
  {
   "cell_type": "code",
   "execution_count": 26,
   "metadata": {},
   "outputs": [
    {
     "output_type": "execute_result",
     "data": {
      "text/plain": "American IPA                      424\nAmerican Pale Ale (APA)           245\nAmerican Amber / Red Ale          133\nAmerican Blonde Ale               108\nAmerican Double / Imperial IPA    105\n                                 ... \nAmerican Malt Liquor                1\nOther                               1\nFlanders Oud Bruin                  1\nKristalweizen                       1\nLow Alcohol Beer                    1\nName: style, Length: 99, dtype: int64"
     },
     "metadata": {},
     "execution_count": 26
    }
   ],
   "source": [
    "beer['style'].value_counts()"
   ]
  },
  {
   "cell_type": "code",
   "execution_count": 27,
   "metadata": {},
   "outputs": [
    {
     "output_type": "execute_result",
     "data": {
      "text/plain": "<pandas._config.config.CallableDynamicDoc at 0x1f438782948>"
     },
     "metadata": {},
     "execution_count": 27
    }
   ],
   "source": [
    "pd.set_option"
   ]
  },
  {
   "cell_type": "markdown",
   "metadata": {},
   "source": [
    "## Ejercicio 8\n",
    "1. Imprime por pantalla los registros del 10 al 20\n",
    "2. De esos registros, imprime por pantalla desde la columna `name` a `ounces`, ambas incluidas\n",
    "3. Quédate con las columnas `abv`, `ibu` y `ounces`, y además quédate sólo con los registros 10 al 20.\n",
    "4. Convierte el resultado del apartado 3 en un array de `numpy`"
   ]
  },
  {
   "cell_type": "code",
   "execution_count": 28,
   "metadata": {},
   "outputs": [
    {
     "output_type": "execute_result",
     "data": {
      "text/plain": "      abv   ibu    id                          name                    style  \\\n10  0.072   NaN  2099             Sophomoric Saison   Saison / Farmhouse Ale   \n11  0.073   NaN  2098         Regional Ring Of Fire   Saison / Farmhouse Ale   \n12  0.069   NaN  2097                    Garce Selé   Saison / Farmhouse Ale   \n13  0.085   NaN  1980               Troll Destroyer              Belgian IPA   \n14  0.061  60.0  1979                  Bitter Bitch  American Pale Ale (APA)   \n15  0.060   NaN  2318                   Ginja Ninja                    Cider   \n16  0.060   NaN  2170                 Cherried Away                    Cider   \n17  0.060   NaN  2169                  Rhubarbarian                    Cider   \n18  0.060   NaN  1502                   BrightCider                    Cider   \n19  0.082   NaN  1593   He Said Baltic-Style Porter            Baltic Porter   \n20  0.082   NaN  1592  He Said Belgian-Style Tripel                   Tripel   \n\n    brewery_id  ounces  \n10         177    12.0  \n11         177    12.0  \n12         177    12.0  \n13         177    12.0  \n14         177    12.0  \n15         154    12.0  \n16         154    12.0  \n17         154    12.0  \n18         154    12.0  \n19         368    12.0  \n20         368    12.0  ",
      "text/html": "<div>\n<style scoped>\n    .dataframe tbody tr th:only-of-type {\n        vertical-align: middle;\n    }\n\n    .dataframe tbody tr th {\n        vertical-align: top;\n    }\n\n    .dataframe thead th {\n        text-align: right;\n    }\n</style>\n<table border=\"1\" class=\"dataframe\">\n  <thead>\n    <tr style=\"text-align: right;\">\n      <th></th>\n      <th>abv</th>\n      <th>ibu</th>\n      <th>id</th>\n      <th>name</th>\n      <th>style</th>\n      <th>brewery_id</th>\n      <th>ounces</th>\n    </tr>\n  </thead>\n  <tbody>\n    <tr>\n      <td>10</td>\n      <td>0.072</td>\n      <td>NaN</td>\n      <td>2099</td>\n      <td>Sophomoric Saison</td>\n      <td>Saison / Farmhouse Ale</td>\n      <td>177</td>\n      <td>12.0</td>\n    </tr>\n    <tr>\n      <td>11</td>\n      <td>0.073</td>\n      <td>NaN</td>\n      <td>2098</td>\n      <td>Regional Ring Of Fire</td>\n      <td>Saison / Farmhouse Ale</td>\n      <td>177</td>\n      <td>12.0</td>\n    </tr>\n    <tr>\n      <td>12</td>\n      <td>0.069</td>\n      <td>NaN</td>\n      <td>2097</td>\n      <td>Garce Selé</td>\n      <td>Saison / Farmhouse Ale</td>\n      <td>177</td>\n      <td>12.0</td>\n    </tr>\n    <tr>\n      <td>13</td>\n      <td>0.085</td>\n      <td>NaN</td>\n      <td>1980</td>\n      <td>Troll Destroyer</td>\n      <td>Belgian IPA</td>\n      <td>177</td>\n      <td>12.0</td>\n    </tr>\n    <tr>\n      <td>14</td>\n      <td>0.061</td>\n      <td>60.0</td>\n      <td>1979</td>\n      <td>Bitter Bitch</td>\n      <td>American Pale Ale (APA)</td>\n      <td>177</td>\n      <td>12.0</td>\n    </tr>\n    <tr>\n      <td>15</td>\n      <td>0.060</td>\n      <td>NaN</td>\n      <td>2318</td>\n      <td>Ginja Ninja</td>\n      <td>Cider</td>\n      <td>154</td>\n      <td>12.0</td>\n    </tr>\n    <tr>\n      <td>16</td>\n      <td>0.060</td>\n      <td>NaN</td>\n      <td>2170</td>\n      <td>Cherried Away</td>\n      <td>Cider</td>\n      <td>154</td>\n      <td>12.0</td>\n    </tr>\n    <tr>\n      <td>17</td>\n      <td>0.060</td>\n      <td>NaN</td>\n      <td>2169</td>\n      <td>Rhubarbarian</td>\n      <td>Cider</td>\n      <td>154</td>\n      <td>12.0</td>\n    </tr>\n    <tr>\n      <td>18</td>\n      <td>0.060</td>\n      <td>NaN</td>\n      <td>1502</td>\n      <td>BrightCider</td>\n      <td>Cider</td>\n      <td>154</td>\n      <td>12.0</td>\n    </tr>\n    <tr>\n      <td>19</td>\n      <td>0.082</td>\n      <td>NaN</td>\n      <td>1593</td>\n      <td>He Said Baltic-Style Porter</td>\n      <td>Baltic Porter</td>\n      <td>368</td>\n      <td>12.0</td>\n    </tr>\n    <tr>\n      <td>20</td>\n      <td>0.082</td>\n      <td>NaN</td>\n      <td>1592</td>\n      <td>He Said Belgian-Style Tripel</td>\n      <td>Tripel</td>\n      <td>368</td>\n      <td>12.0</td>\n    </tr>\n  </tbody>\n</table>\n</div>"
     },
     "metadata": {},
     "execution_count": 28
    }
   ],
   "source": [
    "#1.Imprime por pantalla los registros del 10 al 20\n",
    "beer[10:21]"
   ]
  },
  {
   "cell_type": "code",
   "execution_count": 29,
   "metadata": {},
   "outputs": [
    {
     "output_type": "execute_result",
     "data": {
      "text/plain": "                           name           city state\n10               Brewery Vivant   Grand Rapids    MI\n11             Petoskey Brewing       Petoskey    MI\n12           Blackrocks Brewery      Marquette    MI\n13       Perrin Brewing Company  Comstock Park    MI\n14  Witch's Hat Brewing Company     South Lyon    MI\n15     Founders Brewing Company   Grand Rapids    MI\n16            Flat 12 Bierwerks   Indianapolis    IN\n17      Tin Man Brewing Company     Evansville    IN\n18       Black Acre Brewing Co.   Indianapolis    IN\n19            Brew Link Brewing     Plainfield    IN\n20           Bare Hands Brewery        Granger    IN",
      "text/html": "<div>\n<style scoped>\n    .dataframe tbody tr th:only-of-type {\n        vertical-align: middle;\n    }\n\n    .dataframe tbody tr th {\n        vertical-align: top;\n    }\n\n    .dataframe thead th {\n        text-align: right;\n    }\n</style>\n<table border=\"1\" class=\"dataframe\">\n  <thead>\n    <tr style=\"text-align: right;\">\n      <th></th>\n      <th>name</th>\n      <th>city</th>\n      <th>state</th>\n    </tr>\n  </thead>\n  <tbody>\n    <tr>\n      <td>10</td>\n      <td>Brewery Vivant</td>\n      <td>Grand Rapids</td>\n      <td>MI</td>\n    </tr>\n    <tr>\n      <td>11</td>\n      <td>Petoskey Brewing</td>\n      <td>Petoskey</td>\n      <td>MI</td>\n    </tr>\n    <tr>\n      <td>12</td>\n      <td>Blackrocks Brewery</td>\n      <td>Marquette</td>\n      <td>MI</td>\n    </tr>\n    <tr>\n      <td>13</td>\n      <td>Perrin Brewing Company</td>\n      <td>Comstock Park</td>\n      <td>MI</td>\n    </tr>\n    <tr>\n      <td>14</td>\n      <td>Witch's Hat Brewing Company</td>\n      <td>South Lyon</td>\n      <td>MI</td>\n    </tr>\n    <tr>\n      <td>15</td>\n      <td>Founders Brewing Company</td>\n      <td>Grand Rapids</td>\n      <td>MI</td>\n    </tr>\n    <tr>\n      <td>16</td>\n      <td>Flat 12 Bierwerks</td>\n      <td>Indianapolis</td>\n      <td>IN</td>\n    </tr>\n    <tr>\n      <td>17</td>\n      <td>Tin Man Brewing Company</td>\n      <td>Evansville</td>\n      <td>IN</td>\n    </tr>\n    <tr>\n      <td>18</td>\n      <td>Black Acre Brewing Co.</td>\n      <td>Indianapolis</td>\n      <td>IN</td>\n    </tr>\n    <tr>\n      <td>19</td>\n      <td>Brew Link Brewing</td>\n      <td>Plainfield</td>\n      <td>IN</td>\n    </tr>\n    <tr>\n      <td>20</td>\n      <td>Bare Hands Brewery</td>\n      <td>Granger</td>\n      <td>IN</td>\n    </tr>\n  </tbody>\n</table>\n</div>"
     },
     "metadata": {},
     "execution_count": 29
    }
   ],
   "source": [
    "#1.Imprime por pantalla los registros del 10 al 20\n",
    "breweries[10:21]"
   ]
  },
  {
   "cell_type": "code",
   "execution_count": 30,
   "metadata": {},
   "outputs": [
    {
     "output_type": "execute_result",
     "data": {
      "text/plain": "                      name                           style  brewery_id  ounces\n0                 Pub Beer             American Pale Lager         408    12.0\n1              Devil's Cup         American Pale Ale (APA)         177    12.0\n2      Rise of the Phoenix                    American IPA         177    12.0\n3                 Sinister  American Double / Imperial IPA         177    12.0\n4            Sex and Candy                    American IPA         177    12.0\n...                    ...                             ...         ...     ...\n2405             Belgorado                     Belgian IPA         424    12.0\n2406         Rail Yard Ale        American Amber / Red Ale         424    12.0\n2407       B3K Black Lager                     Schwarzbier         424    12.0\n2408   Silverback Pale Ale         American Pale Ale (APA)         424    12.0\n2409  Rail Yard Ale (2009)        American Amber / Red Ale         424    12.0\n\n[2410 rows x 4 columns]",
      "text/html": "<div>\n<style scoped>\n    .dataframe tbody tr th:only-of-type {\n        vertical-align: middle;\n    }\n\n    .dataframe tbody tr th {\n        vertical-align: top;\n    }\n\n    .dataframe thead th {\n        text-align: right;\n    }\n</style>\n<table border=\"1\" class=\"dataframe\">\n  <thead>\n    <tr style=\"text-align: right;\">\n      <th></th>\n      <th>name</th>\n      <th>style</th>\n      <th>brewery_id</th>\n      <th>ounces</th>\n    </tr>\n  </thead>\n  <tbody>\n    <tr>\n      <td>0</td>\n      <td>Pub Beer</td>\n      <td>American Pale Lager</td>\n      <td>408</td>\n      <td>12.0</td>\n    </tr>\n    <tr>\n      <td>1</td>\n      <td>Devil's Cup</td>\n      <td>American Pale Ale (APA)</td>\n      <td>177</td>\n      <td>12.0</td>\n    </tr>\n    <tr>\n      <td>2</td>\n      <td>Rise of the Phoenix</td>\n      <td>American IPA</td>\n      <td>177</td>\n      <td>12.0</td>\n    </tr>\n    <tr>\n      <td>3</td>\n      <td>Sinister</td>\n      <td>American Double / Imperial IPA</td>\n      <td>177</td>\n      <td>12.0</td>\n    </tr>\n    <tr>\n      <td>4</td>\n      <td>Sex and Candy</td>\n      <td>American IPA</td>\n      <td>177</td>\n      <td>12.0</td>\n    </tr>\n    <tr>\n      <td>...</td>\n      <td>...</td>\n      <td>...</td>\n      <td>...</td>\n      <td>...</td>\n    </tr>\n    <tr>\n      <td>2405</td>\n      <td>Belgorado</td>\n      <td>Belgian IPA</td>\n      <td>424</td>\n      <td>12.0</td>\n    </tr>\n    <tr>\n      <td>2406</td>\n      <td>Rail Yard Ale</td>\n      <td>American Amber / Red Ale</td>\n      <td>424</td>\n      <td>12.0</td>\n    </tr>\n    <tr>\n      <td>2407</td>\n      <td>B3K Black Lager</td>\n      <td>Schwarzbier</td>\n      <td>424</td>\n      <td>12.0</td>\n    </tr>\n    <tr>\n      <td>2408</td>\n      <td>Silverback Pale Ale</td>\n      <td>American Pale Ale (APA)</td>\n      <td>424</td>\n      <td>12.0</td>\n    </tr>\n    <tr>\n      <td>2409</td>\n      <td>Rail Yard Ale (2009)</td>\n      <td>American Amber / Red Ale</td>\n      <td>424</td>\n      <td>12.0</td>\n    </tr>\n  </tbody>\n</table>\n<p>2410 rows × 4 columns</p>\n</div>"
     },
     "metadata": {},
     "execution_count": 30
    }
   ],
   "source": [
    "#2.De esos registros, imprime por pantalla desde la columna name a ounces, ambas incluidas\n",
    "beer.loc[:,'name':]"
   ]
  },
  {
   "cell_type": "code",
   "execution_count": 31,
   "metadata": {},
   "outputs": [
    {
     "output_type": "execute_result",
     "data": {
      "text/plain": "      abv   ibu  ounces\n10  0.072   NaN    12.0\n11  0.073   NaN    12.0\n12  0.069   NaN    12.0\n13  0.085   NaN    12.0\n14  0.061  60.0    12.0\n15  0.060   NaN    12.0\n16  0.060   NaN    12.0\n17  0.060   NaN    12.0\n18  0.060   NaN    12.0\n19  0.082   NaN    12.0\n20  0.082   NaN    12.0\n21  0.099  92.0     8.4",
      "text/html": "<div>\n<style scoped>\n    .dataframe tbody tr th:only-of-type {\n        vertical-align: middle;\n    }\n\n    .dataframe tbody tr th {\n        vertical-align: top;\n    }\n\n    .dataframe thead th {\n        text-align: right;\n    }\n</style>\n<table border=\"1\" class=\"dataframe\">\n  <thead>\n    <tr style=\"text-align: right;\">\n      <th></th>\n      <th>abv</th>\n      <th>ibu</th>\n      <th>ounces</th>\n    </tr>\n  </thead>\n  <tbody>\n    <tr>\n      <td>10</td>\n      <td>0.072</td>\n      <td>NaN</td>\n      <td>12.0</td>\n    </tr>\n    <tr>\n      <td>11</td>\n      <td>0.073</td>\n      <td>NaN</td>\n      <td>12.0</td>\n    </tr>\n    <tr>\n      <td>12</td>\n      <td>0.069</td>\n      <td>NaN</td>\n      <td>12.0</td>\n    </tr>\n    <tr>\n      <td>13</td>\n      <td>0.085</td>\n      <td>NaN</td>\n      <td>12.0</td>\n    </tr>\n    <tr>\n      <td>14</td>\n      <td>0.061</td>\n      <td>60.0</td>\n      <td>12.0</td>\n    </tr>\n    <tr>\n      <td>15</td>\n      <td>0.060</td>\n      <td>NaN</td>\n      <td>12.0</td>\n    </tr>\n    <tr>\n      <td>16</td>\n      <td>0.060</td>\n      <td>NaN</td>\n      <td>12.0</td>\n    </tr>\n    <tr>\n      <td>17</td>\n      <td>0.060</td>\n      <td>NaN</td>\n      <td>12.0</td>\n    </tr>\n    <tr>\n      <td>18</td>\n      <td>0.060</td>\n      <td>NaN</td>\n      <td>12.0</td>\n    </tr>\n    <tr>\n      <td>19</td>\n      <td>0.082</td>\n      <td>NaN</td>\n      <td>12.0</td>\n    </tr>\n    <tr>\n      <td>20</td>\n      <td>0.082</td>\n      <td>NaN</td>\n      <td>12.0</td>\n    </tr>\n    <tr>\n      <td>21</td>\n      <td>0.099</td>\n      <td>92.0</td>\n      <td>8.4</td>\n    </tr>\n  </tbody>\n</table>\n</div>"
     },
     "metadata": {},
     "execution_count": 31
    }
   ],
   "source": [
    "#3.Quédate con las columnas abv, ibu y ounces, y además quédate sólo con los registros 10 al 20.\n",
    "beer.loc[10:21,['abv','ibu','ounces']]"
   ]
  },
  {
   "cell_type": "code",
   "execution_count": 32,
   "metadata": {
    "tags": []
   },
   "outputs": [
    {
     "output_type": "stream",
     "name": "stdout",
     "text": "<class 'numpy.ndarray'>\n"
    },
    {
     "output_type": "execute_result",
     "data": {
      "text/plain": "array([[7.2e-02,     nan, 1.2e+01],\n       [7.3e-02,     nan, 1.2e+01],\n       [6.9e-02,     nan, 1.2e+01],\n       [8.5e-02,     nan, 1.2e+01],\n       [6.1e-02, 6.0e+01, 1.2e+01],\n       [6.0e-02,     nan, 1.2e+01],\n       [6.0e-02,     nan, 1.2e+01],\n       [6.0e-02,     nan, 1.2e+01],\n       [6.0e-02,     nan, 1.2e+01],\n       [8.2e-02,     nan, 1.2e+01],\n       [8.2e-02,     nan, 1.2e+01],\n       [9.9e-02, 9.2e+01, 8.4e+00]])"
     },
     "metadata": {},
     "execution_count": 32
    }
   ],
   "source": [
    "#4.Convierte el resultado del apartado 3 en un array de numpy\n",
    "array_beer = beer.loc[10:21,['abv','ibu','ounces']].values\n",
    "print(type(array_beer))\n",
    "array_beer"
   ]
  },
  {
   "cell_type": "markdown",
   "metadata": {},
   "source": [
    "## Ejercicio 9\n",
    "¿Cuántas onzas pesan todas las birras del dataset?"
   ]
  },
  {
   "cell_type": "code",
   "execution_count": 33,
   "metadata": {},
   "outputs": [
    {
     "output_type": "execute_result",
     "data": {
      "text/plain": "32757.3"
     },
     "metadata": {},
     "execution_count": 33
    }
   ],
   "source": [
    "beer['ounces'].sum()"
   ]
  },
  {
   "cell_type": "code",
   "execution_count": 34,
   "metadata": {},
   "outputs": [
    {
     "output_type": "execute_result",
     "data": {
      "text/plain": "32757.3"
     },
     "metadata": {},
     "execution_count": 34
    }
   ],
   "source": [
    "np.sum(beer['ounces'])"
   ]
  },
  {
   "cell_type": "markdown",
   "metadata": {},
   "source": [
    "## Ejercicio 10\n",
    "El amargor de las cervezas se mide por su nivel de IBUs.\n",
    "1. ¿Cuál es el amargor medio de las cervezas?\n",
    "2. ¿El máximo? ¿Y el mínimo?\n",
    "3. ¿Qué cerveza es la que tiene el amargor máximo? ¿Cuál es la de amargor mínimo?"
   ]
  },
  {
   "cell_type": "code",
   "execution_count": 35,
   "metadata": {},
   "outputs": [
    {
     "output_type": "execute_result",
     "data": {
      "text/plain": "42.71316725978647"
     },
     "metadata": {},
     "execution_count": 35
    }
   ],
   "source": [
    "#1.El amargor de las cervezas se mide por su nivel de IBUs. 1. ¿Cuál es el amargor medio de las cervezas?\n",
    "np.mean(beer['ibu'])"
   ]
  },
  {
   "cell_type": "code",
   "execution_count": 36,
   "metadata": {},
   "outputs": [
    {
     "output_type": "execute_result",
     "data": {
      "text/plain": "138.0"
     },
     "metadata": {},
     "execution_count": 36
    }
   ],
   "source": [
    "#2. ¿El máximo? ¿Y el mínimo?\n",
    "ibu_max = np.max(beer['ibu'])\n",
    "ibu_max"
   ]
  },
  {
   "cell_type": "code",
   "execution_count": 37,
   "metadata": {},
   "outputs": [
    {
     "output_type": "execute_result",
     "data": {
      "text/plain": "4.0"
     },
     "metadata": {},
     "execution_count": 37
    }
   ],
   "source": [
    "ibu_min = np.min(beer['ibu'])\n",
    "ibu_min"
   ]
  },
  {
   "cell_type": "code",
   "execution_count": 38,
   "metadata": {},
   "outputs": [
    {
     "output_type": "execute_result",
     "data": {
      "text/plain": "147    Bitter Bitch Imperial IPA\nName: name, dtype: object"
     },
     "metadata": {},
     "execution_count": 38
    }
   ],
   "source": [
    "# 3. ¿Qué cerveza es la que tiene el amargor máximo?¿Cuál es la de amargor mínimo?\n",
    "beer[beer['ibu']== ibu_max]['name']"
   ]
  },
  {
   "cell_type": "code",
   "execution_count": 64,
   "metadata": {},
   "outputs": [
    {
     "output_type": "execute_result",
     "data": {
      "text/plain": "106                         Summer Solstice\n112    Summer Solstice Cerveza Crema (2009)\n117                  Summer Solstice (2011)\nName: name, dtype: object"
     },
     "metadata": {},
     "execution_count": 64
    }
   ],
   "source": [
    "beer[beer['ibu']== ibu_min]['name']"
   ]
  },
  {
   "cell_type": "markdown",
   "metadata": {},
   "source": [
    "## Ejercicio 11\n",
    "No queda muy claro cuánto de dispar, de dispersa, es la medida de IBU. Mediante estadística descriptiva (una o dos métricas, sin gráficas), razona la dispersión de la variable IBU."
   ]
  },
  {
   "cell_type": "code",
   "execution_count": 102,
   "metadata": {
    "tags": []
   },
   "outputs": [
    {
     "output_type": "stream",
     "name": "stdout",
     "text": "Media 42.71316725978647\nDesviación 25.94482794481211\nMaximo 138.0\nMínimo 4.0\nVarianza 673.1340970859035\nIbu mucha desviación\n"
    }
   ],
   "source": [
    "print(\"Media\",np.mean(beer['ibu']))\n",
    "\n",
    "print(\"Desviación\",np.std(beer['ibu']))\n",
    "\n",
    "print(\"Maximo\", np.max(beer['ibu']))\n",
    "\n",
    "print(\"Mínimo\", np.min(beer['ibu']))\n",
    "\n",
    "print('Varianza', np.var(beer['ibu']))\n",
    "\n",
    "print(\"Ibu mucha desviación\")"
   ]
  },
  {
   "cell_type": "markdown",
   "metadata": {},
   "source": [
    "## Ejercicio 12\n",
    "¿Existe alguna relación lineal entre las variables numéricas del dataset? Intenta pintar este razonmiento mediante un gráfico"
   ]
  },
  {
   "cell_type": "code",
   "execution_count": 42,
   "metadata": {},
   "outputs": [
    {
     "output_type": "execute_result",
     "data": {
      "text/plain": "                 abv       ibu        id  brewery_id    ounces\nabv         1.000000  0.670621  0.042811   -0.098632  0.172529\nibu         0.670621  1.000000  0.000485   -0.004875  0.054691\nid          0.042811  0.000485  1.000000   -0.504030  0.100843\nbrewery_id -0.098632 -0.004875 -0.504030    1.000000 -0.133762\nounces      0.172529  0.054691  0.100843   -0.133762  1.000000",
      "text/html": "<div>\n<style scoped>\n    .dataframe tbody tr th:only-of-type {\n        vertical-align: middle;\n    }\n\n    .dataframe tbody tr th {\n        vertical-align: top;\n    }\n\n    .dataframe thead th {\n        text-align: right;\n    }\n</style>\n<table border=\"1\" class=\"dataframe\">\n  <thead>\n    <tr style=\"text-align: right;\">\n      <th></th>\n      <th>abv</th>\n      <th>ibu</th>\n      <th>id</th>\n      <th>brewery_id</th>\n      <th>ounces</th>\n    </tr>\n  </thead>\n  <tbody>\n    <tr>\n      <td>abv</td>\n      <td>1.000000</td>\n      <td>0.670621</td>\n      <td>0.042811</td>\n      <td>-0.098632</td>\n      <td>0.172529</td>\n    </tr>\n    <tr>\n      <td>ibu</td>\n      <td>0.670621</td>\n      <td>1.000000</td>\n      <td>0.000485</td>\n      <td>-0.004875</td>\n      <td>0.054691</td>\n    </tr>\n    <tr>\n      <td>id</td>\n      <td>0.042811</td>\n      <td>0.000485</td>\n      <td>1.000000</td>\n      <td>-0.504030</td>\n      <td>0.100843</td>\n    </tr>\n    <tr>\n      <td>brewery_id</td>\n      <td>-0.098632</td>\n      <td>-0.004875</td>\n      <td>-0.504030</td>\n      <td>1.000000</td>\n      <td>-0.133762</td>\n    </tr>\n    <tr>\n      <td>ounces</td>\n      <td>0.172529</td>\n      <td>0.054691</td>\n      <td>0.100843</td>\n      <td>-0.133762</td>\n      <td>1.000000</td>\n    </tr>\n  </tbody>\n</table>\n</div>"
     },
     "metadata": {},
     "execution_count": 42
    }
   ],
   "source": [
    "beer.corr()\n"
   ]
  },
  {
   "cell_type": "code",
   "execution_count": 44,
   "metadata": {},
   "outputs": [
    {
     "output_type": "error",
     "ename": "TypeError",
     "evalue": "object of type <class 'float'> cannot be safely interpreted as an integer.",
     "traceback": [
      "\u001b[1;31m---------------------------------------------------------------------------\u001b[0m",
      "\u001b[1;31mTypeError\u001b[0m                                 Traceback (most recent call last)",
      "\u001b[1;32m~\\Anaconda3\\lib\\site-packages\\numpy\\core\\function_base.py\u001b[0m in \u001b[0;36mlinspace\u001b[1;34m(start, stop, num, endpoint, retstep, dtype, axis)\u001b[0m\n\u001b[0;32m    116\u001b[0m     \u001b[1;32mtry\u001b[0m\u001b[1;33m:\u001b[0m\u001b[1;33m\u001b[0m\u001b[1;33m\u001b[0m\u001b[0m\n\u001b[1;32m--> 117\u001b[1;33m         \u001b[0mnum\u001b[0m \u001b[1;33m=\u001b[0m \u001b[0moperator\u001b[0m\u001b[1;33m.\u001b[0m\u001b[0mindex\u001b[0m\u001b[1;33m(\u001b[0m\u001b[0mnum\u001b[0m\u001b[1;33m)\u001b[0m\u001b[1;33m\u001b[0m\u001b[1;33m\u001b[0m\u001b[0m\n\u001b[0m\u001b[0;32m    118\u001b[0m     \u001b[1;32mexcept\u001b[0m \u001b[0mTypeError\u001b[0m\u001b[1;33m:\u001b[0m\u001b[1;33m\u001b[0m\u001b[1;33m\u001b[0m\u001b[0m\n",
      "\u001b[1;31mTypeError\u001b[0m: 'float' object cannot be interpreted as an integer",
      "\nDuring handling of the above exception, another exception occurred:\n",
      "\u001b[1;31mTypeError\u001b[0m                                 Traceback (most recent call last)",
      "\u001b[1;32m<ipython-input-44-794b99f6c137>\u001b[0m in \u001b[0;36m<module>\u001b[1;34m\u001b[0m\n\u001b[0;32m      2\u001b[0m \u001b[0mplt\u001b[0m\u001b[1;33m.\u001b[0m\u001b[0mfigure\u001b[0m\u001b[1;33m(\u001b[0m\u001b[0mfigsize\u001b[0m\u001b[1;33m=\u001b[0m\u001b[1;33m(\u001b[0m\u001b[1;36m10\u001b[0m\u001b[1;33m,\u001b[0m\u001b[1;36m10\u001b[0m\u001b[1;33m)\u001b[0m\u001b[1;33m)\u001b[0m\u001b[1;33m\u001b[0m\u001b[1;33m\u001b[0m\u001b[0m\n\u001b[0;32m      3\u001b[0m sns.heatmap(beer.corr(),vmin=-1, vmax=1, center=0,\n\u001b[1;32m----> 4\u001b[1;33m             \u001b[0mcmap\u001b[0m\u001b[1;33m=\u001b[0m\u001b[0msns\u001b[0m\u001b[1;33m.\u001b[0m\u001b[0mdiverging_palette\u001b[0m\u001b[1;33m(\u001b[0m\u001b[1;36m145\u001b[0m\u001b[1;33m,\u001b[0m \u001b[1;36m280\u001b[0m\u001b[1;33m,\u001b[0m \u001b[0ms\u001b[0m\u001b[1;33m=\u001b[0m\u001b[1;36m85\u001b[0m\u001b[1;33m,\u001b[0m \u001b[0ml\u001b[0m\u001b[1;33m=\u001b[0m\u001b[1;36m25\u001b[0m\u001b[1;33m,\u001b[0m \u001b[0mn\u001b[0m\u001b[1;33m=\u001b[0m\u001b[1;36m7\u001b[0m\u001b[1;33m)\u001b[0m\u001b[1;33m,\u001b[0m\u001b[1;33m\u001b[0m\u001b[1;33m\u001b[0m\u001b[0m\n\u001b[0m\u001b[0;32m      5\u001b[0m             square=True, linewidths=.5)\n",
      "\u001b[1;32m~\\Anaconda3\\lib\\site-packages\\seaborn\\palettes.py\u001b[0m in \u001b[0;36mdiverging_palette\u001b[1;34m(h_neg, h_pos, s, l, sep, n, center, as_cmap)\u001b[0m\n\u001b[0;32m    742\u001b[0m     \"\"\"\n\u001b[0;32m    743\u001b[0m     \u001b[0mpalfunc\u001b[0m \u001b[1;33m=\u001b[0m \u001b[0mdark_palette\u001b[0m \u001b[1;32mif\u001b[0m \u001b[0mcenter\u001b[0m \u001b[1;33m==\u001b[0m \u001b[1;34m\"dark\"\u001b[0m \u001b[1;32melse\u001b[0m \u001b[0mlight_palette\u001b[0m\u001b[1;33m\u001b[0m\u001b[1;33m\u001b[0m\u001b[0m\n\u001b[1;32m--> 744\u001b[1;33m     \u001b[0mneg\u001b[0m \u001b[1;33m=\u001b[0m \u001b[0mpalfunc\u001b[0m\u001b[1;33m(\u001b[0m\u001b[1;33m(\u001b[0m\u001b[0mh_neg\u001b[0m\u001b[1;33m,\u001b[0m \u001b[0ms\u001b[0m\u001b[1;33m,\u001b[0m \u001b[0ml\u001b[0m\u001b[1;33m)\u001b[0m\u001b[1;33m,\u001b[0m \u001b[1;36m128\u001b[0m \u001b[1;33m-\u001b[0m \u001b[1;33m(\u001b[0m\u001b[0msep\u001b[0m \u001b[1;33m/\u001b[0m \u001b[1;36m2\u001b[0m\u001b[1;33m)\u001b[0m\u001b[1;33m,\u001b[0m \u001b[0mreverse\u001b[0m\u001b[1;33m=\u001b[0m\u001b[1;32mTrue\u001b[0m\u001b[1;33m,\u001b[0m \u001b[0minput\u001b[0m\u001b[1;33m=\u001b[0m\u001b[1;34m\"husl\"\u001b[0m\u001b[1;33m)\u001b[0m\u001b[1;33m\u001b[0m\u001b[1;33m\u001b[0m\u001b[0m\n\u001b[0m\u001b[0;32m    745\u001b[0m     \u001b[0mpos\u001b[0m \u001b[1;33m=\u001b[0m \u001b[0mpalfunc\u001b[0m\u001b[1;33m(\u001b[0m\u001b[1;33m(\u001b[0m\u001b[0mh_pos\u001b[0m\u001b[1;33m,\u001b[0m \u001b[0ms\u001b[0m\u001b[1;33m,\u001b[0m \u001b[0ml\u001b[0m\u001b[1;33m)\u001b[0m\u001b[1;33m,\u001b[0m \u001b[1;36m128\u001b[0m \u001b[1;33m-\u001b[0m \u001b[1;33m(\u001b[0m\u001b[0msep\u001b[0m \u001b[1;33m/\u001b[0m \u001b[1;36m2\u001b[0m\u001b[1;33m)\u001b[0m\u001b[1;33m,\u001b[0m \u001b[0minput\u001b[0m\u001b[1;33m=\u001b[0m\u001b[1;34m\"husl\"\u001b[0m\u001b[1;33m)\u001b[0m\u001b[1;33m\u001b[0m\u001b[1;33m\u001b[0m\u001b[0m\n\u001b[0;32m    746\u001b[0m     midpoint = dict(light=[(.95, .95, .95, 1.)],\n",
      "\u001b[1;32m~\\Anaconda3\\lib\\site-packages\\seaborn\\palettes.py\u001b[0m in \u001b[0;36mlight_palette\u001b[1;34m(color, n_colors, reverse, as_cmap, input)\u001b[0m\n\u001b[0;32m    639\u001b[0m     \u001b[0mlight\u001b[0m \u001b[1;33m=\u001b[0m \u001b[0mset_hls_values\u001b[0m\u001b[1;33m(\u001b[0m\u001b[0mcolor\u001b[0m\u001b[1;33m,\u001b[0m \u001b[0ml\u001b[0m\u001b[1;33m=\u001b[0m\u001b[1;36m.95\u001b[0m\u001b[1;33m)\u001b[0m  \u001b[1;31m# noqa\u001b[0m\u001b[1;33m\u001b[0m\u001b[1;33m\u001b[0m\u001b[0m\n\u001b[0;32m    640\u001b[0m     \u001b[0mcolors\u001b[0m \u001b[1;33m=\u001b[0m \u001b[1;33m[\u001b[0m\u001b[0mcolor\u001b[0m\u001b[1;33m,\u001b[0m \u001b[0mlight\u001b[0m\u001b[1;33m]\u001b[0m \u001b[1;32mif\u001b[0m \u001b[0mreverse\u001b[0m \u001b[1;32melse\u001b[0m \u001b[1;33m[\u001b[0m\u001b[0mlight\u001b[0m\u001b[1;33m,\u001b[0m \u001b[0mcolor\u001b[0m\u001b[1;33m]\u001b[0m\u001b[1;33m\u001b[0m\u001b[1;33m\u001b[0m\u001b[0m\n\u001b[1;32m--> 641\u001b[1;33m     \u001b[1;32mreturn\u001b[0m \u001b[0mblend_palette\u001b[0m\u001b[1;33m(\u001b[0m\u001b[0mcolors\u001b[0m\u001b[1;33m,\u001b[0m \u001b[0mn_colors\u001b[0m\u001b[1;33m,\u001b[0m \u001b[0mas_cmap\u001b[0m\u001b[1;33m)\u001b[0m\u001b[1;33m\u001b[0m\u001b[1;33m\u001b[0m\u001b[0m\n\u001b[0m\u001b[0;32m    642\u001b[0m \u001b[1;33m\u001b[0m\u001b[0m\n\u001b[0;32m    643\u001b[0m \u001b[1;33m\u001b[0m\u001b[0m\n",
      "\u001b[1;32m~\\Anaconda3\\lib\\site-packages\\seaborn\\palettes.py\u001b[0m in \u001b[0;36mblend_palette\u001b[1;34m(colors, n_colors, as_cmap, input)\u001b[0m\n\u001b[0;32m    775\u001b[0m     \u001b[0mpal\u001b[0m \u001b[1;33m=\u001b[0m \u001b[0mmpl\u001b[0m\u001b[1;33m.\u001b[0m\u001b[0mcolors\u001b[0m\u001b[1;33m.\u001b[0m\u001b[0mLinearSegmentedColormap\u001b[0m\u001b[1;33m.\u001b[0m\u001b[0mfrom_list\u001b[0m\u001b[1;33m(\u001b[0m\u001b[0mname\u001b[0m\u001b[1;33m,\u001b[0m \u001b[0mcolors\u001b[0m\u001b[1;33m)\u001b[0m\u001b[1;33m\u001b[0m\u001b[1;33m\u001b[0m\u001b[0m\n\u001b[0;32m    776\u001b[0m     \u001b[1;32mif\u001b[0m \u001b[1;32mnot\u001b[0m \u001b[0mas_cmap\u001b[0m\u001b[1;33m:\u001b[0m\u001b[1;33m\u001b[0m\u001b[1;33m\u001b[0m\u001b[0m\n\u001b[1;32m--> 777\u001b[1;33m         \u001b[0mpal\u001b[0m \u001b[1;33m=\u001b[0m \u001b[0m_ColorPalette\u001b[0m\u001b[1;33m(\u001b[0m\u001b[0mpal\u001b[0m\u001b[1;33m(\u001b[0m\u001b[0mnp\u001b[0m\u001b[1;33m.\u001b[0m\u001b[0mlinspace\u001b[0m\u001b[1;33m(\u001b[0m\u001b[1;36m0\u001b[0m\u001b[1;33m,\u001b[0m \u001b[1;36m1\u001b[0m\u001b[1;33m,\u001b[0m \u001b[0mn_colors\u001b[0m\u001b[1;33m)\u001b[0m\u001b[1;33m)\u001b[0m\u001b[1;33m)\u001b[0m\u001b[1;33m\u001b[0m\u001b[1;33m\u001b[0m\u001b[0m\n\u001b[0m\u001b[0;32m    778\u001b[0m     \u001b[1;32mreturn\u001b[0m \u001b[0mpal\u001b[0m\u001b[1;33m\u001b[0m\u001b[1;33m\u001b[0m\u001b[0m\n\u001b[0;32m    779\u001b[0m \u001b[1;33m\u001b[0m\u001b[0m\n",
      "\u001b[1;32m<__array_function__ internals>\u001b[0m in \u001b[0;36mlinspace\u001b[1;34m(*args, **kwargs)\u001b[0m\n",
      "\u001b[1;32m~\\Anaconda3\\lib\\site-packages\\numpy\\core\\function_base.py\u001b[0m in \u001b[0;36mlinspace\u001b[1;34m(start, stop, num, endpoint, retstep, dtype, axis)\u001b[0m\n\u001b[0;32m    119\u001b[0m         raise TypeError(\n\u001b[0;32m    120\u001b[0m             \u001b[1;34m\"object of type {} cannot be safely interpreted as an integer.\"\u001b[0m\u001b[1;33m\u001b[0m\u001b[1;33m\u001b[0m\u001b[0m\n\u001b[1;32m--> 121\u001b[1;33m                 .format(type(num)))\n\u001b[0m\u001b[0;32m    122\u001b[0m \u001b[1;33m\u001b[0m\u001b[0m\n\u001b[0;32m    123\u001b[0m     \u001b[1;32mif\u001b[0m \u001b[0mnum\u001b[0m \u001b[1;33m<\u001b[0m \u001b[1;36m0\u001b[0m\u001b[1;33m:\u001b[0m\u001b[1;33m\u001b[0m\u001b[1;33m\u001b[0m\u001b[0m\n",
      "\u001b[1;31mTypeError\u001b[0m: object of type <class 'float'> cannot be safely interpreted as an integer."
     ]
    }
   ],
   "source": [
    "import matplotlib.pyplot as plt\n",
    "plt.figure(figsize=(10,10))\n",
    "sns.heatmap(beer.corr(),vmin=-1, vmax=1, center=0,\n",
    "            cmap=sns.diverging_palette(145, 280, s=85, l=25, n=7),\n",
    "            square=True, linewidths=.5)"
   ]
  },
  {
   "cell_type": "markdown",
   "metadata": {},
   "source": [
    "## Ejercicio 13\n",
    "Representa el nivel de alcohol (columna `abv`) en un histograma. ¿Se trata de una distribución simétrica o asimétrica?"
   ]
  },
  {
   "cell_type": "code",
   "execution_count": 45,
   "metadata": {},
   "outputs": [
    {
     "output_type": "execute_result",
     "data": {
      "text/plain": "<matplotlib.axes._subplots.AxesSubplot at 0x1f43f29f0c8>"
     },
     "metadata": {},
     "execution_count": 45
    },
    {
     "output_type": "display_data",
     "data": {
      "text/plain": "<Figure size 432x288 with 1 Axes>",
      "image/svg+xml": "<?xml version=\"1.0\" encoding=\"utf-8\" standalone=\"no\"?>\r\n<!DOCTYPE svg PUBLIC \"-//W3C//DTD SVG 1.1//EN\"\r\n  \"http://www.w3.org/Graphics/SVG/1.1/DTD/svg11.dtd\">\r\n<!-- Created with matplotlib (https://matplotlib.org/) -->\r\n<svg height=\"248.518125pt\" version=\"1.1\" viewBox=\"0 0 375.2875 248.518125\" width=\"375.2875pt\" xmlns=\"http://www.w3.org/2000/svg\" xmlns:xlink=\"http://www.w3.org/1999/xlink\">\r\n <defs>\r\n  <style type=\"text/css\">\r\n*{stroke-linecap:butt;stroke-linejoin:round;}\r\n  </style>\r\n </defs>\r\n <g id=\"figure_1\">\r\n  <g id=\"patch_1\">\r\n   <path d=\"M 0 248.518125 \r\nL 375.2875 248.518125 \r\nL 375.2875 0 \r\nL 0 0 \r\nz\r\n\" style=\"fill:none;\"/>\r\n  </g>\r\n  <g id=\"axes_1\">\r\n   <g id=\"patch_2\">\r\n    <path d=\"M 33.2875 224.64 \r\nL 368.0875 224.64 \r\nL 368.0875 7.2 \r\nL 33.2875 7.2 \r\nz\r\n\" style=\"fill:#ffffff;\"/>\r\n   </g>\r\n   <g id=\"patch_3\">\r\n    <path clip-path=\"url(#p4c3e56c0dd)\" d=\"M 48.505682 224.64 \r\nL 78.942045 224.64 \r\nL 78.942045 224.39836 \r\nL 48.505682 224.39836 \r\nz\r\n\" style=\"fill:#1f77b4;\"/>\r\n   </g>\r\n   <g id=\"patch_4\">\r\n    <path clip-path=\"url(#p4c3e56c0dd)\" d=\"M 78.942045 224.64 \r\nL 109.378409 224.64 \r\nL 109.378409 224.64 \r\nL 78.942045 224.64 \r\nz\r\n\" style=\"fill:#1f77b4;\"/>\r\n   </g>\r\n   <g id=\"patch_5\">\r\n    <path clip-path=\"url(#p4c3e56c0dd)\" d=\"M 109.378409 224.64 \r\nL 139.814773 224.64 \r\nL 139.814773 215.45767 \r\nL 109.378409 215.45767 \r\nz\r\n\" style=\"fill:#1f77b4;\"/>\r\n   </g>\r\n   <g id=\"patch_6\">\r\n    <path clip-path=\"url(#p4c3e56c0dd)\" d=\"M 139.814773 224.64 \r\nL 170.251136 224.64 \r\nL 170.251136 55.733449 \r\nL 139.814773 55.733449 \r\nz\r\n\" style=\"fill:#1f77b4;\"/>\r\n   </g>\r\n   <g id=\"patch_7\">\r\n    <path clip-path=\"url(#p4c3e56c0dd)\" d=\"M 170.251136 224.64 \r\nL 200.6875 224.64 \r\nL 200.6875 17.554286 \r\nL 170.251136 17.554286 \r\nz\r\n\" style=\"fill:#1f77b4;\"/>\r\n   </g>\r\n   <g id=\"patch_8\">\r\n    <path clip-path=\"url(#p4c3e56c0dd)\" d=\"M 200.6875 224.64 \r\nL 231.123864 224.64 \r\nL 231.123864 107.202827 \r\nL 200.6875 107.202827 \r\nz\r\n\" style=\"fill:#1f77b4;\"/>\r\n   </g>\r\n   <g id=\"patch_9\">\r\n    <path clip-path=\"url(#p4c3e56c0dd)\" d=\"M 231.123864 224.64 \r\nL 261.560227 224.64 \r\nL 261.560227 186.219197 \r\nL 231.123864 186.219197 \r\nz\r\n\" style=\"fill:#1f77b4;\"/>\r\n   </g>\r\n   <g id=\"patch_10\">\r\n    <path clip-path=\"url(#p4c3e56c0dd)\" d=\"M 261.560227 224.64 \r\nL 291.996591 224.64 \r\nL 291.996591 199.509412 \r\nL 261.560227 199.509412 \r\nz\r\n\" style=\"fill:#1f77b4;\"/>\r\n   </g>\r\n   <g id=\"patch_11\">\r\n    <path clip-path=\"url(#p4c3e56c0dd)\" d=\"M 291.996591 224.64 \r\nL 322.432955 224.64 \r\nL 322.432955 224.39836 \r\nL 291.996591 224.39836 \r\nz\r\n\" style=\"fill:#1f77b4;\"/>\r\n   </g>\r\n   <g id=\"patch_12\">\r\n    <path clip-path=\"url(#p4c3e56c0dd)\" d=\"M 322.432955 224.64 \r\nL 352.869318 224.64 \r\nL 352.869318 223.915079 \r\nL 322.432955 223.915079 \r\nz\r\n\" style=\"fill:#1f77b4;\"/>\r\n   </g>\r\n   <g id=\"matplotlib.axis_1\">\r\n    <g id=\"xtick_1\">\r\n     <g id=\"line2d_1\">\r\n      <path clip-path=\"url(#p4c3e56c0dd)\" d=\"M 46.109118 224.64 \r\nL 46.109118 7.2 \r\n\" style=\"fill:none;stroke:#b0b0b0;stroke-linecap:square;stroke-width:0.8;\"/>\r\n     </g>\r\n     <g id=\"line2d_2\">\r\n      <defs>\r\n       <path d=\"M 0 0 \r\nL 0 3.5 \r\n\" id=\"m2daf6ea2ea\" style=\"stroke:#000000;stroke-width:0.8;\"/>\r\n      </defs>\r\n      <g>\r\n       <use style=\"stroke:#000000;stroke-width:0.8;\" x=\"46.109118\" xlink:href=\"#m2daf6ea2ea\" y=\"224.64\"/>\r\n      </g>\r\n     </g>\r\n     <g id=\"text_1\">\r\n      <!-- 0.00 -->\r\n      <defs>\r\n       <path d=\"M 31.78125 66.40625 \r\nQ 24.171875 66.40625 20.328125 58.90625 \r\nQ 16.5 51.421875 16.5 36.375 \r\nQ 16.5 21.390625 20.328125 13.890625 \r\nQ 24.171875 6.390625 31.78125 6.390625 \r\nQ 39.453125 6.390625 43.28125 13.890625 \r\nQ 47.125 21.390625 47.125 36.375 \r\nQ 47.125 51.421875 43.28125 58.90625 \r\nQ 39.453125 66.40625 31.78125 66.40625 \r\nz\r\nM 31.78125 74.21875 \r\nQ 44.046875 74.21875 50.515625 64.515625 \r\nQ 56.984375 54.828125 56.984375 36.375 \r\nQ 56.984375 17.96875 50.515625 8.265625 \r\nQ 44.046875 -1.421875 31.78125 -1.421875 \r\nQ 19.53125 -1.421875 13.0625 8.265625 \r\nQ 6.59375 17.96875 6.59375 36.375 \r\nQ 6.59375 54.828125 13.0625 64.515625 \r\nQ 19.53125 74.21875 31.78125 74.21875 \r\nz\r\n\" id=\"DejaVuSans-48\"/>\r\n       <path d=\"M 10.6875 12.40625 \r\nL 21 12.40625 \r\nL 21 0 \r\nL 10.6875 0 \r\nz\r\n\" id=\"DejaVuSans-46\"/>\r\n      </defs>\r\n      <g transform=\"translate(34.976305 239.238437)scale(0.1 -0.1)\">\r\n       <use xlink:href=\"#DejaVuSans-48\"/>\r\n       <use x=\"63.623047\" xlink:href=\"#DejaVuSans-46\"/>\r\n       <use x=\"95.410156\" xlink:href=\"#DejaVuSans-48\"/>\r\n       <use x=\"159.033203\" xlink:href=\"#DejaVuSans-48\"/>\r\n      </g>\r\n     </g>\r\n    </g>\r\n    <g id=\"xtick_2\">\r\n     <g id=\"line2d_3\">\r\n      <path clip-path=\"url(#p4c3e56c0dd)\" d=\"M 94.040399 224.64 \r\nL 94.040399 7.2 \r\n\" style=\"fill:none;stroke:#b0b0b0;stroke-linecap:square;stroke-width:0.8;\"/>\r\n     </g>\r\n     <g id=\"line2d_4\">\r\n      <g>\r\n       <use style=\"stroke:#000000;stroke-width:0.8;\" x=\"94.040399\" xlink:href=\"#m2daf6ea2ea\" y=\"224.64\"/>\r\n      </g>\r\n     </g>\r\n     <g id=\"text_2\">\r\n      <!-- 0.02 -->\r\n      <defs>\r\n       <path d=\"M 19.1875 8.296875 \r\nL 53.609375 8.296875 \r\nL 53.609375 0 \r\nL 7.328125 0 \r\nL 7.328125 8.296875 \r\nQ 12.9375 14.109375 22.625 23.890625 \r\nQ 32.328125 33.6875 34.8125 36.53125 \r\nQ 39.546875 41.84375 41.421875 45.53125 \r\nQ 43.3125 49.21875 43.3125 52.78125 \r\nQ 43.3125 58.59375 39.234375 62.25 \r\nQ 35.15625 65.921875 28.609375 65.921875 \r\nQ 23.96875 65.921875 18.8125 64.3125 \r\nQ 13.671875 62.703125 7.8125 59.421875 \r\nL 7.8125 69.390625 \r\nQ 13.765625 71.78125 18.9375 73 \r\nQ 24.125 74.21875 28.421875 74.21875 \r\nQ 39.75 74.21875 46.484375 68.546875 \r\nQ 53.21875 62.890625 53.21875 53.421875 \r\nQ 53.21875 48.921875 51.53125 44.890625 \r\nQ 49.859375 40.875 45.40625 35.40625 \r\nQ 44.1875 33.984375 37.640625 27.21875 \r\nQ 31.109375 20.453125 19.1875 8.296875 \r\nz\r\n\" id=\"DejaVuSans-50\"/>\r\n      </defs>\r\n      <g transform=\"translate(82.907587 239.238437)scale(0.1 -0.1)\">\r\n       <use xlink:href=\"#DejaVuSans-48\"/>\r\n       <use x=\"63.623047\" xlink:href=\"#DejaVuSans-46\"/>\r\n       <use x=\"95.410156\" xlink:href=\"#DejaVuSans-48\"/>\r\n       <use x=\"159.033203\" xlink:href=\"#DejaVuSans-50\"/>\r\n      </g>\r\n     </g>\r\n    </g>\r\n    <g id=\"xtick_3\">\r\n     <g id=\"line2d_5\">\r\n      <path clip-path=\"url(#p4c3e56c0dd)\" d=\"M 141.97168 224.64 \r\nL 141.97168 7.2 \r\n\" style=\"fill:none;stroke:#b0b0b0;stroke-linecap:square;stroke-width:0.8;\"/>\r\n     </g>\r\n     <g id=\"line2d_6\">\r\n      <g>\r\n       <use style=\"stroke:#000000;stroke-width:0.8;\" x=\"141.97168\" xlink:href=\"#m2daf6ea2ea\" y=\"224.64\"/>\r\n      </g>\r\n     </g>\r\n     <g id=\"text_3\">\r\n      <!-- 0.04 -->\r\n      <defs>\r\n       <path d=\"M 37.796875 64.3125 \r\nL 12.890625 25.390625 \r\nL 37.796875 25.390625 \r\nz\r\nM 35.203125 72.90625 \r\nL 47.609375 72.90625 \r\nL 47.609375 25.390625 \r\nL 58.015625 25.390625 \r\nL 58.015625 17.1875 \r\nL 47.609375 17.1875 \r\nL 47.609375 0 \r\nL 37.796875 0 \r\nL 37.796875 17.1875 \r\nL 4.890625 17.1875 \r\nL 4.890625 26.703125 \r\nz\r\n\" id=\"DejaVuSans-52\"/>\r\n      </defs>\r\n      <g transform=\"translate(130.838868 239.238437)scale(0.1 -0.1)\">\r\n       <use xlink:href=\"#DejaVuSans-48\"/>\r\n       <use x=\"63.623047\" xlink:href=\"#DejaVuSans-46\"/>\r\n       <use x=\"95.410156\" xlink:href=\"#DejaVuSans-48\"/>\r\n       <use x=\"159.033203\" xlink:href=\"#DejaVuSans-52\"/>\r\n      </g>\r\n     </g>\r\n    </g>\r\n    <g id=\"xtick_4\">\r\n     <g id=\"line2d_7\">\r\n      <path clip-path=\"url(#p4c3e56c0dd)\" d=\"M 189.902962 224.64 \r\nL 189.902962 7.2 \r\n\" style=\"fill:none;stroke:#b0b0b0;stroke-linecap:square;stroke-width:0.8;\"/>\r\n     </g>\r\n     <g id=\"line2d_8\">\r\n      <g>\r\n       <use style=\"stroke:#000000;stroke-width:0.8;\" x=\"189.902962\" xlink:href=\"#m2daf6ea2ea\" y=\"224.64\"/>\r\n      </g>\r\n     </g>\r\n     <g id=\"text_4\">\r\n      <!-- 0.06 -->\r\n      <defs>\r\n       <path d=\"M 33.015625 40.375 \r\nQ 26.375 40.375 22.484375 35.828125 \r\nQ 18.609375 31.296875 18.609375 23.390625 \r\nQ 18.609375 15.53125 22.484375 10.953125 \r\nQ 26.375 6.390625 33.015625 6.390625 \r\nQ 39.65625 6.390625 43.53125 10.953125 \r\nQ 47.40625 15.53125 47.40625 23.390625 \r\nQ 47.40625 31.296875 43.53125 35.828125 \r\nQ 39.65625 40.375 33.015625 40.375 \r\nz\r\nM 52.59375 71.296875 \r\nL 52.59375 62.3125 \r\nQ 48.875 64.0625 45.09375 64.984375 \r\nQ 41.3125 65.921875 37.59375 65.921875 \r\nQ 27.828125 65.921875 22.671875 59.328125 \r\nQ 17.53125 52.734375 16.796875 39.40625 \r\nQ 19.671875 43.65625 24.015625 45.921875 \r\nQ 28.375 48.1875 33.59375 48.1875 \r\nQ 44.578125 48.1875 50.953125 41.515625 \r\nQ 57.328125 34.859375 57.328125 23.390625 \r\nQ 57.328125 12.15625 50.6875 5.359375 \r\nQ 44.046875 -1.421875 33.015625 -1.421875 \r\nQ 20.359375 -1.421875 13.671875 8.265625 \r\nQ 6.984375 17.96875 6.984375 36.375 \r\nQ 6.984375 53.65625 15.1875 63.9375 \r\nQ 23.390625 74.21875 37.203125 74.21875 \r\nQ 40.921875 74.21875 44.703125 73.484375 \r\nQ 48.484375 72.75 52.59375 71.296875 \r\nz\r\n\" id=\"DejaVuSans-54\"/>\r\n      </defs>\r\n      <g transform=\"translate(178.770149 239.238437)scale(0.1 -0.1)\">\r\n       <use xlink:href=\"#DejaVuSans-48\"/>\r\n       <use x=\"63.623047\" xlink:href=\"#DejaVuSans-46\"/>\r\n       <use x=\"95.410156\" xlink:href=\"#DejaVuSans-48\"/>\r\n       <use x=\"159.033203\" xlink:href=\"#DejaVuSans-54\"/>\r\n      </g>\r\n     </g>\r\n    </g>\r\n    <g id=\"xtick_5\">\r\n     <g id=\"line2d_9\">\r\n      <path clip-path=\"url(#p4c3e56c0dd)\" d=\"M 237.834243 224.64 \r\nL 237.834243 7.2 \r\n\" style=\"fill:none;stroke:#b0b0b0;stroke-linecap:square;stroke-width:0.8;\"/>\r\n     </g>\r\n     <g id=\"line2d_10\">\r\n      <g>\r\n       <use style=\"stroke:#000000;stroke-width:0.8;\" x=\"237.834243\" xlink:href=\"#m2daf6ea2ea\" y=\"224.64\"/>\r\n      </g>\r\n     </g>\r\n     <g id=\"text_5\">\r\n      <!-- 0.08 -->\r\n      <defs>\r\n       <path d=\"M 31.78125 34.625 \r\nQ 24.75 34.625 20.71875 30.859375 \r\nQ 16.703125 27.09375 16.703125 20.515625 \r\nQ 16.703125 13.921875 20.71875 10.15625 \r\nQ 24.75 6.390625 31.78125 6.390625 \r\nQ 38.8125 6.390625 42.859375 10.171875 \r\nQ 46.921875 13.96875 46.921875 20.515625 \r\nQ 46.921875 27.09375 42.890625 30.859375 \r\nQ 38.875 34.625 31.78125 34.625 \r\nz\r\nM 21.921875 38.8125 \r\nQ 15.578125 40.375 12.03125 44.71875 \r\nQ 8.5 49.078125 8.5 55.328125 \r\nQ 8.5 64.0625 14.71875 69.140625 \r\nQ 20.953125 74.21875 31.78125 74.21875 \r\nQ 42.671875 74.21875 48.875 69.140625 \r\nQ 55.078125 64.0625 55.078125 55.328125 \r\nQ 55.078125 49.078125 51.53125 44.71875 \r\nQ 48 40.375 41.703125 38.8125 \r\nQ 48.828125 37.15625 52.796875 32.3125 \r\nQ 56.78125 27.484375 56.78125 20.515625 \r\nQ 56.78125 9.90625 50.3125 4.234375 \r\nQ 43.84375 -1.421875 31.78125 -1.421875 \r\nQ 19.734375 -1.421875 13.25 4.234375 \r\nQ 6.78125 9.90625 6.78125 20.515625 \r\nQ 6.78125 27.484375 10.78125 32.3125 \r\nQ 14.796875 37.15625 21.921875 38.8125 \r\nz\r\nM 18.3125 54.390625 \r\nQ 18.3125 48.734375 21.84375 45.5625 \r\nQ 25.390625 42.390625 31.78125 42.390625 \r\nQ 38.140625 42.390625 41.71875 45.5625 \r\nQ 45.3125 48.734375 45.3125 54.390625 \r\nQ 45.3125 60.0625 41.71875 63.234375 \r\nQ 38.140625 66.40625 31.78125 66.40625 \r\nQ 25.390625 66.40625 21.84375 63.234375 \r\nQ 18.3125 60.0625 18.3125 54.390625 \r\nz\r\n\" id=\"DejaVuSans-56\"/>\r\n      </defs>\r\n      <g transform=\"translate(226.701431 239.238437)scale(0.1 -0.1)\">\r\n       <use xlink:href=\"#DejaVuSans-48\"/>\r\n       <use x=\"63.623047\" xlink:href=\"#DejaVuSans-46\"/>\r\n       <use x=\"95.410156\" xlink:href=\"#DejaVuSans-48\"/>\r\n       <use x=\"159.033203\" xlink:href=\"#DejaVuSans-56\"/>\r\n      </g>\r\n     </g>\r\n    </g>\r\n    <g id=\"xtick_6\">\r\n     <g id=\"line2d_11\">\r\n      <path clip-path=\"url(#p4c3e56c0dd)\" d=\"M 285.765524 224.64 \r\nL 285.765524 7.2 \r\n\" style=\"fill:none;stroke:#b0b0b0;stroke-linecap:square;stroke-width:0.8;\"/>\r\n     </g>\r\n     <g id=\"line2d_12\">\r\n      <g>\r\n       <use style=\"stroke:#000000;stroke-width:0.8;\" x=\"285.765524\" xlink:href=\"#m2daf6ea2ea\" y=\"224.64\"/>\r\n      </g>\r\n     </g>\r\n     <g id=\"text_6\">\r\n      <!-- 0.10 -->\r\n      <defs>\r\n       <path d=\"M 12.40625 8.296875 \r\nL 28.515625 8.296875 \r\nL 28.515625 63.921875 \r\nL 10.984375 60.40625 \r\nL 10.984375 69.390625 \r\nL 28.421875 72.90625 \r\nL 38.28125 72.90625 \r\nL 38.28125 8.296875 \r\nL 54.390625 8.296875 \r\nL 54.390625 0 \r\nL 12.40625 0 \r\nz\r\n\" id=\"DejaVuSans-49\"/>\r\n      </defs>\r\n      <g transform=\"translate(274.632712 239.238437)scale(0.1 -0.1)\">\r\n       <use xlink:href=\"#DejaVuSans-48\"/>\r\n       <use x=\"63.623047\" xlink:href=\"#DejaVuSans-46\"/>\r\n       <use x=\"95.410156\" xlink:href=\"#DejaVuSans-49\"/>\r\n       <use x=\"159.033203\" xlink:href=\"#DejaVuSans-48\"/>\r\n      </g>\r\n     </g>\r\n    </g>\r\n    <g id=\"xtick_7\">\r\n     <g id=\"line2d_13\">\r\n      <path clip-path=\"url(#p4c3e56c0dd)\" d=\"M 333.696806 224.64 \r\nL 333.696806 7.2 \r\n\" style=\"fill:none;stroke:#b0b0b0;stroke-linecap:square;stroke-width:0.8;\"/>\r\n     </g>\r\n     <g id=\"line2d_14\">\r\n      <g>\r\n       <use style=\"stroke:#000000;stroke-width:0.8;\" x=\"333.696806\" xlink:href=\"#m2daf6ea2ea\" y=\"224.64\"/>\r\n      </g>\r\n     </g>\r\n     <g id=\"text_7\">\r\n      <!-- 0.12 -->\r\n      <g transform=\"translate(322.563993 239.238437)scale(0.1 -0.1)\">\r\n       <use xlink:href=\"#DejaVuSans-48\"/>\r\n       <use x=\"63.623047\" xlink:href=\"#DejaVuSans-46\"/>\r\n       <use x=\"95.410156\" xlink:href=\"#DejaVuSans-49\"/>\r\n       <use x=\"159.033203\" xlink:href=\"#DejaVuSans-50\"/>\r\n      </g>\r\n     </g>\r\n    </g>\r\n   </g>\r\n   <g id=\"matplotlib.axis_2\">\r\n    <g id=\"ytick_1\">\r\n     <g id=\"line2d_15\">\r\n      <path clip-path=\"url(#p4c3e56c0dd)\" d=\"M 33.2875 224.64 \r\nL 368.0875 224.64 \r\n\" style=\"fill:none;stroke:#b0b0b0;stroke-linecap:square;stroke-width:0.8;\"/>\r\n     </g>\r\n     <g id=\"line2d_16\">\r\n      <defs>\r\n       <path d=\"M 0 0 \r\nL -3.5 0 \r\n\" id=\"m0c2e8533e3\" style=\"stroke:#000000;stroke-width:0.8;\"/>\r\n      </defs>\r\n      <g>\r\n       <use style=\"stroke:#000000;stroke-width:0.8;\" x=\"33.2875\" xlink:href=\"#m0c2e8533e3\" y=\"224.64\"/>\r\n      </g>\r\n     </g>\r\n     <g id=\"text_8\">\r\n      <!-- 0 -->\r\n      <g transform=\"translate(19.925 228.439219)scale(0.1 -0.1)\">\r\n       <use xlink:href=\"#DejaVuSans-48\"/>\r\n      </g>\r\n     </g>\r\n    </g>\r\n    <g id=\"ytick_2\">\r\n     <g id=\"line2d_17\">\r\n      <path clip-path=\"url(#p4c3e56c0dd)\" d=\"M 33.2875 200.475973 \r\nL 368.0875 200.475973 \r\n\" style=\"fill:none;stroke:#b0b0b0;stroke-linecap:square;stroke-width:0.8;\"/>\r\n     </g>\r\n     <g id=\"line2d_18\">\r\n      <g>\r\n       <use style=\"stroke:#000000;stroke-width:0.8;\" x=\"33.2875\" xlink:href=\"#m0c2e8533e3\" y=\"200.475973\"/>\r\n      </g>\r\n     </g>\r\n     <g id=\"text_9\">\r\n      <!-- 100 -->\r\n      <g transform=\"translate(7.2 204.275191)scale(0.1 -0.1)\">\r\n       <use xlink:href=\"#DejaVuSans-49\"/>\r\n       <use x=\"63.623047\" xlink:href=\"#DejaVuSans-48\"/>\r\n       <use x=\"127.246094\" xlink:href=\"#DejaVuSans-48\"/>\r\n      </g>\r\n     </g>\r\n    </g>\r\n    <g id=\"ytick_3\">\r\n     <g id=\"line2d_19\">\r\n      <path clip-path=\"url(#p4c3e56c0dd)\" d=\"M 33.2875 176.311945 \r\nL 368.0875 176.311945 \r\n\" style=\"fill:none;stroke:#b0b0b0;stroke-linecap:square;stroke-width:0.8;\"/>\r\n     </g>\r\n     <g id=\"line2d_20\">\r\n      <g>\r\n       <use style=\"stroke:#000000;stroke-width:0.8;\" x=\"33.2875\" xlink:href=\"#m0c2e8533e3\" y=\"176.311945\"/>\r\n      </g>\r\n     </g>\r\n     <g id=\"text_10\">\r\n      <!-- 200 -->\r\n      <g transform=\"translate(7.2 180.111164)scale(0.1 -0.1)\">\r\n       <use xlink:href=\"#DejaVuSans-50\"/>\r\n       <use x=\"63.623047\" xlink:href=\"#DejaVuSans-48\"/>\r\n       <use x=\"127.246094\" xlink:href=\"#DejaVuSans-48\"/>\r\n      </g>\r\n     </g>\r\n    </g>\r\n    <g id=\"ytick_4\">\r\n     <g id=\"line2d_21\">\r\n      <path clip-path=\"url(#p4c3e56c0dd)\" d=\"M 33.2875 152.147918 \r\nL 368.0875 152.147918 \r\n\" style=\"fill:none;stroke:#b0b0b0;stroke-linecap:square;stroke-width:0.8;\"/>\r\n     </g>\r\n     <g id=\"line2d_22\">\r\n      <g>\r\n       <use style=\"stroke:#000000;stroke-width:0.8;\" x=\"33.2875\" xlink:href=\"#m0c2e8533e3\" y=\"152.147918\"/>\r\n      </g>\r\n     </g>\r\n     <g id=\"text_11\">\r\n      <!-- 300 -->\r\n      <defs>\r\n       <path d=\"M 40.578125 39.3125 \r\nQ 47.65625 37.796875 51.625 33 \r\nQ 55.609375 28.21875 55.609375 21.1875 \r\nQ 55.609375 10.40625 48.1875 4.484375 \r\nQ 40.765625 -1.421875 27.09375 -1.421875 \r\nQ 22.515625 -1.421875 17.65625 -0.515625 \r\nQ 12.796875 0.390625 7.625 2.203125 \r\nL 7.625 11.71875 \r\nQ 11.71875 9.328125 16.59375 8.109375 \r\nQ 21.484375 6.890625 26.8125 6.890625 \r\nQ 36.078125 6.890625 40.9375 10.546875 \r\nQ 45.796875 14.203125 45.796875 21.1875 \r\nQ 45.796875 27.640625 41.28125 31.265625 \r\nQ 36.765625 34.90625 28.71875 34.90625 \r\nL 20.21875 34.90625 \r\nL 20.21875 43.015625 \r\nL 29.109375 43.015625 \r\nQ 36.375 43.015625 40.234375 45.921875 \r\nQ 44.09375 48.828125 44.09375 54.296875 \r\nQ 44.09375 59.90625 40.109375 62.90625 \r\nQ 36.140625 65.921875 28.71875 65.921875 \r\nQ 24.65625 65.921875 20.015625 65.03125 \r\nQ 15.375 64.15625 9.8125 62.3125 \r\nL 9.8125 71.09375 \r\nQ 15.4375 72.65625 20.34375 73.4375 \r\nQ 25.25 74.21875 29.59375 74.21875 \r\nQ 40.828125 74.21875 47.359375 69.109375 \r\nQ 53.90625 64.015625 53.90625 55.328125 \r\nQ 53.90625 49.265625 50.4375 45.09375 \r\nQ 46.96875 40.921875 40.578125 39.3125 \r\nz\r\n\" id=\"DejaVuSans-51\"/>\r\n      </defs>\r\n      <g transform=\"translate(7.2 155.947137)scale(0.1 -0.1)\">\r\n       <use xlink:href=\"#DejaVuSans-51\"/>\r\n       <use x=\"63.623047\" xlink:href=\"#DejaVuSans-48\"/>\r\n       <use x=\"127.246094\" xlink:href=\"#DejaVuSans-48\"/>\r\n      </g>\r\n     </g>\r\n    </g>\r\n    <g id=\"ytick_5\">\r\n     <g id=\"line2d_23\">\r\n      <path clip-path=\"url(#p4c3e56c0dd)\" d=\"M 33.2875 127.983891 \r\nL 368.0875 127.983891 \r\n\" style=\"fill:none;stroke:#b0b0b0;stroke-linecap:square;stroke-width:0.8;\"/>\r\n     </g>\r\n     <g id=\"line2d_24\">\r\n      <g>\r\n       <use style=\"stroke:#000000;stroke-width:0.8;\" x=\"33.2875\" xlink:href=\"#m0c2e8533e3\" y=\"127.983891\"/>\r\n      </g>\r\n     </g>\r\n     <g id=\"text_12\">\r\n      <!-- 400 -->\r\n      <g transform=\"translate(7.2 131.783109)scale(0.1 -0.1)\">\r\n       <use xlink:href=\"#DejaVuSans-52\"/>\r\n       <use x=\"63.623047\" xlink:href=\"#DejaVuSans-48\"/>\r\n       <use x=\"127.246094\" xlink:href=\"#DejaVuSans-48\"/>\r\n      </g>\r\n     </g>\r\n    </g>\r\n    <g id=\"ytick_6\">\r\n     <g id=\"line2d_25\">\r\n      <path clip-path=\"url(#p4c3e56c0dd)\" d=\"M 33.2875 103.819863 \r\nL 368.0875 103.819863 \r\n\" style=\"fill:none;stroke:#b0b0b0;stroke-linecap:square;stroke-width:0.8;\"/>\r\n     </g>\r\n     <g id=\"line2d_26\">\r\n      <g>\r\n       <use style=\"stroke:#000000;stroke-width:0.8;\" x=\"33.2875\" xlink:href=\"#m0c2e8533e3\" y=\"103.819863\"/>\r\n      </g>\r\n     </g>\r\n     <g id=\"text_13\">\r\n      <!-- 500 -->\r\n      <defs>\r\n       <path d=\"M 10.796875 72.90625 \r\nL 49.515625 72.90625 \r\nL 49.515625 64.59375 \r\nL 19.828125 64.59375 \r\nL 19.828125 46.734375 \r\nQ 21.96875 47.46875 24.109375 47.828125 \r\nQ 26.265625 48.1875 28.421875 48.1875 \r\nQ 40.625 48.1875 47.75 41.5 \r\nQ 54.890625 34.8125 54.890625 23.390625 \r\nQ 54.890625 11.625 47.5625 5.09375 \r\nQ 40.234375 -1.421875 26.90625 -1.421875 \r\nQ 22.3125 -1.421875 17.546875 -0.640625 \r\nQ 12.796875 0.140625 7.71875 1.703125 \r\nL 7.71875 11.625 \r\nQ 12.109375 9.234375 16.796875 8.0625 \r\nQ 21.484375 6.890625 26.703125 6.890625 \r\nQ 35.15625 6.890625 40.078125 11.328125 \r\nQ 45.015625 15.765625 45.015625 23.390625 \r\nQ 45.015625 31 40.078125 35.4375 \r\nQ 35.15625 39.890625 26.703125 39.890625 \r\nQ 22.75 39.890625 18.8125 39.015625 \r\nQ 14.890625 38.140625 10.796875 36.28125 \r\nz\r\n\" id=\"DejaVuSans-53\"/>\r\n      </defs>\r\n      <g transform=\"translate(7.2 107.619082)scale(0.1 -0.1)\">\r\n       <use xlink:href=\"#DejaVuSans-53\"/>\r\n       <use x=\"63.623047\" xlink:href=\"#DejaVuSans-48\"/>\r\n       <use x=\"127.246094\" xlink:href=\"#DejaVuSans-48\"/>\r\n      </g>\r\n     </g>\r\n    </g>\r\n    <g id=\"ytick_7\">\r\n     <g id=\"line2d_27\">\r\n      <path clip-path=\"url(#p4c3e56c0dd)\" d=\"M 33.2875 79.655836 \r\nL 368.0875 79.655836 \r\n\" style=\"fill:none;stroke:#b0b0b0;stroke-linecap:square;stroke-width:0.8;\"/>\r\n     </g>\r\n     <g id=\"line2d_28\">\r\n      <g>\r\n       <use style=\"stroke:#000000;stroke-width:0.8;\" x=\"33.2875\" xlink:href=\"#m0c2e8533e3\" y=\"79.655836\"/>\r\n      </g>\r\n     </g>\r\n     <g id=\"text_14\">\r\n      <!-- 600 -->\r\n      <g transform=\"translate(7.2 83.455055)scale(0.1 -0.1)\">\r\n       <use xlink:href=\"#DejaVuSans-54\"/>\r\n       <use x=\"63.623047\" xlink:href=\"#DejaVuSans-48\"/>\r\n       <use x=\"127.246094\" xlink:href=\"#DejaVuSans-48\"/>\r\n      </g>\r\n     </g>\r\n    </g>\r\n    <g id=\"ytick_8\">\r\n     <g id=\"line2d_29\">\r\n      <path clip-path=\"url(#p4c3e56c0dd)\" d=\"M 33.2875 55.491809 \r\nL 368.0875 55.491809 \r\n\" style=\"fill:none;stroke:#b0b0b0;stroke-linecap:square;stroke-width:0.8;\"/>\r\n     </g>\r\n     <g id=\"line2d_30\">\r\n      <g>\r\n       <use style=\"stroke:#000000;stroke-width:0.8;\" x=\"33.2875\" xlink:href=\"#m0c2e8533e3\" y=\"55.491809\"/>\r\n      </g>\r\n     </g>\r\n     <g id=\"text_15\">\r\n      <!-- 700 -->\r\n      <defs>\r\n       <path d=\"M 8.203125 72.90625 \r\nL 55.078125 72.90625 \r\nL 55.078125 68.703125 \r\nL 28.609375 0 \r\nL 18.3125 0 \r\nL 43.21875 64.59375 \r\nL 8.203125 64.59375 \r\nz\r\n\" id=\"DejaVuSans-55\"/>\r\n      </defs>\r\n      <g transform=\"translate(7.2 59.291027)scale(0.1 -0.1)\">\r\n       <use xlink:href=\"#DejaVuSans-55\"/>\r\n       <use x=\"63.623047\" xlink:href=\"#DejaVuSans-48\"/>\r\n       <use x=\"127.246094\" xlink:href=\"#DejaVuSans-48\"/>\r\n      </g>\r\n     </g>\r\n    </g>\r\n    <g id=\"ytick_9\">\r\n     <g id=\"line2d_31\">\r\n      <path clip-path=\"url(#p4c3e56c0dd)\" d=\"M 33.2875 31.327781 \r\nL 368.0875 31.327781 \r\n\" style=\"fill:none;stroke:#b0b0b0;stroke-linecap:square;stroke-width:0.8;\"/>\r\n     </g>\r\n     <g id=\"line2d_32\">\r\n      <g>\r\n       <use style=\"stroke:#000000;stroke-width:0.8;\" x=\"33.2875\" xlink:href=\"#m0c2e8533e3\" y=\"31.327781\"/>\r\n      </g>\r\n     </g>\r\n     <g id=\"text_16\">\r\n      <!-- 800 -->\r\n      <g transform=\"translate(7.2 35.127)scale(0.1 -0.1)\">\r\n       <use xlink:href=\"#DejaVuSans-56\"/>\r\n       <use x=\"63.623047\" xlink:href=\"#DejaVuSans-48\"/>\r\n       <use x=\"127.246094\" xlink:href=\"#DejaVuSans-48\"/>\r\n      </g>\r\n     </g>\r\n    </g>\r\n   </g>\r\n   <g id=\"patch_13\">\r\n    <path d=\"M 33.2875 224.64 \r\nL 33.2875 7.2 \r\n\" style=\"fill:none;stroke:#000000;stroke-linecap:square;stroke-linejoin:miter;stroke-width:0.8;\"/>\r\n   </g>\r\n   <g id=\"patch_14\">\r\n    <path d=\"M 368.0875 224.64 \r\nL 368.0875 7.2 \r\n\" style=\"fill:none;stroke:#000000;stroke-linecap:square;stroke-linejoin:miter;stroke-width:0.8;\"/>\r\n   </g>\r\n   <g id=\"patch_15\">\r\n    <path d=\"M 33.2875 224.64 \r\nL 368.0875 224.64 \r\n\" style=\"fill:none;stroke:#000000;stroke-linecap:square;stroke-linejoin:miter;stroke-width:0.8;\"/>\r\n   </g>\r\n   <g id=\"patch_16\">\r\n    <path d=\"M 33.2875 7.2 \r\nL 368.0875 7.2 \r\n\" style=\"fill:none;stroke:#000000;stroke-linecap:square;stroke-linejoin:miter;stroke-width:0.8;\"/>\r\n   </g>\r\n  </g>\r\n </g>\r\n <defs>\r\n  <clipPath id=\"p4c3e56c0dd\">\r\n   <rect height=\"217.44\" width=\"334.8\" x=\"33.2875\" y=\"7.2\"/>\r\n  </clipPath>\r\n </defs>\r\n</svg>\r\n",
      "image/png": "[encoded data removed]"
     },
     "metadata": {
      "needs_background": "light"
     }
    }
   ],
   "source": [
    "beer['abv'].hist()"
   ]
  },
  {
   "cell_type": "code",
   "execution_count": 46,
   "metadata": {},
   "outputs": [
    {
     "output_type": "execute_result",
     "data": {
      "text/plain": "0.9584771340361395"
     },
     "metadata": {},
     "execution_count": 46
    }
   ],
   "source": [
    "beer['abv'].skew() #Valor 0 = Simetrica / positiva = Asimetrica a la derecha / negativa = Asimetrica a la izquierda"
   ]
  },
  {
   "cell_type": "markdown",
   "metadata": {},
   "source": [
    "## Ejercicio 14\n",
    "Representa mediante un *boxplot* de `seaborn` la variable `abv`"
   ]
  },
  {
   "cell_type": "code",
   "execution_count": 47,
   "metadata": {},
   "outputs": [
    {
     "output_type": "execute_result",
     "data": {
      "text/plain": "<matplotlib.axes._subplots.AxesSubplot at 0x1f43efa3288>"
     },
     "metadata": {},
     "execution_count": 47
    },
    {
     "output_type": "display_data",
     "data": {
      "text/plain": "<Figure size 432x288 with 1 Axes>",
      "image/svg+xml": "<?xml version=\"1.0\" encoding=\"utf-8\" standalone=\"no\"?>\r\n<!DOCTYPE svg PUBLIC \"-//W3C//DTD SVG 1.1//EN\"\r\n  \"http://www.w3.org/Graphics/SVG/1.1/DTD/svg11.dtd\">\r\n<!-- Created with matplotlib (https://matplotlib.org/) -->\r\n<svg height=\"262.19625pt\" version=\"1.1\" viewBox=\"0 0 352.7 262.19625\" width=\"352.7pt\" xmlns=\"http://www.w3.org/2000/svg\" xmlns:xlink=\"http://www.w3.org/1999/xlink\">\r\n <defs>\r\n  <style type=\"text/css\">\r\n*{stroke-linecap:butt;stroke-linejoin:round;}\r\n  </style>\r\n </defs>\r\n <g id=\"figure_1\">\r\n  <g id=\"patch_1\">\r\n   <path d=\"M 0 262.19625 \r\nL 352.7 262.19625 \r\nL 352.7 0 \r\nL 0 0 \r\nz\r\n\" style=\"fill:none;\"/>\r\n  </g>\r\n  <g id=\"axes_1\">\r\n   <g id=\"patch_2\">\r\n    <path d=\"M 10.7 224.64 \r\nL 345.5 224.64 \r\nL 345.5 7.2 \r\nL 10.7 7.2 \r\nz\r\n\" style=\"fill:#ffffff;\"/>\r\n   </g>\r\n   <g id=\"patch_3\">\r\n    <path clip-path=\"url(#pd6b5ee916d)\" d=\"M 143.349821 28.944 \r\nL 143.349821 202.896 \r\nL 184.09141 202.896 \r\nL 184.09141 28.944 \r\nL 143.349821 28.944 \r\nz\r\n\" style=\"fill:#3274a1;stroke:#3f3f3f;stroke-linejoin:miter;stroke-width:1.5;\"/>\r\n   </g>\r\n   <g id=\"matplotlib.axis_1\">\r\n    <g id=\"xtick_1\">\r\n     <g id=\"line2d_1\">\r\n      <defs>\r\n       <path d=\"M 0 0 \r\nL 0 3.5 \r\n\" id=\"mc7da6db75e\" style=\"stroke:#000000;stroke-width:0.8;\"/>\r\n      </defs>\r\n      <g>\r\n       <use style=\"stroke:#000000;stroke-width:0.8;\" x=\"23.521618\" xlink:href=\"#mc7da6db75e\" y=\"224.64\"/>\r\n      </g>\r\n     </g>\r\n     <g id=\"text_1\">\r\n      <!-- 0.00 -->\r\n      <defs>\r\n       <path d=\"M 31.78125 66.40625 \r\nQ 24.171875 66.40625 20.328125 58.90625 \r\nQ 16.5 51.421875 16.5 36.375 \r\nQ 16.5 21.390625 20.328125 13.890625 \r\nQ 24.171875 6.390625 31.78125 6.390625 \r\nQ 39.453125 6.390625 43.28125 13.890625 \r\nQ 47.125 21.390625 47.125 36.375 \r\nQ 47.125 51.421875 43.28125 58.90625 \r\nQ 39.453125 66.40625 31.78125 66.40625 \r\nz\r\nM 31.78125 74.21875 \r\nQ 44.046875 74.21875 50.515625 64.515625 \r\nQ 56.984375 54.828125 56.984375 36.375 \r\nQ 56.984375 17.96875 50.515625 8.265625 \r\nQ 44.046875 -1.421875 31.78125 -1.421875 \r\nQ 19.53125 -1.421875 13.0625 8.265625 \r\nQ 6.59375 17.96875 6.59375 36.375 \r\nQ 6.59375 54.828125 13.0625 64.515625 \r\nQ 19.53125 74.21875 31.78125 74.21875 \r\nz\r\n\" id=\"DejaVuSans-48\"/>\r\n       <path d=\"M 10.6875 12.40625 \r\nL 21 12.40625 \r\nL 21 0 \r\nL 10.6875 0 \r\nz\r\n\" id=\"DejaVuSans-46\"/>\r\n      </defs>\r\n      <g transform=\"translate(12.388805 239.238437)scale(0.1 -0.1)\">\r\n       <use xlink:href=\"#DejaVuSans-48\"/>\r\n       <use x=\"63.623047\" xlink:href=\"#DejaVuSans-46\"/>\r\n       <use x=\"95.410156\" xlink:href=\"#DejaVuSans-48\"/>\r\n       <use x=\"159.033203\" xlink:href=\"#DejaVuSans-48\"/>\r\n      </g>\r\n     </g>\r\n    </g>\r\n    <g id=\"xtick_2\">\r\n     <g id=\"line2d_2\">\r\n      <g>\r\n       <use style=\"stroke:#000000;stroke-width:0.8;\" x=\"71.452899\" xlink:href=\"#mc7da6db75e\" y=\"224.64\"/>\r\n      </g>\r\n     </g>\r\n     <g id=\"text_2\">\r\n      <!-- 0.02 -->\r\n      <defs>\r\n       <path d=\"M 19.1875 8.296875 \r\nL 53.609375 8.296875 \r\nL 53.609375 0 \r\nL 7.328125 0 \r\nL 7.328125 8.296875 \r\nQ 12.9375 14.109375 22.625 23.890625 \r\nQ 32.328125 33.6875 34.8125 36.53125 \r\nQ 39.546875 41.84375 41.421875 45.53125 \r\nQ 43.3125 49.21875 43.3125 52.78125 \r\nQ 43.3125 58.59375 39.234375 62.25 \r\nQ 35.15625 65.921875 28.609375 65.921875 \r\nQ 23.96875 65.921875 18.8125 64.3125 \r\nQ 13.671875 62.703125 7.8125 59.421875 \r\nL 7.8125 69.390625 \r\nQ 13.765625 71.78125 18.9375 73 \r\nQ 24.125 74.21875 28.421875 74.21875 \r\nQ 39.75 74.21875 46.484375 68.546875 \r\nQ 53.21875 62.890625 53.21875 53.421875 \r\nQ 53.21875 48.921875 51.53125 44.890625 \r\nQ 49.859375 40.875 45.40625 35.40625 \r\nQ 44.1875 33.984375 37.640625 27.21875 \r\nQ 31.109375 20.453125 19.1875 8.296875 \r\nz\r\n\" id=\"DejaVuSans-50\"/>\r\n      </defs>\r\n      <g transform=\"translate(60.320087 239.238437)scale(0.1 -0.1)\">\r\n       <use xlink:href=\"#DejaVuSans-48\"/>\r\n       <use x=\"63.623047\" xlink:href=\"#DejaVuSans-46\"/>\r\n       <use x=\"95.410156\" xlink:href=\"#DejaVuSans-48\"/>\r\n       <use x=\"159.033203\" xlink:href=\"#DejaVuSans-50\"/>\r\n      </g>\r\n     </g>\r\n    </g>\r\n    <g id=\"xtick_3\">\r\n     <g id=\"line2d_3\">\r\n      <g>\r\n       <use style=\"stroke:#000000;stroke-width:0.8;\" x=\"119.38418\" xlink:href=\"#mc7da6db75e\" y=\"224.64\"/>\r\n      </g>\r\n     </g>\r\n     <g id=\"text_3\">\r\n      <!-- 0.04 -->\r\n      <defs>\r\n       <path d=\"M 37.796875 64.3125 \r\nL 12.890625 25.390625 \r\nL 37.796875 25.390625 \r\nz\r\nM 35.203125 72.90625 \r\nL 47.609375 72.90625 \r\nL 47.609375 25.390625 \r\nL 58.015625 25.390625 \r\nL 58.015625 17.1875 \r\nL 47.609375 17.1875 \r\nL 47.609375 0 \r\nL 37.796875 0 \r\nL 37.796875 17.1875 \r\nL 4.890625 17.1875 \r\nL 4.890625 26.703125 \r\nz\r\n\" id=\"DejaVuSans-52\"/>\r\n      </defs>\r\n      <g transform=\"translate(108.251368 239.238437)scale(0.1 -0.1)\">\r\n       <use xlink:href=\"#DejaVuSans-48\"/>\r\n       <use x=\"63.623047\" xlink:href=\"#DejaVuSans-46\"/>\r\n       <use x=\"95.410156\" xlink:href=\"#DejaVuSans-48\"/>\r\n       <use x=\"159.033203\" xlink:href=\"#DejaVuSans-52\"/>\r\n      </g>\r\n     </g>\r\n    </g>\r\n    <g id=\"xtick_4\">\r\n     <g id=\"line2d_4\">\r\n      <g>\r\n       <use style=\"stroke:#000000;stroke-width:0.8;\" x=\"167.315462\" xlink:href=\"#mc7da6db75e\" y=\"224.64\"/>\r\n      </g>\r\n     </g>\r\n     <g id=\"text_4\">\r\n      <!-- 0.06 -->\r\n      <defs>\r\n       <path d=\"M 33.015625 40.375 \r\nQ 26.375 40.375 22.484375 35.828125 \r\nQ 18.609375 31.296875 18.609375 23.390625 \r\nQ 18.609375 15.53125 22.484375 10.953125 \r\nQ 26.375 6.390625 33.015625 6.390625 \r\nQ 39.65625 6.390625 43.53125 10.953125 \r\nQ 47.40625 15.53125 47.40625 23.390625 \r\nQ 47.40625 31.296875 43.53125 35.828125 \r\nQ 39.65625 40.375 33.015625 40.375 \r\nz\r\nM 52.59375 71.296875 \r\nL 52.59375 62.3125 \r\nQ 48.875 64.0625 45.09375 64.984375 \r\nQ 41.3125 65.921875 37.59375 65.921875 \r\nQ 27.828125 65.921875 22.671875 59.328125 \r\nQ 17.53125 52.734375 16.796875 39.40625 \r\nQ 19.671875 43.65625 24.015625 45.921875 \r\nQ 28.375 48.1875 33.59375 48.1875 \r\nQ 44.578125 48.1875 50.953125 41.515625 \r\nQ 57.328125 34.859375 57.328125 23.390625 \r\nQ 57.328125 12.15625 50.6875 5.359375 \r\nQ 44.046875 -1.421875 33.015625 -1.421875 \r\nQ 20.359375 -1.421875 13.671875 8.265625 \r\nQ 6.984375 17.96875 6.984375 36.375 \r\nQ 6.984375 53.65625 15.1875 63.9375 \r\nQ 23.390625 74.21875 37.203125 74.21875 \r\nQ 40.921875 74.21875 44.703125 73.484375 \r\nQ 48.484375 72.75 52.59375 71.296875 \r\nz\r\n\" id=\"DejaVuSans-54\"/>\r\n      </defs>\r\n      <g transform=\"translate(156.182649 239.238437)scale(0.1 -0.1)\">\r\n       <use xlink:href=\"#DejaVuSans-48\"/>\r\n       <use x=\"63.623047\" xlink:href=\"#DejaVuSans-46\"/>\r\n       <use x=\"95.410156\" xlink:href=\"#DejaVuSans-48\"/>\r\n       <use x=\"159.033203\" xlink:href=\"#DejaVuSans-54\"/>\r\n      </g>\r\n     </g>\r\n    </g>\r\n    <g id=\"xtick_5\">\r\n     <g id=\"line2d_5\">\r\n      <g>\r\n       <use style=\"stroke:#000000;stroke-width:0.8;\" x=\"215.246743\" xlink:href=\"#mc7da6db75e\" y=\"224.64\"/>\r\n      </g>\r\n     </g>\r\n     <g id=\"text_5\">\r\n      <!-- 0.08 -->\r\n      <defs>\r\n       <path d=\"M 31.78125 34.625 \r\nQ 24.75 34.625 20.71875 30.859375 \r\nQ 16.703125 27.09375 16.703125 20.515625 \r\nQ 16.703125 13.921875 20.71875 10.15625 \r\nQ 24.75 6.390625 31.78125 6.390625 \r\nQ 38.8125 6.390625 42.859375 10.171875 \r\nQ 46.921875 13.96875 46.921875 20.515625 \r\nQ 46.921875 27.09375 42.890625 30.859375 \r\nQ 38.875 34.625 31.78125 34.625 \r\nz\r\nM 21.921875 38.8125 \r\nQ 15.578125 40.375 12.03125 44.71875 \r\nQ 8.5 49.078125 8.5 55.328125 \r\nQ 8.5 64.0625 14.71875 69.140625 \r\nQ 20.953125 74.21875 31.78125 74.21875 \r\nQ 42.671875 74.21875 48.875 69.140625 \r\nQ 55.078125 64.0625 55.078125 55.328125 \r\nQ 55.078125 49.078125 51.53125 44.71875 \r\nQ 48 40.375 41.703125 38.8125 \r\nQ 48.828125 37.15625 52.796875 32.3125 \r\nQ 56.78125 27.484375 56.78125 20.515625 \r\nQ 56.78125 9.90625 50.3125 4.234375 \r\nQ 43.84375 -1.421875 31.78125 -1.421875 \r\nQ 19.734375 -1.421875 13.25 4.234375 \r\nQ 6.78125 9.90625 6.78125 20.515625 \r\nQ 6.78125 27.484375 10.78125 32.3125 \r\nQ 14.796875 37.15625 21.921875 38.8125 \r\nz\r\nM 18.3125 54.390625 \r\nQ 18.3125 48.734375 21.84375 45.5625 \r\nQ 25.390625 42.390625 31.78125 42.390625 \r\nQ 38.140625 42.390625 41.71875 45.5625 \r\nQ 45.3125 48.734375 45.3125 54.390625 \r\nQ 45.3125 60.0625 41.71875 63.234375 \r\nQ 38.140625 66.40625 31.78125 66.40625 \r\nQ 25.390625 66.40625 21.84375 63.234375 \r\nQ 18.3125 60.0625 18.3125 54.390625 \r\nz\r\n\" id=\"DejaVuSans-56\"/>\r\n      </defs>\r\n      <g transform=\"translate(204.113931 239.238437)scale(0.1 -0.1)\">\r\n       <use xlink:href=\"#DejaVuSans-48\"/>\r\n       <use x=\"63.623047\" xlink:href=\"#DejaVuSans-46\"/>\r\n       <use x=\"95.410156\" xlink:href=\"#DejaVuSans-48\"/>\r\n       <use x=\"159.033203\" xlink:href=\"#DejaVuSans-56\"/>\r\n      </g>\r\n     </g>\r\n    </g>\r\n    <g id=\"xtick_6\">\r\n     <g id=\"line2d_6\">\r\n      <g>\r\n       <use style=\"stroke:#000000;stroke-width:0.8;\" x=\"263.178024\" xlink:href=\"#mc7da6db75e\" y=\"224.64\"/>\r\n      </g>\r\n     </g>\r\n     <g id=\"text_6\">\r\n      <!-- 0.10 -->\r\n      <defs>\r\n       <path d=\"M 12.40625 8.296875 \r\nL 28.515625 8.296875 \r\nL 28.515625 63.921875 \r\nL 10.984375 60.40625 \r\nL 10.984375 69.390625 \r\nL 28.421875 72.90625 \r\nL 38.28125 72.90625 \r\nL 38.28125 8.296875 \r\nL 54.390625 8.296875 \r\nL 54.390625 0 \r\nL 12.40625 0 \r\nz\r\n\" id=\"DejaVuSans-49\"/>\r\n      </defs>\r\n      <g transform=\"translate(252.045212 239.238437)scale(0.1 -0.1)\">\r\n       <use xlink:href=\"#DejaVuSans-48\"/>\r\n       <use x=\"63.623047\" xlink:href=\"#DejaVuSans-46\"/>\r\n       <use x=\"95.410156\" xlink:href=\"#DejaVuSans-49\"/>\r\n       <use x=\"159.033203\" xlink:href=\"#DejaVuSans-48\"/>\r\n      </g>\r\n     </g>\r\n    </g>\r\n    <g id=\"xtick_7\">\r\n     <g id=\"line2d_7\">\r\n      <g>\r\n       <use style=\"stroke:#000000;stroke-width:0.8;\" x=\"311.109306\" xlink:href=\"#mc7da6db75e\" y=\"224.64\"/>\r\n      </g>\r\n     </g>\r\n     <g id=\"text_7\">\r\n      <!-- 0.12 -->\r\n      <g transform=\"translate(299.976493 239.238437)scale(0.1 -0.1)\">\r\n       <use xlink:href=\"#DejaVuSans-48\"/>\r\n       <use x=\"63.623047\" xlink:href=\"#DejaVuSans-46\"/>\r\n       <use x=\"95.410156\" xlink:href=\"#DejaVuSans-49\"/>\r\n       <use x=\"159.033203\" xlink:href=\"#DejaVuSans-50\"/>\r\n      </g>\r\n     </g>\r\n    </g>\r\n    <g id=\"text_8\">\r\n     <!-- abv -->\r\n     <defs>\r\n      <path d=\"M 34.28125 27.484375 \r\nQ 23.390625 27.484375 19.1875 25 \r\nQ 14.984375 22.515625 14.984375 16.5 \r\nQ 14.984375 11.71875 18.140625 8.90625 \r\nQ 21.296875 6.109375 26.703125 6.109375 \r\nQ 34.1875 6.109375 38.703125 11.40625 \r\nQ 43.21875 16.703125 43.21875 25.484375 \r\nL 43.21875 27.484375 \r\nz\r\nM 52.203125 31.203125 \r\nL 52.203125 0 \r\nL 43.21875 0 \r\nL 43.21875 8.296875 \r\nQ 40.140625 3.328125 35.546875 0.953125 \r\nQ 30.953125 -1.421875 24.3125 -1.421875 \r\nQ 15.921875 -1.421875 10.953125 3.296875 \r\nQ 6 8.015625 6 15.921875 \r\nQ 6 25.140625 12.171875 29.828125 \r\nQ 18.359375 34.515625 30.609375 34.515625 \r\nL 43.21875 34.515625 \r\nL 43.21875 35.40625 \r\nQ 43.21875 41.609375 39.140625 45 \r\nQ 35.0625 48.390625 27.6875 48.390625 \r\nQ 23 48.390625 18.546875 47.265625 \r\nQ 14.109375 46.140625 10.015625 43.890625 \r\nL 10.015625 52.203125 \r\nQ 14.9375 54.109375 19.578125 55.046875 \r\nQ 24.21875 56 28.609375 56 \r\nQ 40.484375 56 46.34375 49.84375 \r\nQ 52.203125 43.703125 52.203125 31.203125 \r\nz\r\n\" id=\"DejaVuSans-97\"/>\r\n      <path d=\"M 48.6875 27.296875 \r\nQ 48.6875 37.203125 44.609375 42.84375 \r\nQ 40.53125 48.484375 33.40625 48.484375 \r\nQ 26.265625 48.484375 22.1875 42.84375 \r\nQ 18.109375 37.203125 18.109375 27.296875 \r\nQ 18.109375 17.390625 22.1875 11.75 \r\nQ 26.265625 6.109375 33.40625 6.109375 \r\nQ 40.53125 6.109375 44.609375 11.75 \r\nQ 48.6875 17.390625 48.6875 27.296875 \r\nz\r\nM 18.109375 46.390625 \r\nQ 20.953125 51.265625 25.265625 53.625 \r\nQ 29.59375 56 35.59375 56 \r\nQ 45.5625 56 51.78125 48.09375 \r\nQ 58.015625 40.1875 58.015625 27.296875 \r\nQ 58.015625 14.40625 51.78125 6.484375 \r\nQ 45.5625 -1.421875 35.59375 -1.421875 \r\nQ 29.59375 -1.421875 25.265625 0.953125 \r\nQ 20.953125 3.328125 18.109375 8.203125 \r\nL 18.109375 0 \r\nL 9.078125 0 \r\nL 9.078125 75.984375 \r\nL 18.109375 75.984375 \r\nz\r\n\" id=\"DejaVuSans-98\"/>\r\n      <path d=\"M 2.984375 54.6875 \r\nL 12.5 54.6875 \r\nL 29.59375 8.796875 \r\nL 46.6875 54.6875 \r\nL 56.203125 54.6875 \r\nL 35.6875 0 \r\nL 23.484375 0 \r\nz\r\n\" id=\"DejaVuSans-118\"/>\r\n     </defs>\r\n     <g transform=\"translate(168.902344 252.916562)scale(0.1 -0.1)\">\r\n      <use xlink:href=\"#DejaVuSans-97\"/>\r\n      <use x=\"61.279297\" xlink:href=\"#DejaVuSans-98\"/>\r\n      <use x=\"124.755859\" xlink:href=\"#DejaVuSans-118\"/>\r\n     </g>\r\n    </g>\r\n   </g>\r\n   <g id=\"matplotlib.axis_2\">\r\n    <g id=\"ytick_1\">\r\n     <g id=\"line2d_8\">\r\n      <defs>\r\n       <path d=\"M 0 0 \r\nL -3.5 0 \r\n\" id=\"mc0567483eb\" style=\"stroke:#000000;stroke-width:0.8;\"/>\r\n      </defs>\r\n      <g>\r\n       <use style=\"stroke:#000000;stroke-width:0.8;\" x=\"10.7\" xlink:href=\"#mc0567483eb\" y=\"115.92\"/>\r\n      </g>\r\n     </g>\r\n    </g>\r\n   </g>\r\n   <g id=\"line2d_9\">\r\n    <path clip-path=\"url(#pd6b5ee916d)\" d=\"M 143.349821 115.92 \r\nL 88.228848 115.92 \r\n\" style=\"fill:none;stroke:#3f3f3f;stroke-linecap:square;stroke-width:1.5;\"/>\r\n   </g>\r\n   <g id=\"line2d_10\">\r\n    <path clip-path=\"url(#pd6b5ee916d)\" d=\"M 184.09141 115.92 \r\nL 244.005512 115.92 \r\n\" style=\"fill:none;stroke:#3f3f3f;stroke-linecap:square;stroke-width:1.5;\"/>\r\n   </g>\r\n   <g id=\"line2d_11\">\r\n    <path clip-path=\"url(#pd6b5ee916d)\" d=\"M 88.228848 72.432 \r\nL 88.228848 159.408 \r\n\" style=\"fill:none;stroke:#3f3f3f;stroke-linecap:square;stroke-width:1.5;\"/>\r\n   </g>\r\n   <g id=\"line2d_12\">\r\n    <path clip-path=\"url(#pd6b5ee916d)\" d=\"M 244.005512 72.432 \r\nL 244.005512 159.408 \r\n\" style=\"fill:none;stroke:#3f3f3f;stroke-linecap:square;stroke-width:1.5;\"/>\r\n   </g>\r\n   <g id=\"line2d_13\">\r\n    <defs>\r\n     <path d=\"M 0 3.535534 \r\nL 2.12132 0 \r\nL 0 -3.535534 \r\nL -2.12132 0 \r\nz\r\n\" id=\"m75ac3852d1\" style=\"stroke:#3f3f3f;stroke-linejoin:miter;\"/>\r\n    </defs>\r\n    <g clip-path=\"url(#pd6b5ee916d)\">\r\n     <use style=\"fill:#3f3f3f;stroke:#3f3f3f;stroke-linejoin:miter;\" x=\"25.918182\" xlink:href=\"#m75ac3852d1\" y=\"115.92\"/>\r\n     <use style=\"fill:#3f3f3f;stroke:#3f3f3f;stroke-linejoin:miter;\" x=\"260.78146\" xlink:href=\"#m75ac3852d1\" y=\"115.92\"/>\r\n     <use style=\"fill:#3f3f3f;stroke:#3f3f3f;stroke-linejoin:miter;\" x=\"255.988332\" xlink:href=\"#m75ac3852d1\" y=\"115.92\"/>\r\n     <use style=\"fill:#3f3f3f;stroke:#3f3f3f;stroke-linejoin:miter;\" x=\"323.092126\" xlink:href=\"#m75ac3852d1\" y=\"115.92\"/>\r\n     <use style=\"fill:#3f3f3f;stroke:#3f3f3f;stroke-linejoin:miter;\" x=\"251.195204\" xlink:href=\"#m75ac3852d1\" y=\"115.92\"/>\r\n     <use style=\"fill:#3f3f3f;stroke:#3f3f3f;stroke-linejoin:miter;\" x=\"260.78146\" xlink:href=\"#m75ac3852d1\" y=\"115.92\"/>\r\n     <use style=\"fill:#3f3f3f;stroke:#3f3f3f;stroke-linejoin:miter;\" x=\"258.384896\" xlink:href=\"#m75ac3852d1\" y=\"115.92\"/>\r\n     <use style=\"fill:#3f3f3f;stroke:#3f3f3f;stroke-linejoin:miter;\" x=\"253.591768\" xlink:href=\"#m75ac3852d1\" y=\"115.92\"/>\r\n     <use style=\"fill:#3f3f3f;stroke:#3f3f3f;stroke-linejoin:miter;\" x=\"258.384896\" xlink:href=\"#m75ac3852d1\" y=\"115.92\"/>\r\n     <use style=\"fill:#3f3f3f;stroke:#3f3f3f;stroke-linejoin:miter;\" x=\"260.78146\" xlink:href=\"#m75ac3852d1\" y=\"115.92\"/>\r\n     <use style=\"fill:#3f3f3f;stroke:#3f3f3f;stroke-linejoin:miter;\" x=\"246.402076\" xlink:href=\"#m75ac3852d1\" y=\"115.92\"/>\r\n     <use style=\"fill:#3f3f3f;stroke:#3f3f3f;stroke-linejoin:miter;\" x=\"246.402076\" xlink:href=\"#m75ac3852d1\" y=\"115.92\"/>\r\n     <use style=\"fill:#3f3f3f;stroke:#3f3f3f;stroke-linejoin:miter;\" x=\"258.384896\" xlink:href=\"#m75ac3852d1\" y=\"115.92\"/>\r\n     <use style=\"fill:#3f3f3f;stroke:#3f3f3f;stroke-linejoin:miter;\" x=\"260.78146\" xlink:href=\"#m75ac3852d1\" y=\"115.92\"/>\r\n     <use style=\"fill:#3f3f3f;stroke:#3f3f3f;stroke-linejoin:miter;\" x=\"251.195204\" xlink:href=\"#m75ac3852d1\" y=\"115.92\"/>\r\n     <use style=\"fill:#3f3f3f;stroke:#3f3f3f;stroke-linejoin:miter;\" x=\"260.78146\" xlink:href=\"#m75ac3852d1\" y=\"115.92\"/>\r\n     <use style=\"fill:#3f3f3f;stroke:#3f3f3f;stroke-linejoin:miter;\" x=\"255.988332\" xlink:href=\"#m75ac3852d1\" y=\"115.92\"/>\r\n     <use style=\"fill:#3f3f3f;stroke:#3f3f3f;stroke-linejoin:miter;\" x=\"260.78146\" xlink:href=\"#m75ac3852d1\" y=\"115.92\"/>\r\n     <use style=\"fill:#3f3f3f;stroke:#3f3f3f;stroke-linejoin:miter;\" x=\"260.78146\" xlink:href=\"#m75ac3852d1\" y=\"115.92\"/>\r\n     <use style=\"fill:#3f3f3f;stroke:#3f3f3f;stroke-linejoin:miter;\" x=\"246.402076\" xlink:href=\"#m75ac3852d1\" y=\"115.92\"/>\r\n     <use style=\"fill:#3f3f3f;stroke:#3f3f3f;stroke-linejoin:miter;\" x=\"255.988332\" xlink:href=\"#m75ac3852d1\" y=\"115.92\"/>\r\n     <use style=\"fill:#3f3f3f;stroke:#3f3f3f;stroke-linejoin:miter;\" x=\"260.78146\" xlink:href=\"#m75ac3852d1\" y=\"115.92\"/>\r\n     <use style=\"fill:#3f3f3f;stroke:#3f3f3f;stroke-linejoin:miter;\" x=\"260.78146\" xlink:href=\"#m75ac3852d1\" y=\"115.92\"/>\r\n     <use style=\"fill:#3f3f3f;stroke:#3f3f3f;stroke-linejoin:miter;\" x=\"251.195204\" xlink:href=\"#m75ac3852d1\" y=\"115.92\"/>\r\n     <use style=\"fill:#3f3f3f;stroke:#3f3f3f;stroke-linejoin:miter;\" x=\"253.591768\" xlink:href=\"#m75ac3852d1\" y=\"115.92\"/>\r\n     <use style=\"fill:#3f3f3f;stroke:#3f3f3f;stroke-linejoin:miter;\" x=\"248.79864\" xlink:href=\"#m75ac3852d1\" y=\"115.92\"/>\r\n     <use style=\"fill:#3f3f3f;stroke:#3f3f3f;stroke-linejoin:miter;\" x=\"246.402076\" xlink:href=\"#m75ac3852d1\" y=\"115.92\"/>\r\n     <use style=\"fill:#3f3f3f;stroke:#3f3f3f;stroke-linejoin:miter;\" x=\"251.195204\" xlink:href=\"#m75ac3852d1\" y=\"115.92\"/>\r\n     <use style=\"fill:#3f3f3f;stroke:#3f3f3f;stroke-linejoin:miter;\" x=\"260.78146\" xlink:href=\"#m75ac3852d1\" y=\"115.92\"/>\r\n     <use style=\"fill:#3f3f3f;stroke:#3f3f3f;stroke-linejoin:miter;\" x=\"246.402076\" xlink:href=\"#m75ac3852d1\" y=\"115.92\"/>\r\n     <use style=\"fill:#3f3f3f;stroke:#3f3f3f;stroke-linejoin:miter;\" x=\"251.195204\" xlink:href=\"#m75ac3852d1\" y=\"115.92\"/>\r\n     <use style=\"fill:#3f3f3f;stroke:#3f3f3f;stroke-linejoin:miter;\" x=\"260.78146\" xlink:href=\"#m75ac3852d1\" y=\"115.92\"/>\r\n     <use style=\"fill:#3f3f3f;stroke:#3f3f3f;stroke-linejoin:miter;\" x=\"260.78146\" xlink:href=\"#m75ac3852d1\" y=\"115.92\"/>\r\n     <use style=\"fill:#3f3f3f;stroke:#3f3f3f;stroke-linejoin:miter;\" x=\"251.195204\" xlink:href=\"#m75ac3852d1\" y=\"115.92\"/>\r\n     <use style=\"fill:#3f3f3f;stroke:#3f3f3f;stroke-linejoin:miter;\" x=\"260.78146\" xlink:href=\"#m75ac3852d1\" y=\"115.92\"/>\r\n     <use style=\"fill:#3f3f3f;stroke:#3f3f3f;stroke-linejoin:miter;\" x=\"255.988332\" xlink:href=\"#m75ac3852d1\" y=\"115.92\"/>\r\n     <use style=\"fill:#3f3f3f;stroke:#3f3f3f;stroke-linejoin:miter;\" x=\"260.78146\" xlink:href=\"#m75ac3852d1\" y=\"115.92\"/>\r\n     <use style=\"fill:#3f3f3f;stroke:#3f3f3f;stroke-linejoin:miter;\" x=\"251.195204\" xlink:href=\"#m75ac3852d1\" y=\"115.92\"/>\r\n     <use style=\"fill:#3f3f3f;stroke:#3f3f3f;stroke-linejoin:miter;\" x=\"260.78146\" xlink:href=\"#m75ac3852d1\" y=\"115.92\"/>\r\n     <use style=\"fill:#3f3f3f;stroke:#3f3f3f;stroke-linejoin:miter;\" x=\"260.78146\" xlink:href=\"#m75ac3852d1\" y=\"115.92\"/>\r\n     <use style=\"fill:#3f3f3f;stroke:#3f3f3f;stroke-linejoin:miter;\" x=\"251.195204\" xlink:href=\"#m75ac3852d1\" y=\"115.92\"/>\r\n     <use style=\"fill:#3f3f3f;stroke:#3f3f3f;stroke-linejoin:miter;\" x=\"260.78146\" xlink:href=\"#m75ac3852d1\" y=\"115.92\"/>\r\n     <use style=\"fill:#3f3f3f;stroke:#3f3f3f;stroke-linejoin:miter;\" x=\"260.78146\" xlink:href=\"#m75ac3852d1\" y=\"115.92\"/>\r\n     <use style=\"fill:#3f3f3f;stroke:#3f3f3f;stroke-linejoin:miter;\" x=\"260.78146\" xlink:href=\"#m75ac3852d1\" y=\"115.92\"/>\r\n     <use style=\"fill:#3f3f3f;stroke:#3f3f3f;stroke-linejoin:miter;\" x=\"260.78146\" xlink:href=\"#m75ac3852d1\" y=\"115.92\"/>\r\n     <use style=\"fill:#3f3f3f;stroke:#3f3f3f;stroke-linejoin:miter;\" x=\"260.78146\" xlink:href=\"#m75ac3852d1\" y=\"115.92\"/>\r\n     <use style=\"fill:#3f3f3f;stroke:#3f3f3f;stroke-linejoin:miter;\" x=\"260.78146\" xlink:href=\"#m75ac3852d1\" y=\"115.92\"/>\r\n     <use style=\"fill:#3f3f3f;stroke:#3f3f3f;stroke-linejoin:miter;\" x=\"251.195204\" xlink:href=\"#m75ac3852d1\" y=\"115.92\"/>\r\n     <use style=\"fill:#3f3f3f;stroke:#3f3f3f;stroke-linejoin:miter;\" x=\"263.178024\" xlink:href=\"#m75ac3852d1\" y=\"115.92\"/>\r\n     <use style=\"fill:#3f3f3f;stroke:#3f3f3f;stroke-linejoin:miter;\" x=\"260.78146\" xlink:href=\"#m75ac3852d1\" y=\"115.92\"/>\r\n     <use style=\"fill:#3f3f3f;stroke:#3f3f3f;stroke-linejoin:miter;\" x=\"260.78146\" xlink:href=\"#m75ac3852d1\" y=\"115.92\"/>\r\n     <use style=\"fill:#3f3f3f;stroke:#3f3f3f;stroke-linejoin:miter;\" x=\"260.78146\" xlink:href=\"#m75ac3852d1\" y=\"115.92\"/>\r\n     <use style=\"fill:#3f3f3f;stroke:#3f3f3f;stroke-linejoin:miter;\" x=\"260.78146\" xlink:href=\"#m75ac3852d1\" y=\"115.92\"/>\r\n     <use style=\"fill:#3f3f3f;stroke:#3f3f3f;stroke-linejoin:miter;\" x=\"260.78146\" xlink:href=\"#m75ac3852d1\" y=\"115.92\"/>\r\n     <use style=\"fill:#3f3f3f;stroke:#3f3f3f;stroke-linejoin:miter;\" x=\"253.591768\" xlink:href=\"#m75ac3852d1\" y=\"115.92\"/>\r\n     <use style=\"fill:#3f3f3f;stroke:#3f3f3f;stroke-linejoin:miter;\" x=\"253.591768\" xlink:href=\"#m75ac3852d1\" y=\"115.92\"/>\r\n     <use style=\"fill:#3f3f3f;stroke:#3f3f3f;stroke-linejoin:miter;\" x=\"260.78146\" xlink:href=\"#m75ac3852d1\" y=\"115.92\"/>\r\n     <use style=\"fill:#3f3f3f;stroke:#3f3f3f;stroke-linejoin:miter;\" x=\"260.78146\" xlink:href=\"#m75ac3852d1\" y=\"115.92\"/>\r\n     <use style=\"fill:#3f3f3f;stroke:#3f3f3f;stroke-linejoin:miter;\" x=\"260.78146\" xlink:href=\"#m75ac3852d1\" y=\"115.92\"/>\r\n     <use style=\"fill:#3f3f3f;stroke:#3f3f3f;stroke-linejoin:miter;\" x=\"260.78146\" xlink:href=\"#m75ac3852d1\" y=\"115.92\"/>\r\n     <use style=\"fill:#3f3f3f;stroke:#3f3f3f;stroke-linejoin:miter;\" x=\"260.78146\" xlink:href=\"#m75ac3852d1\" y=\"115.92\"/>\r\n     <use style=\"fill:#3f3f3f;stroke:#3f3f3f;stroke-linejoin:miter;\" x=\"255.988332\" xlink:href=\"#m75ac3852d1\" y=\"115.92\"/>\r\n     <use style=\"fill:#3f3f3f;stroke:#3f3f3f;stroke-linejoin:miter;\" x=\"253.591768\" xlink:href=\"#m75ac3852d1\" y=\"115.92\"/>\r\n     <use style=\"fill:#3f3f3f;stroke:#3f3f3f;stroke-linejoin:miter;\" x=\"260.78146\" xlink:href=\"#m75ac3852d1\" y=\"115.92\"/>\r\n     <use style=\"fill:#3f3f3f;stroke:#3f3f3f;stroke-linejoin:miter;\" x=\"311.109306\" xlink:href=\"#m75ac3852d1\" y=\"115.92\"/>\r\n     <use style=\"fill:#3f3f3f;stroke:#3f3f3f;stroke-linejoin:miter;\" x=\"330.281818\" xlink:href=\"#m75ac3852d1\" y=\"115.92\"/>\r\n     <use style=\"fill:#3f3f3f;stroke:#3f3f3f;stroke-linejoin:miter;\" x=\"272.764281\" xlink:href=\"#m75ac3852d1\" y=\"115.92\"/>\r\n     <use style=\"fill:#3f3f3f;stroke:#3f3f3f;stroke-linejoin:miter;\" x=\"260.78146\" xlink:href=\"#m75ac3852d1\" y=\"115.92\"/>\r\n     <use style=\"fill:#3f3f3f;stroke:#3f3f3f;stroke-linejoin:miter;\" x=\"260.78146\" xlink:href=\"#m75ac3852d1\" y=\"115.92\"/>\r\n    </g>\r\n   </g>\r\n   <g id=\"line2d_14\">\r\n    <path clip-path=\"url(#pd6b5ee916d)\" d=\"M 157.729205 28.944 \r\nL 157.729205 202.896 \r\n\" style=\"fill:none;stroke:#3f3f3f;stroke-linecap:square;stroke-width:1.5;\"/>\r\n   </g>\r\n   <g id=\"patch_4\">\r\n    <path d=\"M 10.7 224.64 \r\nL 10.7 7.2 \r\n\" style=\"fill:none;stroke:#000000;stroke-linecap:square;stroke-linejoin:miter;stroke-width:0.8;\"/>\r\n   </g>\r\n   <g id=\"patch_5\">\r\n    <path d=\"M 345.5 224.64 \r\nL 345.5 7.2 \r\n\" style=\"fill:none;stroke:#000000;stroke-linecap:square;stroke-linejoin:miter;stroke-width:0.8;\"/>\r\n   </g>\r\n   <g id=\"patch_6\">\r\n    <path d=\"M 10.7 224.64 \r\nL 345.5 224.64 \r\n\" style=\"fill:none;stroke:#000000;stroke-linecap:square;stroke-linejoin:miter;stroke-width:0.8;\"/>\r\n   </g>\r\n   <g id=\"patch_7\">\r\n    <path d=\"M 10.7 7.2 \r\nL 345.5 7.2 \r\n\" style=\"fill:none;stroke:#000000;stroke-linecap:square;stroke-linejoin:miter;stroke-width:0.8;\"/>\r\n   </g>\r\n  </g>\r\n </g>\r\n <defs>\r\n  <clipPath id=\"pd6b5ee916d\">\r\n   <rect height=\"217.44\" width=\"334.8\" x=\"10.7\" y=\"7.2\"/>\r\n  </clipPath>\r\n </defs>\r\n</svg>\r\n",
      "image/png": "[encoded data removed]"
     },
     "metadata": {
      "needs_background": "light"
     }
    }
   ],
   "source": [
    "sns.boxplot(x = 'abv', data = beer)"
   ]
  },
  {
   "cell_type": "markdown",
   "metadata": {},
   "source": [
    "## Ejercicio 15\n",
    "1. ¿Qué estilos son los que tienen en media más alcohol?\n",
    "2. ¿Y los estilos que son en media más amargos?"
   ]
  },
  {
   "cell_type": "code",
   "execution_count": 52,
   "metadata": {},
   "outputs": [
    {
     "output_type": "execute_result",
     "data": {
      "text/plain": "style\nEnglish Barleywine        0.107667\nQuadrupel (Quad)          0.104000\nAmerican Barleywine       0.099000\nAmerican Malt Liquor      0.099000\nRussian Imperial Stout    0.097636\nName: abv, dtype: float64"
     },
     "metadata": {},
     "execution_count": 52
    }
   ],
   "source": [
    "beer.groupby('style')['abv'].mean().sort_values(ascending = False).head()"
   ]
  },
  {
   "cell_type": "code",
   "execution_count": 53,
   "metadata": {},
   "outputs": [
    {
     "output_type": "execute_result",
     "data": {
      "text/plain": "style\nAmerican Barleywine                   96.00\nAmerican Double / Imperial IPA        93.32\nRussian Imperial Stout                86.50\nAmerican Double / Imperial Pilsner    85.00\nBelgian Strong Dark Ale               72.00\nName: ibu, dtype: float64"
     },
     "metadata": {},
     "execution_count": 53
    }
   ],
   "source": [
    "beer.groupby('style')['ibu'].mean().sort_values(ascending = False).head()"
   ]
  },
  {
   "cell_type": "markdown",
   "metadata": {},
   "source": [
    "## Ejercicio 16\n",
    "Carga el datasets de cervecerias `datasets_breweries.csv`"
   ]
  },
  {
   "cell_type": "code",
   "execution_count": 60,
   "metadata": {},
   "outputs": [
    {
     "output_type": "execute_result",
     "data": {
      "text/plain": "   Unnamed: 0                       name           city state\n0           0         NorthGate Brewing     Minneapolis    MN\n1           1  Against the Grain Brewery     Louisville    KY\n2           2   Jack's Abby Craft Lagers     Framingham    MA\n3           3  Mike Hess Brewing Company      San Diego    CA\n4           4    Fort Point Beer Company  San Francisco    CA",
      "text/html": "<div>\n<style scoped>\n    .dataframe tbody tr th:only-of-type {\n        vertical-align: middle;\n    }\n\n    .dataframe tbody tr th {\n        vertical-align: top;\n    }\n\n    .dataframe thead th {\n        text-align: right;\n    }\n</style>\n<table border=\"1\" class=\"dataframe\">\n  <thead>\n    <tr style=\"text-align: right;\">\n      <th></th>\n      <th>Unnamed: 0</th>\n      <th>name</th>\n      <th>city</th>\n      <th>state</th>\n    </tr>\n  </thead>\n  <tbody>\n    <tr>\n      <td>0</td>\n      <td>0</td>\n      <td>NorthGate Brewing</td>\n      <td>Minneapolis</td>\n      <td>MN</td>\n    </tr>\n    <tr>\n      <td>1</td>\n      <td>1</td>\n      <td>Against the Grain Brewery</td>\n      <td>Louisville</td>\n      <td>KY</td>\n    </tr>\n    <tr>\n      <td>2</td>\n      <td>2</td>\n      <td>Jack's Abby Craft Lagers</td>\n      <td>Framingham</td>\n      <td>MA</td>\n    </tr>\n    <tr>\n      <td>3</td>\n      <td>3</td>\n      <td>Mike Hess Brewing Company</td>\n      <td>San Diego</td>\n      <td>CA</td>\n    </tr>\n    <tr>\n      <td>4</td>\n      <td>4</td>\n      <td>Fort Point Beer Company</td>\n      <td>San Francisco</td>\n      <td>CA</td>\n    </tr>\n  </tbody>\n</table>\n</div>"
     },
     "metadata": {},
     "execution_count": 60
    }
   ],
   "source": [
    "df2 = pd.read_csv(\"datasets_breweries.csv\")\n",
    "df2.head()"
   ]
  },
  {
   "cell_type": "markdown",
   "metadata": {},
   "source": [
    "## Ejercicio 17\n",
    "1. Renombra la columna `Unnamed: 0` como `brewery_id`\n",
    "2. Renombra tb la columna `name` por `brewery_name`. ¿Puedes hacer ambos apartados en una sola sentencia?"
   ]
  },
  {
   "cell_type": "code",
   "execution_count": 61,
   "metadata": {},
   "outputs": [],
   "source": [
    "df2 = df2.rename(columns={\"Unnamed: 0\": \"brewery_id\",\n",
    "                          \"name\": \"brewery_name\"})"
   ]
  },
  {
   "cell_type": "code",
   "execution_count": 62,
   "metadata": {},
   "outputs": [
    {
     "output_type": "execute_result",
     "data": {
      "text/plain": "   brewery_id               brewery_name           city state\n0           0         NorthGate Brewing     Minneapolis    MN\n1           1  Against the Grain Brewery     Louisville    KY\n2           2   Jack's Abby Craft Lagers     Framingham    MA\n3           3  Mike Hess Brewing Company      San Diego    CA\n4           4    Fort Point Beer Company  San Francisco    CA",
      "text/html": "<div>\n<style scoped>\n    .dataframe tbody tr th:only-of-type {\n        vertical-align: middle;\n    }\n\n    .dataframe tbody tr th {\n        vertical-align: top;\n    }\n\n    .dataframe thead th {\n        text-align: right;\n    }\n</style>\n<table border=\"1\" class=\"dataframe\">\n  <thead>\n    <tr style=\"text-align: right;\">\n      <th></th>\n      <th>brewery_id</th>\n      <th>brewery_name</th>\n      <th>city</th>\n      <th>state</th>\n    </tr>\n  </thead>\n  <tbody>\n    <tr>\n      <td>0</td>\n      <td>0</td>\n      <td>NorthGate Brewing</td>\n      <td>Minneapolis</td>\n      <td>MN</td>\n    </tr>\n    <tr>\n      <td>1</td>\n      <td>1</td>\n      <td>Against the Grain Brewery</td>\n      <td>Louisville</td>\n      <td>KY</td>\n    </tr>\n    <tr>\n      <td>2</td>\n      <td>2</td>\n      <td>Jack's Abby Craft Lagers</td>\n      <td>Framingham</td>\n      <td>MA</td>\n    </tr>\n    <tr>\n      <td>3</td>\n      <td>3</td>\n      <td>Mike Hess Brewing Company</td>\n      <td>San Diego</td>\n      <td>CA</td>\n    </tr>\n    <tr>\n      <td>4</td>\n      <td>4</td>\n      <td>Fort Point Beer Company</td>\n      <td>San Francisco</td>\n      <td>CA</td>\n    </tr>\n  </tbody>\n</table>\n</div>"
     },
     "metadata": {},
     "execution_count": 62
    }
   ],
   "source": [
    "df2.head()"
   ]
  },
  {
   "cell_type": "markdown",
   "metadata": {},
   "source": [
    "## Ejercicio 18\n",
    "Junta los dos datasets que tienes"
   ]
  },
  {
   "cell_type": "code",
   "execution_count": 63,
   "metadata": {},
   "outputs": [
    {
     "output_type": "execute_result",
     "data": {
      "text/plain": "     abv  ibu    id                 name                           style  \\\n0  0.050  NaN  1436             Pub Beer             American Pale Lager   \n1  0.066  NaN  2265          Devil's Cup         American Pale Ale (APA)   \n2  0.071  NaN  2264  Rise of the Phoenix                    American IPA   \n3  0.090  NaN  2263             Sinister  American Double / Imperial IPA   \n4  0.075  NaN  2262        Sex and Candy                    American IPA   \n\n   brewery_id  ounces               brewery_name  city state  \n0         408    12.0  10 Barrel Brewing Company  Bend    OR  \n1         177    12.0        18th Street Brewery  Gary    IN  \n2         177    12.0        18th Street Brewery  Gary    IN  \n3         177    12.0        18th Street Brewery  Gary    IN  \n4         177    12.0        18th Street Brewery  Gary    IN  ",
      "text/html": "<div>\n<style scoped>\n    .dataframe tbody tr th:only-of-type {\n        vertical-align: middle;\n    }\n\n    .dataframe tbody tr th {\n        vertical-align: top;\n    }\n\n    .dataframe thead th {\n        text-align: right;\n    }\n</style>\n<table border=\"1\" class=\"dataframe\">\n  <thead>\n    <tr style=\"text-align: right;\">\n      <th></th>\n      <th>abv</th>\n      <th>ibu</th>\n      <th>id</th>\n      <th>name</th>\n      <th>style</th>\n      <th>brewery_id</th>\n      <th>ounces</th>\n      <th>brewery_name</th>\n      <th>city</th>\n      <th>state</th>\n    </tr>\n  </thead>\n  <tbody>\n    <tr>\n      <td>0</td>\n      <td>0.050</td>\n      <td>NaN</td>\n      <td>1436</td>\n      <td>Pub Beer</td>\n      <td>American Pale Lager</td>\n      <td>408</td>\n      <td>12.0</td>\n      <td>10 Barrel Brewing Company</td>\n      <td>Bend</td>\n      <td>OR</td>\n    </tr>\n    <tr>\n      <td>1</td>\n      <td>0.066</td>\n      <td>NaN</td>\n      <td>2265</td>\n      <td>Devil's Cup</td>\n      <td>American Pale Ale (APA)</td>\n      <td>177</td>\n      <td>12.0</td>\n      <td>18th Street Brewery</td>\n      <td>Gary</td>\n      <td>IN</td>\n    </tr>\n    <tr>\n      <td>2</td>\n      <td>0.071</td>\n      <td>NaN</td>\n      <td>2264</td>\n      <td>Rise of the Phoenix</td>\n      <td>American IPA</td>\n      <td>177</td>\n      <td>12.0</td>\n      <td>18th Street Brewery</td>\n      <td>Gary</td>\n      <td>IN</td>\n    </tr>\n    <tr>\n      <td>3</td>\n      <td>0.090</td>\n      <td>NaN</td>\n      <td>2263</td>\n      <td>Sinister</td>\n      <td>American Double / Imperial IPA</td>\n      <td>177</td>\n      <td>12.0</td>\n      <td>18th Street Brewery</td>\n      <td>Gary</td>\n      <td>IN</td>\n    </tr>\n    <tr>\n      <td>4</td>\n      <td>0.075</td>\n      <td>NaN</td>\n      <td>2262</td>\n      <td>Sex and Candy</td>\n      <td>American IPA</td>\n      <td>177</td>\n      <td>12.0</td>\n      <td>18th Street Brewery</td>\n      <td>Gary</td>\n      <td>IN</td>\n    </tr>\n  </tbody>\n</table>\n</div>"
     },
     "metadata": {},
     "execution_count": 63
    }
   ],
   "source": [
    "df3 = beer.merge(df2, on='brewery_id')\n",
    "df3.head()"
   ]
  },
  {
   "cell_type": "markdown",
   "metadata": {},
   "source": [
    "## Ejercicio 19\n",
    "1. ¿Cuántos estados diferentes hay?\n",
    "2. ¿Y ciudades diferentes?\n",
    "3. ¿Cuántas vervecerías hay?"
   ]
  },
  {
   "cell_type": "code",
   "execution_count": 65,
   "metadata": {},
   "outputs": [
    {
     "output_type": "execute_result",
     "data": {
      "text/plain": "551"
     },
     "metadata": {},
     "execution_count": 65
    }
   ],
   "source": [
    "len(df3['state'].unique())\n",
    "len(df3['city'].unique())\n",
    "len(df3['brewery_id'].unique())\n",
    "len(df3['brewery_name'].unique())"
   ]
  },
  {
   "cell_type": "markdown",
   "metadata": {},
   "source": [
    "## Ejercicio 20\n",
    "Agrupa por estado y ciudad, la media, mediana y máximo nivel de alcohol"
   ]
  },
  {
   "cell_type": "code",
   "execution_count": 66,
   "metadata": {},
   "outputs": [
    {
     "output_type": "execute_result",
     "data": {
      "text/plain": "                      mean    min  median    max\nstate city                                      \n AK   Anchorage   0.054200  0.048  0.0520  0.063\n      Juneau      0.053000  0.053  0.0530  0.053\n      Soldotna    0.058500  0.050  0.0580  0.068\n      Talkeetna   0.059500  0.056  0.0585  0.065\n AL   Birmingham  0.065400  0.056  0.0600  0.093\n...                    ...    ...     ...    ...\n WI   Wilson      0.055000  0.055  0.0550  0.055\n WV   Lewisburg   0.062000  0.057  0.0620  0.067\n WY   Jackson     0.054857  0.050  0.0520  0.068\n      Pinedale    0.061000  0.050  0.0610  0.072\n      Sheridan    0.052833  0.046  0.0480  0.070\n\n[401 rows x 4 columns]",
      "text/html": "<div>\n<style scoped>\n    .dataframe tbody tr th:only-of-type {\n        vertical-align: middle;\n    }\n\n    .dataframe tbody tr th {\n        vertical-align: top;\n    }\n\n    .dataframe thead th {\n        text-align: right;\n    }\n</style>\n<table border=\"1\" class=\"dataframe\">\n  <thead>\n    <tr style=\"text-align: right;\">\n      <th></th>\n      <th></th>\n      <th>mean</th>\n      <th>min</th>\n      <th>median</th>\n      <th>max</th>\n    </tr>\n    <tr>\n      <th>state</th>\n      <th>city</th>\n      <th></th>\n      <th></th>\n      <th></th>\n      <th></th>\n    </tr>\n  </thead>\n  <tbody>\n    <tr>\n      <td rowspan=\"4\" valign=\"top\">AK</td>\n      <td>Anchorage</td>\n      <td>0.054200</td>\n      <td>0.048</td>\n      <td>0.0520</td>\n      <td>0.063</td>\n    </tr>\n    <tr>\n      <td>Juneau</td>\n      <td>0.053000</td>\n      <td>0.053</td>\n      <td>0.0530</td>\n      <td>0.053</td>\n    </tr>\n    <tr>\n      <td>Soldotna</td>\n      <td>0.058500</td>\n      <td>0.050</td>\n      <td>0.0580</td>\n      <td>0.068</td>\n    </tr>\n    <tr>\n      <td>Talkeetna</td>\n      <td>0.059500</td>\n      <td>0.056</td>\n      <td>0.0585</td>\n      <td>0.065</td>\n    </tr>\n    <tr>\n      <td>AL</td>\n      <td>Birmingham</td>\n      <td>0.065400</td>\n      <td>0.056</td>\n      <td>0.0600</td>\n      <td>0.093</td>\n    </tr>\n    <tr>\n      <td>...</td>\n      <td>...</td>\n      <td>...</td>\n      <td>...</td>\n      <td>...</td>\n      <td>...</td>\n    </tr>\n    <tr>\n      <td>WI</td>\n      <td>Wilson</td>\n      <td>0.055000</td>\n      <td>0.055</td>\n      <td>0.0550</td>\n      <td>0.055</td>\n    </tr>\n    <tr>\n      <td>WV</td>\n      <td>Lewisburg</td>\n      <td>0.062000</td>\n      <td>0.057</td>\n      <td>0.0620</td>\n      <td>0.067</td>\n    </tr>\n    <tr>\n      <td rowspan=\"3\" valign=\"top\">WY</td>\n      <td>Jackson</td>\n      <td>0.054857</td>\n      <td>0.050</td>\n      <td>0.0520</td>\n      <td>0.068</td>\n    </tr>\n    <tr>\n      <td>Pinedale</td>\n      <td>0.061000</td>\n      <td>0.050</td>\n      <td>0.0610</td>\n      <td>0.072</td>\n    </tr>\n    <tr>\n      <td>Sheridan</td>\n      <td>0.052833</td>\n      <td>0.046</td>\n      <td>0.0480</td>\n      <td>0.070</td>\n    </tr>\n  </tbody>\n</table>\n<p>401 rows × 4 columns</p>\n</div>"
     },
     "metadata": {},
     "execution_count": 66
    }
   ],
   "source": [
    "df3.groupby(['state','city']).aggregate(['mean','min','median','max'])['abv']"
   ]
  },
  {
   "cell_type": "markdown",
   "metadata": {},
   "source": [
    "## Ejercicio 21\n",
    "¿Cuáles son las cervezas más amargas que se consumen en Indiana, estado = `IN`?"
   ]
  },
  {
   "cell_type": "code",
   "execution_count": 80,
   "metadata": {},
   "outputs": [
    {
     "output_type": "execute_result",
     "data": {
      "text/plain": "                       name    ibu state\n479        Hopkick Dropkick  115.0    IN\n2191  Overlord Imperial IPA  115.0    IN\n811          Half Cycle IPA  104.0    IN\n2062                   Isis   91.0    IN\n2189                   Csar   90.0    IN",
      "text/html": "<div>\n<style scoped>\n    .dataframe tbody tr th:only-of-type {\n        vertical-align: middle;\n    }\n\n    .dataframe tbody tr th {\n        vertical-align: top;\n    }\n\n    .dataframe thead th {\n        text-align: right;\n    }\n</style>\n<table border=\"1\" class=\"dataframe\">\n  <thead>\n    <tr style=\"text-align: right;\">\n      <th></th>\n      <th>name</th>\n      <th>ibu</th>\n      <th>state</th>\n    </tr>\n  </thead>\n  <tbody>\n    <tr>\n      <td>479</td>\n      <td>Hopkick Dropkick</td>\n      <td>115.0</td>\n      <td>IN</td>\n    </tr>\n    <tr>\n      <td>2191</td>\n      <td>Overlord Imperial IPA</td>\n      <td>115.0</td>\n      <td>IN</td>\n    </tr>\n    <tr>\n      <td>811</td>\n      <td>Half Cycle IPA</td>\n      <td>104.0</td>\n      <td>IN</td>\n    </tr>\n    <tr>\n      <td>2062</td>\n      <td>Isis</td>\n      <td>91.0</td>\n      <td>IN</td>\n    </tr>\n    <tr>\n      <td>2189</td>\n      <td>Csar</td>\n      <td>90.0</td>\n      <td>IN</td>\n    </tr>\n  </tbody>\n</table>\n</div>"
     },
     "metadata": {},
     "execution_count": 80
    }
   ],
   "source": [
    "bitter =df3[df3['state'] == ' IN']\n",
    "bitter.sort_values(['ibu'], ascending = False)[['name','ibu','state']].head()"
   ]
  },
  {
   "cell_type": "markdown",
   "metadata": {},
   "source": [
    "## Ejercicio 22\n",
    "Obtén una tabla con los principales estadísticos del campo `ibu`,  a nivel ciudad"
   ]
  },
  {
   "cell_type": "code",
   "execution_count": 83,
   "metadata": {},
   "outputs": [
    {
     "output_type": "execute_result",
     "data": {
      "text/plain": "                count        mean        std    min     25%    50%     75%  \\\ncity                                                                         \nAbingdon          1.0  135.000000        NaN  135.0  135.00  135.0  135.00   \nAbita Springs     3.0   27.333333  21.455380   13.0   15.00   17.0   34.50   \nAda               0.0         NaN        NaN    NaN     NaN    NaN     NaN   \nAfton             4.0   43.000000  19.899749   22.0   28.00   45.0   60.00   \nAirway Heights    0.0         NaN        NaN    NaN     NaN    NaN     NaN   \n...               ...         ...        ...    ...     ...    ...     ...   \nWoodinville       4.0   46.750000  18.643587   27.0   39.75   44.0   51.00   \nWorcester         1.0   69.000000        NaN   69.0   69.00   69.0   69.00   \nYakima            2.0   54.000000  22.627417   38.0   46.00   54.0   62.00   \nYardley           0.0         NaN        NaN    NaN     NaN    NaN     NaN   \nYork              4.0   44.250000  22.779742   20.0   35.00   41.0   50.25   \n\n                  max  \ncity                   \nAbingdon        135.0  \nAbita Springs    52.0  \nAda               NaN  \nAfton            60.0  \nAirway Heights    NaN  \n...               ...  \nWoodinville      72.0  \nWorcester        69.0  \nYakima           70.0  \nYardley           NaN  \nYork             75.0  \n\n[384 rows x 8 columns]",
      "text/html": "<div>\n<style scoped>\n    .dataframe tbody tr th:only-of-type {\n        vertical-align: middle;\n    }\n\n    .dataframe tbody tr th {\n        vertical-align: top;\n    }\n\n    .dataframe thead th {\n        text-align: right;\n    }\n</style>\n<table border=\"1\" class=\"dataframe\">\n  <thead>\n    <tr style=\"text-align: right;\">\n      <th></th>\n      <th>count</th>\n      <th>mean</th>\n      <th>std</th>\n      <th>min</th>\n      <th>25%</th>\n      <th>50%</th>\n      <th>75%</th>\n      <th>max</th>\n    </tr>\n    <tr>\n      <th>city</th>\n      <th></th>\n      <th></th>\n      <th></th>\n      <th></th>\n      <th></th>\n      <th></th>\n      <th></th>\n      <th></th>\n    </tr>\n  </thead>\n  <tbody>\n    <tr>\n      <td>Abingdon</td>\n      <td>1.0</td>\n      <td>135.000000</td>\n      <td>NaN</td>\n      <td>135.0</td>\n      <td>135.00</td>\n      <td>135.0</td>\n      <td>135.00</td>\n      <td>135.0</td>\n    </tr>\n    <tr>\n      <td>Abita Springs</td>\n      <td>3.0</td>\n      <td>27.333333</td>\n      <td>21.455380</td>\n      <td>13.0</td>\n      <td>15.00</td>\n      <td>17.0</td>\n      <td>34.50</td>\n      <td>52.0</td>\n    </tr>\n    <tr>\n      <td>Ada</td>\n      <td>0.0</td>\n      <td>NaN</td>\n      <td>NaN</td>\n      <td>NaN</td>\n      <td>NaN</td>\n      <td>NaN</td>\n      <td>NaN</td>\n      <td>NaN</td>\n    </tr>\n    <tr>\n      <td>Afton</td>\n      <td>4.0</td>\n      <td>43.000000</td>\n      <td>19.899749</td>\n      <td>22.0</td>\n      <td>28.00</td>\n      <td>45.0</td>\n      <td>60.00</td>\n      <td>60.0</td>\n    </tr>\n    <tr>\n      <td>Airway Heights</td>\n      <td>0.0</td>\n      <td>NaN</td>\n      <td>NaN</td>\n      <td>NaN</td>\n      <td>NaN</td>\n      <td>NaN</td>\n      <td>NaN</td>\n      <td>NaN</td>\n    </tr>\n    <tr>\n      <td>...</td>\n      <td>...</td>\n      <td>...</td>\n      <td>...</td>\n      <td>...</td>\n      <td>...</td>\n      <td>...</td>\n      <td>...</td>\n      <td>...</td>\n    </tr>\n    <tr>\n      <td>Woodinville</td>\n      <td>4.0</td>\n      <td>46.750000</td>\n      <td>18.643587</td>\n      <td>27.0</td>\n      <td>39.75</td>\n      <td>44.0</td>\n      <td>51.00</td>\n      <td>72.0</td>\n    </tr>\n    <tr>\n      <td>Worcester</td>\n      <td>1.0</td>\n      <td>69.000000</td>\n      <td>NaN</td>\n      <td>69.0</td>\n      <td>69.00</td>\n      <td>69.0</td>\n      <td>69.00</td>\n      <td>69.0</td>\n    </tr>\n    <tr>\n      <td>Yakima</td>\n      <td>2.0</td>\n      <td>54.000000</td>\n      <td>22.627417</td>\n      <td>38.0</td>\n      <td>46.00</td>\n      <td>54.0</td>\n      <td>62.00</td>\n      <td>70.0</td>\n    </tr>\n    <tr>\n      <td>Yardley</td>\n      <td>0.0</td>\n      <td>NaN</td>\n      <td>NaN</td>\n      <td>NaN</td>\n      <td>NaN</td>\n      <td>NaN</td>\n      <td>NaN</td>\n      <td>NaN</td>\n    </tr>\n    <tr>\n      <td>York</td>\n      <td>4.0</td>\n      <td>44.250000</td>\n      <td>22.779742</td>\n      <td>20.0</td>\n      <td>35.00</td>\n      <td>41.0</td>\n      <td>50.25</td>\n      <td>75.0</td>\n    </tr>\n  </tbody>\n</table>\n<p>384 rows × 8 columns</p>\n</div>"
     },
     "metadata": {},
     "execution_count": 83
    }
   ],
   "source": [
    "df3.groupby('city')['ibu'].describe()"
   ]
  },
  {
   "cell_type": "markdown",
   "metadata": {},
   "source": [
    "## Ejercicio 23\n",
    "Consigue en un DataFrame todas las cervezas en cuyas cervecerías el mínimo nivel de `abv` sea de 0.07."
   ]
  },
  {
   "cell_type": "code",
   "execution_count": 88,
   "metadata": {},
   "outputs": [],
   "source": [
    "def filter_fc(x):\n",
    "    return  x['abv'].min() > 0.07\n"
   ]
  },
  {
   "cell_type": "code",
   "execution_count": 89,
   "metadata": {},
   "outputs": [
    {
     "output_type": "execute_result",
     "data": {
      "text/plain": "        abv    ibu    id                                     name  \\\n212   0.088  108.0  1806                      Hoptopus Double IPA   \n275   0.072   75.0  2620                           Saucy Intruder   \n309   0.080   80.0  1812                  Quarter Mile Double IPA   \n354   0.071   16.0  2062                              Noche Dulce   \n594   0.089  126.0  2440          Bay of Bengal Double IPA (2014)   \n690   0.072    NaN  1623                             Lift Off IPA   \n1142  0.071    NaN  2163                           Sucha Much IPA   \n1143  0.075   24.0  2162            Lewbricator Wheat Dopplebock    \n1186  0.080    NaN  1637  Bellingham Beer Week 2013 Collaboration   \n1409  0.082    NaN  1952                              Train Wreck   \n1666  0.099    NaN  1909                     Big Chuck Barleywine   \n1702  0.080    NaN  1375                       Nectar of the Hops   \n1703  0.080    NaN  1374                          Sunshine Nectar   \n1704  0.080    NaN  1373                   Black Raspberry Nectar   \n1828  0.074   60.0  1302                      Blur India Pale Ale   \n1895  0.085    NaN  2537          Monkey Dancing On A Razor Blade   \n1896  0.082    NaN  2536                              Tripel Deke   \n2128  0.080   22.0  2601                                Deduction   \n2312  0.092   25.0  1770                        Voodoo Love Child   \n2313  0.079   23.0  1769                  White Magick of the Sun   \n2314  0.075   31.0  1730                   Wynona's Big Brown Ale   \n2315  0.092   25.0  1729                                 Gran Met   \n2316  0.073   85.0  1603                           Good Vibes IPA   \n2317  0.075   85.0  1488                                 Pilzilla   \n2379  0.074   83.0   762                                  Ace IPA   \n2380  0.080   31.0   761                              P-51 Porter   \n\n                                   style  brewery_id  ounces  \\\n212       American Double / Imperial IPA         306    16.0   \n275                             Rye Beer          18    16.0   \n309       American Double / Imperial IPA         304    12.0   \n354                      American Porter         231    16.0   \n594       American Double / Imperial IPA          99    12.0   \n690                         American IPA         358    16.0   \n1142                        American IPA         208    12.0   \n1143                          Doppelbock         208    12.0   \n1186             Belgian Strong Dark Ale         354    16.0   \n1409            American Amber / Red Ale         260    16.0   \n1666                 American Barleywine         274    12.0   \n1702                                Mead         421    16.0   \n1703                                Mead         421    16.0   \n1704                                Mead         421    16.0   \n1828                        American IPA         432    12.0   \n1895                         Belgian IPA          64    24.0   \n1896                              Tripel          64    24.0   \n2128                              Dubbel          28    12.0   \n2312                              Tripel         322    12.0   \n2313                             Witbier         322    12.0   \n2314                  American Brown Ale         322    12.0   \n2315             Belgian Strong Pale Ale         322    12.0   \n2316                        American IPA         322    12.0   \n2317  American Double / Imperial Pilsner         322    12.0   \n2379                        American IPA         509    16.0   \n2380                     American Porter         509    16.0   \n\n                            brewery_name            city state  \n212                Beach Brewing Company  Virginia Beach    VA  \n275               Black Acre Brewing Co.    Indianapolis    IN  \n309                   Blue Hills Brewery          Canton    MA  \n354          Borderlands Brewing Company          Tucson    AZ  \n594   Christian Moerlein Brewing Company      Cincinnati    OH  \n690            Daredevil Brewing Company     Shelbyville    IN  \n1142              Kalona Brewing Company          Kalona    IA  \n1143              Kalona Brewing Company          Kalona    IA  \n1186                     Kulshan Brewery      Bellingham    WA  \n1409      Mountain Town Brewing Company   Mount Pleasant    MI  \n1666                    Portside Brewery       Cleveland    OH  \n1702                    Redstone Meadery         Boulder    CO  \n1703                    Redstone Meadery         Boulder    CO  \n1704                    Redstone Meadery         Boulder    CO  \n1828                   Seabright Brewery      Santa Cruz    CA  \n1895            SlapShot Brewing Company         Chicago    IL  \n1896            SlapShot Brewing Company         Chicago    IL  \n2128              Taxman Brewing Company    Bargersville    IN  \n2312                      Voodoo Brewery       Meadville    PA  \n2313                      Voodoo Brewery       Meadville    PA  \n2314                      Voodoo Brewery       Meadville    PA  \n2315                      Voodoo Brewery       Meadville    PA  \n2316                      Voodoo Brewery       Meadville    PA  \n2317                      Voodoo Brewery       Meadville    PA  \n2379                     Wingman Brewers          Tacoma    WA  \n2380                     Wingman Brewers          Tacoma    WA  ",
      "text/html": "<div>\n<style scoped>\n    .dataframe tbody tr th:only-of-type {\n        vertical-align: middle;\n    }\n\n    .dataframe tbody tr th {\n        vertical-align: top;\n    }\n\n    .dataframe thead th {\n        text-align: right;\n    }\n</style>\n<table border=\"1\" class=\"dataframe\">\n  <thead>\n    <tr style=\"text-align: right;\">\n      <th></th>\n      <th>abv</th>\n      <th>ibu</th>\n      <th>id</th>\n      <th>name</th>\n      <th>style</th>\n      <th>brewery_id</th>\n      <th>ounces</th>\n      <th>brewery_name</th>\n      <th>city</th>\n      <th>state</th>\n    </tr>\n  </thead>\n  <tbody>\n    <tr>\n      <td>212</td>\n      <td>0.088</td>\n      <td>108.0</td>\n      <td>1806</td>\n      <td>Hoptopus Double IPA</td>\n      <td>American Double / Imperial IPA</td>\n      <td>306</td>\n      <td>16.0</td>\n      <td>Beach Brewing Company</td>\n      <td>Virginia Beach</td>\n      <td>VA</td>\n    </tr>\n    <tr>\n      <td>275</td>\n      <td>0.072</td>\n      <td>75.0</td>\n      <td>2620</td>\n      <td>Saucy Intruder</td>\n      <td>Rye Beer</td>\n      <td>18</td>\n      <td>16.0</td>\n      <td>Black Acre Brewing Co.</td>\n      <td>Indianapolis</td>\n      <td>IN</td>\n    </tr>\n    <tr>\n      <td>309</td>\n      <td>0.080</td>\n      <td>80.0</td>\n      <td>1812</td>\n      <td>Quarter Mile Double IPA</td>\n      <td>American Double / Imperial IPA</td>\n      <td>304</td>\n      <td>12.0</td>\n      <td>Blue Hills Brewery</td>\n      <td>Canton</td>\n      <td>MA</td>\n    </tr>\n    <tr>\n      <td>354</td>\n      <td>0.071</td>\n      <td>16.0</td>\n      <td>2062</td>\n      <td>Noche Dulce</td>\n      <td>American Porter</td>\n      <td>231</td>\n      <td>16.0</td>\n      <td>Borderlands Brewing Company</td>\n      <td>Tucson</td>\n      <td>AZ</td>\n    </tr>\n    <tr>\n      <td>594</td>\n      <td>0.089</td>\n      <td>126.0</td>\n      <td>2440</td>\n      <td>Bay of Bengal Double IPA (2014)</td>\n      <td>American Double / Imperial IPA</td>\n      <td>99</td>\n      <td>12.0</td>\n      <td>Christian Moerlein Brewing Company</td>\n      <td>Cincinnati</td>\n      <td>OH</td>\n    </tr>\n    <tr>\n      <td>690</td>\n      <td>0.072</td>\n      <td>NaN</td>\n      <td>1623</td>\n      <td>Lift Off IPA</td>\n      <td>American IPA</td>\n      <td>358</td>\n      <td>16.0</td>\n      <td>Daredevil Brewing Company</td>\n      <td>Shelbyville</td>\n      <td>IN</td>\n    </tr>\n    <tr>\n      <td>1142</td>\n      <td>0.071</td>\n      <td>NaN</td>\n      <td>2163</td>\n      <td>Sucha Much IPA</td>\n      <td>American IPA</td>\n      <td>208</td>\n      <td>12.0</td>\n      <td>Kalona Brewing Company</td>\n      <td>Kalona</td>\n      <td>IA</td>\n    </tr>\n    <tr>\n      <td>1143</td>\n      <td>0.075</td>\n      <td>24.0</td>\n      <td>2162</td>\n      <td>Lewbricator Wheat Dopplebock</td>\n      <td>Doppelbock</td>\n      <td>208</td>\n      <td>12.0</td>\n      <td>Kalona Brewing Company</td>\n      <td>Kalona</td>\n      <td>IA</td>\n    </tr>\n    <tr>\n      <td>1186</td>\n      <td>0.080</td>\n      <td>NaN</td>\n      <td>1637</td>\n      <td>Bellingham Beer Week 2013 Collaboration</td>\n      <td>Belgian Strong Dark Ale</td>\n      <td>354</td>\n      <td>16.0</td>\n      <td>Kulshan Brewery</td>\n      <td>Bellingham</td>\n      <td>WA</td>\n    </tr>\n    <tr>\n      <td>1409</td>\n      <td>0.082</td>\n      <td>NaN</td>\n      <td>1952</td>\n      <td>Train Wreck</td>\n      <td>American Amber / Red Ale</td>\n      <td>260</td>\n      <td>16.0</td>\n      <td>Mountain Town Brewing Company</td>\n      <td>Mount Pleasant</td>\n      <td>MI</td>\n    </tr>\n    <tr>\n      <td>1666</td>\n      <td>0.099</td>\n      <td>NaN</td>\n      <td>1909</td>\n      <td>Big Chuck Barleywine</td>\n      <td>American Barleywine</td>\n      <td>274</td>\n      <td>12.0</td>\n      <td>Portside Brewery</td>\n      <td>Cleveland</td>\n      <td>OH</td>\n    </tr>\n    <tr>\n      <td>1702</td>\n      <td>0.080</td>\n      <td>NaN</td>\n      <td>1375</td>\n      <td>Nectar of the Hops</td>\n      <td>Mead</td>\n      <td>421</td>\n      <td>16.0</td>\n      <td>Redstone Meadery</td>\n      <td>Boulder</td>\n      <td>CO</td>\n    </tr>\n    <tr>\n      <td>1703</td>\n      <td>0.080</td>\n      <td>NaN</td>\n      <td>1374</td>\n      <td>Sunshine Nectar</td>\n      <td>Mead</td>\n      <td>421</td>\n      <td>16.0</td>\n      <td>Redstone Meadery</td>\n      <td>Boulder</td>\n      <td>CO</td>\n    </tr>\n    <tr>\n      <td>1704</td>\n      <td>0.080</td>\n      <td>NaN</td>\n      <td>1373</td>\n      <td>Black Raspberry Nectar</td>\n      <td>Mead</td>\n      <td>421</td>\n      <td>16.0</td>\n      <td>Redstone Meadery</td>\n      <td>Boulder</td>\n      <td>CO</td>\n    </tr>\n    <tr>\n      <td>1828</td>\n      <td>0.074</td>\n      <td>60.0</td>\n      <td>1302</td>\n      <td>Blur India Pale Ale</td>\n      <td>American IPA</td>\n      <td>432</td>\n      <td>12.0</td>\n      <td>Seabright Brewery</td>\n      <td>Santa Cruz</td>\n      <td>CA</td>\n    </tr>\n    <tr>\n      <td>1895</td>\n      <td>0.085</td>\n      <td>NaN</td>\n      <td>2537</td>\n      <td>Monkey Dancing On A Razor Blade</td>\n      <td>Belgian IPA</td>\n      <td>64</td>\n      <td>24.0</td>\n      <td>SlapShot Brewing Company</td>\n      <td>Chicago</td>\n      <td>IL</td>\n    </tr>\n    <tr>\n      <td>1896</td>\n      <td>0.082</td>\n      <td>NaN</td>\n      <td>2536</td>\n      <td>Tripel Deke</td>\n      <td>Tripel</td>\n      <td>64</td>\n      <td>24.0</td>\n      <td>SlapShot Brewing Company</td>\n      <td>Chicago</td>\n      <td>IL</td>\n    </tr>\n    <tr>\n      <td>2128</td>\n      <td>0.080</td>\n      <td>22.0</td>\n      <td>2601</td>\n      <td>Deduction</td>\n      <td>Dubbel</td>\n      <td>28</td>\n      <td>12.0</td>\n      <td>Taxman Brewing Company</td>\n      <td>Bargersville</td>\n      <td>IN</td>\n    </tr>\n    <tr>\n      <td>2312</td>\n      <td>0.092</td>\n      <td>25.0</td>\n      <td>1770</td>\n      <td>Voodoo Love Child</td>\n      <td>Tripel</td>\n      <td>322</td>\n      <td>12.0</td>\n      <td>Voodoo Brewery</td>\n      <td>Meadville</td>\n      <td>PA</td>\n    </tr>\n    <tr>\n      <td>2313</td>\n      <td>0.079</td>\n      <td>23.0</td>\n      <td>1769</td>\n      <td>White Magick of the Sun</td>\n      <td>Witbier</td>\n      <td>322</td>\n      <td>12.0</td>\n      <td>Voodoo Brewery</td>\n      <td>Meadville</td>\n      <td>PA</td>\n    </tr>\n    <tr>\n      <td>2314</td>\n      <td>0.075</td>\n      <td>31.0</td>\n      <td>1730</td>\n      <td>Wynona's Big Brown Ale</td>\n      <td>American Brown Ale</td>\n      <td>322</td>\n      <td>12.0</td>\n      <td>Voodoo Brewery</td>\n      <td>Meadville</td>\n      <td>PA</td>\n    </tr>\n    <tr>\n      <td>2315</td>\n      <td>0.092</td>\n      <td>25.0</td>\n      <td>1729</td>\n      <td>Gran Met</td>\n      <td>Belgian Strong Pale Ale</td>\n      <td>322</td>\n      <td>12.0</td>\n      <td>Voodoo Brewery</td>\n      <td>Meadville</td>\n      <td>PA</td>\n    </tr>\n    <tr>\n      <td>2316</td>\n      <td>0.073</td>\n      <td>85.0</td>\n      <td>1603</td>\n      <td>Good Vibes IPA</td>\n      <td>American IPA</td>\n      <td>322</td>\n      <td>12.0</td>\n      <td>Voodoo Brewery</td>\n      <td>Meadville</td>\n      <td>PA</td>\n    </tr>\n    <tr>\n      <td>2317</td>\n      <td>0.075</td>\n      <td>85.0</td>\n      <td>1488</td>\n      <td>Pilzilla</td>\n      <td>American Double / Imperial Pilsner</td>\n      <td>322</td>\n      <td>12.0</td>\n      <td>Voodoo Brewery</td>\n      <td>Meadville</td>\n      <td>PA</td>\n    </tr>\n    <tr>\n      <td>2379</td>\n      <td>0.074</td>\n      <td>83.0</td>\n      <td>762</td>\n      <td>Ace IPA</td>\n      <td>American IPA</td>\n      <td>509</td>\n      <td>16.0</td>\n      <td>Wingman Brewers</td>\n      <td>Tacoma</td>\n      <td>WA</td>\n    </tr>\n    <tr>\n      <td>2380</td>\n      <td>0.080</td>\n      <td>31.0</td>\n      <td>761</td>\n      <td>P-51 Porter</td>\n      <td>American Porter</td>\n      <td>509</td>\n      <td>16.0</td>\n      <td>Wingman Brewers</td>\n      <td>Tacoma</td>\n      <td>WA</td>\n    </tr>\n  </tbody>\n</table>\n</div>"
     },
     "metadata": {},
     "execution_count": 89
    }
   ],
   "source": [
    "df3.groupby('brewery_name').filter(filter_fc)"
   ]
  },
  {
   "cell_type": "markdown",
   "metadata": {},
   "source": [
    "## Ejercicio 24\n",
    "Teniendo en cuenta la media de amargor de todas las cervezas, obtén una tabla con las cervezas cuyos estados tengan una media de amargor en cerveza por encima de la media"
   ]
  },
  {
   "cell_type": "code",
   "execution_count": 91,
   "metadata": {},
   "outputs": [
    {
     "output_type": "execute_result",
     "data": {
      "text/plain": "42.71316725978647"
     },
     "metadata": {},
     "execution_count": 91
    }
   ],
   "source": [
    "mead_tot_ibu = df3['ibu'].mean()\n",
    "mead_tot_ibu"
   ]
  },
  {
   "cell_type": "code",
   "execution_count": 92,
   "metadata": {},
   "outputs": [
    {
     "output_type": "error",
     "ename": "TypeError",
     "evalue": "filter function returned a Series, but expected a scalar bool",
     "traceback": [
      "\u001b[1;31m---------------------------------------------------------------------------\u001b[0m",
      "\u001b[1;31mTypeError\u001b[0m                                 Traceback (most recent call last)",
      "\u001b[1;32m<ipython-input-92-8d2fe821956f>\u001b[0m in \u001b[0;36m<module>\u001b[1;34m\u001b[0m\n\u001b[0;32m      2\u001b[0m     \u001b[1;32mreturn\u001b[0m \u001b[0mx\u001b[0m\u001b[1;33m[\u001b[0m\u001b[1;34m'ibu'\u001b[0m\u001b[1;33m]\u001b[0m \u001b[1;33m>\u001b[0m \u001b[0mmead_tot_ibu\u001b[0m\u001b[1;33m\u001b[0m\u001b[1;33m\u001b[0m\u001b[0m\n\u001b[0;32m      3\u001b[0m \u001b[1;33m\u001b[0m\u001b[0m\n\u001b[1;32m----> 4\u001b[1;33m \u001b[0mdf3\u001b[0m\u001b[1;33m.\u001b[0m\u001b[0mgroupby\u001b[0m\u001b[1;33m(\u001b[0m\u001b[1;34m'state'\u001b[0m\u001b[1;33m)\u001b[0m\u001b[1;33m.\u001b[0m\u001b[0mfilter\u001b[0m\u001b[1;33m(\u001b[0m\u001b[0mfilter_fc\u001b[0m\u001b[1;33m)\u001b[0m\u001b[1;33m\u001b[0m\u001b[1;33m\u001b[0m\u001b[0m\n\u001b[0m",
      "\u001b[1;32m~\\Anaconda3\\lib\\site-packages\\pandas\\core\\groupby\\generic.py\u001b[0m in \u001b[0;36mfilter\u001b[1;34m(self, func, dropna, *args, **kwargs)\u001b[0m\n\u001b[0;32m    730\u001b[0m                 raise TypeError(\n\u001b[0;32m    731\u001b[0m                     \u001b[1;34m\"filter function returned a %s, \"\u001b[0m\u001b[1;33m\u001b[0m\u001b[1;33m\u001b[0m\u001b[0m\n\u001b[1;32m--> 732\u001b[1;33m                     \u001b[1;34m\"but expected a scalar bool\"\u001b[0m \u001b[1;33m%\u001b[0m \u001b[0mtype\u001b[0m\u001b[1;33m(\u001b[0m\u001b[0mres\u001b[0m\u001b[1;33m)\u001b[0m\u001b[1;33m.\u001b[0m\u001b[0m__name__\u001b[0m\u001b[1;33m\u001b[0m\u001b[1;33m\u001b[0m\u001b[0m\n\u001b[0m\u001b[0;32m    733\u001b[0m                 )\n\u001b[0;32m    734\u001b[0m \u001b[1;33m\u001b[0m\u001b[0m\n",
      "\u001b[1;31mTypeError\u001b[0m: filter function returned a Series, but expected a scalar bool"
     ]
    }
   ],
   "source": [
    "def filter_fc(x):\n",
    "    return x['ibu'].mean() > mead_tot_ibu\n",
    "\n",
    "df3.groupby('state').filter(filter_fc)"
   ]
  },
  {
   "cell_type": "code",
   "execution_count": null,
   "metadata": {},
   "outputs": [],
   "source": []
  }
 ],
 "metadata": {
  "kernelspec": {
   "display_name": "Python 3",
   "language": "python",
   "name": "python3"
  },
  "language_info": {
   "codemirror_mode": {
    "name": "ipython",
    "version": 3
   },
   "file_extension": ".py",
   "mimetype": "text/x-python",
   "name": "python",
   "nbconvert_exporter": "python",
   "pygments_lexer": "ipython3",
   "version": "3.7.6"
  }
 },
 "nbformat": 4,
 "nbformat_minor": 4
}