{
 "cells": [
  {
   "cell_type": "markdown",
   "metadata": {
    "id": "zWl5iuMThonQ"
   },
   "source": [
    "# Bajando datos de diferentes fuentes. Ejemplos"
   ]
  },
  {
   "cell_type": "markdown",
   "metadata": {
    "id": "G8fjA0nyhonR"
   },
   "source": [
    "## Bajar datos de Bicimad"
   ]
  },
  {
   "cell_type": "code",
   "execution_count": 1,
   "metadata": {
    "id": "4xGwVDZxhonR"
   },
   "outputs": [],
   "source": [
    "import requests\n",
    "import zipfile\n",
    "import pandas as pd \n",
    "\n",
    "url = 'https://opendata.emtmadrid.es/getattachment/7517a650-ccdf-4ab1-b1b0-a1d13694472e/201906_Usage_Bicimad.aspx'\n",
    "\n",
    "filename = 'bicis.zip'\n",
    "\n",
    "r = requests.get(url, allow_redirects = True)"
   ]
  },
  {
   "cell_type": "code",
   "execution_count": 2,
   "metadata": {
    "id": "uNGffwephonX"
   },
   "outputs": [],
   "source": [
    "with open(filename, 'wb') as f: #wb=='write binary', abro el fichero y escribo en él\n",
    "    # con with los recursos se cierran bien. para que no se quede abierto y limite para seguir a trabajando por no haber cerrado. Así es automático.\n",
    "    f.write(r.content)\n",
    "\n",
    "with zipfile.ZipFile(filename, 'r') as zip_ref: #r == 'read'\n",
    "    zip_ref.extractall(\".\") #Se extraen todo aquí, en '.' == directorio actual"
   ]
  },
  {
   "cell_type": "code",
   "execution_count": 3,
   "metadata": {
    "colab": {
     "base_uri": "https://localhost:8080/",
     "height": 309
    },
    "id": "CF9u6xluhonZ",
    "outputId": "2e4e08fe-735e-4d35-ced1-2c83fc2fc743"
   },
   "outputs": [],
   "source": [
    "datos_bicis = pd.read_json('201906_Usage_Bicimad.json', lines=True, encoding= 'latin-1')"
   ]
  },
  {
   "cell_type": "code",
   "execution_count": 4,
   "metadata": {},
   "outputs": [
    {
     "output_type": "execute_result",
     "data": {
      "text/plain": [
       "                                    _id  \\\n",
       "0  {'$oid': '5cf83b752f3843a016be4e2f'}   \n",
       "1  {'$oid': '5cf83b762f3843a016be4e48'}   \n",
       "2  {'$oid': '5cf83b762f3843a016be4e4f'}   \n",
       "\n",
       "                                       user_day_code  idplug_base  user_type  \\\n",
       "0  e4d55deb9ac172a8d8f5f0a32599815bd51b7c8760d67e...           21          1   \n",
       "1  8a0c4123e924a50a958f51985eb71aea750fb072438035...           19          1   \n",
       "2  a6a9c1f74a68496000542210abc4fc2eba79e2756ad535...           17          1   \n",
       "\n",
       "   idunplug_base  travel_time  idunplug_station  ageRange  idplug_station  \\\n",
       "0              8          219                90         0              66   \n",
       "1             19          359                71         4             136   \n",
       "2              7          375                39         4              38   \n",
       "\n",
       "                             unplug_hourTime zip_code track  \n",
       "0  {'$date': '2019-06-01T00:00:00.000+0200'}            NaN  \n",
       "1  {'$date': '2019-06-01T00:00:00.000+0200'}    28039   NaN  \n",
       "2  {'$date': '2019-06-01T00:00:00.000+0200'}    28013   NaN  "
      ],
      "text/html": "<div>\n<style scoped>\n    .dataframe tbody tr th:only-of-type {\n        vertical-align: middle;\n    }\n\n    .dataframe tbody tr th {\n        vertical-align: top;\n    }\n\n    .dataframe thead th {\n        text-align: right;\n    }\n</style>\n<table border=\"1\" class=\"dataframe\">\n  <thead>\n    <tr style=\"text-align: right;\">\n      <th></th>\n      <th>_id</th>\n      <th>user_day_code</th>\n      <th>idplug_base</th>\n      <th>user_type</th>\n      <th>idunplug_base</th>\n      <th>travel_time</th>\n      <th>idunplug_station</th>\n      <th>ageRange</th>\n      <th>idplug_station</th>\n      <th>unplug_hourTime</th>\n      <th>zip_code</th>\n      <th>track</th>\n    </tr>\n  </thead>\n  <tbody>\n    <tr>\n      <td>0</td>\n      <td>{'$oid': '5cf83b752f3843a016be4e2f'}</td>\n      <td>e4d55deb9ac172a8d8f5f0a32599815bd51b7c8760d67e...</td>\n      <td>21</td>\n      <td>1</td>\n      <td>8</td>\n      <td>219</td>\n      <td>90</td>\n      <td>0</td>\n      <td>66</td>\n      <td>{'$date': '2019-06-01T00:00:00.000+0200'}</td>\n      <td></td>\n      <td>NaN</td>\n    </tr>\n    <tr>\n      <td>1</td>\n      <td>{'$oid': '5cf83b762f3843a016be4e48'}</td>\n      <td>8a0c4123e924a50a958f51985eb71aea750fb072438035...</td>\n      <td>19</td>\n      <td>1</td>\n      <td>19</td>\n      <td>359</td>\n      <td>71</td>\n      <td>4</td>\n      <td>136</td>\n      <td>{'$date': '2019-06-01T00:00:00.000+0200'}</td>\n      <td>28039</td>\n      <td>NaN</td>\n    </tr>\n    <tr>\n      <td>2</td>\n      <td>{'$oid': '5cf83b762f3843a016be4e4f'}</td>\n      <td>a6a9c1f74a68496000542210abc4fc2eba79e2756ad535...</td>\n      <td>17</td>\n      <td>1</td>\n      <td>7</td>\n      <td>375</td>\n      <td>39</td>\n      <td>4</td>\n      <td>38</td>\n      <td>{'$date': '2019-06-01T00:00:00.000+0200'}</td>\n      <td>28013</td>\n      <td>NaN</td>\n    </tr>\n  </tbody>\n</table>\n</div>"
     },
     "metadata": {},
     "execution_count": 4
    }
   ],
   "source": [
    "datos_bicis.head(3)"
   ]
  },
  {
   "cell_type": "code",
   "execution_count": 5,
   "metadata": {},
   "outputs": [
    {
     "output_type": "stream",
     "name": "stdout",
     "text": [
      "<class 'pandas.core.frame.DataFrame'>\nRangeIndex: 450811 entries, 0 to 450810\nData columns (total 12 columns):\n_id                 450811 non-null object\nuser_day_code       450811 non-null object\nidplug_base         450811 non-null int64\nuser_type           450811 non-null int64\nidunplug_base       450811 non-null int64\ntravel_time         450811 non-null int64\nidunplug_station    450811 non-null int64\nageRange            450811 non-null int64\nidplug_station      450811 non-null int64\nunplug_hourTime     450811 non-null object\nzip_code            450811 non-null object\ntrack               115594 non-null object\ndtypes: int64(7), object(5)\nmemory usage: 41.3+ MB\n"
     ]
    }
   ],
   "source": [
    "datos_bicis.info()"
   ]
  },
  {
   "cell_type": "markdown",
   "metadata": {
    "id": "n-15pM_qhond"
   },
   "source": [
    "## Importando datos desde la API de INE"
   ]
  },
  {
   "cell_type": "code",
   "execution_count": 6,
   "metadata": {
    "id": "02_rQqaxhond",
    "outputId": "9c045e89-11f0-4224-f0ec-ae74f270da37"
   },
   "outputs": [
    {
     "output_type": "stream",
     "name": "stdout",
     "text": [
      "{'COD': 'IPC118150', 'Nombre': 'Andalucía, Total, Base 2011, General, Variación mensual', 'FK_Unidad': 135, 'FK_Escala': 1, 'Data': [{'Fecha': 1451602800000, 'FK_TipoDato': 1, 'FK_Periodo': 1, 'Anyo': 2016, 'Valor': -2.0, 'Secreto': False}, {'Fecha': 1454281200000, 'FK_TipoDato': 1, 'FK_Periodo': 2, 'Anyo': 2016, 'Valor': -0.4, 'Secreto': False}, {'Fecha': 1456786800000, 'FK_TipoDato': 1, 'FK_Periodo': 3, 'Anyo': 2016, 'Valor': 0.8, 'Secreto': False}, {'Fecha': 1459461600000, 'FK_TipoDato': 1, 'FK_Periodo': 4, 'Anyo': 2016, 'Valor': 0.8, 'Secreto': False}, {'Fecha': 1462053600000, 'FK_TipoDato': 1, 'FK_Periodo': 5, 'Anyo': 2016, 'Valor': 0.6, 'Secreto': False}, {'Fecha': 1464732000000, 'FK_TipoDato': 1, 'FK_Periodo': 6, 'Anyo': 2016, 'Valor': 0.4, 'Secreto': False}, {'Fecha': 1467324000000, 'FK_TipoDato': 1, 'FK_Periodo': 7, 'Anyo': 2016, 'Valor': -0.9, 'Secreto': False}, {'Fecha': 1470002400000, 'FK_TipoDato': 1, 'FK_Periodo': 8, 'Anyo': 2016, 'Valor': 0.1, 'Secreto': False}, {'Fecha': 1472680800000, 'FK_TipoDato': 1, 'FK_Periodo': 9, 'Anyo': 2016, 'Valor': 0.2, 'Secreto': False}, {'Fecha': 1475272800000, 'FK_TipoDato': 1, 'FK_Periodo': 10, 'Anyo': 2016, 'Valor': 1.2, 'Secreto': False}, {'Fecha': 1477954800000, 'FK_TipoDato': 1, 'FK_Periodo': 11, 'Anyo': 2016, 'Valor': 0.4, 'Secreto': False}, {'Fecha': 1480546800000, 'FK_TipoDato': 1, 'FK_Periodo': 12, 'Anyo': 2016, 'Valor': 0.5, 'Secreto': False}]}\n<class 'list'>\n"
     ]
    }
   ],
   "source": [
    "url_plantilla = 'http://servicios.ine.es/wstempus/js/ES/DATOS_SERIE/{codigo}?nult={num_datos}'\n",
    "\n",
    "# codigo de la serie de datos a consultar y numero de datos\n",
    "codigo ='IPC118150' #Datos de variación del IPC en andalucia\n",
    "30013\n",
    "num_datos = 12 #últimos doce datos\n",
    "\n",
    "url = url_plantilla.format(codigo=codigo, num_datos=num_datos)\n",
    "# realizar la descarga de los datos usando la libreria request, y leyendo el formato json\n",
    "respuesta = requests.get(url)\n",
    "datos = respuesta.json()\n",
    "print(datos)\n",
    "\n",
    "# obtenemos el nombre de la serie para nombrar la columna en el data frame\n",
    "nombre = datos['Nombre']\n",
    "\n",
    "# Creamos una serie con las fechas, y las convertimos a zona horaria española y formateamos\n",
    "fecha_serie_utc = pd.to_datetime([x['Fecha'] for x in datos['Data']], unit='ms', utc= True)\n",
    "\n",
    "# en x la columna Fecha sale del valor en datos['Data'] pero formateando a fecha\n",
    "fecha_serie_madrid = fecha_serie_utc.tz_convert('Europe/Madrid')\n",
    "\n",
    "fecha_serie = [x.tz_localize(None).date() for x in fecha_serie_madrid]\n",
    "\n",
    "\n",
    "# creamos una lista con los valores de la serie que vienen en el tag 'Valor'\n",
    "\n",
    "ocupados_serie = [x['Valor'] for x in datos['Data']]\n",
    "\n",
    "print(type(ocupados_serie))"
   ]
  },
  {
   "cell_type": "code",
   "execution_count": 7,
   "metadata": {
    "id": "MADrbCAmhong"
   },
   "outputs": [
    {
     "output_type": "execute_result",
     "data": {
      "text/plain": [
       "            Andalucía, Total, Base 2011, General, Variación mensual\n",
       "2016-01-01                                               -2.0      \n",
       "2016-02-01                                               -0.4      \n",
       "2016-03-01                                                0.8      \n",
       "2016-04-01                                                0.8      \n",
       "2016-05-01                                                0.6      \n",
       "2016-06-01                                                0.4      \n",
       "2016-07-01                                               -0.9      \n",
       "2016-08-01                                                0.1      \n",
       "2016-09-01                                                0.2      \n",
       "2016-10-01                                                1.2      \n",
       "2016-11-01                                                0.4      \n",
       "2016-12-01                                                0.5      "
      ],
      "text/html": "<div>\n<style scoped>\n    .dataframe tbody tr th:only-of-type {\n        vertical-align: middle;\n    }\n\n    .dataframe tbody tr th {\n        vertical-align: top;\n    }\n\n    .dataframe thead th {\n        text-align: right;\n    }\n</style>\n<table border=\"1\" class=\"dataframe\">\n  <thead>\n    <tr style=\"text-align: right;\">\n      <th></th>\n      <th>Andalucía, Total, Base 2011, General, Variación mensual</th>\n    </tr>\n  </thead>\n  <tbody>\n    <tr>\n      <td>2016-01-01</td>\n      <td>-2.0</td>\n    </tr>\n    <tr>\n      <td>2016-02-01</td>\n      <td>-0.4</td>\n    </tr>\n    <tr>\n      <td>2016-03-01</td>\n      <td>0.8</td>\n    </tr>\n    <tr>\n      <td>2016-04-01</td>\n      <td>0.8</td>\n    </tr>\n    <tr>\n      <td>2016-05-01</td>\n      <td>0.6</td>\n    </tr>\n    <tr>\n      <td>2016-06-01</td>\n      <td>0.4</td>\n    </tr>\n    <tr>\n      <td>2016-07-01</td>\n      <td>-0.9</td>\n    </tr>\n    <tr>\n      <td>2016-08-01</td>\n      <td>0.1</td>\n    </tr>\n    <tr>\n      <td>2016-09-01</td>\n      <td>0.2</td>\n    </tr>\n    <tr>\n      <td>2016-10-01</td>\n      <td>1.2</td>\n    </tr>\n    <tr>\n      <td>2016-11-01</td>\n      <td>0.4</td>\n    </tr>\n    <tr>\n      <td>2016-12-01</td>\n      <td>0.5</td>\n    </tr>\n  </tbody>\n</table>\n</div>"
     },
     "metadata": {},
     "execution_count": 7
    }
   ],
   "source": [
    "# contruimos un dataframe de pandas con los valores\n",
    "\n",
    "tabla = pd.DataFrame(ocupados_serie, index=fecha_serie, columns=[nombre])\n",
    "tabla"
   ]
  },
  {
   "cell_type": "code",
   "execution_count": null,
   "metadata": {
    "id": "Su7RWmOhhoni",
    "outputId": "1693d7a7-3ad5-4bbe-c599-2b84b279faca"
   },
   "outputs": [],
   "source": []
  },
  {
   "cell_type": "markdown",
   "metadata": {
    "id": "JpS8k_tshonl"
   },
   "source": [
    "## Web scrapping de IMDB"
   ]
  },
  {
   "source": [
    "WEB_SCRAPPIN, es un proceso automático(tipo robot-araña recorre la web) con python, através de sus librerías, para detectar elementos ... 'rascando' en internet."
   ],
   "cell_type": "markdown",
   "metadata": {}
  },
  {
   "cell_type": "code",
   "execution_count": 8,
   "metadata": {
    "id": "mq61vOa_honl",
    "outputId": "51d09478-3b42-4620-c0dc-9349c9ad1327"
   },
   "outputs": [
    {
     "output_type": "execute_result",
     "data": {
      "text/plain": [
       "               movie_title  year place  \\\n",
       "0          Cadena perpetua  1994     1   \n",
       "1               El padrino  1972     2   \n",
       "2     El padrino: Parte II  1974     3   \n",
       "3      El caballero oscuro  2008     4   \n",
       "4    12 hombres sin piedad  1957     5   \n",
       "..                     ...   ...   ...   \n",
       "245             Terminator  1984   246   \n",
       "246                Aladdín  1992   247   \n",
       "247             Mandarinas  2013   248   \n",
       "248         A Silent Voice  2016   249   \n",
       "249     Tres colores: Rojo  1994   250   \n",
       "\n",
       "                                             star_cast             rating  \\\n",
       "0    Frank Darabont (dir.), Tim Robbins, Morgan Fre...  9.222777188736787   \n",
       "1    Francis Ford Coppola (dir.), Marlon Brando, Al...  9.148708938669726   \n",
       "2    Francis Ford Coppola (dir.), Al Pacino, Robert...  8.980959295423688   \n",
       "3    Christopher Nolan (dir.), Christian Bale, Heat...  8.973507640978838   \n",
       "4        Sidney Lumet (dir.), Henry Fonda, Lee J. Cobb   8.93076327560344   \n",
       "..                                                 ...                ...   \n",
       "245  James Cameron (dir.), Arnold Schwarzenegger, L...  8.009028394816163   \n",
       "246  Ron Clements (dir.), Scott Weinger, Robin Will...  8.007549926555294   \n",
       "247  Zaza Urushadze (dir.), Lembit Ulfsak, Elmo Nüg...  8.007547658603647   \n",
       "248      Naoko Yamada (dir.), Miyu Irino, Saori Hayami  8.007273336080628   \n",
       "249  Krzysztof Kieslowski (dir.), Irène Jacob, Jean...  8.007051919464457   \n",
       "\n",
       "     vote               link  \n",
       "0    None  /title/tt0111161/  \n",
       "1    None  /title/tt0068646/  \n",
       "2    None  /title/tt0071562/  \n",
       "3    None  /title/tt0468569/  \n",
       "4    None  /title/tt0050083/  \n",
       "..    ...                ...  \n",
       "245  None  /title/tt0088247/  \n",
       "246  None  /title/tt0103639/  \n",
       "247  None  /title/tt2991224/  \n",
       "248  None  /title/tt5323662/  \n",
       "249  None  /title/tt0111495/  \n",
       "\n",
       "[250 rows x 7 columns]"
      ],
      "text/html": "<div>\n<style scoped>\n    .dataframe tbody tr th:only-of-type {\n        vertical-align: middle;\n    }\n\n    .dataframe tbody tr th {\n        vertical-align: top;\n    }\n\n    .dataframe thead th {\n        text-align: right;\n    }\n</style>\n<table border=\"1\" class=\"dataframe\">\n  <thead>\n    <tr style=\"text-align: right;\">\n      <th></th>\n      <th>movie_title</th>\n      <th>year</th>\n      <th>place</th>\n      <th>star_cast</th>\n      <th>rating</th>\n      <th>vote</th>\n      <th>link</th>\n    </tr>\n  </thead>\n  <tbody>\n    <tr>\n      <td>0</td>\n      <td>Cadena perpetua</td>\n      <td>1994</td>\n      <td>1</td>\n      <td>Frank Darabont (dir.), Tim Robbins, Morgan Fre...</td>\n      <td>9.222777188736787</td>\n      <td>None</td>\n      <td>/title/tt0111161/</td>\n    </tr>\n    <tr>\n      <td>1</td>\n      <td>El padrino</td>\n      <td>1972</td>\n      <td>2</td>\n      <td>Francis Ford Coppola (dir.), Marlon Brando, Al...</td>\n      <td>9.148708938669726</td>\n      <td>None</td>\n      <td>/title/tt0068646/</td>\n    </tr>\n    <tr>\n      <td>2</td>\n      <td>El padrino: Parte II</td>\n      <td>1974</td>\n      <td>3</td>\n      <td>Francis Ford Coppola (dir.), Al Pacino, Robert...</td>\n      <td>8.980959295423688</td>\n      <td>None</td>\n      <td>/title/tt0071562/</td>\n    </tr>\n    <tr>\n      <td>3</td>\n      <td>El caballero oscuro</td>\n      <td>2008</td>\n      <td>4</td>\n      <td>Christopher Nolan (dir.), Christian Bale, Heat...</td>\n      <td>8.973507640978838</td>\n      <td>None</td>\n      <td>/title/tt0468569/</td>\n    </tr>\n    <tr>\n      <td>4</td>\n      <td>12 hombres sin piedad</td>\n      <td>1957</td>\n      <td>5</td>\n      <td>Sidney Lumet (dir.), Henry Fonda, Lee J. Cobb</td>\n      <td>8.93076327560344</td>\n      <td>None</td>\n      <td>/title/tt0050083/</td>\n    </tr>\n    <tr>\n      <td>...</td>\n      <td>...</td>\n      <td>...</td>\n      <td>...</td>\n      <td>...</td>\n      <td>...</td>\n      <td>...</td>\n      <td>...</td>\n    </tr>\n    <tr>\n      <td>245</td>\n      <td>Terminator</td>\n      <td>1984</td>\n      <td>246</td>\n      <td>James Cameron (dir.), Arnold Schwarzenegger, L...</td>\n      <td>8.009028394816163</td>\n      <td>None</td>\n      <td>/title/tt0088247/</td>\n    </tr>\n    <tr>\n      <td>246</td>\n      <td>Aladdín</td>\n      <td>1992</td>\n      <td>247</td>\n      <td>Ron Clements (dir.), Scott Weinger, Robin Will...</td>\n      <td>8.007549926555294</td>\n      <td>None</td>\n      <td>/title/tt0103639/</td>\n    </tr>\n    <tr>\n      <td>247</td>\n      <td>Mandarinas</td>\n      <td>2013</td>\n      <td>248</td>\n      <td>Zaza Urushadze (dir.), Lembit Ulfsak, Elmo Nüg...</td>\n      <td>8.007547658603647</td>\n      <td>None</td>\n      <td>/title/tt2991224/</td>\n    </tr>\n    <tr>\n      <td>248</td>\n      <td>A Silent Voice</td>\n      <td>2016</td>\n      <td>249</td>\n      <td>Naoko Yamada (dir.), Miyu Irino, Saori Hayami</td>\n      <td>8.007273336080628</td>\n      <td>None</td>\n      <td>/title/tt5323662/</td>\n    </tr>\n    <tr>\n      <td>249</td>\n      <td>Tres colores: Rojo</td>\n      <td>1994</td>\n      <td>250</td>\n      <td>Krzysztof Kieslowski (dir.), Irène Jacob, Jean...</td>\n      <td>8.007051919464457</td>\n      <td>None</td>\n      <td>/title/tt0111495/</td>\n    </tr>\n  </tbody>\n</table>\n<p>250 rows × 7 columns</p>\n</div>"
     },
     "metadata": {},
     "execution_count": 8
    }
   ],
   "source": [
    "from bs4 import BeautifulSoup\n",
    "import requests\n",
    "import re\n",
    "import pandas as pd \n",
    "\n",
    "# Download IMDB's Top 250 data\n",
    "\n",
    "url = 'http://www.imdb.com/chart/top'\n",
    "response = requests.get(url)\n",
    "soup = BeautifulSoup(response.text, 'lxml')\n",
    "movies = soup.select('td.titleColumn')\n",
    "links = [a.attrs.get('href') for a in soup.select('td.titleColumn a')]\n",
    "crew = [a.attrs.get('title') for a in soup.select('td.titleColumn a')]\n",
    "ratings = [b.attrs.get('data-value') for b in soup.select('td.posterColumn span[name=ir]')]\n",
    "votes = [b.attrs.get('data-value') for b in soup.select('td.ratingColumn strong')]\n",
    "\n",
    "imdb = []\n",
    "\n",
    "# Store each item into dictionary (data), then put those into a list (imdb)\n",
    "\n",
    "for index in range(0, len(movies)):\n",
    "    # Seperate movie into: 'place', 'title', 'year'\n",
    "    movie_string = movies[index].get_text()\n",
    "    movie = (' '.join(movie_string.split()).replace('.', ''))\n",
    "    movie_title = movie[len(str(index))+1:-7]\n",
    "    year = re.search('\\((.*?)\\)', movie_string).group(1)\n",
    "    place = movie[:len(str(index))-(len(movie))]\n",
    "    data = {\"movie_title\": movie_title,\n",
    "            \"year\": year,\n",
    "            \"place\": place,\n",
    "            \"star_cast\": crew[index],\n",
    "            \"rating\": ratings[index],\n",
    "            \"vote\": votes[index],\n",
    "            \"link\": links[index]}\n",
    "    imdb.append(data)\n",
    "df = pd.DataFrame(imdb)\n",
    "df\n",
    "\n",
    "\n",
    "#for item in imdb:\n",
    "#    print(item['place'], '-', item['movie_title'], '('+item['year']+') -', 'Starring:', item['star_cast'])"
   ]
  },
  {
   "cell_type": "markdown",
   "metadata": {
    "id": "KoE5s2BThono"
   },
   "source": [
    "## Accediendo a datos de twitter"
   ]
  },
  {
   "cell_type": "code",
   "execution_count": 9,
   "metadata": {
    "id": "kTUQb5vphono"
   },
   "outputs": [],
   "source": [
    "#!pip install tweepy \n",
    "\n",
    "import tweepy\n",
    "import time\n",
    "import csv\n",
    "\n",
    "# estos token y keys hay que generarlos desde Twitter: https://apps.twitter.com\n",
    "# https://developer.twitter.com/\n",
    "# hay que registrarse una cuenta de desarrollador de aplicaciones que usan Twitter\n",
    "# esos token y keys caducan pasado un tiempo (nos avisa al crearlos)\n",
    "\n",
    "access_token = \"341758650-EHFbLBVbH4cgecuSU5gzRY19VPo9W4VZPWSDdY3a\"  \n",
    "access_token_secret = \"nX7FA4I0GfDxKwdQfhOxY8ylMIC4mzDGfApCIEJuMVWLM\"  \n",
    "consumer_key = \"dyTOIkKEeJDXuIlI8fNhT8e91\" \n",
    "consumer_secret = \"rMPGd7X4gFzjxS8lYJ8GagwHAGG4bw3fqJZb9MVVhb4HN2ICnI\"\n",
    " "
   ]
  },
  {
   "cell_type": "code",
   "execution_count": 10,
   "metadata": {},
   "outputs": [
    {
     "output_type": "execute_result",
     "data": {
      "text/plain": [
       "' https://realpython.com/twitter-bot-python-tweepy/'"
      ]
     },
     "metadata": {},
     "execution_count": 10
    }
   ],
   "source": [
    "''' https://realpython.com/twitter-bot-python-tweepy/'''"
   ]
  },
  {
   "cell_type": "code",
   "execution_count": 11,
   "metadata": {},
   "outputs": [],
   "source": [
    "#Authenticate to twitter\n",
    "auth = tweepy.OAuthHandler(consumer_key,consumer_secret)\n",
    "auth.set_access_token(access_token,access_token_secret)\n",
    "api = tweepy.API(auth,wait_on_rate_limit=True)"
   ]
  },
  {
   "cell_type": "code",
   "execution_count": 12,
   "metadata": {
    "id": "tkNpF4Uwhonq",
    "outputId": "b8c02159-e16f-460f-eed5-2331e3f9c204",
    "tags": [
     "outputPrepend"
    ]
   },
   "outputs": [
    {
     "output_type": "stream",
     "name": "stdout",
     "text": [
      "ground_color': 'C0DEED', 'profile_background_image_url': 'http://abs.twimg.com/images/themes/theme1/bg.png', 'profile_background_image_url_https': 'https://abs.twimg.com/images/themes/theme1/bg.png', 'profile_background_tile': False, 'profile_image_url': 'http://pbs.twimg.com/profile_images/1266664463542947840/1JHE0GBT_normal.jpg', 'profile_image_url_https': 'https://pbs.twimg.com/profile_images/1266664463542947840/1JHE0GBT_normal.jpg', 'profile_banner_url': 'https://pbs.twimg.com/profile_banners/326665662/1356119193', 'profile_link_color': '0084B4', 'profile_sidebar_border_color': 'C0DEED', 'profile_sidebar_fill_color': 'DDEEF6', 'profile_text_color': '333333', 'profile_use_background_image': True, 'has_extended_profile': True, 'default_profile': False, 'default_profile_image': False, 'following': False, 'follow_request_sent': False, 'notifications': False, 'translator_type': 'none'}, 'geo': None, 'coordinates': None, 'place': None, 'contributors': None, 'is_quote_status': False, 'retweet_count': 2751, 'favorite_count': 3814, 'favorited': False, 'retweeted': False, 'possibly_sensitive': False, 'lang': 'en'}, 'is_quote_status': False, 'retweet_count': 2751, 'favorite_count': 0, 'favorited': False, 'retweeted': False, 'lang': 'en'}, created_at=datetime.datetime(2020, 10, 14, 19, 22, 10), id=1316459300303310851, id_str='1316459300303310851', text='RT @Alex_Verbeek: 🌎 \\n\\nNATO Review just published my article:\\n\\nPlanetary Security, the security implications of climate change. \\n\\nRTs apprec…', truncated=False, entities={'hashtags': [], 'symbols': [], 'user_mentions': [{'screen_name': 'Alex_Verbeek', 'name': 'Alexander Verbeek 🌍', 'id': 326665662, 'id_str': '326665662', 'indices': [3, 16]}], 'urls': []}, metadata={'iso_language_code': 'en', 'result_type': 'recent'}, source='Twitter for Android', source_url='http://twitter.com/download/android', in_reply_to_status_id=None, in_reply_to_status_id_str=None, in_reply_to_user_id=None, in_reply_to_user_id_str=None, in_reply_to_screen_name=None, author=User(_api=<tweepy.api.API object at 0x0000024EB1BA5988>, _json={'id': 450082930, 'id_str': '450082930', 'name': 'Dan Beckett 💚 🌍 🇪🇺 🧟\\u200d♂️ 💛', 'screen_name': 'the_dantona', 'location': 'Planet Earth', 'description': 'We really, really, really need to wake up and do something about the Climate Emergency otherwise human civilization as we know it is fucked.', 'url': None, 'entities': {'description': {'urls': []}}, 'protected': False, 'followers_count': 98, 'friends_count': 371, 'listed_count': 0, 'created_at': 'Thu Dec 29 21:15:13 +0000 2011', 'favourites_count': 5178, 'utc_offset': None, 'time_zone': None, 'geo_enabled': False, 'verified': False, 'statuses_count': 1434, 'lang': None, 'contributors_enabled': False, 'is_translator': False, 'is_translation_enabled': False, 'profile_background_color': 'C0DEED', 'profile_background_image_url': 'http://abs.twimg.com/images/themes/theme1/bg.png', 'profile_background_image_url_https': 'https://abs.twimg.com/images/themes/theme1/bg.png', 'profile_background_tile': False, 'profile_image_url': 'http://pbs.twimg.com/profile_images/1225355410686783488/yl8EkYlN_normal.jpg', 'profile_image_url_https': 'https://pbs.twimg.com/profile_images/1225355410686783488/yl8EkYlN_normal.jpg', 'profile_banner_url': 'https://pbs.twimg.com/profile_banners/450082930/1589236946', 'profile_link_color': '1DA1F2', 'profile_sidebar_border_color': 'C0DEED', 'profile_sidebar_fill_color': 'DDEEF6', 'profile_text_color': '333333', 'profile_use_background_image': True, 'has_extended_profile': False, 'default_profile': True, 'default_profile_image': False, 'following': False, 'follow_request_sent': False, 'notifications': False, 'translator_type': 'none'}, id=450082930, id_str='450082930', name='Dan Beckett 💚 🌍 🇪🇺 🧟\\u200d♂️ 💛', screen_name='the_dantona', location='Planet Earth', description='We really, really, really need to wake up and do something about the Climate Emergency otherwise human civilization as we know it is fucked.', url=None, entities={'description': {'urls': []}}, protected=False, followers_count=98, friends_count=371, listed_count=0, created_at=datetime.datetime(2011, 12, 29, 21, 15, 13), favourites_count=5178, utc_offset=None, time_zone=None, geo_enabled=False, verified=False, statuses_count=1434, lang=None, contributors_enabled=False, is_translator=False, is_translation_enabled=False, profile_background_color='C0DEED', profile_background_image_url='http://abs.twimg.com/images/themes/theme1/bg.png', profile_background_image_url_https='https://abs.twimg.com/images/themes/theme1/bg.png', profile_background_tile=False, profile_image_url='http://pbs.twimg.com/profile_images/1225355410686783488/yl8EkYlN_normal.jpg', profile_image_url_https='https://pbs.twimg.com/profile_images/1225355410686783488/yl8EkYlN_normal.jpg', profile_banner_url='https://pbs.twimg.com/profile_banners/450082930/1589236946', profile_link_color='1DA1F2', profile_sidebar_border_color='C0DEED', profile_sidebar_fill_color='DDEEF6', profile_text_color='333333', profile_use_background_image=True, has_extended_profile=False, default_profile=True, default_profile_image=False, following=False, follow_request_sent=False, notifications=False, translator_type='none'), user=User(_api=<tweepy.api.API object at 0x0000024EB1BA5988>, _json={'id': 450082930, 'id_str': '450082930', 'name': 'Dan Beckett 💚 🌍 🇪🇺 🧟\\u200d♂️ 💛', 'screen_name': 'the_dantona', 'location': 'Planet Earth', 'description': 'We really, really, really need to wake up and do something about the Climate Emergency otherwise human civilization as we know it is fucked.', 'url': None, 'entities': {'description': {'urls': []}}, 'protected': False, 'followers_count': 98, 'friends_count': 371, 'listed_count': 0, 'created_at': 'Thu Dec 29 21:15:13 +0000 2011', 'favourites_count': 5178, 'utc_offset': None, 'time_zone': None, 'geo_enabled': False, 'verified': False, 'statuses_count': 1434, 'lang': None, 'contributors_enabled': False, 'is_translator': False, 'is_translation_enabled': False, 'profile_background_color': 'C0DEED', 'profile_background_image_url': 'http://abs.twimg.com/images/themes/theme1/bg.png', 'profile_background_image_url_https': 'https://abs.twimg.com/images/themes/theme1/bg.png', 'profile_background_tile': False, 'profile_image_url': 'http://pbs.twimg.com/profile_images/1225355410686783488/yl8EkYlN_normal.jpg', 'profile_image_url_https': 'https://pbs.twimg.com/profile_images/1225355410686783488/yl8EkYlN_normal.jpg', 'profile_banner_url': 'https://pbs.twimg.com/profile_banners/450082930/1589236946', 'profile_link_color': '1DA1F2', 'profile_sidebar_border_color': 'C0DEED', 'profile_sidebar_fill_color': 'DDEEF6', 'profile_text_color': '333333', 'profile_use_background_image': True, 'has_extended_profile': False, 'default_profile': True, 'default_profile_image': False, 'following': False, 'follow_request_sent': False, 'notifications': False, 'translator_type': 'none'}, id=450082930, id_str='450082930', name='Dan Beckett 💚 🌍 🇪🇺 🧟\\u200d♂️ 💛', screen_name='the_dantona', location='Planet Earth', description='We really, really, really need to wake up and do something about the Climate Emergency otherwise human civilization as we know it is fucked.', url=None, entities={'description': {'urls': []}}, protected=False, followers_count=98, friends_count=371, listed_count=0, created_at=datetime.datetime(2011, 12, 29, 21, 15, 13), favourites_count=5178, utc_offset=None, time_zone=None, geo_enabled=False, verified=False, statuses_count=1434, lang=None, contributors_enabled=False, is_translator=False, is_translation_enabled=False, profile_background_color='C0DEED', profile_background_image_url='http://abs.twimg.com/images/themes/theme1/bg.png', profile_background_image_url_https='https://abs.twimg.com/images/themes/theme1/bg.png', profile_background_tile=False, profile_image_url='http://pbs.twimg.com/profile_images/1225355410686783488/yl8EkYlN_normal.jpg', profile_image_url_https='https://pbs.twimg.com/profile_images/1225355410686783488/yl8EkYlN_normal.jpg', profile_banner_url='https://pbs.twimg.com/profile_banners/450082930/1589236946', profile_link_color='1DA1F2', profile_sidebar_border_color='C0DEED', profile_sidebar_fill_color='DDEEF6', profile_text_color='333333', profile_use_background_image=True, has_extended_profile=False, default_profile=True, default_profile_image=False, following=False, follow_request_sent=False, notifications=False, translator_type='none'), geo=None, coordinates=None, place=None, contributors=None, retweeted_status=Status(_api=<tweepy.api.API object at 0x0000024EB1BA5988>, _json={'created_at': 'Wed Dec 11 13:33:23 +0000 2019', 'id': 1204756063012184065, 'id_str': '1204756063012184065', 'text': '🌎 \\n\\nNATO Review just published my article:\\n\\nPlanetary Security, the security implications of climate change. \\n\\nRTs… https://t.co/sOdDqWHeyN', 'truncated': True, 'entities': {'hashtags': [], 'symbols': [], 'user_mentions': [], 'urls': [{'url': 'https://t.co/sOdDqWHeyN', 'expanded_url': 'https://twitter.com/i/web/status/1204756063012184065', 'display_url': 'twitter.com/i/web/status/1…', 'indices': [116, 139]}]}, 'metadata': {'iso_language_code': 'en', 'result_type': 'recent'}, 'source': '<a href=\"http://twitter.com/download/iphone\" rel=\"nofollow\">Twitter for iPhone</a>', 'in_reply_to_status_id': None, 'in_reply_to_status_id_str': None, 'in_reply_to_user_id': None, 'in_reply_to_user_id_str': None, 'in_reply_to_screen_name': None, 'user': {'id': 326665662, 'id_str': '326665662', 'name': 'Alexander Verbeek 🌍', 'screen_name': 'Alex_Verbeek', 'location': 'Stockholm', 'description': 'Public Speaker | Moderator | Diplomat | Photographer | Yale World Fellow | Climate Change | Wildlife | Environment | Art | Energy-Water-Food | Sustainability 🌱', 'url': 'https://t.co/7Vcw9wQGOv', 'entities': {'url': {'urls': [{'url': 'https://t.co/7Vcw9wQGOv', 'expanded_url': 'https://instagram.com/alexanderverbeek', 'display_url': 'instagram.com/alexanderverbe…', 'indices': [0, 23]}]}, 'description': {'urls': []}}, 'protected': False, 'followers_count': 250808, 'friends_count': 95038, 'listed_count': 2964, 'created_at': 'Thu Jun 30 08:43:16 +0000 2011', 'favourites_count': 126689, 'utc_offset': None, 'time_zone': None, 'geo_enabled': True, 'verified': True, 'statuses_count': 16887, 'lang': None, 'contributors_enabled': False, 'is_translator': False, 'is_translation_enabled': False, 'profile_background_color': 'C0DEED', 'profile_background_image_url': 'http://abs.twimg.com/images/themes/theme1/bg.png', 'profile_background_image_url_https': 'https://abs.twimg.com/images/themes/theme1/bg.png', 'profile_background_tile': False, 'profile_image_url': 'http://pbs.twimg.com/profile_images/1266664463542947840/1JHE0GBT_normal.jpg', 'profile_image_url_https': 'https://pbs.twimg.com/profile_images/1266664463542947840/1JHE0GBT_normal.jpg', 'profile_banner_url': 'https://pbs.twimg.com/profile_banners/326665662/1356119193', 'profile_link_color': '0084B4', 'profile_sidebar_border_color': 'C0DEED', 'profile_sidebar_fill_color': 'DDEEF6', 'profile_text_color': '333333', 'profile_use_background_image': True, 'has_extended_profile': True, 'default_profile': False, 'default_profile_image': False, 'following': False, 'follow_request_sent': False, 'notifications': False, 'translator_type': 'none'}, 'geo': None, 'coordinates': None, 'place': None, 'contributors': None, 'is_quote_status': False, 'retweet_count': 2751, 'favorite_count': 3814, 'favorited': False, 'retweeted': False, 'possibly_sensitive': False, 'lang': 'en'}, created_at=datetime.datetime(2019, 12, 11, 13, 33, 23), id=1204756063012184065, id_str='1204756063012184065', text='🌎 \\n\\nNATO Review just published my article:\\n\\nPlanetary Security, the security implications of climate change. \\n\\nRTs… https://t.co/sOdDqWHeyN', truncated=True, entities={'hashtags': [], 'symbols': [], 'user_mentions': [], 'urls': [{'url': 'https://t.co/sOdDqWHeyN', 'expanded_url': 'https://twitter.com/i/web/status/1204756063012184065', 'display_url': 'twitter.com/i/web/status/1…', 'indices': [116, 139]}]}, metadata={'iso_language_code': 'en', 'result_type': 'recent'}, source='Twitter for iPhone', source_url='http://twitter.com/download/iphone', in_reply_to_status_id=None, in_reply_to_status_id_str=None, in_reply_to_user_id=None, in_reply_to_user_id_str=None, in_reply_to_screen_name=None, author=User(_api=<tweepy.api.API object at 0x0000024EB1BA5988>, _json={'id': 326665662, 'id_str': '326665662', 'name': 'Alexander Verbeek 🌍', 'screen_name': 'Alex_Verbeek', 'location': 'Stockholm', 'description': 'Public Speaker | Moderator | Diplomat | Photographer | Yale World Fellow | Climate Change | Wildlife | Environment | Art | Energy-Water-Food | Sustainability 🌱', 'url': 'https://t.co/7Vcw9wQGOv', 'entities': {'url': {'urls': [{'url': 'https://t.co/7Vcw9wQGOv', 'expanded_url': 'https://instagram.com/alexanderverbeek', 'display_url': 'instagram.com/alexanderverbe…', 'indices': [0, 23]}]}, 'description': {'urls': []}}, 'protected': False, 'followers_count': 250808, 'friends_count': 95038, 'listed_count': 2964, 'created_at': 'Thu Jun 30 08:43:16 +0000 2011', 'favourites_count': 126689, 'utc_offset': None, 'time_zone': None, 'geo_enabled': True, 'verified': True, 'statuses_count': 16887, 'lang': None, 'contributors_enabled': False, 'is_translator': False, 'is_translation_enabled': False, 'profile_background_color': 'C0DEED', 'profile_background_image_url': 'http://abs.twimg.com/images/themes/theme1/bg.png', 'profile_background_image_url_https': 'https://abs.twimg.com/images/themes/theme1/bg.png', 'profile_background_tile': False, 'profile_image_url': 'http://pbs.twimg.com/profile_images/1266664463542947840/1JHE0GBT_normal.jpg', 'profile_image_url_https': 'https://pbs.twimg.com/profile_images/1266664463542947840/1JHE0GBT_normal.jpg', 'profile_banner_url': 'https://pbs.twimg.com/profile_banners/326665662/1356119193', 'profile_link_color': '0084B4', 'profile_sidebar_border_color': 'C0DEED', 'profile_sidebar_fill_color': 'DDEEF6', 'profile_text_color': '333333', 'profile_use_background_image': True, 'has_extended_profile': True, 'default_profile': False, 'default_profile_image': False, 'following': False, 'follow_request_sent': False, 'notifications': False, 'translator_type': 'none'}, id=326665662, id_str='326665662', name='Alexander Verbeek 🌍', screen_name='Alex_Verbeek', location='Stockholm', description='Public Speaker | Moderator | Diplomat | Photographer | Yale World Fellow | Climate Change | Wildlife | Environment | Art | Energy-Water-Food | Sustainability 🌱', url='https://t.co/7Vcw9wQGOv', entities={'url': {'urls': [{'url': 'https://t.co/7Vcw9wQGOv', 'expanded_url': 'https://instagram.com/alexanderverbeek', 'display_url': 'instagram.com/alexanderverbe…', 'indices': [0, 23]}]}, 'description': {'urls': []}}, protected=False, followers_count=250808, friends_count=95038, listed_count=2964, created_at=datetime.datetime(2011, 6, 30, 8, 43, 16), favourites_count=126689, utc_offset=None, time_zone=None, geo_enabled=True, verified=True, statuses_count=16887, lang=None, contributors_enabled=False, is_translator=False, is_translation_enabled=False, profile_background_color='C0DEED', profile_background_image_url='http://abs.twimg.com/images/themes/theme1/bg.png', profile_background_image_url_https='https://abs.twimg.com/images/themes/theme1/bg.png', profile_background_tile=False, profile_image_url='http://pbs.twimg.com/profile_images/1266664463542947840/1JHE0GBT_normal.jpg', profile_image_url_https='https://pbs.twimg.com/profile_images/1266664463542947840/1JHE0GBT_normal.jpg', profile_banner_url='https://pbs.twimg.com/profile_banners/326665662/1356119193', profile_link_color='0084B4', profile_sidebar_border_color='C0DEED', profile_sidebar_fill_color='DDEEF6', profile_text_color='333333', profile_use_background_image=True, has_extended_profile=True, default_profile=False, default_profile_image=False, following=False, follow_request_sent=False, notifications=False, translator_type='none'), user=User(_api=<tweepy.api.API object at 0x0000024EB1BA5988>, _json={'id': 326665662, 'id_str': '326665662', 'name': 'Alexander Verbeek 🌍', 'screen_name': 'Alex_Verbeek', 'location': 'Stockholm', 'description': 'Public Speaker | Moderator | Diplomat | Photographer | Yale World Fellow | Climate Change | Wildlife | Environment | Art | Energy-Water-Food | Sustainability 🌱', 'url': 'https://t.co/7Vcw9wQGOv', 'entities': {'url': {'urls': [{'url': 'https://t.co/7Vcw9wQGOv', 'expanded_url': 'https://instagram.com/alexanderverbeek', 'display_url': 'instagram.com/alexanderverbe…', 'indices': [0, 23]}]}, 'description': {'urls': []}}, 'protected': False, 'followers_count': 250808, 'friends_count': 95038, 'listed_count': 2964, 'created_at': 'Thu Jun 30 08:43:16 +0000 2011', 'favourites_count': 126689, 'utc_offset': None, 'time_zone': None, 'geo_enabled': True, 'verified': True, 'statuses_count': 16887, 'lang': None, 'contributors_enabled': False, 'is_translator': False, 'is_translation_enabled': False, 'profile_background_color': 'C0DEED', 'profile_background_image_url': 'http://abs.twimg.com/images/themes/theme1/bg.png', 'profile_background_image_url_https': 'https://abs.twimg.com/images/themes/theme1/bg.png', 'profile_background_tile': False, 'profile_image_url': 'http://pbs.twimg.com/profile_images/1266664463542947840/1JHE0GBT_normal.jpg', 'profile_image_url_https': 'https://pbs.twimg.com/profile_images/1266664463542947840/1JHE0GBT_normal.jpg', 'profile_banner_url': 'https://pbs.twimg.com/profile_banners/326665662/1356119193', 'profile_link_color': '0084B4', 'profile_sidebar_border_color': 'C0DEED', 'profile_sidebar_fill_color': 'DDEEF6', 'profile_text_color': '333333', 'profile_use_background_image': True, 'has_extended_profile': True, 'default_profile': False, 'default_profile_image': False, 'following': False, 'follow_request_sent': False, 'notifications': False, 'translator_type': 'none'}, id=326665662, id_str='326665662', name='Alexander Verbeek 🌍', screen_name='Alex_Verbeek', location='Stockholm', description='Public Speaker | Moderator | Diplomat | Photographer | Yale World Fellow | Climate Change | Wildlife | Environment | Art | Energy-Water-Food | Sustainability 🌱', url='https://t.co/7Vcw9wQGOv', entities={'url': {'urls': [{'url': 'https://t.co/7Vcw9wQGOv', 'expanded_url': 'https://instagram.com/alexanderverbeek', 'display_url': 'instagram.com/alexanderverbe…', 'indices': [0, 23]}]}, 'description': {'urls': []}}, protected=False, followers_count=250808, friends_count=95038, listed_count=2964, created_at=datetime.datetime(2011, 6, 30, 8, 43, 16), favourites_count=126689, utc_offset=None, time_zone=None, geo_enabled=True, verified=True, statuses_count=16887, lang=None, contributors_enabled=False, is_translator=False, is_translation_enabled=False, profile_background_color='C0DEED', profile_background_image_url='http://abs.twimg.com/images/themes/theme1/bg.png', profile_background_image_url_https='https://abs.twimg.com/images/themes/theme1/bg.png', profile_background_tile=False, profile_image_url='http://pbs.twimg.com/profile_images/1266664463542947840/1JHE0GBT_normal.jpg', profile_image_url_https='https://pbs.twimg.com/profile_images/1266664463542947840/1JHE0GBT_normal.jpg', profile_banner_url='https://pbs.twimg.com/profile_banners/326665662/1356119193', profile_link_color='0084B4', profile_sidebar_border_color='C0DEED', profile_sidebar_fill_color='DDEEF6', profile_text_color='333333', profile_use_background_image=True, has_extended_profile=True, default_profile=False, default_profile_image=False, following=False, follow_request_sent=False, notifications=False, translator_type='none'), geo=None, coordinates=None, place=None, contributors=None, is_quote_status=False, retweet_count=2751, favorite_count=3814, favorited=False, retweeted=False, possibly_sensitive=False, lang='en'), is_quote_status=False, retweet_count=2751, favorite_count=0, favorited=False, retweeted=False, lang='en')\n"
     ]
    }
   ],
   "source": [
    "csvFile = open('cop25.csv', 'a')\n",
    "#Use csv Writer\n",
    "csvWriter = csv.writer(csvFile)\n",
    "\n",
    "for tweet in tweepy.Cursor(api.search, q='#cop25', count=5000, lang= 'en', since='2019-1-12').items():\n",
    "    print(tweet.created_at, tweet)\n",
    "    csvWriter.writerow([tweet.created_at, tweet.text.encode('utf-8')])"
   ]
  },
  {
   "cell_type": "code",
   "execution_count": 19,
   "metadata": {
    "tags": []
   },
   "outputs": [
    {
     "output_type": "stream",
     "name": "stdout",
     "text": [
      "_images/911103959296704515/a9sYPu0t_normal.jpg', 'profile_image_url_https': 'https://pbs.twimg.com/profile_images/911103959296704515/a9sYPu0t_normal.jpg', 'profile_banner_url': 'https://pbs.twimg.com/profile_banners/216065172/1591501185', 'profile_link_color': '1B95E0', 'profile_sidebar_border_color': 'FAF8F7', 'profile_sidebar_fill_color': 'FAF7F5', 'profile_text_color': '593A1A', 'profile_use_background_image': True, 'has_extended_profile': True, 'default_profile': False, 'default_profile_image': False, 'following': False, 'follow_request_sent': False, 'notifications': False, 'translator_type': 'none'}, 'geo': None, 'coordinates': None, 'place': None, 'contributors': None, 'is_quote_status': False, 'retweet_count': 6, 'favorite_count': 7, 'favorited': False, 'retweeted': False, 'possibly_sensitive': False, 'lang': 'es'}, created_at=datetime.datetime(2020, 10, 14, 17, 42, 14), id=1316434151726297088, id_str='1316434151726297088', text='¿QUIERES FORMAR PARTE DE LAS REFLEXIONES QUE PLANTEA LA EDUCACIÓN EN LA ERA DIGITAL?\\n \\nLlega #enlightED Virtual Edi… https://t.co/cg4jKoMHgE', truncated=True, entities={'hashtags': [{'text': 'enlightED', 'indices': [93, 103]}], 'symbols': [], 'user_mentions': [], 'urls': [{'url': 'https://t.co/cg4jKoMHgE', 'expanded_url': 'https://twitter.com/i/web/status/1316434151726297088', 'display_url': 'twitter.com/i/web/status/1…', 'indices': [117, 140]}]}, metadata={'iso_language_code': 'es', 'result_type': 'recent'}, source='Twitter for iPhone', source_url='http://twitter.com/download/iphone', in_reply_to_status_id=None, in_reply_to_status_id_str=None, in_reply_to_user_id=None, in_reply_to_user_id_str=None, in_reply_to_screen_name=None, author=User(_api=<tweepy.api.API object at 0x0000018680BE0988>, _json={'id': 216065172, 'id_str': '216065172', 'name': 'SANTILLANA Venezuela', 'screen_name': 'SantillanaVzla', 'location': 'Caracas, Venezuela.', 'description': '43 años en las escuelas venezolanas, haciendo país / infove@santillana.com / +58 424 2312256 (WA)\\nOtras cuentas: @ClubdelDocente @piensa_digital @RichmondVE', 'url': 'https://t.co/JfGx9aAxqx', 'entities': {'url': {'urls': [{'url': 'https://t.co/JfGx9aAxqx', 'expanded_url': 'http://santillana.com.ve', 'display_url': 'santillana.com.ve', 'indices': [0, 23]}]}, 'description': {'urls': []}}, 'protected': False, 'followers_count': 3529, 'friends_count': 1392, 'listed_count': 39, 'created_at': 'Mon Nov 15 18:11:19 +0000 2010', 'favourites_count': 2894, 'utc_offset': None, 'time_zone': None, 'geo_enabled': False, 'verified': False, 'statuses_count': 7690, 'lang': None, 'contributors_enabled': False, 'is_translator': False, 'is_translation_enabled': False, 'profile_background_color': 'ABB8C2', 'profile_background_image_url': 'http://abs.twimg.com/images/themes/theme1/bg.png', 'profile_background_image_url_https': 'https://abs.twimg.com/images/themes/theme1/bg.png', 'profile_background_tile': True, 'profile_image_url': 'http://pbs.twimg.com/profile_images/911103959296704515/a9sYPu0t_normal.jpg', 'profile_image_url_https': 'https://pbs.twimg.com/profile_images/911103959296704515/a9sYPu0t_normal.jpg', 'profile_banner_url': 'https://pbs.twimg.com/profile_banners/216065172/1591501185', 'profile_link_color': '1B95E0', 'profile_sidebar_border_color': 'FAF8F7', 'profile_sidebar_fill_color': 'FAF7F5', 'profile_text_color': '593A1A', 'profile_use_background_image': True, 'has_extended_profile': True, 'default_profile': False, 'default_profile_image': False, 'following': False, 'follow_request_sent': False, 'notifications': False, 'translator_type': 'none'}, id=216065172, id_str='216065172', name='SANTILLANA Venezuela', screen_name='SantillanaVzla', location='Caracas, Venezuela.', description='43 años en las escuelas venezolanas, haciendo país / infove@santillana.com / +58 424 2312256 (WA)\\nOtras cuentas: @ClubdelDocente @piensa_digital @RichmondVE', url='https://t.co/JfGx9aAxqx', entities={'url': {'urls': [{'url': 'https://t.co/JfGx9aAxqx', 'expanded_url': 'http://santillana.com.ve', 'display_url': 'santillana.com.ve', 'indices': [0, 23]}]}, 'description': {'urls': []}}, protected=False, followers_count=3529, friends_count=1392, listed_count=39, created_at=datetime.datetime(2010, 11, 15, 18, 11, 19), favourites_count=2894, utc_offset=None, time_zone=None, geo_enabled=False, verified=False, statuses_count=7690, lang=None, contributors_enabled=False, is_translator=False, is_translation_enabled=False, profile_background_color='ABB8C2', profile_background_image_url='http://abs.twimg.com/images/themes/theme1/bg.png', profile_background_image_url_https='https://abs.twimg.com/images/themes/theme1/bg.png', profile_background_tile=True, profile_image_url='http://pbs.twimg.com/profile_images/911103959296704515/a9sYPu0t_normal.jpg', profile_image_url_https='https://pbs.twimg.com/profile_images/911103959296704515/a9sYPu0t_normal.jpg', profile_banner_url='https://pbs.twimg.com/profile_banners/216065172/1591501185', profile_link_color='1B95E0', profile_sidebar_border_color='FAF8F7', profile_sidebar_fill_color='FAF7F5', profile_text_color='593A1A', profile_use_background_image=True, has_extended_profile=True, default_profile=False, default_profile_image=False, following=False, follow_request_sent=False, notifications=False, translator_type='none'), user=User(_api=<tweepy.api.API object at 0x0000018680BE0988>, _json={'id': 216065172, 'id_str': '216065172', 'name': 'SANTILLANA Venezuela', 'screen_name': 'SantillanaVzla', 'location': 'Caracas, Venezuela.', 'description': '43 años en las escuelas venezolanas, haciendo país / infove@santillana.com / +58 424 2312256 (WA)\\nOtras cuentas: @ClubdelDocente @piensa_digital @RichmondVE', 'url': 'https://t.co/JfGx9aAxqx', 'entities': {'url': {'urls': [{'url': 'https://t.co/JfGx9aAxqx', 'expanded_url': 'http://santillana.com.ve', 'display_url': 'santillana.com.ve', 'indices': [0, 23]}]}, 'description': {'urls': []}}, 'protected': False, 'followers_count': 3529, 'friends_count': 1392, 'listed_count': 39, 'created_at': 'Mon Nov 15 18:11:19 +0000 2010', 'favourites_count': 2894, 'utc_offset': None, 'time_zone': None, 'geo_enabled': False, 'verified': False, 'statuses_count': 7690, 'lang': None, 'contributors_enabled': False, 'is_translator': False, 'is_translation_enabled': False, 'profile_background_color': 'ABB8C2', 'profile_background_image_url': 'http://abs.twimg.com/images/themes/theme1/bg.png', 'profile_background_image_url_https': 'https://abs.twimg.com/images/themes/theme1/bg.png', 'profile_background_tile': True, 'profile_image_url': 'http://pbs.twimg.com/profile_images/911103959296704515/a9sYPu0t_normal.jpg', 'profile_image_url_https': 'https://pbs.twimg.com/profile_images/911103959296704515/a9sYPu0t_normal.jpg', 'profile_banner_url': 'https://pbs.twimg.com/profile_banners/216065172/1591501185', 'profile_link_color': '1B95E0', 'profile_sidebar_border_color': 'FAF8F7', 'profile_sidebar_fill_color': 'FAF7F5', 'profile_text_color': '593A1A', 'profile_use_background_image': True, 'has_extended_profile': True, 'default_profile': False, 'default_profile_image': False, 'following': False, 'follow_request_sent': False, 'notifications': False, 'translator_type': 'none'}, id=216065172, id_str='216065172', name='SANTILLANA Venezuela', screen_name='SantillanaVzla', location='Caracas, Venezuela.', description='43 años en las escuelas venezolanas, haciendo país / infove@santillana.com / +58 424 2312256 (WA)\\nOtras cuentas: @ClubdelDocente @piensa_digital @RichmondVE', url='https://t.co/JfGx9aAxqx', entities={'url': {'urls': [{'url': 'https://t.co/JfGx9aAxqx', 'expanded_url': 'http://santillana.com.ve', 'display_url': 'santillana.com.ve', 'indices': [0, 23]}]}, 'description': {'urls': []}}, protected=False, followers_count=3529, friends_count=1392, listed_count=39, created_at=datetime.datetime(2010, 11, 15, 18, 11, 19), favourites_count=2894, utc_offset=None, time_zone=None, geo_enabled=False, verified=False, statuses_count=7690, lang=None, contributors_enabled=False, is_translator=False, is_translation_enabled=False, profile_background_color='ABB8C2', profile_background_image_url='http://abs.twimg.com/images/themes/theme1/bg.png', profile_background_image_url_https='https://abs.twimg.com/images/themes/theme1/bg.png', profile_background_tile=True, profile_image_url='http://pbs.twimg.com/profile_images/911103959296704515/a9sYPu0t_normal.jpg', profile_image_url_https='https://pbs.twimg.com/profile_images/911103959296704515/a9sYPu0t_normal.jpg', profile_banner_url='https://pbs.twimg.com/profile_banners/216065172/1591501185', profile_link_color='1B95E0', profile_sidebar_border_color='FAF8F7', profile_sidebar_fill_color='FAF7F5', profile_text_color='593A1A', profile_use_background_image=True, has_extended_profile=True, default_profile=False, default_profile_image=False, following=False, follow_request_sent=False, notifications=False, translator_type='none'), geo=None, coordinates=None, place=None, contributors=None, is_quote_status=False, retweet_count=6, favorite_count=7, favorited=False, retweeted=False, possibly_sensitive=False, lang='es')\n",
      "2020-10-14 16:00:00 Status(_api=<tweepy.api.API object at 0x0000018680BE0988>, _json={'created_at': 'Wed Oct 14 16:00:00 +0000 2020', 'id': 1316408422343028736, 'id_str': '1316408422343028736', 'text': 'Desde el 19 al 23 de octubre, se realizará #enlightED Virtual Edition 2020, un encuentro virtual mundial para revis… https://t.co/3xsupeNAEs', 'truncated': True, 'entities': {'hashtags': [{'text': 'enlightED', 'indices': [43, 53]}], 'symbols': [], 'user_mentions': [], 'urls': [{'url': 'https://t.co/3xsupeNAEs', 'expanded_url': 'https://twitter.com/i/web/status/1316408422343028736', 'display_url': 'twitter.com/i/web/status/1…', 'indices': [117, 140]}]}, 'metadata': {'iso_language_code': 'es', 'result_type': 'recent'}, 'source': '<a href=\"https://mobile.twitter.com\" rel=\"nofollow\">Twitter Web App</a>', 'in_reply_to_status_id': None, 'in_reply_to_status_id_str': None, 'in_reply_to_user_id': None, 'in_reply_to_user_id_str': None, 'in_reply_to_screen_name': None, 'user': {'id': 72974326, 'id_str': '72974326', 'name': 'Comunicaciones Movistar Perú', 'screen_name': 'comsmovistarpe', 'location': 'Lima, Perú', 'description': 'Compartimos información y noticias oficiales de la compañía.', 'url': 'https://t.co/Y4CqhzsCfQ', 'entities': {'url': {'urls': [{'url': 'https://t.co/Y4CqhzsCfQ', 'expanded_url': 'https://saladeprensa.telefonica.com.pe/', 'display_url': 'saladeprensa.telefonica.com.pe', 'indices': [0, 23]}]}, 'description': {'urls': []}}, 'protected': False, 'followers_count': 17739, 'friends_count': 393, 'listed_count': 92, 'created_at': 'Wed Sep 09 22:52:37 +0000 2009', 'favourites_count': 3926, 'utc_offset': None, 'time_zone': None, 'geo_enabled': True, 'verified': False, 'statuses_count': 12830, 'lang': None, 'contributors_enabled': False, 'is_translator': False, 'is_translation_enabled': False, 'profile_background_color': '082C3D', 'profile_background_image_url': 'http://abs.twimg.com/images/themes/theme1/bg.png', 'profile_background_image_url_https': 'https://abs.twimg.com/images/themes/theme1/bg.png', 'profile_background_tile': False, 'profile_image_url': 'http://pbs.twimg.com/profile_images/1298808525540536320/MdzBBZOO_normal.jpg', 'profile_image_url_https': 'https://pbs.twimg.com/profile_images/1298808525540536320/MdzBBZOO_normal.jpg', 'profile_banner_url': 'https://pbs.twimg.com/profile_banners/72974326/1598495060', 'profile_link_color': '0084B4', 'profile_sidebar_border_color': 'FFFFFF', 'profile_sidebar_fill_color': 'DDEEF6', 'profile_text_color': '333333', 'profile_use_background_image': True, 'has_extended_profile': True, 'default_profile': False, 'default_profile_image': False, 'following': False, 'follow_request_sent': False, 'notifications': False, 'translator_type': 'none'}, 'geo': None, 'coordinates': None, 'place': None, 'contributors': None, 'is_quote_status': False, 'retweet_count': 0, 'favorite_count': 0, 'favorited': False, 'retweeted': False, 'possibly_sensitive': False, 'lang': 'es'}, created_at=datetime.datetime(2020, 10, 14, 16, 0), id=1316408422343028736, id_str='1316408422343028736', text='Desde el 19 al 23 de octubre, se realizará #enlightED Virtual Edition 2020, un encuentro virtual mundial para revis… https://t.co/3xsupeNAEs', truncated=True, entities={'hashtags': [{'text': 'enlightED', 'indices': [43, 53]}], 'symbols': [], 'user_mentions': [], 'urls': [{'url': 'https://t.co/3xsupeNAEs', 'expanded_url': 'https://twitter.com/i/web/status/1316408422343028736', 'display_url': 'twitter.com/i/web/status/1…', 'indices': [117, 140]}]}, metadata={'iso_language_code': 'es', 'result_type': 'recent'}, source='Twitter Web App', source_url='https://mobile.twitter.com', in_reply_to_status_id=None, in_reply_to_status_id_str=None, in_reply_to_user_id=None, in_reply_to_user_id_str=None, in_reply_to_screen_name=None, author=User(_api=<tweepy.api.API object at 0x0000018680BE0988>, _json={'id': 72974326, 'id_str': '72974326', 'name': 'Comunicaciones Movistar Perú', 'screen_name': 'comsmovistarpe', 'location': 'Lima, Perú', 'description': 'Compartimos información y noticias oficiales de la compañía.', 'url': 'https://t.co/Y4CqhzsCfQ', 'entities': {'url': {'urls': [{'url': 'https://t.co/Y4CqhzsCfQ', 'expanded_url': 'https://saladeprensa.telefonica.com.pe/', 'display_url': 'saladeprensa.telefonica.com.pe', 'indices': [0, 23]}]}, 'description': {'urls': []}}, 'protected': False, 'followers_count': 17739, 'friends_count': 393, 'listed_count': 92, 'created_at': 'Wed Sep 09 22:52:37 +0000 2009', 'favourites_count': 3926, 'utc_offset': None, 'time_zone': None, 'geo_enabled': True, 'verified': False, 'statuses_count': 12830, 'lang': None, 'contributors_enabled': False, 'is_translator': False, 'is_translation_enabled': False, 'profile_background_color': '082C3D', 'profile_background_image_url': 'http://abs.twimg.com/images/themes/theme1/bg.png', 'profile_background_image_url_https': 'https://abs.twimg.com/images/themes/theme1/bg.png', 'profile_background_tile': False, 'profile_image_url': 'http://pbs.twimg.com/profile_images/1298808525540536320/MdzBBZOO_normal.jpg', 'profile_image_url_https': 'https://pbs.twimg.com/profile_images/1298808525540536320/MdzBBZOO_normal.jpg', 'profile_banner_url': 'https://pbs.twimg.com/profile_banners/72974326/1598495060', 'profile_link_color': '0084B4', 'profile_sidebar_border_color': 'FFFFFF', 'profile_sidebar_fill_color': 'DDEEF6', 'profile_text_color': '333333', 'profile_use_background_image': True, 'has_extended_profile': True, 'default_profile': False, 'default_profile_image': False, 'following': False, 'follow_request_sent': False, 'notifications': False, 'translator_type': 'none'}, id=72974326, id_str='72974326', name='Comunicaciones Movistar Perú', screen_name='comsmovistarpe', location='Lima, Perú', description='Compartimos información y noticias oficiales de la compañía.', url='https://t.co/Y4CqhzsCfQ', entities={'url': {'urls': [{'url': 'https://t.co/Y4CqhzsCfQ', 'expanded_url': 'https://saladeprensa.telefonica.com.pe/', 'display_url': 'saladeprensa.telefonica.com.pe', 'indices': [0, 23]}]}, 'description': {'urls': []}}, protected=False, followers_count=17739, friends_count=393, listed_count=92, created_at=datetime.datetime(2009, 9, 9, 22, 52, 37), favourites_count=3926, utc_offset=None, time_zone=None, geo_enabled=True, verified=False, statuses_count=12830, lang=None, contributors_enabled=False, is_translator=False, is_translation_enabled=False, profile_background_color='082C3D', profile_background_image_url='http://abs.twimg.com/images/themes/theme1/bg.png', profile_background_image_url_https='https://abs.twimg.com/images/themes/theme1/bg.png', profile_background_tile=False, profile_image_url='http://pbs.twimg.com/profile_images/1298808525540536320/MdzBBZOO_normal.jpg', profile_image_url_https='https://pbs.twimg.com/profile_images/1298808525540536320/MdzBBZOO_normal.jpg', profile_banner_url='https://pbs.twimg.com/profile_banners/72974326/1598495060', profile_link_color='0084B4', profile_sidebar_border_color='FFFFFF', profile_sidebar_fill_color='DDEEF6', profile_text_color='333333', profile_use_background_image=True, has_extended_profile=True, default_profile=False, default_profile_image=False, following=False, follow_request_sent=False, notifications=False, translator_type='none'), user=User(_api=<tweepy.api.API object at 0x0000018680BE0988>, _json={'id': 72974326, 'id_str': '72974326', 'name': 'Comunicaciones Movistar Perú', 'screen_name': 'comsmovistarpe', 'location': 'Lima, Perú', 'description': 'Compartimos información y noticias oficiales de la compañía.', 'url': 'https://t.co/Y4CqhzsCfQ', 'entities': {'url': {'urls': [{'url': 'https://t.co/Y4CqhzsCfQ', 'expanded_url': 'https://saladeprensa.telefonica.com.pe/', 'display_url': 'saladeprensa.telefonica.com.pe', 'indices': [0, 23]}]}, 'description': {'urls': []}}, 'protected': False, 'followers_count': 17739, 'friends_count': 393, 'listed_count': 92, 'created_at': 'Wed Sep 09 22:52:37 +0000 2009', 'favourites_count': 3926, 'utc_offset': None, 'time_zone': None, 'geo_enabled': True, 'verified': False, 'statuses_count': 12830, 'lang': None, 'contributors_enabled': False, 'is_translator': False, 'is_translation_enabled': False, 'profile_background_color': '082C3D', 'profile_background_image_url': 'http://abs.twimg.com/images/themes/theme1/bg.png', 'profile_background_image_url_https': 'https://abs.twimg.com/images/themes/theme1/bg.png', 'profile_background_tile': False, 'profile_image_url': 'http://pbs.twimg.com/profile_images/1298808525540536320/MdzBBZOO_normal.jpg', 'profile_image_url_https': 'https://pbs.twimg.com/profile_images/1298808525540536320/MdzBBZOO_normal.jpg', 'profile_banner_url': 'https://pbs.twimg.com/profile_banners/72974326/1598495060', 'profile_link_color': '0084B4', 'profile_sidebar_border_color': 'FFFFFF', 'profile_sidebar_fill_color': 'DDEEF6', 'profile_text_color': '333333', 'profile_use_background_image': True, 'has_extended_profile': True, 'default_profile': False, 'default_profile_image': False, 'following': False, 'follow_request_sent': False, 'notifications': False, 'translator_type': 'none'}, id=72974326, id_str='72974326', name='Comunicaciones Movistar Perú', screen_name='comsmovistarpe', location='Lima, Perú', description='Compartimos información y noticias oficiales de la compañía.', url='https://t.co/Y4CqhzsCfQ', entities={'url': {'urls': [{'url': 'https://t.co/Y4CqhzsCfQ', 'expanded_url': 'https://saladeprensa.telefonica.com.pe/', 'display_url': 'saladeprensa.telefonica.com.pe', 'indices': [0, 23]}]}, 'description': {'urls': []}}, protected=False, followers_count=17739, friends_count=393, listed_count=92, created_at=datetime.datetime(2009, 9, 9, 22, 52, 37), favourites_count=3926, utc_offset=None, time_zone=None, geo_enabled=True, verified=False, statuses_count=12830, lang=None, contributors_enabled=False, is_translator=False, is_translation_enabled=False, profile_background_color='082C3D', profile_background_image_url='http://abs.twimg.com/images/themes/theme1/bg.png', profile_background_image_url_https='https://abs.twimg.com/images/themes/theme1/bg.png', profile_background_tile=False, profile_image_url='http://pbs.twimg.com/profile_images/1298808525540536320/MdzBBZOO_normal.jpg', profile_image_url_https='https://pbs.twimg.com/profile_images/1298808525540536320/MdzBBZOO_normal.jpg', profile_banner_url='https://pbs.twimg.com/profile_banners/72974326/1598495060', profile_link_color='0084B4', profile_sidebar_border_color='FFFFFF', profile_sidebar_fill_color='DDEEF6', profile_text_color='333333', profile_use_background_image=True, has_extended_profile=True, default_profile=False, default_profile_image=False, following=False, follow_request_sent=False, notifications=False, translator_type='none'), geo=None, coordinates=None, place=None, contributors=None, is_quote_status=False, retweet_count=0, favorite_count=0, favorited=False, retweeted=False, possibly_sensitive=False, lang='es')\n"
     ]
    }
   ],
   "source": [
    "csvFile = open('enlightED.csv', 'a')\n",
    "#Use csv Writer\n",
    "csvWriter = csv.writer(csvFile)\n",
    "\n",
    "for tweet in tweepy.Cursor(api.search, q='#enlightED', count=5000, lang= 'es', since='2019-1-12').items():\n",
    "    print(tweet.created_at, tweet)\n",
    "    csvWriter.writerow([tweet.created_at, tweet.text.encode('utf-8')])"
   ]
  },
  {
   "cell_type": "code",
   "execution_count": 7,
   "metadata": {
    "id": "UTJjfJjBhont"
   },
   "outputs": [],
   "source": [
    "#Use csv Writer\n"
   ]
  },
  {
   "cell_type": "markdown",
   "metadata": {
    "id": "GnScDfXghonv"
   },
   "source": [
    "## Bajando datos de la calidad del aire"
   ]
  },
  {
   "cell_type": "markdown",
   "metadata": {
    "id": "oQL_gonKhonw"
   },
   "source": [
    "También existe un dataset en Kaggle, pero vamos a ver un ejemplo"
   ]
  },
  {
   "cell_type": "code",
   "execution_count": 14,
   "metadata": {},
   "outputs": [],
   "source": [
    "import pandas as pd \n",
    "import requests\n",
    "import io \n",
    "import csv"
   ]
  },
  {
   "cell_type": "code",
   "execution_count": 15,
   "metadata": {
    "id": "OPyVBu24honw"
   },
   "outputs": [],
   "source": [
    "url2 = \"http://www.mambiente.munimadrid.es/opendata/horario.txt\"\n",
    "\n",
    "datos= pd.read_csv(url2, header=None)\n"
   ]
  },
  {
   "cell_type": "code",
   "execution_count": 16,
   "metadata": {
    "id": "GTd8NHDLhony",
    "outputId": "bc75b9c6-cd36-4c39-ab2a-63dca3342e7a"
   },
   "outputs": [
    {
     "output_type": "execute_result",
     "data": {
      "text/plain": [
       "   0   1   2   3   4   5     6   7   8     9   ... 47  48 49  50 51  52 53  \\\n",
       "0  28  79   4   1  38   2  2020  10  22   2.0  ...  0   N  0   N  0   N  0   \n",
       "1  28  79   4   6  48   2  2020  10  22   0.2  ...  0   N  0   N  0   N  0   \n",
       "2  28  79   4   7   8   2  2020  10  22   2.0  ...  0   N  0   N  0   N  0   \n",
       "3  28  79   4   8   8   2  2020  10  22  14.0  ...  0   N  0   N  0   N  0   \n",
       "4  28  79   4  12   8   2  2020  10  22  16.0  ...  0   N  0   N  0   N  0   \n",
       "\n",
       "   54 55  56  \n",
       "0   N  0   N  \n",
       "1   N  0   N  \n",
       "2   N  0   N  \n",
       "3   N  0   N  \n",
       "4   N  0   N  \n",
       "\n",
       "[5 rows x 57 columns]"
      ],
      "text/html": "<div>\n<style scoped>\n    .dataframe tbody tr th:only-of-type {\n        vertical-align: middle;\n    }\n\n    .dataframe tbody tr th {\n        vertical-align: top;\n    }\n\n    .dataframe thead th {\n        text-align: right;\n    }\n</style>\n<table border=\"1\" class=\"dataframe\">\n  <thead>\n    <tr style=\"text-align: right;\">\n      <th></th>\n      <th>0</th>\n      <th>1</th>\n      <th>2</th>\n      <th>3</th>\n      <th>4</th>\n      <th>5</th>\n      <th>6</th>\n      <th>7</th>\n      <th>8</th>\n      <th>9</th>\n      <th>...</th>\n      <th>47</th>\n      <th>48</th>\n      <th>49</th>\n      <th>50</th>\n      <th>51</th>\n      <th>52</th>\n      <th>53</th>\n      <th>54</th>\n      <th>55</th>\n      <th>56</th>\n    </tr>\n  </thead>\n  <tbody>\n    <tr>\n      <td>0</td>\n      <td>28</td>\n      <td>79</td>\n      <td>4</td>\n      <td>1</td>\n      <td>38</td>\n      <td>2</td>\n      <td>2020</td>\n      <td>10</td>\n      <td>22</td>\n      <td>2.0</td>\n      <td>...</td>\n      <td>0</td>\n      <td>N</td>\n      <td>0</td>\n      <td>N</td>\n      <td>0</td>\n      <td>N</td>\n      <td>0</td>\n      <td>N</td>\n      <td>0</td>\n      <td>N</td>\n    </tr>\n    <tr>\n      <td>1</td>\n      <td>28</td>\n      <td>79</td>\n      <td>4</td>\n      <td>6</td>\n      <td>48</td>\n      <td>2</td>\n      <td>2020</td>\n      <td>10</td>\n      <td>22</td>\n      <td>0.2</td>\n      <td>...</td>\n      <td>0</td>\n      <td>N</td>\n      <td>0</td>\n      <td>N</td>\n      <td>0</td>\n      <td>N</td>\n      <td>0</td>\n      <td>N</td>\n      <td>0</td>\n      <td>N</td>\n    </tr>\n    <tr>\n      <td>2</td>\n      <td>28</td>\n      <td>79</td>\n      <td>4</td>\n      <td>7</td>\n      <td>8</td>\n      <td>2</td>\n      <td>2020</td>\n      <td>10</td>\n      <td>22</td>\n      <td>2.0</td>\n      <td>...</td>\n      <td>0</td>\n      <td>N</td>\n      <td>0</td>\n      <td>N</td>\n      <td>0</td>\n      <td>N</td>\n      <td>0</td>\n      <td>N</td>\n      <td>0</td>\n      <td>N</td>\n    </tr>\n    <tr>\n      <td>3</td>\n      <td>28</td>\n      <td>79</td>\n      <td>4</td>\n      <td>8</td>\n      <td>8</td>\n      <td>2</td>\n      <td>2020</td>\n      <td>10</td>\n      <td>22</td>\n      <td>14.0</td>\n      <td>...</td>\n      <td>0</td>\n      <td>N</td>\n      <td>0</td>\n      <td>N</td>\n      <td>0</td>\n      <td>N</td>\n      <td>0</td>\n      <td>N</td>\n      <td>0</td>\n      <td>N</td>\n    </tr>\n    <tr>\n      <td>4</td>\n      <td>28</td>\n      <td>79</td>\n      <td>4</td>\n      <td>12</td>\n      <td>8</td>\n      <td>2</td>\n      <td>2020</td>\n      <td>10</td>\n      <td>22</td>\n      <td>16.0</td>\n      <td>...</td>\n      <td>0</td>\n      <td>N</td>\n      <td>0</td>\n      <td>N</td>\n      <td>0</td>\n      <td>N</td>\n      <td>0</td>\n      <td>N</td>\n      <td>0</td>\n      <td>N</td>\n    </tr>\n  </tbody>\n</table>\n<p>5 rows × 57 columns</p>\n</div>"
     },
     "metadata": {},
     "execution_count": 16
    }
   ],
   "source": [
    "datos.head()"
   ]
  },
  {
   "cell_type": "code",
   "execution_count": null,
   "metadata": {},
   "outputs": [],
   "source": []
  }
 ],
 "metadata": {
  "colab": {
   "name": "1-DataAccess.ipynb",
   "provenance": []
  },
  "kernelspec": {
   "display_name": "Python 3",
   "language": "python",
   "name": "python3"
  },
  "language_info": {
   "codemirror_mode": {
    "name": "ipython",
    "version": 3
   },
   "file_extension": ".py",
   "mimetype": "text/x-python",
   "name": "python",
   "nbconvert_exporter": "python",
   "pygments_lexer": "ipython3",
   "version": "3.7.4-final"
  }
 },
 "nbformat": 4,
 "nbformat_minor": 4
}