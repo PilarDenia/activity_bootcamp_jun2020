{
 "cells": [
  {
   "cell_type": "markdown",
   "metadata": {
    "id": "ZZqRbOggp7cN"
   },
   "source": [
    "# Ejemplo de WebScraping con Python\n",
    "## Obtener Ibex35 bolsa de Madrid\n",
    "\n",
    "El objetivo es obtener el valor del indice Ibex 35 de la página http://www.bolsamadrid.es/esp/aspx/Indices/Resumen.aspx. Queremos escribir los datos en un fichero csv."
   ]
  },
  {
   "cell_type": "code",
   "execution_count": 1,
   "metadata": {
    "ExecuteTime": {
     "end_time": "2019-01-27T17:53:23.662759Z",
     "start_time": "2019-01-27T17:53:23.651938Z"
    },
    "id": "XUAvkdIBp7cO"
   },
   "outputs": [],
   "source": [
    "# import libraries \n",
    "import pandas as pd \n",
    "import requests\n",
    "from bs4 import BeautifulSoup\n",
    "import csv\n",
    "from datetime import datetime"
   ]
  },
  {
   "cell_type": "code",
   "execution_count": 2,
   "metadata": {
    "ExecuteTime": {
     "end_time": "2019-01-27T17:38:57.659158Z",
     "start_time": "2019-01-27T17:38:57.655785Z"
    },
    "id": "985uKMyTp7cR"
   },
   "outputs": [],
   "source": [
    "# indicar la ruta\n",
    "url = 'http://www.bolsamadrid.es/esp/aspx/Indices/Resumen.aspx'\n"
   ]
  },
  {
   "cell_type": "code",
   "execution_count": 3,
   "metadata": {
    "ExecuteTime": {
     "end_time": "2019-01-27T17:40:11.127856Z",
     "start_time": "2019-01-27T17:40:10.642601Z"
    },
    "id": "dGObV_Hep7cT"
   },
   "outputs": [],
   "source": [
    "# realizar la petición con requests, y crear un objeto de BS. Indicar que el parser es \"lxml\"\n",
    "page = requests.get(url).text\n",
    "soup = BeautifulSoup(page, 'lxml')"
   ]
  },
  {
   "cell_type": "code",
   "execution_count": 4,
   "metadata": {
    "ExecuteTime": {
     "end_time": "2019-01-27T17:42:00.515429Z",
     "start_time": "2019-01-27T17:42:00.504178Z"
    },
    "id": "5TLakEXHp7cW"
   },
   "outputs": [
    {
     "output_type": "execute_result",
     "data": {
      "text/plain": [
       "tr align=\"right\">\n",
       "<td align=\"left\" class=\"DifFlSb\">IBEX TOP Dividendo®</td><td>1.769,70</td><td>1.783,70</td><td class=\"DifClSb\">0,79</td><td>1.790,60</td><td>1.743,10</td><td align=\"center\">22/10/2020</td><td align=\"center\">17:38:00</td><td class=\"DifClBj Ult\">-37,92</td>\n",
       "</tr><tr align=\"right\">\n",
       "<td align=\"left\" class=\"DifFlBj\">IBEX 35® con Dividendos Netos</td><td>17.072,10</td><td>17.034,80</td><td class=\"DifClBj\">-0,22</td><td>17.142,40</td><td>16.816,00</td><td align=\"center\">22/10/2020</td><td align=\"center\">17:38:00</td><td class=\"DifClBj Ult\">-27,44</td>\n",
       "</tr><tr align=\"right\">\n",
       "<td align=\"left\" class=\"DifFlSb\">IBEX 35® Inverso</td><td>3.031,10</td><td>3.037,70</td><td class=\"DifClSb\">0,22</td><td>3.076,60</td><td>3.018,60</td><td align=\"center\">22/10/2020</td><td align=\"center\">17:38:00</td><td class=\"DifClSb Ult\">23,92</td>\n",
       "</tr><tr align=\"right\">\n",
       "<td align=\"left\" class=\"DifFlSb\">IBEX 35® Doble Inverso</td><td>476,40</td><td>478,50</td><td class=\"DifClSb\">0,44</td><td>490,70</td><td>472,50</td><td align=\"center\">22/10/2020</td><td align=\"center\">17:38:00</td><td class=\"DifClSb Ult\">39,83</td>\n",
       "</tr><tr align=\"right\">\n",
       "<td align=\"left\" class=\"DifFlSb\">IBEX 35® Inverso X3</td><td>29,60</td><td>29,80</td><td class=\"DifClSb\">0,68</td><td>30,90</td><td>29,20</td><td align=\"center\">22/10/2020</td><td align=\"center\">17:38:00</td><td class=\"DifClSb Ult\">41,90</td>\n",
       "</tr><tr align=\"right\">\n",
       "<td align=\"left\" class=\"DifFlSb\">IBEX 35® Inverso X5</td><td>7.949,50</td><td>8.036,00</td><td class=\"DifClSb\">1,09</td><td>8.545,70</td><td>7.785,60</td><td align=\"center\">22/10/2020</td><td align=\"center\">17:38:00</td><td class=\"DifClSb Ult\">14,84</td>\n",
       "</tr><tr align=\"right\">\n",
       "<td align=\"left\" class=\"DifFlSb\">IBEX 35® Inverso X10</td><td>4.836,30</td><td>4.941,60</td><td class=\"DifClSb\">2,18</td><td>5.561,70</td><td>4.636,90</td><td align=\"center\">22/10/2020</td><td align=\"center\">17:38:00</td><td class=\"DifClSb Ult\">300,36</td>\n",
       "</tr><tr align=\"right\">\n",
       "<td align=\"left\" class=\"DifFlBj\">IBEX 35® Doble Apalancado</td><td>2.530,20</td><td>2.519,10</td><td class=\"DifClBj\">-0,44</td><td>2.551,00</td><td>2.454,30</td><td align=\"center\">22/10/2020</td><td align=\"center\">17:38:00</td><td class=\"DifClBj Ult\">-54,64</td>\n",
       "</tr><tr align=\"right\">\n",
       "<td align=\"left\" class=\"DifFlBj\">IBEX 35® Doble Apalancado Bruto</td><td>11.270,70</td><td>11.221,50</td><td class=\"DifClBj\">-0,44</td><td>11.363,50</td><td>10.932,40</td><td align=\"center\">22/10/2020</td><td align=\"center\">17:38:00</td><td class=\"DifClBj Ult\">-52,43</td>\n",
       "</tr><tr align=\"right\">\n",
       "<td align=\"left\" class=\"DifFlBj\">IBEX 35® Doble Apalancado Neto</td><td>9.463,00</td><td>9.421,60</td><td class=\"DifClBj\">-0,44</td><td>9.540,90</td><td>9.179,10</td><td align=\"center\">22/10/2020</td><td align=\"center\">17:38:00</td><td class=\"DifClBj Ult\">-52,85</td>\n",
       "</tr><tr align=\"right\">\n",
       "<td align=\"left\" class=\"DifFlBj\">IBEX 35® Apalancado X3</td><td>289,60</td><td>287,70</td><td class=\"DifClBj\">-0,66</td><td>293,20</td><td>276,60</td><td align=\"center\">22/10/2020</td><td align=\"center\">17:38:00</td><td class=\"DifClBj Ult\">-74,39</td>\n",
       "</tr><tr align=\"right\">\n",
       "<td align=\"left\" class=\"DifFlBj\">IBEX 35® Apalancado Neto X3</td><td>3.204,20</td><td>3.183,20</td><td class=\"DifClBj\">-0,66</td><td>3.243,80</td><td>3.060,00</td><td align=\"center\">22/10/2020</td><td align=\"center\">17:38:00</td><td class=\"DifClBj Ult\">-72,91</td>\n",
       "</tr><tr align=\"right\">\n",
       "<td align=\"left\" class=\"DifFlBj\">IBEX 35® Apalancado Neto X5</td><td>126,40</td><td>125,00</td><td class=\"DifClBj\">-1,11</td><td>129,00</td><td>116,90</td><td align=\"center\">22/10/2020</td><td align=\"center\">17:38:00</td><td class=\"DifClBj Ult\">-94,58</td>\n",
       "</tr><tr align=\"right\">\n",
       "<td align=\"left\" class=\"DifFlBj\">IBEX 35® Apalancado Neto X10</td><td>88,30</td><td>86,40</td><td class=\"DifClBj\">-2,15</td><td>91,90</td><td>75,10</td><td align=\"center\">22/10/2020</td><td align=\"center\">17:38:00</td><td class=\"DifClBj Ult\">-95,36</td>\n",
       "</tr><tr align=\"right\">\n",
       "<td align=\"left\" class=\"DifFlBj\">IBEX 35® Capped Net Return</td><td>17.118,90</td><td>17.081,50</td><td class=\"DifClBj\">-0,22</td><td>17.189,40</td><td>16.862,00</td><td align=\"center\">22/10/2020</td><td align=\"center\">17:38:00</td><td class=\"DifClBj Ult\">-27,44</td>\n",
       "</tr><tr align=\"right\">\n",
       "<td align=\"left\" class=\"DifFlIg\">IBEX 35® Impacto Div</td><td>185,90</td><td>185,90</td><td class=\"DifClIg\">- </td><td>185,90</td><td>185,90</td><td align=\"center\">22/10/2020</td><td align=\"center\">17:38:00</td><td class=\"DifClIg Ult\">- </td>\n",
       "</tr><tr align=\"right\">\n",
       "<td align=\"left\" class=\"DifFlBj\">IBEX 35® Volatilidad Objetivo 10% Estándar</td><td>162,50</td><td>162,30</td><td class=\"DifClBj\">-0,12</td><td>162,80</td><td>161,30</td><td align=\"center\">22/10/2020</td><td align=\"center\">17:38:00</td><td class=\"DifClBj Ult\">-13,81</td>\n",
       "</tr><tr align=\"right\">\n",
       "<td align=\"left\" class=\"DifFlBj\">IBEX 35® Volatilidad Objetivo 12% Estándar</td><td>164,00</td><td>163,80</td><td class=\"DifClBj\">-0,12</td><td>164,40</td><td>162,60</td><td align=\"center\">22/10/2020</td><td align=\"center\">17:38:00</td><td class=\"DifClBj Ult\">-16,60</td>\n",
       "</tr><tr align=\"right\">\n",
       "<td align=\"left\" class=\"DifFlBj\">IBEX 35® Volatilidad Objetivo 15% Estándar</td><td>162,80</td><td>162,50</td><td class=\"DifClBj\">-0,18</td><td>163,30</td><td>161,10</td><td align=\"center\">22/10/2020</td><td align=\"center\">17:38:00</td><td class=\"DifClBj Ult\">-20,30</td>\n",
       "</tr><tr align=\"right\">\n",
       "<td align=\"left\" class=\"DifFlBj\">IBEX 35® Volatilidad Objetivo 18% Estándar</td><td>157,90</td><td>157,60</td><td class=\"DifClBj\">-0,19</td><td>158,50</td><td>155,90</td><td align=\"center\">22/10/2020</td><td align=\"center\">17:38:00</td><td class=\"DifClBj Ult\">-24,19</td>\n",
       "</tr><tr align=\"right\">\n",
       "<td align=\"left\" class=\"DifFlBj\">IBEX 35® Volatilidad Objetivo 10% Financiado</td><td>118,00</td><td>117,90</td><td class=\"DifClBj\">-0,08</td><td>118,20</td><td>117,20</td><td align=\"center\">22/10/2020</td><td align=\"center\">17:38:00</td><td class=\"DifClBj Ult\">-13,31</td>\n",
       "</tr><tr align=\"right\">\n",
       "<td align=\"left\" class=\"DifFlBj\">IBEX 35® Volatilidad Objetivo 12% Financiado</td><td>116,60</td><td>116,50</td><td class=\"DifClBj\">-0,09</td><td>116,90</td><td>115,60</td><td align=\"center\">22/10/2020</td><td align=\"center\">17:38:00</td><td class=\"DifClBj Ult\">-16,37</td>\n",
       "</tr><tr align=\"right\">\n",
       "<td align=\"left\" class=\"DifFlBj\">IBEX 35® Volatilidad Objetivo 15% Financiado</td><td>119,20</td><td>119,00</td><td class=\"DifClBj\">-0,17</td><td>119,50</td><td>117,90</td><td align=\"center\">22/10/2020</td><td align=\"center\">17:38:00</td><td class=\"DifClBj Ult\">-20,35</td>\n",
       "</tr><tr align=\"right\">\n",
       "<td align=\"left\" class=\"DifFlBj\">IBEX 35® Volatilidad Objetivo 18% Financiado</td><td>111,50</td><td>111,30</td><td class=\"DifClBj\">-0,18</td><td>111,90</td><td>110,10</td><td align=\"center\">22/10/2020</td><td align=\"center\">17:38:00</td><td class=\"DifClBj Ult\">-23,61</td>\n",
       "</tr><tr align=\"right\">\n",
       "<td align=\"left\" class=\"DifFlBj\">VIBEX®</td><td>26,23</td><td>25,94</td><td class=\"DifClBj\">-1,11</td><td>25,94</td><td>25,94</td><td align=\"center\">22/10/2020</td><td align=\"center\"> </td><td class=\"DifClSb Ult\">107,69</td>\n",
       "</tr><tr align=\"right\">\n",
       "<td align=\"left\" class=\"DifFlSb\">IBEX 35® Skew</td><td>5,58</td><td>5,65</td><td class=\"DifClSb\">1,25</td><td>5,65</td><td>5,65</td><td align=\"center\">22/10/2020</td><td align=\"center\"> </td><td class=\"DifClSb Ult\">10,78</td>\n",
       "</tr><tr align=\"right\">\n",
       "<td align=\"left\" class=\"DifFlIg\">IBEX 35® BuyWrite</td><td>1.236,06</td><td>1.236,09</td><td class=\"DifClIg\">0,00</td><td>1.236,09</td><td>1.236,09</td><td align=\"center\">22/10/2020</td><td align=\"center\"> </td><td class=\"DifClBj Ult\">-24,80</td>\n",
       "</tr><tr align=\"right\">\n",
       "<td align=\"left\" class=\"DifFlSb\">IBEX 35® PutWrite</td><td>1.264,77</td><td>1.265,15</td><td class=\"DifClSb\">0,03</td><td>1.265,15</td><td>1.265,15</td><td align=\"center\">22/10/2020</td><td align=\"center\"> </td><td class=\"DifClBj Ult\">-22,93</td>\n",
       "</tr><tr align=\"right\">\n",
       "<td align=\"left\" class=\"DifFlBj\">IBEX 35® Protective Put</td><td>566,35</td><td>565,43</td><td class=\"DifClBj\">-0,16</td><td>565,43</td><td>565,43</td><td align=\"center\">22/10/2020</td><td align=\"center\"> </td><td class=\"DifClBj Ult\">-5,72</td>\n",
       "</tr><tr align=\"right\">\n",
       "<td align=\"left\" class=\"DifFlSb\">IBEX 35® Venta de Strangle</td><td>1.585,94</td><td>1.588,58</td><td class=\"DifClSb\">0,17</td><td>1.588,58</td><td>1.588,58</td><td align=\"center\">22/10/2020</td><td align=\"center\"> </td><td class=\"DifClBj Ult\">-22,79</td>\n",
       "</tr><tr align=\"right\">\n",
       "<td align=\"left\" class=\"DifFlSb\">IBEX TOP Dividendo® Rentabilidad</td><td>4.603,20</td><td>4.639,50</td><td class=\"DifClSb\">0,79</td><td>4.657,50</td><td>4.533,90</td><td align=\"center\">22/10/2020</td><td align=\"center\">17:38:00</td><td class=\"DifClBj Ult\">-35,16</td>\n",
       "</tr><tr align=\"right\">\n",
       "<td align=\"left\" class=\"DifFlSb\">IBEX TOP Dividendo® Rentabilidad Neta</td><td>3.836,80</td><td>3.867,00</td><td class=\"DifClSb\">0,79</td><td>3.882,00</td><td>3.779,00</td><td align=\"center\">22/10/2020</td><td align=\"center\">17:38:00</td><td class=\"DifClBj Ult\">-35,70</td>\n",
       "</tr><tr align=\"right\">\n",
       "<td align=\"left\" class=\"DifFlSb\">IBEX MEDIUM CAP® con Dividendos</td><td>11.653,50</td><td>11.703,70</td><td class=\"DifClSb\">0,43</td><td>11.737,00</td><td>11.613,80</td><td align=\"center\">22/10/2020</td><td align=\"center\">17:38:00</td><td class=\"DifClBj Ult\">-23,30</td>\n",
       "</tr><tr align=\"right\">\n",
       "<td align=\"left\" class=\"DifFlSb\">IBEX MEDIUM CAP® con Dividendos Netos</td><td>10.870,60</td><td>10.917,40</td><td class=\"DifClSb\">0,43</td><td>10.948,40</td><td>10.833,50</td><td align=\"center\">22/10/2020</td><td align=\"center\">17:38:00</td><td class=\"DifClBj Ult\">-23,61</td>\n",
       "</tr><tr align=\"right\">\n",
       "<td align=\"left\" class=\"DifFlBj\">IBEX SMALL CAP® con Dividendos</td><td>9.628,60</td><td>9.613,80</td><td class=\"DifClBj\">-0,15</td><td>9.665,30</td><td>9.534,70</td><td align=\"center\">22/10/2020</td><td align=\"center\">17:38:00</td><td class=\"DifClBj Ult\">-2,33</td>\n",
       "</tr><tr align=\"right\">\n",
       "<td align=\"left\" class=\"DifFlBj\">IBEX SMALL CAP® con Dividendos Netos</td><td>9.287,80</td><td>9.273,60</td><td class=\"DifClBj\">-0,15</td><td>9.323,20</td><td>9.197,20</td><td align=\"center\">22/10/2020</td><td align=\"center\">17:38:00</td><td class=\"DifClBj Ult\">-2,57</td>\n",
       "</tr><tr align=\"right\">\n",
       "<td align=\"left\" class=\"DifFlBj\">IBEX Growth Market® 15</td><td>2.054,70</td><td>2.050,70</td><td class=\"DifClBj\">-0,19</td><td>2.078,40</td><td>2.041,00</td><td align=\"center\">22/10/2020</td><td align=\"center\">17:39:00</td><td class=\"DifClSb Ult\">36,60</td>\n",
       "</tr><tr align=\"right\">\n",
       "<td align=\"left\" class=\"DifFlSb\">IBEX Growth Market® All Share</td><td>1.640,60</td><td>1.642,10</td><td class=\"DifClSb\">0,09</td><td>1.656,60</td><td>1.635,70</td><td align=\"center\">22/10/2020</td><td align=\"center\">17:39:00</td><td class=\"DifClSb Ult\">27,76</td>\n",
       "</tr><tr align=\"right\">\n",
       "<td align=\"left\" class=\"DifFlBj\">FTSE4Good IBEX</td><td>6.940,60</td><td>6.933,20</td><td class=\"DifClBj\">-0,11</td><td>6.968,50</td><td>6.835,40</td><td align=\"center\">22/10/2020</td><td align=\"center\">17:38:00</td><td class=\"DifClBj Ult\">-29,19</td>\n",
       "</tr><tr align=\"right\">\n",
       "<td align=\"left\" class=\"DifFlBj\">FTSE4Good IBEX Total Return</td><td>15.164,00</td><td>15.147,90</td><td class=\"DifClBj\">-0,11</td><td>15.224,90</td><td>14.934,10</td><td align=\"center\">22/10/2020</td><td align=\"center\">17:38:00</td><td class=\"DifClBj Ult\">-27,32</td>\n",
       "</tr><tr align=\"right\">\n",
       "<td align=\"left\" class=\"DifFlBj\">FTSE4Good IBEX Net Return</td><td>13.470,80</td><td>13.456,50</td><td class=\"DifClBj\">-0,11</td><td>13.524,90</td><td>13.266,50</td><td align=\"center\">22/10/2020</td><td align=\"center\">17:38:00</td><td class=\"DifClBj Ult\">-27,68</td>\n",
       "</tr><tr align=\"right\">\n",
       "<td align=\"left\" class=\"DifFlSb\">FTSE Latibex All Share</td><td>1.503,90</td><td>1.530,70</td><td class=\"DifClSb\">1,78</td><td>1.530,70</td><td>1.503,20</td><td align=\"center\">22/10/2020</td><td align=\"center\">17:38:00</td><td class=\"DifClBj Ult\">-39,56</td>\n",
       "</tr><tr align=\"right\">\n",
       "<td align=\"left\" class=\"DifFlSb\">FTSE Latibex TOP</td><td>3.580,40</td><td>3.633,20</td><td class=\"DifClSb\">1,47</td><td>3.633,20</td><td>3.575,30</td><td align=\"center\">22/10/2020</td><td align=\"center\">17:38:00</td><td class=\"DifClBj Ult\">-32,62</td>\n",
       "</tr><tr align=\"right\">\n",
       "<td align=\"left\" class=\"DifFlSb\">FTSE Latibex BRASIL</td><td>7.796,20</td><td>7.990,30</td><td class=\"DifClSb\">2,49</td><td>7.990,30</td><td>7.788,60</td><td align=\"center\">22/10/2020</td><td align=\"center\">17:38:00</td><td class=\"DifClBj Ult\">-35,01</td>\n",
       "</tr><tr align=\"right\">\n",
       "<td align=\"left\" class=\"DifFlBj\">I.G.B.M.</td><td>671,02</td><td>669,92</td><td class=\"DifClBj\">-0,16</td><td>673,40</td><td>661,57</td><td align=\"center\">22/10/2020</td><td align=\"center\">17:38:00</td><td class=\"DifClBj Ult\">-29,55</td>\n",
       "</tr><tr align=\"right\">\n",
       "<td align=\"left\" class=\"DifFlBj\">I.G.B.M. Total</td><td>2.817,35</td><td>2.814,08</td><td class=\"DifClBj\">-0,12</td><td>2.814,08</td><td>2.814,08</td><td align=\"center\">22/10/2020</td><td align=\"center\">17:38:00</td><td class=\"DifClBj Ult\">-27,14</td>\n",
       "</tr><tr align=\"right\">\n",
       "<td align=\"left\" class=\"DifFlBj\">BCN GLOBAL 100 (Base 1986)</td><td>487,75</td><td>487,67</td><td class=\"DifClBj\">-0,02</td><td>489,88</td><td>480,67</td><td align=\"center\">22/10/2020</td><td align=\"center\">17:38:00</td><td class=\"DifClBj Ult\">-32,76</td>\n",
       "</tr><tr align=\"right\">\n",
       "<td align=\"left\" class=\"DifFlBj\">BCN GLOBAL 100 (Base 1963)</td><td>1.253,61</td><td>1.253,41</td><td class=\"DifClBj\">-0,02</td><td>1.259,07</td><td>1.235,39</td><td align=\"center\">22/10/2020</td><td align=\"center\">17:38:00</td><td class=\"DifClBj Ult\">-32,76</td>\n",
       "</tr><tr align=\"right\">\n",
       "<td align=\"left\" class=\"DifFlSb\">BCN MID 50</td><td>19.116,79</td><td>19.171,21</td><td class=\"DifClSb\">0,28</td><td>19.223,66</td><td>18.977,82</td><td align=\"center\">22/10/2020</td><td align=\"center\">17:38:00</td><td class=\"DifClBj Ult\">-16,95</td>\n",
       "</tr><tr align=\"right\">\n",
       "<td align=\"left\" class=\"DifFlBj\">BCN PROFIT-30</td><td>8.489,48</td><td>8.465,07</td><td class=\"DifClBj\">-0,29</td><td>8.524,08</td><td>8.353,68</td><td align=\"center\">22/10/2020</td><td align=\"center\">17:38:00</td><td class=\"DifClBj Ult\">-36,52</td>\n",
       "</tr><tr align=\"right\">\n",
       "<td align=\"left\" class=\"DifFlBj\">BCN ROE-30</td><td>14.745,33</td><td>14.680,90</td><td class=\"DifClBj\">-0,44</td><td>14.808,34</td><td>14.530,06</td><td align=\"center\">22/10/2020</td><td align=\"center\">17:38:00</td><td class=\"DifClBj Ult\">-30,05</td>\n",
       "</tr><tr align=\"right\">\n",
       "<td align=\"left\" class=\"DifFlBj\">BCN PER-30</td><td>12.907,16</td><td>12.883,56</td><td class=\"DifClBj\">-0,18</td><td>12.975,73</td><td>12.689,72</td><td align=\"center\">22/10/2020</td><td align=\"center\">17:38:00</td><td class=\"DifClBj Ult\">-40,57</td>\n",
       "</tr><tr align=\"right\">\n",
       "<td align=\"left\" class=\"DifFlBj\">BCN INDEXCAT</td><td>17.066,49</td><td>16.922,32</td><td class=\"DifClBj\">-0,84</td><td>17.047,38</td><td>16.803,12</td><td align=\"center\">22/10/2020</td><td align=\"center\">17:38:00</td><td class=\"DifClBj Ult\">-24,35</td>\n",
       "</tr><tr align=\"right\">\n",
       "<td align=\"left\" class=\"DifFlBj\">BILBAO</td><td>1.097,33</td><td>1.096,05</td><td class=\"DifClBj\">-0,12</td><td>1.103,36</td><td>1.082,40</td><td align=\"center\">22/10/2020</td><td align=\"center\">17:38:00</td><td class=\"DifClBj Ult\">-26,21</td>\n",
       "</tr><tr align=\"right\">\n",
       "<td align=\"left\" class=\"DifFlBj\">VALENCIA</td><td>890,62</td><td>889,62</td><td class=\"DifClBj\">-0,11</td><td>893,74</td><td>878,66</td><td align=\"center\">22/10/2020</td><td align=\"center\">17:38:00</td><td class=\"DifClBj Ult\">-29,64</td>\n",
       "</tr><tr align=\"right\">\n",
       "<td align=\"left\" class=\"DifFlSb\">Índice TEF Apalancado X3</td><td>119,10</td><td>119,60</td><td class=\"DifClSb\">0,42</td><td>120,20</td><td>112,30</td><td align=\"center\">22/10/2020</td><td align=\"center\">17:38:00</td><td class=\"DifClBj Ult\">-93,17</td>\n",
       "</tr><tr align=\"right\">\n",
       "<td align=\"left\" class=\"DifFlSb\">Índice SAN Apalancado X3</td><td>73,70</td><td>76,20</td><td class=\"DifClSb\">3,39</td><td>77,30</td><td>69,00</td><td align=\"center\">22/10/2020</td><td align=\"center\">17:38:00</td><td class=\"DifClBj Ult\">-96,08</td>\n",
       "</tr><tr align=\"right\">\n",
       "<td align=\"left\" class=\"DifFlSb\">Índice BBVA Apalancado X3</td><td>72,90</td><td>75,90</td><td class=\"DifClSb\">4,12</td><td>77,10</td><td>67,20</td><td align=\"center\">22/10/2020</td><td align=\"center\">17:38:00</td><td class=\"DifClBj Ult\">-94,70</td>\n",
       "</tr><tr align=\"right\">\n",
       "<td align=\"left\" class=\"DifFlBj\">Índice ITX Apalancado X3</td><td>2.375,00</td><td>2.351,20</td><td class=\"DifClBj\">-1,00</td><td>2.499,80</td><td>2.279,90</td><td align=\"center\">22/10/2020</td><td align=\"center\">17:38:00</td><td class=\"DifClBj Ult\">-70,94</td>\n",
       "</tr><tr align=\"right\">\n",
       "<td align=\"left\" class=\"DifFlSb\">Índice TEF Apalancado X5</td><td>118,50</td><td>119,30</td><td class=\"DifClSb\">0,68</td><td>120,30</td><td>107,20</td><td align=\"center\">22/10/2020</td><td align=\"center\">17:38:00</td><td class=\"DifClSb Ult\">257,19</td>\n",
       "</tr><tr align=\"right\">\n",
       "<td align=\"left\" class=\"DifFlSb\">Índice SAN Apalancado X5</td><td>226,90</td><td>239,70</td><td class=\"DifClSb\">5,64</td><td>245,40</td><td>202,70</td><td align=\"center\">22/10/2020</td><td align=\"center\">17:38:00</td><td class=\"DifClBj Ult\">-14,94</td>\n",
       "</tr><tr align=\"right\">\n",
       "<td align=\"left\" class=\"DifFlSb\">Índice BBVA Apalancado X5</td><td>35,90</td><td>38,40</td><td class=\"DifClSb\">6,96</td><td>39,30</td><td>31,30</td><td align=\"center\">22/10/2020</td><td align=\"center\">17:38:00</td><td class=\"DifClBj Ult\">-22,11</td>\n",
       "</tr><tr align=\"right\">\n",
       "<td align=\"left\" class=\"DifFlBj\">Índice ITX Apalancado X5</td><td>155,10</td><td>152,50</td><td class=\"DifClBj\">-1,68</td><td>168,70</td><td>144,70</td><td align=\"center\">22/10/2020</td><td align=\"center\">17:38:00</td><td class=\"DifClBj Ult\">-93,82</td>\n",
       "</tr><tr align=\"right\">\n",
       "<td align=\"left\" class=\"DifFlBj\">Índice TEF Inverso X3</td><td>7.278,80</td><td>7.246,00</td><td class=\"DifClBj\">-0,45</td><td>7.690,10</td><td>7.209,70</td><td align=\"center\">22/10/2020</td><td align=\"center\">17:38:00</td><td class=\"DifClSb Ult\">103,73</td>\n",
       "</tr><tr align=\"right\">\n",
       "<td align=\"left\" class=\"DifFlBj\">Índice SAN Inverso X3</td><td>1.194,30</td><td>1.153,30</td><td class=\"DifClBj\">-3,43</td><td>1.270,10</td><td>1.135,30</td><td align=\"center\">22/10/2020</td><td align=\"center\">17:38:00</td><td class=\"DifClSb Ult\">101,98</td>\n",
       "</tr><tr align=\"right\">\n",
       "<td align=\"left\" class=\"DifFlBj\">Índice BBVA Inverso X3</td><td>1.633,70</td><td>1.565,30</td><td class=\"DifClBj\">-4,19</td><td>1.759,80</td><td>1.538,70</td><td align=\"center\">22/10/2020</td><td align=\"center\">17:38:00</td><td class=\"DifClSb Ult\">23,63</td>\n",
       "</tr><tr align=\"right\">\n",
       "<td align=\"left\" class=\"DifFlSb\">Índice ITX Inverso X3</td><td>917,50</td><td>926,20</td><td class=\"DifClSb\">0,95</td><td>953,80</td><td>868,80</td><td align=\"center\">22/10/2020</td><td align=\"center\">17:38:00</td><td class=\"DifClBj Ult\">-14,17</td>\n",
       "</tr><tr align=\"right\">\n",
       "<td align=\"left\" class=\"DifFlBj\">Índice TEF Inverso X5</td><td>885,10</td><td>878,50</td><td class=\"DifClBj\">-0,75</td><td>968,40</td><td>871,10</td><td align=\"center\">22/10/2020</td><td align=\"center\">17:38:00</td><td class=\"DifClSb Ult\">51,26</td>\n",
       "</tr><tr align=\"right\">\n",
       "<td align=\"left\" class=\"DifFlBj\">Índice SAN Inverso X5</td><td>1.047,10</td><td>987,20</td><td class=\"DifClBj\">-5,72</td><td>1.157,90</td><td>960,90</td><td align=\"center\">22/10/2020</td><td align=\"center\">17:38:00</td><td class=\"DifClSb Ult\">861,29</td>\n",
       "</tr><tr align=\"right\">\n",
       "<td align=\"left\" class=\"DifFlBj\">Índice BBVA Inverso X5</td><td>20.740,90</td><td>19.294,10</td><td class=\"DifClBj\">-6,98</td><td>23.409,40</td><td>18.731,00</td><td align=\"center\">22/10/2020</td><td align=\"center\">17:38:00</td><td class=\"DifClSb Ult\">808,79</td>\n",
       "</tr><tr align=\"right\">\n",
       "<td align=\"left\" class=\"DifFlSb\">Índice ITX Inverso X5</td><td>30,30</td><td>30,80</td><td class=\"DifClSb\">1,65</td><td>32,30</td><td>27,60</td><td align=\"center\">22/10/2020</td><td align=\"center\">17:38:00</td><td class=\"DifClBj Ult\">-64,84</td>\n",
       "</tr>\n",
       "</table>"
      ]
     },
     "metadata": {},
     "execution_count": 4
    }
   ],
   "source": [
    "# Obtenemos la tabla por un ID específico\n",
    "# El atributo es 'id': 'ctl00_Contenido_tblÍndices'\n",
    "\n",
    "tabla = soup.find('table', attrs = {'id': 'ctl00_Contenido_tblÍndices'})\n",
    "tabla"
   ]
  },
  {
   "cell_type": "code",
   "execution_count": 5,
   "metadata": {
    "ExecuteTime": {
     "end_time": "2019-01-27T17:55:08.443093Z",
     "start_time": "2019-01-27T17:55:08.436365Z"
    },
    "id": "DJFGMM_5p7cY",
    "outputId": "febdb8a9-35b6-47de-c91d-4d977efe7573"
   },
   "outputs": [
    {
     "output_type": "stream",
     "name": "stdout",
     "text": [
      "Indice: IBEX 35®\nValor: 6.796,60\n"
     ]
    }
   ],
   "source": [
    "# quedarse con los valores correspondientes al Ibex 35, y a su indice\n",
    "\n",
    "name=\"\"\n",
    "price=\"\"\n",
    "nroFila=0\n",
    "for fila in tabla.find_all(\"tr\"):\n",
    "    if nroFila==1:\n",
    "        nroCelda=0\n",
    "        for celda in fila.find_all('td'):\n",
    "            if nroCelda==0:\n",
    "                name=celda.text\n",
    "                print(\"Indice:\", name)\n",
    "            if nroCelda==2:\n",
    "                price=celda.text\n",
    "                print(\"Valor:\", price)\n",
    "            nroCelda=nroCelda+1\n",
    "    nroFila=nroFila+1\n"
   ]
  },
  {
   "cell_type": "code",
   "execution_count": 8,
   "metadata": {
    "ExecuteTime": {
     "end_time": "2019-01-27T17:56:28.279786Z",
     "start_time": "2019-01-27T17:56:28.271938Z"
    },
    "id": "j1o4l0AWp7cb"
   },
   "outputs": [],
   "source": [
    "# Abrimos el csv con append para que pueda agregar contenidos al final del archivo\n",
    "# opcionalmente podemos incluir la fecha con datetime.now()\n",
    "# Abrimos el csv con append para que pueda agregar contenidos al final del archivo\n",
    "with open('bolsa_ibex35.csv', 'a') as csv_file:\n",
    "    writer = csv.writer(csv_file)\n",
    "    writer.writerow([name, price, datetime.now()])"
   ]
  },
  {
   "cell_type": "markdown",
   "metadata": {
    "id": "H1kp6UHjp7ce"
   },
   "source": [
    "El artículo completo en www.aprendemachinelearning.com"
   ]
  },
  {
   "cell_type": "markdown",
   "metadata": {
    "id": "BMtoJhc0p7ce"
   },
   "source": [
    "## Acediendo a datos de twitter\n",
    "\n",
    "Vamos a acceder a los datos de twitter utilizando la API de Twitter, y la libreria tweepy, y vamos a guardar los datos en un fichero CSV."
   ]
  },
  {
   "cell_type": "markdown",
   "metadata": {
    "id": "LtjjOAs7p7cf"
   },
   "source": [
    "Para ello en primer lugar teneis que crear una aplicación en el área de desarrolladores de twitter, lo que nos permitirá acceder la API Key, el secret API Key, y Los Tokens de acceso\n"
   ]
  },
  {
   "cell_type": "markdown",
   "metadata": {
    "id": "H9pvDAIGp7cf"
   },
   "source": [
    "1. Importar las librerias necesarias"
   ]
  },
  {
   "cell_type": "code",
   "execution_count": null,
   "metadata": {
    "id": "jT8IH51dp7cg"
   },
   "outputs": [],
   "source": []
  },
  {
   "cell_type": "markdown",
   "metadata": {
    "id": "jmbRr2Lxp7ci"
   },
   "source": [
    "2. Crear las variables con los tokens y los Ids de las APIs"
   ]
  },
  {
   "cell_type": "code",
   "execution_count": 5,
   "metadata": {
    "id": "ddZblCjup7ci"
   },
   "outputs": [],
   "source": [
    "\n",
    "access_token = \"\"  \n",
    "access_token_secret = \"\"  \n",
    "consumer_key = \"\"  \n",
    "consumer_secret = \"\"  \n",
    " \n"
   ]
  },
  {
   "cell_type": "markdown",
   "metadata": {
    "id": "U0qq_GUVp7ck"
   },
   "source": [
    "3. Autenticarse con tweepy, y crear un objeto API de tweepy"
   ]
  },
  {
   "cell_type": "code",
   "execution_count": null,
   "metadata": {
    "id": "vZbH9LsAp7cl"
   },
   "outputs": [],
   "source": []
  },
  {
   "cell_type": "markdown",
   "metadata": {
    "id": "nYCBLrfSp7cn"
   },
   "source": [
    "4. Abrir un fichero csv en modo append e incluir una busqueda por un hastag "
   ]
  },
  {
   "cell_type": "code",
   "execution_count": 6,
   "metadata": {
    "id": "axMsI31zp7cn"
   },
   "outputs": [],
   "source": [
    "\n",
    "#Use csv Writer\n"
   ]
  },
  {
   "cell_type": "code",
   "execution_count": null,
   "metadata": {
    "id": "bzDjTqrKp7cq"
   },
   "outputs": [],
   "source": []
  },
  {
   "cell_type": "markdown",
   "metadata": {
    "id": "2xgvD5hCp7cs"
   },
   "source": [
    "## Acceder a una serie de datos del INE\n",
    "\n",
    "Debemos obtener el identificador, con el generador de solicitudes de las APIs \n",
    "Realizar el mismo proceso que hemos visto en el WarmUp"
   ]
  },
  {
   "cell_type": "code",
   "execution_count": 6,
   "metadata": {
    "id": "EbWl3r0lp7cs"
   },
   "outputs": [
    {
     "output_type": "stream",
     "name": "stdout",
     "text": [
      "{'COD': 'IPC118155', 'Nombre': 'Total Nacional, Total, Base 2011, Seguros médicos, Índice', 'FK_Unidad': 133, 'FK_Escala': 1, 'Data': [{'Fecha': 1451602800000, 'FK_TipoDato': 1, 'FK_Periodo': 1, 'Anyo': 2016, 'Valor': 124.437, 'Secreto': False}, {'Fecha': 1454281200000, 'FK_TipoDato': 1, 'FK_Periodo': 2, 'Anyo': 2016, 'Valor': 124.437, 'Secreto': False}, {'Fecha': 1456786800000, 'FK_TipoDato': 1, 'FK_Periodo': 3, 'Anyo': 2016, 'Valor': 124.437, 'Secreto': False}, {'Fecha': 1459461600000, 'FK_TipoDato': 1, 'FK_Periodo': 4, 'Anyo': 2016, 'Valor': 124.437, 'Secreto': False}, {'Fecha': 1462053600000, 'FK_TipoDato': 1, 'FK_Periodo': 5, 'Anyo': 2016, 'Valor': 124.437, 'Secreto': False}, {'Fecha': 1464732000000, 'FK_TipoDato': 1, 'FK_Periodo': 6, 'Anyo': 2016, 'Valor': 124.437, 'Secreto': False}, {'Fecha': 1467324000000, 'FK_TipoDato': 1, 'FK_Periodo': 7, 'Anyo': 2016, 'Valor': 124.437, 'Secreto': False}, {'Fecha': 1470002400000, 'FK_TipoDato': 1, 'FK_Periodo': 8, 'Anyo': 2016, 'Valor': 124.437, 'Secreto': False}, {'Fecha': 1472680800000, 'FK_TipoDato': 1, 'FK_Periodo': 9, 'Anyo': 2016, 'Valor': 124.437, 'Secreto': False}, {'Fecha': 1475272800000, 'FK_TipoDato': 1, 'FK_Periodo': 10, 'Anyo': 2016, 'Valor': 124.437, 'Secreto': False}, {'Fecha': 1477954800000, 'FK_TipoDato': 1, 'FK_Periodo': 11, 'Anyo': 2016, 'Valor': 124.437, 'Secreto': False}, {'Fecha': 1480546800000, 'FK_TipoDato': 1, 'FK_Periodo': 12, 'Anyo': 2016, 'Valor': 124.437, 'Secreto': False}]}\n"
     ]
    }
   ],
   "source": [
    "import requests\n",
    "import pandas as pd \n",
    "import datetime\n",
    "import json\n",
    "\n",
    "url_plantilla = 'http://servicios.ine.es/wstempus/js/ES/DATOS_SERIE/{codigo}?nult={num_datos}'\n",
    "\n",
    "# codigo de la serie de datos a consultar y numero de datos\n",
    "codigo = 'IPC118155'\n",
    "num_datos = 12\n",
    "url = url_plantilla.format(codigo=codigo, num_datos= num_datos)\n",
    "# realizar la descarga de los datos usando la libreria request, y leyendo el formato json\n",
    "\n",
    "respuesta = requests.get(url)\n",
    "datos = respuesta.json()\n",
    "print(datos)"
   ]
  },
  {
   "cell_type": "code",
   "execution_count": null,
   "metadata": {},
   "outputs": [],
   "source": []
  },
  {
   "cell_type": "code",
   "execution_count": null,
   "metadata": {},
   "outputs": [],
   "source": []
  }
 ],
 "metadata": {
  "colab": {
   "name": "2-ejercicios-DataAccess.ipynb",
   "provenance": []
  },
  "kernelspec": {
   "display_name": "Python 3",
   "language": "python",
   "name": "python3"
  },
  "language_info": {
   "codemirror_mode": {
    "name": "ipython",
    "version": 3
   },
   "file_extension": ".py",
   "mimetype": "text/x-python",
   "name": "python",
   "nbconvert_exporter": "python",
   "pygments_lexer": "ipython3",
   "version": "3.7.4-final"
  }
 },
 "nbformat": 4,
 "nbformat_minor": 4
}