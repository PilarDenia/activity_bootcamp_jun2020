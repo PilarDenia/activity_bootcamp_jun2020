{
 "metadata": {
  "language_info": {
   "codemirror_mode": {
    "name": "ipython",
    "version": 3
   },
   "file_extension": ".py",
   "mimetype": "text/x-python",
   "name": "python",
   "nbconvert_exporter": "python",
   "pygments_lexer": "ipython3",
   "version": "3.7.4-final"
  },
  "orig_nbformat": 2,
  "kernelspec": {
   "name": "python_defaultSpec_1599315800046",
   "display_name": "Python 3.7.4 64-bit ('base': conda)"
  }
 },
 "nbformat": 4,
 "nbformat_minor": 2,
 "cells": [
  {
   "cell_type": "markdown",
   "metadata": {},
   "source": [
    "# Ejercicios Matplotlib 01"
   ]
  },
  {
   "cell_type": "markdown",
   "metadata": {},
   "source": [
    "Hacer los ejemplos del Chet_sheet Matplotlib    \n",
    "\n",
    "https://python-graph-gallery.com/cheat-sheets/"
   ]
  },
  {
   "cell_type": "code",
   "execution_count": 3,
   "metadata": {},
   "outputs": [],
   "source": [
    "import numpy as np \n",
    "import matplotlib.pyplot as plt \n"
   ]
  },
  {
   "cell_type": "code",
   "execution_count": 4,
   "metadata": {},
   "outputs": [],
   "source": [
    "x = np.linspace(0,10,100)\n",
    "y = np.cos(x)\n",
    "z = np.sin(x)"
   ]
  },
  {
   "cell_type": "code",
   "execution_count": 10,
   "metadata": {},
   "outputs": [],
   "source": [
    "data = 2 * np.random.random((10,10))\n",
    "data2 = 3 * np.random.random((10,10))"
   ]
  },
  {
   "cell_type": "code",
   "execution_count": 14,
   "metadata": {},
   "outputs": [
    {
     "output_type": "execute_result",
     "data": {
      "text/plain": "array([[-3.        , -3.        , -3.        , ..., -3.        ,\n        -3.        , -3.        ],\n       [-2.93939394, -2.93939394, -2.93939394, ..., -2.93939394,\n        -2.93939394, -2.93939394],\n       [-2.87878788, -2.87878788, -2.87878788, ..., -2.87878788,\n        -2.87878788, -2.87878788],\n       ...,\n       [ 2.87878788,  2.87878788,  2.87878788, ...,  2.87878788,\n         2.87878788,  2.87878788],\n       [ 2.93939394,  2.93939394,  2.93939394, ...,  2.93939394,\n         2.93939394,  2.93939394],\n       [ 3.        ,  3.        ,  3.        , ...,  3.        ,\n         3.        ,  3.        ]])"
     },
     "metadata": {},
     "execution_count": 14
    }
   ],
   "source": [
    "Y,X = np.mgrid[-3:3:100j,-3:3:100j]\n",
    "U = -1 - X**2 + Y \n",
    "V = 1 + X - Y**2"
   ]
  },
  {
   "cell_type": "code",
   "execution_count": null,
   "metadata": {},
   "outputs": [],
   "source": []
  }
 ]
}