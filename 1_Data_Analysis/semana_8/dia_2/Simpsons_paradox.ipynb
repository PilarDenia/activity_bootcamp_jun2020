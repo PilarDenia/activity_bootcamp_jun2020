{
 "cells": [
  {
   "cell_type": "markdown",
   "metadata": {},
   "source": [
    "# Simpson's Paradox\n",
    "Use `admission_data.csv` for this exercise.\n",
    "\n",
    "No ejecutar ninguna celda"
   ]
  },
  {
   "cell_type": "code",
   "execution_count": 1,
   "metadata": {},
   "outputs": [],
   "source": [
    "import pandas as pd"
   ]
  },
  {
   "cell_type": "code",
   "execution_count": 2,
   "metadata": {},
   "outputs": [
    {
     "output_type": "execute_result",
     "data": {
      "text/plain": [
       "   student_id  gender      major  admitted\n",
       "0       35377  female  Chemistry     False\n",
       "1       56105    male    Physics      True\n",
       "2       31441  female  Chemistry     False\n",
       "3       51765    male    Physics      True\n",
       "4       53714  female    Physics      True"
      ],
      "text/html": "<div>\n<style scoped>\n    .dataframe tbody tr th:only-of-type {\n        vertical-align: middle;\n    }\n\n    .dataframe tbody tr th {\n        vertical-align: top;\n    }\n\n    .dataframe thead th {\n        text-align: right;\n    }\n</style>\n<table border=\"1\" class=\"dataframe\">\n  <thead>\n    <tr style=\"text-align: right;\">\n      <th></th>\n      <th>student_id</th>\n      <th>gender</th>\n      <th>major</th>\n      <th>admitted</th>\n    </tr>\n  </thead>\n  <tbody>\n    <tr>\n      <th>0</th>\n      <td>35377</td>\n      <td>female</td>\n      <td>Chemistry</td>\n      <td>False</td>\n    </tr>\n    <tr>\n      <th>1</th>\n      <td>56105</td>\n      <td>male</td>\n      <td>Physics</td>\n      <td>True</td>\n    </tr>\n    <tr>\n      <th>2</th>\n      <td>31441</td>\n      <td>female</td>\n      <td>Chemistry</td>\n      <td>False</td>\n    </tr>\n    <tr>\n      <th>3</th>\n      <td>51765</td>\n      <td>male</td>\n      <td>Physics</td>\n      <td>True</td>\n    </tr>\n    <tr>\n      <th>4</th>\n      <td>53714</td>\n      <td>female</td>\n      <td>Physics</td>\n      <td>True</td>\n    </tr>\n  </tbody>\n</table>\n</div>"
     },
     "metadata": {},
     "execution_count": 2
    }
   ],
   "source": [
    "# Load and view first few lines of dataset\n",
    "simpson = pd.read_csv(\"admission_data.csv\")\n",
    "simpson.head()"
   ]
  },
  {
   "cell_type": "code",
   "execution_count": 3,
   "metadata": {},
   "outputs": [
    {
     "output_type": "execute_result",
     "data": {
      "text/plain": [
       "   student_id  gender      major  admitted\n",
       "0       35377  female  Chemistry     False\n",
       "1       56105    male    Physics      True\n",
       "2       31441  female  Chemistry     False\n",
       "3       51765    male    Physics      True\n",
       "4       53714  female    Physics      True"
      ],
      "text/html": "<div>\n<style scoped>\n    .dataframe tbody tr th:only-of-type {\n        vertical-align: middle;\n    }\n\n    .dataframe tbody tr th {\n        vertical-align: top;\n    }\n\n    .dataframe thead th {\n        text-align: right;\n    }\n</style>\n<table border=\"1\" class=\"dataframe\">\n  <thead>\n    <tr style=\"text-align: right;\">\n      <th></th>\n      <th>student_id</th>\n      <th>gender</th>\n      <th>major</th>\n      <th>admitted</th>\n    </tr>\n  </thead>\n  <tbody>\n    <tr>\n      <th>0</th>\n      <td>35377</td>\n      <td>female</td>\n      <td>Chemistry</td>\n      <td>False</td>\n    </tr>\n    <tr>\n      <th>1</th>\n      <td>56105</td>\n      <td>male</td>\n      <td>Physics</td>\n      <td>True</td>\n    </tr>\n    <tr>\n      <th>2</th>\n      <td>31441</td>\n      <td>female</td>\n      <td>Chemistry</td>\n      <td>False</td>\n    </tr>\n    <tr>\n      <th>3</th>\n      <td>51765</td>\n      <td>male</td>\n      <td>Physics</td>\n      <td>True</td>\n    </tr>\n    <tr>\n      <th>4</th>\n      <td>53714</td>\n      <td>female</td>\n      <td>Physics</td>\n      <td>True</td>\n    </tr>\n  </tbody>\n</table>\n</div>"
     },
     "metadata": {},
     "execution_count": 3
    }
   ],
   "source": [
    "# Load and view first few lines of dataset\n",
    "simpson[:5]"
   ]
  },
  {
   "cell_type": "code",
   "execution_count": 4,
   "metadata": {
    "tags": []
   },
   "outputs": [
    {
     "output_type": "stream",
     "name": "stdout",
     "text": "<class 'pandas.core.frame.DataFrame'>\nRangeIndex: 500 entries, 0 to 499\nData columns (total 4 columns):\nstudent_id    500 non-null int64\ngender        500 non-null object\nmajor         500 non-null object\nadmitted      500 non-null bool\ndtypes: bool(1), int64(1), object(2)\nmemory usage: 12.3+ KB\n"
    }
   ],
   "source": [
    "simpson.info()"
   ]
  },
  {
   "cell_type": "code",
   "execution_count": 7,
   "metadata": {},
   "outputs": [
    {
     "name": "stdout",
     "output_type": "stream",
     "text": [
      "<class 'pandas.core.frame.DataFrame'>\n",
      "RangeIndex: 500 entries, 0 to 499\n",
      "Data columns (total 4 columns):\n",
      "student_id    500 non-null int64\n",
      "gender        500 non-null object\n",
      "major         500 non-null object\n",
      "admitted      500 non-null bool\n",
      "dtypes: bool(1), int64(1), object(2)\n",
      "memory usage: 12.3+ KB\n"
     ]
    }
   ],
   "source": []
  },
  {
   "cell_type": "markdown",
   "metadata": {},
   "source": [
    "### Proportion and admission rate for each gender"
   ]
  },
  {
   "cell_type": "code",
   "execution_count": 15,
   "metadata": {},
   "outputs": [],
   "source": [
    "# get number of males and females in list\n",
    "fem = simpson[simpson['gender'] == 'female']\n",
    "male = simpson[simpson['gender'] == 'male']"
   ]
  },
  {
   "cell_type": "code",
   "execution_count": 16,
   "metadata": {},
   "outputs": [
    {
     "output_type": "execute_result",
     "data": {
      "text/plain": [
       "     student_id  gender      major  admitted\n",
       "0         35377  female  Chemistry     False\n",
       "2         31441  female  Chemistry     False\n",
       "4         53714  female    Physics      True\n",
       "5         50693  female  Chemistry     False\n",
       "7         27648  female  Chemistry      True\n",
       "..          ...     ...        ...       ...\n",
       "492       26737  female  Chemistry     False\n",
       "493       56006  female    Physics      True\n",
       "494       30192  female  Chemistry      True\n",
       "496       25775  female  Chemistry      True\n",
       "497       47243  female  Chemistry      True\n",
       "\n",
       "[257 rows x 4 columns]"
      ],
      "text/html": "<div>\n<style scoped>\n    .dataframe tbody tr th:only-of-type {\n        vertical-align: middle;\n    }\n\n    .dataframe tbody tr th {\n        vertical-align: top;\n    }\n\n    .dataframe thead th {\n        text-align: right;\n    }\n</style>\n<table border=\"1\" class=\"dataframe\">\n  <thead>\n    <tr style=\"text-align: right;\">\n      <th></th>\n      <th>student_id</th>\n      <th>gender</th>\n      <th>major</th>\n      <th>admitted</th>\n    </tr>\n  </thead>\n  <tbody>\n    <tr>\n      <th>0</th>\n      <td>35377</td>\n      <td>female</td>\n      <td>Chemistry</td>\n      <td>False</td>\n    </tr>\n    <tr>\n      <th>2</th>\n      <td>31441</td>\n      <td>female</td>\n      <td>Chemistry</td>\n      <td>False</td>\n    </tr>\n    <tr>\n      <th>4</th>\n      <td>53714</td>\n      <td>female</td>\n      <td>Physics</td>\n      <td>True</td>\n    </tr>\n    <tr>\n      <th>5</th>\n      <td>50693</td>\n      <td>female</td>\n      <td>Chemistry</td>\n      <td>False</td>\n    </tr>\n    <tr>\n      <th>7</th>\n      <td>27648</td>\n      <td>female</td>\n      <td>Chemistry</td>\n      <td>True</td>\n    </tr>\n    <tr>\n      <th>...</th>\n      <td>...</td>\n      <td>...</td>\n      <td>...</td>\n      <td>...</td>\n    </tr>\n    <tr>\n      <th>492</th>\n      <td>26737</td>\n      <td>female</td>\n      <td>Chemistry</td>\n      <td>False</td>\n    </tr>\n    <tr>\n      <th>493</th>\n      <td>56006</td>\n      <td>female</td>\n      <td>Physics</td>\n      <td>True</td>\n    </tr>\n    <tr>\n      <th>494</th>\n      <td>30192</td>\n      <td>female</td>\n      <td>Chemistry</td>\n      <td>True</td>\n    </tr>\n    <tr>\n      <th>496</th>\n      <td>25775</td>\n      <td>female</td>\n      <td>Chemistry</td>\n      <td>True</td>\n    </tr>\n    <tr>\n      <th>497</th>\n      <td>47243</td>\n      <td>female</td>\n      <td>Chemistry</td>\n      <td>True</td>\n    </tr>\n  </tbody>\n</table>\n<p>257 rows × 4 columns</p>\n</div>"
     },
     "metadata": {},
     "execution_count": 16
    }
   ],
   "source": [
    "fem"
   ]
  },
  {
   "cell_type": "code",
   "execution_count": 17,
   "metadata": {},
   "outputs": [
    {
     "output_type": "execute_result",
     "data": {
      "text/plain": [
       "     student_id gender    major  admitted\n",
       "1         56105   male  Physics      True\n",
       "3         51765   male  Physics      True\n",
       "6         25946   male  Physics      True\n",
       "8         55247   male  Physics     False\n",
       "9         35838   male  Physics      True\n",
       "..          ...    ...      ...       ...\n",
       "489       56171   male  Physics     False\n",
       "491       25641   male  Physics     False\n",
       "495       26950   male  Physics     False\n",
       "498       52067   male  Physics      True\n",
       "499       50535   male  Physics     False\n",
       "\n",
       "[243 rows x 4 columns]"
      ],
      "text/html": "<div>\n<style scoped>\n    .dataframe tbody tr th:only-of-type {\n        vertical-align: middle;\n    }\n\n    .dataframe tbody tr th {\n        vertical-align: top;\n    }\n\n    .dataframe thead th {\n        text-align: right;\n    }\n</style>\n<table border=\"1\" class=\"dataframe\">\n  <thead>\n    <tr style=\"text-align: right;\">\n      <th></th>\n      <th>student_id</th>\n      <th>gender</th>\n      <th>major</th>\n      <th>admitted</th>\n    </tr>\n  </thead>\n  <tbody>\n    <tr>\n      <th>1</th>\n      <td>56105</td>\n      <td>male</td>\n      <td>Physics</td>\n      <td>True</td>\n    </tr>\n    <tr>\n      <th>3</th>\n      <td>51765</td>\n      <td>male</td>\n      <td>Physics</td>\n      <td>True</td>\n    </tr>\n    <tr>\n      <th>6</th>\n      <td>25946</td>\n      <td>male</td>\n      <td>Physics</td>\n      <td>True</td>\n    </tr>\n    <tr>\n      <th>8</th>\n      <td>55247</td>\n      <td>male</td>\n      <td>Physics</td>\n      <td>False</td>\n    </tr>\n    <tr>\n      <th>9</th>\n      <td>35838</td>\n      <td>male</td>\n      <td>Physics</td>\n      <td>True</td>\n    </tr>\n    <tr>\n      <th>...</th>\n      <td>...</td>\n      <td>...</td>\n      <td>...</td>\n      <td>...</td>\n    </tr>\n    <tr>\n      <th>489</th>\n      <td>56171</td>\n      <td>male</td>\n      <td>Physics</td>\n      <td>False</td>\n    </tr>\n    <tr>\n      <th>491</th>\n      <td>25641</td>\n      <td>male</td>\n      <td>Physics</td>\n      <td>False</td>\n    </tr>\n    <tr>\n      <th>495</th>\n      <td>26950</td>\n      <td>male</td>\n      <td>Physics</td>\n      <td>False</td>\n    </tr>\n    <tr>\n      <th>498</th>\n      <td>52067</td>\n      <td>male</td>\n      <td>Physics</td>\n      <td>True</td>\n    </tr>\n    <tr>\n      <th>499</th>\n      <td>50535</td>\n      <td>male</td>\n      <td>Physics</td>\n      <td>False</td>\n    </tr>\n  </tbody>\n</table>\n<p>243 rows × 4 columns</p>\n</div>"
     },
     "metadata": {},
     "execution_count": 17
    }
   ],
   "source": [
    "male"
   ]
  },
  {
   "cell_type": "code",
   "execution_count": 18,
   "metadata": {},
   "outputs": [
    {
     "output_type": "execute_result",
     "data": {
      "text/plain": [
       "gender\n",
       "female    257\n",
       "male      243\n",
       "Name: student_id, dtype: int64"
      ]
     },
     "metadata": {},
     "execution_count": 18
    }
   ],
   "source": [
    "# get number of males and females in list\n",
    "simpson.groupby('gender').count().iloc[:,0]"
   ]
  },
  {
   "cell_type": "code",
   "execution_count": 6,
   "metadata": {},
   "outputs": [
    {
     "output_type": "execute_result",
     "data": {
      "text/plain": "gender\nfemale    257\nmale      243\nName: student_id, dtype: int64"
     },
     "metadata": {},
     "execution_count": 6
    }
   ],
   "source": [
    "#get total number of values in gender column in variable\n",
    "simpson.groupby('gender').count()['student_id']"
   ]
  },
  {
   "cell_type": "code",
   "execution_count": 29,
   "metadata": {},
   "outputs": [
    {
     "output_type": "execute_result",
     "data": {
      "text/plain": [
       "female    257\n",
       "male      243\n",
       "Name: gender, dtype: int64"
      ]
     },
     "metadata": {},
     "execution_count": 29
    }
   ],
   "source": [
    "#Teacher solution\n",
    "simpson.gender.value_counts()"
   ]
  },
  {
   "cell_type": "code",
   "execution_count": 10,
   "metadata": {},
   "outputs": [
    {
     "data": {
      "text/plain": [
       "female    257\n",
       "male      243\n",
       "Name: gender, dtype: int64"
      ]
     },
     "execution_count": 10,
     "metadata": {},
     "output_type": "execute_result"
    }
   ],
   "source": []
  },
  {
   "cell_type": "code",
   "execution_count": 26,
   "metadata": {},
   "outputs": [
    {
     "output_type": "stream",
     "name": "stdout",
     "text": [
      "Female percent: 51.4 %\nMale percent: 48.6 %\nCheck total: 100.0 %\n"
     ]
    }
   ],
   "source": [
    "# Proportion of students that are female\n",
    "fem_percent = len(fem)/len(simpson)\n",
    "print('Female percent:',fem_percent*100, '%')\n",
    "\n",
    "male_percent = len(male)/len(simpson)\n",
    "print('Male percent:',male_percent*100, '%')\n",
    "\n",
    "print('Check total:', (male_percent + fem_percent)*100, '%')"
   ]
  },
  {
   "cell_type": "code",
   "execution_count": 11,
   "metadata": {},
   "outputs": [
    {
     "name": "stdout",
     "output_type": "stream",
     "text": [
      "Proportion of females is 51.4%\n",
      "Proportion of females is 0.514%\n"
     ]
    }
   ],
   "source": [
    "# Proportion of students that are female"
   ]
  },
  {
   "cell_type": "code",
   "execution_count": 12,
   "metadata": {},
   "outputs": [
    {
     "name": "stdout",
     "output_type": "stream",
     "text": [
      "Proportion of males is 48.6%\n",
      "Proportion of males is 0.486%\n"
     ]
    }
   ],
   "source": [
    "# Proportion of students that are male"
   ]
  },
  {
   "cell_type": "code",
   "execution_count": 48,
   "metadata": {},
   "outputs": [
    {
     "output_type": "stream",
     "name": "stdout",
     "text": [
      "Female:51.4%\n"
     ]
    },
    {
     "output_type": "execute_result",
     "data": {
      "text/plain": [
       "'Male:48.6%'"
      ]
     },
     "metadata": {},
     "execution_count": 48
    }
   ],
   "source": [
    "#Teacher solution\n",
    "print('Female:'+ str((simpson.gender.value_counts()['female']/len(simpson))*100)+'%')\n",
    "'Male:'+ str((simpson.gender.value_counts()['male']/len(simpson))*100)+'%'"
   ]
  },
  {
   "cell_type": "code",
   "execution_count": 32,
   "metadata": {},
   "outputs": [
    {
     "output_type": "execute_result",
     "data": {
      "text/plain": [
       "gender  admitted\n",
       "female  False       183\n",
       "        True         74\n",
       "male    False       125\n",
       "        True        118\n",
       "Name: student_id, dtype: int64"
      ]
     },
     "metadata": {},
     "execution_count": 32
    }
   ],
   "source": [
    "#To view statistics based on gender, we group by gender variable\n",
    "simpson.groupby(['gender','admitted']).count().iloc[:,0]"
   ]
  },
  {
   "cell_type": "code",
   "execution_count": 53,
   "metadata": {},
   "outputs": [
    {
     "output_type": "execute_result",
     "data": {
      "text/plain": [
       "male      118\n",
       "female     74\n",
       "Name: gender, dtype: int64"
      ]
     },
     "metadata": {},
     "execution_count": 53
    }
   ],
   "source": [
    "simpson[simpson['admitted'] == True].gender.value_counts()"
   ]
  },
  {
   "cell_type": "code",
   "execution_count": 54,
   "metadata": {},
   "outputs": [
    {
     "output_type": "execute_result",
     "data": {
      "text/plain": [
       "gender  admitted\n",
       "female  False       183\n",
       "male    False       125\n",
       "        True        118\n",
       "female  True         74\n",
       "dtype: int64"
      ]
     },
     "metadata": {},
     "execution_count": 54
    }
   ],
   "source": [
    "#Teacher solution\n",
    "#To view statistics based on gender, we group by gender variable\n",
    "# Next we use value_counts() function to see the numbers\n",
    "simpson[['gender','admitted']].value_counts()"
   ]
  },
  {
   "source": [],
   "cell_type": "code",
   "metadata": {},
   "execution_count": null,
   "outputs": []
  },
  {
   "cell_type": "code",
   "execution_count": 13,
   "metadata": {},
   "outputs": [
    {
     "data": {
      "text/plain": [
       "gender  admitted\n",
       "female  False       183\n",
       "        True         74\n",
       "male    False       125\n",
       "        True        118\n",
       "Name: admitted, dtype: int64"
      ]
     },
     "execution_count": 13,
     "metadata": {},
     "output_type": "execute_result"
    }
   ],
   "source": [
    "#To view statistics based on gender, we group by gender variable\n",
    "# Next we use value_counts() function to see the numbers\n"
   ]
  },
  {
   "cell_type": "code",
   "execution_count": 55,
   "metadata": {},
   "outputs": [
    {
     "output_type": "execute_result",
     "data": {
      "text/plain": [
       "257"
      ]
     },
     "metadata": {},
     "execution_count": 55
    }
   ],
   "source": [
    "# count of females\n",
    "simpson.gender.value_counts()['female']"
   ]
  },
  {
   "cell_type": "code",
   "execution_count": 15,
   "metadata": {},
   "outputs": [
    {
     "name": "stdout",
     "output_type": "stream",
     "text": [
      "Number of female students are 257\n"
     ]
    }
   ],
   "source": [
    "# count of females\n",
    "# https://chrisalbon.com/python/pandas_selecting_rows_on_conditions.html"
   ]
  },
  {
   "cell_type": "code",
   "execution_count": 56,
   "metadata": {},
   "outputs": [
    {
     "output_type": "execute_result",
     "data": {
      "text/plain": [
       "243"
      ]
     },
     "metadata": {},
     "execution_count": 56
    }
   ],
   "source": [
    "#count of males\n",
    "simpson.gender.value_counts()['male']"
   ]
  },
  {
   "cell_type": "code",
   "execution_count": 16,
   "metadata": {},
   "outputs": [
    {
     "name": "stdout",
     "output_type": "stream",
     "text": [
      "Number of male students are 243\n"
     ]
    }
   ],
   "source": [
    "#count of males"
   ]
  },
  {
   "cell_type": "code",
   "execution_count": 82,
   "metadata": {},
   "outputs": [
    {
     "output_type": "execute_result",
     "data": {
      "text/plain": [
       "38.54"
      ]
     },
     "metadata": {},
     "execution_count": 82
    }
   ],
   "source": [
    "# Admission rate for females / admitted\n",
    "round((simpson[(simpson['gender'] == 'female') & (simpson['admitted'] == True)].shape[0] / simpson[ (simpson['admitted'] == True)].shape[0] *100),2)"
   ]
  },
  {
   "cell_type": "code",
   "execution_count": 91,
   "metadata": {},
   "outputs": [
    {
     "output_type": "stream",
     "name": "stdout",
     "text": [
      "Rate female admitted: 28.79 %\n"
     ]
    }
   ],
   "source": [
    "# Admission rate for females / all female\n",
    "print('Rate female admitted:',round((simpson[(simpson['gender'] == 'female') & (simpson['admitted'] == True)].shape[0] / simpson[ (simpson['gender'] == 'female')].shape[0] *100),2),'%')"
   ]
  },
  {
   "cell_type": "code",
   "execution_count": 17,
   "metadata": {},
   "outputs": [
    {
     "name": "stdout",
     "output_type": "stream",
     "text": [
      "Female admission rate is 29.0%\n"
     ]
    }
   ],
   "source": [
    "# Admission rate for females"
   ]
  },
  {
   "cell_type": "code",
   "execution_count": 84,
   "metadata": {},
   "outputs": [
    {
     "output_type": "execute_result",
     "data": {
      "text/plain": [
       "61.46"
      ]
     },
     "metadata": {},
     "execution_count": 84
    }
   ],
   "source": [
    "# Admission rate for male / admitted\n",
    "round((simpson[(simpson['gender'] == 'male') & (simpson['admitted'] == True)].shape[0] / simpson[ (simpson['admitted'] == True)].shape[0] *100),2)"
   ]
  },
  {
   "cell_type": "code",
   "execution_count": 92,
   "metadata": {},
   "outputs": [
    {
     "output_type": "stream",
     "name": "stdout",
     "text": [
      "Rate male admitted: 48.56 %\n"
     ]
    }
   ],
   "source": [
    "# Admission rate for males / all male\n",
    "print('Rate male admitted:',round((simpson[(simpson['gender'] == 'male') & (simpson['admitted'] == True)].shape[0] / simpson[ (simpson['gender'] == 'male')].shape[0] *100),2), '%')"
   ]
  },
  {
   "cell_type": "code",
   "execution_count": 18,
   "metadata": {},
   "outputs": [
    {
     "name": "stdout",
     "output_type": "stream",
     "text": [
      "Male admission rate is 48.56%\n"
     ]
    }
   ],
   "source": [
    "# Admission rate for males"
   ]
  },
  {
   "cell_type": "code",
   "execution_count": 112,
   "metadata": {},
   "outputs": [
    {
     "output_type": "stream",
     "name": "stdout",
     "text": [
      "Total admission proportions\nFemale: 0.287938\nMale: 0.485597\n"
     ]
    }
   ],
   "source": [
    "print('Total admission proportions')\n",
    "print('Female:',round((simpson[(simpson['gender'] == 'female') & (simpson['admitted'] == True)].shape[0] / simpson[ (simpson['gender'] == 'female')].shape[0]),6))\n",
    "print('Male:',round((simpson[(simpson['gender'] == 'male') & (simpson['admitted'] == True)].shape[0] / simpson[ (simpson['gender'] == 'male')].shape[0]),6))"
   ]
  },
  {
   "cell_type": "code",
   "execution_count": 19,
   "metadata": {},
   "outputs": [
    {
     "name": "stdout",
     "output_type": "stream",
     "text": [
      "Total admission proportions\n",
      "Female: 0.28793774319066145\n",
      "Male: 0.48559670781893005\n"
     ]
    }
   ],
   "source": [
    "print('Total admission proportions')\n"
   ]
  },
  {
   "cell_type": "markdown",
   "metadata": {},
   "source": [
    "### Proportion and admission rate for physics majors of each gender"
   ]
  },
  {
   "cell_type": "code",
   "execution_count": 103,
   "metadata": {},
   "outputs": [
    {
     "output_type": "execute_result",
     "data": {
      "text/plain": [
       "     student_id  gender      major  admitted\n",
       "0         35377  female  Chemistry     False\n",
       "1         56105    male    Physics      True\n",
       "2         31441  female  Chemistry     False\n",
       "3         51765    male    Physics      True\n",
       "4         53714  female    Physics      True\n",
       "..          ...     ...        ...       ...\n",
       "495       26950    male    Physics     False\n",
       "496       25775  female  Chemistry      True\n",
       "497       47243  female  Chemistry      True\n",
       "498       52067    male    Physics      True\n",
       "499       50535    male    Physics     False\n",
       "\n",
       "[500 rows x 4 columns]"
      ],
      "text/html": "<div>\n<style scoped>\n    .dataframe tbody tr th:only-of-type {\n        vertical-align: middle;\n    }\n\n    .dataframe tbody tr th {\n        vertical-align: top;\n    }\n\n    .dataframe thead th {\n        text-align: right;\n    }\n</style>\n<table border=\"1\" class=\"dataframe\">\n  <thead>\n    <tr style=\"text-align: right;\">\n      <th></th>\n      <th>student_id</th>\n      <th>gender</th>\n      <th>major</th>\n      <th>admitted</th>\n    </tr>\n  </thead>\n  <tbody>\n    <tr>\n      <th>0</th>\n      <td>35377</td>\n      <td>female</td>\n      <td>Chemistry</td>\n      <td>False</td>\n    </tr>\n    <tr>\n      <th>1</th>\n      <td>56105</td>\n      <td>male</td>\n      <td>Physics</td>\n      <td>True</td>\n    </tr>\n    <tr>\n      <th>2</th>\n      <td>31441</td>\n      <td>female</td>\n      <td>Chemistry</td>\n      <td>False</td>\n    </tr>\n    <tr>\n      <th>3</th>\n      <td>51765</td>\n      <td>male</td>\n      <td>Physics</td>\n      <td>True</td>\n    </tr>\n    <tr>\n      <th>4</th>\n      <td>53714</td>\n      <td>female</td>\n      <td>Physics</td>\n      <td>True</td>\n    </tr>\n    <tr>\n      <th>...</th>\n      <td>...</td>\n      <td>...</td>\n      <td>...</td>\n      <td>...</td>\n    </tr>\n    <tr>\n      <th>495</th>\n      <td>26950</td>\n      <td>male</td>\n      <td>Physics</td>\n      <td>False</td>\n    </tr>\n    <tr>\n      <th>496</th>\n      <td>25775</td>\n      <td>female</td>\n      <td>Chemistry</td>\n      <td>True</td>\n    </tr>\n    <tr>\n      <th>497</th>\n      <td>47243</td>\n      <td>female</td>\n      <td>Chemistry</td>\n      <td>True</td>\n    </tr>\n    <tr>\n      <th>498</th>\n      <td>52067</td>\n      <td>male</td>\n      <td>Physics</td>\n      <td>True</td>\n    </tr>\n    <tr>\n      <th>499</th>\n      <td>50535</td>\n      <td>male</td>\n      <td>Physics</td>\n      <td>False</td>\n    </tr>\n  </tbody>\n</table>\n<p>500 rows × 4 columns</p>\n</div>"
     },
     "metadata": {},
     "execution_count": 103
    }
   ],
   "source": [
    "simpson"
   ]
  },
  {
   "cell_type": "code",
   "execution_count": 110,
   "metadata": {},
   "outputs": [
    {
     "output_type": "execute_result",
     "data": {
      "text/plain": [
       "                  student_id  admitted\n",
       "gender major                          \n",
       "female Chemistry         226       226\n",
       "       Physics            31        31\n",
       "male   Chemistry          18        18\n",
       "       Physics           225       225"
      ],
      "text/html": "<div>\n<style scoped>\n    .dataframe tbody tr th:only-of-type {\n        vertical-align: middle;\n    }\n\n    .dataframe tbody tr th {\n        vertical-align: top;\n    }\n\n    .dataframe thead th {\n        text-align: right;\n    }\n</style>\n<table border=\"1\" class=\"dataframe\">\n  <thead>\n    <tr style=\"text-align: right;\">\n      <th></th>\n      <th></th>\n      <th>student_id</th>\n      <th>admitted</th>\n    </tr>\n    <tr>\n      <th>gender</th>\n      <th>major</th>\n      <th></th>\n      <th></th>\n    </tr>\n  </thead>\n  <tbody>\n    <tr>\n      <th rowspan=\"2\" valign=\"top\">female</th>\n      <th>Chemistry</th>\n      <td>226</td>\n      <td>226</td>\n    </tr>\n    <tr>\n      <th>Physics</th>\n      <td>31</td>\n      <td>31</td>\n    </tr>\n    <tr>\n      <th rowspan=\"2\" valign=\"top\">male</th>\n      <th>Chemistry</th>\n      <td>18</td>\n      <td>18</td>\n    </tr>\n    <tr>\n      <th>Physics</th>\n      <td>225</td>\n      <td>225</td>\n    </tr>\n  </tbody>\n</table>\n</div>"
     },
     "metadata": {},
     "execution_count": 110
    }
   ],
   "source": [
    "# group by major and gender to get counts of students in each cohort\n",
    "df_gender_major = simpson.groupby(['gender','major']).count()\n",
    "df_gender_major"
   ]
  },
  {
   "cell_type": "code",
   "execution_count": 118,
   "metadata": {},
   "outputs": [
    {
     "output_type": "stream",
     "name": "stdout",
     "text": [
      "<class 'pandas.core.frame.DataFrame'>\nMultiIndex: 4 entries, ('female', 'Chemistry') to ('male', 'Physics')\nData columns (total 8 columns):\n #   Column               Non-Null Count  Dtype  \n---  ------               --------------  -----  \n 0   (student_id, count)  4 non-null      float64\n 1   (student_id, mean)   4 non-null      float64\n 2   (student_id, std)    4 non-null      float64\n 3   (student_id, min)    4 non-null      float64\n 4   (student_id, 25%)    4 non-null      float64\n 5   (student_id, 50%)    4 non-null      float64\n 6   (student_id, 75%)    4 non-null      float64\n 7   (student_id, max)    4 non-null      float64\ndtypes: float64(8)\nmemory usage: 579.0+ bytes\n"
     ]
    }
   ],
   "source": [
    "simpson.groupby(['gender','major']).describe().info()"
   ]
  },
  {
   "cell_type": "code",
   "execution_count": 20,
   "metadata": {},
   "outputs": [
    {
     "name": "stdout",
     "output_type": "stream",
     "text": [
      "<class 'pandas.core.frame.DataFrame'>\n",
      "MultiIndex: 4 entries, (Chemistry, female) to (Physics, male)\n",
      "Data columns (total 8 columns):\n",
      "(student_id, count)    4 non-null float64\n",
      "(student_id, mean)     4 non-null float64\n",
      "(student_id, std)      4 non-null float64\n",
      "(student_id, min)      4 non-null float64\n",
      "(student_id, 25%)      4 non-null float64\n",
      "(student_id, 50%)      4 non-null float64\n",
      "(student_id, 75%)      4 non-null float64\n",
      "(student_id, max)      4 non-null float64\n",
      "dtypes: float64(8)\n",
      "memory usage: 405.0+ bytes\n"
     ]
    }
   ],
   "source": [
    "# group by major and gender to get counts of students in each cohort\n"
   ]
  },
  {
   "cell_type": "code",
   "execution_count": 125,
   "metadata": {},
   "outputs": [
    {
     "output_type": "execute_result",
     "data": {
      "text/plain": [
       "257"
      ]
     },
     "metadata": {},
     "execution_count": 125
    }
   ],
   "source": [
    "simpson[(simpson['gender'] == 'female')].shape[0]"
   ]
  },
  {
   "cell_type": "code",
   "execution_count": 128,
   "metadata": {},
   "outputs": [
    {
     "output_type": "execute_result",
     "data": {
      "text/plain": [
       "31"
      ]
     },
     "metadata": {},
     "execution_count": 128
    }
   ],
   "source": [
    "simpson[(simpson['gender'] == 'female') & (simpson['major'] == 'Physics')].shape[0]"
   ]
  },
  {
   "cell_type": "code",
   "execution_count": 217,
   "metadata": {},
   "outputs": [
    {
     "output_type": "stream",
     "name": "stdout",
     "text": [
      "31\nProportion physics-female:\n12.06 %\n"
     ]
    }
   ],
   "source": [
    "# What proportion of female students are majoring in physics?\n",
    "\n",
    "# First, get count of females in Physics major \n",
    "number_phy = simpson[(simpson['gender'] == 'female') & (simpson['major'] == 'Physics')].shape[0]\n",
    "print(number_phy)\n",
    "#now evaluate proportion of female candidates in Phsics\n",
    "print('Proportion physics-female:')\n",
    "print(round(simpson[(simpson['gender'] == 'female') & (simpson['major'] == 'Physics')].shape[0]/simpson[(simpson['gender'] == 'female')].shape[0],4)*100,'%')"
   ]
  },
  {
   "cell_type": "code",
   "execution_count": 152,
   "metadata": {},
   "outputs": [
    {
     "output_type": "stream",
     "name": "stdout",
     "text": [
      "Proportion physics-male:\n92.58999999999999 %\n"
     ]
    }
   ],
   "source": [
    "# What proportion of male students are majoring in physics?\n",
    "print('Proportion physics-male:')\n",
    "print(round(simpson[(simpson['gender'] == 'male') & (simpson['major'] == 'Physics')].shape[0]/simpson[(simpson['gender'] == 'male')].shape[0],4)*100,'%')\n",
    "# first,get count of males in Physics major \n",
    "\n",
    "#now evaluate proportion of male candidates in Physics\n"
   ]
  },
  {
   "cell_type": "code",
   "execution_count": 199,
   "metadata": {},
   "outputs": [
    {
     "output_type": "stream",
     "name": "stdout",
     "text": [
      "Rate_fem_phy: 12.06 %\nNum_fem_phy_ad: 23\nRate_fem_phy_ad: 74.1935 %\n"
     ]
    }
   ],
   "source": [
    "# Admission rate for female physics majors\n",
    "rate_fem_phy = round(simpson[(simpson['gender'] == 'female') & (simpson['major'] == 'Physics')].shape[0]/simpson[(simpson['gender'] == 'female')].shape[0],4)*100\n",
    "print('Rate_fem_phy:', rate_fem_phy,'%')\n",
    "\n",
    "# compute count of females in Physics who got admitted\n",
    "condition_ad = simpson['admitted'] == True\n",
    "condition_phy = simpson['major'] == 'Physics'\n",
    "condition_fem = simpson['gender'] == 'female'\n",
    "\n",
    "num_fem_phy_ad = (simpson[condition_fem & condition_phy & condition_ad].shape[0])\n",
    "\n",
    "print('Num_fem_phy_ad:', num_fem_phy_ad)\n",
    "\n",
    "#now evaluate proportion of admitted female candidates in Phsics\n",
    "rate_fem_phy_ad = round((num_fem_phy_ad/simpson[condition_fem & condition_phy].shape[0])*100,4)\n",
    "print('Rate_fem_phy_ad:', rate_fem_phy_ad,'%')"
   ]
  },
  {
   "cell_type": "code",
   "execution_count": 23,
   "metadata": {},
   "outputs": [
    {
     "name": "stdout",
     "output_type": "stream",
     "text": [
      "Proportion of female candidates admitted in Physics is 74.19%\n"
     ]
    }
   ],
   "source": [
    "# Admission rate for female physics majors\n",
    "# compute count of females in Physics who got admitted\n",
    "#now evaluate proportion of admitted female candidates in Phsics"
   ]
  },
  {
   "cell_type": "code",
   "execution_count": 208,
   "metadata": {},
   "outputs": [
    {
     "output_type": "stream",
     "name": "stdout",
     "text": [
      "Rate_male_phy: 92.58999999999999 %\nnum_male_phy_ad: 116\nRate_male_phy_ad: 51.5556 %\n"
     ]
    }
   ],
   "source": [
    "condition_ad = simpson['admitted'] == True\n",
    "condition_phy = simpson['major'] == 'Physics'\n",
    "condition_male = simpson['gender'] == 'male'\n",
    "# Admission rate for female physics majors\n",
    "rate_male_phy = round(simpson[condition_male & condition_phy].shape[0]/simpson[condition_male].shape[0],4)*100\n",
    "print('Rate_male_phy:', rate_male_phy,'%')\n",
    "\n",
    "#now evaluate proportion of admitted male candidates in Phsics\n",
    "num_male_phy_ad = (simpson[condition_male & condition_phy & condition_ad].shape[0])\n",
    "print('num_male_phy_ad:', num_male_phy_ad)\n",
    "\n",
    "#now evaluate proportion of admitted male candidates in Phsics\n",
    "rate_male_phy_ad = round((num_male_phy_ad/simpson[condition_male & condition_phy].shape[0])*100,4)\n",
    "print('Rate_male_phy_ad:', rate_male_phy_ad,'%')\n"
   ]
  },
  {
   "cell_type": "code",
   "execution_count": 24,
   "metadata": {},
   "outputs": [
    {
     "name": "stdout",
     "output_type": "stream",
     "text": [
      "Proportion of male candidates admitted in Physics is 51.56%\n"
     ]
    }
   ],
   "source": [
    "# Admission rate for male physics majors\n",
    "# compute count of females in Physics who got admitted\n",
    "#now evaluate proportion of admitted male candidates in Phsics"
   ]
  },
  {
   "cell_type": "markdown",
   "metadata": {},
   "source": [
    "### Proportion and admission rate for chemistry majors of each gender"
   ]
  },
  {
   "cell_type": "code",
   "execution_count": 218,
   "metadata": {},
   "outputs": [
    {
     "output_type": "stream",
     "name": "stdout",
     "text": [
      "Rate_fem_che: 87.94 %\nnum_fem_che_ad: 51\nrate_fem_che_ad: 22.5664 %\n"
     ]
    }
   ],
   "source": [
    "condition_che = simpson['major'] == 'Chemistry'\n",
    "# What proportion of female students are majoring in chemistry?\n",
    "rate_fem_che = (simpson[condition_fem & condition_che].shape[0]/simpson[condition_fem].shape[0])*100\n",
    "print('Rate_fem_che:', round(rate_fem_che,2),'%')\n",
    "# First, get count of females in Chemistry major \n",
    "num_fem_che_ad = (simpson[condition_fem & condition_che & condition_ad].shape[0])\n",
    "\n",
    "print('num_fem_che_ad:', num_fem_che_ad)\n",
    "\n",
    "#now evaluate proportion of female candidates in Chemistry\n",
    "\n",
    "rate_fem_che_ad = (num_fem_che_ad/simpson[condition_fem & condition_che].shape[0])*100\n",
    "print('rate_fem_che_ad:', round(rate_fem_che_ad,4),'%')"
   ]
  },
  {
   "cell_type": "code",
   "execution_count": 25,
   "metadata": {},
   "outputs": [
    {
     "name": "stdout",
     "output_type": "stream",
     "text": [
      "Number of females with Chemistry major is 226\n",
      "Proportion of female candidates in Chemistry is 87.94%\n"
     ]
    }
   ],
   "source": [
    "# What proportion of female students are majoring in chemistry?\n",
    "\n",
    "# First, get count of females in Chemistry major \n",
    "\n",
    "#now evaluate proportion of female candidates in Chemistry"
   ]
  },
  {
   "cell_type": "code",
   "execution_count": 222,
   "metadata": {},
   "outputs": [
    {
     "output_type": "stream",
     "name": "stdout",
     "text": [
      "Rate_male_che: 7.41 %\n"
     ]
    }
   ],
   "source": [
    "# What proportion of male students are majoring in chemistry?\n",
    "rate_male_che = (simpson[condition_male & condition_che].shape[0]/simpson[condition_male].shape[0])*100\n",
    "print('Rate_male_che:', round(rate_male_che,2),'%')\n",
    "# First, get count of females in Chemistry major \n",
    "\n",
    "\n",
    "#now evaluate proportion of male candidates in Chemistry\n"
   ]
  },
  {
   "cell_type": "code",
   "execution_count": 27,
   "metadata": {},
   "outputs": [
    {
     "name": "stdout",
     "output_type": "stream",
     "text": [
      "Proportion of female candidates admitted in chemistry is 22.57%\n"
     ]
    }
   ],
   "source": [
    "# Admission rate for female chemistry majors\n",
    "\n",
    "# compute count of females in chemistry who got admitted\n",
    "\n",
    "\n",
    "#now evaluate proportion of admitted female candidates in chemistry\n"
   ]
  },
  {
   "cell_type": "code",
   "execution_count": 28,
   "metadata": {},
   "outputs": [
    {
     "name": "stdout",
     "output_type": "stream",
     "text": [
      "Proportion of male candidates admitted in chemistry is 11.11%\n"
     ]
    }
   ],
   "source": [
    "# Admission rate for male chemistry majors\n",
    "# compute count of males in chemistry who got admitted\n",
    "\n",
    "\n",
    "#now evaluate proportion of admitted male candidates in chemistry\n"
   ]
  },
  {
   "cell_type": "markdown",
   "metadata": {},
   "source": [
    "### Admission rate for each major"
   ]
  },
  {
   "cell_type": "code",
   "execution_count": 29,
   "metadata": {},
   "outputs": [
    {
     "name": "stdout",
     "output_type": "stream",
     "text": [
      "Proportion of candidates admitted in Physics is 54.3%\n"
     ]
    }
   ],
   "source": [
    "# Admission rate for physics majors\n",
    "# compute count of students in Physics who got admitted\n",
    "\n",
    "\n",
    "#now evaluate proportion of admitted candidates in Phsics\n"
   ]
  },
  {
   "cell_type": "code",
   "execution_count": 30,
   "metadata": {},
   "outputs": [
    {
     "name": "stdout",
     "output_type": "stream",
     "text": [
      "Proportion of candidates admitted in Chemistry is 21.72%\n"
     ]
    }
   ],
   "source": [
    "# Admission rate for chemistry majors\n",
    "# compute count of students in Chemistry who got admitted\n",
    "\n",
    "\n",
    "#now evaluate proportion of admitted candidates in Chemistry\n"
   ]
  },
  {
   "cell_type": "markdown",
   "metadata": {},
   "source": [
    "#### Testing: Double check vlaues by computing non-admittance values"
   ]
  },
  {
   "cell_type": "code",
   "execution_count": 31,
   "metadata": {},
   "outputs": [
    {
     "name": "stdout",
     "output_type": "stream",
     "text": [
      "Values computed for Physics admitted candidates is Correct\n",
      "Values computed for Chemistry admitted candidates is Correct\n"
     ]
    }
   ],
   "source": [
    "# double check values for physics admittance\n",
    "\n",
    "\n",
    "\n",
    "# double check values for Chemistry admittance\n"
   ]
  },
  {
   "cell_type": "code",
   "execution_count": 32,
   "metadata": {},
   "outputs": [
    {
     "name": "stdout",
     "output_type": "stream",
     "text": [
      "Values computed for admitted candidates is Correct\n"
     ]
    }
   ],
   "source": [
    "# double check not admitted candidates\n",
    "# candidates not admitted to Physics\n",
    "\n",
    "# candidates not admitted to Chemistry\n",
    "\n",
    "# compare if admitted and non-admitted candidate counts equal total number of students\n"
   ]
  }
 ],
 "metadata": {
  "kernelspec": {
   "display_name": "Python 3",
   "language": "python",
   "name": "python3"
  },
  "language_info": {
   "codemirror_mode": {
    "name": "ipython",
    "version": 3
   },
   "file_extension": ".py",
   "mimetype": "text/x-python",
   "name": "python",
   "nbconvert_exporter": "python",
   "pygments_lexer": "ipython3",
   "version": "3.7.4-final"
  }
 },
 "nbformat": 4,
 "nbformat_minor": 4
}