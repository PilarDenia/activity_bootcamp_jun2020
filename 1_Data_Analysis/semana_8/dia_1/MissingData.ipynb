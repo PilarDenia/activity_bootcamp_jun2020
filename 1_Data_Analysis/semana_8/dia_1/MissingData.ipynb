{
 "cells": [
  {
   "cell_type": "markdown",
   "metadata": {
    "colab_type": "text",
    "id": "eT9w7TLcaEG4"
   },
   "source": [
    "# Handling Missing Data"
   ]
  },
  {
   "cell_type": "markdown",
   "metadata": {
    "colab_type": "text",
    "id": "bzt9VMSeaEG5"
   },
   "source": [
    "The difference between data found in many tutorials and data in the real world is that **real-world data is rarely clean and homogeneous**.\n",
    "In particular, many interesting datasets will have some amount of data missing.\n",
    "To make matters even more complicated, **different data sources may indicate missing data in different ways.**\n",
    "\n",
    "In this section, we will discuss some general considerations for missing data, discuss how **Pandas** chooses to represent it, and demonstrate some built-in Pandas tools for handling missing data in Python.\n",
    "Here and throughout the book, we'll refer to missing data in general as ***null*, *NaN*, or *NA* values**."
   ]
  },
  {
   "cell_type": "markdown",
   "metadata": {
    "colab_type": "text",
    "id": "vKahtAiSaEG5"
   },
   "source": [
    "## Trade-Offs in Missing Data Conventions\n",
    "\n",
    "There are a number of schemes that have been developed to indicate the presence of missing data in a table or DataFrame.\n",
    "Generally, they revolve around one of **two strategies**: using a ***mask*** that globally indicates **missing values, or choosing a *sentinel value*** that indicates a missing entry.\n",
    "\n",
    "In the masking approach, the mask might be an entirely separate Boolean array, or it may involve appropriation of one bit in the data representation to locally indicate the null status of a value.\n",
    "\n",
    "In the sentinel approach, the sentinel value could be some **data-specific convention, such as indicating a missing integer value with -9999** or some rare bit pattern, or it could be a more global convention, such as indicating a missing floating-point value with NaN (Not a Number), a special value which is part of the IEEE floating-point specification.\n",
    "\n",
    "None of these approaches is without trade-offs: use of a **separate mask array requires allocation of an additional Boolean array, which adds overhead in both storage and computation**. A **sentinel value reduces the range of valid values that can be represented**, and may require extra (often non-optimized) logic in CPU and GPU arithmetic. Common special values like NaN are not available for all data types.\n",
    "\n",
    "As in most cases where no universally optimal choice exists, different languages and systems use different conventions.\n",
    "For example, the R language uses reserved bit patterns within each data type as sentinel values indicating missing data, while the SciDB system uses an extra byte attached to every cell which indicates a NA state."
   ]
  },
  {
   "cell_type": "markdown",
   "metadata": {
    "colab_type": "text",
    "id": "zd8Ed2JLaEG6"
   },
   "source": [
    "## Missing Data in Pandas\n",
    "\n",
    "The way in which **Pandas handles missing values is constrained by its reliance on the NumPy package**, which does not have a built-in notion of NA values for non-floating-point data types.\n",
    "\n",
    "**Pandas could have followed R's lead** in specifying bit patterns for each individual data type to indicate nullness, but this approach turns out to be rather unwieldy.\n",
    "While R contains four basic data types, NumPy supports *far* more than this: for example, **while R has a single integer type, NumPy supports *fourteen* basic integer types once you account for available precisions**, signedness, and endianness of the encoding.\n",
    "**Reserving a specific bit pattern in all available NumPy types would lead to an unwieldy amount of overhead** in special-casing various operations for various types, likely even requiring a new fork of the NumPy package. Further, for the smaller data types (such as 8-bit integers), sacrificing a bit to use as a mask will significantly reduce the range of values it can represent.\n",
    "\n",
    "**NumPy does have support for masked arrays – that is, arrays that have a separate Boolean mask array attached for marking data as \"good\" or \"bad.\"**\n",
    "Pandas could have derived from this, but the **overhead in both storage, computation, and code maintenance** makes that an unattractive choice.\n",
    "\n",
    "**With these constraints in mind, Pandas chose to use sentinels for missing data**, and further chose to use two already-existing Python null values: the special floating-point ``NaN`` value, and the Python ``None`` object.\n",
    "This choice has some side effects, as we will see, but in practice ends up being a good compromise in most cases of interest."
   ]
  },
  {
   "cell_type": "markdown",
   "metadata": {
    "colab_type": "text",
    "id": "f1-nyniDaEG7"
   },
   "source": [
    "### ``None``: Pythonic missing data\n",
    "\n",
    "The first sentinel value used by Pandas is ``None``, a Python singleton object that is often used for missing data in Python code.\n",
    "Because it is a Python object, **``None`` cannot be used in any arbitrary NumPy/Pandas array, but only in arrays with data type ``'object'`` (i.e., arrays of Python objects)**:"
   ]
  },
  {
   "cell_type": "code",
   "execution_count": 2,
   "metadata": {
    "colab": {},
    "colab_type": "code",
    "id": "x13ZvYV1aEG7"
   },
   "outputs": [],
   "source": [
    "import numpy as np \n",
    "import pandas as pd "
   ]
  },
  {
   "cell_type": "code",
   "execution_count": 9,
   "metadata": {
    "colab": {},
    "colab_type": "code",
    "collapsed": false,
    "id": "Lh7zL8ZNaEG-",
    "jupyter": {
     "outputs_hidden": false
    },
    "outputId": "515de0db-aa1c-4bf5-abe5-f350236295b4"
   },
   "outputs": [
    {
     "output_type": "execute_result",
     "data": {
      "text/plain": "array([1, None, 3, 4], dtype=object)"
     },
     "metadata": {},
     "execution_count": 9
    }
   ],
   "source": [
    "vals1 = np.array([1,None,3,4])\n",
    "vals1"
   ]
  },
  {
   "cell_type": "markdown",
   "metadata": {
    "colab_type": "text",
    "id": "Y5Uquan4aEHC"
   },
   "source": [
    "**This ``dtype=object`` means that the best common type representation NumPy could infer for the contents of the array is that they are Python objects**.\n",
    "While this kind of object array is useful for some purposes, **any operations on the data will be done at the Python level, with much more overhead than the typically fast operations** seen for arrays with native types:"
   ]
  },
  {
   "cell_type": "code",
   "execution_count": 7,
   "metadata": {
    "colab": {},
    "colab_type": "code",
    "collapsed": false,
    "id": "GAioZTZ8aEHC",
    "jupyter": {
     "outputs_hidden": false
    },
    "outputId": "a6585f35-f805-4342-e5ab-fd3bc058d854",
    "tags": []
   },
   "outputs": [
    {
     "output_type": "stream",
     "name": "stdout",
     "text": "dtype = object\n65.3 ms ± 4.36 ms per loop (mean ± std. dev. of 7 runs, 10 loops each)\n\ndtype = int\n2.57 ms ± 198 µs per loop (mean ± std. dev. of 7 runs, 100 loops each)\n\n"
    }
   ],
   "source": [
    "for dtype in ['object', 'int']:\n",
    "    print(\"dtype =\", dtype)\n",
    "    %timeit np.arange(1E6, dtype=dtype).sum()\n",
    "    print()"
   ]
  },
  {
   "cell_type": "markdown",
   "metadata": {
    "colab_type": "text",
    "id": "ok5xo_ZAaEHF"
   },
   "source": [
    "The use of Python objects in an array also means that if you perform aggregations like ``sum()`` or ``min()`` across an array with a ``None`` value, you will generally get an error:"
   ]
  },
  {
   "cell_type": "code",
   "execution_count": 14,
   "metadata": {
    "colab": {},
    "colab_type": "code",
    "collapsed": false,
    "id": "9Jbw3yksaEHF",
    "jupyter": {
     "outputs_hidden": false
    },
    "outputId": "ee7596de-83b6-44c5-f461-c5ed90cafe61"
   },
   "outputs": [
    {
     "output_type": "error",
     "ename": "TypeError",
     "evalue": "unsupported operand type(s) for +: 'int' and 'NoneType'",
     "traceback": [
      "\u001b[1;31m---------------------------------------------------------------------------\u001b[0m",
      "\u001b[1;31mTypeError\u001b[0m                                 Traceback (most recent call last)",
      "\u001b[1;32m<ipython-input-14-7745a986f27c>\u001b[0m in \u001b[0;36m<module>\u001b[1;34m\u001b[0m\n\u001b[1;32m----> 1\u001b[1;33m \u001b[0mvals1\u001b[0m\u001b[1;33m.\u001b[0m\u001b[0msum\u001b[0m\u001b[1;33m(\u001b[0m\u001b[1;33m)\u001b[0m \u001b[1;31m#No se puede operar en un array tipo Object\u001b[0m\u001b[1;33m\u001b[0m\u001b[1;33m\u001b[0m\u001b[0m\n\u001b[0m",
      "\u001b[1;32m~\\Anaconda3\\lib\\site-packages\\numpy\\core\\_methods.py\u001b[0m in \u001b[0;36m_sum\u001b[1;34m(a, axis, dtype, out, keepdims, initial, where)\u001b[0m\n\u001b[0;32m     36\u001b[0m def _sum(a, axis=None, dtype=None, out=None, keepdims=False,\n\u001b[0;32m     37\u001b[0m          initial=_NoValue, where=True):\n\u001b[1;32m---> 38\u001b[1;33m     \u001b[1;32mreturn\u001b[0m \u001b[0mumr_sum\u001b[0m\u001b[1;33m(\u001b[0m\u001b[0ma\u001b[0m\u001b[1;33m,\u001b[0m \u001b[0maxis\u001b[0m\u001b[1;33m,\u001b[0m \u001b[0mdtype\u001b[0m\u001b[1;33m,\u001b[0m \u001b[0mout\u001b[0m\u001b[1;33m,\u001b[0m \u001b[0mkeepdims\u001b[0m\u001b[1;33m,\u001b[0m \u001b[0minitial\u001b[0m\u001b[1;33m,\u001b[0m \u001b[0mwhere\u001b[0m\u001b[1;33m)\u001b[0m\u001b[1;33m\u001b[0m\u001b[1;33m\u001b[0m\u001b[0m\n\u001b[0m\u001b[0;32m     39\u001b[0m \u001b[1;33m\u001b[0m\u001b[0m\n\u001b[0;32m     40\u001b[0m def _prod(a, axis=None, dtype=None, out=None, keepdims=False,\n",
      "\u001b[1;31mTypeError\u001b[0m: unsupported operand type(s) for +: 'int' and 'NoneType'"
     ]
    }
   ],
   "source": [
    "vals1.sum() #No se puede operar en un array tipo Object "
   ]
  },
  {
   "cell_type": "code",
   "execution_count": null,
   "metadata": {},
   "outputs": [],
   "source": []
  },
  {
   "cell_type": "markdown",
   "metadata": {
    "colab_type": "text",
    "id": "8yimrXnJaEHI"
   },
   "source": [
    "This reflects the fact that addition between an integer and ``None`` is undefined."
   ]
  },
  {
   "cell_type": "markdown",
   "metadata": {
    "colab_type": "text",
    "id": "J6URbtIVaEHI"
   },
   "source": [
    "### ``NaN``: Missing numerical data\n",
    "\n",
    "The other missing data representation, **``NaN``** (acronym for *Not a Number*), is different; **it is a special floating-point value recognized by all systems** that use the standard IEEE floating-point representation:"
   ]
  },
  {
   "cell_type": "code",
   "execution_count": 3,
   "metadata": {
    "colab": {},
    "colab_type": "code",
    "collapsed": false,
    "id": "dR7wDv9jaEHJ",
    "jupyter": {
     "outputs_hidden": false
    },
    "outputId": "6ba2d004-d49a-4ca8-94f7-62c657bb5c7e"
   },
   "outputs": [],
   "source": [
    "vals2 = np.array([1,np.nan,3,4])"
   ]
  },
  {
   "cell_type": "markdown",
   "metadata": {
    "colab_type": "text",
    "id": "9p5iDPlBaEHM"
   },
   "source": [
    "Notice that NumPy chose a native floating-point type for this array: this means that **unlike the object array from before, this array supports fast operations pushed into compiled code.**\n",
    "You should be aware that ``NaN`` is a bit like a data virus–it infects any other object it touches.\n",
    "Regardless of the operation, the result of arithmetic with ``NaN`` will be another ``NaN``:"
   ]
  },
  {
   "cell_type": "code",
   "execution_count": 11,
   "metadata": {},
   "outputs": [
    {
     "output_type": "execute_result",
     "data": {
      "text/plain": "dtype('float64')"
     },
     "metadata": {},
     "execution_count": 11
    }
   ],
   "source": [
    "vals2.dtype"
   ]
  },
  {
   "cell_type": "code",
   "execution_count": 4,
   "metadata": {
    "colab": {},
    "colab_type": "code",
    "collapsed": false,
    "id": "Prqqir78aEHM",
    "jupyter": {
     "outputs_hidden": false
    },
    "outputId": "add1b334-2325-4b3e-f6c3-a90ba3ce210f"
   },
   "outputs": [
    {
     "output_type": "execute_result",
     "data": {
      "text/plain": "array([ 2., nan,  4.,  5.])"
     },
     "metadata": {},
     "execution_count": 4
    }
   ],
   "source": [
    "1+vals2"
   ]
  },
  {
   "cell_type": "code",
   "execution_count": 5,
   "metadata": {
    "colab": {},
    "colab_type": "code",
    "collapsed": false,
    "id": "-o_9fxRkaEHO",
    "jupyter": {
     "outputs_hidden": false
    },
    "outputId": "c8ee3a9a-92db-4400-9772-aeeeb8ada195"
   },
   "outputs": [
    {
     "output_type": "execute_result",
     "data": {
      "text/plain": "array([ 0., nan,  0.,  0.])"
     },
     "metadata": {},
     "execution_count": 5
    }
   ],
   "source": [
    "0*vals2"
   ]
  },
  {
   "cell_type": "code",
   "execution_count": 6,
   "metadata": {},
   "outputs": [
    {
     "output_type": "execute_result",
     "data": {
      "text/plain": "nan"
     },
     "metadata": {},
     "execution_count": 6
    }
   ],
   "source": [
    "0*np.nan"
   ]
  },
  {
   "cell_type": "markdown",
   "metadata": {
    "colab_type": "text",
    "id": "IfJUwgncaEHR"
   },
   "source": [
    "Note that this means that aggregates over the values are well defined (i.e., they don't result in an error) but not always useful:"
   ]
  },
  {
   "cell_type": "code",
   "execution_count": 8,
   "metadata": {
    "colab": {},
    "colab_type": "code",
    "collapsed": false,
    "id": "j-8fM4LaaEHR",
    "jupyter": {
     "outputs_hidden": false
    },
    "outputId": "f3a9f4e7-06b2-47fe-cd3d-db51b04a95d4"
   },
   "outputs": [
    {
     "output_type": "execute_result",
     "data": {
      "text/plain": "(nan, nan, nan)"
     },
     "metadata": {},
     "execution_count": 8
    }
   ],
   "source": [
    "np.sum(vals2),np.min(vals2),np.max(vals2)"
   ]
  },
  {
   "cell_type": "markdown",
   "metadata": {
    "colab_type": "text",
    "id": "Vc04x15vaEHT"
   },
   "source": [
    "NumPy does provide some special aggregations that will ignore these missing values:"
   ]
  },
  {
   "cell_type": "code",
   "execution_count": 7,
   "metadata": {
    "colab": {},
    "colab_type": "code",
    "collapsed": false,
    "id": "u85Mvm_MaEHT",
    "jupyter": {
     "outputs_hidden": false
    },
    "outputId": "491dd867-0b04-4580-dd61-49af67c1b213"
   },
   "outputs": [
    {
     "output_type": "execute_result",
     "data": {
      "text/plain": "(8.0, 4.0, 1.0)"
     },
     "metadata": {},
     "execution_count": 7
    }
   ],
   "source": [
    "np.nansum(vals2), np.nanmax(vals2),np.nanmin(vals2)"
   ]
  },
  {
   "cell_type": "markdown",
   "metadata": {
    "colab_type": "text",
    "id": "xDWW2zMAaEHW"
   },
   "source": [
    "Keep in mind that **``NaN`` is specifically a floating-point value; there is no equivalent NaN value for integers, strings, or other types**."
   ]
  },
  {
   "cell_type": "markdown",
   "metadata": {
    "colab_type": "text",
    "id": "3Thr5U7gaEHZ"
   },
   "source": [
    "### NaN and None in Pandas\n",
    "\n",
    "``NaN`` and ``None`` both have their place, and Pandas is built to handle the two of them nearly interchangeably, converting between them where appropriate:"
   ]
  },
  {
   "cell_type": "code",
   "execution_count": 12,
   "metadata": {
    "colab": {},
    "colab_type": "code",
    "collapsed": false,
    "id": "w6nrb-84aEHZ",
    "jupyter": {
     "outputs_hidden": false
    },
    "outputId": "d5851c13-eeac-4996-faee-179ec4628fbc"
   },
   "outputs": [
    {
     "output_type": "execute_result",
     "data": {
      "text/plain": "0    1.0\n1    NaN\n2    2.0\n3    NaN\ndtype: float64"
     },
     "metadata": {},
     "execution_count": 12
    }
   ],
   "source": [
    "pd.Series([1,np.nan,2,None])"
   ]
  },
  {
   "cell_type": "code",
   "execution_count": 13,
   "metadata": {},
   "outputs": [
    {
     "output_type": "execute_result",
     "data": {
      "text/plain": "0    1.0\n1    2.0\n2    NaN\ndtype: float64"
     },
     "metadata": {},
     "execution_count": 13
    }
   ],
   "source": [
    "pd.Series([1,2,None])"
   ]
  },
  {
   "cell_type": "markdown",
   "metadata": {
    "colab_type": "text",
    "id": "8YkqhZHZaEHc"
   },
   "source": [
    "For types that don't have an available sentinel value, Pandas automatically type-casts when NA values are present.\n",
    "For example, if we set a value in an integer array to ``np.nan``, it will automatically be upcast to a floating-point type to accommodate the NA:"
   ]
  },
  {
   "cell_type": "code",
   "execution_count": 15,
   "metadata": {
    "colab": {},
    "colab_type": "code",
    "collapsed": false,
    "id": "e85eNrPiaEHc",
    "jupyter": {
     "outputs_hidden": false
    },
    "outputId": "8049d398-8ee7-4f4d-c9fc-49f522cb7077"
   },
   "outputs": [
    {
     "output_type": "execute_result",
     "data": {
      "text/plain": "0    0\n1    1\ndtype: int32"
     },
     "metadata": {},
     "execution_count": 15
    }
   ],
   "source": [
    "x = pd.Series(range(2), dtype= int)\n",
    "x"
   ]
  },
  {
   "cell_type": "code",
   "execution_count": 17,
   "metadata": {
    "colab": {},
    "colab_type": "code",
    "collapsed": false,
    "id": "O7xN2rqhaEHe",
    "jupyter": {
     "outputs_hidden": false
    },
    "outputId": "90472e7f-f1dc-466f-9e97-fb5be5d90e26"
   },
   "outputs": [
    {
     "output_type": "execute_result",
     "data": {
      "text/plain": "0    NaN\n1    1.0\ndtype: float64"
     },
     "metadata": {},
     "execution_count": 17
    }
   ],
   "source": [
    "x[0] = None\n",
    "x   #Pandas por detrás, redimensiona la serie, al generara un None = Nan "
   ]
  },
  {
   "cell_type": "markdown",
   "metadata": {
    "colab_type": "text",
    "id": "buWlpXgFaEHg"
   },
   "source": [
    "Notice that in addition to casting the integer array to floating point, **Pandas automatically converts the ``None`` to a ``NaN`` value**.\n",
    "(Be aware that there is a proposal to add a native integer NA to Pandas in the future; as of this writing, it has not been included).\n",
    "\n",
    "While this type of magic may feel a bit hackish compared to the more unified approach to NA values in domain-specific languages like R, the Pandas sentinel/casting approach works quite well in practice and in my experience only rarely causes issues.\n",
    "\n",
    "The following table lists the upcasting conventions in Pandas when NA values are introduced:\n",
    "\n",
    "|Typeclass     | Conversion When Storing NAs | NA Sentinel Value      |\n",
    "|--------------|-----------------------------|------------------------|\n",
    "| ``floating`` | No change                   | ``np.nan``             |\n",
    "| ``object``   | No change                   | ``None`` or ``np.nan`` |\n",
    "| ``integer``  | Cast to ``float64``         | ``np.nan``             |\n",
    "| ``boolean``  | Cast to ``object``          | ``None`` or ``np.nan`` |\n",
    "\n",
    "**Keep in mind that in Pandas, string data is always stored with an ``object`` dtype.**"
   ]
  },
  {
   "cell_type": "markdown",
   "metadata": {
    "colab_type": "text",
    "id": "CzUxLSIJaEHh"
   },
   "source": [
    "## Operating on Null Values\n",
    "\n",
    "As we have seen, Pandas treats ``None`` and ``NaN`` as essentially interchangeable for indicating missing or null values.\n",
    "To facilitate this convention, there are several useful methods for detecting, removing, and replacing null values in Pandas data structures.\n",
    "They are:\n",
    "\n",
    "- ``isnull()``: Generate a boolean mask indicating missing values\n",
    "- ``notnull()``: Opposite of ``isnull()``\n",
    "- ``dropna()``: Return a filtered version of the data\n",
    "- ``fillna()``: Return a copy of the data with missing values filled or imputed\n",
    "\n",
    "We will conclude this section with a brief exploration and demonstration of these routines."
   ]
  },
  {
   "cell_type": "markdown",
   "metadata": {
    "colab_type": "text",
    "id": "i9iLS023aEHh"
   },
   "source": [
    "### Detecting null values\n",
    "Pandas data structures have two useful methods for detecting null data: ``isnull()`` and ``notnull()``.\n",
    "Either one will return a Boolean mask over the data. For example:"
   ]
  },
  {
   "cell_type": "code",
   "execution_count": 21,
   "metadata": {
    "colab": {},
    "colab_type": "code",
    "id": "YAEEc3DRaEHi"
   },
   "outputs": [
    {
     "output_type": "execute_result",
     "data": {
      "text/plain": "0        1\n1      NaN\n2    hello\n3     None\ndtype: object"
     },
     "metadata": {},
     "execution_count": 21
    }
   ],
   "source": [
    "data = pd.Series([1,np.nan, \"hello\",\"None\"])\n",
    "data"
   ]
  },
  {
   "cell_type": "code",
   "execution_count": 26,
   "metadata": {
    "colab": {
     "base_uri": "https://localhost:8080/",
     "height": 104
    },
    "colab_type": "code",
    "collapsed": false,
    "id": "ueILyKn6aEHk",
    "jupyter": {
     "outputs_hidden": false
    },
    "outputId": "37f31ad9-4779-4d37-977a-772c83f4c4b7"
   },
   "outputs": [
    {
     "output_type": "execute_result",
     "data": {
      "text/plain": "0    False\n1     True\n2    False\n3    False\ndtype: bool"
     },
     "metadata": {},
     "execution_count": 26
    }
   ],
   "source": [
    "data.isnull()"
   ]
  },
  {
   "cell_type": "code",
   "execution_count": 27,
   "metadata": {},
   "outputs": [
    {
     "output_type": "execute_result",
     "data": {
      "text/plain": "1    NaN\ndtype: object"
     },
     "metadata": {},
     "execution_count": 27
    }
   ],
   "source": [
    "#Aplico máscara\n",
    "data[data.isnull()]"
   ]
  },
  {
   "cell_type": "code",
   "execution_count": 28,
   "metadata": {},
   "outputs": [
    {
     "output_type": "execute_result",
     "data": {
      "text/plain": "0        1\n2    hello\n3     None\ndtype: object"
     },
     "metadata": {},
     "execution_count": 28
    }
   ],
   "source": []
  },
  {
   "cell_type": "code",
   "execution_count": 29,
   "metadata": {
    "colab": {},
    "colab_type": "code",
    "collapsed": false,
    "id": "G_FsSU9xaEHm",
    "jupyter": {
     "outputs_hidden": false
    },
    "outputId": "fcd877cf-5969-4c25-894a-49a66d5f84ec"
   },
   "outputs": [
    {
     "output_type": "execute_result",
     "data": {
      "text/plain": "0        1\n2    hello\n3     None\ndtype: object"
     },
     "metadata": {},
     "execution_count": 29
    }
   ],
   "source": [
    "data[data.notnull()]"
   ]
  },
  {
   "cell_type": "markdown",
   "metadata": {
    "colab_type": "text",
    "id": "7CEOKYZsaEHo"
   },
   "source": [
    "The ``isnull()`` and ``notnull()`` methods produce similar Boolean results for ``DataFrame``s."
   ]
  },
  {
   "cell_type": "markdown",
   "metadata": {
    "colab_type": "text",
    "id": "skXd13dIaEHp"
   },
   "source": [
    "### Dropping null values\n",
    "\n",
    "In addition to the masking used before, there are the convenience methods, ``dropna()``\n",
    "(which removes NA values) and ``fillna()`` (which fills in NA values). For a ``Series``,\n",
    "the result is straightforward:"
   ]
  },
  {
   "cell_type": "code",
   "execution_count": 30,
   "metadata": {
    "colab": {
     "base_uri": "https://localhost:8080/",
     "height": 104
    },
    "colab_type": "code",
    "id": "5fzi6o0njsPg",
    "outputId": "bd76fa1f-09c0-4f9c-e9ed-f64b004e13a5"
   },
   "outputs": [
    {
     "output_type": "execute_result",
     "data": {
      "text/plain": "0        1\n1      NaN\n2    hello\n3     None\ndtype: object"
     },
     "metadata": {},
     "execution_count": 30
    }
   ],
   "source": [
    "data"
   ]
  },
  {
   "cell_type": "code",
   "execution_count": 31,
   "metadata": {
    "colab": {
     "base_uri": "https://localhost:8080/",
     "height": 87
    },
    "colab_type": "code",
    "collapsed": false,
    "id": "cmXnYBJdaEHp",
    "jupyter": {
     "outputs_hidden": false
    },
    "outputId": "152d97fa-9966-4890-8ee8-3d91a538ea76"
   },
   "outputs": [
    {
     "output_type": "execute_result",
     "data": {
      "text/plain": "0        1\n2    hello\n3     None\ndtype: object"
     },
     "metadata": {},
     "execution_count": 31
    }
   ],
   "source": [
    "data.dropna()"
   ]
  },
  {
   "cell_type": "markdown",
   "metadata": {
    "colab_type": "text",
    "id": "AyYYug7VaEHr"
   },
   "source": [
    "For a ``DataFrame``, there are more options.\n",
    "Consider the following ``DataFrame``:"
   ]
  },
  {
   "cell_type": "code",
   "execution_count": 32,
   "metadata": {
    "colab": {
     "base_uri": "https://localhost:8080/",
     "height": 142
    },
    "colab_type": "code",
    "collapsed": false,
    "id": "MiQ6WzJsaEHr",
    "jupyter": {
     "outputs_hidden": false
    },
    "outputId": "6ce4fb11-31c2-47f1-97ca-c03924e67fd8"
   },
   "outputs": [
    {
     "output_type": "execute_result",
     "data": {
      "text/plain": "     0    1  2\n0  1.0  NaN  2\n1  2.0  3.0  5\n2  NaN  4.0  6",
      "text/html": "<div>\n<style scoped>\n    .dataframe tbody tr th:only-of-type {\n        vertical-align: middle;\n    }\n\n    .dataframe tbody tr th {\n        vertical-align: top;\n    }\n\n    .dataframe thead th {\n        text-align: right;\n    }\n</style>\n<table border=\"1\" class=\"dataframe\">\n  <thead>\n    <tr style=\"text-align: right;\">\n      <th></th>\n      <th>0</th>\n      <th>1</th>\n      <th>2</th>\n    </tr>\n  </thead>\n  <tbody>\n    <tr>\n      <td>0</td>\n      <td>1.0</td>\n      <td>NaN</td>\n      <td>2</td>\n    </tr>\n    <tr>\n      <td>1</td>\n      <td>2.0</td>\n      <td>3.0</td>\n      <td>5</td>\n    </tr>\n    <tr>\n      <td>2</td>\n      <td>NaN</td>\n      <td>4.0</td>\n      <td>6</td>\n    </tr>\n  </tbody>\n</table>\n</div>"
     },
     "metadata": {},
     "execution_count": 32
    }
   ],
   "source": [
    "df = pd.DataFrame([[1,      np.nan, 2],\n",
    "                   [2,      3,      5],\n",
    "                   [np.nan, 4,      6]])\n",
    "df"
   ]
  },
  {
   "cell_type": "markdown",
   "metadata": {
    "colab_type": "text",
    "id": "BIaURn-iaEHt"
   },
   "source": [
    "We cannot drop single values from a ``DataFrame``; we can only drop full rows or full columns.\n",
    "Depending on the application, you might want one or the other, so ``dropna()`` gives a number of options for a ``DataFrame``.\n",
    "\n",
    "By default, **``dropna()`` will drop all rows** in which *any* null value is present:"
   ]
  },
  {
   "cell_type": "code",
   "execution_count": 33,
   "metadata": {
    "colab": {
     "base_uri": "https://localhost:8080/",
     "height": 80
    },
    "colab_type": "code",
    "collapsed": false,
    "id": "bO3t8MCeaEHu",
    "jupyter": {
     "outputs_hidden": false
    },
    "outputId": "e102149f-807f-4831-c74b-424094310045"
   },
   "outputs": [
    {
     "output_type": "execute_result",
     "data": {
      "text/plain": "     0    1  2\n1  2.0  3.0  5",
      "text/html": "<div>\n<style scoped>\n    .dataframe tbody tr th:only-of-type {\n        vertical-align: middle;\n    }\n\n    .dataframe tbody tr th {\n        vertical-align: top;\n    }\n\n    .dataframe thead th {\n        text-align: right;\n    }\n</style>\n<table border=\"1\" class=\"dataframe\">\n  <thead>\n    <tr style=\"text-align: right;\">\n      <th></th>\n      <th>0</th>\n      <th>1</th>\n      <th>2</th>\n    </tr>\n  </thead>\n  <tbody>\n    <tr>\n      <td>1</td>\n      <td>2.0</td>\n      <td>3.0</td>\n      <td>5</td>\n    </tr>\n  </tbody>\n</table>\n</div>"
     },
     "metadata": {},
     "execution_count": 33
    }
   ],
   "source": [
    "df.dropna()"
   ]
  },
  {
   "cell_type": "code",
   "execution_count": null,
   "metadata": {
    "colab": {
     "base_uri": "https://localhost:8080/",
     "height": 142
    },
    "colab_type": "code",
    "id": "J3kTpY9SkT55",
    "outputId": "4ca567b8-10c0-49f0-a03f-d32c71be1c8a"
   },
   "outputs": [],
   "source": []
  },
  {
   "cell_type": "markdown",
   "metadata": {
    "colab_type": "text",
    "id": "2Wd29VdLaEHv"
   },
   "source": [
    "Alternatively, you can drop NA values along a different axis; ``axis=1`` drops all columns containing a null value:"
   ]
  },
  {
   "cell_type": "code",
   "execution_count": 35,
   "metadata": {
    "colab": {
     "base_uri": "https://localhost:8080/",
     "height": 142
    },
    "colab_type": "code",
    "collapsed": false,
    "id": "_40Pqdt-aEHw",
    "jupyter": {
     "outputs_hidden": false
    },
    "outputId": "92b601cd-08d2-45ac-e703-d6df4951bb6d"
   },
   "outputs": [
    {
     "output_type": "execute_result",
     "data": {
      "text/plain": "   2\n0  2\n1  5\n2  6",
      "text/html": "<div>\n<style scoped>\n    .dataframe tbody tr th:only-of-type {\n        vertical-align: middle;\n    }\n\n    .dataframe tbody tr th {\n        vertical-align: top;\n    }\n\n    .dataframe thead th {\n        text-align: right;\n    }\n</style>\n<table border=\"1\" class=\"dataframe\">\n  <thead>\n    <tr style=\"text-align: right;\">\n      <th></th>\n      <th>2</th>\n    </tr>\n  </thead>\n  <tbody>\n    <tr>\n      <td>0</td>\n      <td>2</td>\n    </tr>\n    <tr>\n      <td>1</td>\n      <td>5</td>\n    </tr>\n    <tr>\n      <td>2</td>\n      <td>6</td>\n    </tr>\n  </tbody>\n</table>\n</div>"
     },
     "metadata": {},
     "execution_count": 35
    }
   ],
   "source": [
    "df.dropna(axis= 1) #También se puede indicar 'columns' = 1 / 'row'= 0 parámetro por defecto."
   ]
  },
  {
   "cell_type": "markdown",
   "metadata": {
    "colab_type": "text",
    "id": "_ppz8PpHaEHx"
   },
   "source": [
    "But this drops some good data as well; **you might rather be interested in dropping rows or columns with *all* NA values, or a majority of NA values.**\n",
    "This can be specified through the ``how`` or ``thresh`` parameters, which allow fine control of the number of nulls to allow through.\n",
    "\n",
    "The default is ``how='any'``, such that any row or column (depending on the ``axis`` keyword) containing a null value will be dropped.\n",
    "You can also specify ``how='all'``, which will only drop rows/columns that are *all* null values:"
   ]
  },
  {
   "cell_type": "code",
   "execution_count": 36,
   "metadata": {
    "colab": {},
    "colab_type": "code",
    "collapsed": false,
    "id": "dLIJIM4LaEHy",
    "jupyter": {
     "outputs_hidden": false
    },
    "outputId": "086dd83a-b164-408a-e3c9-0c4c905de2e9"
   },
   "outputs": [
    {
     "output_type": "execute_result",
     "data": {
      "text/plain": "     0    1  2   3\n0  1.0  NaN  2 NaN\n1  2.0  3.0  5 NaN\n2  NaN  4.0  6 NaN",
      "text/html": "<div>\n<style scoped>\n    .dataframe tbody tr th:only-of-type {\n        vertical-align: middle;\n    }\n\n    .dataframe tbody tr th {\n        vertical-align: top;\n    }\n\n    .dataframe thead th {\n        text-align: right;\n    }\n</style>\n<table border=\"1\" class=\"dataframe\">\n  <thead>\n    <tr style=\"text-align: right;\">\n      <th></th>\n      <th>0</th>\n      <th>1</th>\n      <th>2</th>\n      <th>3</th>\n    </tr>\n  </thead>\n  <tbody>\n    <tr>\n      <td>0</td>\n      <td>1.0</td>\n      <td>NaN</td>\n      <td>2</td>\n      <td>NaN</td>\n    </tr>\n    <tr>\n      <td>1</td>\n      <td>2.0</td>\n      <td>3.0</td>\n      <td>5</td>\n      <td>NaN</td>\n    </tr>\n    <tr>\n      <td>2</td>\n      <td>NaN</td>\n      <td>4.0</td>\n      <td>6</td>\n      <td>NaN</td>\n    </tr>\n  </tbody>\n</table>\n</div>"
     },
     "metadata": {},
     "execution_count": 36
    }
   ],
   "source": [
    "df[3]= np.nan\n",
    "df"
   ]
  },
  {
   "cell_type": "code",
   "execution_count": 37,
   "metadata": {
    "colab": {},
    "colab_type": "code",
    "collapsed": false,
    "id": "507Ws4d1aEH0",
    "jupyter": {
     "outputs_hidden": false
    },
    "outputId": "2dbef0b5-9084-4efc-de32-6499d5b2d8ba"
   },
   "outputs": [
    {
     "output_type": "execute_result",
     "data": {
      "text/plain": "     0    1  2\n0  1.0  NaN  2\n1  2.0  3.0  5\n2  NaN  4.0  6",
      "text/html": "<div>\n<style scoped>\n    .dataframe tbody tr th:only-of-type {\n        vertical-align: middle;\n    }\n\n    .dataframe tbody tr th {\n        vertical-align: top;\n    }\n\n    .dataframe thead th {\n        text-align: right;\n    }\n</style>\n<table border=\"1\" class=\"dataframe\">\n  <thead>\n    <tr style=\"text-align: right;\">\n      <th></th>\n      <th>0</th>\n      <th>1</th>\n      <th>2</th>\n    </tr>\n  </thead>\n  <tbody>\n    <tr>\n      <td>0</td>\n      <td>1.0</td>\n      <td>NaN</td>\n      <td>2</td>\n    </tr>\n    <tr>\n      <td>1</td>\n      <td>2.0</td>\n      <td>3.0</td>\n      <td>5</td>\n    </tr>\n    <tr>\n      <td>2</td>\n      <td>NaN</td>\n      <td>4.0</td>\n      <td>6</td>\n    </tr>\n  </tbody>\n</table>\n</div>"
     },
     "metadata": {},
     "execution_count": 37
    }
   ],
   "source": [
    "df.dropna(axis='columns', how= 'all')"
   ]
  },
  {
   "cell_type": "markdown",
   "metadata": {
    "colab_type": "text",
    "id": "x47uIZcDaEH2"
   },
   "source": [
    "For finer-grained control, the ``thresh`` parameter lets you specify a minimum number of non-null values for the row/column to be kept:"
   ]
  },
  {
   "cell_type": "code",
   "execution_count": 39,
   "metadata": {},
   "outputs": [
    {
     "output_type": "execute_result",
     "data": {
      "text/plain": "     0    1  2   3\n0  1.0  NaN  2 NaN\n1  2.0  3.0  5 NaN\n2  NaN  4.0  6 NaN",
      "text/html": "<div>\n<style scoped>\n    .dataframe tbody tr th:only-of-type {\n        vertical-align: middle;\n    }\n\n    .dataframe tbody tr th {\n        vertical-align: top;\n    }\n\n    .dataframe thead th {\n        text-align: right;\n    }\n</style>\n<table border=\"1\" class=\"dataframe\">\n  <thead>\n    <tr style=\"text-align: right;\">\n      <th></th>\n      <th>0</th>\n      <th>1</th>\n      <th>2</th>\n      <th>3</th>\n    </tr>\n  </thead>\n  <tbody>\n    <tr>\n      <td>0</td>\n      <td>1.0</td>\n      <td>NaN</td>\n      <td>2</td>\n      <td>NaN</td>\n    </tr>\n    <tr>\n      <td>1</td>\n      <td>2.0</td>\n      <td>3.0</td>\n      <td>5</td>\n      <td>NaN</td>\n    </tr>\n    <tr>\n      <td>2</td>\n      <td>NaN</td>\n      <td>4.0</td>\n      <td>6</td>\n      <td>NaN</td>\n    </tr>\n  </tbody>\n</table>\n</div>"
     },
     "metadata": {},
     "execution_count": 39
    }
   ],
   "source": [
    "df"
   ]
  },
  {
   "cell_type": "code",
   "execution_count": 41,
   "metadata": {
    "colab": {},
    "colab_type": "code",
    "collapsed": false,
    "id": "vHVVNWq-aEH2",
    "jupyter": {
     "outputs_hidden": false
    },
    "outputId": "722f29e3-2a9e-4d66-8b7b-b27be2cc35d9"
   },
   "outputs": [
    {
     "output_type": "execute_result",
     "data": {
      "text/plain": "     0    1  2   3\n1  2.0  3.0  5 NaN",
      "text/html": "<div>\n<style scoped>\n    .dataframe tbody tr th:only-of-type {\n        vertical-align: middle;\n    }\n\n    .dataframe tbody tr th {\n        vertical-align: top;\n    }\n\n    .dataframe thead th {\n        text-align: right;\n    }\n</style>\n<table border=\"1\" class=\"dataframe\">\n  <thead>\n    <tr style=\"text-align: right;\">\n      <th></th>\n      <th>0</th>\n      <th>1</th>\n      <th>2</th>\n      <th>3</th>\n    </tr>\n  </thead>\n  <tbody>\n    <tr>\n      <td>1</td>\n      <td>2.0</td>\n      <td>3.0</td>\n      <td>5</td>\n      <td>NaN</td>\n    </tr>\n  </tbody>\n</table>\n</div>"
     },
     "metadata": {},
     "execution_count": 41
    }
   ],
   "source": [
    "df.dropna(thresh=3)"
   ]
  },
  {
   "cell_type": "markdown",
   "metadata": {
    "colab_type": "text",
    "id": "c3UeWDbuaEH4"
   },
   "source": [
    "Here the first and last row have been dropped, because they contain only two non-null values."
   ]
  },
  {
   "cell_type": "markdown",
   "metadata": {
    "colab_type": "text",
    "id": "NU07AnSdaEH5"
   },
   "source": [
    "### Filling null values\n",
    "\n",
    "**Sometimes rather than dropping NA values, you'd rather replace them with a valid value.**\n",
    "This value might be a single number like zero, or it might be some sort of imputation or interpolation from the good values.\n",
    "You could do this in-place using the ``isnull()`` method as a mask, but because it is such a common operation Pandas provides the ``fillna()`` method, which returns a copy of the array with the null values replaced.\n",
    "\n",
    "Consider the following ``Series``:"
   ]
  },
  {
   "cell_type": "code",
   "execution_count": 42,
   "metadata": {
    "colab": {},
    "colab_type": "code",
    "collapsed": false,
    "id": "oDSuIUAQaEH5",
    "jupyter": {
     "outputs_hidden": false
    },
    "outputId": "bdbdcff3-6751-4e3c-eead-bd50f216f306"
   },
   "outputs": [
    {
     "output_type": "execute_result",
     "data": {
      "text/plain": "a    1.0\nb    NaN\nc    2.0\nd    NaN\ne    3.0\ndtype: float64"
     },
     "metadata": {},
     "execution_count": 42
    }
   ],
   "source": [
    "data= pd.Series([1,np.nan, 2, None, 3], index = list('abcde'))\n",
    "data"
   ]
  },
  {
   "cell_type": "markdown",
   "metadata": {
    "colab_type": "text",
    "id": "TUKYHOD6aEH6"
   },
   "source": [
    "We can fill NA entries with a single value, such as zero:"
   ]
  },
  {
   "cell_type": "code",
   "execution_count": 44,
   "metadata": {},
   "outputs": [
    {
     "output_type": "execute_result",
     "data": {
      "text/plain": "a    1.0\nb    NaN\nc    2.0\nd    NaN\ne    3.0\ndtype: float64"
     },
     "metadata": {},
     "execution_count": 44
    }
   ],
   "source": [
    "data"
   ]
  },
  {
   "cell_type": "code",
   "execution_count": 43,
   "metadata": {
    "colab": {},
    "colab_type": "code",
    "collapsed": false,
    "id": "rbnQO-SdaEH7",
    "jupyter": {
     "outputs_hidden": false
    },
    "outputId": "3b575c43-9b7a-4fb8-ac61-55d07fbf05ed"
   },
   "outputs": [
    {
     "output_type": "execute_result",
     "data": {
      "text/plain": "a    1.0\nb    0.0\nc    2.0\nd    0.0\ne    3.0\ndtype: float64"
     },
     "metadata": {},
     "execution_count": 43
    }
   ],
   "source": [
    "data.fillna(0)"
   ]
  },
  {
   "cell_type": "markdown",
   "metadata": {
    "colab_type": "text",
    "id": "g6XJdKnFaEH8"
   },
   "source": [
    "We can specify a forward-fill to propagate the previous value forward:"
   ]
  },
  {
   "cell_type": "code",
   "execution_count": 46,
   "metadata": {
    "colab": {},
    "colab_type": "code",
    "collapsed": false,
    "id": "PEaM6lrWaEH9",
    "jupyter": {
     "outputs_hidden": false
    },
    "outputId": "d65694f1-b947-464a-f202-6e6f7803ecd4"
   },
   "outputs": [
    {
     "output_type": "execute_result",
     "data": {
      "text/plain": "a    1.0\nb    1.0\nc    2.0\nd    2.0\ne    3.0\ndtype: float64"
     },
     "metadata": {},
     "execution_count": 46
    }
   ],
   "source": [
    "data.fillna(method='ffill') #Rellena con el valor anterior"
   ]
  },
  {
   "cell_type": "markdown",
   "metadata": {
    "colab_type": "text",
    "id": "3t46Sbx2aEH-"
   },
   "source": [
    "Or we can specify a back-fill to propagate the next values backward:"
   ]
  },
  {
   "cell_type": "code",
   "execution_count": 48,
   "metadata": {
    "colab": {},
    "colab_type": "code",
    "collapsed": false,
    "id": "SwiVd04ZaEH_",
    "jupyter": {
     "outputs_hidden": false
    },
    "outputId": "f75cd5be-0d9f-479b-8b45-e86a489a5d25"
   },
   "outputs": [
    {
     "output_type": "execute_result",
     "data": {
      "text/plain": "a    1.0\nb    2.0\nc    2.0\nd    3.0\ne    3.0\ndtype: float64"
     },
     "metadata": {},
     "execution_count": 48
    }
   ],
   "source": [
    "data.fillna(method='bfill') #Rellena el Nan con el valor siguiente"
   ]
  },
  {
   "cell_type": "markdown",
   "metadata": {
    "colab_type": "text",
    "id": "HJXj-7unaEIB"
   },
   "source": [
    "For ``DataFrame``s, the options are similar, but we can also specify an ``axis`` along which the fills take place:"
   ]
  },
  {
   "cell_type": "code",
   "execution_count": 49,
   "metadata": {
    "colab": {
     "base_uri": "https://localhost:8080/",
     "height": 142
    },
    "colab_type": "code",
    "collapsed": false,
    "id": "Qj9l-2iXaEIB",
    "jupyter": {
     "outputs_hidden": false
    },
    "outputId": "0af47ac7-8ecb-493d-9d0c-16ac37fc5b65"
   },
   "outputs": [
    {
     "output_type": "execute_result",
     "data": {
      "text/plain": "     0    1  2   3\n0  1.0  NaN  2 NaN\n1  2.0  3.0  5 NaN\n2  NaN  4.0  6 NaN",
      "text/html": "<div>\n<style scoped>\n    .dataframe tbody tr th:only-of-type {\n        vertical-align: middle;\n    }\n\n    .dataframe tbody tr th {\n        vertical-align: top;\n    }\n\n    .dataframe thead th {\n        text-align: right;\n    }\n</style>\n<table border=\"1\" class=\"dataframe\">\n  <thead>\n    <tr style=\"text-align: right;\">\n      <th></th>\n      <th>0</th>\n      <th>1</th>\n      <th>2</th>\n      <th>3</th>\n    </tr>\n  </thead>\n  <tbody>\n    <tr>\n      <td>0</td>\n      <td>1.0</td>\n      <td>NaN</td>\n      <td>2</td>\n      <td>NaN</td>\n    </tr>\n    <tr>\n      <td>1</td>\n      <td>2.0</td>\n      <td>3.0</td>\n      <td>5</td>\n      <td>NaN</td>\n    </tr>\n    <tr>\n      <td>2</td>\n      <td>NaN</td>\n      <td>4.0</td>\n      <td>6</td>\n      <td>NaN</td>\n    </tr>\n  </tbody>\n</table>\n</div>"
     },
     "metadata": {},
     "execution_count": 49
    }
   ],
   "source": [
    "df"
   ]
  },
  {
   "cell_type": "code",
   "execution_count": 50,
   "metadata": {
    "colab": {
     "base_uri": "https://localhost:8080/",
     "height": 142
    },
    "colab_type": "code",
    "collapsed": false,
    "id": "nIpPI6_QaEID",
    "jupyter": {
     "outputs_hidden": false
    },
    "outputId": "e5bf4dd4-ad3c-4832-dd48-613a84efea5f"
   },
   "outputs": [
    {
     "output_type": "execute_result",
     "data": {
      "text/plain": "     0    1  2   3\n0  1.0  NaN  2 NaN\n1  2.0  3.0  5 NaN\n2  2.0  4.0  6 NaN",
      "text/html": "<div>\n<style scoped>\n    .dataframe tbody tr th:only-of-type {\n        vertical-align: middle;\n    }\n\n    .dataframe tbody tr th {\n        vertical-align: top;\n    }\n\n    .dataframe thead th {\n        text-align: right;\n    }\n</style>\n<table border=\"1\" class=\"dataframe\">\n  <thead>\n    <tr style=\"text-align: right;\">\n      <th></th>\n      <th>0</th>\n      <th>1</th>\n      <th>2</th>\n      <th>3</th>\n    </tr>\n  </thead>\n  <tbody>\n    <tr>\n      <td>0</td>\n      <td>1.0</td>\n      <td>NaN</td>\n      <td>2</td>\n      <td>NaN</td>\n    </tr>\n    <tr>\n      <td>1</td>\n      <td>2.0</td>\n      <td>3.0</td>\n      <td>5</td>\n      <td>NaN</td>\n    </tr>\n    <tr>\n      <td>2</td>\n      <td>2.0</td>\n      <td>4.0</td>\n      <td>6</td>\n      <td>NaN</td>\n    </tr>\n  </tbody>\n</table>\n</div>"
     },
     "metadata": {},
     "execution_count": 50
    }
   ],
   "source": [
    "df.fillna(method= 'ffill')"
   ]
  },
  {
   "cell_type": "code",
   "execution_count": 51,
   "metadata": {},
   "outputs": [
    {
     "output_type": "execute_result",
     "data": {
      "text/plain": "     0    1  2   3\n0  1.0  3.0  2 NaN\n1  2.0  3.0  5 NaN\n2  NaN  4.0  6 NaN",
      "text/html": "<div>\n<style scoped>\n    .dataframe tbody tr th:only-of-type {\n        vertical-align: middle;\n    }\n\n    .dataframe tbody tr th {\n        vertical-align: top;\n    }\n\n    .dataframe thead th {\n        text-align: right;\n    }\n</style>\n<table border=\"1\" class=\"dataframe\">\n  <thead>\n    <tr style=\"text-align: right;\">\n      <th></th>\n      <th>0</th>\n      <th>1</th>\n      <th>2</th>\n      <th>3</th>\n    </tr>\n  </thead>\n  <tbody>\n    <tr>\n      <td>0</td>\n      <td>1.0</td>\n      <td>3.0</td>\n      <td>2</td>\n      <td>NaN</td>\n    </tr>\n    <tr>\n      <td>1</td>\n      <td>2.0</td>\n      <td>3.0</td>\n      <td>5</td>\n      <td>NaN</td>\n    </tr>\n    <tr>\n      <td>2</td>\n      <td>NaN</td>\n      <td>4.0</td>\n      <td>6</td>\n      <td>NaN</td>\n    </tr>\n  </tbody>\n</table>\n</div>"
     },
     "metadata": {},
     "execution_count": 51
    }
   ],
   "source": [
    "df.fillna(method='bfill') #Rellena el Nan con el valor siguiente\n"
   ]
  },
  {
   "cell_type": "markdown",
   "metadata": {
    "colab_type": "text",
    "id": "TQ6ks3EeaEIE"
   },
   "source": [
    "Notice that if a previous value is not available during a forward fill, the NA value remains."
   ]
  },
  {
   "cell_type": "markdown",
   "metadata": {
    "colab_type": "text",
    "id": "XdNoVKbSaEIF"
   },
   "source": [
    "# Algunos ejemplos prácticos"
   ]
  },
  {
   "cell_type": "code",
   "execution_count": 52,
   "metadata": {
    "colab": {},
    "colab_type": "code",
    "id": "vlFS8nuKaEIF"
   },
   "outputs": [],
   "source": [
    "import pandas as pd\n",
    "import numpy as np"
   ]
  },
  {
   "cell_type": "code",
   "execution_count": 53,
   "metadata": {},
   "outputs": [],
   "source": [
    "dummy_df = pd.DataFrame({'Sno': range(1,10),\n",
    "                        'Name': ['John', 'Jimmy', 'Felicia', 'Sophia', 'Bob',\n",
    "                                 'Billy', 'Kate', 'Will', 'Scott'],\n",
    "                         \n",
    "                        'Age': [25,26,28,np.nan,np.nan,30,31,29,np.nan],\n",
    "                         \n",
    "                        'Height(cm)': [160,163,154,143,np.nan,156,160,np.nan,148]})"
   ]
  },
  {
   "cell_type": "code",
   "execution_count": 54,
   "metadata": {},
   "outputs": [
    {
     "output_type": "execute_result",
     "data": {
      "text/plain": "   Sno     Name   Age  Height(cm)\n0    1     John  25.0       160.0\n1    2    Jimmy  26.0       163.0\n2    3  Felicia  28.0       154.0\n3    4   Sophia   NaN       143.0\n4    5      Bob   NaN         NaN\n5    6    Billy  30.0       156.0\n6    7     Kate  31.0       160.0\n7    8     Will  29.0         NaN\n8    9    Scott   NaN       148.0",
      "text/html": "<div>\n<style scoped>\n    .dataframe tbody tr th:only-of-type {\n        vertical-align: middle;\n    }\n\n    .dataframe tbody tr th {\n        vertical-align: top;\n    }\n\n    .dataframe thead th {\n        text-align: right;\n    }\n</style>\n<table border=\"1\" class=\"dataframe\">\n  <thead>\n    <tr style=\"text-align: right;\">\n      <th></th>\n      <th>Sno</th>\n      <th>Name</th>\n      <th>Age</th>\n      <th>Height(cm)</th>\n    </tr>\n  </thead>\n  <tbody>\n    <tr>\n      <td>0</td>\n      <td>1</td>\n      <td>John</td>\n      <td>25.0</td>\n      <td>160.0</td>\n    </tr>\n    <tr>\n      <td>1</td>\n      <td>2</td>\n      <td>Jimmy</td>\n      <td>26.0</td>\n      <td>163.0</td>\n    </tr>\n    <tr>\n      <td>2</td>\n      <td>3</td>\n      <td>Felicia</td>\n      <td>28.0</td>\n      <td>154.0</td>\n    </tr>\n    <tr>\n      <td>3</td>\n      <td>4</td>\n      <td>Sophia</td>\n      <td>NaN</td>\n      <td>143.0</td>\n    </tr>\n    <tr>\n      <td>4</td>\n      <td>5</td>\n      <td>Bob</td>\n      <td>NaN</td>\n      <td>NaN</td>\n    </tr>\n    <tr>\n      <td>5</td>\n      <td>6</td>\n      <td>Billy</td>\n      <td>30.0</td>\n      <td>156.0</td>\n    </tr>\n    <tr>\n      <td>6</td>\n      <td>7</td>\n      <td>Kate</td>\n      <td>31.0</td>\n      <td>160.0</td>\n    </tr>\n    <tr>\n      <td>7</td>\n      <td>8</td>\n      <td>Will</td>\n      <td>29.0</td>\n      <td>NaN</td>\n    </tr>\n    <tr>\n      <td>8</td>\n      <td>9</td>\n      <td>Scott</td>\n      <td>NaN</td>\n      <td>148.0</td>\n    </tr>\n  </tbody>\n</table>\n</div>"
     },
     "metadata": {},
     "execution_count": 54
    }
   ],
   "source": [
    "dummy_df"
   ]
  },
  {
   "cell_type": "markdown",
   "metadata": {
    "colab_type": "text",
    "id": "Sb95JSI6aEIK"
   },
   "source": [
    "# Reasons for missing Data  \n",
    "1. User did not want to fill data due to privacy issues  \n",
    "2. Loss of data while transferring  \n",
    "3. Insufficient information to fill a particular column, etc.  \n",
    "\n",
    "There can be multiple reasons for missing values in a dataset"
   ]
  },
  {
   "cell_type": "markdown",
   "metadata": {
    "colab_type": "text",
    "id": "qAlyWMMvaEIL"
   },
   "source": [
    "## df.describe()"
   ]
  },
  {
   "cell_type": "code",
   "execution_count": 56,
   "metadata": {
    "colab": {},
    "colab_type": "code",
    "id": "mzCFO3v-aEIL",
    "outputId": "e758d7f4-078e-46eb-9720-6caa6737e60b"
   },
   "outputs": [
    {
     "output_type": "execute_result",
     "data": {
      "text/plain": "            Sno        Age  Height(cm)\ncount  9.000000   6.000000    7.000000\nmean   5.000000  28.166667  154.857143\nstd    2.738613   2.316607    7.174691\nmin    1.000000  25.000000  143.000000\n25%    3.000000  26.500000  151.000000\n50%    5.000000  28.500000  156.000000\n75%    7.000000  29.750000  160.000000\nmax    9.000000  31.000000  163.000000",
      "text/html": "<div>\n<style scoped>\n    .dataframe tbody tr th:only-of-type {\n        vertical-align: middle;\n    }\n\n    .dataframe tbody tr th {\n        vertical-align: top;\n    }\n\n    .dataframe thead th {\n        text-align: right;\n    }\n</style>\n<table border=\"1\" class=\"dataframe\">\n  <thead>\n    <tr style=\"text-align: right;\">\n      <th></th>\n      <th>Sno</th>\n      <th>Age</th>\n      <th>Height(cm)</th>\n    </tr>\n  </thead>\n  <tbody>\n    <tr>\n      <td>count</td>\n      <td>9.000000</td>\n      <td>6.000000</td>\n      <td>7.000000</td>\n    </tr>\n    <tr>\n      <td>mean</td>\n      <td>5.000000</td>\n      <td>28.166667</td>\n      <td>154.857143</td>\n    </tr>\n    <tr>\n      <td>std</td>\n      <td>2.738613</td>\n      <td>2.316607</td>\n      <td>7.174691</td>\n    </tr>\n    <tr>\n      <td>min</td>\n      <td>1.000000</td>\n      <td>25.000000</td>\n      <td>143.000000</td>\n    </tr>\n    <tr>\n      <td>25%</td>\n      <td>3.000000</td>\n      <td>26.500000</td>\n      <td>151.000000</td>\n    </tr>\n    <tr>\n      <td>50%</td>\n      <td>5.000000</td>\n      <td>28.500000</td>\n      <td>156.000000</td>\n    </tr>\n    <tr>\n      <td>75%</td>\n      <td>7.000000</td>\n      <td>29.750000</td>\n      <td>160.000000</td>\n    </tr>\n    <tr>\n      <td>max</td>\n      <td>9.000000</td>\n      <td>31.000000</td>\n      <td>163.000000</td>\n    </tr>\n  </tbody>\n</table>\n</div>"
     },
     "metadata": {},
     "execution_count": 56
    }
   ],
   "source": [
    "dummy_df.describe()"
   ]
  },
  {
   "cell_type": "markdown",
   "metadata": {
    "colab_type": "text",
    "id": "gqTHwJPVaEIN"
   },
   "source": [
    "Here `count` returns Non-null values"
   ]
  },
  {
   "cell_type": "code",
   "execution_count": 57,
   "metadata": {
    "colab": {},
    "colab_type": "code",
    "id": "H1iU91ITaEIN",
    "outputId": "f685abcf-1ce3-495c-efed-41c956efd621"
   },
   "outputs": [
    {
     "output_type": "execute_result",
     "data": {
      "text/plain": "Sno           9\nName          9\nAge           6\nHeight(cm)    7\ndtype: int64"
     },
     "metadata": {},
     "execution_count": 57
    }
   ],
   "source": [
    "dummy_df.count()"
   ]
  },
  {
   "cell_type": "markdown",
   "metadata": {
    "colab_type": "text",
    "id": "B4n-QXlwaEIQ"
   },
   "source": [
    "## Since NaN is considered float, the data is converted to float type"
   ]
  },
  {
   "cell_type": "code",
   "execution_count": 58,
   "metadata": {},
   "outputs": [
    {
     "output_type": "execute_result",
     "data": {
      "text/plain": "Sno             int64\nName           object\nAge           float64\nHeight(cm)    float64\ndtype: object"
     },
     "metadata": {},
     "execution_count": 58
    }
   ],
   "source": [
    "dummy_df.dtypes"
   ]
  },
  {
   "cell_type": "markdown",
   "metadata": {
    "colab_type": "text",
    "id": "LQXxjovFaEIR"
   },
   "source": [
    "## df.isna() and df.notna()"
   ]
  },
  {
   "cell_type": "code",
   "execution_count": 59,
   "metadata": {
    "colab": {},
    "colab_type": "code",
    "id": "MBesprHeaEIS",
    "outputId": "dc290c1e-a895-470e-b4a4-13f2ab63ac69"
   },
   "outputs": [
    {
     "output_type": "execute_result",
     "data": {
      "text/plain": "     Sno   Name    Age  Height(cm)\n0  False  False  False       False\n1  False  False  False       False\n2  False  False  False       False\n3  False  False   True       False\n4  False  False   True        True\n5  False  False  False       False\n6  False  False  False       False\n7  False  False  False        True\n8  False  False   True       False",
      "text/html": "<div>\n<style scoped>\n    .dataframe tbody tr th:only-of-type {\n        vertical-align: middle;\n    }\n\n    .dataframe tbody tr th {\n        vertical-align: top;\n    }\n\n    .dataframe thead th {\n        text-align: right;\n    }\n</style>\n<table border=\"1\" class=\"dataframe\">\n  <thead>\n    <tr style=\"text-align: right;\">\n      <th></th>\n      <th>Sno</th>\n      <th>Name</th>\n      <th>Age</th>\n      <th>Height(cm)</th>\n    </tr>\n  </thead>\n  <tbody>\n    <tr>\n      <td>0</td>\n      <td>False</td>\n      <td>False</td>\n      <td>False</td>\n      <td>False</td>\n    </tr>\n    <tr>\n      <td>1</td>\n      <td>False</td>\n      <td>False</td>\n      <td>False</td>\n      <td>False</td>\n    </tr>\n    <tr>\n      <td>2</td>\n      <td>False</td>\n      <td>False</td>\n      <td>False</td>\n      <td>False</td>\n    </tr>\n    <tr>\n      <td>3</td>\n      <td>False</td>\n      <td>False</td>\n      <td>True</td>\n      <td>False</td>\n    </tr>\n    <tr>\n      <td>4</td>\n      <td>False</td>\n      <td>False</td>\n      <td>True</td>\n      <td>True</td>\n    </tr>\n    <tr>\n      <td>5</td>\n      <td>False</td>\n      <td>False</td>\n      <td>False</td>\n      <td>False</td>\n    </tr>\n    <tr>\n      <td>6</td>\n      <td>False</td>\n      <td>False</td>\n      <td>False</td>\n      <td>False</td>\n    </tr>\n    <tr>\n      <td>7</td>\n      <td>False</td>\n      <td>False</td>\n      <td>False</td>\n      <td>True</td>\n    </tr>\n    <tr>\n      <td>8</td>\n      <td>False</td>\n      <td>False</td>\n      <td>True</td>\n      <td>False</td>\n    </tr>\n  </tbody>\n</table>\n</div>"
     },
     "metadata": {},
     "execution_count": 59
    }
   ],
   "source": [
    "dummy_df.isna()"
   ]
  },
  {
   "cell_type": "code",
   "execution_count": 60,
   "metadata": {
    "colab": {},
    "colab_type": "code",
    "id": "ItBVfH3raEIV",
    "outputId": "db6603f2-97c4-4913-a15f-93e487b14b67"
   },
   "outputs": [
    {
     "output_type": "execute_result",
     "data": {
      "text/plain": "    Sno  Name    Age  Height(cm)\n0  True  True   True        True\n1  True  True   True        True\n2  True  True   True        True\n3  True  True  False        True\n4  True  True  False       False\n5  True  True   True        True\n6  True  True   True        True\n7  True  True   True       False\n8  True  True  False        True",
      "text/html": "<div>\n<style scoped>\n    .dataframe tbody tr th:only-of-type {\n        vertical-align: middle;\n    }\n\n    .dataframe tbody tr th {\n        vertical-align: top;\n    }\n\n    .dataframe thead th {\n        text-align: right;\n    }\n</style>\n<table border=\"1\" class=\"dataframe\">\n  <thead>\n    <tr style=\"text-align: right;\">\n      <th></th>\n      <th>Sno</th>\n      <th>Name</th>\n      <th>Age</th>\n      <th>Height(cm)</th>\n    </tr>\n  </thead>\n  <tbody>\n    <tr>\n      <td>0</td>\n      <td>True</td>\n      <td>True</td>\n      <td>True</td>\n      <td>True</td>\n    </tr>\n    <tr>\n      <td>1</td>\n      <td>True</td>\n      <td>True</td>\n      <td>True</td>\n      <td>True</td>\n    </tr>\n    <tr>\n      <td>2</td>\n      <td>True</td>\n      <td>True</td>\n      <td>True</td>\n      <td>True</td>\n    </tr>\n    <tr>\n      <td>3</td>\n      <td>True</td>\n      <td>True</td>\n      <td>False</td>\n      <td>True</td>\n    </tr>\n    <tr>\n      <td>4</td>\n      <td>True</td>\n      <td>True</td>\n      <td>False</td>\n      <td>False</td>\n    </tr>\n    <tr>\n      <td>5</td>\n      <td>True</td>\n      <td>True</td>\n      <td>True</td>\n      <td>True</td>\n    </tr>\n    <tr>\n      <td>6</td>\n      <td>True</td>\n      <td>True</td>\n      <td>True</td>\n      <td>True</td>\n    </tr>\n    <tr>\n      <td>7</td>\n      <td>True</td>\n      <td>True</td>\n      <td>True</td>\n      <td>False</td>\n    </tr>\n    <tr>\n      <td>8</td>\n      <td>True</td>\n      <td>True</td>\n      <td>False</td>\n      <td>True</td>\n    </tr>\n  </tbody>\n</table>\n</div>"
     },
     "metadata": {},
     "execution_count": 60
    }
   ],
   "source": [
    "dummy_df.notna()"
   ]
  },
  {
   "cell_type": "markdown",
   "metadata": {
    "colab_type": "text",
    "id": "78E3_5_raEIW"
   },
   "source": [
    "## df.isnull()"
   ]
  },
  {
   "cell_type": "code",
   "execution_count": 63,
   "metadata": {
    "colab": {},
    "colab_type": "code",
    "id": "6V5D5DpgaEIW",
    "outputId": "6fe92810-82a1-48ec-d3bf-9d72d043db20"
   },
   "outputs": [
    {
     "output_type": "execute_result",
     "data": {
      "text/plain": "     Sno   Name    Age  Height(cm)\n0  False  False  False       False\n1  False  False  False       False\n2  False  False  False       False\n3  False  False   True       False\n4  False  False   True        True\n5  False  False  False       False\n6  False  False  False       False\n7  False  False  False        True\n8  False  False   True       False",
      "text/html": "<div>\n<style scoped>\n    .dataframe tbody tr th:only-of-type {\n        vertical-align: middle;\n    }\n\n    .dataframe tbody tr th {\n        vertical-align: top;\n    }\n\n    .dataframe thead th {\n        text-align: right;\n    }\n</style>\n<table border=\"1\" class=\"dataframe\">\n  <thead>\n    <tr style=\"text-align: right;\">\n      <th></th>\n      <th>Sno</th>\n      <th>Name</th>\n      <th>Age</th>\n      <th>Height(cm)</th>\n    </tr>\n  </thead>\n  <tbody>\n    <tr>\n      <td>0</td>\n      <td>False</td>\n      <td>False</td>\n      <td>False</td>\n      <td>False</td>\n    </tr>\n    <tr>\n      <td>1</td>\n      <td>False</td>\n      <td>False</td>\n      <td>False</td>\n      <td>False</td>\n    </tr>\n    <tr>\n      <td>2</td>\n      <td>False</td>\n      <td>False</td>\n      <td>False</td>\n      <td>False</td>\n    </tr>\n    <tr>\n      <td>3</td>\n      <td>False</td>\n      <td>False</td>\n      <td>True</td>\n      <td>False</td>\n    </tr>\n    <tr>\n      <td>4</td>\n      <td>False</td>\n      <td>False</td>\n      <td>True</td>\n      <td>True</td>\n    </tr>\n    <tr>\n      <td>5</td>\n      <td>False</td>\n      <td>False</td>\n      <td>False</td>\n      <td>False</td>\n    </tr>\n    <tr>\n      <td>6</td>\n      <td>False</td>\n      <td>False</td>\n      <td>False</td>\n      <td>False</td>\n    </tr>\n    <tr>\n      <td>7</td>\n      <td>False</td>\n      <td>False</td>\n      <td>False</td>\n      <td>True</td>\n    </tr>\n    <tr>\n      <td>8</td>\n      <td>False</td>\n      <td>False</td>\n      <td>True</td>\n      <td>False</td>\n    </tr>\n  </tbody>\n</table>\n</div>"
     },
     "metadata": {},
     "execution_count": 63
    }
   ],
   "source": [
    "dummy_df.isnull()"
   ]
  },
  {
   "cell_type": "markdown",
   "metadata": {
    "colab_type": "text",
    "id": "GjeJfiUzaEIY"
   },
   "source": [
    "## Finding count of missing values in each column"
   ]
  },
  {
   "cell_type": "code",
   "execution_count": 64,
   "metadata": {
    "colab": {},
    "colab_type": "code",
    "id": "MsntM9iVaEIZ",
    "outputId": "0c4eff52-00c8-49ec-a212-bbdd011813ff"
   },
   "outputs": [
    {
     "output_type": "execute_result",
     "data": {
      "text/plain": "Sno           0\nName          0\nAge           3\nHeight(cm)    2\ndtype: int64"
     },
     "metadata": {},
     "execution_count": 64
    }
   ],
   "source": [
    "dummy_df.isnull().sum()"
   ]
  },
  {
   "cell_type": "code",
   "execution_count": 65,
   "metadata": {
    "colab": {},
    "colab_type": "code",
    "id": "IJzk7-QlaEIa"
   },
   "outputs": [],
   "source": [
    "string_dummy_df = pd.DataFrame({\n",
    "                               'Device_name': ['Synringe', 'Ventilator', 'Surgical Gloves',\n",
    "                               'Stethescopes', 'Vials container'],\n",
    "                               'Device_description': ['Used to inject medicine', 'Used to help patients breath',\n",
    "                                                     np.nan, np.nan, np.nan],\n",
    "                               'Single-Use': [True, False, True, np.nan, np.nan]},\n",
    "                              index=range(1,6))"
   ]
  },
  {
   "cell_type": "code",
   "execution_count": 66,
   "metadata": {
    "colab": {},
    "colab_type": "code",
    "id": "Sn9EF8BiaEIc",
    "outputId": "e365ec24-04ce-4e39-cecd-a2f25ea8efdf"
   },
   "outputs": [
    {
     "output_type": "execute_result",
     "data": {
      "text/plain": "       Device_name            Device_description Single-Use\n1         Synringe       Used to inject medicine       True\n2       Ventilator  Used to help patients breath      False\n3  Surgical Gloves                           NaN       True\n4     Stethescopes                           NaN        NaN\n5  Vials container                           NaN        NaN",
      "text/html": "<div>\n<style scoped>\n    .dataframe tbody tr th:only-of-type {\n        vertical-align: middle;\n    }\n\n    .dataframe tbody tr th {\n        vertical-align: top;\n    }\n\n    .dataframe thead th {\n        text-align: right;\n    }\n</style>\n<table border=\"1\" class=\"dataframe\">\n  <thead>\n    <tr style=\"text-align: right;\">\n      <th></th>\n      <th>Device_name</th>\n      <th>Device_description</th>\n      <th>Single-Use</th>\n    </tr>\n  </thead>\n  <tbody>\n    <tr>\n      <td>1</td>\n      <td>Synringe</td>\n      <td>Used to inject medicine</td>\n      <td>True</td>\n    </tr>\n    <tr>\n      <td>2</td>\n      <td>Ventilator</td>\n      <td>Used to help patients breath</td>\n      <td>False</td>\n    </tr>\n    <tr>\n      <td>3</td>\n      <td>Surgical Gloves</td>\n      <td>NaN</td>\n      <td>True</td>\n    </tr>\n    <tr>\n      <td>4</td>\n      <td>Stethescopes</td>\n      <td>NaN</td>\n      <td>NaN</td>\n    </tr>\n    <tr>\n      <td>5</td>\n      <td>Vials container</td>\n      <td>NaN</td>\n      <td>NaN</td>\n    </tr>\n  </tbody>\n</table>\n</div>"
     },
     "metadata": {},
     "execution_count": 66
    }
   ],
   "source": [
    "string_dummy_df"
   ]
  },
  {
   "cell_type": "markdown",
   "metadata": {
    "colab_type": "text",
    "id": "ob-7UzpxaEId"
   },
   "source": [
    "### Sometimes information for a column is insufficient to assign a value"
   ]
  },
  {
   "cell_type": "markdown",
   "metadata": {
    "colab_type": "text",
    "id": "gVp_DK2AaEId"
   },
   "source": [
    "# Missing data for datetime"
   ]
  },
  {
   "cell_type": "code",
   "execution_count": 67,
   "metadata": {},
   "outputs": [],
   "source": [
    "time_df = pd.DataFrame({'Sno': range(1,10),\n",
    "                        'Name': ['John', 'Jimmy', 'Felicia', 'Sophia', 'Bob',\n",
    "                                 'Billy', 'Kate', 'Will', 'Scott'],\n",
    "                         \n",
    "                        'Age': [25,26,28,np.nan,np.nan,30,31,29,np.nan],\n",
    "                         \n",
    "                        'Height(cm)': [160,163,154,143,np.nan,156,160,np.nan,148],\n",
    "                       'birthday': ['1994-01-01', np.nan, '1994-01-01', np.nan,'1994-01-01',\n",
    "                                   '1994-01-01', '1994-01-01', '1994-01-01',np.nan]})"
   ]
  },
  {
   "cell_type": "code",
   "execution_count": 69,
   "metadata": {},
   "outputs": [
    {
     "output_type": "execute_result",
     "data": {
      "text/plain": "   Sno     Name   Age  Height(cm)    birthday\n0    1     John  25.0       160.0  1994-01-01\n1    2    Jimmy  26.0       163.0         NaN\n2    3  Felicia  28.0       154.0  1994-01-01\n3    4   Sophia   NaN       143.0         NaN\n4    5      Bob   NaN         NaN  1994-01-01\n5    6    Billy  30.0       156.0  1994-01-01\n6    7     Kate  31.0       160.0  1994-01-01\n7    8     Will  29.0         NaN  1994-01-01\n8    9    Scott   NaN       148.0         NaN",
      "text/html": "<div>\n<style scoped>\n    .dataframe tbody tr th:only-of-type {\n        vertical-align: middle;\n    }\n\n    .dataframe tbody tr th {\n        vertical-align: top;\n    }\n\n    .dataframe thead th {\n        text-align: right;\n    }\n</style>\n<table border=\"1\" class=\"dataframe\">\n  <thead>\n    <tr style=\"text-align: right;\">\n      <th></th>\n      <th>Sno</th>\n      <th>Name</th>\n      <th>Age</th>\n      <th>Height(cm)</th>\n      <th>birthday</th>\n    </tr>\n  </thead>\n  <tbody>\n    <tr>\n      <td>0</td>\n      <td>1</td>\n      <td>John</td>\n      <td>25.0</td>\n      <td>160.0</td>\n      <td>1994-01-01</td>\n    </tr>\n    <tr>\n      <td>1</td>\n      <td>2</td>\n      <td>Jimmy</td>\n      <td>26.0</td>\n      <td>163.0</td>\n      <td>NaN</td>\n    </tr>\n    <tr>\n      <td>2</td>\n      <td>3</td>\n      <td>Felicia</td>\n      <td>28.0</td>\n      <td>154.0</td>\n      <td>1994-01-01</td>\n    </tr>\n    <tr>\n      <td>3</td>\n      <td>4</td>\n      <td>Sophia</td>\n      <td>NaN</td>\n      <td>143.0</td>\n      <td>NaN</td>\n    </tr>\n    <tr>\n      <td>4</td>\n      <td>5</td>\n      <td>Bob</td>\n      <td>NaN</td>\n      <td>NaN</td>\n      <td>1994-01-01</td>\n    </tr>\n    <tr>\n      <td>5</td>\n      <td>6</td>\n      <td>Billy</td>\n      <td>30.0</td>\n      <td>156.0</td>\n      <td>1994-01-01</td>\n    </tr>\n    <tr>\n      <td>6</td>\n      <td>7</td>\n      <td>Kate</td>\n      <td>31.0</td>\n      <td>160.0</td>\n      <td>1994-01-01</td>\n    </tr>\n    <tr>\n      <td>7</td>\n      <td>8</td>\n      <td>Will</td>\n      <td>29.0</td>\n      <td>NaN</td>\n      <td>1994-01-01</td>\n    </tr>\n    <tr>\n      <td>8</td>\n      <td>9</td>\n      <td>Scott</td>\n      <td>NaN</td>\n      <td>148.0</td>\n      <td>NaN</td>\n    </tr>\n  </tbody>\n</table>\n</div>"
     },
     "metadata": {},
     "execution_count": 69
    }
   ],
   "source": [
    "time_df"
   ]
  },
  {
   "cell_type": "code",
   "execution_count": 71,
   "metadata": {
    "colab": {},
    "colab_type": "code",
    "id": "Q9ZcGYl7aEIg",
    "outputId": "7b976ff6-dea7-4b01-f794-4cf53e63a325"
   },
   "outputs": [
    {
     "output_type": "execute_result",
     "data": {
      "text/plain": "str"
     },
     "metadata": {},
     "execution_count": 71
    }
   ],
   "source": [
    "type(time_df.birthday[0])"
   ]
  },
  {
   "cell_type": "code",
   "execution_count": 75,
   "metadata": {
    "colab": {},
    "colab_type": "code",
    "id": "tZ6LEgJlaEIi"
   },
   "outputs": [
    {
     "output_type": "execute_result",
     "data": {
      "text/plain": "pandas._libs.tslibs.timestamps.Timestamp"
     },
     "metadata": {},
     "execution_count": 75
    }
   ],
   "source": [
    "time_df.birthday = pd.to_datetime(time_df['birthday'])\n",
    "type(time_df.birthday[0])"
   ]
  },
  {
   "cell_type": "code",
   "execution_count": 76,
   "metadata": {
    "colab": {},
    "colab_type": "code",
    "id": "DaK0XB-paEIk",
    "outputId": "8017e956-3c59-42e8-9767-160dc17cecd7"
   },
   "outputs": [
    {
     "output_type": "execute_result",
     "data": {
      "text/plain": "   Sno     Name   Age  Height(cm)   birthday\n0    1     John  25.0       160.0 1994-01-01\n1    2    Jimmy  26.0       163.0        NaT\n2    3  Felicia  28.0       154.0 1994-01-01\n3    4   Sophia   NaN       143.0        NaT\n4    5      Bob   NaN         NaN 1994-01-01\n5    6    Billy  30.0       156.0 1994-01-01\n6    7     Kate  31.0       160.0 1994-01-01\n7    8     Will  29.0         NaN 1994-01-01\n8    9    Scott   NaN       148.0        NaT",
      "text/html": "<div>\n<style scoped>\n    .dataframe tbody tr th:only-of-type {\n        vertical-align: middle;\n    }\n\n    .dataframe tbody tr th {\n        vertical-align: top;\n    }\n\n    .dataframe thead th {\n        text-align: right;\n    }\n</style>\n<table border=\"1\" class=\"dataframe\">\n  <thead>\n    <tr style=\"text-align: right;\">\n      <th></th>\n      <th>Sno</th>\n      <th>Name</th>\n      <th>Age</th>\n      <th>Height(cm)</th>\n      <th>birthday</th>\n    </tr>\n  </thead>\n  <tbody>\n    <tr>\n      <td>0</td>\n      <td>1</td>\n      <td>John</td>\n      <td>25.0</td>\n      <td>160.0</td>\n      <td>1994-01-01</td>\n    </tr>\n    <tr>\n      <td>1</td>\n      <td>2</td>\n      <td>Jimmy</td>\n      <td>26.0</td>\n      <td>163.0</td>\n      <td>NaT</td>\n    </tr>\n    <tr>\n      <td>2</td>\n      <td>3</td>\n      <td>Felicia</td>\n      <td>28.0</td>\n      <td>154.0</td>\n      <td>1994-01-01</td>\n    </tr>\n    <tr>\n      <td>3</td>\n      <td>4</td>\n      <td>Sophia</td>\n      <td>NaN</td>\n      <td>143.0</td>\n      <td>NaT</td>\n    </tr>\n    <tr>\n      <td>4</td>\n      <td>5</td>\n      <td>Bob</td>\n      <td>NaN</td>\n      <td>NaN</td>\n      <td>1994-01-01</td>\n    </tr>\n    <tr>\n      <td>5</td>\n      <td>6</td>\n      <td>Billy</td>\n      <td>30.0</td>\n      <td>156.0</td>\n      <td>1994-01-01</td>\n    </tr>\n    <tr>\n      <td>6</td>\n      <td>7</td>\n      <td>Kate</td>\n      <td>31.0</td>\n      <td>160.0</td>\n      <td>1994-01-01</td>\n    </tr>\n    <tr>\n      <td>7</td>\n      <td>8</td>\n      <td>Will</td>\n      <td>29.0</td>\n      <td>NaN</td>\n      <td>1994-01-01</td>\n    </tr>\n    <tr>\n      <td>8</td>\n      <td>9</td>\n      <td>Scott</td>\n      <td>NaN</td>\n      <td>148.0</td>\n      <td>NaT</td>\n    </tr>\n  </tbody>\n</table>\n</div>"
     },
     "metadata": {},
     "execution_count": 76
    }
   ],
   "source": [
    "time_df"
   ]
  },
  {
   "cell_type": "markdown",
   "metadata": {
    "colab_type": "text",
    "id": "38nqUA9TaEIm"
   },
   "source": [
    "### In datetime format, missing values are denoted by NaT"
   ]
  },
  {
   "cell_type": "markdown",
   "metadata": {
    "colab_type": "text",
    "id": "xyfGkJ7RaEIm"
   },
   "source": [
    "### NaN values are considered to be float by default in pandas"
   ]
  },
  {
   "cell_type": "markdown",
   "metadata": {
    "colab_type": "text",
    "id": "ZUtIzOD2aEIm"
   },
   "source": [
    "# Dealing with missing value"
   ]
  },
  {
   "cell_type": "markdown",
   "metadata": {
    "colab_type": "text",
    "id": "E6nZ_FtRaEIn"
   },
   "source": [
    "## 1. Ignoring Missing Data"
   ]
  },
  {
   "cell_type": "markdown",
   "metadata": {
    "colab_type": "text",
    "id": "w9dVsGYXaEIn"
   },
   "source": [
    "## 1.1 Ignoring rows with missing columns"
   ]
  },
  {
   "cell_type": "code",
   "execution_count": 79,
   "metadata": {
    "colab": {},
    "colab_type": "code",
    "id": "_8s2ZZLIaEIo"
   },
   "outputs": [],
   "source": [
    "dummy_df = pd.DataFrame({'Sno': range(1,10),\n",
    "                        'Name': ['John', 'Jimmy', 'Felicia', 'Sophia', 'Bob',\n",
    "                                 'Billy', 'Kate', 'Will', 'Scott'],\n",
    "                         \n",
    "                        'Age': [25,26,28,np.nan,np.nan,30,31,29,np.nan],\n",
    "                         \n",
    "                        'Height(cm)': [160,163,154,143,np.nan,156,160,np.nan,148]})"
   ]
  },
  {
   "cell_type": "code",
   "execution_count": 81,
   "metadata": {},
   "outputs": [
    {
     "output_type": "execute_result",
     "data": {
      "text/plain": "   Sno     Name   Age  Height(cm)\n0    1     John  25.0       160.0\n1    2    Jimmy  26.0       163.0\n2    3  Felicia  28.0       154.0\n3    4   Sophia   NaN       143.0\n4    5      Bob   NaN         NaN\n5    6    Billy  30.0       156.0\n6    7     Kate  31.0       160.0\n7    8     Will  29.0         NaN\n8    9    Scott   NaN       148.0",
      "text/html": "<div>\n<style scoped>\n    .dataframe tbody tr th:only-of-type {\n        vertical-align: middle;\n    }\n\n    .dataframe tbody tr th {\n        vertical-align: top;\n    }\n\n    .dataframe thead th {\n        text-align: right;\n    }\n</style>\n<table border=\"1\" class=\"dataframe\">\n  <thead>\n    <tr style=\"text-align: right;\">\n      <th></th>\n      <th>Sno</th>\n      <th>Name</th>\n      <th>Age</th>\n      <th>Height(cm)</th>\n    </tr>\n  </thead>\n  <tbody>\n    <tr>\n      <td>0</td>\n      <td>1</td>\n      <td>John</td>\n      <td>25.0</td>\n      <td>160.0</td>\n    </tr>\n    <tr>\n      <td>1</td>\n      <td>2</td>\n      <td>Jimmy</td>\n      <td>26.0</td>\n      <td>163.0</td>\n    </tr>\n    <tr>\n      <td>2</td>\n      <td>3</td>\n      <td>Felicia</td>\n      <td>28.0</td>\n      <td>154.0</td>\n    </tr>\n    <tr>\n      <td>3</td>\n      <td>4</td>\n      <td>Sophia</td>\n      <td>NaN</td>\n      <td>143.0</td>\n    </tr>\n    <tr>\n      <td>4</td>\n      <td>5</td>\n      <td>Bob</td>\n      <td>NaN</td>\n      <td>NaN</td>\n    </tr>\n    <tr>\n      <td>5</td>\n      <td>6</td>\n      <td>Billy</td>\n      <td>30.0</td>\n      <td>156.0</td>\n    </tr>\n    <tr>\n      <td>6</td>\n      <td>7</td>\n      <td>Kate</td>\n      <td>31.0</td>\n      <td>160.0</td>\n    </tr>\n    <tr>\n      <td>7</td>\n      <td>8</td>\n      <td>Will</td>\n      <td>29.0</td>\n      <td>NaN</td>\n    </tr>\n    <tr>\n      <td>8</td>\n      <td>9</td>\n      <td>Scott</td>\n      <td>NaN</td>\n      <td>148.0</td>\n    </tr>\n  </tbody>\n</table>\n</div>"
     },
     "metadata": {},
     "execution_count": 81
    }
   ],
   "source": [
    "dummy_df"
   ]
  },
  {
   "cell_type": "code",
   "execution_count": 80,
   "metadata": {
    "colab": {},
    "colab_type": "code",
    "id": "gbBPSF5UaEIr",
    "outputId": "1ccac548-74c3-4a9e-cebf-09d68587e4e9"
   },
   "outputs": [
    {
     "output_type": "execute_result",
     "data": {
      "text/plain": "   Sno     Name   Age  Height(cm)\n0    1     John  25.0       160.0\n1    2    Jimmy  26.0       163.0\n2    3  Felicia  28.0       154.0\n5    6    Billy  30.0       156.0\n6    7     Kate  31.0       160.0",
      "text/html": "<div>\n<style scoped>\n    .dataframe tbody tr th:only-of-type {\n        vertical-align: middle;\n    }\n\n    .dataframe tbody tr th {\n        vertical-align: top;\n    }\n\n    .dataframe thead th {\n        text-align: right;\n    }\n</style>\n<table border=\"1\" class=\"dataframe\">\n  <thead>\n    <tr style=\"text-align: right;\">\n      <th></th>\n      <th>Sno</th>\n      <th>Name</th>\n      <th>Age</th>\n      <th>Height(cm)</th>\n    </tr>\n  </thead>\n  <tbody>\n    <tr>\n      <td>0</td>\n      <td>1</td>\n      <td>John</td>\n      <td>25.0</td>\n      <td>160.0</td>\n    </tr>\n    <tr>\n      <td>1</td>\n      <td>2</td>\n      <td>Jimmy</td>\n      <td>26.0</td>\n      <td>163.0</td>\n    </tr>\n    <tr>\n      <td>2</td>\n      <td>3</td>\n      <td>Felicia</td>\n      <td>28.0</td>\n      <td>154.0</td>\n    </tr>\n    <tr>\n      <td>5</td>\n      <td>6</td>\n      <td>Billy</td>\n      <td>30.0</td>\n      <td>156.0</td>\n    </tr>\n    <tr>\n      <td>6</td>\n      <td>7</td>\n      <td>Kate</td>\n      <td>31.0</td>\n      <td>160.0</td>\n    </tr>\n  </tbody>\n</table>\n</div>"
     },
     "metadata": {},
     "execution_count": 80
    }
   ],
   "source": [
    "dummy_df.dropna()"
   ]
  },
  {
   "cell_type": "code",
   "execution_count": 83,
   "metadata": {
    "colab": {},
    "colab_type": "code",
    "id": "aAb9ATb-aEIs",
    "outputId": "8337ae8d-9df5-47ab-9a0e-0489931bca69"
   },
   "outputs": [
    {
     "output_type": "execute_result",
     "data": {
      "text/plain": "   Sno     Name   Age  Height(cm)\n0    1     John  25.0       160.0\n1    2    Jimmy  26.0       163.0\n2    3  Felicia  28.0       154.0\n5    6    Billy  30.0       156.0\n6    7     Kate  31.0       160.0",
      "text/html": "<div>\n<style scoped>\n    .dataframe tbody tr th:only-of-type {\n        vertical-align: middle;\n    }\n\n    .dataframe tbody tr th {\n        vertical-align: top;\n    }\n\n    .dataframe thead th {\n        text-align: right;\n    }\n</style>\n<table border=\"1\" class=\"dataframe\">\n  <thead>\n    <tr style=\"text-align: right;\">\n      <th></th>\n      <th>Sno</th>\n      <th>Name</th>\n      <th>Age</th>\n      <th>Height(cm)</th>\n    </tr>\n  </thead>\n  <tbody>\n    <tr>\n      <td>0</td>\n      <td>1</td>\n      <td>John</td>\n      <td>25.0</td>\n      <td>160.0</td>\n    </tr>\n    <tr>\n      <td>1</td>\n      <td>2</td>\n      <td>Jimmy</td>\n      <td>26.0</td>\n      <td>163.0</td>\n    </tr>\n    <tr>\n      <td>2</td>\n      <td>3</td>\n      <td>Felicia</td>\n      <td>28.0</td>\n      <td>154.0</td>\n    </tr>\n    <tr>\n      <td>5</td>\n      <td>6</td>\n      <td>Billy</td>\n      <td>30.0</td>\n      <td>156.0</td>\n    </tr>\n    <tr>\n      <td>6</td>\n      <td>7</td>\n      <td>Kate</td>\n      <td>31.0</td>\n      <td>160.0</td>\n    </tr>\n  </tbody>\n</table>\n</div>"
     },
     "metadata": {},
     "execution_count": 83
    }
   ],
   "source": [
    "remove_nas_df = dummy_df.dropna()\n",
    "remove_nas_df"
   ]
  },
  {
   "cell_type": "markdown",
   "metadata": {
    "colab_type": "text",
    "id": "uy19kK4xaEIt"
   },
   "source": [
    "## Not a good idea since we have deleted 4 out of 9 rows (~44% data)"
   ]
  },
  {
   "cell_type": "markdown",
   "metadata": {
    "colab_type": "text",
    "id": "W8WwujP7aEIt"
   },
   "source": [
    "## 1.2 Removing rows with majority columns as missing"
   ]
  },
  {
   "cell_type": "code",
   "execution_count": 97,
   "metadata": {},
   "outputs": [],
   "source": [
    "dummy_majority_df = pd.DataFrame({\n",
    "                        'Name': ['John', 'Jimmy', 'Felicia', 'Sophia', 'Bob',\n",
    "                                 'Billy', 'Kate', 'Will', 'Scott'],\n",
    "                         \n",
    "                        'Age': [25,26,28,np.nan,np.nan,30,31,29,np.nan],\n",
    "                         \n",
    "                        'Height(cm)': [160,163,154,143,np.nan,156,160,np.nan,148],\n",
    "                        'Marks(100)': [80,np.nan,np.nan,np.nan,np.nan,np.nan,\n",
    "                                      np.nan,np.nan,np.nan],\n",
    "                        'Country': ['USA', 'UK', 'USA', np.nan, np.nan, 'France',\n",
    "                                   'Italy', 'Russia', np.nan],\n",
    "                        'City': ['New York', 'London', 'Miami', np.nan, np.nan,\n",
    "                                'Paris', 'Rome', 'Moscow', np.nan]})"
   ]
  },
  {
   "cell_type": "code",
   "execution_count": 98,
   "metadata": {},
   "outputs": [
    {
     "output_type": "execute_result",
     "data": {
      "text/plain": "      Name   Age  Height(cm)  Marks(100) Country      City\n0     John  25.0       160.0        80.0     USA  New York\n1    Jimmy  26.0       163.0         NaN      UK    London\n2  Felicia  28.0       154.0         NaN     USA     Miami\n3   Sophia   NaN       143.0         NaN     NaN       NaN\n4      Bob   NaN         NaN         NaN     NaN       NaN\n5    Billy  30.0       156.0         NaN  France     Paris\n6     Kate  31.0       160.0         NaN   Italy      Rome\n7     Will  29.0         NaN         NaN  Russia    Moscow\n8    Scott   NaN       148.0         NaN     NaN       NaN",
      "text/html": "<div>\n<style scoped>\n    .dataframe tbody tr th:only-of-type {\n        vertical-align: middle;\n    }\n\n    .dataframe tbody tr th {\n        vertical-align: top;\n    }\n\n    .dataframe thead th {\n        text-align: right;\n    }\n</style>\n<table border=\"1\" class=\"dataframe\">\n  <thead>\n    <tr style=\"text-align: right;\">\n      <th></th>\n      <th>Name</th>\n      <th>Age</th>\n      <th>Height(cm)</th>\n      <th>Marks(100)</th>\n      <th>Country</th>\n      <th>City</th>\n    </tr>\n  </thead>\n  <tbody>\n    <tr>\n      <td>0</td>\n      <td>John</td>\n      <td>25.0</td>\n      <td>160.0</td>\n      <td>80.0</td>\n      <td>USA</td>\n      <td>New York</td>\n    </tr>\n    <tr>\n      <td>1</td>\n      <td>Jimmy</td>\n      <td>26.0</td>\n      <td>163.0</td>\n      <td>NaN</td>\n      <td>UK</td>\n      <td>London</td>\n    </tr>\n    <tr>\n      <td>2</td>\n      <td>Felicia</td>\n      <td>28.0</td>\n      <td>154.0</td>\n      <td>NaN</td>\n      <td>USA</td>\n      <td>Miami</td>\n    </tr>\n    <tr>\n      <td>3</td>\n      <td>Sophia</td>\n      <td>NaN</td>\n      <td>143.0</td>\n      <td>NaN</td>\n      <td>NaN</td>\n      <td>NaN</td>\n    </tr>\n    <tr>\n      <td>4</td>\n      <td>Bob</td>\n      <td>NaN</td>\n      <td>NaN</td>\n      <td>NaN</td>\n      <td>NaN</td>\n      <td>NaN</td>\n    </tr>\n    <tr>\n      <td>5</td>\n      <td>Billy</td>\n      <td>30.0</td>\n      <td>156.0</td>\n      <td>NaN</td>\n      <td>France</td>\n      <td>Paris</td>\n    </tr>\n    <tr>\n      <td>6</td>\n      <td>Kate</td>\n      <td>31.0</td>\n      <td>160.0</td>\n      <td>NaN</td>\n      <td>Italy</td>\n      <td>Rome</td>\n    </tr>\n    <tr>\n      <td>7</td>\n      <td>Will</td>\n      <td>29.0</td>\n      <td>NaN</td>\n      <td>NaN</td>\n      <td>Russia</td>\n      <td>Moscow</td>\n    </tr>\n    <tr>\n      <td>8</td>\n      <td>Scott</td>\n      <td>NaN</td>\n      <td>148.0</td>\n      <td>NaN</td>\n      <td>NaN</td>\n      <td>NaN</td>\n    </tr>\n  </tbody>\n</table>\n</div>"
     },
     "metadata": {},
     "execution_count": 98
    }
   ],
   "source": [
    "dummy_majority_df"
   ]
  },
  {
   "cell_type": "markdown",
   "metadata": {
    "colab_type": "text",
    "id": "NMZr-hedaEIz"
   },
   "source": [
    "#### `thresh=x` attribute tells df.dropna() to keep rows with atleast 'x' Non-Null values"
   ]
  },
  {
   "cell_type": "code",
   "execution_count": 99,
   "metadata": {
    "colab": {},
    "colab_type": "code",
    "id": "rT_swEN0aEIz",
    "outputId": "25ae4cb6-34fa-46cb-ad76-1f5f3dba08de"
   },
   "outputs": [
    {
     "output_type": "execute_result",
     "data": {
      "text/plain": "      Name   Age  Height(cm)  Marks(100) Country      City\n0     John  25.0       160.0        80.0     USA  New York\n1    Jimmy  26.0       163.0         NaN      UK    London\n2  Felicia  28.0       154.0         NaN     USA     Miami\n5    Billy  30.0       156.0         NaN  France     Paris\n6     Kate  31.0       160.0         NaN   Italy      Rome\n7     Will  29.0         NaN         NaN  Russia    Moscow",
      "text/html": "<div>\n<style scoped>\n    .dataframe tbody tr th:only-of-type {\n        vertical-align: middle;\n    }\n\n    .dataframe tbody tr th {\n        vertical-align: top;\n    }\n\n    .dataframe thead th {\n        text-align: right;\n    }\n</style>\n<table border=\"1\" class=\"dataframe\">\n  <thead>\n    <tr style=\"text-align: right;\">\n      <th></th>\n      <th>Name</th>\n      <th>Age</th>\n      <th>Height(cm)</th>\n      <th>Marks(100)</th>\n      <th>Country</th>\n      <th>City</th>\n    </tr>\n  </thead>\n  <tbody>\n    <tr>\n      <td>0</td>\n      <td>John</td>\n      <td>25.0</td>\n      <td>160.0</td>\n      <td>80.0</td>\n      <td>USA</td>\n      <td>New York</td>\n    </tr>\n    <tr>\n      <td>1</td>\n      <td>Jimmy</td>\n      <td>26.0</td>\n      <td>163.0</td>\n      <td>NaN</td>\n      <td>UK</td>\n      <td>London</td>\n    </tr>\n    <tr>\n      <td>2</td>\n      <td>Felicia</td>\n      <td>28.0</td>\n      <td>154.0</td>\n      <td>NaN</td>\n      <td>USA</td>\n      <td>Miami</td>\n    </tr>\n    <tr>\n      <td>5</td>\n      <td>Billy</td>\n      <td>30.0</td>\n      <td>156.0</td>\n      <td>NaN</td>\n      <td>France</td>\n      <td>Paris</td>\n    </tr>\n    <tr>\n      <td>6</td>\n      <td>Kate</td>\n      <td>31.0</td>\n      <td>160.0</td>\n      <td>NaN</td>\n      <td>Italy</td>\n      <td>Rome</td>\n    </tr>\n    <tr>\n      <td>7</td>\n      <td>Will</td>\n      <td>29.0</td>\n      <td>NaN</td>\n      <td>NaN</td>\n      <td>Russia</td>\n      <td>Moscow</td>\n    </tr>\n  </tbody>\n</table>\n</div>"
     },
     "metadata": {},
     "execution_count": 99
    }
   ],
   "source": [
    "dummy_majority_df.dropna(thresh=4)"
   ]
  },
  {
   "cell_type": "code",
   "execution_count": 100,
   "metadata": {
    "colab": {},
    "colab_type": "code",
    "id": "ejOwmTtqaEI0",
    "outputId": "60ed5cf4-fb06-499c-ee6a-7deb4cf08393"
   },
   "outputs": [
    {
     "output_type": "execute_result",
     "data": {
      "text/plain": "   Name   Age  Height(cm)  Marks(100) Country      City\n0  John  25.0       160.0        80.0     USA  New York",
      "text/html": "<div>\n<style scoped>\n    .dataframe tbody tr th:only-of-type {\n        vertical-align: middle;\n    }\n\n    .dataframe tbody tr th {\n        vertical-align: top;\n    }\n\n    .dataframe thead th {\n        text-align: right;\n    }\n</style>\n<table border=\"1\" class=\"dataframe\">\n  <thead>\n    <tr style=\"text-align: right;\">\n      <th></th>\n      <th>Name</th>\n      <th>Age</th>\n      <th>Height(cm)</th>\n      <th>Marks(100)</th>\n      <th>Country</th>\n      <th>City</th>\n    </tr>\n  </thead>\n  <tbody>\n    <tr>\n      <td>0</td>\n      <td>John</td>\n      <td>25.0</td>\n      <td>160.0</td>\n      <td>80.0</td>\n      <td>USA</td>\n      <td>New York</td>\n    </tr>\n  </tbody>\n</table>\n</div>"
     },
     "metadata": {},
     "execution_count": 100
    }
   ],
   "source": [
    "dummy_majority_df.dropna(thresh=6)"
   ]
  },
  {
   "cell_type": "markdown",
   "metadata": {
    "colab_type": "text",
    "id": "mVTCgf62aEI2"
   },
   "source": [
    "### Dropping columns by percentage of missing values   \n",
    "Drop columns with say over 40% empty values"
   ]
  },
  {
   "cell_type": "markdown",
   "metadata": {
    "colab_type": "text",
    "id": "XfaoKHlNaEI2"
   },
   "source": [
    "**Note** : axis=0 is for rows and axis=1 is for columns"
   ]
  },
  {
   "cell_type": "code",
   "execution_count": 101,
   "metadata": {
    "colab": {},
    "colab_type": "code",
    "id": "VmLVw7msaEI3",
    "outputId": "b4f4e937-0fce-4daa-95d1-f1dfb4540a1d"
   },
   "outputs": [
    {
     "output_type": "execute_result",
     "data": {
      "text/plain": "      Name   Age  Height(cm) Country      City\n0     John  25.0       160.0     USA  New York\n1    Jimmy  26.0       163.0      UK    London\n2  Felicia  28.0       154.0     USA     Miami\n3   Sophia   NaN       143.0     NaN       NaN\n4      Bob   NaN         NaN     NaN       NaN\n5    Billy  30.0       156.0  France     Paris\n6     Kate  31.0       160.0   Italy      Rome\n7     Will  29.0         NaN  Russia    Moscow\n8    Scott   NaN       148.0     NaN       NaN",
      "text/html": "<div>\n<style scoped>\n    .dataframe tbody tr th:only-of-type {\n        vertical-align: middle;\n    }\n\n    .dataframe tbody tr th {\n        vertical-align: top;\n    }\n\n    .dataframe thead th {\n        text-align: right;\n    }\n</style>\n<table border=\"1\" class=\"dataframe\">\n  <thead>\n    <tr style=\"text-align: right;\">\n      <th></th>\n      <th>Name</th>\n      <th>Age</th>\n      <th>Height(cm)</th>\n      <th>Country</th>\n      <th>City</th>\n    </tr>\n  </thead>\n  <tbody>\n    <tr>\n      <td>0</td>\n      <td>John</td>\n      <td>25.0</td>\n      <td>160.0</td>\n      <td>USA</td>\n      <td>New York</td>\n    </tr>\n    <tr>\n      <td>1</td>\n      <td>Jimmy</td>\n      <td>26.0</td>\n      <td>163.0</td>\n      <td>UK</td>\n      <td>London</td>\n    </tr>\n    <tr>\n      <td>2</td>\n      <td>Felicia</td>\n      <td>28.0</td>\n      <td>154.0</td>\n      <td>USA</td>\n      <td>Miami</td>\n    </tr>\n    <tr>\n      <td>3</td>\n      <td>Sophia</td>\n      <td>NaN</td>\n      <td>143.0</td>\n      <td>NaN</td>\n      <td>NaN</td>\n    </tr>\n    <tr>\n      <td>4</td>\n      <td>Bob</td>\n      <td>NaN</td>\n      <td>NaN</td>\n      <td>NaN</td>\n      <td>NaN</td>\n    </tr>\n    <tr>\n      <td>5</td>\n      <td>Billy</td>\n      <td>30.0</td>\n      <td>156.0</td>\n      <td>France</td>\n      <td>Paris</td>\n    </tr>\n    <tr>\n      <td>6</td>\n      <td>Kate</td>\n      <td>31.0</td>\n      <td>160.0</td>\n      <td>Italy</td>\n      <td>Rome</td>\n    </tr>\n    <tr>\n      <td>7</td>\n      <td>Will</td>\n      <td>29.0</td>\n      <td>NaN</td>\n      <td>Russia</td>\n      <td>Moscow</td>\n    </tr>\n    <tr>\n      <td>8</td>\n      <td>Scott</td>\n      <td>NaN</td>\n      <td>148.0</td>\n      <td>NaN</td>\n      <td>NaN</td>\n    </tr>\n  </tbody>\n</table>\n</div>"
     },
     "metadata": {},
     "execution_count": 101
    }
   ],
   "source": [
    "dummy_majority_df.dropna(axis=1,thresh=int(len(dummy_majority_df)*0.4))"
   ]
  },
  {
   "cell_type": "markdown",
   "metadata": {
    "colab_type": "text",
    "id": "Yn3-JqCkaEI4"
   },
   "source": [
    "`Marks` column is deleted since it had more than 40% empty values"
   ]
  },
  {
   "cell_type": "markdown",
   "metadata": {
    "colab_type": "text",
    "id": "OJISjz-saEI4"
   },
   "source": [
    "### Dropping rows with majority columns as null values"
   ]
  },
  {
   "cell_type": "markdown",
   "metadata": {
    "colab_type": "text",
    "id": "XSz82cSraEI4"
   },
   "source": [
    "Keep rows with atleast 60% of values filled"
   ]
  },
  {
   "cell_type": "code",
   "execution_count": 103,
   "metadata": {
    "colab": {},
    "colab_type": "code",
    "id": "oI95j7QWaEI4",
    "outputId": "99b085b7-61c9-4d32-d05c-01217a14e8c3"
   },
   "outputs": [
    {
     "output_type": "execute_result",
     "data": {
      "text/plain": "      Name   Age  Height(cm)  Marks(100) Country      City\n0     John  25.0       160.0        80.0     USA  New York\n1    Jimmy  26.0       163.0         NaN      UK    London\n2  Felicia  28.0       154.0         NaN     USA     Miami\n5    Billy  30.0       156.0         NaN  France     Paris\n6     Kate  31.0       160.0         NaN   Italy      Rome\n7     Will  29.0         NaN         NaN  Russia    Moscow",
      "text/html": "<div>\n<style scoped>\n    .dataframe tbody tr th:only-of-type {\n        vertical-align: middle;\n    }\n\n    .dataframe tbody tr th {\n        vertical-align: top;\n    }\n\n    .dataframe thead th {\n        text-align: right;\n    }\n</style>\n<table border=\"1\" class=\"dataframe\">\n  <thead>\n    <tr style=\"text-align: right;\">\n      <th></th>\n      <th>Name</th>\n      <th>Age</th>\n      <th>Height(cm)</th>\n      <th>Marks(100)</th>\n      <th>Country</th>\n      <th>City</th>\n    </tr>\n  </thead>\n  <tbody>\n    <tr>\n      <td>0</td>\n      <td>John</td>\n      <td>25.0</td>\n      <td>160.0</td>\n      <td>80.0</td>\n      <td>USA</td>\n      <td>New York</td>\n    </tr>\n    <tr>\n      <td>1</td>\n      <td>Jimmy</td>\n      <td>26.0</td>\n      <td>163.0</td>\n      <td>NaN</td>\n      <td>UK</td>\n      <td>London</td>\n    </tr>\n    <tr>\n      <td>2</td>\n      <td>Felicia</td>\n      <td>28.0</td>\n      <td>154.0</td>\n      <td>NaN</td>\n      <td>USA</td>\n      <td>Miami</td>\n    </tr>\n    <tr>\n      <td>5</td>\n      <td>Billy</td>\n      <td>30.0</td>\n      <td>156.0</td>\n      <td>NaN</td>\n      <td>France</td>\n      <td>Paris</td>\n    </tr>\n    <tr>\n      <td>6</td>\n      <td>Kate</td>\n      <td>31.0</td>\n      <td>160.0</td>\n      <td>NaN</td>\n      <td>Italy</td>\n      <td>Rome</td>\n    </tr>\n    <tr>\n      <td>7</td>\n      <td>Will</td>\n      <td>29.0</td>\n      <td>NaN</td>\n      <td>NaN</td>\n      <td>Russia</td>\n      <td>Moscow</td>\n    </tr>\n  </tbody>\n</table>\n</div>"
     },
     "metadata": {},
     "execution_count": 103
    }
   ],
   "source": [
    "dummy_majority_df.dropna(axis= 0, thresh=int(0.6*len(dummy_majority_df.columns)))"
   ]
  },
  {
   "cell_type": "markdown",
   "metadata": {
    "colab_type": "text",
    "id": "B98yPdB1aEI5"
   },
   "source": [
    "## 2. Imputing Values"
   ]
  },
  {
   "cell_type": "markdown",
   "metadata": {
    "colab_type": "text",
    "id": "ajXXtJdraEI6"
   },
   "source": [
    "## 2.1 Filling with generic values"
   ]
  },
  {
   "cell_type": "code",
   "execution_count": 114,
   "metadata": {},
   "outputs": [],
   "source": [
    "dummy_df = pd.DataFrame({\n",
    "                        'Name': ['John', 'Jimmy', 'Felicia', 'Sophia', 'Bob',\n",
    "                                 'Billy', 'Kate', 'Will', 'Scott'],\n",
    "                         \n",
    "                        'Age': [25,26,28,np.nan,np.nan,30,31,29,np.nan],\n",
    "                         \n",
    "                        'Height(cm)': [160,163,154,143,np.nan,156,160,np.nan,148]})"
   ]
  },
  {
   "cell_type": "code",
   "execution_count": 106,
   "metadata": {},
   "outputs": [
    {
     "output_type": "execute_result",
     "data": {
      "text/plain": "      Name   Age  Height(cm)\n0     John  25.0       160.0\n1    Jimmy  26.0       163.0\n2  Felicia  28.0       154.0\n3   Sophia   NaN       143.0\n4      Bob   NaN         NaN\n5    Billy  30.0       156.0\n6     Kate  31.0       160.0\n7     Will  29.0         NaN\n8    Scott   NaN       148.0",
      "text/html": "<div>\n<style scoped>\n    .dataframe tbody tr th:only-of-type {\n        vertical-align: middle;\n    }\n\n    .dataframe tbody tr th {\n        vertical-align: top;\n    }\n\n    .dataframe thead th {\n        text-align: right;\n    }\n</style>\n<table border=\"1\" class=\"dataframe\">\n  <thead>\n    <tr style=\"text-align: right;\">\n      <th></th>\n      <th>Name</th>\n      <th>Age</th>\n      <th>Height(cm)</th>\n    </tr>\n  </thead>\n  <tbody>\n    <tr>\n      <td>0</td>\n      <td>John</td>\n      <td>25.0</td>\n      <td>160.0</td>\n    </tr>\n    <tr>\n      <td>1</td>\n      <td>Jimmy</td>\n      <td>26.0</td>\n      <td>163.0</td>\n    </tr>\n    <tr>\n      <td>2</td>\n      <td>Felicia</td>\n      <td>28.0</td>\n      <td>154.0</td>\n    </tr>\n    <tr>\n      <td>3</td>\n      <td>Sophia</td>\n      <td>NaN</td>\n      <td>143.0</td>\n    </tr>\n    <tr>\n      <td>4</td>\n      <td>Bob</td>\n      <td>NaN</td>\n      <td>NaN</td>\n    </tr>\n    <tr>\n      <td>5</td>\n      <td>Billy</td>\n      <td>30.0</td>\n      <td>156.0</td>\n    </tr>\n    <tr>\n      <td>6</td>\n      <td>Kate</td>\n      <td>31.0</td>\n      <td>160.0</td>\n    </tr>\n    <tr>\n      <td>7</td>\n      <td>Will</td>\n      <td>29.0</td>\n      <td>NaN</td>\n    </tr>\n    <tr>\n      <td>8</td>\n      <td>Scott</td>\n      <td>NaN</td>\n      <td>148.0</td>\n    </tr>\n  </tbody>\n</table>\n</div>"
     },
     "metadata": {},
     "execution_count": 106
    }
   ],
   "source": [
    "dummy_df"
   ]
  },
  {
   "cell_type": "code",
   "execution_count": 110,
   "metadata": {
    "colab": {},
    "colab_type": "code",
    "id": "9bhC7RWIaEI8",
    "outputId": "24f96ae0-60d0-4d6a-934b-653585431241"
   },
   "outputs": [
    {
     "output_type": "execute_result",
     "data": {
      "text/plain": "      Name   Age  Height(cm)\n0     John  25.0       160.0\n1    Jimmy  26.0       163.0\n2  Felicia  28.0       154.0\n3   Sophia  -1.0       143.0\n4      Bob  -1.0        -1.0\n5    Billy  30.0       156.0\n6     Kate  31.0       160.0\n7     Will  29.0        -1.0\n8    Scott  -1.0       148.0",
      "text/html": "<div>\n<style scoped>\n    .dataframe tbody tr th:only-of-type {\n        vertical-align: middle;\n    }\n\n    .dataframe tbody tr th {\n        vertical-align: top;\n    }\n\n    .dataframe thead th {\n        text-align: right;\n    }\n</style>\n<table border=\"1\" class=\"dataframe\">\n  <thead>\n    <tr style=\"text-align: right;\">\n      <th></th>\n      <th>Name</th>\n      <th>Age</th>\n      <th>Height(cm)</th>\n    </tr>\n  </thead>\n  <tbody>\n    <tr>\n      <td>0</td>\n      <td>John</td>\n      <td>25.0</td>\n      <td>160.0</td>\n    </tr>\n    <tr>\n      <td>1</td>\n      <td>Jimmy</td>\n      <td>26.0</td>\n      <td>163.0</td>\n    </tr>\n    <tr>\n      <td>2</td>\n      <td>Felicia</td>\n      <td>28.0</td>\n      <td>154.0</td>\n    </tr>\n    <tr>\n      <td>3</td>\n      <td>Sophia</td>\n      <td>-1.0</td>\n      <td>143.0</td>\n    </tr>\n    <tr>\n      <td>4</td>\n      <td>Bob</td>\n      <td>-1.0</td>\n      <td>-1.0</td>\n    </tr>\n    <tr>\n      <td>5</td>\n      <td>Billy</td>\n      <td>30.0</td>\n      <td>156.0</td>\n    </tr>\n    <tr>\n      <td>6</td>\n      <td>Kate</td>\n      <td>31.0</td>\n      <td>160.0</td>\n    </tr>\n    <tr>\n      <td>7</td>\n      <td>Will</td>\n      <td>29.0</td>\n      <td>-1.0</td>\n    </tr>\n    <tr>\n      <td>8</td>\n      <td>Scott</td>\n      <td>-1.0</td>\n      <td>148.0</td>\n    </tr>\n  </tbody>\n</table>\n</div>"
     },
     "metadata": {},
     "execution_count": 110
    }
   ],
   "source": [
    "dummy_df.fillna(-1)"
   ]
  },
  {
   "cell_type": "code",
   "execution_count": null,
   "metadata": {},
   "outputs": [],
   "source": []
  },
  {
   "cell_type": "markdown",
   "metadata": {
    "colab_type": "text",
    "id": "2RbrNEu_aEI-"
   },
   "source": [
    "**Note** changes will be permanently reflected only when inplace=True"
   ]
  },
  {
   "cell_type": "code",
   "execution_count": 113,
   "metadata": {
    "colab": {},
    "colab_type": "code",
    "id": "4xMyL2YTaEI-",
    "outputId": "072055db-b727-46d8-a7ec-c3447755fde2"
   },
   "outputs": [
    {
     "output_type": "execute_result",
     "data": {
      "text/plain": "      Name        Age  Height(cm)\n0     John  25.000000  160.000000\n1    Jimmy  26.000000  163.000000\n2  Felicia  28.000000  154.000000\n3   Sophia  28.166667  143.000000\n4      Bob  28.166667  154.857143\n5    Billy  30.000000  156.000000\n6     Kate  31.000000  160.000000\n7     Will  29.000000  154.857143\n8    Scott  28.166667  148.000000",
      "text/html": "<div>\n<style scoped>\n    .dataframe tbody tr th:only-of-type {\n        vertical-align: middle;\n    }\n\n    .dataframe tbody tr th {\n        vertical-align: top;\n    }\n\n    .dataframe thead th {\n        text-align: right;\n    }\n</style>\n<table border=\"1\" class=\"dataframe\">\n  <thead>\n    <tr style=\"text-align: right;\">\n      <th></th>\n      <th>Name</th>\n      <th>Age</th>\n      <th>Height(cm)</th>\n    </tr>\n  </thead>\n  <tbody>\n    <tr>\n      <td>0</td>\n      <td>John</td>\n      <td>25.000000</td>\n      <td>160.000000</td>\n    </tr>\n    <tr>\n      <td>1</td>\n      <td>Jimmy</td>\n      <td>26.000000</td>\n      <td>163.000000</td>\n    </tr>\n    <tr>\n      <td>2</td>\n      <td>Felicia</td>\n      <td>28.000000</td>\n      <td>154.000000</td>\n    </tr>\n    <tr>\n      <td>3</td>\n      <td>Sophia</td>\n      <td>28.166667</td>\n      <td>143.000000</td>\n    </tr>\n    <tr>\n      <td>4</td>\n      <td>Bob</td>\n      <td>28.166667</td>\n      <td>154.857143</td>\n    </tr>\n    <tr>\n      <td>5</td>\n      <td>Billy</td>\n      <td>30.000000</td>\n      <td>156.000000</td>\n    </tr>\n    <tr>\n      <td>6</td>\n      <td>Kate</td>\n      <td>31.000000</td>\n      <td>160.000000</td>\n    </tr>\n    <tr>\n      <td>7</td>\n      <td>Will</td>\n      <td>29.000000</td>\n      <td>154.857143</td>\n    </tr>\n    <tr>\n      <td>8</td>\n      <td>Scott</td>\n      <td>28.166667</td>\n      <td>148.000000</td>\n    </tr>\n  </tbody>\n</table>\n</div>"
     },
     "metadata": {},
     "execution_count": 113
    }
   ],
   "source": [
    "dummy_df.fillna(dummy_df.mean(), inplace = True)\n",
    "dummy_df"
   ]
  },
  {
   "cell_type": "code",
   "execution_count": 115,
   "metadata": {
    "colab": {},
    "colab_type": "code",
    "id": "CD2t9UYCaEI_",
    "outputId": "2ff3200d-deba-416f-9163-e153f71d993c"
   },
   "outputs": [
    {
     "output_type": "execute_result",
     "data": {
      "text/plain": "      Name   Age  Height(cm)\n0     John  25.0       160.0\n1    Jimmy  26.0       163.0\n2  Felicia  28.0       154.0\n3   Sophia  30.0       143.0\n4      Bob  30.0       156.0\n5    Billy  30.0       156.0\n6     Kate  31.0       160.0\n7     Will  29.0       148.0\n8    Scott   NaN       148.0",
      "text/html": "<div>\n<style scoped>\n    .dataframe tbody tr th:only-of-type {\n        vertical-align: middle;\n    }\n\n    .dataframe tbody tr th {\n        vertical-align: top;\n    }\n\n    .dataframe thead th {\n        text-align: right;\n    }\n</style>\n<table border=\"1\" class=\"dataframe\">\n  <thead>\n    <tr style=\"text-align: right;\">\n      <th></th>\n      <th>Name</th>\n      <th>Age</th>\n      <th>Height(cm)</th>\n    </tr>\n  </thead>\n  <tbody>\n    <tr>\n      <td>0</td>\n      <td>John</td>\n      <td>25.0</td>\n      <td>160.0</td>\n    </tr>\n    <tr>\n      <td>1</td>\n      <td>Jimmy</td>\n      <td>26.0</td>\n      <td>163.0</td>\n    </tr>\n    <tr>\n      <td>2</td>\n      <td>Felicia</td>\n      <td>28.0</td>\n      <td>154.0</td>\n    </tr>\n    <tr>\n      <td>3</td>\n      <td>Sophia</td>\n      <td>30.0</td>\n      <td>143.0</td>\n    </tr>\n    <tr>\n      <td>4</td>\n      <td>Bob</td>\n      <td>30.0</td>\n      <td>156.0</td>\n    </tr>\n    <tr>\n      <td>5</td>\n      <td>Billy</td>\n      <td>30.0</td>\n      <td>156.0</td>\n    </tr>\n    <tr>\n      <td>6</td>\n      <td>Kate</td>\n      <td>31.0</td>\n      <td>160.0</td>\n    </tr>\n    <tr>\n      <td>7</td>\n      <td>Will</td>\n      <td>29.0</td>\n      <td>148.0</td>\n    </tr>\n    <tr>\n      <td>8</td>\n      <td>Scott</td>\n      <td>NaN</td>\n      <td>148.0</td>\n    </tr>\n  </tbody>\n</table>\n</div>"
     },
     "metadata": {},
     "execution_count": 115
    }
   ],
   "source": [
    "dummy_df.bfill()"
   ]
  },
  {
   "cell_type": "code",
   "execution_count": 116,
   "metadata": {
    "colab": {},
    "colab_type": "code",
    "id": "Hv12DZ1LaEJA",
    "outputId": "33afa77c-eb38-4a02-9324-3e89c0fec9d4"
   },
   "outputs": [
    {
     "output_type": "execute_result",
     "data": {
      "text/plain": "      Name   Age  Height(cm)\n0     John  25.0       160.0\n1    Jimmy  26.0       163.0\n2  Felicia  28.0       154.0\n3   Sophia  28.0       143.0\n4      Bob  28.0       143.0\n5    Billy  30.0       156.0\n6     Kate  31.0       160.0\n7     Will  29.0       160.0\n8    Scott  29.0       148.0",
      "text/html": "<div>\n<style scoped>\n    .dataframe tbody tr th:only-of-type {\n        vertical-align: middle;\n    }\n\n    .dataframe tbody tr th {\n        vertical-align: top;\n    }\n\n    .dataframe thead th {\n        text-align: right;\n    }\n</style>\n<table border=\"1\" class=\"dataframe\">\n  <thead>\n    <tr style=\"text-align: right;\">\n      <th></th>\n      <th>Name</th>\n      <th>Age</th>\n      <th>Height(cm)</th>\n    </tr>\n  </thead>\n  <tbody>\n    <tr>\n      <td>0</td>\n      <td>John</td>\n      <td>25.0</td>\n      <td>160.0</td>\n    </tr>\n    <tr>\n      <td>1</td>\n      <td>Jimmy</td>\n      <td>26.0</td>\n      <td>163.0</td>\n    </tr>\n    <tr>\n      <td>2</td>\n      <td>Felicia</td>\n      <td>28.0</td>\n      <td>154.0</td>\n    </tr>\n    <tr>\n      <td>3</td>\n      <td>Sophia</td>\n      <td>28.0</td>\n      <td>143.0</td>\n    </tr>\n    <tr>\n      <td>4</td>\n      <td>Bob</td>\n      <td>28.0</td>\n      <td>143.0</td>\n    </tr>\n    <tr>\n      <td>5</td>\n      <td>Billy</td>\n      <td>30.0</td>\n      <td>156.0</td>\n    </tr>\n    <tr>\n      <td>6</td>\n      <td>Kate</td>\n      <td>31.0</td>\n      <td>160.0</td>\n    </tr>\n    <tr>\n      <td>7</td>\n      <td>Will</td>\n      <td>29.0</td>\n      <td>160.0</td>\n    </tr>\n    <tr>\n      <td>8</td>\n      <td>Scott</td>\n      <td>29.0</td>\n      <td>148.0</td>\n    </tr>\n  </tbody>\n</table>\n</div>"
     },
     "metadata": {},
     "execution_count": 116
    }
   ],
   "source": [
    "dummy_df.ffill()"
   ]
  },
  {
   "cell_type": "code",
   "execution_count": 118,
   "metadata": {},
   "outputs": [
    {
     "output_type": "execute_result",
     "data": {
      "text/plain": "      Name   Age  Height(cm)\n0     John  25.0       160.0\n1    Jimmy  26.0       163.0\n2  Felicia  28.0       154.0\n3   Sophia  28.0       143.0\n4      Bob  28.0       143.0\n5    Billy  30.0       156.0\n6     Kate  31.0       160.0\n7     Will  29.0       160.0\n8    Scott  29.0       148.0",
      "text/html": "<div>\n<style scoped>\n    .dataframe tbody tr th:only-of-type {\n        vertical-align: middle;\n    }\n\n    .dataframe tbody tr th {\n        vertical-align: top;\n    }\n\n    .dataframe thead th {\n        text-align: right;\n    }\n</style>\n<table border=\"1\" class=\"dataframe\">\n  <thead>\n    <tr style=\"text-align: right;\">\n      <th></th>\n      <th>Name</th>\n      <th>Age</th>\n      <th>Height(cm)</th>\n    </tr>\n  </thead>\n  <tbody>\n    <tr>\n      <td>0</td>\n      <td>John</td>\n      <td>25.0</td>\n      <td>160.0</td>\n    </tr>\n    <tr>\n      <td>1</td>\n      <td>Jimmy</td>\n      <td>26.0</td>\n      <td>163.0</td>\n    </tr>\n    <tr>\n      <td>2</td>\n      <td>Felicia</td>\n      <td>28.0</td>\n      <td>154.0</td>\n    </tr>\n    <tr>\n      <td>3</td>\n      <td>Sophia</td>\n      <td>28.0</td>\n      <td>143.0</td>\n    </tr>\n    <tr>\n      <td>4</td>\n      <td>Bob</td>\n      <td>28.0</td>\n      <td>143.0</td>\n    </tr>\n    <tr>\n      <td>5</td>\n      <td>Billy</td>\n      <td>30.0</td>\n      <td>156.0</td>\n    </tr>\n    <tr>\n      <td>6</td>\n      <td>Kate</td>\n      <td>31.0</td>\n      <td>160.0</td>\n    </tr>\n    <tr>\n      <td>7</td>\n      <td>Will</td>\n      <td>29.0</td>\n      <td>160.0</td>\n    </tr>\n    <tr>\n      <td>8</td>\n      <td>Scott</td>\n      <td>29.0</td>\n      <td>148.0</td>\n    </tr>\n  </tbody>\n</table>\n</div>"
     },
     "metadata": {},
     "execution_count": 118
    }
   ],
   "source": [
    "dummy_df.fillna(method = 'ffill')"
   ]
  },
  {
   "cell_type": "markdown",
   "metadata": {
    "colab_type": "text",
    "id": "B9HwM14TaEJB"
   },
   "source": [
    "## 2.2 Filling with central tendencies"
   ]
  },
  {
   "cell_type": "code",
   "execution_count": 121,
   "metadata": {
    "colab": {},
    "colab_type": "code",
    "id": "xbCRG7nGaEJB",
    "outputId": "56f9248e-a801-4e8a-cf9c-ac1ff6c3d99c"
   },
   "outputs": [],
   "source": [
    "mean_age = dummy_df['Age'].mean()\n",
    "mean_height= dummy_df['Height(cm)'].mean()"
   ]
  },
  {
   "cell_type": "code",
   "execution_count": 122,
   "metadata": {
    "colab": {},
    "colab_type": "code",
    "id": "9FwgFW7SaEJD"
   },
   "outputs": [
    {
     "output_type": "execute_result",
     "data": {
      "text/plain": "{'Age': 28.166666666666668, 'Height(cm)': 154.85714285714286}"
     },
     "metadata": {},
     "execution_count": 122
    }
   ],
   "source": [
    "map_dict = {'Age':mean_age,'Height(cm)':mean_height}\n",
    "map_dict"
   ]
  },
  {
   "cell_type": "code",
   "execution_count": 123,
   "metadata": {
    "colab": {},
    "colab_type": "code",
    "id": "cOHxK1C3aEJF",
    "outputId": "83760ea9-bf2c-487c-9843-27866a5c6fff"
   },
   "outputs": [
    {
     "output_type": "execute_result",
     "data": {
      "text/plain": "      Name        Age  Height(cm)\n0     John  25.000000  160.000000\n1    Jimmy  26.000000  163.000000\n2  Felicia  28.000000  154.000000\n3   Sophia  28.166667  143.000000\n4      Bob  28.166667  154.857143\n5    Billy  30.000000  156.000000\n6     Kate  31.000000  160.000000\n7     Will  29.000000  154.857143\n8    Scott  28.166667  148.000000",
      "text/html": "<div>\n<style scoped>\n    .dataframe tbody tr th:only-of-type {\n        vertical-align: middle;\n    }\n\n    .dataframe tbody tr th {\n        vertical-align: top;\n    }\n\n    .dataframe thead th {\n        text-align: right;\n    }\n</style>\n<table border=\"1\" class=\"dataframe\">\n  <thead>\n    <tr style=\"text-align: right;\">\n      <th></th>\n      <th>Name</th>\n      <th>Age</th>\n      <th>Height(cm)</th>\n    </tr>\n  </thead>\n  <tbody>\n    <tr>\n      <td>0</td>\n      <td>John</td>\n      <td>25.000000</td>\n      <td>160.000000</td>\n    </tr>\n    <tr>\n      <td>1</td>\n      <td>Jimmy</td>\n      <td>26.000000</td>\n      <td>163.000000</td>\n    </tr>\n    <tr>\n      <td>2</td>\n      <td>Felicia</td>\n      <td>28.000000</td>\n      <td>154.000000</td>\n    </tr>\n    <tr>\n      <td>3</td>\n      <td>Sophia</td>\n      <td>28.166667</td>\n      <td>143.000000</td>\n    </tr>\n    <tr>\n      <td>4</td>\n      <td>Bob</td>\n      <td>28.166667</td>\n      <td>154.857143</td>\n    </tr>\n    <tr>\n      <td>5</td>\n      <td>Billy</td>\n      <td>30.000000</td>\n      <td>156.000000</td>\n    </tr>\n    <tr>\n      <td>6</td>\n      <td>Kate</td>\n      <td>31.000000</td>\n      <td>160.000000</td>\n    </tr>\n    <tr>\n      <td>7</td>\n      <td>Will</td>\n      <td>29.000000</td>\n      <td>154.857143</td>\n    </tr>\n    <tr>\n      <td>8</td>\n      <td>Scott</td>\n      <td>28.166667</td>\n      <td>148.000000</td>\n    </tr>\n  </tbody>\n</table>\n</div>"
     },
     "metadata": {},
     "execution_count": 123
    }
   ],
   "source": [
    "dummy_df.fillna(map_dict)"
   ]
  },
  {
   "cell_type": "code",
   "execution_count": null,
   "metadata": {
    "colab": {},
    "colab_type": "code",
    "id": "TTrDGP9kaEJG",
    "outputId": "8960034b-36d8-4122-d3a1-dbee0e7ad079"
   },
   "outputs": [],
   "source": []
  },
  {
   "cell_type": "markdown",
   "metadata": {
    "colab_type": "text",
    "id": "FCi6aTXIaEJH"
   },
   "source": [
    "## 2.3 Imputing values based on condition"
   ]
  },
  {
   "cell_type": "code",
   "execution_count": 124,
   "metadata": {},
   "outputs": [],
   "source": [
    "weight_df = pd.DataFrame({\n",
    "                        'Gender': ['Male', 'Female', 'Male', 'Female', 'Female',\n",
    "                                 'Male', 'Female', 'Female', 'Male', 'Male', 'Male', 'Female'],\n",
    "                         \n",
    "                        'Weight(kg)': [70, 55, 65, np.nan, 60, np.nan, 52, 53, 85, 75, np.nan, 68]})"
   ]
  },
  {
   "cell_type": "code",
   "execution_count": 125,
   "metadata": {},
   "outputs": [
    {
     "output_type": "execute_result",
     "data": {
      "text/plain": "    Gender  Weight(kg)\n0     Male        70.0\n1   Female        55.0\n2     Male        65.0\n3   Female         NaN\n4   Female        60.0\n5     Male         NaN\n6   Female        52.0\n7   Female        53.0\n8     Male        85.0\n9     Male        75.0\n10    Male         NaN\n11  Female        68.0",
      "text/html": "<div>\n<style scoped>\n    .dataframe tbody tr th:only-of-type {\n        vertical-align: middle;\n    }\n\n    .dataframe tbody tr th {\n        vertical-align: top;\n    }\n\n    .dataframe thead th {\n        text-align: right;\n    }\n</style>\n<table border=\"1\" class=\"dataframe\">\n  <thead>\n    <tr style=\"text-align: right;\">\n      <th></th>\n      <th>Gender</th>\n      <th>Weight(kg)</th>\n    </tr>\n  </thead>\n  <tbody>\n    <tr>\n      <td>0</td>\n      <td>Male</td>\n      <td>70.0</td>\n    </tr>\n    <tr>\n      <td>1</td>\n      <td>Female</td>\n      <td>55.0</td>\n    </tr>\n    <tr>\n      <td>2</td>\n      <td>Male</td>\n      <td>65.0</td>\n    </tr>\n    <tr>\n      <td>3</td>\n      <td>Female</td>\n      <td>NaN</td>\n    </tr>\n    <tr>\n      <td>4</td>\n      <td>Female</td>\n      <td>60.0</td>\n    </tr>\n    <tr>\n      <td>5</td>\n      <td>Male</td>\n      <td>NaN</td>\n    </tr>\n    <tr>\n      <td>6</td>\n      <td>Female</td>\n      <td>52.0</td>\n    </tr>\n    <tr>\n      <td>7</td>\n      <td>Female</td>\n      <td>53.0</td>\n    </tr>\n    <tr>\n      <td>8</td>\n      <td>Male</td>\n      <td>85.0</td>\n    </tr>\n    <tr>\n      <td>9</td>\n      <td>Male</td>\n      <td>75.0</td>\n    </tr>\n    <tr>\n      <td>10</td>\n      <td>Male</td>\n      <td>NaN</td>\n    </tr>\n    <tr>\n      <td>11</td>\n      <td>Female</td>\n      <td>68.0</td>\n    </tr>\n  </tbody>\n</table>\n</div>"
     },
     "metadata": {},
     "execution_count": 125
    }
   ],
   "source": [
    "weight_df"
   ]
  },
  {
   "cell_type": "code",
   "execution_count": 126,
   "metadata": {
    "colab": {},
    "colab_type": "code",
    "id": "07vQpx7LaEJK"
   },
   "outputs": [
    {
     "output_type": "execute_result",
     "data": {
      "text/plain": "    Weight(kg)\n0        70.00\n1        55.00\n2        65.00\n3        57.60\n4        60.00\n5        73.75\n6        52.00\n7        53.00\n8        85.00\n9        75.00\n10       73.75\n11       68.00",
      "text/html": "<div>\n<style scoped>\n    .dataframe tbody tr th:only-of-type {\n        vertical-align: middle;\n    }\n\n    .dataframe tbody tr th {\n        vertical-align: top;\n    }\n\n    .dataframe thead th {\n        text-align: right;\n    }\n</style>\n<table border=\"1\" class=\"dataframe\">\n  <thead>\n    <tr style=\"text-align: right;\">\n      <th></th>\n      <th>Weight(kg)</th>\n    </tr>\n  </thead>\n  <tbody>\n    <tr>\n      <td>0</td>\n      <td>70.00</td>\n    </tr>\n    <tr>\n      <td>1</td>\n      <td>55.00</td>\n    </tr>\n    <tr>\n      <td>2</td>\n      <td>65.00</td>\n    </tr>\n    <tr>\n      <td>3</td>\n      <td>57.60</td>\n    </tr>\n    <tr>\n      <td>4</td>\n      <td>60.00</td>\n    </tr>\n    <tr>\n      <td>5</td>\n      <td>73.75</td>\n    </tr>\n    <tr>\n      <td>6</td>\n      <td>52.00</td>\n    </tr>\n    <tr>\n      <td>7</td>\n      <td>53.00</td>\n    </tr>\n    <tr>\n      <td>8</td>\n      <td>85.00</td>\n    </tr>\n    <tr>\n      <td>9</td>\n      <td>75.00</td>\n    </tr>\n    <tr>\n      <td>10</td>\n      <td>73.75</td>\n    </tr>\n    <tr>\n      <td>11</td>\n      <td>68.00</td>\n    </tr>\n  </tbody>\n</table>\n</div>"
     },
     "metadata": {},
     "execution_count": 126
    }
   ],
   "source": [
    "weight_df.groupby('Gender').transform(lambda x: x.fillna(x.mean()))"
   ]
  },
  {
   "cell_type": "code",
   "execution_count": null,
   "metadata": {
    "colab": {},
    "colab_type": "code",
    "id": "pzKplblraEJL",
    "outputId": "e17774de-ccdb-4b76-b3eb-c516b214c00b"
   },
   "outputs": [],
   "source": []
  },
  {
   "cell_type": "code",
   "execution_count": null,
   "metadata": {
    "colab": {},
    "colab_type": "code",
    "id": "zcKPZylYaEJM",
    "outputId": "ac9599ed-63fa-483f-9204-e81ba2433deb"
   },
   "outputs": [],
   "source": []
  },
  {
   "cell_type": "code",
   "execution_count": null,
   "metadata": {
    "colab": {},
    "colab_type": "code",
    "id": "JBEmsfPEaEJO",
    "outputId": "3577ce26-fe5b-4707-92e3-3d98236e8b25"
   },
   "outputs": [],
   "source": []
  }
 ],
 "metadata": {
  "colab": {
   "name": "1-MissingDataOutliers.ipynb",
   "provenance": []
  },
  "kernelspec": {
   "display_name": "Python 3",
   "language": "python",
   "name": "python3"
  },
  "language_info": {
   "codemirror_mode": {
    "name": "ipython",
    "version": 3
   },
   "file_extension": ".py",
   "mimetype": "text/x-python",
   "name": "python",
   "nbconvert_exporter": "python",
   "pygments_lexer": "ipython3",
   "version": "3.7.4-final"
  }
 },
 "nbformat": 4,
 "nbformat_minor": 4
}