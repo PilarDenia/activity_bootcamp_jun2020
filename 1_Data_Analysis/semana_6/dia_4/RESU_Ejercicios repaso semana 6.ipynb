{
 "cells": [
  {
   "cell_type": "markdown",
   "metadata": {},
   "source": [
    "![imagen](../../imagenes/ejercicios.png)\n",
    "\n",
    "# Ejercicios repaso semana 6"
   ]
  },
  {
   "cell_type": "markdown",
   "metadata": {},
   "source": [
    "## Ejercicio 1 - Markdown\n",
    "1. Pon por pantalla una imagen\n",
    "2. Escribe en una lista ordenada 3 cosas que te llevarias a la montaña\n",
    "3. Escribe en una lista no ordenada tus tres colores favoritos\n",
    "4. Recplica la lista del apartado dos, pero esta vez que el primer elemento esté en negrita, el segundo en cursiva y el tercero en negrita y cursiva.\n",
    "5. Escribe en markdown, un bloque de código Python que sea print(\"Esto es markdown\"). Markdown reconoce que es Python ya que pone de color diferente las palabras reservadas.\n",
    "6. Escribe el nombre de una web que uses mucho y asocia al texto un enlace a la propia web."
   ]
  },
  {
   "cell_type": "markdown",
   "metadata": {},
   "source": [
    "![imagen](../../imagenes/python.png)\n",
    "\n",
    "Items que me llevaria a la montaña\n",
    "1. Frutos secos\n",
    "2. Cortavientos\n",
    "3. Gorra\n",
    "\n",
    "Colores favoritos:\n",
    "* Rojo\n",
    "* Azul\n",
    "* Verde\n",
    "\n",
    "Items que me llevaria a la montaña\n",
    "1. **Frutos secos**\n",
    "2. *Cortavientos*\n",
    "3. ***Gorra***\n",
    "\n",
    "```Python\n",
    "print(\"Esto es markdown\")\n",
    "```\n",
    "\n",
    "[web de kaggle](https://www.kaggle.com)"
   ]
  },
  {
   "cell_type": "markdown",
   "metadata": {},
   "source": [
    "## Ejercicio 2 - Python Basics\n",
    "1. ¿Qué tengo que poner para que me haga un salto de linea en un print? ¿Y para una tabulación?\n",
    "2. Realiza un conversor de dolares a euros. Tienes que usar `input`.\n",
    "3. Comenta el apartado 1 con un comentario de línea y el apartado 2 con uno multilínea\n",
    "4. Declara dos strings de dos maneras diferentes. Uno será tu nombre y el otro tu apellido. Declara en otra variable tu edad. Concatenalo todo en una frase (nueva variable), e imprimelo por pantalla.\n",
    "5. ¿Está bien si pongo números en los nombres de las variables?\n",
    "6. Comprueba los tipos de las variables del apartado 4\n",
    "7. Elimina todas las variables del apartado 4\n",
    "8. Crea un programa donde se recojan dos inputs del usuario, y el output del programa sea si esos inputs son iguales o no.\n",
    "9. Dada la lista [4,7,-3], calcula su maximo, minimo y suma\n",
    "10. Redondea 38.38276252728 a 5 decimales\n",
    "11. Pasa la frase \"Born to be wild\" a mayusculas, luego minusculas, dividela por los espacios, y por último, sustituye \"wild\" por \"Geek\"."
   ]
  },
  {
   "cell_type": "code",
   "execution_count": 2,
   "metadata": {},
   "outputs": [
    {
     "name": "stdout",
     "output_type": "stream",
     "text": [
      "salto\n",
      "de\n",
      "linea\n",
      "tabulaciones\ten\tlinea\n"
     ]
    }
   ],
   "source": [
    "# Se usa \\n para el salto de linea\n",
    "print('salto\\nde\\nlinea')\n",
    "print('tabulaciones\\ten\\tlinea')"
   ]
  },
  {
   "cell_type": "code",
   "execution_count": 3,
   "metadata": {},
   "outputs": [
    {
     "name": "stdin",
     "output_type": "stream",
     "text": [
      "Conversor de dolares a euros. Introduce euros:  10\n"
     ]
    },
    {
     "name": "stdout",
     "output_type": "stream",
     "text": [
      "Euros: 8.6\n"
     ]
    }
   ],
   "source": [
    "'''\n",
    "Este es mi conversor de dolares a euros\n",
    "'''\n",
    "respuesta = input(\"Conversor de dolares a euros. Introduce dolares: \")\n",
    "\n",
    "print(\"Euros:\", float(respuesta)*0.86)"
   ]
  },
  {
   "cell_type": "code",
   "execution_count": 4,
   "metadata": {},
   "outputs": [
    {
     "name": "stdout",
     "output_type": "stream",
     "text": [
      "Mi nombre es Daniel Ortiz y tengo 29 años\n"
     ]
    }
   ],
   "source": [
    "nombre = \"Daniel\"\n",
    "apellido = 'Ortiz'\n",
    "edad = 29\n",
    "total = \"Mi nombre es \" + nombre + \" \" + apellido + \" y tengo \" + str(edad) + \" años\"\n",
    "print(total)"
   ]
  },
  {
   "cell_type": "markdown",
   "metadata": {},
   "source": [
    "Si está bien, siempre y cuando no vayan al principio del nombre"
   ]
  },
  {
   "cell_type": "code",
   "execution_count": 5,
   "metadata": {},
   "outputs": [],
   "source": [
    "del nombre, apellido, edad, total"
   ]
  },
  {
   "cell_type": "code",
   "execution_count": 7,
   "metadata": {},
   "outputs": [
    {
     "name": "stdin",
     "output_type": "stream",
     "text": [
      "input 1 a\n",
      "input 2 s\n"
     ]
    },
    {
     "name": "stdout",
     "output_type": "stream",
     "text": [
      "False\n"
     ]
    }
   ],
   "source": [
    "uno = input(\"input 1\")\n",
    "dos = input(\"input 2\")\n",
    "print(uno == dos)"
   ]
  },
  {
   "cell_type": "code",
   "execution_count": 11,
   "metadata": {},
   "outputs": [
    {
     "name": "stdout",
     "output_type": "stream",
     "text": [
      "7\n",
      "-3\n",
      "8\n"
     ]
    }
   ],
   "source": [
    "print(max([4,7,-3]))\n",
    "print(min([4,7,-3]))\n",
    "print(sum([4,7,-3]))"
   ]
  },
  {
   "cell_type": "code",
   "execution_count": 12,
   "metadata": {},
   "outputs": [
    {
     "data": {
      "text/plain": [
       "38.38276"
      ]
     },
     "execution_count": 12,
     "metadata": {},
     "output_type": "execute_result"
    }
   ],
   "source": [
    "round(38.38276252728, 5)"
   ]
  },
  {
   "cell_type": "code",
   "execution_count": 16,
   "metadata": {},
   "outputs": [
    {
     "name": "stdout",
     "output_type": "stream",
     "text": [
      "Born to be wild\n",
      "born to be wild\n",
      "BORN TO BE WILD\n",
      "['Born', 'to', 'be', 'wild']\n",
      "Born to be Geek\n"
     ]
    }
   ],
   "source": [
    "frase = \"Born to be wild\"\n",
    "print(frase)\n",
    "print(frase.lower())\n",
    "print(frase.upper())\n",
    "print(frase.split(' '))\n",
    "print(frase.replace('wild', 'Geek'))"
   ]
  },
  {
   "cell_type": "markdown",
   "metadata": {},
   "source": [
    "## Ejercicio 3 - If/else\n",
    "Crea un arbol de decisión mediante sentencias `if/else`, para determinar el precio de la entrada de cine. Si la edad del cliente está entre 5 y 15 años, ambos incluidos, el precio será de 5, si está jubilado y la peli es una de las `peliculas_disccount`, el precio es de 4. En cualquier otr caso, será de 7 euros."
   ]
  },
  {
   "cell_type": "code",
   "execution_count": null,
   "metadata": {},
   "outputs": [],
   "source": [
    "jubilado = False\n",
    "edad = 29\n",
    "peliculas_disccount = [\"Star Wars\", \"Dr. Dolittle\", \"Efecto mariposa\"]\n"
   ]
  },
  {
   "cell_type": "code",
   "execution_count": null,
   "metadata": {},
   "outputs": [],
   "source": [
    "\n",
    "peli = \"Dr. Dolittle\"\n",
    "if 5 <= edad <= 15:\n",
    "    print(5)\n",
    "\n",
    "elif jubilado and peli in peliculas_disccount:\n",
    "    print(4)\n",
    "\n",
    "else:\n",
    "    print(8)"
   ]
  },
  {
   "cell_type": "markdown",
   "metadata": {},
   "source": [
    "## Ejercicio 4 - bucle for\n",
    "Dadas dos listas de la misma longitud, crea una tercera lista que se componga de la suma de ambas, elementoa  elemento."
   ]
  },
  {
   "cell_type": "code",
   "execution_count": 19,
   "metadata": {},
   "outputs": [
    {
     "name": "stdout",
     "output_type": "stream",
     "text": [
      "[7, 8, 12]\n"
     ]
    }
   ],
   "source": [
    "lista1 = [5,7,8]\n",
    "lista2 = [2,1,4]\n",
    "\n",
    "lista3 = []\n",
    "\n",
    "for i in range(len(lista1)):\n",
    "    lista3.append(lista1[i] + lista2[i])\n",
    "    \n",
    "print(lista3)"
   ]
  },
  {
   "cell_type": "markdown",
   "metadata": {},
   "source": [
    "## Ejercicio 5 - bucle for\n",
    "1. Imprime por pantalla los numeros entre el 0 y el 70 que se sean multiplos de 3 y de 5\n",
    "2. Imprime por pantalla la siguiente secuencia: [-10, -11, -12, -13, -14, -15]"
   ]
  },
  {
   "cell_type": "code",
   "execution_count": 22,
   "metadata": {},
   "outputs": [
    {
     "name": "stdout",
     "output_type": "stream",
     "text": [
      "0\n",
      "15\n",
      "30\n",
      "45\n",
      "60\n"
     ]
    }
   ],
   "source": [
    "for i in range(71):\n",
    "    if i % 3 == 0 and i % 5 == 0:\n",
    "        print(i)"
   ]
  },
  {
   "cell_type": "code",
   "execution_count": 60,
   "metadata": {},
   "outputs": [
    {
     "name": "stdout",
     "output_type": "stream",
     "text": [
      "-10\n",
      "-11\n",
      "-12\n",
      "-13\n",
      "-14\n",
      "-15\n"
     ]
    }
   ],
   "source": [
    "for i in range(-10, -16, -1):\n",
    "    print(i)"
   ]
  },
  {
   "cell_type": "markdown",
   "metadata": {},
   "source": [
    "## Ejercicio 6 - bucle for\n",
    "Imprime por pantalla el siguiente patrón\n",
    "```Python\n",
    "1\n",
    "22\n",
    "333\n",
    "4444\n",
    "55555\n",
    "666666\n",
    "7777777\n",
    "88888888\n",
    "999999999\n",
    "```"
   ]
  },
  {
   "cell_type": "code",
   "execution_count": 30,
   "metadata": {},
   "outputs": [
    {
     "name": "stdout",
     "output_type": "stream",
     "text": [
      "\n",
      "1\n",
      "22\n",
      "333\n",
      "4444\n",
      "55555\n",
      "666666\n",
      "7777777\n",
      "88888888\n",
      "999999999\n"
     ]
    }
   ],
   "source": [
    "for i in range(10):\n",
    "    print(str(i) * i)"
   ]
  },
  {
   "cell_type": "markdown",
   "metadata": {},
   "source": [
    "## Ejercicio 7 - bucle while\n",
    "Escribe por pantalla un programa que vaya pidiendo numeros al usuario, hasta que el usuario introduce el 9999. En ese caso, el programa devuelve la concatenación de todos los números. Como si fuese un string."
   ]
  },
  {
   "cell_type": "code",
   "execution_count": 3,
   "metadata": {},
   "outputs": [
    {
     "name": "stdin",
     "output_type": "stream",
     "text": [
      "Intruce un numero 2\n",
      "Intruce un numero 5\n",
      "Intruce un numero 4\n",
      "Intruce un numero 9999\n"
     ]
    },
    {
     "name": "stdout",
     "output_type": "stream",
     "text": [
      "El concatenado ha sido 254\n"
     ]
    }
   ],
   "source": [
    "num = None\n",
    "suma = ''\n",
    "\n",
    "while num != '9999':\n",
    "    \n",
    "    num = input(\"Intruce un numero\")\n",
    "    \n",
    "    if num != '9999':\n",
    "        suma += num\n",
    "        \n",
    "print(\"El concatenado ha sido\",suma)"
   ]
  },
  {
   "cell_type": "markdown",
   "metadata": {},
   "source": [
    "## Ejercicio 8 - funcion con bucle while\n",
    "Escribe una funcion en el que se le pide al usuario el codigo pin reiteradamente hasta que acierte... Si lo introduce mal 3 veces, la funcion devuelve un \"Se ha bloqueado\", sino, un \"¡Acertaste el codigo!\"."
   ]
  },
  {
   "cell_type": "code",
   "execution_count": 4,
   "metadata": {},
   "outputs": [
    {
     "name": "stdin",
     "output_type": "stream",
     "text": [
      "Introduzca el codigo pin:  1\n",
      "Introduzca el codigo pin:  1\n",
      "Introduzca el codigo pin:  1\n"
     ]
    },
    {
     "data": {
      "text/plain": [
       "'bloqueaste la tarjeta'"
      ]
     },
     "execution_count": 4,
     "metadata": {},
     "output_type": "execute_result"
    }
   ],
   "source": [
    "pin = 1234\n",
    "\n",
    "\n",
    "def codigo_pin():\n",
    "    \n",
    "    intentos = 0\n",
    "    while intentos <3:\n",
    "        codigo = int(input(\"Introduzca el codigo pin: \"))\n",
    "\n",
    "        if codigo == pin:\n",
    "            return \"¡Acertaste el codigo!\"\n",
    "\n",
    "        else:\n",
    "            intentos += 1\n",
    "    \n",
    "    return \"Se ha bloqueado\"\n",
    "\n",
    "codigo_pin() "
   ]
  },
  {
   "cell_type": "markdown",
   "metadata": {},
   "source": [
    "## Ejercicio 9 - colecciones\n",
    "1. Crea una tupla con los elementos (10,2,27,8)\n",
    "2. Obtén el tamaño de la tupla\n",
    "3. Imprime por pantalla su tipo\n",
    "4. Declara una tupla con 4 caracteres y concatenalos todos, separados por espacios\n",
    "5. Declara una lista con los mismos elementos que en el apartado 1. Encuentra el elemento 27 de la lista, y sustituyelo por 37\n",
    "8. Elimina el 8 de la lista\n",
    "9. Convierte la lista de apartado anterior en una tupla.\n",
    "10. Compurba si el elemento 3 esta en la tupla del apartado anterior.\n",
    "11. Convierte la tupla del apartado 10 en un diccionario. Usa también los indices.\n",
    "12. Ordena la tupla de manera descendente\n",
    "13. Crea un diccionario con {\"val1\": 5, \"val2\": 8, \"val3\": 9}. Suma todos sus valores. \n",
    "14. Obtén una lista de tuplas con todos sus items."
   ]
  },
  {
   "cell_type": "code",
   "execution_count": 31,
   "metadata": {},
   "outputs": [
    {
     "name": "stdout",
     "output_type": "stream",
     "text": [
      "(10, 2, 27, 8)\n",
      "4\n",
      "<class 'tuple'>\n"
     ]
    }
   ],
   "source": [
    "tupla = (10,2,27,8)\n",
    "print(tupla)\n",
    "print(len(tupla))\n",
    "print(type(tupla))"
   ]
  },
  {
   "cell_type": "code",
   "execution_count": 32,
   "metadata": {},
   "outputs": [
    {
     "data": {
      "text/plain": [
       "'s e b t'"
      ]
     },
     "execution_count": 32,
     "metadata": {},
     "output_type": "execute_result"
    }
   ],
   "source": [
    "tupla_str = ('s', 'e', 'b', 't')\n",
    "\" \".join(tupla_str)"
   ]
  },
  {
   "cell_type": "code",
   "execution_count": 41,
   "metadata": {},
   "outputs": [
    {
     "name": "stdout",
     "output_type": "stream",
     "text": [
      "[10, 2, 37, 8]\n"
     ]
    }
   ],
   "source": [
    "lista = [10,2,27,8]\n",
    "\n",
    "indice = lista.index(27)\n",
    "lista[indice] = 37\n",
    "print(lista)"
   ]
  },
  {
   "cell_type": "code",
   "execution_count": 42,
   "metadata": {},
   "outputs": [
    {
     "name": "stdout",
     "output_type": "stream",
     "text": [
      "[10, 2, 37]\n",
      "(10, 2, 37)\n"
     ]
    }
   ],
   "source": [
    "lista.remove(8)\n",
    "print(lista)\n",
    "tupla = tuple(lista)\n",
    "print(tupla)"
   ]
  },
  {
   "cell_type": "code",
   "execution_count": 43,
   "metadata": {},
   "outputs": [
    {
     "name": "stdout",
     "output_type": "stream",
     "text": [
      "False\n"
     ]
    }
   ],
   "source": [
    "print(3 in tupla)"
   ]
  },
  {
   "cell_type": "code",
   "execution_count": 44,
   "metadata": {},
   "outputs": [
    {
     "name": "stdout",
     "output_type": "stream",
     "text": [
      "{0: 10, 1: 2, 2: 37}\n"
     ]
    }
   ],
   "source": [
    "mi_dict = {}\n",
    "# Convertir a diccionario\n",
    "for i,j in enumerate(tupla):\n",
    "    #print(i)\n",
    "    #print(j)\n",
    "    mi_dict[i] = j\n",
    "    \n",
    "print(mi_dict)"
   ]
  },
  {
   "cell_type": "code",
   "execution_count": 50,
   "metadata": {},
   "outputs": [
    {
     "name": "stdout",
     "output_type": "stream",
     "text": [
      "[37, 10, 2]\n"
     ]
    }
   ],
   "source": [
    "print(sorted(tupla, reverse = True))"
   ]
  },
  {
   "cell_type": "code",
   "execution_count": 56,
   "metadata": {},
   "outputs": [
    {
     "name": "stdout",
     "output_type": "stream",
     "text": [
      "22\n",
      "[('val1', 5), ('val2', 8), ('val3', 9)]\n"
     ]
    }
   ],
   "source": [
    "my_dict = {\"val1\": 5, \"val2\": 8, \"val3\": 9}\n",
    "print(sum(my_dict.values()))\n",
    "print(list(my_dict.items()))"
   ]
  }
 ],
 "metadata": {
  "kernelspec": {
   "display_name": "Python 3",
   "language": "python",
   "name": "python3"
  },
  "language_info": {
   "codemirror_mode": {
    "name": "ipython",
    "version": 3
   },
   "file_extension": ".py",
   "mimetype": "text/x-python",
   "name": "python",
   "nbconvert_exporter": "python",
   "pygments_lexer": "ipython3",
   "version": "3.7.6"
  }
 },
 "nbformat": 4,
 "nbformat_minor": 4
}
