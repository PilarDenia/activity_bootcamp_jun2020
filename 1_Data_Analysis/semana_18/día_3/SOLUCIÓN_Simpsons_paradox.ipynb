{
 "cells": [
  {
   "cell_type": "markdown",
   "metadata": {},
   "source": [
    "# Simpson's Paradox\n",
    "Use `admission_data.csv` for this exercise.\n",
    "\n",
    "No ejecutar ninguna celda"
   ]
  },
  {
   "cell_type": "code",
   "execution_count": 1,
   "metadata": {},
   "outputs": [],
   "source": [
    "import pandas as pd"
   ]
  },
  {
   "cell_type": "code",
   "execution_count": 2,
   "metadata": {},
   "outputs": [
    {
     "data": {
      "text/html": [
       "<div>\n",
       "<style scoped>\n",
       "    .dataframe tbody tr th:only-of-type {\n",
       "        vertical-align: middle;\n",
       "    }\n",
       "\n",
       "    .dataframe tbody tr th {\n",
       "        vertical-align: top;\n",
       "    }\n",
       "\n",
       "    .dataframe thead th {\n",
       "        text-align: right;\n",
       "    }\n",
       "</style>\n",
       "<table border=\"1\" class=\"dataframe\">\n",
       "  <thead>\n",
       "    <tr style=\"text-align: right;\">\n",
       "      <th></th>\n",
       "      <th>student_id</th>\n",
       "      <th>gender</th>\n",
       "      <th>major</th>\n",
       "      <th>admitted</th>\n",
       "    </tr>\n",
       "  </thead>\n",
       "  <tbody>\n",
       "    <tr>\n",
       "      <th>0</th>\n",
       "      <td>35377</td>\n",
       "      <td>female</td>\n",
       "      <td>Chemistry</td>\n",
       "      <td>False</td>\n",
       "    </tr>\n",
       "    <tr>\n",
       "      <th>1</th>\n",
       "      <td>56105</td>\n",
       "      <td>male</td>\n",
       "      <td>Physics</td>\n",
       "      <td>True</td>\n",
       "    </tr>\n",
       "    <tr>\n",
       "      <th>2</th>\n",
       "      <td>31441</td>\n",
       "      <td>female</td>\n",
       "      <td>Chemistry</td>\n",
       "      <td>False</td>\n",
       "    </tr>\n",
       "    <tr>\n",
       "      <th>3</th>\n",
       "      <td>51765</td>\n",
       "      <td>male</td>\n",
       "      <td>Physics</td>\n",
       "      <td>True</td>\n",
       "    </tr>\n",
       "    <tr>\n",
       "      <th>4</th>\n",
       "      <td>53714</td>\n",
       "      <td>female</td>\n",
       "      <td>Physics</td>\n",
       "      <td>True</td>\n",
       "    </tr>\n",
       "  </tbody>\n",
       "</table>\n",
       "</div>"
      ],
      "text/plain": [
       "   student_id  gender      major  admitted\n",
       "0       35377  female  Chemistry     False\n",
       "1       56105    male    Physics      True\n",
       "2       31441  female  Chemistry     False\n",
       "3       51765    male    Physics      True\n",
       "4       53714  female    Physics      True"
      ]
     },
     "execution_count": 2,
     "metadata": {},
     "output_type": "execute_result"
    }
   ],
   "source": [
    "# Load and view first few lines of dataset\n",
    "df = pd.read_csv('admission_data.csv')\n",
    "df.head()"
   ]
  },
  {
   "cell_type": "code",
   "execution_count": 3,
   "metadata": {},
   "outputs": [
    {
     "name": "stdout",
     "output_type": "stream",
     "text": [
      "<class 'pandas.core.frame.DataFrame'>\n",
      "RangeIndex: 500 entries, 0 to 499\n",
      "Data columns (total 4 columns):\n",
      " #   Column      Non-Null Count  Dtype \n",
      "---  ------      --------------  ----- \n",
      " 0   student_id  500 non-null    int64 \n",
      " 1   gender      500 non-null    object\n",
      " 2   major       500 non-null    object\n",
      " 3   admitted    500 non-null    bool  \n",
      "dtypes: bool(1), int64(1), object(2)\n",
      "memory usage: 12.3+ KB\n"
     ]
    }
   ],
   "source": [
    "df.info()"
   ]
  },
  {
   "cell_type": "markdown",
   "metadata": {},
   "source": [
    "### Proportion and admission rate for each gender"
   ]
  },
  {
   "cell_type": "code",
   "execution_count": 4,
   "metadata": {},
   "outputs": [],
   "source": [
    "# get number of males and females in list\n",
    " \n",
    "#get total number of values in gender column in variable\n"
   ]
  },
  {
   "cell_type": "code",
   "execution_count": 5,
   "metadata": {},
   "outputs": [
    {
     "data": {
      "text/plain": [
       "female    257\n",
       "male      243\n",
       "Name: gender, dtype: int64"
      ]
     },
     "execution_count": 5,
     "metadata": {},
     "output_type": "execute_result"
    }
   ],
   "source": [
    "df.gender.value_counts()\n"
   ]
  },
  {
   "cell_type": "code",
   "execution_count": 6,
   "metadata": {},
   "outputs": [
    {
     "name": "stdout",
     "output_type": "stream",
     "text": [
      "Proportion of females is 51.4%\n",
      "Proportion of males is 48.6%\n"
     ]
    }
   ],
   "source": [
    "print('Proportion of females is ' + str(df.gender.value_counts()['female']/len(df) * 100) +'%')\n",
    "print('Proportion of males is ' + str(df.gender.value_counts()['male']/len(df) * 100) +'%')"
   ]
  },
  {
   "cell_type": "code",
   "execution_count": 7,
   "metadata": {},
   "outputs": [],
   "source": [
    "#To view statistics based on gender, we group by gender variable\n",
    "# Next we use value_counts() function to see the numbers\n"
   ]
  },
  {
   "cell_type": "code",
   "execution_count": 8,
   "metadata": {},
   "outputs": [
    {
     "data": {
      "text/plain": [
       "gender  admitted\n",
       "female  False       183\n",
       "male    False       125\n",
       "        True        118\n",
       "female  True         74\n",
       "dtype: int64"
      ]
     },
     "execution_count": 8,
     "metadata": {},
     "output_type": "execute_result"
    }
   ],
   "source": [
    "#df_genero_admitido = df.groupby(['gender', 'admitted']).count()['student_id']\n",
    "#df_genero_admitido\n",
    "\n",
    "df[['gender', 'admitted']].value_counts()"
   ]
  },
  {
   "cell_type": "code",
   "execution_count": 9,
   "metadata": {},
   "outputs": [
    {
     "name": "stdout",
     "output_type": "stream",
     "text": [
      "Number of female students are 257\n"
     ]
    }
   ],
   "source": [
    "# count of females\n",
    "# https://chrisalbon.com/python/pandas_selecting_rows_on_conditions.html\n",
    "print('Number of female students are ' + str(len(df[df['gender'] == 'female'])))"
   ]
  },
  {
   "cell_type": "code",
   "execution_count": 10,
   "metadata": {},
   "outputs": [
    {
     "name": "stdout",
     "output_type": "stream",
     "text": [
      "Number of male students are 243\n"
     ]
    }
   ],
   "source": [
    "#count of males\n",
    "print('Number of male students are ' + str(len(df[df['gender'] == 'male'])))"
   ]
  },
  {
   "cell_type": "code",
   "execution_count": 11,
   "metadata": {},
   "outputs": [
    {
     "data": {
      "text/plain": [
       "243"
      ]
     },
     "execution_count": 11,
     "metadata": {},
     "output_type": "execute_result"
    }
   ],
   "source": [
    "df.groupby(['gender']).count().loc['male','student_id']"
   ]
  },
  {
   "cell_type": "code",
   "execution_count": 12,
   "metadata": {},
   "outputs": [
    {
     "name": "stdout",
     "output_type": "stream",
     "text": [
      "Female admission rate is 28.79%\n"
     ]
    }
   ],
   "source": [
    "# Admission rate for females\n",
    "\n",
    "import numpy as np\n",
    "ad_rate_fem = len(df[(df['gender'] == 'female') & (df['admitted'] == True)])/len(df[df['gender'] == 'female'])\n",
    "print('Female admission rate is ' + str(np.round(ad_rate_fem*100,2)) + '%')"
   ]
  },
  {
   "cell_type": "code",
   "execution_count": 13,
   "metadata": {},
   "outputs": [
    {
     "name": "stdout",
     "output_type": "stream",
     "text": [
      "Male admission rate is 48.56%\n"
     ]
    }
   ],
   "source": [
    "# Admission rate for males\n",
    "\n",
    "ad_rate_ma = len(df[(df['gender'] == 'male') & (df['admitted'] == True)])/len(df[df['gender'] == 'male'])\n",
    "print('Male admission rate is ' + str(np.round(ad_rate_ma*100,2)) + '%')"
   ]
  },
  {
   "cell_type": "code",
   "execution_count": 14,
   "metadata": {},
   "outputs": [
    {
     "name": "stdout",
     "output_type": "stream",
     "text": [
      "Total admission proportions\n",
      "Female: 0.28793774319066145\n",
      "Male: 0.48559670781893005\n"
     ]
    }
   ],
   "source": [
    "print('Total admission proportions')\n",
    "\n",
    "print('Female: ' + str(ad_rate_fem))\n",
    "print('Male: ' + str(ad_rate_ma))"
   ]
  },
  {
   "cell_type": "markdown",
   "metadata": {},
   "source": [
    "### Proportion and admission rate for physics majors of each gender"
   ]
  },
  {
   "cell_type": "code",
   "execution_count": 15,
   "metadata": {},
   "outputs": [
    {
     "data": {
      "text/html": [
       "<div>\n",
       "<style scoped>\n",
       "    .dataframe tbody tr th:only-of-type {\n",
       "        vertical-align: middle;\n",
       "    }\n",
       "\n",
       "    .dataframe tbody tr th {\n",
       "        vertical-align: top;\n",
       "    }\n",
       "\n",
       "    .dataframe thead th {\n",
       "        text-align: right;\n",
       "    }\n",
       "</style>\n",
       "<table border=\"1\" class=\"dataframe\">\n",
       "  <thead>\n",
       "    <tr style=\"text-align: right;\">\n",
       "      <th></th>\n",
       "      <th></th>\n",
       "      <th>student_id</th>\n",
       "      <th>admitted</th>\n",
       "    </tr>\n",
       "    <tr>\n",
       "      <th>major</th>\n",
       "      <th>gender</th>\n",
       "      <th></th>\n",
       "      <th></th>\n",
       "    </tr>\n",
       "  </thead>\n",
       "  <tbody>\n",
       "    <tr>\n",
       "      <th rowspan=\"2\" valign=\"top\">Chemistry</th>\n",
       "      <th>female</th>\n",
       "      <td>226</td>\n",
       "      <td>226</td>\n",
       "    </tr>\n",
       "    <tr>\n",
       "      <th>male</th>\n",
       "      <td>18</td>\n",
       "      <td>18</td>\n",
       "    </tr>\n",
       "    <tr>\n",
       "      <th rowspan=\"2\" valign=\"top\">Physics</th>\n",
       "      <th>female</th>\n",
       "      <td>31</td>\n",
       "      <td>31</td>\n",
       "    </tr>\n",
       "    <tr>\n",
       "      <th>male</th>\n",
       "      <td>225</td>\n",
       "      <td>225</td>\n",
       "    </tr>\n",
       "  </tbody>\n",
       "</table>\n",
       "</div>"
      ],
      "text/plain": [
       "                  student_id  admitted\n",
       "major     gender                      \n",
       "Chemistry female         226       226\n",
       "          male            18        18\n",
       "Physics   female          31        31\n",
       "          male           225       225"
      ]
     },
     "execution_count": 15,
     "metadata": {},
     "output_type": "execute_result"
    }
   ],
   "source": [
    "# group by major and gender to get counts of students in each cohort\n",
    "\n",
    "df.groupby(['major', 'gender']).count()"
   ]
  },
  {
   "cell_type": "code",
   "execution_count": 16,
   "metadata": {},
   "outputs": [
    {
     "name": "stdout",
     "output_type": "stream",
     "text": [
      "Number of females with Physics major is 31\n",
      "Proportion of female candidates in Physics is 12.06%\n"
     ]
    }
   ],
   "source": [
    "# What proportion of female students are majoring in physics?\n",
    "\n",
    "# First, get count of females in Physics major \n",
    "\n",
    "\n",
    "#now evaluate proportion of female candidates in Phsics\n",
    "\n",
    "\n",
    "fe_phy = len(df[(df['gender'] == 'female') & (df['major'] == 'Physics')])\n",
    "print('Number of females with Physics major is ' + str(fe_phy))\n",
    "\n",
    "ad_rate_fem_can_phy = len(df[(df['gender'] == 'female') & (df['major'] == 'Physics')])/len(df[df['gender'] == 'female'])\n",
    "print('Proportion of female candidates in Physics is ' + str(np.round(ad_rate_fem_can_phy*100,2)) + '%')"
   ]
  },
  {
   "cell_type": "code",
   "execution_count": 17,
   "metadata": {},
   "outputs": [
    {
     "name": "stdout",
     "output_type": "stream",
     "text": [
      "Number of males with Physics major is 225\n",
      "Proportion of male candidates in Physics is 92.59%\n"
     ]
    }
   ],
   "source": [
    "# What proportion of male students are majoring in physics?\n",
    "\n",
    "# first,get count of males in Physics major \n",
    "\n",
    "\n",
    "#now evaluate proportion of male candidates in Physics\n",
    "\n",
    "ma_phy = len(df[(df['gender'] == 'male') & (df['major'] == 'Physics')])\n",
    "print('Number of males with Physics major is ' + str(ma_phy))\n",
    "\n",
    "ad_rate_ma_can_phy = len(df[(df['gender'] == 'male') & (df['major'] == 'Physics')])/len(df[df['gender'] == 'male'])\n",
    "print('Proportion of male candidates in Physics is ' + str(np.round(ad_rate_ma_can_phy*100,2)) + '%')"
   ]
  },
  {
   "cell_type": "code",
   "execution_count": 18,
   "metadata": {},
   "outputs": [
    {
     "name": "stdout",
     "output_type": "stream",
     "text": [
      "Proportion of female candidates admitted in Physics is 74.19%\n"
     ]
    }
   ],
   "source": [
    "# Admission rate for female physics majors\n",
    "# compute count of females in Physics who got admitted\n",
    "\n",
    "\n",
    "#now evaluate proportion of admitted female candidates in Phsics\n",
    "\n",
    "ad_rate_fem_ad_phy = len(df[(df['gender'] == 'female') & (df['admitted'] == True) & (df['major'] == 'Physics')])/len(df[(df['gender'] == 'female') & (df['major']=='Physics') ])\n",
    "print('Proportion of female candidates admitted in Physics is ' + str(np.round(ad_rate_fem_ad_phy*100,2)) + '%')"
   ]
  },
  {
   "cell_type": "code",
   "execution_count": 19,
   "metadata": {},
   "outputs": [
    {
     "name": "stdout",
     "output_type": "stream",
     "text": [
      "Proportion of male candidates admitted in Physics is 51.56%\n"
     ]
    }
   ],
   "source": [
    "# Admission rate for male physics majors\n",
    "# compute count of females in Physics who got admitted\n",
    "\n",
    "\n",
    "#now evaluate proportion of admitted male candidates in Phsics\n",
    "\n",
    "ad_rate_ma_ad_phy = len(df[(df['gender'] == 'male') & (df['admitted'] == True) & (df['major'] == 'Physics')])/len(df[(df['gender'] == 'male') & (df['major']=='Physics') ])\n",
    "print('Proportion of male candidates admitted in Physics is ' + str(np.round(ad_rate_ma_ad_phy*100,2)) + '%')"
   ]
  },
  {
   "cell_type": "markdown",
   "metadata": {},
   "source": [
    "### Proportion and admission rate for chemistry majors of each gender"
   ]
  },
  {
   "cell_type": "code",
   "execution_count": 20,
   "metadata": {},
   "outputs": [
    {
     "name": "stdout",
     "output_type": "stream",
     "text": [
      "Number of females with Chemistry major is 226\n",
      "Proportion of female candidates in Chemistry is 87.94%\n"
     ]
    }
   ],
   "source": [
    "# What proportion of female students are majoring in chemistry?\n",
    "\n",
    "# First, get count of females in Chemistry major \n",
    "\n",
    "\n",
    "#now evaluate proportion of female candidates in Chemistry\n",
    "\n",
    "fe_che = len(df[(df['gender'] == 'female') & (df['major'] == 'Chemistry')])\n",
    "print('Number of females with Chemistry major is ' + str(fe_che))\n",
    "\n",
    "ad_rate_fem_can_che = len(df[(df['gender'] == 'female') & (df['major'] == 'Chemistry')])/len(df[df['gender'] == 'female'])\n",
    "print('Proportion of female candidates in Chemistry is ' + str(np.round(ad_rate_fem_can_che*100,2)) + '%')"
   ]
  },
  {
   "cell_type": "code",
   "execution_count": 21,
   "metadata": {},
   "outputs": [
    {
     "name": "stdout",
     "output_type": "stream",
     "text": [
      "Number of males with Chemistry major is 18\n",
      "Proportion of male candidates in Chemistry is 7.41%\n"
     ]
    }
   ],
   "source": [
    "# What proportion of male students are majoring in chemistry?\n",
    "# First, get count of females in Chemistry major \n",
    "\n",
    "\n",
    "#now evaluate proportion of male candidates in Chemistry\n",
    "\n",
    "ma_che = len(df[(df['gender'] == 'male') & (df['major'] == 'Chemistry')])\n",
    "print('Number of males with Chemistry major is ' + str(ma_che))\n",
    "\n",
    "ad_rate_ma_can_che = len(df[(df['gender'] == 'male') & (df['major'] == 'Chemistry')])/len(df[df['gender'] == 'male'])\n",
    "print('Proportion of male candidates in Chemistry is ' + str(np.round(ad_rate_ma_can_che*100,2)) + '%')"
   ]
  },
  {
   "cell_type": "code",
   "execution_count": 22,
   "metadata": {},
   "outputs": [
    {
     "name": "stdout",
     "output_type": "stream",
     "text": [
      "Proportion of female candidates admitted in Chemistry is 22.57%\n"
     ]
    }
   ],
   "source": [
    "# Admission rate for female chemistry majors\n",
    "\n",
    "# compute count of females in chemistry who got admitted\n",
    "\n",
    "\n",
    "#now evaluate proportion of admitted female candidates in chemistry\n",
    "\n",
    "ad_rate_fem_ad_che = len(df[(df['gender'] == 'female') & (df['admitted'] == True) & (df['major'] == 'Chemistry')])/len(df[(df['gender'] == 'female') & (df['major']=='Chemistry') ])\n",
    "print('Proportion of female candidates admitted in Chemistry is ' + str(np.round(ad_rate_fem_ad_che*100,2)) + '%')"
   ]
  },
  {
   "cell_type": "code",
   "execution_count": 23,
   "metadata": {},
   "outputs": [
    {
     "name": "stdout",
     "output_type": "stream",
     "text": [
      "Proportion of male candidates admitted in Chemistry is 11.11%\n"
     ]
    }
   ],
   "source": [
    "# Admission rate for male chemistry majors\n",
    "# compute count of males in chemistry who got admitted\n",
    "\n",
    "\n",
    "#now evaluate proportion of admitted male candidates in chemistry\n",
    "\n",
    "ad_rate_ma_ad_che = len(df[(df['gender'] == 'male') & (df['admitted'] == True) & (df['major'] == 'Chemistry')])/len(df[(df['gender'] == 'male') & (df['major']=='Chemistry') ])\n",
    "print('Proportion of male candidates admitted in Chemistry is ' + str(np.round(ad_rate_ma_ad_che*100,2)) + '%')"
   ]
  },
  {
   "cell_type": "markdown",
   "metadata": {},
   "source": [
    "### Admission rate for each major"
   ]
  },
  {
   "cell_type": "code",
   "execution_count": 26,
   "metadata": {},
   "outputs": [
    {
     "name": "stdout",
     "output_type": "stream",
     "text": [
      "Proportion of candidates admitted in Physics is 54.3%\n"
     ]
    }
   ],
   "source": [
    "# Admission rate for physics majors\n",
    "# compute count of students in Physics who got admitted\n",
    "\n",
    "\n",
    "#now evaluate proportion of admitted candidates in Phsics\n",
    "\n",
    "ad_rate_ad_phy = len(df[(df['admitted'] == True) & (df['major'] == 'Physics')])/len(df[(df['major']=='Physics')])\n",
    "print('Proportion of candidates admitted in Physics is ' + str(np.round(ad_rate_ad_phy*100,2)) + '%')"
   ]
  },
  {
   "cell_type": "code",
   "execution_count": 28,
   "metadata": {},
   "outputs": [
    {
     "name": "stdout",
     "output_type": "stream",
     "text": [
      "Proportion of candidates admitted in Chemistry is 21.72%\n"
     ]
    }
   ],
   "source": [
    "# Admission rate for chemistry majors\n",
    "# compute count of students in Chemistry who got admitted\n",
    "\n",
    "\n",
    "#now evaluate proportion of admitted candidates in Chemistry\n",
    "\n",
    "ad_rate_ad_che = len(df[(df['admitted'] == True) & (df['major'] == 'Chemistry')])/len(df[(df['major']=='Chemistry')])\n",
    "print('Proportion of candidates admitted in Chemistry is ' + str(np.round(ad_rate_ad_che*100,2)) + '%')"
   ]
  },
  {
   "cell_type": "markdown",
   "metadata": {},
   "source": [
    "#### Testing: Double check vlaues by computing non-admittance values"
   ]
  },
  {
   "cell_type": "code",
   "execution_count": 31,
   "metadata": {},
   "outputs": [
    {
     "name": "stdout",
     "output_type": "stream",
     "text": [
      "Values computed for Physics admitted candidates is Correct\n",
      "Values computed for Chemistry admitted candidates is Correct\n"
     ]
    }
   ],
   "source": [
    "# double check values for physics admittance\n",
    "\n",
    "\n",
    "\n",
    "# double check values for Chemistry admittance\n"
   ]
  },
  {
   "cell_type": "code",
   "execution_count": 36,
   "metadata": {},
   "outputs": [
    {
     "name": "stdout",
     "output_type": "stream",
     "text": [
      "Values computed for Physics admitted candidates is Correct\n",
      "Values computed for Chemistry admitted candidates is Correct\n"
     ]
    }
   ],
   "source": [
    "ad_rate_not_ad_phy = len(df[(df['admitted'] == False) & (df['major'] == 'Physics')])/len(df[(df['major']=='Physics')])\n",
    "# print('Proportion of candidates not admitted in Physics is ' + str(np.round(ad_rate_not_ad_phy*100,2)) + '%')\n",
    "if (ad_rate_not_ad_phy + ad_rate_ad_phy) == 1:\n",
    "    print('Values computed for Physics admitted candidates is Correct')\n",
    "    \n",
    "ad_rate_not_ad_che = len(df[(df['admitted'] == False) & (df['major'] == 'Chemistry')])/len(df[(df['major']=='Chemistry')])\n",
    "if (ad_rate_not_ad_che + ad_rate_ad_che) == 1:\n",
    "    print('Values computed for Chemistry admitted candidates is Correct')"
   ]
  },
  {
   "cell_type": "code",
   "execution_count": 32,
   "metadata": {},
   "outputs": [
    {
     "name": "stdout",
     "output_type": "stream",
     "text": [
      "Values computed for admitted candidates is Correct\n"
     ]
    }
   ],
   "source": [
    "# double check not admitted candidates\n",
    "# candidates not admitted to Physics\n",
    "\n",
    "# candidates not admitted to Chemistry\n",
    "\n",
    "# compare if admitted and non-admitted candidate counts equal total number of students\n"
   ]
  },
  {
   "cell_type": "code",
   "execution_count": null,
   "metadata": {},
   "outputs": [],
   "source": []
  },
  {
   "cell_type": "markdown",
   "metadata": {},
   "source": [
    "Proportion of females is 51.4%\n",
    "Proportion of males is 48.6%\n",
    "\n",
    "Mitad de hombres y de mujeres\n",
    "\n",
    "Female admission rate is 28.79%\n",
    "Male admission rate is 48.56%\n",
    "\n",
    "Admiten al 50% de hombres y al 30% de mujeres, ¿hay discriminación?\n",
    "\n",
    "Proportion of female candidates in Physics is 12.06%\n",
    "Proportion of male candidates in Physics is 92.59%\n",
    "\n",
    "Hay más hombres intentando entrar en Física que mujeres (en proporción)\n",
    "\n",
    "Proportion of female candidates admitted in Physics is 74.19%\n",
    "Proportion of male candidates admitted in Physics is 51.56%\n",
    "\n",
    "Hay más proporción de mujeres admitidas en Física que hombres admitidos (en proporción)\n",
    "\n",
    "Proportion of female candidates in Chemistry is 87.94%\n",
    "Proportion of male candidates in Chemistry is 7.41%\n",
    "\n",
    "Hay más mujeres intentando entrar en Química que hombres (en proporción)\n",
    "\n",
    "Proportion of female candidates admitted in Chemistry is 22.57%\n",
    "Proportion of male candidates admitted in Chemistry is 11.11%\n",
    "\n",
    "Hay más mujeres aceptadas en Química que hombres (en proporción)\n",
    "\n",
    "Proportion of candidates admitted in Physics is 54.3%\n",
    "Proportion of candidates admitted in Chemistry is 21.72%\n",
    "\n",
    "Se admite al 54% de candidatos en Física y al 22% de candidatos en Química.\n",
    "\n",
    "¿Hay discriminación?\n",
    "\n",
    "Los candidatos son la mitad hombres y la mitad mujeres.\n",
    "Admiten al 50% de hombres y al 30% de mujeres. Nota 1\n",
    "Los hombres intentan entrar en Física y las mujeres en Química.\n",
    "Hay más proporción de mujeres aceptadas tanto en Física como en Química. Nota 2\n",
    "¿Hay discriminación?\n",
    "Es más fácil entrar en Física que en Química.\n",
    "\n",
    "Las notas 1 y 2 son un ejemplo de paradoja de Simpsons.\n",
    "\n",
    "This is also the explanation of why the overall acceptance rate for women is lower than the rate for men. It’s not that women were discriminated against by any departments (at least as far as we know!), it’s that women — in comparison to men — seemed to apply more to very competitive departments where it was really hard to get in.\n"
   ]
  }
 ],
 "metadata": {
  "kernelspec": {
   "display_name": "Python 3",
   "language": "python",
   "name": "python3"
  },
  "language_info": {
   "codemirror_mode": {
    "name": "ipython",
    "version": 3
   },
   "file_extension": ".py",
   "mimetype": "text/x-python",
   "name": "python",
   "nbconvert_exporter": "python",
   "pygments_lexer": "ipython3",
   "version": "3.7.4"
  }
 },
 "nbformat": 4,
 "nbformat_minor": 4
}
