{
 "cells": [
  {
   "cell_type": "code",
   "execution_count": 25,
   "metadata": {
    "id": "DWLCKHElhTxx",
    "outputId": "21d70f6f-8791-4639-edf2-5f7e60253fd4"
   },
   "outputs": [
    {
     "output_type": "display_data",
     "data": {
      "text/html": "\n    <div class=\"bk-root\">\n        <a href=\"https://bokeh.pydata.org\" target=\"_blank\" class=\"bk-logo bk-logo-small bk-logo-notebook\"></a>\n        <span id=\"3456\">Loading BokehJS ...</span>\n    </div>"
     },
     "metadata": {}
    },
    {
     "output_type": "display_data",
     "data": {
      "application/javascript": "\n(function(root) {\n  function now() {\n    return new Date();\n  }\n\n  var force = true;\n\n  if (typeof root._bokeh_onload_callbacks === \"undefined\" || force === true) {\n    root._bokeh_onload_callbacks = [];\n    root._bokeh_is_loading = undefined;\n  }\n\n  var JS_MIME_TYPE = 'application/javascript';\n  var HTML_MIME_TYPE = 'text/html';\n  var EXEC_MIME_TYPE = 'application/vnd.bokehjs_exec.v0+json';\n  var CLASS_NAME = 'output_bokeh rendered_html';\n\n  /**\n   * Render data to the DOM node\n   */\n  function render(props, node) {\n    var script = document.createElement(\"script\");\n    node.appendChild(script);\n  }\n\n  /**\n   * Handle when an output is cleared or removed\n   */\n  function handleClearOutput(event, handle) {\n    var cell = handle.cell;\n\n    var id = cell.output_area._bokeh_element_id;\n    var server_id = cell.output_area._bokeh_server_id;\n    // Clean up Bokeh references\n    if (id != null && id in Bokeh.index) {\n      Bokeh.index[id].model.document.clear();\n      delete Bokeh.index[id];\n    }\n\n    if (server_id !== undefined) {\n      // Clean up Bokeh references\n      var cmd = \"from bokeh.io.state import curstate; print(curstate().uuid_to_server['\" + server_id + \"'].get_sessions()[0].document.roots[0]._id)\";\n      cell.notebook.kernel.execute(cmd, {\n        iopub: {\n          output: function(msg) {\n            var id = msg.content.text.trim();\n            if (id in Bokeh.index) {\n              Bokeh.index[id].model.document.clear();\n              delete Bokeh.index[id];\n            }\n          }\n        }\n      });\n      // Destroy server and session\n      var cmd = \"import bokeh.io.notebook as ion; ion.destroy_server('\" + server_id + \"')\";\n      cell.notebook.kernel.execute(cmd);\n    }\n  }\n\n  /**\n   * Handle when a new output is added\n   */\n  function handleAddOutput(event, handle) {\n    var output_area = handle.output_area;\n    var output = handle.output;\n\n    // limit handleAddOutput to display_data with EXEC_MIME_TYPE content only\n    if ((output.output_type != \"display_data\") || (!output.data.hasOwnProperty(EXEC_MIME_TYPE))) {\n      return\n    }\n\n    var toinsert = output_area.element.find(\".\" + CLASS_NAME.split(' ')[0]);\n\n    if (output.metadata[EXEC_MIME_TYPE][\"id\"] !== undefined) {\n      toinsert[toinsert.length - 1].firstChild.textContent = output.data[JS_MIME_TYPE];\n      // store reference to embed id on output_area\n      output_area._bokeh_element_id = output.metadata[EXEC_MIME_TYPE][\"id\"];\n    }\n    if (output.metadata[EXEC_MIME_TYPE][\"server_id\"] !== undefined) {\n      var bk_div = document.createElement(\"div\");\n      bk_div.innerHTML = output.data[HTML_MIME_TYPE];\n      var script_attrs = bk_div.children[0].attributes;\n      for (var i = 0; i < script_attrs.length; i++) {\n        toinsert[toinsert.length - 1].firstChild.setAttribute(script_attrs[i].name, script_attrs[i].value);\n      }\n      // store reference to server id on output_area\n      output_area._bokeh_server_id = output.metadata[EXEC_MIME_TYPE][\"server_id\"];\n    }\n  }\n\n  function register_renderer(events, OutputArea) {\n\n    function append_mime(data, metadata, element) {\n      // create a DOM node to render to\n      var toinsert = this.create_output_subarea(\n        metadata,\n        CLASS_NAME,\n        EXEC_MIME_TYPE\n      );\n      this.keyboard_manager.register_events(toinsert);\n      // Render to node\n      var props = {data: data, metadata: metadata[EXEC_MIME_TYPE]};\n      render(props, toinsert[toinsert.length - 1]);\n      element.append(toinsert);\n      return toinsert\n    }\n\n    /* Handle when an output is cleared or removed */\n    events.on('clear_output.CodeCell', handleClearOutput);\n    events.on('delete.Cell', handleClearOutput);\n\n    /* Handle when a new output is added */\n    events.on('output_added.OutputArea', handleAddOutput);\n\n    /**\n     * Register the mime type and append_mime function with output_area\n     */\n    OutputArea.prototype.register_mime_type(EXEC_MIME_TYPE, append_mime, {\n      /* Is output safe? */\n      safe: true,\n      /* Index of renderer in `output_area.display_order` */\n      index: 0\n    });\n  }\n\n  // register the mime type if in Jupyter Notebook environment and previously unregistered\n  if (root.Jupyter !== undefined) {\n    var events = require('base/js/events');\n    var OutputArea = require('notebook/js/outputarea').OutputArea;\n\n    if (OutputArea.prototype.mime_types().indexOf(EXEC_MIME_TYPE) == -1) {\n      register_renderer(events, OutputArea);\n    }\n  }\n\n  \n  if (typeof (root._bokeh_timeout) === \"undefined\" || force === true) {\n    root._bokeh_timeout = Date.now() + 5000;\n    root._bokeh_failed_load = false;\n  }\n\n  var NB_LOAD_WARNING = {'data': {'text/html':\n     \"<div style='background-color: #fdd'>\\n\"+\n     \"<p>\\n\"+\n     \"BokehJS does not appear to have successfully loaded. If loading BokehJS from CDN, this \\n\"+\n     \"may be due to a slow or bad network connection. Possible fixes:\\n\"+\n     \"</p>\\n\"+\n     \"<ul>\\n\"+\n     \"<li>re-rerun `output_notebook()` to attempt to load from CDN again, or</li>\\n\"+\n     \"<li>use INLINE resources instead, as so:</li>\\n\"+\n     \"</ul>\\n\"+\n     \"<code>\\n\"+\n     \"from bokeh.resources import INLINE\\n\"+\n     \"output_notebook(resources=INLINE)\\n\"+\n     \"</code>\\n\"+\n     \"</div>\"}};\n\n  function display_loaded() {\n    var el = document.getElementById(\"3456\");\n    if (el != null) {\n      el.textContent = \"BokehJS is loading...\";\n    }\n    if (root.Bokeh !== undefined) {\n      if (el != null) {\n        el.textContent = \"BokehJS \" + root.Bokeh.version + \" successfully loaded.\";\n      }\n    } else if (Date.now() < root._bokeh_timeout) {\n      setTimeout(display_loaded, 100)\n    }\n  }\n\n\n  function run_callbacks() {\n    try {\n      root._bokeh_onload_callbacks.forEach(function(callback) {\n        if (callback != null)\n          callback();\n      });\n    } finally {\n      delete root._bokeh_onload_callbacks\n    }\n    console.debug(\"Bokeh: all callbacks have finished\");\n  }\n\n  function load_libs(css_urls, js_urls, callback) {\n    if (css_urls == null) css_urls = [];\n    if (js_urls == null) js_urls = [];\n\n    root._bokeh_onload_callbacks.push(callback);\n    if (root._bokeh_is_loading > 0) {\n      console.debug(\"Bokeh: BokehJS is being loaded, scheduling callback at\", now());\n      return null;\n    }\n    if (js_urls == null || js_urls.length === 0) {\n      run_callbacks();\n      return null;\n    }\n    console.debug(\"Bokeh: BokehJS not loaded, scheduling load and callback at\", now());\n    root._bokeh_is_loading = css_urls.length + js_urls.length;\n\n    function on_load() {\n      root._bokeh_is_loading--;\n      if (root._bokeh_is_loading === 0) {\n        console.debug(\"Bokeh: all BokehJS libraries/stylesheets loaded\");\n        run_callbacks()\n      }\n    }\n\n    function on_error() {\n      console.error(\"failed to load \" + url);\n    }\n\n    for (var i = 0; i < css_urls.length; i++) {\n      var url = css_urls[i];\n      const element = document.createElement(\"link\");\n      element.onload = on_load;\n      element.onerror = on_error;\n      element.rel = \"stylesheet\";\n      element.type = \"text/css\";\n      element.href = url;\n      console.debug(\"Bokeh: injecting link tag for BokehJS stylesheet: \", url);\n      document.body.appendChild(element);\n    }\n\n    for (var i = 0; i < js_urls.length; i++) {\n      var url = js_urls[i];\n      var element = document.createElement('script');\n      element.onload = on_load;\n      element.onerror = on_error;\n      element.async = false;\n      element.src = url;\n      console.debug(\"Bokeh: injecting script tag for BokehJS library: \", url);\n      document.head.appendChild(element);\n    }\n  };var element = document.getElementById(\"3456\");\n  if (element == null) {\n    console.error(\"Bokeh: ERROR: autoload.js configured with elementid '3456' but no matching script tag was found. \")\n    return false;\n  }\n\n  function inject_raw_css(css) {\n    const element = document.createElement(\"style\");\n    element.appendChild(document.createTextNode(css));\n    document.body.appendChild(element);\n  }\n\n  var js_urls = [\"https://cdn.pydata.org/bokeh/release/bokeh-1.3.4.min.js\", \"https://cdn.pydata.org/bokeh/release/bokeh-widgets-1.3.4.min.js\", \"https://cdn.pydata.org/bokeh/release/bokeh-tables-1.3.4.min.js\", \"https://cdn.pydata.org/bokeh/release/bokeh-gl-1.3.4.min.js\"];\n  var css_urls = [];\n\n  var inline_js = [\n    function(Bokeh) {\n      Bokeh.set_log_level(\"info\");\n    },\n    \n    function(Bokeh) {\n      \n    },\n    function(Bokeh) {} // ensure no trailing comma for IE\n  ];\n\n  function run_inline_js() {\n    \n    if ((root.Bokeh !== undefined) || (force === true)) {\n      for (var i = 0; i < inline_js.length; i++) {\n        inline_js[i].call(root, root.Bokeh);\n      }if (force === true) {\n        display_loaded();\n      }} else if (Date.now() < root._bokeh_timeout) {\n      setTimeout(run_inline_js, 100);\n    } else if (!root._bokeh_failed_load) {\n      console.log(\"Bokeh: BokehJS failed to load within specified timeout.\");\n      root._bokeh_failed_load = true;\n    } else if (force !== true) {\n      var cell = $(document.getElementById(\"3456\")).parents('.cell').data().cell;\n      cell.output_area.append_execute_result(NB_LOAD_WARNING)\n    }\n\n  }\n\n  if (root._bokeh_is_loading === 0) {\n    console.debug(\"Bokeh: BokehJS loaded, going straight to plotting\");\n    run_inline_js();\n  } else {\n    load_libs(css_urls, js_urls, function() {\n      console.debug(\"Bokeh: BokehJS plotting callback run at\", now());\n      run_inline_js();\n    });\n  }\n}(window));",
      "application/vnd.bokehjs_load.v0+json": "\n(function(root) {\n  function now() {\n    return new Date();\n  }\n\n  var force = true;\n\n  if (typeof root._bokeh_onload_callbacks === \"undefined\" || force === true) {\n    root._bokeh_onload_callbacks = [];\n    root._bokeh_is_loading = undefined;\n  }\n\n  \n\n  \n  if (typeof (root._bokeh_timeout) === \"undefined\" || force === true) {\n    root._bokeh_timeout = Date.now() + 5000;\n    root._bokeh_failed_load = false;\n  }\n\n  var NB_LOAD_WARNING = {'data': {'text/html':\n     \"<div style='background-color: #fdd'>\\n\"+\n     \"<p>\\n\"+\n     \"BokehJS does not appear to have successfully loaded. If loading BokehJS from CDN, this \\n\"+\n     \"may be due to a slow or bad network connection. Possible fixes:\\n\"+\n     \"</p>\\n\"+\n     \"<ul>\\n\"+\n     \"<li>re-rerun `output_notebook()` to attempt to load from CDN again, or</li>\\n\"+\n     \"<li>use INLINE resources instead, as so:</li>\\n\"+\n     \"</ul>\\n\"+\n     \"<code>\\n\"+\n     \"from bokeh.resources import INLINE\\n\"+\n     \"output_notebook(resources=INLINE)\\n\"+\n     \"</code>\\n\"+\n     \"</div>\"}};\n\n  function display_loaded() {\n    var el = document.getElementById(\"3456\");\n    if (el != null) {\n      el.textContent = \"BokehJS is loading...\";\n    }\n    if (root.Bokeh !== undefined) {\n      if (el != null) {\n        el.textContent = \"BokehJS \" + root.Bokeh.version + \" successfully loaded.\";\n      }\n    } else if (Date.now() < root._bokeh_timeout) {\n      setTimeout(display_loaded, 100)\n    }\n  }\n\n\n  function run_callbacks() {\n    try {\n      root._bokeh_onload_callbacks.forEach(function(callback) {\n        if (callback != null)\n          callback();\n      });\n    } finally {\n      delete root._bokeh_onload_callbacks\n    }\n    console.debug(\"Bokeh: all callbacks have finished\");\n  }\n\n  function load_libs(css_urls, js_urls, callback) {\n    if (css_urls == null) css_urls = [];\n    if (js_urls == null) js_urls = [];\n\n    root._bokeh_onload_callbacks.push(callback);\n    if (root._bokeh_is_loading > 0) {\n      console.debug(\"Bokeh: BokehJS is being loaded, scheduling callback at\", now());\n      return null;\n    }\n    if (js_urls == null || js_urls.length === 0) {\n      run_callbacks();\n      return null;\n    }\n    console.debug(\"Bokeh: BokehJS not loaded, scheduling load and callback at\", now());\n    root._bokeh_is_loading = css_urls.length + js_urls.length;\n\n    function on_load() {\n      root._bokeh_is_loading--;\n      if (root._bokeh_is_loading === 0) {\n        console.debug(\"Bokeh: all BokehJS libraries/stylesheets loaded\");\n        run_callbacks()\n      }\n    }\n\n    function on_error() {\n      console.error(\"failed to load \" + url);\n    }\n\n    for (var i = 0; i < css_urls.length; i++) {\n      var url = css_urls[i];\n      const element = document.createElement(\"link\");\n      element.onload = on_load;\n      element.onerror = on_error;\n      element.rel = \"stylesheet\";\n      element.type = \"text/css\";\n      element.href = url;\n      console.debug(\"Bokeh: injecting link tag for BokehJS stylesheet: \", url);\n      document.body.appendChild(element);\n    }\n\n    for (var i = 0; i < js_urls.length; i++) {\n      var url = js_urls[i];\n      var element = document.createElement('script');\n      element.onload = on_load;\n      element.onerror = on_error;\n      element.async = false;\n      element.src = url;\n      console.debug(\"Bokeh: injecting script tag for BokehJS library: \", url);\n      document.head.appendChild(element);\n    }\n  };var element = document.getElementById(\"3456\");\n  if (element == null) {\n    console.error(\"Bokeh: ERROR: autoload.js configured with elementid '3456' but no matching script tag was found. \")\n    return false;\n  }\n\n  function inject_raw_css(css) {\n    const element = document.createElement(\"style\");\n    element.appendChild(document.createTextNode(css));\n    document.body.appendChild(element);\n  }\n\n  var js_urls = [\"https://cdn.pydata.org/bokeh/release/bokeh-1.3.4.min.js\", \"https://cdn.pydata.org/bokeh/release/bokeh-widgets-1.3.4.min.js\", \"https://cdn.pydata.org/bokeh/release/bokeh-tables-1.3.4.min.js\", \"https://cdn.pydata.org/bokeh/release/bokeh-gl-1.3.4.min.js\"];\n  var css_urls = [];\n\n  var inline_js = [\n    function(Bokeh) {\n      Bokeh.set_log_level(\"info\");\n    },\n    \n    function(Bokeh) {\n      \n    },\n    function(Bokeh) {} // ensure no trailing comma for IE\n  ];\n\n  function run_inline_js() {\n    \n    if ((root.Bokeh !== undefined) || (force === true)) {\n      for (var i = 0; i < inline_js.length; i++) {\n        inline_js[i].call(root, root.Bokeh);\n      }if (force === true) {\n        display_loaded();\n      }} else if (Date.now() < root._bokeh_timeout) {\n      setTimeout(run_inline_js, 100);\n    } else if (!root._bokeh_failed_load) {\n      console.log(\"Bokeh: BokehJS failed to load within specified timeout.\");\n      root._bokeh_failed_load = true;\n    } else if (force !== true) {\n      var cell = $(document.getElementById(\"3456\")).parents('.cell').data().cell;\n      cell.output_area.append_execute_result(NB_LOAD_WARNING)\n    }\n\n  }\n\n  if (root._bokeh_is_loading === 0) {\n    console.debug(\"Bokeh: BokehJS loaded, going straight to plotting\");\n    run_inline_js();\n  } else {\n    load_libs(css_urls, js_urls, function() {\n      console.debug(\"Bokeh: BokehJS plotting callback run at\", now());\n      run_inline_js();\n    });\n  }\n}(window));"
     },
     "metadata": {}
    },
    {
     "output_type": "display_data",
     "data": {
      "text/html": "\n\n\n\n\n\n  <div class=\"bk-root\" id=\"5bae415d-b91c-48ef-879e-d6c01b71fcf3\" data-root-id=\"3457\"></div>\n"
     },
     "metadata": {}
    },
    {
     "output_type": "display_data",
     "data": {
      "application/javascript": "(function(root) {\n  function embed_document(root) {\n    \n  var docs_json = {\"fcb10922-22a5-4c9e-8109-01a4d202c68e\":{\"roots\":{\"references\":[{\"attributes\":{\"below\":[{\"id\":\"3466\",\"type\":\"LinearAxis\"}],\"center\":[{\"id\":\"3470\",\"type\":\"Grid\"},{\"id\":\"3475\",\"type\":\"Grid\"}],\"left\":[{\"id\":\"3471\",\"type\":\"LinearAxis\"}],\"renderers\":[{\"id\":\"3492\",\"type\":\"GlyphRenderer\"}],\"title\":{\"id\":\"3594\",\"type\":\"Title\"},\"toolbar\":{\"id\":\"3482\",\"type\":\"Toolbar\"},\"x_range\":{\"id\":\"3458\",\"type\":\"DataRange1d\"},\"x_scale\":{\"id\":\"3462\",\"type\":\"LinearScale\"},\"y_range\":{\"id\":\"3460\",\"type\":\"DataRange1d\"},\"y_scale\":{\"id\":\"3464\",\"type\":\"LinearScale\"}},\"id\":\"3457\",\"subtype\":\"Figure\",\"type\":\"Plot\"},{\"attributes\":{\"data_source\":{\"id\":\"3489\",\"type\":\"ColumnDataSource\"},\"glyph\":{\"id\":\"3490\",\"type\":\"Triangle\"},\"hover_glyph\":null,\"muted_glyph\":null,\"nonselection_glyph\":{\"id\":\"3491\",\"type\":\"Triangle\"},\"selection_glyph\":null,\"view\":{\"id\":\"3493\",\"type\":\"CDSView\"}},\"id\":\"3492\",\"type\":\"GlyphRenderer\"},{\"attributes\":{},\"id\":\"3467\",\"type\":\"BasicTicker\"},{\"attributes\":{},\"id\":\"3597\",\"type\":\"BasicTickFormatter\"},{\"attributes\":{\"callback\":null},\"id\":\"3458\",\"type\":\"DataRange1d\"},{\"attributes\":{},\"id\":\"3481\",\"type\":\"HelpTool\"},{\"attributes\":{\"formatter\":{\"id\":\"3597\",\"type\":\"BasicTickFormatter\"},\"ticker\":{\"id\":\"3472\",\"type\":\"BasicTicker\"}},\"id\":\"3471\",\"type\":\"LinearAxis\"},{\"attributes\":{},\"id\":\"3476\",\"type\":\"PanTool\"},{\"attributes\":{\"dimension\":1,\"ticker\":{\"id\":\"3472\",\"type\":\"BasicTicker\"}},\"id\":\"3475\",\"type\":\"Grid\"},{\"attributes\":{},\"id\":\"3595\",\"type\":\"BasicTickFormatter\"},{\"attributes\":{\"active_drag\":\"auto\",\"active_inspect\":\"auto\",\"active_multi\":null,\"active_scroll\":\"auto\",\"active_tap\":\"auto\",\"tools\":[{\"id\":\"3476\",\"type\":\"PanTool\"},{\"id\":\"3477\",\"type\":\"WheelZoomTool\"},{\"id\":\"3478\",\"type\":\"BoxZoomTool\"},{\"id\":\"3479\",\"type\":\"SaveTool\"},{\"id\":\"3480\",\"type\":\"ResetTool\"},{\"id\":\"3481\",\"type\":\"HelpTool\"}]},\"id\":\"3482\",\"type\":\"Toolbar\"},{\"attributes\":{},\"id\":\"3462\",\"type\":\"LinearScale\"},{\"attributes\":{\"callback\":null,\"data\":{\"x\":[1,2,3],\"y\":[6,7,8]},\"selected\":{\"id\":\"3601\",\"type\":\"Selection\"},\"selection_policy\":{\"id\":\"3600\",\"type\":\"UnionRenderers\"}},\"id\":\"3489\",\"type\":\"ColumnDataSource\"},{\"attributes\":{\"source\":{\"id\":\"3489\",\"type\":\"ColumnDataSource\"}},\"id\":\"3493\",\"type\":\"CDSView\"},{\"attributes\":{\"fill_alpha\":{\"value\":0.1},\"fill_color\":{\"value\":\"#1f77b4\"},\"line_alpha\":{\"value\":0.1},\"line_color\":{\"value\":\"#1f77b4\"},\"x\":{\"field\":\"x\"},\"y\":{\"field\":\"y\"}},\"id\":\"3491\",\"type\":\"Triangle\"},{\"attributes\":{\"formatter\":{\"id\":\"3595\",\"type\":\"BasicTickFormatter\"},\"ticker\":{\"id\":\"3467\",\"type\":\"BasicTicker\"}},\"id\":\"3466\",\"type\":\"LinearAxis\"},{\"attributes\":{\"fill_color\":{\"value\":\"#1f77b4\"},\"line_color\":{\"value\":\"#1f77b4\"},\"x\":{\"field\":\"x\"},\"y\":{\"field\":\"y\"}},\"id\":\"3490\",\"type\":\"Triangle\"},{\"attributes\":{},\"id\":\"3477\",\"type\":\"WheelZoomTool\"},{\"attributes\":{},\"id\":\"3472\",\"type\":\"BasicTicker\"},{\"attributes\":{},\"id\":\"3600\",\"type\":\"UnionRenderers\"},{\"attributes\":{\"callback\":null},\"id\":\"3460\",\"type\":\"DataRange1d\"},{\"attributes\":{\"overlay\":{\"id\":\"3599\",\"type\":\"BoxAnnotation\"}},\"id\":\"3478\",\"type\":\"BoxZoomTool\"},{\"attributes\":{},\"id\":\"3464\",\"type\":\"LinearScale\"},{\"attributes\":{\"ticker\":{\"id\":\"3467\",\"type\":\"BasicTicker\"}},\"id\":\"3470\",\"type\":\"Grid\"},{\"attributes\":{\"bottom_units\":\"screen\",\"fill_alpha\":{\"value\":0.5},\"fill_color\":{\"value\":\"lightgrey\"},\"left_units\":\"screen\",\"level\":\"overlay\",\"line_alpha\":{\"value\":1.0},\"line_color\":{\"value\":\"black\"},\"line_dash\":[4,4],\"line_width\":{\"value\":2},\"render_mode\":\"css\",\"right_units\":\"screen\",\"top_units\":\"screen\"},\"id\":\"3599\",\"type\":\"BoxAnnotation\"},{\"attributes\":{},\"id\":\"3479\",\"type\":\"SaveTool\"},{\"attributes\":{},\"id\":\"3601\",\"type\":\"Selection\"},{\"attributes\":{},\"id\":\"3480\",\"type\":\"ResetTool\"},{\"attributes\":{\"text\":\"\"},\"id\":\"3594\",\"type\":\"Title\"}],\"root_ids\":[\"3457\"]},\"title\":\"Bokeh Application\",\"version\":\"1.3.4\"}};\n  var render_items = [{\"docid\":\"fcb10922-22a5-4c9e-8109-01a4d202c68e\",\"roots\":{\"3457\":\"5bae415d-b91c-48ef-879e-d6c01b71fcf3\"}}];\n  root.Bokeh.embed.embed_items_notebook(docs_json, render_items);\n\n  }\n  if (root.Bokeh !== undefined) {\n    embed_document(root);\n  } else {\n    var attempts = 0;\n    var timer = setInterval(function(root) {\n      if (root.Bokeh !== undefined) {\n        embed_document(root);\n        clearInterval(timer);\n      }\n      attempts++;\n      if (attempts > 100) {\n        console.log(\"Bokeh: ERROR: Unable to run BokehJS code because BokehJS library is missing\");\n        clearInterval(timer);\n      }\n    }, 10, root)\n  }\n})(window);",
      "application/vnd.bokehjs_exec.v0+json": ""
     },
     "metadata": {
      "application/vnd.bokehjs_exec.v0+json": {
       "id": "3457"
      }
     }
    }
   ],
   "source": [
    "\n",
    "# making a basic bokeh grapg\n",
    "\n",
    "# importing bokeh\n",
    "\n",
    "from bokeh.plotting import figure\n",
    "#from bokeh.io import output_file, show\n",
    "\n",
    "from bokeh.io import show, output_notebook\n",
    "\n",
    "output_notebook()\n",
    "# prepare some data\n",
    "\n",
    "x=[1,2,3]\n",
    "y = [6,7,8]\n",
    "\n",
    "# prepare the output file\n",
    "\n",
    "#output_file(\"line.html\")\n",
    "\n",
    "# create the figure, and create a line\n",
    "\n",
    "f = figure()\n",
    "f.triangle(x,y)\n",
    "\n",
    "# showing the figure\n",
    "\n",
    "show(f)\n",
    "#en vez de 'show()' utilizamo 'save()' "
   ]
  },
  {
   "cell_type": "code",
   "execution_count": 26,
   "metadata": {
    "id": "k_oqX0DnhTx1"
   },
   "outputs": [
    {
     "output_type": "execute_result",
     "data": {
      "text/plain": [
       "['__cached_all__overridden_defaults__',\n",
       " '__cached_all__properties__',\n",
       " '__cached_all__properties_with_refs__',\n",
       " '__class__',\n",
       " '__container_props__',\n",
       " '__dataspecs__',\n",
       " '__delattr__',\n",
       " '__dict__',\n",
       " '__dir__',\n",
       " '__doc__',\n",
       " '__eq__',\n",
       " '__format__',\n",
       " '__ge__',\n",
       " '__getattribute__',\n",
       " '__gt__',\n",
       " '__hash__',\n",
       " '__init__',\n",
       " '__init_subclass__',\n",
       " '__le__',\n",
       " '__lt__',\n",
       " '__module__',\n",
       " '__ne__',\n",
       " '__new__',\n",
       " '__overridden_defaults__',\n",
       " '__properties__',\n",
       " '__properties_with_refs__',\n",
       " '__reduce__',\n",
       " '__reduce_ex__',\n",
       " '__repr__',\n",
       " '__setattr__',\n",
       " '__sizeof__',\n",
       " '__str__',\n",
       " '__subclasshook__',\n",
       " '__subtype__',\n",
       " '__view_model__',\n",
       " '__weakref__',\n",
       " '_attach_document',\n",
       " '_axis',\n",
       " '_callbacks',\n",
       " '_check_bad_extra_range_name',\n",
       " '_check_compatible_scale_and_ranges',\n",
       " '_check_fixed_height_policy',\n",
       " '_check_fixed_sizing_mode',\n",
       " '_check_fixed_width_policy',\n",
       " '_check_missing_renderers',\n",
       " '_check_required_range',\n",
       " '_check_required_scale',\n",
       " '_clear_extensions',\n",
       " '_clone',\n",
       " '_detach_document',\n",
       " '_document',\n",
       " '_event_callbacks',\n",
       " '_grid',\n",
       " '_id',\n",
       " '_line_stack',\n",
       " '_min_preferred_max_height',\n",
       " '_min_preferred_max_width',\n",
       " '_overridden_defaults',\n",
       " '_property_values',\n",
       " '_repr_html_',\n",
       " '_scale',\n",
       " '_scatter',\n",
       " '_temp_document',\n",
       " '_to_json_like',\n",
       " '_trigger_event',\n",
       " '_unstable_default_values',\n",
       " '_unstable_themed_values',\n",
       " '_update_event_callbacks',\n",
       " 'above',\n",
       " 'add_glyph',\n",
       " 'add_layout',\n",
       " 'add_tile',\n",
       " 'add_tools',\n",
       " 'align',\n",
       " 'annular_wedge',\n",
       " 'annulus',\n",
       " 'apply_theme',\n",
       " 'arc',\n",
       " 'aspect_ratio',\n",
       " 'aspect_scale',\n",
       " 'asterisk',\n",
       " 'axis',\n",
       " 'background',\n",
       " 'background_fill_alpha',\n",
       " 'background_fill_color',\n",
       " 'below',\n",
       " 'bezier',\n",
       " 'border_fill_alpha',\n",
       " 'border_fill_color',\n",
       " 'center',\n",
       " 'circle',\n",
       " 'circle_cross',\n",
       " 'circle_x',\n",
       " 'column',\n",
       " 'cross',\n",
       " 'css_classes',\n",
       " 'dash',\n",
       " 'dataspecs',\n",
       " 'dataspecs_with_props',\n",
       " 'diamond',\n",
       " 'diamond_cross',\n",
       " 'disabled',\n",
       " 'document',\n",
       " 'ellipse',\n",
       " 'equals',\n",
       " 'extra_x_ranges',\n",
       " 'extra_y_ranges',\n",
       " 'frame_height',\n",
       " 'frame_width',\n",
       " 'graph',\n",
       " 'grid',\n",
       " 'h_symmetry',\n",
       " 'harea',\n",
       " 'harea_stack',\n",
       " 'hbar',\n",
       " 'hbar_stack',\n",
       " 'height',\n",
       " 'height_policy',\n",
       " 'hex',\n",
       " 'hex_tile',\n",
       " 'hexbin',\n",
       " 'hidpi',\n",
       " 'hline_stack',\n",
       " 'hover',\n",
       " 'id',\n",
       " 'image',\n",
       " 'image_rgba',\n",
       " 'image_url',\n",
       " 'inner_height',\n",
       " 'inner_width',\n",
       " 'inverted_triangle',\n",
       " 'js_event_callbacks',\n",
       " 'js_link',\n",
       " 'js_on_change',\n",
       " 'js_on_event',\n",
       " 'js_property_callbacks',\n",
       " 'layout',\n",
       " 'left',\n",
       " 'legend',\n",
       " 'line',\n",
       " 'lod_factor',\n",
       " 'lod_interval',\n",
       " 'lod_threshold',\n",
       " 'lod_timeout',\n",
       " 'lookup',\n",
       " 'margin',\n",
       " 'match_aspect',\n",
       " 'max_height',\n",
       " 'max_width',\n",
       " 'min_border',\n",
       " 'min_border_bottom',\n",
       " 'min_border_left',\n",
       " 'min_border_right',\n",
       " 'min_border_top',\n",
       " 'min_height',\n",
       " 'min_width',\n",
       " 'multi_line',\n",
       " 'multi_polygons',\n",
       " 'name',\n",
       " 'on_change',\n",
       " 'on_event',\n",
       " 'outer_height',\n",
       " 'outer_width',\n",
       " 'outline_line_alpha',\n",
       " 'outline_line_cap',\n",
       " 'outline_line_color',\n",
       " 'outline_line_dash',\n",
       " 'outline_line_dash_offset',\n",
       " 'outline_line_join',\n",
       " 'outline_line_width',\n",
       " 'output_backend',\n",
       " 'oval',\n",
       " 'patch',\n",
       " 'patches',\n",
       " 'plot_height',\n",
       " 'plot_width',\n",
       " 'properties',\n",
       " 'properties_containers',\n",
       " 'properties_with_refs',\n",
       " 'properties_with_values',\n",
       " 'quad',\n",
       " 'quadratic',\n",
       " 'query_properties_with_values',\n",
       " 'ray',\n",
       " 'rect',\n",
       " 'ref',\n",
       " 'references',\n",
       " 'remove_on_change',\n",
       " 'renderers',\n",
       " 'reset_policy',\n",
       " 'right',\n",
       " 'row',\n",
       " 'scatter',\n",
       " 'segment',\n",
       " 'select',\n",
       " 'select_one',\n",
       " 'set_from_json',\n",
       " 'set_select',\n",
       " 'sizing_mode',\n",
       " 'square',\n",
       " 'square_cross',\n",
       " 'square_x',\n",
       " 'step',\n",
       " 'subscribed_events',\n",
       " 'tags',\n",
       " 'text',\n",
       " 'themed_values',\n",
       " 'title',\n",
       " 'title_location',\n",
       " 'to_json',\n",
       " 'to_json_string',\n",
       " 'toolbar',\n",
       " 'toolbar_location',\n",
       " 'toolbar_sticky',\n",
       " 'tools',\n",
       " 'triangle',\n",
       " 'trigger',\n",
       " 'unapply_theme',\n",
       " 'update',\n",
       " 'update_from_json',\n",
       " 'v_symmetry',\n",
       " 'varea',\n",
       " 'varea_stack',\n",
       " 'vbar',\n",
       " 'vbar_stack',\n",
       " 'visible',\n",
       " 'vline_stack',\n",
       " 'wedge',\n",
       " 'width',\n",
       " 'width_policy',\n",
       " 'x',\n",
       " 'x_range',\n",
       " 'x_scale',\n",
       " 'xaxis',\n",
       " 'xgrid',\n",
       " 'y_range',\n",
       " 'y_scale',\n",
       " 'yaxis',\n",
       " 'ygrid']"
      ]
     },
     "metadata": {},
     "execution_count": 26
    }
   ],
   "source": [
    "# para saber todos metodos de figure\n",
    "dir(f)\n"
   ]
  },
  {
   "cell_type": "code",
   "execution_count": 27,
   "metadata": {},
   "outputs": [
    {
     "output_type": "stream",
     "name": "stdout",
     "text": [
      "Help on function figure in module bokeh.plotting.figure:\n\nfigure(**kwargs)\n    Create a new Figure for plotting.\n    \n    A subclass of :class:`~bokeh.models.plots.Plot` that simplifies plot\n    creation with default axes, grids, tools, etc.\n    \n    Figure objects have many glyph methods that can be used to draw\n    vectorized graphical glyphs:\n    \n    .. hlist::\n        :columns: 3\n    \n        * :func:`~bokeh.plotting.figure.Figure.annular_wedge`\n        * :func:`~bokeh.plotting.figure.Figure.annulus`\n        * :func:`~bokeh.plotting.figure.Figure.arc`\n        * :func:`~bokeh.plotting.figure.Figure.asterisk`\n        * :func:`~bokeh.plotting.figure.Figure.bezier`\n        * :func:`~bokeh.plotting.figure.Figure.circle`\n        * :func:`~bokeh.plotting.figure.Figure.circle_cross`\n        * :func:`~bokeh.plotting.figure.Figure.circle_x`\n        * :func:`~bokeh.plotting.figure.Figure.cross`\n        * :func:`~bokeh.plotting.figure.Figure.dash`\n        * :func:`~bokeh.plotting.figure.Figure.diamond`\n        * :func:`~bokeh.plotting.figure.Figure.diamond_cross`\n        * :func:`~bokeh.plotting.figure.Figure.ellipse`\n        * :func:`~bokeh.plotting.figure.Figure.harea`\n        * :func:`~bokeh.plotting.figure.Figure.hbar`\n        * :func:`~bokeh.plotting.figure.Figure.hex`\n        * :func:`~bokeh.plotting.figure.Figure.hex_tile`\n        * :func:`~bokeh.plotting.figure.Figure.image`\n        * :func:`~bokeh.plotting.figure.Figure.image_rgba`\n        * :func:`~bokeh.plotting.figure.Figure.image_url`\n        * :func:`~bokeh.plotting.figure.Figure.inverted_triangle`\n        * :func:`~bokeh.plotting.figure.Figure.line`\n        * :func:`~bokeh.plotting.figure.Figure.multi_line`\n        * :func:`~bokeh.plotting.figure.Figure.multi_polygons`\n        * :func:`~bokeh.plotting.figure.Figure.oval`\n        * :func:`~bokeh.plotting.figure.Figure.patch`\n        * :func:`~bokeh.plotting.figure.Figure.patches`\n        * :func:`~bokeh.plotting.figure.Figure.quad`\n        * :func:`~bokeh.plotting.figure.Figure.quadratic`\n        * :func:`~bokeh.plotting.figure.Figure.ray`\n        * :func:`~bokeh.plotting.figure.Figure.rect`\n        * :func:`~bokeh.plotting.figure.Figure.segment`\n        * :func:`~bokeh.plotting.figure.Figure.square`\n        * :func:`~bokeh.plotting.figure.Figure.square_cross`\n        * :func:`~bokeh.plotting.figure.Figure.square_x`\n        * :func:`~bokeh.plotting.figure.Figure.step`\n        * :func:`~bokeh.plotting.figure.Figure.text`\n        * :func:`~bokeh.plotting.figure.Figure.triangle`\n        * :func:`~bokeh.plotting.figure.Figure.varea`\n        * :func:`~bokeh.plotting.figure.Figure.vbar`\n        * :func:`~bokeh.plotting.figure.Figure.wedge`\n        * :func:`~bokeh.plotting.figure.Figure.x`\n    \n    There is a scatter function that can be parameterized by marker type:\n    \n    * :func:`~bokeh.plotting.figure.Figure.scatter`\n    \n    There are also specialized methods for stacking bars:\n    \n    * bars: :func:`~bokeh.plotting.figure.Figure.hbar_stack`, :func:`~bokeh.plotting.figure.Figure.vbar_stack`\n    * lines: :func:`~bokeh.plotting.figure.Figure.hline_stack`, :func:`~bokeh.plotting.figure.Figure.vline_stack`\n    * areas: :func:`~bokeh.plotting.figure.Figure.harea_stack`, :func:`~bokeh.plotting.figure.Figure.varea_stack`\n    \n    As well as one specialized method for making simple hexbin plots:\n    \n    * :func:`~bokeh.plotting.figure.Figure.hexbin`\n    \n    In addition to all the ``Figure`` property attributes, the following\n    options are also accepted:\n    \n    .. bokeh-options:: FigureOptions\n        :module: bokeh.plotting.figure\n\n"
     ]
    }
   ],
   "source": [
    "help(figure)\n"
   ]
  },
  {
   "cell_type": "code",
   "execution_count": 28,
   "metadata": {
    "id": "dnNBzOCohTx4"
   },
   "outputs": [
    {
     "output_type": "display_data",
     "data": {
      "text/html": "\n\n\n\n\n\n  <div class=\"bk-root\" id=\"c6023389-61f5-48d2-ac73-22ff0336a509\" data-root-id=\"3747\"></div>\n"
     },
     "metadata": {}
    },
    {
     "output_type": "display_data",
     "data": {
      "application/javascript": "(function(root) {\n  function embed_document(root) {\n    \n  var docs_json = {\"abdd419c-ebe7-45b1-8f9d-ce938399eb35\":{\"roots\":{\"references\":[{\"attributes\":{\"below\":[{\"id\":\"3756\",\"type\":\"LinearAxis\"}],\"center\":[{\"id\":\"3760\",\"type\":\"Grid\"},{\"id\":\"3765\",\"type\":\"Grid\"}],\"left\":[{\"id\":\"3761\",\"type\":\"LinearAxis\"}],\"renderers\":[{\"id\":\"3782\",\"type\":\"GlyphRenderer\"}],\"title\":{\"id\":\"3893\",\"type\":\"Title\"},\"toolbar\":{\"id\":\"3772\",\"type\":\"Toolbar\"},\"x_range\":{\"id\":\"3748\",\"type\":\"DataRange1d\"},\"x_scale\":{\"id\":\"3752\",\"type\":\"LinearScale\"},\"y_range\":{\"id\":\"3750\",\"type\":\"DataRange1d\"},\"y_scale\":{\"id\":\"3754\",\"type\":\"LinearScale\"}},\"id\":\"3747\",\"subtype\":\"Figure\",\"type\":\"Plot\"},{\"attributes\":{},\"id\":\"3900\",\"type\":\"Selection\"},{\"attributes\":{},\"id\":\"3896\",\"type\":\"BasicTickFormatter\"},{\"attributes\":{\"overlay\":{\"id\":\"3898\",\"type\":\"BoxAnnotation\"}},\"id\":\"3768\",\"type\":\"BoxZoomTool\"},{\"attributes\":{},\"id\":\"3762\",\"type\":\"BasicTicker\"},{\"attributes\":{\"source\":{\"id\":\"3779\",\"type\":\"ColumnDataSource\"}},\"id\":\"3783\",\"type\":\"CDSView\"},{\"attributes\":{},\"id\":\"3752\",\"type\":\"LinearScale\"},{\"attributes\":{\"bottom_units\":\"screen\",\"fill_alpha\":{\"value\":0.5},\"fill_color\":{\"value\":\"lightgrey\"},\"left_units\":\"screen\",\"level\":\"overlay\",\"line_alpha\":{\"value\":1.0},\"line_color\":{\"value\":\"black\"},\"line_dash\":[4,4],\"line_width\":{\"value\":2},\"render_mode\":\"css\",\"right_units\":\"screen\",\"top_units\":\"screen\"},\"id\":\"3898\",\"type\":\"BoxAnnotation\"},{\"attributes\":{},\"id\":\"3766\",\"type\":\"PanTool\"},{\"attributes\":{\"callback\":null},\"id\":\"3748\",\"type\":\"DataRange1d\"},{\"attributes\":{\"line_color\":\"#1f77b4\",\"x\":{\"field\":\"x\"},\"y\":{\"field\":\"y\"}},\"id\":\"3780\",\"type\":\"Line\"},{\"attributes\":{},\"id\":\"3754\",\"type\":\"LinearScale\"},{\"attributes\":{\"line_alpha\":0.1,\"line_color\":\"#1f77b4\",\"x\":{\"field\":\"x\"},\"y\":{\"field\":\"y\"}},\"id\":\"3781\",\"type\":\"Line\"},{\"attributes\":{\"active_drag\":\"auto\",\"active_inspect\":\"auto\",\"active_multi\":null,\"active_scroll\":\"auto\",\"active_tap\":\"auto\",\"tools\":[{\"id\":\"3766\",\"type\":\"PanTool\"},{\"id\":\"3767\",\"type\":\"WheelZoomTool\"},{\"id\":\"3768\",\"type\":\"BoxZoomTool\"},{\"id\":\"3769\",\"type\":\"SaveTool\"},{\"id\":\"3770\",\"type\":\"ResetTool\"},{\"id\":\"3771\",\"type\":\"HelpTool\"}]},\"id\":\"3772\",\"type\":\"Toolbar\"},{\"attributes\":{\"formatter\":{\"id\":\"3894\",\"type\":\"BasicTickFormatter\"},\"ticker\":{\"id\":\"3757\",\"type\":\"BasicTicker\"}},\"id\":\"3756\",\"type\":\"LinearAxis\"},{\"attributes\":{\"text\":\"\"},\"id\":\"3893\",\"type\":\"Title\"},{\"attributes\":{},\"id\":\"3771\",\"type\":\"HelpTool\"},{\"attributes\":{\"ticker\":{\"id\":\"3757\",\"type\":\"BasicTicker\"}},\"id\":\"3760\",\"type\":\"Grid\"},{\"attributes\":{\"callback\":null,\"data\":{\"x\":[1970,1971,1972,1973,1974,1975,1976,1977,1978,1979,1980,1981,1982,1983,1984,1985,1986,1987,1988,1989,1990,1991,1992,1993,1994,1995,1996,1997,1998,1999,2000,2001,2002,2003,2004,2005,2006,2007,2008,2009,2010,2011],\"y\":{\"__ndarray__\":\"mpmZmZmZ6T8AAAAAAADwPzMzMzMzM/M/mpmZmZmZ+T+amZmZmZkBQJqZmZmZmQlAAAAAAAAAEkAzMzMzMzMbQM3MzMzMzCBAzczMzMzMIkCamZmZmZkkQDMzMzMzMydAzczMzMzMKEAzMzMzMzMqQAAAAAAAACtAAAAAAAAAK0DNzMzMzMwrQAAAAAAAACxAzczMzMzMK0AzMzMzMzMsQDMzMzMzMyxAAAAAAAAALEAAAAAAAAAtQM3MzMzMzC1AZmZmZmZmL0AzMzMzMzMwQDMzMzMzszBAAAAAAAAAMUDNzMzMzMwxQJqZmZmZmTJAZmZmZmZmMkAAAAAAAAAzQDMzMzMzszJAzczMzMzMMkAzMzMzMzMyQGZmZmZm5jFAzczMzMzMMEDNzMzMzMwwQAAAAAAAgDBAzczMzMzMMEAzMzMzMzMxQAAAAAAAgDFA\",\"dtype\":\"float64\",\"shape\":[42]}},\"selected\":{\"id\":\"3900\",\"type\":\"Selection\"},\"selection_policy\":{\"id\":\"3899\",\"type\":\"UnionRenderers\"}},\"id\":\"3779\",\"type\":\"ColumnDataSource\"},{\"attributes\":{\"formatter\":{\"id\":\"3896\",\"type\":\"BasicTickFormatter\"},\"ticker\":{\"id\":\"3762\",\"type\":\"BasicTicker\"}},\"id\":\"3761\",\"type\":\"LinearAxis\"},{\"attributes\":{},\"id\":\"3767\",\"type\":\"WheelZoomTool\"},{\"attributes\":{\"callback\":null},\"id\":\"3750\",\"type\":\"DataRange1d\"},{\"attributes\":{},\"id\":\"3899\",\"type\":\"UnionRenderers\"},{\"attributes\":{},\"id\":\"3757\",\"type\":\"BasicTicker\"},{\"attributes\":{\"data_source\":{\"id\":\"3779\",\"type\":\"ColumnDataSource\"},\"glyph\":{\"id\":\"3780\",\"type\":\"Line\"},\"hover_glyph\":null,\"muted_glyph\":null,\"nonselection_glyph\":{\"id\":\"3781\",\"type\":\"Line\"},\"selection_glyph\":null,\"view\":{\"id\":\"3783\",\"type\":\"CDSView\"}},\"id\":\"3782\",\"type\":\"GlyphRenderer\"},{\"attributes\":{},\"id\":\"3894\",\"type\":\"BasicTickFormatter\"},{\"attributes\":{\"dimension\":1,\"ticker\":{\"id\":\"3762\",\"type\":\"BasicTicker\"}},\"id\":\"3765\",\"type\":\"Grid\"},{\"attributes\":{},\"id\":\"3769\",\"type\":\"SaveTool\"},{\"attributes\":{},\"id\":\"3770\",\"type\":\"ResetTool\"}],\"root_ids\":[\"3747\"]},\"title\":\"Bokeh Application\",\"version\":\"1.3.4\"}};\n  var render_items = [{\"docid\":\"abdd419c-ebe7-45b1-8f9d-ce938399eb35\",\"roots\":{\"3747\":\"c6023389-61f5-48d2-ac73-22ff0336a509\"}}];\n  root.Bokeh.embed.embed_items_notebook(docs_json, render_items);\n\n  }\n  if (root.Bokeh !== undefined) {\n    embed_document(root);\n  } else {\n    var attempts = 0;\n    var timer = setInterval(function(root) {\n      if (root.Bokeh !== undefined) {\n        embed_document(root);\n        clearInterval(timer);\n      }\n      attempts++;\n      if (attempts > 100) {\n        console.log(\"Bokeh: ERROR: Unable to run BokehJS code because BokehJS library is missing\");\n        clearInterval(timer);\n      }\n    }, 10, root)\n  }\n})(window);",
      "application/vnd.bokehjs_exec.v0+json": ""
     },
     "metadata": {
      "application/vnd.bokehjs_exec.v0+json": {
       "id": "3747"
      }
     }
    }
   ],
   "source": [
    "\n",
    "# making a basic bokeh graph using pandas\n",
    "\n",
    "# importing bokeh\n",
    "\n",
    "from bokeh.plotting import figure\n",
    "#from bokeh.io import output_file, show\n",
    "from bokeh.io import output_file, show\n",
    "import pandas as pd\n",
    "\n",
    "# prepare some data\n",
    "df = pd.read_csv('./bachelors.csv')\n",
    "x=df['Year']\n",
    "y=df['Engineering']\n",
    "\n",
    "# prepare the output file\n",
    "\n",
    "#output_file(\"bachelor_line.html\")\n",
    "\n",
    "# create the figure, and create a line\n",
    "\n",
    "f = figure()\n",
    "f.line(x,y)\n",
    "\n",
    "# showing the figure\n",
    "\n",
    "show(f)\n"
   ]
  },
  {
   "cell_type": "code",
   "execution_count": 29,
   "metadata": {
    "id": "yowRShmIhTx7"
   },
   "outputs": [
    {
     "output_type": "execute_result",
     "data": {
      "text/plain": [
       "'c:\\\\Users\\\\pilar\\\\Edition_Jun2020\\\\Repositorios_GitHub\\\\activity_bootcamp_jun2020\\\\1_Data_Analysis\\\\semana_18\\\\día_1'"
      ]
     },
     "metadata": {},
     "execution_count": 29
    }
   ],
   "source": [
    "%pwd"
   ]
  },
  {
   "cell_type": "markdown",
   "metadata": {
    "id": "fNSX2jr1hTx9"
   },
   "source": [
    "# Styling Graphs"
   ]
  },
  {
   "cell_type": "code",
   "execution_count": 30,
   "metadata": {
    "id": "0wMqmhq3hTx9",
    "outputId": "aa5ae8c6-33e9-44ce-f7a2-e146cae1631b"
   },
   "outputs": [
    {
     "output_type": "display_data",
     "data": {
      "text/html": "\n    <div class=\"bk-root\">\n        <a href=\"https://bokeh.pydata.org\" target=\"_blank\" class=\"bk-logo bk-logo-small bk-logo-notebook\"></a>\n        <span id=\"4046\">Loading BokehJS ...</span>\n    </div>"
     },
     "metadata": {}
    },
    {
     "output_type": "display_data",
     "data": {
      "application/javascript": "\n(function(root) {\n  function now() {\n    return new Date();\n  }\n\n  var force = true;\n\n  if (typeof root._bokeh_onload_callbacks === \"undefined\" || force === true) {\n    root._bokeh_onload_callbacks = [];\n    root._bokeh_is_loading = undefined;\n  }\n\n  var JS_MIME_TYPE = 'application/javascript';\n  var HTML_MIME_TYPE = 'text/html';\n  var EXEC_MIME_TYPE = 'application/vnd.bokehjs_exec.v0+json';\n  var CLASS_NAME = 'output_bokeh rendered_html';\n\n  /**\n   * Render data to the DOM node\n   */\n  function render(props, node) {\n    var script = document.createElement(\"script\");\n    node.appendChild(script);\n  }\n\n  /**\n   * Handle when an output is cleared or removed\n   */\n  function handleClearOutput(event, handle) {\n    var cell = handle.cell;\n\n    var id = cell.output_area._bokeh_element_id;\n    var server_id = cell.output_area._bokeh_server_id;\n    // Clean up Bokeh references\n    if (id != null && id in Bokeh.index) {\n      Bokeh.index[id].model.document.clear();\n      delete Bokeh.index[id];\n    }\n\n    if (server_id !== undefined) {\n      // Clean up Bokeh references\n      var cmd = \"from bokeh.io.state import curstate; print(curstate().uuid_to_server['\" + server_id + \"'].get_sessions()[0].document.roots[0]._id)\";\n      cell.notebook.kernel.execute(cmd, {\n        iopub: {\n          output: function(msg) {\n            var id = msg.content.text.trim();\n            if (id in Bokeh.index) {\n              Bokeh.index[id].model.document.clear();\n              delete Bokeh.index[id];\n            }\n          }\n        }\n      });\n      // Destroy server and session\n      var cmd = \"import bokeh.io.notebook as ion; ion.destroy_server('\" + server_id + \"')\";\n      cell.notebook.kernel.execute(cmd);\n    }\n  }\n\n  /**\n   * Handle when a new output is added\n   */\n  function handleAddOutput(event, handle) {\n    var output_area = handle.output_area;\n    var output = handle.output;\n\n    // limit handleAddOutput to display_data with EXEC_MIME_TYPE content only\n    if ((output.output_type != \"display_data\") || (!output.data.hasOwnProperty(EXEC_MIME_TYPE))) {\n      return\n    }\n\n    var toinsert = output_area.element.find(\".\" + CLASS_NAME.split(' ')[0]);\n\n    if (output.metadata[EXEC_MIME_TYPE][\"id\"] !== undefined) {\n      toinsert[toinsert.length - 1].firstChild.textContent = output.data[JS_MIME_TYPE];\n      // store reference to embed id on output_area\n      output_area._bokeh_element_id = output.metadata[EXEC_MIME_TYPE][\"id\"];\n    }\n    if (output.metadata[EXEC_MIME_TYPE][\"server_id\"] !== undefined) {\n      var bk_div = document.createElement(\"div\");\n      bk_div.innerHTML = output.data[HTML_MIME_TYPE];\n      var script_attrs = bk_div.children[0].attributes;\n      for (var i = 0; i < script_attrs.length; i++) {\n        toinsert[toinsert.length - 1].firstChild.setAttribute(script_attrs[i].name, script_attrs[i].value);\n      }\n      // store reference to server id on output_area\n      output_area._bokeh_server_id = output.metadata[EXEC_MIME_TYPE][\"server_id\"];\n    }\n  }\n\n  function register_renderer(events, OutputArea) {\n\n    function append_mime(data, metadata, element) {\n      // create a DOM node to render to\n      var toinsert = this.create_output_subarea(\n        metadata,\n        CLASS_NAME,\n        EXEC_MIME_TYPE\n      );\n      this.keyboard_manager.register_events(toinsert);\n      // Render to node\n      var props = {data: data, metadata: metadata[EXEC_MIME_TYPE]};\n      render(props, toinsert[toinsert.length - 1]);\n      element.append(toinsert);\n      return toinsert\n    }\n\n    /* Handle when an output is cleared or removed */\n    events.on('clear_output.CodeCell', handleClearOutput);\n    events.on('delete.Cell', handleClearOutput);\n\n    /* Handle when a new output is added */\n    events.on('output_added.OutputArea', handleAddOutput);\n\n    /**\n     * Register the mime type and append_mime function with output_area\n     */\n    OutputArea.prototype.register_mime_type(EXEC_MIME_TYPE, append_mime, {\n      /* Is output safe? */\n      safe: true,\n      /* Index of renderer in `output_area.display_order` */\n      index: 0\n    });\n  }\n\n  // register the mime type if in Jupyter Notebook environment and previously unregistered\n  if (root.Jupyter !== undefined) {\n    var events = require('base/js/events');\n    var OutputArea = require('notebook/js/outputarea').OutputArea;\n\n    if (OutputArea.prototype.mime_types().indexOf(EXEC_MIME_TYPE) == -1) {\n      register_renderer(events, OutputArea);\n    }\n  }\n\n  \n  if (typeof (root._bokeh_timeout) === \"undefined\" || force === true) {\n    root._bokeh_timeout = Date.now() + 5000;\n    root._bokeh_failed_load = false;\n  }\n\n  var NB_LOAD_WARNING = {'data': {'text/html':\n     \"<div style='background-color: #fdd'>\\n\"+\n     \"<p>\\n\"+\n     \"BokehJS does not appear to have successfully loaded. If loading BokehJS from CDN, this \\n\"+\n     \"may be due to a slow or bad network connection. Possible fixes:\\n\"+\n     \"</p>\\n\"+\n     \"<ul>\\n\"+\n     \"<li>re-rerun `output_notebook()` to attempt to load from CDN again, or</li>\\n\"+\n     \"<li>use INLINE resources instead, as so:</li>\\n\"+\n     \"</ul>\\n\"+\n     \"<code>\\n\"+\n     \"from bokeh.resources import INLINE\\n\"+\n     \"output_notebook(resources=INLINE)\\n\"+\n     \"</code>\\n\"+\n     \"</div>\"}};\n\n  function display_loaded() {\n    var el = document.getElementById(\"4046\");\n    if (el != null) {\n      el.textContent = \"BokehJS is loading...\";\n    }\n    if (root.Bokeh !== undefined) {\n      if (el != null) {\n        el.textContent = \"BokehJS \" + root.Bokeh.version + \" successfully loaded.\";\n      }\n    } else if (Date.now() < root._bokeh_timeout) {\n      setTimeout(display_loaded, 100)\n    }\n  }\n\n\n  function run_callbacks() {\n    try {\n      root._bokeh_onload_callbacks.forEach(function(callback) {\n        if (callback != null)\n          callback();\n      });\n    } finally {\n      delete root._bokeh_onload_callbacks\n    }\n    console.debug(\"Bokeh: all callbacks have finished\");\n  }\n\n  function load_libs(css_urls, js_urls, callback) {\n    if (css_urls == null) css_urls = [];\n    if (js_urls == null) js_urls = [];\n\n    root._bokeh_onload_callbacks.push(callback);\n    if (root._bokeh_is_loading > 0) {\n      console.debug(\"Bokeh: BokehJS is being loaded, scheduling callback at\", now());\n      return null;\n    }\n    if (js_urls == null || js_urls.length === 0) {\n      run_callbacks();\n      return null;\n    }\n    console.debug(\"Bokeh: BokehJS not loaded, scheduling load and callback at\", now());\n    root._bokeh_is_loading = css_urls.length + js_urls.length;\n\n    function on_load() {\n      root._bokeh_is_loading--;\n      if (root._bokeh_is_loading === 0) {\n        console.debug(\"Bokeh: all BokehJS libraries/stylesheets loaded\");\n        run_callbacks()\n      }\n    }\n\n    function on_error() {\n      console.error(\"failed to load \" + url);\n    }\n\n    for (var i = 0; i < css_urls.length; i++) {\n      var url = css_urls[i];\n      const element = document.createElement(\"link\");\n      element.onload = on_load;\n      element.onerror = on_error;\n      element.rel = \"stylesheet\";\n      element.type = \"text/css\";\n      element.href = url;\n      console.debug(\"Bokeh: injecting link tag for BokehJS stylesheet: \", url);\n      document.body.appendChild(element);\n    }\n\n    for (var i = 0; i < js_urls.length; i++) {\n      var url = js_urls[i];\n      var element = document.createElement('script');\n      element.onload = on_load;\n      element.onerror = on_error;\n      element.async = false;\n      element.src = url;\n      console.debug(\"Bokeh: injecting script tag for BokehJS library: \", url);\n      document.head.appendChild(element);\n    }\n  };var element = document.getElementById(\"4046\");\n  if (element == null) {\n    console.error(\"Bokeh: ERROR: autoload.js configured with elementid '4046' but no matching script tag was found. \")\n    return false;\n  }\n\n  function inject_raw_css(css) {\n    const element = document.createElement(\"style\");\n    element.appendChild(document.createTextNode(css));\n    document.body.appendChild(element);\n  }\n\n  var js_urls = [\"https://cdn.pydata.org/bokeh/release/bokeh-1.3.4.min.js\", \"https://cdn.pydata.org/bokeh/release/bokeh-widgets-1.3.4.min.js\", \"https://cdn.pydata.org/bokeh/release/bokeh-tables-1.3.4.min.js\", \"https://cdn.pydata.org/bokeh/release/bokeh-gl-1.3.4.min.js\"];\n  var css_urls = [];\n\n  var inline_js = [\n    function(Bokeh) {\n      Bokeh.set_log_level(\"info\");\n    },\n    \n    function(Bokeh) {\n      \n    },\n    function(Bokeh) {} // ensure no trailing comma for IE\n  ];\n\n  function run_inline_js() {\n    \n    if ((root.Bokeh !== undefined) || (force === true)) {\n      for (var i = 0; i < inline_js.length; i++) {\n        inline_js[i].call(root, root.Bokeh);\n      }if (force === true) {\n        display_loaded();\n      }} else if (Date.now() < root._bokeh_timeout) {\n      setTimeout(run_inline_js, 100);\n    } else if (!root._bokeh_failed_load) {\n      console.log(\"Bokeh: BokehJS failed to load within specified timeout.\");\n      root._bokeh_failed_load = true;\n    } else if (force !== true) {\n      var cell = $(document.getElementById(\"4046\")).parents('.cell').data().cell;\n      cell.output_area.append_execute_result(NB_LOAD_WARNING)\n    }\n\n  }\n\n  if (root._bokeh_is_loading === 0) {\n    console.debug(\"Bokeh: BokehJS loaded, going straight to plotting\");\n    run_inline_js();\n  } else {\n    load_libs(css_urls, js_urls, function() {\n      console.debug(\"Bokeh: BokehJS plotting callback run at\", now());\n      run_inline_js();\n    });\n  }\n}(window));",
      "application/vnd.bokehjs_load.v0+json": "\n(function(root) {\n  function now() {\n    return new Date();\n  }\n\n  var force = true;\n\n  if (typeof root._bokeh_onload_callbacks === \"undefined\" || force === true) {\n    root._bokeh_onload_callbacks = [];\n    root._bokeh_is_loading = undefined;\n  }\n\n  \n\n  \n  if (typeof (root._bokeh_timeout) === \"undefined\" || force === true) {\n    root._bokeh_timeout = Date.now() + 5000;\n    root._bokeh_failed_load = false;\n  }\n\n  var NB_LOAD_WARNING = {'data': {'text/html':\n     \"<div style='background-color: #fdd'>\\n\"+\n     \"<p>\\n\"+\n     \"BokehJS does not appear to have successfully loaded. If loading BokehJS from CDN, this \\n\"+\n     \"may be due to a slow or bad network connection. Possible fixes:\\n\"+\n     \"</p>\\n\"+\n     \"<ul>\\n\"+\n     \"<li>re-rerun `output_notebook()` to attempt to load from CDN again, or</li>\\n\"+\n     \"<li>use INLINE resources instead, as so:</li>\\n\"+\n     \"</ul>\\n\"+\n     \"<code>\\n\"+\n     \"from bokeh.resources import INLINE\\n\"+\n     \"output_notebook(resources=INLINE)\\n\"+\n     \"</code>\\n\"+\n     \"</div>\"}};\n\n  function display_loaded() {\n    var el = document.getElementById(\"4046\");\n    if (el != null) {\n      el.textContent = \"BokehJS is loading...\";\n    }\n    if (root.Bokeh !== undefined) {\n      if (el != null) {\n        el.textContent = \"BokehJS \" + root.Bokeh.version + \" successfully loaded.\";\n      }\n    } else if (Date.now() < root._bokeh_timeout) {\n      setTimeout(display_loaded, 100)\n    }\n  }\n\n\n  function run_callbacks() {\n    try {\n      root._bokeh_onload_callbacks.forEach(function(callback) {\n        if (callback != null)\n          callback();\n      });\n    } finally {\n      delete root._bokeh_onload_callbacks\n    }\n    console.debug(\"Bokeh: all callbacks have finished\");\n  }\n\n  function load_libs(css_urls, js_urls, callback) {\n    if (css_urls == null) css_urls = [];\n    if (js_urls == null) js_urls = [];\n\n    root._bokeh_onload_callbacks.push(callback);\n    if (root._bokeh_is_loading > 0) {\n      console.debug(\"Bokeh: BokehJS is being loaded, scheduling callback at\", now());\n      return null;\n    }\n    if (js_urls == null || js_urls.length === 0) {\n      run_callbacks();\n      return null;\n    }\n    console.debug(\"Bokeh: BokehJS not loaded, scheduling load and callback at\", now());\n    root._bokeh_is_loading = css_urls.length + js_urls.length;\n\n    function on_load() {\n      root._bokeh_is_loading--;\n      if (root._bokeh_is_loading === 0) {\n        console.debug(\"Bokeh: all BokehJS libraries/stylesheets loaded\");\n        run_callbacks()\n      }\n    }\n\n    function on_error() {\n      console.error(\"failed to load \" + url);\n    }\n\n    for (var i = 0; i < css_urls.length; i++) {\n      var url = css_urls[i];\n      const element = document.createElement(\"link\");\n      element.onload = on_load;\n      element.onerror = on_error;\n      element.rel = \"stylesheet\";\n      element.type = \"text/css\";\n      element.href = url;\n      console.debug(\"Bokeh: injecting link tag for BokehJS stylesheet: \", url);\n      document.body.appendChild(element);\n    }\n\n    for (var i = 0; i < js_urls.length; i++) {\n      var url = js_urls[i];\n      var element = document.createElement('script');\n      element.onload = on_load;\n      element.onerror = on_error;\n      element.async = false;\n      element.src = url;\n      console.debug(\"Bokeh: injecting script tag for BokehJS library: \", url);\n      document.head.appendChild(element);\n    }\n  };var element = document.getElementById(\"4046\");\n  if (element == null) {\n    console.error(\"Bokeh: ERROR: autoload.js configured with elementid '4046' but no matching script tag was found. \")\n    return false;\n  }\n\n  function inject_raw_css(css) {\n    const element = document.createElement(\"style\");\n    element.appendChild(document.createTextNode(css));\n    document.body.appendChild(element);\n  }\n\n  var js_urls = [\"https://cdn.pydata.org/bokeh/release/bokeh-1.3.4.min.js\", \"https://cdn.pydata.org/bokeh/release/bokeh-widgets-1.3.4.min.js\", \"https://cdn.pydata.org/bokeh/release/bokeh-tables-1.3.4.min.js\", \"https://cdn.pydata.org/bokeh/release/bokeh-gl-1.3.4.min.js\"];\n  var css_urls = [];\n\n  var inline_js = [\n    function(Bokeh) {\n      Bokeh.set_log_level(\"info\");\n    },\n    \n    function(Bokeh) {\n      \n    },\n    function(Bokeh) {} // ensure no trailing comma for IE\n  ];\n\n  function run_inline_js() {\n    \n    if ((root.Bokeh !== undefined) || (force === true)) {\n      for (var i = 0; i < inline_js.length; i++) {\n        inline_js[i].call(root, root.Bokeh);\n      }if (force === true) {\n        display_loaded();\n      }} else if (Date.now() < root._bokeh_timeout) {\n      setTimeout(run_inline_js, 100);\n    } else if (!root._bokeh_failed_load) {\n      console.log(\"Bokeh: BokehJS failed to load within specified timeout.\");\n      root._bokeh_failed_load = true;\n    } else if (force !== true) {\n      var cell = $(document.getElementById(\"4046\")).parents('.cell').data().cell;\n      cell.output_area.append_execute_result(NB_LOAD_WARNING)\n    }\n\n  }\n\n  if (root._bokeh_is_loading === 0) {\n    console.debug(\"Bokeh: BokehJS loaded, going straight to plotting\");\n    run_inline_js();\n  } else {\n    load_libs(css_urls, js_urls, function() {\n      console.debug(\"Bokeh: BokehJS plotting callback run at\", now());\n      run_inline_js();\n    });\n  }\n}(window));"
     },
     "metadata": {}
    },
    {
     "output_type": "display_data",
     "data": {
      "text/html": "\n\n\n\n\n\n  <div class=\"bk-root\" id=\"07675c3b-1f7c-4d65-b03e-837db6bef476\" data-root-id=\"4047\"></div>\n"
     },
     "metadata": {}
    },
    {
     "output_type": "display_data",
     "data": {
      "application/javascript": "(function(root) {\n  function embed_document(root) {\n    \n  var docs_json = {\"72511d0d-8524-4161-91e8-1a48543aeb80\":{\"roots\":{\"references\":[{\"attributes\":{\"background_fill_alpha\":{\"value\":0.3},\"background_fill_color\":{\"value\":\"olive\"},\"below\":[{\"id\":\"4056\",\"type\":\"LinearAxis\"}],\"center\":[{\"id\":\"4060\",\"type\":\"Grid\"},{\"id\":\"4065\",\"type\":\"Grid\"}],\"left\":[{\"id\":\"4061\",\"type\":\"LinearAxis\"}],\"plot_width\":1200,\"renderers\":[{\"id\":\"4093\",\"type\":\"GlyphRenderer\"}],\"title\":{\"id\":\"4082\",\"type\":\"Title\"},\"toolbar\":{\"id\":\"4072\",\"type\":\"Toolbar\"},\"toolbar_location\":\"above\",\"x_range\":{\"id\":\"4087\",\"type\":\"Range1d\"},\"x_scale\":{\"id\":\"4052\",\"type\":\"LinearScale\"},\"y_range\":{\"id\":\"4088\",\"type\":\"Range1d\"},\"y_scale\":{\"id\":\"4054\",\"type\":\"LinearScale\"}},\"id\":\"4047\",\"subtype\":\"Figure\",\"type\":\"Plot\"},{\"attributes\":{\"axis_label\":\"Petal Width\",\"axis_label_text_color\":{\"value\":\"blue\"},\"formatter\":{\"id\":\"4216\",\"type\":\"BasicTickFormatter\"},\"major_label_text_color\":{\"value\":\"orange\"},\"minor_tick_line_color\":{\"value\":\"blue\"},\"ticker\":{\"id\":\"4062\",\"type\":\"BasicTicker\"}},\"id\":\"4061\",\"type\":\"LinearAxis\"},{\"attributes\":{},\"id\":\"4069\",\"type\":\"SaveTool\"},{\"attributes\":{\"data_source\":{\"id\":\"4090\",\"type\":\"ColumnDataSource\"},\"glyph\":{\"id\":\"4091\",\"type\":\"Circle\"},\"hover_glyph\":null,\"muted_glyph\":null,\"nonselection_glyph\":{\"id\":\"4092\",\"type\":\"Circle\"},\"selection_glyph\":null,\"view\":{\"id\":\"4094\",\"type\":\"CDSView\"}},\"id\":\"4093\",\"type\":\"GlyphRenderer\"},{\"attributes\":{},\"id\":\"4219\",\"type\":\"UnionRenderers\"},{\"attributes\":{\"axis_label\":\"Petal Length\",\"axis_label_text_color\":{\"value\":\"blue\"},\"formatter\":{\"id\":\"4214\",\"type\":\"BasicTickFormatter\"},\"major_label_text_color\":{\"value\":\"orange\"},\"minor_tick_in\":-6,\"minor_tick_line_color\":{\"value\":\"blue\"},\"ticker\":{\"id\":\"4057\",\"type\":\"BasicTicker\"}},\"id\":\"4056\",\"type\":\"LinearAxis\"},{\"attributes\":{\"dimension\":1,\"grid_line_alpha\":0.8,\"grid_line_dash\":[5,3],\"ticker\":{\"id\":\"4062\",\"type\":\"BasicTicker\"}},\"id\":\"4065\",\"type\":\"Grid\"},{\"attributes\":{},\"id\":\"4071\",\"type\":\"HelpTool\"},{\"attributes\":{\"grid_line_color\":null,\"grid_line_dash\":[5,3],\"ticker\":{\"id\":\"4057\",\"type\":\"BasicTicker\"}},\"id\":\"4060\",\"type\":\"Grid\"},{\"attributes\":{},\"id\":\"4216\",\"type\":\"BasicTickFormatter\"},{\"attributes\":{},\"id\":\"4054\",\"type\":\"LinearScale\"},{\"attributes\":{\"fill_color\":{\"value\":\"#1f77b4\"},\"line_color\":{\"value\":\"#1f77b4\"},\"x\":{\"field\":\"x\"},\"y\":{\"field\":\"y\"}},\"id\":\"4091\",\"type\":\"Circle\"},{\"attributes\":{\"callback\":null},\"id\":\"4079\",\"type\":\"HoverTool\"},{\"attributes\":{\"fill_alpha\":{\"value\":0.1},\"fill_color\":{\"value\":\"#1f77b4\"},\"line_alpha\":{\"value\":0.1},\"line_color\":{\"value\":\"#1f77b4\"},\"x\":{\"field\":\"x\"},\"y\":{\"field\":\"y\"}},\"id\":\"4092\",\"type\":\"Circle\"},{\"attributes\":{},\"id\":\"4070\",\"type\":\"ResetTool\"},{\"attributes\":{},\"id\":\"4057\",\"type\":\"BasicTicker\"},{\"attributes\":{\"bottom_units\":\"screen\",\"fill_alpha\":{\"value\":0.5},\"fill_color\":{\"value\":\"lightgrey\"},\"left_units\":\"screen\",\"level\":\"overlay\",\"line_alpha\":{\"value\":1.0},\"line_color\":{\"value\":\"black\"},\"line_dash\":[4,4],\"line_width\":{\"value\":2},\"render_mode\":\"css\",\"right_units\":\"screen\",\"top_units\":\"screen\"},\"id\":\"4218\",\"type\":\"BoxAnnotation\"},{\"attributes\":{\"callback\":null,\"end\":3.5},\"id\":\"4088\",\"type\":\"Range1d\"},{\"attributes\":{\"num_minor_ticks\":2},\"id\":\"4062\",\"type\":\"BasicTicker\"},{\"attributes\":{},\"id\":\"4220\",\"type\":\"Selection\"},{\"attributes\":{},\"id\":\"4214\",\"type\":\"BasicTickFormatter\"},{\"attributes\":{\"align\":\"center\",\"text\":\"Iris Morphology\",\"text_color\":{\"value\":\"olive\"},\"text_font_size\":{\"value\":\"40px\"}},\"id\":\"4082\",\"type\":\"Title\"},{\"attributes\":{},\"id\":\"4052\",\"type\":\"LinearScale\"},{\"attributes\":{\"source\":{\"id\":\"4090\",\"type\":\"ColumnDataSource\"}},\"id\":\"4094\",\"type\":\"CDSView\"},{\"attributes\":{\"callback\":null,\"data\":{\"x\":{\"__ndarray__\":\"ZmZmZmZm9j9mZmZmZmb2P83MzMzMzPQ/AAAAAAAA+D9mZmZmZmb2PzMzMzMzM/s/ZmZmZmZm9j8AAAAAAAD4P2ZmZmZmZvY/AAAAAAAA+D8AAAAAAAD4P5qZmZmZmfk/ZmZmZmZm9j+amZmZmZnxPzMzMzMzM/M/AAAAAAAA+D/NzMzMzMz0P2ZmZmZmZvY/MzMzMzMz+z8AAAAAAAD4PzMzMzMzM/s/AAAAAAAA+D8AAAAAAADwPzMzMzMzM/s/ZmZmZmZm/j+amZmZmZn5P5qZmZmZmfk/AAAAAAAA+D9mZmZmZmb2P5qZmZmZmfk/mpmZmZmZ+T8AAAAAAAD4PwAAAAAAAPg/ZmZmZmZm9j8AAAAAAAD4PzMzMzMzM/M/zczMzMzM9D9mZmZmZmb2P83MzMzMzPQ/AAAAAAAA+D/NzMzMzMz0P83MzMzMzPQ/zczMzMzM9D+amZmZmZn5P2ZmZmZmZv4/ZmZmZmZm9j+amZmZmZn5P2ZmZmZmZvY/AAAAAAAA+D9mZmZmZmb2P83MzMzMzBJAAAAAAAAAEkCamZmZmZkTQAAAAAAAABBAZmZmZmZmEkAAAAAAAAASQM3MzMzMzBJAZmZmZmZmCkBmZmZmZmYSQDMzMzMzMw9AAAAAAAAADEDNzMzMzMwQQAAAAAAAABBAzczMzMzMEkDNzMzMzMwMQJqZmZmZmRFAAAAAAAAAEkBmZmZmZmYQQAAAAAAAABJAMzMzMzMzD0AzMzMzMzMTQAAAAAAAABBAmpmZmZmZE0DNzMzMzMwSQDMzMzMzMxFAmpmZmZmZEUAzMzMzMzMTQAAAAAAAABRAAAAAAAAAEkAAAAAAAAAMQGZmZmZmZg5AmpmZmZmZDUAzMzMzMzMPQGZmZmZmZhRAAAAAAAAAEkAAAAAAAAASQM3MzMzMzBJAmpmZmZmZEUBmZmZmZmYQQAAAAAAAABBAmpmZmZmZEUBmZmZmZmYSQAAAAAAAABBAZmZmZmZmCkDNzMzMzMwQQM3MzMzMzBBAzczMzMzMEEAzMzMzMzMRQAAAAAAAAAhAZmZmZmZmEEAAAAAAAAAYQGZmZmZmZhRAmpmZmZmZF0BmZmZmZmYWQDMzMzMzMxdAZmZmZmZmGkAAAAAAAAASQDMzMzMzMxlAMzMzMzMzF0BmZmZmZmYYQGZmZmZmZhRAMzMzMzMzFUAAAAAAAAAWQAAAAAAAABRAZmZmZmZmFEAzMzMzMzMVQAAAAAAAABZAzczMzMzMGkCamZmZmZkbQAAAAAAAABRAzczMzMzMFkCamZmZmZkTQM3MzMzMzBpAmpmZmZmZE0DNzMzMzMwWQAAAAAAAABhAMzMzMzMzE0CamZmZmZkTQGZmZmZmZhZAMzMzMzMzF0BmZmZmZmYYQJqZmZmZmRlAZmZmZmZmFkBmZmZmZmYUQGZmZmZmZhZAZmZmZmZmGEBmZmZmZmYWQAAAAAAAABZAMzMzMzMzE0CamZmZmZkVQGZmZmZmZhZAZmZmZmZmFEBmZmZmZmYUQJqZmZmZmRdAzczMzMzMFkDNzMzMzMwUQAAAAAAAABRAzczMzMzMFECamZmZmZkVQGZmZmZmZhRA\",\"dtype\":\"float64\",\"shape\":[150]},\"y\":{\"__ndarray__\":\"mpmZmZmZyT+amZmZmZnJP5qZmZmZmck/mpmZmZmZyT+amZmZmZnJP5qZmZmZmdk/MzMzMzMz0z+amZmZmZnJP5qZmZmZmck/mpmZmZmZuT+amZmZmZnJP5qZmZmZmck/mpmZmZmZuT+amZmZmZm5P5qZmZmZmck/mpmZmZmZ2T+amZmZmZnZPzMzMzMzM9M/MzMzMzMz0z8zMzMzMzPTP5qZmZmZmck/mpmZmZmZ2T+amZmZmZnJPwAAAAAAAOA/mpmZmZmZyT+amZmZmZnJP5qZmZmZmdk/mpmZmZmZyT+amZmZmZnJP5qZmZmZmck/mpmZmZmZyT+amZmZmZnZP5qZmZmZmbk/mpmZmZmZyT+amZmZmZnJP5qZmZmZmck/mpmZmZmZyT+amZmZmZm5P5qZmZmZmck/mpmZmZmZyT8zMzMzMzPTPzMzMzMzM9M/mpmZmZmZyT8zMzMzMzPjP5qZmZmZmdk/MzMzMzMz0z+amZmZmZnJP5qZmZmZmck/mpmZmZmZyT+amZmZmZnJP2ZmZmZmZvY/AAAAAAAA+D8AAAAAAAD4P83MzMzMzPQ/AAAAAAAA+D/NzMzMzMz0P5qZmZmZmfk/AAAAAAAA8D/NzMzMzMz0P2ZmZmZmZvY/AAAAAAAA8D8AAAAAAAD4PwAAAAAAAPA/ZmZmZmZm9j/NzMzMzMz0P2ZmZmZmZvY/AAAAAAAA+D8AAAAAAADwPwAAAAAAAPg/mpmZmZmZ8T/NzMzMzMz8P83MzMzMzPQ/AAAAAAAA+D8zMzMzMzPzP83MzMzMzPQ/ZmZmZmZm9j9mZmZmZmb2PzMzMzMzM/s/AAAAAAAA+D8AAAAAAADwP5qZmZmZmfE/AAAAAAAA8D8zMzMzMzPzP5qZmZmZmfk/AAAAAAAA+D+amZmZmZn5PwAAAAAAAPg/zczMzMzM9D/NzMzMzMz0P83MzMzMzPQ/MzMzMzMz8z9mZmZmZmb2PzMzMzMzM/M/AAAAAAAA8D/NzMzMzMz0PzMzMzMzM/M/zczMzMzM9D/NzMzMzMz0P5qZmZmZmfE/zczMzMzM9D8AAAAAAAAEQGZmZmZmZv4/zczMzMzMAEDNzMzMzMz8P5qZmZmZmQFAzczMzMzMAEAzMzMzMzP7P83MzMzMzPw/zczMzMzM/D8AAAAAAAAEQAAAAAAAAABAZmZmZmZm/j/NzMzMzMwAQAAAAAAAAABAMzMzMzMzA0BmZmZmZmYCQM3MzMzMzPw/mpmZmZmZAUBmZmZmZmYCQAAAAAAAAPg/ZmZmZmZmAkAAAAAAAAAAQAAAAAAAAABAzczMzMzM/D/NzMzMzMwAQM3MzMzMzPw/zczMzMzM/D/NzMzMzMz8P83MzMzMzABAmpmZmZmZ+T9mZmZmZmb+PwAAAAAAAABAmpmZmZmZAUAAAAAAAAD4P2ZmZmZmZvY/ZmZmZmZmAkAzMzMzMzMDQM3MzMzMzPw/zczMzMzM/D/NzMzMzMwAQDMzMzMzMwNAZmZmZmZmAkBmZmZmZmb+P2ZmZmZmZgJAAAAAAAAABEBmZmZmZmYCQGZmZmZmZv4/AAAAAAAAAEBmZmZmZmYCQM3MzMzMzPw/\",\"dtype\":\"float64\",\"shape\":[150]}},\"selected\":{\"id\":\"4220\",\"type\":\"Selection\"},\"selection_policy\":{\"id\":\"4219\",\"type\":\"UnionRenderers\"}},\"id\":\"4090\",\"type\":\"ColumnDataSource\"},{\"attributes\":{\"callback\":null,\"end\":7.5},\"id\":\"4087\",\"type\":\"Range1d\"},{\"attributes\":{\"active_drag\":\"auto\",\"active_inspect\":\"auto\",\"active_multi\":null,\"active_scroll\":\"auto\",\"active_tap\":\"auto\",\"logo\":null,\"tools\":[{\"id\":\"4066\",\"type\":\"PanTool\"},{\"id\":\"4067\",\"type\":\"WheelZoomTool\"},{\"id\":\"4068\",\"type\":\"BoxZoomTool\"},{\"id\":\"4069\",\"type\":\"SaveTool\"},{\"id\":\"4070\",\"type\":\"ResetTool\"},{\"id\":\"4071\",\"type\":\"HelpTool\"},{\"id\":\"4079\",\"type\":\"HoverTool\"}]},\"id\":\"4072\",\"type\":\"Toolbar\"},{\"attributes\":{},\"id\":\"4066\",\"type\":\"PanTool\"},{\"attributes\":{},\"id\":\"4067\",\"type\":\"WheelZoomTool\"},{\"attributes\":{\"overlay\":{\"id\":\"4218\",\"type\":\"BoxAnnotation\"}},\"id\":\"4068\",\"type\":\"BoxZoomTool\"}],\"root_ids\":[\"4047\"]},\"title\":\"Bokeh Application\",\"version\":\"1.3.4\"}};\n  var render_items = [{\"docid\":\"72511d0d-8524-4161-91e8-1a48543aeb80\",\"roots\":{\"4047\":\"07675c3b-1f7c-4d65-b03e-837db6bef476\"}}];\n  root.Bokeh.embed.embed_items_notebook(docs_json, render_items);\n\n  }\n  if (root.Bokeh !== undefined) {\n    embed_document(root);\n  } else {\n    var attempts = 0;\n    var timer = setInterval(function(root) {\n      if (root.Bokeh !== undefined) {\n        embed_document(root);\n        clearInterval(timer);\n      }\n      attempts++;\n      if (attempts > 100) {\n        console.log(\"Bokeh: ERROR: Unable to run BokehJS code because BokehJS library is missing\");\n        clearInterval(timer);\n      }\n    }, 10, root)\n  }\n})(window);",
      "application/vnd.bokehjs_exec.v0+json": ""
     },
     "metadata": {
      "application/vnd.bokehjs_exec.v0+json": {
       "id": "4047"
      }
     }
    }
   ],
   "source": [
    "\n",
    "from bokeh.plotting import figure\n",
    "from bokeh.io import output_file, show\n",
    "from bokeh.sampledata.iris import flowers\n",
    "from bokeh.models import Range1d, PanTool, ResetTool, HoverTool\n",
    "output_notebook()\n",
    "# prepare the output file\n",
    "\n",
    "#output_file(\"iris_2.html\")\n",
    "\n",
    "# create the figure, and create a line\n",
    "\n",
    "f = figure()\n",
    "\n",
    "#Style the tools\n",
    "#f.tools = [PanTool(),ResetTool(),HoverTool()]\n",
    "f.add_tools(HoverTool())\n",
    "f.toolbar_location = 'above'\n",
    "f.toolbar.logo = None\n",
    "\n",
    "\n",
    "#stilize the background\n",
    "\n",
    "f.plot_width = 3000\n",
    "f.plot_width = 1200\n",
    "f.background_fill_color = \"olive\"\n",
    "f.background_fill_alpha=0.3\n",
    "\n",
    "#Style the title\n",
    "\n",
    "f.title.text=\"Iris Morphology\"\n",
    "f.title.text_color = \"olive\"\n",
    "f.title.text_font = \"helvetica\"\n",
    "f.title.text_font_size= \"40px\"\n",
    "f.title.align=\"center\"\n",
    "\n",
    "#style the axis\n",
    "\n",
    "f.axis.minor_tick_line_color= \"blue\"\n",
    "#f.yaxis.major_label_orientation =\"vertical\"\n",
    "f.xaxis.visible=True\n",
    "f.xaxis.minor_tick_in=-6\n",
    "f.xaxis.axis_label=\"Petal Length\"\n",
    "f.yaxis.axis_label=\"Petal Width\"\n",
    "f.axis.axis_label_text_color=\"blue\"\n",
    "f.axis.major_label_text_color=\"orange\"\n",
    "\n",
    "#Axes geometry\n",
    "f.x_range = Range1d(start=0, end=7.5)\n",
    "f.y_range = Range1d(start=0, end=3.5)\n",
    "#f.xaxis.bounds = (2, 6)\n",
    "#f.xaxis[0].ticker.desired_num_ticks = 2\n",
    "#f.yaxis[0].ticker.desired_num_ticks = 2\n",
    "f.yaxis[0].ticker.num_minor_ticks = 2\n",
    "\n",
    "\n",
    "#Style the grid\n",
    "f.xgrid.grid_line_color = None\n",
    "f.ygrid.grid_line_alpha = 0.8\n",
    "f.grid.grid_line_dash = [5,3]\n",
    "\n",
    "\n",
    "# adding glypshs\n",
    "\n",
    "f.circle(x=flowers['petal_length'],y=flowers['petal_width'])\n",
    "\n",
    "show(f)\n"
   ]
  },
  {
   "cell_type": "code",
   "execution_count": 31,
   "metadata": {
    "id": "_ByfunL-hTx_"
   },
   "outputs": [
    {
     "output_type": "execute_result",
     "data": {
      "text/plain": [
       "['__cached_all__overridden_defaults__',\n",
       " '__cached_all__properties__',\n",
       " '__cached_all__properties_with_refs__',\n",
       " '__class__',\n",
       " '__container_props__',\n",
       " '__dataspecs__',\n",
       " '__delattr__',\n",
       " '__dict__',\n",
       " '__dir__',\n",
       " '__doc__',\n",
       " '__eq__',\n",
       " '__format__',\n",
       " '__ge__',\n",
       " '__getattribute__',\n",
       " '__gt__',\n",
       " '__hash__',\n",
       " '__init__',\n",
       " '__init_subclass__',\n",
       " '__le__',\n",
       " '__lt__',\n",
       " '__module__',\n",
       " '__ne__',\n",
       " '__new__',\n",
       " '__overridden_defaults__',\n",
       " '__properties__',\n",
       " '__properties_with_refs__',\n",
       " '__reduce__',\n",
       " '__reduce_ex__',\n",
       " '__repr__',\n",
       " '__setattr__',\n",
       " '__sizeof__',\n",
       " '__str__',\n",
       " '__subclasshook__',\n",
       " '__view_model__',\n",
       " '__weakref__',\n",
       " '_attach_document',\n",
       " '_callbacks',\n",
       " '_clear_extensions',\n",
       " '_clone',\n",
       " '_detach_document',\n",
       " '_document',\n",
       " '_event_callbacks',\n",
       " '_id',\n",
       " '_overridden_defaults',\n",
       " '_property_values',\n",
       " '_repr_html_',\n",
       " '_temp_document',\n",
       " '_to_json_like',\n",
       " '_trigger_event',\n",
       " '_unstable_default_values',\n",
       " '_unstable_themed_values',\n",
       " '_update_event_callbacks',\n",
       " 'align',\n",
       " 'apply_theme',\n",
       " 'background_fill_alpha',\n",
       " 'background_fill_color',\n",
       " 'border_line_alpha',\n",
       " 'border_line_cap',\n",
       " 'border_line_color',\n",
       " 'border_line_dash',\n",
       " 'border_line_dash_offset',\n",
       " 'border_line_join',\n",
       " 'border_line_width',\n",
       " 'dataspecs',\n",
       " 'dataspecs_with_props',\n",
       " 'document',\n",
       " 'equals',\n",
       " 'id',\n",
       " 'js_event_callbacks',\n",
       " 'js_link',\n",
       " 'js_on_change',\n",
       " 'js_on_event',\n",
       " 'js_property_callbacks',\n",
       " 'layout',\n",
       " 'level',\n",
       " 'lookup',\n",
       " 'name',\n",
       " 'offset',\n",
       " 'on_change',\n",
       " 'on_event',\n",
       " 'properties',\n",
       " 'properties_containers',\n",
       " 'properties_with_refs',\n",
       " 'properties_with_values',\n",
       " 'query_properties_with_values',\n",
       " 'ref',\n",
       " 'references',\n",
       " 'remove_on_change',\n",
       " 'render_mode',\n",
       " 'select',\n",
       " 'select_one',\n",
       " 'set_from_json',\n",
       " 'set_select',\n",
       " 'subscribed_events',\n",
       " 'tags',\n",
       " 'text',\n",
       " 'text_alpha',\n",
       " 'text_color',\n",
       " 'text_font',\n",
       " 'text_font_size',\n",
       " 'text_font_style',\n",
       " 'themed_values',\n",
       " 'to_json',\n",
       " 'to_json_string',\n",
       " 'trigger',\n",
       " 'unapply_theme',\n",
       " 'update',\n",
       " 'update_from_json',\n",
       " 'vertical_align',\n",
       " 'visible']"
      ]
     },
     "metadata": {},
     "execution_count": 31
    }
   ],
   "source": [
    "dir(f.title) #Atributos del título o otros parametros... que podemos utilizar"
   ]
  },
  {
   "cell_type": "code",
   "execution_count": 32,
   "metadata": {},
   "outputs": [
    {
     "output_type": "execute_result",
     "data": {
      "text/plain": [
       "['__cached_all__overridden_defaults__',\n",
       " '__cached_all__properties__',\n",
       " '__cached_all__properties_with_refs__',\n",
       " '__class__',\n",
       " '__container_props__',\n",
       " '__dataspecs__',\n",
       " '__delattr__',\n",
       " '__dict__',\n",
       " '__dir__',\n",
       " '__doc__',\n",
       " '__eq__',\n",
       " '__format__',\n",
       " '__ge__',\n",
       " '__getattribute__',\n",
       " '__gt__',\n",
       " '__hash__',\n",
       " '__init__',\n",
       " '__init_subclass__',\n",
       " '__le__',\n",
       " '__lt__',\n",
       " '__module__',\n",
       " '__ne__',\n",
       " '__new__',\n",
       " '__overridden_defaults__',\n",
       " '__properties__',\n",
       " '__properties_with_refs__',\n",
       " '__reduce__',\n",
       " '__reduce_ex__',\n",
       " '__repr__',\n",
       " '__setattr__',\n",
       " '__sizeof__',\n",
       " '__str__',\n",
       " '__subclasshook__',\n",
       " '__view_model__',\n",
       " '__weakref__',\n",
       " '_attach_document',\n",
       " '_callbacks',\n",
       " '_clear_extensions',\n",
       " '_clone',\n",
       " '_detach_document',\n",
       " '_document',\n",
       " '_event_callbacks',\n",
       " '_id',\n",
       " '_overridden_defaults',\n",
       " '_property_values',\n",
       " '_repr_html_',\n",
       " '_temp_document',\n",
       " '_to_json_like',\n",
       " '_trigger_event',\n",
       " '_unstable_default_values',\n",
       " '_unstable_themed_values',\n",
       " '_update_event_callbacks',\n",
       " 'apply_theme',\n",
       " 'axis_label',\n",
       " 'axis_label_standoff',\n",
       " 'axis_label_text_align',\n",
       " 'axis_label_text_alpha',\n",
       " 'axis_label_text_baseline',\n",
       " 'axis_label_text_color',\n",
       " 'axis_label_text_font',\n",
       " 'axis_label_text_font_size',\n",
       " 'axis_label_text_font_style',\n",
       " 'axis_label_text_line_height',\n",
       " 'axis_line_alpha',\n",
       " 'axis_line_cap',\n",
       " 'axis_line_color',\n",
       " 'axis_line_dash',\n",
       " 'axis_line_dash_offset',\n",
       " 'axis_line_join',\n",
       " 'axis_line_width',\n",
       " 'bounds',\n",
       " 'dataspecs',\n",
       " 'dataspecs_with_props',\n",
       " 'document',\n",
       " 'equals',\n",
       " 'fixed_location',\n",
       " 'formatter',\n",
       " 'id',\n",
       " 'js_event_callbacks',\n",
       " 'js_link',\n",
       " 'js_on_change',\n",
       " 'js_on_event',\n",
       " 'js_property_callbacks',\n",
       " 'layout',\n",
       " 'level',\n",
       " 'lookup',\n",
       " 'major_label_orientation',\n",
       " 'major_label_overrides',\n",
       " 'major_label_standoff',\n",
       " 'major_label_text_align',\n",
       " 'major_label_text_alpha',\n",
       " 'major_label_text_baseline',\n",
       " 'major_label_text_color',\n",
       " 'major_label_text_font',\n",
       " 'major_label_text_font_size',\n",
       " 'major_label_text_font_style',\n",
       " 'major_label_text_line_height',\n",
       " 'major_tick_in',\n",
       " 'major_tick_line_alpha',\n",
       " 'major_tick_line_cap',\n",
       " 'major_tick_line_color',\n",
       " 'major_tick_line_dash',\n",
       " 'major_tick_line_dash_offset',\n",
       " 'major_tick_line_join',\n",
       " 'major_tick_line_width',\n",
       " 'major_tick_out',\n",
       " 'minor_tick_in',\n",
       " 'minor_tick_line_alpha',\n",
       " 'minor_tick_line_cap',\n",
       " 'minor_tick_line_color',\n",
       " 'minor_tick_line_dash',\n",
       " 'minor_tick_line_dash_offset',\n",
       " 'minor_tick_line_join',\n",
       " 'minor_tick_line_width',\n",
       " 'minor_tick_out',\n",
       " 'name',\n",
       " 'on_change',\n",
       " 'on_event',\n",
       " 'properties',\n",
       " 'properties_containers',\n",
       " 'properties_with_refs',\n",
       " 'properties_with_values',\n",
       " 'query_properties_with_values',\n",
       " 'ref',\n",
       " 'references',\n",
       " 'remove_on_change',\n",
       " 'select',\n",
       " 'select_one',\n",
       " 'set_from_json',\n",
       " 'set_select',\n",
       " 'subscribed_events',\n",
       " 'tags',\n",
       " 'themed_values',\n",
       " 'ticker',\n",
       " 'to_json',\n",
       " 'to_json_string',\n",
       " 'trigger',\n",
       " 'unapply_theme',\n",
       " 'update',\n",
       " 'update_from_json',\n",
       " 'visible',\n",
       " 'x_range_name',\n",
       " 'y_range_name']"
      ]
     },
     "metadata": {},
     "execution_count": 32
    }
   ],
   "source": [
    "dir(f.axis)"
   ]
  },
  {
   "cell_type": "code",
   "execution_count": 33,
   "metadata": {
    "id": "1-AfaXnVhTyC",
    "outputId": "71d29ac1-9691-4efb-c21c-51d31365d32e"
   },
   "outputs": [
    {
     "output_type": "display_data",
     "data": {
      "text/html": "\n\n\n\n\n\n  <div class=\"bk-root\" id=\"49c91aa5-9192-46cb-a6bc-073ac7ed3db9\" data-root-id=\"4367\"></div>\n"
     },
     "metadata": {}
    },
    {
     "output_type": "display_data",
     "data": {
      "application/javascript": "(function(root) {\n  function embed_document(root) {\n    \n  var docs_json = {\"bac2b328-e2b1-4522-ae88-02e95ccab64a\":{\"roots\":{\"references\":[{\"attributes\":{\"below\":[{\"id\":\"4376\",\"type\":\"CategoricalAxis\"}],\"center\":[{\"id\":\"4379\",\"type\":\"Grid\"},{\"id\":\"4383\",\"type\":\"Grid\"}],\"left\":[{\"id\":\"4380\",\"type\":\"CategoricalAxis\"}],\"renderers\":[{\"id\":\"4400\",\"type\":\"GlyphRenderer\"}],\"title\":{\"id\":\"4529\",\"type\":\"Title\"},\"toolbar\":{\"id\":\"4390\",\"type\":\"Toolbar\"},\"x_range\":{\"id\":\"4368\",\"type\":\"FactorRange\"},\"x_scale\":{\"id\":\"4372\",\"type\":\"CategoricalScale\"},\"y_range\":{\"id\":\"4370\",\"type\":\"FactorRange\"},\"y_scale\":{\"id\":\"4374\",\"type\":\"CategoricalScale\"}},\"id\":\"4367\",\"subtype\":\"Figure\",\"type\":\"Plot\"},{\"attributes\":{\"formatter\":{\"id\":\"4532\",\"type\":\"CategoricalTickFormatter\"},\"ticker\":{\"id\":\"4381\",\"type\":\"CategoricalTicker\"}},\"id\":\"4380\",\"type\":\"CategoricalAxis\"},{\"attributes\":{\"source\":{\"id\":\"4397\",\"type\":\"ColumnDataSource\"}},\"id\":\"4401\",\"type\":\"CDSView\"},{\"attributes\":{},\"id\":\"4385\",\"type\":\"WheelZoomTool\"},{\"attributes\":{},\"id\":\"4536\",\"type\":\"Selection\"},{\"attributes\":{},\"id\":\"4374\",\"type\":\"CategoricalScale\"},{\"attributes\":{\"fill_alpha\":{\"value\":0.1},\"fill_color\":{\"value\":\"#1f77b4\"},\"line_alpha\":{\"value\":0.1},\"line_color\":{\"value\":\"#1f77b4\"},\"size\":{\"units\":\"screen\",\"value\":8},\"x\":{\"field\":\"x\"},\"y\":{\"field\":\"y\"}},\"id\":\"4399\",\"type\":\"Circle\"},{\"attributes\":{\"callback\":null,\"data\":{\"x\":[\"A\",\"B\"],\"y\":[\"C\",\"D\"]},\"selected\":{\"id\":\"4536\",\"type\":\"Selection\"},\"selection_policy\":{\"id\":\"4535\",\"type\":\"UnionRenderers\"}},\"id\":\"4397\",\"type\":\"ColumnDataSource\"},{\"attributes\":{\"ticker\":{\"id\":\"4377\",\"type\":\"CategoricalTicker\"}},\"id\":\"4379\",\"type\":\"Grid\"},{\"attributes\":{\"text\":\"\"},\"id\":\"4529\",\"type\":\"Title\"},{\"attributes\":{\"bottom_units\":\"screen\",\"fill_alpha\":{\"value\":0.5},\"fill_color\":{\"value\":\"lightgrey\"},\"left_units\":\"screen\",\"level\":\"overlay\",\"line_alpha\":{\"value\":1.0},\"line_color\":{\"value\":\"black\"},\"line_dash\":[4,4],\"line_width\":{\"value\":2},\"render_mode\":\"css\",\"right_units\":\"screen\",\"top_units\":\"screen\"},\"id\":\"4534\",\"type\":\"BoxAnnotation\"},{\"attributes\":{},\"id\":\"4372\",\"type\":\"CategoricalScale\"},{\"attributes\":{\"data_source\":{\"id\":\"4397\",\"type\":\"ColumnDataSource\"},\"glyph\":{\"id\":\"4398\",\"type\":\"Circle\"},\"hover_glyph\":null,\"muted_glyph\":null,\"nonselection_glyph\":{\"id\":\"4399\",\"type\":\"Circle\"},\"selection_glyph\":null,\"view\":{\"id\":\"4401\",\"type\":\"CDSView\"}},\"id\":\"4400\",\"type\":\"GlyphRenderer\"},{\"attributes\":{},\"id\":\"4532\",\"type\":\"CategoricalTickFormatter\"},{\"attributes\":{},\"id\":\"4381\",\"type\":\"CategoricalTicker\"},{\"attributes\":{\"overlay\":{\"id\":\"4534\",\"type\":\"BoxAnnotation\"}},\"id\":\"4386\",\"type\":\"BoxZoomTool\"},{\"attributes\":{\"callback\":null,\"factors\":[\"F\",\"D-\",\"D\",\"D+\",\"C-\",\"C\",\"C+\",\"B-\",\"B\",\"B+\",\"A-\",\"A\",\"A+\"]},\"id\":\"4370\",\"type\":\"FactorRange\"},{\"attributes\":{\"formatter\":{\"id\":\"4530\",\"type\":\"CategoricalTickFormatter\"},\"ticker\":{\"id\":\"4377\",\"type\":\"CategoricalTicker\"}},\"id\":\"4376\",\"type\":\"CategoricalAxis\"},{\"attributes\":{},\"id\":\"4384\",\"type\":\"PanTool\"},{\"attributes\":{\"fill_color\":{\"value\":\"#1f77b4\"},\"line_color\":{\"value\":\"#1f77b4\"},\"size\":{\"units\":\"screen\",\"value\":8},\"x\":{\"field\":\"x\"},\"y\":{\"field\":\"y\"}},\"id\":\"4398\",\"type\":\"Circle\"},{\"attributes\":{\"callback\":null,\"factors\":[\"F\",\"D-\",\"D\",\"D+\",\"C-\",\"C\",\"C+\",\"B-\",\"B\",\"B+\",\"A-\",\"A\",\"A+\"]},\"id\":\"4368\",\"type\":\"FactorRange\"},{\"attributes\":{\"active_drag\":\"auto\",\"active_inspect\":\"auto\",\"active_multi\":null,\"active_scroll\":\"auto\",\"active_tap\":\"auto\",\"tools\":[{\"id\":\"4384\",\"type\":\"PanTool\"},{\"id\":\"4385\",\"type\":\"WheelZoomTool\"},{\"id\":\"4386\",\"type\":\"BoxZoomTool\"},{\"id\":\"4387\",\"type\":\"SaveTool\"},{\"id\":\"4388\",\"type\":\"ResetTool\"},{\"id\":\"4389\",\"type\":\"HelpTool\"}]},\"id\":\"4390\",\"type\":\"Toolbar\"},{\"attributes\":{},\"id\":\"4387\",\"type\":\"SaveTool\"},{\"attributes\":{},\"id\":\"4389\",\"type\":\"HelpTool\"},{\"attributes\":{},\"id\":\"4388\",\"type\":\"ResetTool\"},{\"attributes\":{},\"id\":\"4530\",\"type\":\"CategoricalTickFormatter\"},{\"attributes\":{},\"id\":\"4377\",\"type\":\"CategoricalTicker\"},{\"attributes\":{},\"id\":\"4535\",\"type\":\"UnionRenderers\"},{\"attributes\":{\"dimension\":1,\"ticker\":{\"id\":\"4381\",\"type\":\"CategoricalTicker\"}},\"id\":\"4383\",\"type\":\"Grid\"}],\"root_ids\":[\"4367\"]},\"title\":\"Bokeh Application\",\"version\":\"1.3.4\"}};\n  var render_items = [{\"docid\":\"bac2b328-e2b1-4522-ae88-02e95ccab64a\",\"roots\":{\"4367\":\"49c91aa5-9192-46cb-a6bc-073ac7ed3db9\"}}];\n  root.Bokeh.embed.embed_items_notebook(docs_json, render_items);\n\n  }\n  if (root.Bokeh !== undefined) {\n    embed_document(root);\n  } else {\n    var attempts = 0;\n    var timer = setInterval(function(root) {\n      if (root.Bokeh !== undefined) {\n        embed_document(root);\n        clearInterval(timer);\n      }\n      attempts++;\n      if (attempts > 100) {\n        console.log(\"Bokeh: ERROR: Unable to run BokehJS code because BokehJS library is missing\");\n        clearInterval(timer);\n      }\n    }, 10, root)\n  }\n})(window);",
      "application/vnd.bokehjs_exec.v0+json": ""
     },
     "metadata": {
      "application/vnd.bokehjs_exec.v0+json": {
       "id": "4367"
      }
     }
    }
   ],
   "source": [
    "\n",
    "#Categorical axes\n",
    "\n",
    "#importing libraries\n",
    "from bokeh.plotting import figure\n",
    "from bokeh.io import output_file, show\n",
    "\n",
    "#prepare the output\n",
    "#output_file(\"students.html\")\n",
    "\n",
    "#create the figure\n",
    "f = figure(x_range=[\"F\", \"D-\", \"D\", \"D+\", \"C-\", \"C\", \"C+\", \"B-\", \"B\", \"B+\", \"A-\", \"A\", \"A+\"],\n",
    "           y_range=[\"F\", \"D-\", \"D\", \"D+\", \"C-\", \"C\", \"C+\", \"B-\", \"B\", \"B+\", \"A-\", \"A\", \"A+\"])\n",
    "\n",
    "#create glyphs\n",
    "f.circle(x=[\"A\",\"B\"], y=[\"C\",\"D\"], size=8)\n",
    "\n",
    "show(f)\n"
   ]
  },
  {
   "cell_type": "code",
   "execution_count": 34,
   "metadata": {
    "id": "cNUbuT3IhTyE"
   },
   "outputs": [],
   "source": [
    "import bokeh.models"
   ]
  },
  {
   "cell_type": "markdown",
   "metadata": {
    "id": "Mz6wTPQNhTyG"
   },
   "source": [
    "# Cambiando los glyphs"
   ]
  },
  {
   "cell_type": "code",
   "execution_count": 35,
   "metadata": {
    "id": "P7kMc1mmhTyH",
    "outputId": "8d7100df-4b0f-4481-8621-bbecf4418e4d"
   },
   "outputs": [
    {
     "output_type": "display_data",
     "data": {
      "text/html": "\n\n\n\n\n\n  <div class=\"bk-root\" id=\"45b444fd-ebc3-4006-b14d-1a8c12c8b6a1\" data-root-id=\"4682\"></div>\n"
     },
     "metadata": {}
    },
    {
     "output_type": "display_data",
     "data": {
      "application/javascript": "(function(root) {\n  function embed_document(root) {\n    \n  var docs_json = {\"dc4395f1-82d5-4517-8049-6d817497ba83\":{\"roots\":{\"references\":[{\"attributes\":{\"background_fill_alpha\":{\"value\":0.3},\"background_fill_color\":{\"value\":\"olive\"},\"below\":[{\"id\":\"4691\",\"type\":\"LinearAxis\"}],\"center\":[{\"id\":\"4695\",\"type\":\"Grid\"},{\"id\":\"4700\",\"type\":\"Grid\"}],\"left\":[{\"id\":\"4696\",\"type\":\"LinearAxis\"}],\"plot_width\":1200,\"renderers\":[{\"id\":\"4728\",\"type\":\"GlyphRenderer\"}],\"title\":{\"id\":\"4717\",\"type\":\"Title\"},\"toolbar\":{\"id\":\"4707\",\"type\":\"Toolbar\"},\"toolbar_location\":\"above\",\"x_range\":{\"id\":\"4722\",\"type\":\"Range1d\"},\"x_scale\":{\"id\":\"4687\",\"type\":\"LinearScale\"},\"y_range\":{\"id\":\"4723\",\"type\":\"Range1d\"},\"y_scale\":{\"id\":\"4689\",\"type\":\"LinearScale\"}},\"id\":\"4682\",\"subtype\":\"Figure\",\"type\":\"Plot\"},{\"attributes\":{},\"id\":\"4692\",\"type\":\"BasicTicker\"},{\"attributes\":{\"source\":{\"id\":\"4725\",\"type\":\"ColumnDataSource\"}},\"id\":\"4729\",\"type\":\"CDSView\"},{\"attributes\":{\"bottom_units\":\"screen\",\"fill_alpha\":{\"value\":0.5},\"fill_color\":{\"value\":\"lightgrey\"},\"left_units\":\"screen\",\"level\":\"overlay\",\"line_alpha\":{\"value\":1.0},\"line_color\":{\"value\":\"black\"},\"line_dash\":[4,4],\"line_width\":{\"value\":2},\"render_mode\":\"css\",\"right_units\":\"screen\",\"top_units\":\"screen\"},\"id\":\"4871\",\"type\":\"BoxAnnotation\"},{\"attributes\":{},\"id\":\"4687\",\"type\":\"LinearScale\"},{\"attributes\":{},\"id\":\"4706\",\"type\":\"HelpTool\"},{\"attributes\":{\"callback\":null,\"data\":{\"fill_color\":[\"red\",\"red\",\"red\",\"red\",\"red\",\"red\",\"red\",\"red\",\"red\",\"red\",\"red\",\"red\",\"red\",\"red\",\"red\",\"red\",\"red\",\"red\",\"red\",\"red\",\"red\",\"red\",\"red\",\"red\",\"red\",\"red\",\"red\",\"red\",\"red\",\"red\",\"red\",\"red\",\"red\",\"red\",\"red\",\"red\",\"red\",\"red\",\"red\",\"red\",\"red\",\"red\",\"red\",\"red\",\"red\",\"red\",\"red\",\"red\",\"red\",\"red\",\"green\",\"green\",\"green\",\"green\",\"green\",\"green\",\"green\",\"green\",\"green\",\"green\",\"green\",\"green\",\"green\",\"green\",\"green\",\"green\",\"green\",\"green\",\"green\",\"green\",\"green\",\"green\",\"green\",\"green\",\"green\",\"green\",\"green\",\"green\",\"green\",\"green\",\"green\",\"green\",\"green\",\"green\",\"green\",\"green\",\"green\",\"green\",\"green\",\"green\",\"green\",\"green\",\"green\",\"green\",\"green\",\"green\",\"green\",\"green\",\"green\",\"green\",\"blue\",\"blue\",\"blue\",\"blue\",\"blue\",\"blue\",\"blue\",\"blue\",\"blue\",\"blue\",\"blue\",\"blue\",\"blue\",\"blue\",\"blue\",\"blue\",\"blue\",\"blue\",\"blue\",\"blue\",\"blue\",\"blue\",\"blue\",\"blue\",\"blue\",\"blue\",\"blue\",\"blue\",\"blue\",\"blue\",\"blue\",\"blue\",\"blue\",\"blue\",\"blue\",\"blue\",\"blue\",\"blue\",\"blue\",\"blue\",\"blue\",\"blue\",\"blue\",\"blue\",\"blue\",\"blue\",\"blue\",\"blue\",\"blue\",\"blue\"],\"line_color\":[\"red\",\"red\",\"red\",\"red\",\"red\",\"red\",\"red\",\"red\",\"red\",\"red\",\"red\",\"red\",\"red\",\"red\",\"red\",\"red\",\"red\",\"red\",\"red\",\"red\",\"red\",\"red\",\"red\",\"red\",\"red\",\"red\",\"red\",\"red\",\"red\",\"red\",\"red\",\"red\",\"red\",\"red\",\"red\",\"red\",\"red\",\"red\",\"red\",\"red\",\"red\",\"red\",\"red\",\"red\",\"red\",\"red\",\"red\",\"red\",\"red\",\"red\",\"green\",\"green\",\"green\",\"green\",\"green\",\"green\",\"green\",\"green\",\"green\",\"green\",\"green\",\"green\",\"green\",\"green\",\"green\",\"green\",\"green\",\"green\",\"green\",\"green\",\"green\",\"green\",\"green\",\"green\",\"green\",\"green\",\"green\",\"green\",\"green\",\"green\",\"green\",\"green\",\"green\",\"green\",\"green\",\"green\",\"green\",\"green\",\"green\",\"green\",\"green\",\"green\",\"green\",\"green\",\"green\",\"green\",\"green\",\"green\",\"green\",\"green\",\"blue\",\"blue\",\"blue\",\"blue\",\"blue\",\"blue\",\"blue\",\"blue\",\"blue\",\"blue\",\"blue\",\"blue\",\"blue\",\"blue\",\"blue\",\"blue\",\"blue\",\"blue\",\"blue\",\"blue\",\"blue\",\"blue\",\"blue\",\"blue\",\"blue\",\"blue\",\"blue\",\"blue\",\"blue\",\"blue\",\"blue\",\"blue\",\"blue\",\"blue\",\"blue\",\"blue\",\"blue\",\"blue\",\"blue\",\"blue\",\"blue\",\"blue\",\"blue\",\"blue\",\"blue\",\"blue\",\"blue\",\"blue\",\"blue\",\"blue\"],\"size\":{\"__ndarray__\":\"AAAAAAAALEAAAAAAAAAoQJqZmZmZmSlAzczMzMzMKEDNzMzMzMwsQDMzMzMzMy9AMzMzMzMzK0AzMzMzMzMrQDMzMzMzMydAzczMzMzMKECamZmZmZktQDMzMzMzMytAAAAAAAAAKEAAAAAAAAAoQAAAAAAAADBAmpmZmZmZMUAzMzMzMzMvQAAAAAAAACxAZmZmZmZmLkBmZmZmZmYuQDMzMzMzMytAmpmZmZmZLUDNzMzMzMwsQGZmZmZmZipAMzMzMzMzK0AAAAAAAAAoQDMzMzMzMytAAAAAAAAALEAzMzMzMzMrQJqZmZmZmSlAzczMzMzMKEAzMzMzMzMrQGZmZmZmZjBAzczMzMzMMEDNzMzMzMwoQJqZmZmZmSlAAAAAAAAALEDNzMzMzMwsQAAAAAAAAChAMzMzMzMzK0AAAAAAAAAsQGZmZmZmZiJAmpmZmZmZKUAAAAAAAAAsQGZmZmZmZi5AAAAAAAAAKEBmZmZmZmYuQJqZmZmZmSlAmpmZmZmZLUBmZmZmZmYqQJqZmZmZmSlAmpmZmZmZKUDNzMzMzMwoQGZmZmZmZiJAZmZmZmZmJkBmZmZmZmYmQGZmZmZmZipAMzMzMzMzI0AzMzMzMzMnQJqZmZmZmSVAAAAAAAAAIEAAAAAAAAAoQJqZmZmZmSFAMzMzMzMzJ0AzMzMzMzMnQM3MzMzMzChAAAAAAAAAKECamZmZmZklQJqZmZmZmSFAAAAAAAAAJECamZmZmZkpQGZmZmZmZiZAAAAAAAAAJEBmZmZmZmYmQDMzMzMzMydAAAAAAAAAKEBmZmZmZmYmQAAAAAAAAChAMzMzMzMzJ0DNzMzMzMwkQDMzMzMzMyNAMzMzMzMzI0CamZmZmZklQJqZmZmZmSVAAAAAAAAAKEAzMzMzMzMrQM3MzMzMzChAZmZmZmZmIkAAAAAAAAAoQAAAAAAAACRAzczMzMzMJEAAAAAAAAAoQM3MzMzMzCRAZmZmZmZmIkCamZmZmZklQAAAAAAAAChAMzMzMzMzJ0AzMzMzMzMnQAAAAAAAACRAZmZmZmZmJkBmZmZmZmYqQJqZmZmZmSVAAAAAAAAAKEAzMzMzMzMnQAAAAAAAAChAAAAAAAAAKEAAAAAAAAAkQDMzMzMzMydAAAAAAAAAJEDNzMzMzMwsQJqZmZmZmSlAmpmZmZmZJUAAAAAAAAAoQAAAAAAAACRAZmZmZmZmJkCamZmZmZkpQAAAAAAAAChAZmZmZmZmLkDNzMzMzMwkQJqZmZmZmSFAmpmZmZmZKUBmZmZmZmYmQGZmZmZmZiZAmpmZmZmZJUBmZmZmZmYqQJqZmZmZmSlAZmZmZmZmJkAAAAAAAAAoQGZmZmZmZiZAAAAAAAAAKEBmZmZmZmYmQGZmZmZmZi5AZmZmZmZmJkBmZmZmZmYmQM3MzMzMzCRAAAAAAAAAKEAzMzMzMzMrQM3MzMzMzChAAAAAAAAAKEDNzMzMzMwoQM3MzMzMzChAzczMzMzMKECamZmZmZklQJqZmZmZmSlAZmZmZmZmKkAAAAAAAAAoQAAAAAAAACRAAAAAAAAAKEAzMzMzMzMrQAAAAAAAAChA\",\"dtype\":\"float64\",\"shape\":[150]},\"x\":{\"__ndarray__\":\"ZmZmZmZm9j9mZmZmZmb2P83MzMzMzPQ/AAAAAAAA+D9mZmZmZmb2PzMzMzMzM/s/ZmZmZmZm9j8AAAAAAAD4P2ZmZmZmZvY/AAAAAAAA+D8AAAAAAAD4P5qZmZmZmfk/ZmZmZmZm9j+amZmZmZnxPzMzMzMzM/M/AAAAAAAA+D/NzMzMzMz0P2ZmZmZmZvY/MzMzMzMz+z8AAAAAAAD4PzMzMzMzM/s/AAAAAAAA+D8AAAAAAADwPzMzMzMzM/s/ZmZmZmZm/j+amZmZmZn5P5qZmZmZmfk/AAAAAAAA+D9mZmZmZmb2P5qZmZmZmfk/mpmZmZmZ+T8AAAAAAAD4PwAAAAAAAPg/ZmZmZmZm9j8AAAAAAAD4PzMzMzMzM/M/zczMzMzM9D9mZmZmZmb2P83MzMzMzPQ/AAAAAAAA+D/NzMzMzMz0P83MzMzMzPQ/zczMzMzM9D+amZmZmZn5P2ZmZmZmZv4/ZmZmZmZm9j+amZmZmZn5P2ZmZmZmZvY/AAAAAAAA+D9mZmZmZmb2P83MzMzMzBJAAAAAAAAAEkCamZmZmZkTQAAAAAAAABBAZmZmZmZmEkAAAAAAAAASQM3MzMzMzBJAZmZmZmZmCkBmZmZmZmYSQDMzMzMzMw9AAAAAAAAADEDNzMzMzMwQQAAAAAAAABBAzczMzMzMEkDNzMzMzMwMQJqZmZmZmRFAAAAAAAAAEkBmZmZmZmYQQAAAAAAAABJAMzMzMzMzD0AzMzMzMzMTQAAAAAAAABBAmpmZmZmZE0DNzMzMzMwSQDMzMzMzMxFAmpmZmZmZEUAzMzMzMzMTQAAAAAAAABRAAAAAAAAAEkAAAAAAAAAMQGZmZmZmZg5AmpmZmZmZDUAzMzMzMzMPQGZmZmZmZhRAAAAAAAAAEkAAAAAAAAASQM3MzMzMzBJAmpmZmZmZEUBmZmZmZmYQQAAAAAAAABBAmpmZmZmZEUBmZmZmZmYSQAAAAAAAABBAZmZmZmZmCkDNzMzMzMwQQM3MzMzMzBBAzczMzMzMEEAzMzMzMzMRQAAAAAAAAAhAZmZmZmZmEEAAAAAAAAAYQGZmZmZmZhRAmpmZmZmZF0BmZmZmZmYWQDMzMzMzMxdAZmZmZmZmGkAAAAAAAAASQDMzMzMzMxlAMzMzMzMzF0BmZmZmZmYYQGZmZmZmZhRAMzMzMzMzFUAAAAAAAAAWQAAAAAAAABRAZmZmZmZmFEAzMzMzMzMVQAAAAAAAABZAzczMzMzMGkCamZmZmZkbQAAAAAAAABRAzczMzMzMFkCamZmZmZkTQM3MzMzMzBpAmpmZmZmZE0DNzMzMzMwWQAAAAAAAABhAMzMzMzMzE0CamZmZmZkTQGZmZmZmZhZAMzMzMzMzF0BmZmZmZmYYQJqZmZmZmRlAZmZmZmZmFkBmZmZmZmYUQGZmZmZmZhZAZmZmZmZmGEBmZmZmZmYWQAAAAAAAABZAMzMzMzMzE0CamZmZmZkVQGZmZmZmZhZAZmZmZmZmFEBmZmZmZmYUQJqZmZmZmRdAzczMzMzMFkDNzMzMzMwUQAAAAAAAABRAzczMzMzMFECamZmZmZkVQGZmZmZmZhRA\",\"dtype\":\"float64\",\"shape\":[150]},\"y\":{\"__ndarray__\":\"mpmZmZmZyT+amZmZmZnJP5qZmZmZmck/mpmZmZmZyT+amZmZmZnJP5qZmZmZmdk/MzMzMzMz0z+amZmZmZnJP5qZmZmZmck/mpmZmZmZuT+amZmZmZnJP5qZmZmZmck/mpmZmZmZuT+amZmZmZm5P5qZmZmZmck/mpmZmZmZ2T+amZmZmZnZPzMzMzMzM9M/MzMzMzMz0z8zMzMzMzPTP5qZmZmZmck/mpmZmZmZ2T+amZmZmZnJPwAAAAAAAOA/mpmZmZmZyT+amZmZmZnJP5qZmZmZmdk/mpmZmZmZyT+amZmZmZnJP5qZmZmZmck/mpmZmZmZyT+amZmZmZnZP5qZmZmZmbk/mpmZmZmZyT+amZmZmZnJP5qZmZmZmck/mpmZmZmZyT+amZmZmZm5P5qZmZmZmck/mpmZmZmZyT8zMzMzMzPTPzMzMzMzM9M/mpmZmZmZyT8zMzMzMzPjP5qZmZmZmdk/MzMzMzMz0z+amZmZmZnJP5qZmZmZmck/mpmZmZmZyT+amZmZmZnJP2ZmZmZmZvY/AAAAAAAA+D8AAAAAAAD4P83MzMzMzPQ/AAAAAAAA+D/NzMzMzMz0P5qZmZmZmfk/AAAAAAAA8D/NzMzMzMz0P2ZmZmZmZvY/AAAAAAAA8D8AAAAAAAD4PwAAAAAAAPA/ZmZmZmZm9j/NzMzMzMz0P2ZmZmZmZvY/AAAAAAAA+D8AAAAAAADwPwAAAAAAAPg/mpmZmZmZ8T/NzMzMzMz8P83MzMzMzPQ/AAAAAAAA+D8zMzMzMzPzP83MzMzMzPQ/ZmZmZmZm9j9mZmZmZmb2PzMzMzMzM/s/AAAAAAAA+D8AAAAAAADwP5qZmZmZmfE/AAAAAAAA8D8zMzMzMzPzP5qZmZmZmfk/AAAAAAAA+D+amZmZmZn5PwAAAAAAAPg/zczMzMzM9D/NzMzMzMz0P83MzMzMzPQ/MzMzMzMz8z9mZmZmZmb2PzMzMzMzM/M/AAAAAAAA8D/NzMzMzMz0PzMzMzMzM/M/zczMzMzM9D/NzMzMzMz0P5qZmZmZmfE/zczMzMzM9D8AAAAAAAAEQGZmZmZmZv4/zczMzMzMAEDNzMzMzMz8P5qZmZmZmQFAzczMzMzMAEAzMzMzMzP7P83MzMzMzPw/zczMzMzM/D8AAAAAAAAEQAAAAAAAAABAZmZmZmZm/j/NzMzMzMwAQAAAAAAAAABAMzMzMzMzA0BmZmZmZmYCQM3MzMzMzPw/mpmZmZmZAUBmZmZmZmYCQAAAAAAAAPg/ZmZmZmZmAkAAAAAAAAAAQAAAAAAAAABAzczMzMzM/D/NzMzMzMwAQM3MzMzMzPw/zczMzMzM/D/NzMzMzMz8P83MzMzMzABAmpmZmZmZ+T9mZmZmZmb+PwAAAAAAAABAmpmZmZmZAUAAAAAAAAD4P2ZmZmZmZvY/ZmZmZmZmAkAzMzMzMzMDQM3MzMzMzPw/zczMzMzM/D/NzMzMzMwAQDMzMzMzMwNAZmZmZmZmAkBmZmZmZmb+P2ZmZmZmZgJAAAAAAAAABEBmZmZmZmYCQGZmZmZmZv4/AAAAAAAAAEBmZmZmZmYCQM3MzMzMzPw/\",\"dtype\":\"float64\",\"shape\":[150]}},\"selected\":{\"id\":\"4873\",\"type\":\"Selection\"},\"selection_policy\":{\"id\":\"4872\",\"type\":\"UnionRenderers\"}},\"id\":\"4725\",\"type\":\"ColumnDataSource\"},{\"attributes\":{\"active_drag\":\"auto\",\"active_inspect\":\"auto\",\"active_multi\":null,\"active_scroll\":\"auto\",\"active_tap\":\"auto\",\"logo\":null,\"tools\":[{\"id\":\"4701\",\"type\":\"PanTool\"},{\"id\":\"4702\",\"type\":\"WheelZoomTool\"},{\"id\":\"4703\",\"type\":\"BoxZoomTool\"},{\"id\":\"4704\",\"type\":\"SaveTool\"},{\"id\":\"4705\",\"type\":\"ResetTool\"},{\"id\":\"4706\",\"type\":\"HelpTool\"},{\"id\":\"4714\",\"type\":\"HoverTool\"}]},\"id\":\"4707\",\"type\":\"Toolbar\"},{\"attributes\":{},\"id\":\"4701\",\"type\":\"PanTool\"},{\"attributes\":{\"axis_label\":\"Petal Length\",\"axis_label_text_color\":{\"value\":\"blue\"},\"formatter\":{\"id\":\"4867\",\"type\":\"BasicTickFormatter\"},\"major_label_text_color\":{\"value\":\"orange\"},\"minor_tick_in\":-6,\"minor_tick_line_color\":{\"value\":\"blue\"},\"ticker\":{\"id\":\"4692\",\"type\":\"BasicTicker\"}},\"id\":\"4691\",\"type\":\"LinearAxis\"},{\"attributes\":{\"dimension\":1,\"grid_line_alpha\":0.8,\"grid_line_dash\":[5,3],\"ticker\":{\"id\":\"4697\",\"type\":\"BasicTicker\"}},\"id\":\"4700\",\"type\":\"Grid\"},{\"attributes\":{\"callback\":null,\"end\":3.5},\"id\":\"4723\",\"type\":\"Range1d\"},{\"attributes\":{},\"id\":\"4689\",\"type\":\"LinearScale\"},{\"attributes\":{\"grid_line_color\":null,\"grid_line_dash\":[5,3],\"ticker\":{\"id\":\"4692\",\"type\":\"BasicTicker\"}},\"id\":\"4695\",\"type\":\"Grid\"},{\"attributes\":{},\"id\":\"4873\",\"type\":\"Selection\"},{\"attributes\":{\"overlay\":{\"id\":\"4871\",\"type\":\"BoxAnnotation\"}},\"id\":\"4703\",\"type\":\"BoxZoomTool\"},{\"attributes\":{\"num_minor_ticks\":2},\"id\":\"4697\",\"type\":\"BasicTicker\"},{\"attributes\":{\"fill_alpha\":{\"value\":0.1},\"fill_color\":{\"value\":\"#1f77b4\"},\"line_alpha\":{\"value\":0.1},\"line_color\":{\"value\":\"#1f77b4\"},\"line_dash\":[5,3],\"size\":{\"field\":\"size\",\"units\":\"screen\"},\"x\":{\"field\":\"x\"},\"y\":{\"field\":\"y\"}},\"id\":\"4727\",\"type\":\"Circle\"},{\"attributes\":{\"callback\":null,\"end\":7.5},\"id\":\"4722\",\"type\":\"Range1d\"},{\"attributes\":{\"fill_alpha\":{\"value\":0.2},\"fill_color\":{\"field\":\"fill_color\"},\"line_color\":{\"field\":\"line_color\"},\"line_dash\":[5,3],\"size\":{\"field\":\"size\",\"units\":\"screen\"},\"x\":{\"field\":\"x\"},\"y\":{\"field\":\"y\"}},\"id\":\"4726\",\"type\":\"Circle\"},{\"attributes\":{\"data_source\":{\"id\":\"4725\",\"type\":\"ColumnDataSource\"},\"glyph\":{\"id\":\"4726\",\"type\":\"Circle\"},\"hover_glyph\":null,\"muted_glyph\":null,\"nonselection_glyph\":{\"id\":\"4727\",\"type\":\"Circle\"},\"selection_glyph\":null,\"view\":{\"id\":\"4729\",\"type\":\"CDSView\"}},\"id\":\"4728\",\"type\":\"GlyphRenderer\"},{\"attributes\":{},\"id\":\"4705\",\"type\":\"ResetTool\"},{\"attributes\":{},\"id\":\"4867\",\"type\":\"BasicTickFormatter\"},{\"attributes\":{},\"id\":\"4702\",\"type\":\"WheelZoomTool\"},{\"attributes\":{},\"id\":\"4704\",\"type\":\"SaveTool\"},{\"attributes\":{\"align\":\"center\",\"text\":\"Iris Morphology\",\"text_color\":{\"value\":\"olive\"},\"text_font_size\":{\"value\":\"40px\"}},\"id\":\"4717\",\"type\":\"Title\"},{\"attributes\":{\"callback\":null},\"id\":\"4714\",\"type\":\"HoverTool\"},{\"attributes\":{},\"id\":\"4872\",\"type\":\"UnionRenderers\"},{\"attributes\":{},\"id\":\"4869\",\"type\":\"BasicTickFormatter\"},{\"attributes\":{\"axis_label\":\"Petal Width\",\"axis_label_text_color\":{\"value\":\"blue\"},\"formatter\":{\"id\":\"4869\",\"type\":\"BasicTickFormatter\"},\"major_label_text_color\":{\"value\":\"orange\"},\"minor_tick_line_color\":{\"value\":\"blue\"},\"ticker\":{\"id\":\"4697\",\"type\":\"BasicTicker\"}},\"id\":\"4696\",\"type\":\"LinearAxis\"}],\"root_ids\":[\"4682\"]},\"title\":\"Bokeh Application\",\"version\":\"1.3.4\"}};\n  var render_items = [{\"docid\":\"dc4395f1-82d5-4517-8049-6d817497ba83\",\"roots\":{\"4682\":\"45b444fd-ebc3-4006-b14d-1a8c12c8b6a1\"}}];\n  root.Bokeh.embed.embed_items_notebook(docs_json, render_items);\n\n  }\n  if (root.Bokeh !== undefined) {\n    embed_document(root);\n  } else {\n    var attempts = 0;\n    var timer = setInterval(function(root) {\n      if (root.Bokeh !== undefined) {\n        embed_document(root);\n        clearInterval(timer);\n      }\n      attempts++;\n      if (attempts > 100) {\n        console.log(\"Bokeh: ERROR: Unable to run BokehJS code because BokehJS library is missing\");\n        clearInterval(timer);\n      }\n    }, 10, root)\n  }\n})(window);",
      "application/vnd.bokehjs_exec.v0+json": ""
     },
     "metadata": {
      "application/vnd.bokehjs_exec.v0+json": {
       "id": "4682"
      }
     }
    }
   ],
   "source": [
    "\n",
    "from bokeh.plotting import figure\n",
    "from bokeh.io import output_file, show\n",
    "from bokeh.sampledata.iris import flowers\n",
    "from bokeh.models import Range1d, PanTool, ResetTool, HoverTool\n",
    "\n",
    "# prepare the output file\n",
    "\n",
    "output_file(\"iris_2.html\")\n",
    "\n",
    "# create the figure, and create a line\n",
    "\n",
    "f = figure()\n",
    "\n",
    "#Style the tools\n",
    "#f.tools = [PanTool(),ResetTool(),HoverTool()]\n",
    "f.add_tools(HoverTool())\n",
    "f.toolbar_location = 'above'\n",
    "f.toolbar.logo = None\n",
    "\n",
    "\n",
    "#stilize the background\n",
    "\n",
    "f.plot_width = 3000\n",
    "f.plot_width = 1200\n",
    "f.background_fill_color = \"olive\"\n",
    "f.background_fill_alpha=0.3\n",
    "\n",
    "#Style the title\n",
    "\n",
    "f.title.text=\"Iris Morphology\"\n",
    "f.title.text_color = \"olive\"\n",
    "f.title.text_font = \"helvetica\"\n",
    "f.title.text_font_size= \"40px\"\n",
    "f.title.align=\"center\"\n",
    "\n",
    "#style the axis\n",
    "\n",
    "f.axis.minor_tick_line_color= \"blue\"\n",
    "#f.yaxis.major_label_orientation =\"vertical\"\n",
    "f.xaxis.visible=True\n",
    "f.xaxis.minor_tick_in=-6\n",
    "f.xaxis.axis_label=\"Petal Length\"\n",
    "f.yaxis.axis_label=\"Petal Width\"\n",
    "f.axis.axis_label_text_color=\"blue\"\n",
    "f.axis.major_label_text_color=\"orange\"\n",
    "\n",
    "#Axes geometry\n",
    "f.x_range = Range1d(start=0, end=7.5)\n",
    "f.y_range = Range1d(start=0, end=3.5)\n",
    "#f.xaxis.bounds = (2, 6)\n",
    "#f.xaxis[0].ticker.desired_num_ticks = 2\n",
    "#f.yaxis[0].ticker.desired_num_ticks = 2\n",
    "f.yaxis[0].ticker.num_minor_ticks = 2\n",
    "\n",
    "\n",
    "#Style the grid\n",
    "f.xgrid.grid_line_color = None\n",
    "f.ygrid.grid_line_alpha = 0.8\n",
    "f.grid.grid_line_dash = [5,3]\n",
    "\n",
    "\n",
    "colormap={'setosa':'red', 'versicolor':'green', 'virginica':'blue'}\n",
    "flowers['color']=[colormap[x] for x in flowers['species']]\n",
    "\n",
    "#adding glyphs\n",
    "f.circle(x=flowers[\"petal_length\"], y=flowers[\"petal_width\"],\n",
    "         size=flowers['sepal_width']*4, fill_alpha=0.2, color=flowers['color'], line_dash=[5,3])\n",
    "\n",
    "\n",
    "\n",
    "show(f)\n"
   ]
  },
  {
   "cell_type": "code",
   "execution_count": 38,
   "metadata": {},
   "outputs": [
    {
     "output_type": "execute_result",
     "data": {
      "text/plain": [
       "array(['setosa', 'versicolor', 'virginica'], dtype=object)"
      ]
     },
     "metadata": {},
     "execution_count": 38
    }
   ],
   "source": [
    "flowers['species'].unique()"
   ]
  },
  {
   "cell_type": "code",
   "execution_count": 39,
   "metadata": {
    "id": "MjZkuqH0hTyJ"
   },
   "outputs": [],
   "source": [
    "colormap = {'setosa':'red','versicolor':'green','virginica':'blue'}\n",
    "flowers['color'] = [colormap[x] for x in flowers['species']]"
   ]
  },
  {
   "cell_type": "code",
   "execution_count": null,
   "metadata": {},
   "outputs": [],
   "source": []
  },
  {
   "cell_type": "markdown",
   "metadata": {
    "id": "QQHCRVXMhTyL"
   },
   "source": [
    "# Configuring the legend"
   ]
  },
  {
   "cell_type": "code",
   "execution_count": 41,
   "metadata": {
    "id": "2wWu9-d2hTyM"
   },
   "outputs": [
    {
     "output_type": "stream",
     "name": "stdout",
     "text": [
      "1.3.4\n"
     ]
    }
   ],
   "source": [
    "print(bokeh.__version__)"
   ]
  },
  {
   "cell_type": "code",
   "execution_count": 42,
   "metadata": {
    "id": "2XmATtFUhTyO",
    "outputId": "9a16d6c0-356f-4e90-cddf-a3cc3da339b5"
   },
   "outputs": [
    {
     "output_type": "display_data",
     "data": {
      "text/html": "\n\n\n\n\n\n  <div class=\"bk-root\" id=\"db5188f3-efc4-4eb1-aa31-daa8f2cf3d9a\" data-root-id=\"5019\"></div>\n"
     },
     "metadata": {}
    },
    {
     "output_type": "display_data",
     "data": {
      "application/javascript": "(function(root) {\n  function embed_document(root) {\n    \n  var docs_json = {\"949a7e05-c0ee-4340-9446-d1b5d020a9ec\":{\"roots\":{\"references\":[{\"attributes\":{\"background_fill_alpha\":{\"value\":0.3},\"background_fill_color\":{\"value\":\"olive\"},\"below\":[{\"id\":\"5028\",\"type\":\"LinearAxis\"}],\"center\":[{\"id\":\"5032\",\"type\":\"Grid\"},{\"id\":\"5037\",\"type\":\"Grid\"},{\"id\":\"5074\",\"type\":\"Legend\"}],\"left\":[{\"id\":\"5033\",\"type\":\"LinearAxis\"}],\"plot_width\":1200,\"renderers\":[{\"id\":\"5065\",\"type\":\"GlyphRenderer\"},{\"id\":\"5079\",\"type\":\"GlyphRenderer\"},{\"id\":\"5094\",\"type\":\"GlyphRenderer\"}],\"title\":{\"id\":\"5054\",\"type\":\"Title\"},\"toolbar\":{\"id\":\"5044\",\"type\":\"Toolbar\"},\"x_range\":{\"id\":\"5059\",\"type\":\"Range1d\"},\"x_scale\":{\"id\":\"5024\",\"type\":\"LinearScale\"},\"y_range\":{\"id\":\"5060\",\"type\":\"Range1d\"},\"y_scale\":{\"id\":\"5026\",\"type\":\"LinearScale\"}},\"id\":\"5019\",\"subtype\":\"Figure\",\"type\":\"Plot\"},{\"attributes\":{\"background_fill_alpha\":{\"value\":0},\"items\":[{\"id\":\"5075\",\"type\":\"LegendItem\"},{\"id\":\"5090\",\"type\":\"LegendItem\"},{\"id\":\"5107\",\"type\":\"LegendItem\"}],\"label_text_color\":{\"value\":\"olive\"},\"location\":\"top_left\",\"margin\":15,\"padding\":18},\"id\":\"5074\",\"type\":\"Legend\"},{\"attributes\":{\"align\":\"center\",\"text\":\"Iris Morphology\",\"text_color\":{\"value\":\"olive\"},\"text_font_size\":{\"value\":\"40px\"}},\"id\":\"5054\",\"type\":\"Title\"},{\"attributes\":{\"callback\":null},\"id\":\"5051\",\"type\":\"HoverTool\"},{\"attributes\":{},\"id\":\"5071\",\"type\":\"BasicTickFormatter\"},{\"attributes\":{\"fill_alpha\":{\"value\":0.2},\"fill_color\":{\"field\":\"fill_color\"},\"line_color\":{\"field\":\"line_color\"},\"line_dash\":[5,3],\"size\":{\"field\":\"size\",\"units\":\"screen\"},\"x\":{\"field\":\"x\"},\"y\":{\"field\":\"y\"}},\"id\":\"5092\",\"type\":\"Circle\"},{\"attributes\":{\"fill_alpha\":{\"value\":0.1},\"fill_color\":{\"value\":\"#1f77b4\"},\"line_alpha\":{\"value\":0.1},\"line_color\":{\"value\":\"#1f77b4\"},\"line_dash\":[5,3],\"size\":{\"field\":\"size\",\"units\":\"screen\"},\"x\":{\"field\":\"x\"},\"y\":{\"field\":\"y\"}},\"id\":\"5078\",\"type\":\"Circle\"},{\"attributes\":{\"fill_alpha\":{\"value\":0.1},\"fill_color\":{\"value\":\"#1f77b4\"},\"line_alpha\":{\"value\":0.1},\"line_color\":{\"value\":\"#1f77b4\"},\"line_dash\":[5,3],\"size\":{\"field\":\"size\",\"units\":\"screen\"},\"x\":{\"field\":\"x\"},\"y\":{\"field\":\"y\"}},\"id\":\"5093\",\"type\":\"Circle\"},{\"attributes\":{\"fill_alpha\":{\"value\":0.2},\"fill_color\":{\"field\":\"fill_color\"},\"line_color\":{\"field\":\"line_color\"},\"line_dash\":[5,3],\"size\":{\"field\":\"size\",\"units\":\"screen\"},\"x\":{\"field\":\"x\"},\"y\":{\"field\":\"y\"}},\"id\":\"5063\",\"type\":\"Circle\"},{\"attributes\":{},\"id\":\"5024\",\"type\":\"LinearScale\"},{\"attributes\":{},\"id\":\"5041\",\"type\":\"SaveTool\"},{\"attributes\":{\"data_source\":{\"id\":\"5091\",\"type\":\"ColumnDataSource\"},\"glyph\":{\"id\":\"5092\",\"type\":\"Circle\"},\"hover_glyph\":null,\"muted_glyph\":null,\"nonselection_glyph\":{\"id\":\"5093\",\"type\":\"Circle\"},\"selection_glyph\":null,\"view\":{\"id\":\"5095\",\"type\":\"CDSView\"}},\"id\":\"5094\",\"type\":\"GlyphRenderer\"},{\"attributes\":{},\"id\":\"5042\",\"type\":\"ResetTool\"},{\"attributes\":{},\"id\":\"5264\",\"type\":\"Selection\"},{\"attributes\":{},\"id\":\"5026\",\"type\":\"LinearScale\"},{\"attributes\":{\"label\":{\"value\":\"Setosa\"},\"renderers\":[{\"id\":\"5065\",\"type\":\"GlyphRenderer\"}]},\"id\":\"5075\",\"type\":\"LegendItem\"},{\"attributes\":{\"label\":{\"value\":\"Versicolor\"},\"renderers\":[{\"id\":\"5079\",\"type\":\"GlyphRenderer\"}]},\"id\":\"5090\",\"type\":\"LegendItem\"},{\"attributes\":{\"source\":{\"id\":\"5062\",\"type\":\"ColumnDataSource\"}},\"id\":\"5066\",\"type\":\"CDSView\"},{\"attributes\":{\"callback\":null,\"data\":{\"fill_color\":[\"red\",\"red\",\"red\",\"red\",\"red\",\"red\",\"red\",\"red\",\"red\",\"red\",\"red\",\"red\",\"red\",\"red\",\"red\",\"red\",\"red\",\"red\",\"red\",\"red\",\"red\",\"red\",\"red\",\"red\",\"red\",\"red\",\"red\",\"red\",\"red\",\"red\",\"red\",\"red\",\"red\",\"red\",\"red\",\"red\",\"red\",\"red\",\"red\",\"red\",\"red\",\"red\",\"red\",\"red\",\"red\",\"red\",\"red\",\"red\",\"red\",\"red\"],\"line_color\":[\"red\",\"red\",\"red\",\"red\",\"red\",\"red\",\"red\",\"red\",\"red\",\"red\",\"red\",\"red\",\"red\",\"red\",\"red\",\"red\",\"red\",\"red\",\"red\",\"red\",\"red\",\"red\",\"red\",\"red\",\"red\",\"red\",\"red\",\"red\",\"red\",\"red\",\"red\",\"red\",\"red\",\"red\",\"red\",\"red\",\"red\",\"red\",\"red\",\"red\",\"red\",\"red\",\"red\",\"red\",\"red\",\"red\",\"red\",\"red\",\"red\",\"red\"],\"size\":{\"__ndarray__\":\"AAAAAAAALEAAAAAAAAAoQJqZmZmZmSlAzczMzMzMKEDNzMzMzMwsQDMzMzMzMy9AMzMzMzMzK0AzMzMzMzMrQDMzMzMzMydAzczMzMzMKECamZmZmZktQDMzMzMzMytAAAAAAAAAKEAAAAAAAAAoQAAAAAAAADBAmpmZmZmZMUAzMzMzMzMvQAAAAAAAACxAZmZmZmZmLkBmZmZmZmYuQDMzMzMzMytAmpmZmZmZLUDNzMzMzMwsQGZmZmZmZipAMzMzMzMzK0AAAAAAAAAoQDMzMzMzMytAAAAAAAAALEAzMzMzMzMrQJqZmZmZmSlAzczMzMzMKEAzMzMzMzMrQGZmZmZmZjBAzczMzMzMMEDNzMzMzMwoQJqZmZmZmSlAAAAAAAAALEDNzMzMzMwsQAAAAAAAAChAMzMzMzMzK0AAAAAAAAAsQGZmZmZmZiJAmpmZmZmZKUAAAAAAAAAsQGZmZmZmZi5AAAAAAAAAKEBmZmZmZmYuQJqZmZmZmSlAmpmZmZmZLUBmZmZmZmYqQA==\",\"dtype\":\"float64\",\"shape\":[50]},\"x\":{\"__ndarray__\":\"ZmZmZmZm9j9mZmZmZmb2P83MzMzMzPQ/AAAAAAAA+D9mZmZmZmb2PzMzMzMzM/s/ZmZmZmZm9j8AAAAAAAD4P2ZmZmZmZvY/AAAAAAAA+D8AAAAAAAD4P5qZmZmZmfk/ZmZmZmZm9j+amZmZmZnxPzMzMzMzM/M/AAAAAAAA+D/NzMzMzMz0P2ZmZmZmZvY/MzMzMzMz+z8AAAAAAAD4PzMzMzMzM/s/AAAAAAAA+D8AAAAAAADwPzMzMzMzM/s/ZmZmZmZm/j+amZmZmZn5P5qZmZmZmfk/AAAAAAAA+D9mZmZmZmb2P5qZmZmZmfk/mpmZmZmZ+T8AAAAAAAD4PwAAAAAAAPg/ZmZmZmZm9j8AAAAAAAD4PzMzMzMzM/M/zczMzMzM9D9mZmZmZmb2P83MzMzMzPQ/AAAAAAAA+D/NzMzMzMz0P83MzMzMzPQ/zczMzMzM9D+amZmZmZn5P2ZmZmZmZv4/ZmZmZmZm9j+amZmZmZn5P2ZmZmZmZvY/AAAAAAAA+D9mZmZmZmb2Pw==\",\"dtype\":\"float64\",\"shape\":[50]},\"y\":{\"__ndarray__\":\"mpmZmZmZyT+amZmZmZnJP5qZmZmZmck/mpmZmZmZyT+amZmZmZnJP5qZmZmZmdk/MzMzMzMz0z+amZmZmZnJP5qZmZmZmck/mpmZmZmZuT+amZmZmZnJP5qZmZmZmck/mpmZmZmZuT+amZmZmZm5P5qZmZmZmck/mpmZmZmZ2T+amZmZmZnZPzMzMzMzM9M/MzMzMzMz0z8zMzMzMzPTP5qZmZmZmck/mpmZmZmZ2T+amZmZmZnJPwAAAAAAAOA/mpmZmZmZyT+amZmZmZnJP5qZmZmZmdk/mpmZmZmZyT+amZmZmZnJP5qZmZmZmck/mpmZmZmZyT+amZmZmZnZP5qZmZmZmbk/mpmZmZmZyT+amZmZmZnJP5qZmZmZmck/mpmZmZmZyT+amZmZmZm5P5qZmZmZmck/mpmZmZmZyT8zMzMzMzPTPzMzMzMzM9M/mpmZmZmZyT8zMzMzMzPjP5qZmZmZmdk/MzMzMzMz0z+amZmZmZnJP5qZmZmZmck/mpmZmZmZyT+amZmZmZnJPw==\",\"dtype\":\"float64\",\"shape\":[50]}},\"selected\":{\"id\":\"5089\",\"type\":\"Selection\"},\"selection_policy\":{\"id\":\"5088\",\"type\":\"UnionRenderers\"}},\"id\":\"5062\",\"type\":\"ColumnDataSource\"},{\"attributes\":{\"bottom_units\":\"screen\",\"fill_alpha\":{\"value\":0.5},\"fill_color\":{\"value\":\"lightgrey\"},\"left_units\":\"screen\",\"level\":\"overlay\",\"line_alpha\":{\"value\":1.0},\"line_color\":{\"value\":\"black\"},\"line_dash\":[4,4],\"line_width\":{\"value\":2},\"render_mode\":\"css\",\"right_units\":\"screen\",\"top_units\":\"screen\"},\"id\":\"5073\",\"type\":\"BoxAnnotation\"},{\"attributes\":{},\"id\":\"5088\",\"type\":\"UnionRenderers\"},{\"attributes\":{\"grid_line_color\":null,\"grid_line_dash\":[5,3],\"ticker\":{\"id\":\"5029\",\"type\":\"BasicTicker\"}},\"id\":\"5032\",\"type\":\"Grid\"},{\"attributes\":{},\"id\":\"5043\",\"type\":\"HelpTool\"},{\"attributes\":{},\"id\":\"5029\",\"type\":\"BasicTicker\"},{\"attributes\":{\"axis_label\":\"Petal Width\",\"axis_label_text_color\":{\"value\":\"blue\"},\"formatter\":{\"id\":\"5071\",\"type\":\"BasicTickFormatter\"},\"major_label_text_color\":{\"value\":\"orange\"},\"minor_tick_line_color\":{\"value\":\"blue\"},\"ticker\":{\"id\":\"5034\",\"type\":\"BasicTicker\"}},\"id\":\"5033\",\"type\":\"LinearAxis\"},{\"attributes\":{\"data_source\":{\"id\":\"5076\",\"type\":\"ColumnDataSource\"},\"glyph\":{\"id\":\"5077\",\"type\":\"Circle\"},\"hover_glyph\":null,\"muted_glyph\":null,\"nonselection_glyph\":{\"id\":\"5078\",\"type\":\"Circle\"},\"selection_glyph\":null,\"view\":{\"id\":\"5080\",\"type\":\"CDSView\"}},\"id\":\"5079\",\"type\":\"GlyphRenderer\"},{\"attributes\":{},\"id\":\"5263\",\"type\":\"UnionRenderers\"},{\"attributes\":{\"callback\":null,\"data\":{\"fill_color\":[\"green\",\"green\",\"green\",\"green\",\"green\",\"green\",\"green\",\"green\",\"green\",\"green\",\"green\",\"green\",\"green\",\"green\",\"green\",\"green\",\"green\",\"green\",\"green\",\"green\",\"green\",\"green\",\"green\",\"green\",\"green\",\"green\",\"green\",\"green\",\"green\",\"green\",\"green\",\"green\",\"green\",\"green\",\"green\",\"green\",\"green\",\"green\",\"green\",\"green\",\"green\",\"green\",\"green\",\"green\",\"green\",\"green\",\"green\",\"green\",\"green\",\"green\"],\"line_color\":[\"green\",\"green\",\"green\",\"green\",\"green\",\"green\",\"green\",\"green\",\"green\",\"green\",\"green\",\"green\",\"green\",\"green\",\"green\",\"green\",\"green\",\"green\",\"green\",\"green\",\"green\",\"green\",\"green\",\"green\",\"green\",\"green\",\"green\",\"green\",\"green\",\"green\",\"green\",\"green\",\"green\",\"green\",\"green\",\"green\",\"green\",\"green\",\"green\",\"green\",\"green\",\"green\",\"green\",\"green\",\"green\",\"green\",\"green\",\"green\",\"green\",\"green\"],\"size\":{\"__ndarray__\":\"mpmZmZmZKUCamZmZmZkpQM3MzMzMzChAZmZmZmZmIkBmZmZmZmYmQGZmZmZmZiZAZmZmZmZmKkAzMzMzMzMjQDMzMzMzMydAmpmZmZmZJUAAAAAAAAAgQAAAAAAAAChAmpmZmZmZIUAzMzMzMzMnQDMzMzMzMydAzczMzMzMKEAAAAAAAAAoQJqZmZmZmSVAmpmZmZmZIUAAAAAAAAAkQJqZmZmZmSlAZmZmZmZmJkAAAAAAAAAkQGZmZmZmZiZAMzMzMzMzJ0AAAAAAAAAoQGZmZmZmZiZAAAAAAAAAKEAzMzMzMzMnQM3MzMzMzCRAMzMzMzMzI0AzMzMzMzMjQJqZmZmZmSVAmpmZmZmZJUAAAAAAAAAoQDMzMzMzMytAzczMzMzMKEBmZmZmZmYiQAAAAAAAAChAAAAAAAAAJEDNzMzMzMwkQAAAAAAAAChAzczMzMzMJEBmZmZmZmYiQJqZmZmZmSVAAAAAAAAAKEAzMzMzMzMnQDMzMzMzMydAAAAAAAAAJEBmZmZmZmYmQA==\",\"dtype\":\"float64\",\"shape\":[50]},\"x\":{\"__ndarray__\":\"zczMzMzMEkAAAAAAAAASQJqZmZmZmRNAAAAAAAAAEEBmZmZmZmYSQAAAAAAAABJAzczMzMzMEkBmZmZmZmYKQGZmZmZmZhJAMzMzMzMzD0AAAAAAAAAMQM3MzMzMzBBAAAAAAAAAEEDNzMzMzMwSQM3MzMzMzAxAmpmZmZmZEUAAAAAAAAASQGZmZmZmZhBAAAAAAAAAEkAzMzMzMzMPQDMzMzMzMxNAAAAAAAAAEECamZmZmZkTQM3MzMzMzBJAMzMzMzMzEUCamZmZmZkRQDMzMzMzMxNAAAAAAAAAFEAAAAAAAAASQAAAAAAAAAxAZmZmZmZmDkCamZmZmZkNQDMzMzMzMw9AZmZmZmZmFEAAAAAAAAASQAAAAAAAABJAzczMzMzMEkCamZmZmZkRQGZmZmZmZhBAAAAAAAAAEECamZmZmZkRQGZmZmZmZhJAAAAAAAAAEEBmZmZmZmYKQM3MzMzMzBBAzczMzMzMEEDNzMzMzMwQQDMzMzMzMxFAAAAAAAAACEBmZmZmZmYQQA==\",\"dtype\":\"float64\",\"shape\":[50]},\"y\":{\"__ndarray__\":\"ZmZmZmZm9j8AAAAAAAD4PwAAAAAAAPg/zczMzMzM9D8AAAAAAAD4P83MzMzMzPQ/mpmZmZmZ+T8AAAAAAADwP83MzMzMzPQ/ZmZmZmZm9j8AAAAAAADwPwAAAAAAAPg/AAAAAAAA8D9mZmZmZmb2P83MzMzMzPQ/ZmZmZmZm9j8AAAAAAAD4PwAAAAAAAPA/AAAAAAAA+D+amZmZmZnxP83MzMzMzPw/zczMzMzM9D8AAAAAAAD4PzMzMzMzM/M/zczMzMzM9D9mZmZmZmb2P2ZmZmZmZvY/MzMzMzMz+z8AAAAAAAD4PwAAAAAAAPA/mpmZmZmZ8T8AAAAAAADwPzMzMzMzM/M/mpmZmZmZ+T8AAAAAAAD4P5qZmZmZmfk/AAAAAAAA+D/NzMzMzMz0P83MzMzMzPQ/zczMzMzM9D8zMzMzMzPzP2ZmZmZmZvY/MzMzMzMz8z8AAAAAAADwP83MzMzMzPQ/MzMzMzMz8z/NzMzMzMz0P83MzMzMzPQ/mpmZmZmZ8T/NzMzMzMz0Pw==\",\"dtype\":\"float64\",\"shape\":[50]}},\"selected\":{\"id\":\"5106\",\"type\":\"Selection\"},\"selection_policy\":{\"id\":\"5105\",\"type\":\"UnionRenderers\"}},\"id\":\"5076\",\"type\":\"ColumnDataSource\"},{\"attributes\":{\"axis_label\":\"Petal Length\",\"axis_label_text_color\":{\"value\":\"blue\"},\"formatter\":{\"id\":\"5069\",\"type\":\"BasicTickFormatter\"},\"major_label_text_color\":{\"value\":\"orange\"},\"minor_tick_in\":-6,\"minor_tick_line_color\":{\"value\":\"blue\"},\"ticker\":{\"id\":\"5029\",\"type\":\"BasicTicker\"}},\"id\":\"5028\",\"type\":\"LinearAxis\"},{\"attributes\":{},\"id\":\"5038\",\"type\":\"PanTool\"},{\"attributes\":{},\"id\":\"5106\",\"type\":\"Selection\"},{\"attributes\":{\"fill_alpha\":{\"value\":0.1},\"fill_color\":{\"value\":\"#1f77b4\"},\"line_alpha\":{\"value\":0.1},\"line_color\":{\"value\":\"#1f77b4\"},\"line_dash\":[5,3],\"size\":{\"field\":\"size\",\"units\":\"screen\"},\"x\":{\"field\":\"x\"},\"y\":{\"field\":\"y\"}},\"id\":\"5064\",\"type\":\"Circle\"},{\"attributes\":{\"fill_alpha\":{\"value\":0.2},\"fill_color\":{\"field\":\"fill_color\"},\"line_color\":{\"field\":\"line_color\"},\"line_dash\":[5,3],\"size\":{\"field\":\"size\",\"units\":\"screen\"},\"x\":{\"field\":\"x\"},\"y\":{\"field\":\"y\"}},\"id\":\"5077\",\"type\":\"Circle\"},{\"attributes\":{\"data_source\":{\"id\":\"5062\",\"type\":\"ColumnDataSource\"},\"glyph\":{\"id\":\"5063\",\"type\":\"Circle\"},\"hover_glyph\":null,\"muted_glyph\":null,\"nonselection_glyph\":{\"id\":\"5064\",\"type\":\"Circle\"},\"selection_glyph\":null,\"view\":{\"id\":\"5066\",\"type\":\"CDSView\"}},\"id\":\"5065\",\"type\":\"GlyphRenderer\"},{\"attributes\":{},\"id\":\"5105\",\"type\":\"UnionRenderers\"},{\"attributes\":{\"callback\":null,\"end\":3.5},\"id\":\"5060\",\"type\":\"Range1d\"},{\"attributes\":{\"source\":{\"id\":\"5091\",\"type\":\"ColumnDataSource\"}},\"id\":\"5095\",\"type\":\"CDSView\"},{\"attributes\":{\"overlay\":{\"id\":\"5073\",\"type\":\"BoxAnnotation\"}},\"id\":\"5040\",\"type\":\"BoxZoomTool\"},{\"attributes\":{\"active_drag\":\"auto\",\"active_inspect\":\"auto\",\"active_multi\":null,\"active_scroll\":\"auto\",\"active_tap\":\"auto\",\"logo\":null,\"tools\":[{\"id\":\"5038\",\"type\":\"PanTool\"},{\"id\":\"5039\",\"type\":\"WheelZoomTool\"},{\"id\":\"5040\",\"type\":\"BoxZoomTool\"},{\"id\":\"5041\",\"type\":\"SaveTool\"},{\"id\":\"5042\",\"type\":\"ResetTool\"},{\"id\":\"5043\",\"type\":\"HelpTool\"},{\"id\":\"5051\",\"type\":\"HoverTool\"}]},\"id\":\"5044\",\"type\":\"Toolbar\"},{\"attributes\":{\"callback\":null,\"end\":10},\"id\":\"5059\",\"type\":\"Range1d\"},{\"attributes\":{\"num_minor_ticks\":2},\"id\":\"5034\",\"type\":\"BasicTicker\"},{\"attributes\":{\"label\":{\"value\":\"Virginica\"},\"renderers\":[{\"id\":\"5094\",\"type\":\"GlyphRenderer\"}]},\"id\":\"5107\",\"type\":\"LegendItem\"},{\"attributes\":{\"source\":{\"id\":\"5076\",\"type\":\"ColumnDataSource\"}},\"id\":\"5080\",\"type\":\"CDSView\"},{\"attributes\":{},\"id\":\"5039\",\"type\":\"WheelZoomTool\"},{\"attributes\":{\"callback\":null,\"data\":{\"fill_color\":[\"blue\",\"blue\",\"blue\",\"blue\",\"blue\",\"blue\",\"blue\",\"blue\",\"blue\",\"blue\",\"blue\",\"blue\",\"blue\",\"blue\",\"blue\",\"blue\",\"blue\",\"blue\",\"blue\",\"blue\",\"blue\",\"blue\",\"blue\",\"blue\",\"blue\",\"blue\",\"blue\",\"blue\",\"blue\",\"blue\",\"blue\",\"blue\",\"blue\",\"blue\",\"blue\",\"blue\",\"blue\",\"blue\",\"blue\",\"blue\",\"blue\",\"blue\",\"blue\",\"blue\",\"blue\",\"blue\",\"blue\",\"blue\",\"blue\",\"blue\"],\"line_color\":[\"blue\",\"blue\",\"blue\",\"blue\",\"blue\",\"blue\",\"blue\",\"blue\",\"blue\",\"blue\",\"blue\",\"blue\",\"blue\",\"blue\",\"blue\",\"blue\",\"blue\",\"blue\",\"blue\",\"blue\",\"blue\",\"blue\",\"blue\",\"blue\",\"blue\",\"blue\",\"blue\",\"blue\",\"blue\",\"blue\",\"blue\",\"blue\",\"blue\",\"blue\",\"blue\",\"blue\",\"blue\",\"blue\",\"blue\",\"blue\",\"blue\",\"blue\",\"blue\",\"blue\",\"blue\",\"blue\",\"blue\",\"blue\",\"blue\",\"blue\"],\"size\":{\"__ndarray__\":\"ZmZmZmZmKkCamZmZmZklQAAAAAAAAChAMzMzMzMzJ0AAAAAAAAAoQAAAAAAAAChAAAAAAAAAJEAzMzMzMzMnQAAAAAAAACRAzczMzMzMLECamZmZmZkpQJqZmZmZmSVAAAAAAAAAKEAAAAAAAAAkQGZmZmZmZiZAmpmZmZmZKUAAAAAAAAAoQGZmZmZmZi5AzczMzMzMJECamZmZmZkhQJqZmZmZmSlAZmZmZmZmJkBmZmZmZmYmQJqZmZmZmSVAZmZmZmZmKkCamZmZmZkpQGZmZmZmZiZAAAAAAAAAKEBmZmZmZmYmQAAAAAAAAChAZmZmZmZmJkBmZmZmZmYuQGZmZmZmZiZAZmZmZmZmJkDNzMzMzMwkQAAAAAAAAChAMzMzMzMzK0DNzMzMzMwoQAAAAAAAAChAzczMzMzMKEDNzMzMzMwoQM3MzMzMzChAmpmZmZmZJUCamZmZmZkpQGZmZmZmZipAAAAAAAAAKEAAAAAAAAAkQAAAAAAAAChAMzMzMzMzK0AAAAAAAAAoQA==\",\"dtype\":\"float64\",\"shape\":[50]},\"x\":{\"__ndarray__\":\"AAAAAAAAGEBmZmZmZmYUQJqZmZmZmRdAZmZmZmZmFkAzMzMzMzMXQGZmZmZmZhpAAAAAAAAAEkAzMzMzMzMZQDMzMzMzMxdAZmZmZmZmGEBmZmZmZmYUQDMzMzMzMxVAAAAAAAAAFkAAAAAAAAAUQGZmZmZmZhRAMzMzMzMzFUAAAAAAAAAWQM3MzMzMzBpAmpmZmZmZG0AAAAAAAAAUQM3MzMzMzBZAmpmZmZmZE0DNzMzMzMwaQJqZmZmZmRNAzczMzMzMFkAAAAAAAAAYQDMzMzMzMxNAmpmZmZmZE0BmZmZmZmYWQDMzMzMzMxdAZmZmZmZmGECamZmZmZkZQGZmZmZmZhZAZmZmZmZmFEBmZmZmZmYWQGZmZmZmZhhAZmZmZmZmFkAAAAAAAAAWQDMzMzMzMxNAmpmZmZmZFUBmZmZmZmYWQGZmZmZmZhRAZmZmZmZmFECamZmZmZkXQM3MzMzMzBZAzczMzMzMFEAAAAAAAAAUQM3MzMzMzBRAmpmZmZmZFUBmZmZmZmYUQA==\",\"dtype\":\"float64\",\"shape\":[50]},\"y\":{\"__ndarray__\":\"AAAAAAAABEBmZmZmZmb+P83MzMzMzABAzczMzMzM/D+amZmZmZkBQM3MzMzMzABAMzMzMzMz+z/NzMzMzMz8P83MzMzMzPw/AAAAAAAABEAAAAAAAAAAQGZmZmZmZv4/zczMzMzMAEAAAAAAAAAAQDMzMzMzMwNAZmZmZmZmAkDNzMzMzMz8P5qZmZmZmQFAZmZmZmZmAkAAAAAAAAD4P2ZmZmZmZgJAAAAAAAAAAEAAAAAAAAAAQM3MzMzMzPw/zczMzMzMAEDNzMzMzMz8P83MzMzMzPw/zczMzMzM/D/NzMzMzMwAQJqZmZmZmfk/ZmZmZmZm/j8AAAAAAAAAQJqZmZmZmQFAAAAAAAAA+D9mZmZmZmb2P2ZmZmZmZgJAMzMzMzMzA0DNzMzMzMz8P83MzMzMzPw/zczMzMzMAEAzMzMzMzMDQGZmZmZmZgJAZmZmZmZm/j9mZmZmZmYCQAAAAAAAAARAZmZmZmZmAkBmZmZmZmb+PwAAAAAAAABAZmZmZmZmAkDNzMzMzMz8Pw==\",\"dtype\":\"float64\",\"shape\":[50]}},\"selected\":{\"id\":\"5264\",\"type\":\"Selection\"},\"selection_policy\":{\"id\":\"5263\",\"type\":\"UnionRenderers\"}},\"id\":\"5091\",\"type\":\"ColumnDataSource\"},{\"attributes\":{},\"id\":\"5089\",\"type\":\"Selection\"},{\"attributes\":{\"dimension\":1,\"grid_line_alpha\":0.8,\"grid_line_dash\":[5,3],\"ticker\":{\"id\":\"5034\",\"type\":\"BasicTicker\"}},\"id\":\"5037\",\"type\":\"Grid\"},{\"attributes\":{},\"id\":\"5069\",\"type\":\"BasicTickFormatter\"}],\"root_ids\":[\"5019\"]},\"title\":\"Bokeh Application\",\"version\":\"1.3.4\"}};\n  var render_items = [{\"docid\":\"949a7e05-c0ee-4340-9446-d1b5d020a9ec\",\"roots\":{\"5019\":\"db5188f3-efc4-4eb1-aa31-daa8f2cf3d9a\"}}];\n  root.Bokeh.embed.embed_items_notebook(docs_json, render_items);\n\n  }\n  if (root.Bokeh !== undefined) {\n    embed_document(root);\n  } else {\n    var attempts = 0;\n    var timer = setInterval(function(root) {\n      if (root.Bokeh !== undefined) {\n        embed_document(root);\n        clearInterval(timer);\n      }\n      attempts++;\n      if (attempts > 100) {\n        console.log(\"Bokeh: ERROR: Unable to run BokehJS code because BokehJS library is missing\");\n        clearInterval(timer);\n      }\n    }, 10, root)\n  }\n})(window);",
      "application/vnd.bokehjs_exec.v0+json": ""
     },
     "metadata": {
      "application/vnd.bokehjs_exec.v0+json": {
       "id": "5019"
      }
     }
    }
   ],
   "source": [
    "\n",
    "from bokeh.plotting import figure\n",
    "from bokeh.io import output_file, show\n",
    "from bokeh.sampledata.iris import flowers\n",
    "from bokeh.models import Range1d, PanTool, ResetTool, HoverTool\n",
    "\n",
    "# prepare the output file\n",
    "\n",
    "output_file(\"iris_3.html\")\n",
    "\n",
    "# create the figure, and create a line\n",
    "\n",
    "f = figure()\n",
    "\n",
    "#Style the tools\n",
    "#f.tools = [PanTool(),ResetTool(),HoverTool()]\n",
    "f.add_tools(HoverTool())\n",
    "#f.toolbar_location = 'above'\n",
    "f.toolbar.logo = None\n",
    "\n",
    "\n",
    "#stilize the background\n",
    "\n",
    "f.plot_width = 2000\n",
    "f.plot_width = 1200\n",
    "f.background_fill_color = \"olive\"\n",
    "f.background_fill_alpha=0.3\n",
    "\n",
    "#Style the title\n",
    "\n",
    "f.title.text=\"Iris Morphology\"\n",
    "f.title.text_color = \"olive\"\n",
    "f.title.text_font = \"helvetica\"\n",
    "f.title.text_font_size= \"40px\"\n",
    "f.title.align=\"center\"\n",
    "\n",
    "#style the axis\n",
    "\n",
    "f.axis.minor_tick_line_color= \"blue\"\n",
    "#f.yaxis.major_label_orientation =\"vertical\"\n",
    "f.xaxis.visible=True\n",
    "f.xaxis.minor_tick_in=-6\n",
    "f.xaxis.axis_label=\"Petal Length\"\n",
    "f.yaxis.axis_label=\"Petal Width\"\n",
    "f.axis.axis_label_text_color=\"blue\"\n",
    "f.axis.major_label_text_color=\"orange\"\n",
    "\n",
    "#Axes geometry\n",
    "f.x_range = Range1d(start=0, end=10)\n",
    "f.y_range = Range1d(start=0, end=3.5)\n",
    "#f.xaxis.bounds = (2, 6)\n",
    "#f.xaxis[0].ticker.desired_num_ticks = 2\n",
    "#f.yaxis[0].ticker.desired_num_ticks = 2\n",
    "f.yaxis[0].ticker.num_minor_ticks = 2\n",
    "\n",
    "\n",
    "#Style the grid\n",
    "f.xgrid.grid_line_color = None\n",
    "f.ygrid.grid_line_alpha = 0.8\n",
    "f.grid.grid_line_dash = [5,3]\n",
    "\n",
    "\n",
    "colormap={'setosa':'red', 'versicolor':'green', 'virginica':'blue'}\n",
    "flowers['color']=[colormap[x] for x in flowers['species']]\n",
    "\n",
    "#adding glyphs\n",
    "f.circle(x=flowers[\"petal_length\"][flowers[\"species\"]==\"setosa\"], \n",
    "         y=flowers[\"petal_width\"][flowers[\"species\"]==\"setosa\"], \n",
    "         size=flowers['sepal_width'][flowers[\"species\"]==\"setosa\"]*4,\n",
    "         fill_alpha=0.2,color=flowers['color'][flowers[\"species\"]==\"setosa\"],line_dash=[5,3],legend='Setosa')\n",
    "\n",
    "f.circle(x=flowers[\"petal_length\"][flowers[\"species\"]==\"versicolor\"], \n",
    "         y=flowers[\"petal_width\"][flowers[\"species\"]==\"versicolor\"],\n",
    "         size=flowers['sepal_width'][flowers[\"species\"]==\"versicolor\"]*4,\n",
    "         fill_alpha=0.2,color=flowers['color'][flowers[\"species\"]==\"versicolor\"],line_dash=[5,3],legend='Versicolor')\n",
    "\n",
    "f.circle(x=flowers[\"petal_length\"][flowers[\"species\"]==\"virginica\"], \n",
    "         y=flowers[\"petal_width\"][flowers[\"species\"]==\"virginica\"],\n",
    "         size=flowers['sepal_width'][flowers[\"species\"]==\"virginica\"]*4,\n",
    "         fill_alpha=0.2,color=flowers['color'][flowers[\"species\"]==\"virginica\"],line_dash=[5,3],legend='Virginica')\n",
    "\n",
    "#Style the legend\n",
    "f.legend.location = (575,555)\n",
    "f.legend.location = 'top_left'\n",
    "f.legend.background_fill_alpha = 0\n",
    "#f.legend.border_line_color = None\n",
    "f.legend.margin = 15\n",
    "f.legend.padding = 18\n",
    "f.legend.label_text_color = 'olive'\n",
    "f.legend.label_text_font = 'helvetica'\n",
    "\n",
    "show(f)\n"
   ]
  },
  {
   "cell_type": "code",
   "execution_count": 47,
   "metadata": {},
   "outputs": [
    {
     "output_type": "execute_result",
     "data": {
      "text/plain": [
       "['__cached_all__overridden_defaults__',\n",
       " '__cached_all__properties__',\n",
       " '__cached_all__properties_with_refs__',\n",
       " '__class__',\n",
       " '__container_props__',\n",
       " '__dataspecs__',\n",
       " '__delattr__',\n",
       " '__dict__',\n",
       " '__dir__',\n",
       " '__doc__',\n",
       " '__eq__',\n",
       " '__format__',\n",
       " '__ge__',\n",
       " '__getattribute__',\n",
       " '__gt__',\n",
       " '__hash__',\n",
       " '__init__',\n",
       " '__init_subclass__',\n",
       " '__le__',\n",
       " '__lt__',\n",
       " '__module__',\n",
       " '__ne__',\n",
       " '__new__',\n",
       " '__overridden_defaults__',\n",
       " '__properties__',\n",
       " '__properties_with_refs__',\n",
       " '__reduce__',\n",
       " '__reduce_ex__',\n",
       " '__repr__',\n",
       " '__setattr__',\n",
       " '__sizeof__',\n",
       " '__str__',\n",
       " '__subclasshook__',\n",
       " '__view_model__',\n",
       " '__weakref__',\n",
       " '_attach_document',\n",
       " '_callbacks',\n",
       " '_clear_extensions',\n",
       " '_clone',\n",
       " '_detach_document',\n",
       " '_document',\n",
       " '_event_callbacks',\n",
       " '_id',\n",
       " '_overridden_defaults',\n",
       " '_property_values',\n",
       " '_repr_html_',\n",
       " '_temp_document',\n",
       " '_to_json_like',\n",
       " '_trigger_event',\n",
       " '_unstable_default_values',\n",
       " '_unstable_themed_values',\n",
       " '_update_event_callbacks',\n",
       " 'apply_theme',\n",
       " 'background_fill_alpha',\n",
       " 'background_fill_color',\n",
       " 'border_line_alpha',\n",
       " 'border_line_cap',\n",
       " 'border_line_color',\n",
       " 'border_line_dash',\n",
       " 'border_line_dash_offset',\n",
       " 'border_line_join',\n",
       " 'border_line_width',\n",
       " 'click_policy',\n",
       " 'dataspecs',\n",
       " 'dataspecs_with_props',\n",
       " 'document',\n",
       " 'equals',\n",
       " 'glyph_height',\n",
       " 'glyph_width',\n",
       " 'id',\n",
       " 'inactive_fill_alpha',\n",
       " 'inactive_fill_color',\n",
       " 'items',\n",
       " 'js_event_callbacks',\n",
       " 'js_link',\n",
       " 'js_on_change',\n",
       " 'js_on_event',\n",
       " 'js_property_callbacks',\n",
       " 'label_height',\n",
       " 'label_standoff',\n",
       " 'label_text_align',\n",
       " 'label_text_alpha',\n",
       " 'label_text_baseline',\n",
       " 'label_text_color',\n",
       " 'label_text_font',\n",
       " 'label_text_font_size',\n",
       " 'label_text_font_style',\n",
       " 'label_text_line_height',\n",
       " 'label_width',\n",
       " 'layout',\n",
       " 'level',\n",
       " 'location',\n",
       " 'lookup',\n",
       " 'margin',\n",
       " 'name',\n",
       " 'on_change',\n",
       " 'on_event',\n",
       " 'orientation',\n",
       " 'padding',\n",
       " 'properties',\n",
       " 'properties_containers',\n",
       " 'properties_with_refs',\n",
       " 'properties_with_values',\n",
       " 'query_properties_with_values',\n",
       " 'ref',\n",
       " 'references',\n",
       " 'remove_on_change',\n",
       " 'select',\n",
       " 'select_one',\n",
       " 'set_from_json',\n",
       " 'set_select',\n",
       " 'spacing',\n",
       " 'subscribed_events',\n",
       " 'tags',\n",
       " 'themed_values',\n",
       " 'title',\n",
       " 'title_standoff',\n",
       " 'title_text_align',\n",
       " 'title_text_alpha',\n",
       " 'title_text_baseline',\n",
       " 'title_text_color',\n",
       " 'title_text_font',\n",
       " 'title_text_font_size',\n",
       " 'title_text_font_style',\n",
       " 'title_text_line_height',\n",
       " 'to_json',\n",
       " 'to_json_string',\n",
       " 'trigger',\n",
       " 'unapply_theme',\n",
       " 'update',\n",
       " 'update_from_json',\n",
       " 'visible']"
      ]
     },
     "metadata": {},
     "execution_count": 47
    }
   ],
   "source": [
    "dir(f.legend)"
   ]
  },
  {
   "cell_type": "markdown",
   "metadata": {
    "id": "f6bKFPEIhTyQ"
   },
   "source": [
    "# Hoover tool"
   ]
  },
  {
   "cell_type": "code",
   "execution_count": 49,
   "metadata": {
    "id": "9XeMt9S2hTyR",
    "outputId": "84825499-2b9c-465a-ce1b-60fc07576612"
   },
   "outputs": [
    {
     "output_type": "display_data",
     "data": {
      "text/html": "\n    <div class=\"bk-root\">\n        <a href=\"https://bokeh.pydata.org\" target=\"_blank\" class=\"bk-logo bk-logo-small bk-logo-notebook\"></a>\n        <span id=\"5930\">Loading BokehJS ...</span>\n    </div>"
     },
     "metadata": {}
    },
    {
     "output_type": "display_data",
     "data": {
      "application/javascript": "\n(function(root) {\n  function now() {\n    return new Date();\n  }\n\n  var force = true;\n\n  if (typeof root._bokeh_onload_callbacks === \"undefined\" || force === true) {\n    root._bokeh_onload_callbacks = [];\n    root._bokeh_is_loading = undefined;\n  }\n\n  var JS_MIME_TYPE = 'application/javascript';\n  var HTML_MIME_TYPE = 'text/html';\n  var EXEC_MIME_TYPE = 'application/vnd.bokehjs_exec.v0+json';\n  var CLASS_NAME = 'output_bokeh rendered_html';\n\n  /**\n   * Render data to the DOM node\n   */\n  function render(props, node) {\n    var script = document.createElement(\"script\");\n    node.appendChild(script);\n  }\n\n  /**\n   * Handle when an output is cleared or removed\n   */\n  function handleClearOutput(event, handle) {\n    var cell = handle.cell;\n\n    var id = cell.output_area._bokeh_element_id;\n    var server_id = cell.output_area._bokeh_server_id;\n    // Clean up Bokeh references\n    if (id != null && id in Bokeh.index) {\n      Bokeh.index[id].model.document.clear();\n      delete Bokeh.index[id];\n    }\n\n    if (server_id !== undefined) {\n      // Clean up Bokeh references\n      var cmd = \"from bokeh.io.state import curstate; print(curstate().uuid_to_server['\" + server_id + \"'].get_sessions()[0].document.roots[0]._id)\";\n      cell.notebook.kernel.execute(cmd, {\n        iopub: {\n          output: function(msg) {\n            var id = msg.content.text.trim();\n            if (id in Bokeh.index) {\n              Bokeh.index[id].model.document.clear();\n              delete Bokeh.index[id];\n            }\n          }\n        }\n      });\n      // Destroy server and session\n      var cmd = \"import bokeh.io.notebook as ion; ion.destroy_server('\" + server_id + \"')\";\n      cell.notebook.kernel.execute(cmd);\n    }\n  }\n\n  /**\n   * Handle when a new output is added\n   */\n  function handleAddOutput(event, handle) {\n    var output_area = handle.output_area;\n    var output = handle.output;\n\n    // limit handleAddOutput to display_data with EXEC_MIME_TYPE content only\n    if ((output.output_type != \"display_data\") || (!output.data.hasOwnProperty(EXEC_MIME_TYPE))) {\n      return\n    }\n\n    var toinsert = output_area.element.find(\".\" + CLASS_NAME.split(' ')[0]);\n\n    if (output.metadata[EXEC_MIME_TYPE][\"id\"] !== undefined) {\n      toinsert[toinsert.length - 1].firstChild.textContent = output.data[JS_MIME_TYPE];\n      // store reference to embed id on output_area\n      output_area._bokeh_element_id = output.metadata[EXEC_MIME_TYPE][\"id\"];\n    }\n    if (output.metadata[EXEC_MIME_TYPE][\"server_id\"] !== undefined) {\n      var bk_div = document.createElement(\"div\");\n      bk_div.innerHTML = output.data[HTML_MIME_TYPE];\n      var script_attrs = bk_div.children[0].attributes;\n      for (var i = 0; i < script_attrs.length; i++) {\n        toinsert[toinsert.length - 1].firstChild.setAttribute(script_attrs[i].name, script_attrs[i].value);\n      }\n      // store reference to server id on output_area\n      output_area._bokeh_server_id = output.metadata[EXEC_MIME_TYPE][\"server_id\"];\n    }\n  }\n\n  function register_renderer(events, OutputArea) {\n\n    function append_mime(data, metadata, element) {\n      // create a DOM node to render to\n      var toinsert = this.create_output_subarea(\n        metadata,\n        CLASS_NAME,\n        EXEC_MIME_TYPE\n      );\n      this.keyboard_manager.register_events(toinsert);\n      // Render to node\n      var props = {data: data, metadata: metadata[EXEC_MIME_TYPE]};\n      render(props, toinsert[toinsert.length - 1]);\n      element.append(toinsert);\n      return toinsert\n    }\n\n    /* Handle when an output is cleared or removed */\n    events.on('clear_output.CodeCell', handleClearOutput);\n    events.on('delete.Cell', handleClearOutput);\n\n    /* Handle when a new output is added */\n    events.on('output_added.OutputArea', handleAddOutput);\n\n    /**\n     * Register the mime type and append_mime function with output_area\n     */\n    OutputArea.prototype.register_mime_type(EXEC_MIME_TYPE, append_mime, {\n      /* Is output safe? */\n      safe: true,\n      /* Index of renderer in `output_area.display_order` */\n      index: 0\n    });\n  }\n\n  // register the mime type if in Jupyter Notebook environment and previously unregistered\n  if (root.Jupyter !== undefined) {\n    var events = require('base/js/events');\n    var OutputArea = require('notebook/js/outputarea').OutputArea;\n\n    if (OutputArea.prototype.mime_types().indexOf(EXEC_MIME_TYPE) == -1) {\n      register_renderer(events, OutputArea);\n    }\n  }\n\n  \n  if (typeof (root._bokeh_timeout) === \"undefined\" || force === true) {\n    root._bokeh_timeout = Date.now() + 5000;\n    root._bokeh_failed_load = false;\n  }\n\n  var NB_LOAD_WARNING = {'data': {'text/html':\n     \"<div style='background-color: #fdd'>\\n\"+\n     \"<p>\\n\"+\n     \"BokehJS does not appear to have successfully loaded. If loading BokehJS from CDN, this \\n\"+\n     \"may be due to a slow or bad network connection. Possible fixes:\\n\"+\n     \"</p>\\n\"+\n     \"<ul>\\n\"+\n     \"<li>re-rerun `output_notebook()` to attempt to load from CDN again, or</li>\\n\"+\n     \"<li>use INLINE resources instead, as so:</li>\\n\"+\n     \"</ul>\\n\"+\n     \"<code>\\n\"+\n     \"from bokeh.resources import INLINE\\n\"+\n     \"output_notebook(resources=INLINE)\\n\"+\n     \"</code>\\n\"+\n     \"</div>\"}};\n\n  function display_loaded() {\n    var el = document.getElementById(\"5930\");\n    if (el != null) {\n      el.textContent = \"BokehJS is loading...\";\n    }\n    if (root.Bokeh !== undefined) {\n      if (el != null) {\n        el.textContent = \"BokehJS \" + root.Bokeh.version + \" successfully loaded.\";\n      }\n    } else if (Date.now() < root._bokeh_timeout) {\n      setTimeout(display_loaded, 100)\n    }\n  }\n\n\n  function run_callbacks() {\n    try {\n      root._bokeh_onload_callbacks.forEach(function(callback) {\n        if (callback != null)\n          callback();\n      });\n    } finally {\n      delete root._bokeh_onload_callbacks\n    }\n    console.debug(\"Bokeh: all callbacks have finished\");\n  }\n\n  function load_libs(css_urls, js_urls, callback) {\n    if (css_urls == null) css_urls = [];\n    if (js_urls == null) js_urls = [];\n\n    root._bokeh_onload_callbacks.push(callback);\n    if (root._bokeh_is_loading > 0) {\n      console.debug(\"Bokeh: BokehJS is being loaded, scheduling callback at\", now());\n      return null;\n    }\n    if (js_urls == null || js_urls.length === 0) {\n      run_callbacks();\n      return null;\n    }\n    console.debug(\"Bokeh: BokehJS not loaded, scheduling load and callback at\", now());\n    root._bokeh_is_loading = css_urls.length + js_urls.length;\n\n    function on_load() {\n      root._bokeh_is_loading--;\n      if (root._bokeh_is_loading === 0) {\n        console.debug(\"Bokeh: all BokehJS libraries/stylesheets loaded\");\n        run_callbacks()\n      }\n    }\n\n    function on_error() {\n      console.error(\"failed to load \" + url);\n    }\n\n    for (var i = 0; i < css_urls.length; i++) {\n      var url = css_urls[i];\n      const element = document.createElement(\"link\");\n      element.onload = on_load;\n      element.onerror = on_error;\n      element.rel = \"stylesheet\";\n      element.type = \"text/css\";\n      element.href = url;\n      console.debug(\"Bokeh: injecting link tag for BokehJS stylesheet: \", url);\n      document.body.appendChild(element);\n    }\n\n    for (var i = 0; i < js_urls.length; i++) {\n      var url = js_urls[i];\n      var element = document.createElement('script');\n      element.onload = on_load;\n      element.onerror = on_error;\n      element.async = false;\n      element.src = url;\n      console.debug(\"Bokeh: injecting script tag for BokehJS library: \", url);\n      document.head.appendChild(element);\n    }\n  };var element = document.getElementById(\"5930\");\n  if (element == null) {\n    console.error(\"Bokeh: ERROR: autoload.js configured with elementid '5930' but no matching script tag was found. \")\n    return false;\n  }\n\n  function inject_raw_css(css) {\n    const element = document.createElement(\"style\");\n    element.appendChild(document.createTextNode(css));\n    document.body.appendChild(element);\n  }\n\n  var js_urls = [\"https://cdn.pydata.org/bokeh/release/bokeh-1.3.4.min.js\", \"https://cdn.pydata.org/bokeh/release/bokeh-widgets-1.3.4.min.js\", \"https://cdn.pydata.org/bokeh/release/bokeh-tables-1.3.4.min.js\", \"https://cdn.pydata.org/bokeh/release/bokeh-gl-1.3.4.min.js\"];\n  var css_urls = [];\n\n  var inline_js = [\n    function(Bokeh) {\n      Bokeh.set_log_level(\"info\");\n    },\n    \n    function(Bokeh) {\n      \n    },\n    function(Bokeh) {} // ensure no trailing comma for IE\n  ];\n\n  function run_inline_js() {\n    \n    if ((root.Bokeh !== undefined) || (force === true)) {\n      for (var i = 0; i < inline_js.length; i++) {\n        inline_js[i].call(root, root.Bokeh);\n      }if (force === true) {\n        display_loaded();\n      }} else if (Date.now() < root._bokeh_timeout) {\n      setTimeout(run_inline_js, 100);\n    } else if (!root._bokeh_failed_load) {\n      console.log(\"Bokeh: BokehJS failed to load within specified timeout.\");\n      root._bokeh_failed_load = true;\n    } else if (force !== true) {\n      var cell = $(document.getElementById(\"5930\")).parents('.cell').data().cell;\n      cell.output_area.append_execute_result(NB_LOAD_WARNING)\n    }\n\n  }\n\n  if (root._bokeh_is_loading === 0) {\n    console.debug(\"Bokeh: BokehJS loaded, going straight to plotting\");\n    run_inline_js();\n  } else {\n    load_libs(css_urls, js_urls, function() {\n      console.debug(\"Bokeh: BokehJS plotting callback run at\", now());\n      run_inline_js();\n    });\n  }\n}(window));",
      "application/vnd.bokehjs_load.v0+json": "\n(function(root) {\n  function now() {\n    return new Date();\n  }\n\n  var force = true;\n\n  if (typeof root._bokeh_onload_callbacks === \"undefined\" || force === true) {\n    root._bokeh_onload_callbacks = [];\n    root._bokeh_is_loading = undefined;\n  }\n\n  \n\n  \n  if (typeof (root._bokeh_timeout) === \"undefined\" || force === true) {\n    root._bokeh_timeout = Date.now() + 5000;\n    root._bokeh_failed_load = false;\n  }\n\n  var NB_LOAD_WARNING = {'data': {'text/html':\n     \"<div style='background-color: #fdd'>\\n\"+\n     \"<p>\\n\"+\n     \"BokehJS does not appear to have successfully loaded. If loading BokehJS from CDN, this \\n\"+\n     \"may be due to a slow or bad network connection. Possible fixes:\\n\"+\n     \"</p>\\n\"+\n     \"<ul>\\n\"+\n     \"<li>re-rerun `output_notebook()` to attempt to load from CDN again, or</li>\\n\"+\n     \"<li>use INLINE resources instead, as so:</li>\\n\"+\n     \"</ul>\\n\"+\n     \"<code>\\n\"+\n     \"from bokeh.resources import INLINE\\n\"+\n     \"output_notebook(resources=INLINE)\\n\"+\n     \"</code>\\n\"+\n     \"</div>\"}};\n\n  function display_loaded() {\n    var el = document.getElementById(\"5930\");\n    if (el != null) {\n      el.textContent = \"BokehJS is loading...\";\n    }\n    if (root.Bokeh !== undefined) {\n      if (el != null) {\n        el.textContent = \"BokehJS \" + root.Bokeh.version + \" successfully loaded.\";\n      }\n    } else if (Date.now() < root._bokeh_timeout) {\n      setTimeout(display_loaded, 100)\n    }\n  }\n\n\n  function run_callbacks() {\n    try {\n      root._bokeh_onload_callbacks.forEach(function(callback) {\n        if (callback != null)\n          callback();\n      });\n    } finally {\n      delete root._bokeh_onload_callbacks\n    }\n    console.debug(\"Bokeh: all callbacks have finished\");\n  }\n\n  function load_libs(css_urls, js_urls, callback) {\n    if (css_urls == null) css_urls = [];\n    if (js_urls == null) js_urls = [];\n\n    root._bokeh_onload_callbacks.push(callback);\n    if (root._bokeh_is_loading > 0) {\n      console.debug(\"Bokeh: BokehJS is being loaded, scheduling callback at\", now());\n      return null;\n    }\n    if (js_urls == null || js_urls.length === 0) {\n      run_callbacks();\n      return null;\n    }\n    console.debug(\"Bokeh: BokehJS not loaded, scheduling load and callback at\", now());\n    root._bokeh_is_loading = css_urls.length + js_urls.length;\n\n    function on_load() {\n      root._bokeh_is_loading--;\n      if (root._bokeh_is_loading === 0) {\n        console.debug(\"Bokeh: all BokehJS libraries/stylesheets loaded\");\n        run_callbacks()\n      }\n    }\n\n    function on_error() {\n      console.error(\"failed to load \" + url);\n    }\n\n    for (var i = 0; i < css_urls.length; i++) {\n      var url = css_urls[i];\n      const element = document.createElement(\"link\");\n      element.onload = on_load;\n      element.onerror = on_error;\n      element.rel = \"stylesheet\";\n      element.type = \"text/css\";\n      element.href = url;\n      console.debug(\"Bokeh: injecting link tag for BokehJS stylesheet: \", url);\n      document.body.appendChild(element);\n    }\n\n    for (var i = 0; i < js_urls.length; i++) {\n      var url = js_urls[i];\n      var element = document.createElement('script');\n      element.onload = on_load;\n      element.onerror = on_error;\n      element.async = false;\n      element.src = url;\n      console.debug(\"Bokeh: injecting script tag for BokehJS library: \", url);\n      document.head.appendChild(element);\n    }\n  };var element = document.getElementById(\"5930\");\n  if (element == null) {\n    console.error(\"Bokeh: ERROR: autoload.js configured with elementid '5930' but no matching script tag was found. \")\n    return false;\n  }\n\n  function inject_raw_css(css) {\n    const element = document.createElement(\"style\");\n    element.appendChild(document.createTextNode(css));\n    document.body.appendChild(element);\n  }\n\n  var js_urls = [\"https://cdn.pydata.org/bokeh/release/bokeh-1.3.4.min.js\", \"https://cdn.pydata.org/bokeh/release/bokeh-widgets-1.3.4.min.js\", \"https://cdn.pydata.org/bokeh/release/bokeh-tables-1.3.4.min.js\", \"https://cdn.pydata.org/bokeh/release/bokeh-gl-1.3.4.min.js\"];\n  var css_urls = [];\n\n  var inline_js = [\n    function(Bokeh) {\n      Bokeh.set_log_level(\"info\");\n    },\n    \n    function(Bokeh) {\n      \n    },\n    function(Bokeh) {} // ensure no trailing comma for IE\n  ];\n\n  function run_inline_js() {\n    \n    if ((root.Bokeh !== undefined) || (force === true)) {\n      for (var i = 0; i < inline_js.length; i++) {\n        inline_js[i].call(root, root.Bokeh);\n      }if (force === true) {\n        display_loaded();\n      }} else if (Date.now() < root._bokeh_timeout) {\n      setTimeout(run_inline_js, 100);\n    } else if (!root._bokeh_failed_load) {\n      console.log(\"Bokeh: BokehJS failed to load within specified timeout.\");\n      root._bokeh_failed_load = true;\n    } else if (force !== true) {\n      var cell = $(document.getElementById(\"5930\")).parents('.cell').data().cell;\n      cell.output_area.append_execute_result(NB_LOAD_WARNING)\n    }\n\n  }\n\n  if (root._bokeh_is_loading === 0) {\n    console.debug(\"Bokeh: BokehJS loaded, going straight to plotting\");\n    run_inline_js();\n  } else {\n    load_libs(css_urls, js_urls, function() {\n      console.debug(\"Bokeh: BokehJS plotting callback run at\", now());\n      run_inline_js();\n    });\n  }\n}(window));"
     },
     "metadata": {}
    },
    {
     "output_type": "display_data",
     "data": {
      "text/html": "\n\n\n\n\n\n  <div class=\"bk-root\" id=\"728d885c-9c37-4f16-b20c-7860b808fb3e\" data-root-id=\"5931\"></div>\n"
     },
     "metadata": {}
    },
    {
     "output_type": "display_data",
     "data": {
      "application/javascript": "(function(root) {\n  function embed_document(root) {\n    \n  var docs_json = {\"5ef4438d-4d9f-4cae-9c4b-3b263a7e65b3\":{\"roots\":{\"references\":[{\"attributes\":{\"background_fill_alpha\":{\"value\":0.3},\"background_fill_color\":{\"value\":\"olive\"},\"below\":[{\"id\":\"5940\",\"type\":\"LinearAxis\"}],\"center\":[{\"id\":\"5944\",\"type\":\"Grid\"},{\"id\":\"5949\",\"type\":\"Grid\"},{\"id\":\"5988\",\"type\":\"Legend\"}],\"left\":[{\"id\":\"5945\",\"type\":\"LinearAxis\"}],\"plot_width\":1200,\"renderers\":[{\"id\":\"5980\",\"type\":\"GlyphRenderer\"},{\"id\":\"5993\",\"type\":\"GlyphRenderer\"},{\"id\":\"6007\",\"type\":\"GlyphRenderer\"}],\"title\":{\"id\":\"5969\",\"type\":\"Title\"},\"toolbar\":{\"id\":\"5956\",\"type\":\"Toolbar\"},\"toolbar_location\":\"above\",\"x_range\":{\"id\":\"5974\",\"type\":\"Range1d\"},\"x_scale\":{\"id\":\"5936\",\"type\":\"LinearScale\"},\"y_range\":{\"id\":\"5975\",\"type\":\"Range1d\"},\"y_scale\":{\"id\":\"5938\",\"type\":\"LinearScale\"}},\"id\":\"5931\",\"subtype\":\"Figure\",\"type\":\"Plot\"},{\"attributes\":{\"fill_alpha\":{\"value\":0.1},\"fill_color\":{\"value\":\"#1f77b4\"},\"line_alpha\":{\"value\":0.1},\"line_color\":{\"value\":\"#1f77b4\"},\"line_dash\":[5,3],\"size\":{\"field\":\"size\",\"units\":\"screen\"},\"x\":{\"field\":\"x\"},\"y\":{\"field\":\"y\"}},\"id\":\"5979\",\"type\":\"Circle\"},{\"attributes\":{\"callback\":null,\"end\":3.5},\"id\":\"5975\",\"type\":\"Range1d\"},{\"attributes\":{\"axis_label\":\"Petal Length\",\"axis_label_text_color\":{\"value\":\"blue\"},\"formatter\":{\"id\":\"5984\",\"type\":\"BasicTickFormatter\"},\"major_label_text_color\":{\"value\":\"orange\"},\"minor_tick_in\":-6,\"minor_tick_line_color\":{\"value\":\"blue\"},\"ticker\":{\"id\":\"5941\",\"type\":\"BasicTicker\"}},\"id\":\"5940\",\"type\":\"LinearAxis\"},{\"attributes\":{},\"id\":\"5986\",\"type\":\"BasicTickFormatter\"},{\"attributes\":{\"num_minor_ticks\":2},\"id\":\"5946\",\"type\":\"BasicTicker\"},{\"attributes\":{\"active_drag\":\"auto\",\"active_inspect\":\"auto\",\"active_multi\":null,\"active_scroll\":\"auto\",\"active_tap\":\"auto\",\"logo\":null,\"tools\":[{\"id\":\"5963\",\"type\":\"PanTool\"},{\"id\":\"5964\",\"type\":\"ResetTool\"},{\"id\":\"5966\",\"type\":\"HoverTool\"}]},\"id\":\"5956\",\"type\":\"Toolbar\"},{\"attributes\":{\"label\":{\"value\":\"Virginica\"},\"renderers\":[{\"id\":\"6007\",\"type\":\"GlyphRenderer\"}]},\"id\":\"6019\",\"type\":\"LegendItem\"},{\"attributes\":{\"align\":\"center\",\"text\":\"Iris Morphology\",\"text_color\":{\"value\":\"olive\"},\"text_font_size\":{\"value\":\"40px\"}},\"id\":\"5969\",\"type\":\"Title\"},{\"attributes\":{\"callback\":null,\"end\":10},\"id\":\"5974\",\"type\":\"Range1d\"},{\"attributes\":{\"callback\":null,\"data\":{\"fill_color\":[\"blue\",\"blue\",\"blue\",\"blue\",\"blue\",\"blue\",\"blue\",\"blue\",\"blue\",\"blue\",\"blue\",\"blue\",\"blue\",\"blue\",\"blue\",\"blue\",\"blue\",\"blue\",\"blue\",\"blue\",\"blue\",\"blue\",\"blue\",\"blue\",\"blue\",\"blue\",\"blue\",\"blue\",\"blue\",\"blue\",\"blue\",\"blue\",\"blue\",\"blue\",\"blue\",\"blue\",\"blue\",\"blue\",\"blue\",\"blue\",\"blue\",\"blue\",\"blue\",\"blue\",\"blue\",\"blue\",\"blue\",\"blue\",\"blue\",\"blue\"],\"line_color\":[\"blue\",\"blue\",\"blue\",\"blue\",\"blue\",\"blue\",\"blue\",\"blue\",\"blue\",\"blue\",\"blue\",\"blue\",\"blue\",\"blue\",\"blue\",\"blue\",\"blue\",\"blue\",\"blue\",\"blue\",\"blue\",\"blue\",\"blue\",\"blue\",\"blue\",\"blue\",\"blue\",\"blue\",\"blue\",\"blue\",\"blue\",\"blue\",\"blue\",\"blue\",\"blue\",\"blue\",\"blue\",\"blue\",\"blue\",\"blue\",\"blue\",\"blue\",\"blue\",\"blue\",\"blue\",\"blue\",\"blue\",\"blue\",\"blue\",\"blue\"],\"size\":{\"__ndarray__\":\"ZmZmZmZmKkCamZmZmZklQAAAAAAAAChAMzMzMzMzJ0AAAAAAAAAoQAAAAAAAAChAAAAAAAAAJEAzMzMzMzMnQAAAAAAAACRAzczMzMzMLECamZmZmZkpQJqZmZmZmSVAAAAAAAAAKEAAAAAAAAAkQGZmZmZmZiZAmpmZmZmZKUAAAAAAAAAoQGZmZmZmZi5AzczMzMzMJECamZmZmZkhQJqZmZmZmSlAZmZmZmZmJkBmZmZmZmYmQJqZmZmZmSVAZmZmZmZmKkCamZmZmZkpQGZmZmZmZiZAAAAAAAAAKEBmZmZmZmYmQAAAAAAAAChAZmZmZmZmJkBmZmZmZmYuQGZmZmZmZiZAZmZmZmZmJkDNzMzMzMwkQAAAAAAAAChAMzMzMzMzK0DNzMzMzMwoQAAAAAAAAChAzczMzMzMKEDNzMzMzMwoQM3MzMzMzChAmpmZmZmZJUCamZmZmZkpQGZmZmZmZipAAAAAAAAAKEAAAAAAAAAkQAAAAAAAAChAMzMzMzMzK0AAAAAAAAAoQA==\",\"dtype\":\"float64\",\"shape\":[50]},\"x\":{\"__ndarray__\":\"AAAAAAAAGEBmZmZmZmYUQJqZmZmZmRdAZmZmZmZmFkAzMzMzMzMXQGZmZmZmZhpAAAAAAAAAEkAzMzMzMzMZQDMzMzMzMxdAZmZmZmZmGEBmZmZmZmYUQDMzMzMzMxVAAAAAAAAAFkAAAAAAAAAUQGZmZmZmZhRAMzMzMzMzFUAAAAAAAAAWQM3MzMzMzBpAmpmZmZmZG0AAAAAAAAAUQM3MzMzMzBZAmpmZmZmZE0DNzMzMzMwaQJqZmZmZmRNAzczMzMzMFkAAAAAAAAAYQDMzMzMzMxNAmpmZmZmZE0BmZmZmZmYWQDMzMzMzMxdAZmZmZmZmGECamZmZmZkZQGZmZmZmZhZAZmZmZmZmFEBmZmZmZmYWQGZmZmZmZhhAZmZmZmZmFkAAAAAAAAAWQDMzMzMzMxNAmpmZmZmZFUBmZmZmZmYWQGZmZmZmZhRAZmZmZmZmFECamZmZmZkXQM3MzMzMzBZAzczMzMzMFEAAAAAAAAAUQM3MzMzMzBRAmpmZmZmZFUBmZmZmZmYUQA==\",\"dtype\":\"float64\",\"shape\":[50]},\"y\":{\"__ndarray__\":\"AAAAAAAABEBmZmZmZmb+P83MzMzMzABAzczMzMzM/D+amZmZmZkBQM3MzMzMzABAMzMzMzMz+z/NzMzMzMz8P83MzMzMzPw/AAAAAAAABEAAAAAAAAAAQGZmZmZmZv4/zczMzMzMAEAAAAAAAAAAQDMzMzMzMwNAZmZmZmZmAkDNzMzMzMz8P5qZmZmZmQFAZmZmZmZmAkAAAAAAAAD4P2ZmZmZmZgJAAAAAAAAAAEAAAAAAAAAAQM3MzMzMzPw/zczMzMzMAEDNzMzMzMz8P83MzMzMzPw/zczMzMzM/D/NzMzMzMwAQJqZmZmZmfk/ZmZmZmZm/j8AAAAAAAAAQJqZmZmZmQFAAAAAAAAA+D9mZmZmZmb2P2ZmZmZmZgJAMzMzMzMzA0DNzMzMzMz8P83MzMzMzPw/zczMzMzMAEAzMzMzMzMDQGZmZmZmZgJAZmZmZmZm/j9mZmZmZmYCQAAAAAAAAARAZmZmZmZmAkBmZmZmZmb+PwAAAAAAAABAZmZmZmZmAkDNzMzMzMz8Pw==\",\"dtype\":\"float64\",\"shape\":[50]}},\"selected\":{\"id\":\"6200\",\"type\":\"Selection\"},\"selection_policy\":{\"id\":\"6199\",\"type\":\"UnionRenderers\"}},\"id\":\"6004\",\"type\":\"ColumnDataSource\"},{\"attributes\":{\"source\":{\"id\":\"5990\",\"type\":\"ColumnDataSource\"}},\"id\":\"5994\",\"type\":\"CDSView\"},{\"attributes\":{\"background_fill_alpha\":{\"value\":0},\"items\":[{\"id\":\"5989\",\"type\":\"LegendItem\"},{\"id\":\"6003\",\"type\":\"LegendItem\"},{\"id\":\"6019\",\"type\":\"LegendItem\"}],\"label_text_color\":{\"value\":\"olive\"},\"location\":\"top_left\",\"margin\":15,\"padding\":18},\"id\":\"5988\",\"type\":\"Legend\"},{\"attributes\":{\"source\":{\"id\":\"5977\",\"type\":\"ColumnDataSource\"}},\"id\":\"5981\",\"type\":\"CDSView\"},{\"attributes\":{\"fill_alpha\":{\"value\":0.2},\"fill_color\":{\"field\":\"fill_color\"},\"line_color\":{\"field\":\"line_color\"},\"line_dash\":[5,3],\"size\":{\"field\":\"size\",\"units\":\"screen\"},\"x\":{\"field\":\"x\"},\"y\":{\"field\":\"y\"}},\"id\":\"6005\",\"type\":\"Circle\"},{\"attributes\":{},\"id\":\"6002\",\"type\":\"Selection\"},{\"attributes\":{\"data_source\":{\"id\":\"6004\",\"type\":\"ColumnDataSource\"},\"glyph\":{\"id\":\"6005\",\"type\":\"Circle\"},\"hover_glyph\":null,\"muted_glyph\":null,\"nonselection_glyph\":{\"id\":\"6006\",\"type\":\"Circle\"},\"selection_glyph\":null,\"view\":{\"id\":\"6008\",\"type\":\"CDSView\"}},\"id\":\"6007\",\"type\":\"GlyphRenderer\"},{\"attributes\":{},\"id\":\"5941\",\"type\":\"BasicTicker\"},{\"attributes\":{\"label\":{\"value\":\"Setosa\"},\"renderers\":[{\"id\":\"5980\",\"type\":\"GlyphRenderer\"}]},\"id\":\"5989\",\"type\":\"LegendItem\"},{\"attributes\":{\"label\":{\"value\":\"Versicolor\"},\"renderers\":[{\"id\":\"5993\",\"type\":\"GlyphRenderer\"}]},\"id\":\"6003\",\"type\":\"LegendItem\"},{\"attributes\":{\"callback\":null,\"tooltips\":[[\"Petal length\",\"@x\"],[\"Petal width\",\"@y\"]]},\"id\":\"5966\",\"type\":\"HoverTool\"},{\"attributes\":{\"fill_alpha\":{\"value\":0.2},\"fill_color\":{\"field\":\"fill_color\"},\"line_color\":{\"field\":\"line_color\"},\"line_dash\":[5,3],\"size\":{\"field\":\"size\",\"units\":\"screen\"},\"x\":{\"field\":\"x\"},\"y\":{\"field\":\"y\"}},\"id\":\"5978\",\"type\":\"Circle\"},{\"attributes\":{\"callback\":null,\"data\":{\"fill_color\":[\"green\",\"green\",\"green\",\"green\",\"green\",\"green\",\"green\",\"green\",\"green\",\"green\",\"green\",\"green\",\"green\",\"green\",\"green\",\"green\",\"green\",\"green\",\"green\",\"green\",\"green\",\"green\",\"green\",\"green\",\"green\",\"green\",\"green\",\"green\",\"green\",\"green\",\"green\",\"green\",\"green\",\"green\",\"green\",\"green\",\"green\",\"green\",\"green\",\"green\",\"green\",\"green\",\"green\",\"green\",\"green\",\"green\",\"green\",\"green\",\"green\",\"green\"],\"line_color\":[\"green\",\"green\",\"green\",\"green\",\"green\",\"green\",\"green\",\"green\",\"green\",\"green\",\"green\",\"green\",\"green\",\"green\",\"green\",\"green\",\"green\",\"green\",\"green\",\"green\",\"green\",\"green\",\"green\",\"green\",\"green\",\"green\",\"green\",\"green\",\"green\",\"green\",\"green\",\"green\",\"green\",\"green\",\"green\",\"green\",\"green\",\"green\",\"green\",\"green\",\"green\",\"green\",\"green\",\"green\",\"green\",\"green\",\"green\",\"green\",\"green\",\"green\"],\"size\":{\"__ndarray__\":\"mpmZmZmZKUCamZmZmZkpQM3MzMzMzChAZmZmZmZmIkBmZmZmZmYmQGZmZmZmZiZAZmZmZmZmKkAzMzMzMzMjQDMzMzMzMydAmpmZmZmZJUAAAAAAAAAgQAAAAAAAAChAmpmZmZmZIUAzMzMzMzMnQDMzMzMzMydAzczMzMzMKEAAAAAAAAAoQJqZmZmZmSVAmpmZmZmZIUAAAAAAAAAkQJqZmZmZmSlAZmZmZmZmJkAAAAAAAAAkQGZmZmZmZiZAMzMzMzMzJ0AAAAAAAAAoQGZmZmZmZiZAAAAAAAAAKEAzMzMzMzMnQM3MzMzMzCRAMzMzMzMzI0AzMzMzMzMjQJqZmZmZmSVAmpmZmZmZJUAAAAAAAAAoQDMzMzMzMytAzczMzMzMKEBmZmZmZmYiQAAAAAAAAChAAAAAAAAAJEDNzMzMzMwkQAAAAAAAAChAzczMzMzMJEBmZmZmZmYiQJqZmZmZmSVAAAAAAAAAKEAzMzMzMzMnQDMzMzMzMydAAAAAAAAAJEBmZmZmZmYmQA==\",\"dtype\":\"float64\",\"shape\":[50]},\"x\":{\"__ndarray__\":\"zczMzMzMEkAAAAAAAAASQJqZmZmZmRNAAAAAAAAAEEBmZmZmZmYSQAAAAAAAABJAzczMzMzMEkBmZmZmZmYKQGZmZmZmZhJAMzMzMzMzD0AAAAAAAAAMQM3MzMzMzBBAAAAAAAAAEEDNzMzMzMwSQM3MzMzMzAxAmpmZmZmZEUAAAAAAAAASQGZmZmZmZhBAAAAAAAAAEkAzMzMzMzMPQDMzMzMzMxNAAAAAAAAAEECamZmZmZkTQM3MzMzMzBJAMzMzMzMzEUCamZmZmZkRQDMzMzMzMxNAAAAAAAAAFEAAAAAAAAASQAAAAAAAAAxAZmZmZmZmDkCamZmZmZkNQDMzMzMzMw9AZmZmZmZmFEAAAAAAAAASQAAAAAAAABJAzczMzMzMEkCamZmZmZkRQGZmZmZmZhBAAAAAAAAAEECamZmZmZkRQGZmZmZmZhJAAAAAAAAAEEBmZmZmZmYKQM3MzMzMzBBAzczMzMzMEEDNzMzMzMwQQDMzMzMzMxFAAAAAAAAACEBmZmZmZmYQQA==\",\"dtype\":\"float64\",\"shape\":[50]},\"y\":{\"__ndarray__\":\"ZmZmZmZm9j8AAAAAAAD4PwAAAAAAAPg/zczMzMzM9D8AAAAAAAD4P83MzMzMzPQ/mpmZmZmZ+T8AAAAAAADwP83MzMzMzPQ/ZmZmZmZm9j8AAAAAAADwPwAAAAAAAPg/AAAAAAAA8D9mZmZmZmb2P83MzMzMzPQ/ZmZmZmZm9j8AAAAAAAD4PwAAAAAAAPA/AAAAAAAA+D+amZmZmZnxP83MzMzMzPw/zczMzMzM9D8AAAAAAAD4PzMzMzMzM/M/zczMzMzM9D9mZmZmZmb2P2ZmZmZmZvY/MzMzMzMz+z8AAAAAAAD4PwAAAAAAAPA/mpmZmZmZ8T8AAAAAAADwPzMzMzMzM/M/mpmZmZmZ+T8AAAAAAAD4P5qZmZmZmfk/AAAAAAAA+D/NzMzMzMz0P83MzMzMzPQ/zczMzMzM9D8zMzMzMzPzP2ZmZmZmZvY/MzMzMzMz8z8AAAAAAADwP83MzMzMzPQ/MzMzMzMz8z/NzMzMzMz0P83MzMzMzPQ/mpmZmZmZ8T/NzMzMzMz0Pw==\",\"dtype\":\"float64\",\"shape\":[50]}},\"selected\":{\"id\":\"6018\",\"type\":\"Selection\"},\"selection_policy\":{\"id\":\"6017\",\"type\":\"UnionRenderers\"}},\"id\":\"5990\",\"type\":\"ColumnDataSource\"},{\"attributes\":{},\"id\":\"6200\",\"type\":\"Selection\"},{\"attributes\":{},\"id\":\"6017\",\"type\":\"UnionRenderers\"},{\"attributes\":{\"fill_alpha\":{\"value\":0.2},\"fill_color\":{\"field\":\"fill_color\"},\"line_color\":{\"field\":\"line_color\"},\"line_dash\":[5,3],\"size\":{\"field\":\"size\",\"units\":\"screen\"},\"x\":{\"field\":\"x\"},\"y\":{\"field\":\"y\"}},\"id\":\"5991\",\"type\":\"Circle\"},{\"attributes\":{\"source\":{\"id\":\"6004\",\"type\":\"ColumnDataSource\"}},\"id\":\"6008\",\"type\":\"CDSView\"},{\"attributes\":{\"fill_alpha\":{\"value\":0.1},\"fill_color\":{\"value\":\"#1f77b4\"},\"line_alpha\":{\"value\":0.1},\"line_color\":{\"value\":\"#1f77b4\"},\"line_dash\":[5,3],\"size\":{\"field\":\"size\",\"units\":\"screen\"},\"x\":{\"field\":\"x\"},\"y\":{\"field\":\"y\"}},\"id\":\"6006\",\"type\":\"Circle\"},{\"attributes\":{},\"id\":\"6001\",\"type\":\"UnionRenderers\"},{\"attributes\":{\"data_source\":{\"id\":\"5990\",\"type\":\"ColumnDataSource\"},\"glyph\":{\"id\":\"5991\",\"type\":\"Circle\"},\"hover_glyph\":null,\"muted_glyph\":null,\"nonselection_glyph\":{\"id\":\"5992\",\"type\":\"Circle\"},\"selection_glyph\":null,\"view\":{\"id\":\"5994\",\"type\":\"CDSView\"}},\"id\":\"5993\",\"type\":\"GlyphRenderer\"},{\"attributes\":{},\"id\":\"5984\",\"type\":\"BasicTickFormatter\"},{\"attributes\":{\"callback\":null,\"data\":{\"fill_color\":[\"red\",\"red\",\"red\",\"red\",\"red\",\"red\",\"red\",\"red\",\"red\",\"red\",\"red\",\"red\",\"red\",\"red\",\"red\",\"red\",\"red\",\"red\",\"red\",\"red\",\"red\",\"red\",\"red\",\"red\",\"red\",\"red\",\"red\",\"red\",\"red\",\"red\",\"red\",\"red\",\"red\",\"red\",\"red\",\"red\",\"red\",\"red\",\"red\",\"red\",\"red\",\"red\",\"red\",\"red\",\"red\",\"red\",\"red\",\"red\",\"red\",\"red\"],\"line_color\":[\"red\",\"red\",\"red\",\"red\",\"red\",\"red\",\"red\",\"red\",\"red\",\"red\",\"red\",\"red\",\"red\",\"red\",\"red\",\"red\",\"red\",\"red\",\"red\",\"red\",\"red\",\"red\",\"red\",\"red\",\"red\",\"red\",\"red\",\"red\",\"red\",\"red\",\"red\",\"red\",\"red\",\"red\",\"red\",\"red\",\"red\",\"red\",\"red\",\"red\",\"red\",\"red\",\"red\",\"red\",\"red\",\"red\",\"red\",\"red\",\"red\",\"red\"],\"size\":{\"__ndarray__\":\"AAAAAAAALEAAAAAAAAAoQJqZmZmZmSlAzczMzMzMKEDNzMzMzMwsQDMzMzMzMy9AMzMzMzMzK0AzMzMzMzMrQDMzMzMzMydAzczMzMzMKECamZmZmZktQDMzMzMzMytAAAAAAAAAKEAAAAAAAAAoQAAAAAAAADBAmpmZmZmZMUAzMzMzMzMvQAAAAAAAACxAZmZmZmZmLkBmZmZmZmYuQDMzMzMzMytAmpmZmZmZLUDNzMzMzMwsQGZmZmZmZipAMzMzMzMzK0AAAAAAAAAoQDMzMzMzMytAAAAAAAAALEAzMzMzMzMrQJqZmZmZmSlAzczMzMzMKEAzMzMzMzMrQGZmZmZmZjBAzczMzMzMMEDNzMzMzMwoQJqZmZmZmSlAAAAAAAAALEDNzMzMzMwsQAAAAAAAAChAMzMzMzMzK0AAAAAAAAAsQGZmZmZmZiJAmpmZmZmZKUAAAAAAAAAsQGZmZmZmZi5AAAAAAAAAKEBmZmZmZmYuQJqZmZmZmSlAmpmZmZmZLUBmZmZmZmYqQA==\",\"dtype\":\"float64\",\"shape\":[50]},\"x\":{\"__ndarray__\":\"ZmZmZmZm9j9mZmZmZmb2P83MzMzMzPQ/AAAAAAAA+D9mZmZmZmb2PzMzMzMzM/s/ZmZmZmZm9j8AAAAAAAD4P2ZmZmZmZvY/AAAAAAAA+D8AAAAAAAD4P5qZmZmZmfk/ZmZmZmZm9j+amZmZmZnxPzMzMzMzM/M/AAAAAAAA+D/NzMzMzMz0P2ZmZmZmZvY/MzMzMzMz+z8AAAAAAAD4PzMzMzMzM/s/AAAAAAAA+D8AAAAAAADwPzMzMzMzM/s/ZmZmZmZm/j+amZmZmZn5P5qZmZmZmfk/AAAAAAAA+D9mZmZmZmb2P5qZmZmZmfk/mpmZmZmZ+T8AAAAAAAD4PwAAAAAAAPg/ZmZmZmZm9j8AAAAAAAD4PzMzMzMzM/M/zczMzMzM9D9mZmZmZmb2P83MzMzMzPQ/AAAAAAAA+D/NzMzMzMz0P83MzMzMzPQ/zczMzMzM9D+amZmZmZn5P2ZmZmZmZv4/ZmZmZmZm9j+amZmZmZn5P2ZmZmZmZvY/AAAAAAAA+D9mZmZmZmb2Pw==\",\"dtype\":\"float64\",\"shape\":[50]},\"y\":{\"__ndarray__\":\"mpmZmZmZyT+amZmZmZnJP5qZmZmZmck/mpmZmZmZyT+amZmZmZnJP5qZmZmZmdk/MzMzMzMz0z+amZmZmZnJP5qZmZmZmck/mpmZmZmZuT+amZmZmZnJP5qZmZmZmck/mpmZmZmZuT+amZmZmZm5P5qZmZmZmck/mpmZmZmZ2T+amZmZmZnZPzMzMzMzM9M/MzMzMzMz0z8zMzMzMzPTP5qZmZmZmck/mpmZmZmZ2T+amZmZmZnJPwAAAAAAAOA/mpmZmZmZyT+amZmZmZnJP5qZmZmZmdk/mpmZmZmZyT+amZmZmZnJP5qZmZmZmck/mpmZmZmZyT+amZmZmZnZP5qZmZmZmbk/mpmZmZmZyT+amZmZmZnJP5qZmZmZmck/mpmZmZmZyT+amZmZmZm5P5qZmZmZmck/mpmZmZmZyT8zMzMzMzPTPzMzMzMzM9M/mpmZmZmZyT8zMzMzMzPjP5qZmZmZmdk/MzMzMzMz0z+amZmZmZnJP5qZmZmZmck/mpmZmZmZyT+amZmZmZnJPw==\",\"dtype\":\"float64\",\"shape\":[50]}},\"selected\":{\"id\":\"6002\",\"type\":\"Selection\"},\"selection_policy\":{\"id\":\"6001\",\"type\":\"UnionRenderers\"}},\"id\":\"5977\",\"type\":\"ColumnDataSource\"},{\"attributes\":{\"data_source\":{\"id\":\"5977\",\"type\":\"ColumnDataSource\"},\"glyph\":{\"id\":\"5978\",\"type\":\"Circle\"},\"hover_glyph\":null,\"muted_glyph\":null,\"nonselection_glyph\":{\"id\":\"5979\",\"type\":\"Circle\"},\"selection_glyph\":null,\"view\":{\"id\":\"5981\",\"type\":\"CDSView\"}},\"id\":\"5980\",\"type\":\"GlyphRenderer\"},{\"attributes\":{\"dimension\":1,\"grid_line_alpha\":0.8,\"grid_line_dash\":[5,3],\"ticker\":{\"id\":\"5946\",\"type\":\"BasicTicker\"}},\"id\":\"5949\",\"type\":\"Grid\"},{\"attributes\":{},\"id\":\"5963\",\"type\":\"PanTool\"},{\"attributes\":{},\"id\":\"6018\",\"type\":\"Selection\"},{\"attributes\":{\"grid_line_color\":null,\"grid_line_dash\":[5,3],\"ticker\":{\"id\":\"5941\",\"type\":\"BasicTicker\"}},\"id\":\"5944\",\"type\":\"Grid\"},{\"attributes\":{},\"id\":\"5938\",\"type\":\"LinearScale\"},{\"attributes\":{},\"id\":\"6199\",\"type\":\"UnionRenderers\"},{\"attributes\":{\"axis_label\":\"Petal Width\",\"axis_label_text_color\":{\"value\":\"blue\"},\"formatter\":{\"id\":\"5986\",\"type\":\"BasicTickFormatter\"},\"major_label_text_color\":{\"value\":\"orange\"},\"minor_tick_line_color\":{\"value\":\"blue\"},\"ticker\":{\"id\":\"5946\",\"type\":\"BasicTicker\"}},\"id\":\"5945\",\"type\":\"LinearAxis\"},{\"attributes\":{},\"id\":\"5964\",\"type\":\"ResetTool\"},{\"attributes\":{\"fill_alpha\":{\"value\":0.1},\"fill_color\":{\"value\":\"#1f77b4\"},\"line_alpha\":{\"value\":0.1},\"line_color\":{\"value\":\"#1f77b4\"},\"line_dash\":[5,3],\"size\":{\"field\":\"size\",\"units\":\"screen\"},\"x\":{\"field\":\"x\"},\"y\":{\"field\":\"y\"}},\"id\":\"5992\",\"type\":\"Circle\"},{\"attributes\":{},\"id\":\"5936\",\"type\":\"LinearScale\"}],\"root_ids\":[\"5931\"]},\"title\":\"Bokeh Application\",\"version\":\"1.3.4\"}};\n  var render_items = [{\"docid\":\"5ef4438d-4d9f-4cae-9c4b-3b263a7e65b3\",\"roots\":{\"5931\":\"728d885c-9c37-4f16-b20c-7860b808fb3e\"}}];\n  root.Bokeh.embed.embed_items_notebook(docs_json, render_items);\n\n  }\n  if (root.Bokeh !== undefined) {\n    embed_document(root);\n  } else {\n    var attempts = 0;\n    var timer = setInterval(function(root) {\n      if (root.Bokeh !== undefined) {\n        embed_document(root);\n        clearInterval(timer);\n      }\n      attempts++;\n      if (attempts > 100) {\n        console.log(\"Bokeh: ERROR: Unable to run BokehJS code because BokehJS library is missing\");\n        clearInterval(timer);\n      }\n    }, 10, root)\n  }\n})(window);",
      "application/vnd.bokehjs_exec.v0+json": ""
     },
     "metadata": {
      "application/vnd.bokehjs_exec.v0+json": {
       "id": "5931"
      }
     }
    }
   ],
   "source": [
    "\n",
    "from bokeh.plotting import figure\n",
    "from bokeh.io import output_file, show, output_notebook\n",
    "from bokeh.sampledata.iris import flowers\n",
    "from bokeh.models import Range1d, PanTool, ResetTool, HoverTool\n",
    "\n",
    "# prepare the output file\n",
    "\n",
    "#output_file(\"iris_3.html\")\n",
    "output_notebook()\n",
    "\n",
    "# create the figure, and create a line\n",
    "\n",
    "f = figure()\n",
    "\n",
    "\n",
    "#Style the tools\n",
    "f.tools = [PanTool(),ResetTool()]\n",
    "hover = HoverTool(tooltips=[(\"Petal length\",\"@x\"), (\"Petal width\",\"@y\")])\n",
    "f.add_tools(hover)\n",
    "f.toolbar_location = 'above'\n",
    "f.toolbar.logo = None\n",
    "\n",
    "\n",
    "#stilize the background\n",
    "\n",
    "f.plot_width = 2000\n",
    "f.plot_width = 1200\n",
    "f.background_fill_color = \"olive\"\n",
    "f.background_fill_alpha=0.3\n",
    "\n",
    "#Style the title\n",
    "\n",
    "f.title.text=\"Iris Morphology\"\n",
    "f.title.text_color = \"olive\"\n",
    "f.title.text_font = \"helvetica\"\n",
    "f.title.text_font_size= \"40px\"\n",
    "f.title.align=\"center\"\n",
    "\n",
    "#style the axis\n",
    "\n",
    "f.axis.minor_tick_line_color= \"blue\"\n",
    "#f.yaxis.major_label_orientation =\"vertical\"\n",
    "f.xaxis.visible=True\n",
    "f.xaxis.minor_tick_in=-6\n",
    "f.xaxis.axis_label=\"Petal Length\"\n",
    "f.yaxis.axis_label=\"Petal Width\"\n",
    "f.axis.axis_label_text_color=\"blue\"\n",
    "f.axis.major_label_text_color=\"orange\"\n",
    "\n",
    "#Axes geometry\n",
    "f.x_range = Range1d(start=0, end=10)\n",
    "f.y_range = Range1d(start=0, end=3.5)\n",
    "#f.xaxis.bounds = (2, 6)\n",
    "#f.xaxis[0].ticker.desired_num_ticks = 2\n",
    "#f.yaxis[0].ticker.desired_num_ticks = 2\n",
    "f.yaxis[0].ticker.num_minor_ticks = 2\n",
    "\n",
    "\n",
    "#Style the grid\n",
    "f.xgrid.grid_line_color = None\n",
    "f.ygrid.grid_line_alpha = 0.8\n",
    "f.grid.grid_line_dash = [5,3]\n",
    "\n",
    "\n",
    "colormap={'setosa':'red', 'versicolor':'green', 'virginica':'blue'}\n",
    "flowers['color']=[colormap[x] for x in flowers['species']]\n",
    "\n",
    "#adding glyphs\n",
    "f.circle(x=flowers[\"petal_length\"][flowers[\"species\"]==\"setosa\"], \n",
    "         y=flowers[\"petal_width\"][flowers[\"species\"]==\"setosa\"], \n",
    "         size=flowers['sepal_width'][flowers[\"species\"]==\"setosa\"]*4,\n",
    "         fill_alpha=0.2,color=flowers['color'][flowers[\"species\"]==\"setosa\"],line_dash=[5,3],legend='Setosa')\n",
    "\n",
    "f.circle(x=flowers[\"petal_length\"][flowers[\"species\"]==\"versicolor\"], \n",
    "         y=flowers[\"petal_width\"][flowers[\"species\"]==\"versicolor\"],\n",
    "         size=flowers['sepal_width'][flowers[\"species\"]==\"versicolor\"]*4,\n",
    "         fill_alpha=0.2,color=flowers['color'][flowers[\"species\"]==\"versicolor\"],line_dash=[5,3],legend='Versicolor')\n",
    "\n",
    "f.circle(x=flowers[\"petal_length\"][flowers[\"species\"]==\"virginica\"], \n",
    "         y=flowers[\"petal_width\"][flowers[\"species\"]==\"virginica\"],\n",
    "         size=flowers['sepal_width'][flowers[\"species\"]==\"virginica\"]*4,\n",
    "         fill_alpha=0.2,color=flowers['color'][flowers[\"species\"]==\"virginica\"],line_dash=[5,3],legend='Virginica')\n",
    "\n",
    "#Style the legend\n",
    "f.legend.location = (575,555)\n",
    "f.legend.location = 'top_left'\n",
    "f.legend.background_fill_alpha = 0\n",
    "#f.legend.border_line_color = None\n",
    "f.legend.margin = 15\n",
    "f.legend.padding = 18\n",
    "f.legend.label_text_color = 'olive'\n",
    "f.legend.label_text_font = 'helvetica'\n",
    "\n",
    "show(f)\n"
   ]
  },
  {
   "cell_type": "markdown",
   "metadata": {
    "id": "uaIFndgEhTyT"
   },
   "source": [
    "# Advanced plotting - Column Data Source"
   ]
  },
  {
   "cell_type": "code",
   "execution_count": 50,
   "metadata": {
    "id": "s3HbhLfThTyU",
    "outputId": "43ac6046-fdb0-48b7-9d03-88d979430d22"
   },
   "outputs": [
    {
     "output_type": "display_data",
     "data": {
      "text/html": "\n\n\n\n\n\n  <div class=\"bk-root\" id=\"b9105c3d-3b17-49af-beb2-58ff55c0fc61\" data-root-id=\"6397\"></div>\n"
     },
     "metadata": {}
    },
    {
     "output_type": "display_data",
     "data": {
      "application/javascript": "(function(root) {\n  function embed_document(root) {\n    \n  var docs_json = {\"6e082a7e-87b5-47da-96bd-b8ebfa18165d\":{\"roots\":{\"references\":[{\"attributes\":{\"below\":[{\"id\":\"6406\",\"type\":\"LinearAxis\"}],\"center\":[{\"id\":\"6410\",\"type\":\"Grid\"},{\"id\":\"6415\",\"type\":\"Grid\"},{\"id\":\"6441\",\"type\":\"Legend\"}],\"left\":[{\"id\":\"6411\",\"type\":\"LinearAxis\"}],\"renderers\":[{\"id\":\"6432\",\"type\":\"GlyphRenderer\"},{\"id\":\"6446\",\"type\":\"GlyphRenderer\"},{\"id\":\"6461\",\"type\":\"GlyphRenderer\"}],\"title\":{\"id\":\"6435\",\"type\":\"Title\"},\"toolbar\":{\"id\":\"6422\",\"type\":\"Toolbar\"},\"x_range\":{\"id\":\"6398\",\"type\":\"DataRange1d\"},\"x_scale\":{\"id\":\"6402\",\"type\":\"LinearScale\"},\"y_range\":{\"id\":\"6400\",\"type\":\"DataRange1d\"},\"y_scale\":{\"id\":\"6404\",\"type\":\"LinearScale\"}},\"id\":\"6397\",\"subtype\":\"Figure\",\"type\":\"Plot\"},{\"attributes\":{},\"id\":\"6668\",\"type\":\"Selection\"},{\"attributes\":{},\"id\":\"6419\",\"type\":\"SaveTool\"},{\"attributes\":{\"fill_alpha\":{\"value\":0.2},\"fill_color\":{\"field\":\"color\"},\"line_color\":{\"field\":\"color\"},\"line_dash\":[5,3],\"size\":{\"field\":\"size\",\"units\":\"screen\"},\"x\":{\"field\":\"petal_length\"},\"y\":{\"field\":\"petal_width\"}},\"id\":\"6430\",\"type\":\"Circle\"},{\"attributes\":{},\"id\":\"6473\",\"type\":\"Selection\"},{\"attributes\":{},\"id\":\"6416\",\"type\":\"PanTool\"},{\"attributes\":{\"fill_alpha\":{\"value\":0.1},\"fill_color\":{\"value\":\"#1f77b4\"},\"line_alpha\":{\"value\":0.1},\"line_color\":{\"value\":\"#1f77b4\"},\"line_dash\":[5,3],\"size\":{\"field\":\"size\",\"units\":\"screen\"},\"x\":{\"field\":\"petal_length\"},\"y\":{\"field\":\"petal_width\"}},\"id\":\"6460\",\"type\":\"Circle\"},{\"attributes\":{\"data_source\":{\"id\":\"6394\",\"type\":\"ColumnDataSource\"},\"glyph\":{\"id\":\"6430\",\"type\":\"Circle\"},\"hover_glyph\":null,\"muted_glyph\":null,\"nonselection_glyph\":{\"id\":\"6431\",\"type\":\"Circle\"},\"selection_glyph\":null,\"view\":{\"id\":\"6433\",\"type\":\"CDSView\"}},\"id\":\"6432\",\"type\":\"GlyphRenderer\"},{\"attributes\":{\"data_source\":{\"id\":\"6396\",\"type\":\"ColumnDataSource\"},\"glyph\":{\"id\":\"6459\",\"type\":\"Circle\"},\"hover_glyph\":null,\"muted_glyph\":null,\"nonselection_glyph\":{\"id\":\"6460\",\"type\":\"Circle\"},\"selection_glyph\":null,\"view\":{\"id\":\"6462\",\"type\":\"CDSView\"}},\"id\":\"6461\",\"type\":\"GlyphRenderer\"},{\"attributes\":{\"callback\":null,\"data\":{\"color\":[\"red\",\"red\",\"red\",\"red\",\"red\",\"red\",\"red\",\"red\",\"red\",\"red\",\"red\",\"red\",\"red\",\"red\",\"red\",\"red\",\"red\",\"red\",\"red\",\"red\",\"red\",\"red\",\"red\",\"red\",\"red\",\"red\",\"red\",\"red\",\"red\",\"red\",\"red\",\"red\",\"red\",\"red\",\"red\",\"red\",\"red\",\"red\",\"red\",\"red\",\"red\",\"red\",\"red\",\"red\",\"red\",\"red\",\"red\",\"red\",\"red\",\"red\"],\"index\":[0,1,2,3,4,5,6,7,8,9,10,11,12,13,14,15,16,17,18,19,20,21,22,23,24,25,26,27,28,29,30,31,32,33,34,35,36,37,38,39,40,41,42,43,44,45,46,47,48,49],\"petal_length\":{\"__ndarray__\":\"ZmZmZmZm9j9mZmZmZmb2P83MzMzMzPQ/AAAAAAAA+D9mZmZmZmb2PzMzMzMzM/s/ZmZmZmZm9j8AAAAAAAD4P2ZmZmZmZvY/AAAAAAAA+D8AAAAAAAD4P5qZmZmZmfk/ZmZmZmZm9j+amZmZmZnxPzMzMzMzM/M/AAAAAAAA+D/NzMzMzMz0P2ZmZmZmZvY/MzMzMzMz+z8AAAAAAAD4PzMzMzMzM/s/AAAAAAAA+D8AAAAAAADwPzMzMzMzM/s/ZmZmZmZm/j+amZmZmZn5P5qZmZmZmfk/AAAAAAAA+D9mZmZmZmb2P5qZmZmZmfk/mpmZmZmZ+T8AAAAAAAD4PwAAAAAAAPg/ZmZmZmZm9j8AAAAAAAD4PzMzMzMzM/M/zczMzMzM9D9mZmZmZmb2P83MzMzMzPQ/AAAAAAAA+D/NzMzMzMz0P83MzMzMzPQ/zczMzMzM9D+amZmZmZn5P2ZmZmZmZv4/ZmZmZmZm9j+amZmZmZn5P2ZmZmZmZvY/AAAAAAAA+D9mZmZmZmb2Pw==\",\"dtype\":\"float64\",\"shape\":[50]},\"petal_width\":{\"__ndarray__\":\"mpmZmZmZyT+amZmZmZnJP5qZmZmZmck/mpmZmZmZyT+amZmZmZnJP5qZmZmZmdk/MzMzMzMz0z+amZmZmZnJP5qZmZmZmck/mpmZmZmZuT+amZmZmZnJP5qZmZmZmck/mpmZmZmZuT+amZmZmZm5P5qZmZmZmck/mpmZmZmZ2T+amZmZmZnZPzMzMzMzM9M/MzMzMzMz0z8zMzMzMzPTP5qZmZmZmck/mpmZmZmZ2T+amZmZmZnJPwAAAAAAAOA/mpmZmZmZyT+amZmZmZnJP5qZmZmZmdk/mpmZmZmZyT+amZmZmZnJP5qZmZmZmck/mpmZmZmZyT+amZmZmZnZP5qZmZmZmbk/mpmZmZmZyT+amZmZmZnJP5qZmZmZmck/mpmZmZmZyT+amZmZmZm5P5qZmZmZmck/mpmZmZmZyT8zMzMzMzPTPzMzMzMzM9M/mpmZmZmZyT8zMzMzMzPjP5qZmZmZmdk/MzMzMzMz0z+amZmZmZnJP5qZmZmZmck/mpmZmZmZyT+amZmZmZnJPw==\",\"dtype\":\"float64\",\"shape\":[50]},\"sepal_length\":{\"__ndarray__\":\"ZmZmZmZmFECamZmZmZkTQM3MzMzMzBJAZmZmZmZmEkAAAAAAAAAUQJqZmZmZmRVAZmZmZmZmEkAAAAAAAAAUQJqZmZmZmRFAmpmZmZmZE0CamZmZmZkVQDMzMzMzMxNAMzMzMzMzE0AzMzMzMzMRQDMzMzMzMxdAzczMzMzMFkCamZmZmZkVQGZmZmZmZhRAzczMzMzMFkBmZmZmZmYUQJqZmZmZmRVAZmZmZmZmFEBmZmZmZmYSQGZmZmZmZhRAMzMzMzMzE0AAAAAAAAAUQAAAAAAAABRAzczMzMzMFEDNzMzMzMwUQM3MzMzMzBJAMzMzMzMzE0CamZmZmZkVQM3MzMzMzBRAAAAAAAAAFkCamZmZmZkTQAAAAAAAABRAAAAAAAAAFkCamZmZmZkTQJqZmZmZmRFAZmZmZmZmFEAAAAAAAAAUQAAAAAAAABJAmpmZmZmZEUAAAAAAAAAUQGZmZmZmZhRAMzMzMzMzE0BmZmZmZmYUQGZmZmZmZhJAMzMzMzMzFUAAAAAAAAAUQA==\",\"dtype\":\"float64\",\"shape\":[50]},\"sepal_width\":{\"__ndarray__\":\"AAAAAAAADEAAAAAAAAAIQJqZmZmZmQlAzczMzMzMCEDNzMzMzMwMQDMzMzMzMw9AMzMzMzMzC0AzMzMzMzMLQDMzMzMzMwdAzczMzMzMCECamZmZmZkNQDMzMzMzMwtAAAAAAAAACEAAAAAAAAAIQAAAAAAAABBAmpmZmZmZEUAzMzMzMzMPQAAAAAAAAAxAZmZmZmZmDkBmZmZmZmYOQDMzMzMzMwtAmpmZmZmZDUDNzMzMzMwMQGZmZmZmZgpAMzMzMzMzC0AAAAAAAAAIQDMzMzMzMwtAAAAAAAAADEAzMzMzMzMLQJqZmZmZmQlAzczMzMzMCEAzMzMzMzMLQGZmZmZmZhBAzczMzMzMEEDNzMzMzMwIQJqZmZmZmQlAAAAAAAAADEDNzMzMzMwMQAAAAAAAAAhAMzMzMzMzC0AAAAAAAAAMQGZmZmZmZgJAmpmZmZmZCUAAAAAAAAAMQGZmZmZmZg5AAAAAAAAACEBmZmZmZmYOQJqZmZmZmQlAmpmZmZmZDUBmZmZmZmYKQA==\",\"dtype\":\"float64\",\"shape\":[50]},\"size\":{\"__ndarray__\":\"AAAAAAAALEAAAAAAAAAoQJqZmZmZmSlAzczMzMzMKEDNzMzMzMwsQDMzMzMzMy9AMzMzMzMzK0AzMzMzMzMrQDMzMzMzMydAzczMzMzMKECamZmZmZktQDMzMzMzMytAAAAAAAAAKEAAAAAAAAAoQAAAAAAAADBAmpmZmZmZMUAzMzMzMzMvQAAAAAAAACxAZmZmZmZmLkBmZmZmZmYuQDMzMzMzMytAmpmZmZmZLUDNzMzMzMwsQGZmZmZmZipAMzMzMzMzK0AAAAAAAAAoQDMzMzMzMytAAAAAAAAALEAzMzMzMzMrQJqZmZmZmSlAzczMzMzMKEAzMzMzMzMrQGZmZmZmZjBAzczMzMzMMEDNzMzMzMwoQJqZmZmZmSlAAAAAAAAALEDNzMzMzMwsQAAAAAAAAChAMzMzMzMzK0AAAAAAAAAsQGZmZmZmZiJAmpmZmZmZKUAAAAAAAAAsQGZmZmZmZi5AAAAAAAAAKEBmZmZmZmYuQJqZmZmZmSlAmpmZmZmZLUBmZmZmZmYqQA==\",\"dtype\":\"float64\",\"shape\":[50]},\"species\":[\"setosa\",\"setosa\",\"setosa\",\"setosa\",\"setosa\",\"setosa\",\"setosa\",\"setosa\",\"setosa\",\"setosa\",\"setosa\",\"setosa\",\"setosa\",\"setosa\",\"setosa\",\"setosa\",\"setosa\",\"setosa\",\"setosa\",\"setosa\",\"setosa\",\"setosa\",\"setosa\",\"setosa\",\"setosa\",\"setosa\",\"setosa\",\"setosa\",\"setosa\",\"setosa\",\"setosa\",\"setosa\",\"setosa\",\"setosa\",\"setosa\",\"setosa\",\"setosa\",\"setosa\",\"setosa\",\"setosa\",\"setosa\",\"setosa\",\"setosa\",\"setosa\",\"setosa\",\"setosa\",\"setosa\",\"setosa\",\"setosa\",\"setosa\"]},\"selected\":{\"id\":\"6456\",\"type\":\"Selection\"},\"selection_policy\":{\"id\":\"6455\",\"type\":\"UnionRenderers\"}},\"id\":\"6394\",\"type\":\"ColumnDataSource\"},{\"attributes\":{\"callback\":null},\"id\":\"6398\",\"type\":\"DataRange1d\"},{\"attributes\":{\"label\":{\"value\":\"Setosa\"},\"renderers\":[{\"id\":\"6432\",\"type\":\"GlyphRenderer\"}]},\"id\":\"6442\",\"type\":\"LegendItem\"},{\"attributes\":{},\"id\":\"6455\",\"type\":\"UnionRenderers\"},{\"attributes\":{\"data_source\":{\"id\":\"6395\",\"type\":\"ColumnDataSource\"},\"glyph\":{\"id\":\"6444\",\"type\":\"Circle\"},\"hover_glyph\":null,\"muted_glyph\":null,\"nonselection_glyph\":{\"id\":\"6445\",\"type\":\"Circle\"},\"selection_glyph\":null,\"view\":{\"id\":\"6447\",\"type\":\"CDSView\"}},\"id\":\"6446\",\"type\":\"GlyphRenderer\"},{\"attributes\":{\"source\":{\"id\":\"6394\",\"type\":\"ColumnDataSource\"}},\"id\":\"6433\",\"type\":\"CDSView\"},{\"attributes\":{\"callback\":null},\"id\":\"6400\",\"type\":\"DataRange1d\"},{\"attributes\":{\"formatter\":{\"id\":\"6438\",\"type\":\"BasicTickFormatter\"},\"ticker\":{\"id\":\"6412\",\"type\":\"BasicTicker\"}},\"id\":\"6411\",\"type\":\"LinearAxis\"},{\"attributes\":{\"formatter\":{\"id\":\"6436\",\"type\":\"BasicTickFormatter\"},\"ticker\":{\"id\":\"6407\",\"type\":\"BasicTicker\"}},\"id\":\"6406\",\"type\":\"LinearAxis\"},{\"attributes\":{\"ticker\":{\"id\":\"6407\",\"type\":\"BasicTicker\"}},\"id\":\"6410\",\"type\":\"Grid\"},{\"attributes\":{\"dimension\":1,\"ticker\":{\"id\":\"6412\",\"type\":\"BasicTicker\"}},\"id\":\"6415\",\"type\":\"Grid\"},{\"attributes\":{},\"id\":\"6412\",\"type\":\"BasicTicker\"},{\"attributes\":{},\"id\":\"6456\",\"type\":\"Selection\"},{\"attributes\":{\"overlay\":{\"id\":\"6440\",\"type\":\"BoxAnnotation\"}},\"id\":\"6418\",\"type\":\"BoxZoomTool\"},{\"attributes\":{},\"id\":\"6417\",\"type\":\"WheelZoomTool\"},{\"attributes\":{},\"id\":\"6420\",\"type\":\"ResetTool\"},{\"attributes\":{},\"id\":\"6472\",\"type\":\"UnionRenderers\"},{\"attributes\":{\"source\":{\"id\":\"6396\",\"type\":\"ColumnDataSource\"}},\"id\":\"6462\",\"type\":\"CDSView\"},{\"attributes\":{\"text\":\"\"},\"id\":\"6435\",\"type\":\"Title\"},{\"attributes\":{},\"id\":\"6667\",\"type\":\"UnionRenderers\"},{\"attributes\":{},\"id\":\"6438\",\"type\":\"BasicTickFormatter\"},{\"attributes\":{},\"id\":\"6421\",\"type\":\"HelpTool\"},{\"attributes\":{\"source\":{\"id\":\"6395\",\"type\":\"ColumnDataSource\"}},\"id\":\"6447\",\"type\":\"CDSView\"},{\"attributes\":{\"label\":{\"value\":\"Versicolor\"},\"renderers\":[{\"id\":\"6446\",\"type\":\"GlyphRenderer\"}]},\"id\":\"6457\",\"type\":\"LegendItem\"},{\"attributes\":{},\"id\":\"6402\",\"type\":\"LinearScale\"},{\"attributes\":{\"callback\":null,\"data\":{\"color\":[\"green\",\"green\",\"green\",\"green\",\"green\",\"green\",\"green\",\"green\",\"green\",\"green\",\"green\",\"green\",\"green\",\"green\",\"green\",\"green\",\"green\",\"green\",\"green\",\"green\",\"green\",\"green\",\"green\",\"green\",\"green\",\"green\",\"green\",\"green\",\"green\",\"green\",\"green\",\"green\",\"green\",\"green\",\"green\",\"green\",\"green\",\"green\",\"green\",\"green\",\"green\",\"green\",\"green\",\"green\",\"green\",\"green\",\"green\",\"green\",\"green\",\"green\"],\"index\":[50,51,52,53,54,55,56,57,58,59,60,61,62,63,64,65,66,67,68,69,70,71,72,73,74,75,76,77,78,79,80,81,82,83,84,85,86,87,88,89,90,91,92,93,94,95,96,97,98,99],\"petal_length\":{\"__ndarray__\":\"zczMzMzMEkAAAAAAAAASQJqZmZmZmRNAAAAAAAAAEEBmZmZmZmYSQAAAAAAAABJAzczMzMzMEkBmZmZmZmYKQGZmZmZmZhJAMzMzMzMzD0AAAAAAAAAMQM3MzMzMzBBAAAAAAAAAEEDNzMzMzMwSQM3MzMzMzAxAmpmZmZmZEUAAAAAAAAASQGZmZmZmZhBAAAAAAAAAEkAzMzMzMzMPQDMzMzMzMxNAAAAAAAAAEECamZmZmZkTQM3MzMzMzBJAMzMzMzMzEUCamZmZmZkRQDMzMzMzMxNAAAAAAAAAFEAAAAAAAAASQAAAAAAAAAxAZmZmZmZmDkCamZmZmZkNQDMzMzMzMw9AZmZmZmZmFEAAAAAAAAASQAAAAAAAABJAzczMzMzMEkCamZmZmZkRQGZmZmZmZhBAAAAAAAAAEECamZmZmZkRQGZmZmZmZhJAAAAAAAAAEEBmZmZmZmYKQM3MzMzMzBBAzczMzMzMEEDNzMzMzMwQQDMzMzMzMxFAAAAAAAAACEBmZmZmZmYQQA==\",\"dtype\":\"float64\",\"shape\":[50]},\"petal_width\":{\"__ndarray__\":\"ZmZmZmZm9j8AAAAAAAD4PwAAAAAAAPg/zczMzMzM9D8AAAAAAAD4P83MzMzMzPQ/mpmZmZmZ+T8AAAAAAADwP83MzMzMzPQ/ZmZmZmZm9j8AAAAAAADwPwAAAAAAAPg/AAAAAAAA8D9mZmZmZmb2P83MzMzMzPQ/ZmZmZmZm9j8AAAAAAAD4PwAAAAAAAPA/AAAAAAAA+D+amZmZmZnxP83MzMzMzPw/zczMzMzM9D8AAAAAAAD4PzMzMzMzM/M/zczMzMzM9D9mZmZmZmb2P2ZmZmZmZvY/MzMzMzMz+z8AAAAAAAD4PwAAAAAAAPA/mpmZmZmZ8T8AAAAAAADwPzMzMzMzM/M/mpmZmZmZ+T8AAAAAAAD4P5qZmZmZmfk/AAAAAAAA+D/NzMzMzMz0P83MzMzMzPQ/zczMzMzM9D8zMzMzMzPzP2ZmZmZmZvY/MzMzMzMz8z8AAAAAAADwP83MzMzMzPQ/MzMzMzMz8z/NzMzMzMz0P83MzMzMzPQ/mpmZmZmZ8T/NzMzMzMz0Pw==\",\"dtype\":\"float64\",\"shape\":[50]},\"sepal_length\":{\"__ndarray__\":\"AAAAAAAAHECamZmZmZkZQJqZmZmZmRtAAAAAAAAAFkAAAAAAAAAaQM3MzMzMzBZAMzMzMzMzGUCamZmZmZkTQGZmZmZmZhpAzczMzMzMFEAAAAAAAAAUQJqZmZmZmRdAAAAAAAAAGEBmZmZmZmYYQGZmZmZmZhZAzczMzMzMGkBmZmZmZmYWQDMzMzMzMxdAzczMzMzMGEBmZmZmZmYWQJqZmZmZmRdAZmZmZmZmGEAzMzMzMzMZQGZmZmZmZhhAmpmZmZmZGUBmZmZmZmYaQDMzMzMzMxtAzczMzMzMGkAAAAAAAAAYQM3MzMzMzBZAAAAAAAAAFkAAAAAAAAAWQDMzMzMzMxdAAAAAAAAAGECamZmZmZkVQAAAAAAAABhAzczMzMzMGkAzMzMzMzMZQGZmZmZmZhZAAAAAAAAAFkAAAAAAAAAWQGZmZmZmZhhAMzMzMzMzF0AAAAAAAAAUQGZmZmZmZhZAzczMzMzMFkDNzMzMzMwWQM3MzMzMzBhAZmZmZmZmFEDNzMzMzMwWQA==\",\"dtype\":\"float64\",\"shape\":[50]},\"sepal_width\":{\"__ndarray__\":\"mpmZmZmZCUCamZmZmZkJQM3MzMzMzAhAZmZmZmZmAkBmZmZmZmYGQGZmZmZmZgZAZmZmZmZmCkAzMzMzMzMDQDMzMzMzMwdAmpmZmZmZBUAAAAAAAAAAQAAAAAAAAAhAmpmZmZmZAUAzMzMzMzMHQDMzMzMzMwdAzczMzMzMCEAAAAAAAAAIQJqZmZmZmQVAmpmZmZmZAUAAAAAAAAAEQJqZmZmZmQlAZmZmZmZmBkAAAAAAAAAEQGZmZmZmZgZAMzMzMzMzB0AAAAAAAAAIQGZmZmZmZgZAAAAAAAAACEAzMzMzMzMHQM3MzMzMzARAMzMzMzMzA0AzMzMzMzMDQJqZmZmZmQVAmpmZmZmZBUAAAAAAAAAIQDMzMzMzMwtAzczMzMzMCEBmZmZmZmYCQAAAAAAAAAhAAAAAAAAABEDNzMzMzMwEQAAAAAAAAAhAzczMzMzMBEBmZmZmZmYCQJqZmZmZmQVAAAAAAAAACEAzMzMzMzMHQDMzMzMzMwdAAAAAAAAABEBmZmZmZmYGQA==\",\"dtype\":\"float64\",\"shape\":[50]},\"size\":{\"__ndarray__\":\"mpmZmZmZKUCamZmZmZkpQM3MzMzMzChAZmZmZmZmIkBmZmZmZmYmQGZmZmZmZiZAZmZmZmZmKkAzMzMzMzMjQDMzMzMzMydAmpmZmZmZJUAAAAAAAAAgQAAAAAAAAChAmpmZmZmZIUAzMzMzMzMnQDMzMzMzMydAzczMzMzMKEAAAAAAAAAoQJqZmZmZmSVAmpmZmZmZIUAAAAAAAAAkQJqZmZmZmSlAZmZmZmZmJkAAAAAAAAAkQGZmZmZmZiZAMzMzMzMzJ0AAAAAAAAAoQGZmZmZmZiZAAAAAAAAAKEAzMzMzMzMnQM3MzMzMzCRAMzMzMzMzI0AzMzMzMzMjQJqZmZmZmSVAmpmZmZmZJUAAAAAAAAAoQDMzMzMzMytAzczMzMzMKEBmZmZmZmYiQAAAAAAAAChAAAAAAAAAJEDNzMzMzMwkQAAAAAAAAChAzczMzMzMJEBmZmZmZmYiQJqZmZmZmSVAAAAAAAAAKEAzMzMzMzMnQDMzMzMzMydAAAAAAAAAJEBmZmZmZmYmQA==\",\"dtype\":\"float64\",\"shape\":[50]},\"species\":[\"versicolor\",\"versicolor\",\"versicolor\",\"versicolor\",\"versicolor\",\"versicolor\",\"versicolor\",\"versicolor\",\"versicolor\",\"versicolor\",\"versicolor\",\"versicolor\",\"versicolor\",\"versicolor\",\"versicolor\",\"versicolor\",\"versicolor\",\"versicolor\",\"versicolor\",\"versicolor\",\"versicolor\",\"versicolor\",\"versicolor\",\"versicolor\",\"versicolor\",\"versicolor\",\"versicolor\",\"versicolor\",\"versicolor\",\"versicolor\",\"versicolor\",\"versicolor\",\"versicolor\",\"versicolor\",\"versicolor\",\"versicolor\",\"versicolor\",\"versicolor\",\"versicolor\",\"versicolor\",\"versicolor\",\"versicolor\",\"versicolor\",\"versicolor\",\"versicolor\",\"versicolor\",\"versicolor\",\"versicolor\",\"versicolor\",\"versicolor\"]},\"selected\":{\"id\":\"6473\",\"type\":\"Selection\"},\"selection_policy\":{\"id\":\"6472\",\"type\":\"UnionRenderers\"}},\"id\":\"6395\",\"type\":\"ColumnDataSource\"},{\"attributes\":{},\"id\":\"6407\",\"type\":\"BasicTicker\"},{\"attributes\":{\"fill_alpha\":{\"value\":0.1},\"fill_color\":{\"value\":\"#1f77b4\"},\"line_alpha\":{\"value\":0.1},\"line_color\":{\"value\":\"#1f77b4\"},\"line_dash\":[5,3],\"size\":{\"field\":\"size\",\"units\":\"screen\"},\"x\":{\"field\":\"petal_length\"},\"y\":{\"field\":\"petal_width\"}},\"id\":\"6431\",\"type\":\"Circle\"},{\"attributes\":{\"fill_alpha\":{\"value\":0.2},\"fill_color\":{\"field\":\"color\"},\"line_color\":{\"field\":\"color\"},\"line_dash\":[5,3],\"size\":{\"field\":\"size\",\"units\":\"screen\"},\"x\":{\"field\":\"petal_length\"},\"y\":{\"field\":\"petal_width\"}},\"id\":\"6459\",\"type\":\"Circle\"},{\"attributes\":{\"bottom_units\":\"screen\",\"fill_alpha\":{\"value\":0.5},\"fill_color\":{\"value\":\"lightgrey\"},\"left_units\":\"screen\",\"level\":\"overlay\",\"line_alpha\":{\"value\":1.0},\"line_color\":{\"value\":\"black\"},\"line_dash\":[4,4],\"line_width\":{\"value\":2},\"render_mode\":\"css\",\"right_units\":\"screen\",\"top_units\":\"screen\"},\"id\":\"6440\",\"type\":\"BoxAnnotation\"},{\"attributes\":{\"active_drag\":\"auto\",\"active_inspect\":\"auto\",\"active_multi\":null,\"active_scroll\":\"auto\",\"active_tap\":\"auto\",\"tools\":[{\"id\":\"6416\",\"type\":\"PanTool\"},{\"id\":\"6417\",\"type\":\"WheelZoomTool\"},{\"id\":\"6418\",\"type\":\"BoxZoomTool\"},{\"id\":\"6419\",\"type\":\"SaveTool\"},{\"id\":\"6420\",\"type\":\"ResetTool\"},{\"id\":\"6421\",\"type\":\"HelpTool\"}]},\"id\":\"6422\",\"type\":\"Toolbar\"},{\"attributes\":{\"fill_alpha\":{\"value\":0.1},\"fill_color\":{\"value\":\"#1f77b4\"},\"line_alpha\":{\"value\":0.1},\"line_color\":{\"value\":\"#1f77b4\"},\"line_dash\":[5,3],\"size\":{\"field\":\"size\",\"units\":\"screen\"},\"x\":{\"field\":\"petal_length\"},\"y\":{\"field\":\"petal_width\"}},\"id\":\"6445\",\"type\":\"Circle\"},{\"attributes\":{},\"id\":\"6436\",\"type\":\"BasicTickFormatter\"},{\"attributes\":{},\"id\":\"6404\",\"type\":\"LinearScale\"},{\"attributes\":{\"label\":{\"value\":\"Virginica\"},\"renderers\":[{\"id\":\"6461\",\"type\":\"GlyphRenderer\"}]},\"id\":\"6474\",\"type\":\"LegendItem\"},{\"attributes\":{\"fill_alpha\":{\"value\":0.2},\"fill_color\":{\"field\":\"color\"},\"line_color\":{\"field\":\"color\"},\"line_dash\":[5,3],\"size\":{\"field\":\"size\",\"units\":\"screen\"},\"x\":{\"field\":\"petal_length\"},\"y\":{\"field\":\"petal_width\"}},\"id\":\"6444\",\"type\":\"Circle\"},{\"attributes\":{\"callback\":null,\"data\":{\"color\":[\"blue\",\"blue\",\"blue\",\"blue\",\"blue\",\"blue\",\"blue\",\"blue\",\"blue\",\"blue\",\"blue\",\"blue\",\"blue\",\"blue\",\"blue\",\"blue\",\"blue\",\"blue\",\"blue\",\"blue\",\"blue\",\"blue\",\"blue\",\"blue\",\"blue\",\"blue\",\"blue\",\"blue\",\"blue\",\"blue\",\"blue\",\"blue\",\"blue\",\"blue\",\"blue\",\"blue\",\"blue\",\"blue\",\"blue\",\"blue\",\"blue\",\"blue\",\"blue\",\"blue\",\"blue\",\"blue\",\"blue\",\"blue\",\"blue\",\"blue\"],\"index\":[100,101,102,103,104,105,106,107,108,109,110,111,112,113,114,115,116,117,118,119,120,121,122,123,124,125,126,127,128,129,130,131,132,133,134,135,136,137,138,139,140,141,142,143,144,145,146,147,148,149],\"petal_length\":{\"__ndarray__\":\"AAAAAAAAGEBmZmZmZmYUQJqZmZmZmRdAZmZmZmZmFkAzMzMzMzMXQGZmZmZmZhpAAAAAAAAAEkAzMzMzMzMZQDMzMzMzMxdAZmZmZmZmGEBmZmZmZmYUQDMzMzMzMxVAAAAAAAAAFkAAAAAAAAAUQGZmZmZmZhRAMzMzMzMzFUAAAAAAAAAWQM3MzMzMzBpAmpmZmZmZG0AAAAAAAAAUQM3MzMzMzBZAmpmZmZmZE0DNzMzMzMwaQJqZmZmZmRNAzczMzMzMFkAAAAAAAAAYQDMzMzMzMxNAmpmZmZmZE0BmZmZmZmYWQDMzMzMzMxdAZmZmZmZmGECamZmZmZkZQGZmZmZmZhZAZmZmZmZmFEBmZmZmZmYWQGZmZmZmZhhAZmZmZmZmFkAAAAAAAAAWQDMzMzMzMxNAmpmZmZmZFUBmZmZmZmYWQGZmZmZmZhRAZmZmZmZmFECamZmZmZkXQM3MzMzMzBZAzczMzMzMFEAAAAAAAAAUQM3MzMzMzBRAmpmZmZmZFUBmZmZmZmYUQA==\",\"dtype\":\"float64\",\"shape\":[50]},\"petal_width\":{\"__ndarray__\":\"AAAAAAAABEBmZmZmZmb+P83MzMzMzABAzczMzMzM/D+amZmZmZkBQM3MzMzMzABAMzMzMzMz+z/NzMzMzMz8P83MzMzMzPw/AAAAAAAABEAAAAAAAAAAQGZmZmZmZv4/zczMzMzMAEAAAAAAAAAAQDMzMzMzMwNAZmZmZmZmAkDNzMzMzMz8P5qZmZmZmQFAZmZmZmZmAkAAAAAAAAD4P2ZmZmZmZgJAAAAAAAAAAEAAAAAAAAAAQM3MzMzMzPw/zczMzMzMAEDNzMzMzMz8P83MzMzMzPw/zczMzMzM/D/NzMzMzMwAQJqZmZmZmfk/ZmZmZmZm/j8AAAAAAAAAQJqZmZmZmQFAAAAAAAAA+D9mZmZmZmb2P2ZmZmZmZgJAMzMzMzMzA0DNzMzMzMz8P83MzMzMzPw/zczMzMzMAEAzMzMzMzMDQGZmZmZmZgJAZmZmZmZm/j9mZmZmZmYCQAAAAAAAAARAZmZmZmZmAkBmZmZmZmb+PwAAAAAAAABAZmZmZmZmAkDNzMzMzMz8Pw==\",\"dtype\":\"float64\",\"shape\":[50]},\"sepal_length\":{\"__ndarray__\":\"MzMzMzMzGUAzMzMzMzMXQGZmZmZmZhxAMzMzMzMzGUAAAAAAAAAaQGZmZmZmZh5AmpmZmZmZE0AzMzMzMzMdQM3MzMzMzBpAzczMzMzMHEAAAAAAAAAaQJqZmZmZmRlAMzMzMzMzG0DNzMzMzMwWQDMzMzMzMxdAmpmZmZmZGUAAAAAAAAAaQM3MzMzMzB5AzczMzMzMHkAAAAAAAAAYQJqZmZmZmRtAZmZmZmZmFkDNzMzMzMweQDMzMzMzMxlAzczMzMzMGkDNzMzMzMwcQM3MzMzMzBhAZmZmZmZmGECamZmZmZkZQM3MzMzMzBxAmpmZmZmZHUCamZmZmZkfQJqZmZmZmRlAMzMzMzMzGUBmZmZmZmYYQM3MzMzMzB5AMzMzMzMzGUCamZmZmZkZQAAAAAAAABhAmpmZmZmZG0DNzMzMzMwaQJqZmZmZmRtAMzMzMzMzF0AzMzMzMzMbQM3MzMzMzBpAzczMzMzMGkAzMzMzMzMZQAAAAAAAABpAzczMzMzMGECamZmZmZkXQA==\",\"dtype\":\"float64\",\"shape\":[50]},\"sepal_width\":{\"__ndarray__\":\"ZmZmZmZmCkCamZmZmZkFQAAAAAAAAAhAMzMzMzMzB0AAAAAAAAAIQAAAAAAAAAhAAAAAAAAABEAzMzMzMzMHQAAAAAAAAARAzczMzMzMDECamZmZmZkJQJqZmZmZmQVAAAAAAAAACEAAAAAAAAAEQGZmZmZmZgZAmpmZmZmZCUAAAAAAAAAIQGZmZmZmZg5AzczMzMzMBECamZmZmZkBQJqZmZmZmQlAZmZmZmZmBkBmZmZmZmYGQJqZmZmZmQVAZmZmZmZmCkCamZmZmZkJQGZmZmZmZgZAAAAAAAAACEBmZmZmZmYGQAAAAAAAAAhAZmZmZmZmBkBmZmZmZmYOQGZmZmZmZgZAZmZmZmZmBkDNzMzMzMwEQAAAAAAAAAhAMzMzMzMzC0DNzMzMzMwIQAAAAAAAAAhAzczMzMzMCEDNzMzMzMwIQM3MzMzMzAhAmpmZmZmZBUCamZmZmZkJQGZmZmZmZgpAAAAAAAAACEAAAAAAAAAEQAAAAAAAAAhAMzMzMzMzC0AAAAAAAAAIQA==\",\"dtype\":\"float64\",\"shape\":[50]},\"size\":{\"__ndarray__\":\"ZmZmZmZmKkCamZmZmZklQAAAAAAAAChAMzMzMzMzJ0AAAAAAAAAoQAAAAAAAAChAAAAAAAAAJEAzMzMzMzMnQAAAAAAAACRAzczMzMzMLECamZmZmZkpQJqZmZmZmSVAAAAAAAAAKEAAAAAAAAAkQGZmZmZmZiZAmpmZmZmZKUAAAAAAAAAoQGZmZmZmZi5AzczMzMzMJECamZmZmZkhQJqZmZmZmSlAZmZmZmZmJkBmZmZmZmYmQJqZmZmZmSVAZmZmZmZmKkCamZmZmZkpQGZmZmZmZiZAAAAAAAAAKEBmZmZmZmYmQAAAAAAAAChAZmZmZmZmJkBmZmZmZmYuQGZmZmZmZiZAZmZmZmZmJkDNzMzMzMwkQAAAAAAAAChAMzMzMzMzK0DNzMzMzMwoQAAAAAAAAChAzczMzMzMKEDNzMzMzMwoQM3MzMzMzChAmpmZmZmZJUCamZmZmZkpQGZmZmZmZipAAAAAAAAAKEAAAAAAAAAkQAAAAAAAAChAMzMzMzMzK0AAAAAAAAAoQA==\",\"dtype\":\"float64\",\"shape\":[50]},\"species\":[\"virginica\",\"virginica\",\"virginica\",\"virginica\",\"virginica\",\"virginica\",\"virginica\",\"virginica\",\"virginica\",\"virginica\",\"virginica\",\"virginica\",\"virginica\",\"virginica\",\"virginica\",\"virginica\",\"virginica\",\"virginica\",\"virginica\",\"virginica\",\"virginica\",\"virginica\",\"virginica\",\"virginica\",\"virginica\",\"virginica\",\"virginica\",\"virginica\",\"virginica\",\"virginica\",\"virginica\",\"virginica\",\"virginica\",\"virginica\",\"virginica\",\"virginica\",\"virginica\",\"virginica\",\"virginica\",\"virginica\",\"virginica\",\"virginica\",\"virginica\",\"virginica\",\"virginica\",\"virginica\",\"virginica\",\"virginica\",\"virginica\",\"virginica\"]},\"selected\":{\"id\":\"6668\",\"type\":\"Selection\"},\"selection_policy\":{\"id\":\"6667\",\"type\":\"UnionRenderers\"}},\"id\":\"6396\",\"type\":\"ColumnDataSource\"},{\"attributes\":{\"items\":[{\"id\":\"6442\",\"type\":\"LegendItem\"},{\"id\":\"6457\",\"type\":\"LegendItem\"},{\"id\":\"6474\",\"type\":\"LegendItem\"}]},\"id\":\"6441\",\"type\":\"Legend\"}],\"root_ids\":[\"6397\"]},\"title\":\"Bokeh Application\",\"version\":\"1.3.4\"}};\n  var render_items = [{\"docid\":\"6e082a7e-87b5-47da-96bd-b8ebfa18165d\",\"roots\":{\"6397\":\"b9105c3d-3b17-49af-beb2-58ff55c0fc61\"}}];\n  root.Bokeh.embed.embed_items_notebook(docs_json, render_items);\n\n  }\n  if (root.Bokeh !== undefined) {\n    embed_document(root);\n  } else {\n    var attempts = 0;\n    var timer = setInterval(function(root) {\n      if (root.Bokeh !== undefined) {\n        embed_document(root);\n        clearInterval(timer);\n      }\n      attempts++;\n      if (attempts > 100) {\n        console.log(\"Bokeh: ERROR: Unable to run BokehJS code because BokehJS library is missing\");\n        clearInterval(timer);\n      }\n    }, 10, root)\n  }\n})(window);",
      "application/vnd.bokehjs_exec.v0+json": ""
     },
     "metadata": {
      "application/vnd.bokehjs_exec.v0+json": {
       "id": "6397"
      }
     }
    }
   ],
   "source": [
    "\n",
    "#Plotting flower species\n",
    "\n",
    "#Importing libraries\n",
    "from bokeh.plotting import figure\n",
    "from bokeh.io import output_file, show\n",
    "from bokeh.sampledata.iris import flowers\n",
    "from bokeh.models import Range1d, PanTool, ResetTool, HoverTool, ColumnDataSource, LabelSet\n",
    "\n",
    "colormap={'setosa':'red','versicolor':'green','virginica':'blue'}\n",
    "flowers['color'] = [colormap[x] for x in flowers['species']]\n",
    "flowers['size'] = flowers['sepal_width'] * 4\n",
    "\n",
    "\n",
    "setosa = ColumnDataSource(flowers[flowers[\"species\"]==\"setosa\"])\n",
    "versicolor = ColumnDataSource(flowers[flowers[\"species\"]==\"versicolor\"])\n",
    "virginica = ColumnDataSource(flowers[flowers[\"species\"]==\"virginica\"])\n",
    "\n",
    "#Define the output file path\n",
    "#output_file(\"iris.html\")\n",
    "\n",
    "#Create the figure object\n",
    "f = figure()\n",
    "\n",
    "#adding glyphs\n",
    "f.circle(x=\"petal_length\", y=\"petal_width\", size='size', fill_alpha=0.2, \n",
    "         color=\"color\", line_dash=[5,3], legend='Setosa', source=setosa)\n",
    "\n",
    "f.circle(x=\"petal_length\", y=\"petal_width\", size='size', fill_alpha=0.2, \n",
    "         color=\"color\", line_dash=[5,3], legend='Versicolor', source=versicolor)\n",
    "\n",
    "f.circle(x=\"petal_length\", y=\"petal_width\", size='size', fill_alpha=0.2,\n",
    "         color=\"color\", line_dash=[5,3], legend='Virginica', source=virginica)\n",
    "\n",
    "#Save and show the figure\n",
    "show(f)\n"
   ]
  },
  {
   "cell_type": "markdown",
   "metadata": {
    "id": "jj8IvqB2hTyW"
   },
   "source": [
    "# PopUP with HTML"
   ]
  },
  {
   "cell_type": "code",
   "execution_count": 51,
   "metadata": {
    "id": "V6lgsYDehTyX",
    "outputId": "37699cf8-579b-4329-8731-dd51fc4228aa"
   },
   "outputs": [
    {
     "output_type": "display_data",
     "data": {
      "text/html": "\n\n\n\n\n\n  <div class=\"bk-root\" id=\"8d2b5d83-0217-4c3b-96b4-79eb0cd63a11\" data-root-id=\"6881\"></div>\n"
     },
     "metadata": {}
    },
    {
     "output_type": "display_data",
     "data": {
      "application/javascript": "(function(root) {\n  function embed_document(root) {\n    \n  var docs_json = {\"65a0e6a8-96dd-46f2-bf5f-55229159de0e\":{\"roots\":{\"references\":[{\"attributes\":{\"background_fill_alpha\":{\"value\":0.1},\"background_fill_color\":{\"value\":\"grey\"},\"below\":[{\"id\":\"6890\",\"type\":\"LinearAxis\"}],\"center\":[{\"id\":\"6894\",\"type\":\"Grid\"},{\"id\":\"6899\",\"type\":\"Grid\"},{\"id\":\"6933\",\"type\":\"Legend\"}],\"left\":[{\"id\":\"6895\",\"type\":\"LinearAxis\"}],\"renderers\":[{\"id\":\"6924\",\"type\":\"GlyphRenderer\"},{\"id\":\"6938\",\"type\":\"GlyphRenderer\"},{\"id\":\"6953\",\"type\":\"GlyphRenderer\"}],\"title\":{\"id\":\"6913\",\"type\":\"Title\"},\"toolbar\":{\"id\":\"6906\",\"type\":\"Toolbar\"},\"toolbar_location\":\"above\",\"x_range\":{\"id\":\"6918\",\"type\":\"Range1d\"},\"x_scale\":{\"id\":\"6886\",\"type\":\"LinearScale\"},\"y_range\":{\"id\":\"6919\",\"type\":\"Range1d\"},\"y_scale\":{\"id\":\"6888\",\"type\":\"LinearScale\"}},\"id\":\"6881\",\"subtype\":\"Figure\",\"type\":\"Plot\"},{\"attributes\":{},\"id\":\"6905\",\"type\":\"HelpTool\"},{\"attributes\":{\"label\":{\"value\":\"Versicolor\"},\"renderers\":[{\"id\":\"6938\",\"type\":\"GlyphRenderer\"}]},\"id\":\"6949\",\"type\":\"LegendItem\"},{\"attributes\":{},\"id\":\"6901\",\"type\":\"WheelZoomTool\"},{\"attributes\":{},\"id\":\"6948\",\"type\":\"Selection\"},{\"attributes\":{\"fill_alpha\":{\"value\":0.2},\"fill_color\":{\"field\":\"color\"},\"line_color\":{\"field\":\"color\"},\"line_dash\":[5,3],\"size\":{\"field\":\"size\",\"units\":\"screen\"},\"x\":{\"field\":\"petal_length\"},\"y\":{\"field\":\"petal_width\"}},\"id\":\"6936\",\"type\":\"Circle\"},{\"attributes\":{\"source\":{\"id\":\"6880\",\"type\":\"ColumnDataSource\"}},\"id\":\"6954\",\"type\":\"CDSView\"},{\"attributes\":{\"callback\":null,\"data\":{\"color\":[\"red\",\"red\",\"red\",\"red\",\"red\",\"red\",\"red\",\"red\",\"red\",\"red\",\"red\",\"red\",\"red\",\"red\",\"red\",\"red\",\"red\",\"red\",\"red\",\"red\",\"red\",\"red\",\"red\",\"red\",\"red\",\"red\",\"red\",\"red\",\"red\",\"red\",\"red\",\"red\",\"red\",\"red\",\"red\",\"red\",\"red\",\"red\",\"red\",\"red\",\"red\",\"red\",\"red\",\"red\",\"red\",\"red\",\"red\",\"red\",\"red\",\"red\"],\"imgs\":[\"https://upload.wikimedia.org/wikipedia/commons/thumb/5/56/Kosaciec_szczecinkowaty_Iris_setosa.jpg/800px-Kosaciec_szczecinkowaty_Iris_setosa.jpg\",\"https://upload.wikimedia.org/wikipedia/commons/thumb/5/56/Kosaciec_szczecinkowaty_Iris_setosa.jpg/800px-Kosaciec_szczecinkowaty_Iris_setosa.jpg\",\"https://upload.wikimedia.org/wikipedia/commons/thumb/5/56/Kosaciec_szczecinkowaty_Iris_setosa.jpg/800px-Kosaciec_szczecinkowaty_Iris_setosa.jpg\",\"https://upload.wikimedia.org/wikipedia/commons/thumb/5/56/Kosaciec_szczecinkowaty_Iris_setosa.jpg/800px-Kosaciec_szczecinkowaty_Iris_setosa.jpg\",\"https://upload.wikimedia.org/wikipedia/commons/thumb/5/56/Kosaciec_szczecinkowaty_Iris_setosa.jpg/800px-Kosaciec_szczecinkowaty_Iris_setosa.jpg\",\"https://upload.wikimedia.org/wikipedia/commons/thumb/5/56/Kosaciec_szczecinkowaty_Iris_setosa.jpg/800px-Kosaciec_szczecinkowaty_Iris_setosa.jpg\",\"https://upload.wikimedia.org/wikipedia/commons/thumb/5/56/Kosaciec_szczecinkowaty_Iris_setosa.jpg/800px-Kosaciec_szczecinkowaty_Iris_setosa.jpg\",\"https://upload.wikimedia.org/wikipedia/commons/thumb/5/56/Kosaciec_szczecinkowaty_Iris_setosa.jpg/800px-Kosaciec_szczecinkowaty_Iris_setosa.jpg\",\"https://upload.wikimedia.org/wikipedia/commons/thumb/5/56/Kosaciec_szczecinkowaty_Iris_setosa.jpg/800px-Kosaciec_szczecinkowaty_Iris_setosa.jpg\",\"https://upload.wikimedia.org/wikipedia/commons/thumb/5/56/Kosaciec_szczecinkowaty_Iris_setosa.jpg/800px-Kosaciec_szczecinkowaty_Iris_setosa.jpg\",\"https://upload.wikimedia.org/wikipedia/commons/thumb/5/56/Kosaciec_szczecinkowaty_Iris_setosa.jpg/800px-Kosaciec_szczecinkowaty_Iris_setosa.jpg\",\"https://upload.wikimedia.org/wikipedia/commons/thumb/5/56/Kosaciec_szczecinkowaty_Iris_setosa.jpg/800px-Kosaciec_szczecinkowaty_Iris_setosa.jpg\",\"https://upload.wikimedia.org/wikipedia/commons/thumb/5/56/Kosaciec_szczecinkowaty_Iris_setosa.jpg/800px-Kosaciec_szczecinkowaty_Iris_setosa.jpg\",\"https://upload.wikimedia.org/wikipedia/commons/thumb/5/56/Kosaciec_szczecinkowaty_Iris_setosa.jpg/800px-Kosaciec_szczecinkowaty_Iris_setosa.jpg\",\"https://upload.wikimedia.org/wikipedia/commons/thumb/5/56/Kosaciec_szczecinkowaty_Iris_setosa.jpg/800px-Kosaciec_szczecinkowaty_Iris_setosa.jpg\",\"https://upload.wikimedia.org/wikipedia/commons/thumb/5/56/Kosaciec_szczecinkowaty_Iris_setosa.jpg/800px-Kosaciec_szczecinkowaty_Iris_setosa.jpg\",\"https://upload.wikimedia.org/wikipedia/commons/thumb/5/56/Kosaciec_szczecinkowaty_Iris_setosa.jpg/800px-Kosaciec_szczecinkowaty_Iris_setosa.jpg\",\"https://upload.wikimedia.org/wikipedia/commons/thumb/5/56/Kosaciec_szczecinkowaty_Iris_setosa.jpg/800px-Kosaciec_szczecinkowaty_Iris_setosa.jpg\",\"https://upload.wikimedia.org/wikipedia/commons/thumb/5/56/Kosaciec_szczecinkowaty_Iris_setosa.jpg/800px-Kosaciec_szczecinkowaty_Iris_setosa.jpg\",\"https://upload.wikimedia.org/wikipedia/commons/thumb/5/56/Kosaciec_szczecinkowaty_Iris_setosa.jpg/800px-Kosaciec_szczecinkowaty_Iris_setosa.jpg\",\"https://upload.wikimedia.org/wikipedia/commons/thumb/5/56/Kosaciec_szczecinkowaty_Iris_setosa.jpg/800px-Kosaciec_szczecinkowaty_Iris_setosa.jpg\",\"https://upload.wikimedia.org/wikipedia/commons/thumb/5/56/Kosaciec_szczecinkowaty_Iris_setosa.jpg/800px-Kosaciec_szczecinkowaty_Iris_setosa.jpg\",\"https://upload.wikimedia.org/wikipedia/commons/thumb/5/56/Kosaciec_szczecinkowaty_Iris_setosa.jpg/800px-Kosaciec_szczecinkowaty_Iris_setosa.jpg\",\"https://upload.wikimedia.org/wikipedia/commons/thumb/5/56/Kosaciec_szczecinkowaty_Iris_setosa.jpg/800px-Kosaciec_szczecinkowaty_Iris_setosa.jpg\",\"https://upload.wikimedia.org/wikipedia/commons/thumb/5/56/Kosaciec_szczecinkowaty_Iris_setosa.jpg/800px-Kosaciec_szczecinkowaty_Iris_setosa.jpg\",\"https://upload.wikimedia.org/wikipedia/commons/thumb/5/56/Kosaciec_szczecinkowaty_Iris_setosa.jpg/800px-Kosaciec_szczecinkowaty_Iris_setosa.jpg\",\"https://upload.wikimedia.org/wikipedia/commons/thumb/5/56/Kosaciec_szczecinkowaty_Iris_setosa.jpg/800px-Kosaciec_szczecinkowaty_Iris_setosa.jpg\",\"https://upload.wikimedia.org/wikipedia/commons/thumb/5/56/Kosaciec_szczecinkowaty_Iris_setosa.jpg/800px-Kosaciec_szczecinkowaty_Iris_setosa.jpg\",\"https://upload.wikimedia.org/wikipedia/commons/thumb/5/56/Kosaciec_szczecinkowaty_Iris_setosa.jpg/800px-Kosaciec_szczecinkowaty_Iris_setosa.jpg\",\"https://upload.wikimedia.org/wikipedia/commons/thumb/5/56/Kosaciec_szczecinkowaty_Iris_setosa.jpg/800px-Kosaciec_szczecinkowaty_Iris_setosa.jpg\",\"https://upload.wikimedia.org/wikipedia/commons/thumb/5/56/Kosaciec_szczecinkowaty_Iris_setosa.jpg/800px-Kosaciec_szczecinkowaty_Iris_setosa.jpg\",\"https://upload.wikimedia.org/wikipedia/commons/thumb/5/56/Kosaciec_szczecinkowaty_Iris_setosa.jpg/800px-Kosaciec_szczecinkowaty_Iris_setosa.jpg\",\"https://upload.wikimedia.org/wikipedia/commons/thumb/5/56/Kosaciec_szczecinkowaty_Iris_setosa.jpg/800px-Kosaciec_szczecinkowaty_Iris_setosa.jpg\",\"https://upload.wikimedia.org/wikipedia/commons/thumb/5/56/Kosaciec_szczecinkowaty_Iris_setosa.jpg/800px-Kosaciec_szczecinkowaty_Iris_setosa.jpg\",\"https://upload.wikimedia.org/wikipedia/commons/thumb/5/56/Kosaciec_szczecinkowaty_Iris_setosa.jpg/800px-Kosaciec_szczecinkowaty_Iris_setosa.jpg\",\"https://upload.wikimedia.org/wikipedia/commons/thumb/5/56/Kosaciec_szczecinkowaty_Iris_setosa.jpg/800px-Kosaciec_szczecinkowaty_Iris_setosa.jpg\",\"https://upload.wikimedia.org/wikipedia/commons/thumb/5/56/Kosaciec_szczecinkowaty_Iris_setosa.jpg/800px-Kosaciec_szczecinkowaty_Iris_setosa.jpg\",\"https://upload.wikimedia.org/wikipedia/commons/thumb/5/56/Kosaciec_szczecinkowaty_Iris_setosa.jpg/800px-Kosaciec_szczecinkowaty_Iris_setosa.jpg\",\"https://upload.wikimedia.org/wikipedia/commons/thumb/5/56/Kosaciec_szczecinkowaty_Iris_setosa.jpg/800px-Kosaciec_szczecinkowaty_Iris_setosa.jpg\",\"https://upload.wikimedia.org/wikipedia/commons/thumb/5/56/Kosaciec_szczecinkowaty_Iris_setosa.jpg/800px-Kosaciec_szczecinkowaty_Iris_setosa.jpg\",\"https://upload.wikimedia.org/wikipedia/commons/thumb/5/56/Kosaciec_szczecinkowaty_Iris_setosa.jpg/800px-Kosaciec_szczecinkowaty_Iris_setosa.jpg\",\"https://upload.wikimedia.org/wikipedia/commons/thumb/5/56/Kosaciec_szczecinkowaty_Iris_setosa.jpg/800px-Kosaciec_szczecinkowaty_Iris_setosa.jpg\",\"https://upload.wikimedia.org/wikipedia/commons/thumb/5/56/Kosaciec_szczecinkowaty_Iris_setosa.jpg/800px-Kosaciec_szczecinkowaty_Iris_setosa.jpg\",\"https://upload.wikimedia.org/wikipedia/commons/thumb/5/56/Kosaciec_szczecinkowaty_Iris_setosa.jpg/800px-Kosaciec_szczecinkowaty_Iris_setosa.jpg\",\"https://upload.wikimedia.org/wikipedia/commons/thumb/5/56/Kosaciec_szczecinkowaty_Iris_setosa.jpg/800px-Kosaciec_szczecinkowaty_Iris_setosa.jpg\",\"https://upload.wikimedia.org/wikipedia/commons/thumb/5/56/Kosaciec_szczecinkowaty_Iris_setosa.jpg/800px-Kosaciec_szczecinkowaty_Iris_setosa.jpg\",\"https://upload.wikimedia.org/wikipedia/commons/thumb/5/56/Kosaciec_szczecinkowaty_Iris_setosa.jpg/800px-Kosaciec_szczecinkowaty_Iris_setosa.jpg\",\"https://upload.wikimedia.org/wikipedia/commons/thumb/5/56/Kosaciec_szczecinkowaty_Iris_setosa.jpg/800px-Kosaciec_szczecinkowaty_Iris_setosa.jpg\",\"https://upload.wikimedia.org/wikipedia/commons/thumb/5/56/Kosaciec_szczecinkowaty_Iris_setosa.jpg/800px-Kosaciec_szczecinkowaty_Iris_setosa.jpg\",\"https://upload.wikimedia.org/wikipedia/commons/thumb/5/56/Kosaciec_szczecinkowaty_Iris_setosa.jpg/800px-Kosaciec_szczecinkowaty_Iris_setosa.jpg\"],\"index\":[0,1,2,3,4,5,6,7,8,9,10,11,12,13,14,15,16,17,18,19,20,21,22,23,24,25,26,27,28,29,30,31,32,33,34,35,36,37,38,39,40,41,42,43,44,45,46,47,48,49],\"petal_length\":{\"__ndarray__\":\"ZmZmZmZm9j9mZmZmZmb2P83MzMzMzPQ/AAAAAAAA+D9mZmZmZmb2PzMzMzMzM/s/ZmZmZmZm9j8AAAAAAAD4P2ZmZmZmZvY/AAAAAAAA+D8AAAAAAAD4P5qZmZmZmfk/ZmZmZmZm9j+amZmZmZnxPzMzMzMzM/M/AAAAAAAA+D/NzMzMzMz0P2ZmZmZmZvY/MzMzMzMz+z8AAAAAAAD4PzMzMzMzM/s/AAAAAAAA+D8AAAAAAADwPzMzMzMzM/s/ZmZmZmZm/j+amZmZmZn5P5qZmZmZmfk/AAAAAAAA+D9mZmZmZmb2P5qZmZmZmfk/mpmZmZmZ+T8AAAAAAAD4PwAAAAAAAPg/ZmZmZmZm9j8AAAAAAAD4PzMzMzMzM/M/zczMzMzM9D9mZmZmZmb2P83MzMzMzPQ/AAAAAAAA+D/NzMzMzMz0P83MzMzMzPQ/zczMzMzM9D+amZmZmZn5P2ZmZmZmZv4/ZmZmZmZm9j+amZmZmZn5P2ZmZmZmZvY/AAAAAAAA+D9mZmZmZmb2Pw==\",\"dtype\":\"float64\",\"shape\":[50]},\"petal_width\":{\"__ndarray__\":\"mpmZmZmZyT+amZmZmZnJP5qZmZmZmck/mpmZmZmZyT+amZmZmZnJP5qZmZmZmdk/MzMzMzMz0z+amZmZmZnJP5qZmZmZmck/mpmZmZmZuT+amZmZmZnJP5qZmZmZmck/mpmZmZmZuT+amZmZmZm5P5qZmZmZmck/mpmZmZmZ2T+amZmZmZnZPzMzMzMzM9M/MzMzMzMz0z8zMzMzMzPTP5qZmZmZmck/mpmZmZmZ2T+amZmZmZnJPwAAAAAAAOA/mpmZmZmZyT+amZmZmZnJP5qZmZmZmdk/mpmZmZmZyT+amZmZmZnJP5qZmZmZmck/mpmZmZmZyT+amZmZmZnZP5qZmZmZmbk/mpmZmZmZyT+amZmZmZnJP5qZmZmZmck/mpmZmZmZyT+amZmZmZm5P5qZmZmZmck/mpmZmZmZyT8zMzMzMzPTPzMzMzMzM9M/mpmZmZmZyT8zMzMzMzPjP5qZmZmZmdk/MzMzMzMz0z+amZmZmZnJP5qZmZmZmck/mpmZmZmZyT+amZmZmZnJPw==\",\"dtype\":\"float64\",\"shape\":[50]},\"sepal_length\":{\"__ndarray__\":\"ZmZmZmZmFECamZmZmZkTQM3MzMzMzBJAZmZmZmZmEkAAAAAAAAAUQJqZmZmZmRVAZmZmZmZmEkAAAAAAAAAUQJqZmZmZmRFAmpmZmZmZE0CamZmZmZkVQDMzMzMzMxNAMzMzMzMzE0AzMzMzMzMRQDMzMzMzMxdAzczMzMzMFkCamZmZmZkVQGZmZmZmZhRAzczMzMzMFkBmZmZmZmYUQJqZmZmZmRVAZmZmZmZmFEBmZmZmZmYSQGZmZmZmZhRAMzMzMzMzE0AAAAAAAAAUQAAAAAAAABRAzczMzMzMFEDNzMzMzMwUQM3MzMzMzBJAMzMzMzMzE0CamZmZmZkVQM3MzMzMzBRAAAAAAAAAFkCamZmZmZkTQAAAAAAAABRAAAAAAAAAFkCamZmZmZkTQJqZmZmZmRFAZmZmZmZmFEAAAAAAAAAUQAAAAAAAABJAmpmZmZmZEUAAAAAAAAAUQGZmZmZmZhRAMzMzMzMzE0BmZmZmZmYUQGZmZmZmZhJAMzMzMzMzFUAAAAAAAAAUQA==\",\"dtype\":\"float64\",\"shape\":[50]},\"sepal_width\":{\"__ndarray__\":\"AAAAAAAADEAAAAAAAAAIQJqZmZmZmQlAzczMzMzMCEDNzMzMzMwMQDMzMzMzMw9AMzMzMzMzC0AzMzMzMzMLQDMzMzMzMwdAzczMzMzMCECamZmZmZkNQDMzMzMzMwtAAAAAAAAACEAAAAAAAAAIQAAAAAAAABBAmpmZmZmZEUAzMzMzMzMPQAAAAAAAAAxAZmZmZmZmDkBmZmZmZmYOQDMzMzMzMwtAmpmZmZmZDUDNzMzMzMwMQGZmZmZmZgpAMzMzMzMzC0AAAAAAAAAIQDMzMzMzMwtAAAAAAAAADEAzMzMzMzMLQJqZmZmZmQlAzczMzMzMCEAzMzMzMzMLQGZmZmZmZhBAzczMzMzMEEDNzMzMzMwIQJqZmZmZmQlAAAAAAAAADEDNzMzMzMwMQAAAAAAAAAhAMzMzMzMzC0AAAAAAAAAMQGZmZmZmZgJAmpmZmZmZCUAAAAAAAAAMQGZmZmZmZg5AAAAAAAAACEBmZmZmZmYOQJqZmZmZmQlAmpmZmZmZDUBmZmZmZmYKQA==\",\"dtype\":\"float64\",\"shape\":[50]},\"size\":{\"__ndarray__\":\"AAAAAAAALEAAAAAAAAAoQJqZmZmZmSlAzczMzMzMKEDNzMzMzMwsQDMzMzMzMy9AMzMzMzMzK0AzMzMzMzMrQDMzMzMzMydAzczMzMzMKECamZmZmZktQDMzMzMzMytAAAAAAAAAKEAAAAAAAAAoQAAAAAAAADBAmpmZmZmZMUAzMzMzMzMvQAAAAAAAACxAZmZmZmZmLkBmZmZmZmYuQDMzMzMzMytAmpmZmZmZLUDNzMzMzMwsQGZmZmZmZipAMzMzMzMzK0AAAAAAAAAoQDMzMzMzMytAAAAAAAAALEAzMzMzMzMrQJqZmZmZmSlAzczMzMzMKEAzMzMzMzMrQGZmZmZmZjBAzczMzMzMMEDNzMzMzMwoQJqZmZmZmSlAAAAAAAAALEDNzMzMzMwsQAAAAAAAAChAMzMzMzMzK0AAAAAAAAAsQGZmZmZmZiJAmpmZmZmZKUAAAAAAAAAsQGZmZmZmZi5AAAAAAAAAKEBmZmZmZmYuQJqZmZmZmSlAmpmZmZmZLUBmZmZmZmYqQA==\",\"dtype\":\"float64\",\"shape\":[50]},\"species\":[\"setosa\",\"setosa\",\"setosa\",\"setosa\",\"setosa\",\"setosa\",\"setosa\",\"setosa\",\"setosa\",\"setosa\",\"setosa\",\"setosa\",\"setosa\",\"setosa\",\"setosa\",\"setosa\",\"setosa\",\"setosa\",\"setosa\",\"setosa\",\"setosa\",\"setosa\",\"setosa\",\"setosa\",\"setosa\",\"setosa\",\"setosa\",\"setosa\",\"setosa\",\"setosa\",\"setosa\",\"setosa\",\"setosa\",\"setosa\",\"setosa\",\"setosa\",\"setosa\",\"setosa\",\"setosa\",\"setosa\",\"setosa\",\"setosa\",\"setosa\",\"setosa\",\"setosa\",\"setosa\",\"setosa\",\"setosa\",\"setosa\",\"setosa\"]},\"selected\":{\"id\":\"6948\",\"type\":\"Selection\"},\"selection_policy\":{\"id\":\"6947\",\"type\":\"UnionRenderers\"}},\"id\":\"6878\",\"type\":\"ColumnDataSource\"},{\"attributes\":{\"background_fill_alpha\":{\"value\":0},\"border_line_color\":{\"value\":null},\"items\":[{\"id\":\"6934\",\"type\":\"LegendItem\"},{\"id\":\"6949\",\"type\":\"LegendItem\"},{\"id\":\"6966\",\"type\":\"LegendItem\"}],\"label_text_color\":{\"value\":\"olive\"},\"location\":\"top_left\",\"padding\":18},\"id\":\"6933\",\"type\":\"Legend\"},{\"attributes\":{},\"id\":\"7178\",\"type\":\"Selection\"},{\"attributes\":{\"active_drag\":\"auto\",\"active_inspect\":\"auto\",\"active_multi\":null,\"active_scroll\":\"auto\",\"active_tap\":\"auto\",\"logo\":null,\"tools\":[{\"id\":\"6900\",\"type\":\"PanTool\"},{\"id\":\"6901\",\"type\":\"WheelZoomTool\"},{\"id\":\"6902\",\"type\":\"BoxZoomTool\"},{\"id\":\"6903\",\"type\":\"SaveTool\"},{\"id\":\"6904\",\"type\":\"ResetTool\"},{\"id\":\"6905\",\"type\":\"HelpTool\"},{\"id\":\"6969\",\"type\":\"HoverTool\"}]},\"id\":\"6906\",\"type\":\"Toolbar\"},{\"attributes\":{\"fill_alpha\":{\"value\":0.1},\"fill_color\":{\"value\":\"#1f77b4\"},\"line_alpha\":{\"value\":0.1},\"line_color\":{\"value\":\"#1f77b4\"},\"line_dash\":[5,3],\"size\":{\"field\":\"size\",\"units\":\"screen\"},\"x\":{\"field\":\"petal_length\"},\"y\":{\"field\":\"petal_width\"}},\"id\":\"6952\",\"type\":\"Circle\"},{\"attributes\":{},\"id\":\"6888\",\"type\":\"LinearScale\"},{\"attributes\":{\"grid_line_color\":null,\"grid_line_dash\":[5,3],\"ticker\":{\"id\":\"6891\",\"type\":\"BasicTicker\"}},\"id\":\"6894\",\"type\":\"Grid\"},{\"attributes\":{\"align\":\"center\",\"text\":\"Iris Morphology\",\"text_color\":{\"value\":\"olive\"},\"text_font_size\":{\"value\":\"40px\"}},\"id\":\"6913\",\"type\":\"Title\"},{\"attributes\":{\"fill_alpha\":{\"value\":0.1},\"fill_color\":{\"value\":\"#1f77b4\"},\"line_alpha\":{\"value\":0.1},\"line_color\":{\"value\":\"#1f77b4\"},\"line_dash\":[5,3],\"size\":{\"field\":\"size\",\"units\":\"screen\"},\"x\":{\"field\":\"petal_length\"},\"y\":{\"field\":\"petal_width\"}},\"id\":\"6937\",\"type\":\"Circle\"},{\"attributes\":{},\"id\":\"6947\",\"type\":\"UnionRenderers\"},{\"attributes\":{},\"id\":\"6886\",\"type\":\"LinearScale\"},{\"attributes\":{\"axis_label\":\"Petal Length\",\"axis_label_text_color\":{\"value\":\"blue\"},\"formatter\":{\"id\":\"6928\",\"type\":\"BasicTickFormatter\"},\"major_label_text_color\":{\"value\":\"orange\"},\"minor_tick_in\":-6,\"minor_tick_line_color\":{\"value\":\"blue\"},\"ticker\":{\"id\":\"6891\",\"type\":\"BasicTicker\"}},\"id\":\"6890\",\"type\":\"LinearAxis\"},{\"attributes\":{\"data_source\":{\"id\":\"6880\",\"type\":\"ColumnDataSource\"},\"glyph\":{\"id\":\"6951\",\"type\":\"Circle\"},\"hover_glyph\":null,\"muted_glyph\":null,\"nonselection_glyph\":{\"id\":\"6952\",\"type\":\"Circle\"},\"selection_glyph\":null,\"view\":{\"id\":\"6954\",\"type\":\"CDSView\"}},\"id\":\"6953\",\"type\":\"GlyphRenderer\"},{\"attributes\":{\"num_minor_ticks\":2},\"id\":\"6896\",\"type\":\"BasicTicker\"},{\"attributes\":{\"callback\":null,\"data\":{\"color\":[\"blue\",\"blue\",\"blue\",\"blue\",\"blue\",\"blue\",\"blue\",\"blue\",\"blue\",\"blue\",\"blue\",\"blue\",\"blue\",\"blue\",\"blue\",\"blue\",\"blue\",\"blue\",\"blue\",\"blue\",\"blue\",\"blue\",\"blue\",\"blue\",\"blue\",\"blue\",\"blue\",\"blue\",\"blue\",\"blue\",\"blue\",\"blue\",\"blue\",\"blue\",\"blue\",\"blue\",\"blue\",\"blue\",\"blue\",\"blue\",\"blue\",\"blue\",\"blue\",\"blue\",\"blue\",\"blue\",\"blue\",\"blue\",\"blue\",\"blue\"],\"imgs\":[\"https://upload.wikimedia.org/wikipedia/commons/thumb/9/9f/Iris_virginica.jpg/800px-Iris_virginica.jpg\",\"https://upload.wikimedia.org/wikipedia/commons/thumb/9/9f/Iris_virginica.jpg/800px-Iris_virginica.jpg\",\"https://upload.wikimedia.org/wikipedia/commons/thumb/9/9f/Iris_virginica.jpg/800px-Iris_virginica.jpg\",\"https://upload.wikimedia.org/wikipedia/commons/thumb/9/9f/Iris_virginica.jpg/800px-Iris_virginica.jpg\",\"https://upload.wikimedia.org/wikipedia/commons/thumb/9/9f/Iris_virginica.jpg/800px-Iris_virginica.jpg\",\"https://upload.wikimedia.org/wikipedia/commons/thumb/9/9f/Iris_virginica.jpg/800px-Iris_virginica.jpg\",\"https://upload.wikimedia.org/wikipedia/commons/thumb/9/9f/Iris_virginica.jpg/800px-Iris_virginica.jpg\",\"https://upload.wikimedia.org/wikipedia/commons/thumb/9/9f/Iris_virginica.jpg/800px-Iris_virginica.jpg\",\"https://upload.wikimedia.org/wikipedia/commons/thumb/9/9f/Iris_virginica.jpg/800px-Iris_virginica.jpg\",\"https://upload.wikimedia.org/wikipedia/commons/thumb/9/9f/Iris_virginica.jpg/800px-Iris_virginica.jpg\",\"https://upload.wikimedia.org/wikipedia/commons/thumb/9/9f/Iris_virginica.jpg/800px-Iris_virginica.jpg\",\"https://upload.wikimedia.org/wikipedia/commons/thumb/9/9f/Iris_virginica.jpg/800px-Iris_virginica.jpg\",\"https://upload.wikimedia.org/wikipedia/commons/thumb/9/9f/Iris_virginica.jpg/800px-Iris_virginica.jpg\",\"https://upload.wikimedia.org/wikipedia/commons/thumb/9/9f/Iris_virginica.jpg/800px-Iris_virginica.jpg\",\"https://upload.wikimedia.org/wikipedia/commons/thumb/9/9f/Iris_virginica.jpg/800px-Iris_virginica.jpg\",\"https://upload.wikimedia.org/wikipedia/commons/thumb/9/9f/Iris_virginica.jpg/800px-Iris_virginica.jpg\",\"https://upload.wikimedia.org/wikipedia/commons/thumb/9/9f/Iris_virginica.jpg/800px-Iris_virginica.jpg\",\"https://upload.wikimedia.org/wikipedia/commons/thumb/9/9f/Iris_virginica.jpg/800px-Iris_virginica.jpg\",\"https://upload.wikimedia.org/wikipedia/commons/thumb/9/9f/Iris_virginica.jpg/800px-Iris_virginica.jpg\",\"https://upload.wikimedia.org/wikipedia/commons/thumb/9/9f/Iris_virginica.jpg/800px-Iris_virginica.jpg\",\"https://upload.wikimedia.org/wikipedia/commons/thumb/9/9f/Iris_virginica.jpg/800px-Iris_virginica.jpg\",\"https://upload.wikimedia.org/wikipedia/commons/thumb/9/9f/Iris_virginica.jpg/800px-Iris_virginica.jpg\",\"https://upload.wikimedia.org/wikipedia/commons/thumb/9/9f/Iris_virginica.jpg/800px-Iris_virginica.jpg\",\"https://upload.wikimedia.org/wikipedia/commons/thumb/9/9f/Iris_virginica.jpg/800px-Iris_virginica.jpg\",\"https://upload.wikimedia.org/wikipedia/commons/thumb/9/9f/Iris_virginica.jpg/800px-Iris_virginica.jpg\",\"https://upload.wikimedia.org/wikipedia/commons/thumb/9/9f/Iris_virginica.jpg/800px-Iris_virginica.jpg\",\"https://upload.wikimedia.org/wikipedia/commons/thumb/9/9f/Iris_virginica.jpg/800px-Iris_virginica.jpg\",\"https://upload.wikimedia.org/wikipedia/commons/thumb/9/9f/Iris_virginica.jpg/800px-Iris_virginica.jpg\",\"https://upload.wikimedia.org/wikipedia/commons/thumb/9/9f/Iris_virginica.jpg/800px-Iris_virginica.jpg\",\"https://upload.wikimedia.org/wikipedia/commons/thumb/9/9f/Iris_virginica.jpg/800px-Iris_virginica.jpg\",\"https://upload.wikimedia.org/wikipedia/commons/thumb/9/9f/Iris_virginica.jpg/800px-Iris_virginica.jpg\",\"https://upload.wikimedia.org/wikipedia/commons/thumb/9/9f/Iris_virginica.jpg/800px-Iris_virginica.jpg\",\"https://upload.wikimedia.org/wikipedia/commons/thumb/9/9f/Iris_virginica.jpg/800px-Iris_virginica.jpg\",\"https://upload.wikimedia.org/wikipedia/commons/thumb/9/9f/Iris_virginica.jpg/800px-Iris_virginica.jpg\",\"https://upload.wikimedia.org/wikipedia/commons/thumb/9/9f/Iris_virginica.jpg/800px-Iris_virginica.jpg\",\"https://upload.wikimedia.org/wikipedia/commons/thumb/9/9f/Iris_virginica.jpg/800px-Iris_virginica.jpg\",\"https://upload.wikimedia.org/wikipedia/commons/thumb/9/9f/Iris_virginica.jpg/800px-Iris_virginica.jpg\",\"https://upload.wikimedia.org/wikipedia/commons/thumb/9/9f/Iris_virginica.jpg/800px-Iris_virginica.jpg\",\"https://upload.wikimedia.org/wikipedia/commons/thumb/9/9f/Iris_virginica.jpg/800px-Iris_virginica.jpg\",\"https://upload.wikimedia.org/wikipedia/commons/thumb/9/9f/Iris_virginica.jpg/800px-Iris_virginica.jpg\",\"https://upload.wikimedia.org/wikipedia/commons/thumb/9/9f/Iris_virginica.jpg/800px-Iris_virginica.jpg\",\"https://upload.wikimedia.org/wikipedia/commons/thumb/9/9f/Iris_virginica.jpg/800px-Iris_virginica.jpg\",\"https://upload.wikimedia.org/wikipedia/commons/thumb/9/9f/Iris_virginica.jpg/800px-Iris_virginica.jpg\",\"https://upload.wikimedia.org/wikipedia/commons/thumb/9/9f/Iris_virginica.jpg/800px-Iris_virginica.jpg\",\"https://upload.wikimedia.org/wikipedia/commons/thumb/9/9f/Iris_virginica.jpg/800px-Iris_virginica.jpg\",\"https://upload.wikimedia.org/wikipedia/commons/thumb/9/9f/Iris_virginica.jpg/800px-Iris_virginica.jpg\",\"https://upload.wikimedia.org/wikipedia/commons/thumb/9/9f/Iris_virginica.jpg/800px-Iris_virginica.jpg\",\"https://upload.wikimedia.org/wikipedia/commons/thumb/9/9f/Iris_virginica.jpg/800px-Iris_virginica.jpg\",\"https://upload.wikimedia.org/wikipedia/commons/thumb/9/9f/Iris_virginica.jpg/800px-Iris_virginica.jpg\",\"https://upload.wikimedia.org/wikipedia/commons/thumb/9/9f/Iris_virginica.jpg/800px-Iris_virginica.jpg\"],\"index\":[100,101,102,103,104,105,106,107,108,109,110,111,112,113,114,115,116,117,118,119,120,121,122,123,124,125,126,127,128,129,130,131,132,133,134,135,136,137,138,139,140,141,142,143,144,145,146,147,148,149],\"petal_length\":{\"__ndarray__\":\"AAAAAAAAGEBmZmZmZmYUQJqZmZmZmRdAZmZmZmZmFkAzMzMzMzMXQGZmZmZmZhpAAAAAAAAAEkAzMzMzMzMZQDMzMzMzMxdAZmZmZmZmGEBmZmZmZmYUQDMzMzMzMxVAAAAAAAAAFkAAAAAAAAAUQGZmZmZmZhRAMzMzMzMzFUAAAAAAAAAWQM3MzMzMzBpAmpmZmZmZG0AAAAAAAAAUQM3MzMzMzBZAmpmZmZmZE0DNzMzMzMwaQJqZmZmZmRNAzczMzMzMFkAAAAAAAAAYQDMzMzMzMxNAmpmZmZmZE0BmZmZmZmYWQDMzMzMzMxdAZmZmZmZmGECamZmZmZkZQGZmZmZmZhZAZmZmZmZmFEBmZmZmZmYWQGZmZmZmZhhAZmZmZmZmFkAAAAAAAAAWQDMzMzMzMxNAmpmZmZmZFUBmZmZmZmYWQGZmZmZmZhRAZmZmZmZmFECamZmZmZkXQM3MzMzMzBZAzczMzMzMFEAAAAAAAAAUQM3MzMzMzBRAmpmZmZmZFUBmZmZmZmYUQA==\",\"dtype\":\"float64\",\"shape\":[50]},\"petal_width\":{\"__ndarray__\":\"AAAAAAAABEBmZmZmZmb+P83MzMzMzABAzczMzMzM/D+amZmZmZkBQM3MzMzMzABAMzMzMzMz+z/NzMzMzMz8P83MzMzMzPw/AAAAAAAABEAAAAAAAAAAQGZmZmZmZv4/zczMzMzMAEAAAAAAAAAAQDMzMzMzMwNAZmZmZmZmAkDNzMzMzMz8P5qZmZmZmQFAZmZmZmZmAkAAAAAAAAD4P2ZmZmZmZgJAAAAAAAAAAEAAAAAAAAAAQM3MzMzMzPw/zczMzMzMAEDNzMzMzMz8P83MzMzMzPw/zczMzMzM/D/NzMzMzMwAQJqZmZmZmfk/ZmZmZmZm/j8AAAAAAAAAQJqZmZmZmQFAAAAAAAAA+D9mZmZmZmb2P2ZmZmZmZgJAMzMzMzMzA0DNzMzMzMz8P83MzMzMzPw/zczMzMzMAEAzMzMzMzMDQGZmZmZmZgJAZmZmZmZm/j9mZmZmZmYCQAAAAAAAAARAZmZmZmZmAkBmZmZmZmb+PwAAAAAAAABAZmZmZmZmAkDNzMzMzMz8Pw==\",\"dtype\":\"float64\",\"shape\":[50]},\"sepal_length\":{\"__ndarray__\":\"MzMzMzMzGUAzMzMzMzMXQGZmZmZmZhxAMzMzMzMzGUAAAAAAAAAaQGZmZmZmZh5AmpmZmZmZE0AzMzMzMzMdQM3MzMzMzBpAzczMzMzMHEAAAAAAAAAaQJqZmZmZmRlAMzMzMzMzG0DNzMzMzMwWQDMzMzMzMxdAmpmZmZmZGUAAAAAAAAAaQM3MzMzMzB5AzczMzMzMHkAAAAAAAAAYQJqZmZmZmRtAZmZmZmZmFkDNzMzMzMweQDMzMzMzMxlAzczMzMzMGkDNzMzMzMwcQM3MzMzMzBhAZmZmZmZmGECamZmZmZkZQM3MzMzMzBxAmpmZmZmZHUCamZmZmZkfQJqZmZmZmRlAMzMzMzMzGUBmZmZmZmYYQM3MzMzMzB5AMzMzMzMzGUCamZmZmZkZQAAAAAAAABhAmpmZmZmZG0DNzMzMzMwaQJqZmZmZmRtAMzMzMzMzF0AzMzMzMzMbQM3MzMzMzBpAzczMzMzMGkAzMzMzMzMZQAAAAAAAABpAzczMzMzMGECamZmZmZkXQA==\",\"dtype\":\"float64\",\"shape\":[50]},\"sepal_width\":{\"__ndarray__\":\"ZmZmZmZmCkCamZmZmZkFQAAAAAAAAAhAMzMzMzMzB0AAAAAAAAAIQAAAAAAAAAhAAAAAAAAABEAzMzMzMzMHQAAAAAAAAARAzczMzMzMDECamZmZmZkJQJqZmZmZmQVAAAAAAAAACEAAAAAAAAAEQGZmZmZmZgZAmpmZmZmZCUAAAAAAAAAIQGZmZmZmZg5AzczMzMzMBECamZmZmZkBQJqZmZmZmQlAZmZmZmZmBkBmZmZmZmYGQJqZmZmZmQVAZmZmZmZmCkCamZmZmZkJQGZmZmZmZgZAAAAAAAAACEBmZmZmZmYGQAAAAAAAAAhAZmZmZmZmBkBmZmZmZmYOQGZmZmZmZgZAZmZmZmZmBkDNzMzMzMwEQAAAAAAAAAhAMzMzMzMzC0DNzMzMzMwIQAAAAAAAAAhAzczMzMzMCEDNzMzMzMwIQM3MzMzMzAhAmpmZmZmZBUCamZmZmZkJQGZmZmZmZgpAAAAAAAAACEAAAAAAAAAEQAAAAAAAAAhAMzMzMzMzC0AAAAAAAAAIQA==\",\"dtype\":\"float64\",\"shape\":[50]},\"size\":{\"__ndarray__\":\"ZmZmZmZmKkCamZmZmZklQAAAAAAAAChAMzMzMzMzJ0AAAAAAAAAoQAAAAAAAAChAAAAAAAAAJEAzMzMzMzMnQAAAAAAAACRAzczMzMzMLECamZmZmZkpQJqZmZmZmSVAAAAAAAAAKEAAAAAAAAAkQGZmZmZmZiZAmpmZmZmZKUAAAAAAAAAoQGZmZmZmZi5AzczMzMzMJECamZmZmZkhQJqZmZmZmSlAZmZmZmZmJkBmZmZmZmYmQJqZmZmZmSVAZmZmZmZmKkCamZmZmZkpQGZmZmZmZiZAAAAAAAAAKEBmZmZmZmYmQAAAAAAAAChAZmZmZmZmJkBmZmZmZmYuQGZmZmZmZiZAZmZmZmZmJkDNzMzMzMwkQAAAAAAAAChAMzMzMzMzK0DNzMzMzMwoQAAAAAAAAChAzczMzMzMKEDNzMzMzMwoQM3MzMzMzChAmpmZmZmZJUCamZmZmZkpQGZmZmZmZipAAAAAAAAAKEAAAAAAAAAkQAAAAAAAAChAMzMzMzMzK0AAAAAAAAAoQA==\",\"dtype\":\"float64\",\"shape\":[50]},\"species\":[\"virginica\",\"virginica\",\"virginica\",\"virginica\",\"virginica\",\"virginica\",\"virginica\",\"virginica\",\"virginica\",\"virginica\",\"virginica\",\"virginica\",\"virginica\",\"virginica\",\"virginica\",\"virginica\",\"virginica\",\"virginica\",\"virginica\",\"virginica\",\"virginica\",\"virginica\",\"virginica\",\"virginica\",\"virginica\",\"virginica\",\"virginica\",\"virginica\",\"virginica\",\"virginica\",\"virginica\",\"virginica\",\"virginica\",\"virginica\",\"virginica\",\"virginica\",\"virginica\",\"virginica\",\"virginica\",\"virginica\",\"virginica\",\"virginica\",\"virginica\",\"virginica\",\"virginica\",\"virginica\",\"virginica\",\"virginica\",\"virginica\",\"virginica\"]},\"selected\":{\"id\":\"7178\",\"type\":\"Selection\"},\"selection_policy\":{\"id\":\"7177\",\"type\":\"UnionRenderers\"}},\"id\":\"6880\",\"type\":\"ColumnDataSource\"},{\"attributes\":{},\"id\":\"6964\",\"type\":\"UnionRenderers\"},{\"attributes\":{\"callback\":null,\"tooltips\":\"\\n     <div>\\n            <div>\\n                <img\\n                    src=\\\"@imgs\\\" height=\\\"42\\\" alt=\\\"@imgs\\\" width=\\\"42\\\"\\n                    style=\\\"float: left; margin: 0px 15px 15px 0px;\\\"\\n                    border=\\\"2\\\"\\n                ></img>\\n            </div>\\n            <div>\\n                <span style=\\\"font-size: 15px; font-weight: bold;\\\">@species</span>\\n            </div>\\n            <div>\\n                <span style=\\\"font-size: 10px; color: #696;\\\">Petal length: @petal_length</span><br>\\n                <span style=\\\"font-size: 10px; color: #696;\\\">Petal width: @petal_width</span>\\n            </div>\\n        </div>\\n\"},\"id\":\"6969\",\"type\":\"HoverTool\"},{\"attributes\":{},\"id\":\"7177\",\"type\":\"UnionRenderers\"},{\"attributes\":{\"data_source\":{\"id\":\"6879\",\"type\":\"ColumnDataSource\"},\"glyph\":{\"id\":\"6936\",\"type\":\"Circle\"},\"hover_glyph\":null,\"muted_glyph\":null,\"nonselection_glyph\":{\"id\":\"6937\",\"type\":\"Circle\"},\"selection_glyph\":null,\"view\":{\"id\":\"6939\",\"type\":\"CDSView\"}},\"id\":\"6938\",\"type\":\"GlyphRenderer\"},{\"attributes\":{\"data_source\":{\"id\":\"6878\",\"type\":\"ColumnDataSource\"},\"glyph\":{\"id\":\"6922\",\"type\":\"Circle\"},\"hover_glyph\":null,\"muted_glyph\":null,\"nonselection_glyph\":{\"id\":\"6923\",\"type\":\"Circle\"},\"selection_glyph\":null,\"view\":{\"id\":\"6925\",\"type\":\"CDSView\"}},\"id\":\"6924\",\"type\":\"GlyphRenderer\"},{\"attributes\":{},\"id\":\"6965\",\"type\":\"Selection\"},{\"attributes\":{\"axis_label\":\"Petal Width\",\"axis_label_text_color\":{\"value\":\"blue\"},\"formatter\":{\"id\":\"6930\",\"type\":\"BasicTickFormatter\"},\"major_label_text_color\":{\"value\":\"orange\"},\"minor_tick_line_color\":{\"value\":\"blue\"},\"ticker\":{\"id\":\"6896\",\"type\":\"BasicTicker\"}},\"id\":\"6895\",\"type\":\"LinearAxis\"},{\"attributes\":{\"fill_alpha\":{\"value\":0.2},\"fill_color\":{\"field\":\"color\"},\"line_color\":{\"field\":\"color\"},\"line_dash\":[5,3],\"size\":{\"field\":\"size\",\"units\":\"screen\"},\"x\":{\"field\":\"petal_length\"},\"y\":{\"field\":\"petal_width\"}},\"id\":\"6951\",\"type\":\"Circle\"},{\"attributes\":{\"dimension\":1,\"grid_line_alpha\":0.8,\"grid_line_dash\":[5,3],\"ticker\":{\"id\":\"6896\",\"type\":\"BasicTicker\"}},\"id\":\"6899\",\"type\":\"Grid\"},{\"attributes\":{\"label\":{\"value\":\"Setosa\"},\"renderers\":[{\"id\":\"6924\",\"type\":\"GlyphRenderer\"}]},\"id\":\"6934\",\"type\":\"LegendItem\"},{\"attributes\":{\"source\":{\"id\":\"6879\",\"type\":\"ColumnDataSource\"}},\"id\":\"6939\",\"type\":\"CDSView\"},{\"attributes\":{\"label\":{\"value\":\"Virginica\"},\"renderers\":[{\"id\":\"6953\",\"type\":\"GlyphRenderer\"}]},\"id\":\"6966\",\"type\":\"LegendItem\"},{\"attributes\":{\"fill_alpha\":{\"value\":0.1},\"fill_color\":{\"value\":\"#1f77b4\"},\"line_alpha\":{\"value\":0.1},\"line_color\":{\"value\":\"#1f77b4\"},\"line_dash\":[5,3],\"size\":{\"field\":\"size\",\"units\":\"screen\"},\"x\":{\"field\":\"petal_length\"},\"y\":{\"field\":\"petal_width\"}},\"id\":\"6923\",\"type\":\"Circle\"},{\"attributes\":{\"callback\":null,\"end\":3.5},\"id\":\"6919\",\"type\":\"Range1d\"},{\"attributes\":{\"callback\":null,\"data\":{\"color\":[\"green\",\"green\",\"green\",\"green\",\"green\",\"green\",\"green\",\"green\",\"green\",\"green\",\"green\",\"green\",\"green\",\"green\",\"green\",\"green\",\"green\",\"green\",\"green\",\"green\",\"green\",\"green\",\"green\",\"green\",\"green\",\"green\",\"green\",\"green\",\"green\",\"green\",\"green\",\"green\",\"green\",\"green\",\"green\",\"green\",\"green\",\"green\",\"green\",\"green\",\"green\",\"green\",\"green\",\"green\",\"green\",\"green\",\"green\",\"green\",\"green\",\"green\"],\"imgs\":[\"https://upload.wikimedia.org/wikipedia/commons/thumb/2/27/Blue_Flag%2C_Ottawa.jpg/800px-Blue_Flag%2C_Ottawa.jpg\",\"https://upload.wikimedia.org/wikipedia/commons/thumb/2/27/Blue_Flag%2C_Ottawa.jpg/800px-Blue_Flag%2C_Ottawa.jpg\",\"https://upload.wikimedia.org/wikipedia/commons/thumb/2/27/Blue_Flag%2C_Ottawa.jpg/800px-Blue_Flag%2C_Ottawa.jpg\",\"https://upload.wikimedia.org/wikipedia/commons/thumb/2/27/Blue_Flag%2C_Ottawa.jpg/800px-Blue_Flag%2C_Ottawa.jpg\",\"https://upload.wikimedia.org/wikipedia/commons/thumb/2/27/Blue_Flag%2C_Ottawa.jpg/800px-Blue_Flag%2C_Ottawa.jpg\",\"https://upload.wikimedia.org/wikipedia/commons/thumb/2/27/Blue_Flag%2C_Ottawa.jpg/800px-Blue_Flag%2C_Ottawa.jpg\",\"https://upload.wikimedia.org/wikipedia/commons/thumb/2/27/Blue_Flag%2C_Ottawa.jpg/800px-Blue_Flag%2C_Ottawa.jpg\",\"https://upload.wikimedia.org/wikipedia/commons/thumb/2/27/Blue_Flag%2C_Ottawa.jpg/800px-Blue_Flag%2C_Ottawa.jpg\",\"https://upload.wikimedia.org/wikipedia/commons/thumb/2/27/Blue_Flag%2C_Ottawa.jpg/800px-Blue_Flag%2C_Ottawa.jpg\",\"https://upload.wikimedia.org/wikipedia/commons/thumb/2/27/Blue_Flag%2C_Ottawa.jpg/800px-Blue_Flag%2C_Ottawa.jpg\",\"https://upload.wikimedia.org/wikipedia/commons/thumb/2/27/Blue_Flag%2C_Ottawa.jpg/800px-Blue_Flag%2C_Ottawa.jpg\",\"https://upload.wikimedia.org/wikipedia/commons/thumb/2/27/Blue_Flag%2C_Ottawa.jpg/800px-Blue_Flag%2C_Ottawa.jpg\",\"https://upload.wikimedia.org/wikipedia/commons/thumb/2/27/Blue_Flag%2C_Ottawa.jpg/800px-Blue_Flag%2C_Ottawa.jpg\",\"https://upload.wikimedia.org/wikipedia/commons/thumb/2/27/Blue_Flag%2C_Ottawa.jpg/800px-Blue_Flag%2C_Ottawa.jpg\",\"https://upload.wikimedia.org/wikipedia/commons/thumb/2/27/Blue_Flag%2C_Ottawa.jpg/800px-Blue_Flag%2C_Ottawa.jpg\",\"https://upload.wikimedia.org/wikipedia/commons/thumb/2/27/Blue_Flag%2C_Ottawa.jpg/800px-Blue_Flag%2C_Ottawa.jpg\",\"https://upload.wikimedia.org/wikipedia/commons/thumb/2/27/Blue_Flag%2C_Ottawa.jpg/800px-Blue_Flag%2C_Ottawa.jpg\",\"https://upload.wikimedia.org/wikipedia/commons/thumb/2/27/Blue_Flag%2C_Ottawa.jpg/800px-Blue_Flag%2C_Ottawa.jpg\",\"https://upload.wikimedia.org/wikipedia/commons/thumb/2/27/Blue_Flag%2C_Ottawa.jpg/800px-Blue_Flag%2C_Ottawa.jpg\",\"https://upload.wikimedia.org/wikipedia/commons/thumb/2/27/Blue_Flag%2C_Ottawa.jpg/800px-Blue_Flag%2C_Ottawa.jpg\",\"https://upload.wikimedia.org/wikipedia/commons/thumb/2/27/Blue_Flag%2C_Ottawa.jpg/800px-Blue_Flag%2C_Ottawa.jpg\",\"https://upload.wikimedia.org/wikipedia/commons/thumb/2/27/Blue_Flag%2C_Ottawa.jpg/800px-Blue_Flag%2C_Ottawa.jpg\",\"https://upload.wikimedia.org/wikipedia/commons/thumb/2/27/Blue_Flag%2C_Ottawa.jpg/800px-Blue_Flag%2C_Ottawa.jpg\",\"https://upload.wikimedia.org/wikipedia/commons/thumb/2/27/Blue_Flag%2C_Ottawa.jpg/800px-Blue_Flag%2C_Ottawa.jpg\",\"https://upload.wikimedia.org/wikipedia/commons/thumb/2/27/Blue_Flag%2C_Ottawa.jpg/800px-Blue_Flag%2C_Ottawa.jpg\",\"https://upload.wikimedia.org/wikipedia/commons/thumb/2/27/Blue_Flag%2C_Ottawa.jpg/800px-Blue_Flag%2C_Ottawa.jpg\",\"https://upload.wikimedia.org/wikipedia/commons/thumb/2/27/Blue_Flag%2C_Ottawa.jpg/800px-Blue_Flag%2C_Ottawa.jpg\",\"https://upload.wikimedia.org/wikipedia/commons/thumb/2/27/Blue_Flag%2C_Ottawa.jpg/800px-Blue_Flag%2C_Ottawa.jpg\",\"https://upload.wikimedia.org/wikipedia/commons/thumb/2/27/Blue_Flag%2C_Ottawa.jpg/800px-Blue_Flag%2C_Ottawa.jpg\",\"https://upload.wikimedia.org/wikipedia/commons/thumb/2/27/Blue_Flag%2C_Ottawa.jpg/800px-Blue_Flag%2C_Ottawa.jpg\",\"https://upload.wikimedia.org/wikipedia/commons/thumb/2/27/Blue_Flag%2C_Ottawa.jpg/800px-Blue_Flag%2C_Ottawa.jpg\",\"https://upload.wikimedia.org/wikipedia/commons/thumb/2/27/Blue_Flag%2C_Ottawa.jpg/800px-Blue_Flag%2C_Ottawa.jpg\",\"https://upload.wikimedia.org/wikipedia/commons/thumb/2/27/Blue_Flag%2C_Ottawa.jpg/800px-Blue_Flag%2C_Ottawa.jpg\",\"https://upload.wikimedia.org/wikipedia/commons/thumb/2/27/Blue_Flag%2C_Ottawa.jpg/800px-Blue_Flag%2C_Ottawa.jpg\",\"https://upload.wikimedia.org/wikipedia/commons/thumb/2/27/Blue_Flag%2C_Ottawa.jpg/800px-Blue_Flag%2C_Ottawa.jpg\",\"https://upload.wikimedia.org/wikipedia/commons/thumb/2/27/Blue_Flag%2C_Ottawa.jpg/800px-Blue_Flag%2C_Ottawa.jpg\",\"https://upload.wikimedia.org/wikipedia/commons/thumb/2/27/Blue_Flag%2C_Ottawa.jpg/800px-Blue_Flag%2C_Ottawa.jpg\",\"https://upload.wikimedia.org/wikipedia/commons/thumb/2/27/Blue_Flag%2C_Ottawa.jpg/800px-Blue_Flag%2C_Ottawa.jpg\",\"https://upload.wikimedia.org/wikipedia/commons/thumb/2/27/Blue_Flag%2C_Ottawa.jpg/800px-Blue_Flag%2C_Ottawa.jpg\",\"https://upload.wikimedia.org/wikipedia/commons/thumb/2/27/Blue_Flag%2C_Ottawa.jpg/800px-Blue_Flag%2C_Ottawa.jpg\",\"https://upload.wikimedia.org/wikipedia/commons/thumb/2/27/Blue_Flag%2C_Ottawa.jpg/800px-Blue_Flag%2C_Ottawa.jpg\",\"https://upload.wikimedia.org/wikipedia/commons/thumb/2/27/Blue_Flag%2C_Ottawa.jpg/800px-Blue_Flag%2C_Ottawa.jpg\",\"https://upload.wikimedia.org/wikipedia/commons/thumb/2/27/Blue_Flag%2C_Ottawa.jpg/800px-Blue_Flag%2C_Ottawa.jpg\",\"https://upload.wikimedia.org/wikipedia/commons/thumb/2/27/Blue_Flag%2C_Ottawa.jpg/800px-Blue_Flag%2C_Ottawa.jpg\",\"https://upload.wikimedia.org/wikipedia/commons/thumb/2/27/Blue_Flag%2C_Ottawa.jpg/800px-Blue_Flag%2C_Ottawa.jpg\",\"https://upload.wikimedia.org/wikipedia/commons/thumb/2/27/Blue_Flag%2C_Ottawa.jpg/800px-Blue_Flag%2C_Ottawa.jpg\",\"https://upload.wikimedia.org/wikipedia/commons/thumb/2/27/Blue_Flag%2C_Ottawa.jpg/800px-Blue_Flag%2C_Ottawa.jpg\",\"https://upload.wikimedia.org/wikipedia/commons/thumb/2/27/Blue_Flag%2C_Ottawa.jpg/800px-Blue_Flag%2C_Ottawa.jpg\",\"https://upload.wikimedia.org/wikipedia/commons/thumb/2/27/Blue_Flag%2C_Ottawa.jpg/800px-Blue_Flag%2C_Ottawa.jpg\",\"https://upload.wikimedia.org/wikipedia/commons/thumb/2/27/Blue_Flag%2C_Ottawa.jpg/800px-Blue_Flag%2C_Ottawa.jpg\"],\"index\":[50,51,52,53,54,55,56,57,58,59,60,61,62,63,64,65,66,67,68,69,70,71,72,73,74,75,76,77,78,79,80,81,82,83,84,85,86,87,88,89,90,91,92,93,94,95,96,97,98,99],\"petal_length\":{\"__ndarray__\":\"zczMzMzMEkAAAAAAAAASQJqZmZmZmRNAAAAAAAAAEEBmZmZmZmYSQAAAAAAAABJAzczMzMzMEkBmZmZmZmYKQGZmZmZmZhJAMzMzMzMzD0AAAAAAAAAMQM3MzMzMzBBAAAAAAAAAEEDNzMzMzMwSQM3MzMzMzAxAmpmZmZmZEUAAAAAAAAASQGZmZmZmZhBAAAAAAAAAEkAzMzMzMzMPQDMzMzMzMxNAAAAAAAAAEECamZmZmZkTQM3MzMzMzBJAMzMzMzMzEUCamZmZmZkRQDMzMzMzMxNAAAAAAAAAFEAAAAAAAAASQAAAAAAAAAxAZmZmZmZmDkCamZmZmZkNQDMzMzMzMw9AZmZmZmZmFEAAAAAAAAASQAAAAAAAABJAzczMzMzMEkCamZmZmZkRQGZmZmZmZhBAAAAAAAAAEECamZmZmZkRQGZmZmZmZhJAAAAAAAAAEEBmZmZmZmYKQM3MzMzMzBBAzczMzMzMEEDNzMzMzMwQQDMzMzMzMxFAAAAAAAAACEBmZmZmZmYQQA==\",\"dtype\":\"float64\",\"shape\":[50]},\"petal_width\":{\"__ndarray__\":\"ZmZmZmZm9j8AAAAAAAD4PwAAAAAAAPg/zczMzMzM9D8AAAAAAAD4P83MzMzMzPQ/mpmZmZmZ+T8AAAAAAADwP83MzMzMzPQ/ZmZmZmZm9j8AAAAAAADwPwAAAAAAAPg/AAAAAAAA8D9mZmZmZmb2P83MzMzMzPQ/ZmZmZmZm9j8AAAAAAAD4PwAAAAAAAPA/AAAAAAAA+D+amZmZmZnxP83MzMzMzPw/zczMzMzM9D8AAAAAAAD4PzMzMzMzM/M/zczMzMzM9D9mZmZmZmb2P2ZmZmZmZvY/MzMzMzMz+z8AAAAAAAD4PwAAAAAAAPA/mpmZmZmZ8T8AAAAAAADwPzMzMzMzM/M/mpmZmZmZ+T8AAAAAAAD4P5qZmZmZmfk/AAAAAAAA+D/NzMzMzMz0P83MzMzMzPQ/zczMzMzM9D8zMzMzMzPzP2ZmZmZmZvY/MzMzMzMz8z8AAAAAAADwP83MzMzMzPQ/MzMzMzMz8z/NzMzMzMz0P83MzMzMzPQ/mpmZmZmZ8T/NzMzMzMz0Pw==\",\"dtype\":\"float64\",\"shape\":[50]},\"sepal_length\":{\"__ndarray__\":\"AAAAAAAAHECamZmZmZkZQJqZmZmZmRtAAAAAAAAAFkAAAAAAAAAaQM3MzMzMzBZAMzMzMzMzGUCamZmZmZkTQGZmZmZmZhpAzczMzMzMFEAAAAAAAAAUQJqZmZmZmRdAAAAAAAAAGEBmZmZmZmYYQGZmZmZmZhZAzczMzMzMGkBmZmZmZmYWQDMzMzMzMxdAzczMzMzMGEBmZmZmZmYWQJqZmZmZmRdAZmZmZmZmGEAzMzMzMzMZQGZmZmZmZhhAmpmZmZmZGUBmZmZmZmYaQDMzMzMzMxtAzczMzMzMGkAAAAAAAAAYQM3MzMzMzBZAAAAAAAAAFkAAAAAAAAAWQDMzMzMzMxdAAAAAAAAAGECamZmZmZkVQAAAAAAAABhAzczMzMzMGkAzMzMzMzMZQGZmZmZmZhZAAAAAAAAAFkAAAAAAAAAWQGZmZmZmZhhAMzMzMzMzF0AAAAAAAAAUQGZmZmZmZhZAzczMzMzMFkDNzMzMzMwWQM3MzMzMzBhAZmZmZmZmFEDNzMzMzMwWQA==\",\"dtype\":\"float64\",\"shape\":[50]},\"sepal_width\":{\"__ndarray__\":\"mpmZmZmZCUCamZmZmZkJQM3MzMzMzAhAZmZmZmZmAkBmZmZmZmYGQGZmZmZmZgZAZmZmZmZmCkAzMzMzMzMDQDMzMzMzMwdAmpmZmZmZBUAAAAAAAAAAQAAAAAAAAAhAmpmZmZmZAUAzMzMzMzMHQDMzMzMzMwdAzczMzMzMCEAAAAAAAAAIQJqZmZmZmQVAmpmZmZmZAUAAAAAAAAAEQJqZmZmZmQlAZmZmZmZmBkAAAAAAAAAEQGZmZmZmZgZAMzMzMzMzB0AAAAAAAAAIQGZmZmZmZgZAAAAAAAAACEAzMzMzMzMHQM3MzMzMzARAMzMzMzMzA0AzMzMzMzMDQJqZmZmZmQVAmpmZmZmZBUAAAAAAAAAIQDMzMzMzMwtAzczMzMzMCEBmZmZmZmYCQAAAAAAAAAhAAAAAAAAABEDNzMzMzMwEQAAAAAAAAAhAzczMzMzMBEBmZmZmZmYCQJqZmZmZmQVAAAAAAAAACEAzMzMzMzMHQDMzMzMzMwdAAAAAAAAABEBmZmZmZmYGQA==\",\"dtype\":\"float64\",\"shape\":[50]},\"size\":{\"__ndarray__\":\"mpmZmZmZKUCamZmZmZkpQM3MzMzMzChAZmZmZmZmIkBmZmZmZmYmQGZmZmZmZiZAZmZmZmZmKkAzMzMzMzMjQDMzMzMzMydAmpmZmZmZJUAAAAAAAAAgQAAAAAAAAChAmpmZmZmZIUAzMzMzMzMnQDMzMzMzMydAzczMzMzMKEAAAAAAAAAoQJqZmZmZmSVAmpmZmZmZIUAAAAAAAAAkQJqZmZmZmSlAZmZmZmZmJkAAAAAAAAAkQGZmZmZmZiZAMzMzMzMzJ0AAAAAAAAAoQGZmZmZmZiZAAAAAAAAAKEAzMzMzMzMnQM3MzMzMzCRAMzMzMzMzI0AzMzMzMzMjQJqZmZmZmSVAmpmZmZmZJUAAAAAAAAAoQDMzMzMzMytAzczMzMzMKEBmZmZmZmYiQAAAAAAAAChAAAAAAAAAJEDNzMzMzMwkQAAAAAAAAChAzczMzMzMJEBmZmZmZmYiQJqZmZmZmSVAAAAAAAAAKEAzMzMzMzMnQDMzMzMzMydAAAAAAAAAJEBmZmZmZmYmQA==\",\"dtype\":\"float64\",\"shape\":[50]},\"species\":[\"versicolor\",\"versicolor\",\"versicolor\",\"versicolor\",\"versicolor\",\"versicolor\",\"versicolor\",\"versicolor\",\"versicolor\",\"versicolor\",\"versicolor\",\"versicolor\",\"versicolor\",\"versicolor\",\"versicolor\",\"versicolor\",\"versicolor\",\"versicolor\",\"versicolor\",\"versicolor\",\"versicolor\",\"versicolor\",\"versicolor\",\"versicolor\",\"versicolor\",\"versicolor\",\"versicolor\",\"versicolor\",\"versicolor\",\"versicolor\",\"versicolor\",\"versicolor\",\"versicolor\",\"versicolor\",\"versicolor\",\"versicolor\",\"versicolor\",\"versicolor\",\"versicolor\",\"versicolor\",\"versicolor\",\"versicolor\",\"versicolor\",\"versicolor\",\"versicolor\",\"versicolor\",\"versicolor\",\"versicolor\",\"versicolor\",\"versicolor\"]},\"selected\":{\"id\":\"6965\",\"type\":\"Selection\"},\"selection_policy\":{\"id\":\"6964\",\"type\":\"UnionRenderers\"}},\"id\":\"6879\",\"type\":\"ColumnDataSource\"},{\"attributes\":{\"fill_alpha\":{\"value\":0.2},\"fill_color\":{\"field\":\"color\"},\"line_color\":{\"field\":\"color\"},\"line_dash\":[5,3],\"size\":{\"field\":\"size\",\"units\":\"screen\"},\"x\":{\"field\":\"petal_length\"},\"y\":{\"field\":\"petal_width\"}},\"id\":\"6922\",\"type\":\"Circle\"},{\"attributes\":{\"callback\":null,\"end\":10},\"id\":\"6918\",\"type\":\"Range1d\"},{\"attributes\":{},\"id\":\"6930\",\"type\":\"BasicTickFormatter\"},{\"attributes\":{\"overlay\":{\"id\":\"6932\",\"type\":\"BoxAnnotation\"}},\"id\":\"6902\",\"type\":\"BoxZoomTool\"},{\"attributes\":{},\"id\":\"6928\",\"type\":\"BasicTickFormatter\"},{\"attributes\":{},\"id\":\"6891\",\"type\":\"BasicTicker\"},{\"attributes\":{},\"id\":\"6900\",\"type\":\"PanTool\"},{\"attributes\":{},\"id\":\"6903\",\"type\":\"SaveTool\"},{\"attributes\":{\"bottom_units\":\"screen\",\"fill_alpha\":{\"value\":0.5},\"fill_color\":{\"value\":\"lightgrey\"},\"left_units\":\"screen\",\"level\":\"overlay\",\"line_alpha\":{\"value\":1.0},\"line_color\":{\"value\":\"black\"},\"line_dash\":[4,4],\"line_width\":{\"value\":2},\"render_mode\":\"css\",\"right_units\":\"screen\",\"top_units\":\"screen\"},\"id\":\"6932\",\"type\":\"BoxAnnotation\"},{\"attributes\":{\"source\":{\"id\":\"6878\",\"type\":\"ColumnDataSource\"}},\"id\":\"6925\",\"type\":\"CDSView\"},{\"attributes\":{},\"id\":\"6904\",\"type\":\"ResetTool\"}],\"root_ids\":[\"6881\"]},\"title\":\"Bokeh Application\",\"version\":\"1.3.4\"}};\n  var render_items = [{\"docid\":\"65a0e6a8-96dd-46f2-bf5f-55229159de0e\",\"roots\":{\"6881\":\"8d2b5d83-0217-4c3b-96b4-79eb0cd63a11\"}}];\n  root.Bokeh.embed.embed_items_notebook(docs_json, render_items);\n\n  }\n  if (root.Bokeh !== undefined) {\n    embed_document(root);\n  } else {\n    var attempts = 0;\n    var timer = setInterval(function(root) {\n      if (root.Bokeh !== undefined) {\n        embed_document(root);\n        clearInterval(timer);\n      }\n      attempts++;\n      if (attempts > 100) {\n        console.log(\"Bokeh: ERROR: Unable to run BokehJS code because BokehJS library is missing\");\n        clearInterval(timer);\n      }\n    }, 10, root)\n  }\n})(window);",
      "application/vnd.bokehjs_exec.v0+json": ""
     },
     "metadata": {
      "application/vnd.bokehjs_exec.v0+json": {
       "id": "6881"
      }
     }
    }
   ],
   "source": [
    "\n",
    "#Plotting flower species\n",
    "\n",
    "#Importing libraries\n",
    "from bokeh.plotting import figure\n",
    "from bokeh.io import output_file, show\n",
    "from bokeh.sampledata.iris import flowers\n",
    "from bokeh.models import Range1d, PanTool, ResetTool, HoverTool, ColumnDataSource, LabelSet\n",
    "from PIL import ImageGrab\n",
    "\n",
    "colormap={'setosa':'red', 'versicolor':'green', 'virginica':'blue'}\n",
    "flowers['color'] = [colormap[x] for x in flowers['species']]\n",
    "flowers['size'] = flowers['sepal_width'] * 4\n",
    "\n",
    "urlmap = {'setosa':'https://upload.wikimedia.org/wikipedia/commons/thumb/5/56/Kosaciec_szczecinkowaty_Iris_setosa.jpg/800px-Kosaciec_szczecinkowaty_Iris_setosa.jpg',\n",
    "        'versicolor':'https://upload.wikimedia.org/wikipedia/commons/thumb/2/27/Blue_Flag%2C_Ottawa.jpg/800px-Blue_Flag%2C_Ottawa.jpg',\n",
    "        'virginica':'https://upload.wikimedia.org/wikipedia/commons/thumb/9/9f/Iris_virginica.jpg/800px-Iris_virginica.jpg'}\n",
    "flowers['imgs'] = [urlmap[x] for x in flowers['species']]\n",
    "\n",
    "setosa=ColumnDataSource(flowers[flowers[\"species\"]==\"setosa\"])\n",
    "versicolor=ColumnDataSource(flowers[flowers[\"species\"]==\"versicolor\"])\n",
    "virginica=ColumnDataSource(flowers[flowers[\"species\"]==\"virginica\"])\n",
    "\n",
    "#Define the output file path\n",
    "#output_file(\"iris.html\")\n",
    "\n",
    "#Create the figure object\n",
    "f=figure()\n",
    "\n",
    "#Style the plot area\n",
    "#f.plot_width = int(ImageGrab.grab().width/2) #This will return your monitor width. ImageGrab was imported further above from the PIL library which can be installed with \"pip install pillow\"\n",
    "#f.plot_height = int(ImageGrab.grab().height/2 - 50) #This will return your monitor width. ImageGrab was imported further above from the PIL library which can be installed witt \"pip install pillow\"\n",
    "f.background_fill_color = \"grey\"\n",
    "f.background_fill_alpha = 0.1\n",
    "#f.sizing_mode = \"stretch_both\" #graph will resize itself when user resizes the browser\n",
    "\n",
    "#stilize the background\n",
    "\n",
    "#f.plot_width = 2000\n",
    "#f.plot_width = 1200\n",
    "#f.background_fill_color = \"olive\"\n",
    "#f.background_fill_alpha=0.3\n",
    "\n",
    "#Style the title\n",
    "\n",
    "f.title.text=\"Iris Morphology\"\n",
    "f.title.text_color = \"olive\"\n",
    "f.title.text_font = \"helvetica\"\n",
    "f.title.text_font_size= \"40px\"\n",
    "f.title.align=\"center\"\n",
    "\n",
    "#style the axis\n",
    "\n",
    "f.axis.minor_tick_line_color= \"blue\"\n",
    "#f.yaxis.major_label_orientation =\"vertical\"\n",
    "f.xaxis.visible=True\n",
    "f.xaxis.minor_tick_in=-6\n",
    "f.xaxis.axis_label=\"Petal Length\"\n",
    "f.yaxis.axis_label=\"Petal Width\"\n",
    "f.axis.axis_label_text_color=\"blue\"\n",
    "f.axis.major_label_text_color=\"orange\"\n",
    "\n",
    "#Axes geometry\n",
    "f.x_range = Range1d(start=0, end=10)\n",
    "f.y_range = Range1d(start=0, end=3.5)\n",
    "#f.xaxis.bounds = (2, 6)\n",
    "#f.xaxis[0].ticker.desired_num_ticks = 2\n",
    "#f.yaxis[0].ticker.desired_num_ticks = 2\n",
    "f.yaxis[0].ticker.num_minor_ticks = 2\n",
    "\n",
    "\n",
    "#Style the grid\n",
    "f.xgrid.grid_line_color = None\n",
    "f.ygrid.grid_line_alpha = 0.8\n",
    "f.grid.grid_line_dash = [5,3]\n",
    "\n",
    "#adding glyphs\n",
    "f.circle(x=\"petal_length\", y=\"petal_width\", size='size', fill_alpha=0.2,\n",
    "         color = \"color\", line_dash=[5,3], legend='Setosa', source=setosa)\n",
    "\n",
    "f.circle(x=\"petal_length\", y=\"petal_width\", size='size', fill_alpha=0.2,\n",
    "         color=\"color\", line_dash=[5,3], legend='Versicolor', source=versicolor)\n",
    "\n",
    "f.circle(x=\"petal_length\", y=\"petal_width\", size='size', fill_alpha=0.2,\n",
    "         color=\"color\", line_dash=[5,3], legend='Virginica', source=virginica)\n",
    "\n",
    "labels = LabelSet(x='petal_length', y='petal_width', text='sepal_length', \n",
    "                 level='glyph', x_offset=5, y_offset=5, source=virginica)\n",
    "\n",
    "#f.add_layout(labels)\n",
    "\n",
    "#Style the tools\n",
    "#f.tools = [PanTool(),ResetTool()]\n",
    "hover = HoverTool(tooltips=\"\"\"\n",
    "     <div>\n",
    "            <div>\n",
    "                <img\n",
    "                    src=\"@imgs\" height=\"42\" alt=\"@imgs\" width=\"42\"\n",
    "                    style=\"float: left; margin: 0px 15px 15px 0px;\"\n",
    "                    border=\"2\"\n",
    "                ></img>\n",
    "            </div>\n",
    "            <div>\n",
    "                <span style=\"font-size: 15px; font-weight: bold;\">@species</span>\n",
    "            </div>\n",
    "            <div>\n",
    "                <span style=\"font-size: 10px; color: #696;\">Petal length: @petal_length</span><br>\n",
    "                <span style=\"font-size: 10px; color: #696;\">Petal width: @petal_width</span>\n",
    "            </div>\n",
    "        </div>\n",
    "\"\"\")\n",
    "f.add_tools(hover)\n",
    "f.toolbar_location = 'above'\n",
    "f.toolbar.logo = None\n",
    "\n",
    "#Style the legend\n",
    "f.legend.location = (575,555)\n",
    "f.legend.location = 'top_left'\n",
    "f.legend.background_fill_alpha = 0\n",
    "f.legend.border_line_color = None\n",
    "f.legend.margin = 10\n",
    "f.legend.padding = 18\n",
    "f.legend.label_text_color = 'olive'\n",
    "f.legend.label_text_font = 'helvetica'\n",
    "\n",
    "#Save and show the figure\n",
    "show(f)\n"
   ]
  },
  {
   "cell_type": "code",
   "execution_count": null,
   "metadata": {
    "id": "_qaw7ZABhTyZ"
   },
   "outputs": [],
   "source": []
  }
 ],
 "metadata": {
  "colab": {
   "name": "basic_graph_bokeh.ipynb",
   "provenance": []
  },
  "kernelspec": {
   "display_name": "Python 3",
   "language": "python",
   "name": "python3"
  },
  "language_info": {
   "codemirror_mode": {
    "name": "ipython",
    "version": 3
   },
   "file_extension": ".py",
   "mimetype": "text/x-python",
   "name": "python",
   "nbconvert_exporter": "python",
   "pygments_lexer": "ipython3",
   "version": "3.7.4-final"
  }
 },
 "nbformat": 4,
 "nbformat_minor": 4
}