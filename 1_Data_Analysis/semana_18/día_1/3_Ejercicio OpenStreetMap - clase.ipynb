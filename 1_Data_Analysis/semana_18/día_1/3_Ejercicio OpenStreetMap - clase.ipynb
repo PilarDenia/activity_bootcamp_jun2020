{
 "cells": [
  {
   "cell_type": "markdown",
   "metadata": {},
   "source": [
    "# Ejercicio OpenStreetMap\n",
    "Para este ejercicio vas a trabar con Overpass, que es la API que utiliza los datos de OpenStreetMap. Tras obtener datos geográficos mediante la API, tendrás que representarlos con Plotly.\n",
    "\n",
    "Hay que obtener los siguientes datos de cada ubicación conseguida en OpenStreetMap\n",
    "* tipo de amenity\n",
    "* latitud\n",
    "* longitud\n",
    "* nombre\n",
    "* direccion\n",
    "\n",
    "\n",
    "Tienes en [este enlace](https://wiki.openstreetmap.org/wiki/Key:amenity#Healthcare) la lista de *amenities* que vas a usar en el notebook."
   ]
  },
  {
   "cell_type": "markdown",
   "metadata": {},
   "source": [
    "## Instalación\n",
    "Si no tienes instalado Plotly, abre un terminal y escribe:\n",
    "```\n",
    "pip install plotly\n",
    "```\n",
    "\n",
    "Importa las librerias que vamos a usar en el Notebook"
   ]
  },
  {
   "cell_type": "code",
   "execution_count": 7,
   "metadata": {},
   "outputs": [],
   "source": [
    "#!pip install plotly"
   ]
  },
  {
   "cell_type": "code",
   "execution_count": null,
   "metadata": {},
   "outputs": [],
   "source": [
    "import pandas as pd\n",
    "import numpy as np \n",
    "\n",
    "\n",
    "import requests #Objeto para realizar peticiones (APIs), y obtener respuesta... response\n",
    "import json \n",
    "\n",
    "%matplotlib inline"
   ]
  },
  {
   "cell_type": "markdown",
   "metadata": {},
   "source": [
    "Ataca a la API de OpenStreetmap con el siguiente código de ejemplo"
   ]
  },
  {
   "cell_type": "code",
   "execution_count": 9,
   "metadata": {},
   "outputs": [
    {
     "output_type": "stream",
     "name": "stdout",
     "text": [
      "<Response [200]>\n"
     ]
    }
   ],
   "source": [
    "\n",
    "overpass_url = \"http://overpass-api.de/api/interpreter\"\n",
    "overpass_query = \"\"\"\n",
    "[out:json];\n",
    "node[\"amenity\"=\"ice_cream\"]\n",
    "  (40.420801, -3.694702,40.423754, -3.688167); \n",
    "out;\n",
    "\"\"\"\n",
    "response = requests.get(overpass_url, \n",
    "                        params={'data': overpass_query})\n",
    "print(response)\n",
    "data = response.json()\n"
   ]
  },
  {
   "cell_type": "code",
   "execution_count": 8,
   "metadata": {},
   "outputs": [
    {
     "output_type": "execute_result",
     "data": {
      "text/plain": [
       "{'version': 0.6,\n",
       " 'generator': 'Overpass API 0.7.56.8 7d656e78',\n",
       " 'osm3s': {'timestamp_osm_base': '2020-11-10T19:31:03Z',\n",
       "  'copyright': 'The data included in this document is from www.openstreetmap.org. The data is made available under ODbL.'},\n",
       " 'elements': [{'type': 'node',\n",
       "   'id': 305536401,\n",
       "   'lat': 40.4230858,\n",
       "   'lon': -3.6935468,\n",
       "   'tags': {'amenity': 'restaurant', 'name': 'La Castafiore'}},\n",
       "  {'type': 'node',\n",
       "   'id': 324580483,\n",
       "   'lat': 40.4226068,\n",
       "   'lon': -3.6932565,\n",
       "   'tags': {'amenity': 'restaurant',\n",
       "    'cuisine': 'japanese',\n",
       "    'name': 'Sake Dining Himawari'}},\n",
       "  {'type': 'node',\n",
       "   'id': 3361315181,\n",
       "   'lat': 40.4233148,\n",
       "   'lon': -3.6925055,\n",
       "   'tags': {'addr:city': 'Madrid',\n",
       "    'addr:housenumber': '12',\n",
       "    'addr:postcode': '28004',\n",
       "    'addr:street': 'Calle de Doña Bárbara de Braganza',\n",
       "    'addr:subdistrict': 'Justicia',\n",
       "    'amenity': 'restaurant',\n",
       "    'cuisine': 'regional',\n",
       "    'name': 'Ainhoa',\n",
       "    'phone': '+34 913 08 27 26',\n",
       "    'website': 'http://restauranteainhoa.es/'}},\n",
       "  {'type': 'node',\n",
       "   'id': 3425259022,\n",
       "   'lat': 40.4219603,\n",
       "   'lon': -3.6942702,\n",
       "   'tags': {'amenity': 'restaurant',\n",
       "    'name': 'La Kitchen',\n",
       "    'source': 'survey'}},\n",
       "  {'type': 'node',\n",
       "   'id': 3425259024,\n",
       "   'lat': 40.4219559,\n",
       "   'lon': -3.6939049,\n",
       "   'tags': {'addr:city': 'Madrid',\n",
       "    'addr:housenumber': '9',\n",
       "    'addr:postcode': '28004',\n",
       "    'addr:street': 'Calle de Prim',\n",
       "    'amenity': 'restaurant',\n",
       "    'name': 'En La Gloria',\n",
       "    'old_name': 'Rey Fernando',\n",
       "    'source': 'survey',\n",
       "    'wheelchair': 'no'}},\n",
       "  {'type': 'node',\n",
       "   'id': 3426628963,\n",
       "   'lat': 40.4236949,\n",
       "   'lon': -3.6916509,\n",
       "   'tags': {'amenity': 'restaurant', 'name': 'Café Espejo'}},\n",
       "  {'type': 'node',\n",
       "   'id': 3426800301,\n",
       "   'lat': 40.4219515,\n",
       "   'lon': -3.6935347,\n",
       "   'tags': {'addr:city': 'Madrid',\n",
       "    'addr:housenumber': '13',\n",
       "    'addr:postcode': '28004',\n",
       "    'addr:street': 'Calle de Prim',\n",
       "    'amenity': 'restaurant',\n",
       "    'contact:phone': '+34 91 564 19 13',\n",
       "    'contact:website': 'https://tampurestaurante.com/',\n",
       "    'cuisine': 'peruvian',\n",
       "    'name': 'Tampu',\n",
       "    'old_name': 'Bla, bla, bla',\n",
       "    'wheelchair': 'no'}},\n",
       "  {'type': 'node',\n",
       "   'id': 3426800303,\n",
       "   'lat': 40.422266,\n",
       "   'lon': -3.694097,\n",
       "   'tags': {'addr:city': 'Madrid',\n",
       "    'addr:housenumber': '4',\n",
       "    'addr:postcode': '28004',\n",
       "    'addr:street': 'Calle del Conde de Xiquena',\n",
       "    'amenity': 'restaurant',\n",
       "    'contact:phone': '+34 915 31 26 37',\n",
       "    'contact:website': 'http://casagades.es/',\n",
       "    'name': 'Casa Gades'}},\n",
       "  {'type': 'node',\n",
       "   'id': 3426800308,\n",
       "   'lat': 40.4231514,\n",
       "   'lon': -3.6940615,\n",
       "   'tags': {'amenity': 'restaurant', 'name': 'El Cano de Xiquena'}},\n",
       "  {'type': 'node',\n",
       "   'id': 3426800309,\n",
       "   'lat': 40.4233452,\n",
       "   'lon': -3.6926318,\n",
       "   'tags': {'addr:city': 'Madrid',\n",
       "    'addr:housenumber': '10',\n",
       "    'addr:postcode': '28004',\n",
       "    'addr:street': 'Calle de Doña Bárbara de Braganza',\n",
       "    'addr:subdistrict': 'Justicia',\n",
       "    'amenity': 'restaurant',\n",
       "    'cuisine': 'regional',\n",
       "    'name': 'El Gato Persa'}},\n",
       "  {'type': 'node',\n",
       "   'id': 3426800318,\n",
       "   'lat': 40.4224409,\n",
       "   'lon': -3.6942202,\n",
       "   'tags': {'addr:city': 'Madrid',\n",
       "    'addr:housenumber': '12',\n",
       "    'addr:postcode': '28004',\n",
       "    'addr:street': 'Calle del Almirante',\n",
       "    'amenity': 'restaurant',\n",
       "    'contact:phone': '+34 91 026 87 94',\n",
       "    'contact:website': 'http://www.cannibalrawbar.es/',\n",
       "    'name': 'Cannibal Raw Bar',\n",
       "    'old_name': 'Oliver'}},\n",
       "  {'type': 'node',\n",
       "   'id': 3428424428,\n",
       "   'lat': 40.422395,\n",
       "   'lon': -3.6911375,\n",
       "   'tags': {'amenity': 'restaurant',\n",
       "    'contact:website': 'http://www.masqmenos.com',\n",
       "    'name': 'MasQMenos'}},\n",
       "  {'type': 'node',\n",
       "   'id': 4307227333,\n",
       "   'lat': 40.4218723,\n",
       "   'lon': -3.6902405,\n",
       "   'tags': {'amenity': 'restaurant', 'name': 'Banzai'}},\n",
       "  {'type': 'node',\n",
       "   'id': 4339113687,\n",
       "   'lat': 40.4211297,\n",
       "   'lon': -3.6897958,\n",
       "   'tags': {'amenity': 'restaurant',\n",
       "    'cuisine': 'japanese',\n",
       "    'name': 'dokidoki'}},\n",
       "  {'type': 'node',\n",
       "   'id': 4447160292,\n",
       "   'lat': 40.4236005,\n",
       "   'lon': -3.6937246,\n",
       "   'tags': {'addr:city': 'Madrid',\n",
       "    'addr:country': 'ES',\n",
       "    'addr:housenumber': '2',\n",
       "    'addr:postcode': '28004',\n",
       "    'addr:street': 'Calle de Doña Bárbara de Braganza',\n",
       "    'addr:subdistrict': 'Justicia',\n",
       "    'amenity': 'restaurant',\n",
       "    'name': 'Luke',\n",
       "    'old_name': 'Le Cabrera',\n",
       "    'website': 'http://www.lecabrera.com/'}},\n",
       "  {'type': 'node',\n",
       "   'id': 4547342631,\n",
       "   'lat': 40.4221408,\n",
       "   'lon': -3.6908645,\n",
       "   'tags': {'addr:city': 'Madrid',\n",
       "    'addr:housenumber': '4',\n",
       "    'addr:street': 'Calle de Recoletos',\n",
       "    'amenity': 'restaurant',\n",
       "    'name': 'Thai Garden 2112',\n",
       "    'website': 'http://thaigarden2112.com/restaurantes/khlong.html'}},\n",
       "  {'type': 'node',\n",
       "   'id': 4596780491,\n",
       "   'lat': 40.4223791,\n",
       "   'lon': -3.6895175,\n",
       "   'tags': {'addr:housenumber': '2',\n",
       "    'addr:street': 'Calle de Gil de Santivañes',\n",
       "    'amenity': 'restaurant',\n",
       "    'cuisine': 'italian',\n",
       "    'name': 'Flavia',\n",
       "    'website': 'http://flaviamadrid.com/'}},\n",
       "  {'type': 'node',\n",
       "   'id': 4602972001,\n",
       "   'lat': 40.4221513,\n",
       "   'lon': -3.6905695,\n",
       "   'tags': {'amenity': 'restaurant',\n",
       "    'cuisine': 'arab',\n",
       "    'name': 'Al-Mounia',\n",
       "    'name:ar': 'مطعم al movnia restaurant',\n",
       "    'website': 'https://www.restaurantealmounia.es/'}},\n",
       "  {'type': 'node',\n",
       "   'id': 4688479045,\n",
       "   'lat': 40.4227772,\n",
       "   'lon': -3.6897814,\n",
       "   'tags': {'addr:city': 'Madrid',\n",
       "    'addr:housenumber': '2',\n",
       "    'addr:postcode': '28001',\n",
       "    'addr:street': 'Calle de Villanueva',\n",
       "    'amenity': 'restaurant',\n",
       "    'email': 'julien@sqd.es',\n",
       "    'name': 'SQD Meat Point',\n",
       "    'phone': '+34 91 435 30 71'}},\n",
       "  {'type': 'node',\n",
       "   'id': 4703448419,\n",
       "   'lat': 40.4229908,\n",
       "   'lon': -3.6936524,\n",
       "   'tags': {'addr:city': 'Madrid',\n",
       "    'addr:housenumber': '6',\n",
       "    'addr:postcode': '28004',\n",
       "    'addr:street': 'Calle del Marqués de Monasterio',\n",
       "    'amenity': 'restaurant',\n",
       "    'contact:phone': '+34 639473966',\n",
       "    'contact:website': 'http://noteolvidesrestaurante.com/',\n",
       "    'name': 'Noteolvides'}},\n",
       "  {'type': 'node',\n",
       "   'id': 4703448421,\n",
       "   'lat': 40.4222548,\n",
       "   'lon': -3.6942512,\n",
       "   'tags': {'addr:city': 'Madrid',\n",
       "    'addr:housenumber': '3',\n",
       "    'addr:postcode': '28004',\n",
       "    'addr:street': 'Calle del Conde de Xiquena',\n",
       "    'amenity': 'restaurant',\n",
       "    'contact:phone': '+34 916 68 38 60',\n",
       "    'contact:website': 'http://www.mercirestaurante.com/',\n",
       "    'name': 'Merci'}},\n",
       "  {'type': 'node',\n",
       "   'id': 4778747542,\n",
       "   'lat': 40.422576,\n",
       "   'lon': -3.694493,\n",
       "   'tags': {'addr:city': 'Madrid',\n",
       "    'addr:housenumber': '11',\n",
       "    'addr:postcode': '28004',\n",
       "    'addr:street': 'Calle del Almirante',\n",
       "    'amenity': 'restaurant',\n",
       "    'contact:facebook': 'https://es-es.facebook.com/Restaurantemortadella/',\n",
       "    'contact:phone': '+34 915321850',\n",
       "    'contact:website': 'http://mortadella.es/',\n",
       "    'cuisine': 'italian',\n",
       "    'name': 'Mortadella'}},\n",
       "  {'type': 'node',\n",
       "   'id': 4778747545,\n",
       "   'lat': 40.4220813,\n",
       "   'lon': -3.6907483,\n",
       "   'tags': {'addr:city': 'Madrid',\n",
       "    'addr:housenumber': '4',\n",
       "    'addr:postcode': '28001',\n",
       "    'addr:street': 'Calle de Recoletos',\n",
       "    'amenity': 'restaurant',\n",
       "    'contact:phone': '+34 914 31 84 17',\n",
       "    'contact:website': 'https://newyorkburger.es',\n",
       "    'cuisine': 'burger',\n",
       "    'name': 'New York Burger'}},\n",
       "  {'type': 'node',\n",
       "   'id': 4778747546,\n",
       "   'lat': 40.4218211,\n",
       "   'lon': -3.6898244,\n",
       "   'tags': {'addr:city': 'Madrid',\n",
       "    'addr:housenumber': '13',\n",
       "    'addr:postcode': '28001',\n",
       "    'addr:street': 'Calle de Recoletos',\n",
       "    'amenity': 'restaurant',\n",
       "    'contact:phone': '+34 91 575 6453',\n",
       "    'contact:website': 'http://madrid.mestizomx.com/',\n",
       "    'cuisine': 'mexican',\n",
       "    'name': 'Mestizo'}},\n",
       "  {'type': 'node',\n",
       "   'id': 4885056598,\n",
       "   'lat': 40.4208179,\n",
       "   'lon': -3.6888032,\n",
       "   'tags': {'addr:city': 'Madrid',\n",
       "    'addr:country': 'ES',\n",
       "    'addr:housenumber': '1',\n",
       "    'addr:postcode': '28001',\n",
       "    'addr:street': 'Calle de Serrano',\n",
       "    'amenity': 'restaurant',\n",
       "    'cuisine': 'sushi',\n",
       "    'name': 'Sushi Shop',\n",
       "    'source': 'survey'}},\n",
       "  {'type': 'node',\n",
       "   'id': 5068790959,\n",
       "   'lat': 40.422809,\n",
       "   'lon': -3.6941271,\n",
       "   'tags': {'amenity': 'restaurant', 'name': 'Restaurante la Buena Vida'}},\n",
       "  {'type': 'node',\n",
       "   'id': 5622545022,\n",
       "   'lat': 40.422426,\n",
       "   'lon': -3.6934185,\n",
       "   'tags': {'addr:housenumber': '20',\n",
       "    'addr:street': 'Calle del Almirante',\n",
       "    'amenity': 'restaurant',\n",
       "    'name': 'Delirant'}},\n",
       "  {'type': 'node',\n",
       "   'id': 6684049135,\n",
       "   'lat': 40.422211,\n",
       "   'lon': -3.6907019,\n",
       "   'tags': {'amenity': 'restaurant',\n",
       "    'name': 'Pelotari',\n",
       "    'phone': '+34 915 78 24 97',\n",
       "    'website': 'http://pelotari-asador.com/'}},\n",
       "  {'type': 'node',\n",
       "   'id': 6806382285,\n",
       "   'lat': 40.4222351,\n",
       "   'lon': -3.6907431,\n",
       "   'tags': {'amenity': 'restaurant', 'name': 'El Pelotari'}}]}"
      ]
     },
     "metadata": {},
     "execution_count": 8
    }
   ],
   "source": [
    "data"
   ]
  },
  {
   "cell_type": "markdown",
   "metadata": {},
   "source": [
    "Con el siguiente código podrás adaptar el JSON que devuelve la API, a un formato DataFrame más amigable"
   ]
  },
  {
   "cell_type": "code",
   "execution_count": null,
   "metadata": {},
   "outputs": [],
   "source": [
    "\n",
    "def json_to_df(data):\n",
    "    elements = data['elements']\n",
    "    places = {'tipo': [], 'lat': [], 'lon': [], 'name': [], 'address': []}\n",
    "    \n",
    "    for i in elements:\n",
    "        \n",
    "        tipo = i.get('tags', None).get('amenity', None)\n",
    "        latitude = i.get('lat', None)\n",
    "        longitude = i.get('lon', None)\n",
    "        name = i.get('tags', {}).get('name', \"NO NAME\")\n",
    "        street = i.get('tags', {}).get('addr:street', \"NO STREET\")\n",
    "        number = i.get('tags', {}).get('addr:housenumber', 9999)\n",
    "\n",
    "        places['tipo'].append(tipo)\n",
    "        places['lat'].append(latitude)\n",
    "        places['lon'].append(longitude)\n",
    "        places['name'].append(name)\n",
    "        places['address'].append(street + ' ' + str(number))\n",
    "\n",
    "            \n",
    "    return pd.DataFrame(places)\n"
   ]
  },
  {
   "cell_type": "markdown",
   "metadata": {},
   "source": [
    "Utilizarás esta función para representar los datos en un mapa de Matplotlib"
   ]
  },
  {
   "cell_type": "code",
   "execution_count": 5,
   "metadata": {},
   "outputs": [],
   "source": [
    "\n",
    "import plotly.express as px\n",
    "\n",
    "mapbox_access_token = \"pk.eyJ1IjoiZGFvcnRpIiwiYSI6ImNrZnF6M3FlczA3cDEyem16YTNzZmV4M2EifQ.846iF0sMSAXv0kwkwUTYjg\"\n",
    "\n",
    "def pinta_mapa(df):\n",
    "    fig = px.scatter_mapbox(df,\n",
    "                            lat=\"lat\",\n",
    "                            lon=\"lon\",\n",
    "                            color = \"tipo\",\n",
    "                      color_continuous_scale=px.colors.cyclical.IceFire, size_max=15, zoom=11)\n",
    "    fig.update_layout(\n",
    "        mapbox=dict(\n",
    "            accesstoken=mapbox_access_token\n",
    "        )\n",
    "    )\n",
    "\n",
    "    fig.show()\n"
   ]
  },
  {
   "cell_type": "markdown",
   "metadata": {},
   "source": [
    "Como ejemplo, si quiero ver cuántos restaurantes tengo cerca de The Bridge:"
   ]
  },
  {
   "cell_type": "code",
   "execution_count": 6,
   "metadata": {},
   "outputs": [
    {
     "output_type": "stream",
     "name": "stdout",
     "text": [
      "<Response [200]>\n"
     ]
    },
    {
     "output_type": "execute_result",
     "data": {
      "text/plain": [
       "          tipo        lat       lon                       name  \\\n",
       "0   restaurant  40.423086 -3.693547              La Castafiore   \n",
       "1   restaurant  40.422607 -3.693256       Sake Dining Himawari   \n",
       "2   restaurant  40.423315 -3.692506                     Ainhoa   \n",
       "3   restaurant  40.421960 -3.694270                 La Kitchen   \n",
       "4   restaurant  40.421956 -3.693905               En La Gloria   \n",
       "5   restaurant  40.423695 -3.691651                Café Espejo   \n",
       "6   restaurant  40.421951 -3.693535                      Tampu   \n",
       "7   restaurant  40.422266 -3.694097                 Casa Gades   \n",
       "8   restaurant  40.423151 -3.694062         El Cano de Xiquena   \n",
       "9   restaurant  40.423345 -3.692632              El Gato Persa   \n",
       "10  restaurant  40.422441 -3.694220           Cannibal Raw Bar   \n",
       "11  restaurant  40.422395 -3.691137                  MasQMenos   \n",
       "12  restaurant  40.421872 -3.690240                     Banzai   \n",
       "13  restaurant  40.421130 -3.689796                   dokidoki   \n",
       "14  restaurant  40.423600 -3.693725                       Luke   \n",
       "15  restaurant  40.422141 -3.690864           Thai Garden 2112   \n",
       "16  restaurant  40.422379 -3.689518                     Flavia   \n",
       "17  restaurant  40.422151 -3.690570                  Al-Mounia   \n",
       "18  restaurant  40.422777 -3.689781             SQD Meat Point   \n",
       "19  restaurant  40.422991 -3.693652                Noteolvides   \n",
       "20  restaurant  40.422255 -3.694251                      Merci   \n",
       "21  restaurant  40.422576 -3.694493                 Mortadella   \n",
       "22  restaurant  40.422081 -3.690748            New York Burger   \n",
       "23  restaurant  40.421821 -3.689824                    Mestizo   \n",
       "24  restaurant  40.420818 -3.688803                 Sushi Shop   \n",
       "25  restaurant  40.422809 -3.694127  Restaurante la Buena Vida   \n",
       "26  restaurant  40.422426 -3.693418                   Delirant   \n",
       "27  restaurant  40.422211 -3.690702                   Pelotari   \n",
       "28  restaurant  40.422235 -3.690743                El Pelotari   \n",
       "\n",
       "                                 address  \n",
       "0                         NO STREET 9999  \n",
       "1                         NO STREET 9999  \n",
       "2   Calle de Doña Bárbara de Braganza 12  \n",
       "3                         NO STREET 9999  \n",
       "4                        Calle de Prim 9  \n",
       "5                         NO STREET 9999  \n",
       "6                       Calle de Prim 13  \n",
       "7           Calle del Conde de Xiquena 4  \n",
       "8                         NO STREET 9999  \n",
       "9   Calle de Doña Bárbara de Braganza 10  \n",
       "10                Calle del Almirante 12  \n",
       "11                        NO STREET 9999  \n",
       "12                        NO STREET 9999  \n",
       "13                        NO STREET 9999  \n",
       "14   Calle de Doña Bárbara de Braganza 2  \n",
       "15                  Calle de Recoletos 4  \n",
       "16          Calle de Gil de Santivañes 2  \n",
       "17                        NO STREET 9999  \n",
       "18                 Calle de Villanueva 2  \n",
       "19     Calle del Marqués de Monasterio 6  \n",
       "20          Calle del Conde de Xiquena 3  \n",
       "21                Calle del Almirante 11  \n",
       "22                  Calle de Recoletos 4  \n",
       "23                 Calle de Recoletos 13  \n",
       "24                    Calle de Serrano 1  \n",
       "25                        NO STREET 9999  \n",
       "26                Calle del Almirante 20  \n",
       "27                        NO STREET 9999  \n",
       "28                        NO STREET 9999  "
      ],
      "text/html": "<div>\n<style scoped>\n    .dataframe tbody tr th:only-of-type {\n        vertical-align: middle;\n    }\n\n    .dataframe tbody tr th {\n        vertical-align: top;\n    }\n\n    .dataframe thead th {\n        text-align: right;\n    }\n</style>\n<table border=\"1\" class=\"dataframe\">\n  <thead>\n    <tr style=\"text-align: right;\">\n      <th></th>\n      <th>tipo</th>\n      <th>lat</th>\n      <th>lon</th>\n      <th>name</th>\n      <th>address</th>\n    </tr>\n  </thead>\n  <tbody>\n    <tr>\n      <th>0</th>\n      <td>restaurant</td>\n      <td>40.423086</td>\n      <td>-3.693547</td>\n      <td>La Castafiore</td>\n      <td>NO STREET 9999</td>\n    </tr>\n    <tr>\n      <th>1</th>\n      <td>restaurant</td>\n      <td>40.422607</td>\n      <td>-3.693256</td>\n      <td>Sake Dining Himawari</td>\n      <td>NO STREET 9999</td>\n    </tr>\n    <tr>\n      <th>2</th>\n      <td>restaurant</td>\n      <td>40.423315</td>\n      <td>-3.692506</td>\n      <td>Ainhoa</td>\n      <td>Calle de Doña Bárbara de Braganza 12</td>\n    </tr>\n    <tr>\n      <th>3</th>\n      <td>restaurant</td>\n      <td>40.421960</td>\n      <td>-3.694270</td>\n      <td>La Kitchen</td>\n      <td>NO STREET 9999</td>\n    </tr>\n    <tr>\n      <th>4</th>\n      <td>restaurant</td>\n      <td>40.421956</td>\n      <td>-3.693905</td>\n      <td>En La Gloria</td>\n      <td>Calle de Prim 9</td>\n    </tr>\n    <tr>\n      <th>5</th>\n      <td>restaurant</td>\n      <td>40.423695</td>\n      <td>-3.691651</td>\n      <td>Café Espejo</td>\n      <td>NO STREET 9999</td>\n    </tr>\n    <tr>\n      <th>6</th>\n      <td>restaurant</td>\n      <td>40.421951</td>\n      <td>-3.693535</td>\n      <td>Tampu</td>\n      <td>Calle de Prim 13</td>\n    </tr>\n    <tr>\n      <th>7</th>\n      <td>restaurant</td>\n      <td>40.422266</td>\n      <td>-3.694097</td>\n      <td>Casa Gades</td>\n      <td>Calle del Conde de Xiquena 4</td>\n    </tr>\n    <tr>\n      <th>8</th>\n      <td>restaurant</td>\n      <td>40.423151</td>\n      <td>-3.694062</td>\n      <td>El Cano de Xiquena</td>\n      <td>NO STREET 9999</td>\n    </tr>\n    <tr>\n      <th>9</th>\n      <td>restaurant</td>\n      <td>40.423345</td>\n      <td>-3.692632</td>\n      <td>El Gato Persa</td>\n      <td>Calle de Doña Bárbara de Braganza 10</td>\n    </tr>\n    <tr>\n      <th>10</th>\n      <td>restaurant</td>\n      <td>40.422441</td>\n      <td>-3.694220</td>\n      <td>Cannibal Raw Bar</td>\n      <td>Calle del Almirante 12</td>\n    </tr>\n    <tr>\n      <th>11</th>\n      <td>restaurant</td>\n      <td>40.422395</td>\n      <td>-3.691137</td>\n      <td>MasQMenos</td>\n      <td>NO STREET 9999</td>\n    </tr>\n    <tr>\n      <th>12</th>\n      <td>restaurant</td>\n      <td>40.421872</td>\n      <td>-3.690240</td>\n      <td>Banzai</td>\n      <td>NO STREET 9999</td>\n    </tr>\n    <tr>\n      <th>13</th>\n      <td>restaurant</td>\n      <td>40.421130</td>\n      <td>-3.689796</td>\n      <td>dokidoki</td>\n      <td>NO STREET 9999</td>\n    </tr>\n    <tr>\n      <th>14</th>\n      <td>restaurant</td>\n      <td>40.423600</td>\n      <td>-3.693725</td>\n      <td>Luke</td>\n      <td>Calle de Doña Bárbara de Braganza 2</td>\n    </tr>\n    <tr>\n      <th>15</th>\n      <td>restaurant</td>\n      <td>40.422141</td>\n      <td>-3.690864</td>\n      <td>Thai Garden 2112</td>\n      <td>Calle de Recoletos 4</td>\n    </tr>\n    <tr>\n      <th>16</th>\n      <td>restaurant</td>\n      <td>40.422379</td>\n      <td>-3.689518</td>\n      <td>Flavia</td>\n      <td>Calle de Gil de Santivañes 2</td>\n    </tr>\n    <tr>\n      <th>17</th>\n      <td>restaurant</td>\n      <td>40.422151</td>\n      <td>-3.690570</td>\n      <td>Al-Mounia</td>\n      <td>NO STREET 9999</td>\n    </tr>\n    <tr>\n      <th>18</th>\n      <td>restaurant</td>\n      <td>40.422777</td>\n      <td>-3.689781</td>\n      <td>SQD Meat Point</td>\n      <td>Calle de Villanueva 2</td>\n    </tr>\n    <tr>\n      <th>19</th>\n      <td>restaurant</td>\n      <td>40.422991</td>\n      <td>-3.693652</td>\n      <td>Noteolvides</td>\n      <td>Calle del Marqués de Monasterio 6</td>\n    </tr>\n    <tr>\n      <th>20</th>\n      <td>restaurant</td>\n      <td>40.422255</td>\n      <td>-3.694251</td>\n      <td>Merci</td>\n      <td>Calle del Conde de Xiquena 3</td>\n    </tr>\n    <tr>\n      <th>21</th>\n      <td>restaurant</td>\n      <td>40.422576</td>\n      <td>-3.694493</td>\n      <td>Mortadella</td>\n      <td>Calle del Almirante 11</td>\n    </tr>\n    <tr>\n      <th>22</th>\n      <td>restaurant</td>\n      <td>40.422081</td>\n      <td>-3.690748</td>\n      <td>New York Burger</td>\n      <td>Calle de Recoletos 4</td>\n    </tr>\n    <tr>\n      <th>23</th>\n      <td>restaurant</td>\n      <td>40.421821</td>\n      <td>-3.689824</td>\n      <td>Mestizo</td>\n      <td>Calle de Recoletos 13</td>\n    </tr>\n    <tr>\n      <th>24</th>\n      <td>restaurant</td>\n      <td>40.420818</td>\n      <td>-3.688803</td>\n      <td>Sushi Shop</td>\n      <td>Calle de Serrano 1</td>\n    </tr>\n    <tr>\n      <th>25</th>\n      <td>restaurant</td>\n      <td>40.422809</td>\n      <td>-3.694127</td>\n      <td>Restaurante la Buena Vida</td>\n      <td>NO STREET 9999</td>\n    </tr>\n    <tr>\n      <th>26</th>\n      <td>restaurant</td>\n      <td>40.422426</td>\n      <td>-3.693418</td>\n      <td>Delirant</td>\n      <td>Calle del Almirante 20</td>\n    </tr>\n    <tr>\n      <th>27</th>\n      <td>restaurant</td>\n      <td>40.422211</td>\n      <td>-3.690702</td>\n      <td>Pelotari</td>\n      <td>NO STREET 9999</td>\n    </tr>\n    <tr>\n      <th>28</th>\n      <td>restaurant</td>\n      <td>40.422235</td>\n      <td>-3.690743</td>\n      <td>El Pelotari</td>\n      <td>NO STREET 9999</td>\n    </tr>\n  </tbody>\n</table>\n</div>"
     },
     "metadata": {},
     "execution_count": 6
    }
   ],
   "source": [
    "\n",
    "overpass_url = \"http://overpass-api.de/api/interpreter\"\n",
    "overpass_query = \"\"\"\n",
    "[out:json];\n",
    "node[\"amenity\"=\"restaurant\"]\n",
    "  (40.420801, -3.694702,40.423754, -3.688167); \n",
    "out;\n",
    "\"\"\"\n",
    "response = requests.get(overpass_url, \n",
    "                        params={'data': overpass_query})\n",
    "print(response)\n",
    "data = response.json()\n",
    "df = json_to_df(data)\n",
    "df\n"
   ]
  },
  {
   "cell_type": "code",
   "execution_count": 7,
   "metadata": {},
   "outputs": [
    {
     "output_type": "display_data",
     "data": {
      "application/vnd.plotly.v1+json": {
       "config": {
        "plotlyServerURL": "https://plot.ly"
       },
       "data": [
        {
         "hovertemplate": "tipo=restaurant<br>lat=%{lat}<br>lon=%{lon}<extra></extra>",
         "lat": [
          40.4230858,
          40.4226068,
          40.4233148,
          40.4219603,
          40.4219559,
          40.4236949,
          40.4219515,
          40.422266,
          40.4231514,
          40.4233452,
          40.4224409,
          40.422395,
          40.4218723,
          40.4211297,
          40.4236005,
          40.4221408,
          40.4223791,
          40.4221513,
          40.4227772,
          40.4229908,
          40.4222548,
          40.422576,
          40.4220813,
          40.4218211,
          40.4208179,
          40.422809,
          40.422426,
          40.422211,
          40.4222351
         ],
         "legendgroup": "restaurant",
         "lon": [
          -3.6935468,
          -3.6932565,
          -3.6925055,
          -3.6942702,
          -3.6939049,
          -3.6916509,
          -3.6935347,
          -3.694097,
          -3.6940615,
          -3.6926318,
          -3.6942202,
          -3.6911375,
          -3.6902405,
          -3.6897958,
          -3.6937246,
          -3.6908645,
          -3.6895175,
          -3.6905695,
          -3.6897814,
          -3.6936524,
          -3.6942512,
          -3.694493,
          -3.6907483,
          -3.6898244,
          -3.6888032,
          -3.6941271,
          -3.6934185,
          -3.6907019,
          -3.6907431
         ],
         "marker": {
          "color": "#636efa"
         },
         "mode": "markers",
         "name": "restaurant",
         "showlegend": true,
         "subplot": "mapbox",
         "type": "scattermapbox"
        }
       ],
       "layout": {
        "legend": {
         "title": {
          "text": "tipo"
         },
         "tracegroupgap": 0
        },
        "mapbox": {
         "accesstoken": "pk.eyJ1IjoiZGFvcnRpIiwiYSI6ImNrZnF6M3FlczA3cDEyem16YTNzZmV4M2EifQ.846iF0sMSAXv0kwkwUTYjg",
         "center": {
          "lat": 40.422429048275866,
          "lon": -3.692209462068965
         },
         "domain": {
          "x": [
           0,
           1
          ],
          "y": [
           0,
           1
          ]
         },
         "zoom": 11
        },
        "margin": {
         "t": 60
        },
        "template": {
         "data": {
          "bar": [
           {
            "error_x": {
             "color": "#2a3f5f"
            },
            "error_y": {
             "color": "#2a3f5f"
            },
            "marker": {
             "line": {
              "color": "#E5ECF6",
              "width": 0.5
             }
            },
            "type": "bar"
           }
          ],
          "barpolar": [
           {
            "marker": {
             "line": {
              "color": "#E5ECF6",
              "width": 0.5
             }
            },
            "type": "barpolar"
           }
          ],
          "carpet": [
           {
            "aaxis": {
             "endlinecolor": "#2a3f5f",
             "gridcolor": "white",
             "linecolor": "white",
             "minorgridcolor": "white",
             "startlinecolor": "#2a3f5f"
            },
            "baxis": {
             "endlinecolor": "#2a3f5f",
             "gridcolor": "white",
             "linecolor": "white",
             "minorgridcolor": "white",
             "startlinecolor": "#2a3f5f"
            },
            "type": "carpet"
           }
          ],
          "choropleth": [
           {
            "colorbar": {
             "outlinewidth": 0,
             "ticks": ""
            },
            "type": "choropleth"
           }
          ],
          "contour": [
           {
            "colorbar": {
             "outlinewidth": 0,
             "ticks": ""
            },
            "colorscale": [
             [
              0,
              "#0d0887"
             ],
             [
              0.1111111111111111,
              "#46039f"
             ],
             [
              0.2222222222222222,
              "#7201a8"
             ],
             [
              0.3333333333333333,
              "#9c179e"
             ],
             [
              0.4444444444444444,
              "#bd3786"
             ],
             [
              0.5555555555555556,
              "#d8576b"
             ],
             [
              0.6666666666666666,
              "#ed7953"
             ],
             [
              0.7777777777777778,
              "#fb9f3a"
             ],
             [
              0.8888888888888888,
              "#fdca26"
             ],
             [
              1,
              "#f0f921"
             ]
            ],
            "type": "contour"
           }
          ],
          "contourcarpet": [
           {
            "colorbar": {
             "outlinewidth": 0,
             "ticks": ""
            },
            "type": "contourcarpet"
           }
          ],
          "heatmap": [
           {
            "colorbar": {
             "outlinewidth": 0,
             "ticks": ""
            },
            "colorscale": [
             [
              0,
              "#0d0887"
             ],
             [
              0.1111111111111111,
              "#46039f"
             ],
             [
              0.2222222222222222,
              "#7201a8"
             ],
             [
              0.3333333333333333,
              "#9c179e"
             ],
             [
              0.4444444444444444,
              "#bd3786"
             ],
             [
              0.5555555555555556,
              "#d8576b"
             ],
             [
              0.6666666666666666,
              "#ed7953"
             ],
             [
              0.7777777777777778,
              "#fb9f3a"
             ],
             [
              0.8888888888888888,
              "#fdca26"
             ],
             [
              1,
              "#f0f921"
             ]
            ],
            "type": "heatmap"
           }
          ],
          "heatmapgl": [
           {
            "colorbar": {
             "outlinewidth": 0,
             "ticks": ""
            },
            "colorscale": [
             [
              0,
              "#0d0887"
             ],
             [
              0.1111111111111111,
              "#46039f"
             ],
             [
              0.2222222222222222,
              "#7201a8"
             ],
             [
              0.3333333333333333,
              "#9c179e"
             ],
             [
              0.4444444444444444,
              "#bd3786"
             ],
             [
              0.5555555555555556,
              "#d8576b"
             ],
             [
              0.6666666666666666,
              "#ed7953"
             ],
             [
              0.7777777777777778,
              "#fb9f3a"
             ],
             [
              0.8888888888888888,
              "#fdca26"
             ],
             [
              1,
              "#f0f921"
             ]
            ],
            "type": "heatmapgl"
           }
          ],
          "histogram": [
           {
            "marker": {
             "colorbar": {
              "outlinewidth": 0,
              "ticks": ""
             }
            },
            "type": "histogram"
           }
          ],
          "histogram2d": [
           {
            "colorbar": {
             "outlinewidth": 0,
             "ticks": ""
            },
            "colorscale": [
             [
              0,
              "#0d0887"
             ],
             [
              0.1111111111111111,
              "#46039f"
             ],
             [
              0.2222222222222222,
              "#7201a8"
             ],
             [
              0.3333333333333333,
              "#9c179e"
             ],
             [
              0.4444444444444444,
              "#bd3786"
             ],
             [
              0.5555555555555556,
              "#d8576b"
             ],
             [
              0.6666666666666666,
              "#ed7953"
             ],
             [
              0.7777777777777778,
              "#fb9f3a"
             ],
             [
              0.8888888888888888,
              "#fdca26"
             ],
             [
              1,
              "#f0f921"
             ]
            ],
            "type": "histogram2d"
           }
          ],
          "histogram2dcontour": [
           {
            "colorbar": {
             "outlinewidth": 0,
             "ticks": ""
            },
            "colorscale": [
             [
              0,
              "#0d0887"
             ],
             [
              0.1111111111111111,
              "#46039f"
             ],
             [
              0.2222222222222222,
              "#7201a8"
             ],
             [
              0.3333333333333333,
              "#9c179e"
             ],
             [
              0.4444444444444444,
              "#bd3786"
             ],
             [
              0.5555555555555556,
              "#d8576b"
             ],
             [
              0.6666666666666666,
              "#ed7953"
             ],
             [
              0.7777777777777778,
              "#fb9f3a"
             ],
             [
              0.8888888888888888,
              "#fdca26"
             ],
             [
              1,
              "#f0f921"
             ]
            ],
            "type": "histogram2dcontour"
           }
          ],
          "mesh3d": [
           {
            "colorbar": {
             "outlinewidth": 0,
             "ticks": ""
            },
            "type": "mesh3d"
           }
          ],
          "parcoords": [
           {
            "line": {
             "colorbar": {
              "outlinewidth": 0,
              "ticks": ""
             }
            },
            "type": "parcoords"
           }
          ],
          "pie": [
           {
            "automargin": true,
            "type": "pie"
           }
          ],
          "scatter": [
           {
            "marker": {
             "colorbar": {
              "outlinewidth": 0,
              "ticks": ""
             }
            },
            "type": "scatter"
           }
          ],
          "scatter3d": [
           {
            "line": {
             "colorbar": {
              "outlinewidth": 0,
              "ticks": ""
             }
            },
            "marker": {
             "colorbar": {
              "outlinewidth": 0,
              "ticks": ""
             }
            },
            "type": "scatter3d"
           }
          ],
          "scattercarpet": [
           {
            "marker": {
             "colorbar": {
              "outlinewidth": 0,
              "ticks": ""
             }
            },
            "type": "scattercarpet"
           }
          ],
          "scattergeo": [
           {
            "marker": {
             "colorbar": {
              "outlinewidth": 0,
              "ticks": ""
             }
            },
            "type": "scattergeo"
           }
          ],
          "scattergl": [
           {
            "marker": {
             "colorbar": {
              "outlinewidth": 0,
              "ticks": ""
             }
            },
            "type": "scattergl"
           }
          ],
          "scattermapbox": [
           {
            "marker": {
             "colorbar": {
              "outlinewidth": 0,
              "ticks": ""
             }
            },
            "type": "scattermapbox"
           }
          ],
          "scatterpolar": [
           {
            "marker": {
             "colorbar": {
              "outlinewidth": 0,
              "ticks": ""
             }
            },
            "type": "scatterpolar"
           }
          ],
          "scatterpolargl": [
           {
            "marker": {
             "colorbar": {
              "outlinewidth": 0,
              "ticks": ""
             }
            },
            "type": "scatterpolargl"
           }
          ],
          "scatterternary": [
           {
            "marker": {
             "colorbar": {
              "outlinewidth": 0,
              "ticks": ""
             }
            },
            "type": "scatterternary"
           }
          ],
          "surface": [
           {
            "colorbar": {
             "outlinewidth": 0,
             "ticks": ""
            },
            "colorscale": [
             [
              0,
              "#0d0887"
             ],
             [
              0.1111111111111111,
              "#46039f"
             ],
             [
              0.2222222222222222,
              "#7201a8"
             ],
             [
              0.3333333333333333,
              "#9c179e"
             ],
             [
              0.4444444444444444,
              "#bd3786"
             ],
             [
              0.5555555555555556,
              "#d8576b"
             ],
             [
              0.6666666666666666,
              "#ed7953"
             ],
             [
              0.7777777777777778,
              "#fb9f3a"
             ],
             [
              0.8888888888888888,
              "#fdca26"
             ],
             [
              1,
              "#f0f921"
             ]
            ],
            "type": "surface"
           }
          ],
          "table": [
           {
            "cells": {
             "fill": {
              "color": "#EBF0F8"
             },
             "line": {
              "color": "white"
             }
            },
            "header": {
             "fill": {
              "color": "#C8D4E3"
             },
             "line": {
              "color": "white"
             }
            },
            "type": "table"
           }
          ]
         },
         "layout": {
          "annotationdefaults": {
           "arrowcolor": "#2a3f5f",
           "arrowhead": 0,
           "arrowwidth": 1
          },
          "coloraxis": {
           "colorbar": {
            "outlinewidth": 0,
            "ticks": ""
           }
          },
          "colorscale": {
           "diverging": [
            [
             0,
             "#8e0152"
            ],
            [
             0.1,
             "#c51b7d"
            ],
            [
             0.2,
             "#de77ae"
            ],
            [
             0.3,
             "#f1b6da"
            ],
            [
             0.4,
             "#fde0ef"
            ],
            [
             0.5,
             "#f7f7f7"
            ],
            [
             0.6,
             "#e6f5d0"
            ],
            [
             0.7,
             "#b8e186"
            ],
            [
             0.8,
             "#7fbc41"
            ],
            [
             0.9,
             "#4d9221"
            ],
            [
             1,
             "#276419"
            ]
           ],
           "sequential": [
            [
             0,
             "#0d0887"
            ],
            [
             0.1111111111111111,
             "#46039f"
            ],
            [
             0.2222222222222222,
             "#7201a8"
            ],
            [
             0.3333333333333333,
             "#9c179e"
            ],
            [
             0.4444444444444444,
             "#bd3786"
            ],
            [
             0.5555555555555556,
             "#d8576b"
            ],
            [
             0.6666666666666666,
             "#ed7953"
            ],
            [
             0.7777777777777778,
             "#fb9f3a"
            ],
            [
             0.8888888888888888,
             "#fdca26"
            ],
            [
             1,
             "#f0f921"
            ]
           ],
           "sequentialminus": [
            [
             0,
             "#0d0887"
            ],
            [
             0.1111111111111111,
             "#46039f"
            ],
            [
             0.2222222222222222,
             "#7201a8"
            ],
            [
             0.3333333333333333,
             "#9c179e"
            ],
            [
             0.4444444444444444,
             "#bd3786"
            ],
            [
             0.5555555555555556,
             "#d8576b"
            ],
            [
             0.6666666666666666,
             "#ed7953"
            ],
            [
             0.7777777777777778,
             "#fb9f3a"
            ],
            [
             0.8888888888888888,
             "#fdca26"
            ],
            [
             1,
             "#f0f921"
            ]
           ]
          },
          "colorway": [
           "#636efa",
           "#EF553B",
           "#00cc96",
           "#ab63fa",
           "#FFA15A",
           "#19d3f3",
           "#FF6692",
           "#B6E880",
           "#FF97FF",
           "#FECB52"
          ],
          "font": {
           "color": "#2a3f5f"
          },
          "geo": {
           "bgcolor": "white",
           "lakecolor": "white",
           "landcolor": "#E5ECF6",
           "showlakes": true,
           "showland": true,
           "subunitcolor": "white"
          },
          "hoverlabel": {
           "align": "left"
          },
          "hovermode": "closest",
          "mapbox": {
           "style": "light"
          },
          "paper_bgcolor": "white",
          "plot_bgcolor": "#E5ECF6",
          "polar": {
           "angularaxis": {
            "gridcolor": "white",
            "linecolor": "white",
            "ticks": ""
           },
           "bgcolor": "#E5ECF6",
           "radialaxis": {
            "gridcolor": "white",
            "linecolor": "white",
            "ticks": ""
           }
          },
          "scene": {
           "xaxis": {
            "backgroundcolor": "#E5ECF6",
            "gridcolor": "white",
            "gridwidth": 2,
            "linecolor": "white",
            "showbackground": true,
            "ticks": "",
            "zerolinecolor": "white"
           },
           "yaxis": {
            "backgroundcolor": "#E5ECF6",
            "gridcolor": "white",
            "gridwidth": 2,
            "linecolor": "white",
            "showbackground": true,
            "ticks": "",
            "zerolinecolor": "white"
           },
           "zaxis": {
            "backgroundcolor": "#E5ECF6",
            "gridcolor": "white",
            "gridwidth": 2,
            "linecolor": "white",
            "showbackground": true,
            "ticks": "",
            "zerolinecolor": "white"
           }
          },
          "shapedefaults": {
           "line": {
            "color": "#2a3f5f"
           }
          },
          "ternary": {
           "aaxis": {
            "gridcolor": "white",
            "linecolor": "white",
            "ticks": ""
           },
           "baxis": {
            "gridcolor": "white",
            "linecolor": "white",
            "ticks": ""
           },
           "bgcolor": "#E5ECF6",
           "caxis": {
            "gridcolor": "white",
            "linecolor": "white",
            "ticks": ""
           }
          },
          "title": {
           "x": 0.05
          },
          "xaxis": {
           "automargin": true,
           "gridcolor": "white",
           "linecolor": "white",
           "ticks": "",
           "title": {
            "standoff": 15
           },
           "zerolinecolor": "white",
           "zerolinewidth": 2
          },
          "yaxis": {
           "automargin": true,
           "gridcolor": "white",
           "linecolor": "white",
           "ticks": "",
           "title": {
            "standoff": 15
           },
           "zerolinecolor": "white",
           "zerolinewidth": 2
          }
         }
        }
       }
      }
     },
     "metadata": {}
    }
   ],
   "source": [
    "pinta_mapa(df)"
   ]
  },
  {
   "cell_type": "markdown",
   "metadata": {},
   "source": [
    "## Ejercicio 1\n",
    "### Búsqueda de aparcamiento\n",
    "Para este caso de uso imagina que vas a Madrid de viaje y estás buscando posibles parkings donde dejar el coche, crea un DataFrame con todos los parkings (de OpenStreetMap) de la ciudad de Madrid. Para ello define una cuadrícula con dos coordenadas sobre Madrid.\n",
    "\n",
    "Representa en un mapa los resultados"
   ]
  },
  {
   "cell_type": "code",
   "execution_count": 12,
   "metadata": {},
   "outputs": [
    {
     "output_type": "stream",
     "name": "stdout",
     "text": [
      "<Response [200]>\n"
     ]
    }
   ],
   "source": [
    "overpass_url = \"http://overpass-api.de/api/interpreter\"\n",
    "overpass_query = \"\"\"\n",
    "[out:json];\n",
    "node[\"amenity\"=\"parking_entrance\"]\n",
    "  (40.396013, -3.746999,40.480011, -3.625910); \n",
    "out;\n",
    "\"\"\"\n",
    "response = requests.get(overpass_url, \n",
    "                        params={'data': overpass_query})\n",
    "print(response)\n",
    "data = response.json()\n"
   ]
  },
  {
   "cell_type": "code",
   "execution_count": 13,
   "metadata": {},
   "outputs": [
    {
     "output_type": "execute_result",
     "data": {
      "text/plain": [
       "te',\n",
       "    'amenity': 'parking_entrance',\n",
       "    'maxheight': '1.9',\n",
       "    'parking': 'underground'}},\n",
       "  {'type': 'node',\n",
       "   'id': 5406530355,\n",
       "   'lat': 40.4031992,\n",
       "   'lon': -3.6917194,\n",
       "   'tags': {'access': 'private',\n",
       "    'amenity': 'parking_entrance',\n",
       "    'parking': 'underground'}},\n",
       "  {'type': 'node',\n",
       "   'id': 5460254007,\n",
       "   'lat': 40.4717003,\n",
       "   'lon': -3.7091404,\n",
       "   'tags': {'access': 'private',\n",
       "    'amenity': 'parking_entrance',\n",
       "    'parking': 'underground'}},\n",
       "  {'type': 'node',\n",
       "   'id': 5484482336,\n",
       "   'lat': 40.4001538,\n",
       "   'lon': -3.7075366,\n",
       "   'tags': {'access': 'private',\n",
       "    'amenity': 'parking_entrance',\n",
       "    'parking': 'underground'}},\n",
       "  {'type': 'node',\n",
       "   'id': 5501428617,\n",
       "   'lat': 40.4297841,\n",
       "   'lon': -3.7191938,\n",
       "   'tags': {'amenity': 'parking_entrance'}},\n",
       "  {'type': 'node',\n",
       "   'id': 5501428620,\n",
       "   'lat': 40.429498,\n",
       "   'lon': -3.7198074,\n",
       "   'tags': {'amenity': 'parking_entrance'}},\n",
       "  {'type': 'node',\n",
       "   'id': 5706130155,\n",
       "   'lat': 40.4711586,\n",
       "   'lon': -3.694423,\n",
       "   'tags': {'access': 'private', 'amenity': 'parking_entrance'}},\n",
       "  {'type': 'node',\n",
       "   'id': 5734481764,\n",
       "   'lat': 40.4683845,\n",
       "   'lon': -3.6930998,\n",
       "   'tags': {'access': 'private',\n",
       "    'amenity': 'parking_entrance',\n",
       "    'parking': 'underground'}},\n",
       "  {'type': 'node',\n",
       "   'id': 5754536436,\n",
       "   'lat': 40.4765779,\n",
       "   'lon': -3.7008341,\n",
       "   'tags': {'amenity': 'parking_entrance', 'parking': 'underground'}},\n",
       "  {'type': 'node',\n",
       "   'id': 5784870818,\n",
       "   'lat': 40.4426189,\n",
       "   'lon': -3.7100575,\n",
       "   'tags': {'amenity': 'parking_entrance'}},\n",
       "  {'type': 'node',\n",
       "   'id': 5830731721,\n",
       "   'lat': 40.4344763,\n",
       "   'lon': -3.6754029,\n",
       "   'tags': {'access': 'yes',\n",
       "    'amenity': 'parking_entrance',\n",
       "    'fee': 'yes',\n",
       "    'operator': 'Interparking',\n",
       "    'parking': 'underground',\n",
       "    'smoothness': 'excellent',\n",
       "    'supervised': 'yes',\n",
       "    'surface': 'concrete'}},\n",
       "  {'type': 'node',\n",
       "   'id': 5830741509,\n",
       "   'lat': 40.4346596,\n",
       "   'lon': -3.6757737,\n",
       "   'tags': {'access': 'yes',\n",
       "    'amenity': 'parking_entrance',\n",
       "    'fee': 'yes',\n",
       "    'operator': 'Interparking',\n",
       "    'parking': 'underground',\n",
       "    'smoothness': 'excellent',\n",
       "    'supervised': 'yes',\n",
       "    'surface': 'concrete'}},\n",
       "  {'type': 'node',\n",
       "   'id': 5830741511,\n",
       "   'lat': 40.4346412,\n",
       "   'lon': -3.6753814,\n",
       "   'tags': {'access': 'yes',\n",
       "    'amenity': 'parking_entrance',\n",
       "    'fee': 'yes',\n",
       "    'operator': 'Interparking',\n",
       "    'parking': 'underground',\n",
       "    'smoothness': 'excellent',\n",
       "    'supervised': 'yes',\n",
       "    'surface': 'concrete'}},\n",
       "  {'type': 'node',\n",
       "   'id': 5882057152,\n",
       "   'lat': 40.4400327,\n",
       "   'lon': -3.650439,\n",
       "   'tags': {'access': 'private',\n",
       "    'amenity': 'parking_entrance',\n",
       "    'parking': 'underground'}},\n",
       "  {'type': 'node',\n",
       "   'id': 5903943209,\n",
       "   'lat': 40.4394769,\n",
       "   'lon': -3.6516003,\n",
       "   'tags': {'access': 'private',\n",
       "    'amenity': 'parking_entrance',\n",
       "    'parking': 'underground'}},\n",
       "  {'type': 'node',\n",
       "   'id': 5903943213,\n",
       "   'lat': 40.439352,\n",
       "   'lon': -3.651924,\n",
       "   'tags': {'access': 'private', 'amenity': 'parking_entrance'}},\n",
       "  {'type': 'node',\n",
       "   'id': 5916091815,\n",
       "   'lat': 40.4423639,\n",
       "   'lon': -3.6522034,\n",
       "   'tags': {'amenity': 'parking_entrance', 'parking': 'underground'}},\n",
       "  {'type': 'node',\n",
       "   'id': 6023449642,\n",
       "   'lat': 40.4125197,\n",
       "   'lon': -3.6895668,\n",
       "   'tags': {'access': 'private', 'amenity': 'parking_entrance'}},\n",
       "  {'type': 'node',\n",
       "   'id': 6023449643,\n",
       "   'lat': 40.4125178,\n",
       "   'lon': -3.6896373,\n",
       "   'tags': {'access': 'private', 'amenity': 'parking_entrance'}},\n",
       "  {'type': 'node',\n",
       "   'id': 6090838366,\n",
       "   'lat': 40.4647808,\n",
       "   'lon': -3.712065,\n",
       "   'tags': {'access': 'private',\n",
       "    'amenity': 'parking_entrance',\n",
       "    'parking': 'underground'}},\n",
       "  {'type': 'node',\n",
       "   'id': 6140940483,\n",
       "   'lat': 40.4073181,\n",
       "   'lon': -3.7100246,\n",
       "   'tags': {'amenity': 'parking_entrance',\n",
       "    'maxheight': '2',\n",
       "    'parking': 'underground'}},\n",
       "  {'type': 'node',\n",
       "   'id': 6184461896,\n",
       "   'lat': 40.4525316,\n",
       "   'lon': -3.7148439,\n",
       "   'tags': {'access': 'no',\n",
       "    'amenity': 'parking_entrance',\n",
       "    'parking': 'underground'}},\n",
       "  {'type': 'node',\n",
       "   'id': 6200560410,\n",
       "   'lat': 40.4519685,\n",
       "   'lon': -3.7167694,\n",
       "   'tags': {'access': 'private',\n",
       "    'amenity': 'parking_entrance',\n",
       "    'foot': 'no',\n",
       "    'parking': 'underground'}},\n",
       "  {'type': 'node',\n",
       "   'id': 6204262618,\n",
       "   'lat': 40.4128524,\n",
       "   'lon': -3.6900634,\n",
       "   'tags': {'access': 'private',\n",
       "    'amenity': 'parking_entrance',\n",
       "    'parking': 'underground'}},\n",
       "  {'type': 'node',\n",
       "   'id': 6204262621,\n",
       "   'lat': 40.4128066,\n",
       "   'lon': -3.6910357,\n",
       "   'tags': {'access': 'private',\n",
       "    'amenity': 'parking_entrance',\n",
       "    'parking': 'underground'}},\n",
       "  {'type': 'node',\n",
       "   'id': 6204274168,\n",
       "   'lat': 40.4083694,\n",
       "   'lon': -3.6767497,\n",
       "   'tags': {'amenity': 'parking_entrance', 'parking': 'underground'}},\n",
       "  {'type': 'node',\n",
       "   'id': 6204274170,\n",
       "   'lat': 40.4088346,\n",
       "   'lon': -3.6764228,\n",
       "   'tags': {'amenity': 'parking_entrance', 'parking': 'underground'}},\n",
       "  {'type': 'node',\n",
       "   'id': 6204274171,\n",
       "   'lat': 40.4085401,\n",
       "   'lon': -3.6764193,\n",
       "   'tags': {'amenity': 'parking_entrance', 'parking': 'underground'}},\n",
       "  {'type': 'node',\n",
       "   'id': 6204381698,\n",
       "   'lat': 40.4067306,\n",
       "   'lon': -3.671794,\n",
       "   'tags': {'access': 'private',\n",
       "    'amenity': 'parking_entrance',\n",
       "    'parking': 'underground'}},\n",
       "  {'type': 'node',\n",
       "   'id': 6205905764,\n",
       "   'lat': 40.4615259,\n",
       "   'lon': -3.6861126,\n",
       "   'tags': {'access': 'private',\n",
       "    'amenity': 'parking_entrance',\n",
       "    'parking': 'underground'}},\n",
       "  {'type': 'node',\n",
       "   'id': 6222434408,\n",
       "   'lat': 40.4759906,\n",
       "   'lon': -3.7073876,\n",
       "   'tags': {'amenity': 'parking_entrance', 'parking': 'underground'}},\n",
       "  {'type': 'node',\n",
       "   'id': 6238519854,\n",
       "   'lat': 40.4471346,\n",
       "   'lon': -3.7139717,\n",
       "   'tags': {'amenity': 'parking_entrance'}},\n",
       "  {'type': 'node',\n",
       "   'id': 6281544196,\n",
       "   'lat': 40.4725857,\n",
       "   'lon': -3.6834605,\n",
       "   'tags': {'access': 'yes', 'amenity': 'parking_entrance'}},\n",
       "  {'type': 'node',\n",
       "   'id': 6284747812,\n",
       "   'lat': 40.4713974,\n",
       "   'lon': -3.6969468,\n",
       "   'tags': {'access': 'customers',\n",
       "    'amenity': 'parking_entrance',\n",
       "    'maxheight': 'below_default',\n",
       "    'parking': 'underground'}},\n",
       "  {'type': 'node',\n",
       "   'id': 6291985752,\n",
       "   'lat': 40.4613227,\n",
       "   'lon': -3.7096195,\n",
       "   'tags': {'amenity': 'parking_entrance', 'parking': 'underground'}},\n",
       "  {'type': 'node',\n",
       "   'id': 6353068321,\n",
       "   'lat': 40.4113301,\n",
       "   'lon': -3.7378949,\n",
       "   'tags': {'amenity': 'parking_entrance', 'parking': 'underground'}},\n",
       "  {'type': 'node',\n",
       "   'id': 6353103201,\n",
       "   'lat': 40.4114481,\n",
       "   'lon': -3.7379908,\n",
       "   'tags': {'amenity': 'parking_entrance', 'parking': 'underground'}},\n",
       "  {'type': 'node',\n",
       "   'id': 6474883065,\n",
       "   'lat': 40.4531514,\n",
       "   'lon': -3.6845917,\n",
       "   'tags': {'amenity': 'parking_entrance', 'name': 'Parking San Rafael'}},\n",
       "  {'type': 'node',\n",
       "   'id': 6484517742,\n",
       "   'lat': 40.4554111,\n",
       "   'lon': -3.693459,\n",
       "   'tags': {'access': 'yes',\n",
       "    'amenity': 'parking_entrance',\n",
       "    'fee': 'yes',\n",
       "    'name': 'Avenida de Brasil',\n",
       "    'parking': 'underground',\n",
       "    'source': 'survey'}},\n",
       "  {'type': 'node',\n",
       "   'id': 6484517747,\n",
       "   'lat': 40.4554201,\n",
       "   'lon': -3.6936691,\n",
       "   'tags': {'access': 'yes',\n",
       "    'amenity': 'parking_entrance',\n",
       "    'fee': 'yes',\n",
       "    'name': 'Avenida de Brasil',\n",
       "    'parking': 'underground',\n",
       "    'source': 'survey'}},\n",
       "  {'type': 'node',\n",
       "   'id': 6484517770,\n",
       "   'lat': 40.4559661,\n",
       "   'lon': -3.6935085,\n",
       "   'tags': {'access': 'yes',\n",
       "    'amenity': 'parking_entrance',\n",
       "    'fee': 'yes',\n",
       "    'name': 'Avenida de Brasil',\n",
       "    'parking': 'underground',\n",
       "    'source': 'survey'}},\n",
       "  {'type': 'node',\n",
       "   'id': 6505483444,\n",
       "   'lat': 40.416352,\n",
       "   'lon': -3.6904148,\n",
       "   'tags': {'amenity': 'parking_entrance'}},\n",
       "  {'type': 'node',\n",
       "   'id': 6527784696,\n",
       "   'lat': 40.4301825,\n",
       "   'lon': -3.6348166,\n",
       "   'tags': {'amenity': 'parking_entrance',\n",
       "    'name': 'Parking Santo Domingo Savio'}},\n",
       "  {'type': 'node',\n",
       "   'id': 6600890218,\n",
       "   'lat': 40.4774211,\n",
       "   'lon': -3.7103581,\n",
       "   'tags': {'amenity': 'parking_entrance'}},\n",
       "  {'type': 'node',\n",
       "   'id': 6624716027,\n",
       "   'lat': 40.4216936,\n",
       "   'lon': -3.7161939,\n",
       "   'tags': {'access': 'private',\n",
       "    'amenity': 'parking_entrance',\n",
       "    'source': 'local knowledge'}},\n",
       "  {'type': 'node',\n",
       "   'id': 6624716031,\n",
       "   'lat': 40.4209798,\n",
       "   'lon': -3.7157648,\n",
       "   'tags': {'access': 'private',\n",
       "    'amenity': 'parking_entrance',\n",
       "    'source': 'local knowledge'}},\n",
       "  {'type': 'node',\n",
       "   'id': 6625171360,\n",
       "   'lat': 40.4217937,\n",
       "   'lon': -3.7185072,\n",
       "   'tags': {'access': 'customers',\n",
       "    'amenity': 'parking_entrance',\n",
       "    'source': 'local knowledge'}},\n",
       "  {'type': 'node',\n",
       "   'id': 6625171361,\n",
       "   'lat': 40.4222348,\n",
       "   'lon': -3.7179624,\n",
       "   'tags': {'access': 'private',\n",
       "    'amenity': 'parking_entrance',\n",
       "    'source': 'local knowledge'}},\n",
       "  {'type': 'node',\n",
       "   'id': 6625171362,\n",
       "   'lat': 40.4221952,\n",
       "   'lon': -3.71803,\n",
       "   'tags': {'access': 'private',\n",
       "    'amenity': 'parking_entrance',\n",
       "    'source': 'local knowledge'}},\n",
       "  {'type': 'node',\n",
       "   'id': 6627351477,\n",
       "   'lat': 40.4222032,\n",
       "   'lon': -3.7150031,\n",
       "   'tags': {'access': 'customers',\n",
       "    'amenity': 'parking_entrance',\n",
       "    'name': 'Garage Cadarso',\n",
       "    'source': 'local knowledge'}},\n",
       "  {'type': 'node',\n",
       "   'id': 6627351479,\n",
       "   'lat': 40.4222759,\n",
       "   'lon': -3.7154847,\n",
       "   'tags': {'access': 'private',\n",
       "    'amenity': 'parking_entrance',\n",
       "    'source': 'local knowledge'}},\n",
       "  {'type': 'node',\n",
       "   'id': 6627351480,\n",
       "   'lat': 40.4222553,\n",
       "   'lon': -3.715451,\n",
       "   'tags': {'access': 'private',\n",
       "    'amenity': 'parking_entrance',\n",
       "    'source': 'local knowledge'}},\n",
       "  {'type': 'node',\n",
       "   'id': 6627351481,\n",
       "   'lat': 40.4218461,\n",
       "   'lon': -3.7143759,\n",
       "   'tags': {'access': 'private',\n",
       "    'amenity': 'parking_entrance',\n",
       "    'source': 'local knowledge'}},\n",
       "  {'type': 'node',\n",
       "   'id': 6627351482,\n",
       "   'lat': 40.4217832,\n",
       "   'lon': -3.7142659,\n",
       "   'tags': {'access': 'private',\n",
       "    'amenity': 'parking_entrance',\n",
       "    'source': 'local knowledge'}},\n",
       "  {'type': 'node',\n",
       "   'id': 6627351483,\n",
       "   'lat': 40.4216676,\n",
       "   'lon': -3.7140636,\n",
       "   'tags': {'access': 'private',\n",
       "    'addr:housenumber': '2',\n",
       "    'addr:street': 'Calle Cadarso',\n",
       "    'amenity': 'parking_entrance',\n",
       "    'source': 'local knowledge'}},\n",
       "  {'type': 'node',\n",
       "   'id': 6627351484,\n",
       "   'lat': 40.4213219,\n",
       "   'lon': -3.7143817,\n",
       "   'tags': {'access': 'private',\n",
       "    'amenity': 'parking_entrance',\n",
       "    'source': 'local knowledge'}},\n",
       "  {'type': 'node',\n",
       "   'id': 6627354985,\n",
       "   'lat': 40.4210402,\n",
       "   'lon': -3.7148154,\n",
       "   'tags': {'access': 'customers',\n",
       "    'amenity': 'parking_entrance',\n",
       "    'source': 'local knowledge'}},\n",
       "  {'type': 'node',\n",
       "   'id': 6684049126,\n",
       "   'lat': 40.4480321,\n",
       "   'lon': -3.6959689,\n",
       "   'tags': {'amenity': 'parking_entrance',\n",
       "    'name': 'Interparking Hernani',\n",
       "    'parking': 'underground',\n",
       "    'phone': '+34 915 54 53 26',\n",
       "    'website': 'https://www.interparking.es/es-ES/'}},\n",
       "  {'type': 'node',\n",
       "   'id': 6738487661,\n",
       "   'lat': 40.4527189,\n",
       "   'lon': -3.7132142,\n",
       "   'tags': {'amenity': 'parking_entrance'}},\n",
       "  {'type': 'node',\n",
       "   'id': 6795458395,\n",
       "   'lat': 40.4729913,\n",
       "   'lon': -3.718861,\n",
       "   'tags': {'access': 'private',\n",
       "    'amenity': 'parking_entrance',\n",
       "    'parking': 'underground'}},\n",
       "  {'type': 'node',\n",
       "   'id': 6855238990,\n",
       "   'lat': 40.470687,\n",
       "   'lon': -3.6856765,\n",
       "   'tags': {'amenity': 'parking_entrance'}},\n",
       "  {'type': 'node',\n",
       "   'id': 6855239200,\n",
       "   'lat': 40.4714699,\n",
       "   'lon': -3.6836728,\n",
       "   'tags': {'amenity': 'parking_entrance'}},\n",
       "  {'type': 'node',\n",
       "   'id': 6873733839,\n",
       "   'lat': 40.4634756,\n",
       "   'lon': -3.6262224,\n",
       "   'tags': {'amenity': 'parking_entrance'}},\n",
       "  {'type': 'node',\n",
       "   'id': 6885254472,\n",
       "   'lat': 40.4475278,\n",
       "   'lon': -3.6960425,\n",
       "   'tags': {'amenity': 'parking_entrance', 'name': 'Parking Villaverde'}},\n",
       "  {'type': 'node',\n",
       "   'id': 6912403230,\n",
       "   'lat': 40.4283983,\n",
       "   'lon': -3.6875653,\n",
       "   'tags': {'amenity': 'parking_entrance', 'parking': 'underground'}},\n",
       "  {'type': 'node',\n",
       "   'id': 6912403231,\n",
       "   'lat': 40.4292732,\n",
       "   'lon': -3.6877558,\n",
       "   'tags': {'amenity': 'parking_entrance', 'parking': 'underground'}},\n",
       "  {'type': 'node',\n",
       "   'id': 6981674382,\n",
       "   'lat': 40.4293557,\n",
       "   'lon': -3.7148516,\n",
       "   'tags': {'access': 'yes',\n",
       "    'amenity': 'parking_entrance',\n",
       "    'fee': 'yes',\n",
       "    'operator': 'El Corte Inglés',\n",
       "    'parking': 'underground'}},\n",
       "  {'type': 'node',\n",
       "   'id': 7068076330,\n",
       "   'lat': 40.4357345,\n",
       "   'lon': -3.7049947,\n",
       "   'tags': {'access': 'yes',\n",
       "    'amenity': 'parking_entrance',\n",
       "    'fee': 'yes',\n",
       "    'parking': 'underground',\n",
       "    'source': 'survey'}},\n",
       "  {'type': 'node',\n",
       "   'id': 7076217815,\n",
       "   'lat': 40.4012405,\n",
       "   'lon': -3.7108902,\n",
       "   'tags': {'access': 'private',\n",
       "    'amenity': 'parking_entrance',\n",
       "    'barrier': 'gate',\n",
       "    'parking': 'underground'}},\n",
       "  {'type': 'node',\n",
       "   'id': 7078717108,\n",
       "   'lat': 40.4013572,\n",
       "   'lon': -3.710953,\n",
       "   'tags': {'access': 'private',\n",
       "    'amenity': 'parking_entrance',\n",
       "    'barrier': 'gate',\n",
       "    'parking': 'underground'}},\n",
       "  {'type': 'node',\n",
       "   'id': 7093490175,\n",
       "   'lat': 40.4498113,\n",
       "   'lon': -3.6502215,\n",
       "   'tags': {'amenity': 'parking_entrance',\n",
       "    'parking': 'underground',\n",
       "    'source': 'survey'}},\n",
       "  {'type': 'node',\n",
       "   'id': 7098087931,\n",
       "   'lat': 40.4318428,\n",
       "   'lon': -3.6807161,\n",
       "   'tags': {'access': 'no',\n",
       "    'amenity': 'parking_entrance',\n",
       "    'entrance': 'yes',\n",
       "    'foot': 'designated'}},\n",
       "  {'type': 'node',\n",
       "   'id': 7098087933,\n",
       "   'lat': 40.4317969,\n",
       "   'lon': -3.6806935,\n",
       "   'tags': {'access': 'customers',\n",
       "    'amenity': 'parking_entrance',\n",
       "    'fee': 'yes',\n",
       "    'parking': 'underground'}},\n",
       "  {'type': 'node',\n",
       "   'id': 7106701503,\n",
       "   'lat': 40.3996813,\n",
       "   'lon': -3.7084125,\n",
       "   'tags': {'access': 'private',\n",
       "    'amenity': 'parking_entrance',\n",
       "    'parking': 'underground'}},\n",
       "  {'type': 'node',\n",
       "   'id': 7106818870,\n",
       "   'lat': 40.3992419,\n",
       "   'lon': -3.7063837,\n",
       "   'tags': {'access': 'private',\n",
       "    'amenity': 'parking_entrance',\n",
       "    'parking': 'underground'}},\n",
       "  {'type': 'node',\n",
       "   'id': 7111029404,\n",
       "   'lat': 40.3984262,\n",
       "   'lon': -3.7083671,\n",
       "   'tags': {'access': 'private',\n",
       "    'amenity': 'parking_entrance',\n",
       "    'parking': 'underground'}},\n",
       "  {'type': 'node',\n",
       "   'id': 7113160343,\n",
       "   'lat': 40.4003232,\n",
       "   'lon': -3.7071726,\n",
       "   'tags': {'access': 'private', 'amenity': 'parking_entrance'}},\n",
       "  {'type': 'node',\n",
       "   'id': 7113160345,\n",
       "   'lat': 40.400245,\n",
       "   'lon': -3.7067699,\n",
       "   'tags': {'access': 'private',\n",
       "    'amenity': 'parking_entrance',\n",
       "    'parking': 'underground'}},\n",
       "  {'type': 'node',\n",
       "   'id': 7113160347,\n",
       "   'lat': 40.3990348,\n",
       "   'lon': -3.7090569,\n",
       "   'tags': {'access': 'private',\n",
       "    'amenity': 'parking_entrance',\n",
       "    'parking': 'underground'}},\n",
       "  {'type': 'node',\n",
       "   'id': 7124769367,\n",
       "   'lat': 40.4304972,\n",
       "   'lon': -3.679343,\n",
       "   'tags': {'amenity': 'parking_entrance'}},\n",
       "  {'type': 'node',\n",
       "   'id': 7127019012,\n",
       "   'lat': 40.3994121,\n",
       "   'lon': -3.708604,\n",
       "   'tags': {'access': 'private', 'amenity': 'parking_entrance'}},\n",
       "  {'type': 'node',\n",
       "   'id': 7140036353,\n",
       "   'lat': 40.4249707,\n",
       "   'lon': -3.716554,\n",
       "   'tags': {'access': 'private',\n",
       "    'amenity': 'parking_entrance',\n",
       "    'parking': 'underground'}},\n",
       "  {'type': 'node',\n",
       "   'id': 7152504385,\n",
       "   'lat': 40.3996055,\n",
       "   'lon': -3.7080597,\n",
       "   'tags': {'access': 'private',\n",
       "    'amenity': 'parking_entrance',\n",
       "    'covered': 'yes',\n",
       "    'parking': 'underground'}},\n",
       "  {'type': 'node',\n",
       "   'id': 7159758670,\n",
       "   'lat': 40.4264985,\n",
       "   'lon': -3.6997895,\n",
       "   'tags': {'amenity': 'parking_entrance'}},\n",
       "  {'type': 'node',\n",
       "   'id': 7159758685,\n",
       "   'lat': 40.4258757,\n",
       "   'lon': -3.7001181,\n",
       "   'tags': {'amenity': 'parking_entrance'}},\n",
       "  {'type': 'node',\n",
       "   'id': 7273170569,\n",
       "   'lat': 40.4105008,\n",
       "   'lon': -3.7385185,\n",
       "   'tags': {'amenity': 'parking_entrance', 'parking': 'underground'}},\n",
       "  {'type': 'node',\n",
       "   'id': 7310111385,\n",
       "   'lat': 40.4426848,\n",
       "   'lon': -3.6766971,\n",
       "   'tags': {'access': 'yes',\n",
       "    'amenity': 'parking_entrance',\n",
       "    'fee': 'yes',\n",
       "    'parking': 'underground',\n",
       "    'source': 'survey'}},\n",
       "  {'type': 'node',\n",
       "   'id': 7341724417,\n",
       "   'lat': 40.4120228,\n",
       "   'lon': -3.6595955,\n",
       "   'tags': {'amenity': 'parking_entrance'}},\n",
       "  {'type': 'node',\n",
       "   'id': 7341757489,\n",
       "   'lat': 40.4130448,\n",
       "   'lon': -3.6607621,\n",
       "   'tags': {'amenity': 'parking_entrance'}},\n",
       "  {'type': 'node',\n",
       "   'id': 7341757507,\n",
       "   'lat': 40.4113963,\n",
       "   'lon': -3.6599431,\n",
       "   'tags': {'amenity': 'parking_entrance'}},\n",
       "  {'type': 'node',\n",
       "   'id': 7341757560,\n",
       "   'lat': 40.4114107,\n",
       "   'lon': -3.6596775,\n",
       "   'tags': {'amenity': 'parking_entrance'}},\n",
       "  {'type': 'node',\n",
       "   'id': 7385064251,\n",
       "   'lat': 40.4016778,\n",
       "   'lon': -3.6783104,\n",
       "   'tags': {'access': 'yes',\n",
       "    'amenity': 'parking_entrance',\n",
       "    'name': 'Daoíz y Velarde',\n",
       "    'parking': 'underground'}},\n",
       "  {'type': 'node',\n",
       "   'id': 7392469538,\n",
       "   'lat': 40.4344669,\n",
       "   'lon': -3.6702583,\n",
       "   'tags': {'access': 'yes',\n",
       "    'amenity': 'parking_entrance',\n",
       "    'fee': 'yes',\n",
       "    'name': 'Guindalera Plaza San Cayetano',\n",
       "    'opening_hours': '24/7',\n",
       "    'operator': 'PARKIA',\n",
       "    'parking': 'underground',\n",
       "    'supervised': 'yes'}},\n",
       "  {'type': 'node',\n",
       "   'id': 7393169037,\n",
       "   'lat': 40.4173494,\n",
       "   'lon': -3.675337,\n",
       "   'tags': {'amenity': 'parking_entrance'}},\n",
       "  {'type': 'node',\n",
       "   'id': 7822283338,\n",
       "   'lat': 40.4089082,\n",
       "   'lon': -3.6468875,\n",
       "   'tags': {'amenity': 'parking_entrance'}},\n",
       "  {'type': 'node',\n",
       "   'id': 7822283350,\n",
       "   'lat': 40.4092851,\n",
       "   'lon': -3.6468441,\n",
       "   'tags': {'amenity': 'parking_entrance'}},\n",
       "  {'type': 'node',\n",
       "   'id': 7825475125,\n",
       "   'lat': 40.4088305,\n",
       "   'lon': -3.6446799,\n",
       "   'tags': {'amenity': 'parking_entrance'}},\n",
       "  {'type': 'node',\n",
       "   'id': 7825475126,\n",
       "   'lat': 40.4090951,\n",
       "   'lon': -3.6439899,\n",
       "   'tags': {'amenity': 'parking_entrance'}},\n",
       "  {'type': 'node',\n",
       "   'id': 7826250067,\n",
       "   'lat': 40.410625,\n",
       "   'lon': -3.6489289,\n",
       "   'tags': {'amenity': 'parking_entrance'}},\n",
       "  {'type': 'node',\n",
       "   'id': 7826250076,\n",
       "   'lat': 40.4121572,\n",
       "   'lon': -3.6460586,\n",
       "   'tags': {'amenity': 'parking_entrance'}},\n",
       "  {'type': 'node',\n",
       "   'id': 7826250077,\n",
       "   'lat': 40.4120234,\n",
       "   'lon': -3.645339,\n",
       "   'tags': {'amenity': 'parking_entrance'}},\n",
       "  {'type': 'node',\n",
       "   'id': 7879758049,\n",
       "   'lat': 40.4210566,\n",
       "   'lon': -3.7057711,\n",
       "   'tags': {'amenity': 'parking_entrance',\n",
       "    'fee': 'yes',\n",
       "    'name': 'Callao Smart Parking',\n",
       "    'parking': 'underground'}},\n",
       "  {'type': 'node',\n",
       "   'id': 7880782054,\n",
       "   'lat': 40.4172529,\n",
       "   'lon': -3.6646679,\n",
       "   'tags': {'amenity': 'parking_entrance',\n",
       "    'fee': 'yes',\n",
       "    'parking': 'underground',\n",
       "    'source': 'survey'}},\n",
       "  {'type': 'node',\n",
       "   'id': 7880782063,\n",
       "   'lat': 40.4185526,\n",
       "   'lon': -3.6644683,\n",
       "   'tags': {'access': 'private',\n",
       "    'amenity': 'parking_entrance',\n",
       "    'parking': 'underground'}},\n",
       "  {'type': 'node',\n",
       "   'id': 7892603718,\n",
       "   'lat': 40.4377203,\n",
       "   'lon': -3.695109,\n",
       "   'tags': {'amenity': 'parking_entrance',\n",
       "    'name': 'Parking Climiparking',\n",
       "    'parking': 'underground',\n",
       "    'phone': '+34 91 445 00 24'}},\n",
       "  {'type': 'node',\n",
       "   'id': 7892603720,\n",
       "   'lat': 40.4376754,\n",
       "   'lon': -3.6957823,\n",
       "   'tags': {'amenity': 'parking_entrance',\n",
       "    'name': 'Parking Climiparking',\n",
       "    'parking': 'underground',\n",
       "    'phone': '+34 91 445 00 24'}},\n",
       "  {'type': 'node',\n",
       "   'id': 7968363503,\n",
       "   'lat': 40.4240244,\n",
       "   'lon': -3.7123374,\n",
       "   'tags': {'amenity': 'parking_entrance'}},\n",
       "  {'type': 'node',\n",
       "   'id': 8003566343,\n",
       "   'lat': 40.4039673,\n",
       "   'lon': -3.6916902,\n",
       "   'tags': {'access': 'private',\n",
       "    'amenity': 'parking_entrance',\n",
       "    'parking': 'underground'}},\n",
       "  {'type': 'node',\n",
       "   'id': 8007694236,\n",
       "   'lat': 40.4258999,\n",
       "   'lon': -3.7098159,\n",
       "   'tags': {'access': 'private',\n",
       "    'amenity': 'parking_entrance',\n",
       "    'parking': 'surface'}},\n",
       "  {'type': 'node',\n",
       "   'id': 8007694245,\n",
       "   'lat': 40.4262601,\n",
       "   'lon': -3.7094389,\n",
       "   'tags': {'access': 'private',\n",
       "    'amenity': 'parking_entrance',\n",
       "    'parking': 'underground'}},\n",
       "  {'type': 'node',\n",
       "   'id': 8043128720,\n",
       "   'lat': 40.413905,\n",
       "   'lon': -3.6747083,\n",
       "   'tags': {'access': 'private',\n",
       "    'amenity': 'parking_entrance',\n",
       "    'parking': 'underground'}},\n",
       "  {'type': 'node',\n",
       "   'id': 8076030874,\n",
       "   'lat': 40.416067,\n",
       "   'lon': -3.7115184,\n",
       "   'tags': {'access': 'private',\n",
       "    'amenity': 'parking_entrance',\n",
       "    'parking': 'underground'}},\n",
       "  {'type': 'node',\n",
       "   'id': 8094941799,\n",
       "   'lat': 40.4116293,\n",
       "   'lon': -3.6938478,\n",
       "   'tags': {'amenity': 'parking_entrance',\n",
       "    'name': 'Alameda',\n",
       "    'parking': 'underground'}}]}"
      ]
     },
     "metadata": {},
     "execution_count": 13
    }
   ],
   "source": [
    "data"
   ]
  },
  {
   "cell_type": "code",
   "execution_count": 14,
   "metadata": {},
   "outputs": [
    {
     "output_type": "execute_result",
     "data": {
      "text/plain": [
       "                 tipo        lat       lon     name         address\n",
       "0    parking_entrance  40.469806 -3.641920  NO NAME  NO STREET 9999\n",
       "1    parking_entrance  40.469150 -3.641935  NO NAME  NO STREET 9999\n",
       "2    parking_entrance  40.477584 -3.707132  NO NAME  NO STREET 9999\n",
       "3    parking_entrance  40.478589 -3.702829  NO NAME  NO STREET 9999\n",
       "4    parking_entrance  40.479067 -3.713584  NO NAME  NO STREET 9999\n",
       "..                ...        ...       ...      ...             ...\n",
       "354  parking_entrance  40.425900 -3.709816  NO NAME  NO STREET 9999\n",
       "355  parking_entrance  40.426260 -3.709439  NO NAME  NO STREET 9999\n",
       "356  parking_entrance  40.413905 -3.674708  NO NAME  NO STREET 9999\n",
       "357  parking_entrance  40.416067 -3.711518  NO NAME  NO STREET 9999\n",
       "358  parking_entrance  40.411629 -3.693848  Alameda  NO STREET 9999\n",
       "\n",
       "[359 rows x 5 columns]"
      ],
      "text/html": "<div>\n<style scoped>\n    .dataframe tbody tr th:only-of-type {\n        vertical-align: middle;\n    }\n\n    .dataframe tbody tr th {\n        vertical-align: top;\n    }\n\n    .dataframe thead th {\n        text-align: right;\n    }\n</style>\n<table border=\"1\" class=\"dataframe\">\n  <thead>\n    <tr style=\"text-align: right;\">\n      <th></th>\n      <th>tipo</th>\n      <th>lat</th>\n      <th>lon</th>\n      <th>name</th>\n      <th>address</th>\n    </tr>\n  </thead>\n  <tbody>\n    <tr>\n      <th>0</th>\n      <td>parking_entrance</td>\n      <td>40.469806</td>\n      <td>-3.641920</td>\n      <td>NO NAME</td>\n      <td>NO STREET 9999</td>\n    </tr>\n    <tr>\n      <th>1</th>\n      <td>parking_entrance</td>\n      <td>40.469150</td>\n      <td>-3.641935</td>\n      <td>NO NAME</td>\n      <td>NO STREET 9999</td>\n    </tr>\n    <tr>\n      <th>2</th>\n      <td>parking_entrance</td>\n      <td>40.477584</td>\n      <td>-3.707132</td>\n      <td>NO NAME</td>\n      <td>NO STREET 9999</td>\n    </tr>\n    <tr>\n      <th>3</th>\n      <td>parking_entrance</td>\n      <td>40.478589</td>\n      <td>-3.702829</td>\n      <td>NO NAME</td>\n      <td>NO STREET 9999</td>\n    </tr>\n    <tr>\n      <th>4</th>\n      <td>parking_entrance</td>\n      <td>40.479067</td>\n      <td>-3.713584</td>\n      <td>NO NAME</td>\n      <td>NO STREET 9999</td>\n    </tr>\n    <tr>\n      <th>...</th>\n      <td>...</td>\n      <td>...</td>\n      <td>...</td>\n      <td>...</td>\n      <td>...</td>\n    </tr>\n    <tr>\n      <th>354</th>\n      <td>parking_entrance</td>\n      <td>40.425900</td>\n      <td>-3.709816</td>\n      <td>NO NAME</td>\n      <td>NO STREET 9999</td>\n    </tr>\n    <tr>\n      <th>355</th>\n      <td>parking_entrance</td>\n      <td>40.426260</td>\n      <td>-3.709439</td>\n      <td>NO NAME</td>\n      <td>NO STREET 9999</td>\n    </tr>\n    <tr>\n      <th>356</th>\n      <td>parking_entrance</td>\n      <td>40.413905</td>\n      <td>-3.674708</td>\n      <td>NO NAME</td>\n      <td>NO STREET 9999</td>\n    </tr>\n    <tr>\n      <th>357</th>\n      <td>parking_entrance</td>\n      <td>40.416067</td>\n      <td>-3.711518</td>\n      <td>NO NAME</td>\n      <td>NO STREET 9999</td>\n    </tr>\n    <tr>\n      <th>358</th>\n      <td>parking_entrance</td>\n      <td>40.411629</td>\n      <td>-3.693848</td>\n      <td>Alameda</td>\n      <td>NO STREET 9999</td>\n    </tr>\n  </tbody>\n</table>\n<p>359 rows × 5 columns</p>\n</div>"
     },
     "metadata": {},
     "execution_count": 14
    }
   ],
   "source": [
    "df = json_to_df(data)\n",
    "df"
   ]
  },
  {
   "cell_type": "code",
   "execution_count": 18,
   "metadata": {},
   "outputs": [],
   "source": [
    "def pinta_mapa(df):\n",
    "    fig = px.scatter_mapbox(df,\n",
    "                            lat=\"lat\",\n",
    "                            lon=\"lon\",\n",
    "                            color = \"tipo\",\n",
    "                      color_continuous_scale=px.colors.cyclical.IceFire, size_max=15, zoom=11)\n",
    "    fig.update_layout(\n",
    "        mapbox=dict(\n",
    "            accesstoken=mapbox_access_token\n",
    "        )\n",
    "    )\n",
    "\n",
    "    fig.show()"
   ]
  },
  {
   "cell_type": "code",
   "execution_count": 19,
   "metadata": {},
   "outputs": [
    {
     "output_type": "display_data",
     "data": {
      "application/vnd.plotly.v1+json": {
       "config": {
        "plotlyServerURL": "https://plot.ly"
       },
       "data": [
        {
         "hovertemplate": "tipo=parking_entrance<br>lat=%{lat}<br>lon=%{lon}<extra></extra>",
         "lat": [
          40.4698065,
          40.4691497,
          40.477584,
          40.4785895,
          40.4790665,
          40.4799249,
          40.4078366,
          40.4248713,
          40.478828,
          40.4638393,
          40.4447268,
          40.4763645,
          40.4188871,
          40.3997523,
          40.4409986,
          40.4402244,
          40.418527,
          40.4181408,
          40.4183703,
          40.4180236,
          40.4180636,
          40.414503,
          40.4148803,
          40.4292438,
          40.4202066,
          40.417763,
          40.4225647,
          40.4134536,
          40.4215544,
          40.4304416,
          40.398938,
          40.399056,
          40.4340081,
          40.4341359,
          40.4342366,
          40.4661397,
          40.476992,
          40.4227801,
          40.423513,
          40.4336346,
          40.4080381,
          40.4456349,
          40.4456753,
          40.445706,
          40.4457637,
          40.4525628,
          40.4150642,
          40.4148297,
          40.4667926,
          40.4666376,
          40.4666478,
          40.4798898,
          40.4759679,
          40.4765062,
          40.4763165,
          40.4047252,
          40.3979477,
          40.4070738,
          40.4070806,
          40.4073691,
          40.4074839,
          40.4068853,
          40.4070457,
          40.4072239,
          40.4761429,
          40.4107098,
          40.4100079,
          40.449669,
          40.4622273,
          40.461938,
          40.4387319,
          40.4569411,
          40.3990335,
          40.3995468,
          40.3985711,
          40.4569285,
          40.4126249,
          40.4697982,
          40.4330804,
          40.4504155,
          40.4757045,
          40.4107575,
          40.4109328,
          40.3994519,
          40.4071474,
          40.4799568,
          40.423474,
          40.4238956,
          40.4356115,
          40.4194461,
          40.4077144,
          40.4485599,
          40.4485687,
          40.469782,
          40.4066569,
          40.4542401,
          40.4353,
          40.4011718,
          40.4050943,
          40.434212,
          40.4357463,
          40.4357673,
          40.4366139,
          40.4366406,
          40.4375465,
          40.4406679,
          40.4213629,
          40.4798521,
          40.4152466,
          40.4571295,
          40.4379909,
          40.4575594,
          40.4383967,
          40.4397506,
          40.4426085,
          40.4214824,
          40.4237072,
          40.4381216,
          40.4411665,
          40.4730313,
          40.4397147,
          40.418355,
          40.4761518,
          40.4763289,
          40.4555575,
          40.4370757,
          40.4372173,
          40.4520778,
          40.4386071,
          40.4392644,
          40.4525052,
          40.4525382,
          40.446087,
          40.4499658,
          40.4414766,
          40.4501071,
          40.4070629,
          40.4076201,
          40.4081596,
          40.4631707,
          40.4631064,
          40.4691344,
          40.4691205,
          40.4697793,
          40.4697921,
          40.4628485,
          40.4630914,
          40.4728336,
          40.4729153,
          40.4686858,
          40.468734,
          40.4688692,
          40.4575015,
          40.4671064,
          40.476592,
          40.4760064,
          40.4110885,
          40.4011746,
          40.4005714,
          40.4026074,
          40.4019735,
          40.4632798,
          40.4650399,
          40.4649142,
          40.464858,
          40.4220914,
          40.4633363,
          40.4688773,
          40.4677323,
          40.4705686,
          40.4707645,
          40.4403996,
          40.4127077,
          40.4303339,
          40.4303686,
          40.4294442,
          40.4294871,
          40.4305082,
          40.4304873,
          40.4619675,
          40.4715179,
          40.4716311,
          40.4717827,
          40.4718409,
          40.4549534,
          40.4134333,
          40.4272743,
          40.4790187,
          40.4629892,
          40.4628499,
          40.4627367,
          40.4666573,
          40.4651422,
          40.4755864,
          40.4754961,
          40.4764596,
          40.4770427,
          40.4759705,
          40.476853,
          40.4719699,
          40.4744076,
          40.4760037,
          40.4750985,
          40.4739269,
          40.474163,
          40.4749002,
          40.4774683,
          40.4773484,
          40.4765107,
          40.4775737,
          40.4778451,
          40.4780674,
          40.4782827,
          40.4016672,
          40.4019774,
          40.4020464,
          40.4016495,
          40.4771744,
          40.4776149,
          40.4775463,
          40.4769308,
          40.474392,
          40.4074818,
          40.4075033,
          40.4602433,
          40.4593501,
          40.458846,
          40.4587763,
          40.4588063,
          40.4499851,
          40.4624808,
          40.4622617,
          40.46225,
          40.4655307,
          40.4662229,
          40.466636,
          40.4620546,
          40.4623062,
          40.4104316,
          40.3996386,
          40.4002218,
          40.4008085,
          40.4021013,
          40.4023158,
          40.4024608,
          40.4006696,
          40.3975396,
          40.4031992,
          40.4717003,
          40.4001538,
          40.4297841,
          40.429498,
          40.4711586,
          40.4683845,
          40.4765779,
          40.4426189,
          40.4344763,
          40.4346596,
          40.4346412,
          40.4400327,
          40.4394769,
          40.439352,
          40.4423639,
          40.4125197,
          40.4125178,
          40.4647808,
          40.4073181,
          40.4525316,
          40.4519685,
          40.4128524,
          40.4128066,
          40.4083694,
          40.4088346,
          40.4085401,
          40.4067306,
          40.4615259,
          40.4759906,
          40.4471346,
          40.4725857,
          40.4713974,
          40.4613227,
          40.4113301,
          40.4114481,
          40.4531514,
          40.4554111,
          40.4554201,
          40.4559661,
          40.416352,
          40.4301825,
          40.4774211,
          40.4216936,
          40.4209798,
          40.4217937,
          40.4222348,
          40.4221952,
          40.4222032,
          40.4222759,
          40.4222553,
          40.4218461,
          40.4217832,
          40.4216676,
          40.4213219,
          40.4210402,
          40.4480321,
          40.4527189,
          40.4729913,
          40.470687,
          40.4714699,
          40.4634756,
          40.4475278,
          40.4283983,
          40.4292732,
          40.4293557,
          40.4357345,
          40.4012405,
          40.4013572,
          40.4498113,
          40.4318428,
          40.4317969,
          40.3996813,
          40.3992419,
          40.3984262,
          40.4003232,
          40.400245,
          40.3990348,
          40.4304972,
          40.3994121,
          40.4249707,
          40.3996055,
          40.4264985,
          40.4258757,
          40.4105008,
          40.4426848,
          40.4120228,
          40.4130448,
          40.4113963,
          40.4114107,
          40.4016778,
          40.4344669,
          40.4173494,
          40.4089082,
          40.4092851,
          40.4088305,
          40.4090951,
          40.410625,
          40.4121572,
          40.4120234,
          40.4210566,
          40.4172529,
          40.4185526,
          40.4377203,
          40.4376754,
          40.4240244,
          40.4039673,
          40.4258999,
          40.4262601,
          40.413905,
          40.416067,
          40.4116293
         ],
         "legendgroup": "parking_entrance",
         "lon": [
          -3.6419199,
          -3.641935,
          -3.7071317,
          -3.7028295,
          -3.7135836,
          -3.7087786,
          -3.7045309,
          -3.7097324,
          -3.7076494,
          -3.69667,
          -3.6773505,
          -3.6430112,
          -3.6908243,
          -3.6994236,
          -3.6440197,
          -3.6552443,
          -3.7114839,
          -3.7063436,
          -3.7071751,
          -3.7067479,
          -3.711535,
          -3.7006926,
          -3.7008566,
          -3.7022183,
          -3.6959439,
          -3.7001066,
          -3.7120887,
          -3.7209554,
          -3.7055574,
          -3.7309484,
          -3.7039567,
          -3.7036327,
          -3.6706713,
          -3.6699488,
          -3.6707883,
          -3.7207266,
          -3.6592589,
          -3.7117243,
          -3.7129785,
          -3.7112835,
          -3.7462856,
          -3.6976218,
          -3.6983719,
          -3.6990538,
          -3.7000261,
          -3.6916524,
          -3.6729316,
          -3.672347,
          -3.6700748,
          -3.6710646,
          -3.6709278,
          -3.7219567,
          -3.7140547,
          -3.7128304,
          -3.7137767,
          -3.7091249,
          -3.676689,
          -3.6726611,
          -3.6728331,
          -3.6756115,
          -3.676422,
          -3.6732637,
          -3.6746903,
          -3.6744029,
          -3.6356973,
          -3.6668671,
          -3.6679529,
          -3.7177923,
          -3.6307846,
          -3.630968,
          -3.6511884,
          -3.7104547,
          -3.7001838,
          -3.7000018,
          -3.7226813,
          -3.7032317,
          -3.6911322,
          -3.70221,
          -3.7206202,
          -3.6506298,
          -3.7151121,
          -3.6748484,
          -3.6747586,
          -3.707962,
          -3.6758729,
          -3.6699917,
          -3.7114012,
          -3.7118443,
          -3.6373556,
          -3.6295006,
          -3.7041817,
          -3.6755956,
          -3.6760382,
          -3.6349526,
          -3.703638,
          -3.7037462,
          -3.6575286,
          -3.6979503,
          -3.7104748,
          -3.6582584,
          -3.671059,
          -3.6709849,
          -3.6373943,
          -3.6374126,
          -3.6386666,
          -3.7007275,
          -3.6918089,
          -3.7220352,
          -3.7277621,
          -3.7121227,
          -3.6761215,
          -3.6981013,
          -3.6626073,
          -3.6637491,
          -3.6636366,
          -3.6721971,
          -3.6741865,
          -3.6769252,
          -3.66551,
          -3.7034129,
          -3.6565528,
          -3.6973576,
          -3.6462588,
          -3.6460814,
          -3.7003761,
          -3.6806574,
          -3.6816741,
          -3.6794559,
          -3.7191083,
          -3.7180877,
          -3.6955121,
          -3.695958,
          -3.6682224,
          -3.6657171,
          -3.7137779,
          -3.6495493,
          -3.6749318,
          -3.6756244,
          -3.6766158,
          -3.6356428,
          -3.635642,
          -3.6408991,
          -3.6399575,
          -3.639947,
          -3.6408723,
          -3.6379426,
          -3.6379558,
          -3.705754,
          -3.704854,
          -3.719414,
          -3.7196509,
          -3.7196067,
          -3.7053535,
          -3.7148021,
          -3.6715974,
          -3.7166911,
          -3.6732116,
          -3.7122636,
          -3.7193255,
          -3.6776384,
          -3.6787753,
          -3.6403332,
          -3.6403196,
          -3.6387291,
          -3.6404109,
          -3.7148018,
          -3.6433793,
          -3.716503,
          -3.7200046,
          -3.7184932,
          -3.7192616,
          -3.7106347,
          -3.6898481,
          -3.6884326,
          -3.6884326,
          -3.6886402,
          -3.6886322,
          -3.68789,
          -3.6874491,
          -3.6449038,
          -3.7111248,
          -3.7098929,
          -3.7082312,
          -3.7075951,
          -3.6805577,
          -3.6743759,
          -3.6840818,
          -3.631317,
          -3.7032444,
          -3.7029854,
          -3.702758,
          -3.7210745,
          -3.7060546,
          -3.6335618,
          -3.6354464,
          -3.6334668,
          -3.6344215,
          -3.6352288,
          -3.6339897,
          -3.629797,
          -3.6315537,
          -3.7067863,
          -3.6324716,
          -3.6329262,
          -3.6324964,
          -3.6344397,
          -3.644869,
          -3.6437365,
          -3.6528578,
          -3.6489306,
          -3.6479382,
          -3.6481997,
          -3.6480528,
          -3.6797897,
          -3.6795379,
          -3.6795985,
          -3.6798911,
          -3.6517936,
          -3.6476781,
          -3.6505181,
          -3.6457971,
          -3.7161169,
          -3.648467,
          -3.648417,
          -3.6440831,
          -3.6432088,
          -3.6435937,
          -3.6993554,
          -3.699454,
          -3.6660711,
          -3.69277,
          -3.6909575,
          -3.6907921,
          -3.637372,
          -3.6380465,
          -3.6381763,
          -3.6412824,
          -3.6413874,
          -3.6309506,
          -3.661093,
          -3.6608782,
          -3.6608875,
          -3.6604369,
          -3.6605327,
          -3.6605167,
          -3.6589055,
          -3.6984217,
          -3.6917194,
          -3.7091404,
          -3.7075366,
          -3.7191938,
          -3.7198074,
          -3.694423,
          -3.6930998,
          -3.7008341,
          -3.7100575,
          -3.6754029,
          -3.6757737,
          -3.6753814,
          -3.650439,
          -3.6516003,
          -3.651924,
          -3.6522034,
          -3.6895668,
          -3.6896373,
          -3.712065,
          -3.7100246,
          -3.7148439,
          -3.7167694,
          -3.6900634,
          -3.6910357,
          -3.6767497,
          -3.6764228,
          -3.6764193,
          -3.671794,
          -3.6861126,
          -3.7073876,
          -3.7139717,
          -3.6834605,
          -3.6969468,
          -3.7096195,
          -3.7378949,
          -3.7379908,
          -3.6845917,
          -3.693459,
          -3.6936691,
          -3.6935085,
          -3.6904148,
          -3.6348166,
          -3.7103581,
          -3.7161939,
          -3.7157648,
          -3.7185072,
          -3.7179624,
          -3.71803,
          -3.7150031,
          -3.7154847,
          -3.715451,
          -3.7143759,
          -3.7142659,
          -3.7140636,
          -3.7143817,
          -3.7148154,
          -3.6959689,
          -3.7132142,
          -3.718861,
          -3.6856765,
          -3.6836728,
          -3.6262224,
          -3.6960425,
          -3.6875653,
          -3.6877558,
          -3.7148516,
          -3.7049947,
          -3.7108902,
          -3.710953,
          -3.6502215,
          -3.6807161,
          -3.6806935,
          -3.7084125,
          -3.7063837,
          -3.7083671,
          -3.7071726,
          -3.7067699,
          -3.7090569,
          -3.679343,
          -3.708604,
          -3.716554,
          -3.7080597,
          -3.6997895,
          -3.7001181,
          -3.7385185,
          -3.6766971,
          -3.6595955,
          -3.6607621,
          -3.6599431,
          -3.6596775,
          -3.6783104,
          -3.6702583,
          -3.675337,
          -3.6468875,
          -3.6468441,
          -3.6446799,
          -3.6439899,
          -3.6489289,
          -3.6460586,
          -3.645339,
          -3.7057711,
          -3.6646679,
          -3.6644683,
          -3.695109,
          -3.6957823,
          -3.7123374,
          -3.6916902,
          -3.7098159,
          -3.7094389,
          -3.6747083,
          -3.7115184,
          -3.6938478
         ],
         "marker": {
          "color": "#636efa"
         },
         "mode": "markers",
         "name": "parking_entrance",
         "showlegend": true,
         "subplot": "mapbox",
         "type": "scattermapbox"
        }
       ],
       "layout": {
        "legend": {
         "title": {
          "text": "tipo"
         },
         "tracegroupgap": 0
        },
        "mapbox": {
         "accesstoken": "pk.eyJ1IjoiZGFvcnRpIiwiYSI6ImNrZnF6M3FlczA3cDEyem16YTNzZmV4M2EifQ.846iF0sMSAXv0kwkwUTYjg",
         "center": {
          "lat": 40.438847299721466,
          "lon": -3.683144186908078
         },
         "domain": {
          "x": [
           0,
           1
          ],
          "y": [
           0,
           1
          ]
         },
         "zoom": 11
        },
        "margin": {
         "t": 60
        },
        "template": {
         "data": {
          "bar": [
           {
            "error_x": {
             "color": "#2a3f5f"
            },
            "error_y": {
             "color": "#2a3f5f"
            },
            "marker": {
             "line": {
              "color": "#E5ECF6",
              "width": 0.5
             }
            },
            "type": "bar"
           }
          ],
          "barpolar": [
           {
            "marker": {
             "line": {
              "color": "#E5ECF6",
              "width": 0.5
             }
            },
            "type": "barpolar"
           }
          ],
          "carpet": [
           {
            "aaxis": {
             "endlinecolor": "#2a3f5f",
             "gridcolor": "white",
             "linecolor": "white",
             "minorgridcolor": "white",
             "startlinecolor": "#2a3f5f"
            },
            "baxis": {
             "endlinecolor": "#2a3f5f",
             "gridcolor": "white",
             "linecolor": "white",
             "minorgridcolor": "white",
             "startlinecolor": "#2a3f5f"
            },
            "type": "carpet"
           }
          ],
          "choropleth": [
           {
            "colorbar": {
             "outlinewidth": 0,
             "ticks": ""
            },
            "type": "choropleth"
           }
          ],
          "contour": [
           {
            "colorbar": {
             "outlinewidth": 0,
             "ticks": ""
            },
            "colorscale": [
             [
              0,
              "#0d0887"
             ],
             [
              0.1111111111111111,
              "#46039f"
             ],
             [
              0.2222222222222222,
              "#7201a8"
             ],
             [
              0.3333333333333333,
              "#9c179e"
             ],
             [
              0.4444444444444444,
              "#bd3786"
             ],
             [
              0.5555555555555556,
              "#d8576b"
             ],
             [
              0.6666666666666666,
              "#ed7953"
             ],
             [
              0.7777777777777778,
              "#fb9f3a"
             ],
             [
              0.8888888888888888,
              "#fdca26"
             ],
             [
              1,
              "#f0f921"
             ]
            ],
            "type": "contour"
           }
          ],
          "contourcarpet": [
           {
            "colorbar": {
             "outlinewidth": 0,
             "ticks": ""
            },
            "type": "contourcarpet"
           }
          ],
          "heatmap": [
           {
            "colorbar": {
             "outlinewidth": 0,
             "ticks": ""
            },
            "colorscale": [
             [
              0,
              "#0d0887"
             ],
             [
              0.1111111111111111,
              "#46039f"
             ],
             [
              0.2222222222222222,
              "#7201a8"
             ],
             [
              0.3333333333333333,
              "#9c179e"
             ],
             [
              0.4444444444444444,
              "#bd3786"
             ],
             [
              0.5555555555555556,
              "#d8576b"
             ],
             [
              0.6666666666666666,
              "#ed7953"
             ],
             [
              0.7777777777777778,
              "#fb9f3a"
             ],
             [
              0.8888888888888888,
              "#fdca26"
             ],
             [
              1,
              "#f0f921"
             ]
            ],
            "type": "heatmap"
           }
          ],
          "heatmapgl": [
           {
            "colorbar": {
             "outlinewidth": 0,
             "ticks": ""
            },
            "colorscale": [
             [
              0,
              "#0d0887"
             ],
             [
              0.1111111111111111,
              "#46039f"
             ],
             [
              0.2222222222222222,
              "#7201a8"
             ],
             [
              0.3333333333333333,
              "#9c179e"
             ],
             [
              0.4444444444444444,
              "#bd3786"
             ],
             [
              0.5555555555555556,
              "#d8576b"
             ],
             [
              0.6666666666666666,
              "#ed7953"
             ],
             [
              0.7777777777777778,
              "#fb9f3a"
             ],
             [
              0.8888888888888888,
              "#fdca26"
             ],
             [
              1,
              "#f0f921"
             ]
            ],
            "type": "heatmapgl"
           }
          ],
          "histogram": [
           {
            "marker": {
             "colorbar": {
              "outlinewidth": 0,
              "ticks": ""
             }
            },
            "type": "histogram"
           }
          ],
          "histogram2d": [
           {
            "colorbar": {
             "outlinewidth": 0,
             "ticks": ""
            },
            "colorscale": [
             [
              0,
              "#0d0887"
             ],
             [
              0.1111111111111111,
              "#46039f"
             ],
             [
              0.2222222222222222,
              "#7201a8"
             ],
             [
              0.3333333333333333,
              "#9c179e"
             ],
             [
              0.4444444444444444,
              "#bd3786"
             ],
             [
              0.5555555555555556,
              "#d8576b"
             ],
             [
              0.6666666666666666,
              "#ed7953"
             ],
             [
              0.7777777777777778,
              "#fb9f3a"
             ],
             [
              0.8888888888888888,
              "#fdca26"
             ],
             [
              1,
              "#f0f921"
             ]
            ],
            "type": "histogram2d"
           }
          ],
          "histogram2dcontour": [
           {
            "colorbar": {
             "outlinewidth": 0,
             "ticks": ""
            },
            "colorscale": [
             [
              0,
              "#0d0887"
             ],
             [
              0.1111111111111111,
              "#46039f"
             ],
             [
              0.2222222222222222,
              "#7201a8"
             ],
             [
              0.3333333333333333,
              "#9c179e"
             ],
             [
              0.4444444444444444,
              "#bd3786"
             ],
             [
              0.5555555555555556,
              "#d8576b"
             ],
             [
              0.6666666666666666,
              "#ed7953"
             ],
             [
              0.7777777777777778,
              "#fb9f3a"
             ],
             [
              0.8888888888888888,
              "#fdca26"
             ],
             [
              1,
              "#f0f921"
             ]
            ],
            "type": "histogram2dcontour"
           }
          ],
          "mesh3d": [
           {
            "colorbar": {
             "outlinewidth": 0,
             "ticks": ""
            },
            "type": "mesh3d"
           }
          ],
          "parcoords": [
           {
            "line": {
             "colorbar": {
              "outlinewidth": 0,
              "ticks": ""
             }
            },
            "type": "parcoords"
           }
          ],
          "pie": [
           {
            "automargin": true,
            "type": "pie"
           }
          ],
          "scatter": [
           {
            "marker": {
             "colorbar": {
              "outlinewidth": 0,
              "ticks": ""
             }
            },
            "type": "scatter"
           }
          ],
          "scatter3d": [
           {
            "line": {
             "colorbar": {
              "outlinewidth": 0,
              "ticks": ""
             }
            },
            "marker": {
             "colorbar": {
              "outlinewidth": 0,
              "ticks": ""
             }
            },
            "type": "scatter3d"
           }
          ],
          "scattercarpet": [
           {
            "marker": {
             "colorbar": {
              "outlinewidth": 0,
              "ticks": ""
             }
            },
            "type": "scattercarpet"
           }
          ],
          "scattergeo": [
           {
            "marker": {
             "colorbar": {
              "outlinewidth": 0,
              "ticks": ""
             }
            },
            "type": "scattergeo"
           }
          ],
          "scattergl": [
           {
            "marker": {
             "colorbar": {
              "outlinewidth": 0,
              "ticks": ""
             }
            },
            "type": "scattergl"
           }
          ],
          "scattermapbox": [
           {
            "marker": {
             "colorbar": {
              "outlinewidth": 0,
              "ticks": ""
             }
            },
            "type": "scattermapbox"
           }
          ],
          "scatterpolar": [
           {
            "marker": {
             "colorbar": {
              "outlinewidth": 0,
              "ticks": ""
             }
            },
            "type": "scatterpolar"
           }
          ],
          "scatterpolargl": [
           {
            "marker": {
             "colorbar": {
              "outlinewidth": 0,
              "ticks": ""
             }
            },
            "type": "scatterpolargl"
           }
          ],
          "scatterternary": [
           {
            "marker": {
             "colorbar": {
              "outlinewidth": 0,
              "ticks": ""
             }
            },
            "type": "scatterternary"
           }
          ],
          "surface": [
           {
            "colorbar": {
             "outlinewidth": 0,
             "ticks": ""
            },
            "colorscale": [
             [
              0,
              "#0d0887"
             ],
             [
              0.1111111111111111,
              "#46039f"
             ],
             [
              0.2222222222222222,
              "#7201a8"
             ],
             [
              0.3333333333333333,
              "#9c179e"
             ],
             [
              0.4444444444444444,
              "#bd3786"
             ],
             [
              0.5555555555555556,
              "#d8576b"
             ],
             [
              0.6666666666666666,
              "#ed7953"
             ],
             [
              0.7777777777777778,
              "#fb9f3a"
             ],
             [
              0.8888888888888888,
              "#fdca26"
             ],
             [
              1,
              "#f0f921"
             ]
            ],
            "type": "surface"
           }
          ],
          "table": [
           {
            "cells": {
             "fill": {
              "color": "#EBF0F8"
             },
             "line": {
              "color": "white"
             }
            },
            "header": {
             "fill": {
              "color": "#C8D4E3"
             },
             "line": {
              "color": "white"
             }
            },
            "type": "table"
           }
          ]
         },
         "layout": {
          "annotationdefaults": {
           "arrowcolor": "#2a3f5f",
           "arrowhead": 0,
           "arrowwidth": 1
          },
          "coloraxis": {
           "colorbar": {
            "outlinewidth": 0,
            "ticks": ""
           }
          },
          "colorscale": {
           "diverging": [
            [
             0,
             "#8e0152"
            ],
            [
             0.1,
             "#c51b7d"
            ],
            [
             0.2,
             "#de77ae"
            ],
            [
             0.3,
             "#f1b6da"
            ],
            [
             0.4,
             "#fde0ef"
            ],
            [
             0.5,
             "#f7f7f7"
            ],
            [
             0.6,
             "#e6f5d0"
            ],
            [
             0.7,
             "#b8e186"
            ],
            [
             0.8,
             "#7fbc41"
            ],
            [
             0.9,
             "#4d9221"
            ],
            [
             1,
             "#276419"
            ]
           ],
           "sequential": [
            [
             0,
             "#0d0887"
            ],
            [
             0.1111111111111111,
             "#46039f"
            ],
            [
             0.2222222222222222,
             "#7201a8"
            ],
            [
             0.3333333333333333,
             "#9c179e"
            ],
            [
             0.4444444444444444,
             "#bd3786"
            ],
            [
             0.5555555555555556,
             "#d8576b"
            ],
            [
             0.6666666666666666,
             "#ed7953"
            ],
            [
             0.7777777777777778,
             "#fb9f3a"
            ],
            [
             0.8888888888888888,
             "#fdca26"
            ],
            [
             1,
             "#f0f921"
            ]
           ],
           "sequentialminus": [
            [
             0,
             "#0d0887"
            ],
            [
             0.1111111111111111,
             "#46039f"
            ],
            [
             0.2222222222222222,
             "#7201a8"
            ],
            [
             0.3333333333333333,
             "#9c179e"
            ],
            [
             0.4444444444444444,
             "#bd3786"
            ],
            [
             0.5555555555555556,
             "#d8576b"
            ],
            [
             0.6666666666666666,
             "#ed7953"
            ],
            [
             0.7777777777777778,
             "#fb9f3a"
            ],
            [
             0.8888888888888888,
             "#fdca26"
            ],
            [
             1,
             "#f0f921"
            ]
           ]
          },
          "colorway": [
           "#636efa",
           "#EF553B",
           "#00cc96",
           "#ab63fa",
           "#FFA15A",
           "#19d3f3",
           "#FF6692",
           "#B6E880",
           "#FF97FF",
           "#FECB52"
          ],
          "font": {
           "color": "#2a3f5f"
          },
          "geo": {
           "bgcolor": "white",
           "lakecolor": "white",
           "landcolor": "#E5ECF6",
           "showlakes": true,
           "showland": true,
           "subunitcolor": "white"
          },
          "hoverlabel": {
           "align": "left"
          },
          "hovermode": "closest",
          "mapbox": {
           "style": "light"
          },
          "paper_bgcolor": "white",
          "plot_bgcolor": "#E5ECF6",
          "polar": {
           "angularaxis": {
            "gridcolor": "white",
            "linecolor": "white",
            "ticks": ""
           },
           "bgcolor": "#E5ECF6",
           "radialaxis": {
            "gridcolor": "white",
            "linecolor": "white",
            "ticks": ""
           }
          },
          "scene": {
           "xaxis": {
            "backgroundcolor": "#E5ECF6",
            "gridcolor": "white",
            "gridwidth": 2,
            "linecolor": "white",
            "showbackground": true,
            "ticks": "",
            "zerolinecolor": "white"
           },
           "yaxis": {
            "backgroundcolor": "#E5ECF6",
            "gridcolor": "white",
            "gridwidth": 2,
            "linecolor": "white",
            "showbackground": true,
            "ticks": "",
            "zerolinecolor": "white"
           },
           "zaxis": {
            "backgroundcolor": "#E5ECF6",
            "gridcolor": "white",
            "gridwidth": 2,
            "linecolor": "white",
            "showbackground": true,
            "ticks": "",
            "zerolinecolor": "white"
           }
          },
          "shapedefaults": {
           "line": {
            "color": "#2a3f5f"
           }
          },
          "ternary": {
           "aaxis": {
            "gridcolor": "white",
            "linecolor": "white",
            "ticks": ""
           },
           "baxis": {
            "gridcolor": "white",
            "linecolor": "white",
            "ticks": ""
           },
           "bgcolor": "#E5ECF6",
           "caxis": {
            "gridcolor": "white",
            "linecolor": "white",
            "ticks": ""
           }
          },
          "title": {
           "x": 0.05
          },
          "xaxis": {
           "automargin": true,
           "gridcolor": "white",
           "linecolor": "white",
           "ticks": "",
           "title": {
            "standoff": 15
           },
           "zerolinecolor": "white",
           "zerolinewidth": 2
          },
          "yaxis": {
           "automargin": true,
           "gridcolor": "white",
           "linecolor": "white",
           "ticks": "",
           "title": {
            "standoff": 15
           },
           "zerolinecolor": "white",
           "zerolinewidth": 2
          }
         }
        }
       }
      }
     },
     "metadata": {}
    }
   ],
   "source": [
    "pinta_mapa(df)"
   ]
  },
  {
   "cell_type": "markdown",
   "metadata": {},
   "source": [
    "## Mudanza\n",
    "Imagina que te quieres mudar al Berrueco, pero antes te gustaría obtener algún indicador de si hay civilización por esa zona. Mira a ver si existe gasolineras y/o colegios por la zona. Define, al igual que en el caso anterior, un rectángulo mediante dos coordenadas. Busca la manera de realizar una única petición a la API.\n",
    "\n",
    "Representa después en un mapa, por color los colegios y gasolineras"
   ]
  },
  {
   "cell_type": "code",
   "execution_count": 21,
   "metadata": {},
   "outputs": [
    {
     "output_type": "stream",
     "name": "stdout",
     "text": [
      "<Response [200]>\n"
     ]
    },
    {
     "output_type": "execute_result",
     "data": {
      "text/plain": [
       "   tipo        lat       lon    name  \\\n",
       "0  fuel  40.905376 -3.607588  Repsol   \n",
       "1  fuel  40.906677 -3.610172   Shell   \n",
       "2  fuel  40.856872 -3.612894  Repsol   \n",
       "3  fuel  40.875833 -3.602389   Shell   \n",
       "\n",
       "                                             address  \n",
       "0                                     NO STREET 9999  \n",
       "1                           CTRA. N-I KM 64.650 9999  \n",
       "2                         AVDA. GENERALISIMO,12 9999  \n",
       "3  AVENIDA AVDA. DE LA CABRERA S/N JUNTO AL HOSTA...  "
      ],
      "text/html": "<div>\n<style scoped>\n    .dataframe tbody tr th:only-of-type {\n        vertical-align: middle;\n    }\n\n    .dataframe tbody tr th {\n        vertical-align: top;\n    }\n\n    .dataframe thead th {\n        text-align: right;\n    }\n</style>\n<table border=\"1\" class=\"dataframe\">\n  <thead>\n    <tr style=\"text-align: right;\">\n      <th></th>\n      <th>tipo</th>\n      <th>lat</th>\n      <th>lon</th>\n      <th>name</th>\n      <th>address</th>\n    </tr>\n  </thead>\n  <tbody>\n    <tr>\n      <th>0</th>\n      <td>fuel</td>\n      <td>40.905376</td>\n      <td>-3.607588</td>\n      <td>Repsol</td>\n      <td>NO STREET 9999</td>\n    </tr>\n    <tr>\n      <th>1</th>\n      <td>fuel</td>\n      <td>40.906677</td>\n      <td>-3.610172</td>\n      <td>Shell</td>\n      <td>CTRA. N-I KM 64.650 9999</td>\n    </tr>\n    <tr>\n      <th>2</th>\n      <td>fuel</td>\n      <td>40.856872</td>\n      <td>-3.612894</td>\n      <td>Repsol</td>\n      <td>AVDA. GENERALISIMO,12 9999</td>\n    </tr>\n    <tr>\n      <th>3</th>\n      <td>fuel</td>\n      <td>40.875833</td>\n      <td>-3.602389</td>\n      <td>Shell</td>\n      <td>AVENIDA AVDA. DE LA CABRERA S/N JUNTO AL HOSTA...</td>\n    </tr>\n  </tbody>\n</table>\n</div>"
     },
     "metadata": {},
     "execution_count": 21
    }
   ],
   "source": [
    "\n",
    "overpass_url = \"http://overpass-api.de/api/interpreter\"\n",
    "overpass_query = \"\"\"\n",
    "[out:json];\n",
    "node[\"amenity\"=\"fuel\"]\n",
    "  (40.851838, -3.627774,40.941457, -3.481755); \n",
    "out;\n",
    "\"\"\"\n",
    "response = requests.get(overpass_url, \n",
    "                        params={'data': overpass_query})\n",
    "print(response)\n",
    "data = response.json()\n",
    "df_fuel = json_to_df(data)\n",
    "df_fuel"
   ]
  },
  {
   "cell_type": "code",
   "execution_count": 22,
   "metadata": {},
   "outputs": [
    {
     "output_type": "stream",
     "name": "stdout",
     "text": [
      "<Response [200]>\n"
     ]
    },
    {
     "output_type": "execute_result",
     "data": {
      "text/plain": [
       "     tipo        lat       lon                                    name  \\\n",
       "0  school  40.867720 -3.614696          Escuela infantil de La Cabrera   \n",
       "1  school  40.855890 -3.483306                                 Patones   \n",
       "2  school  40.872876 -3.606421                              La Cabrera   \n",
       "3  school  40.864566 -3.614058  Eq. Aten.Temprana La Cabrera-Lozoyuela   \n",
       "4  school  40.872395 -3.608802                    C.A.P. De La Cabrera   \n",
       "5  school  40.863864 -3.615523               Equipo General La Cabrera   \n",
       "6  school  40.872395 -3.608802                    C.A.P. De La Cabrera   \n",
       "\n",
       "          address  \n",
       "0  NO STREET 9999  \n",
       "1  NO STREET 9999  \n",
       "2  NO STREET 9999  \n",
       "3  NO STREET 9999  \n",
       "4  NO STREET 9999  \n",
       "5  NO STREET 9999  \n",
       "6  NO STREET 9999  "
      ],
      "text/html": "<div>\n<style scoped>\n    .dataframe tbody tr th:only-of-type {\n        vertical-align: middle;\n    }\n\n    .dataframe tbody tr th {\n        vertical-align: top;\n    }\n\n    .dataframe thead th {\n        text-align: right;\n    }\n</style>\n<table border=\"1\" class=\"dataframe\">\n  <thead>\n    <tr style=\"text-align: right;\">\n      <th></th>\n      <th>tipo</th>\n      <th>lat</th>\n      <th>lon</th>\n      <th>name</th>\n      <th>address</th>\n    </tr>\n  </thead>\n  <tbody>\n    <tr>\n      <th>0</th>\n      <td>school</td>\n      <td>40.867720</td>\n      <td>-3.614696</td>\n      <td>Escuela infantil de La Cabrera</td>\n      <td>NO STREET 9999</td>\n    </tr>\n    <tr>\n      <th>1</th>\n      <td>school</td>\n      <td>40.855890</td>\n      <td>-3.483306</td>\n      <td>Patones</td>\n      <td>NO STREET 9999</td>\n    </tr>\n    <tr>\n      <th>2</th>\n      <td>school</td>\n      <td>40.872876</td>\n      <td>-3.606421</td>\n      <td>La Cabrera</td>\n      <td>NO STREET 9999</td>\n    </tr>\n    <tr>\n      <th>3</th>\n      <td>school</td>\n      <td>40.864566</td>\n      <td>-3.614058</td>\n      <td>Eq. Aten.Temprana La Cabrera-Lozoyuela</td>\n      <td>NO STREET 9999</td>\n    </tr>\n    <tr>\n      <th>4</th>\n      <td>school</td>\n      <td>40.872395</td>\n      <td>-3.608802</td>\n      <td>C.A.P. De La Cabrera</td>\n      <td>NO STREET 9999</td>\n    </tr>\n    <tr>\n      <th>5</th>\n      <td>school</td>\n      <td>40.863864</td>\n      <td>-3.615523</td>\n      <td>Equipo General La Cabrera</td>\n      <td>NO STREET 9999</td>\n    </tr>\n    <tr>\n      <th>6</th>\n      <td>school</td>\n      <td>40.872395</td>\n      <td>-3.608802</td>\n      <td>C.A.P. De La Cabrera</td>\n      <td>NO STREET 9999</td>\n    </tr>\n  </tbody>\n</table>\n</div>"
     },
     "metadata": {},
     "execution_count": 22
    }
   ],
   "source": [
    "overpass_query = \"\"\"\n",
    "[out:json];\n",
    "node[\"amenity\"=\"school\"]\n",
    "  (40.851838, -3.627774,40.941457, -3.481755); \n",
    "out;\n",
    "\"\"\"\n",
    "response = requests.get(overpass_url, \n",
    "                        params={'data': overpass_query})\n",
    "print(response)\n",
    "data = response.json()\n",
    "df_school = json_to_df(data)\n",
    "df_school"
   ]
  },
  {
   "cell_type": "code",
   "execution_count": 30,
   "metadata": {},
   "outputs": [],
   "source": [
    "df = pd.concat([df_fuel, df_school])"
   ]
  },
  {
   "cell_type": "code",
   "execution_count": null,
   "metadata": {},
   "outputs": [],
   "source": [
    "\n",
    "def json_to_df(data):\n",
    "    elements = data['elements']\n",
    "    places = {'tipo': [], 'lat': [], 'lon': [], 'name': [], 'address': []}\n",
    "    \n",
    "    for i in elements:\n",
    "        \n",
    "        tipo = i.get('tags', None).get('amenity', None)\n",
    "        latitude = i.get('lat', None)\n",
    "        longitude = i.get('lon', None)\n",
    "        name = i.get('tags', {}).get('name', \"NO NAME\")\n",
    "        street = i.get('tags', {}).get('addr:street', \"NO STREET\")\n",
    "        number = i.get('tags', {}).get('addr:housenumber', 9999)\n",
    "\n",
    "        places['tipo'].append(tipo)\n",
    "        places['lat'].append(latitude)\n",
    "        places['lon'].append(longitude)\n",
    "        places['name'].append(name)\n",
    "        places['address'].append(street + ' ' + str(number))\n",
    "\n",
    "            \n",
    "    return pd.DataFrame(places)"
   ]
  },
  {
   "cell_type": "code",
   "execution_count": 27,
   "metadata": {},
   "outputs": [],
   "source": [
    "def pinta_mapa(df):\n",
    "    fig = px.scatter_mapbox(df,\n",
    "                            lat=\"lat\",\n",
    "                            lon=\"lon\",\n",
    "                            color = \"tipo\",\n",
    "                      color_continuous_scale=px.colors.cyclical.IceFire, size_max=15, zoom=11)\n",
    "                      \n",
    "    fig.update_layout(\n",
    "        mapbox=dict(\n",
    "            accesstoken=mapbox_access_token\n",
    "        )\n",
    "    )\n",
    "\n",
    "    fig.show()"
   ]
  },
  {
   "cell_type": "code",
   "execution_count": 31,
   "metadata": {},
   "outputs": [
    {
     "output_type": "display_data",
     "data": {
      "application/vnd.plotly.v1+json": {
       "config": {
        "plotlyServerURL": "https://plot.ly"
       },
       "data": [
        {
         "hovertemplate": "tipo=fuel<br>lat=%{lat}<br>lon=%{lon}<extra></extra>",
         "lat": [
          40.9053756,
          40.906677,
          40.856872,
          40.8758331
         ],
         "legendgroup": "fuel",
         "lon": [
          -3.6075875,
          -3.610172,
          -3.6128941,
          -3.602389
         ],
         "marker": {
          "color": "#636efa"
         },
         "mode": "markers",
         "name": "fuel",
         "showlegend": true,
         "subplot": "mapbox",
         "type": "scattermapbox"
        },
        {
         "hovertemplate": "tipo=school<br>lat=%{lat}<br>lon=%{lon}<extra></extra>",
         "lat": [
          40.86772,
          40.8558899,
          40.8728757,
          40.864566,
          40.8723948,
          40.8638645,
          40.8723948
         ],
         "legendgroup": "school",
         "lon": [
          -3.6146961,
          -3.483306,
          -3.6064211,
          -3.6140581,
          -3.608802,
          -3.615523,
          -3.6088021
         ],
         "marker": {
          "color": "#EF553B"
         },
         "mode": "markers",
         "name": "school",
         "showlegend": true,
         "subplot": "mapbox",
         "type": "scattermapbox"
        }
       ],
       "layout": {
        "legend": {
         "title": {
          "text": "tipo"
         },
         "tracegroupgap": 0
        },
        "mapbox": {
         "accesstoken": "pk.eyJ1IjoiZGFvcnRpIiwiYSI6ImNrZnF6M3FlczA3cDEyem16YTNzZmV4M2EifQ.846iF0sMSAXv0kwkwUTYjg",
         "center": {
          "lat": 40.87404212727272,
          "lon": -3.5986046363636364
         },
         "domain": {
          "x": [
           0,
           1
          ],
          "y": [
           0,
           1
          ]
         },
         "zoom": 11
        },
        "margin": {
         "t": 60
        },
        "template": {
         "data": {
          "bar": [
           {
            "error_x": {
             "color": "#2a3f5f"
            },
            "error_y": {
             "color": "#2a3f5f"
            },
            "marker": {
             "line": {
              "color": "#E5ECF6",
              "width": 0.5
             }
            },
            "type": "bar"
           }
          ],
          "barpolar": [
           {
            "marker": {
             "line": {
              "color": "#E5ECF6",
              "width": 0.5
             }
            },
            "type": "barpolar"
           }
          ],
          "carpet": [
           {
            "aaxis": {
             "endlinecolor": "#2a3f5f",
             "gridcolor": "white",
             "linecolor": "white",
             "minorgridcolor": "white",
             "startlinecolor": "#2a3f5f"
            },
            "baxis": {
             "endlinecolor": "#2a3f5f",
             "gridcolor": "white",
             "linecolor": "white",
             "minorgridcolor": "white",
             "startlinecolor": "#2a3f5f"
            },
            "type": "carpet"
           }
          ],
          "choropleth": [
           {
            "colorbar": {
             "outlinewidth": 0,
             "ticks": ""
            },
            "type": "choropleth"
           }
          ],
          "contour": [
           {
            "colorbar": {
             "outlinewidth": 0,
             "ticks": ""
            },
            "colorscale": [
             [
              0,
              "#0d0887"
             ],
             [
              0.1111111111111111,
              "#46039f"
             ],
             [
              0.2222222222222222,
              "#7201a8"
             ],
             [
              0.3333333333333333,
              "#9c179e"
             ],
             [
              0.4444444444444444,
              "#bd3786"
             ],
             [
              0.5555555555555556,
              "#d8576b"
             ],
             [
              0.6666666666666666,
              "#ed7953"
             ],
             [
              0.7777777777777778,
              "#fb9f3a"
             ],
             [
              0.8888888888888888,
              "#fdca26"
             ],
             [
              1,
              "#f0f921"
             ]
            ],
            "type": "contour"
           }
          ],
          "contourcarpet": [
           {
            "colorbar": {
             "outlinewidth": 0,
             "ticks": ""
            },
            "type": "contourcarpet"
           }
          ],
          "heatmap": [
           {
            "colorbar": {
             "outlinewidth": 0,
             "ticks": ""
            },
            "colorscale": [
             [
              0,
              "#0d0887"
             ],
             [
              0.1111111111111111,
              "#46039f"
             ],
             [
              0.2222222222222222,
              "#7201a8"
             ],
             [
              0.3333333333333333,
              "#9c179e"
             ],
             [
              0.4444444444444444,
              "#bd3786"
             ],
             [
              0.5555555555555556,
              "#d8576b"
             ],
             [
              0.6666666666666666,
              "#ed7953"
             ],
             [
              0.7777777777777778,
              "#fb9f3a"
             ],
             [
              0.8888888888888888,
              "#fdca26"
             ],
             [
              1,
              "#f0f921"
             ]
            ],
            "type": "heatmap"
           }
          ],
          "heatmapgl": [
           {
            "colorbar": {
             "outlinewidth": 0,
             "ticks": ""
            },
            "colorscale": [
             [
              0,
              "#0d0887"
             ],
             [
              0.1111111111111111,
              "#46039f"
             ],
             [
              0.2222222222222222,
              "#7201a8"
             ],
             [
              0.3333333333333333,
              "#9c179e"
             ],
             [
              0.4444444444444444,
              "#bd3786"
             ],
             [
              0.5555555555555556,
              "#d8576b"
             ],
             [
              0.6666666666666666,
              "#ed7953"
             ],
             [
              0.7777777777777778,
              "#fb9f3a"
             ],
             [
              0.8888888888888888,
              "#fdca26"
             ],
             [
              1,
              "#f0f921"
             ]
            ],
            "type": "heatmapgl"
           }
          ],
          "histogram": [
           {
            "marker": {
             "colorbar": {
              "outlinewidth": 0,
              "ticks": ""
             }
            },
            "type": "histogram"
           }
          ],
          "histogram2d": [
           {
            "colorbar": {
             "outlinewidth": 0,
             "ticks": ""
            },
            "colorscale": [
             [
              0,
              "#0d0887"
             ],
             [
              0.1111111111111111,
              "#46039f"
             ],
             [
              0.2222222222222222,
              "#7201a8"
             ],
             [
              0.3333333333333333,
              "#9c179e"
             ],
             [
              0.4444444444444444,
              "#bd3786"
             ],
             [
              0.5555555555555556,
              "#d8576b"
             ],
             [
              0.6666666666666666,
              "#ed7953"
             ],
             [
              0.7777777777777778,
              "#fb9f3a"
             ],
             [
              0.8888888888888888,
              "#fdca26"
             ],
             [
              1,
              "#f0f921"
             ]
            ],
            "type": "histogram2d"
           }
          ],
          "histogram2dcontour": [
           {
            "colorbar": {
             "outlinewidth": 0,
             "ticks": ""
            },
            "colorscale": [
             [
              0,
              "#0d0887"
             ],
             [
              0.1111111111111111,
              "#46039f"
             ],
             [
              0.2222222222222222,
              "#7201a8"
             ],
             [
              0.3333333333333333,
              "#9c179e"
             ],
             [
              0.4444444444444444,
              "#bd3786"
             ],
             [
              0.5555555555555556,
              "#d8576b"
             ],
             [
              0.6666666666666666,
              "#ed7953"
             ],
             [
              0.7777777777777778,
              "#fb9f3a"
             ],
             [
              0.8888888888888888,
              "#fdca26"
             ],
             [
              1,
              "#f0f921"
             ]
            ],
            "type": "histogram2dcontour"
           }
          ],
          "mesh3d": [
           {
            "colorbar": {
             "outlinewidth": 0,
             "ticks": ""
            },
            "type": "mesh3d"
           }
          ],
          "parcoords": [
           {
            "line": {
             "colorbar": {
              "outlinewidth": 0,
              "ticks": ""
             }
            },
            "type": "parcoords"
           }
          ],
          "pie": [
           {
            "automargin": true,
            "type": "pie"
           }
          ],
          "scatter": [
           {
            "marker": {
             "colorbar": {
              "outlinewidth": 0,
              "ticks": ""
             }
            },
            "type": "scatter"
           }
          ],
          "scatter3d": [
           {
            "line": {
             "colorbar": {
              "outlinewidth": 0,
              "ticks": ""
             }
            },
            "marker": {
             "colorbar": {
              "outlinewidth": 0,
              "ticks": ""
             }
            },
            "type": "scatter3d"
           }
          ],
          "scattercarpet": [
           {
            "marker": {
             "colorbar": {
              "outlinewidth": 0,
              "ticks": ""
             }
            },
            "type": "scattercarpet"
           }
          ],
          "scattergeo": [
           {
            "marker": {
             "colorbar": {
              "outlinewidth": 0,
              "ticks": ""
             }
            },
            "type": "scattergeo"
           }
          ],
          "scattergl": [
           {
            "marker": {
             "colorbar": {
              "outlinewidth": 0,
              "ticks": ""
             }
            },
            "type": "scattergl"
           }
          ],
          "scattermapbox": [
           {
            "marker": {
             "colorbar": {
              "outlinewidth": 0,
              "ticks": ""
             }
            },
            "type": "scattermapbox"
           }
          ],
          "scatterpolar": [
           {
            "marker": {
             "colorbar": {
              "outlinewidth": 0,
              "ticks": ""
             }
            },
            "type": "scatterpolar"
           }
          ],
          "scatterpolargl": [
           {
            "marker": {
             "colorbar": {
              "outlinewidth": 0,
              "ticks": ""
             }
            },
            "type": "scatterpolargl"
           }
          ],
          "scatterternary": [
           {
            "marker": {
             "colorbar": {
              "outlinewidth": 0,
              "ticks": ""
             }
            },
            "type": "scatterternary"
           }
          ],
          "surface": [
           {
            "colorbar": {
             "outlinewidth": 0,
             "ticks": ""
            },
            "colorscale": [
             [
              0,
              "#0d0887"
             ],
             [
              0.1111111111111111,
              "#46039f"
             ],
             [
              0.2222222222222222,
              "#7201a8"
             ],
             [
              0.3333333333333333,
              "#9c179e"
             ],
             [
              0.4444444444444444,
              "#bd3786"
             ],
             [
              0.5555555555555556,
              "#d8576b"
             ],
             [
              0.6666666666666666,
              "#ed7953"
             ],
             [
              0.7777777777777778,
              "#fb9f3a"
             ],
             [
              0.8888888888888888,
              "#fdca26"
             ],
             [
              1,
              "#f0f921"
             ]
            ],
            "type": "surface"
           }
          ],
          "table": [
           {
            "cells": {
             "fill": {
              "color": "#EBF0F8"
             },
             "line": {
              "color": "white"
             }
            },
            "header": {
             "fill": {
              "color": "#C8D4E3"
             },
             "line": {
              "color": "white"
             }
            },
            "type": "table"
           }
          ]
         },
         "layout": {
          "annotationdefaults": {
           "arrowcolor": "#2a3f5f",
           "arrowhead": 0,
           "arrowwidth": 1
          },
          "coloraxis": {
           "colorbar": {
            "outlinewidth": 0,
            "ticks": ""
           }
          },
          "colorscale": {
           "diverging": [
            [
             0,
             "#8e0152"
            ],
            [
             0.1,
             "#c51b7d"
            ],
            [
             0.2,
             "#de77ae"
            ],
            [
             0.3,
             "#f1b6da"
            ],
            [
             0.4,
             "#fde0ef"
            ],
            [
             0.5,
             "#f7f7f7"
            ],
            [
             0.6,
             "#e6f5d0"
            ],
            [
             0.7,
             "#b8e186"
            ],
            [
             0.8,
             "#7fbc41"
            ],
            [
             0.9,
             "#4d9221"
            ],
            [
             1,
             "#276419"
            ]
           ],
           "sequential": [
            [
             0,
             "#0d0887"
            ],
            [
             0.1111111111111111,
             "#46039f"
            ],
            [
             0.2222222222222222,
             "#7201a8"
            ],
            [
             0.3333333333333333,
             "#9c179e"
            ],
            [
             0.4444444444444444,
             "#bd3786"
            ],
            [
             0.5555555555555556,
             "#d8576b"
            ],
            [
             0.6666666666666666,
             "#ed7953"
            ],
            [
             0.7777777777777778,
             "#fb9f3a"
            ],
            [
             0.8888888888888888,
             "#fdca26"
            ],
            [
             1,
             "#f0f921"
            ]
           ],
           "sequentialminus": [
            [
             0,
             "#0d0887"
            ],
            [
             0.1111111111111111,
             "#46039f"
            ],
            [
             0.2222222222222222,
             "#7201a8"
            ],
            [
             0.3333333333333333,
             "#9c179e"
            ],
            [
             0.4444444444444444,
             "#bd3786"
            ],
            [
             0.5555555555555556,
             "#d8576b"
            ],
            [
             0.6666666666666666,
             "#ed7953"
            ],
            [
             0.7777777777777778,
             "#fb9f3a"
            ],
            [
             0.8888888888888888,
             "#fdca26"
            ],
            [
             1,
             "#f0f921"
            ]
           ]
          },
          "colorway": [
           "#636efa",
           "#EF553B",
           "#00cc96",
           "#ab63fa",
           "#FFA15A",
           "#19d3f3",
           "#FF6692",
           "#B6E880",
           "#FF97FF",
           "#FECB52"
          ],
          "font": {
           "color": "#2a3f5f"
          },
          "geo": {
           "bgcolor": "white",
           "lakecolor": "white",
           "landcolor": "#E5ECF6",
           "showlakes": true,
           "showland": true,
           "subunitcolor": "white"
          },
          "hoverlabel": {
           "align": "left"
          },
          "hovermode": "closest",
          "mapbox": {
           "style": "light"
          },
          "paper_bgcolor": "white",
          "plot_bgcolor": "#E5ECF6",
          "polar": {
           "angularaxis": {
            "gridcolor": "white",
            "linecolor": "white",
            "ticks": ""
           },
           "bgcolor": "#E5ECF6",
           "radialaxis": {
            "gridcolor": "white",
            "linecolor": "white",
            "ticks": ""
           }
          },
          "scene": {
           "xaxis": {
            "backgroundcolor": "#E5ECF6",
            "gridcolor": "white",
            "gridwidth": 2,
            "linecolor": "white",
            "showbackground": true,
            "ticks": "",
            "zerolinecolor": "white"
           },
           "yaxis": {
            "backgroundcolor": "#E5ECF6",
            "gridcolor": "white",
            "gridwidth": 2,
            "linecolor": "white",
            "showbackground": true,
            "ticks": "",
            "zerolinecolor": "white"
           },
           "zaxis": {
            "backgroundcolor": "#E5ECF6",
            "gridcolor": "white",
            "gridwidth": 2,
            "linecolor": "white",
            "showbackground": true,
            "ticks": "",
            "zerolinecolor": "white"
           }
          },
          "shapedefaults": {
           "line": {
            "color": "#2a3f5f"
           }
          },
          "ternary": {
           "aaxis": {
            "gridcolor": "white",
            "linecolor": "white",
            "ticks": ""
           },
           "baxis": {
            "gridcolor": "white",
            "linecolor": "white",
            "ticks": ""
           },
           "bgcolor": "#E5ECF6",
           "caxis": {
            "gridcolor": "white",
            "linecolor": "white",
            "ticks": ""
           }
          },
          "title": {
           "x": 0.05
          },
          "xaxis": {
           "automargin": true,
           "gridcolor": "white",
           "linecolor": "white",
           "ticks": "",
           "title": {
            "standoff": 15
           },
           "zerolinecolor": "white",
           "zerolinewidth": 2
          },
          "yaxis": {
           "automargin": true,
           "gridcolor": "white",
           "linecolor": "white",
           "ticks": "",
           "title": {
            "standoff": 15
           },
           "zerolinecolor": "white",
           "zerolinewidth": 2
          }
         }
        }
       }
      }
     },
     "metadata": {}
    }
   ],
   "source": [
    "pinta_mapa(df)"
   ]
  },
  {
   "cell_type": "markdown",
   "metadata": {},
   "source": [
    "## Zonas COVID\n",
    "Imagina que trabajas en el ayuntamiento de tu barrio/pueblo/ciudad, y por motivos del COVID tienes que identificar:\n",
    "1. Todas las zonas abiertas de uso común (zonas de barbacoas, fuentes de agua y parques infantiles (kindergarten)), para cerrarlas.\n",
    "2. Todos los hospitales y clínicas de la zona.\n",
    "\n",
    "Como no sabes muy bien qué puntos serán, utilizas la API de OpenStreetMap. Representa todo en un único mapa"
   ]
  },
  {
   "cell_type": "code",
   "execution_count": 32,
   "metadata": {},
   "outputs": [
    {
     "output_type": "stream",
     "name": "stdout",
     "text": [
      "<Response [200]>\n"
     ]
    },
    {
     "output_type": "execute_result",
     "data": {
      "text/plain": [
       "               tipo        lat       lon               name         address\n",
       "0    drinking_water  40.436855 -3.819278  Fuente de la Poza  NO STREET 9999\n",
       "1    drinking_water  40.440148 -3.765316            NO NAME  NO STREET 9999\n",
       "2    drinking_water  40.454084 -3.808987            NO NAME  NO STREET 9999\n",
       "3    drinking_water  40.447745 -3.789207            NO NAME  NO STREET 9999\n",
       "4    drinking_water  40.449560 -3.787557            NO NAME  NO STREET 9999\n",
       "..              ...        ...       ...                ...             ...\n",
       "107          clinic  40.445032 -3.784437                 RG  NO STREET 9999\n",
       "108          clinic  40.433924 -3.806175             Dorsia  NO STREET 9999\n",
       "109          clinic  40.444972 -3.789847           FisioDía  NO STREET 9999\n",
       "110          clinic  40.438279 -3.794145  Psicología Europa  NO STREET 9999\n",
       "111          clinic  40.451866 -3.784834          Fuensalud  NO STREET 9999\n",
       "\n",
       "[112 rows x 5 columns]"
      ],
      "text/html": "<div>\n<style scoped>\n    .dataframe tbody tr th:only-of-type {\n        vertical-align: middle;\n    }\n\n    .dataframe tbody tr th {\n        vertical-align: top;\n    }\n\n    .dataframe thead th {\n        text-align: right;\n    }\n</style>\n<table border=\"1\" class=\"dataframe\">\n  <thead>\n    <tr style=\"text-align: right;\">\n      <th></th>\n      <th>tipo</th>\n      <th>lat</th>\n      <th>lon</th>\n      <th>name</th>\n      <th>address</th>\n    </tr>\n  </thead>\n  <tbody>\n    <tr>\n      <th>0</th>\n      <td>drinking_water</td>\n      <td>40.436855</td>\n      <td>-3.819278</td>\n      <td>Fuente de la Poza</td>\n      <td>NO STREET 9999</td>\n    </tr>\n    <tr>\n      <th>1</th>\n      <td>drinking_water</td>\n      <td>40.440148</td>\n      <td>-3.765316</td>\n      <td>NO NAME</td>\n      <td>NO STREET 9999</td>\n    </tr>\n    <tr>\n      <th>2</th>\n      <td>drinking_water</td>\n      <td>40.454084</td>\n      <td>-3.808987</td>\n      <td>NO NAME</td>\n      <td>NO STREET 9999</td>\n    </tr>\n    <tr>\n      <th>3</th>\n      <td>drinking_water</td>\n      <td>40.447745</td>\n      <td>-3.789207</td>\n      <td>NO NAME</td>\n      <td>NO STREET 9999</td>\n    </tr>\n    <tr>\n      <th>4</th>\n      <td>drinking_water</td>\n      <td>40.449560</td>\n      <td>-3.787557</td>\n      <td>NO NAME</td>\n      <td>NO STREET 9999</td>\n    </tr>\n    <tr>\n      <th>...</th>\n      <td>...</td>\n      <td>...</td>\n      <td>...</td>\n      <td>...</td>\n      <td>...</td>\n    </tr>\n    <tr>\n      <th>107</th>\n      <td>clinic</td>\n      <td>40.445032</td>\n      <td>-3.784437</td>\n      <td>RG</td>\n      <td>NO STREET 9999</td>\n    </tr>\n    <tr>\n      <th>108</th>\n      <td>clinic</td>\n      <td>40.433924</td>\n      <td>-3.806175</td>\n      <td>Dorsia</td>\n      <td>NO STREET 9999</td>\n    </tr>\n    <tr>\n      <th>109</th>\n      <td>clinic</td>\n      <td>40.444972</td>\n      <td>-3.789847</td>\n      <td>FisioDía</td>\n      <td>NO STREET 9999</td>\n    </tr>\n    <tr>\n      <th>110</th>\n      <td>clinic</td>\n      <td>40.438279</td>\n      <td>-3.794145</td>\n      <td>Psicología Europa</td>\n      <td>NO STREET 9999</td>\n    </tr>\n    <tr>\n      <th>111</th>\n      <td>clinic</td>\n      <td>40.451866</td>\n      <td>-3.784834</td>\n      <td>Fuensalud</td>\n      <td>NO STREET 9999</td>\n    </tr>\n  </tbody>\n</table>\n<p>112 rows × 5 columns</p>\n</div>"
     },
     "metadata": {},
     "execution_count": 32
    }
   ],
   "source": [
    "overpass_query = \"\"\"\n",
    "[out:json];\n",
    "node[\"amenity\"=\"bbq\"]\n",
    "  (40.43292, -3.829166,40.465285, -3.764212); \n",
    "out;\n",
    "node[\"amenity\"=\"drinking_water\"]\n",
    "  (40.43292, -3.829166,40.465285, -3.764212); \n",
    "out;\n",
    "node[\"amenity\"=\"kindergarten\"]\n",
    "  (40.43292, -3.829166,40.465285, -3.764212); \n",
    "out;\n",
    "node[\"amenity\"=\"hospital\"]\n",
    "  (40.43292, -3.829166,40.465285, -3.764212); \n",
    "out;\n",
    "node[\"amenity\"=\"clinic\"]\n",
    "  (40.43292, -3.829166,40.465285, -3.764212); \n",
    "out;\n",
    "\"\"\"\n",
    "response = requests.get(overpass_url, \n",
    "                        params={'data': overpass_query})\n",
    "print(response)\n",
    "data = response.json()\n",
    "df = json_to_df(data)\n",
    "df"
   ]
  },
  {
   "cell_type": "code",
   "execution_count": 43,
   "metadata": {},
   "outputs": [
    {
     "output_type": "execute_result",
     "data": {
      "text/plain": [
       "0"
      ]
     },
     "metadata": {},
     "execution_count": 43
    }
   ],
   "source": [
    "df[df['tipo']=='bbq'].shape[0]"
   ]
  },
  {
   "cell_type": "code",
   "execution_count": 42,
   "metadata": {},
   "outputs": [
    {
     "output_type": "execute_result",
     "data": {
      "text/plain": [
       "0"
      ]
     },
     "metadata": {},
     "execution_count": 42
    }
   ],
   "source": [
    "df[df['tipo']=='hospital'].shape[0]"
   ]
  },
  {
   "cell_type": "code",
   "execution_count": 33,
   "metadata": {},
   "outputs": [
    {
     "output_type": "display_data",
     "data": {
      "application/vnd.plotly.v1+json": {
       "config": {
        "plotlyServerURL": "https://plot.ly"
       },
       "data": [
        {
         "hovertemplate": "tipo=drinking_water<br>lat=%{lat}<br>lon=%{lon}<extra></extra>",
         "lat": [
          40.436855,
          40.4401477,
          40.454084,
          40.4477453,
          40.4495597,
          40.450262,
          40.451191,
          40.4522311,
          40.4527338,
          40.4527671,
          40.4530499,
          40.4533844,
          40.4544427,
          40.4561177,
          40.4567962,
          40.4577754,
          40.4587109,
          40.459001,
          40.4594249,
          40.4606112,
          40.4618897,
          40.4620442,
          40.4492799,
          40.4497577,
          40.449861,
          40.4500939,
          40.4501866,
          40.450413,
          40.4504186,
          40.4507046,
          40.4509135,
          40.4510048,
          40.4513687,
          40.4515356,
          40.4516383,
          40.4519364,
          40.4520844,
          40.4521156,
          40.4534702,
          40.4543398,
          40.4544603,
          40.457309,
          40.4408617,
          40.4529528,
          40.4446304,
          40.4354206,
          40.4489957,
          40.4529723,
          40.4354417,
          40.4366217,
          40.4349093,
          40.4509953,
          40.4504927,
          40.4515778,
          40.434767,
          40.434684,
          40.4390604,
          40.4429124,
          40.4521992,
          40.4529701,
          40.4530041,
          40.4434368,
          40.4401649,
          40.4427019,
          40.4395133,
          40.4477302,
          40.4354916,
          40.4465162,
          40.4488956,
          40.4384182,
          40.4552837,
          40.4405524,
          40.4402659,
          40.441708
         ],
         "legendgroup": "drinking_water",
         "lon": [
          -3.8192777,
          -3.765316,
          -3.8089868,
          -3.7892071,
          -3.7875568,
          -3.7900143,
          -3.782137,
          -3.7923778,
          -3.7828561,
          -3.7794478,
          -3.7902693,
          -3.7883204,
          -3.7903483,
          -3.7819559,
          -3.7831914,
          -3.7802169,
          -3.7853399,
          -3.7966934,
          -3.7794198,
          -3.7865102,
          -3.7803463,
          -3.7812268,
          -3.7693691,
          -3.7740248,
          -3.7656286,
          -3.7724746,
          -3.7739799,
          -3.771261,
          -3.7709395,
          -3.7739981,
          -3.7697779,
          -3.7777305,
          -3.7771221,
          -3.7705752,
          -3.7686139,
          -3.7787755,
          -3.7702592,
          -3.7739966,
          -3.7760326,
          -3.7651854,
          -3.7788297,
          -3.7655521,
          -3.8072827,
          -3.8079484,
          -3.8131941,
          -3.8007491,
          -3.8042881,
          -3.8079735,
          -3.8025858,
          -3.8007385,
          -3.8044125,
          -3.7950022,
          -3.7947449,
          -3.7946218,
          -3.8141441,
          -3.8143451,
          -3.817311,
          -3.8145289,
          -3.8087892,
          -3.7705908,
          -3.7706177,
          -3.8140783,
          -3.8163059,
          -3.8142452,
          -3.8167443,
          -3.8128739,
          -3.801606,
          -3.8056919,
          -3.8029214,
          -3.8053137,
          -3.7665483,
          -3.7835739,
          -3.8024438,
          -3.7959121
         ],
         "marker": {
          "color": "#636efa"
         },
         "mode": "markers",
         "name": "drinking_water",
         "showlegend": true,
         "subplot": "mapbox",
         "type": "scattermapbox"
        },
        {
         "hovertemplate": "tipo=kindergarten<br>lat=%{lat}<br>lon=%{lon}<extra></extra>",
         "lat": [
          40.4583377,
          40.4581755,
          40.438013,
          40.4494617,
          40.4366891,
          40.4368901,
          40.4374922,
          40.4379602,
          40.4600873,
          40.4602341,
          40.4600023,
          40.4598941,
          40.4548461,
          40.4612347,
          40.4606231,
          40.4603371,
          40.4432646
         ],
         "legendgroup": "kindergarten",
         "lon": [
          -3.7763869,
          -3.8041005,
          -3.7971127,
          -3.7820985,
          -3.7937526,
          -3.7968149,
          -3.8116243,
          -3.8081354,
          -3.7801104,
          -3.7818613,
          -3.7806991,
          -3.7820542,
          -3.7957349,
          -3.787613,
          -3.7834897,
          -3.7833486,
          -3.7850005
         ],
         "marker": {
          "color": "#EF553B"
         },
         "mode": "markers",
         "name": "kindergarten",
         "showlegend": true,
         "subplot": "mapbox",
         "type": "scattermapbox"
        },
        {
         "hovertemplate": "tipo=clinic<br>lat=%{lat}<br>lon=%{lon}<extra></extra>",
         "lat": [
          40.4390019,
          40.4387882,
          40.4351166,
          40.4461506,
          40.4473515,
          40.4351343,
          40.4463442,
          40.4391582,
          40.4359778,
          40.4338867,
          40.4337088,
          40.4359377,
          40.435637,
          40.4414572,
          40.434941,
          40.4482077,
          40.4450316,
          40.4339243,
          40.4449717,
          40.4382793,
          40.4518661
         ],
         "legendgroup": "clinic",
         "lon": [
          -3.80238,
          -3.816941,
          -3.8108456,
          -3.8009814,
          -3.801251,
          -3.8042632,
          -3.8008886,
          -3.7906175,
          -3.8141764,
          -3.8069784,
          -3.8077001,
          -3.8128319,
          -3.8099455,
          -3.8031649,
          -3.8034373,
          -3.784649,
          -3.7844374,
          -3.8061754,
          -3.7898467,
          -3.7941449,
          -3.7848343
         ],
         "marker": {
          "color": "#00cc96"
         },
         "mode": "markers",
         "name": "clinic",
         "showlegend": true,
         "subplot": "mapbox",
         "type": "scattermapbox"
        }
       ],
       "layout": {
        "legend": {
         "title": {
          "text": "tipo"
         },
         "tracegroupgap": 0
        },
        "mapbox": {
         "accesstoken": "pk.eyJ1IjoiZGFvcnRpIiwiYSI6ImNrZnF6M3FlczA3cDEyem16YTNzZmV4M2EifQ.846iF0sMSAXv0kwkwUTYjg",
         "center": {
          "lat": 40.44762750000001,
          "lon": -3.7920330125000015
         },
         "domain": {
          "x": [
           0,
           1
          ],
          "y": [
           0,
           1
          ]
         },
         "zoom": 11
        },
        "margin": {
         "t": 60
        },
        "template": {
         "data": {
          "bar": [
           {
            "error_x": {
             "color": "#2a3f5f"
            },
            "error_y": {
             "color": "#2a3f5f"
            },
            "marker": {
             "line": {
              "color": "#E5ECF6",
              "width": 0.5
             }
            },
            "type": "bar"
           }
          ],
          "barpolar": [
           {
            "marker": {
             "line": {
              "color": "#E5ECF6",
              "width": 0.5
             }
            },
            "type": "barpolar"
           }
          ],
          "carpet": [
           {
            "aaxis": {
             "endlinecolor": "#2a3f5f",
             "gridcolor": "white",
             "linecolor": "white",
             "minorgridcolor": "white",
             "startlinecolor": "#2a3f5f"
            },
            "baxis": {
             "endlinecolor": "#2a3f5f",
             "gridcolor": "white",
             "linecolor": "white",
             "minorgridcolor": "white",
             "startlinecolor": "#2a3f5f"
            },
            "type": "carpet"
           }
          ],
          "choropleth": [
           {
            "colorbar": {
             "outlinewidth": 0,
             "ticks": ""
            },
            "type": "choropleth"
           }
          ],
          "contour": [
           {
            "colorbar": {
             "outlinewidth": 0,
             "ticks": ""
            },
            "colorscale": [
             [
              0,
              "#0d0887"
             ],
             [
              0.1111111111111111,
              "#46039f"
             ],
             [
              0.2222222222222222,
              "#7201a8"
             ],
             [
              0.3333333333333333,
              "#9c179e"
             ],
             [
              0.4444444444444444,
              "#bd3786"
             ],
             [
              0.5555555555555556,
              "#d8576b"
             ],
             [
              0.6666666666666666,
              "#ed7953"
             ],
             [
              0.7777777777777778,
              "#fb9f3a"
             ],
             [
              0.8888888888888888,
              "#fdca26"
             ],
             [
              1,
              "#f0f921"
             ]
            ],
            "type": "contour"
           }
          ],
          "contourcarpet": [
           {
            "colorbar": {
             "outlinewidth": 0,
             "ticks": ""
            },
            "type": "contourcarpet"
           }
          ],
          "heatmap": [
           {
            "colorbar": {
             "outlinewidth": 0,
             "ticks": ""
            },
            "colorscale": [
             [
              0,
              "#0d0887"
             ],
             [
              0.1111111111111111,
              "#46039f"
             ],
             [
              0.2222222222222222,
              "#7201a8"
             ],
             [
              0.3333333333333333,
              "#9c179e"
             ],
             [
              0.4444444444444444,
              "#bd3786"
             ],
             [
              0.5555555555555556,
              "#d8576b"
             ],
             [
              0.6666666666666666,
              "#ed7953"
             ],
             [
              0.7777777777777778,
              "#fb9f3a"
             ],
             [
              0.8888888888888888,
              "#fdca26"
             ],
             [
              1,
              "#f0f921"
             ]
            ],
            "type": "heatmap"
           }
          ],
          "heatmapgl": [
           {
            "colorbar": {
             "outlinewidth": 0,
             "ticks": ""
            },
            "colorscale": [
             [
              0,
              "#0d0887"
             ],
             [
              0.1111111111111111,
              "#46039f"
             ],
             [
              0.2222222222222222,
              "#7201a8"
             ],
             [
              0.3333333333333333,
              "#9c179e"
             ],
             [
              0.4444444444444444,
              "#bd3786"
             ],
             [
              0.5555555555555556,
              "#d8576b"
             ],
             [
              0.6666666666666666,
              "#ed7953"
             ],
             [
              0.7777777777777778,
              "#fb9f3a"
             ],
             [
              0.8888888888888888,
              "#fdca26"
             ],
             [
              1,
              "#f0f921"
             ]
            ],
            "type": "heatmapgl"
           }
          ],
          "histogram": [
           {
            "marker": {
             "colorbar": {
              "outlinewidth": 0,
              "ticks": ""
             }
            },
            "type": "histogram"
           }
          ],
          "histogram2d": [
           {
            "colorbar": {
             "outlinewidth": 0,
             "ticks": ""
            },
            "colorscale": [
             [
              0,
              "#0d0887"
             ],
             [
              0.1111111111111111,
              "#46039f"
             ],
             [
              0.2222222222222222,
              "#7201a8"
             ],
             [
              0.3333333333333333,
              "#9c179e"
             ],
             [
              0.4444444444444444,
              "#bd3786"
             ],
             [
              0.5555555555555556,
              "#d8576b"
             ],
             [
              0.6666666666666666,
              "#ed7953"
             ],
             [
              0.7777777777777778,
              "#fb9f3a"
             ],
             [
              0.8888888888888888,
              "#fdca26"
             ],
             [
              1,
              "#f0f921"
             ]
            ],
            "type": "histogram2d"
           }
          ],
          "histogram2dcontour": [
           {
            "colorbar": {
             "outlinewidth": 0,
             "ticks": ""
            },
            "colorscale": [
             [
              0,
              "#0d0887"
             ],
             [
              0.1111111111111111,
              "#46039f"
             ],
             [
              0.2222222222222222,
              "#7201a8"
             ],
             [
              0.3333333333333333,
              "#9c179e"
             ],
             [
              0.4444444444444444,
              "#bd3786"
             ],
             [
              0.5555555555555556,
              "#d8576b"
             ],
             [
              0.6666666666666666,
              "#ed7953"
             ],
             [
              0.7777777777777778,
              "#fb9f3a"
             ],
             [
              0.8888888888888888,
              "#fdca26"
             ],
             [
              1,
              "#f0f921"
             ]
            ],
            "type": "histogram2dcontour"
           }
          ],
          "mesh3d": [
           {
            "colorbar": {
             "outlinewidth": 0,
             "ticks": ""
            },
            "type": "mesh3d"
           }
          ],
          "parcoords": [
           {
            "line": {
             "colorbar": {
              "outlinewidth": 0,
              "ticks": ""
             }
            },
            "type": "parcoords"
           }
          ],
          "pie": [
           {
            "automargin": true,
            "type": "pie"
           }
          ],
          "scatter": [
           {
            "marker": {
             "colorbar": {
              "outlinewidth": 0,
              "ticks": ""
             }
            },
            "type": "scatter"
           }
          ],
          "scatter3d": [
           {
            "line": {
             "colorbar": {
              "outlinewidth": 0,
              "ticks": ""
             }
            },
            "marker": {
             "colorbar": {
              "outlinewidth": 0,
              "ticks": ""
             }
            },
            "type": "scatter3d"
           }
          ],
          "scattercarpet": [
           {
            "marker": {
             "colorbar": {
              "outlinewidth": 0,
              "ticks": ""
             }
            },
            "type": "scattercarpet"
           }
          ],
          "scattergeo": [
           {
            "marker": {
             "colorbar": {
              "outlinewidth": 0,
              "ticks": ""
             }
            },
            "type": "scattergeo"
           }
          ],
          "scattergl": [
           {
            "marker": {
             "colorbar": {
              "outlinewidth": 0,
              "ticks": ""
             }
            },
            "type": "scattergl"
           }
          ],
          "scattermapbox": [
           {
            "marker": {
             "colorbar": {
              "outlinewidth": 0,
              "ticks": ""
             }
            },
            "type": "scattermapbox"
           }
          ],
          "scatterpolar": [
           {
            "marker": {
             "colorbar": {
              "outlinewidth": 0,
              "ticks": ""
             }
            },
            "type": "scatterpolar"
           }
          ],
          "scatterpolargl": [
           {
            "marker": {
             "colorbar": {
              "outlinewidth": 0,
              "ticks": ""
             }
            },
            "type": "scatterpolargl"
           }
          ],
          "scatterternary": [
           {
            "marker": {
             "colorbar": {
              "outlinewidth": 0,
              "ticks": ""
             }
            },
            "type": "scatterternary"
           }
          ],
          "surface": [
           {
            "colorbar": {
             "outlinewidth": 0,
             "ticks": ""
            },
            "colorscale": [
             [
              0,
              "#0d0887"
             ],
             [
              0.1111111111111111,
              "#46039f"
             ],
             [
              0.2222222222222222,
              "#7201a8"
             ],
             [
              0.3333333333333333,
              "#9c179e"
             ],
             [
              0.4444444444444444,
              "#bd3786"
             ],
             [
              0.5555555555555556,
              "#d8576b"
             ],
             [
              0.6666666666666666,
              "#ed7953"
             ],
             [
              0.7777777777777778,
              "#fb9f3a"
             ],
             [
              0.8888888888888888,
              "#fdca26"
             ],
             [
              1,
              "#f0f921"
             ]
            ],
            "type": "surface"
           }
          ],
          "table": [
           {
            "cells": {
             "fill": {
              "color": "#EBF0F8"
             },
             "line": {
              "color": "white"
             }
            },
            "header": {
             "fill": {
              "color": "#C8D4E3"
             },
             "line": {
              "color": "white"
             }
            },
            "type": "table"
           }
          ]
         },
         "layout": {
          "annotationdefaults": {
           "arrowcolor": "#2a3f5f",
           "arrowhead": 0,
           "arrowwidth": 1
          },
          "coloraxis": {
           "colorbar": {
            "outlinewidth": 0,
            "ticks": ""
           }
          },
          "colorscale": {
           "diverging": [
            [
             0,
             "#8e0152"
            ],
            [
             0.1,
             "#c51b7d"
            ],
            [
             0.2,
             "#de77ae"
            ],
            [
             0.3,
             "#f1b6da"
            ],
            [
             0.4,
             "#fde0ef"
            ],
            [
             0.5,
             "#f7f7f7"
            ],
            [
             0.6,
             "#e6f5d0"
            ],
            [
             0.7,
             "#b8e186"
            ],
            [
             0.8,
             "#7fbc41"
            ],
            [
             0.9,
             "#4d9221"
            ],
            [
             1,
             "#276419"
            ]
           ],
           "sequential": [
            [
             0,
             "#0d0887"
            ],
            [
             0.1111111111111111,
             "#46039f"
            ],
            [
             0.2222222222222222,
             "#7201a8"
            ],
            [
             0.3333333333333333,
             "#9c179e"
            ],
            [
             0.4444444444444444,
             "#bd3786"
            ],
            [
             0.5555555555555556,
             "#d8576b"
            ],
            [
             0.6666666666666666,
             "#ed7953"
            ],
            [
             0.7777777777777778,
             "#fb9f3a"
            ],
            [
             0.8888888888888888,
             "#fdca26"
            ],
            [
             1,
             "#f0f921"
            ]
           ],
           "sequentialminus": [
            [
             0,
             "#0d0887"
            ],
            [
             0.1111111111111111,
             "#46039f"
            ],
            [
             0.2222222222222222,
             "#7201a8"
            ],
            [
             0.3333333333333333,
             "#9c179e"
            ],
            [
             0.4444444444444444,
             "#bd3786"
            ],
            [
             0.5555555555555556,
             "#d8576b"
            ],
            [
             0.6666666666666666,
             "#ed7953"
            ],
            [
             0.7777777777777778,
             "#fb9f3a"
            ],
            [
             0.8888888888888888,
             "#fdca26"
            ],
            [
             1,
             "#f0f921"
            ]
           ]
          },
          "colorway": [
           "#636efa",
           "#EF553B",
           "#00cc96",
           "#ab63fa",
           "#FFA15A",
           "#19d3f3",
           "#FF6692",
           "#B6E880",
           "#FF97FF",
           "#FECB52"
          ],
          "font": {
           "color": "#2a3f5f"
          },
          "geo": {
           "bgcolor": "white",
           "lakecolor": "white",
           "landcolor": "#E5ECF6",
           "showlakes": true,
           "showland": true,
           "subunitcolor": "white"
          },
          "hoverlabel": {
           "align": "left"
          },
          "hovermode": "closest",
          "mapbox": {
           "style": "light"
          },
          "paper_bgcolor": "white",
          "plot_bgcolor": "#E5ECF6",
          "polar": {
           "angularaxis": {
            "gridcolor": "white",
            "linecolor": "white",
            "ticks": ""
           },
           "bgcolor": "#E5ECF6",
           "radialaxis": {
            "gridcolor": "white",
            "linecolor": "white",
            "ticks": ""
           }
          },
          "scene": {
           "xaxis": {
            "backgroundcolor": "#E5ECF6",
            "gridcolor": "white",
            "gridwidth": 2,
            "linecolor": "white",
            "showbackground": true,
            "ticks": "",
            "zerolinecolor": "white"
           },
           "yaxis": {
            "backgroundcolor": "#E5ECF6",
            "gridcolor": "white",
            "gridwidth": 2,
            "linecolor": "white",
            "showbackground": true,
            "ticks": "",
            "zerolinecolor": "white"
           },
           "zaxis": {
            "backgroundcolor": "#E5ECF6",
            "gridcolor": "white",
            "gridwidth": 2,
            "linecolor": "white",
            "showbackground": true,
            "ticks": "",
            "zerolinecolor": "white"
           }
          },
          "shapedefaults": {
           "line": {
            "color": "#2a3f5f"
           }
          },
          "ternary": {
           "aaxis": {
            "gridcolor": "white",
            "linecolor": "white",
            "ticks": ""
           },
           "baxis": {
            "gridcolor": "white",
            "linecolor": "white",
            "ticks": ""
           },
           "bgcolor": "#E5ECF6",
           "caxis": {
            "gridcolor": "white",
            "linecolor": "white",
            "ticks": ""
           }
          },
          "title": {
           "x": 0.05
          },
          "xaxis": {
           "automargin": true,
           "gridcolor": "white",
           "linecolor": "white",
           "ticks": "",
           "title": {
            "standoff": 15
           },
           "zerolinecolor": "white",
           "zerolinewidth": 2
          },
          "yaxis": {
           "automargin": true,
           "gridcolor": "white",
           "linecolor": "white",
           "ticks": "",
           "title": {
            "standoff": 15
           },
           "zerolinecolor": "white",
           "zerolinewidth": 2
          }
         }
        }
       }
      }
     },
     "metadata": {}
    }
   ],
   "source": [
    "pinta_mapa(df)"
   ]
  },
  {
   "cell_type": "code",
   "execution_count": null,
   "metadata": {},
   "outputs": [],
   "source": []
  },
  {
   "cell_type": "markdown",
   "metadata": {},
   "source": [
    "## Supermercados\n",
    "Para este ejemplo supondrás que trabajas en una cadena de supermercados en la que se está planteando construir un nuevo local en la provincia de Sevilla. Busca mediante la API de Overpass todos los supermercados de la provincia para poder comprobar en qué nucleos urbanos habría poca competencia.\n",
    "\n",
    "En este caso hay que buscar por área, no por cuadrícula! Investiga en la documentación/Stackoverflow cómo se haría eso."
   ]
  },
  {
   "cell_type": "code",
   "execution_count": 47,
   "metadata": {},
   "outputs": [
    {
     "output_type": "stream",
     "name": "stdout",
     "text": [
      "<Response [200]>\n"
     ]
    },
    {
     "output_type": "execute_result",
     "data": {
      "text/plain": [
       "     tipo        lat       lon         name  \\\n",
       "0    None  37.373002 -6.047204          MAS   \n",
       "1    None  37.390016 -5.973769     Maxi Dia   \n",
       "2    None  36.994532 -5.572320          Dia   \n",
       "3    None  37.406364 -5.976342     El Jamón   \n",
       "4    None  37.406508 -5.973342  Valdajimena   \n",
       "..    ...        ...       ...          ...   \n",
       "452  None        NaN       NaN   Cash Fresh   \n",
       "453  None        NaN       NaN      Covirán   \n",
       "454  None        NaN       NaN    Naturalia   \n",
       "455  None        NaN       NaN         Aldi   \n",
       "456  None        NaN       NaN   Cash Fresh   \n",
       "\n",
       "                                  address  \n",
       "0                          NO STREET 9999  \n",
       "1                          NO STREET 9999  \n",
       "2                          NO STREET 9999  \n",
       "3                          NO STREET 9999  \n",
       "4    Avenida de San Juan de la Salle 9999  \n",
       "..                                    ...  \n",
       "452                        NO STREET 9999  \n",
       "453                        NO STREET 9999  \n",
       "454                      Calle Cultura 34  \n",
       "455                Avenida Doctor Villa 1  \n",
       "456                        NO STREET 9999  \n",
       "\n",
       "[457 rows x 5 columns]"
      ],
      "text/html": "<div>\n<style scoped>\n    .dataframe tbody tr th:only-of-type {\n        vertical-align: middle;\n    }\n\n    .dataframe tbody tr th {\n        vertical-align: top;\n    }\n\n    .dataframe thead th {\n        text-align: right;\n    }\n</style>\n<table border=\"1\" class=\"dataframe\">\n  <thead>\n    <tr style=\"text-align: right;\">\n      <th></th>\n      <th>tipo</th>\n      <th>lat</th>\n      <th>lon</th>\n      <th>name</th>\n      <th>address</th>\n    </tr>\n  </thead>\n  <tbody>\n    <tr>\n      <th>0</th>\n      <td>None</td>\n      <td>37.373002</td>\n      <td>-6.047204</td>\n      <td>MAS</td>\n      <td>NO STREET 9999</td>\n    </tr>\n    <tr>\n      <th>1</th>\n      <td>None</td>\n      <td>37.390016</td>\n      <td>-5.973769</td>\n      <td>Maxi Dia</td>\n      <td>NO STREET 9999</td>\n    </tr>\n    <tr>\n      <th>2</th>\n      <td>None</td>\n      <td>36.994532</td>\n      <td>-5.572320</td>\n      <td>Dia</td>\n      <td>NO STREET 9999</td>\n    </tr>\n    <tr>\n      <th>3</th>\n      <td>None</td>\n      <td>37.406364</td>\n      <td>-5.976342</td>\n      <td>El Jamón</td>\n      <td>NO STREET 9999</td>\n    </tr>\n    <tr>\n      <th>4</th>\n      <td>None</td>\n      <td>37.406508</td>\n      <td>-5.973342</td>\n      <td>Valdajimena</td>\n      <td>Avenida de San Juan de la Salle 9999</td>\n    </tr>\n    <tr>\n      <th>...</th>\n      <td>...</td>\n      <td>...</td>\n      <td>...</td>\n      <td>...</td>\n      <td>...</td>\n    </tr>\n    <tr>\n      <th>452</th>\n      <td>None</td>\n      <td>NaN</td>\n      <td>NaN</td>\n      <td>Cash Fresh</td>\n      <td>NO STREET 9999</td>\n    </tr>\n    <tr>\n      <th>453</th>\n      <td>None</td>\n      <td>NaN</td>\n      <td>NaN</td>\n      <td>Covirán</td>\n      <td>NO STREET 9999</td>\n    </tr>\n    <tr>\n      <th>454</th>\n      <td>None</td>\n      <td>NaN</td>\n      <td>NaN</td>\n      <td>Naturalia</td>\n      <td>Calle Cultura 34</td>\n    </tr>\n    <tr>\n      <th>455</th>\n      <td>None</td>\n      <td>NaN</td>\n      <td>NaN</td>\n      <td>Aldi</td>\n      <td>Avenida Doctor Villa 1</td>\n    </tr>\n    <tr>\n      <th>456</th>\n      <td>None</td>\n      <td>NaN</td>\n      <td>NaN</td>\n      <td>Cash Fresh</td>\n      <td>NO STREET 9999</td>\n    </tr>\n  </tbody>\n</table>\n<p>457 rows × 5 columns</p>\n</div>"
     },
     "metadata": {},
     "execution_count": 47
    }
   ],
   "source": [
    "# nwr ==> node way relation\n",
    "overpass_url = \"http://overpass-api.de/api/interpreter\"\n",
    "overpass_query = \"\"\"\n",
    "[out:json];\n",
    "area[name=\"Sevilla\"];\n",
    "nwr[shop=supermarket](area); \n",
    "out center;\n",
    "\"\"\"\n",
    "response = requests.get(overpass_url, \n",
    "                        params={'data': overpass_query})\n",
    "print(response)\n",
    "data = response.json()\n",
    "df = json_to_df(data)\n",
    "df"
   ]
  },
  {
   "cell_type": "code",
   "execution_count": 49,
   "metadata": {},
   "outputs": [
    {
     "output_type": "execute_result",
     "data": {
      "text/plain": [
       "            tipo        lat       lon         name  \\\n",
       "0    supermarket  37.373002 -6.047204          MAS   \n",
       "1    supermarket  37.390016 -5.973769     Maxi Dia   \n",
       "2    supermarket  36.994532 -5.572320          Dia   \n",
       "3    supermarket  37.406364 -5.976342     El Jamón   \n",
       "4    supermarket  37.406508 -5.973342  Valdajimena   \n",
       "..           ...        ...       ...          ...   \n",
       "329  supermarket  37.403192 -5.969346         Lidl   \n",
       "330  supermarket  37.418660 -5.974322    Carrefour   \n",
       "331  supermarket  37.515555 -6.266009          Día   \n",
       "332  supermarket  37.382868 -6.013327   CASH FRESH   \n",
       "333  supermarket  37.284439 -5.909694      NO NAME   \n",
       "\n",
       "                                  address  \n",
       "0                          NO STREET 9999  \n",
       "1                          NO STREET 9999  \n",
       "2                          NO STREET 9999  \n",
       "3                          NO STREET 9999  \n",
       "4    Avenida de San Juan de la Salle 9999  \n",
       "..                                    ...  \n",
       "329                        NO STREET 9999  \n",
       "330                        NO STREET 9999  \n",
       "331                        NO STREET 9999  \n",
       "332       Calle San Vicente de Paul 54-56  \n",
       "333               Avenida Juan Pablo II 7  \n",
       "\n",
       "[334 rows x 5 columns]"
      ],
      "text/html": "<div>\n<style scoped>\n    .dataframe tbody tr th:only-of-type {\n        vertical-align: middle;\n    }\n\n    .dataframe tbody tr th {\n        vertical-align: top;\n    }\n\n    .dataframe thead th {\n        text-align: right;\n    }\n</style>\n<table border=\"1\" class=\"dataframe\">\n  <thead>\n    <tr style=\"text-align: right;\">\n      <th></th>\n      <th>tipo</th>\n      <th>lat</th>\n      <th>lon</th>\n      <th>name</th>\n      <th>address</th>\n    </tr>\n  </thead>\n  <tbody>\n    <tr>\n      <th>0</th>\n      <td>supermarket</td>\n      <td>37.373002</td>\n      <td>-6.047204</td>\n      <td>MAS</td>\n      <td>NO STREET 9999</td>\n    </tr>\n    <tr>\n      <th>1</th>\n      <td>supermarket</td>\n      <td>37.390016</td>\n      <td>-5.973769</td>\n      <td>Maxi Dia</td>\n      <td>NO STREET 9999</td>\n    </tr>\n    <tr>\n      <th>2</th>\n      <td>supermarket</td>\n      <td>36.994532</td>\n      <td>-5.572320</td>\n      <td>Dia</td>\n      <td>NO STREET 9999</td>\n    </tr>\n    <tr>\n      <th>3</th>\n      <td>supermarket</td>\n      <td>37.406364</td>\n      <td>-5.976342</td>\n      <td>El Jamón</td>\n      <td>NO STREET 9999</td>\n    </tr>\n    <tr>\n      <th>4</th>\n      <td>supermarket</td>\n      <td>37.406508</td>\n      <td>-5.973342</td>\n      <td>Valdajimena</td>\n      <td>Avenida de San Juan de la Salle 9999</td>\n    </tr>\n    <tr>\n      <th>...</th>\n      <td>...</td>\n      <td>...</td>\n      <td>...</td>\n      <td>...</td>\n      <td>...</td>\n    </tr>\n    <tr>\n      <th>329</th>\n      <td>supermarket</td>\n      <td>37.403192</td>\n      <td>-5.969346</td>\n      <td>Lidl</td>\n      <td>NO STREET 9999</td>\n    </tr>\n    <tr>\n      <th>330</th>\n      <td>supermarket</td>\n      <td>37.418660</td>\n      <td>-5.974322</td>\n      <td>Carrefour</td>\n      <td>NO STREET 9999</td>\n    </tr>\n    <tr>\n      <th>331</th>\n      <td>supermarket</td>\n      <td>37.515555</td>\n      <td>-6.266009</td>\n      <td>Día</td>\n      <td>NO STREET 9999</td>\n    </tr>\n    <tr>\n      <th>332</th>\n      <td>supermarket</td>\n      <td>37.382868</td>\n      <td>-6.013327</td>\n      <td>CASH FRESH</td>\n      <td>Calle San Vicente de Paul 54-56</td>\n    </tr>\n    <tr>\n      <th>333</th>\n      <td>supermarket</td>\n      <td>37.284439</td>\n      <td>-5.909694</td>\n      <td>NO NAME</td>\n      <td>Avenida Juan Pablo II 7</td>\n    </tr>\n  </tbody>\n</table>\n<p>334 rows × 5 columns</p>\n</div>"
     },
     "metadata": {},
     "execution_count": 49
    }
   ],
   "source": [
    "df['tipo'] = df['tipo'].fillna(\"supermarket\")\n",
    "df = df.dropna()\n",
    "df"
   ]
  },
  {
   "cell_type": "code",
   "execution_count": 50,
   "metadata": {},
   "outputs": [
    {
     "output_type": "display_data",
     "data": {
      "application/vnd.plotly.v1+json": {
       "config": {
        "plotlyServerURL": "https://plot.ly"
       },
       "data": [
        {
         "hovertemplate": "tipo=supermarket<br>lat=%{lat}<br>lon=%{lon}<extra></extra>",
         "lat": [
          37.3730016,
          37.3900156,
          36.9945325,
          37.4063636,
          37.4065076,
          37.4068889,
          37.381381,
          37.3492941,
          37.3931413,
          37.3916239,
          37.281765,
          37.3945948,
          37.3928078,
          37.3902034,
          37.3968266,
          37.39283,
          37.4000193,
          37.4636269,
          37.3877763,
          37.3782118,
          37.3784637,
          37.4223309,
          37.4210312,
          37.6592193,
          37.4158443,
          37.408912,
          37.4162977,
          37.4322927,
          37.4265448,
          37.3993597,
          37.4032095,
          37.4040568,
          37.3767341,
          37.3758354,
          37.3709299,
          37.3453886,
          37.347762,
          37.3650152,
          37.3666867,
          37.3941226,
          37.3745748,
          37.3821828,
          37.3765331,
          37.3762135,
          37.3828281,
          37.4906658,
          37.2929933,
          37.3880213,
          37.4004138,
          37.4022714,
          37.382216,
          37.3750846,
          37.3838793,
          37.3758889,
          37.41043,
          37.3994984,
          37.4010345,
          37.4117722,
          37.4021436,
          37.3958654,
          37.3732438,
          37.3770745,
          37.3921327,
          37.373167,
          37.395969,
          37.3955684,
          37.3993031,
          37.3661575,
          37.3716058,
          37.3612925,
          37.390219,
          37.4011492,
          37.2697298,
          37.344986,
          37.2756379,
          37.3626648,
          37.4007084,
          37.1744795,
          37.4615531,
          37.1876727,
          37.1851484,
          37.1836702,
          37.1895563,
          37.1797124,
          37.3207532,
          37.285365,
          37.2855656,
          37.3255608,
          37.3353194,
          37.2906251,
          37.3888642,
          37.3878814,
          37.3823229,
          37.2661629,
          37.3327558,
          37.3882714,
          37.295735,
          37.3376348,
          37.3322365,
          37.394668,
          37.387336,
          37.37798,
          37.3501025,
          37.3842002,
          37.3418953,
          37.3828833,
          37.3774228,
          37.3851723,
          37.3838552,
          37.3939616,
          37.3834992,
          37.4066907,
          37.3542265,
          37.3778989,
          37.3439885,
          37.3850834,
          37.3784614,
          37.4245402,
          37.3511902,
          37.3845859,
          37.3829724,
          37.3926659,
          37.487511,
          37.2871942,
          36.9943288,
          37.1615124,
          37.4084798,
          37.3852201,
          37.3387597,
          37.3416599,
          37.3385438,
          37.3876859,
          37.3755246,
          37.3417027,
          37.2838344,
          37.5433022,
          37.3732443,
          37.3585028,
          37.4639055,
          37.3720492,
          37.5451547,
          37.3388604,
          37.2902401,
          37.3984032,
          37.328376,
          37.3684704,
          37.5132086,
          37.5161821,
          37.3827647,
          37.3972073,
          37.3986384,
          37.9314768,
          37.4012555,
          37.388112,
          37.3897145,
          37.284377,
          37.3007621,
          37.5395984,
          37.5304428,
          37.5379071,
          37.3816054,
          37.351903,
          37.2962155,
          37.2949076,
          37.2894918,
          37.3846396,
          37.3845658,
          37.3883375,
          37.3901385,
          37.935879,
          37.4010558,
          37.3390588,
          37.2889914,
          37.3704267,
          37.3709517,
          37.3723487,
          37.3718211,
          37.3764664,
          37.377278,
          37.2315496,
          37.2374432,
          37.2374048,
          37.3588512,
          37.3563452,
          37.3757882,
          37.3947584,
          37.3785976,
          37.3775664,
          37.378052,
          37.4024316,
          37.2517534,
          37.3979165,
          37.3455022,
          37.1288919,
          37.1263749,
          37.1278811,
          37.5442913,
          37.5416931,
          37.3755656,
          37.4109179,
          37.3793471,
          37.3528597,
          37.4836776,
          37.4844523,
          37.30331,
          37.3596854,
          37.3835149,
          37.3741291,
          37.3826562,
          37.4108539,
          37.9428359,
          37.2238977,
          37.385883,
          37.6601041,
          37.3101139,
          37.3798043,
          37.2783941,
          37.4494613,
          37.6609324,
          37.3720803,
          37.3736999,
          37.3825028,
          37.4247797,
          37.3774904,
          37.365128,
          37.3042312,
          37.3897096,
          37.3858133,
          37.426738,
          37.3023998,
          37.2824923,
          37.3761087,
          37.3874865,
          37.3536782,
          37.100331,
          37.3725826,
          37.3718625,
          37.3040479,
          37.3819894,
          37.3890463,
          37.3585589,
          37.3593174,
          4.2685437,
          4.2645309,
          4.2642887,
          4.2635972,
          37.365246,
          37.355629,
          37.3742039,
          37.3773855,
          37.3123385,
          37.4148171,
          37.3813908,
          37.3810371,
          37.3807862,
          37.3932795,
          37.3972674,
          37.3905785,
          36.9283397,
          37.381633,
          37.3223888,
          37.2832311,
          37.3917556,
          37.3858695,
          37.3855691,
          37.337093,
          37.3252963,
          37.3849155,
          37.3945664,
          37.5365141,
          37.2221232,
          37.3798531,
          37.38285,
          37.545211,
          37.7789366,
          37.3662625,
          37.3800582,
          37.4325717,
          37.4717331,
          37.3726496,
          37.4011565,
          37.3605097,
          37.3792072,
          37.381944,
          37.3812806,
          37.3708759,
          37.6598589,
          37.7066017,
          37.5737316,
          37.4381841,
          37.3729319,
          37.4065108,
          37.3717263,
          37.3716578,
          37.5447672,
          37.5447161,
          37.4751307,
          37.4643008,
          36.9796885,
          37.3886902,
          37.3795609,
          37.3542239,
          37.3748125,
          37.3791269,
          37.3766656,
          37.3751536,
          37.3777005,
          37.378475,
          37.3753009,
          37.3751423,
          37.3819024,
          37.3817406,
          37.3875216,
          37.2858944,
          37.5367864,
          37.5284996,
          37.5350109,
          37.407151,
          37.3709124,
          37.3712266,
          37.3809175,
          37.3934557,
          37.1285468,
          37.3447542,
          37.3412032,
          37.3500535,
          37.4033923,
          37.3762284,
          37.2943823,
          37.4031917,
          37.4186604,
          37.5155549,
          37.3828681,
          37.284439
         ],
         "legendgroup": "supermarket",
         "lon": [
          -6.0472036,
          -5.9737693,
          -5.5723199,
          -5.9763418,
          -5.9733419,
          -5.9724546,
          -5.9794179,
          -5.9768997,
          -5.9815793,
          -5.9813217,
          -5.9369929,
          -5.9910877,
          -5.9863711,
          -5.9903244,
          -5.9906521,
          -5.9835362,
          -5.9856329,
          -5.6474422,
          -5.9819761,
          -6.0120047,
          -6.0119015,
          -5.9613759,
          -5.9637284,
          -5.5271327,
          -5.9700072,
          -5.9769987,
          -5.9644557,
          -5.9793319,
          -5.9860088,
          -5.9779561,
          -5.9683925,
          -5.9654044,
          -5.9803391,
          -5.9763155,
          -5.9789718,
          -5.9807998,
          -5.9803647,
          -5.9790562,
          -5.975481,
          -5.9572429,
          -5.9677453,
          -5.9659946,
          -5.969255,
          -5.9689733,
          -5.9654853,
          -5.9461751,
          -5.9230804,
          -5.9150298,
          -5.925213,
          -5.9268237,
          -5.9532198,
          -5.9538345,
          -5.9469451,
          -5.9545486,
          -5.9250194,
          -5.9527488,
          -5.9406317,
          -5.9196117,
          -5.9206454,
          -5.9241546,
          -6.0446424,
          -6.0456304,
          -6.0305198,
          -6.0300594,
          -5.978107,
          -5.978225,
          -5.9710998,
          -5.9683973,
          -5.9566624,
          -5.9601058,
          -5.9894762,
          -5.9918408,
          -5.9362868,
          -5.932839,
          -5.9277721,
          -6.0439156,
          -5.9270066,
          -5.7767863,
          -6.0095892,
          -5.7877631,
          -5.7736967,
          -5.7765071,
          -5.7780879,
          -5.7962499,
          -6.072243,
          -5.9102831,
          -5.9146873,
          -5.9339584,
          -6.0643473,
          -5.9245229,
          -6.0020476,
          -5.9844847,
          -5.9654876,
          -5.9213596,
          -5.9693451,
          -5.9607582,
          -5.9117565,
          -5.827671,
          -5.834486,
          -5.997403,
          -5.9849974,
          -5.997585,
          -6.0518262,
          -6.0613371,
          -6.0673942,
          -5.9536265,
          -5.9472911,
          -5.9482621,
          -5.9514647,
          -5.9956693,
          -5.9184405,
          -5.9730014,
          -5.8580908,
          -6.0669422,
          -5.9754025,
          -5.9812451,
          -5.9412792,
          -5.9849356,
          -6.0250197,
          -6.0059643,
          -6.0060357,
          -5.9819003,
          -5.9352853,
          -5.9433609,
          -5.5764933,
          -5.9252046,
          -5.910971,
          -5.9772574,
          -5.8401204,
          -5.8334524,
          -5.9266725,
          -5.9673225,
          -6.0045754,
          -5.8303426,
          -5.9377335,
          -5.0762451,
          -5.9952049,
          -5.9859219,
          -5.6447327,
          -5.9620406,
          -6.0566456,
          -5.8381685,
          -5.9258418,
          -5.9991195,
          -5.8532728,
          -6.0791734,
          -5.9857917,
          -5.9812268,
          -6.0030198,
          -6.0335377,
          -6.0322142,
          -5.7590353,
          -6.0336533,
          -5.982929,
          -5.99916,
          -5.9267402,
          -4.8833645,
          -5.0880186,
          -5.0856797,
          -5.0728107,
          -5.9649648,
          -5.8454073,
          -6.0530087,
          -6.0556159,
          -6.0526707,
          -6.0103841,
          -6.0134182,
          -6.0807164,
          -5.9706711,
          -5.7598055,
          -5.9257114,
          -5.9300443,
          -5.9269918,
          -4.959488,
          -4.9577282,
          -4.9609931,
          -4.9592467,
          -4.9436485,
          -4.9463952,
          -5.0979443,
          -5.1140827,
          -5.1143778,
          -5.9860648,
          -5.9857084,
          -6.0046336,
          -6.0013408,
          -5.9726165,
          -5.9697255,
          -5.9726701,
          -5.9807553,
          -4.916402,
          -5.9979908,
          -5.9798668,
          -5.4527503,
          -5.4502532,
          -5.4546207,
          -5.0817373,
          -5.0803299,
          -5.9997345,
          -5.9253627,
          -6.0047183,
          -6.0475875,
          -5.9471195,
          -5.9475486,
          -6.3053348,
          -6.3278422,
          -6.0771612,
          -6.0320738,
          -6.0834494,
          -5.9254298,
          -5.7606609,
          -5.3126409,
          -6.0274989,
          -5.5303545,
          -6.1067959,
          -6.0836775,
          -5.9332385,
          -4.8823975,
          -5.5267357,
          -6.0724424,
          -6.0697293,
          -6.0095687,
          -5.9850727,
          -6.0129859,
          -5.9819631,
          -6.3046051,
          -5.9921167,
          -6.0743354,
          -5.9763877,
          -6.2976206,
          -5.9211799,
          -5.9474761,
          -5.9727302,
          -6.0574429,
          -4.9845295,
          -5.9967977,
          -6.0354853,
          -6.297249,
          -6.0039737,
          -6.080157,
          -5.9781164,
          -5.9783584,
          -75.9346416,
          -75.9348948,
          -75.9339817,
          -75.9340334,
          -4.85114,
          -4.985669,
          -6.0028403,
          -5.973638,
          -5.8602342,
          -6.1614621,
          -5.7339377,
          -5.7345929,
          -5.7352893,
          -5.716306,
          -5.7126393,
          -5.9799081,
          -6.0695391,
          -6.0847287,
          -6.06612,
          -5.9313921,
          -5.9804426,
          -6.055347,
          -6.0475562,
          -5.8456912,
          -5.8538032,
          -6.0549346,
          -5.9969563,
          -5.0732017,
          -5.8160429,
          -5.999686,
          -5.9745482,
          -5.0787518,
          -5.3868392,
          -5.9988958,
          -5.9795246,
          -6.0504183,
          -5.6396686,
          -5.9959837,
          -5.9937657,
          -6.0410394,
          -6.0075123,
          -6.0039569,
          -6.0039747,
          -5.9769946,
          -5.5336856,
          -5.350012,
          -5.9153841,
          -6.0405927,
          -5.9586408,
          -5.9897152,
          -5.9827216,
          -5.9822434,
          -5.076954,
          -5.0775816,
          -5.6465003,
          -5.3438793,
          -5.938488,
          -6.0084614,
          -5.9188368,
          -5.9763565,
          -6.0000997,
          -5.9990942,
          -6.0038452,
          -5.9983526,
          -5.9984998,
          -5.9993465,
          -5.998974,
          -5.998694,
          -6.001493,
          -6.0013333,
          -6.0532792,
          -5.9157327,
          -6.1584518,
          -6.1528978,
          -6.153677,
          -5.9609781,
          -5.9507914,
          -5.9509086,
          -5.973515,
          -5.9965176,
          -5.45486,
          -6.0456497,
          -6.0597904,
          -6.0491422,
          -5.9693853,
          -5.9702723,
          -4.7614862,
          -5.969346,
          -5.974322,
          -6.2660091,
          -6.0133269,
          -5.9096936
         ],
         "marker": {
          "color": "#636efa"
         },
         "mode": "markers",
         "name": "supermarket",
         "showlegend": true,
         "subplot": "mapbox",
         "type": "scattermapbox"
        }
       ],
       "layout": {
        "legend": {
         "title": {
          "text": "tipo"
         },
         "tracegroupgap": 0
        },
        "mapbox": {
         "accesstoken": "pk.eyJ1IjoiZGFvcnRpIiwiYSI6ImNrZnF6M3FlczA3cDEyem16YTNzZmV4M2EifQ.846iF0sMSAXv0kwkwUTYjg",
         "center": {
          "lat": 36.98208000988021,
          "lon": -6.713874365568863
         },
         "domain": {
          "x": [
           0,
           1
          ],
          "y": [
           0,
           1
          ]
         },
         "zoom": 11
        },
        "margin": {
         "t": 60
        },
        "template": {
         "data": {
          "bar": [
           {
            "error_x": {
             "color": "#2a3f5f"
            },
            "error_y": {
             "color": "#2a3f5f"
            },
            "marker": {
             "line": {
              "color": "#E5ECF6",
              "width": 0.5
             }
            },
            "type": "bar"
           }
          ],
          "barpolar": [
           {
            "marker": {
             "line": {
              "color": "#E5ECF6",
              "width": 0.5
             }
            },
            "type": "barpolar"
           }
          ],
          "carpet": [
           {
            "aaxis": {
             "endlinecolor": "#2a3f5f",
             "gridcolor": "white",
             "linecolor": "white",
             "minorgridcolor": "white",
             "startlinecolor": "#2a3f5f"
            },
            "baxis": {
             "endlinecolor": "#2a3f5f",
             "gridcolor": "white",
             "linecolor": "white",
             "minorgridcolor": "white",
             "startlinecolor": "#2a3f5f"
            },
            "type": "carpet"
           }
          ],
          "choropleth": [
           {
            "colorbar": {
             "outlinewidth": 0,
             "ticks": ""
            },
            "type": "choropleth"
           }
          ],
          "contour": [
           {
            "colorbar": {
             "outlinewidth": 0,
             "ticks": ""
            },
            "colorscale": [
             [
              0,
              "#0d0887"
             ],
             [
              0.1111111111111111,
              "#46039f"
             ],
             [
              0.2222222222222222,
              "#7201a8"
             ],
             [
              0.3333333333333333,
              "#9c179e"
             ],
             [
              0.4444444444444444,
              "#bd3786"
             ],
             [
              0.5555555555555556,
              "#d8576b"
             ],
             [
              0.6666666666666666,
              "#ed7953"
             ],
             [
              0.7777777777777778,
              "#fb9f3a"
             ],
             [
              0.8888888888888888,
              "#fdca26"
             ],
             [
              1,
              "#f0f921"
             ]
            ],
            "type": "contour"
           }
          ],
          "contourcarpet": [
           {
            "colorbar": {
             "outlinewidth": 0,
             "ticks": ""
            },
            "type": "contourcarpet"
           }
          ],
          "heatmap": [
           {
            "colorbar": {
             "outlinewidth": 0,
             "ticks": ""
            },
            "colorscale": [
             [
              0,
              "#0d0887"
             ],
             [
              0.1111111111111111,
              "#46039f"
             ],
             [
              0.2222222222222222,
              "#7201a8"
             ],
             [
              0.3333333333333333,
              "#9c179e"
             ],
             [
              0.4444444444444444,
              "#bd3786"
             ],
             [
              0.5555555555555556,
              "#d8576b"
             ],
             [
              0.6666666666666666,
              "#ed7953"
             ],
             [
              0.7777777777777778,
              "#fb9f3a"
             ],
             [
              0.8888888888888888,
              "#fdca26"
             ],
             [
              1,
              "#f0f921"
             ]
            ],
            "type": "heatmap"
           }
          ],
          "heatmapgl": [
           {
            "colorbar": {
             "outlinewidth": 0,
             "ticks": ""
            },
            "colorscale": [
             [
              0,
              "#0d0887"
             ],
             [
              0.1111111111111111,
              "#46039f"
             ],
             [
              0.2222222222222222,
              "#7201a8"
             ],
             [
              0.3333333333333333,
              "#9c179e"
             ],
             [
              0.4444444444444444,
              "#bd3786"
             ],
             [
              0.5555555555555556,
              "#d8576b"
             ],
             [
              0.6666666666666666,
              "#ed7953"
             ],
             [
              0.7777777777777778,
              "#fb9f3a"
             ],
             [
              0.8888888888888888,
              "#fdca26"
             ],
             [
              1,
              "#f0f921"
             ]
            ],
            "type": "heatmapgl"
           }
          ],
          "histogram": [
           {
            "marker": {
             "colorbar": {
              "outlinewidth": 0,
              "ticks": ""
             }
            },
            "type": "histogram"
           }
          ],
          "histogram2d": [
           {
            "colorbar": {
             "outlinewidth": 0,
             "ticks": ""
            },
            "colorscale": [
             [
              0,
              "#0d0887"
             ],
             [
              0.1111111111111111,
              "#46039f"
             ],
             [
              0.2222222222222222,
              "#7201a8"
             ],
             [
              0.3333333333333333,
              "#9c179e"
             ],
             [
              0.4444444444444444,
              "#bd3786"
             ],
             [
              0.5555555555555556,
              "#d8576b"
             ],
             [
              0.6666666666666666,
              "#ed7953"
             ],
             [
              0.7777777777777778,
              "#fb9f3a"
             ],
             [
              0.8888888888888888,
              "#fdca26"
             ],
             [
              1,
              "#f0f921"
             ]
            ],
            "type": "histogram2d"
           }
          ],
          "histogram2dcontour": [
           {
            "colorbar": {
             "outlinewidth": 0,
             "ticks": ""
            },
            "colorscale": [
             [
              0,
              "#0d0887"
             ],
             [
              0.1111111111111111,
              "#46039f"
             ],
             [
              0.2222222222222222,
              "#7201a8"
             ],
             [
              0.3333333333333333,
              "#9c179e"
             ],
             [
              0.4444444444444444,
              "#bd3786"
             ],
             [
              0.5555555555555556,
              "#d8576b"
             ],
             [
              0.6666666666666666,
              "#ed7953"
             ],
             [
              0.7777777777777778,
              "#fb9f3a"
             ],
             [
              0.8888888888888888,
              "#fdca26"
             ],
             [
              1,
              "#f0f921"
             ]
            ],
            "type": "histogram2dcontour"
           }
          ],
          "mesh3d": [
           {
            "colorbar": {
             "outlinewidth": 0,
             "ticks": ""
            },
            "type": "mesh3d"
           }
          ],
          "parcoords": [
           {
            "line": {
             "colorbar": {
              "outlinewidth": 0,
              "ticks": ""
             }
            },
            "type": "parcoords"
           }
          ],
          "pie": [
           {
            "automargin": true,
            "type": "pie"
           }
          ],
          "scatter": [
           {
            "marker": {
             "colorbar": {
              "outlinewidth": 0,
              "ticks": ""
             }
            },
            "type": "scatter"
           }
          ],
          "scatter3d": [
           {
            "line": {
             "colorbar": {
              "outlinewidth": 0,
              "ticks": ""
             }
            },
            "marker": {
             "colorbar": {
              "outlinewidth": 0,
              "ticks": ""
             }
            },
            "type": "scatter3d"
           }
          ],
          "scattercarpet": [
           {
            "marker": {
             "colorbar": {
              "outlinewidth": 0,
              "ticks": ""
             }
            },
            "type": "scattercarpet"
           }
          ],
          "scattergeo": [
           {
            "marker": {
             "colorbar": {
              "outlinewidth": 0,
              "ticks": ""
             }
            },
            "type": "scattergeo"
           }
          ],
          "scattergl": [
           {
            "marker": {
             "colorbar": {
              "outlinewidth": 0,
              "ticks": ""
             }
            },
            "type": "scattergl"
           }
          ],
          "scattermapbox": [
           {
            "marker": {
             "colorbar": {
              "outlinewidth": 0,
              "ticks": ""
             }
            },
            "type": "scattermapbox"
           }
          ],
          "scatterpolar": [
           {
            "marker": {
             "colorbar": {
              "outlinewidth": 0,
              "ticks": ""
             }
            },
            "type": "scatterpolar"
           }
          ],
          "scatterpolargl": [
           {
            "marker": {
             "colorbar": {
              "outlinewidth": 0,
              "ticks": ""
             }
            },
            "type": "scatterpolargl"
           }
          ],
          "scatterternary": [
           {
            "marker": {
             "colorbar": {
              "outlinewidth": 0,
              "ticks": ""
             }
            },
            "type": "scatterternary"
           }
          ],
          "surface": [
           {
            "colorbar": {
             "outlinewidth": 0,
             "ticks": ""
            },
            "colorscale": [
             [
              0,
              "#0d0887"
             ],
             [
              0.1111111111111111,
              "#46039f"
             ],
             [
              0.2222222222222222,
              "#7201a8"
             ],
             [
              0.3333333333333333,
              "#9c179e"
             ],
             [
              0.4444444444444444,
              "#bd3786"
             ],
             [
              0.5555555555555556,
              "#d8576b"
             ],
             [
              0.6666666666666666,
              "#ed7953"
             ],
             [
              0.7777777777777778,
              "#fb9f3a"
             ],
             [
              0.8888888888888888,
              "#fdca26"
             ],
             [
              1,
              "#f0f921"
             ]
            ],
            "type": "surface"
           }
          ],
          "table": [
           {
            "cells": {
             "fill": {
              "color": "#EBF0F8"
             },
             "line": {
              "color": "white"
             }
            },
            "header": {
             "fill": {
              "color": "#C8D4E3"
             },
             "line": {
              "color": "white"
             }
            },
            "type": "table"
           }
          ]
         },
         "layout": {
          "annotationdefaults": {
           "arrowcolor": "#2a3f5f",
           "arrowhead": 0,
           "arrowwidth": 1
          },
          "coloraxis": {
           "colorbar": {
            "outlinewidth": 0,
            "ticks": ""
           }
          },
          "colorscale": {
           "diverging": [
            [
             0,
             "#8e0152"
            ],
            [
             0.1,
             "#c51b7d"
            ],
            [
             0.2,
             "#de77ae"
            ],
            [
             0.3,
             "#f1b6da"
            ],
            [
             0.4,
             "#fde0ef"
            ],
            [
             0.5,
             "#f7f7f7"
            ],
            [
             0.6,
             "#e6f5d0"
            ],
            [
             0.7,
             "#b8e186"
            ],
            [
             0.8,
             "#7fbc41"
            ],
            [
             0.9,
             "#4d9221"
            ],
            [
             1,
             "#276419"
            ]
           ],
           "sequential": [
            [
             0,
             "#0d0887"
            ],
            [
             0.1111111111111111,
             "#46039f"
            ],
            [
             0.2222222222222222,
             "#7201a8"
            ],
            [
             0.3333333333333333,
             "#9c179e"
            ],
            [
             0.4444444444444444,
             "#bd3786"
            ],
            [
             0.5555555555555556,
             "#d8576b"
            ],
            [
             0.6666666666666666,
             "#ed7953"
            ],
            [
             0.7777777777777778,
             "#fb9f3a"
            ],
            [
             0.8888888888888888,
             "#fdca26"
            ],
            [
             1,
             "#f0f921"
            ]
           ],
           "sequentialminus": [
            [
             0,
             "#0d0887"
            ],
            [
             0.1111111111111111,
             "#46039f"
            ],
            [
             0.2222222222222222,
             "#7201a8"
            ],
            [
             0.3333333333333333,
             "#9c179e"
            ],
            [
             0.4444444444444444,
             "#bd3786"
            ],
            [
             0.5555555555555556,
             "#d8576b"
            ],
            [
             0.6666666666666666,
             "#ed7953"
            ],
            [
             0.7777777777777778,
             "#fb9f3a"
            ],
            [
             0.8888888888888888,
             "#fdca26"
            ],
            [
             1,
             "#f0f921"
            ]
           ]
          },
          "colorway": [
           "#636efa",
           "#EF553B",
           "#00cc96",
           "#ab63fa",
           "#FFA15A",
           "#19d3f3",
           "#FF6692",
           "#B6E880",
           "#FF97FF",
           "#FECB52"
          ],
          "font": {
           "color": "#2a3f5f"
          },
          "geo": {
           "bgcolor": "white",
           "lakecolor": "white",
           "landcolor": "#E5ECF6",
           "showlakes": true,
           "showland": true,
           "subunitcolor": "white"
          },
          "hoverlabel": {
           "align": "left"
          },
          "hovermode": "closest",
          "mapbox": {
           "style": "light"
          },
          "paper_bgcolor": "white",
          "plot_bgcolor": "#E5ECF6",
          "polar": {
           "angularaxis": {
            "gridcolor": "white",
            "linecolor": "white",
            "ticks": ""
           },
           "bgcolor": "#E5ECF6",
           "radialaxis": {
            "gridcolor": "white",
            "linecolor": "white",
            "ticks": ""
           }
          },
          "scene": {
           "xaxis": {
            "backgroundcolor": "#E5ECF6",
            "gridcolor": "white",
            "gridwidth": 2,
            "linecolor": "white",
            "showbackground": true,
            "ticks": "",
            "zerolinecolor": "white"
           },
           "yaxis": {
            "backgroundcolor": "#E5ECF6",
            "gridcolor": "white",
            "gridwidth": 2,
            "linecolor": "white",
            "showbackground": true,
            "ticks": "",
            "zerolinecolor": "white"
           },
           "zaxis": {
            "backgroundcolor": "#E5ECF6",
            "gridcolor": "white",
            "gridwidth": 2,
            "linecolor": "white",
            "showbackground": true,
            "ticks": "",
            "zerolinecolor": "white"
           }
          },
          "shapedefaults": {
           "line": {
            "color": "#2a3f5f"
           }
          },
          "ternary": {
           "aaxis": {
            "gridcolor": "white",
            "linecolor": "white",
            "ticks": ""
           },
           "baxis": {
            "gridcolor": "white",
            "linecolor": "white",
            "ticks": ""
           },
           "bgcolor": "#E5ECF6",
           "caxis": {
            "gridcolor": "white",
            "linecolor": "white",
            "ticks": ""
           }
          },
          "title": {
           "x": 0.05
          },
          "xaxis": {
           "automargin": true,
           "gridcolor": "white",
           "linecolor": "white",
           "ticks": "",
           "title": {
            "standoff": 15
           },
           "zerolinecolor": "white",
           "zerolinewidth": 2
          },
          "yaxis": {
           "automargin": true,
           "gridcolor": "white",
           "linecolor": "white",
           "ticks": "",
           "title": {
            "standoff": 15
           },
           "zerolinecolor": "white",
           "zerolinewidth": 2
          }
         }
        }
       }
      }
     },
     "metadata": {}
    }
   ],
   "source": [
    "pinta_mapa(df)"
   ]
  },
  {
   "cell_type": "markdown",
   "metadata": {},
   "source": [
    "## Etiqueta en el mapa\n",
    "Busca la manera de modificar la función `pinta_mapa()`, de tal manera que cuando pases el ratón por encima de cada punto, aparezca el nombre de cada nodo. Por ejemplo, que en el último apartado aparezcan los nombres de los supermercados."
   ]
  },
  {
   "cell_type": "code",
   "execution_count": 51,
   "metadata": {},
   "outputs": [],
   "source": [
    "\n",
    "import plotly.express as px\n",
    "\n",
    "mapbox_access_token = \"pk.eyJ1IjoiZGFvcnRpIiwiYSI6ImNrZnF6M3FlczA3cDEyem16YTNzZmV4M2EifQ.846iF0sMSAXv0kwkwUTYjg\"\n",
    "\n",
    "def pinta_mapa(df):\n",
    "    fig = px.scatter_mapbox(df,\n",
    "                            lat=\"lat\",\n",
    "                            lon=\"lon\",\n",
    "                            color = \"tipo\",\n",
    "                            hover_name= \"name\",\n",
    "                      color_continuous_scale=px.colors.cyclical.IceFire, size_max=15, zoom=11)\n",
    "    fig.update_layout(\n",
    "        mapbox=dict(\n",
    "            accesstoken=mapbox_access_token\n",
    "        )\n",
    "    )\n",
    "\n",
    "    fig.show()\n"
   ]
  },
  {
   "cell_type": "code",
   "execution_count": 52,
   "metadata": {},
   "outputs": [
    {
     "output_type": "display_data",
     "data": {
      "application/vnd.plotly.v1+json": {
       "config": {
        "plotlyServerURL": "https://plot.ly"
       },
       "data": [
        {
         "hovertemplate": "<b>%{hovertext}</b><br><br>tipo=supermarket<br>lat=%{lat}<br>lon=%{lon}<extra></extra>",
         "hovertext": [
          "MAS",
          "Maxi Dia",
          "Dia",
          "El Jamón",
          "Valdajimena",
          "Dia",
          "MAS",
          "Mercadona",
          "Supersol",
          "NO NAME",
          "Dia",
          "El Jamón",
          "Masymas",
          "Supersol",
          "Maxi Dia",
          "Dia Market",
          "Dia Market",
          "Mercadona",
          "Maxi Dia",
          "Supermercado El Jamón",
          "Dia Market",
          "NO NAME",
          "NO NAME",
          "Mercadona",
          "NO NAME",
          "NO NAME",
          "NO NAME",
          "NO NAME",
          "NO NAME",
          "Mercadona",
          "NO NAME",
          "NO NAME",
          "NO NAME",
          "NO NAME",
          "Supermercados Mas",
          "NO NAME",
          "Supermercado El Jamón",
          "Mercadona",
          "NO NAME",
          "Maxi Dia",
          "Maxi Dia",
          "OpenCor",
          "M.A.S.",
          "Dia",
          "NO NAME",
          "Dia",
          "Mercadona",
          "NO NAME",
          "Mercadona",
          "Dia",
          "Supersol",
          "NO NAME",
          "NO NAME",
          "El Jamón",
          "NO NAME",
          "NO NAME",
          "NO NAME",
          "NO NAME",
          "Cash Fresh",
          "NO NAME",
          "Mercadona",
          "Mas",
          "Carrefour",
          "Hipercor",
          "Supersol",
          "Dia",
          "NO NAME",
          "NO NAME",
          "Dia",
          "NO NAME",
          "Dia",
          "MAS",
          "Covirán",
          "M.A.S.",
          "Codi",
          "NO NAME",
          "Cash",
          "Mercadona",
          "Maxi Dia",
          "Mercadona",
          "Hipersol",
          "Mercadona",
          "Codi",
          "Supermercado Juani",
          "Mas",
          "Codi",
          "Codi",
          "Mas Olivares",
          "Mercadona",
          "Codi",
          "Mas",
          "El Jamón",
          "Supemercados El Jamón",
          "Bebidas Sur",
          "Lidl",
          "Hipercor Los Arcos",
          "Cash - Hnos López González",
          "Dia",
          "Caliser",
          "Dia",
          "Supermercados Mas",
          "Supersol",
          "Mercadona",
          "Aldi",
          "NO NAME",
          "Dia",
          "Dia",
          "Dia",
          "Cash fresh",
          "Hiper Oriente",
          "Mercadona",
          "MAS",
          "Mercadona",
          "Lidl",
          "Supermercado MAS",
          "Supermercado MAS",
          "MAS",
          "Supermcado \"M.A.S.\"",
          "Mercadona",
          "Supermercados El Jamón",
          "MAS",
          "Supersol",
          "Mercadona",
          "Covirán",
          "NO NAME",
          "Hermanos Páez Martín",
          "Alcampo",
          "Mas",
          "Supermercado M.A.S",
          "Mercadona",
          "Mercadona",
          "Supermercado",
          "Supermercado MAS",
          "Lidl",
          "Carrefour",
          "San Enrique",
          "Supermercados MAS",
          "Supersol",
          "Miguel Angel",
          "Mercadona",
          "MASS Supermercados",
          "Dia",
          "Covirán",
          "La Ortiga",
          "NO NAME",
          "Supermercados Mas",
          "NO NAME",
          "NO NAME",
          "Maskom",
          "Mercadona",
          "Supermercado Victoriano",
          "Eroski",
          "Dia",
          "Spar",
          "Supermercados MAS",
          "Covirán",
          "Mercadona",
          "Mercadona",
          "Carrefour",
          "Aldi",
          "Dia",
          "Maxi Dia",
          "Lidl",
          "Dia",
          "Mercadona",
          "Dia",
          "Dia",
          "Supermercado Proxim",
          "NO NAME",
          "Dia Market",
          "Bonsabor",
          "Codi",
          "Covirán",
          "NO NAME",
          "NO NAME",
          "Eroski",
          "NO NAME",
          "NO NAME",
          "NO NAME",
          "Eroski",
          "Mercadona",
          "Lidl",
          "MAS&Go",
          "El Jamón",
          "El Jamón",
          "Supermrecados Mas",
          "La Coriana",
          "La China",
          "El Toni",
          "NO NAME",
          "Dia",
          "Supersol",
          "Dia",
          "Dia",
          "Lidl",
          "Urbano Center",
          "San Enrique",
          "Covirán",
          "Lidl",
          "El Jamón",
          "Cash Fresh",
          "Supermercado MAS",
          "NO NAME",
          "NO NAME",
          "Mercadona",
          "Badia",
          "MAS",
          "Dia",
          "Maxi Dia",
          "Perfumeria Ana",
          "CASH FRESH",
          "Dia",
          "Maxi Dia",
          "Dia",
          "Dia",
          "Supeco",
          "NO NAME",
          "Minimarket",
          "NICASIO",
          "Alimentación YEN",
          "Hiper Frutas y Pescado Aljarafe",
          "El Jamón",
          "Supersol",
          "Autoservicio Rosa",
          "El Jamón",
          "Covirán",
          "Mas",
          "El Jamón",
          "Mercadona",
          "Dia",
          "Codi",
          "Jamón",
          "Super Oriental",
          "Alimentation biologique",
          "NO NAME",
          "Dia",
          "Mercadona",
          "Covirán",
          "Supermercado Ecológico.Herboteca",
          "Supermercado Noah",
          "Mas",
          "jamón",
          "Autoservicio la miranda",
          "Merkacentro",
          "ARA",
          "D1- De todos",
          "Dia",
          "Alsara",
          "NO NAME",
          "El Colmado de Pimpi",
          "Mercadona",
          "NO NAME",
          "Lidl",
          "Mercadona",
          "Carrefour",
          "Supermercado Paz",
          "Mercadona",
          "Mercadona",
          "Aldi",
          "El Molino de Gines",
          "Maxi Dia",
          "Codi",
          "Aldi",
          "Codi",
          "Mercadona",
          "Dia",
          "Aldi",
          "Covirán",
          "Mas&go",
          "Lidl",
          "Ayala",
          "Mercadona",
          "Fresh DIA",
          "Dia",
          "Covirán",
          "Aldi",
          "Dia",
          "Cash Fresh",
          "El Jamón",
          "Lin",
          "Supermercado Alameda",
          "Suma",
          "El Jamón",
          "Supermercado Ecológico Herboteca",
          "Supermercado MAS",
          "Dia",
          "Cash Fresh",
          "cash peñaflor",
          "NO NAME",
          "Supermercado Bazar",
          "El Jamón",
          "Mercadona",
          "Supersol",
          "Mas&Go",
          "SAN ENRIQUE",
          "EL POLVILLO",
          "SuperCarmela",
          "NO NAME",
          "Super Carmela",
          "Dia",
          "NO NAME",
          "Supersol",
          "MAS&Go",
          "MAS & go",
          "MAS",
          "MAS",
          "Dia",
          "Aldi",
          "Covirán",
          "MAS",
          "Dia Market",
          "Supermercados La Cesta",
          "Spar",
          "Supermercados Maxico",
          "Nietas de Maruja",
          "La Esquina Ibérica",
          "El Burrito",
          "Mercadrink",
          "Dia Market",
          "Supersol",
          "supermercado sur",
          "El Corte Ingles",
          "Family Cash",
          "Covirán",
          "Supermercados MAS",
          "Expo",
          "Lidl",
          "Alimentación Mei Bazar",
          "Supermercado Jeromito",
          "Lidl",
          "Carrefour",
          "Día",
          "CASH FRESH",
          "NO NAME"
         ],
         "lat": [
          37.3730016,
          37.3900156,
          36.9945325,
          37.4063636,
          37.4065076,
          37.4068889,
          37.381381,
          37.3492941,
          37.3931413,
          37.3916239,
          37.281765,
          37.3945948,
          37.3928078,
          37.3902034,
          37.3968266,
          37.39283,
          37.4000193,
          37.4636269,
          37.3877763,
          37.3782118,
          37.3784637,
          37.4223309,
          37.4210312,
          37.6592193,
          37.4158443,
          37.408912,
          37.4162977,
          37.4322927,
          37.4265448,
          37.3993597,
          37.4032095,
          37.4040568,
          37.3767341,
          37.3758354,
          37.3709299,
          37.3453886,
          37.347762,
          37.3650152,
          37.3666867,
          37.3941226,
          37.3745748,
          37.3821828,
          37.3765331,
          37.3762135,
          37.3828281,
          37.4906658,
          37.2929933,
          37.3880213,
          37.4004138,
          37.4022714,
          37.382216,
          37.3750846,
          37.3838793,
          37.3758889,
          37.41043,
          37.3994984,
          37.4010345,
          37.4117722,
          37.4021436,
          37.3958654,
          37.3732438,
          37.3770745,
          37.3921327,
          37.373167,
          37.395969,
          37.3955684,
          37.3993031,
          37.3661575,
          37.3716058,
          37.3612925,
          37.390219,
          37.4011492,
          37.2697298,
          37.344986,
          37.2756379,
          37.3626648,
          37.4007084,
          37.1744795,
          37.4615531,
          37.1876727,
          37.1851484,
          37.1836702,
          37.1895563,
          37.1797124,
          37.3207532,
          37.285365,
          37.2855656,
          37.3255608,
          37.3353194,
          37.2906251,
          37.3888642,
          37.3878814,
          37.3823229,
          37.2661629,
          37.3327558,
          37.3882714,
          37.295735,
          37.3376348,
          37.3322365,
          37.394668,
          37.387336,
          37.37798,
          37.3501025,
          37.3842002,
          37.3418953,
          37.3828833,
          37.3774228,
          37.3851723,
          37.3838552,
          37.3939616,
          37.3834992,
          37.4066907,
          37.3542265,
          37.3778989,
          37.3439885,
          37.3850834,
          37.3784614,
          37.4245402,
          37.3511902,
          37.3845859,
          37.3829724,
          37.3926659,
          37.487511,
          37.2871942,
          36.9943288,
          37.1615124,
          37.4084798,
          37.3852201,
          37.3387597,
          37.3416599,
          37.3385438,
          37.3876859,
          37.3755246,
          37.3417027,
          37.2838344,
          37.5433022,
          37.3732443,
          37.3585028,
          37.4639055,
          37.3720492,
          37.5451547,
          37.3388604,
          37.2902401,
          37.3984032,
          37.328376,
          37.3684704,
          37.5132086,
          37.5161821,
          37.3827647,
          37.3972073,
          37.3986384,
          37.9314768,
          37.4012555,
          37.388112,
          37.3897145,
          37.284377,
          37.3007621,
          37.5395984,
          37.5304428,
          37.5379071,
          37.3816054,
          37.351903,
          37.2962155,
          37.2949076,
          37.2894918,
          37.3846396,
          37.3845658,
          37.3883375,
          37.3901385,
          37.935879,
          37.4010558,
          37.3390588,
          37.2889914,
          37.3704267,
          37.3709517,
          37.3723487,
          37.3718211,
          37.3764664,
          37.377278,
          37.2315496,
          37.2374432,
          37.2374048,
          37.3588512,
          37.3563452,
          37.3757882,
          37.3947584,
          37.3785976,
          37.3775664,
          37.378052,
          37.4024316,
          37.2517534,
          37.3979165,
          37.3455022,
          37.1288919,
          37.1263749,
          37.1278811,
          37.5442913,
          37.5416931,
          37.3755656,
          37.4109179,
          37.3793471,
          37.3528597,
          37.4836776,
          37.4844523,
          37.30331,
          37.3596854,
          37.3835149,
          37.3741291,
          37.3826562,
          37.4108539,
          37.9428359,
          37.2238977,
          37.385883,
          37.6601041,
          37.3101139,
          37.3798043,
          37.2783941,
          37.4494613,
          37.6609324,
          37.3720803,
          37.3736999,
          37.3825028,
          37.4247797,
          37.3774904,
          37.365128,
          37.3042312,
          37.3897096,
          37.3858133,
          37.426738,
          37.3023998,
          37.2824923,
          37.3761087,
          37.3874865,
          37.3536782,
          37.100331,
          37.3725826,
          37.3718625,
          37.3040479,
          37.3819894,
          37.3890463,
          37.3585589,
          37.3593174,
          4.2685437,
          4.2645309,
          4.2642887,
          4.2635972,
          37.365246,
          37.355629,
          37.3742039,
          37.3773855,
          37.3123385,
          37.4148171,
          37.3813908,
          37.3810371,
          37.3807862,
          37.3932795,
          37.3972674,
          37.3905785,
          36.9283397,
          37.381633,
          37.3223888,
          37.2832311,
          37.3917556,
          37.3858695,
          37.3855691,
          37.337093,
          37.3252963,
          37.3849155,
          37.3945664,
          37.5365141,
          37.2221232,
          37.3798531,
          37.38285,
          37.545211,
          37.7789366,
          37.3662625,
          37.3800582,
          37.4325717,
          37.4717331,
          37.3726496,
          37.4011565,
          37.3605097,
          37.3792072,
          37.381944,
          37.3812806,
          37.3708759,
          37.6598589,
          37.7066017,
          37.5737316,
          37.4381841,
          37.3729319,
          37.4065108,
          37.3717263,
          37.3716578,
          37.5447672,
          37.5447161,
          37.4751307,
          37.4643008,
          36.9796885,
          37.3886902,
          37.3795609,
          37.3542239,
          37.3748125,
          37.3791269,
          37.3766656,
          37.3751536,
          37.3777005,
          37.378475,
          37.3753009,
          37.3751423,
          37.3819024,
          37.3817406,
          37.3875216,
          37.2858944,
          37.5367864,
          37.5284996,
          37.5350109,
          37.407151,
          37.3709124,
          37.3712266,
          37.3809175,
          37.3934557,
          37.1285468,
          37.3447542,
          37.3412032,
          37.3500535,
          37.4033923,
          37.3762284,
          37.2943823,
          37.4031917,
          37.4186604,
          37.5155549,
          37.3828681,
          37.284439
         ],
         "legendgroup": "supermarket",
         "lon": [
          -6.0472036,
          -5.9737693,
          -5.5723199,
          -5.9763418,
          -5.9733419,
          -5.9724546,
          -5.9794179,
          -5.9768997,
          -5.9815793,
          -5.9813217,
          -5.9369929,
          -5.9910877,
          -5.9863711,
          -5.9903244,
          -5.9906521,
          -5.9835362,
          -5.9856329,
          -5.6474422,
          -5.9819761,
          -6.0120047,
          -6.0119015,
          -5.9613759,
          -5.9637284,
          -5.5271327,
          -5.9700072,
          -5.9769987,
          -5.9644557,
          -5.9793319,
          -5.9860088,
          -5.9779561,
          -5.9683925,
          -5.9654044,
          -5.9803391,
          -5.9763155,
          -5.9789718,
          -5.9807998,
          -5.9803647,
          -5.9790562,
          -5.975481,
          -5.9572429,
          -5.9677453,
          -5.9659946,
          -5.969255,
          -5.9689733,
          -5.9654853,
          -5.9461751,
          -5.9230804,
          -5.9150298,
          -5.925213,
          -5.9268237,
          -5.9532198,
          -5.9538345,
          -5.9469451,
          -5.9545486,
          -5.9250194,
          -5.9527488,
          -5.9406317,
          -5.9196117,
          -5.9206454,
          -5.9241546,
          -6.0446424,
          -6.0456304,
          -6.0305198,
          -6.0300594,
          -5.978107,
          -5.978225,
          -5.9710998,
          -5.9683973,
          -5.9566624,
          -5.9601058,
          -5.9894762,
          -5.9918408,
          -5.9362868,
          -5.932839,
          -5.9277721,
          -6.0439156,
          -5.9270066,
          -5.7767863,
          -6.0095892,
          -5.7877631,
          -5.7736967,
          -5.7765071,
          -5.7780879,
          -5.7962499,
          -6.072243,
          -5.9102831,
          -5.9146873,
          -5.9339584,
          -6.0643473,
          -5.9245229,
          -6.0020476,
          -5.9844847,
          -5.9654876,
          -5.9213596,
          -5.9693451,
          -5.9607582,
          -5.9117565,
          -5.827671,
          -5.834486,
          -5.997403,
          -5.9849974,
          -5.997585,
          -6.0518262,
          -6.0613371,
          -6.0673942,
          -5.9536265,
          -5.9472911,
          -5.9482621,
          -5.9514647,
          -5.9956693,
          -5.9184405,
          -5.9730014,
          -5.8580908,
          -6.0669422,
          -5.9754025,
          -5.9812451,
          -5.9412792,
          -5.9849356,
          -6.0250197,
          -6.0059643,
          -6.0060357,
          -5.9819003,
          -5.9352853,
          -5.9433609,
          -5.5764933,
          -5.9252046,
          -5.910971,
          -5.9772574,
          -5.8401204,
          -5.8334524,
          -5.9266725,
          -5.9673225,
          -6.0045754,
          -5.8303426,
          -5.9377335,
          -5.0762451,
          -5.9952049,
          -5.9859219,
          -5.6447327,
          -5.9620406,
          -6.0566456,
          -5.8381685,
          -5.9258418,
          -5.9991195,
          -5.8532728,
          -6.0791734,
          -5.9857917,
          -5.9812268,
          -6.0030198,
          -6.0335377,
          -6.0322142,
          -5.7590353,
          -6.0336533,
          -5.982929,
          -5.99916,
          -5.9267402,
          -4.8833645,
          -5.0880186,
          -5.0856797,
          -5.0728107,
          -5.9649648,
          -5.8454073,
          -6.0530087,
          -6.0556159,
          -6.0526707,
          -6.0103841,
          -6.0134182,
          -6.0807164,
          -5.9706711,
          -5.7598055,
          -5.9257114,
          -5.9300443,
          -5.9269918,
          -4.959488,
          -4.9577282,
          -4.9609931,
          -4.9592467,
          -4.9436485,
          -4.9463952,
          -5.0979443,
          -5.1140827,
          -5.1143778,
          -5.9860648,
          -5.9857084,
          -6.0046336,
          -6.0013408,
          -5.9726165,
          -5.9697255,
          -5.9726701,
          -5.9807553,
          -4.916402,
          -5.9979908,
          -5.9798668,
          -5.4527503,
          -5.4502532,
          -5.4546207,
          -5.0817373,
          -5.0803299,
          -5.9997345,
          -5.9253627,
          -6.0047183,
          -6.0475875,
          -5.9471195,
          -5.9475486,
          -6.3053348,
          -6.3278422,
          -6.0771612,
          -6.0320738,
          -6.0834494,
          -5.9254298,
          -5.7606609,
          -5.3126409,
          -6.0274989,
          -5.5303545,
          -6.1067959,
          -6.0836775,
          -5.9332385,
          -4.8823975,
          -5.5267357,
          -6.0724424,
          -6.0697293,
          -6.0095687,
          -5.9850727,
          -6.0129859,
          -5.9819631,
          -6.3046051,
          -5.9921167,
          -6.0743354,
          -5.9763877,
          -6.2976206,
          -5.9211799,
          -5.9474761,
          -5.9727302,
          -6.0574429,
          -4.9845295,
          -5.9967977,
          -6.0354853,
          -6.297249,
          -6.0039737,
          -6.080157,
          -5.9781164,
          -5.9783584,
          -75.9346416,
          -75.9348948,
          -75.9339817,
          -75.9340334,
          -4.85114,
          -4.985669,
          -6.0028403,
          -5.973638,
          -5.8602342,
          -6.1614621,
          -5.7339377,
          -5.7345929,
          -5.7352893,
          -5.716306,
          -5.7126393,
          -5.9799081,
          -6.0695391,
          -6.0847287,
          -6.06612,
          -5.9313921,
          -5.9804426,
          -6.055347,
          -6.0475562,
          -5.8456912,
          -5.8538032,
          -6.0549346,
          -5.9969563,
          -5.0732017,
          -5.8160429,
          -5.999686,
          -5.9745482,
          -5.0787518,
          -5.3868392,
          -5.9988958,
          -5.9795246,
          -6.0504183,
          -5.6396686,
          -5.9959837,
          -5.9937657,
          -6.0410394,
          -6.0075123,
          -6.0039569,
          -6.0039747,
          -5.9769946,
          -5.5336856,
          -5.350012,
          -5.9153841,
          -6.0405927,
          -5.9586408,
          -5.9897152,
          -5.9827216,
          -5.9822434,
          -5.076954,
          -5.0775816,
          -5.6465003,
          -5.3438793,
          -5.938488,
          -6.0084614,
          -5.9188368,
          -5.9763565,
          -6.0000997,
          -5.9990942,
          -6.0038452,
          -5.9983526,
          -5.9984998,
          -5.9993465,
          -5.998974,
          -5.998694,
          -6.001493,
          -6.0013333,
          -6.0532792,
          -5.9157327,
          -6.1584518,
          -6.1528978,
          -6.153677,
          -5.9609781,
          -5.9507914,
          -5.9509086,
          -5.973515,
          -5.9965176,
          -5.45486,
          -6.0456497,
          -6.0597904,
          -6.0491422,
          -5.9693853,
          -5.9702723,
          -4.7614862,
          -5.969346,
          -5.974322,
          -6.2660091,
          -6.0133269,
          -5.9096936
         ],
         "marker": {
          "color": "#636efa"
         },
         "mode": "markers",
         "name": "supermarket",
         "showlegend": true,
         "subplot": "mapbox",
         "type": "scattermapbox"
        }
       ],
       "layout": {
        "legend": {
         "title": {
          "text": "tipo"
         },
         "tracegroupgap": 0
        },
        "mapbox": {
         "accesstoken": "pk.eyJ1IjoiZGFvcnRpIiwiYSI6ImNrZnF6M3FlczA3cDEyem16YTNzZmV4M2EifQ.846iF0sMSAXv0kwkwUTYjg",
         "center": {
          "lat": 36.98208000988021,
          "lon": -6.713874365568863
         },
         "domain": {
          "x": [
           0,
           1
          ],
          "y": [
           0,
           1
          ]
         },
         "zoom": 11
        },
        "margin": {
         "t": 60
        },
        "template": {
         "data": {
          "bar": [
           {
            "error_x": {
             "color": "#2a3f5f"
            },
            "error_y": {
             "color": "#2a3f5f"
            },
            "marker": {
             "line": {
              "color": "#E5ECF6",
              "width": 0.5
             }
            },
            "type": "bar"
           }
          ],
          "barpolar": [
           {
            "marker": {
             "line": {
              "color": "#E5ECF6",
              "width": 0.5
             }
            },
            "type": "barpolar"
           }
          ],
          "carpet": [
           {
            "aaxis": {
             "endlinecolor": "#2a3f5f",
             "gridcolor": "white",
             "linecolor": "white",
             "minorgridcolor": "white",
             "startlinecolor": "#2a3f5f"
            },
            "baxis": {
             "endlinecolor": "#2a3f5f",
             "gridcolor": "white",
             "linecolor": "white",
             "minorgridcolor": "white",
             "startlinecolor": "#2a3f5f"
            },
            "type": "carpet"
           }
          ],
          "choropleth": [
           {
            "colorbar": {
             "outlinewidth": 0,
             "ticks": ""
            },
            "type": "choropleth"
           }
          ],
          "contour": [
           {
            "colorbar": {
             "outlinewidth": 0,
             "ticks": ""
            },
            "colorscale": [
             [
              0,
              "#0d0887"
             ],
             [
              0.1111111111111111,
              "#46039f"
             ],
             [
              0.2222222222222222,
              "#7201a8"
             ],
             [
              0.3333333333333333,
              "#9c179e"
             ],
             [
              0.4444444444444444,
              "#bd3786"
             ],
             [
              0.5555555555555556,
              "#d8576b"
             ],
             [
              0.6666666666666666,
              "#ed7953"
             ],
             [
              0.7777777777777778,
              "#fb9f3a"
             ],
             [
              0.8888888888888888,
              "#fdca26"
             ],
             [
              1,
              "#f0f921"
             ]
            ],
            "type": "contour"
           }
          ],
          "contourcarpet": [
           {
            "colorbar": {
             "outlinewidth": 0,
             "ticks": ""
            },
            "type": "contourcarpet"
           }
          ],
          "heatmap": [
           {
            "colorbar": {
             "outlinewidth": 0,
             "ticks": ""
            },
            "colorscale": [
             [
              0,
              "#0d0887"
             ],
             [
              0.1111111111111111,
              "#46039f"
             ],
             [
              0.2222222222222222,
              "#7201a8"
             ],
             [
              0.3333333333333333,
              "#9c179e"
             ],
             [
              0.4444444444444444,
              "#bd3786"
             ],
             [
              0.5555555555555556,
              "#d8576b"
             ],
             [
              0.6666666666666666,
              "#ed7953"
             ],
             [
              0.7777777777777778,
              "#fb9f3a"
             ],
             [
              0.8888888888888888,
              "#fdca26"
             ],
             [
              1,
              "#f0f921"
             ]
            ],
            "type": "heatmap"
           }
          ],
          "heatmapgl": [
           {
            "colorbar": {
             "outlinewidth": 0,
             "ticks": ""
            },
            "colorscale": [
             [
              0,
              "#0d0887"
             ],
             [
              0.1111111111111111,
              "#46039f"
             ],
             [
              0.2222222222222222,
              "#7201a8"
             ],
             [
              0.3333333333333333,
              "#9c179e"
             ],
             [
              0.4444444444444444,
              "#bd3786"
             ],
             [
              0.5555555555555556,
              "#d8576b"
             ],
             [
              0.6666666666666666,
              "#ed7953"
             ],
             [
              0.7777777777777778,
              "#fb9f3a"
             ],
             [
              0.8888888888888888,
              "#fdca26"
             ],
             [
              1,
              "#f0f921"
             ]
            ],
            "type": "heatmapgl"
           }
          ],
          "histogram": [
           {
            "marker": {
             "colorbar": {
              "outlinewidth": 0,
              "ticks": ""
             }
            },
            "type": "histogram"
           }
          ],
          "histogram2d": [
           {
            "colorbar": {
             "outlinewidth": 0,
             "ticks": ""
            },
            "colorscale": [
             [
              0,
              "#0d0887"
             ],
             [
              0.1111111111111111,
              "#46039f"
             ],
             [
              0.2222222222222222,
              "#7201a8"
             ],
             [
              0.3333333333333333,
              "#9c179e"
             ],
             [
              0.4444444444444444,
              "#bd3786"
             ],
             [
              0.5555555555555556,
              "#d8576b"
             ],
             [
              0.6666666666666666,
              "#ed7953"
             ],
             [
              0.7777777777777778,
              "#fb9f3a"
             ],
             [
              0.8888888888888888,
              "#fdca26"
             ],
             [
              1,
              "#f0f921"
             ]
            ],
            "type": "histogram2d"
           }
          ],
          "histogram2dcontour": [
           {
            "colorbar": {
             "outlinewidth": 0,
             "ticks": ""
            },
            "colorscale": [
             [
              0,
              "#0d0887"
             ],
             [
              0.1111111111111111,
              "#46039f"
             ],
             [
              0.2222222222222222,
              "#7201a8"
             ],
             [
              0.3333333333333333,
              "#9c179e"
             ],
             [
              0.4444444444444444,
              "#bd3786"
             ],
             [
              0.5555555555555556,
              "#d8576b"
             ],
             [
              0.6666666666666666,
              "#ed7953"
             ],
             [
              0.7777777777777778,
              "#fb9f3a"
             ],
             [
              0.8888888888888888,
              "#fdca26"
             ],
             [
              1,
              "#f0f921"
             ]
            ],
            "type": "histogram2dcontour"
           }
          ],
          "mesh3d": [
           {
            "colorbar": {
             "outlinewidth": 0,
             "ticks": ""
            },
            "type": "mesh3d"
           }
          ],
          "parcoords": [
           {
            "line": {
             "colorbar": {
              "outlinewidth": 0,
              "ticks": ""
             }
            },
            "type": "parcoords"
           }
          ],
          "pie": [
           {
            "automargin": true,
            "type": "pie"
           }
          ],
          "scatter": [
           {
            "marker": {
             "colorbar": {
              "outlinewidth": 0,
              "ticks": ""
             }
            },
            "type": "scatter"
           }
          ],
          "scatter3d": [
           {
            "line": {
             "colorbar": {
              "outlinewidth": 0,
              "ticks": ""
             }
            },
            "marker": {
             "colorbar": {
              "outlinewidth": 0,
              "ticks": ""
             }
            },
            "type": "scatter3d"
           }
          ],
          "scattercarpet": [
           {
            "marker": {
             "colorbar": {
              "outlinewidth": 0,
              "ticks": ""
             }
            },
            "type": "scattercarpet"
           }
          ],
          "scattergeo": [
           {
            "marker": {
             "colorbar": {
              "outlinewidth": 0,
              "ticks": ""
             }
            },
            "type": "scattergeo"
           }
          ],
          "scattergl": [
           {
            "marker": {
             "colorbar": {
              "outlinewidth": 0,
              "ticks": ""
             }
            },
            "type": "scattergl"
           }
          ],
          "scattermapbox": [
           {
            "marker": {
             "colorbar": {
              "outlinewidth": 0,
              "ticks": ""
             }
            },
            "type": "scattermapbox"
           }
          ],
          "scatterpolar": [
           {
            "marker": {
             "colorbar": {
              "outlinewidth": 0,
              "ticks": ""
             }
            },
            "type": "scatterpolar"
           }
          ],
          "scatterpolargl": [
           {
            "marker": {
             "colorbar": {
              "outlinewidth": 0,
              "ticks": ""
             }
            },
            "type": "scatterpolargl"
           }
          ],
          "scatterternary": [
           {
            "marker": {
             "colorbar": {
              "outlinewidth": 0,
              "ticks": ""
             }
            },
            "type": "scatterternary"
           }
          ],
          "surface": [
           {
            "colorbar": {
             "outlinewidth": 0,
             "ticks": ""
            },
            "colorscale": [
             [
              0,
              "#0d0887"
             ],
             [
              0.1111111111111111,
              "#46039f"
             ],
             [
              0.2222222222222222,
              "#7201a8"
             ],
             [
              0.3333333333333333,
              "#9c179e"
             ],
             [
              0.4444444444444444,
              "#bd3786"
             ],
             [
              0.5555555555555556,
              "#d8576b"
             ],
             [
              0.6666666666666666,
              "#ed7953"
             ],
             [
              0.7777777777777778,
              "#fb9f3a"
             ],
             [
              0.8888888888888888,
              "#fdca26"
             ],
             [
              1,
              "#f0f921"
             ]
            ],
            "type": "surface"
           }
          ],
          "table": [
           {
            "cells": {
             "fill": {
              "color": "#EBF0F8"
             },
             "line": {
              "color": "white"
             }
            },
            "header": {
             "fill": {
              "color": "#C8D4E3"
             },
             "line": {
              "color": "white"
             }
            },
            "type": "table"
           }
          ]
         },
         "layout": {
          "annotationdefaults": {
           "arrowcolor": "#2a3f5f",
           "arrowhead": 0,
           "arrowwidth": 1
          },
          "coloraxis": {
           "colorbar": {
            "outlinewidth": 0,
            "ticks": ""
           }
          },
          "colorscale": {
           "diverging": [
            [
             0,
             "#8e0152"
            ],
            [
             0.1,
             "#c51b7d"
            ],
            [
             0.2,
             "#de77ae"
            ],
            [
             0.3,
             "#f1b6da"
            ],
            [
             0.4,
             "#fde0ef"
            ],
            [
             0.5,
             "#f7f7f7"
            ],
            [
             0.6,
             "#e6f5d0"
            ],
            [
             0.7,
             "#b8e186"
            ],
            [
             0.8,
             "#7fbc41"
            ],
            [
             0.9,
             "#4d9221"
            ],
            [
             1,
             "#276419"
            ]
           ],
           "sequential": [
            [
             0,
             "#0d0887"
            ],
            [
             0.1111111111111111,
             "#46039f"
            ],
            [
             0.2222222222222222,
             "#7201a8"
            ],
            [
             0.3333333333333333,
             "#9c179e"
            ],
            [
             0.4444444444444444,
             "#bd3786"
            ],
            [
             0.5555555555555556,
             "#d8576b"
            ],
            [
             0.6666666666666666,
             "#ed7953"
            ],
            [
             0.7777777777777778,
             "#fb9f3a"
            ],
            [
             0.8888888888888888,
             "#fdca26"
            ],
            [
             1,
             "#f0f921"
            ]
           ],
           "sequentialminus": [
            [
             0,
             "#0d0887"
            ],
            [
             0.1111111111111111,
             "#46039f"
            ],
            [
             0.2222222222222222,
             "#7201a8"
            ],
            [
             0.3333333333333333,
             "#9c179e"
            ],
            [
             0.4444444444444444,
             "#bd3786"
            ],
            [
             0.5555555555555556,
             "#d8576b"
            ],
            [
             0.6666666666666666,
             "#ed7953"
            ],
            [
             0.7777777777777778,
             "#fb9f3a"
            ],
            [
             0.8888888888888888,
             "#fdca26"
            ],
            [
             1,
             "#f0f921"
            ]
           ]
          },
          "colorway": [
           "#636efa",
           "#EF553B",
           "#00cc96",
           "#ab63fa",
           "#FFA15A",
           "#19d3f3",
           "#FF6692",
           "#B6E880",
           "#FF97FF",
           "#FECB52"
          ],
          "font": {
           "color": "#2a3f5f"
          },
          "geo": {
           "bgcolor": "white",
           "lakecolor": "white",
           "landcolor": "#E5ECF6",
           "showlakes": true,
           "showland": true,
           "subunitcolor": "white"
          },
          "hoverlabel": {
           "align": "left"
          },
          "hovermode": "closest",
          "mapbox": {
           "style": "light"
          },
          "paper_bgcolor": "white",
          "plot_bgcolor": "#E5ECF6",
          "polar": {
           "angularaxis": {
            "gridcolor": "white",
            "linecolor": "white",
            "ticks": ""
           },
           "bgcolor": "#E5ECF6",
           "radialaxis": {
            "gridcolor": "white",
            "linecolor": "white",
            "ticks": ""
           }
          },
          "scene": {
           "xaxis": {
            "backgroundcolor": "#E5ECF6",
            "gridcolor": "white",
            "gridwidth": 2,
            "linecolor": "white",
            "showbackground": true,
            "ticks": "",
            "zerolinecolor": "white"
           },
           "yaxis": {
            "backgroundcolor": "#E5ECF6",
            "gridcolor": "white",
            "gridwidth": 2,
            "linecolor": "white",
            "showbackground": true,
            "ticks": "",
            "zerolinecolor": "white"
           },
           "zaxis": {
            "backgroundcolor": "#E5ECF6",
            "gridcolor": "white",
            "gridwidth": 2,
            "linecolor": "white",
            "showbackground": true,
            "ticks": "",
            "zerolinecolor": "white"
           }
          },
          "shapedefaults": {
           "line": {
            "color": "#2a3f5f"
           }
          },
          "ternary": {
           "aaxis": {
            "gridcolor": "white",
            "linecolor": "white",
            "ticks": ""
           },
           "baxis": {
            "gridcolor": "white",
            "linecolor": "white",
            "ticks": ""
           },
           "bgcolor": "#E5ECF6",
           "caxis": {
            "gridcolor": "white",
            "linecolor": "white",
            "ticks": ""
           }
          },
          "title": {
           "x": 0.05
          },
          "xaxis": {
           "automargin": true,
           "gridcolor": "white",
           "linecolor": "white",
           "ticks": "",
           "title": {
            "standoff": 15
           },
           "zerolinecolor": "white",
           "zerolinewidth": 2
          },
          "yaxis": {
           "automargin": true,
           "gridcolor": "white",
           "linecolor": "white",
           "ticks": "",
           "title": {
            "standoff": 15
           },
           "zerolinecolor": "white",
           "zerolinewidth": 2
          }
         }
        }
       }
      }
     },
     "metadata": {}
    }
   ],
   "source": [
    "pinta_mapa(df)"
   ]
  },
  {
   "cell_type": "code",
   "execution_count": null,
   "metadata": {},
   "outputs": [],
   "source": []
  }
 ],
 "metadata": {
  "kernelspec": {
   "display_name": "Python 3",
   "language": "python",
   "name": "python3"
  },
  "language_info": {
   "codemirror_mode": {
    "name": "ipython",
    "version": 3
   },
   "file_extension": ".py",
   "mimetype": "text/x-python",
   "name": "python",
   "nbconvert_exporter": "python",
   "pygments_lexer": "ipython3",
   "version": "3.7.4-final"
  }
 },
 "nbformat": 4,
 "nbformat_minor": 4
}