{
 "cells": [
  {
   "cell_type": "markdown",
   "metadata": {},
   "source": [
    "Prueba para generar una base de Datos ficticia, trabajo Desafío Tripulaciones.\n",
    "\n",
    "Empezar con el tutorial de: https://towardsdatascience.com/generating-random-data-into-a-database-using-python-fd2f7d54024e\n"
   ]
  },
  {
   "cell_type": "code",
   "execution_count": null,
   "metadata": {
    "tags": [
     "outputPrepend"
    ]
   },
   "outputs": [],
   "source": [
    "#Install required packages\n",
    "!conda list"
   ]
  },
  {
   "cell_type": "code",
   "execution_count": 4,
   "metadata": {},
   "outputs": [
    {
     "name": "stdout",
     "output_type": "stream",
     "text": [
      "Collecting Faker\n",
      "  Downloading https://files.pythonhosted.org/packages/fa/d4/cb82441718bccaed9e3322c64d39438d40568b7a8ae33458f28a1a8b2155/Faker-6.5.0-py3-none-any.whl (1.1MB)\n",
      "Collecting text-unidecode==1.3 (from Faker)\n",
      "  Downloading https://files.pythonhosted.org/packages/a6/a5/c0b6468d3824fe3fde30dbb5e1f687b291608f9473681bbf7dabbf5a87d7/text_unidecode-1.3-py2.py3-none-any.whl (78kB)\n",
      "Requirement already satisfied: python-dateutil>=2.4 in c:\\users\\pilar\\anaconda3\\lib\\site-packages (from Faker) (2.8.0)\n",
      "Requirement already satisfied: six>=1.5 in c:\\users\\pilar\\anaconda3\\lib\\site-packages (from python-dateutil>=2.4->Faker) (1.15.0)\n",
      "Installing collected packages: text-unidecode, Faker\n",
      "Successfully installed Faker-6.5.0 text-unidecode-1.3\n"
     ]
    }
   ],
   "source": [
    "#packages required; pandas, sqlalchemy and fake. \n",
    "#!pip install Faker"
   ]
  },
  {
   "cell_type": "code",
   "execution_count": 18,
   "metadata": {},
   "outputs": [],
   "source": [
    "#import packages\n",
    "import pandas as pd \n",
    "import numpy as np \n",
    "import random as rd \n",
    "from faker import Faker\n",
    "from collections import defaultdict\n",
    "from sqlalchemy import create_engine\n",
    "\n",
    "import os"
   ]
  },
  {
   "cell_type": "code",
   "execution_count": 12,
   "metadata": {},
   "outputs": [],
   "source": [
    "#Generating dummy data\n",
    "fake = Faker()"
   ]
  },
  {
   "cell_type": "code",
   "execution_count": 13,
   "metadata": {},
   "outputs": [],
   "source": [
    "fake_data = defaultdict(lambda: [])"
   ]
  },
  {
   "cell_type": "code",
   "execution_count": 14,
   "metadata": {},
   "outputs": [
    {
     "data": {
      "text/plain": [
       "defaultdict(<function __main__.<lambda>()>, {})"
      ]
     },
     "execution_count": 14,
     "metadata": {},
     "output_type": "execute_result"
    }
   ],
   "source": [
    "fake_data"
   ]
  },
  {
   "cell_type": "code",
   "execution_count": 15,
   "metadata": {},
   "outputs": [],
   "source": [
    "for i in range(5):\n",
    "    fake_data['first_name'].append(fake.first_name())\n",
    "    fake_data['last_name'].append(fake.last_name())\n",
    "    fake_data['identity_doc'].append(fake.ssn())\n",
    "    fake_data['date_birth'].append(fake.date_of_birth())\n",
    "    fake_data['phone_number'].append(fake.phone_number())\n",
    "    fake_data['email'].append(fake.email())\n",
    "    fake_data['user_password'].append(fake.password())\n",
    "    n_rand = rd.choice([0,1,2,3])\n",
    "    if (n_rand < 1 ):\n",
    "        fake_data['account_number'].append([fake.iban(), fake.iban()])\n",
    "    else:\n",
    "        fake_data['account_number'].append([fake.iban()])\n",
    "\n",
    "    fake_data['credit_car'].append(fake.credit_card_number())\n",
    "    fake_data['code_security'].append([fake.credit_card_security_code()])"
   ]
  },
  {
   "cell_type": "code",
   "execution_count": 16,
   "metadata": {},
   "outputs": [],
   "source": [
    "df_fake_data = pd.DataFrame(fake_data)"
   ]
  },
  {
   "cell_type": "code",
   "execution_count": 17,
   "metadata": {},
   "outputs": [
    {
     "data": {
      "text/html": [
       "<div>\n",
       "<style scoped>\n",
       "    .dataframe tbody tr th:only-of-type {\n",
       "        vertical-align: middle;\n",
       "    }\n",
       "\n",
       "    .dataframe tbody tr th {\n",
       "        vertical-align: top;\n",
       "    }\n",
       "\n",
       "    .dataframe thead th {\n",
       "        text-align: right;\n",
       "    }\n",
       "</style>\n",
       "<table border=\"1\" class=\"dataframe\">\n",
       "  <thead>\n",
       "    <tr style=\"text-align: right;\">\n",
       "      <th></th>\n",
       "      <th>first_name</th>\n",
       "      <th>last_name</th>\n",
       "      <th>identity_doc</th>\n",
       "      <th>date_birth</th>\n",
       "      <th>phone_number</th>\n",
       "      <th>email</th>\n",
       "      <th>user_password</th>\n",
       "      <th>account_number</th>\n",
       "      <th>credit_car</th>\n",
       "      <th>code_security</th>\n",
       "    </tr>\n",
       "  </thead>\n",
       "  <tbody>\n",
       "    <tr>\n",
       "      <th>0</th>\n",
       "      <td>Kerri</td>\n",
       "      <td>Wilson</td>\n",
       "      <td>081-08-3516</td>\n",
       "      <td>1973-11-23</td>\n",
       "      <td>001-958-331-3380x38493</td>\n",
       "      <td>denise51@gmail.com</td>\n",
       "      <td>8_XkP3Ndxv</td>\n",
       "      <td>[GB38WOTN26537747929796]</td>\n",
       "      <td>213105949836589</td>\n",
       "      <td>[059]</td>\n",
       "    </tr>\n",
       "    <tr>\n",
       "      <th>1</th>\n",
       "      <td>Justin</td>\n",
       "      <td>Smith</td>\n",
       "      <td>351-98-8344</td>\n",
       "      <td>2005-01-03</td>\n",
       "      <td>(619)011-3813x64627</td>\n",
       "      <td>edward55@yahoo.com</td>\n",
       "      <td>hNwUv2Hc_w</td>\n",
       "      <td>[GB81TZKA69852218464944]</td>\n",
       "      <td>4356412680741039</td>\n",
       "      <td>[568]</td>\n",
       "    </tr>\n",
       "    <tr>\n",
       "      <th>2</th>\n",
       "      <td>Kristin</td>\n",
       "      <td>Santiago</td>\n",
       "      <td>295-66-3075</td>\n",
       "      <td>1950-01-21</td>\n",
       "      <td>(911)011-7898</td>\n",
       "      <td>ywelch@mendoza-davidson.biz</td>\n",
       "      <td>_Q8PfHGlK)</td>\n",
       "      <td>[GB80JORR60180509955495]</td>\n",
       "      <td>630476917673</td>\n",
       "      <td>[000]</td>\n",
       "    </tr>\n",
       "    <tr>\n",
       "      <th>3</th>\n",
       "      <td>Scott</td>\n",
       "      <td>Baker</td>\n",
       "      <td>519-61-0010</td>\n",
       "      <td>2006-10-05</td>\n",
       "      <td>146.170.1398x612</td>\n",
       "      <td>rfreeman@williams.com</td>\n",
       "      <td>_hRbkAIL*7</td>\n",
       "      <td>[GB26NLRC68626948350633]</td>\n",
       "      <td>6011456170488041</td>\n",
       "      <td>[652]</td>\n",
       "    </tr>\n",
       "    <tr>\n",
       "      <th>4</th>\n",
       "      <td>Christine</td>\n",
       "      <td>Moses</td>\n",
       "      <td>314-12-1727</td>\n",
       "      <td>1921-02-21</td>\n",
       "      <td>758-023-2625</td>\n",
       "      <td>ffrench@hotmail.com</td>\n",
       "      <td>9NReE2e&amp;#I</td>\n",
       "      <td>[GB44ISSY42816421619889]</td>\n",
       "      <td>3574697033606420</td>\n",
       "      <td>[026]</td>\n",
       "    </tr>\n",
       "  </tbody>\n",
       "</table>\n",
       "</div>"
      ],
      "text/plain": [
       "  first_name last_name identity_doc  date_birth            phone_number  \\\n",
       "0      Kerri    Wilson  081-08-3516  1973-11-23  001-958-331-3380x38493   \n",
       "1     Justin     Smith  351-98-8344  2005-01-03     (619)011-3813x64627   \n",
       "2    Kristin  Santiago  295-66-3075  1950-01-21           (911)011-7898   \n",
       "3      Scott     Baker  519-61-0010  2006-10-05        146.170.1398x612   \n",
       "4  Christine     Moses  314-12-1727  1921-02-21            758-023-2625   \n",
       "\n",
       "                         email user_password            account_number  \\\n",
       "0           denise51@gmail.com    8_XkP3Ndxv  [GB38WOTN26537747929796]   \n",
       "1           edward55@yahoo.com    hNwUv2Hc_w  [GB81TZKA69852218464944]   \n",
       "2  ywelch@mendoza-davidson.biz    _Q8PfHGlK)  [GB80JORR60180509955495]   \n",
       "3        rfreeman@williams.com    _hRbkAIL*7  [GB26NLRC68626948350633]   \n",
       "4          ffrench@hotmail.com    9NReE2e&#I  [GB44ISSY42816421619889]   \n",
       "\n",
       "         credit_car code_security  \n",
       "0   213105949836589         [059]  \n",
       "1  4356412680741039         [568]  \n",
       "2      630476917673         [000]  \n",
       "3  6011456170488041         [652]  \n",
       "4  3574697033606420         [026]  "
      ]
     },
     "execution_count": 17,
     "metadata": {},
     "output_type": "execute_result"
    }
   ],
   "source": [
    "df_fake_data"
   ]
  },
  {
   "cell_type": "markdown",
   "metadata": {},
   "source": [
    "Buscar generador datos español de la librería Faker"
   ]
  },
  {
   "cell_type": "code",
   "execution_count": 22,
   "metadata": {},
   "outputs": [
    {
     "data": {
      "text/plain": [
       "['24992.csv',\n",
       " '24992bsc.csv',\n",
       " 'archive (1).zip',\n",
       " 'data-USstates-master',\n",
       " 'datasets_beers.csv',\n",
       " 'datasets_breweries.csv',\n",
       " 'dogs_cats',\n",
       " 'ine_ingresos_hogar_2019.csv',\n",
       " 'landscapes',\n",
       " 'sarcasm',\n",
       " 'test-balanced.csv']"
      ]
     },
     "execution_count": 22,
     "metadata": {},
     "output_type": "execute_result"
    }
   ],
   "source": [
    "\n",
    "url = \"C:\\\\Users\\\\pilar\\\\Edition_Jun2020\\\\Repositorios_GitHub\\\\DataSets\\\\24992bsc.csv\"\n",
    "os.listdir(url)"
   ]
  },
  {
   "cell_type": "code",
   "execution_count": 9,
   "metadata": {},
   "outputs": [
    {
     "data": {
      "text/html": [
       "<div>\n",
       "<style scoped>\n",
       "    .dataframe tbody tr th:only-of-type {\n",
       "        vertical-align: middle;\n",
       "    }\n",
       "\n",
       "    .dataframe tbody tr th {\n",
       "        vertical-align: top;\n",
       "    }\n",
       "\n",
       "    .dataframe thead th {\n",
       "        text-align: right;\n",
       "    }\n",
       "</style>\n",
       "<table border=\"1\" class=\"dataframe\">\n",
       "  <thead>\n",
       "    <tr style=\"text-align: right;\">\n",
       "      <th></th>\n",
       "      <th>Nivel de ingresos mensuales netos regulares del hogar;Distribución porcentual de hogares y personas;Periodo;Total</th>\n",
       "    </tr>\n",
       "  </thead>\n",
       "  <tbody>\n",
       "    <tr>\n",
       "      <th>Total;Hogares;2019;100</th>\n",
       "      <td>0</td>\n",
       "    </tr>\n",
       "    <tr>\n",
       "      <th>Total;Hogares;2018;100</th>\n",
       "      <td>0</td>\n",
       "    </tr>\n",
       "    <tr>\n",
       "      <th>Total;Hogares;2017;100</th>\n",
       "      <td>0</td>\n",
       "    </tr>\n",
       "    <tr>\n",
       "      <th>Total;Hogares;2016;100</th>\n",
       "      <td>0</td>\n",
       "    </tr>\n",
       "    <tr>\n",
       "      <th>Total;Hogares;2015;100</th>\n",
       "      <td>0</td>\n",
       "    </tr>\n",
       "  </tbody>\n",
       "</table>\n",
       "</div>"
      ],
      "text/plain": [
       "                        Nivel de ingresos mensuales netos regulares del hogar;Distribución porcentual de hogares y personas;Periodo;Total\n",
       "Total;Hogares;2019;100                                                  0                                                                \n",
       "Total;Hogares;2018;100                                                  0                                                                \n",
       "Total;Hogares;2017;100                                                  0                                                                \n",
       "Total;Hogares;2016;100                                                  0                                                                \n",
       "Total;Hogares;2015;100                                                  0                                                                "
      ]
     },
     "execution_count": 9,
     "metadata": {},
     "output_type": "execute_result"
    }
   ],
   "source": [
    "df.head()"
   ]
  },
  {
   "cell_type": "code",
   "execution_count": null,
   "metadata": {},
   "outputs": [],
   "source": []
  }
 ],
 "metadata": {
  "kernelspec": {
   "display_name": "Python 3",
   "language": "python",
   "name": "python3"
  },
  "language_info": {
   "codemirror_mode": {
    "name": "ipython",
    "version": 3
   },
   "file_extension": ".py",
   "mimetype": "text/x-python",
   "name": "python",
   "nbconvert_exporter": "python",
   "pygments_lexer": "ipython3",
   "version": "3.7.4"
  }
 },
 "nbformat": 4,
 "nbformat_minor": 4
}
