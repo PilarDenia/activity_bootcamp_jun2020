{
 "metadata": {
  "language_info": {
   "codemirror_mode": {
    "name": "ipython",
    "version": 3
   },
   "file_extension": ".py",
   "mimetype": "text/x-python",
   "name": "python",
   "nbconvert_exporter": "python",
   "pygments_lexer": "ipython3",
   "version": "3.7.4-final"
  },
  "orig_nbformat": 2,
  "kernelspec": {
   "name": "python3",
   "display_name": "Python 3.7.4 64-bit (conda)",
   "metadata": {
    "interpreter": {
     "hash": "3b7ad80724233561a6164c9de25185dd16a182b727dd421b2c1c74f17069d1e3"
    }
   }
  }
 },
 "nbformat": 4,
 "nbformat_minor": 2,
 "cells": [
  {
   "source": [
    "Prueba para generar una base de Datos ficticia, trabajo Desafío Tripulaciones.\n",
    "\n",
    "Empezar con el tutorial de: https://towardsdatascience.com/generating-random-data-into-a-database-using-python-fd2f7d54024e\n"
   ],
   "cell_type": "markdown",
   "metadata": {}
  },
  {
   "cell_type": "code",
   "execution_count": 3,
   "metadata": {
    "tags": [
     "outputPrepend"
    ]
   },
   "outputs": [
    {
     "output_type": "stream",
     "name": "stdout",
     "text": [
      "         1.0.post1                  py_1  \nbeautifulsoup4            4.8.0                    py37_0  \nbitarray                  1.0.1            py37he774522_0  \nbkcharts                  0.2                      py37_0  \nblas                      1.0                         mkl  \nbleach                    3.1.0                    py37_0  \nblis                      0.4.1                    pypi_0    pypi\nblosc                     1.16.3               h7bd577a_0  \nbokeh                     1.3.4                    py37_0  \nboto                      2.49.0                   py37_0  \nbottleneck                1.2.1            py37h452e1ab_1  \nbzip2                     1.0.8                he774522_0  \nca-certificates           2019.8.28                     0  \ncachetools                4.2.1                    pypi_0    pypi\ncairocffi                 1.1.0                    pypi_0    pypi\ncairosvg                  2.4.2                    pypi_0    pypi\ncatalogue                 1.0.0                    pypi_0    pypi\ncertifi                   2020.6.20                pypi_0    pypi\ncffi                      1.12.3           py37h7a1dbc1_0  \nchardet                   3.0.4                 py37_1003  \nchart-studio              1.1.0                    pypi_0    pypi\nclick                     7.0                      py37_0  \ncloudpickle               1.2.2                      py_0  \nclyent                    1.2.2                    py37_1  \ncolorama                  0.4.1                    py37_0  \ncolorlover                0.3.0                    pypi_0    pypi\ncomtypes                  1.1.7                    py37_0  \nconda                     4.8.3                    py37_0  \nconda-build               3.18.9                   py37_3  \nconda-env                 2.6.0                         1  \nconda-package-handling    1.6.1            py37h62dcd97_0  \nconda-verify              3.4.2                      py_1  \nconfuse                   1.3.0                    pypi_0    pypi\nconsole_shortcut          0.1.1                         3  \ncontextlib2               0.6.0                      py_0  \ncryptography              2.7              py37h7a1dbc1_0  \ncssselect2                0.3.0                    pypi_0    pypi\ncufflinks                 0.17.3                   pypi_0    pypi\ncurl                      7.65.3               h2a8f88b_0  \ncycler                    0.10.0                   py37_0  \ncymem                     2.0.3                    pypi_0    pypi\ncython                    0.29.14                  pypi_0    pypi\ncytoolz                   0.10.0           py37he774522_0  \ndask                      2.5.2                      py_0  \ndask-core                 2.5.2                      py_0  \ndecorator                 4.4.0                    py37_1  \ndefusedxml                0.6.0                      py_0  \ndistributed               2.5.2                      py_0  \ndocutils                  0.15.2                   py37_0  \nen-core-web-sm            2.2.0                    pypi_0    pypi\nentrypoints               0.3                      py37_0  \net_xmlfile                1.0.1                    py37_0  \nfastcache                 1.1.0            py37he774522_0  \nfilelock                  3.0.12                     py_0  \nflask                     1.1.1                      py_0  \nflatbuffers               1.12                     pypi_0    pypi\nfreetype                  2.9.1                ha9979f8_1  \nfsspec                    0.5.2                      py_0  \nfuture                    0.18.2                   py37_1  \ngast                      0.3.3                    pypi_0    pypi\ngensim                    3.8.3                    pypi_0    pypi\nget_terminal_size         1.0.0                h38e98db_0  \ngevent                    1.4.0            py37he774522_0  \nglob2                     0.7                        py_0  \ngoogle-auth               1.25.0                   pypi_0    pypi\ngoogle-auth-oauthlib      0.4.2                    pypi_0    pypi\ngoogle-pasta              0.2.0                    pypi_0    pypi\ngreenlet                  0.4.15           py37hfa6e2cd_0  \ngrpcio                    1.32.0                   pypi_0    pypi\nh5py                      2.10.0                   pypi_0    pypi\nhdf5                      1.10.4               h7ebc959_0  \nheapdict                  1.0.1                      py_0  \nhtml5lib                  1.0.1                    py37_0  \nhtmlmin                   0.1.12                   pypi_0    pypi\nicc_rt                    2019.0.0             h0cc432a_1  \nicu                       58.2                 ha66f8fd_1  \nidna                      2.8                      py37_0  \nimagehash                 4.1.0                    pypi_0    pypi\nimageio                   2.6.0                    py37_0  \nimagesize                 1.1.0                    py37_0  \nimportlib_metadata        0.23                     py37_0  \nintel-openmp              2019.0                   pypi_0    pypi\nipykernel                 5.1.2            py37h39e3cac_0  \nipython                   7.8.0            py37h39e3cac_0  \nipython_genutils          0.2.0                    py37_0  \nipywidgets                7.5.1                      py_0  \nisort                     4.3.21                   py37_0  \nitsdangerous              1.1.0                    py37_0  \njdcal                     1.4.1                      py_0  \njedi                      0.15.1                   py37_0  \njinja2                    2.11.2                   pypi_0    pypi\njoblib                    1.0.0                    pypi_0    pypi\njpeg                      9b                   hb83a4c4_2  \njson5                     0.8.5                      py_0  \njsonschema                3.0.2                    py37_0  \njupyter                   1.0.0                    py37_7  \njupyter_client            5.3.3                    py37_1  \njupyter_console           6.0.0                    py37_0  \njupyter_core              4.5.0                      py_0  \njupyterlab                1.1.4              pyhf63ae98_0  \njupyterlab_server         1.0.6                      py_0  \nkeras                     2.4.3                    pypi_0    pypi\nkeras-preprocessing       1.1.2                    pypi_0    pypi\nkeyring                   18.0.0                   py37_0  \nkiwisolver                1.1.0            py37ha925a31_0  \nkrb5                      1.16.1               hc04afaa_7  \nlazy-object-proxy         1.4.2            py37he774522_0  \nlibarchive                3.3.3                h0643e63_5  \nlibcurl                   7.65.3               h2a8f88b_0  \nlibiconv                  1.15                 h1df5818_7  \nliblief                   0.9.0                ha925a31_2  \nlibpng                    1.6.37               h2a8f88b_0  \nlibsodium                 1.0.16               h9d3ae62_0  \nlibssh2                   1.8.2                h7a1dbc1_0  \nlibtiff                   4.0.10               hb898794_2  \nlibxml2                   2.9.9                h464c3ec_0  \nlibxslt                   1.1.33               h579f668_0  \nllvmlite                  0.29.0           py37ha925a31_0  \nlocket                    0.2.0                    py37_1  \nlxml                      4.4.1            py37h1350720_0  \nlz4-c                     1.8.1.2              h2fa13f4_0  \nlzo                       2.10                 h6df0209_2  \nm2w64-gcc-libgfortran     5.3.0                         6  \nm2w64-gcc-libs            5.3.0                         7  \nm2w64-gcc-libs-core       5.3.0                         7  \nm2w64-gmp                 6.1.0                         2  \nm2w64-libwinpthread-git   5.0.0.4634.697f757               2  \nmarkdown                  3.3.3                    pypi_0    pypi\nmarkupsafe                1.1.1            py37he774522_0  \nmatplotlib                3.3.2                    pypi_0    pypi\nmccabe                    0.6.1                    py37_1  \nmenuinst                  1.4.16           py37he774522_0  \nmissingno                 0.4.2                    pypi_0    pypi\nmistune                   0.8.4            py37he774522_0  \nmkl                       2019.4                      245  \nmkl-service               2.3.0            py37hb782905_0  \nmkl_fft                   1.0.14           py37h14836fe_0  \nmkl_random                1.1.0            py37h675688f_0  \nmock                      3.0.5                    py37_0  \nmore-itertools            7.2.0                    py37_0  \nmpmath                    1.1.0                    py37_0  \nmsgpack-python            0.6.1            py37h74a9793_1  \nmsys2-conda-epoch         20160418                      1  \nmultipledispatch          0.6.0                    py37_0  \nmurmurhash                1.0.2                    pypi_0    pypi\nnavigator-updater         0.2.1                    py37_0  \nnbconvert                 5.6.0                    py37_1  \nnbformat                  4.4.0                    py37_0  \nnetworkx                  2.5                      pypi_0    pypi\nnltk                      3.4.5                    py37_0  \nnose                      1.3.7                    py37_2  \nnotebook                  6.0.1                    py37_0  \nnumba                     0.45.1           py37hf9181ef_0  \nnumexpr                   2.7.0            py37hdce8814_0  \nnumpy                     1.19.5                   pypi_0    pypi\nnumpydoc                  0.9.1                      py_0  \noauthlib                  3.1.0                    pypi_0    pypi\nolefile                   0.46                     py37_0  \nopencv-python             4.5.1.48                 pypi_0    pypi\nopenpyxl                  3.0.0                      py_0  \nopenssl                   1.1.1d               he774522_2  \nopt-einsum                3.3.0                    pypi_0    pypi\npackaging                 19.2                       py_0  \npandas                    1.1.3                    pypi_0    pypi\npandas-datareader         0.9.0                    pypi_0    pypi\npandas-profiling          2.9.0                    pypi_0    pypi\npandoc                    2.2.3.2                       0  \npandocfilters             1.4.2                    py37_1  \nparso                     0.5.1                      py_0  \npartd                     1.0.0                      py_0  \npath.py                   12.0.1                     py_0  \npathlib2                  2.3.5                    py37_0  \npatsy                     0.5.1                    py37_0  \npdfkit                    0.6.1                    pypi_0    pypi\npep8                      1.7.1                    py37_0  \nphik                      0.10.0                   pypi_0    pypi\npickleshare               0.7.5                    py37_0  \npillow                    6.2.0            py37hdc69c19_0  \npip                       19.2.3                   py37_0  \npkginfo                   1.5.0.1                  py37_0  \nplac                      1.1.3                    pypi_0    pypi\nplotly                    4.12.0                   pypi_0    pypi\npluggy                    0.13.0                   py37_0  \nply                       3.11                     py37_0  \npowershell_shortcut       0.0.1                         2  \npreshed                   3.0.2                    pypi_0    pypi\nprometheus_client         0.7.1                      py_0  \nprompt_toolkit            2.0.10                     py_0  \nprotobuf                  3.14.0                   pypi_0    pypi\npsutil                    5.6.3            py37he774522_0  \npulp                      2.0                      pypi_0    pypi\npy                        1.8.0                    py37_0  \npy-lief                   0.9.0            py37ha925a31_2  \npyasn1                    0.4.8                    pypi_0    pypi\npyasn1-modules            0.2.8                    pypi_0    pypi\npycodestyle               2.5.0                    py37_0  \npycosat                   0.6.3            py37hfa6e2cd_0  \npycparser                 2.19                     py37_0  \npycrypto                  2.6.1            py37hfa6e2cd_9  \npycurl                    7.43.0.3         py37h7a1dbc1_0  \npyflakes                  2.1.1                    py37_0  \npygments                  2.4.2                      py_0  \npylint                    2.4.2                    py37_0  \npyodbc                    4.0.27           py37ha925a31_0  \npyopenssl                 19.0.0                   py37_0  \npyparsing                 2.4.2                      py_0  \npyphen                    0.9.5                    pypi_0    pypi\npyqt                      5.9.2            py37h6538335_2  \npyreadline                2.1                      py37_1  \npyrsistent                0.15.4           py37he774522_0  \npysocks                   1.7.1                    py37_0  \npytables                  3.5.2            py37h1da0976_1  \npytest                    5.2.1                    py37_0  \npytest-arraydiff          0.3              py37h39e3cac_0  \npytest-astropy            0.5.0                    py37_0  \npytest-doctestplus        0.4.0                      py_0  \npytest-openfiles          0.4.0                      py_0  \npytest-remotedata         0.3.2                    py37_0  \npython                    3.7.4                h5263a28_0  \npython-aemet              0.3.2                    pypi_0    pypi\npython-dateutil           2.8.0                    py37_0  \npython-igraph             0.8.3                    pypi_0    pypi\npython-libarchive-c       2.8                     py37_13  \npytz                      2019.3                     py_0  \npywavelets                1.0.3            py37h8c2d366_1  \npywin32                   223              py37hfa6e2cd_1  \npywinpty                  0.5.5                 py37_1000  \npyyaml                    5.1.2            py37he774522_0  \npyzmq                     18.1.0           py37ha925a31_0  \nqt                        5.9.7            vc14h73c81de_0  \nqtawesome                 0.6.0                      py_0  \nqtconsole                 4.5.5                      py_0  \nqtpy                      1.9.0                      py_0  \nrequests                  2.24.0                   pypi_0    pypi\nrequests-oauthlib         1.3.0                    pypi_0    pypi\nretrying                  1.3.3                    pypi_0    pypi\nrope                      0.14.0                     py_0  \nrsa                       4.7                      pypi_0    pypi\nruamel_yaml               0.15.46          py37hfa6e2cd_0  \nscikit-image              0.15.0           py37ha925a31_0  \nscikit-learn              0.21.3           py37h6288b17_0  \nscipy                     1.5.3                    pypi_0    pypi\nseaborn                   0.11.0                   pypi_0    pypi\nsend2trash                1.5.0                    py37_0  \nsetuptools                41.4.0                   py37_0  \nsimplegeneric             0.8.1                    py37_2  \nsingledispatch            3.4.0.3                  py37_0  \nsip                       4.19.8           py37h6538335_0  \nsix                       1.15.0                   pypi_0    pypi\nsmart-open                3.0.0                    pypi_0    pypi\nsnappy                    1.1.7                h777316e_3  \nsnowballstemmer           2.0.0                      py_0  \nsortedcollections         1.1.2                    py37_0  \nsortedcontainers          2.1.0                    py37_0  \nsoupsieve                 1.9.3                    py37_0  \nspacy                     2.3.2                    pypi_0    pypi\nsphinx                    2.2.0                      py_0  \nsphinxcontrib             1.0                      py37_1  \nsphinxcontrib-applehelp   1.0.1                      py_0  \nsphinxcontrib-devhelp     1.0.1                      py_0  \nsphinxcontrib-htmlhelp    1.0.2                      py_0  \nsphinxcontrib-jsmath      1.0.1                      py_0  \nsphinxcontrib-qthelp      1.0.2                      py_0  \nsphinxcontrib-serializinghtml 1.1.3                      py_0  \nsphinxcontrib-websupport  1.1.2                      py_0  \nspyder                    3.3.6                    py37_0  \nspyder-kernels            0.5.2                    py37_0  \nsqlalchemy                1.3.9            py37he774522_0  \nsqlite                    3.30.0               he774522_0  \nsrsly                     1.0.2                    pypi_0    pypi\nstatsmodels               0.10.1           py37h8c2d366_0  \nsympy                     1.4                      py37_0  \ntangled-up-in-unicode     0.0.6                    pypi_0    pypi\ntbb                       2019.4               h74a9793_0  \ntblib                     1.4.0                      py_0  \ntensorboard               2.4.1                    pypi_0    pypi\ntensorboard-plugin-wit    1.8.0                    pypi_0    pypi\ntensorflow                2.4.1                    pypi_0    pypi\ntensorflow-estimator      2.4.0                    pypi_0    pypi\ntermcolor                 1.1.0                    pypi_0    pypi\nterminado                 0.8.2                    py37_0  \ntestpath                  0.4.2                    py37_0  \ntextblob                  0.15.3                   pypi_0    pypi\ntexttable                 1.6.3                    pypi_0    pypi\nthinc                     7.4.1                    pypi_0    pypi\ntinycss2                  1.0.2                    pypi_0    pypi\ntk                        8.6.8                hfa6e2cd_0  \ntoolz                     0.10.0                     py_0  \ntornado                   6.0.3            py37he774522_0  \ntqdm                      4.50.2                   pypi_0    pypi\ntraitlets                 4.3.3                    py37_0  \ntweepy                    3.9.0                    pypi_0    pypi\ntyping-extensions         3.7.4.3                  pypi_0    pypi\nunicodecsv                0.14.1                   py37_0  \nurllib3                   1.24.2                   py37_0  \nutils                     1.0.1                    pypi_0    pypi\nvc                        14.1                 h0510ff6_4  \nvisions                   0.5.0                    pypi_0    pypi\nvs2015_runtime            14.16.27012          hf0eaf9b_0  \nwasabi                    0.8.0                    pypi_0    pypi\nwcwidth                   0.1.7                    py37_0  \nweasyprint                51                       pypi_0    pypi\nwebencodings              0.5.1                    py37_1  \nwerkzeug                  0.16.0                     py_0  \nwget                      3.2                      pypi_0    pypi\nwheel                     0.36.2                   pypi_0    pypi\nwidgetsnbextension        3.5.1                    py37_0  \nwin_inet_pton             1.1.0                    py37_0  \nwin_unicode_console       0.5                      py37_0  \nwincertstore              0.2                      py37_0  \nwinpty                    0.4.3                         4  \nwordcloud                 1.8.0                    pypi_0    pypi\nwrapt                     1.12.1                   pypi_0    pypi\nxgboost                   1.3.2                    pypi_0    pypi\nxlrd                      1.2.0                    py37_0  \nxlsxwriter                1.2.1                      py_0  \nxlwings                   0.15.10                  py37_0  \nxlwt                      1.3.0                    py37_0  \nxz                        5.2.4                h2fa13f4_4  \nyaml                      0.1.7                hc54c509_2  \nzeromq                    4.3.1                h33f27b4_3  \nzict                      1.0.0                      py_0  \nzipp                      0.6.0                      py_0  \nzlib                      1.2.11               h62dcd97_3  \nzstd                      1.3.7                h508b16e_0  \n"
     ]
    }
   ],
   "source": [
    "#Install required packages\n",
    "!conda list"
   ]
  },
  {
   "cell_type": "code",
   "execution_count": 4,
   "metadata": {},
   "outputs": [
    {
     "output_type": "stream",
     "name": "stdout",
     "text": [
      "Collecting Faker\n  Downloading https://files.pythonhosted.org/packages/fa/d4/cb82441718bccaed9e3322c64d39438d40568b7a8ae33458f28a1a8b2155/Faker-6.5.0-py3-none-any.whl (1.1MB)\nCollecting text-unidecode==1.3 (from Faker)\n  Downloading https://files.pythonhosted.org/packages/a6/a5/c0b6468d3824fe3fde30dbb5e1f687b291608f9473681bbf7dabbf5a87d7/text_unidecode-1.3-py2.py3-none-any.whl (78kB)\nRequirement already satisfied: python-dateutil>=2.4 in c:\\users\\pilar\\anaconda3\\lib\\site-packages (from Faker) (2.8.0)\nRequirement already satisfied: six>=1.5 in c:\\users\\pilar\\anaconda3\\lib\\site-packages (from python-dateutil>=2.4->Faker) (1.15.0)\nInstalling collected packages: text-unidecode, Faker\nSuccessfully installed Faker-6.5.0 text-unidecode-1.3\n"
     ]
    }
   ],
   "source": [
    "#packages required; pandas, sqlalchemy and fake. \n",
    "#!pip install Faker"
   ]
  },
  {
   "cell_type": "code",
   "execution_count": 1,
   "metadata": {},
   "outputs": [],
   "source": [
    "#import packages\n",
    "import pandas as pd \n",
    "import pandas as np \n",
    "import random as rd \n",
    "from faker import Faker\n",
    "from collections import defaultdict\n",
    "from sqlalchemy import create_engine"
   ]
  },
  {
   "cell_type": "code",
   "execution_count": 2,
   "metadata": {},
   "outputs": [],
   "source": [
    "#Generating dummy data\n",
    "fake = Faker()"
   ]
  },
  {
   "cell_type": "code",
   "execution_count": 3,
   "metadata": {},
   "outputs": [],
   "source": [
    "fake_data = defaultdict(lambda: [])"
   ]
  },
  {
   "cell_type": "code",
   "execution_count": 4,
   "metadata": {},
   "outputs": [
    {
     "output_type": "execute_result",
     "data": {
      "text/plain": [
       "defaultdict(<function __main__.<lambda>()>, {})"
      ]
     },
     "metadata": {},
     "execution_count": 4
    }
   ],
   "source": [
    "fake_data"
   ]
  },
  {
   "cell_type": "code",
   "execution_count": 5,
   "metadata": {},
   "outputs": [],
   "source": [
    "for i in range(5):\n",
    "    fake_data['first_name'].append(fake.first_name())\n",
    "    fake_data['last_name'].append(fake.last_name())\n",
    "    fake_data['identity_doc'].append(fake.ssn())\n",
    "    fake_data['date_birth'].append(fake.date_of_birth())\n",
    "    fake_data['address'].append(fake.address())\n",
    "    fake_data['phone_number'].append(fake.phone_number())\n",
    "    fake_data['email'].append(fake.email())\n",
    "    fake_data['user_password'].append(fake.password())\n",
    "    n_rand = rd.choice([0,1,2,3])\n",
    "    if (n_rand < 1 ):\n",
    "        fake_data['account_number'].append([fake.iban(), fake.iban()])\n",
    "    else:\n",
    "        fake_data['account_number'].append([fake.iban()])\n",
    "\n",
    "    fake_data['credit_car'].append(fake.credit_card_number())\n",
    "    fake_data['code_security'].append([fake.credit_card_security_code()])"
   ]
  },
  {
   "cell_type": "code",
   "execution_count": 6,
   "metadata": {},
   "outputs": [],
   "source": [
    "df_fake_data = pd.DataFrame(fake_data)"
   ]
  },
  {
   "cell_type": "code",
   "execution_count": 7,
   "metadata": {},
   "outputs": [
    {
     "output_type": "execute_result",
     "data": {
      "text/plain": [
       "    first_name  last_name identity_doc  date_birth  \\\n",
       "0     Kristina  Velasquez  407-45-6060  1953-05-28   \n",
       "1  Christopher      Flynn  050-27-2131  1931-10-25   \n",
       "2       Steven      Perez  637-70-8054  1917-10-07   \n",
       "3       Alisha     Martin  164-10-1494  1917-01-12   \n",
       "4     Kimberly     Miller  162-71-2290  1913-06-01   \n",
       "\n",
       "                                             address        phone_number  \\\n",
       "0    3784 Becky Summit Apt. 723\\nNew Diana, MA 80731    001-891-849-7514   \n",
       "1       49675 Barber Canyon\\nLesliechester, ID 31359  309-934-4018x20721   \n",
       "2         9045 Rivas Gardens\\nJeffreyshire, SD 90996   438.645.7315x0347   \n",
       "3  603 Alexandra Stream Apt. 702\\nNorth Michael, ...          9335142474   \n",
       "4                   Unit 0018 Box 8690\\nDPO AE 49254     +1-561-601-2615   \n",
       "\n",
       "                      email user_password            account_number  \\\n",
       "0          robert85@ray.biz    R3Z(RRax)N  [GB96SFSW98536375773142]   \n",
       "1       michael33@quinn.com    t@t6Cml_KQ  [GB48SMEV84054756493888]   \n",
       "2  charlesmason@hotmail.com    ^+D1Hzzu2D  [GB58QVZT18038513638450]   \n",
       "3  wheelerjames@hotmail.com    _YvgVjYd82  [GB72ZLUP86861722503958]   \n",
       "4    mariafoster@bailey.org    Bq4!PSl#x@  [GB05MUWF99873202298219]   \n",
       "\n",
       "            credit_car code_security  \n",
       "0     4067328068284881         [504]  \n",
       "1     4521412812875879         [648]  \n",
       "2  4036226124806051187         [535]  \n",
       "3  4624932703288178176         [936]  \n",
       "4     6541968674947214         [174]  "
      ],
      "text/html": "<div>\n<style scoped>\n    .dataframe tbody tr th:only-of-type {\n        vertical-align: middle;\n    }\n\n    .dataframe tbody tr th {\n        vertical-align: top;\n    }\n\n    .dataframe thead th {\n        text-align: right;\n    }\n</style>\n<table border=\"1\" class=\"dataframe\">\n  <thead>\n    <tr style=\"text-align: right;\">\n      <th></th>\n      <th>first_name</th>\n      <th>last_name</th>\n      <th>identity_doc</th>\n      <th>date_birth</th>\n      <th>address</th>\n      <th>phone_number</th>\n      <th>email</th>\n      <th>user_password</th>\n      <th>account_number</th>\n      <th>credit_car</th>\n      <th>code_security</th>\n    </tr>\n  </thead>\n  <tbody>\n    <tr>\n      <th>0</th>\n      <td>Kristina</td>\n      <td>Velasquez</td>\n      <td>407-45-6060</td>\n      <td>1953-05-28</td>\n      <td>3784 Becky Summit Apt. 723\\nNew Diana, MA 80731</td>\n      <td>001-891-849-7514</td>\n      <td>robert85@ray.biz</td>\n      <td>R3Z(RRax)N</td>\n      <td>[GB96SFSW98536375773142]</td>\n      <td>4067328068284881</td>\n      <td>[504]</td>\n    </tr>\n    <tr>\n      <th>1</th>\n      <td>Christopher</td>\n      <td>Flynn</td>\n      <td>050-27-2131</td>\n      <td>1931-10-25</td>\n      <td>49675 Barber Canyon\\nLesliechester, ID 31359</td>\n      <td>309-934-4018x20721</td>\n      <td>michael33@quinn.com</td>\n      <td>t@t6Cml_KQ</td>\n      <td>[GB48SMEV84054756493888]</td>\n      <td>4521412812875879</td>\n      <td>[648]</td>\n    </tr>\n    <tr>\n      <th>2</th>\n      <td>Steven</td>\n      <td>Perez</td>\n      <td>637-70-8054</td>\n      <td>1917-10-07</td>\n      <td>9045 Rivas Gardens\\nJeffreyshire, SD 90996</td>\n      <td>438.645.7315x0347</td>\n      <td>charlesmason@hotmail.com</td>\n      <td>^+D1Hzzu2D</td>\n      <td>[GB58QVZT18038513638450]</td>\n      <td>4036226124806051187</td>\n      <td>[535]</td>\n    </tr>\n    <tr>\n      <th>3</th>\n      <td>Alisha</td>\n      <td>Martin</td>\n      <td>164-10-1494</td>\n      <td>1917-01-12</td>\n      <td>603 Alexandra Stream Apt. 702\\nNorth Michael, ...</td>\n      <td>9335142474</td>\n      <td>wheelerjames@hotmail.com</td>\n      <td>_YvgVjYd82</td>\n      <td>[GB72ZLUP86861722503958]</td>\n      <td>4624932703288178176</td>\n      <td>[936]</td>\n    </tr>\n    <tr>\n      <th>4</th>\n      <td>Kimberly</td>\n      <td>Miller</td>\n      <td>162-71-2290</td>\n      <td>1913-06-01</td>\n      <td>Unit 0018 Box 8690\\nDPO AE 49254</td>\n      <td>+1-561-601-2615</td>\n      <td>mariafoster@bailey.org</td>\n      <td>Bq4!PSl#x@</td>\n      <td>[GB05MUWF99873202298219]</td>\n      <td>6541968674947214</td>\n      <td>[174]</td>\n    </tr>\n  </tbody>\n</table>\n</div>"
     },
     "metadata": {},
     "execution_count": 7
    }
   ],
   "source": [
    "df_fake_data"
   ]
  },
  {
   "source": [
    "Buscar generador datos español de la librería Faker"
   ],
   "cell_type": "markdown",
   "metadata": {}
  },
  {
   "cell_type": "code",
   "execution_count": null,
   "metadata": {},
   "outputs": [],
   "source": []
  }
 ]
}